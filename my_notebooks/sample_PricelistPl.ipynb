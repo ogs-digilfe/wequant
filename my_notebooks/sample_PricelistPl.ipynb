{
 "cells": [
  {
   "cell_type": "code",
   "execution_count": 1,
   "id": "aeebde36-7ca1-48a8-9f0a-78d99a07619c",
   "metadata": {},
   "outputs": [],
   "source": [
    "# パスのセット\n",
    "import os, sys\n",
    "from pathlib import Path\n",
    "\n",
    "CURRENT_DIR = Path(os.getcwd())\n",
    "PJROOT_DIR = CURRENT_DIR.parent\n",
    "LIB_DIR = PJROOT_DIR / \"lib\"\n",
    "DATA_DIR = PJROOT_DIR / \"data\"\n",
    "\n",
    "WORKSPACE_DIR = PJROOT_DIR.parent\n",
    "\n",
    "# pythonのモジュールサーチパスにライブラリモジュールを格納するディレクトリパスを追加する\n",
    "sys.path.append(str(LIB_DIR))"
   ]
  },
  {
   "cell_type": "code",
   "execution_count": 3,
   "id": "2a344808-af37-4dfd-903e-71d936ead588",
   "metadata": {},
   "outputs": [],
   "source": [
    "# ライブラリモジュールのインポート\n",
    "from lib_dataprocess import PricelistPl"
   ]
  },
  {
   "cell_type": "code",
   "execution_count": 4,
   "id": "d95f0365-c248-4fd8-b62d-949c7869164f",
   "metadata": {},
   "outputs": [],
   "source": [
    "# PricelistPl(fp: Union[str, Path])のインスタンスを生成\n",
    "# fpは、読み込むparquetファイルのパスをPath、またはstrで指定する。\n",
    "# file名のみ指定した場合は、DATA_DIRからparquetファイルを読み込んでインスタンスを生成するが、フルパスで読み込むファイル指定も可。\n",
    "# fpで指定したパスのparquetファイルを読み込み、インスタンス変数dfにpolars.DataFrameのインスタンスとしてデータをセットする。\n",
    "REV_PL = PricelistPl(\"reviced_pricelist.parquet\")"
   ]
  },
  {
   "cell_type": "code",
   "execution_count": 5,
   "id": "a05bcede-700c-455c-ba03-576004d8faa1",
   "metadata": {},
   "outputs": [
    {
     "data": {
      "text/html": [
       "<div><style>\n",
       ".dataframe > thead > tr,\n",
       ".dataframe > tbody > tr {\n",
       "  text-align: right;\n",
       "  white-space: pre-wrap;\n",
       "}\n",
       "</style>\n",
       "<small>shape: (13_426_332, 8)</small><table border=\"1\" class=\"dataframe\"><thead><tr><th>mcode</th><th>p_key</th><th>p_open</th><th>p_high</th><th>p_low</th><th>p_close</th><th>volume</th><th>accumulated_split_rate</th></tr><tr><td>i64</td><td>date</td><td>f64</td><td>f64</td><td>f64</td><td>f64</td><td>f64</td><td>f64</td></tr></thead><tbody><tr><td>1301</td><td>2009-01-05</td><td>2100.0</td><td>2120.0</td><td>2060.0</td><td>2070.0</td><td>11500.0</td><td>10.0</td></tr><tr><td>1301</td><td>2009-01-06</td><td>2070.0</td><td>2090.0</td><td>2050.0</td><td>2070.0</td><td>27300.0</td><td>10.0</td></tr><tr><td>1301</td><td>2009-01-07</td><td>2050.0</td><td>2080.0</td><td>2050.0</td><td>2070.0</td><td>26900.0</td><td>10.0</td></tr><tr><td>1301</td><td>2009-01-08</td><td>2050.0</td><td>2070.0</td><td>2040.0</td><td>2060.0</td><td>19900.0</td><td>10.0</td></tr><tr><td>1301</td><td>2009-01-09</td><td>2070.0</td><td>2080.0</td><td>2050.0</td><td>2050.0</td><td>24300.0</td><td>10.0</td></tr><tr><td>&hellip;</td><td>&hellip;</td><td>&hellip;</td><td>&hellip;</td><td>&hellip;</td><td>&hellip;</td><td>&hellip;</td><td>&hellip;</td></tr><tr><td>9997</td><td>2024-08-19</td><td>726.0</td><td>727.0</td><td>719.0</td><td>723.0</td><td>138500.0</td><td>1.0</td></tr><tr><td>9997</td><td>2024-08-20</td><td>728.0</td><td>739.0</td><td>728.0</td><td>733.0</td><td>198400.0</td><td>1.0</td></tr><tr><td>9997</td><td>2024-08-21</td><td>730.0</td><td>735.0</td><td>725.0</td><td>733.0</td><td>181700.0</td><td>1.0</td></tr><tr><td>9997</td><td>2024-08-22</td><td>736.0</td><td>743.0</td><td>733.0</td><td>740.0</td><td>153500.0</td><td>1.0</td></tr><tr><td>9997</td><td>2024-08-23</td><td>738.0</td><td>741.0</td><td>735.0</td><td>737.0</td><td>117500.0</td><td>1.0</td></tr></tbody></table></div>"
      ],
      "text/plain": [
       "shape: (13_426_332, 8)\n",
       "┌───────┬────────────┬────────┬────────┬────────┬─────────┬──────────┬────────────────────────┐\n",
       "│ mcode ┆ p_key      ┆ p_open ┆ p_high ┆ p_low  ┆ p_close ┆ volume   ┆ accumulated_split_rate │\n",
       "│ ---   ┆ ---        ┆ ---    ┆ ---    ┆ ---    ┆ ---     ┆ ---      ┆ ---                    │\n",
       "│ i64   ┆ date       ┆ f64    ┆ f64    ┆ f64    ┆ f64     ┆ f64      ┆ f64                    │\n",
       "╞═══════╪════════════╪════════╪════════╪════════╪═════════╪══════════╪════════════════════════╡\n",
       "│ 1301  ┆ 2009-01-05 ┆ 2100.0 ┆ 2120.0 ┆ 2060.0 ┆ 2070.0  ┆ 11500.0  ┆ 10.0                   │\n",
       "│ 1301  ┆ 2009-01-06 ┆ 2070.0 ┆ 2090.0 ┆ 2050.0 ┆ 2070.0  ┆ 27300.0  ┆ 10.0                   │\n",
       "│ 1301  ┆ 2009-01-07 ┆ 2050.0 ┆ 2080.0 ┆ 2050.0 ┆ 2070.0  ┆ 26900.0  ┆ 10.0                   │\n",
       "│ 1301  ┆ 2009-01-08 ┆ 2050.0 ┆ 2070.0 ┆ 2040.0 ┆ 2060.0  ┆ 19900.0  ┆ 10.0                   │\n",
       "│ 1301  ┆ 2009-01-09 ┆ 2070.0 ┆ 2080.0 ┆ 2050.0 ┆ 2050.0  ┆ 24300.0  ┆ 10.0                   │\n",
       "│ …     ┆ …          ┆ …      ┆ …      ┆ …      ┆ …       ┆ …        ┆ …                      │\n",
       "│ 9997  ┆ 2024-08-19 ┆ 726.0  ┆ 727.0  ┆ 719.0  ┆ 723.0   ┆ 138500.0 ┆ 1.0                    │\n",
       "│ 9997  ┆ 2024-08-20 ┆ 728.0  ┆ 739.0  ┆ 728.0  ┆ 733.0   ┆ 198400.0 ┆ 1.0                    │\n",
       "│ 9997  ┆ 2024-08-21 ┆ 730.0  ┆ 735.0  ┆ 725.0  ┆ 733.0   ┆ 181700.0 ┆ 1.0                    │\n",
       "│ 9997  ┆ 2024-08-22 ┆ 736.0  ┆ 743.0  ┆ 733.0  ┆ 740.0   ┆ 153500.0 ┆ 1.0                    │\n",
       "│ 9997  ┆ 2024-08-23 ┆ 738.0  ┆ 741.0  ┆ 735.0  ┆ 737.0   ┆ 117500.0 ┆ 1.0                    │\n",
       "└───────┴────────────┴────────┴────────┴────────┴─────────┴──────────┴────────────────────────┘"
      ]
     },
     "execution_count": 5,
     "metadata": {},
     "output_type": "execute_result"
    }
   ],
   "source": [
    "# インスタンス変数dfの中身を確認\n",
    "REV_PL.df"
   ]
  },
  {
   "cell_type": "code",
   "execution_count": null,
   "id": "fd20212b-7a20-457c-a6e1-4e4f00c85f37",
   "metadata": {},
   "outputs": [],
   "source": []
  }
 ],
 "metadata": {
  "kernelspec": {
   "display_name": "Python 3 (ipykernel)",
   "language": "python",
   "name": "python3"
  },
  "language_info": {
   "codemirror_mode": {
    "name": "ipython",
    "version": 3
   },
   "file_extension": ".py",
   "mimetype": "text/x-python",
   "name": "python",
   "nbconvert_exporter": "python",
   "pygments_lexer": "ipython3",
   "version": "3.12.3"
  }
 },
 "nbformat": 4,
 "nbformat_minor": 5
}
