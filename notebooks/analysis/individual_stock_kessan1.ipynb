{
 "cells": [
  {
   "cell_type": "code",
   "execution_count": 1,
   "id": "72fe6020-2485-4d19-ba64-b2929df1c64f",
   "metadata": {},
   "outputs": [],
   "source": [
    "# valuation_date時におけるcodeで指定した銘柄の個別銘柄分析\n",
    "# SBI証券のモバイルの銘柄分析を参考に作成"
   ]
  },
  {
   "cell_type": "code",
   "execution_count": 2,
   "id": "4c3ea513-3b75-4b72-be31-8271db72c241",
   "metadata": {},
   "outputs": [],
   "source": [
    "### パラメータ設定セル\n",
    "from datetime import date\n",
    "from dateutil.relativedelta import relativedelta\n",
    "\n",
    "# パラメータをセット\n",
    "# code: 証券コード\n",
    "# valuation_date: 過去にさかのぼって評価日をdatetime.dateでセット可能。デフォルト値は今日(date.today())\n",
    "code = 1899\n",
    "valuation_date = date.today()\n",
    "valuation_date = date(2024, 12, 16)\n"
   ]
  },
  {
   "cell_type": "code",
   "execution_count": 3,
   "id": "0fa30969-b1dd-4795-8ca4-8bb63e06f211",
   "metadata": {},
   "outputs": [],
   "source": [
    "# 読み込みファイルパスの設定とimportしたいmoduleパス(pythonパス)の設定\n",
    "from pathlib import Path\n",
    "import os, sys\n",
    "\n",
    "CURRENT_DIR = Path(os.getcwd())\n",
    "PJ_DIR = CURRENT_DIR.parent.parent\n",
    "LIB_DIR = PJ_DIR / \"lib\"\n",
    "DATA_DIR = PJ_DIR / \"data\" \n",
    "\n",
    "sys.path.append(str(LIB_DIR))\n",
    "\n",
    "# notebook内で利用するmoduleのimport\n",
    "from lib_dataprocess import PricelistPl, FinancequotePl, KessanPl, KessanFig, PricelistFig, read_data, get_df_latest_yearly_performance, get_latest_stockprice, print_finance_quote\n",
    "from lib_dataprocess import get_fig_expected_performance_progress_rate_pycharts, MeigaralistPl, get_fig_actual_performance_progress_rate_pycharts, ShikihoPl\n",
    "import polars as pl\n",
    "\n",
    "# dataの読み込み\n",
    "fp = DATA_DIR/\"raw_pricelist.parquet\"\n",
    "df = read_data(fp)\n",
    "PPL = PricelistPl(df)\n",
    "\n",
    "# dataの読み込み\n",
    "fp = DATA_DIR/\"reviced_pricelist.parquet\"\n",
    "df = read_data(fp)\n",
    "RevPPL = PricelistPl(df)\n",
    "\n",
    "fp = DATA_DIR/\"finance_quote.parquet\"\n",
    "df = read_data(fp)\n",
    "FPL = FinancequotePl(df)\n",
    "FPL.with_columns_market_cap()\n",
    "\n",
    "fp = DATA_DIR/\"kessan.parquet\"\n",
    "df = read_data(fp)\n",
    "KPL = KessanPl(df)\n",
    "\n",
    "fp = DATA_DIR/\"meigaralist.parquet\"\n",
    "df = read_data(fp)\n",
    "MPL = MeigaralistPl(df)\n",
    "\n",
    "fp = DATA_DIR/\"shikiho.parquet\"\n",
    "df = read_data(fp)\n",
    "SPL = ShikihoPl(df)"
   ]
  },
  {
   "cell_type": "code",
   "execution_count": 4,
   "id": "12cca2e1-9577-4b88-a042-170da054f42b",
   "metadata": {},
   "outputs": [
    {
     "name": "stdout",
     "output_type": "stream",
     "text": [
      "福田組(1899)の銘柄情報\n",
      "\n",
      "終値: 5200.0円(2024年12月16日)\n",
      "予想配当利回り: 2.12%(2024年12月16日)\n",
      "予想PER: 11.03倍(2024年12月16日)\n",
      "実績PBR: 0.52倍(2024年12月16日)\n",
      "自己資本比率: 58.2%(2024年12月16日)\n",
      "予想ROE: 4.71%(2024年12月16日)\n",
      "予想ROA: 2.74%(2024年12月16日)\n",
      "時価総額: 467.4億円(2024年12月16日)\n",
      "\n",
      "1899(福田組)の四季報データ履歴\n",
      "\n",
      "発行日: 2024年09月13日\n",
      "【好転】\n",
      "  大規模商業施設完工、大型不動産物件売却で上期大幅増益。民間建築軸に受注増。下期は採算改善工事増加。人件費増でも営業益回復。25年12月期は大都市再開発工事、工場が進捗。不動産事業反動減。\n",
      "【受注】\n",
      "  関東で大型商業施設、新潟で工場、複数のマンションなど人材確保課題も受注順調。環境視点のリニューアル工事や太陽光発電など再生可能エネ関連に注力。\n",
      "\n",
      "発行日: 2024年06月14日\n",
      "【増額】\n",
      "  大規模商業施設や再開発工事などが牽引。トンネル工事も寄与。大型低採算工事なくなり、価格転嫁浸透で建設事業の採算改善。原材料高、人件費増だが、上期の大型不動産物件売却で営業益上振れ。\n",
      "【不動産】\n",
      "  物流団地などの造成事業を首都圏・九州で展開。好採算事業で開拓に注力。首都圏・新潟などで大規模複合施設、商業施設、マンション工事が順調に進捗。\n",
      "\n",
      "発行日: 2024年03月16日\n",
      "【好転】\n",
      "  期初単体繰越高1219億円(前年比7%増)。大型商業施設や地域再開発工事など進捗。トンネル・浄水場も寄与。リニューアルは着実。低採算工事影響薄れる。人件費増・経費増でも営業益好転。\n",
      "【大規模】\n",
      "  建築ではショッピングセンター、複合再開発案件など大規模案件を相次ぎ受注。グループ会社は小回り生かしリニューアル小型短期案件の受注を積極化。\n",
      "\n",
      "発行日: 2023年12月15日\n",
      "【好転】\n",
      "  商業施設完工。大型複合開発始動し、トンネル貢献も、低採算工事の発生響き前号比営業益下振れ。24年12月期は建築が商業・物流の需要増。大型継続工事、更新案件寄与。低採算工事減少し営業益好転。\n",
      "【受注】\n",
      "  首都圏、新潟・東北で大型商業施設、複数の物流倉庫を受注。西日本でもマンション獲得。短期リニューアル工事や太陽光発電など再生可能エネ関連に注力。\n"
     ]
    }
   ],
   "source": [
    "### 最新情報\n",
    "# 指定したcodeの指定した日における株価と各種ファンダメンタルズデータをまとめて標準出力する\n",
    "# pricelist_dfは、raw_pricelistかreviced_pricelistかケースに応じて使い分ける。\n",
    "# def print_finance_quote(\n",
    "#        pricelist_df: pl.DataFrame,\n",
    "#        finance_quote_df: pl.DataFrame,\n",
    "#        code: int, \n",
    "#        valuation_date: date=date.today()\n",
    "#    ) -> None:\n",
    "print_finance_quote(PPL.df, FPL.df, code, valuation_date=valuation_date)\n",
    "print()\n",
    "SPL.print_stock_df(code, num=4, valuation_date=valuation_date)"
   ]
  },
  {
   "cell_type": "code",
   "execution_count": 5,
   "id": "0496d051-66d9-4003-8ca9-71a782b5ec88",
   "metadata": {},
   "outputs": [
    {
     "data": {
      "text/html": [
       "<iframe\n",
       "    scrolling=\"no\"\n",
       "    width=\"100%\"\n",
       "    height=\"545px\"\n",
       "    src=\"iframe_figures/figure_5.html\"\n",
       "    frameborder=\"0\"\n",
       "    allowfullscreen\n",
       "></iframe>\n"
      ]
     },
     "metadata": {},
     "output_type": "display_data"
    }
   ],
   "source": [
    "### 業績推移\n",
    "\n",
    "# KessanFig(\n",
    "#    code: int, \n",
    "#    settlement_type: Literal[\"通期\", \"四半期\"], \n",
    "#    output_target: str = \"jupyter\",\n",
    "#    start_settlement_date: date = date(1900, 1, 1),\n",
    "#    end_settlement_date: date = date(2999, 12, 31)\n",
    "#)\n",
    "\n",
    "KFIG = KessanFig(code, \"通期\", end_settlement_date=valuation_date)\n",
    "KFIG.add_trace_profits()\n",
    "KFIG.fig.show()"
   ]
  },
  {
   "cell_type": "code",
   "execution_count": 6,
   "id": "0fcfaabe-403b-4c14-a9e7-e5a83685dbe4",
   "metadata": {},
   "outputs": [
    {
     "name": "stdout",
     "output_type": "stream",
     "text": [
      "2024-03-31\n"
     ]
    },
    {
     "data": {
      "text/html": [
       "<div><style>\n",
       ".dataframe > thead > tr,\n",
       ".dataframe > tbody > tr {\n",
       "  text-align: right;\n",
       "  white-space: pre-wrap;\n",
       "}\n",
       "</style>\n",
       "<small>shape: (1, 11)</small><table border=\"1\" class=\"dataframe\"><thead><tr><th>code</th><th>settlement_date</th><th>settlement_type</th><th>announcement_date</th><th>sales</th><th>operating_income</th><th>ordinary_profit</th><th>final_profit</th><th>reviced_eps</th><th>dividend</th><th>quater</th></tr><tr><td>i64</td><td>date</td><td>str</td><td>date</td><td>i64</td><td>i64</td><td>i64</td><td>i64</td><td>f64</td><td>f64</td><td>i64</td></tr></thead><tbody><tr><td>1899</td><td>2024-12-31</td><td>&quot;予&quot;</td><td>2024-02-14</td><td>166400</td><td>5800</td><td>6000</td><td>3900</td><td>471.4</td><td>110.0</td><td>4</td></tr></tbody></table></div>"
      ],
      "text/plain": [
       "shape: (1, 11)\n",
       "┌──────┬─────────────┬─────────────┬─────────────┬───┬────────────┬────────────┬──────────┬────────┐\n",
       "│ code ┆ settlement_ ┆ settlement_ ┆ announcemen ┆ … ┆ final_prof ┆ reviced_ep ┆ dividend ┆ quater │\n",
       "│ ---  ┆ date        ┆ type        ┆ t_date      ┆   ┆ it         ┆ s          ┆ ---      ┆ ---    │\n",
       "│ i64  ┆ ---         ┆ ---         ┆ ---         ┆   ┆ ---        ┆ ---        ┆ f64      ┆ i64    │\n",
       "│      ┆ date        ┆ str         ┆ date        ┆   ┆ i64        ┆ f64        ┆          ┆        │\n",
       "╞══════╪═════════════╪═════════════╪═════════════╪═══╪════════════╪════════════╪══════════╪════════╡\n",
       "│ 1899 ┆ 2024-12-31  ┆ 予          ┆ 2024-02-14  ┆ … ┆ 3900       ┆ 471.4      ┆ 110.0    ┆ 4      │\n",
       "└──────┴─────────────┴─────────────┴─────────────┴───┴────────────┴────────────┴──────────┴────────┘"
      ]
     },
     "execution_count": 6,
     "metadata": {},
     "output_type": "execute_result"
    }
   ],
   "source": [
    "# 今季決算予想発表の推移\n",
    "df = KPL.get_settlement_forcast(code, valuation_date)\n",
    "df"
   ]
  },
  {
   "cell_type": "code",
   "execution_count": 7,
   "id": "9640855f-4673-4470-8ef7-5995b03feaa1",
   "metadata": {},
   "outputs": [
    {
     "name": "stdout",
     "output_type": "stream",
     "text": [
      "福田組(1899)の通期決算(評価日：2024年12月16日)\n"
     ]
    },
    {
     "data": {
      "text/html": [
       "<div><style>\n",
       ".dataframe > thead > tr,\n",
       ".dataframe > tbody > tr {\n",
       "  text-align: right;\n",
       "  white-space: pre-wrap;\n",
       "}\n",
       "</style>\n",
       "<small>shape: (2, 8)</small><table border=\"1\" class=\"dataframe\"><thead><tr><th>決算期</th><th>決算発表日</th><th>売上高</th><th>営業利益</th><th>経常利益</th><th>純利益</th><th>EPS</th><th>1株配当</th></tr><tr><td>str</td><td>date</td><td>i64</td><td>i64</td><td>i64</td><td>i64</td><td>f64</td><td>f64</td></tr></thead><tbody><tr><td>&quot;2024年12月期(予)&quot;</td><td>2024-02-14</td><td>166400</td><td>5800</td><td>6000</td><td>3900</td><td>471.4</td><td>110.0</td></tr><tr><td>&quot;2023年12月期&quot;</td><td>2024-02-14</td><td>162243</td><td>5205</td><td>5478</td><td>3386</td><td>400.1</td><td>110.0</td></tr></tbody></table></div>"
      ],
      "text/plain": [
       "shape: (2, 8)\n",
       "┌──────────────────┬────────────┬────────┬──────────┬──────────┬────────┬───────┬─────────┐\n",
       "│ 決算期           ┆ 決算発表日 ┆ 売上高 ┆ 営業利益 ┆ 経常利益 ┆ 純利益 ┆ EPS   ┆ 1株配当 │\n",
       "│ ---              ┆ ---        ┆ ---    ┆ ---      ┆ ---      ┆ ---    ┆ ---   ┆ ---     │\n",
       "│ str              ┆ date       ┆ i64    ┆ i64      ┆ i64      ┆ i64    ┆ f64   ┆ f64     │\n",
       "╞══════════════════╪════════════╪════════╪══════════╪══════════╪════════╪═══════╪═════════╡\n",
       "│ 2024年12月期(予) ┆ 2024-02-14 ┆ 166400 ┆ 5800     ┆ 6000     ┆ 3900   ┆ 471.4 ┆ 110.0   │\n",
       "│ 2023年12月期     ┆ 2024-02-14 ┆ 162243 ┆ 5205     ┆ 5478     ┆ 3386   ┆ 400.1 ┆ 110.0   │\n",
       "└──────────────────┴────────────┴────────┴──────────┴──────────┴────────┴───────┴─────────┘"
      ]
     },
     "execution_count": 7,
     "metadata": {},
     "output_type": "execute_result"
    }
   ],
   "source": [
    "### 通期業績、業績予想\n",
    "# def get_df_latest_yearly_performance(code: int, valuation_date: date=date.today()) -> pl.DataFrame:\n",
    "df = get_df_latest_yearly_performance(code, valuation_date)\n",
    "df"
   ]
  },
  {
   "cell_type": "code",
   "execution_count": 8,
   "id": "9ebf91d2-7436-46c3-b035-04a125b60357",
   "metadata": {},
   "outputs": [
    {
     "data": {
      "text/html": [
       "<iframe\n",
       "    scrolling=\"no\"\n",
       "    width=\"100%\"\n",
       "    height=\"545px\"\n",
       "    src=\"iframe_figures/figure_8.html\"\n",
       "    frameborder=\"0\"\n",
       "    allowfullscreen\n",
       "></iframe>\n"
      ]
     },
     "metadata": {},
     "output_type": "display_data"
    },
    {
     "data": {
      "text/html": [
       "<div><style>\n",
       ".dataframe > thead > tr,\n",
       ".dataframe > tbody > tr {\n",
       "  text-align: right;\n",
       "  white-space: pre-wrap;\n",
       "}\n",
       "</style>\n",
       "<small>shape: (8, 11)</small><table border=\"1\" class=\"dataframe\"><thead><tr><th>code</th><th>settlement_date</th><th>settlement_type</th><th>announcement_date</th><th>sales</th><th>operating_income</th><th>ordinary_profit</th><th>final_profit</th><th>reviced_eps</th><th>dividend</th><th>quater</th></tr><tr><td>i64</td><td>date</td><td>str</td><td>date</td><td>i64</td><td>i64</td><td>i64</td><td>i64</td><td>f64</td><td>f64</td><td>i64</td></tr></thead><tbody><tr><td>1899</td><td>2024-09-30</td><td>&quot;四&quot;</td><td>2024-11-08</td><td>40884</td><td>2205</td><td>2247</td><td>1488</td><td>179.9</td><td>5.4</td><td>3</td></tr><tr><td>1899</td><td>2024-06-30</td><td>&quot;四&quot;</td><td>2024-08-08</td><td>34299</td><td>871</td><td>957</td><td>577</td><td>69.7</td><td>2.5</td><td>2</td></tr><tr><td>1899</td><td>2024-03-31</td><td>&quot;四&quot;</td><td>2024-05-10</td><td>41419</td><td>2659</td><td>2751</td><td>1883</td><td>227.7</td><td>6.4</td><td>1</td></tr><tr><td>1899</td><td>2023-12-31</td><td>&quot;四&quot;</td><td>2024-02-14</td><td>50267</td><td>1844</td><td>1926</td><td>1160</td><td>137.1</td><td>3.7</td><td>4</td></tr><tr><td>1899</td><td>2023-09-30</td><td>&quot;四&quot;</td><td>2023-11-10</td><td>42086</td><td>1826</td><td>1849</td><td>1140</td><td>134.4</td><td>4.3</td><td>3</td></tr><tr><td>1899</td><td>2023-06-30</td><td>&quot;四&quot;</td><td>2023-08-10</td><td>33988</td><td>207</td><td>284</td><td>132</td><td>15.6</td><td>0.6</td><td>2</td></tr><tr><td>1899</td><td>2023-03-31</td><td>&quot;四&quot;</td><td>2023-05-11</td><td>35902</td><td>1328</td><td>1419</td><td>954</td><td>112.3</td><td>3.7</td><td>1</td></tr><tr><td>1899</td><td>2022-12-31</td><td>&quot;四&quot;</td><td>2023-02-14</td><td>46252</td><td>207</td><td>271</td><td>120</td><td>14.1</td><td>0.4</td><td>4</td></tr></tbody></table></div>"
      ],
      "text/plain": [
       "shape: (8, 11)\n",
       "┌──────┬─────────────┬─────────────┬─────────────┬───┬────────────┬────────────┬──────────┬────────┐\n",
       "│ code ┆ settlement_ ┆ settlement_ ┆ announcemen ┆ … ┆ final_prof ┆ reviced_ep ┆ dividend ┆ quater │\n",
       "│ ---  ┆ date        ┆ type        ┆ t_date      ┆   ┆ it         ┆ s          ┆ ---      ┆ ---    │\n",
       "│ i64  ┆ ---         ┆ ---         ┆ ---         ┆   ┆ ---        ┆ ---        ┆ f64      ┆ i64    │\n",
       "│      ┆ date        ┆ str         ┆ date        ┆   ┆ i64        ┆ f64        ┆          ┆        │\n",
       "╞══════╪═════════════╪═════════════╪═════════════╪═══╪════════════╪════════════╪══════════╪════════╡\n",
       "│ 1899 ┆ 2024-09-30  ┆ 四          ┆ 2024-11-08  ┆ … ┆ 1488       ┆ 179.9      ┆ 5.4      ┆ 3      │\n",
       "│ 1899 ┆ 2024-06-30  ┆ 四          ┆ 2024-08-08  ┆ … ┆ 577        ┆ 69.7       ┆ 2.5      ┆ 2      │\n",
       "│ 1899 ┆ 2024-03-31  ┆ 四          ┆ 2024-05-10  ┆ … ┆ 1883       ┆ 227.7      ┆ 6.4      ┆ 1      │\n",
       "│ 1899 ┆ 2023-12-31  ┆ 四          ┆ 2024-02-14  ┆ … ┆ 1160       ┆ 137.1      ┆ 3.7      ┆ 4      │\n",
       "│ 1899 ┆ 2023-09-30  ┆ 四          ┆ 2023-11-10  ┆ … ┆ 1140       ┆ 134.4      ┆ 4.3      ┆ 3      │\n",
       "│ 1899 ┆ 2023-06-30  ┆ 四          ┆ 2023-08-10  ┆ … ┆ 132        ┆ 15.6       ┆ 0.6      ┆ 2      │\n",
       "│ 1899 ┆ 2023-03-31  ┆ 四          ┆ 2023-05-11  ┆ … ┆ 954        ┆ 112.3      ┆ 3.7      ┆ 1      │\n",
       "│ 1899 ┆ 2022-12-31  ┆ 四          ┆ 2023-02-14  ┆ … ┆ 120        ┆ 14.1       ┆ 0.4      ┆ 4      │\n",
       "└──────┴─────────────┴─────────────┴─────────────┴───┴────────────┴────────────┴──────────┴────────┘"
      ]
     },
     "execution_count": 8,
     "metadata": {},
     "output_type": "execute_result"
    }
   ],
   "source": [
    "KFIG = KessanFig(code, \"四半期\", end_settlement_date=valuation_date)\n",
    "KFIG.add_trace_profits()\n",
    "KFIG.fig.show()\n",
    "KPL.get_latest_quater_settlement(code, valuation_date)"
   ]
  },
  {
   "cell_type": "code",
   "execution_count": 9,
   "id": "0e6e726c-d77c-464d-8d42-3247af5afba0",
   "metadata": {},
   "outputs": [
    {
     "name": "stdout",
     "output_type": "stream",
     "text": [
      "福田組(1899)の2024年12月期第3四半期決算進捗率(評価日：2024-12-16)\n"
     ]
    },
    {
     "data": {
      "text/html": [
       "<iframe\n",
       "    scrolling=\"no\"\n",
       "    width=\"100%\"\n",
       "    height=\"545px\"\n",
       "    src=\"iframe_figures/figure_9.html\"\n",
       "    frameborder=\"0\"\n",
       "    allowfullscreen\n",
       "></iframe>\n"
      ]
     },
     "metadata": {},
     "output_type": "display_data"
    }
   ],
   "source": [
    "# codeで指定した銘柄のevaluation_dateで指定した時点での最新の年度決算予想に基づく\n",
    "# 売上高~純利益の決算進捗率を円グラフで表示するためのfigを返す\n",
    "# from plotly.graph_objects import Figure\n",
    "# def get_fig_expected_performance_progress_rate_pycharts(code: int, evaluation_date: date=date.today()) -> Figure:\n",
    "\n",
    "fig1 = get_fig_expected_performance_progress_rate_pycharts(code, valuation_date)\n",
    "fig1.show()"
   ]
  },
  {
   "cell_type": "code",
   "execution_count": 10,
   "id": "412228f6-95ef-432e-af38-b2301c619c9e",
   "metadata": {},
   "outputs": [
    {
     "name": "stdout",
     "output_type": "stream",
     "text": [
      "福田組(1899)の2023年12月期第3四半期決算進捗率(評価日：2023-12-16)\n"
     ]
    },
    {
     "data": {
      "text/html": [
       "<iframe\n",
       "    scrolling=\"no\"\n",
       "    width=\"100%\"\n",
       "    height=\"545px\"\n",
       "    src=\"iframe_figures/figure_10.html\"\n",
       "    frameborder=\"0\"\n",
       "    allowfullscreen\n",
       "></iframe>\n"
      ]
     },
     "metadata": {},
     "output_type": "display_data"
    }
   ],
   "source": [
    "last_year_valuation_date = date(valuation_date.year-1, valuation_date.month, valuation_date.day)\n",
    "\n",
    "# codeで指定した銘柄のevaluation_dateで指定した時点での最新の四半期決算発表に基づく\n",
    "# 売上高~純利益の決算進捗率を円グラフで表示するためのfigを返す\n",
    "# valuation_dateで指定する日において、当年度の本決算が発表されていない日を指定した場合は前期末第4四半期の進捗率を表示するので、進捗率100%で表示される。\n",
    "fig2 = get_fig_actual_performance_progress_rate_pycharts(code, last_year_valuation_date, KPL.df, MPL.df)\n",
    "fig2.show()"
   ]
  },
  {
   "cell_type": "code",
   "execution_count": 11,
   "id": "872ee2f6-4f2a-4c21-9a61-f3f86b442637",
   "metadata": {},
   "outputs": [],
   "source": [
    "#### valuation_dateに過去日を指定した場合、valuation_dateを含む期の株価推移\n",
    "#### 答え合わせ"
   ]
  },
  {
   "cell_type": "code",
   "execution_count": 12,
   "id": "2860596f-c601-466f-bb47-327efd7811f9",
   "metadata": {},
   "outputs": [
    {
     "data": {
      "text/html": [
       "<iframe\n",
       "    scrolling=\"no\"\n",
       "    width=\"100%\"\n",
       "    height=\"620\"\n",
       "    src=\"iframe_figures/figure_12.html\"\n",
       "    frameborder=\"0\"\n",
       "    allowfullscreen\n",
       "></iframe>\n"
      ]
     },
     "metadata": {},
     "output_type": "display_data"
    }
   ],
   "source": [
    "# 株価推移\n",
    "# 前期算発表翌営業日～今期決算発表日翌営業日\n",
    "start_date, end_date = KPL.get_current_settlement_period_by_announcement_date(code, valuation_date, \"四\")\n",
    "\n",
    "df = RevPPL.df.filter(pl.col(\"code\")==code).filter(pl.col(\"date\")>start_date)\n",
    "start_date = df[\"date\"].to_list()[0]\n",
    "\n",
    "df = RevPPL.df.filter(pl.col(\"code\")==code).filter(pl.col(\"date\")>end_date)\n",
    "if not end_date == date(2999, 12, 31):\n",
    "    end_date = df[\"date\"].to_list()[0]\n",
    "\n",
    "PFIG = PricelistFig(code, RevPPL.df, MPL.df, start_date, end_date)\n",
    "df = RevPPL.df.filter(pl.col(\"code\")==code).filter(pl.col(\"date\")<=valuation_date)\n",
    "vline_date = df[\"date\"].to_list()[-1]\n",
    "PFIG.add_vline(vline_date)\n",
    "PFIG.fig.show()"
   ]
  },
  {
   "cell_type": "code",
   "execution_count": 13,
   "id": "4d964308-8c7a-4624-8e20-5acb7823d0c8",
   "metadata": {},
   "outputs": [
    {
     "data": {
      "text/html": [
       "<div><style>\n",
       ".dataframe > thead > tr,\n",
       ".dataframe > tbody > tr {\n",
       "  text-align: right;\n",
       "  white-space: pre-wrap;\n",
       "}\n",
       "</style>\n",
       "<small>shape: (6, 11)</small><table border=\"1\" class=\"dataframe\"><thead><tr><th>code</th><th>settlement_date</th><th>settlement_type</th><th>announcement_date</th><th>sales</th><th>operating_income</th><th>ordinary_profit</th><th>final_profit</th><th>reviced_eps</th><th>dividend</th><th>quater</th></tr><tr><td>i64</td><td>date</td><td>str</td><td>date</td><td>i64</td><td>i64</td><td>i64</td><td>i64</td><td>f64</td><td>f64</td><td>i64</td></tr></thead><tbody><tr><td>1899</td><td>2023-12-31</td><td>&quot;四&quot;</td><td>2024-02-14</td><td>50267</td><td>1844</td><td>1926</td><td>1160</td><td>137.1</td><td>3.7</td><td>4</td></tr><tr><td>1899</td><td>2023-12-31</td><td>&quot;本&quot;</td><td>2024-02-14</td><td>162243</td><td>5205</td><td>5478</td><td>3386</td><td>400.1</td><td>110.0</td><td>4</td></tr><tr><td>1899</td><td>2024-12-31</td><td>&quot;予&quot;</td><td>2024-02-14</td><td>166400</td><td>5800</td><td>6000</td><td>3900</td><td>471.4</td><td>110.0</td><td>4</td></tr><tr><td>1899</td><td>2024-03-31</td><td>&quot;四&quot;</td><td>2024-05-10</td><td>41419</td><td>2659</td><td>2751</td><td>1883</td><td>227.7</td><td>6.4</td><td>1</td></tr><tr><td>1899</td><td>2024-06-30</td><td>&quot;四&quot;</td><td>2024-08-08</td><td>34299</td><td>871</td><td>957</td><td>577</td><td>69.7</td><td>2.5</td><td>2</td></tr><tr><td>1899</td><td>2024-09-30</td><td>&quot;四&quot;</td><td>2024-11-08</td><td>40884</td><td>2205</td><td>2247</td><td>1488</td><td>179.9</td><td>5.4</td><td>3</td></tr></tbody></table></div>"
      ],
      "text/plain": [
       "shape: (6, 11)\n",
       "┌──────┬─────────────┬─────────────┬─────────────┬───┬────────────┬────────────┬──────────┬────────┐\n",
       "│ code ┆ settlement_ ┆ settlement_ ┆ announcemen ┆ … ┆ final_prof ┆ reviced_ep ┆ dividend ┆ quater │\n",
       "│ ---  ┆ date        ┆ type        ┆ t_date      ┆   ┆ it         ┆ s          ┆ ---      ┆ ---    │\n",
       "│ i64  ┆ ---         ┆ ---         ┆ ---         ┆   ┆ ---        ┆ ---        ┆ f64      ┆ i64    │\n",
       "│      ┆ date        ┆ str         ┆ date        ┆   ┆ i64        ┆ f64        ┆          ┆        │\n",
       "╞══════╪═════════════╪═════════════╪═════════════╪═══╪════════════╪════════════╪══════════╪════════╡\n",
       "│ 1899 ┆ 2023-12-31  ┆ 四          ┆ 2024-02-14  ┆ … ┆ 1160       ┆ 137.1      ┆ 3.7      ┆ 4      │\n",
       "│ 1899 ┆ 2023-12-31  ┆ 本          ┆ 2024-02-14  ┆ … ┆ 3386       ┆ 400.1      ┆ 110.0    ┆ 4      │\n",
       "│ 1899 ┆ 2024-12-31  ┆ 予          ┆ 2024-02-14  ┆ … ┆ 3900       ┆ 471.4      ┆ 110.0    ┆ 4      │\n",
       "│ 1899 ┆ 2024-03-31  ┆ 四          ┆ 2024-05-10  ┆ … ┆ 1883       ┆ 227.7      ┆ 6.4      ┆ 1      │\n",
       "│ 1899 ┆ 2024-06-30  ┆ 四          ┆ 2024-08-08  ┆ … ┆ 577        ┆ 69.7       ┆ 2.5      ┆ 2      │\n",
       "│ 1899 ┆ 2024-09-30  ┆ 四          ┆ 2024-11-08  ┆ … ┆ 1488       ┆ 179.9      ┆ 5.4      ┆ 3      │\n",
       "└──────┴─────────────┴─────────────┴─────────────┴───┴────────────┴────────────┴──────────┴────────┘"
      ]
     },
     "execution_count": 13,
     "metadata": {},
     "output_type": "execute_result"
    }
   ],
   "source": [
    "# appendix\n",
    "KPL.df.filter(pl.col(\"code\")==code).filter(pl.col(\"announcement_date\")>=date(2024,1,1))"
   ]
  },
  {
   "cell_type": "code",
   "execution_count": 14,
   "id": "d962c1ec-5c5d-4ffb-a764-555827da2557",
   "metadata": {},
   "outputs": [
    {
     "data": {
      "text/html": [
       "<iframe\n",
       "    scrolling=\"no\"\n",
       "    width=\"100%\"\n",
       "    height=\"620\"\n",
       "    src=\"iframe_figures/figure_14.html\"\n",
       "    frameborder=\"0\"\n",
       "    allowfullscreen\n",
       "></iframe>\n"
      ]
     },
     "metadata": {},
     "output_type": "display_data"
    }
   ],
   "source": [
    "PFIG = PricelistFig(code, RevPPL.df, MPL.df, date(2023, 12, 1), date.today())\n",
    "PFIG.fig.show()"
   ]
  },
  {
   "cell_type": "code",
   "execution_count": 15,
   "id": "ad4d6b8a-bd0b-4c2c-95ac-6026931a06a3",
   "metadata": {},
   "outputs": [
    {
     "data": {
      "text/html": [
       "<div><style>\n",
       ".dataframe > thead > tr,\n",
       ".dataframe > tbody > tr {\n",
       "  text-align: right;\n",
       "  white-space: pre-wrap;\n",
       "}\n",
       "</style>\n",
       "<small>shape: (811, 5)</small><table border=\"1\" class=\"dataframe\"><thead><tr><th>code</th><th>date</th><th>unsold_margin</th><th>purchase_margin</th><th>margin_ratio</th></tr><tr><td>i64</td><td>date</td><td>i64</td><td>i64</td><td>f64</td></tr></thead><tbody><tr><td>1899</td><td>2008-12-30</td><td>207000</td><td>610000</td><td>2.95</td></tr><tr><td>1899</td><td>2009-01-09</td><td>229000</td><td>630000</td><td>2.75</td></tr><tr><td>1899</td><td>2009-01-16</td><td>290000</td><td>628000</td><td>2.17</td></tr><tr><td>1899</td><td>2009-01-23</td><td>236000</td><td>621000</td><td>2.63</td></tr><tr><td>1899</td><td>2009-01-30</td><td>226000</td><td>615000</td><td>2.72</td></tr><tr><td>&hellip;</td><td>&hellip;</td><td>&hellip;</td><td>&hellip;</td><td>&hellip;</td></tr><tr><td>1899</td><td>2024-11-15</td><td>7000</td><td>27300</td><td>3.9</td></tr><tr><td>1899</td><td>2024-11-22</td><td>9800</td><td>28200</td><td>2.88</td></tr><tr><td>1899</td><td>2024-11-29</td><td>20200</td><td>31100</td><td>1.54</td></tr><tr><td>1899</td><td>2024-12-06</td><td>46500</td><td>29500</td><td>0.63</td></tr><tr><td>1899</td><td>2024-12-13</td><td>129300</td><td>31800</td><td>0.25</td></tr></tbody></table></div>"
      ],
      "text/plain": [
       "shape: (811, 5)\n",
       "┌──────┬────────────┬───────────────┬─────────────────┬──────────────┐\n",
       "│ code ┆ date       ┆ unsold_margin ┆ purchase_margin ┆ margin_ratio │\n",
       "│ ---  ┆ ---        ┆ ---           ┆ ---             ┆ ---          │\n",
       "│ i64  ┆ date       ┆ i64           ┆ i64             ┆ f64          │\n",
       "╞══════╪════════════╪═══════════════╪═════════════════╪══════════════╡\n",
       "│ 1899 ┆ 2008-12-30 ┆ 207000        ┆ 610000          ┆ 2.95         │\n",
       "│ 1899 ┆ 2009-01-09 ┆ 229000        ┆ 630000          ┆ 2.75         │\n",
       "│ 1899 ┆ 2009-01-16 ┆ 290000        ┆ 628000          ┆ 2.17         │\n",
       "│ 1899 ┆ 2009-01-23 ┆ 236000        ┆ 621000          ┆ 2.63         │\n",
       "│ 1899 ┆ 2009-01-30 ┆ 226000        ┆ 615000          ┆ 2.72         │\n",
       "│ …    ┆ …          ┆ …             ┆ …               ┆ …            │\n",
       "│ 1899 ┆ 2024-11-15 ┆ 7000          ┆ 27300           ┆ 3.9          │\n",
       "│ 1899 ┆ 2024-11-22 ┆ 9800          ┆ 28200           ┆ 2.88         │\n",
       "│ 1899 ┆ 2024-11-29 ┆ 20200         ┆ 31100           ┆ 1.54         │\n",
       "│ 1899 ┆ 2024-12-06 ┆ 46500         ┆ 29500           ┆ 0.63         │\n",
       "│ 1899 ┆ 2024-12-13 ┆ 129300        ┆ 31800           ┆ 0.25         │\n",
       "└──────┴────────────┴───────────────┴─────────────────┴──────────────┘"
      ]
     },
     "execution_count": 15,
     "metadata": {},
     "output_type": "execute_result"
    }
   ],
   "source": [
    "from lib_dataprocess import CreditbalancePl\n",
    "\n",
    "CPL = CreditbalancePl()\n",
    "CPL.with_columns_margin_ratio()\n",
    "CPL.df.filter(pl.col(\"code\")==code)"
   ]
  },
  {
   "cell_type": "code",
   "execution_count": null,
   "id": "ac32eb0a-3f87-48a7-9b80-52cf651e44b4",
   "metadata": {},
   "outputs": [],
   "source": []
  }
 ],
 "metadata": {
  "kernelspec": {
   "display_name": "Python 3 (ipykernel)",
   "language": "python",
   "name": "python3"
  },
  "language_info": {
   "codemirror_mode": {
    "name": "ipython",
    "version": 3
   },
   "file_extension": ".py",
   "mimetype": "text/x-python",
   "name": "python",
   "nbconvert_exporter": "python",
   "pygments_lexer": "ipython3",
   "version": "3.12.3"
  }
 },
 "nbformat": 4,
 "nbformat_minor": 5
}
