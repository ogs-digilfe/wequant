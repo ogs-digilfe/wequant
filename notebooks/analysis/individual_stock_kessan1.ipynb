{
 "cells": [
  {
   "cell_type": "code",
   "execution_count": 1,
   "id": "72fe6020-2485-4d19-ba64-b2929df1c64f",
   "metadata": {},
   "outputs": [],
   "source": [
    "# valuation_date時におけるcodeで指定した銘柄の個別銘柄分析\n",
    "# SBI証券のモバイルの銘柄分析を参考に作成"
   ]
  },
  {
   "cell_type": "code",
   "execution_count": 2,
   "id": "4c3ea513-3b75-4b72-be31-8271db72c241",
   "metadata": {},
   "outputs": [],
   "source": [
    "### パラメータ設定セル\n",
    "from datetime import date\n",
    "from dateutil.relativedelta import relativedelta\n",
    "\n",
    "# パラメータをセット\n",
    "# code: 証券コード\n",
    "# valuation_date: 過去にさかのぼって評価日をdatetime.dateでセット可能。デフォルト値は今日(date.today())\n",
    "code = 2708\n",
    "valuation_date = date.today()\n",
    "# valuation_date = date(2024, 2, 2)\n"
   ]
  },
  {
   "cell_type": "code",
   "execution_count": 3,
   "id": "0fa30969-b1dd-4795-8ca4-8bb63e06f211",
   "metadata": {},
   "outputs": [],
   "source": [
    "# 読み込みファイルパスの設定とimportしたいmoduleパス(pythonパス)の設定\n",
    "from pathlib import Path\n",
    "import os, sys\n",
    "\n",
    "CURRENT_DIR = Path(os.getcwd())\n",
    "PJ_DIR = CURRENT_DIR.parent.parent\n",
    "LIB_DIR = PJ_DIR / \"lib\"\n",
    "DATA_DIR = PJ_DIR / \"data\" \n",
    "\n",
    "sys.path.append(str(LIB_DIR))\n",
    "\n",
    "# notebook内で利用するmoduleのimport\n",
    "from lib_dataprocess import PricelistPl, FinancequotePl, KessanPl, KessanFig, PricelistFig, read_data, get_df_latest_yearly_performance, get_latest_stockprice, print_finance_quote\n",
    "from lib_dataprocess import get_fig_expected_performance_progress_rate_pycharts, MeigaralistPl, get_fig_actual_performance_progress_rate_pycharts, ShikihoPl\n",
    "import polars as pl\n",
    "\n",
    "# dataの読み込み\n",
    "fp = DATA_DIR/\"raw_pricelist.parquet\"\n",
    "df = read_data(fp)\n",
    "PPL = PricelistPl(df)\n",
    "\n",
    "# dataの読み込み\n",
    "fp = DATA_DIR/\"reviced_pricelist.parquet\"\n",
    "df = read_data(fp)\n",
    "RevPPL = PricelistPl(df)\n",
    "\n",
    "fp = DATA_DIR/\"finance_quote.parquet\"\n",
    "df = read_data(fp)\n",
    "FPL = FinancequotePl(df)\n",
    "FPL.with_columns_market_cap()\n",
    "\n",
    "fp = DATA_DIR/\"kessan.parquet\"\n",
    "df = read_data(fp)\n",
    "KPL = KessanPl(df)\n",
    "\n",
    "fp = DATA_DIR/\"meigaralist.parquet\"\n",
    "df = read_data(fp)\n",
    "MPL = MeigaralistPl(df)\n",
    "\n",
    "fp = DATA_DIR/\"shikiho.parquet\"\n",
    "df = read_data(fp)\n",
    "SPL = ShikihoPl(df)"
   ]
  },
  {
   "cell_type": "code",
   "execution_count": 4,
   "id": "12cca2e1-9577-4b88-a042-170da054f42b",
   "metadata": {},
   "outputs": [
    {
     "name": "stdout",
     "output_type": "stream",
     "text": [
      "久世(2708)の銘柄情報\n",
      "\n",
      "終値: 1669.0円(2024年12月23日)\n",
      "予想配当利回り: 0.9%(2024年12月23日)\n",
      "予想PER: 5.94倍(2024年12月23日)\n",
      "実績PBR: 1.07倍(2024年12月23日)\n",
      "自己資本比率: 26.8%(2024年12月23日)\n",
      "予想ROE: 17.94%(2024年12月23日)\n",
      "予想ROA: 4.81%(2024年12月23日)\n",
      "時価総額: 77.2億円(2024年12月23日)\n",
      "\n",
      "2708(久世)の四季報データ履歴\n",
      "\n",
      "発行日: 2024年09月13日\n",
      "【上振れ】\n",
      "  食材卸、製造は法人や訪日客需要回復で外食向け絶好調。期央の新倉庫開設で機会損失解消し、数量尻上がり。子会社売却の目減り補う。賃料、物流費、人件費増こなし一転営業増益。税負担増。減配。\n",
      "【PB】\n",
      "  外食店舗の人手不足に対応し、簡易な調理で提供可能な高付加価値PB商品の開発加速。26年3月期営業益19億円目指す中計は目標過小。早期の上方修正も。\n",
      "\n",
      "発行日: 2024年06月14日\n",
      "【減配】\n",
      "  食材卸、製造は良好な受注環境追い風に取引先当たりの数量、取引先数ともに増え、水産輸出も堅調。が、物流機能拡充による賃料、運賃、人件費の増加こなせず営業益急落。補助金特益消える。減配。\n",
      "【キャパ拡大】\n",
      "  機会損失解消に向け、コロナ下で8カ所から5カ所に縮小した物流拠点を順次再拡張。新規先は飲食店に加え、遊園地やケータリングなど全方位で開拓。\n",
      "\n",
      "発行日: 2024年03月16日\n",
      "【小幅増益】\n",
      "  食材卸、製造ともに飲食店の客数回復し快走。水産輸出も堅調。営業益独自再増額。特配。25年3月期も食材卸、製造ともに良好な受注環境続くが、物流キャパ限界。営業益小幅増止まり。税平常化。\n",
      "【課題】\n",
      "  機会損失回避に向け物流インフラ整備課題。常温、冷蔵、冷凍の3温度帯の管理ノウハウ生かした食品のネット通販事業者向け物流受託事業は慎重に育成。\n",
      "\n",
      "発行日: 2023年12月15日\n",
      "【独自増額】\n",
      "  食材卸、製造ともに飲食店の客数回復し絶好調。機内食も寄与。物流投資再開による修繕費増こなす。営業益独自増額。会社増額計画なお慎重。25年3月期も食材卸、製造ともに数量堅調。営業増益。\n",
      "【ＤＸ】\n",
      "  LINEの拡張機能使った無料受発注システム『KUZEX』は、全取引先での導入に向け全力。観光・レジャー、中食向けは、外食向けに次ぐ柱に育成意向。\n"
     ]
    }
   ],
   "source": [
    "### 最新情報\n",
    "# 指定したcodeの指定した日における株価と各種ファンダメンタルズデータをまとめて標準出力する\n",
    "# pricelist_dfは、raw_pricelistかreviced_pricelistかケースに応じて使い分ける。\n",
    "# def print_finance_quote(\n",
    "#        pricelist_df: pl.DataFrame,\n",
    "#        finance_quote_df: pl.DataFrame,\n",
    "#        code: int, \n",
    "#        valuation_date: date=date.today()\n",
    "#    ) -> None:\n",
    "print_finance_quote(PPL.df, FPL.df, code, valuation_date=valuation_date)\n",
    "print()\n",
    "SPL.print_stock_df(code, num=4, valuation_date=valuation_date)"
   ]
  },
  {
   "cell_type": "code",
   "execution_count": 5,
   "id": "0496d051-66d9-4003-8ca9-71a782b5ec88",
   "metadata": {},
   "outputs": [
    {
     "data": {
      "text/html": [
       "<iframe\n",
       "    scrolling=\"no\"\n",
       "    width=\"100%\"\n",
       "    height=\"545px\"\n",
       "    src=\"iframe_figures/figure_5.html\"\n",
       "    frameborder=\"0\"\n",
       "    allowfullscreen\n",
       "></iframe>\n"
      ]
     },
     "metadata": {},
     "output_type": "display_data"
    }
   ],
   "source": [
    "### 業績推移\n",
    "\n",
    "# KessanFig(\n",
    "#    code: int, \n",
    "#    settlement_type: Literal[\"通期\", \"四半期\"], \n",
    "#    output_target: str = \"jupyter\",\n",
    "#    start_settlement_date: date = date(1900, 1, 1),\n",
    "#    end_settlement_date: date = date(2999, 12, 31)\n",
    "#)\n",
    "\n",
    "KFIG = KessanFig(code, \"通期\", end_settlement_date=valuation_date)\n",
    "KFIG.add_trace_profits()\n",
    "KFIG.fig.show()"
   ]
  },
  {
   "cell_type": "code",
   "execution_count": 6,
   "id": "0fcfaabe-403b-4c14-a9e7-e5a83685dbe4",
   "metadata": {},
   "outputs": [
    {
     "name": "stdout",
     "output_type": "stream",
     "text": [
      "2024-03-31\n"
     ]
    },
    {
     "data": {
      "text/html": [
       "<div><style>\n",
       ".dataframe > thead > tr,\n",
       ".dataframe > tbody > tr {\n",
       "  text-align: right;\n",
       "  white-space: pre-wrap;\n",
       "}\n",
       "</style>\n",
       "<small>shape: (1, 11)</small><table border=\"1\" class=\"dataframe\"><thead><tr><th>code</th><th>settlement_date</th><th>settlement_type</th><th>announcement_date</th><th>sales</th><th>operating_income</th><th>ordinary_profit</th><th>final_profit</th><th>reviced_eps</th><th>dividend</th><th>quater</th></tr><tr><td>i64</td><td>date</td><td>str</td><td>date</td><td>i64</td><td>i64</td><td>i64</td><td>i64</td><td>f64</td><td>f64</td><td>i64</td></tr></thead><tbody><tr><td>2708</td><td>2025-03-31</td><td>&quot;予&quot;</td><td>2024-05-15</td><td>67000</td><td>1400</td><td>1450</td><td>1300</td><td>281.0</td><td>15.0</td><td>4</td></tr></tbody></table></div>"
      ],
      "text/plain": [
       "shape: (1, 11)\n",
       "┌──────┬─────────────┬─────────────┬─────────────┬───┬────────────┬────────────┬──────────┬────────┐\n",
       "│ code ┆ settlement_ ┆ settlement_ ┆ announcemen ┆ … ┆ final_prof ┆ reviced_ep ┆ dividend ┆ quater │\n",
       "│ ---  ┆ date        ┆ type        ┆ t_date      ┆   ┆ it         ┆ s          ┆ ---      ┆ ---    │\n",
       "│ i64  ┆ ---         ┆ ---         ┆ ---         ┆   ┆ ---        ┆ ---        ┆ f64      ┆ i64    │\n",
       "│      ┆ date        ┆ str         ┆ date        ┆   ┆ i64        ┆ f64        ┆          ┆        │\n",
       "╞══════╪═════════════╪═════════════╪═════════════╪═══╪════════════╪════════════╪══════════╪════════╡\n",
       "│ 2708 ┆ 2025-03-31  ┆ 予          ┆ 2024-05-15  ┆ … ┆ 1300       ┆ 281.0      ┆ 15.0     ┆ 4      │\n",
       "└──────┴─────────────┴─────────────┴─────────────┴───┴────────────┴────────────┴──────────┴────────┘"
      ]
     },
     "execution_count": 6,
     "metadata": {},
     "output_type": "execute_result"
    }
   ],
   "source": [
    "# 今季決算予想発表の推移\n",
    "df = KPL.get_settlement_forcast(code, valuation_date)\n",
    "df"
   ]
  },
  {
   "cell_type": "code",
   "execution_count": 7,
   "id": "9640855f-4673-4470-8ef7-5995b03feaa1",
   "metadata": {},
   "outputs": [
    {
     "name": "stdout",
     "output_type": "stream",
     "text": [
      "久世(2708)の通期決算(評価日：2024年12月24日)\n"
     ]
    },
    {
     "data": {
      "text/html": [
       "<div><style>\n",
       ".dataframe > thead > tr,\n",
       ".dataframe > tbody > tr {\n",
       "  text-align: right;\n",
       "  white-space: pre-wrap;\n",
       "}\n",
       "</style>\n",
       "<small>shape: (2, 8)</small><table border=\"1\" class=\"dataframe\"><thead><tr><th>決算期</th><th>決算発表日</th><th>売上高</th><th>営業利益</th><th>経常利益</th><th>純利益</th><th>EPS</th><th>1株配当</th></tr><tr><td>str</td><td>date</td><td>i64</td><td>i64</td><td>i64</td><td>i64</td><td>f64</td><td>f64</td></tr></thead><tbody><tr><td>&quot;2025年3月期(予)&quot;</td><td>2024-05-15</td><td>67000</td><td>1400</td><td>1450</td><td>1300</td><td>281.0</td><td>15.0</td></tr><tr><td>&quot;2024年3月期&quot;</td><td>2024-05-15</td><td>64474</td><td>1861</td><td>1939</td><td>2008</td><td>434.1</td><td>42.0</td></tr></tbody></table></div>"
      ],
      "text/plain": [
       "shape: (2, 8)\n",
       "┌─────────────────┬────────────┬────────┬──────────┬──────────┬────────┬───────┬─────────┐\n",
       "│ 決算期          ┆ 決算発表日 ┆ 売上高 ┆ 営業利益 ┆ 経常利益 ┆ 純利益 ┆ EPS   ┆ 1株配当 │\n",
       "│ ---             ┆ ---        ┆ ---    ┆ ---      ┆ ---      ┆ ---    ┆ ---   ┆ ---     │\n",
       "│ str             ┆ date       ┆ i64    ┆ i64      ┆ i64      ┆ i64    ┆ f64   ┆ f64     │\n",
       "╞═════════════════╪════════════╪════════╪══════════╪══════════╪════════╪═══════╪═════════╡\n",
       "│ 2025年3月期(予) ┆ 2024-05-15 ┆ 67000  ┆ 1400     ┆ 1450     ┆ 1300   ┆ 281.0 ┆ 15.0    │\n",
       "│ 2024年3月期     ┆ 2024-05-15 ┆ 64474  ┆ 1861     ┆ 1939     ┆ 2008   ┆ 434.1 ┆ 42.0    │\n",
       "└─────────────────┴────────────┴────────┴──────────┴──────────┴────────┴───────┴─────────┘"
      ]
     },
     "execution_count": 7,
     "metadata": {},
     "output_type": "execute_result"
    }
   ],
   "source": [
    "### 通期業績、業績予想\n",
    "# def get_df_latest_yearly_performance(code: int, valuation_date: date=date.today()) -> pl.DataFrame:\n",
    "df = get_df_latest_yearly_performance(code, valuation_date)\n",
    "df"
   ]
  },
  {
   "cell_type": "code",
   "execution_count": 8,
   "id": "9ebf91d2-7436-46c3-b035-04a125b60357",
   "metadata": {},
   "outputs": [
    {
     "data": {
      "text/html": [
       "<iframe\n",
       "    scrolling=\"no\"\n",
       "    width=\"100%\"\n",
       "    height=\"545px\"\n",
       "    src=\"iframe_figures/figure_8.html\"\n",
       "    frameborder=\"0\"\n",
       "    allowfullscreen\n",
       "></iframe>\n"
      ]
     },
     "metadata": {},
     "output_type": "display_data"
    },
    {
     "data": {
      "text/html": [
       "<div><style>\n",
       ".dataframe > thead > tr,\n",
       ".dataframe > tbody > tr {\n",
       "  text-align: right;\n",
       "  white-space: pre-wrap;\n",
       "}\n",
       "</style>\n",
       "<small>shape: (8, 11)</small><table border=\"1\" class=\"dataframe\"><thead><tr><th>code</th><th>settlement_date</th><th>settlement_type</th><th>announcement_date</th><th>sales</th><th>operating_income</th><th>ordinary_profit</th><th>final_profit</th><th>reviced_eps</th><th>dividend</th><th>quater</th></tr><tr><td>i64</td><td>date</td><td>str</td><td>date</td><td>i64</td><td>i64</td><td>i64</td><td>i64</td><td>f64</td><td>f64</td><td>i64</td></tr></thead><tbody><tr><td>2708</td><td>2024-09-30</td><td>&quot;四&quot;</td><td>2024-11-14</td><td>16416</td><td>312</td><td>423</td><td>272</td><td>58.8</td><td>1.9</td><td>2</td></tr><tr><td>2708</td><td>2024-06-30</td><td>&quot;四&quot;</td><td>2024-08-14</td><td>17018</td><td>424</td><td>448</td><td>624</td><td>135.0</td><td>2.5</td><td>1</td></tr><tr><td>2708</td><td>2024-03-31</td><td>&quot;四&quot;</td><td>2024-05-15</td><td>15410</td><td>54</td><td>76</td><td>64</td><td>13.8</td><td>0.4</td><td>4</td></tr><tr><td>2708</td><td>2023-12-31</td><td>&quot;四&quot;</td><td>2024-02-14</td><td>17518</td><td>900</td><td>930</td><td>705</td><td>152.5</td><td>5.1</td><td>3</td></tr><tr><td>2708</td><td>2023-09-30</td><td>&quot;四&quot;</td><td>2023-11-14</td><td>16063</td><td>477</td><td>484</td><td>625</td><td>135.1</td><td>3.0</td><td>2</td></tr><tr><td>2708</td><td>2023-06-30</td><td>&quot;四&quot;</td><td>2023-08-14</td><td>15483</td><td>430</td><td>449</td><td>614</td><td>132.8</td><td>2.8</td><td>1</td></tr><tr><td>2708</td><td>2023-03-31</td><td>&quot;四&quot;</td><td>2023-05-15</td><td>14294</td><td>257</td><td>266</td><td>282</td><td>61.4</td><td>1.8</td><td>4</td></tr><tr><td>2708</td><td>2022-12-31</td><td>&quot;四&quot;</td><td>2023-02-10</td><td>15974</td><td>526</td><td>549</td><td>446</td><td>97.2</td><td>3.3</td><td>3</td></tr></tbody></table></div>"
      ],
      "text/plain": [
       "shape: (8, 11)\n",
       "┌──────┬─────────────┬─────────────┬─────────────┬───┬────────────┬────────────┬──────────┬────────┐\n",
       "│ code ┆ settlement_ ┆ settlement_ ┆ announcemen ┆ … ┆ final_prof ┆ reviced_ep ┆ dividend ┆ quater │\n",
       "│ ---  ┆ date        ┆ type        ┆ t_date      ┆   ┆ it         ┆ s          ┆ ---      ┆ ---    │\n",
       "│ i64  ┆ ---         ┆ ---         ┆ ---         ┆   ┆ ---        ┆ ---        ┆ f64      ┆ i64    │\n",
       "│      ┆ date        ┆ str         ┆ date        ┆   ┆ i64        ┆ f64        ┆          ┆        │\n",
       "╞══════╪═════════════╪═════════════╪═════════════╪═══╪════════════╪════════════╪══════════╪════════╡\n",
       "│ 2708 ┆ 2024-09-30  ┆ 四          ┆ 2024-11-14  ┆ … ┆ 272        ┆ 58.8       ┆ 1.9      ┆ 2      │\n",
       "│ 2708 ┆ 2024-06-30  ┆ 四          ┆ 2024-08-14  ┆ … ┆ 624        ┆ 135.0      ┆ 2.5      ┆ 1      │\n",
       "│ 2708 ┆ 2024-03-31  ┆ 四          ┆ 2024-05-15  ┆ … ┆ 64         ┆ 13.8       ┆ 0.4      ┆ 4      │\n",
       "│ 2708 ┆ 2023-12-31  ┆ 四          ┆ 2024-02-14  ┆ … ┆ 705        ┆ 152.5      ┆ 5.1      ┆ 3      │\n",
       "│ 2708 ┆ 2023-09-30  ┆ 四          ┆ 2023-11-14  ┆ … ┆ 625        ┆ 135.1      ┆ 3.0      ┆ 2      │\n",
       "│ 2708 ┆ 2023-06-30  ┆ 四          ┆ 2023-08-14  ┆ … ┆ 614        ┆ 132.8      ┆ 2.8      ┆ 1      │\n",
       "│ 2708 ┆ 2023-03-31  ┆ 四          ┆ 2023-05-15  ┆ … ┆ 282        ┆ 61.4       ┆ 1.8      ┆ 4      │\n",
       "│ 2708 ┆ 2022-12-31  ┆ 四          ┆ 2023-02-10  ┆ … ┆ 446        ┆ 97.2       ┆ 3.3      ┆ 3      │\n",
       "└──────┴─────────────┴─────────────┴─────────────┴───┴────────────┴────────────┴──────────┴────────┘"
      ]
     },
     "execution_count": 8,
     "metadata": {},
     "output_type": "execute_result"
    }
   ],
   "source": [
    "KFIG = KessanFig(code, \"四半期\", end_settlement_date=valuation_date)\n",
    "KFIG.add_trace_profits()\n",
    "KFIG.fig.show()\n",
    "KPL.get_latest_quater_settlement(code, valuation_date)"
   ]
  },
  {
   "cell_type": "code",
   "execution_count": 9,
   "id": "0e6e726c-d77c-464d-8d42-3247af5afba0",
   "metadata": {},
   "outputs": [
    {
     "name": "stdout",
     "output_type": "stream",
     "text": [
      "久世(2708)の2025年3月期第2四半期決算進捗率(評価日：2024-12-24)\n"
     ]
    },
    {
     "data": {
      "text/html": [
       "<iframe\n",
       "    scrolling=\"no\"\n",
       "    width=\"100%\"\n",
       "    height=\"545px\"\n",
       "    src=\"iframe_figures/figure_9.html\"\n",
       "    frameborder=\"0\"\n",
       "    allowfullscreen\n",
       "></iframe>\n"
      ]
     },
     "metadata": {},
     "output_type": "display_data"
    }
   ],
   "source": [
    "# codeで指定した銘柄のevaluation_dateで指定した時点での最新の年度決算予想に基づく\n",
    "# 売上高~純利益の決算進捗率を円グラフで表示するためのfigを返す\n",
    "# from plotly.graph_objects import Figure\n",
    "# def get_fig_expected_performance_progress_rate_pycharts(code: int, evaluation_date: date=date.today()) -> Figure:\n",
    "\n",
    "fig1 = get_fig_expected_performance_progress_rate_pycharts(code, valuation_date)\n",
    "fig1.show()"
   ]
  },
  {
   "cell_type": "code",
   "execution_count": 10,
   "id": "412228f6-95ef-432e-af38-b2301c619c9e",
   "metadata": {},
   "outputs": [
    {
     "name": "stdout",
     "output_type": "stream",
     "text": [
      "久世(2708)の2024年3月期第2四半期決算進捗率(評価日：2023-12-24)\n"
     ]
    },
    {
     "data": {
      "text/html": [
       "<iframe\n",
       "    scrolling=\"no\"\n",
       "    width=\"100%\"\n",
       "    height=\"545px\"\n",
       "    src=\"iframe_figures/figure_10.html\"\n",
       "    frameborder=\"0\"\n",
       "    allowfullscreen\n",
       "></iframe>\n"
      ]
     },
     "metadata": {},
     "output_type": "display_data"
    }
   ],
   "source": [
    "last_year_valuation_date = date(valuation_date.year-1, valuation_date.month, valuation_date.day)\n",
    "\n",
    "# codeで指定した銘柄のevaluation_dateで指定した時点での最新の四半期決算発表に基づく\n",
    "# 売上高~純利益の決算進捗率を円グラフで表示するためのfigを返す\n",
    "# valuation_dateで指定する日において、当年度の本決算が発表されていない日を指定した場合は前期末第4四半期の進捗率を表示するので、進捗率100%で表示される。\n",
    "fig2 = get_fig_actual_performance_progress_rate_pycharts(code, last_year_valuation_date, KPL.df, MPL.df)\n",
    "fig2.show()"
   ]
  },
  {
   "cell_type": "code",
   "execution_count": 11,
   "id": "872ee2f6-4f2a-4c21-9a61-f3f86b442637",
   "metadata": {},
   "outputs": [],
   "source": [
    "#### valuation_dateに過去日を指定した場合、valuation_dateを含む期の株価推移\n",
    "#### 答え合わせ"
   ]
  },
  {
   "cell_type": "code",
   "execution_count": 12,
   "id": "2860596f-c601-466f-bb47-327efd7811f9",
   "metadata": {},
   "outputs": [
    {
     "data": {
      "text/html": [
       "<iframe\n",
       "    scrolling=\"no\"\n",
       "    width=\"100%\"\n",
       "    height=\"620\"\n",
       "    src=\"iframe_figures/figure_12.html\"\n",
       "    frameborder=\"0\"\n",
       "    allowfullscreen\n",
       "></iframe>\n"
      ]
     },
     "metadata": {},
     "output_type": "display_data"
    }
   ],
   "source": [
    "# 株価推移\n",
    "# 前期算発表翌営業日～今期決算発表日翌営業日\n",
    "start_date, end_date = KPL.get_current_settlement_period_by_announcement_date(code, valuation_date, \"四\")\n",
    "\n",
    "df = RevPPL.df.filter(pl.col(\"code\")==code).filter(pl.col(\"date\")>start_date)\n",
    "start_date = df[\"date\"].to_list()[0]\n",
    "\n",
    "df = RevPPL.df.filter(pl.col(\"code\")==code).filter(pl.col(\"date\")>end_date)\n",
    "if not end_date == date(2999, 12, 31):\n",
    "    end_date = df[\"date\"].to_list()[0]\n",
    "\n",
    "PFIG = PricelistFig(code, RevPPL.df, MPL.df, start_date, end_date)\n",
    "df = RevPPL.df.filter(pl.col(\"code\")==code).filter(pl.col(\"date\")<=valuation_date)\n",
    "vline_date = df[\"date\"].to_list()[-1]\n",
    "PFIG.add_vline(vline_date)\n",
    "PFIG.fig.show()"
   ]
  },
  {
   "cell_type": "code",
   "execution_count": 13,
   "id": "4d964308-8c7a-4624-8e20-5acb7823d0c8",
   "metadata": {},
   "outputs": [
    {
     "data": {
      "text/html": [
       "<div><style>\n",
       ".dataframe > thead > tr,\n",
       ".dataframe > tbody > tr {\n",
       "  text-align: right;\n",
       "  white-space: pre-wrap;\n",
       "}\n",
       "</style>\n",
       "<small>shape: (7, 11)</small><table border=\"1\" class=\"dataframe\"><thead><tr><th>code</th><th>settlement_date</th><th>settlement_type</th><th>announcement_date</th><th>sales</th><th>operating_income</th><th>ordinary_profit</th><th>final_profit</th><th>reviced_eps</th><th>dividend</th><th>quater</th></tr><tr><td>i64</td><td>date</td><td>str</td><td>date</td><td>i64</td><td>i64</td><td>i64</td><td>i64</td><td>f64</td><td>f64</td><td>i64</td></tr></thead><tbody><tr><td>2708</td><td>2023-12-31</td><td>&quot;四&quot;</td><td>2024-02-14</td><td>17518</td><td>900</td><td>930</td><td>705</td><td>152.5</td><td>5.1</td><td>3</td></tr><tr><td>2708</td><td>2024-03-31</td><td>&quot;予&quot;</td><td>2024-02-27</td><td>65000</td><td>1700</td><td>1730</td><td>1740</td><td>376.1</td><td>42.0</td><td>4</td></tr><tr><td>2708</td><td>2024-03-31</td><td>&quot;四&quot;</td><td>2024-05-15</td><td>15410</td><td>54</td><td>76</td><td>64</td><td>13.8</td><td>0.4</td><td>4</td></tr><tr><td>2708</td><td>2025-03-31</td><td>&quot;予&quot;</td><td>2024-05-15</td><td>67000</td><td>1400</td><td>1450</td><td>1300</td><td>281.0</td><td>15.0</td><td>4</td></tr><tr><td>2708</td><td>2024-03-31</td><td>&quot;本&quot;</td><td>2024-05-15</td><td>64474</td><td>1861</td><td>1939</td><td>2008</td><td>434.1</td><td>42.0</td><td>4</td></tr><tr><td>2708</td><td>2024-06-30</td><td>&quot;四&quot;</td><td>2024-08-14</td><td>17018</td><td>424</td><td>448</td><td>624</td><td>135.0</td><td>2.5</td><td>1</td></tr><tr><td>2708</td><td>2024-09-30</td><td>&quot;四&quot;</td><td>2024-11-14</td><td>16416</td><td>312</td><td>423</td><td>272</td><td>58.8</td><td>1.9</td><td>2</td></tr></tbody></table></div>"
      ],
      "text/plain": [
       "shape: (7, 11)\n",
       "┌──────┬─────────────┬─────────────┬─────────────┬───┬────────────┬────────────┬──────────┬────────┐\n",
       "│ code ┆ settlement_ ┆ settlement_ ┆ announcemen ┆ … ┆ final_prof ┆ reviced_ep ┆ dividend ┆ quater │\n",
       "│ ---  ┆ date        ┆ type        ┆ t_date      ┆   ┆ it         ┆ s          ┆ ---      ┆ ---    │\n",
       "│ i64  ┆ ---         ┆ ---         ┆ ---         ┆   ┆ ---        ┆ ---        ┆ f64      ┆ i64    │\n",
       "│      ┆ date        ┆ str         ┆ date        ┆   ┆ i64        ┆ f64        ┆          ┆        │\n",
       "╞══════╪═════════════╪═════════════╪═════════════╪═══╪════════════╪════════════╪══════════╪════════╡\n",
       "│ 2708 ┆ 2023-12-31  ┆ 四          ┆ 2024-02-14  ┆ … ┆ 705        ┆ 152.5      ┆ 5.1      ┆ 3      │\n",
       "│ 2708 ┆ 2024-03-31  ┆ 予          ┆ 2024-02-27  ┆ … ┆ 1740       ┆ 376.1      ┆ 42.0     ┆ 4      │\n",
       "│ 2708 ┆ 2024-03-31  ┆ 四          ┆ 2024-05-15  ┆ … ┆ 64         ┆ 13.8       ┆ 0.4      ┆ 4      │\n",
       "│ 2708 ┆ 2025-03-31  ┆ 予          ┆ 2024-05-15  ┆ … ┆ 1300       ┆ 281.0      ┆ 15.0     ┆ 4      │\n",
       "│ 2708 ┆ 2024-03-31  ┆ 本          ┆ 2024-05-15  ┆ … ┆ 2008       ┆ 434.1      ┆ 42.0     ┆ 4      │\n",
       "│ 2708 ┆ 2024-06-30  ┆ 四          ┆ 2024-08-14  ┆ … ┆ 624        ┆ 135.0      ┆ 2.5      ┆ 1      │\n",
       "│ 2708 ┆ 2024-09-30  ┆ 四          ┆ 2024-11-14  ┆ … ┆ 272        ┆ 58.8       ┆ 1.9      ┆ 2      │\n",
       "└──────┴─────────────┴─────────────┴─────────────┴───┴────────────┴────────────┴──────────┴────────┘"
      ]
     },
     "execution_count": 13,
     "metadata": {},
     "output_type": "execute_result"
    }
   ],
   "source": [
    "# appendix\n",
    "KPL.df.filter(pl.col(\"code\")==code).filter(pl.col(\"announcement_date\")>=date(2024,1,1))"
   ]
  },
  {
   "cell_type": "code",
   "execution_count": 14,
   "id": "d962c1ec-5c5d-4ffb-a764-555827da2557",
   "metadata": {},
   "outputs": [
    {
     "data": {
      "text/html": [
       "<iframe\n",
       "    scrolling=\"no\"\n",
       "    width=\"100%\"\n",
       "    height=\"620\"\n",
       "    src=\"iframe_figures/figure_14.html\"\n",
       "    frameborder=\"0\"\n",
       "    allowfullscreen\n",
       "></iframe>\n"
      ]
     },
     "metadata": {},
     "output_type": "display_data"
    }
   ],
   "source": [
    "PFIG = PricelistFig(code, RevPPL.df, MPL.df, date(2023, 12, 1), date.today())\n",
    "PFIG.fig.show()"
   ]
  },
  {
   "cell_type": "code",
   "execution_count": 15,
   "id": "ad4d6b8a-bd0b-4c2c-95ac-6026931a06a3",
   "metadata": {},
   "outputs": [
    {
     "data": {
      "text/html": [
       "<div><style>\n",
       ".dataframe > thead > tr,\n",
       ".dataframe > tbody > tr {\n",
       "  text-align: right;\n",
       "  white-space: pre-wrap;\n",
       "}\n",
       "</style>\n",
       "<small>shape: (0, 5)</small><table border=\"1\" class=\"dataframe\"><thead><tr><th>code</th><th>date</th><th>unsold_margin</th><th>purchase_margin</th><th>margin_ratio</th></tr><tr><td>i64</td><td>date</td><td>i64</td><td>i64</td><td>f64</td></tr></thead><tbody></tbody></table></div>"
      ],
      "text/plain": [
       "shape: (0, 5)\n",
       "┌──────┬──────┬───────────────┬─────────────────┬──────────────┐\n",
       "│ code ┆ date ┆ unsold_margin ┆ purchase_margin ┆ margin_ratio │\n",
       "│ ---  ┆ ---  ┆ ---           ┆ ---             ┆ ---          │\n",
       "│ i64  ┆ date ┆ i64           ┆ i64             ┆ f64          │\n",
       "╞══════╪══════╪═══════════════╪═════════════════╪══════════════╡\n",
       "└──────┴──────┴───────────────┴─────────────────┴──────────────┘"
      ]
     },
     "execution_count": 15,
     "metadata": {},
     "output_type": "execute_result"
    }
   ],
   "source": [
    "from lib_dataprocess import CreditbalancePl\n",
    "\n",
    "CPL = CreditbalancePl()\n",
    "CPL.with_columns_margin_ratio()\n",
    "CPL.df.filter(pl.col(\"code\")==code)"
   ]
  },
  {
   "cell_type": "code",
   "execution_count": null,
   "id": "ac32eb0a-3f87-48a7-9b80-52cf651e44b4",
   "metadata": {},
   "outputs": [],
   "source": []
  }
 ],
 "metadata": {
  "kernelspec": {
   "display_name": "Python 3 (ipykernel)",
   "language": "python",
   "name": "python3"
  },
  "language_info": {
   "codemirror_mode": {
    "name": "ipython",
    "version": 3
   },
   "file_extension": ".py",
   "mimetype": "text/x-python",
   "name": "python",
   "nbconvert_exporter": "python",
   "pygments_lexer": "ipython3",
   "version": "3.12.3"
  }
 },
 "nbformat": 4,
 "nbformat_minor": 5
}
