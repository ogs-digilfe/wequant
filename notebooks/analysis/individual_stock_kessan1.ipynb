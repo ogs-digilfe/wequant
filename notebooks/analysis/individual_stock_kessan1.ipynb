{
 "cells": [
  {
   "cell_type": "code",
   "execution_count": 1,
   "id": "72fe6020-2485-4d19-ba64-b2929df1c64f",
   "metadata": {},
   "outputs": [],
   "source": [
    "# valuation_date時におけるcodeで指定した銘柄の個別銘柄分析\n",
    "# SBI証券のモバイルの銘柄分析を参考に作成"
   ]
  },
  {
   "cell_type": "code",
   "execution_count": 2,
   "id": "4c3ea513-3b75-4b72-be31-8271db72c241",
   "metadata": {},
   "outputs": [],
   "source": [
    "### パラメータ設定セル\n",
    "from datetime import date\n",
    "from dateutil.relativedelta import relativedelta\n",
    "\n",
    "# パラメータをセット\n",
    "# code: 証券コード\n",
    "# valuation_date: 過去にさかのぼって評価日をdatetime.dateでセット可能。デフォルト値は今日(date.today())\n",
    "code = 4478\n",
    "valuation_date = date.today()\n",
    "# valuation_date = date(2024, 7, 30)\n"
   ]
  },
  {
   "cell_type": "code",
   "execution_count": 3,
   "id": "0fa30969-b1dd-4795-8ca4-8bb63e06f211",
   "metadata": {},
   "outputs": [],
   "source": [
    "# 読み込みファイルパスの設定とimportしたいmoduleパス(pythonパス)の設定\n",
    "from pathlib import Path\n",
    "import os, sys\n",
    "\n",
    "CURRENT_DIR = Path(os.getcwd())\n",
    "PJ_DIR = CURRENT_DIR.parent.parent\n",
    "LIB_DIR = PJ_DIR / \"lib\"\n",
    "DATA_DIR = PJ_DIR / \"data\" \n",
    "\n",
    "sys.path.append(str(LIB_DIR))\n",
    "\n",
    "# notebook内で利用するmoduleのimport\n",
    "from lib_dataprocess import PricelistPl, FinancequotePl, KessanPl, KessanFig, PricelistFig, read_data, get_df_latest_yearly_performance, get_latest_stockprice, print_finance_quote\n",
    "from lib_dataprocess import get_fig_expected_performance_progress_rate_pycharts, MeigaralistPl, get_fig_actual_performance_progress_rate_pycharts, ShikihoPl\n",
    "import polars as pl\n",
    "\n",
    "# dataの読み込み\n",
    "fp = DATA_DIR/\"raw_pricelist.parquet\"\n",
    "df = read_data(fp)\n",
    "PPL = PricelistPl(df)\n",
    "\n",
    "# dataの読み込み\n",
    "fp = DATA_DIR/\"reviced_pricelist.parquet\"\n",
    "df = read_data(fp)\n",
    "RevPPL = PricelistPl(df)\n",
    "\n",
    "fp = DATA_DIR/\"finance_quote.parquet\"\n",
    "df = read_data(fp)\n",
    "FPL = FinancequotePl(df)\n",
    "FPL.with_columns_market_cap()\n",
    "\n",
    "fp = DATA_DIR/\"kessan.parquet\"\n",
    "df = read_data(fp)\n",
    "KPL = KessanPl(df)\n",
    "\n",
    "fp = DATA_DIR/\"meigaralist.parquet\"\n",
    "df = read_data(fp)\n",
    "MPL = MeigaralistPl(df)\n",
    "\n",
    "fp = DATA_DIR/\"shikiho.parquet\"\n",
    "df = read_data(fp)\n",
    "SPL = ShikihoPl(df)"
   ]
  },
  {
   "cell_type": "code",
   "execution_count": 4,
   "id": "12cca2e1-9577-4b88-a042-170da054f42b",
   "metadata": {},
   "outputs": [
    {
     "name": "stdout",
     "output_type": "stream",
     "text": [
      "フリー(4478)の銘柄情報\n",
      "\n",
      "終値: 3135.0円(2024年12月27日)\n",
      "予想配当利回り: 0.0%(2024年12月27日)\n",
      "予想PER: None倍(2024年12月27日)\n",
      "実績PBR: 10.9倍(2024年12月27日)\n",
      "自己資本比率: 42.0%(2024年12月27日)\n",
      "予想ROE: 決算予想がないため、表示不可\n",
      "予想ROA: 決算予想がないため、表示不可\n",
      "時価総額: 1845.3億円(2024年12月27日)\n",
      "\n",
      "4478(フリー)の四季報データ履歴\n",
      "\n",
      "発行日: 2024年12月18日\n",
      "【均衡圏】\n",
      "  柱のERPは人事労務が人気で、中堅企業の追加契約が順調。中小向けの値上げも寄与。開発費の資産計上再開による押し上げ効果が想定超。営業損益均衡圏まで増額。買収時の一括減損特損消える。\n",
      "【加速】\n",
      "  会計事務所経由の新規加入が増加。今後も税務申告や使い勝手などの機能強化を継続。25年6月期の従業員は純増100～200人に抑制(前期は423人)。\n",
      "\n",
      "発行日: 2024年09月13日\n",
      "【黒字近づく】\n",
      "  柱のERPは中堅企業の追加契約が順調に推移、一部製品の値上げも寄与。個人向け堅調増。増収効果と広告宣伝費圧縮、開発費の資産計上などで営業赤字幅が急減。買収時の一括減損特損消える。\n",
      "【効率化】\n",
      "  請求書や法人カードの従量課金型、顧客自身による追加購入など営業の効率化を模索。制度対応が一服、蓄積した見込み客への再提案に重点置いて生産性向上。\n",
      "\n",
      "発行日: 2024年06月14日\n",
      "【赤字激減】\n",
      "  高単価な中堅企業向けが順調増。人員増や広告費増などの先行費用重い。25年6月期は中堅企業の追加契約が大幅増。費用増も徹底的に抑制し、営業赤字幅は急縮小。買収関連の減損特損消える。\n",
      "【転換点】\n",
      "  25年6月期に調整後利益で上場後初の黒字化が視野。開発費の資産計上開始、固定資産や買収時のれんの毎四半期減損処理も終了。7月に会計製品を価格改定。\n",
      "\n",
      "発行日: 2024年03月16日\n",
      "【赤字続く】\n",
      "  制度改正を背景に高単価の中堅企業向けが順調増。ただ人員増や広告費増などの先行費用重い。なお営業赤字。買収関連特損。25年6月期は追加契約が大幅増。費用増負担も一服。赤字幅急縮小。\n",
      "【借り入れ】\n",
      "  25年6月期に調整後利益で黒字化視野。32億円を借り入れ、カード事業強化。決済から証憑回収、仕訳まで一貫提供。山梨中央銀行と提携、域内DX推進。\n"
     ]
    }
   ],
   "source": [
    "### 最新情報\n",
    "# 指定したcodeの指定した日における株価と各種ファンダメンタルズデータをまとめて標準出力する\n",
    "# pricelist_dfは、raw_pricelistかreviced_pricelistかケースに応じて使い分ける。\n",
    "# def print_finance_quote(\n",
    "#        pricelist_df: pl.DataFrame,\n",
    "#        finance_quote_df: pl.DataFrame,\n",
    "#        code: int, \n",
    "#        valuation_date: date=date.today()\n",
    "#    ) -> None:\n",
    "print_finance_quote(PPL.df, FPL.df, code, valuation_date=valuation_date)\n",
    "print()\n",
    "SPL.print_stock_df(code, num=4, valuation_date=valuation_date)"
   ]
  },
  {
   "cell_type": "code",
   "execution_count": 5,
   "id": "0496d051-66d9-4003-8ca9-71a782b5ec88",
   "metadata": {},
   "outputs": [
    {
     "data": {
      "text/html": [
       "<iframe\n",
       "    scrolling=\"no\"\n",
       "    width=\"100%\"\n",
       "    height=\"545px\"\n",
       "    src=\"iframe_figures/figure_5.html\"\n",
       "    frameborder=\"0\"\n",
       "    allowfullscreen\n",
       "></iframe>\n"
      ]
     },
     "metadata": {},
     "output_type": "display_data"
    }
   ],
   "source": [
    "### 業績推移\n",
    "\n",
    "# KessanFig(\n",
    "#    code: int, \n",
    "#    settlement_type: Literal[\"通期\", \"四半期\"], \n",
    "#    output_target: str = \"jupyter\",\n",
    "#    start_settlement_date: date = date(1900, 1, 1),\n",
    "#    end_settlement_date: date = date(2999, 12, 31)\n",
    "#)\n",
    "\n",
    "KFIG = KessanFig(code, \"通期\", end_settlement_date=valuation_date)\n",
    "KFIG.add_trace_profits()\n",
    "KFIG.fig.show()"
   ]
  },
  {
   "cell_type": "code",
   "execution_count": 6,
   "id": "0fcfaabe-403b-4c14-a9e7-e5a83685dbe4",
   "metadata": {},
   "outputs": [
    {
     "data": {
      "text/html": [
       "<div><style>\n",
       ".dataframe > thead > tr,\n",
       ".dataframe > tbody > tr {\n",
       "  text-align: right;\n",
       "  white-space: pre-wrap;\n",
       "}\n",
       "</style>\n",
       "<small>shape: (0, 11)</small><table border=\"1\" class=\"dataframe\"><thead><tr><th>code</th><th>settlement_date</th><th>settlement_type</th><th>announcement_date</th><th>sales</th><th>operating_income</th><th>ordinary_profit</th><th>final_profit</th><th>reviced_eps</th><th>dividend</th><th>quater</th></tr><tr><td>i64</td><td>date</td><td>str</td><td>date</td><td>i64</td><td>i64</td><td>i64</td><td>i64</td><td>f64</td><td>f64</td><td>i64</td></tr></thead><tbody></tbody></table></div>"
      ],
      "text/plain": [
       "shape: (0, 11)\n",
       "┌──────┬─────────────┬─────────────┬─────────────┬───┬────────────┬────────────┬──────────┬────────┐\n",
       "│ code ┆ settlement_ ┆ settlement_ ┆ announcemen ┆ … ┆ final_prof ┆ reviced_ep ┆ dividend ┆ quater │\n",
       "│ ---  ┆ date        ┆ type        ┆ t_date      ┆   ┆ it         ┆ s          ┆ ---      ┆ ---    │\n",
       "│ i64  ┆ ---         ┆ ---         ┆ ---         ┆   ┆ ---        ┆ ---        ┆ f64      ┆ i64    │\n",
       "│      ┆ date        ┆ str         ┆ date        ┆   ┆ i64        ┆ f64        ┆          ┆        │\n",
       "╞══════╪═════════════╪═════════════╪═════════════╪═══╪════════════╪════════════╪══════════╪════════╡\n",
       "└──────┴─────────────┴─────────────┴─────────────┴───┴────────────┴────────────┴──────────┴────────┘"
      ]
     },
     "execution_count": 6,
     "metadata": {},
     "output_type": "execute_result"
    }
   ],
   "source": [
    "# 今季決算予想発表の推移\n",
    "df = KPL.get_settlement_forcast(code, valuation_date)\n",
    "df"
   ]
  },
  {
   "cell_type": "code",
   "execution_count": 7,
   "id": "9640855f-4673-4470-8ef7-5995b03feaa1",
   "metadata": {},
   "outputs": [
    {
     "name": "stdout",
     "output_type": "stream",
     "text": [
      "フリー(4478)の通期決算(評価日：2024年12月28日)\n"
     ]
    },
    {
     "data": {
      "text/html": [
       "<div><style>\n",
       ".dataframe > thead > tr,\n",
       ".dataframe > tbody > tr {\n",
       "  text-align: right;\n",
       "  white-space: pre-wrap;\n",
       "}\n",
       "</style>\n",
       "<small>shape: (1, 8)</small><table border=\"1\" class=\"dataframe\"><thead><tr><th>決算期</th><th>決算発表日</th><th>売上高</th><th>営業利益</th><th>経常利益</th><th>純利益</th><th>EPS</th><th>1株配当</th></tr><tr><td>str</td><td>date</td><td>i64</td><td>i64</td><td>i64</td><td>i64</td><td>f64</td><td>f64</td></tr></thead><tbody><tr><td>&quot;2024年6月期&quot;</td><td>2024-08-14</td><td>25430</td><td>-8386</td><td>-8638</td><td>-10150</td><td>-174.4</td><td>0.0</td></tr></tbody></table></div>"
      ],
      "text/plain": [
       "shape: (1, 8)\n",
       "┌─────────────┬────────────┬────────┬──────────┬──────────┬────────┬────────┬─────────┐\n",
       "│ 決算期      ┆ 決算発表日 ┆ 売上高 ┆ 営業利益 ┆ 経常利益 ┆ 純利益 ┆ EPS    ┆ 1株配当 │\n",
       "│ ---         ┆ ---        ┆ ---    ┆ ---      ┆ ---      ┆ ---    ┆ ---    ┆ ---     │\n",
       "│ str         ┆ date       ┆ i64    ┆ i64      ┆ i64      ┆ i64    ┆ f64    ┆ f64     │\n",
       "╞═════════════╪════════════╪════════╪══════════╪══════════╪════════╪════════╪═════════╡\n",
       "│ 2024年6月期 ┆ 2024-08-14 ┆ 25430  ┆ -8386    ┆ -8638    ┆ -10150 ┆ -174.4 ┆ 0.0     │\n",
       "└─────────────┴────────────┴────────┴──────────┴──────────┴────────┴────────┴─────────┘"
      ]
     },
     "execution_count": 7,
     "metadata": {},
     "output_type": "execute_result"
    }
   ],
   "source": [
    "### 通期業績、業績予想\n",
    "# def get_df_latest_yearly_performance(code: int, valuation_date: date=date.today()) -> pl.DataFrame:\n",
    "df = get_df_latest_yearly_performance(code, valuation_date)\n",
    "df"
   ]
  },
  {
   "cell_type": "code",
   "execution_count": 8,
   "id": "9ebf91d2-7436-46c3-b035-04a125b60357",
   "metadata": {},
   "outputs": [
    {
     "data": {
      "text/html": [
       "<iframe\n",
       "    scrolling=\"no\"\n",
       "    width=\"100%\"\n",
       "    height=\"545px\"\n",
       "    src=\"iframe_figures/figure_8.html\"\n",
       "    frameborder=\"0\"\n",
       "    allowfullscreen\n",
       "></iframe>\n"
      ]
     },
     "metadata": {},
     "output_type": "display_data"
    },
    {
     "data": {
      "text/html": [
       "<div><style>\n",
       ".dataframe > thead > tr,\n",
       ".dataframe > tbody > tr {\n",
       "  text-align: right;\n",
       "  white-space: pre-wrap;\n",
       "}\n",
       "</style>\n",
       "<small>shape: (8, 11)</small><table border=\"1\" class=\"dataframe\"><thead><tr><th>code</th><th>settlement_date</th><th>settlement_type</th><th>announcement_date</th><th>sales</th><th>operating_income</th><th>ordinary_profit</th><th>final_profit</th><th>reviced_eps</th><th>dividend</th><th>quater</th></tr><tr><td>i64</td><td>date</td><td>str</td><td>date</td><td>i64</td><td>i64</td><td>i64</td><td>i64</td><td>f64</td><td>f64</td><td>i64</td></tr></thead><tbody><tr><td>4478</td><td>2024-09-30</td><td>&quot;四&quot;</td><td>2024-11-14</td><td>7376</td><td>213</td><td>163</td><td>169</td><td>2.9</td><td>2.9</td><td>1</td></tr><tr><td>4478</td><td>2024-06-30</td><td>&quot;四&quot;</td><td>2024-08-14</td><td>7007</td><td>-1426</td><td>-1465</td><td>-1514</td><td>-26.0</td><td>-20.4</td><td>4</td></tr><tr><td>4478</td><td>2024-03-31</td><td>&quot;四&quot;</td><td>2024-05-15</td><td>6652</td><td>-2245</td><td>-2289</td><td>-2430</td><td>-41.8</td><td>-33.7</td><td>3</td></tr><tr><td>4478</td><td>2023-12-31</td><td>&quot;四&quot;</td><td>2024-02-14</td><td>6051</td><td>-2641</td><td>-2758</td><td>-3918</td><td>-67.5</td><td>-43.6</td><td>2</td></tr><tr><td>4478</td><td>2023-09-30</td><td>&quot;四&quot;</td><td>2023-11-14</td><td>5720</td><td>-2074</td><td>-2126</td><td>-2288</td><td>-39.5</td><td>-36.3</td><td>1</td></tr><tr><td>4478</td><td>2023-06-30</td><td>&quot;四&quot;</td><td>2023-08-14</td><td>5406</td><td>-3216</td><td>-3225</td><td>-4495</td><td>-78.6</td><td>-59.5</td><td>4</td></tr><tr><td>4478</td><td>2023-03-31</td><td>&quot;四&quot;</td><td>2023-05-15</td><td>5095</td><td>-2080</td><td>-2099</td><td>-2957</td><td>-51.8</td><td>-40.8</td><td>3</td></tr><tr><td>4478</td><td>2022-12-31</td><td>&quot;四&quot;</td><td>2023-02-14</td><td>4480</td><td>-1452</td><td>-1461</td><td>-1620</td><td>-28.5</td><td>-32.4</td><td>2</td></tr></tbody></table></div>"
      ],
      "text/plain": [
       "shape: (8, 11)\n",
       "┌──────┬─────────────┬─────────────┬─────────────┬───┬────────────┬────────────┬──────────┬────────┐\n",
       "│ code ┆ settlement_ ┆ settlement_ ┆ announcemen ┆ … ┆ final_prof ┆ reviced_ep ┆ dividend ┆ quater │\n",
       "│ ---  ┆ date        ┆ type        ┆ t_date      ┆   ┆ it         ┆ s          ┆ ---      ┆ ---    │\n",
       "│ i64  ┆ ---         ┆ ---         ┆ ---         ┆   ┆ ---        ┆ ---        ┆ f64      ┆ i64    │\n",
       "│      ┆ date        ┆ str         ┆ date        ┆   ┆ i64        ┆ f64        ┆          ┆        │\n",
       "╞══════╪═════════════╪═════════════╪═════════════╪═══╪════════════╪════════════╪══════════╪════════╡\n",
       "│ 4478 ┆ 2024-09-30  ┆ 四          ┆ 2024-11-14  ┆ … ┆ 169        ┆ 2.9        ┆ 2.9      ┆ 1      │\n",
       "│ 4478 ┆ 2024-06-30  ┆ 四          ┆ 2024-08-14  ┆ … ┆ -1514      ┆ -26.0      ┆ -20.4    ┆ 4      │\n",
       "│ 4478 ┆ 2024-03-31  ┆ 四          ┆ 2024-05-15  ┆ … ┆ -2430      ┆ -41.8      ┆ -33.7    ┆ 3      │\n",
       "│ 4478 ┆ 2023-12-31  ┆ 四          ┆ 2024-02-14  ┆ … ┆ -3918      ┆ -67.5      ┆ -43.6    ┆ 2      │\n",
       "│ 4478 ┆ 2023-09-30  ┆ 四          ┆ 2023-11-14  ┆ … ┆ -2288      ┆ -39.5      ┆ -36.3    ┆ 1      │\n",
       "│ 4478 ┆ 2023-06-30  ┆ 四          ┆ 2023-08-14  ┆ … ┆ -4495      ┆ -78.6      ┆ -59.5    ┆ 4      │\n",
       "│ 4478 ┆ 2023-03-31  ┆ 四          ┆ 2023-05-15  ┆ … ┆ -2957      ┆ -51.8      ┆ -40.8    ┆ 3      │\n",
       "│ 4478 ┆ 2022-12-31  ┆ 四          ┆ 2023-02-14  ┆ … ┆ -1620      ┆ -28.5      ┆ -32.4    ┆ 2      │\n",
       "└──────┴─────────────┴─────────────┴─────────────┴───┴────────────┴────────────┴──────────┴────────┘"
      ]
     },
     "execution_count": 8,
     "metadata": {},
     "output_type": "execute_result"
    }
   ],
   "source": [
    "KFIG = KessanFig(code, \"四半期\", end_settlement_date=valuation_date)\n",
    "KFIG.add_trace_profits()\n",
    "KFIG.fig.show()\n",
    "KPL.get_latest_quater_settlement(code, valuation_date)"
   ]
  },
  {
   "cell_type": "code",
   "execution_count": 9,
   "id": "0e6e726c-d77c-464d-8d42-3247af5afba0",
   "metadata": {},
   "outputs": [
    {
     "name": "stdout",
     "output_type": "stream",
     "text": [
      "2024-12-28におけるフリー(4478)の2025年6月期の決算予想が公表されていないため、決算進捗率を表示できません。\n",
      "フリー(4478)の2025年6月期第1四半期決算進捗率(評価日：2024-12-28)\n"
     ]
    },
    {
     "data": {
      "text/html": [
       "<iframe\n",
       "    scrolling=\"no\"\n",
       "    width=\"100%\"\n",
       "    height=\"545px\"\n",
       "    src=\"iframe_figures/figure_9.html\"\n",
       "    frameborder=\"0\"\n",
       "    allowfullscreen\n",
       "></iframe>\n"
      ]
     },
     "metadata": {},
     "output_type": "display_data"
    }
   ],
   "source": [
    "# codeで指定した銘柄のevaluation_dateで指定した時点での最新の年度決算予想に基づく\n",
    "# 売上高~純利益の決算進捗率を円グラフで表示するためのfigを返す\n",
    "# from plotly.graph_objects import Figure\n",
    "# def get_fig_expected_performance_progress_rate_pycharts(code: int, evaluation_date: date=date.today()) -> Figure:\n",
    "\n",
    "fig1 = get_fig_expected_performance_progress_rate_pycharts(code, valuation_date)\n",
    "fig1.show()"
   ]
  },
  {
   "cell_type": "code",
   "execution_count": 10,
   "id": "412228f6-95ef-432e-af38-b2301c619c9e",
   "metadata": {},
   "outputs": [
    {
     "name": "stdout",
     "output_type": "stream",
     "text": [
      "フリー(4478)の2024年6月期第1四半期決算進捗率(評価日：2023-12-28)\n"
     ]
    },
    {
     "data": {
      "text/html": [
       "<iframe\n",
       "    scrolling=\"no\"\n",
       "    width=\"100%\"\n",
       "    height=\"545px\"\n",
       "    src=\"iframe_figures/figure_10.html\"\n",
       "    frameborder=\"0\"\n",
       "    allowfullscreen\n",
       "></iframe>\n"
      ]
     },
     "metadata": {},
     "output_type": "display_data"
    }
   ],
   "source": [
    "last_year_valuation_date = date(valuation_date.year-1, valuation_date.month, valuation_date.day)\n",
    "\n",
    "# codeで指定した銘柄のevaluation_dateで指定した時点での最新の四半期決算発表に基づく\n",
    "# 売上高~純利益の決算進捗率を円グラフで表示するためのfigを返す\n",
    "# valuation_dateで指定する日において、当年度の本決算が発表されていない日を指定した場合は前期末第4四半期の進捗率を表示するので、進捗率100%で表示される。\n",
    "fig2 = get_fig_actual_performance_progress_rate_pycharts(code, last_year_valuation_date, KPL.df, MPL.df)\n",
    "fig2.show()"
   ]
  },
  {
   "cell_type": "code",
   "execution_count": 11,
   "id": "872ee2f6-4f2a-4c21-9a61-f3f86b442637",
   "metadata": {},
   "outputs": [],
   "source": [
    "#### valuation_dateに過去日を指定した場合、valuation_dateを含む期の株価推移\n",
    "#### 答え合わせ"
   ]
  },
  {
   "cell_type": "code",
   "execution_count": 12,
   "id": "2860596f-c601-466f-bb47-327efd7811f9",
   "metadata": {},
   "outputs": [
    {
     "data": {
      "text/html": [
       "<iframe\n",
       "    scrolling=\"no\"\n",
       "    width=\"100%\"\n",
       "    height=\"620\"\n",
       "    src=\"iframe_figures/figure_12.html\"\n",
       "    frameborder=\"0\"\n",
       "    allowfullscreen\n",
       "></iframe>\n"
      ]
     },
     "metadata": {},
     "output_type": "display_data"
    }
   ],
   "source": [
    "# 株価推移\n",
    "# 前期算発表翌営業日～今期決算発表日翌営業日\n",
    "start_date, end_date = KPL.get_current_settlement_period_by_announcement_date(code, valuation_date, \"四\")\n",
    "\n",
    "df = RevPPL.df.filter(pl.col(\"code\")==code).filter(pl.col(\"date\")>start_date)\n",
    "start_date = df[\"date\"].to_list()[0]\n",
    "\n",
    "df = RevPPL.df.filter(pl.col(\"code\")==code).filter(pl.col(\"date\")>end_date)\n",
    "if not end_date == date(2999, 12, 31):\n",
    "    end_date = df[\"date\"].to_list()[0]\n",
    "\n",
    "PFIG = PricelistFig(code, RevPPL.df, MPL.df, start_date, end_date)\n",
    "df = RevPPL.df.filter(pl.col(\"code\")==code).filter(pl.col(\"date\")<=valuation_date)\n",
    "vline_date = df[\"date\"].to_list()[-1]\n",
    "PFIG.add_vline(vline_date)\n",
    "PFIG.fig.show()"
   ]
  },
  {
   "cell_type": "code",
   "execution_count": 13,
   "id": "4d964308-8c7a-4624-8e20-5acb7823d0c8",
   "metadata": {},
   "outputs": [
    {
     "data": {
      "text/html": [
       "<div><style>\n",
       ".dataframe > thead > tr,\n",
       ".dataframe > tbody > tr {\n",
       "  text-align: right;\n",
       "  white-space: pre-wrap;\n",
       "}\n",
       "</style>\n",
       "<small>shape: (5, 11)</small><table border=\"1\" class=\"dataframe\"><thead><tr><th>code</th><th>settlement_date</th><th>settlement_type</th><th>announcement_date</th><th>sales</th><th>operating_income</th><th>ordinary_profit</th><th>final_profit</th><th>reviced_eps</th><th>dividend</th><th>quater</th></tr><tr><td>i64</td><td>date</td><td>str</td><td>date</td><td>i64</td><td>i64</td><td>i64</td><td>i64</td><td>f64</td><td>f64</td><td>i64</td></tr></thead><tbody><tr><td>4478</td><td>2023-12-31</td><td>&quot;四&quot;</td><td>2024-02-14</td><td>6051</td><td>-2641</td><td>-2758</td><td>-3918</td><td>-67.5</td><td>-43.6</td><td>2</td></tr><tr><td>4478</td><td>2024-03-31</td><td>&quot;四&quot;</td><td>2024-05-15</td><td>6652</td><td>-2245</td><td>-2289</td><td>-2430</td><td>-41.8</td><td>-33.7</td><td>3</td></tr><tr><td>4478</td><td>2024-06-30</td><td>&quot;本&quot;</td><td>2024-08-14</td><td>25430</td><td>-8386</td><td>-8638</td><td>-10150</td><td>-174.4</td><td>0.0</td><td>4</td></tr><tr><td>4478</td><td>2024-06-30</td><td>&quot;四&quot;</td><td>2024-08-14</td><td>7007</td><td>-1426</td><td>-1465</td><td>-1514</td><td>-26.0</td><td>-20.4</td><td>4</td></tr><tr><td>4478</td><td>2024-09-30</td><td>&quot;四&quot;</td><td>2024-11-14</td><td>7376</td><td>213</td><td>163</td><td>169</td><td>2.9</td><td>2.9</td><td>1</td></tr></tbody></table></div>"
      ],
      "text/plain": [
       "shape: (5, 11)\n",
       "┌──────┬─────────────┬─────────────┬─────────────┬───┬────────────┬────────────┬──────────┬────────┐\n",
       "│ code ┆ settlement_ ┆ settlement_ ┆ announcemen ┆ … ┆ final_prof ┆ reviced_ep ┆ dividend ┆ quater │\n",
       "│ ---  ┆ date        ┆ type        ┆ t_date      ┆   ┆ it         ┆ s          ┆ ---      ┆ ---    │\n",
       "│ i64  ┆ ---         ┆ ---         ┆ ---         ┆   ┆ ---        ┆ ---        ┆ f64      ┆ i64    │\n",
       "│      ┆ date        ┆ str         ┆ date        ┆   ┆ i64        ┆ f64        ┆          ┆        │\n",
       "╞══════╪═════════════╪═════════════╪═════════════╪═══╪════════════╪════════════╪══════════╪════════╡\n",
       "│ 4478 ┆ 2023-12-31  ┆ 四          ┆ 2024-02-14  ┆ … ┆ -3918      ┆ -67.5      ┆ -43.6    ┆ 2      │\n",
       "│ 4478 ┆ 2024-03-31  ┆ 四          ┆ 2024-05-15  ┆ … ┆ -2430      ┆ -41.8      ┆ -33.7    ┆ 3      │\n",
       "│ 4478 ┆ 2024-06-30  ┆ 本          ┆ 2024-08-14  ┆ … ┆ -10150     ┆ -174.4     ┆ 0.0      ┆ 4      │\n",
       "│ 4478 ┆ 2024-06-30  ┆ 四          ┆ 2024-08-14  ┆ … ┆ -1514      ┆ -26.0      ┆ -20.4    ┆ 4      │\n",
       "│ 4478 ┆ 2024-09-30  ┆ 四          ┆ 2024-11-14  ┆ … ┆ 169        ┆ 2.9        ┆ 2.9      ┆ 1      │\n",
       "└──────┴─────────────┴─────────────┴─────────────┴───┴────────────┴────────────┴──────────┴────────┘"
      ]
     },
     "execution_count": 13,
     "metadata": {},
     "output_type": "execute_result"
    }
   ],
   "source": [
    "# appendix\n",
    "KPL.df.filter(pl.col(\"code\")==code).filter(pl.col(\"announcement_date\")>=date(2024,1,1))"
   ]
  },
  {
   "cell_type": "code",
   "execution_count": 14,
   "id": "d962c1ec-5c5d-4ffb-a764-555827da2557",
   "metadata": {},
   "outputs": [
    {
     "data": {
      "text/html": [
       "<iframe\n",
       "    scrolling=\"no\"\n",
       "    width=\"100%\"\n",
       "    height=\"620\"\n",
       "    src=\"iframe_figures/figure_14.html\"\n",
       "    frameborder=\"0\"\n",
       "    allowfullscreen\n",
       "></iframe>\n"
      ]
     },
     "metadata": {},
     "output_type": "display_data"
    }
   ],
   "source": [
    "PFIG = PricelistFig(code, RevPPL.df, MPL.df, date(2023, 12, 1), date.today())\n",
    "PFIG.fig.show()"
   ]
  },
  {
   "cell_type": "code",
   "execution_count": 15,
   "id": "dfaa8207-57e5-4952-af51-8678ebb24cb0",
   "metadata": {},
   "outputs": [
    {
     "data": {
      "text/html": [
       "<iframe\n",
       "    scrolling=\"no\"\n",
       "    width=\"100%\"\n",
       "    height=\"545px\"\n",
       "    src=\"iframe_figures/figure_15.html\"\n",
       "    frameborder=\"0\"\n",
       "    allowfullscreen\n",
       "></iframe>\n"
      ]
     },
     "metadata": {},
     "output_type": "display_data"
    }
   ],
   "source": [
    "# 次の決算どうだったか\n",
    "KFIG = KessanFig(code, \"四半期\", end_settlement_date=valuation_date+relativedelta(days=100))\n",
    "KFIG.add_trace_profits()\n",
    "KFIG.fig.show()"
   ]
  },
  {
   "cell_type": "code",
   "execution_count": 16,
   "id": "ad4d6b8a-bd0b-4c2c-95ac-6026931a06a3",
   "metadata": {},
   "outputs": [
    {
     "data": {
      "text/html": [
       "<div><style>\n",
       ".dataframe > thead > tr,\n",
       ".dataframe > tbody > tr {\n",
       "  text-align: right;\n",
       "  white-space: pre-wrap;\n",
       "}\n",
       "</style>\n",
       "<small>shape: (256, 5)</small><table border=\"1\" class=\"dataframe\"><thead><tr><th>code</th><th>date</th><th>unsold_margin</th><th>purchase_margin</th><th>margin_ratio</th></tr><tr><td>i64</td><td>date</td><td>i64</td><td>i64</td><td>f64</td></tr></thead><tbody><tr><td>4478</td><td>2019-12-20</td><td>6200</td><td>717500</td><td>115.73</td></tr><tr><td>4478</td><td>2020-01-03</td><td>400</td><td>729300</td><td>1823.25</td></tr><tr><td>4478</td><td>2020-01-10</td><td>1500</td><td>600400</td><td>400.27</td></tr><tr><td>4478</td><td>2020-01-17</td><td>2100</td><td>450600</td><td>214.57</td></tr><tr><td>4478</td><td>2020-01-24</td><td>100</td><td>528300</td><td>5283.0</td></tr><tr><td>&hellip;</td><td>&hellip;</td><td>&hellip;</td><td>&hellip;</td><td>&hellip;</td></tr><tr><td>4478</td><td>2024-11-22</td><td>180100</td><td>465500</td><td>2.58</td></tr><tr><td>4478</td><td>2024-11-29</td><td>227500</td><td>386500</td><td>1.7</td></tr><tr><td>4478</td><td>2024-12-06</td><td>272200</td><td>284400</td><td>1.04</td></tr><tr><td>4478</td><td>2024-12-13</td><td>325700</td><td>231400</td><td>0.71</td></tr><tr><td>4478</td><td>2024-12-20</td><td>304500</td><td>212800</td><td>0.7</td></tr></tbody></table></div>"
      ],
      "text/plain": [
       "shape: (256, 5)\n",
       "┌──────┬────────────┬───────────────┬─────────────────┬──────────────┐\n",
       "│ code ┆ date       ┆ unsold_margin ┆ purchase_margin ┆ margin_ratio │\n",
       "│ ---  ┆ ---        ┆ ---           ┆ ---             ┆ ---          │\n",
       "│ i64  ┆ date       ┆ i64           ┆ i64             ┆ f64          │\n",
       "╞══════╪════════════╪═══════════════╪═════════════════╪══════════════╡\n",
       "│ 4478 ┆ 2019-12-20 ┆ 6200          ┆ 717500          ┆ 115.73       │\n",
       "│ 4478 ┆ 2020-01-03 ┆ 400           ┆ 729300          ┆ 1823.25      │\n",
       "│ 4478 ┆ 2020-01-10 ┆ 1500          ┆ 600400          ┆ 400.27       │\n",
       "│ 4478 ┆ 2020-01-17 ┆ 2100          ┆ 450600          ┆ 214.57       │\n",
       "│ 4478 ┆ 2020-01-24 ┆ 100           ┆ 528300          ┆ 5283.0       │\n",
       "│ …    ┆ …          ┆ …             ┆ …               ┆ …            │\n",
       "│ 4478 ┆ 2024-11-22 ┆ 180100        ┆ 465500          ┆ 2.58         │\n",
       "│ 4478 ┆ 2024-11-29 ┆ 227500        ┆ 386500          ┆ 1.7          │\n",
       "│ 4478 ┆ 2024-12-06 ┆ 272200        ┆ 284400          ┆ 1.04         │\n",
       "│ 4478 ┆ 2024-12-13 ┆ 325700        ┆ 231400          ┆ 0.71         │\n",
       "│ 4478 ┆ 2024-12-20 ┆ 304500        ┆ 212800          ┆ 0.7          │\n",
       "└──────┴────────────┴───────────────┴─────────────────┴──────────────┘"
      ]
     },
     "execution_count": 16,
     "metadata": {},
     "output_type": "execute_result"
    }
   ],
   "source": [
    "from lib_dataprocess import CreditbalancePl\n",
    "\n",
    "CPL = CreditbalancePl()\n",
    "CPL.with_columns_margin_ratio()\n",
    "CPL.df.filter(pl.col(\"code\")==code)"
   ]
  },
  {
   "cell_type": "code",
   "execution_count": null,
   "id": "ac32eb0a-3f87-48a7-9b80-52cf651e44b4",
   "metadata": {},
   "outputs": [],
   "source": []
  }
 ],
 "metadata": {
  "kernelspec": {
   "display_name": "Python 3 (ipykernel)",
   "language": "python",
   "name": "python3"
  },
  "language_info": {
   "codemirror_mode": {
    "name": "ipython",
    "version": 3
   },
   "file_extension": ".py",
   "mimetype": "text/x-python",
   "name": "python",
   "nbconvert_exporter": "python",
   "pygments_lexer": "ipython3",
   "version": "3.12.3"
  }
 },
 "nbformat": 4,
 "nbformat_minor": 5
}
