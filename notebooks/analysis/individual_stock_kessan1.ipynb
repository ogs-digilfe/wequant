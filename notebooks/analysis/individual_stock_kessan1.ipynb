{
 "cells": [
  {
   "cell_type": "code",
   "execution_count": 1,
   "id": "72fe6020-2485-4d19-ba64-b2929df1c64f",
   "metadata": {},
   "outputs": [],
   "source": [
    "# valuation_date時におけるcodeで指定した銘柄の個別銘柄分析\n",
    "# SBI証券のモバイルの銘柄分析を参考に作成"
   ]
  },
  {
   "cell_type": "code",
   "execution_count": 2,
   "id": "4c3ea513-3b75-4b72-be31-8271db72c241",
   "metadata": {},
   "outputs": [],
   "source": [
    "### パラメータ設定セル\n",
    "from datetime import date\n",
    "from dateutil.relativedelta import relativedelta\n",
    "\n",
    "# パラメータをセット\n",
    "# code: 証券コード\n",
    "# valuation_date: 過去にさかのぼって評価日をdatetime.dateでセット可能。デフォルト値は今日(date.today())\n",
    "code = 3673\n",
    "valuation_date = date.today()\n",
    "valuation_date = date(2024, 9, 1)\n"
   ]
  },
  {
   "cell_type": "code",
   "execution_count": 3,
   "id": "0fa30969-b1dd-4795-8ca4-8bb63e06f211",
   "metadata": {},
   "outputs": [],
   "source": [
    "# 読み込みファイルパスの設定とimportしたいmoduleパス(pythonパス)の設定\n",
    "from pathlib import Path\n",
    "import os, sys\n",
    "\n",
    "CURRENT_DIR = Path(os.getcwd())\n",
    "PJ_DIR = CURRENT_DIR.parent.parent\n",
    "LIB_DIR = PJ_DIR / \"lib\"\n",
    "DATA_DIR = PJ_DIR / \"data\" \n",
    "\n",
    "sys.path.append(str(LIB_DIR))\n",
    "\n",
    "# notebook内で利用するmoduleのimport\n",
    "from lib_dataprocess import PricelistPl, FinancequotePl, KessanPl, KessanFig, PricelistFig, read_data, get_df_latest_yearly_performance, get_latest_stockprice, print_finance_quote\n",
    "from lib_dataprocess import get_fig_expected_performance_progress_rate_pycharts, MeigaralistPl, get_fig_actual_performance_progress_rate_pycharts, ShikihoPl\n",
    "import polars as pl\n",
    "\n",
    "# dataの読み込み\n",
    "fp = DATA_DIR/\"raw_pricelist.parquet\"\n",
    "df = read_data(fp)\n",
    "PPL = PricelistPl(df)\n",
    "\n",
    "# dataの読み込み\n",
    "fp = DATA_DIR/\"reviced_pricelist.parquet\"\n",
    "df = read_data(fp)\n",
    "RevPPL = PricelistPl(df)\n",
    "\n",
    "fp = DATA_DIR/\"finance_quote.parquet\"\n",
    "df = read_data(fp)\n",
    "FPL = FinancequotePl(df)\n",
    "FPL.with_columns_market_cap()\n",
    "\n",
    "fp = DATA_DIR/\"kessan.parquet\"\n",
    "df = read_data(fp)\n",
    "KPL = KessanPl(df)\n",
    "\n",
    "fp = DATA_DIR/\"meigaralist.parquet\"\n",
    "df = read_data(fp)\n",
    "MPL = MeigaralistPl(df)\n",
    "\n",
    "fp = DATA_DIR/\"shikiho.parquet\"\n",
    "df = read_data(fp)\n",
    "SPL = ShikihoPl(df)"
   ]
  },
  {
   "cell_type": "code",
   "execution_count": 4,
   "id": "12cca2e1-9577-4b88-a042-170da054f42b",
   "metadata": {},
   "outputs": [
    {
     "name": "stdout",
     "output_type": "stream",
     "text": [
      "ブロードリーフ(3673)の銘柄情報\n",
      "\n",
      "終値: 739.0円(2024年08月30日)\n",
      "予想配当利回り: 0.27%(2024年08月28日)\n",
      "予想PER: 728.71倍(2024年08月28日)\n",
      "実績PBR: 2.9倍(2024年08月28日)\n",
      "自己資本比率: 61.2%(2024年08月28日)\n",
      "予想ROE: 0.4%(2024年08月28日)\n",
      "予想ROA: 0.24%(2024年08月28日)\n",
      "時価総額: 720.5億円(2024年08月28日)\n",
      "\n",
      "3673(ブロードリーフ)の四季報データ履歴\n",
      "\n",
      "発行日: 2024年06月14日\n",
      "【黒字化】\n",
      "  業務ソフトは整備業など主力の自動車系でクラウド移行進展し、客単価向上続く。非自動車系向けパッケージも利益貢献着実。クラウド開発費大幅減で、後半にかけて採算良化。営業黒字化。増配余地。\n",
      "【浸透】\n",
      "  自動車系クラウド比率は24年末30%、28年中に100%目標(24年3月末約17%)。5年分一括払いの長期契約に力。キャッシュ確保とオプション受注増狙う。\n",
      "\n",
      "発行日: 2024年03月16日\n",
      "【浮上】\n",
      "  業務ソフトは整備業など主力の自動車系のクラウド移行が進み、客単価向上。旅行業等の非自動車系はパッケージ安定貢献。クラウドの開発費大幅減も効き、尻上がりに採算改善。営業黒字浮上。増配も。\n",
      "【拡大】\n",
      "  部品流通ネットワークにトヨタ自動車傘下の修理部品・用品販社が出品検討。クラウド型業務ソフトは中堅企業向けERP等の他社サービスと機能連携推進。\n",
      "\n",
      "発行日: 2023年12月15日\n",
      "【浮上】\n",
      "  自動車系のクラウド移行で償却費かさむ。電子帳簿低調。営業赤字続く。24年12月期は自動車系クラウド移行進展。ストック売上比率上昇。携帯電話店や旅行業の非自動車系も伸びて3期ぶり黒字化。\n",
      "【新サービス】\n",
      "  中古車販売の支払総額表示に対応したサービス提供、プライスボード作成の負担軽減。クラウド対象業種拡大へ自動車のガラス、部品業者向けに提供開始。\n",
      "\n",
      "発行日: 2023年09月15日\n",
      "【赤字】\n",
      "  自動車系はクラウドサービスへの移行順調。反面パッケージが減少。非自動車向けは好調。クラウド償却費重いが販管費抑制効き、営業赤字縮小。24年12月期はクラウド大幅増で利益貢献。営業黒字化。\n",
      "【不正検知】\n",
      "  自動車業界向けクラウドサービスで業務の異常、不正を検知する機能開発。トヨタファイナンスとの協業第2弾で車両販売業者のローン関連作業を簡素化。\n"
     ]
    }
   ],
   "source": [
    "### 最新情報\n",
    "# 指定したcodeの指定した日における株価と各種ファンダメンタルズデータをまとめて標準出力する\n",
    "# pricelist_dfは、raw_pricelistかreviced_pricelistかケースに応じて使い分ける。\n",
    "# def print_finance_quote(\n",
    "#        pricelist_df: pl.DataFrame,\n",
    "#        finance_quote_df: pl.DataFrame,\n",
    "#        code: int, \n",
    "#        valuation_date: date=date.today()\n",
    "#    ) -> None:\n",
    "print_finance_quote(PPL.df, FPL.df, code, valuation_date=valuation_date)\n",
    "print()\n",
    "SPL.print_stock_df(code, num=4, valuation_date=valuation_date)"
   ]
  },
  {
   "cell_type": "code",
   "execution_count": 5,
   "id": "0496d051-66d9-4003-8ca9-71a782b5ec88",
   "metadata": {},
   "outputs": [
    {
     "data": {
      "text/html": [
       "<iframe\n",
       "    scrolling=\"no\"\n",
       "    width=\"100%\"\n",
       "    height=\"545px\"\n",
       "    src=\"iframe_figures/figure_5.html\"\n",
       "    frameborder=\"0\"\n",
       "    allowfullscreen\n",
       "></iframe>\n"
      ]
     },
     "metadata": {},
     "output_type": "display_data"
    },
    {
     "data": {
      "text/html": [
       "<div><style>\n",
       ".dataframe > thead > tr,\n",
       ".dataframe > tbody > tr {\n",
       "  text-align: right;\n",
       "  white-space: pre-wrap;\n",
       "}\n",
       "</style>\n",
       "<small>shape: (8, 11)</small><table border=\"1\" class=\"dataframe\"><thead><tr><th>code</th><th>settlement_date</th><th>settlement_type</th><th>announcement_date</th><th>sales</th><th>operating_income</th><th>ordinary_profit</th><th>final_profit</th><th>reviced_eps</th><th>dividend</th><th>quater</th></tr><tr><td>i64</td><td>date</td><td>str</td><td>date</td><td>i64</td><td>i64</td><td>i64</td><td>i64</td><td>f64</td><td>f64</td><td>i64</td></tr></thead><tbody><tr><td>3673</td><td>2024-06-30</td><td>&quot;四&quot;</td><td>2024-08-08</td><td>4407</td><td>65</td><td>58</td><td>21</td><td>0.2</td><td>1.5</td><td>2</td></tr><tr><td>3673</td><td>2024-03-31</td><td>&quot;四&quot;</td><td>2024-05-09</td><td>4014</td><td>-109</td><td>-42</td><td>-35</td><td>-0.4</td><td>-2.7</td><td>1</td></tr><tr><td>3673</td><td>2023-12-31</td><td>&quot;四&quot;</td><td>2024-02-09</td><td>4136</td><td>-380</td><td>-436</td><td>-459</td><td>-5.2</td><td>-9.2</td><td>4</td></tr><tr><td>3673</td><td>2023-09-30</td><td>&quot;四&quot;</td><td>2023-11-09</td><td>3859</td><td>-411</td><td>-383</td><td>-202</td><td>-2.3</td><td>-10.7</td><td>3</td></tr><tr><td>3673</td><td>2023-06-30</td><td>&quot;四&quot;</td><td>2023-08-10</td><td>3761</td><td>-575</td><td>-561</td><td>-421</td><td>-4.8</td><td>-15.3</td><td>2</td></tr><tr><td>3673</td><td>2023-03-31</td><td>&quot;四&quot;</td><td>2023-05-10</td><td>3629</td><td>-536</td><td>-541</td><td>-405</td><td>-4.6</td><td>-14.8</td><td>1</td></tr><tr><td>3673</td><td>2022-12-31</td><td>&quot;四&quot;</td><td>2023-02-10</td><td>3766</td><td>-1034</td><td>-1091</td><td>-998</td><td>-11.3</td><td>-27.5</td><td>4</td></tr><tr><td>3673</td><td>2022-09-30</td><td>&quot;四&quot;</td><td>2022-11-09</td><td>3547</td><td>-465</td><td>-456</td><td>-324</td><td>-3.7</td><td>-13.1</td><td>3</td></tr></tbody></table></div>"
      ],
      "text/plain": [
       "shape: (8, 11)\n",
       "┌──────┬─────────────┬─────────────┬─────────────┬───┬────────────┬────────────┬──────────┬────────┐\n",
       "│ code ┆ settlement_ ┆ settlement_ ┆ announcemen ┆ … ┆ final_prof ┆ reviced_ep ┆ dividend ┆ quater │\n",
       "│ ---  ┆ date        ┆ type        ┆ t_date      ┆   ┆ it         ┆ s          ┆ ---      ┆ ---    │\n",
       "│ i64  ┆ ---         ┆ ---         ┆ ---         ┆   ┆ ---        ┆ ---        ┆ f64      ┆ i64    │\n",
       "│      ┆ date        ┆ str         ┆ date        ┆   ┆ i64        ┆ f64        ┆          ┆        │\n",
       "╞══════╪═════════════╪═════════════╪═════════════╪═══╪════════════╪════════════╪══════════╪════════╡\n",
       "│ 3673 ┆ 2024-06-30  ┆ 四          ┆ 2024-08-08  ┆ … ┆ 21         ┆ 0.2        ┆ 1.5      ┆ 2      │\n",
       "│ 3673 ┆ 2024-03-31  ┆ 四          ┆ 2024-05-09  ┆ … ┆ -35        ┆ -0.4       ┆ -2.7     ┆ 1      │\n",
       "│ 3673 ┆ 2023-12-31  ┆ 四          ┆ 2024-02-09  ┆ … ┆ -459       ┆ -5.2       ┆ -9.2     ┆ 4      │\n",
       "│ 3673 ┆ 2023-09-30  ┆ 四          ┆ 2023-11-09  ┆ … ┆ -202       ┆ -2.3       ┆ -10.7    ┆ 3      │\n",
       "│ 3673 ┆ 2023-06-30  ┆ 四          ┆ 2023-08-10  ┆ … ┆ -421       ┆ -4.8       ┆ -15.3    ┆ 2      │\n",
       "│ 3673 ┆ 2023-03-31  ┆ 四          ┆ 2023-05-10  ┆ … ┆ -405       ┆ -4.6       ┆ -14.8    ┆ 1      │\n",
       "│ 3673 ┆ 2022-12-31  ┆ 四          ┆ 2023-02-10  ┆ … ┆ -998       ┆ -11.3      ┆ -27.5    ┆ 4      │\n",
       "│ 3673 ┆ 2022-09-30  ┆ 四          ┆ 2022-11-09  ┆ … ┆ -324       ┆ -3.7       ┆ -13.1    ┆ 3      │\n",
       "└──────┴─────────────┴─────────────┴─────────────┴───┴────────────┴────────────┴──────────┴────────┘"
      ]
     },
     "execution_count": 5,
     "metadata": {},
     "output_type": "execute_result"
    }
   ],
   "source": [
    "### 業績推移\n",
    "\n",
    "# KessanFig(\n",
    "#    code: int, \n",
    "#    settlement_type: Literal[\"通期\", \"四半期\"], \n",
    "#    output_target: str = \"jupyter\",\n",
    "#    start_settlement_date: date = date(1900, 1, 1),\n",
    "#    end_settlement_date: date = date(2999, 12, 31)\n",
    "#)\n",
    "\n",
    "KFIG = KessanFig(code, \"通期\", end_settlement_date=valuation_date)\n",
    "KFIG.add_trace_profits()\n",
    "KFIG.fig.show()\n",
    "KPL.get_latest_quater_settlement(code, valuation_date)"
   ]
  },
  {
   "cell_type": "code",
   "execution_count": 6,
   "id": "0fcfaabe-403b-4c14-a9e7-e5a83685dbe4",
   "metadata": {},
   "outputs": [
    {
     "name": "stdout",
     "output_type": "stream",
     "text": [
      "2024-03-31\n"
     ]
    },
    {
     "data": {
      "text/html": [
       "<div><style>\n",
       ".dataframe > thead > tr,\n",
       ".dataframe > tbody > tr {\n",
       "  text-align: right;\n",
       "  white-space: pre-wrap;\n",
       "}\n",
       "</style>\n",
       "<small>shape: (2, 11)</small><table border=\"1\" class=\"dataframe\"><thead><tr><th>code</th><th>settlement_date</th><th>settlement_type</th><th>announcement_date</th><th>sales</th><th>operating_income</th><th>ordinary_profit</th><th>final_profit</th><th>reviced_eps</th><th>dividend</th><th>quater</th></tr><tr><td>i64</td><td>date</td><td>str</td><td>date</td><td>i64</td><td>i64</td><td>i64</td><td>i64</td><td>f64</td><td>f64</td><td>i64</td></tr></thead><tbody><tr><td>3673</td><td>2024-12-31</td><td>&quot;予&quot;</td><td>2024-08-08</td><td>17600</td><td>50</td><td>100</td><td>90</td><td>1.0</td><td>2.0</td><td>4</td></tr><tr><td>3673</td><td>2024-12-31</td><td>&quot;予&quot;</td><td>2024-06-18</td><td>17600</td><td>50</td><td>50</td><td>40</td><td>0.5</td><td>2.0</td><td>4</td></tr></tbody></table></div>"
      ],
      "text/plain": [
       "shape: (2, 11)\n",
       "┌──────┬─────────────┬─────────────┬─────────────┬───┬────────────┬────────────┬──────────┬────────┐\n",
       "│ code ┆ settlement_ ┆ settlement_ ┆ announcemen ┆ … ┆ final_prof ┆ reviced_ep ┆ dividend ┆ quater │\n",
       "│ ---  ┆ date        ┆ type        ┆ t_date      ┆   ┆ it         ┆ s          ┆ ---      ┆ ---    │\n",
       "│ i64  ┆ ---         ┆ ---         ┆ ---         ┆   ┆ ---        ┆ ---        ┆ f64      ┆ i64    │\n",
       "│      ┆ date        ┆ str         ┆ date        ┆   ┆ i64        ┆ f64        ┆          ┆        │\n",
       "╞══════╪═════════════╪═════════════╪═════════════╪═══╪════════════╪════════════╪══════════╪════════╡\n",
       "│ 3673 ┆ 2024-12-31  ┆ 予          ┆ 2024-08-08  ┆ … ┆ 90         ┆ 1.0        ┆ 2.0      ┆ 4      │\n",
       "│ 3673 ┆ 2024-12-31  ┆ 予          ┆ 2024-06-18  ┆ … ┆ 40         ┆ 0.5        ┆ 2.0      ┆ 4      │\n",
       "└──────┴─────────────┴─────────────┴─────────────┴───┴────────────┴────────────┴──────────┴────────┘"
      ]
     },
     "execution_count": 6,
     "metadata": {},
     "output_type": "execute_result"
    }
   ],
   "source": [
    "# 今季決算予想発表の推移\n",
    "df = KPL.get_settlement_forcast(code, valuation_date)\n",
    "df"
   ]
  },
  {
   "cell_type": "code",
   "execution_count": 7,
   "id": "9640855f-4673-4470-8ef7-5995b03feaa1",
   "metadata": {},
   "outputs": [
    {
     "name": "stdout",
     "output_type": "stream",
     "text": [
      "ブロードリーフ(3673)の通期決算(評価日：2024年09月01日)\n"
     ]
    },
    {
     "data": {
      "text/html": [
       "<div><style>\n",
       ".dataframe > thead > tr,\n",
       ".dataframe > tbody > tr {\n",
       "  text-align: right;\n",
       "  white-space: pre-wrap;\n",
       "}\n",
       "</style>\n",
       "<small>shape: (2, 8)</small><table border=\"1\" class=\"dataframe\"><thead><tr><th>決算期</th><th>決算発表日</th><th>売上高</th><th>営業利益</th><th>経常利益</th><th>純利益</th><th>EPS</th><th>1株配当</th></tr><tr><td>str</td><td>date</td><td>i64</td><td>i64</td><td>i64</td><td>i64</td><td>f64</td><td>f64</td></tr></thead><tbody><tr><td>&quot;2024年12月期(予)&quot;</td><td>2024-08-08</td><td>17600</td><td>50</td><td>100</td><td>90</td><td>1.0</td><td>2.0</td></tr><tr><td>&quot;2023年12月期&quot;</td><td>2024-02-09</td><td>15385</td><td>-1902</td><td>-1921</td><td>-1487</td><td>-16.8</td><td>1.0</td></tr></tbody></table></div>"
      ],
      "text/plain": [
       "shape: (2, 8)\n",
       "┌──────────────────┬────────────┬────────┬──────────┬──────────┬────────┬───────┬─────────┐\n",
       "│ 決算期           ┆ 決算発表日 ┆ 売上高 ┆ 営業利益 ┆ 経常利益 ┆ 純利益 ┆ EPS   ┆ 1株配当 │\n",
       "│ ---              ┆ ---        ┆ ---    ┆ ---      ┆ ---      ┆ ---    ┆ ---   ┆ ---     │\n",
       "│ str              ┆ date       ┆ i64    ┆ i64      ┆ i64      ┆ i64    ┆ f64   ┆ f64     │\n",
       "╞══════════════════╪════════════╪════════╪══════════╪══════════╪════════╪═══════╪═════════╡\n",
       "│ 2024年12月期(予) ┆ 2024-08-08 ┆ 17600  ┆ 50       ┆ 100      ┆ 90     ┆ 1.0   ┆ 2.0     │\n",
       "│ 2023年12月期     ┆ 2024-02-09 ┆ 15385  ┆ -1902    ┆ -1921    ┆ -1487  ┆ -16.8 ┆ 1.0     │\n",
       "└──────────────────┴────────────┴────────┴──────────┴──────────┴────────┴───────┴─────────┘"
      ]
     },
     "execution_count": 7,
     "metadata": {},
     "output_type": "execute_result"
    }
   ],
   "source": [
    "### 通期業績、業績予想\n",
    "# def get_df_latest_yearly_performance(code: int, valuation_date: date=date.today()) -> pl.DataFrame:\n",
    "df = get_df_latest_yearly_performance(code, valuation_date)\n",
    "df"
   ]
  },
  {
   "cell_type": "code",
   "execution_count": 8,
   "id": "9ebf91d2-7436-46c3-b035-04a125b60357",
   "metadata": {},
   "outputs": [
    {
     "data": {
      "text/html": [
       "<iframe\n",
       "    scrolling=\"no\"\n",
       "    width=\"100%\"\n",
       "    height=\"545px\"\n",
       "    src=\"iframe_figures/figure_8.html\"\n",
       "    frameborder=\"0\"\n",
       "    allowfullscreen\n",
       "></iframe>\n"
      ]
     },
     "metadata": {},
     "output_type": "display_data"
    },
    {
     "data": {
      "text/html": [
       "<div><style>\n",
       ".dataframe > thead > tr,\n",
       ".dataframe > tbody > tr {\n",
       "  text-align: right;\n",
       "  white-space: pre-wrap;\n",
       "}\n",
       "</style>\n",
       "<small>shape: (8, 11)</small><table border=\"1\" class=\"dataframe\"><thead><tr><th>code</th><th>settlement_date</th><th>settlement_type</th><th>announcement_date</th><th>sales</th><th>operating_income</th><th>ordinary_profit</th><th>final_profit</th><th>reviced_eps</th><th>dividend</th><th>quater</th></tr><tr><td>i64</td><td>date</td><td>str</td><td>date</td><td>i64</td><td>i64</td><td>i64</td><td>i64</td><td>f64</td><td>f64</td><td>i64</td></tr></thead><tbody><tr><td>3673</td><td>2024-06-30</td><td>&quot;四&quot;</td><td>2024-08-08</td><td>4407</td><td>65</td><td>58</td><td>21</td><td>0.2</td><td>1.5</td><td>2</td></tr><tr><td>3673</td><td>2024-03-31</td><td>&quot;四&quot;</td><td>2024-05-09</td><td>4014</td><td>-109</td><td>-42</td><td>-35</td><td>-0.4</td><td>-2.7</td><td>1</td></tr><tr><td>3673</td><td>2023-12-31</td><td>&quot;四&quot;</td><td>2024-02-09</td><td>4136</td><td>-380</td><td>-436</td><td>-459</td><td>-5.2</td><td>-9.2</td><td>4</td></tr><tr><td>3673</td><td>2023-09-30</td><td>&quot;四&quot;</td><td>2023-11-09</td><td>3859</td><td>-411</td><td>-383</td><td>-202</td><td>-2.3</td><td>-10.7</td><td>3</td></tr><tr><td>3673</td><td>2023-06-30</td><td>&quot;四&quot;</td><td>2023-08-10</td><td>3761</td><td>-575</td><td>-561</td><td>-421</td><td>-4.8</td><td>-15.3</td><td>2</td></tr><tr><td>3673</td><td>2023-03-31</td><td>&quot;四&quot;</td><td>2023-05-10</td><td>3629</td><td>-536</td><td>-541</td><td>-405</td><td>-4.6</td><td>-14.8</td><td>1</td></tr><tr><td>3673</td><td>2022-12-31</td><td>&quot;四&quot;</td><td>2023-02-10</td><td>3766</td><td>-1034</td><td>-1091</td><td>-998</td><td>-11.3</td><td>-27.5</td><td>4</td></tr><tr><td>3673</td><td>2022-09-30</td><td>&quot;四&quot;</td><td>2022-11-09</td><td>3547</td><td>-465</td><td>-456</td><td>-324</td><td>-3.7</td><td>-13.1</td><td>3</td></tr></tbody></table></div>"
      ],
      "text/plain": [
       "shape: (8, 11)\n",
       "┌──────┬─────────────┬─────────────┬─────────────┬───┬────────────┬────────────┬──────────┬────────┐\n",
       "│ code ┆ settlement_ ┆ settlement_ ┆ announcemen ┆ … ┆ final_prof ┆ reviced_ep ┆ dividend ┆ quater │\n",
       "│ ---  ┆ date        ┆ type        ┆ t_date      ┆   ┆ it         ┆ s          ┆ ---      ┆ ---    │\n",
       "│ i64  ┆ ---         ┆ ---         ┆ ---         ┆   ┆ ---        ┆ ---        ┆ f64      ┆ i64    │\n",
       "│      ┆ date        ┆ str         ┆ date        ┆   ┆ i64        ┆ f64        ┆          ┆        │\n",
       "╞══════╪═════════════╪═════════════╪═════════════╪═══╪════════════╪════════════╪══════════╪════════╡\n",
       "│ 3673 ┆ 2024-06-30  ┆ 四          ┆ 2024-08-08  ┆ … ┆ 21         ┆ 0.2        ┆ 1.5      ┆ 2      │\n",
       "│ 3673 ┆ 2024-03-31  ┆ 四          ┆ 2024-05-09  ┆ … ┆ -35        ┆ -0.4       ┆ -2.7     ┆ 1      │\n",
       "│ 3673 ┆ 2023-12-31  ┆ 四          ┆ 2024-02-09  ┆ … ┆ -459       ┆ -5.2       ┆ -9.2     ┆ 4      │\n",
       "│ 3673 ┆ 2023-09-30  ┆ 四          ┆ 2023-11-09  ┆ … ┆ -202       ┆ -2.3       ┆ -10.7    ┆ 3      │\n",
       "│ 3673 ┆ 2023-06-30  ┆ 四          ┆ 2023-08-10  ┆ … ┆ -421       ┆ -4.8       ┆ -15.3    ┆ 2      │\n",
       "│ 3673 ┆ 2023-03-31  ┆ 四          ┆ 2023-05-10  ┆ … ┆ -405       ┆ -4.6       ┆ -14.8    ┆ 1      │\n",
       "│ 3673 ┆ 2022-12-31  ┆ 四          ┆ 2023-02-10  ┆ … ┆ -998       ┆ -11.3      ┆ -27.5    ┆ 4      │\n",
       "│ 3673 ┆ 2022-09-30  ┆ 四          ┆ 2022-11-09  ┆ … ┆ -324       ┆ -3.7       ┆ -13.1    ┆ 3      │\n",
       "└──────┴─────────────┴─────────────┴─────────────┴───┴────────────┴────────────┴──────────┴────────┘"
      ]
     },
     "execution_count": 8,
     "metadata": {},
     "output_type": "execute_result"
    }
   ],
   "source": [
    "KFIG = KessanFig(code, \"四半期\", end_settlement_date=valuation_date)\n",
    "KFIG.add_trace_profits()\n",
    "KFIG.fig.show()\n",
    "KPL.get_latest_quater_settlement(code, valuation_date)"
   ]
  },
  {
   "cell_type": "code",
   "execution_count": 9,
   "id": "0e6e726c-d77c-464d-8d42-3247af5afba0",
   "metadata": {},
   "outputs": [
    {
     "name": "stdout",
     "output_type": "stream",
     "text": [
      "ブロードリーフ(3673)の2024年12月期第2四半期決算進捗率(評価日：2024-09-01)\n"
     ]
    },
    {
     "data": {
      "text/html": [
       "<iframe\n",
       "    scrolling=\"no\"\n",
       "    width=\"100%\"\n",
       "    height=\"545px\"\n",
       "    src=\"iframe_figures/figure_9.html\"\n",
       "    frameborder=\"0\"\n",
       "    allowfullscreen\n",
       "></iframe>\n"
      ]
     },
     "metadata": {},
     "output_type": "display_data"
    }
   ],
   "source": [
    "# codeで指定した銘柄のevaluation_dateで指定した時点での最新の年度決算予想に基づく\n",
    "# 売上高~純利益の決算進捗率を円グラフで表示するためのfigを返す\n",
    "# from plotly.graph_objects import Figure\n",
    "# def get_fig_expected_performance_progress_rate_pycharts(code: int, evaluation_date: date=date.today()) -> Figure:\n",
    "\n",
    "fig1 = get_fig_expected_performance_progress_rate_pycharts(code, valuation_date)\n",
    "fig1.show()"
   ]
  },
  {
   "cell_type": "code",
   "execution_count": 10,
   "id": "412228f6-95ef-432e-af38-b2301c619c9e",
   "metadata": {},
   "outputs": [
    {
     "name": "stdout",
     "output_type": "stream",
     "text": [
      "ブロードリーフ(3673)の2023年12月期第2四半期決算進捗率(評価日：2023-09-01)\n"
     ]
    },
    {
     "data": {
      "text/html": [
       "<iframe\n",
       "    scrolling=\"no\"\n",
       "    width=\"100%\"\n",
       "    height=\"545px\"\n",
       "    src=\"iframe_figures/figure_10.html\"\n",
       "    frameborder=\"0\"\n",
       "    allowfullscreen\n",
       "></iframe>\n"
      ]
     },
     "metadata": {},
     "output_type": "display_data"
    }
   ],
   "source": [
    "last_year_valuation_date = date(valuation_date.year-1, valuation_date.month, valuation_date.day)\n",
    "\n",
    "# codeで指定した銘柄のevaluation_dateで指定した時点での最新の四半期決算発表に基づく\n",
    "# 売上高~純利益の決算進捗率を円グラフで表示するためのfigを返す\n",
    "# valuation_dateで指定する日において、当年度の本決算が発表されていない日を指定した場合は前期末第4四半期の進捗率を表示するので、進捗率100%で表示される。\n",
    "fig2 = get_fig_actual_performance_progress_rate_pycharts(code, last_year_valuation_date, KPL.df, MPL.df)\n",
    "fig2.show()"
   ]
  },
  {
   "cell_type": "code",
   "execution_count": 11,
   "id": "872ee2f6-4f2a-4c21-9a61-f3f86b442637",
   "metadata": {},
   "outputs": [],
   "source": [
    "#### valuation_dateに過去日を指定した場合、valuation_dateを含む期の株価推移\n",
    "#### 答え合わせ"
   ]
  },
  {
   "cell_type": "code",
   "execution_count": 12,
   "id": "2860596f-c601-466f-bb47-327efd7811f9",
   "metadata": {},
   "outputs": [
    {
     "data": {
      "text/html": [
       "<iframe\n",
       "    scrolling=\"no\"\n",
       "    width=\"100%\"\n",
       "    height=\"620\"\n",
       "    src=\"iframe_figures/figure_12.html\"\n",
       "    frameborder=\"0\"\n",
       "    allowfullscreen\n",
       "></iframe>\n"
      ]
     },
     "metadata": {},
     "output_type": "display_data"
    }
   ],
   "source": [
    "# 株価推移\n",
    "# 前期算発表翌営業日～今期決算発表日翌営業日\n",
    "start_date, end_date = KPL.get_current_settlement_period_by_announcement_date(code, valuation_date, \"四\")\n",
    "\n",
    "df = RevPPL.df.filter(pl.col(\"code\")==code).filter(pl.col(\"date\")>start_date)\n",
    "start_date = df[\"date\"].to_list()[0]\n",
    "\n",
    "df = RevPPL.df.filter(pl.col(\"code\")==code).filter(pl.col(\"date\")>end_date)\n",
    "if not end_date == date(2999, 12, 31):\n",
    "    end_date = df[\"date\"].to_list()[0]\n",
    "\n",
    "PFIG = PricelistFig(code, RevPPL.df, MPL.df, start_date, end_date)\n",
    "df = RevPPL.df.filter(pl.col(\"code\")==code).filter(pl.col(\"date\")<=valuation_date)\n",
    "vline_date = df[\"date\"].to_list()[-1]\n",
    "PFIG.add_vline(vline_date)\n",
    "PFIG.fig.show()"
   ]
  },
  {
   "cell_type": "code",
   "execution_count": 13,
   "id": "4d964308-8c7a-4624-8e20-5acb7823d0c8",
   "metadata": {},
   "outputs": [
    {
     "data": {
      "text/html": [
       "<div><style>\n",
       ".dataframe > thead > tr,\n",
       ".dataframe > tbody > tr {\n",
       "  text-align: right;\n",
       "  white-space: pre-wrap;\n",
       "}\n",
       "</style>\n",
       "<small>shape: (8, 11)</small><table border=\"1\" class=\"dataframe\"><thead><tr><th>code</th><th>settlement_date</th><th>settlement_type</th><th>announcement_date</th><th>sales</th><th>operating_income</th><th>ordinary_profit</th><th>final_profit</th><th>reviced_eps</th><th>dividend</th><th>quater</th></tr><tr><td>i64</td><td>date</td><td>str</td><td>date</td><td>i64</td><td>i64</td><td>i64</td><td>i64</td><td>f64</td><td>f64</td><td>i64</td></tr></thead><tbody><tr><td>3673</td><td>2023-12-31</td><td>&quot;本&quot;</td><td>2024-02-09</td><td>15385</td><td>-1902</td><td>-1921</td><td>-1487</td><td>-16.8</td><td>1.0</td><td>4</td></tr><tr><td>3673</td><td>2023-12-31</td><td>&quot;四&quot;</td><td>2024-02-09</td><td>4136</td><td>-380</td><td>-436</td><td>-459</td><td>-5.2</td><td>-9.2</td><td>4</td></tr><tr><td>3673</td><td>2024-03-31</td><td>&quot;四&quot;</td><td>2024-05-09</td><td>4014</td><td>-109</td><td>-42</td><td>-35</td><td>-0.4</td><td>-2.7</td><td>1</td></tr><tr><td>3673</td><td>2024-12-31</td><td>&quot;予&quot;</td><td>2024-06-18</td><td>17600</td><td>50</td><td>50</td><td>40</td><td>0.5</td><td>2.0</td><td>4</td></tr><tr><td>3673</td><td>2024-12-31</td><td>&quot;予&quot;</td><td>2024-08-08</td><td>17600</td><td>50</td><td>100</td><td>90</td><td>1.0</td><td>2.0</td><td>4</td></tr><tr><td>3673</td><td>2024-06-30</td><td>&quot;四&quot;</td><td>2024-08-08</td><td>4407</td><td>65</td><td>58</td><td>21</td><td>0.2</td><td>1.5</td><td>2</td></tr><tr><td>3673</td><td>2024-09-30</td><td>&quot;四&quot;</td><td>2024-11-12</td><td>4537</td><td>332</td><td>277</td><td>175</td><td>2.0</td><td>7.3</td><td>3</td></tr><tr><td>3673</td><td>2024-12-31</td><td>&quot;予&quot;</td><td>2024-11-12</td><td>17800</td><td>450</td><td>350</td><td>125</td><td>1.4</td><td>2.0</td><td>4</td></tr></tbody></table></div>"
      ],
      "text/plain": [
       "shape: (8, 11)\n",
       "┌──────┬─────────────┬─────────────┬─────────────┬───┬────────────┬────────────┬──────────┬────────┐\n",
       "│ code ┆ settlement_ ┆ settlement_ ┆ announcemen ┆ … ┆ final_prof ┆ reviced_ep ┆ dividend ┆ quater │\n",
       "│ ---  ┆ date        ┆ type        ┆ t_date      ┆   ┆ it         ┆ s          ┆ ---      ┆ ---    │\n",
       "│ i64  ┆ ---         ┆ ---         ┆ ---         ┆   ┆ ---        ┆ ---        ┆ f64      ┆ i64    │\n",
       "│      ┆ date        ┆ str         ┆ date        ┆   ┆ i64        ┆ f64        ┆          ┆        │\n",
       "╞══════╪═════════════╪═════════════╪═════════════╪═══╪════════════╪════════════╪══════════╪════════╡\n",
       "│ 3673 ┆ 2023-12-31  ┆ 本          ┆ 2024-02-09  ┆ … ┆ -1487      ┆ -16.8      ┆ 1.0      ┆ 4      │\n",
       "│ 3673 ┆ 2023-12-31  ┆ 四          ┆ 2024-02-09  ┆ … ┆ -459       ┆ -5.2       ┆ -9.2     ┆ 4      │\n",
       "│ 3673 ┆ 2024-03-31  ┆ 四          ┆ 2024-05-09  ┆ … ┆ -35        ┆ -0.4       ┆ -2.7     ┆ 1      │\n",
       "│ 3673 ┆ 2024-12-31  ┆ 予          ┆ 2024-06-18  ┆ … ┆ 40         ┆ 0.5        ┆ 2.0      ┆ 4      │\n",
       "│ 3673 ┆ 2024-12-31  ┆ 予          ┆ 2024-08-08  ┆ … ┆ 90         ┆ 1.0        ┆ 2.0      ┆ 4      │\n",
       "│ 3673 ┆ 2024-06-30  ┆ 四          ┆ 2024-08-08  ┆ … ┆ 21         ┆ 0.2        ┆ 1.5      ┆ 2      │\n",
       "│ 3673 ┆ 2024-09-30  ┆ 四          ┆ 2024-11-12  ┆ … ┆ 175        ┆ 2.0        ┆ 7.3      ┆ 3      │\n",
       "│ 3673 ┆ 2024-12-31  ┆ 予          ┆ 2024-11-12  ┆ … ┆ 125        ┆ 1.4        ┆ 2.0      ┆ 4      │\n",
       "└──────┴─────────────┴─────────────┴─────────────┴───┴────────────┴────────────┴──────────┴────────┘"
      ]
     },
     "execution_count": 13,
     "metadata": {},
     "output_type": "execute_result"
    }
   ],
   "source": [
    "# appendix\n",
    "KPL.df.filter(pl.col(\"code\")==code).filter(pl.col(\"announcement_date\")>=date(2024,1,1))"
   ]
  },
  {
   "cell_type": "code",
   "execution_count": null,
   "id": "d962c1ec-5c5d-4ffb-a764-555827da2557",
   "metadata": {},
   "outputs": [],
   "source": []
  }
 ],
 "metadata": {
  "kernelspec": {
   "display_name": "Python 3 (ipykernel)",
   "language": "python",
   "name": "python3"
  },
  "language_info": {
   "codemirror_mode": {
    "name": "ipython",
    "version": 3
   },
   "file_extension": ".py",
   "mimetype": "text/x-python",
   "name": "python",
   "nbconvert_exporter": "python",
   "pygments_lexer": "ipython3",
   "version": "3.12.3"
  }
 },
 "nbformat": 4,
 "nbformat_minor": 5
}
