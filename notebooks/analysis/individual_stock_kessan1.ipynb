{
 "cells": [
  {
   "cell_type": "code",
   "execution_count": 1,
   "id": "72fe6020-2485-4d19-ba64-b2929df1c64f",
   "metadata": {},
   "outputs": [],
   "source": [
    "# valuation_date時におけるcodeで指定した銘柄の個別銘柄分析\n",
    "# SBI証券のモバイルの銘柄分析を参考に作成"
   ]
  },
  {
   "cell_type": "code",
   "execution_count": 2,
   "id": "4c3ea513-3b75-4b72-be31-8271db72c241",
   "metadata": {},
   "outputs": [],
   "source": [
    "### パラメータ設定セル\n",
    "from datetime import date\n",
    "from dateutil.relativedelta import relativedelta\n",
    "\n",
    "# パラメータをセット\n",
    "# code: 証券コード\n",
    "# valuation_date: 過去にさかのぼって評価日をdatetime.dateでセット可能。デフォルト値は今日(date.today())\n",
    "code = 4957\n",
    "valuation_date = date.today()\n",
    "#valuation_date = date(2024, 9, 1)\n"
   ]
  },
  {
   "cell_type": "code",
   "execution_count": 3,
   "id": "0fa30969-b1dd-4795-8ca4-8bb63e06f211",
   "metadata": {},
   "outputs": [],
   "source": [
    "# 読み込みファイルパスの設定とimportしたいmoduleパス(pythonパス)の設定\n",
    "from pathlib import Path\n",
    "import os, sys\n",
    "\n",
    "CURRENT_DIR = Path(os.getcwd())\n",
    "PJ_DIR = CURRENT_DIR.parent.parent\n",
    "LIB_DIR = PJ_DIR / \"lib\"\n",
    "DATA_DIR = PJ_DIR / \"data\" \n",
    "\n",
    "sys.path.append(str(LIB_DIR))\n",
    "\n",
    "# notebook内で利用するmoduleのimport\n",
    "from lib_dataprocess import PricelistPl, FinancequotePl, KessanPl, KessanFig, PricelistFig, read_data, get_df_latest_yearly_performance, get_latest_stockprice, print_finance_quote\n",
    "from lib_dataprocess import get_fig_expected_performance_progress_rate_pycharts, MeigaralistPl, get_fig_actual_performance_progress_rate_pycharts, ShikihoPl\n",
    "import polars as pl\n",
    "\n",
    "# dataの読み込み\n",
    "fp = DATA_DIR/\"raw_pricelist.parquet\"\n",
    "df = read_data(fp)\n",
    "PPL = PricelistPl(df)\n",
    "\n",
    "# dataの読み込み\n",
    "fp = DATA_DIR/\"reviced_pricelist.parquet\"\n",
    "df = read_data(fp)\n",
    "RevPPL = PricelistPl(df)\n",
    "\n",
    "fp = DATA_DIR/\"finance_quote.parquet\"\n",
    "df = read_data(fp)\n",
    "FPL = FinancequotePl(df)\n",
    "FPL.with_columns_market_cap()\n",
    "\n",
    "fp = DATA_DIR/\"kessan.parquet\"\n",
    "df = read_data(fp)\n",
    "KPL = KessanPl(df)\n",
    "\n",
    "fp = DATA_DIR/\"meigaralist.parquet\"\n",
    "df = read_data(fp)\n",
    "MPL = MeigaralistPl(df)\n",
    "\n",
    "fp = DATA_DIR/\"shikiho.parquet\"\n",
    "df = read_data(fp)\n",
    "SPL = ShikihoPl(df)"
   ]
  },
  {
   "cell_type": "code",
   "execution_count": 4,
   "id": "12cca2e1-9577-4b88-a042-170da054f42b",
   "metadata": {},
   "outputs": [
    {
     "name": "stdout",
     "output_type": "stream",
     "text": [
      "ヤスハラケミカル(4957)の銘柄情報\n",
      "\n",
      "終値: 809.0円(2024年12月11日)\n",
      "予想配当利回り: 1.48%(2024年12月11日)\n",
      "予想PER: 7.3倍(2024年12月11日)\n",
      "実績PBR: 0.36倍(2024年12月11日)\n",
      "自己資本比率: 73.1%(2024年12月11日)\n",
      "予想ROE: 4.96%(2024年12月11日)\n",
      "予想ROA: 3.63%(2024年12月11日)\n",
      "時価総額: 87.7億円(2024年12月11日)\n",
      "\n",
      "4957(ヤスハラケミカル)の四季報データ履歴\n",
      "\n",
      "発行日: 2024年09月13日\n",
      "【上振れ】\n",
      "  ホットメルトは食品向け横ばい。テルペンはインフラ向け安定。ただ半導体など電子材料向け上振れ。前半軸に円安効果も。原材料高は価格改定でこなし、償却負担も減。増益幅拡大。為替差益。特損なし。\n",
      "【開発力】\n",
      "  ホットメルトはエラストマー加工による新規高機能接着剤を食品用向けに開発注力。ラミネートはサック貼り用二軸延伸ポリプロピレンの熱ラミ加工を深耕。\n",
      "\n",
      "発行日: 2024年06月14日\n",
      "【連続増益】\n",
      "  ホットメルト接着剤は食品用途が回復途上。化成品の電子材料向け横ばい。が、インフラ向けは安定、自動車部品用途が堅調。原材料高止まりは価格転嫁と円安でこなす。前期減損で償却負担減もあり大幅増益。為替差益想定せず。特損なし。\n",
      "【化成品】\n",
      "  天然由来原料のテルペン誘導体で積層セラミックコンデンサーなど電子材料向けが伸長。東南アの取引先拡大に注力。\n",
      "\n",
      "発行日: 2024年03月16日\n",
      "【連続増益】\n",
      "  テルペン化学品はインフラ向け堅調、自動車用品が回復。円安追い風。為替差益。有証売却で特益。25年3月期は自動車用品が堅調、電子材料向けも復調。原材料高を原価低減でこなし、営業益続伸。\n",
      "【環境対応】\n",
      "  ラミネートフィルムは有機溶剤不使用による環境対応用途拡充。独自技術で生産の水添テルペンフェノール樹脂と高軟化点グレード樹脂も環境需要深耕へ。\n",
      "\n",
      "発行日: 2023年12月15日\n",
      "【好転】\n",
      "  柱のテルペン化学品は電子材料向け鈍いが、工業用やインフラ向け堅調。自動車用品用途が回復。ホットメルト接着剤は生活用品好調。人件費など販管費増も、生産効率化継続で反発。為替差益。25年3月期は自動車用品用途が着実、営業増益。\n",
      "【環境】\n",
      "  今年度全工場でのCO2排出原単位は前年度比1%削減が目標。ホットメルト接着剤は有機溶剤不使用で環境対応。\n"
     ]
    }
   ],
   "source": [
    "### 最新情報\n",
    "# 指定したcodeの指定した日における株価と各種ファンダメンタルズデータをまとめて標準出力する\n",
    "# pricelist_dfは、raw_pricelistかreviced_pricelistかケースに応じて使い分ける。\n",
    "# def print_finance_quote(\n",
    "#        pricelist_df: pl.DataFrame,\n",
    "#        finance_quote_df: pl.DataFrame,\n",
    "#        code: int, \n",
    "#        valuation_date: date=date.today()\n",
    "#    ) -> None:\n",
    "print_finance_quote(PPL.df, FPL.df, code, valuation_date=valuation_date)\n",
    "print()\n",
    "SPL.print_stock_df(code, num=4, valuation_date=valuation_date)"
   ]
  },
  {
   "cell_type": "code",
   "execution_count": 5,
   "id": "0496d051-66d9-4003-8ca9-71a782b5ec88",
   "metadata": {},
   "outputs": [
    {
     "data": {
      "text/html": [
       "<iframe\n",
       "    scrolling=\"no\"\n",
       "    width=\"100%\"\n",
       "    height=\"545px\"\n",
       "    src=\"iframe_figures/figure_5.html\"\n",
       "    frameborder=\"0\"\n",
       "    allowfullscreen\n",
       "></iframe>\n"
      ]
     },
     "metadata": {},
     "output_type": "display_data"
    }
   ],
   "source": [
    "### 業績推移\n",
    "\n",
    "# KessanFig(\n",
    "#    code: int, \n",
    "#    settlement_type: Literal[\"通期\", \"四半期\"], \n",
    "#    output_target: str = \"jupyter\",\n",
    "#    start_settlement_date: date = date(1900, 1, 1),\n",
    "#    end_settlement_date: date = date(2999, 12, 31)\n",
    "#)\n",
    "\n",
    "KFIG = KessanFig(code, \"通期\", end_settlement_date=valuation_date)\n",
    "KFIG.add_trace_profits()\n",
    "KFIG.fig.show()"
   ]
  },
  {
   "cell_type": "code",
   "execution_count": 6,
   "id": "0fcfaabe-403b-4c14-a9e7-e5a83685dbe4",
   "metadata": {},
   "outputs": [
    {
     "name": "stdout",
     "output_type": "stream",
     "text": [
      "2024-03-31\n"
     ]
    },
    {
     "data": {
      "text/html": [
       "<div><style>\n",
       ".dataframe > thead > tr,\n",
       ".dataframe > tbody > tr {\n",
       "  text-align: right;\n",
       "  white-space: pre-wrap;\n",
       "}\n",
       "</style>\n",
       "<small>shape: (2, 11)</small><table border=\"1\" class=\"dataframe\"><thead><tr><th>code</th><th>settlement_date</th><th>settlement_type</th><th>announcement_date</th><th>sales</th><th>operating_income</th><th>ordinary_profit</th><th>final_profit</th><th>reviced_eps</th><th>dividend</th><th>quater</th></tr><tr><td>i64</td><td>date</td><td>str</td><td>date</td><td>i64</td><td>i64</td><td>i64</td><td>i64</td><td>f64</td><td>f64</td><td>i64</td></tr></thead><tbody><tr><td>4957</td><td>2025-03-31</td><td>&quot;予&quot;</td><td>2024-10-31</td><td>14392</td><td>1545</td><td>1433</td><td>1017</td><td>112.1</td><td>12.0</td><td>4</td></tr><tr><td>4957</td><td>2025-03-31</td><td>&quot;予&quot;</td><td>2024-04-30</td><td>13305</td><td>893</td><td>961</td><td>664</td><td>72.0</td><td>12.0</td><td>4</td></tr></tbody></table></div>"
      ],
      "text/plain": [
       "shape: (2, 11)\n",
       "┌──────┬─────────────┬─────────────┬─────────────┬───┬────────────┬────────────┬──────────┬────────┐\n",
       "│ code ┆ settlement_ ┆ settlement_ ┆ announcemen ┆ … ┆ final_prof ┆ reviced_ep ┆ dividend ┆ quater │\n",
       "│ ---  ┆ date        ┆ type        ┆ t_date      ┆   ┆ it         ┆ s          ┆ ---      ┆ ---    │\n",
       "│ i64  ┆ ---         ┆ ---         ┆ ---         ┆   ┆ ---        ┆ ---        ┆ f64      ┆ i64    │\n",
       "│      ┆ date        ┆ str         ┆ date        ┆   ┆ i64        ┆ f64        ┆          ┆        │\n",
       "╞══════╪═════════════╪═════════════╪═════════════╪═══╪════════════╪════════════╪══════════╪════════╡\n",
       "│ 4957 ┆ 2025-03-31  ┆ 予          ┆ 2024-10-31  ┆ … ┆ 1017       ┆ 112.1      ┆ 12.0     ┆ 4      │\n",
       "│ 4957 ┆ 2025-03-31  ┆ 予          ┆ 2024-04-30  ┆ … ┆ 664        ┆ 72.0       ┆ 12.0     ┆ 4      │\n",
       "└──────┴─────────────┴─────────────┴─────────────┴───┴────────────┴────────────┴──────────┴────────┘"
      ]
     },
     "execution_count": 6,
     "metadata": {},
     "output_type": "execute_result"
    }
   ],
   "source": [
    "# 今季決算予想発表の推移\n",
    "df = KPL.get_settlement_forcast(code, valuation_date)\n",
    "df"
   ]
  },
  {
   "cell_type": "code",
   "execution_count": 7,
   "id": "9640855f-4673-4470-8ef7-5995b03feaa1",
   "metadata": {},
   "outputs": [
    {
     "name": "stdout",
     "output_type": "stream",
     "text": [
      "ヤスハラケミカル(4957)の通期決算(評価日：2024年12月13日)\n"
     ]
    },
    {
     "data": {
      "text/html": [
       "<div><style>\n",
       ".dataframe > thead > tr,\n",
       ".dataframe > tbody > tr {\n",
       "  text-align: right;\n",
       "  white-space: pre-wrap;\n",
       "}\n",
       "</style>\n",
       "<small>shape: (2, 8)</small><table border=\"1\" class=\"dataframe\"><thead><tr><th>決算期</th><th>決算発表日</th><th>売上高</th><th>営業利益</th><th>経常利益</th><th>純利益</th><th>EPS</th><th>1株配当</th></tr><tr><td>str</td><td>date</td><td>i64</td><td>i64</td><td>i64</td><td>i64</td><td>f64</td><td>f64</td></tr></thead><tbody><tr><td>&quot;2025年3月期(予)&quot;</td><td>2024-10-31</td><td>14392</td><td>1545</td><td>1433</td><td>1017</td><td>112.1</td><td>12.0</td></tr><tr><td>&quot;2024年3月期&quot;</td><td>2024-04-30</td><td>13192</td><td>681</td><td>1173</td><td>583</td><td>61.5</td><td>12.0</td></tr></tbody></table></div>"
      ],
      "text/plain": [
       "shape: (2, 8)\n",
       "┌─────────────────┬────────────┬────────┬──────────┬──────────┬────────┬───────┬─────────┐\n",
       "│ 決算期          ┆ 決算発表日 ┆ 売上高 ┆ 営業利益 ┆ 経常利益 ┆ 純利益 ┆ EPS   ┆ 1株配当 │\n",
       "│ ---             ┆ ---        ┆ ---    ┆ ---      ┆ ---      ┆ ---    ┆ ---   ┆ ---     │\n",
       "│ str             ┆ date       ┆ i64    ┆ i64      ┆ i64      ┆ i64    ┆ f64   ┆ f64     │\n",
       "╞═════════════════╪════════════╪════════╪══════════╪══════════╪════════╪═══════╪═════════╡\n",
       "│ 2025年3月期(予) ┆ 2024-10-31 ┆ 14392  ┆ 1545     ┆ 1433     ┆ 1017   ┆ 112.1 ┆ 12.0    │\n",
       "│ 2024年3月期     ┆ 2024-04-30 ┆ 13192  ┆ 681      ┆ 1173     ┆ 583    ┆ 61.5  ┆ 12.0    │\n",
       "└─────────────────┴────────────┴────────┴──────────┴──────────┴────────┴───────┴─────────┘"
      ]
     },
     "execution_count": 7,
     "metadata": {},
     "output_type": "execute_result"
    }
   ],
   "source": [
    "### 通期業績、業績予想\n",
    "# def get_df_latest_yearly_performance(code: int, valuation_date: date=date.today()) -> pl.DataFrame:\n",
    "df = get_df_latest_yearly_performance(code, valuation_date)\n",
    "df"
   ]
  },
  {
   "cell_type": "code",
   "execution_count": 8,
   "id": "9ebf91d2-7436-46c3-b035-04a125b60357",
   "metadata": {},
   "outputs": [
    {
     "data": {
      "text/html": [
       "<iframe\n",
       "    scrolling=\"no\"\n",
       "    width=\"100%\"\n",
       "    height=\"545px\"\n",
       "    src=\"iframe_figures/figure_8.html\"\n",
       "    frameborder=\"0\"\n",
       "    allowfullscreen\n",
       "></iframe>\n"
      ]
     },
     "metadata": {},
     "output_type": "display_data"
    },
    {
     "data": {
      "text/html": [
       "<div><style>\n",
       ".dataframe > thead > tr,\n",
       ".dataframe > tbody > tr {\n",
       "  text-align: right;\n",
       "  white-space: pre-wrap;\n",
       "}\n",
       "</style>\n",
       "<small>shape: (8, 11)</small><table border=\"1\" class=\"dataframe\"><thead><tr><th>code</th><th>settlement_date</th><th>settlement_type</th><th>announcement_date</th><th>sales</th><th>operating_income</th><th>ordinary_profit</th><th>final_profit</th><th>reviced_eps</th><th>dividend</th><th>quater</th></tr><tr><td>i64</td><td>date</td><td>str</td><td>date</td><td>i64</td><td>i64</td><td>i64</td><td>i64</td><td>f64</td><td>f64</td><td>i64</td></tr></thead><tbody><tr><td>4957</td><td>2024-09-30</td><td>&quot;四&quot;</td><td>2024-10-31</td><td>3682</td><td>499</td><td>129</td><td>109</td><td>11.9</td><td>13.6</td><td>2</td></tr><tr><td>4957</td><td>2024-06-30</td><td>&quot;四&quot;</td><td>2024-07-31</td><td>3545</td><td>410</td><td>634</td><td>441</td><td>47.9</td><td>11.6</td><td>1</td></tr><tr><td>4957</td><td>2024-03-31</td><td>&quot;四&quot;</td><td>2024-04-30</td><td>3247</td><td>204</td><td>406</td><td>-190</td><td>-20.0</td><td>6.3</td><td>4</td></tr><tr><td>4957</td><td>2023-12-31</td><td>&quot;四&quot;</td><td>2024-01-31</td><td>3622</td><td>334</td><td>213</td><td>307</td><td>32.3</td><td>9.2</td><td>3</td></tr><tr><td>4957</td><td>2023-09-30</td><td>&quot;四&quot;</td><td>2023-10-31</td><td>3142</td><td>200</td><td>306</td><td>234</td><td>24.6</td><td>6.4</td><td>2</td></tr><tr><td>4957</td><td>2023-06-30</td><td>&quot;四&quot;</td><td>2023-07-28</td><td>3181</td><td>-57</td><td>248</td><td>232</td><td>24.4</td><td>-1.8</td><td>1</td></tr><tr><td>4957</td><td>2023-03-31</td><td>&quot;四&quot;</td><td>2023-04-28</td><td>2911</td><td>-82</td><td>-33</td><td>14</td><td>1.4</td><td>-2.8</td><td>4</td></tr><tr><td>4957</td><td>2022-12-31</td><td>&quot;四&quot;</td><td>2023-01-30</td><td>2939</td><td>59</td><td>-61</td><td>133</td><td>13.0</td><td>2.0</td><td>3</td></tr></tbody></table></div>"
      ],
      "text/plain": [
       "shape: (8, 11)\n",
       "┌──────┬─────────────┬─────────────┬─────────────┬───┬────────────┬────────────┬──────────┬────────┐\n",
       "│ code ┆ settlement_ ┆ settlement_ ┆ announcemen ┆ … ┆ final_prof ┆ reviced_ep ┆ dividend ┆ quater │\n",
       "│ ---  ┆ date        ┆ type        ┆ t_date      ┆   ┆ it         ┆ s          ┆ ---      ┆ ---    │\n",
       "│ i64  ┆ ---         ┆ ---         ┆ ---         ┆   ┆ ---        ┆ ---        ┆ f64      ┆ i64    │\n",
       "│      ┆ date        ┆ str         ┆ date        ┆   ┆ i64        ┆ f64        ┆          ┆        │\n",
       "╞══════╪═════════════╪═════════════╪═════════════╪═══╪════════════╪════════════╪══════════╪════════╡\n",
       "│ 4957 ┆ 2024-09-30  ┆ 四          ┆ 2024-10-31  ┆ … ┆ 109        ┆ 11.9       ┆ 13.6     ┆ 2      │\n",
       "│ 4957 ┆ 2024-06-30  ┆ 四          ┆ 2024-07-31  ┆ … ┆ 441        ┆ 47.9       ┆ 11.6     ┆ 1      │\n",
       "│ 4957 ┆ 2024-03-31  ┆ 四          ┆ 2024-04-30  ┆ … ┆ -190       ┆ -20.0      ┆ 6.3      ┆ 4      │\n",
       "│ 4957 ┆ 2023-12-31  ┆ 四          ┆ 2024-01-31  ┆ … ┆ 307        ┆ 32.3       ┆ 9.2      ┆ 3      │\n",
       "│ 4957 ┆ 2023-09-30  ┆ 四          ┆ 2023-10-31  ┆ … ┆ 234        ┆ 24.6       ┆ 6.4      ┆ 2      │\n",
       "│ 4957 ┆ 2023-06-30  ┆ 四          ┆ 2023-07-28  ┆ … ┆ 232        ┆ 24.4       ┆ -1.8     ┆ 1      │\n",
       "│ 4957 ┆ 2023-03-31  ┆ 四          ┆ 2023-04-28  ┆ … ┆ 14         ┆ 1.4        ┆ -2.8     ┆ 4      │\n",
       "│ 4957 ┆ 2022-12-31  ┆ 四          ┆ 2023-01-30  ┆ … ┆ 133        ┆ 13.0       ┆ 2.0      ┆ 3      │\n",
       "└──────┴─────────────┴─────────────┴─────────────┴───┴────────────┴────────────┴──────────┴────────┘"
      ]
     },
     "execution_count": 8,
     "metadata": {},
     "output_type": "execute_result"
    }
   ],
   "source": [
    "KFIG = KessanFig(code, \"四半期\", end_settlement_date=valuation_date)\n",
    "KFIG.add_trace_profits()\n",
    "KFIG.fig.show()\n",
    "KPL.get_latest_quater_settlement(code, valuation_date)"
   ]
  },
  {
   "cell_type": "code",
   "execution_count": 9,
   "id": "0e6e726c-d77c-464d-8d42-3247af5afba0",
   "metadata": {},
   "outputs": [
    {
     "name": "stdout",
     "output_type": "stream",
     "text": [
      "ヤスハラケミカル(4957)の2025年3月期第2四半期決算進捗率(評価日：2024-12-13)\n"
     ]
    },
    {
     "data": {
      "text/html": [
       "<iframe\n",
       "    scrolling=\"no\"\n",
       "    width=\"100%\"\n",
       "    height=\"545px\"\n",
       "    src=\"iframe_figures/figure_9.html\"\n",
       "    frameborder=\"0\"\n",
       "    allowfullscreen\n",
       "></iframe>\n"
      ]
     },
     "metadata": {},
     "output_type": "display_data"
    }
   ],
   "source": [
    "# codeで指定した銘柄のevaluation_dateで指定した時点での最新の年度決算予想に基づく\n",
    "# 売上高~純利益の決算進捗率を円グラフで表示するためのfigを返す\n",
    "# from plotly.graph_objects import Figure\n",
    "# def get_fig_expected_performance_progress_rate_pycharts(code: int, evaluation_date: date=date.today()) -> Figure:\n",
    "\n",
    "fig1 = get_fig_expected_performance_progress_rate_pycharts(code, valuation_date)\n",
    "fig1.show()"
   ]
  },
  {
   "cell_type": "code",
   "execution_count": 10,
   "id": "412228f6-95ef-432e-af38-b2301c619c9e",
   "metadata": {},
   "outputs": [
    {
     "name": "stdout",
     "output_type": "stream",
     "text": [
      "ヤスハラケミカル(4957)の2024年3月期第2四半期決算進捗率(評価日：2023-12-13)\n"
     ]
    },
    {
     "data": {
      "text/html": [
       "<iframe\n",
       "    scrolling=\"no\"\n",
       "    width=\"100%\"\n",
       "    height=\"545px\"\n",
       "    src=\"iframe_figures/figure_10.html\"\n",
       "    frameborder=\"0\"\n",
       "    allowfullscreen\n",
       "></iframe>\n"
      ]
     },
     "metadata": {},
     "output_type": "display_data"
    }
   ],
   "source": [
    "last_year_valuation_date = date(valuation_date.year-1, valuation_date.month, valuation_date.day)\n",
    "\n",
    "# codeで指定した銘柄のevaluation_dateで指定した時点での最新の四半期決算発表に基づく\n",
    "# 売上高~純利益の決算進捗率を円グラフで表示するためのfigを返す\n",
    "# valuation_dateで指定する日において、当年度の本決算が発表されていない日を指定した場合は前期末第4四半期の進捗率を表示するので、進捗率100%で表示される。\n",
    "fig2 = get_fig_actual_performance_progress_rate_pycharts(code, last_year_valuation_date, KPL.df, MPL.df)\n",
    "fig2.show()"
   ]
  },
  {
   "cell_type": "code",
   "execution_count": 11,
   "id": "872ee2f6-4f2a-4c21-9a61-f3f86b442637",
   "metadata": {},
   "outputs": [],
   "source": [
    "#### valuation_dateに過去日を指定した場合、valuation_dateを含む期の株価推移\n",
    "#### 答え合わせ"
   ]
  },
  {
   "cell_type": "code",
   "execution_count": 12,
   "id": "2860596f-c601-466f-bb47-327efd7811f9",
   "metadata": {},
   "outputs": [
    {
     "data": {
      "text/html": [
       "<iframe\n",
       "    scrolling=\"no\"\n",
       "    width=\"100%\"\n",
       "    height=\"620\"\n",
       "    src=\"iframe_figures/figure_12.html\"\n",
       "    frameborder=\"0\"\n",
       "    allowfullscreen\n",
       "></iframe>\n"
      ]
     },
     "metadata": {},
     "output_type": "display_data"
    }
   ],
   "source": [
    "# 株価推移\n",
    "# 前期算発表翌営業日～今期決算発表日翌営業日\n",
    "start_date, end_date = KPL.get_current_settlement_period_by_announcement_date(code, valuation_date, \"四\")\n",
    "\n",
    "df = RevPPL.df.filter(pl.col(\"code\")==code).filter(pl.col(\"date\")>start_date)\n",
    "start_date = df[\"date\"].to_list()[0]\n",
    "\n",
    "df = RevPPL.df.filter(pl.col(\"code\")==code).filter(pl.col(\"date\")>end_date)\n",
    "if not end_date == date(2999, 12, 31):\n",
    "    end_date = df[\"date\"].to_list()[0]\n",
    "\n",
    "PFIG = PricelistFig(code, RevPPL.df, MPL.df, start_date, end_date)\n",
    "df = RevPPL.df.filter(pl.col(\"code\")==code).filter(pl.col(\"date\")<=valuation_date)\n",
    "vline_date = df[\"date\"].to_list()[-1]\n",
    "PFIG.add_vline(vline_date)\n",
    "PFIG.fig.show()"
   ]
  },
  {
   "cell_type": "code",
   "execution_count": 13,
   "id": "4d964308-8c7a-4624-8e20-5acb7823d0c8",
   "metadata": {},
   "outputs": [
    {
     "data": {
      "text/html": [
       "<div><style>\n",
       ".dataframe > thead > tr,\n",
       ".dataframe > tbody > tr {\n",
       "  text-align: right;\n",
       "  white-space: pre-wrap;\n",
       "}\n",
       "</style>\n",
       "<small>shape: (7, 11)</small><table border=\"1\" class=\"dataframe\"><thead><tr><th>code</th><th>settlement_date</th><th>settlement_type</th><th>announcement_date</th><th>sales</th><th>operating_income</th><th>ordinary_profit</th><th>final_profit</th><th>reviced_eps</th><th>dividend</th><th>quater</th></tr><tr><td>i64</td><td>date</td><td>str</td><td>date</td><td>i64</td><td>i64</td><td>i64</td><td>i64</td><td>f64</td><td>f64</td><td>i64</td></tr></thead><tbody><tr><td>4957</td><td>2023-12-31</td><td>&quot;四&quot;</td><td>2024-01-31</td><td>3622</td><td>334</td><td>213</td><td>307</td><td>32.3</td><td>9.2</td><td>3</td></tr><tr><td>4957</td><td>2024-03-31</td><td>&quot;本&quot;</td><td>2024-04-30</td><td>13192</td><td>681</td><td>1173</td><td>583</td><td>61.5</td><td>12.0</td><td>4</td></tr><tr><td>4957</td><td>2025-03-31</td><td>&quot;予&quot;</td><td>2024-04-30</td><td>13305</td><td>893</td><td>961</td><td>664</td><td>72.0</td><td>12.0</td><td>4</td></tr><tr><td>4957</td><td>2024-03-31</td><td>&quot;四&quot;</td><td>2024-04-30</td><td>3247</td><td>204</td><td>406</td><td>-190</td><td>-20.0</td><td>6.3</td><td>4</td></tr><tr><td>4957</td><td>2024-06-30</td><td>&quot;四&quot;</td><td>2024-07-31</td><td>3545</td><td>410</td><td>634</td><td>441</td><td>47.9</td><td>11.6</td><td>1</td></tr><tr><td>4957</td><td>2025-03-31</td><td>&quot;予&quot;</td><td>2024-10-31</td><td>14392</td><td>1545</td><td>1433</td><td>1017</td><td>112.1</td><td>12.0</td><td>4</td></tr><tr><td>4957</td><td>2024-09-30</td><td>&quot;四&quot;</td><td>2024-10-31</td><td>3682</td><td>499</td><td>129</td><td>109</td><td>11.9</td><td>13.6</td><td>2</td></tr></tbody></table></div>"
      ],
      "text/plain": [
       "shape: (7, 11)\n",
       "┌──────┬─────────────┬─────────────┬─────────────┬───┬────────────┬────────────┬──────────┬────────┐\n",
       "│ code ┆ settlement_ ┆ settlement_ ┆ announcemen ┆ … ┆ final_prof ┆ reviced_ep ┆ dividend ┆ quater │\n",
       "│ ---  ┆ date        ┆ type        ┆ t_date      ┆   ┆ it         ┆ s          ┆ ---      ┆ ---    │\n",
       "│ i64  ┆ ---         ┆ ---         ┆ ---         ┆   ┆ ---        ┆ ---        ┆ f64      ┆ i64    │\n",
       "│      ┆ date        ┆ str         ┆ date        ┆   ┆ i64        ┆ f64        ┆          ┆        │\n",
       "╞══════╪═════════════╪═════════════╪═════════════╪═══╪════════════╪════════════╪══════════╪════════╡\n",
       "│ 4957 ┆ 2023-12-31  ┆ 四          ┆ 2024-01-31  ┆ … ┆ 307        ┆ 32.3       ┆ 9.2      ┆ 3      │\n",
       "│ 4957 ┆ 2024-03-31  ┆ 本          ┆ 2024-04-30  ┆ … ┆ 583        ┆ 61.5       ┆ 12.0     ┆ 4      │\n",
       "│ 4957 ┆ 2025-03-31  ┆ 予          ┆ 2024-04-30  ┆ … ┆ 664        ┆ 72.0       ┆ 12.0     ┆ 4      │\n",
       "│ 4957 ┆ 2024-03-31  ┆ 四          ┆ 2024-04-30  ┆ … ┆ -190       ┆ -20.0      ┆ 6.3      ┆ 4      │\n",
       "│ 4957 ┆ 2024-06-30  ┆ 四          ┆ 2024-07-31  ┆ … ┆ 441        ┆ 47.9       ┆ 11.6     ┆ 1      │\n",
       "│ 4957 ┆ 2025-03-31  ┆ 予          ┆ 2024-10-31  ┆ … ┆ 1017       ┆ 112.1      ┆ 12.0     ┆ 4      │\n",
       "│ 4957 ┆ 2024-09-30  ┆ 四          ┆ 2024-10-31  ┆ … ┆ 109        ┆ 11.9       ┆ 13.6     ┆ 2      │\n",
       "└──────┴─────────────┴─────────────┴─────────────┴───┴────────────┴────────────┴──────────┴────────┘"
      ]
     },
     "execution_count": 13,
     "metadata": {},
     "output_type": "execute_result"
    }
   ],
   "source": [
    "# appendix\n",
    "KPL.df.filter(pl.col(\"code\")==code).filter(pl.col(\"announcement_date\")>=date(2024,1,1))"
   ]
  },
  {
   "cell_type": "code",
   "execution_count": null,
   "id": "d962c1ec-5c5d-4ffb-a764-555827da2557",
   "metadata": {},
   "outputs": [],
   "source": []
  }
 ],
 "metadata": {
  "kernelspec": {
   "display_name": "Python 3 (ipykernel)",
   "language": "python",
   "name": "python3"
  },
  "language_info": {
   "codemirror_mode": {
    "name": "ipython",
    "version": 3
   },
   "file_extension": ".py",
   "mimetype": "text/x-python",
   "name": "python",
   "nbconvert_exporter": "python",
   "pygments_lexer": "ipython3",
   "version": "3.12.3"
  }
 },
 "nbformat": 4,
 "nbformat_minor": 5
}
