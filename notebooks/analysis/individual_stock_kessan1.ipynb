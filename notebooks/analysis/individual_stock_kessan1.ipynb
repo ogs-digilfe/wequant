{
 "cells": [
  {
   "cell_type": "code",
   "execution_count": 1,
   "id": "72fe6020-2485-4d19-ba64-b2929df1c64f",
   "metadata": {},
   "outputs": [],
   "source": [
    "# valuation_date時におけるcodeで指定した銘柄の個別銘柄分析\n",
    "# SBI証券のモバイルの銘柄分析を参考に作成"
   ]
  },
  {
   "cell_type": "code",
   "execution_count": 2,
   "id": "4c3ea513-3b75-4b72-be31-8271db72c241",
   "metadata": {},
   "outputs": [],
   "source": [
    "### パラメータ設定セル\n",
    "from datetime import date\n",
    "from dateutil.relativedelta import relativedelta\n",
    "\n",
    "# パラメータをセット\n",
    "# code: 証券コード\n",
    "# valuation_date: 過去にさかのぼって評価日をdatetime.dateでセット可能。デフォルト値は今日(date.today())\n",
    "code = 8160\n",
    "valuation_date = date.today()\n",
    "#valuation_date = date(2024, 9, 1)\n"
   ]
  },
  {
   "cell_type": "code",
   "execution_count": 3,
   "id": "0fa30969-b1dd-4795-8ca4-8bb63e06f211",
   "metadata": {},
   "outputs": [],
   "source": [
    "# 読み込みファイルパスの設定とimportしたいmoduleパス(pythonパス)の設定\n",
    "from pathlib import Path\n",
    "import os, sys\n",
    "\n",
    "CURRENT_DIR = Path(os.getcwd())\n",
    "PJ_DIR = CURRENT_DIR.parent.parent\n",
    "LIB_DIR = PJ_DIR / \"lib\"\n",
    "DATA_DIR = PJ_DIR / \"data\" \n",
    "\n",
    "sys.path.append(str(LIB_DIR))\n",
    "\n",
    "# notebook内で利用するmoduleのimport\n",
    "from lib_dataprocess import PricelistPl, FinancequotePl, KessanPl, KessanFig, PricelistFig, read_data, get_df_latest_yearly_performance, get_latest_stockprice, print_finance_quote\n",
    "from lib_dataprocess import get_fig_expected_performance_progress_rate_pycharts, MeigaralistPl, get_fig_actual_performance_progress_rate_pycharts, ShikihoPl\n",
    "import polars as pl\n",
    "\n",
    "# dataの読み込み\n",
    "fp = DATA_DIR/\"raw_pricelist.parquet\"\n",
    "df = read_data(fp)\n",
    "PPL = PricelistPl(df)\n",
    "\n",
    "# dataの読み込み\n",
    "fp = DATA_DIR/\"reviced_pricelist.parquet\"\n",
    "df = read_data(fp)\n",
    "RevPPL = PricelistPl(df)\n",
    "\n",
    "fp = DATA_DIR/\"finance_quote.parquet\"\n",
    "df = read_data(fp)\n",
    "FPL = FinancequotePl(df)\n",
    "FPL.with_columns_market_cap()\n",
    "\n",
    "fp = DATA_DIR/\"kessan.parquet\"\n",
    "df = read_data(fp)\n",
    "KPL = KessanPl(df)\n",
    "\n",
    "fp = DATA_DIR/\"meigaralist.parquet\"\n",
    "df = read_data(fp)\n",
    "MPL = MeigaralistPl(df)\n",
    "\n",
    "fp = DATA_DIR/\"shikiho.parquet\"\n",
    "df = read_data(fp)\n",
    "SPL = ShikihoPl(df)"
   ]
  },
  {
   "cell_type": "code",
   "execution_count": 4,
   "id": "12cca2e1-9577-4b88-a042-170da054f42b",
   "metadata": {},
   "outputs": [
    {
     "name": "stdout",
     "output_type": "stream",
     "text": [
      "木曽路(8160)の銘柄情報\n",
      "\n",
      "終値: 2120.0円(2024年12月16日)\n",
      "予想配当利回り: 1.13%(2024年12月16日)\n",
      "予想PER: 49.75倍(2024年12月16日)\n",
      "実績PBR: 2.26倍(2024年12月16日)\n",
      "自己資本比率: 60.2%(2024年12月16日)\n",
      "予想ROE: 4.54%(2024年12月16日)\n",
      "予想ROA: 2.73%(2024年12月16日)\n",
      "時価総額: 605.1億円(2024年12月16日)\n",
      "\n",
      "8160(木曽路)の四季報データ履歴\n",
      "\n",
      "発行日: 2024年09月13日\n",
      "【順調】\n",
      "  店舗は焼き肉・居酒屋を軸に純増1～2(前期は増減ゼロ)。『木曽路』は慶事需要開拓や改装が効き既存店順調。小粒だがECも徐々に拡大。客数予測を基にした人件費コントロール奏功。減損特損減る。\n",
      "【中計】\n",
      "  27年3月期に売上600億円、営業利益32億円目標。好調な焼き肉事業を売上139億円に拡大模索(前期81億円)、出店加速とリピーター育成が達成のカギ。\n",
      "\n",
      "発行日: 2024年06月14日\n",
      "【連続増配】\n",
      "  焼き肉・居酒屋軸に店舗微増圏(前期は増減ゼロ)。『木曽路』業態の慶事需要の取り込み順調、改装等の施策で既存店伸ばす。客数予測基にした人件費コントロールも効き営業増益。減損特損減る。\n",
      "【攻勢】\n",
      "  焼き肉は既存客向けにアプリでフェア情報配信や予約機能強化の一方、折り込みチラシ等で新客開拓も推進。『木曽路』も持ち帰り商品拡充で顧客接点広げる。\n",
      "\n",
      "発行日: 2024年03月16日\n",
      "【増勢】\n",
      "  建築費高騰で出店手控え店舗純増ゼロに(前期は純減1)。『木曽路』など既存店順調。人件費コントロールも効果大。25年3月期は焼き肉・居酒屋の出店加速し店舗微増圏へ。メニュー開発等をテコに既存店底上げ。人件費増こなす。連続増配も。\n",
      "【対策】\n",
      "  出店は従来の郊外型より建築費安いビル内や居抜きを重点模索。客数予想に基づくシフト管理徹底、人件費高に対策。\n",
      "\n",
      "発行日: 2023年12月15日\n",
      "【浮上】\n",
      "  店舗純増5程度（前期純減1）。夜間の客足戻り『木曽路』既存店増勢。前期の価格改定による原価率低減効果が顕著。光熱費増かわす。25年3月期も焼き肉軸に店舗純増今期並み。人件費増でも増益続く。\n",
      "【攻守】\n",
      "  吸収合併した『大将軍』など焼き肉業態を第2の柱に重点育成、関東と中部を射程に出店攻勢。吸収会社はまず本部機能を統合、人事異動も行い運営効率化推進。\n"
     ]
    }
   ],
   "source": [
    "### 最新情報\n",
    "# 指定したcodeの指定した日における株価と各種ファンダメンタルズデータをまとめて標準出力する\n",
    "# pricelist_dfは、raw_pricelistかreviced_pricelistかケースに応じて使い分ける。\n",
    "# def print_finance_quote(\n",
    "#        pricelist_df: pl.DataFrame,\n",
    "#        finance_quote_df: pl.DataFrame,\n",
    "#        code: int, \n",
    "#        valuation_date: date=date.today()\n",
    "#    ) -> None:\n",
    "print_finance_quote(PPL.df, FPL.df, code, valuation_date=valuation_date)\n",
    "print()\n",
    "SPL.print_stock_df(code, num=4, valuation_date=valuation_date)"
   ]
  },
  {
   "cell_type": "code",
   "execution_count": 5,
   "id": "0496d051-66d9-4003-8ca9-71a782b5ec88",
   "metadata": {},
   "outputs": [
    {
     "data": {
      "text/html": [
       "<iframe\n",
       "    scrolling=\"no\"\n",
       "    width=\"100%\"\n",
       "    height=\"545px\"\n",
       "    src=\"iframe_figures/figure_5.html\"\n",
       "    frameborder=\"0\"\n",
       "    allowfullscreen\n",
       "></iframe>\n"
      ]
     },
     "metadata": {},
     "output_type": "display_data"
    }
   ],
   "source": [
    "### 業績推移\n",
    "\n",
    "# KessanFig(\n",
    "#    code: int, \n",
    "#    settlement_type: Literal[\"通期\", \"四半期\"], \n",
    "#    output_target: str = \"jupyter\",\n",
    "#    start_settlement_date: date = date(1900, 1, 1),\n",
    "#    end_settlement_date: date = date(2999, 12, 31)\n",
    "#)\n",
    "\n",
    "KFIG = KessanFig(code, \"通期\", end_settlement_date=valuation_date)\n",
    "KFIG.add_trace_profits()\n",
    "KFIG.fig.show()"
   ]
  },
  {
   "cell_type": "code",
   "execution_count": 6,
   "id": "0fcfaabe-403b-4c14-a9e7-e5a83685dbe4",
   "metadata": {},
   "outputs": [
    {
     "name": "stdout",
     "output_type": "stream",
     "text": [
      "2024-03-31\n"
     ]
    },
    {
     "data": {
      "text/html": [
       "<div><style>\n",
       ".dataframe > thead > tr,\n",
       ".dataframe > tbody > tr {\n",
       "  text-align: right;\n",
       "  white-space: pre-wrap;\n",
       "}\n",
       "</style>\n",
       "<small>shape: (2, 11)</small><table border=\"1\" class=\"dataframe\"><thead><tr><th>code</th><th>settlement_date</th><th>settlement_type</th><th>announcement_date</th><th>sales</th><th>operating_income</th><th>ordinary_profit</th><th>final_profit</th><th>reviced_eps</th><th>dividend</th><th>quater</th></tr><tr><td>i64</td><td>date</td><td>str</td><td>date</td><td>i64</td><td>i64</td><td>i64</td><td>i64</td><td>f64</td><td>f64</td><td>i64</td></tr></thead><tbody><tr><td>8160</td><td>2025-03-31</td><td>&quot;予&quot;</td><td>2024-11-05</td><td>53000</td><td>2020</td><td>2060</td><td>1200</td><td>42.6</td><td>24.0</td><td>4</td></tr><tr><td>8160</td><td>2025-03-31</td><td>&quot;予&quot;</td><td>2024-05-10</td><td>55000</td><td>2500</td><td>2530</td><td>1600</td><td>56.8</td><td>24.0</td><td>4</td></tr></tbody></table></div>"
      ],
      "text/plain": [
       "shape: (2, 11)\n",
       "┌──────┬─────────────┬─────────────┬─────────────┬───┬────────────┬────────────┬──────────┬────────┐\n",
       "│ code ┆ settlement_ ┆ settlement_ ┆ announcemen ┆ … ┆ final_prof ┆ reviced_ep ┆ dividend ┆ quater │\n",
       "│ ---  ┆ date        ┆ type        ┆ t_date      ┆   ┆ it         ┆ s          ┆ ---      ┆ ---    │\n",
       "│ i64  ┆ ---         ┆ ---         ┆ ---         ┆   ┆ ---        ┆ ---        ┆ f64      ┆ i64    │\n",
       "│      ┆ date        ┆ str         ┆ date        ┆   ┆ i64        ┆ f64        ┆          ┆        │\n",
       "╞══════╪═════════════╪═════════════╪═════════════╪═══╪════════════╪════════════╪══════════╪════════╡\n",
       "│ 8160 ┆ 2025-03-31  ┆ 予          ┆ 2024-11-05  ┆ … ┆ 1200       ┆ 42.6       ┆ 24.0     ┆ 4      │\n",
       "│ 8160 ┆ 2025-03-31  ┆ 予          ┆ 2024-05-10  ┆ … ┆ 1600       ┆ 56.8       ┆ 24.0     ┆ 4      │\n",
       "└──────┴─────────────┴─────────────┴─────────────┴───┴────────────┴────────────┴──────────┴────────┘"
      ]
     },
     "execution_count": 6,
     "metadata": {},
     "output_type": "execute_result"
    }
   ],
   "source": [
    "# 今季決算予想発表の推移\n",
    "df = KPL.get_settlement_forcast(code, valuation_date)\n",
    "df"
   ]
  },
  {
   "cell_type": "code",
   "execution_count": 7,
   "id": "9640855f-4673-4470-8ef7-5995b03feaa1",
   "metadata": {},
   "outputs": [
    {
     "name": "stdout",
     "output_type": "stream",
     "text": [
      "木曽路(8160)の通期決算(評価日：2024年12月17日)\n"
     ]
    },
    {
     "data": {
      "text/html": [
       "<div><style>\n",
       ".dataframe > thead > tr,\n",
       ".dataframe > tbody > tr {\n",
       "  text-align: right;\n",
       "  white-space: pre-wrap;\n",
       "}\n",
       "</style>\n",
       "<small>shape: (2, 8)</small><table border=\"1\" class=\"dataframe\"><thead><tr><th>決算期</th><th>決算発表日</th><th>売上高</th><th>営業利益</th><th>経常利益</th><th>純利益</th><th>EPS</th><th>1株配当</th></tr><tr><td>str</td><td>date</td><td>i64</td><td>i64</td><td>i64</td><td>i64</td><td>f64</td><td>f64</td></tr></thead><tbody><tr><td>&quot;2025年3月期(予)&quot;</td><td>2024-11-05</td><td>53000</td><td>2020</td><td>2060</td><td>1200</td><td>42.6</td><td>24.0</td></tr><tr><td>&quot;2024年3月期&quot;</td><td>2024-05-10</td><td>52984</td><td>2246</td><td>2278</td><td>436</td><td>15.5</td><td>18.0</td></tr></tbody></table></div>"
      ],
      "text/plain": [
       "shape: (2, 8)\n",
       "┌─────────────────┬────────────┬────────┬──────────┬──────────┬────────┬──────┬─────────┐\n",
       "│ 決算期          ┆ 決算発表日 ┆ 売上高 ┆ 営業利益 ┆ 経常利益 ┆ 純利益 ┆ EPS  ┆ 1株配当 │\n",
       "│ ---             ┆ ---        ┆ ---    ┆ ---      ┆ ---      ┆ ---    ┆ ---  ┆ ---     │\n",
       "│ str             ┆ date       ┆ i64    ┆ i64      ┆ i64      ┆ i64    ┆ f64  ┆ f64     │\n",
       "╞═════════════════╪════════════╪════════╪══════════╪══════════╪════════╪══════╪═════════╡\n",
       "│ 2025年3月期(予) ┆ 2024-11-05 ┆ 53000  ┆ 2020     ┆ 2060     ┆ 1200   ┆ 42.6 ┆ 24.0    │\n",
       "│ 2024年3月期     ┆ 2024-05-10 ┆ 52984  ┆ 2246     ┆ 2278     ┆ 436    ┆ 15.5 ┆ 18.0    │\n",
       "└─────────────────┴────────────┴────────┴──────────┴──────────┴────────┴──────┴─────────┘"
      ]
     },
     "execution_count": 7,
     "metadata": {},
     "output_type": "execute_result"
    }
   ],
   "source": [
    "### 通期業績、業績予想\n",
    "# def get_df_latest_yearly_performance(code: int, valuation_date: date=date.today()) -> pl.DataFrame:\n",
    "df = get_df_latest_yearly_performance(code, valuation_date)\n",
    "df"
   ]
  },
  {
   "cell_type": "code",
   "execution_count": 8,
   "id": "9ebf91d2-7436-46c3-b035-04a125b60357",
   "metadata": {},
   "outputs": [
    {
     "data": {
      "text/html": [
       "<iframe\n",
       "    scrolling=\"no\"\n",
       "    width=\"100%\"\n",
       "    height=\"545px\"\n",
       "    src=\"iframe_figures/figure_8.html\"\n",
       "    frameborder=\"0\"\n",
       "    allowfullscreen\n",
       "></iframe>\n"
      ]
     },
     "metadata": {},
     "output_type": "display_data"
    },
    {
     "data": {
      "text/html": [
       "<div><style>\n",
       ".dataframe > thead > tr,\n",
       ".dataframe > tbody > tr {\n",
       "  text-align: right;\n",
       "  white-space: pre-wrap;\n",
       "}\n",
       "</style>\n",
       "<small>shape: (8, 11)</small><table border=\"1\" class=\"dataframe\"><thead><tr><th>code</th><th>settlement_date</th><th>settlement_type</th><th>announcement_date</th><th>sales</th><th>operating_income</th><th>ordinary_profit</th><th>final_profit</th><th>reviced_eps</th><th>dividend</th><th>quater</th></tr><tr><td>i64</td><td>date</td><td>str</td><td>date</td><td>i64</td><td>i64</td><td>i64</td><td>i64</td><td>f64</td><td>f64</td><td>i64</td></tr></thead><tbody><tr><td>8160</td><td>2024-09-30</td><td>&quot;四&quot;</td><td>2024-11-11</td><td>12082</td><td>-406</td><td>-413</td><td>-402</td><td>-14.3</td><td>-3.4</td><td>2</td></tr><tr><td>8160</td><td>2024-06-30</td><td>&quot;四&quot;</td><td>2024-08-09</td><td>11774</td><td>-288</td><td>-262</td><td>-484</td><td>-17.2</td><td>-2.4</td><td>1</td></tr><tr><td>8160</td><td>2024-03-31</td><td>&quot;四&quot;</td><td>2024-05-10</td><td>14214</td><td>1157</td><td>1150</td><td>-352</td><td>-12.5</td><td>8.1</td><td>4</td></tr><tr><td>8160</td><td>2023-12-31</td><td>&quot;四&quot;</td><td>2024-02-13</td><td>14905</td><td>1485</td><td>1508</td><td>1200</td><td>42.6</td><td>10.0</td><td>3</td></tr><tr><td>8160</td><td>2023-09-30</td><td>&quot;四&quot;</td><td>2023-11-10</td><td>12218</td><td>-164</td><td>-163</td><td>-52</td><td>-1.9</td><td>-1.3</td><td>2</td></tr><tr><td>8160</td><td>2023-06-30</td><td>&quot;四&quot;</td><td>2023-08-10</td><td>11647</td><td>-232</td><td>-217</td><td>-360</td><td>-12.8</td><td>-2.0</td><td>1</td></tr><tr><td>8160</td><td>2023-03-31</td><td>&quot;四&quot;</td><td>2023-05-12</td><td>12798</td><td>552</td><td>577</td><td>206</td><td>7.4</td><td>4.3</td><td>4</td></tr><tr><td>8160</td><td>2022-12-31</td><td>&quot;四&quot;</td><td>2023-02-10</td><td>13090</td><td>564</td><td>585</td><td>347</td><td>12.4</td><td>4.3</td><td>3</td></tr></tbody></table></div>"
      ],
      "text/plain": [
       "shape: (8, 11)\n",
       "┌──────┬─────────────┬─────────────┬─────────────┬───┬────────────┬────────────┬──────────┬────────┐\n",
       "│ code ┆ settlement_ ┆ settlement_ ┆ announcemen ┆ … ┆ final_prof ┆ reviced_ep ┆ dividend ┆ quater │\n",
       "│ ---  ┆ date        ┆ type        ┆ t_date      ┆   ┆ it         ┆ s          ┆ ---      ┆ ---    │\n",
       "│ i64  ┆ ---         ┆ ---         ┆ ---         ┆   ┆ ---        ┆ ---        ┆ f64      ┆ i64    │\n",
       "│      ┆ date        ┆ str         ┆ date        ┆   ┆ i64        ┆ f64        ┆          ┆        │\n",
       "╞══════╪═════════════╪═════════════╪═════════════╪═══╪════════════╪════════════╪══════════╪════════╡\n",
       "│ 8160 ┆ 2024-09-30  ┆ 四          ┆ 2024-11-11  ┆ … ┆ -402       ┆ -14.3      ┆ -3.4     ┆ 2      │\n",
       "│ 8160 ┆ 2024-06-30  ┆ 四          ┆ 2024-08-09  ┆ … ┆ -484       ┆ -17.2      ┆ -2.4     ┆ 1      │\n",
       "│ 8160 ┆ 2024-03-31  ┆ 四          ┆ 2024-05-10  ┆ … ┆ -352       ┆ -12.5      ┆ 8.1      ┆ 4      │\n",
       "│ 8160 ┆ 2023-12-31  ┆ 四          ┆ 2024-02-13  ┆ … ┆ 1200       ┆ 42.6       ┆ 10.0     ┆ 3      │\n",
       "│ 8160 ┆ 2023-09-30  ┆ 四          ┆ 2023-11-10  ┆ … ┆ -52        ┆ -1.9       ┆ -1.3     ┆ 2      │\n",
       "│ 8160 ┆ 2023-06-30  ┆ 四          ┆ 2023-08-10  ┆ … ┆ -360       ┆ -12.8      ┆ -2.0     ┆ 1      │\n",
       "│ 8160 ┆ 2023-03-31  ┆ 四          ┆ 2023-05-12  ┆ … ┆ 206        ┆ 7.4        ┆ 4.3      ┆ 4      │\n",
       "│ 8160 ┆ 2022-12-31  ┆ 四          ┆ 2023-02-10  ┆ … ┆ 347        ┆ 12.4       ┆ 4.3      ┆ 3      │\n",
       "└──────┴─────────────┴─────────────┴─────────────┴───┴────────────┴────────────┴──────────┴────────┘"
      ]
     },
     "execution_count": 8,
     "metadata": {},
     "output_type": "execute_result"
    }
   ],
   "source": [
    "KFIG = KessanFig(code, \"四半期\", end_settlement_date=valuation_date)\n",
    "KFIG.add_trace_profits()\n",
    "KFIG.fig.show()\n",
    "KPL.get_latest_quater_settlement(code, valuation_date)"
   ]
  },
  {
   "cell_type": "code",
   "execution_count": 9,
   "id": "0e6e726c-d77c-464d-8d42-3247af5afba0",
   "metadata": {},
   "outputs": [
    {
     "name": "stdout",
     "output_type": "stream",
     "text": [
      "木曽路(8160)の2025年3月期第2四半期決算進捗率(評価日：2024-12-17)\n"
     ]
    },
    {
     "data": {
      "text/html": [
       "<iframe\n",
       "    scrolling=\"no\"\n",
       "    width=\"100%\"\n",
       "    height=\"545px\"\n",
       "    src=\"iframe_figures/figure_9.html\"\n",
       "    frameborder=\"0\"\n",
       "    allowfullscreen\n",
       "></iframe>\n"
      ]
     },
     "metadata": {},
     "output_type": "display_data"
    }
   ],
   "source": [
    "# codeで指定した銘柄のevaluation_dateで指定した時点での最新の年度決算予想に基づく\n",
    "# 売上高~純利益の決算進捗率を円グラフで表示するためのfigを返す\n",
    "# from plotly.graph_objects import Figure\n",
    "# def get_fig_expected_performance_progress_rate_pycharts(code: int, evaluation_date: date=date.today()) -> Figure:\n",
    "\n",
    "fig1 = get_fig_expected_performance_progress_rate_pycharts(code, valuation_date)\n",
    "fig1.show()"
   ]
  },
  {
   "cell_type": "code",
   "execution_count": 10,
   "id": "412228f6-95ef-432e-af38-b2301c619c9e",
   "metadata": {},
   "outputs": [
    {
     "name": "stdout",
     "output_type": "stream",
     "text": [
      "木曽路(8160)の2024年3月期第2四半期決算進捗率(評価日：2023-12-17)\n"
     ]
    },
    {
     "data": {
      "text/html": [
       "<iframe\n",
       "    scrolling=\"no\"\n",
       "    width=\"100%\"\n",
       "    height=\"545px\"\n",
       "    src=\"iframe_figures/figure_10.html\"\n",
       "    frameborder=\"0\"\n",
       "    allowfullscreen\n",
       "></iframe>\n"
      ]
     },
     "metadata": {},
     "output_type": "display_data"
    }
   ],
   "source": [
    "last_year_valuation_date = date(valuation_date.year-1, valuation_date.month, valuation_date.day)\n",
    "\n",
    "# codeで指定した銘柄のevaluation_dateで指定した時点での最新の四半期決算発表に基づく\n",
    "# 売上高~純利益の決算進捗率を円グラフで表示するためのfigを返す\n",
    "# valuation_dateで指定する日において、当年度の本決算が発表されていない日を指定した場合は前期末第4四半期の進捗率を表示するので、進捗率100%で表示される。\n",
    "fig2 = get_fig_actual_performance_progress_rate_pycharts(code, last_year_valuation_date, KPL.df, MPL.df)\n",
    "fig2.show()"
   ]
  },
  {
   "cell_type": "code",
   "execution_count": 11,
   "id": "872ee2f6-4f2a-4c21-9a61-f3f86b442637",
   "metadata": {},
   "outputs": [],
   "source": [
    "#### valuation_dateに過去日を指定した場合、valuation_dateを含む期の株価推移\n",
    "#### 答え合わせ"
   ]
  },
  {
   "cell_type": "code",
   "execution_count": 12,
   "id": "2860596f-c601-466f-bb47-327efd7811f9",
   "metadata": {},
   "outputs": [
    {
     "data": {
      "text/html": [
       "<iframe\n",
       "    scrolling=\"no\"\n",
       "    width=\"100%\"\n",
       "    height=\"620\"\n",
       "    src=\"iframe_figures/figure_12.html\"\n",
       "    frameborder=\"0\"\n",
       "    allowfullscreen\n",
       "></iframe>\n"
      ]
     },
     "metadata": {},
     "output_type": "display_data"
    }
   ],
   "source": [
    "# 株価推移\n",
    "# 前期算発表翌営業日～今期決算発表日翌営業日\n",
    "start_date, end_date = KPL.get_current_settlement_period_by_announcement_date(code, valuation_date, \"四\")\n",
    "\n",
    "df = RevPPL.df.filter(pl.col(\"code\")==code).filter(pl.col(\"date\")>start_date)\n",
    "start_date = df[\"date\"].to_list()[0]\n",
    "\n",
    "df = RevPPL.df.filter(pl.col(\"code\")==code).filter(pl.col(\"date\")>end_date)\n",
    "if not end_date == date(2999, 12, 31):\n",
    "    end_date = df[\"date\"].to_list()[0]\n",
    "\n",
    "PFIG = PricelistFig(code, RevPPL.df, MPL.df, start_date, end_date)\n",
    "df = RevPPL.df.filter(pl.col(\"code\")==code).filter(pl.col(\"date\")<=valuation_date)\n",
    "vline_date = df[\"date\"].to_list()[-1]\n",
    "PFIG.add_vline(vline_date)\n",
    "PFIG.fig.show()"
   ]
  },
  {
   "cell_type": "code",
   "execution_count": 13,
   "id": "4d964308-8c7a-4624-8e20-5acb7823d0c8",
   "metadata": {},
   "outputs": [
    {
     "data": {
      "text/html": [
       "<div><style>\n",
       ".dataframe > thead > tr,\n",
       ".dataframe > tbody > tr {\n",
       "  text-align: right;\n",
       "  white-space: pre-wrap;\n",
       "}\n",
       "</style>\n",
       "<small>shape: (8, 11)</small><table border=\"1\" class=\"dataframe\"><thead><tr><th>code</th><th>settlement_date</th><th>settlement_type</th><th>announcement_date</th><th>sales</th><th>operating_income</th><th>ordinary_profit</th><th>final_profit</th><th>reviced_eps</th><th>dividend</th><th>quater</th></tr><tr><td>i64</td><td>date</td><td>str</td><td>date</td><td>i64</td><td>i64</td><td>i64</td><td>i64</td><td>f64</td><td>f64</td><td>i64</td></tr></thead><tbody><tr><td>8160</td><td>2024-03-31</td><td>&quot;予&quot;</td><td>2024-02-13</td><td>52500</td><td>2000</td><td>2020</td><td>1250</td><td>44.4</td><td>18.0</td><td>4</td></tr><tr><td>8160</td><td>2023-12-31</td><td>&quot;四&quot;</td><td>2024-02-13</td><td>14905</td><td>1485</td><td>1508</td><td>1200</td><td>42.6</td><td>10.0</td><td>3</td></tr><tr><td>8160</td><td>2024-03-31</td><td>&quot;本&quot;</td><td>2024-05-10</td><td>52984</td><td>2246</td><td>2278</td><td>436</td><td>15.5</td><td>18.0</td><td>4</td></tr><tr><td>8160</td><td>2025-03-31</td><td>&quot;予&quot;</td><td>2024-05-10</td><td>55000</td><td>2500</td><td>2530</td><td>1600</td><td>56.8</td><td>24.0</td><td>4</td></tr><tr><td>8160</td><td>2024-03-31</td><td>&quot;四&quot;</td><td>2024-05-10</td><td>14214</td><td>1157</td><td>1150</td><td>-352</td><td>-12.5</td><td>8.1</td><td>4</td></tr><tr><td>8160</td><td>2024-06-30</td><td>&quot;四&quot;</td><td>2024-08-09</td><td>11774</td><td>-288</td><td>-262</td><td>-484</td><td>-17.2</td><td>-2.4</td><td>1</td></tr><tr><td>8160</td><td>2025-03-31</td><td>&quot;予&quot;</td><td>2024-11-05</td><td>53000</td><td>2020</td><td>2060</td><td>1200</td><td>42.6</td><td>24.0</td><td>4</td></tr><tr><td>8160</td><td>2024-09-30</td><td>&quot;四&quot;</td><td>2024-11-11</td><td>12082</td><td>-406</td><td>-413</td><td>-402</td><td>-14.3</td><td>-3.4</td><td>2</td></tr></tbody></table></div>"
      ],
      "text/plain": [
       "shape: (8, 11)\n",
       "┌──────┬─────────────┬─────────────┬─────────────┬───┬────────────┬────────────┬──────────┬────────┐\n",
       "│ code ┆ settlement_ ┆ settlement_ ┆ announcemen ┆ … ┆ final_prof ┆ reviced_ep ┆ dividend ┆ quater │\n",
       "│ ---  ┆ date        ┆ type        ┆ t_date      ┆   ┆ it         ┆ s          ┆ ---      ┆ ---    │\n",
       "│ i64  ┆ ---         ┆ ---         ┆ ---         ┆   ┆ ---        ┆ ---        ┆ f64      ┆ i64    │\n",
       "│      ┆ date        ┆ str         ┆ date        ┆   ┆ i64        ┆ f64        ┆          ┆        │\n",
       "╞══════╪═════════════╪═════════════╪═════════════╪═══╪════════════╪════════════╪══════════╪════════╡\n",
       "│ 8160 ┆ 2024-03-31  ┆ 予          ┆ 2024-02-13  ┆ … ┆ 1250       ┆ 44.4       ┆ 18.0     ┆ 4      │\n",
       "│ 8160 ┆ 2023-12-31  ┆ 四          ┆ 2024-02-13  ┆ … ┆ 1200       ┆ 42.6       ┆ 10.0     ┆ 3      │\n",
       "│ 8160 ┆ 2024-03-31  ┆ 本          ┆ 2024-05-10  ┆ … ┆ 436        ┆ 15.5       ┆ 18.0     ┆ 4      │\n",
       "│ 8160 ┆ 2025-03-31  ┆ 予          ┆ 2024-05-10  ┆ … ┆ 1600       ┆ 56.8       ┆ 24.0     ┆ 4      │\n",
       "│ 8160 ┆ 2024-03-31  ┆ 四          ┆ 2024-05-10  ┆ … ┆ -352       ┆ -12.5      ┆ 8.1      ┆ 4      │\n",
       "│ 8160 ┆ 2024-06-30  ┆ 四          ┆ 2024-08-09  ┆ … ┆ -484       ┆ -17.2      ┆ -2.4     ┆ 1      │\n",
       "│ 8160 ┆ 2025-03-31  ┆ 予          ┆ 2024-11-05  ┆ … ┆ 1200       ┆ 42.6       ┆ 24.0     ┆ 4      │\n",
       "│ 8160 ┆ 2024-09-30  ┆ 四          ┆ 2024-11-11  ┆ … ┆ -402       ┆ -14.3      ┆ -3.4     ┆ 2      │\n",
       "└──────┴─────────────┴─────────────┴─────────────┴───┴────────────┴────────────┴──────────┴────────┘"
      ]
     },
     "execution_count": 13,
     "metadata": {},
     "output_type": "execute_result"
    }
   ],
   "source": [
    "# appendix\n",
    "KPL.df.filter(pl.col(\"code\")==code).filter(pl.col(\"announcement_date\")>=date(2024,1,1))"
   ]
  },
  {
   "cell_type": "code",
   "execution_count": 20,
   "id": "d962c1ec-5c5d-4ffb-a764-555827da2557",
   "metadata": {},
   "outputs": [
    {
     "data": {
      "text/html": [
       "<iframe\n",
       "    scrolling=\"no\"\n",
       "    width=\"100%\"\n",
       "    height=\"620\"\n",
       "    src=\"iframe_figures/figure_20.html\"\n",
       "    frameborder=\"0\"\n",
       "    allowfullscreen\n",
       "></iframe>\n"
      ]
     },
     "metadata": {},
     "output_type": "display_data"
    }
   ],
   "source": [
    "PFIG = PricelistFig(code, RevPPL.df, MPL.df, date(2023, 12, 1), date.today())\n",
    "PFIG.fig.show()"
   ]
  },
  {
   "cell_type": "code",
   "execution_count": 17,
   "id": "ad4d6b8a-bd0b-4c2c-95ac-6026931a06a3",
   "metadata": {},
   "outputs": [
    {
     "data": {
      "text/html": [
       "<div><style>\n",
       ".dataframe > thead > tr,\n",
       ".dataframe > tbody > tr {\n",
       "  text-align: right;\n",
       "  white-space: pre-wrap;\n",
       "}\n",
       "</style>\n",
       "<small>shape: (720, 5)</small><table border=\"1\" class=\"dataframe\"><thead><tr><th>code</th><th>date</th><th>unsold_margin</th><th>purchase_margin</th><th>margin_ratio</th></tr><tr><td>i32</td><td>date</td><td>i64</td><td>i64</td><td>f64</td></tr></thead><tbody><tr><td>8160</td><td>2009-01-09</td><td>117600</td><td>8100</td><td>14.52</td></tr><tr><td>8160</td><td>2009-01-16</td><td>121500</td><td>9800</td><td>12.4</td></tr><tr><td>8160</td><td>2009-01-23</td><td>127400</td><td>10300</td><td>12.37</td></tr><tr><td>8160</td><td>2009-01-30</td><td>129400</td><td>10800</td><td>11.98</td></tr><tr><td>8160</td><td>2009-02-06</td><td>128300</td><td>10700</td><td>11.99</td></tr><tr><td>&hellip;</td><td>&hellip;</td><td>&hellip;</td><td>&hellip;</td><td>&hellip;</td></tr><tr><td>8160</td><td>2023-02-10</td><td>442600</td><td>45700</td><td>9.68</td></tr><tr><td>8160</td><td>2023-02-17</td><td>683100</td><td>56200</td><td>12.15</td></tr><tr><td>8160</td><td>2023-02-24</td><td>749100</td><td>89200</td><td>8.4</td></tr><tr><td>8160</td><td>2023-03-03</td><td>820700</td><td>24400</td><td>33.64</td></tr><tr><td>8160</td><td>2023-03-10</td><td>1113200</td><td>22000</td><td>50.6</td></tr></tbody></table></div>"
      ],
      "text/plain": [
       "shape: (720, 5)\n",
       "┌──────┬────────────┬───────────────┬─────────────────┬──────────────┐\n",
       "│ code ┆ date       ┆ unsold_margin ┆ purchase_margin ┆ margin_ratio │\n",
       "│ ---  ┆ ---        ┆ ---           ┆ ---             ┆ ---          │\n",
       "│ i32  ┆ date       ┆ i64           ┆ i64             ┆ f64          │\n",
       "╞══════╪════════════╪═══════════════╪═════════════════╪══════════════╡\n",
       "│ 8160 ┆ 2009-01-09 ┆ 117600        ┆ 8100            ┆ 14.52        │\n",
       "│ 8160 ┆ 2009-01-16 ┆ 121500        ┆ 9800            ┆ 12.4         │\n",
       "│ 8160 ┆ 2009-01-23 ┆ 127400        ┆ 10300           ┆ 12.37        │\n",
       "│ 8160 ┆ 2009-01-30 ┆ 129400        ┆ 10800           ┆ 11.98        │\n",
       "│ 8160 ┆ 2009-02-06 ┆ 128300        ┆ 10700           ┆ 11.99        │\n",
       "│ …    ┆ …          ┆ …             ┆ …               ┆ …            │\n",
       "│ 8160 ┆ 2023-02-10 ┆ 442600        ┆ 45700           ┆ 9.68         │\n",
       "│ 8160 ┆ 2023-02-17 ┆ 683100        ┆ 56200           ┆ 12.15        │\n",
       "│ 8160 ┆ 2023-02-24 ┆ 749100        ┆ 89200           ┆ 8.4          │\n",
       "│ 8160 ┆ 2023-03-03 ┆ 820700        ┆ 24400           ┆ 33.64        │\n",
       "│ 8160 ┆ 2023-03-10 ┆ 1113200       ┆ 22000           ┆ 50.6         │\n",
       "└──────┴────────────┴───────────────┴─────────────────┴──────────────┘"
      ]
     },
     "execution_count": 17,
     "metadata": {},
     "output_type": "execute_result"
    }
   ],
   "source": [
    "from lib_dataprocess import CreditbalancePl\n",
    "\n",
    "CPL = CreditbalancePl()\n",
    "CPL.with_columns_margin_ratio()\n",
    "CPL.df.filter(pl.col(\"code\")==code)"
   ]
  },
  {
   "cell_type": "code",
   "execution_count": null,
   "id": "ac32eb0a-3f87-48a7-9b80-52cf651e44b4",
   "metadata": {},
   "outputs": [],
   "source": []
  }
 ],
 "metadata": {
  "kernelspec": {
   "display_name": "Python 3 (ipykernel)",
   "language": "python",
   "name": "python3"
  },
  "language_info": {
   "codemirror_mode": {
    "name": "ipython",
    "version": 3
   },
   "file_extension": ".py",
   "mimetype": "text/x-python",
   "name": "python",
   "nbconvert_exporter": "python",
   "pygments_lexer": "ipython3",
   "version": "3.12.3"
  }
 },
 "nbformat": 4,
 "nbformat_minor": 5
}
