{
 "cells": [
  {
   "cell_type": "code",
   "execution_count": 1,
   "id": "72fe6020-2485-4d19-ba64-b2929df1c64f",
   "metadata": {},
   "outputs": [],
   "source": [
    "# valuation_date時におけるcodeで指定した銘柄の個別銘柄分析\n",
    "# SBI証券のモバイルの銘柄分析を参考に作成"
   ]
  },
  {
   "cell_type": "code",
   "execution_count": 2,
   "id": "4c3ea513-3b75-4b72-be31-8271db72c241",
   "metadata": {},
   "outputs": [],
   "source": [
    "### パラメータ設定セル\n",
    "from datetime import date\n",
    "from dateutil.relativedelta import relativedelta\n",
    "\n",
    "# パラメータをセット\n",
    "# code: 証券コード\n",
    "# valuation_date: 過去にさかのぼって評価日をdatetime.dateでセット可能。デフォルト値は今日(date.today())\n",
    "code = 9130\n",
    "valuation_date = date.today()\n",
    "chart_duration = relativedelta(days=90)\n",
    "# valuation_date = date(2023, 11, 29)"
   ]
  },
  {
   "cell_type": "code",
   "execution_count": 3,
   "id": "0fa30969-b1dd-4795-8ca4-8bb63e06f211",
   "metadata": {},
   "outputs": [],
   "source": [
    "# 読み込みファイルパスの設定とimportしたいmoduleパス(pythonパス)の設定\n",
    "from pathlib import Path\n",
    "import os, sys\n",
    "\n",
    "CURRENT_DIR = Path(os.getcwd())\n",
    "PJ_DIR = CURRENT_DIR.parent.parent\n",
    "LIB_DIR = PJ_DIR / \"lib\"\n",
    "DATA_DIR = PJ_DIR / \"data\" \n",
    "\n",
    "sys.path.append(str(LIB_DIR))\n",
    "\n",
    "# notebook内で利用するmoduleのimport\n",
    "from lib_dataprocess import PricelistPl, FinancequotePl, KessanPl, KessanFig, PricelistFig, read_data, get_df_latest_yearly_performance, get_latest_stockprice, print_finance_quote\n",
    "from lib_dataprocess import get_fig_expected_performance_progress_rate_pycharts, MeigaralistPl, get_fig_actual_performance_progress_rate_pycharts, ShikihoPl\n",
    "import polars as pl\n",
    "\n",
    "# dataの読み込み\n",
    "fp = DATA_DIR/\"raw_pricelist.parquet\"\n",
    "df = read_data(fp)\n",
    "PPL = PricelistPl(df)\n",
    "\n",
    "# dataの読み込み\n",
    "fp = DATA_DIR/\"reviced_pricelist.parquet\"\n",
    "df = read_data(fp)\n",
    "RevPPL = PricelistPl(df)\n",
    "\n",
    "fp = DATA_DIR/\"finance_quote.parquet\"\n",
    "df = read_data(fp)\n",
    "FPL = FinancequotePl(df)\n",
    "\n",
    "fp = DATA_DIR/\"kessan.parquet\"\n",
    "df = read_data(fp)\n",
    "KPL = KessanPl(df)\n",
    "\n",
    "fp = DATA_DIR/\"meigaralist.parquet\"\n",
    "df = read_data(fp)\n",
    "MPL = MeigaralistPl(df)\n",
    "\n",
    "fp = DATA_DIR/\"shikiho.parquet\"\n",
    "df = read_data(fp)\n",
    "SPL = ShikihoPl(df)"
   ]
  },
  {
   "cell_type": "code",
   "execution_count": 4,
   "id": "12cca2e1-9577-4b88-a042-170da054f42b",
   "metadata": {},
   "outputs": [
    {
     "name": "stdout",
     "output_type": "stream",
     "text": [
      "共栄タンカー(9130)の銘柄情報\n",
      "\n",
      "終値: 1088.0円(2024年12月03日)\n",
      "予想配当利回り: 3.68%(2024年12月03日)\n",
      "予想PER: 1.68倍(2024年12月03日)\n",
      "実績PBR: 0.33倍(2024年12月03日)\n",
      "自己資本比率: 27.5%(2024年12月03日)\n",
      "予想ROE: 19.83%(2024年12月03日)\n",
      "予想ROA: 5.45%(2024年12月03日)\n",
      "\n",
      "9130(共栄タンカー)の四季報データ履歴\n",
      "\n",
      "発行日: 2024年09月13日\n",
      "【好転】\n",
      "  長期貸船中心で傭船料は安定。4月竣工のLPG船1隻寄与。大型原油タンカーの耐用年数を15年から18年に変更し償却費減少。前期発生のタンクトラブル修繕費消滅。営業黒字化。為替差益。上期の売船特益を原資に20円の特別中間配当。\n",
      "【新主力】\n",
      "  LPG船強化。26年度までに2隻追加で6隻に。シンガポール拠点に海外顧客を開拓。原油に次ぐ主力事業化狙う。\n",
      "\n",
      "発行日: 2024年06月14日\n",
      "【黒字復帰】\n",
      "  長期貸船主体で傭船料安定。4月竣工のLPG船1隻が傭船契約で寄与。既存の大型原油タンカーの耐用年数長期化で償却費減少。前期に発生したタンクトラブル修繕費は消滅。営業益浮上。営業外に為替差益見込まず。上期に売船特益。\n",
      "【還元】\n",
      "  売船特益を原資に株主還元として20円の特別中間配当。社外取締役(監査等委員)に初の女性就任で多様性一歩前進。\n",
      "\n",
      "発行日: 2024年03月16日\n",
      "【ゼロ圏】\n",
      "  ばら積み船市況下落に費用増で営業赤字。入渠延期や船員費減で、前号より赤字幅は縮小。25年3月期は長期貸船主体で傭船料安定。LPG需要高まり4月竣工1隻がフル稼働。営業益ゼロ圏。営業外に為替差益見込まず。上期に売船特益。\n",
      "【海外拠点】\n",
      "  シンガポール現法を人員増で4人体制に。海外顧客のニーズ拡大に対応。27年竣工予定で小型LPG船1隻発注。\n",
      "\n",
      "発行日: 2023年12月15日\n",
      "【一転赤字】\n",
      "  ばら積み船は市況下落に前期の1隻売却で貸船料減少。船舶のタンクトラブルで修繕費かさむ。円安による費用増で一転営業赤字。営業外にタンクトラブルの保険金収入。25年3月期は新規LPG船1隻フル稼働。費用増落ち着き営業ゼロ圏。\n",
      "【二元燃料】\n",
      "  低炭素化にらみアンモニアなど二元燃料船導入検討。本社レイアウト変更でフリーアドレス化。在宅勤務継続。\n"
     ]
    }
   ],
   "source": [
    "### 最新情報\n",
    "# 指定したcodeの指定した日における株価と各種ファンダメンタルズデータをまとめて標準出力する\n",
    "# pricelist_dfは、raw_pricelistかreviced_pricelistかケースに応じて使い分ける。\n",
    "# def print_finance_quote(\n",
    "#        pricelist_df: pl.DataFrame,\n",
    "#        finance_quote_df: pl.DataFrame,\n",
    "#        code: int, \n",
    "#        valuation_date: date=date.today()\n",
    "#    ) -> None:\n",
    "print_finance_quote(PPL.df, FPL.df, code, valuation_date=valuation_date)\n",
    "print()\n",
    "SPL.print_stock_df(code, num=4)"
   ]
  },
  {
   "cell_type": "code",
   "execution_count": 5,
   "id": "0496d051-66d9-4003-8ca9-71a782b5ec88",
   "metadata": {},
   "outputs": [
    {
     "data": {
      "text/html": [
       "<iframe\n",
       "    scrolling=\"no\"\n",
       "    width=\"100%\"\n",
       "    height=\"545px\"\n",
       "    src=\"iframe_figures/figure_5.html\"\n",
       "    frameborder=\"0\"\n",
       "    allowfullscreen\n",
       "></iframe>\n"
      ]
     },
     "metadata": {},
     "output_type": "display_data"
    }
   ],
   "source": [
    "### 業績推移\n",
    "\n",
    "# KessanFig(\n",
    "#    code: int, \n",
    "#    settlement_type: Literal[\"通期\", \"四半期\"], \n",
    "#    output_target: str = \"jupyter\",\n",
    "#    start_settlement_date: date = date(1900, 1, 1),\n",
    "#    end_settlement_date: date = date(2999, 12, 31)\n",
    "#)\n",
    "\n",
    "KFIG = KessanFig(code, \"通期\", end_settlement_date=valuation_date)\n",
    "KFIG.add_trace_profits()\n",
    "KFIG.fig.show()"
   ]
  },
  {
   "cell_type": "code",
   "execution_count": 6,
   "id": "9640855f-4673-4470-8ef7-5995b03feaa1",
   "metadata": {},
   "outputs": [
    {
     "name": "stdout",
     "output_type": "stream",
     "text": [
      "共栄タンカー(9130)の通期決算(評価日：2024年12月06日)\n"
     ]
    },
    {
     "data": {
      "text/html": [
       "<div><style>\n",
       ".dataframe > thead > tr,\n",
       ".dataframe > tbody > tr {\n",
       "  text-align: right;\n",
       "  white-space: pre-wrap;\n",
       "}\n",
       "</style>\n",
       "<small>shape: (2, 8)</small><table border=\"1\" class=\"dataframe\"><thead><tr><th>決算期</th><th>決算発表日</th><th>売上高</th><th>営業利益</th><th>経常利益</th><th>純利益</th><th>EPS</th><th>1株配当</th></tr><tr><td>str</td><td>date</td><td>i64</td><td>i64</td><td>i64</td><td>i64</td><td>f64</td><td>f64</td></tr></thead><tbody><tr><td>&quot;2025年3月期(予)&quot;</td><td>2024-11-01</td><td>14500</td><td>1250</td><td>850</td><td>4950</td><td>647.3</td><td>40.0</td></tr><tr><td>&quot;2024年3月期&quot;</td><td>2024-05-10</td><td>14178</td><td>-124</td><td>186</td><td>146</td><td>19.2</td><td>20.0</td></tr></tbody></table></div>"
      ],
      "text/plain": [
       "shape: (2, 8)\n",
       "┌─────────────────┬────────────┬────────┬──────────┬──────────┬────────┬───────┬─────────┐\n",
       "│ 決算期          ┆ 決算発表日 ┆ 売上高 ┆ 営業利益 ┆ 経常利益 ┆ 純利益 ┆ EPS   ┆ 1株配当 │\n",
       "│ ---             ┆ ---        ┆ ---    ┆ ---      ┆ ---      ┆ ---    ┆ ---   ┆ ---     │\n",
       "│ str             ┆ date       ┆ i64    ┆ i64      ┆ i64      ┆ i64    ┆ f64   ┆ f64     │\n",
       "╞═════════════════╪════════════╪════════╪══════════╪══════════╪════════╪═══════╪═════════╡\n",
       "│ 2025年3月期(予) ┆ 2024-11-01 ┆ 14500  ┆ 1250     ┆ 850      ┆ 4950   ┆ 647.3 ┆ 40.0    │\n",
       "│ 2024年3月期     ┆ 2024-05-10 ┆ 14178  ┆ -124     ┆ 186      ┆ 146    ┆ 19.2  ┆ 20.0    │\n",
       "└─────────────────┴────────────┴────────┴──────────┴──────────┴────────┴───────┴─────────┘"
      ]
     },
     "execution_count": 6,
     "metadata": {},
     "output_type": "execute_result"
    }
   ],
   "source": [
    "### 通期業績、業績予想\n",
    "# def get_df_latest_yearly_performance(code: int, valuation_date: date=date.today()) -> pl.DataFrame:\n",
    "df = get_df_latest_yearly_performance(code)\n",
    "df"
   ]
  },
  {
   "cell_type": "code",
   "execution_count": 7,
   "id": "9ebf91d2-7436-46c3-b035-04a125b60357",
   "metadata": {},
   "outputs": [
    {
     "data": {
      "text/html": [
       "<iframe\n",
       "    scrolling=\"no\"\n",
       "    width=\"100%\"\n",
       "    height=\"545px\"\n",
       "    src=\"iframe_figures/figure_7.html\"\n",
       "    frameborder=\"0\"\n",
       "    allowfullscreen\n",
       "></iframe>\n"
      ]
     },
     "metadata": {},
     "output_type": "display_data"
    }
   ],
   "source": [
    "KFIG = KessanFig(code, \"四半期\", end_settlement_date=valuation_date)\n",
    "KFIG.add_trace_profits()\n",
    "KFIG.fig.show()"
   ]
  },
  {
   "cell_type": "code",
   "execution_count": 8,
   "id": "0e6e726c-d77c-464d-8d42-3247af5afba0",
   "metadata": {},
   "outputs": [
    {
     "name": "stdout",
     "output_type": "stream",
     "text": [
      "共栄タンカー(9130)の2025年3月期第2四半期決算進捗率(評価日：2024-12-06)\n"
     ]
    },
    {
     "data": {
      "text/html": [
       "<iframe\n",
       "    scrolling=\"no\"\n",
       "    width=\"100%\"\n",
       "    height=\"545px\"\n",
       "    src=\"iframe_figures/figure_8.html\"\n",
       "    frameborder=\"0\"\n",
       "    allowfullscreen\n",
       "></iframe>\n"
      ]
     },
     "metadata": {},
     "output_type": "display_data"
    }
   ],
   "source": [
    "# codeで指定した銘柄のevaluation_dateで指定した時点での最新の年度決算予想に基づく\n",
    "# 売上高~純利益の決算進捗率を円グラフで表示するためのfigを返す\n",
    "# from plotly.graph_objects import Figure\n",
    "# def get_fig_expected_performance_progress_rate_pycharts(code: int, evaluation_date: date=date.today()) -> Figure:\n",
    "\n",
    "fig1 = get_fig_expected_performance_progress_rate_pycharts(code, valuation_date)\n",
    "fig1.show()"
   ]
  },
  {
   "cell_type": "code",
   "execution_count": 9,
   "id": "412228f6-95ef-432e-af38-b2301c619c9e",
   "metadata": {},
   "outputs": [
    {
     "name": "stdout",
     "output_type": "stream",
     "text": [
      "共栄タンカー(9130)の2024年3月期第2四半期決算進捗率(評価日：2023-12-06)\n"
     ]
    },
    {
     "data": {
      "text/html": [
       "<iframe\n",
       "    scrolling=\"no\"\n",
       "    width=\"100%\"\n",
       "    height=\"545px\"\n",
       "    src=\"iframe_figures/figure_9.html\"\n",
       "    frameborder=\"0\"\n",
       "    allowfullscreen\n",
       "></iframe>\n"
      ]
     },
     "metadata": {},
     "output_type": "display_data"
    }
   ],
   "source": [
    "last_year_valuation_date = date(valuation_date.year-1, valuation_date.month, valuation_date.day)\n",
    "\n",
    "# codeで指定した銘柄のevaluation_dateで指定した時点での最新の四半期決算発表に基づく\n",
    "# 売上高~純利益の決算進捗率を円グラフで表示するためのfigを返す\n",
    "# valuation_dateで指定する日において、当年度の本決算が発表されていない日を指定した場合は前期末第4四半期の進捗率を表示するので、進捗率100%で表示される。\n",
    "fig2 = get_fig_actual_performance_progress_rate_pycharts(code, last_year_valuation_date, KPL.df, MPL.df)\n",
    "fig2.show()"
   ]
  },
  {
   "cell_type": "code",
   "execution_count": 10,
   "id": "2860596f-c601-466f-bb47-327efd7811f9",
   "metadata": {},
   "outputs": [
    {
     "data": {
      "text/html": [
       "<iframe\n",
       "    scrolling=\"no\"\n",
       "    width=\"100%\"\n",
       "    height=\"620\"\n",
       "    src=\"iframe_figures/figure_10.html\"\n",
       "    frameborder=\"0\"\n",
       "    allowfullscreen\n",
       "></iframe>\n"
      ]
     },
     "metadata": {},
     "output_type": "display_data"
    }
   ],
   "source": [
    "# 株価推移\n",
    "start_date = valuation_date - chart_duration\n",
    "end_date = valuation_date + chart_duration\n",
    "PFIG = PricelistFig(code, RevPPL.df, MPL.df, start_date, end_date)\n",
    "PFIG.fig.show()"
   ]
  },
  {
   "cell_type": "code",
   "execution_count": null,
   "id": "4d964308-8c7a-4624-8e20-5acb7823d0c8",
   "metadata": {},
   "outputs": [],
   "source": []
  },
  {
   "cell_type": "code",
   "execution_count": null,
   "id": "d962c1ec-5c5d-4ffb-a764-555827da2557",
   "metadata": {},
   "outputs": [],
   "source": []
  }
 ],
 "metadata": {
  "kernelspec": {
   "display_name": "Python 3 (ipykernel)",
   "language": "python",
   "name": "python3"
  },
  "language_info": {
   "codemirror_mode": {
    "name": "ipython",
    "version": 3
   },
   "file_extension": ".py",
   "mimetype": "text/x-python",
   "name": "python",
   "nbconvert_exporter": "python",
   "pygments_lexer": "ipython3",
   "version": "3.12.3"
  }
 },
 "nbformat": 4,
 "nbformat_minor": 5
}
