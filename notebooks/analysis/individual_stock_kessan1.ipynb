{
 "cells": [
  {
   "cell_type": "code",
   "execution_count": 1,
   "id": "72fe6020-2485-4d19-ba64-b2929df1c64f",
   "metadata": {},
   "outputs": [],
   "source": [
    "# valuation_date時におけるcodeで指定した銘柄の個別銘柄分析\n",
    "# SBI証券のモバイルの銘柄分析を参考に作成"
   ]
  },
  {
   "cell_type": "code",
   "execution_count": 2,
   "id": "4c3ea513-3b75-4b72-be31-8271db72c241",
   "metadata": {},
   "outputs": [],
   "source": [
    "### パラメータ設定セル\n",
    "from datetime import date\n",
    "from dateutil.relativedelta import relativedelta\n",
    "\n",
    "# パラメータをセット\n",
    "# code: 証券コード\n",
    "# valuation_date: 過去にさかのぼって評価日をdatetime.dateでセット可能。デフォルト値は今日(date.today())\n",
    "code = 4026\n",
    "valuation_date = date.today()\n",
    "#valuation_date = date(2024, 12, 13)\n"
   ]
  },
  {
   "cell_type": "code",
   "execution_count": 3,
   "id": "0fa30969-b1dd-4795-8ca4-8bb63e06f211",
   "metadata": {},
   "outputs": [],
   "source": [
    "# 読み込みファイルパスの設定とimportしたいmoduleパス(pythonパス)の設定\n",
    "from pathlib import Path\n",
    "import os, sys\n",
    "\n",
    "CURRENT_DIR = Path(os.getcwd())\n",
    "PJ_DIR = CURRENT_DIR.parent.parent\n",
    "LIB_DIR = PJ_DIR / \"lib\"\n",
    "DATA_DIR = PJ_DIR / \"data\" \n",
    "\n",
    "sys.path.append(str(LIB_DIR))\n",
    "\n",
    "# notebook内で利用するmoduleのimport\n",
    "from lib_dataprocess import PricelistPl, FinancequotePl, KessanPl, KessanFig, PricelistFig, read_data, get_df_latest_yearly_performance, get_latest_stockprice, print_finance_quote\n",
    "from lib_dataprocess import get_fig_expected_performance_progress_rate_pycharts, MeigaralistPl, get_fig_actual_performance_progress_rate_pycharts, ShikihoPl\n",
    "import polars as pl\n",
    "\n",
    "# dataの読み込み\n",
    "fp = DATA_DIR/\"raw_pricelist.parquet\"\n",
    "df = read_data(fp)\n",
    "PPL = PricelistPl(df)\n",
    "\n",
    "# dataの読み込み\n",
    "fp = DATA_DIR/\"reviced_pricelist.parquet\"\n",
    "df = read_data(fp)\n",
    "RevPPL = PricelistPl(df)\n",
    "\n",
    "fp = DATA_DIR/\"finance_quote.parquet\"\n",
    "df = read_data(fp)\n",
    "FPL = FinancequotePl(df)\n",
    "FPL.with_columns_market_cap()\n",
    "\n",
    "fp = DATA_DIR/\"kessan.parquet\"\n",
    "df = read_data(fp)\n",
    "KPL = KessanPl(df)\n",
    "\n",
    "fp = DATA_DIR/\"meigaralist.parquet\"\n",
    "df = read_data(fp)\n",
    "MPL = MeigaralistPl(df)\n",
    "\n",
    "fp = DATA_DIR/\"shikiho.parquet\"\n",
    "df = read_data(fp)\n",
    "SPL = ShikihoPl(df)"
   ]
  },
  {
   "cell_type": "code",
   "execution_count": 4,
   "id": "12cca2e1-9577-4b88-a042-170da054f42b",
   "metadata": {},
   "outputs": [
    {
     "name": "stdout",
     "output_type": "stream",
     "text": [
      "神島化学工業(4026)の銘柄情報\n",
      "\n",
      "終値: 1536.0円(2024年12月26日)\n",
      "予想配当利回り: 2.86%(2024年12月26日)\n",
      "予想PER: 8.43倍(2024年12月26日)\n",
      "実績PBR: 1.13倍(2024年12月26日)\n",
      "自己資本比率: 39.8%(2024年12月26日)\n",
      "予想ROE: 13.36%(2024年12月26日)\n",
      "予想ROA: 5.32%(2024年12月26日)\n",
      "時価総額: 141.9億円(2024年12月26日)\n",
      "\n",
      "4026(神島化学工業)の四季報データ履歴\n",
      "\n",
      "発行日: 2024年09月13日\n",
      "【上向く】\n",
      "  サプリや自動車向けマグネシウム、車載用やレーザー向けセラミックスが伸長し業績牽引。建材も高級軒天ボード採用拡大など高付加価値品下支え。減価償却費など固定費増吸収し増益転換。連続増配。\n",
      "【核融合発電】\n",
      "  ITER計画(トカマク方式)が大幅遅延の公算、レーザー核融合方式の市場浸透チャンスに。建材は販売チャネル強化によって非住宅向け拡販進める。\n",
      "\n",
      "発行日: 2024年06月14日\n",
      "【改善】\n",
      "  25年4月期は建材横ばい見込みも、セラミックスが車載用蛍光体の拡大持続やレーザー核融合発電向け寄与で伸長。収益性高い酸化マグネシウムも拡販進展。償却負担大幅増の影響も一巡し営業増益。\n",
      "【新分野】\n",
      "  CO2固定化建材製造に向けた大型投資は25年4月期後半に予定、翌期に販売開始本格化。プロジェクター用途『LED用蛍光体』は試験用向けに販売開始。\n",
      "\n",
      "発行日: 2024年03月16日\n",
      "【堅調】\n",
      "  マグネシウムはじめ化成品が設備増強効果で増販進む。建材は高級軒天ボードなど高付加価値品が下支え。修繕費などの一部固定費負担が後半に低減。増配。25年4月期は化成品を牽引役に営業増益。\n",
      "【協調】\n",
      "  大阪大学レーザー科学研究所とセラミックス協働拠点設立、核融合発電分野の開発強化。25年にCO2固定化建材の製造開始予定、25年4月期設備投資実施も。\n",
      "\n",
      "発行日: 2023年12月15日\n",
      "【連続最高益】\n",
      "  化成品が増産設備稼働で伸長、利益率高いサプリ向けマグネシウムも在庫調整解消し後半巻き返し。建材は高付加価値品が好調で下支え。減価償却増えるが、増収効果でかわす。営業益堅調。増配。\n",
      "【セラミックス】\n",
      "  プロジェクター用途のLED用蛍光体サンプル出荷開始、レーザー用途は来年度に案件見込む。マグネシウムでは高熱伝導部材向け製品の開発進める。\n"
     ]
    }
   ],
   "source": [
    "### 最新情報\n",
    "# 指定したcodeの指定した日における株価と各種ファンダメンタルズデータをまとめて標準出力する\n",
    "# pricelist_dfは、raw_pricelistかreviced_pricelistかケースに応じて使い分ける。\n",
    "# def print_finance_quote(\n",
    "#        pricelist_df: pl.DataFrame,\n",
    "#        finance_quote_df: pl.DataFrame,\n",
    "#        code: int, \n",
    "#        valuation_date: date=date.today()\n",
    "#    ) -> None:\n",
    "print_finance_quote(PPL.df, FPL.df, code, valuation_date=valuation_date)\n",
    "print()\n",
    "SPL.print_stock_df(code, num=4, valuation_date=valuation_date)"
   ]
  },
  {
   "cell_type": "code",
   "execution_count": 5,
   "id": "0496d051-66d9-4003-8ca9-71a782b5ec88",
   "metadata": {},
   "outputs": [
    {
     "data": {
      "text/html": [
       "<iframe\n",
       "    scrolling=\"no\"\n",
       "    width=\"100%\"\n",
       "    height=\"545px\"\n",
       "    src=\"iframe_figures/figure_5.html\"\n",
       "    frameborder=\"0\"\n",
       "    allowfullscreen\n",
       "></iframe>\n"
      ]
     },
     "metadata": {},
     "output_type": "display_data"
    }
   ],
   "source": [
    "### 業績推移\n",
    "\n",
    "# KessanFig(\n",
    "#    code: int, \n",
    "#    settlement_type: Literal[\"通期\", \"四半期\"], \n",
    "#    output_target: str = \"jupyter\",\n",
    "#    start_settlement_date: date = date(1900, 1, 1),\n",
    "#    end_settlement_date: date = date(2999, 12, 31)\n",
    "#)\n",
    "\n",
    "KFIG = KessanFig(code, \"通期\", end_settlement_date=valuation_date)\n",
    "KFIG.add_trace_profits()\n",
    "KFIG.fig.show()"
   ]
  },
  {
   "cell_type": "code",
   "execution_count": 6,
   "id": "0fcfaabe-403b-4c14-a9e7-e5a83685dbe4",
   "metadata": {},
   "outputs": [
    {
     "data": {
      "text/html": [
       "<div><style>\n",
       ".dataframe > thead > tr,\n",
       ".dataframe > tbody > tr {\n",
       "  text-align: right;\n",
       "  white-space: pre-wrap;\n",
       "}\n",
       "</style>\n",
       "<small>shape: (2, 11)</small><table border=\"1\" class=\"dataframe\"><thead><tr><th>code</th><th>settlement_date</th><th>settlement_type</th><th>announcement_date</th><th>sales</th><th>operating_income</th><th>ordinary_profit</th><th>final_profit</th><th>reviced_eps</th><th>dividend</th><th>quater</th></tr><tr><td>i64</td><td>date</td><td>str</td><td>date</td><td>i64</td><td>i64</td><td>i64</td><td>i64</td><td>f64</td><td>f64</td><td>i64</td></tr></thead><tbody><tr><td>4026</td><td>2025-04-30</td><td>&quot;予&quot;</td><td>2024-06-12</td><td>27400</td><td>2350</td><td>2300</td><td>1650</td><td>182.3</td><td>44.0</td><td>4</td></tr><tr><td>4026</td><td>2024-04-30</td><td>&quot;予&quot;</td><td>2023-06-12</td><td>25700</td><td>2200</td><td>2200</td><td>1600</td><td>177.0</td><td>42.0</td><td>4</td></tr></tbody></table></div>"
      ],
      "text/plain": [
       "shape: (2, 11)\n",
       "┌──────┬─────────────┬─────────────┬─────────────┬───┬────────────┬────────────┬──────────┬────────┐\n",
       "│ code ┆ settlement_ ┆ settlement_ ┆ announcemen ┆ … ┆ final_prof ┆ reviced_ep ┆ dividend ┆ quater │\n",
       "│ ---  ┆ date        ┆ type        ┆ t_date      ┆   ┆ it         ┆ s          ┆ ---      ┆ ---    │\n",
       "│ i64  ┆ ---         ┆ ---         ┆ ---         ┆   ┆ ---        ┆ ---        ┆ f64      ┆ i64    │\n",
       "│      ┆ date        ┆ str         ┆ date        ┆   ┆ i64        ┆ f64        ┆          ┆        │\n",
       "╞══════╪═════════════╪═════════════╪═════════════╪═══╪════════════╪════════════╪══════════╪════════╡\n",
       "│ 4026 ┆ 2025-04-30  ┆ 予          ┆ 2024-06-12  ┆ … ┆ 1650       ┆ 182.3      ┆ 44.0     ┆ 4      │\n",
       "│ 4026 ┆ 2024-04-30  ┆ 予          ┆ 2023-06-12  ┆ … ┆ 1600       ┆ 177.0      ┆ 42.0     ┆ 4      │\n",
       "└──────┴─────────────┴─────────────┴─────────────┴───┴────────────┴────────────┴──────────┴────────┘"
      ]
     },
     "execution_count": 6,
     "metadata": {},
     "output_type": "execute_result"
    }
   ],
   "source": [
    "# 今季決算予想発表の推移\n",
    "df = KPL.get_settlement_forcast(code, valuation_date)\n",
    "df"
   ]
  },
  {
   "cell_type": "code",
   "execution_count": 7,
   "id": "9640855f-4673-4470-8ef7-5995b03feaa1",
   "metadata": {},
   "outputs": [
    {
     "name": "stdout",
     "output_type": "stream",
     "text": [
      "神島化学工業(4026)の通期決算(評価日：2024年12月27日)\n"
     ]
    },
    {
     "data": {
      "text/html": [
       "<div><style>\n",
       ".dataframe > thead > tr,\n",
       ".dataframe > tbody > tr {\n",
       "  text-align: right;\n",
       "  white-space: pre-wrap;\n",
       "}\n",
       "</style>\n",
       "<small>shape: (2, 8)</small><table border=\"1\" class=\"dataframe\"><thead><tr><th>決算期</th><th>決算発表日</th><th>売上高</th><th>営業利益</th><th>経常利益</th><th>純利益</th><th>EPS</th><th>1株配当</th></tr><tr><td>str</td><td>date</td><td>i64</td><td>i64</td><td>i64</td><td>i64</td><td>f64</td><td>f64</td></tr></thead><tbody><tr><td>&quot;2025年4月期(予)&quot;</td><td>2024-06-12</td><td>27400</td><td>2350</td><td>2300</td><td>1650</td><td>182.3</td><td>44.0</td></tr><tr><td>&quot;2024年4月期&quot;</td><td>2024-06-12</td><td>25974</td><td>2117</td><td>2073</td><td>1620</td><td>179.1</td><td>42.0</td></tr></tbody></table></div>"
      ],
      "text/plain": [
       "shape: (2, 8)\n",
       "┌─────────────────┬────────────┬────────┬──────────┬──────────┬────────┬───────┬─────────┐\n",
       "│ 決算期          ┆ 決算発表日 ┆ 売上高 ┆ 営業利益 ┆ 経常利益 ┆ 純利益 ┆ EPS   ┆ 1株配当 │\n",
       "│ ---             ┆ ---        ┆ ---    ┆ ---      ┆ ---      ┆ ---    ┆ ---   ┆ ---     │\n",
       "│ str             ┆ date       ┆ i64    ┆ i64      ┆ i64      ┆ i64    ┆ f64   ┆ f64     │\n",
       "╞═════════════════╪════════════╪════════╪══════════╪══════════╪════════╪═══════╪═════════╡\n",
       "│ 2025年4月期(予) ┆ 2024-06-12 ┆ 27400  ┆ 2350     ┆ 2300     ┆ 1650   ┆ 182.3 ┆ 44.0    │\n",
       "│ 2024年4月期     ┆ 2024-06-12 ┆ 25974  ┆ 2117     ┆ 2073     ┆ 1620   ┆ 179.1 ┆ 42.0    │\n",
       "└─────────────────┴────────────┴────────┴──────────┴──────────┴────────┴───────┴─────────┘"
      ]
     },
     "execution_count": 7,
     "metadata": {},
     "output_type": "execute_result"
    }
   ],
   "source": [
    "### 通期業績、業績予想\n",
    "# def get_df_latest_yearly_performance(code: int, valuation_date: date=date.today()) -> pl.DataFrame:\n",
    "df = get_df_latest_yearly_performance(code, valuation_date)\n",
    "df"
   ]
  },
  {
   "cell_type": "code",
   "execution_count": 8,
   "id": "9ebf91d2-7436-46c3-b035-04a125b60357",
   "metadata": {},
   "outputs": [
    {
     "data": {
      "text/html": [
       "<iframe\n",
       "    scrolling=\"no\"\n",
       "    width=\"100%\"\n",
       "    height=\"545px\"\n",
       "    src=\"iframe_figures/figure_8.html\"\n",
       "    frameborder=\"0\"\n",
       "    allowfullscreen\n",
       "></iframe>\n"
      ]
     },
     "metadata": {},
     "output_type": "display_data"
    },
    {
     "data": {
      "text/html": [
       "<div><style>\n",
       ".dataframe > thead > tr,\n",
       ".dataframe > tbody > tr {\n",
       "  text-align: right;\n",
       "  white-space: pre-wrap;\n",
       "}\n",
       "</style>\n",
       "<small>shape: (8, 11)</small><table border=\"1\" class=\"dataframe\"><thead><tr><th>code</th><th>settlement_date</th><th>settlement_type</th><th>announcement_date</th><th>sales</th><th>operating_income</th><th>ordinary_profit</th><th>final_profit</th><th>reviced_eps</th><th>dividend</th><th>quater</th></tr><tr><td>i64</td><td>date</td><td>str</td><td>date</td><td>i64</td><td>i64</td><td>i64</td><td>i64</td><td>f64</td><td>f64</td><td>i64</td></tr></thead><tbody><tr><td>4026</td><td>2024-10-31</td><td>&quot;四&quot;</td><td>2024-12-11</td><td>6921</td><td>369</td><td>349</td><td>253</td><td>28.0</td><td>5.3</td><td>2</td></tr><tr><td>4026</td><td>2024-07-31</td><td>&quot;四&quot;</td><td>2024-09-11</td><td>6983</td><td>649</td><td>633</td><td>453</td><td>50.1</td><td>9.3</td><td>1</td></tr><tr><td>4026</td><td>2024-04-30</td><td>&quot;四&quot;</td><td>2024-06-12</td><td>6822</td><td>799</td><td>788</td><td>648</td><td>71.6</td><td>11.7</td><td>4</td></tr><tr><td>4026</td><td>2024-01-31</td><td>&quot;四&quot;</td><td>2024-03-12</td><td>6540</td><td>425</td><td>410</td><td>318</td><td>35.2</td><td>6.5</td><td>3</td></tr><tr><td>4026</td><td>2023-10-31</td><td>&quot;四&quot;</td><td>2023-12-12</td><td>6417</td><td>478</td><td>465</td><td>381</td><td>42.2</td><td>7.4</td><td>2</td></tr><tr><td>4026</td><td>2023-07-31</td><td>&quot;四&quot;</td><td>2023-09-12</td><td>6195</td><td>415</td><td>410</td><td>273</td><td>30.2</td><td>6.7</td><td>1</td></tr><tr><td>4026</td><td>2023-04-30</td><td>&quot;四&quot;</td><td>2023-06-12</td><td>6349</td><td>523</td><td>516</td><td>512</td><td>56.7</td><td>8.2</td><td>4</td></tr><tr><td>4026</td><td>2023-01-31</td><td>&quot;四&quot;</td><td>2023-03-10</td><td>6159</td><td>584</td><td>574</td><td>400</td><td>44.3</td><td>9.5</td><td>3</td></tr></tbody></table></div>"
      ],
      "text/plain": [
       "shape: (8, 11)\n",
       "┌──────┬─────────────┬─────────────┬─────────────┬───┬────────────┬────────────┬──────────┬────────┐\n",
       "│ code ┆ settlement_ ┆ settlement_ ┆ announcemen ┆ … ┆ final_prof ┆ reviced_ep ┆ dividend ┆ quater │\n",
       "│ ---  ┆ date        ┆ type        ┆ t_date      ┆   ┆ it         ┆ s          ┆ ---      ┆ ---    │\n",
       "│ i64  ┆ ---         ┆ ---         ┆ ---         ┆   ┆ ---        ┆ ---        ┆ f64      ┆ i64    │\n",
       "│      ┆ date        ┆ str         ┆ date        ┆   ┆ i64        ┆ f64        ┆          ┆        │\n",
       "╞══════╪═════════════╪═════════════╪═════════════╪═══╪════════════╪════════════╪══════════╪════════╡\n",
       "│ 4026 ┆ 2024-10-31  ┆ 四          ┆ 2024-12-11  ┆ … ┆ 253        ┆ 28.0       ┆ 5.3      ┆ 2      │\n",
       "│ 4026 ┆ 2024-07-31  ┆ 四          ┆ 2024-09-11  ┆ … ┆ 453        ┆ 50.1       ┆ 9.3      ┆ 1      │\n",
       "│ 4026 ┆ 2024-04-30  ┆ 四          ┆ 2024-06-12  ┆ … ┆ 648        ┆ 71.6       ┆ 11.7     ┆ 4      │\n",
       "│ 4026 ┆ 2024-01-31  ┆ 四          ┆ 2024-03-12  ┆ … ┆ 318        ┆ 35.2       ┆ 6.5      ┆ 3      │\n",
       "│ 4026 ┆ 2023-10-31  ┆ 四          ┆ 2023-12-12  ┆ … ┆ 381        ┆ 42.2       ┆ 7.4      ┆ 2      │\n",
       "│ 4026 ┆ 2023-07-31  ┆ 四          ┆ 2023-09-12  ┆ … ┆ 273        ┆ 30.2       ┆ 6.7      ┆ 1      │\n",
       "│ 4026 ┆ 2023-04-30  ┆ 四          ┆ 2023-06-12  ┆ … ┆ 512        ┆ 56.7       ┆ 8.2      ┆ 4      │\n",
       "│ 4026 ┆ 2023-01-31  ┆ 四          ┆ 2023-03-10  ┆ … ┆ 400        ┆ 44.3       ┆ 9.5      ┆ 3      │\n",
       "└──────┴─────────────┴─────────────┴─────────────┴───┴────────────┴────────────┴──────────┴────────┘"
      ]
     },
     "execution_count": 8,
     "metadata": {},
     "output_type": "execute_result"
    }
   ],
   "source": [
    "KFIG = KessanFig(code, \"四半期\", end_settlement_date=valuation_date)\n",
    "KFIG.add_trace_profits()\n",
    "KFIG.fig.show()\n",
    "KPL.get_latest_quater_settlement(code, valuation_date)"
   ]
  },
  {
   "cell_type": "code",
   "execution_count": 9,
   "id": "0e6e726c-d77c-464d-8d42-3247af5afba0",
   "metadata": {},
   "outputs": [
    {
     "name": "stdout",
     "output_type": "stream",
     "text": [
      "神島化学工業(4026)の2025年4月期第2四半期決算進捗率(評価日：2024-12-27)\n"
     ]
    },
    {
     "data": {
      "text/html": [
       "<iframe\n",
       "    scrolling=\"no\"\n",
       "    width=\"100%\"\n",
       "    height=\"545px\"\n",
       "    src=\"iframe_figures/figure_9.html\"\n",
       "    frameborder=\"0\"\n",
       "    allowfullscreen\n",
       "></iframe>\n"
      ]
     },
     "metadata": {},
     "output_type": "display_data"
    }
   ],
   "source": [
    "# codeで指定した銘柄のevaluation_dateで指定した時点での最新の年度決算予想に基づく\n",
    "# 売上高~純利益の決算進捗率を円グラフで表示するためのfigを返す\n",
    "# from plotly.graph_objects import Figure\n",
    "# def get_fig_expected_performance_progress_rate_pycharts(code: int, evaluation_date: date=date.today()) -> Figure:\n",
    "\n",
    "fig1 = get_fig_expected_performance_progress_rate_pycharts(code, valuation_date)\n",
    "fig1.show()"
   ]
  },
  {
   "cell_type": "code",
   "execution_count": 10,
   "id": "412228f6-95ef-432e-af38-b2301c619c9e",
   "metadata": {},
   "outputs": [
    {
     "name": "stdout",
     "output_type": "stream",
     "text": [
      "神島化学工業(4026)の2024年4月期第2四半期決算進捗率(評価日：2023-12-27)\n"
     ]
    },
    {
     "data": {
      "text/html": [
       "<iframe\n",
       "    scrolling=\"no\"\n",
       "    width=\"100%\"\n",
       "    height=\"545px\"\n",
       "    src=\"iframe_figures/figure_10.html\"\n",
       "    frameborder=\"0\"\n",
       "    allowfullscreen\n",
       "></iframe>\n"
      ]
     },
     "metadata": {},
     "output_type": "display_data"
    }
   ],
   "source": [
    "last_year_valuation_date = date(valuation_date.year-1, valuation_date.month, valuation_date.day)\n",
    "\n",
    "# codeで指定した銘柄のevaluation_dateで指定した時点での最新の四半期決算発表に基づく\n",
    "# 売上高~純利益の決算進捗率を円グラフで表示するためのfigを返す\n",
    "# valuation_dateで指定する日において、当年度の本決算が発表されていない日を指定した場合は前期末第4四半期の進捗率を表示するので、進捗率100%で表示される。\n",
    "fig2 = get_fig_actual_performance_progress_rate_pycharts(code, last_year_valuation_date, KPL.df, MPL.df)\n",
    "fig2.show()"
   ]
  },
  {
   "cell_type": "code",
   "execution_count": 11,
   "id": "872ee2f6-4f2a-4c21-9a61-f3f86b442637",
   "metadata": {},
   "outputs": [],
   "source": [
    "#### valuation_dateに過去日を指定した場合、valuation_dateを含む期の株価推移\n",
    "#### 答え合わせ"
   ]
  },
  {
   "cell_type": "code",
   "execution_count": 12,
   "id": "2860596f-c601-466f-bb47-327efd7811f9",
   "metadata": {},
   "outputs": [
    {
     "data": {
      "text/html": [
       "<iframe\n",
       "    scrolling=\"no\"\n",
       "    width=\"100%\"\n",
       "    height=\"620\"\n",
       "    src=\"iframe_figures/figure_12.html\"\n",
       "    frameborder=\"0\"\n",
       "    allowfullscreen\n",
       "></iframe>\n"
      ]
     },
     "metadata": {},
     "output_type": "display_data"
    }
   ],
   "source": [
    "# 株価推移\n",
    "# 前期算発表翌営業日～今期決算発表日翌営業日\n",
    "start_date, end_date = KPL.get_current_settlement_period_by_announcement_date(code, valuation_date, \"四\")\n",
    "\n",
    "df = RevPPL.df.filter(pl.col(\"code\")==code).filter(pl.col(\"date\")>start_date)\n",
    "start_date = df[\"date\"].to_list()[0]\n",
    "\n",
    "df = RevPPL.df.filter(pl.col(\"code\")==code).filter(pl.col(\"date\")>end_date)\n",
    "if not end_date == date(2999, 12, 31):\n",
    "    end_date = df[\"date\"].to_list()[0]\n",
    "\n",
    "PFIG = PricelistFig(code, RevPPL.df, MPL.df, start_date, end_date)\n",
    "df = RevPPL.df.filter(pl.col(\"code\")==code).filter(pl.col(\"date\")<=valuation_date)\n",
    "vline_date = df[\"date\"].to_list()[-1]\n",
    "PFIG.add_vline(vline_date)\n",
    "PFIG.fig.show()"
   ]
  },
  {
   "cell_type": "code",
   "execution_count": 13,
   "id": "4d964308-8c7a-4624-8e20-5acb7823d0c8",
   "metadata": {},
   "outputs": [
    {
     "data": {
      "text/html": [
       "<div><style>\n",
       ".dataframe > thead > tr,\n",
       ".dataframe > tbody > tr {\n",
       "  text-align: right;\n",
       "  white-space: pre-wrap;\n",
       "}\n",
       "</style>\n",
       "<small>shape: (6, 11)</small><table border=\"1\" class=\"dataframe\"><thead><tr><th>code</th><th>settlement_date</th><th>settlement_type</th><th>announcement_date</th><th>sales</th><th>operating_income</th><th>ordinary_profit</th><th>final_profit</th><th>reviced_eps</th><th>dividend</th><th>quater</th></tr><tr><td>i64</td><td>date</td><td>str</td><td>date</td><td>i64</td><td>i64</td><td>i64</td><td>i64</td><td>f64</td><td>f64</td><td>i64</td></tr></thead><tbody><tr><td>4026</td><td>2024-01-31</td><td>&quot;四&quot;</td><td>2024-03-12</td><td>6540</td><td>425</td><td>410</td><td>318</td><td>35.2</td><td>6.5</td><td>3</td></tr><tr><td>4026</td><td>2024-04-30</td><td>&quot;四&quot;</td><td>2024-06-12</td><td>6822</td><td>799</td><td>788</td><td>648</td><td>71.6</td><td>11.7</td><td>4</td></tr><tr><td>4026</td><td>2024-04-30</td><td>&quot;本&quot;</td><td>2024-06-12</td><td>25974</td><td>2117</td><td>2073</td><td>1620</td><td>179.1</td><td>42.0</td><td>4</td></tr><tr><td>4026</td><td>2025-04-30</td><td>&quot;予&quot;</td><td>2024-06-12</td><td>27400</td><td>2350</td><td>2300</td><td>1650</td><td>182.3</td><td>44.0</td><td>4</td></tr><tr><td>4026</td><td>2024-07-31</td><td>&quot;四&quot;</td><td>2024-09-11</td><td>6983</td><td>649</td><td>633</td><td>453</td><td>50.1</td><td>9.3</td><td>1</td></tr><tr><td>4026</td><td>2024-10-31</td><td>&quot;四&quot;</td><td>2024-12-11</td><td>6921</td><td>369</td><td>349</td><td>253</td><td>28.0</td><td>5.3</td><td>2</td></tr></tbody></table></div>"
      ],
      "text/plain": [
       "shape: (6, 11)\n",
       "┌──────┬─────────────┬─────────────┬─────────────┬───┬────────────┬────────────┬──────────┬────────┐\n",
       "│ code ┆ settlement_ ┆ settlement_ ┆ announcemen ┆ … ┆ final_prof ┆ reviced_ep ┆ dividend ┆ quater │\n",
       "│ ---  ┆ date        ┆ type        ┆ t_date      ┆   ┆ it         ┆ s          ┆ ---      ┆ ---    │\n",
       "│ i64  ┆ ---         ┆ ---         ┆ ---         ┆   ┆ ---        ┆ ---        ┆ f64      ┆ i64    │\n",
       "│      ┆ date        ┆ str         ┆ date        ┆   ┆ i64        ┆ f64        ┆          ┆        │\n",
       "╞══════╪═════════════╪═════════════╪═════════════╪═══╪════════════╪════════════╪══════════╪════════╡\n",
       "│ 4026 ┆ 2024-01-31  ┆ 四          ┆ 2024-03-12  ┆ … ┆ 318        ┆ 35.2       ┆ 6.5      ┆ 3      │\n",
       "│ 4026 ┆ 2024-04-30  ┆ 四          ┆ 2024-06-12  ┆ … ┆ 648        ┆ 71.6       ┆ 11.7     ┆ 4      │\n",
       "│ 4026 ┆ 2024-04-30  ┆ 本          ┆ 2024-06-12  ┆ … ┆ 1620       ┆ 179.1      ┆ 42.0     ┆ 4      │\n",
       "│ 4026 ┆ 2025-04-30  ┆ 予          ┆ 2024-06-12  ┆ … ┆ 1650       ┆ 182.3      ┆ 44.0     ┆ 4      │\n",
       "│ 4026 ┆ 2024-07-31  ┆ 四          ┆ 2024-09-11  ┆ … ┆ 453        ┆ 50.1       ┆ 9.3      ┆ 1      │\n",
       "│ 4026 ┆ 2024-10-31  ┆ 四          ┆ 2024-12-11  ┆ … ┆ 253        ┆ 28.0       ┆ 5.3      ┆ 2      │\n",
       "└──────┴─────────────┴─────────────┴─────────────┴───┴────────────┴────────────┴──────────┴────────┘"
      ]
     },
     "execution_count": 13,
     "metadata": {},
     "output_type": "execute_result"
    }
   ],
   "source": [
    "# appendix\n",
    "KPL.df.filter(pl.col(\"code\")==code).filter(pl.col(\"announcement_date\")>=date(2024,1,1))"
   ]
  },
  {
   "cell_type": "code",
   "execution_count": 14,
   "id": "d962c1ec-5c5d-4ffb-a764-555827da2557",
   "metadata": {},
   "outputs": [
    {
     "data": {
      "text/html": [
       "<iframe\n",
       "    scrolling=\"no\"\n",
       "    width=\"100%\"\n",
       "    height=\"620\"\n",
       "    src=\"iframe_figures/figure_14.html\"\n",
       "    frameborder=\"0\"\n",
       "    allowfullscreen\n",
       "></iframe>\n"
      ]
     },
     "metadata": {},
     "output_type": "display_data"
    }
   ],
   "source": [
    "PFIG = PricelistFig(code, RevPPL.df, MPL.df, date(2023, 12, 1), date.today())\n",
    "PFIG.fig.show()"
   ]
  },
  {
   "cell_type": "code",
   "execution_count": 15,
   "id": "dfaa8207-57e5-4952-af51-8678ebb24cb0",
   "metadata": {},
   "outputs": [
    {
     "data": {
      "text/html": [
       "<iframe\n",
       "    scrolling=\"no\"\n",
       "    width=\"100%\"\n",
       "    height=\"545px\"\n",
       "    src=\"iframe_figures/figure_15.html\"\n",
       "    frameborder=\"0\"\n",
       "    allowfullscreen\n",
       "></iframe>\n"
      ]
     },
     "metadata": {},
     "output_type": "display_data"
    }
   ],
   "source": [
    "# 次の決算どうだったか\n",
    "KFIG = KessanFig(code, \"四半期\", end_settlement_date=valuation_date+relativedelta(days=100))\n",
    "KFIG.add_trace_profits()\n",
    "KFIG.fig.show()"
   ]
  },
  {
   "cell_type": "code",
   "execution_count": 16,
   "id": "ad4d6b8a-bd0b-4c2c-95ac-6026931a06a3",
   "metadata": {},
   "outputs": [
    {
     "data": {
      "text/html": [
       "<div><style>\n",
       ".dataframe > thead > tr,\n",
       ".dataframe > tbody > tr {\n",
       "  text-align: right;\n",
       "  white-space: pre-wrap;\n",
       "}\n",
       "</style>\n",
       "<small>shape: (811, 5)</small><table border=\"1\" class=\"dataframe\"><thead><tr><th>code</th><th>date</th><th>unsold_margin</th><th>purchase_margin</th><th>margin_ratio</th></tr><tr><td>i64</td><td>date</td><td>i64</td><td>i64</td><td>f64</td></tr></thead><tbody><tr><td>4026</td><td>2008-12-30</td><td>0</td><td>3000</td><td>inf</td></tr><tr><td>4026</td><td>2009-01-09</td><td>0</td><td>3000</td><td>inf</td></tr><tr><td>4026</td><td>2009-01-16</td><td>0</td><td>3000</td><td>inf</td></tr><tr><td>4026</td><td>2009-01-23</td><td>0</td><td>7000</td><td>inf</td></tr><tr><td>4026</td><td>2009-01-30</td><td>0</td><td>3000</td><td>inf</td></tr><tr><td>&hellip;</td><td>&hellip;</td><td>&hellip;</td><td>&hellip;</td><td>&hellip;</td></tr><tr><td>4026</td><td>2024-11-15</td><td>22100</td><td>376900</td><td>17.05</td></tr><tr><td>4026</td><td>2024-11-22</td><td>21800</td><td>378200</td><td>17.35</td></tr><tr><td>4026</td><td>2024-11-29</td><td>21400</td><td>386700</td><td>18.07</td></tr><tr><td>4026</td><td>2024-12-06</td><td>21700</td><td>399200</td><td>18.4</td></tr><tr><td>4026</td><td>2024-12-13</td><td>28100</td><td>438000</td><td>15.59</td></tr></tbody></table></div>"
      ],
      "text/plain": [
       "shape: (811, 5)\n",
       "┌──────┬────────────┬───────────────┬─────────────────┬──────────────┐\n",
       "│ code ┆ date       ┆ unsold_margin ┆ purchase_margin ┆ margin_ratio │\n",
       "│ ---  ┆ ---        ┆ ---           ┆ ---             ┆ ---          │\n",
       "│ i64  ┆ date       ┆ i64           ┆ i64             ┆ f64          │\n",
       "╞══════╪════════════╪═══════════════╪═════════════════╪══════════════╡\n",
       "│ 4026 ┆ 2008-12-30 ┆ 0             ┆ 3000            ┆ inf          │\n",
       "│ 4026 ┆ 2009-01-09 ┆ 0             ┆ 3000            ┆ inf          │\n",
       "│ 4026 ┆ 2009-01-16 ┆ 0             ┆ 3000            ┆ inf          │\n",
       "│ 4026 ┆ 2009-01-23 ┆ 0             ┆ 7000            ┆ inf          │\n",
       "│ 4026 ┆ 2009-01-30 ┆ 0             ┆ 3000            ┆ inf          │\n",
       "│ …    ┆ …          ┆ …             ┆ …               ┆ …            │\n",
       "│ 4026 ┆ 2024-11-15 ┆ 22100         ┆ 376900          ┆ 17.05        │\n",
       "│ 4026 ┆ 2024-11-22 ┆ 21800         ┆ 378200          ┆ 17.35        │\n",
       "│ 4026 ┆ 2024-11-29 ┆ 21400         ┆ 386700          ┆ 18.07        │\n",
       "│ 4026 ┆ 2024-12-06 ┆ 21700         ┆ 399200          ┆ 18.4         │\n",
       "│ 4026 ┆ 2024-12-13 ┆ 28100         ┆ 438000          ┆ 15.59        │\n",
       "└──────┴────────────┴───────────────┴─────────────────┴──────────────┘"
      ]
     },
     "execution_count": 16,
     "metadata": {},
     "output_type": "execute_result"
    }
   ],
   "source": [
    "from lib_dataprocess import CreditbalancePl\n",
    "\n",
    "CPL = CreditbalancePl()\n",
    "CPL.with_columns_margin_ratio()\n",
    "CPL.df.filter(pl.col(\"code\")==code)"
   ]
  },
  {
   "cell_type": "code",
   "execution_count": null,
   "id": "ac32eb0a-3f87-48a7-9b80-52cf651e44b4",
   "metadata": {},
   "outputs": [],
   "source": []
  }
 ],
 "metadata": {
  "kernelspec": {
   "display_name": "Python 3 (ipykernel)",
   "language": "python",
   "name": "python3"
  },
  "language_info": {
   "codemirror_mode": {
    "name": "ipython",
    "version": 3
   },
   "file_extension": ".py",
   "mimetype": "text/x-python",
   "name": "python",
   "nbconvert_exporter": "python",
   "pygments_lexer": "ipython3",
   "version": "3.12.3"
  }
 },
 "nbformat": 4,
 "nbformat_minor": 5
}
