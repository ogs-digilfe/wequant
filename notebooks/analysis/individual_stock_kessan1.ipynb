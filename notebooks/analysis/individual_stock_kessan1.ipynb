{
 "cells": [
  {
   "cell_type": "code",
   "execution_count": 1,
   "id": "72fe6020-2485-4d19-ba64-b2929df1c64f",
   "metadata": {},
   "outputs": [],
   "source": [
    "# valuation_date時におけるcodeで指定した銘柄の個別銘柄分析\n",
    "# SBI証券のモバイルの銘柄分析を参考に作成"
   ]
  },
  {
   "cell_type": "code",
   "execution_count": 2,
   "id": "4c3ea513-3b75-4b72-be31-8271db72c241",
   "metadata": {},
   "outputs": [],
   "source": [
    "### パラメータ設定セル\n",
    "from datetime import date\n",
    "from dateutil.relativedelta import relativedelta\n",
    "\n",
    "# パラメータをセット\n",
    "# code: 証券コード\n",
    "# valuation_date: 過去にさかのぼって評価日をdatetime.dateでセット可能。デフォルト値は今日(date.today())\n",
    "code = 3197\n",
    "valuation_date = date.today()\n",
    "#valuation_date = date(2024, 9, 1)\n"
   ]
  },
  {
   "cell_type": "code",
   "execution_count": 3,
   "id": "0fa30969-b1dd-4795-8ca4-8bb63e06f211",
   "metadata": {},
   "outputs": [],
   "source": [
    "# 読み込みファイルパスの設定とimportしたいmoduleパス(pythonパス)の設定\n",
    "from pathlib import Path\n",
    "import os, sys\n",
    "\n",
    "CURRENT_DIR = Path(os.getcwd())\n",
    "PJ_DIR = CURRENT_DIR.parent.parent\n",
    "LIB_DIR = PJ_DIR / \"lib\"\n",
    "DATA_DIR = PJ_DIR / \"data\" \n",
    "\n",
    "sys.path.append(str(LIB_DIR))\n",
    "\n",
    "# notebook内で利用するmoduleのimport\n",
    "from lib_dataprocess import PricelistPl, FinancequotePl, KessanPl, KessanFig, PricelistFig, read_data, get_df_latest_yearly_performance, get_latest_stockprice, print_finance_quote\n",
    "from lib_dataprocess import get_fig_expected_performance_progress_rate_pycharts, MeigaralistPl, get_fig_actual_performance_progress_rate_pycharts, ShikihoPl\n",
    "import polars as pl\n",
    "\n",
    "# dataの読み込み\n",
    "fp = DATA_DIR/\"raw_pricelist.parquet\"\n",
    "df = read_data(fp)\n",
    "PPL = PricelistPl(df)\n",
    "\n",
    "# dataの読み込み\n",
    "fp = DATA_DIR/\"reviced_pricelist.parquet\"\n",
    "df = read_data(fp)\n",
    "RevPPL = PricelistPl(df)\n",
    "\n",
    "fp = DATA_DIR/\"finance_quote.parquet\"\n",
    "df = read_data(fp)\n",
    "FPL = FinancequotePl(df)\n",
    "FPL.with_columns_market_cap()\n",
    "\n",
    "fp = DATA_DIR/\"kessan.parquet\"\n",
    "df = read_data(fp)\n",
    "KPL = KessanPl(df)\n",
    "\n",
    "fp = DATA_DIR/\"meigaralist.parquet\"\n",
    "df = read_data(fp)\n",
    "MPL = MeigaralistPl(df)\n",
    "\n",
    "fp = DATA_DIR/\"shikiho.parquet\"\n",
    "df = read_data(fp)\n",
    "SPL = ShikihoPl(df)"
   ]
  },
  {
   "cell_type": "code",
   "execution_count": 4,
   "id": "12cca2e1-9577-4b88-a042-170da054f42b",
   "metadata": {},
   "outputs": [
    {
     "name": "stdout",
     "output_type": "stream",
     "text": [
      "すかいらーく HD(3197)の銘柄情報\n",
      "\n",
      "終値: 2431.5円(2024年12月18日)\n",
      "予想配当利回り: 0.72%(2024年12月18日)\n",
      "予想PER: 42.55倍(2024年12月18日)\n",
      "実績PBR: 3.26倍(2024年12月18日)\n",
      "自己資本比率: 38.1%(2024年12月18日)\n",
      "予想ROE: 7.67%(2024年12月18日)\n",
      "予想ROA: 2.92%(2024年12月18日)\n",
      "時価総額: 5531.7億円(2024年12月18日)\n",
      "\n",
      "3197(すかいらーく HD)の四季報データ履歴\n",
      "\n",
      "発行日: 2024年09月13日\n",
      "【大幅増額】\n",
      "  店舗純増約30(前期純減80)。ファミレスは看板の視認性向上効果発現などで客足想定超。食材費増加こなす。のれん除却損減り、営業益上振れ。配当増額。25年12月期もコラボ商品継続し、客数伸長。\n",
      "【DX】\n",
      "  店員向けの表示板をガストなど約1700店に設置。回転率向上や従業員負担の軽減に寄与。テーブル決済は決済方法多様化、他社ポイント付与にも対応へ。\n",
      "\n",
      "発行日: 2024年06月14日\n",
      "【独自増額】\n",
      "  店舗純増約30(前期純減80)。柱のガストは人気アニメとのコラボ販促効き、出足の客数想定超。注文点数増え客単価も上昇。食材高や人件費増こなす。のれん除却損減。前号比で営業益増額。税平常化。\n",
      "【新中計】\n",
      "  27年12月期売上4600億円、営業益320億円目標。既存店売上の年平均3～4%成長が達成のカギ。5月に自社ポイント導入。クーポン配布で再来店促進。\n",
      "\n",
      "発行日: 2024年03月16日\n",
      "【回復軌道】\n",
      "  店舗純増約30(前期純減80)。広告宣伝強化や営業時間延長で客足伸長、注文点数増え客単価も上昇。台湾など海外好調。食材費や人件費増を吸収。のれん除却損も減り営業増益。税平常化。10円配。\n",
      "【成長目標】\n",
      "  国内は25年から3年で300程度出店、手薄な駅前や繁華街で拡大。4月から正社員を対象に平均約6.2%の賃上げ実施。初任給も引き上げ、採用を強化。\n",
      "\n",
      "発行日: 2023年12月15日\n",
      "【回復基調】\n",
      "  店舗純減約70（前期42減）。各業態とも販促強化で注文点数増。食材大量購買など原価抑制。税効果減。24年12月期は店舗数微増。高単価商品投入で既存店堅調。のれん除却損減り営業増益。増配も。\n",
      "【看板】\n",
      "  『ガスト』など国内ファミレス約500店で新設。車からの視認性向上狙う。注力する業態転換は24年度に約70店で実施（23年度40店）。同一ブランドの競合解消へ。\n"
     ]
    }
   ],
   "source": [
    "### 最新情報\n",
    "# 指定したcodeの指定した日における株価と各種ファンダメンタルズデータをまとめて標準出力する\n",
    "# pricelist_dfは、raw_pricelistかreviced_pricelistかケースに応じて使い分ける。\n",
    "# def print_finance_quote(\n",
    "#        pricelist_df: pl.DataFrame,\n",
    "#        finance_quote_df: pl.DataFrame,\n",
    "#        code: int, \n",
    "#        valuation_date: date=date.today()\n",
    "#    ) -> None:\n",
    "print_finance_quote(PPL.df, FPL.df, code, valuation_date=valuation_date)\n",
    "print()\n",
    "SPL.print_stock_df(code, num=4, valuation_date=valuation_date)"
   ]
  },
  {
   "cell_type": "code",
   "execution_count": 5,
   "id": "0496d051-66d9-4003-8ca9-71a782b5ec88",
   "metadata": {},
   "outputs": [
    {
     "data": {
      "text/html": [
       "<iframe\n",
       "    scrolling=\"no\"\n",
       "    width=\"100%\"\n",
       "    height=\"545px\"\n",
       "    src=\"iframe_figures/figure_5.html\"\n",
       "    frameborder=\"0\"\n",
       "    allowfullscreen\n",
       "></iframe>\n"
      ]
     },
     "metadata": {},
     "output_type": "display_data"
    }
   ],
   "source": [
    "### 業績推移\n",
    "\n",
    "# KessanFig(\n",
    "#    code: int, \n",
    "#    settlement_type: Literal[\"通期\", \"四半期\"], \n",
    "#    output_target: str = \"jupyter\",\n",
    "#    start_settlement_date: date = date(1900, 1, 1),\n",
    "#    end_settlement_date: date = date(2999, 12, 31)\n",
    "#)\n",
    "\n",
    "KFIG = KessanFig(code, \"通期\", end_settlement_date=valuation_date)\n",
    "KFIG.add_trace_profits()\n",
    "KFIG.fig.show()"
   ]
  },
  {
   "cell_type": "code",
   "execution_count": 6,
   "id": "0fcfaabe-403b-4c14-a9e7-e5a83685dbe4",
   "metadata": {},
   "outputs": [
    {
     "name": "stdout",
     "output_type": "stream",
     "text": [
      "2024-03-31\n"
     ]
    },
    {
     "data": {
      "text/html": [
       "<div><style>\n",
       ".dataframe > thead > tr,\n",
       ".dataframe > tbody > tr {\n",
       "  text-align: right;\n",
       "  white-space: pre-wrap;\n",
       "}\n",
       "</style>\n",
       "<small>shape: (2, 11)</small><table border=\"1\" class=\"dataframe\"><thead><tr><th>code</th><th>settlement_date</th><th>settlement_type</th><th>announcement_date</th><th>sales</th><th>operating_income</th><th>ordinary_profit</th><th>final_profit</th><th>reviced_eps</th><th>dividend</th><th>quater</th></tr><tr><td>i64</td><td>date</td><td>str</td><td>date</td><td>i64</td><td>i64</td><td>i64</td><td>i64</td><td>f64</td><td>f64</td><td>i64</td></tr></thead><tbody><tr><td>3197</td><td>2024-12-31</td><td>&quot;予&quot;</td><td>2024-08-14</td><td>395000</td><td>24000</td><td>21000</td><td>13000</td><td>57.1</td><td>17.5</td><td>4</td></tr><tr><td>3197</td><td>2024-12-31</td><td>&quot;予&quot;</td><td>2024-02-14</td><td>375000</td><td>15000</td><td>12000</td><td>7500</td><td>33.0</td><td>10.0</td><td>4</td></tr></tbody></table></div>"
      ],
      "text/plain": [
       "shape: (2, 11)\n",
       "┌──────┬─────────────┬─────────────┬─────────────┬───┬────────────┬────────────┬──────────┬────────┐\n",
       "│ code ┆ settlement_ ┆ settlement_ ┆ announcemen ┆ … ┆ final_prof ┆ reviced_ep ┆ dividend ┆ quater │\n",
       "│ ---  ┆ date        ┆ type        ┆ t_date      ┆   ┆ it         ┆ s          ┆ ---      ┆ ---    │\n",
       "│ i64  ┆ ---         ┆ ---         ┆ ---         ┆   ┆ ---        ┆ ---        ┆ f64      ┆ i64    │\n",
       "│      ┆ date        ┆ str         ┆ date        ┆   ┆ i64        ┆ f64        ┆          ┆        │\n",
       "╞══════╪═════════════╪═════════════╪═════════════╪═══╪════════════╪════════════╪══════════╪════════╡\n",
       "│ 3197 ┆ 2024-12-31  ┆ 予          ┆ 2024-08-14  ┆ … ┆ 13000      ┆ 57.1       ┆ 17.5     ┆ 4      │\n",
       "│ 3197 ┆ 2024-12-31  ┆ 予          ┆ 2024-02-14  ┆ … ┆ 7500       ┆ 33.0       ┆ 10.0     ┆ 4      │\n",
       "└──────┴─────────────┴─────────────┴─────────────┴───┴────────────┴────────────┴──────────┴────────┘"
      ]
     },
     "execution_count": 6,
     "metadata": {},
     "output_type": "execute_result"
    }
   ],
   "source": [
    "# 今季決算予想発表の推移\n",
    "df = KPL.get_settlement_forcast(code, valuation_date)\n",
    "df"
   ]
  },
  {
   "cell_type": "code",
   "execution_count": 7,
   "id": "9640855f-4673-4470-8ef7-5995b03feaa1",
   "metadata": {},
   "outputs": [
    {
     "name": "stdout",
     "output_type": "stream",
     "text": [
      "すかいらーく HD(3197)の通期決算(評価日：2024年12月19日)\n"
     ]
    },
    {
     "data": {
      "text/html": [
       "<div><style>\n",
       ".dataframe > thead > tr,\n",
       ".dataframe > tbody > tr {\n",
       "  text-align: right;\n",
       "  white-space: pre-wrap;\n",
       "}\n",
       "</style>\n",
       "<small>shape: (2, 8)</small><table border=\"1\" class=\"dataframe\"><thead><tr><th>決算期</th><th>決算発表日</th><th>売上高</th><th>営業利益</th><th>経常利益</th><th>純利益</th><th>EPS</th><th>1株配当</th></tr><tr><td>str</td><td>date</td><td>i64</td><td>i64</td><td>i64</td><td>i64</td><td>f64</td><td>f64</td></tr></thead><tbody><tr><td>&quot;2024年12月期(予)&quot;</td><td>2024-08-14</td><td>395000</td><td>24000</td><td>21000</td><td>13000</td><td>57.1</td><td>17.5</td></tr><tr><td>&quot;2023年12月期&quot;</td><td>2024-02-14</td><td>354831</td><td>11688</td><td>8691</td><td>4781</td><td>21.0</td><td>7.0</td></tr></tbody></table></div>"
      ],
      "text/plain": [
       "shape: (2, 8)\n",
       "┌──────────────────┬────────────┬────────┬──────────┬──────────┬────────┬──────┬─────────┐\n",
       "│ 決算期           ┆ 決算発表日 ┆ 売上高 ┆ 営業利益 ┆ 経常利益 ┆ 純利益 ┆ EPS  ┆ 1株配当 │\n",
       "│ ---              ┆ ---        ┆ ---    ┆ ---      ┆ ---      ┆ ---    ┆ ---  ┆ ---     │\n",
       "│ str              ┆ date       ┆ i64    ┆ i64      ┆ i64      ┆ i64    ┆ f64  ┆ f64     │\n",
       "╞══════════════════╪════════════╪════════╪══════════╪══════════╪════════╪══════╪═════════╡\n",
       "│ 2024年12月期(予) ┆ 2024-08-14 ┆ 395000 ┆ 24000    ┆ 21000    ┆ 13000  ┆ 57.1 ┆ 17.5    │\n",
       "│ 2023年12月期     ┆ 2024-02-14 ┆ 354831 ┆ 11688    ┆ 8691     ┆ 4781   ┆ 21.0 ┆ 7.0     │\n",
       "└──────────────────┴────────────┴────────┴──────────┴──────────┴────────┴──────┴─────────┘"
      ]
     },
     "execution_count": 7,
     "metadata": {},
     "output_type": "execute_result"
    }
   ],
   "source": [
    "### 通期業績、業績予想\n",
    "# def get_df_latest_yearly_performance(code: int, valuation_date: date=date.today()) -> pl.DataFrame:\n",
    "df = get_df_latest_yearly_performance(code, valuation_date)\n",
    "df"
   ]
  },
  {
   "cell_type": "code",
   "execution_count": 8,
   "id": "9ebf91d2-7436-46c3-b035-04a125b60357",
   "metadata": {},
   "outputs": [
    {
     "data": {
      "text/html": [
       "<iframe\n",
       "    scrolling=\"no\"\n",
       "    width=\"100%\"\n",
       "    height=\"545px\"\n",
       "    src=\"iframe_figures/figure_8.html\"\n",
       "    frameborder=\"0\"\n",
       "    allowfullscreen\n",
       "></iframe>\n"
      ]
     },
     "metadata": {},
     "output_type": "display_data"
    },
    {
     "data": {
      "text/html": [
       "<div><style>\n",
       ".dataframe > thead > tr,\n",
       ".dataframe > tbody > tr {\n",
       "  text-align: right;\n",
       "  white-space: pre-wrap;\n",
       "}\n",
       "</style>\n",
       "<small>shape: (8, 11)</small><table border=\"1\" class=\"dataframe\"><thead><tr><th>code</th><th>settlement_date</th><th>settlement_type</th><th>announcement_date</th><th>sales</th><th>operating_income</th><th>ordinary_profit</th><th>final_profit</th><th>reviced_eps</th><th>dividend</th><th>quater</th></tr><tr><td>i64</td><td>date</td><td>str</td><td>date</td><td>i64</td><td>i64</td><td>i64</td><td>i64</td><td>f64</td><td>f64</td><td>i64</td></tr></thead><tbody><tr><td>3197</td><td>2024-09-30</td><td>&quot;四&quot;</td><td>2024-11-13</td><td>103249</td><td>7305</td><td>6617</td><td>4162</td><td>18.3</td><td>7.1</td><td>3</td></tr><tr><td>3197</td><td>2024-06-30</td><td>&quot;四&quot;</td><td>2024-08-14</td><td>95856</td><td>5883</td><td>5252</td><td>2873</td><td>12.6</td><td>6.1</td><td>2</td></tr><tr><td>3197</td><td>2024-03-31</td><td>&quot;四&quot;</td><td>2024-05-15</td><td>95580</td><td>6100</td><td>5449</td><td>3421</td><td>15.0</td><td>6.4</td><td>1</td></tr><tr><td>3197</td><td>2023-12-31</td><td>&quot;四&quot;</td><td>2024-02-14</td><td>91263</td><td>1737</td><td>715</td><td>248</td><td>1.1</td><td>1.9</td><td>4</td></tr><tr><td>3197</td><td>2023-09-30</td><td>&quot;四&quot;</td><td>2023-11-10</td><td>93779</td><td>7098</td><td>6418</td><td>3984</td><td>17.5</td><td>7.6</td><td>3</td></tr><tr><td>3197</td><td>2023-06-30</td><td>&quot;四&quot;</td><td>2023-08-10</td><td>85221</td><td>3233</td><td>2601</td><td>1210</td><td>5.3</td><td>3.8</td><td>2</td></tr><tr><td>3197</td><td>2023-03-31</td><td>&quot;四&quot;</td><td>2023-05-15</td><td>84568</td><td>-380</td><td>-1043</td><td>-661</td><td>-2.9</td><td>-0.4</td><td>1</td></tr><tr><td>3197</td><td>2022-12-31</td><td>&quot;四&quot;</td><td>2023-02-14</td><td>81835</td><td>-1395</td><td>-2021</td><td>-1755</td><td>-7.7</td><td>-1.7</td><td>4</td></tr></tbody></table></div>"
      ],
      "text/plain": [
       "shape: (8, 11)\n",
       "┌──────┬─────────────┬─────────────┬─────────────┬───┬────────────┬────────────┬──────────┬────────┐\n",
       "│ code ┆ settlement_ ┆ settlement_ ┆ announcemen ┆ … ┆ final_prof ┆ reviced_ep ┆ dividend ┆ quater │\n",
       "│ ---  ┆ date        ┆ type        ┆ t_date      ┆   ┆ it         ┆ s          ┆ ---      ┆ ---    │\n",
       "│ i64  ┆ ---         ┆ ---         ┆ ---         ┆   ┆ ---        ┆ ---        ┆ f64      ┆ i64    │\n",
       "│      ┆ date        ┆ str         ┆ date        ┆   ┆ i64        ┆ f64        ┆          ┆        │\n",
       "╞══════╪═════════════╪═════════════╪═════════════╪═══╪════════════╪════════════╪══════════╪════════╡\n",
       "│ 3197 ┆ 2024-09-30  ┆ 四          ┆ 2024-11-13  ┆ … ┆ 4162       ┆ 18.3       ┆ 7.1      ┆ 3      │\n",
       "│ 3197 ┆ 2024-06-30  ┆ 四          ┆ 2024-08-14  ┆ … ┆ 2873       ┆ 12.6       ┆ 6.1      ┆ 2      │\n",
       "│ 3197 ┆ 2024-03-31  ┆ 四          ┆ 2024-05-15  ┆ … ┆ 3421       ┆ 15.0       ┆ 6.4      ┆ 1      │\n",
       "│ 3197 ┆ 2023-12-31  ┆ 四          ┆ 2024-02-14  ┆ … ┆ 248        ┆ 1.1        ┆ 1.9      ┆ 4      │\n",
       "│ 3197 ┆ 2023-09-30  ┆ 四          ┆ 2023-11-10  ┆ … ┆ 3984       ┆ 17.5       ┆ 7.6      ┆ 3      │\n",
       "│ 3197 ┆ 2023-06-30  ┆ 四          ┆ 2023-08-10  ┆ … ┆ 1210       ┆ 5.3        ┆ 3.8      ┆ 2      │\n",
       "│ 3197 ┆ 2023-03-31  ┆ 四          ┆ 2023-05-15  ┆ … ┆ -661       ┆ -2.9       ┆ -0.4     ┆ 1      │\n",
       "│ 3197 ┆ 2022-12-31  ┆ 四          ┆ 2023-02-14  ┆ … ┆ -1755      ┆ -7.7       ┆ -1.7     ┆ 4      │\n",
       "└──────┴─────────────┴─────────────┴─────────────┴───┴────────────┴────────────┴──────────┴────────┘"
      ]
     },
     "execution_count": 8,
     "metadata": {},
     "output_type": "execute_result"
    }
   ],
   "source": [
    "KFIG = KessanFig(code, \"四半期\", end_settlement_date=valuation_date)\n",
    "KFIG.add_trace_profits()\n",
    "KFIG.fig.show()\n",
    "KPL.get_latest_quater_settlement(code, valuation_date)"
   ]
  },
  {
   "cell_type": "code",
   "execution_count": 9,
   "id": "0e6e726c-d77c-464d-8d42-3247af5afba0",
   "metadata": {},
   "outputs": [
    {
     "name": "stdout",
     "output_type": "stream",
     "text": [
      "すかいらーく HD(3197)の2024年12月期第3四半期決算進捗率(評価日：2024-12-19)\n"
     ]
    },
    {
     "data": {
      "text/html": [
       "<iframe\n",
       "    scrolling=\"no\"\n",
       "    width=\"100%\"\n",
       "    height=\"545px\"\n",
       "    src=\"iframe_figures/figure_9.html\"\n",
       "    frameborder=\"0\"\n",
       "    allowfullscreen\n",
       "></iframe>\n"
      ]
     },
     "metadata": {},
     "output_type": "display_data"
    }
   ],
   "source": [
    "# codeで指定した銘柄のevaluation_dateで指定した時点での最新の年度決算予想に基づく\n",
    "# 売上高~純利益の決算進捗率を円グラフで表示するためのfigを返す\n",
    "# from plotly.graph_objects import Figure\n",
    "# def get_fig_expected_performance_progress_rate_pycharts(code: int, evaluation_date: date=date.today()) -> Figure:\n",
    "\n",
    "fig1 = get_fig_expected_performance_progress_rate_pycharts(code, valuation_date)\n",
    "fig1.show()"
   ]
  },
  {
   "cell_type": "code",
   "execution_count": 10,
   "id": "412228f6-95ef-432e-af38-b2301c619c9e",
   "metadata": {},
   "outputs": [
    {
     "name": "stdout",
     "output_type": "stream",
     "text": [
      "すかいらーく HD(3197)の2023年12月期第3四半期決算進捗率(評価日：2023-12-19)\n"
     ]
    },
    {
     "data": {
      "text/html": [
       "<iframe\n",
       "    scrolling=\"no\"\n",
       "    width=\"100%\"\n",
       "    height=\"545px\"\n",
       "    src=\"iframe_figures/figure_10.html\"\n",
       "    frameborder=\"0\"\n",
       "    allowfullscreen\n",
       "></iframe>\n"
      ]
     },
     "metadata": {},
     "output_type": "display_data"
    }
   ],
   "source": [
    "last_year_valuation_date = date(valuation_date.year-1, valuation_date.month, valuation_date.day)\n",
    "\n",
    "# codeで指定した銘柄のevaluation_dateで指定した時点での最新の四半期決算発表に基づく\n",
    "# 売上高~純利益の決算進捗率を円グラフで表示するためのfigを返す\n",
    "# valuation_dateで指定する日において、当年度の本決算が発表されていない日を指定した場合は前期末第4四半期の進捗率を表示するので、進捗率100%で表示される。\n",
    "fig2 = get_fig_actual_performance_progress_rate_pycharts(code, last_year_valuation_date, KPL.df, MPL.df)\n",
    "fig2.show()"
   ]
  },
  {
   "cell_type": "code",
   "execution_count": 11,
   "id": "872ee2f6-4f2a-4c21-9a61-f3f86b442637",
   "metadata": {},
   "outputs": [],
   "source": [
    "#### valuation_dateに過去日を指定した場合、valuation_dateを含む期の株価推移\n",
    "#### 答え合わせ"
   ]
  },
  {
   "cell_type": "code",
   "execution_count": 12,
   "id": "2860596f-c601-466f-bb47-327efd7811f9",
   "metadata": {},
   "outputs": [
    {
     "data": {
      "text/html": [
       "<iframe\n",
       "    scrolling=\"no\"\n",
       "    width=\"100%\"\n",
       "    height=\"620\"\n",
       "    src=\"iframe_figures/figure_12.html\"\n",
       "    frameborder=\"0\"\n",
       "    allowfullscreen\n",
       "></iframe>\n"
      ]
     },
     "metadata": {},
     "output_type": "display_data"
    }
   ],
   "source": [
    "# 株価推移\n",
    "# 前期算発表翌営業日～今期決算発表日翌営業日\n",
    "start_date, end_date = KPL.get_current_settlement_period_by_announcement_date(code, valuation_date, \"四\")\n",
    "\n",
    "df = RevPPL.df.filter(pl.col(\"code\")==code).filter(pl.col(\"date\")>start_date)\n",
    "start_date = df[\"date\"].to_list()[0]\n",
    "\n",
    "df = RevPPL.df.filter(pl.col(\"code\")==code).filter(pl.col(\"date\")>end_date)\n",
    "if not end_date == date(2999, 12, 31):\n",
    "    end_date = df[\"date\"].to_list()[0]\n",
    "\n",
    "PFIG = PricelistFig(code, RevPPL.df, MPL.df, start_date, end_date)\n",
    "df = RevPPL.df.filter(pl.col(\"code\")==code).filter(pl.col(\"date\")<=valuation_date)\n",
    "vline_date = df[\"date\"].to_list()[-1]\n",
    "PFIG.add_vline(vline_date)\n",
    "PFIG.fig.show()"
   ]
  },
  {
   "cell_type": "code",
   "execution_count": 13,
   "id": "4d964308-8c7a-4624-8e20-5acb7823d0c8",
   "metadata": {},
   "outputs": [
    {
     "data": {
      "text/html": [
       "<div><style>\n",
       ".dataframe > thead > tr,\n",
       ".dataframe > tbody > tr {\n",
       "  text-align: right;\n",
       "  white-space: pre-wrap;\n",
       "}\n",
       "</style>\n",
       "<small>shape: (7, 11)</small><table border=\"1\" class=\"dataframe\"><thead><tr><th>code</th><th>settlement_date</th><th>settlement_type</th><th>announcement_date</th><th>sales</th><th>operating_income</th><th>ordinary_profit</th><th>final_profit</th><th>reviced_eps</th><th>dividend</th><th>quater</th></tr><tr><td>i64</td><td>date</td><td>str</td><td>date</td><td>i64</td><td>i64</td><td>i64</td><td>i64</td><td>f64</td><td>f64</td><td>i64</td></tr></thead><tbody><tr><td>3197</td><td>2023-12-31</td><td>&quot;四&quot;</td><td>2024-02-14</td><td>91263</td><td>1737</td><td>715</td><td>248</td><td>1.1</td><td>1.9</td><td>4</td></tr><tr><td>3197</td><td>2023-12-31</td><td>&quot;本&quot;</td><td>2024-02-14</td><td>354831</td><td>11688</td><td>8691</td><td>4781</td><td>21.0</td><td>7.0</td><td>4</td></tr><tr><td>3197</td><td>2024-12-31</td><td>&quot;予&quot;</td><td>2024-02-14</td><td>375000</td><td>15000</td><td>12000</td><td>7500</td><td>33.0</td><td>10.0</td><td>4</td></tr><tr><td>3197</td><td>2024-03-31</td><td>&quot;四&quot;</td><td>2024-05-15</td><td>95580</td><td>6100</td><td>5449</td><td>3421</td><td>15.0</td><td>6.4</td><td>1</td></tr><tr><td>3197</td><td>2024-12-31</td><td>&quot;予&quot;</td><td>2024-08-14</td><td>395000</td><td>24000</td><td>21000</td><td>13000</td><td>57.1</td><td>17.5</td><td>4</td></tr><tr><td>3197</td><td>2024-06-30</td><td>&quot;四&quot;</td><td>2024-08-14</td><td>95856</td><td>5883</td><td>5252</td><td>2873</td><td>12.6</td><td>6.1</td><td>2</td></tr><tr><td>3197</td><td>2024-09-30</td><td>&quot;四&quot;</td><td>2024-11-13</td><td>103249</td><td>7305</td><td>6617</td><td>4162</td><td>18.3</td><td>7.1</td><td>3</td></tr></tbody></table></div>"
      ],
      "text/plain": [
       "shape: (7, 11)\n",
       "┌──────┬─────────────┬─────────────┬─────────────┬───┬────────────┬────────────┬──────────┬────────┐\n",
       "│ code ┆ settlement_ ┆ settlement_ ┆ announcemen ┆ … ┆ final_prof ┆ reviced_ep ┆ dividend ┆ quater │\n",
       "│ ---  ┆ date        ┆ type        ┆ t_date      ┆   ┆ it         ┆ s          ┆ ---      ┆ ---    │\n",
       "│ i64  ┆ ---         ┆ ---         ┆ ---         ┆   ┆ ---        ┆ ---        ┆ f64      ┆ i64    │\n",
       "│      ┆ date        ┆ str         ┆ date        ┆   ┆ i64        ┆ f64        ┆          ┆        │\n",
       "╞══════╪═════════════╪═════════════╪═════════════╪═══╪════════════╪════════════╪══════════╪════════╡\n",
       "│ 3197 ┆ 2023-12-31  ┆ 四          ┆ 2024-02-14  ┆ … ┆ 248        ┆ 1.1        ┆ 1.9      ┆ 4      │\n",
       "│ 3197 ┆ 2023-12-31  ┆ 本          ┆ 2024-02-14  ┆ … ┆ 4781       ┆ 21.0       ┆ 7.0      ┆ 4      │\n",
       "│ 3197 ┆ 2024-12-31  ┆ 予          ┆ 2024-02-14  ┆ … ┆ 7500       ┆ 33.0       ┆ 10.0     ┆ 4      │\n",
       "│ 3197 ┆ 2024-03-31  ┆ 四          ┆ 2024-05-15  ┆ … ┆ 3421       ┆ 15.0       ┆ 6.4      ┆ 1      │\n",
       "│ 3197 ┆ 2024-12-31  ┆ 予          ┆ 2024-08-14  ┆ … ┆ 13000      ┆ 57.1       ┆ 17.5     ┆ 4      │\n",
       "│ 3197 ┆ 2024-06-30  ┆ 四          ┆ 2024-08-14  ┆ … ┆ 2873       ┆ 12.6       ┆ 6.1      ┆ 2      │\n",
       "│ 3197 ┆ 2024-09-30  ┆ 四          ┆ 2024-11-13  ┆ … ┆ 4162       ┆ 18.3       ┆ 7.1      ┆ 3      │\n",
       "└──────┴─────────────┴─────────────┴─────────────┴───┴────────────┴────────────┴──────────┴────────┘"
      ]
     },
     "execution_count": 13,
     "metadata": {},
     "output_type": "execute_result"
    }
   ],
   "source": [
    "# appendix\n",
    "KPL.df.filter(pl.col(\"code\")==code).filter(pl.col(\"announcement_date\")>=date(2024,1,1))"
   ]
  },
  {
   "cell_type": "code",
   "execution_count": 14,
   "id": "d962c1ec-5c5d-4ffb-a764-555827da2557",
   "metadata": {},
   "outputs": [
    {
     "data": {
      "text/html": [
       "<iframe\n",
       "    scrolling=\"no\"\n",
       "    width=\"100%\"\n",
       "    height=\"620\"\n",
       "    src=\"iframe_figures/figure_14.html\"\n",
       "    frameborder=\"0\"\n",
       "    allowfullscreen\n",
       "></iframe>\n"
      ]
     },
     "metadata": {},
     "output_type": "display_data"
    }
   ],
   "source": [
    "PFIG = PricelistFig(code, RevPPL.df, MPL.df, date(2023, 12, 1), date.today())\n",
    "PFIG.fig.show()"
   ]
  },
  {
   "cell_type": "code",
   "execution_count": 15,
   "id": "ad4d6b8a-bd0b-4c2c-95ac-6026931a06a3",
   "metadata": {},
   "outputs": [
    {
     "data": {
      "text/html": [
       "<div><style>\n",
       ".dataframe > thead > tr,\n",
       ".dataframe > tbody > tr {\n",
       "  text-align: right;\n",
       "  white-space: pre-wrap;\n",
       "}\n",
       "</style>\n",
       "<small>shape: (517, 5)</small><table border=\"1\" class=\"dataframe\"><thead><tr><th>code</th><th>date</th><th>unsold_margin</th><th>purchase_margin</th><th>margin_ratio</th></tr><tr><td>i64</td><td>date</td><td>i64</td><td>i64</td><td>f64</td></tr></thead><tbody><tr><td>3197</td><td>2014-10-10</td><td>0</td><td>512900</td><td>inf</td></tr><tr><td>3197</td><td>2014-10-17</td><td>10000</td><td>324900</td><td>32.49</td></tr><tr><td>3197</td><td>2014-10-24</td><td>16800</td><td>516600</td><td>30.75</td></tr><tr><td>3197</td><td>2014-10-31</td><td>17500</td><td>443000</td><td>25.31</td></tr><tr><td>3197</td><td>2014-11-07</td><td>400</td><td>442600</td><td>1106.5</td></tr><tr><td>&hellip;</td><td>&hellip;</td><td>&hellip;</td><td>&hellip;</td><td>&hellip;</td></tr><tr><td>3197</td><td>2024-11-15</td><td>3149000</td><td>732800</td><td>0.23</td></tr><tr><td>3197</td><td>2024-11-22</td><td>4788300</td><td>693200</td><td>0.14</td></tr><tr><td>3197</td><td>2024-11-29</td><td>7724900</td><td>604400</td><td>0.08</td></tr><tr><td>3197</td><td>2024-12-06</td><td>10389700</td><td>443200</td><td>0.04</td></tr><tr><td>3197</td><td>2024-12-13</td><td>13554500</td><td>359600</td><td>0.03</td></tr></tbody></table></div>"
      ],
      "text/plain": [
       "shape: (517, 5)\n",
       "┌──────┬────────────┬───────────────┬─────────────────┬──────────────┐\n",
       "│ code ┆ date       ┆ unsold_margin ┆ purchase_margin ┆ margin_ratio │\n",
       "│ ---  ┆ ---        ┆ ---           ┆ ---             ┆ ---          │\n",
       "│ i64  ┆ date       ┆ i64           ┆ i64             ┆ f64          │\n",
       "╞══════╪════════════╪═══════════════╪═════════════════╪══════════════╡\n",
       "│ 3197 ┆ 2014-10-10 ┆ 0             ┆ 512900          ┆ inf          │\n",
       "│ 3197 ┆ 2014-10-17 ┆ 10000         ┆ 324900          ┆ 32.49        │\n",
       "│ 3197 ┆ 2014-10-24 ┆ 16800         ┆ 516600          ┆ 30.75        │\n",
       "│ 3197 ┆ 2014-10-31 ┆ 17500         ┆ 443000          ┆ 25.31        │\n",
       "│ 3197 ┆ 2014-11-07 ┆ 400           ┆ 442600          ┆ 1106.5       │\n",
       "│ …    ┆ …          ┆ …             ┆ …               ┆ …            │\n",
       "│ 3197 ┆ 2024-11-15 ┆ 3149000       ┆ 732800          ┆ 0.23         │\n",
       "│ 3197 ┆ 2024-11-22 ┆ 4788300       ┆ 693200          ┆ 0.14         │\n",
       "│ 3197 ┆ 2024-11-29 ┆ 7724900       ┆ 604400          ┆ 0.08         │\n",
       "│ 3197 ┆ 2024-12-06 ┆ 10389700      ┆ 443200          ┆ 0.04         │\n",
       "│ 3197 ┆ 2024-12-13 ┆ 13554500      ┆ 359600          ┆ 0.03         │\n",
       "└──────┴────────────┴───────────────┴─────────────────┴──────────────┘"
      ]
     },
     "execution_count": 15,
     "metadata": {},
     "output_type": "execute_result"
    }
   ],
   "source": [
    "from lib_dataprocess import CreditbalancePl\n",
    "\n",
    "CPL = CreditbalancePl()\n",
    "CPL.with_columns_margin_ratio()\n",
    "CPL.df.filter(pl.col(\"code\")==code)"
   ]
  },
  {
   "cell_type": "code",
   "execution_count": null,
   "id": "ac32eb0a-3f87-48a7-9b80-52cf651e44b4",
   "metadata": {},
   "outputs": [],
   "source": []
  }
 ],
 "metadata": {
  "kernelspec": {
   "display_name": "Python 3 (ipykernel)",
   "language": "python",
   "name": "python3"
  },
  "language_info": {
   "codemirror_mode": {
    "name": "ipython",
    "version": 3
   },
   "file_extension": ".py",
   "mimetype": "text/x-python",
   "name": "python",
   "nbconvert_exporter": "python",
   "pygments_lexer": "ipython3",
   "version": "3.12.3"
  }
 },
 "nbformat": 4,
 "nbformat_minor": 5
}
