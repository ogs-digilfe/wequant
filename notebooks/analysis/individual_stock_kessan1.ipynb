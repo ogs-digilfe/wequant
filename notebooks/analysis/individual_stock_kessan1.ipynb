{
 "cells": [
  {
   "cell_type": "code",
   "execution_count": 1,
   "id": "72fe6020-2485-4d19-ba64-b2929df1c64f",
   "metadata": {},
   "outputs": [],
   "source": [
    "# valuation_date時におけるcodeで指定した銘柄の個別銘柄分析\n",
    "# SBI証券のモバイルの銘柄分析を参考に作成"
   ]
  },
  {
   "cell_type": "code",
   "execution_count": 2,
   "id": "4c3ea513-3b75-4b72-be31-8271db72c241",
   "metadata": {},
   "outputs": [],
   "source": [
    "### パラメータ設定セル\n",
    "from datetime import date\n",
    "from dateutil.relativedelta import relativedelta\n",
    "\n",
    "# パラメータをセット\n",
    "# code: 証券コード\n",
    "# valuation_date: 過去にさかのぼって評価日をdatetime.dateでセット可能。デフォルト値は今日(date.today())\n",
    "code = 3407\n",
    "valuation_date = date.today()\n",
    "valuation_date = date(2024, 7, 31)\n"
   ]
  },
  {
   "cell_type": "code",
   "execution_count": 3,
   "id": "0fa30969-b1dd-4795-8ca4-8bb63e06f211",
   "metadata": {},
   "outputs": [],
   "source": [
    "# 読み込みファイルパスの設定とimportしたいmoduleパス(pythonパス)の設定\n",
    "from pathlib import Path\n",
    "import os, sys\n",
    "\n",
    "CURRENT_DIR = Path(os.getcwd())\n",
    "PJ_DIR = CURRENT_DIR.parent.parent\n",
    "LIB_DIR = PJ_DIR / \"lib\"\n",
    "DATA_DIR = PJ_DIR / \"data\" \n",
    "\n",
    "sys.path.append(str(LIB_DIR))\n",
    "\n",
    "# notebook内で利用するmoduleのimport\n",
    "from lib_dataprocess import PricelistPl, FinancequotePl, KessanPl, KessanFig, PricelistFig, read_data, get_df_latest_yearly_performance, get_latest_stockprice, print_finance_quote\n",
    "from lib_dataprocess import get_fig_expected_performance_progress_rate_pycharts, MeigaralistPl, get_fig_actual_performance_progress_rate_pycharts, ShikihoPl\n",
    "import polars as pl\n",
    "\n",
    "# dataの読み込み\n",
    "fp = DATA_DIR/\"raw_pricelist.parquet\"\n",
    "df = read_data(fp)\n",
    "PPL = PricelistPl(df)\n",
    "\n",
    "# dataの読み込み\n",
    "fp = DATA_DIR/\"reviced_pricelist.parquet\"\n",
    "df = read_data(fp)\n",
    "RevPPL = PricelistPl(df)\n",
    "\n",
    "fp = DATA_DIR/\"finance_quote.parquet\"\n",
    "df = read_data(fp)\n",
    "FPL = FinancequotePl(df)\n",
    "FPL.with_columns_market_cap()\n",
    "\n",
    "fp = DATA_DIR/\"kessan.parquet\"\n",
    "df = read_data(fp)\n",
    "KPL = KessanPl(df)\n",
    "\n",
    "fp = DATA_DIR/\"meigaralist.parquet\"\n",
    "df = read_data(fp)\n",
    "MPL = MeigaralistPl(df)\n",
    "\n",
    "fp = DATA_DIR/\"shikiho.parquet\"\n",
    "df = read_data(fp)\n",
    "SPL = ShikihoPl(df)"
   ]
  },
  {
   "cell_type": "code",
   "execution_count": 4,
   "id": "12cca2e1-9577-4b88-a042-170da054f42b",
   "metadata": {},
   "outputs": [
    {
     "name": "stdout",
     "output_type": "stream",
     "text": [
      "旭化成(3407)の銘柄情報\n",
      "\n",
      "終値: 1094.0円(2024年07月31日)\n",
      "予想配当利回り: 3.29%(2024年07月31日)\n",
      "予想PER: 15.16倍(2024年07月31日)\n",
      "実績PBR: 0.84倍(2024年07月31日)\n",
      "自己資本比率: 49.5%(2024年07月31日)\n",
      "予想ROE: 5.51%(2024年07月31日)\n",
      "予想ROA: 2.73%(2024年07月31日)\n",
      "時価総額: 15249.6億円(2024年07月31日)\n",
      "\n",
      "3407(旭化成)の四季報データ履歴\n",
      "\n",
      "発行日: 2024年06月14日\n",
      "【連続増益】\n",
      "  住宅とヘルスケアは着実増。自動車内装や半導体関連復調、石化上向く。前期減損による負担軽減も効き営業増益。持分損失や特損一巡で純益倍増。増配期待。\n",
      "【ＥＶ電池】\n",
      "  1800億円投じカナダにセパレーター工場建設、政投銀やホンダも計画に出資。北欧・腎疾患治療薬企業にTOB(総額1739億円)、9月中完了目標。同業2社と西日本のエチレン設備能力最適化。\n",
      "\n",
      "発行日: 2024年03月16日\n",
      "【伸長】\n",
      "  除細動器が部材不足解消し反転増。不動産は海外軸に好調。ただ石化の苦戦が想定超で営業微増益に下振れ。特損一服。25年3月期は石化が需要やや回復に加え、在庫評価損が縮小。不動産や除細動器、車用内装材の堅調も貢献。営業益伸長。\n",
      "【不変】\n",
      "  発表が遅れているEV電池用湿式絶縁材の北米工場建設は方針不変。車用内装材は新興企業と協業し製品開発加速。\n",
      "\n",
      "発行日: 2023年12月15日\n",
      "【増益幅縮小】\n",
      "  ヘルスケアは医薬の販管費一段増を除細動器復調が補う。住宅は大型案件軸に伸長。内装材ほか車用も堅調。石化の需要が想定超に低迷し前号比減額だが営業益上向く。特損一服。25年3月期は電子関連や車用拡大。石化底打ち反転も貢献。\n",
      "【増強】\n",
      "  湿式絶縁材は400億円投じ米日韓で塗工能力2.4倍に増強へ。3Dプリンタ用の樹脂製品を北米で試験販売。\n",
      "\n",
      "発行日: 2023年09月15日\n",
      "【増益幅縮小】\n",
      "  ヘルスケアは除細動器が部材不足改善し復調。住宅は豪州伸び堅調。車用の内装材など拡大。絶縁材のれん償却費縮小も貢献。ただ、石化が需要低迷し下振れ。営業益反発だが増益幅縮小。特損減。\n",
      "【米国本部】\n",
      "  米国にヘルスケア領域の本部設置。世界最大市場の米国で成長加速図る。三井物産が合弁で製造するバイオメタノールを原料用に調達してエンプラ生産へ。\n"
     ]
    }
   ],
   "source": [
    "### 最新情報\n",
    "# 指定したcodeの指定した日における株価と各種ファンダメンタルズデータをまとめて標準出力する\n",
    "# pricelist_dfは、raw_pricelistかreviced_pricelistかケースに応じて使い分ける。\n",
    "# def print_finance_quote(\n",
    "#        pricelist_df: pl.DataFrame,\n",
    "#        finance_quote_df: pl.DataFrame,\n",
    "#        code: int, \n",
    "#        valuation_date: date=date.today()\n",
    "#    ) -> None:\n",
    "print_finance_quote(PPL.df, FPL.df, code, valuation_date=valuation_date)\n",
    "print()\n",
    "SPL.print_stock_df(code, num=4, valuation_date=valuation_date)"
   ]
  },
  {
   "cell_type": "code",
   "execution_count": 5,
   "id": "0496d051-66d9-4003-8ca9-71a782b5ec88",
   "metadata": {},
   "outputs": [
    {
     "data": {
      "text/html": [
       "<iframe\n",
       "    scrolling=\"no\"\n",
       "    width=\"100%\"\n",
       "    height=\"545px\"\n",
       "    src=\"iframe_figures/figure_5.html\"\n",
       "    frameborder=\"0\"\n",
       "    allowfullscreen\n",
       "></iframe>\n"
      ]
     },
     "metadata": {},
     "output_type": "display_data"
    }
   ],
   "source": [
    "### 業績推移\n",
    "\n",
    "# KessanFig(\n",
    "#    code: int, \n",
    "#    settlement_type: Literal[\"通期\", \"四半期\"], \n",
    "#    output_target: str = \"jupyter\",\n",
    "#    start_settlement_date: date = date(1900, 1, 1),\n",
    "#    end_settlement_date: date = date(2999, 12, 31)\n",
    "#)\n",
    "\n",
    "KFIG = KessanFig(code, \"通期\", end_settlement_date=valuation_date)\n",
    "KFIG.add_trace_profits()\n",
    "KFIG.fig.show()"
   ]
  },
  {
   "cell_type": "code",
   "execution_count": 6,
   "id": "0fcfaabe-403b-4c14-a9e7-e5a83685dbe4",
   "metadata": {},
   "outputs": [
    {
     "data": {
      "text/html": [
       "<div><style>\n",
       ".dataframe > thead > tr,\n",
       ".dataframe > tbody > tr {\n",
       "  text-align: right;\n",
       "  white-space: pre-wrap;\n",
       "}\n",
       "</style>\n",
       "<small>shape: (1, 11)</small><table border=\"1\" class=\"dataframe\"><thead><tr><th>code</th><th>settlement_date</th><th>settlement_type</th><th>announcement_date</th><th>sales</th><th>operating_income</th><th>ordinary_profit</th><th>final_profit</th><th>reviced_eps</th><th>dividend</th><th>quater</th></tr><tr><td>i64</td><td>date</td><td>str</td><td>date</td><td>i64</td><td>i64</td><td>i64</td><td>i64</td><td>f64</td><td>f64</td><td>i64</td></tr></thead><tbody><tr><td>3407</td><td>2025-03-31</td><td>&quot;予&quot;</td><td>2024-05-09</td><td>2912000</td><td>180000</td><td>181000</td><td>100000</td><td>72.1</td><td>36.0</td><td>4</td></tr></tbody></table></div>"
      ],
      "text/plain": [
       "shape: (1, 11)\n",
       "┌──────┬─────────────┬─────────────┬─────────────┬───┬────────────┬────────────┬──────────┬────────┐\n",
       "│ code ┆ settlement_ ┆ settlement_ ┆ announcemen ┆ … ┆ final_prof ┆ reviced_ep ┆ dividend ┆ quater │\n",
       "│ ---  ┆ date        ┆ type        ┆ t_date      ┆   ┆ it         ┆ s          ┆ ---      ┆ ---    │\n",
       "│ i64  ┆ ---         ┆ ---         ┆ ---         ┆   ┆ ---        ┆ ---        ┆ f64      ┆ i64    │\n",
       "│      ┆ date        ┆ str         ┆ date        ┆   ┆ i64        ┆ f64        ┆          ┆        │\n",
       "╞══════╪═════════════╪═════════════╪═════════════╪═══╪════════════╪════════════╪══════════╪════════╡\n",
       "│ 3407 ┆ 2025-03-31  ┆ 予          ┆ 2024-05-09  ┆ … ┆ 100000     ┆ 72.1       ┆ 36.0     ┆ 4      │\n",
       "└──────┴─────────────┴─────────────┴─────────────┴───┴────────────┴────────────┴──────────┴────────┘"
      ]
     },
     "execution_count": 6,
     "metadata": {},
     "output_type": "execute_result"
    }
   ],
   "source": [
    "# 今季決算予想発表の推移\n",
    "df = KPL.get_settlement_forcast(code, valuation_date)\n",
    "df"
   ]
  },
  {
   "cell_type": "code",
   "execution_count": 7,
   "id": "9640855f-4673-4470-8ef7-5995b03feaa1",
   "metadata": {},
   "outputs": [
    {
     "name": "stdout",
     "output_type": "stream",
     "text": [
      "旭化成(3407)の通期決算(評価日：2024年07月31日)\n"
     ]
    },
    {
     "data": {
      "text/html": [
       "<div><style>\n",
       ".dataframe > thead > tr,\n",
       ".dataframe > tbody > tr {\n",
       "  text-align: right;\n",
       "  white-space: pre-wrap;\n",
       "}\n",
       "</style>\n",
       "<small>shape: (2, 8)</small><table border=\"1\" class=\"dataframe\"><thead><tr><th>決算期</th><th>決算発表日</th><th>売上高</th><th>営業利益</th><th>経常利益</th><th>純利益</th><th>EPS</th><th>1株配当</th></tr><tr><td>str</td><td>date</td><td>i64</td><td>i64</td><td>i64</td><td>i64</td><td>f64</td><td>f64</td></tr></thead><tbody><tr><td>&quot;2025年3月期(予)&quot;</td><td>2024-05-09</td><td>2912000</td><td>180000</td><td>181000</td><td>100000</td><td>72.1</td><td>36.0</td></tr><tr><td>&quot;2024年3月期&quot;</td><td>2024-05-09</td><td>2784878</td><td>140746</td><td>90118</td><td>43806</td><td>31.6</td><td>36.0</td></tr></tbody></table></div>"
      ],
      "text/plain": [
       "shape: (2, 8)\n",
       "┌─────────────────┬────────────┬─────────┬──────────┬──────────┬────────┬──────┬─────────┐\n",
       "│ 決算期          ┆ 決算発表日 ┆ 売上高  ┆ 営業利益 ┆ 経常利益 ┆ 純利益 ┆ EPS  ┆ 1株配当 │\n",
       "│ ---             ┆ ---        ┆ ---     ┆ ---      ┆ ---      ┆ ---    ┆ ---  ┆ ---     │\n",
       "│ str             ┆ date       ┆ i64     ┆ i64      ┆ i64      ┆ i64    ┆ f64  ┆ f64     │\n",
       "╞═════════════════╪════════════╪═════════╪══════════╪══════════╪════════╪══════╪═════════╡\n",
       "│ 2025年3月期(予) ┆ 2024-05-09 ┆ 2912000 ┆ 180000   ┆ 181000   ┆ 100000 ┆ 72.1 ┆ 36.0    │\n",
       "│ 2024年3月期     ┆ 2024-05-09 ┆ 2784878 ┆ 140746   ┆ 90118    ┆ 43806  ┆ 31.6 ┆ 36.0    │\n",
       "└─────────────────┴────────────┴─────────┴──────────┴──────────┴────────┴──────┴─────────┘"
      ]
     },
     "execution_count": 7,
     "metadata": {},
     "output_type": "execute_result"
    }
   ],
   "source": [
    "### 通期業績、業績予想\n",
    "# def get_df_latest_yearly_performance(code: int, valuation_date: date=date.today()) -> pl.DataFrame:\n",
    "df = get_df_latest_yearly_performance(code, valuation_date)\n",
    "df"
   ]
  },
  {
   "cell_type": "code",
   "execution_count": 8,
   "id": "9ebf91d2-7436-46c3-b035-04a125b60357",
   "metadata": {},
   "outputs": [
    {
     "data": {
      "text/html": [
       "<iframe\n",
       "    scrolling=\"no\"\n",
       "    width=\"100%\"\n",
       "    height=\"545px\"\n",
       "    src=\"iframe_figures/figure_8.html\"\n",
       "    frameborder=\"0\"\n",
       "    allowfullscreen\n",
       "></iframe>\n"
      ]
     },
     "metadata": {},
     "output_type": "display_data"
    },
    {
     "data": {
      "text/html": [
       "<div><style>\n",
       ".dataframe > thead > tr,\n",
       ".dataframe > tbody > tr {\n",
       "  text-align: right;\n",
       "  white-space: pre-wrap;\n",
       "}\n",
       "</style>\n",
       "<small>shape: (8, 11)</small><table border=\"1\" class=\"dataframe\"><thead><tr><th>code</th><th>settlement_date</th><th>settlement_type</th><th>announcement_date</th><th>sales</th><th>operating_income</th><th>ordinary_profit</th><th>final_profit</th><th>reviced_eps</th><th>dividend</th><th>quater</th></tr><tr><td>i64</td><td>date</td><td>str</td><td>date</td><td>i64</td><td>i64</td><td>i64</td><td>i64</td><td>f64</td><td>f64</td><td>i64</td></tr></thead><tbody><tr><td>3407</td><td>2024-06-30</td><td>&quot;四&quot;</td><td>2024-07-31</td><td>735934</td><td>49873</td><td>53718</td><td>34092</td><td>24.6</td><td>6.8</td><td>1</td></tr><tr><td>3407</td><td>2024-03-31</td><td>&quot;四&quot;</td><td>2024-05-09</td><td>720732</td><td>42247</td><td>-384</td><td>-14759</td><td>-10.7</td><td>5.9</td><td>4</td></tr><tr><td>3407</td><td>2023-12-31</td><td>&quot;四&quot;</td><td>2024-02-07</td><td>718222</td><td>42612</td><td>38453</td><td>27724</td><td>20.0</td><td>5.9</td><td>3</td></tr><tr><td>3407</td><td>2023-09-30</td><td>&quot;四&quot;</td><td>2023-11-07</td><td>695185</td><td>34096</td><td>30671</td><td>21250</td><td>15.3</td><td>4.9</td><td>2</td></tr><tr><td>3407</td><td>2023-06-30</td><td>&quot;四&quot;</td><td>2023-08-03</td><td>650739</td><td>21791</td><td>21378</td><td>9591</td><td>6.9</td><td>3.3</td><td>1</td></tr><tr><td>3407</td><td>2023-03-31</td><td>&quot;四&quot;</td><td>2023-05-10</td><td>686068</td><td>12030</td><td>9626</td><td>-157355</td><td>-113.5</td><td>1.8</td><td>4</td></tr><tr><td>3407</td><td>2022-12-31</td><td>&quot;四&quot;</td><td>2023-02-08</td><td>689186</td><td>30514</td><td>25515</td><td>14323</td><td>10.3</td><td>4.4</td><td>3</td></tr><tr><td>3407</td><td>2022-09-30</td><td>&quot;四&quot;</td><td>2022-11-09</td><td>680790</td><td>36447</td><td>34859</td><td>21889</td><td>15.8</td><td>5.4</td><td>2</td></tr></tbody></table></div>"
      ],
      "text/plain": [
       "shape: (8, 11)\n",
       "┌──────┬─────────────┬─────────────┬─────────────┬───┬────────────┬────────────┬──────────┬────────┐\n",
       "│ code ┆ settlement_ ┆ settlement_ ┆ announcemen ┆ … ┆ final_prof ┆ reviced_ep ┆ dividend ┆ quater │\n",
       "│ ---  ┆ date        ┆ type        ┆ t_date      ┆   ┆ it         ┆ s          ┆ ---      ┆ ---    │\n",
       "│ i64  ┆ ---         ┆ ---         ┆ ---         ┆   ┆ ---        ┆ ---        ┆ f64      ┆ i64    │\n",
       "│      ┆ date        ┆ str         ┆ date        ┆   ┆ i64        ┆ f64        ┆          ┆        │\n",
       "╞══════╪═════════════╪═════════════╪═════════════╪═══╪════════════╪════════════╪══════════╪════════╡\n",
       "│ 3407 ┆ 2024-06-30  ┆ 四          ┆ 2024-07-31  ┆ … ┆ 34092      ┆ 24.6       ┆ 6.8      ┆ 1      │\n",
       "│ 3407 ┆ 2024-03-31  ┆ 四          ┆ 2024-05-09  ┆ … ┆ -14759     ┆ -10.7      ┆ 5.9      ┆ 4      │\n",
       "│ 3407 ┆ 2023-12-31  ┆ 四          ┆ 2024-02-07  ┆ … ┆ 27724      ┆ 20.0       ┆ 5.9      ┆ 3      │\n",
       "│ 3407 ┆ 2023-09-30  ┆ 四          ┆ 2023-11-07  ┆ … ┆ 21250      ┆ 15.3       ┆ 4.9      ┆ 2      │\n",
       "│ 3407 ┆ 2023-06-30  ┆ 四          ┆ 2023-08-03  ┆ … ┆ 9591       ┆ 6.9        ┆ 3.3      ┆ 1      │\n",
       "│ 3407 ┆ 2023-03-31  ┆ 四          ┆ 2023-05-10  ┆ … ┆ -157355    ┆ -113.5     ┆ 1.8      ┆ 4      │\n",
       "│ 3407 ┆ 2022-12-31  ┆ 四          ┆ 2023-02-08  ┆ … ┆ 14323      ┆ 10.3       ┆ 4.4      ┆ 3      │\n",
       "│ 3407 ┆ 2022-09-30  ┆ 四          ┆ 2022-11-09  ┆ … ┆ 21889      ┆ 15.8       ┆ 5.4      ┆ 2      │\n",
       "└──────┴─────────────┴─────────────┴─────────────┴───┴────────────┴────────────┴──────────┴────────┘"
      ]
     },
     "execution_count": 8,
     "metadata": {},
     "output_type": "execute_result"
    }
   ],
   "source": [
    "KFIG = KessanFig(code, \"四半期\", end_settlement_date=valuation_date)\n",
    "KFIG.add_trace_profits()\n",
    "KFIG.fig.show()\n",
    "KPL.get_latest_quater_settlement(code, valuation_date)"
   ]
  },
  {
   "cell_type": "code",
   "execution_count": 9,
   "id": "0e6e726c-d77c-464d-8d42-3247af5afba0",
   "metadata": {},
   "outputs": [
    {
     "ename": "KeyError",
     "evalue": "-1",
     "output_type": "error",
     "traceback": [
      "\u001b[0;31m---------------------------------------------------------------------------\u001b[0m",
      "\u001b[0;31mValueError\u001b[0m                                Traceback (most recent call last)",
      "File \u001b[0;32m~/workspace-wequant/venv-wequant/lib/python3.12/site-packages/pandas/core/indexes/range.py:413\u001b[0m, in \u001b[0;36mRangeIndex.get_loc\u001b[0;34m(self, key)\u001b[0m\n\u001b[1;32m    412\u001b[0m \u001b[38;5;28;01mtry\u001b[39;00m:\n\u001b[0;32m--> 413\u001b[0m     \u001b[38;5;28;01mreturn\u001b[39;00m \u001b[38;5;28;43mself\u001b[39;49m\u001b[38;5;241;43m.\u001b[39;49m\u001b[43m_range\u001b[49m\u001b[38;5;241;43m.\u001b[39;49m\u001b[43mindex\u001b[49m\u001b[43m(\u001b[49m\u001b[43mnew_key\u001b[49m\u001b[43m)\u001b[49m\n\u001b[1;32m    414\u001b[0m \u001b[38;5;28;01mexcept\u001b[39;00m \u001b[38;5;167;01mValueError\u001b[39;00m \u001b[38;5;28;01mas\u001b[39;00m err:\n",
      "\u001b[0;31mValueError\u001b[0m: -1 is not in range",
      "\nThe above exception was the direct cause of the following exception:\n",
      "\u001b[0;31mKeyError\u001b[0m                                  Traceback (most recent call last)",
      "Cell \u001b[0;32mIn[9], line 6\u001b[0m\n\u001b[1;32m      1\u001b[0m \u001b[38;5;66;03m# codeで指定した銘柄のevaluation_dateで指定した時点での最新の年度決算予想に基づく\u001b[39;00m\n\u001b[1;32m      2\u001b[0m \u001b[38;5;66;03m# 売上高~純利益の決算進捗率を円グラフで表示するためのfigを返す\u001b[39;00m\n\u001b[1;32m      3\u001b[0m \u001b[38;5;66;03m# from plotly.graph_objects import Figure\u001b[39;00m\n\u001b[1;32m      4\u001b[0m \u001b[38;5;66;03m# def get_fig_expected_performance_progress_rate_pycharts(code: int, evaluation_date: date=date.today()) -> Figure:\u001b[39;00m\n\u001b[0;32m----> 6\u001b[0m fig1 \u001b[38;5;241m=\u001b[39m \u001b[43mget_fig_expected_performance_progress_rate_pycharts\u001b[49m\u001b[43m(\u001b[49m\u001b[43mcode\u001b[49m\u001b[43m,\u001b[49m\u001b[43m \u001b[49m\u001b[43mvaluation_date\u001b[49m\u001b[43m)\u001b[49m\n\u001b[1;32m      7\u001b[0m fig1\u001b[38;5;241m.\u001b[39mshow()\n",
      "File \u001b[0;32m~/workspace-wequant/wequant/lib/lib_dataprocess.py:200\u001b[0m, in \u001b[0;36mget_fig_expected_performance_progress_rate_pycharts\u001b[0;34m(code, evaluation_date)\u001b[0m\n\u001b[1;32m    197\u001b[0m df \u001b[38;5;241m=\u001b[39m pandas_df\n\u001b[1;32m    198\u001b[0m rec_idx \u001b[38;5;241m=\u001b[39m df\u001b[38;5;241m.\u001b[39mshape[\u001b[38;5;241m0\u001b[39m] \u001b[38;5;241m-\u001b[39m \u001b[38;5;241m1\u001b[39m\n\u001b[0;32m--> 200\u001b[0m fyear \u001b[38;5;241m=\u001b[39m \u001b[43mdf\u001b[49m\u001b[38;5;241;43m.\u001b[39;49m\u001b[43mloc\u001b[49m\u001b[43m[\u001b[49m\u001b[43mrec_idx\u001b[49m\u001b[43m,\u001b[49m\u001b[43m \u001b[49m\u001b[38;5;124;43m\"\u001b[39;49m\u001b[38;5;124;43myearly_settlement_date\u001b[39;49m\u001b[38;5;124;43m\"\u001b[39;49m\u001b[43m]\u001b[49m\n\u001b[1;32m    201\u001b[0m quater \u001b[38;5;241m=\u001b[39m df\u001b[38;5;241m.\u001b[39mloc[rec_idx, \u001b[38;5;124m\"\u001b[39m\u001b[38;5;124mquater\u001b[39m\u001b[38;5;124m\"\u001b[39m]\n\u001b[1;32m    203\u001b[0m \u001b[38;5;66;03m# 予想データがなければコメントを表示\u001b[39;00m\n",
      "File \u001b[0;32m~/workspace-wequant/venv-wequant/lib/python3.12/site-packages/pandas/core/indexing.py:1183\u001b[0m, in \u001b[0;36m_LocationIndexer.__getitem__\u001b[0;34m(self, key)\u001b[0m\n\u001b[1;32m   1181\u001b[0m     key \u001b[38;5;241m=\u001b[39m \u001b[38;5;28mtuple\u001b[39m(com\u001b[38;5;241m.\u001b[39mapply_if_callable(x, \u001b[38;5;28mself\u001b[39m\u001b[38;5;241m.\u001b[39mobj) \u001b[38;5;28;01mfor\u001b[39;00m x \u001b[38;5;129;01min\u001b[39;00m key)\n\u001b[1;32m   1182\u001b[0m     \u001b[38;5;28;01mif\u001b[39;00m \u001b[38;5;28mself\u001b[39m\u001b[38;5;241m.\u001b[39m_is_scalar_access(key):\n\u001b[0;32m-> 1183\u001b[0m         \u001b[38;5;28;01mreturn\u001b[39;00m \u001b[38;5;28;43mself\u001b[39;49m\u001b[38;5;241;43m.\u001b[39;49m\u001b[43mobj\u001b[49m\u001b[38;5;241;43m.\u001b[39;49m\u001b[43m_get_value\u001b[49m\u001b[43m(\u001b[49m\u001b[38;5;241;43m*\u001b[39;49m\u001b[43mkey\u001b[49m\u001b[43m,\u001b[49m\u001b[43m \u001b[49m\u001b[43mtakeable\u001b[49m\u001b[38;5;241;43m=\u001b[39;49m\u001b[38;5;28;43mself\u001b[39;49m\u001b[38;5;241;43m.\u001b[39;49m\u001b[43m_takeable\u001b[49m\u001b[43m)\u001b[49m\n\u001b[1;32m   1184\u001b[0m     \u001b[38;5;28;01mreturn\u001b[39;00m \u001b[38;5;28mself\u001b[39m\u001b[38;5;241m.\u001b[39m_getitem_tuple(key)\n\u001b[1;32m   1185\u001b[0m \u001b[38;5;28;01melse\u001b[39;00m:\n\u001b[1;32m   1186\u001b[0m     \u001b[38;5;66;03m# we by definition only have the 0th axis\u001b[39;00m\n",
      "File \u001b[0;32m~/workspace-wequant/venv-wequant/lib/python3.12/site-packages/pandas/core/frame.py:4221\u001b[0m, in \u001b[0;36mDataFrame._get_value\u001b[0;34m(self, index, col, takeable)\u001b[0m\n\u001b[1;32m   4215\u001b[0m engine \u001b[38;5;241m=\u001b[39m \u001b[38;5;28mself\u001b[39m\u001b[38;5;241m.\u001b[39mindex\u001b[38;5;241m.\u001b[39m_engine\n\u001b[1;32m   4217\u001b[0m \u001b[38;5;28;01mif\u001b[39;00m \u001b[38;5;129;01mnot\u001b[39;00m \u001b[38;5;28misinstance\u001b[39m(\u001b[38;5;28mself\u001b[39m\u001b[38;5;241m.\u001b[39mindex, MultiIndex):\n\u001b[1;32m   4218\u001b[0m     \u001b[38;5;66;03m# CategoricalIndex: Trying to use the engine fastpath may give incorrect\u001b[39;00m\n\u001b[1;32m   4219\u001b[0m     \u001b[38;5;66;03m#  results if our categories are integers that dont match our codes\u001b[39;00m\n\u001b[1;32m   4220\u001b[0m     \u001b[38;5;66;03m# IntervalIndex: IntervalTree has no get_loc\u001b[39;00m\n\u001b[0;32m-> 4221\u001b[0m     row \u001b[38;5;241m=\u001b[39m \u001b[38;5;28;43mself\u001b[39;49m\u001b[38;5;241;43m.\u001b[39;49m\u001b[43mindex\u001b[49m\u001b[38;5;241;43m.\u001b[39;49m\u001b[43mget_loc\u001b[49m\u001b[43m(\u001b[49m\u001b[43mindex\u001b[49m\u001b[43m)\u001b[49m\n\u001b[1;32m   4222\u001b[0m     \u001b[38;5;28;01mreturn\u001b[39;00m series\u001b[38;5;241m.\u001b[39m_values[row]\n\u001b[1;32m   4224\u001b[0m \u001b[38;5;66;03m# For MultiIndex going through engine effectively restricts us to\u001b[39;00m\n\u001b[1;32m   4225\u001b[0m \u001b[38;5;66;03m#  same-length tuples; see test_get_set_value_no_partial_indexing\u001b[39;00m\n",
      "File \u001b[0;32m~/workspace-wequant/venv-wequant/lib/python3.12/site-packages/pandas/core/indexes/range.py:415\u001b[0m, in \u001b[0;36mRangeIndex.get_loc\u001b[0;34m(self, key)\u001b[0m\n\u001b[1;32m    413\u001b[0m         \u001b[38;5;28;01mreturn\u001b[39;00m \u001b[38;5;28mself\u001b[39m\u001b[38;5;241m.\u001b[39m_range\u001b[38;5;241m.\u001b[39mindex(new_key)\n\u001b[1;32m    414\u001b[0m     \u001b[38;5;28;01mexcept\u001b[39;00m \u001b[38;5;167;01mValueError\u001b[39;00m \u001b[38;5;28;01mas\u001b[39;00m err:\n\u001b[0;32m--> 415\u001b[0m         \u001b[38;5;28;01mraise\u001b[39;00m \u001b[38;5;167;01mKeyError\u001b[39;00m(key) \u001b[38;5;28;01mfrom\u001b[39;00m \u001b[38;5;21;01merr\u001b[39;00m\n\u001b[1;32m    416\u001b[0m \u001b[38;5;28;01mif\u001b[39;00m \u001b[38;5;28misinstance\u001b[39m(key, Hashable):\n\u001b[1;32m    417\u001b[0m     \u001b[38;5;28;01mraise\u001b[39;00m \u001b[38;5;167;01mKeyError\u001b[39;00m(key)\n",
      "\u001b[0;31mKeyError\u001b[0m: -1"
     ]
    }
   ],
   "source": [
    "# codeで指定した銘柄のevaluation_dateで指定した時点での最新の年度決算予想に基づく\n",
    "# 売上高~純利益の決算進捗率を円グラフで表示するためのfigを返す\n",
    "# from plotly.graph_objects import Figure\n",
    "# def get_fig_expected_performance_progress_rate_pycharts(code: int, evaluation_date: date=date.today()) -> Figure:\n",
    "\n",
    "fig1 = get_fig_expected_performance_progress_rate_pycharts(code, valuation_date)\n",
    "fig1.show()"
   ]
  },
  {
   "cell_type": "code",
   "execution_count": 10,
   "id": "412228f6-95ef-432e-af38-b2301c619c9e",
   "metadata": {},
   "outputs": [
    {
     "name": "stdout",
     "output_type": "stream",
     "text": [
      "旭化成(3407)の2023年3月期第4四半期決算進捗率(評価日：2023-07-31)\n"
     ]
    },
    {
     "data": {
      "text/html": [
       "<iframe\n",
       "    scrolling=\"no\"\n",
       "    width=\"100%\"\n",
       "    height=\"545px\"\n",
       "    src=\"iframe_figures/figure_10.html\"\n",
       "    frameborder=\"0\"\n",
       "    allowfullscreen\n",
       "></iframe>\n"
      ]
     },
     "metadata": {},
     "output_type": "display_data"
    }
   ],
   "source": [
    "last_year_valuation_date = date(valuation_date.year-1, valuation_date.month, valuation_date.day)\n",
    "\n",
    "# codeで指定した銘柄のevaluation_dateで指定した時点での最新の四半期決算発表に基づく\n",
    "# 売上高~純利益の決算進捗率を円グラフで表示するためのfigを返す\n",
    "# valuation_dateで指定する日において、当年度の本決算が発表されていない日を指定した場合は前期末第4四半期の進捗率を表示するので、進捗率100%で表示される。\n",
    "fig2 = get_fig_actual_performance_progress_rate_pycharts(code, last_year_valuation_date, KPL.df, MPL.df)\n",
    "fig2.show()"
   ]
  },
  {
   "cell_type": "code",
   "execution_count": 11,
   "id": "872ee2f6-4f2a-4c21-9a61-f3f86b442637",
   "metadata": {},
   "outputs": [],
   "source": [
    "#### valuation_dateに過去日を指定した場合、valuation_dateを含む期の株価推移\n",
    "#### 答え合わせ"
   ]
  },
  {
   "cell_type": "code",
   "execution_count": 12,
   "id": "2860596f-c601-466f-bb47-327efd7811f9",
   "metadata": {},
   "outputs": [
    {
     "data": {
      "text/html": [
       "<iframe\n",
       "    scrolling=\"no\"\n",
       "    width=\"100%\"\n",
       "    height=\"620\"\n",
       "    src=\"iframe_figures/figure_12.html\"\n",
       "    frameborder=\"0\"\n",
       "    allowfullscreen\n",
       "></iframe>\n"
      ]
     },
     "metadata": {},
     "output_type": "display_data"
    }
   ],
   "source": [
    "# 株価推移\n",
    "# 前期算発表翌営業日～今期決算発表日翌営業日\n",
    "start_date, end_date = KPL.get_current_settlement_period_by_announcement_date(code, valuation_date, \"四\")\n",
    "\n",
    "df = RevPPL.df.filter(pl.col(\"code\")==code).filter(pl.col(\"date\")>start_date)\n",
    "start_date = df[\"date\"].to_list()[0]\n",
    "\n",
    "df = RevPPL.df.filter(pl.col(\"code\")==code).filter(pl.col(\"date\")>end_date)\n",
    "if not end_date == date(2999, 12, 31):\n",
    "    end_date = df[\"date\"].to_list()[0]\n",
    "\n",
    "PFIG = PricelistFig(code, RevPPL.df, MPL.df, start_date, end_date)\n",
    "df = RevPPL.df.filter(pl.col(\"code\")==code).filter(pl.col(\"date\")<=valuation_date)\n",
    "vline_date = df[\"date\"].to_list()[-1]\n",
    "PFIG.add_vline(vline_date)\n",
    "PFIG.fig.show()"
   ]
  },
  {
   "cell_type": "code",
   "execution_count": null,
   "id": "4d964308-8c7a-4624-8e20-5acb7823d0c8",
   "metadata": {},
   "outputs": [],
   "source": [
    "# appendix\n",
    "KPL.df.filter(pl.col(\"code\")==code).filter(pl.col(\"announcement_date\")>=date(2024,1,1))"
   ]
  },
  {
   "cell_type": "code",
   "execution_count": null,
   "id": "d962c1ec-5c5d-4ffb-a764-555827da2557",
   "metadata": {},
   "outputs": [],
   "source": [
    "PFIG = PricelistFig(code, RevPPL.df, MPL.df, date(2023, 12, 1), date.today())\n",
    "PFIG.fig.show()"
   ]
  },
  {
   "cell_type": "code",
   "execution_count": null,
   "id": "dfaa8207-57e5-4952-af51-8678ebb24cb0",
   "metadata": {},
   "outputs": [],
   "source": [
    "# 次の決算どうだったか\n",
    "KFIG = KessanFig(code, \"四半期\", end_settlement_date=valuation_date+relativedelta(days=100))\n",
    "KFIG.add_trace_profits()\n",
    "KFIG.fig.show()"
   ]
  },
  {
   "cell_type": "code",
   "execution_count": null,
   "id": "ad4d6b8a-bd0b-4c2c-95ac-6026931a06a3",
   "metadata": {},
   "outputs": [],
   "source": [
    "from lib_dataprocess import CreditbalancePl\n",
    "\n",
    "CPL = CreditbalancePl()\n",
    "CPL.with_columns_margin_ratio()\n",
    "CPL.df.filter(pl.col(\"code\")==code)"
   ]
  },
  {
   "cell_type": "code",
   "execution_count": null,
   "id": "ac32eb0a-3f87-48a7-9b80-52cf651e44b4",
   "metadata": {},
   "outputs": [],
   "source": []
  }
 ],
 "metadata": {
  "kernelspec": {
   "display_name": "Python 3 (ipykernel)",
   "language": "python",
   "name": "python3"
  },
  "language_info": {
   "codemirror_mode": {
    "name": "ipython",
    "version": 3
   },
   "file_extension": ".py",
   "mimetype": "text/x-python",
   "name": "python",
   "nbconvert_exporter": "python",
   "pygments_lexer": "ipython3",
   "version": "3.12.3"
  }
 },
 "nbformat": 4,
 "nbformat_minor": 5
}
