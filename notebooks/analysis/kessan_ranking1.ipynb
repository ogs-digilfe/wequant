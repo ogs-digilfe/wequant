{
 "cells": [
  {
   "cell_type": "code",
   "execution_count": 1,
   "id": "11986f19-6ca3-4a9c-8fe7-9a26f32a9ef7",
   "metadata": {},
   "outputs": [],
   "source": [
    "###\n",
    "# 指定した期における決算データでフィルタし、ランキングを出す"
   ]
  },
  {
   "cell_type": "code",
   "execution_count": 2,
   "id": "3cdaa6b7-3f13-4468-9226-6348f700174a",
   "metadata": {},
   "outputs": [],
   "source": [
    "# 読み込みファイルパスの設定とimportしたいmoduleパス(pythonパス)の設定\n",
    "from pathlib import Path\n",
    "import os, sys\n",
    "\n",
    "CURRENT_DIR = Path(os.getcwd())\n",
    "PJ_DIR = CURRENT_DIR.parent.parent\n",
    "LIB_DIR = PJ_DIR / \"lib\"\n",
    "DATA_DIR = PJ_DIR / \"data\" \n",
    "\n",
    "sys.path.append(str(LIB_DIR))\n",
    "\n",
    "# notebook内で利用するmoduleのimport\n",
    "from lib_dataprocess import KessanPl, read_data\n",
    "import polars as pl\n",
    "from datetime import date"
   ]
  },
  {
   "cell_type": "code",
   "execution_count": 3,
   "id": "f313e5e4-ec5e-43fa-8250-5133112fd68e",
   "metadata": {},
   "outputs": [],
   "source": [
    "### 四半期データでやってみる\n",
    "# 決算日の指定 -> 指定した日の四半期決算でランキングを作成する\n",
    "target_settlement_date = date(2024, 9, 30)\n",
    "# 売上高伸び率を何%以上にするか\n",
    "min_sales_growthrate = 10"
   ]
  },
  {
   "cell_type": "code",
   "execution_count": 6,
   "id": "2e9cba43-3d97-4d20-9cbc-c8f719f29761",
   "metadata": {},
   "outputs": [],
   "source": [
    "# 決算データの読み込み\n",
    "fp = DATA_DIR/\"kessan.parquet\"\n",
    "df = read_data(fp)\n",
    "KPL1 = KessanPl(df)\n",
    "KPL2 = KessanPl(df)\n",
    "\n",
    "# データ加工\n",
    "KPL1.with_columns_growthrate_lastyear()\n",
    "KPL2.with_columns_diff_growthrate()\n",
    "KPL1.df = KPL1.df.filter(pl.col(\"settlement_type\")==\"四\")\n",
    "KPL2.df = KPL2.df.filter(pl.col(\"settlement_type\")==\"四\")\n",
    "df = KPL1.df.join(KPL2.df, on=[\"code\", \"settlement_date\"], how=\"left\")\n",
    "df = df.select([\n",
    "    \"code\", \"settlement_date\", \"announcement_date\", \"sales\", \"operating_income\", \"sales_growthrate\", \"diff_operating_income_growthrate\"\n",
    "])\n",
    "df = df.filter(pl.col(\"settlement_date\")==target_settlement_date)\\\n",
    "    .filter(pl.col(\"operating_income\")>0)\\\n",
    "    .filter(pl.col(\"sales_growthrate\")>=min_sales_growthrate)\\\n",
    "    .filter(pl.col(\"diff_operating_income_growthrate\")>0)\n",
    "df = df.sort(\n",
    "    by=[pl.col(\"diff_operating_income_growthrate\")],\n",
    "    descending=[True]\n",
    ")"
   ]
  },
  {
   "cell_type": "code",
   "execution_count": 7,
   "id": "226a286e-97d0-47de-8fbe-13fd6393071c",
   "metadata": {},
   "outputs": [
    {
     "data": {
      "text/html": [
       "<div><style>\n",
       ".dataframe > thead > tr,\n",
       ".dataframe > tbody > tr {\n",
       "  text-align: right;\n",
       "  white-space: pre-wrap;\n",
       "}\n",
       "</style>\n",
       "<small>shape: (700, 7)</small><table border=\"1\" class=\"dataframe\"><thead><tr><th>code</th><th>settlement_date</th><th>announcement_date</th><th>sales</th><th>operating_income</th><th>sales_growthrate</th><th>diff_operating_income_growthrate</th></tr><tr><td>i64</td><td>date</td><td>date</td><td>i64</td><td>i64</td><td>f64</td><td>f64</td></tr></thead><tbody><tr><td>4056</td><td>2024-09-30</td><td>2024-11-08</td><td>907</td><td>24</td><td>10.7</td><td>240.9</td></tr><tr><td>9130</td><td>2024-09-30</td><td>2024-11-01</td><td>3943</td><td>750</td><td>14.0</td><td>189.9</td></tr><tr><td>4502</td><td>2024-09-30</td><td>2024-10-31</td><td>1176038</td><td>184247</td><td>12.7</td><td>175.7</td></tr><tr><td>4177</td><td>2024-09-30</td><td>2024-11-13</td><td>1281</td><td>257</td><td>13.3</td><td>167.3</td></tr><tr><td>5254</td><td>2024-09-30</td><td>2024-11-14</td><td>762</td><td>362</td><td>10.8</td><td>145.9</td></tr><tr><td>&hellip;</td><td>&hellip;</td><td>&hellip;</td><td>&hellip;</td><td>&hellip;</td><td>&hellip;</td><td>&hellip;</td></tr><tr><td>7130</td><td>2024-09-30</td><td>2024-11-06</td><td>240006</td><td>3641</td><td>52.4</td><td>0.4</td></tr><tr><td>7214</td><td>2024-09-30</td><td>2024-11-14</td><td>27181</td><td>551</td><td>14.6</td><td>0.4</td></tr><tr><td>1446</td><td>2024-09-30</td><td>2024-11-14</td><td>3458</td><td>57</td><td>12.4</td><td>0.3</td></tr><tr><td>9622</td><td>2024-09-30</td><td>2024-11-12</td><td>14623</td><td>424</td><td>34.5</td><td>0.3</td></tr><tr><td>3397</td><td>2024-09-30</td><td>2024-11-14</td><td>67864</td><td>4040</td><td>13.2</td><td>0.2</td></tr></tbody></table></div>"
      ],
      "text/plain": [
       "shape: (700, 7)\n",
       "┌──────┬────────────────┬────────────────┬─────────┬───────────────┬───────────────┬───────────────┐\n",
       "│ code ┆ settlement_dat ┆ announcement_d ┆ sales   ┆ operating_inc ┆ sales_growthr ┆ diff_operatin │\n",
       "│ ---  ┆ e              ┆ ate            ┆ ---     ┆ ome           ┆ ate           ┆ g_income_grow │\n",
       "│ i64  ┆ ---            ┆ ---            ┆ i64     ┆ ---           ┆ ---           ┆ thra…         │\n",
       "│      ┆ date           ┆ date           ┆         ┆ i64           ┆ f64           ┆ ---           │\n",
       "│      ┆                ┆                ┆         ┆               ┆               ┆ f64           │\n",
       "╞══════╪════════════════╪════════════════╪═════════╪═══════════════╪═══════════════╪═══════════════╡\n",
       "│ 4056 ┆ 2024-09-30     ┆ 2024-11-08     ┆ 907     ┆ 24            ┆ 10.7          ┆ 240.9         │\n",
       "│ 9130 ┆ 2024-09-30     ┆ 2024-11-01     ┆ 3943    ┆ 750           ┆ 14.0          ┆ 189.9         │\n",
       "│ 4502 ┆ 2024-09-30     ┆ 2024-10-31     ┆ 1176038 ┆ 184247        ┆ 12.7          ┆ 175.7         │\n",
       "│ 4177 ┆ 2024-09-30     ┆ 2024-11-13     ┆ 1281    ┆ 257           ┆ 13.3          ┆ 167.3         │\n",
       "│ 5254 ┆ 2024-09-30     ┆ 2024-11-14     ┆ 762     ┆ 362           ┆ 10.8          ┆ 145.9         │\n",
       "│ …    ┆ …              ┆ …              ┆ …       ┆ …             ┆ …             ┆ …             │\n",
       "│ 7130 ┆ 2024-09-30     ┆ 2024-11-06     ┆ 240006  ┆ 3641          ┆ 52.4          ┆ 0.4           │\n",
       "│ 7214 ┆ 2024-09-30     ┆ 2024-11-14     ┆ 27181   ┆ 551           ┆ 14.6          ┆ 0.4           │\n",
       "│ 1446 ┆ 2024-09-30     ┆ 2024-11-14     ┆ 3458    ┆ 57            ┆ 12.4          ┆ 0.3           │\n",
       "│ 9622 ┆ 2024-09-30     ┆ 2024-11-12     ┆ 14623   ┆ 424           ┆ 34.5          ┆ 0.3           │\n",
       "│ 3397 ┆ 2024-09-30     ┆ 2024-11-14     ┆ 67864   ┆ 4040          ┆ 13.2          ┆ 0.2           │\n",
       "└──────┴────────────────┴────────────────┴─────────┴───────────────┴───────────────┴───────────────┘"
      ]
     },
     "execution_count": 7,
     "metadata": {},
     "output_type": "execute_result"
    }
   ],
   "source": [
    "# diff_operating_income_growthrateが大きい順に並べ替えてランキング\n",
    "df"
   ]
  },
  {
   "cell_type": "code",
   "execution_count": null,
   "id": "5b2fda7f-6876-4e34-96cf-060bffee798b",
   "metadata": {},
   "outputs": [],
   "source": []
  }
 ],
 "metadata": {
  "kernelspec": {
   "display_name": "Python 3 (ipykernel)",
   "language": "python",
   "name": "python3"
  },
  "language_info": {
   "codemirror_mode": {
    "name": "ipython",
    "version": 3
   },
   "file_extension": ".py",
   "mimetype": "text/x-python",
   "name": "python",
   "nbconvert_exporter": "python",
   "pygments_lexer": "ipython3",
   "version": "3.12.3"
  }
 },
 "nbformat": 4,
 "nbformat_minor": 5
}
