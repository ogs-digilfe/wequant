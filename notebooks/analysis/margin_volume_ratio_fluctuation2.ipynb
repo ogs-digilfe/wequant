{
 "cells": [
  {
   "cell_type": "code",
   "execution_count": 1,
   "id": "53716c86-eff3-42bd-b77b-1e48dd73df9a",
   "metadata": {},
   "outputs": [],
   "source": [
    "# para\n",
    "target_year = 2024"
   ]
  },
  {
   "cell_type": "code",
   "execution_count": 2,
   "id": "e830364c-e7d3-4e98-8f87-0a8f82a52cac",
   "metadata": {},
   "outputs": [],
   "source": [
    "# 読み込みファイルパスの設定とimportしたいmoduleパス(pythonパス)の設定\n",
    "from pathlib import Path\n",
    "import os, sys\n",
    "\n",
    "CURRENT_DIR = Path(os.getcwd())\n",
    "PJ_DIR = CURRENT_DIR.parent.parent\n",
    "LIB_DIR = PJ_DIR / \"lib\"\n",
    "DATA_DIR = PJ_DIR / \"data\" \n",
    "\n",
    "sys.path.append(str(LIB_DIR))\n",
    "\n",
    "# notebook内で利用するmoduleのimport\n",
    "from lib_dataprocess import CreditbalancePl, PricelistPl, read_data, PricelistFig\n",
    "import polars as pl\n",
    "from datetime import date\n",
    "from dateutil.relativedelta import relativedelta"
   ]
  },
  {
   "cell_type": "code",
   "execution_count": 3,
   "id": "3deeba73-b68d-4071-96c9-32173db9a80b",
   "metadata": {},
   "outputs": [],
   "source": [
    "##### reviced_pricelistの加工"
   ]
  },
  {
   "cell_type": "code",
   "execution_count": 4,
   "id": "fb97102b-41c1-4d72-9ac8-8387009c5164",
   "metadata": {},
   "outputs": [
    {
     "data": {
      "text/html": [
       "<div><style>\n",
       ".dataframe > thead > tr,\n",
       ".dataframe > tbody > tr {\n",
       "  text-align: right;\n",
       "  white-space: pre-wrap;\n",
       "}\n",
       "</style>\n",
       "<small>shape: (969_439, 11)</small><table border=\"1\" class=\"dataframe\"><thead><tr><th>code</th><th>date</th><th>open</th><th>high</th><th>low</th><th>close</th><th>volume</th><th>accumulated_split_rate</th><th>zs25</th><th>daily_updown_rate</th><th>weekid</th></tr><tr><td>i64</td><td>date</td><td>f64</td><td>f64</td><td>f64</td><td>f64</td><td>f64</td><td>f64</td><td>f64</td><td>f64</td><td>i16</td></tr></thead><tbody><tr><td>1301</td><td>2024-01-04</td><td>3775.0</td><td>3825.0</td><td>3755.0</td><td>3815.0</td><td>21400.0</td><td>1.0</td><td>0.87</td><td>1.06</td><td>0</td></tr><tr><td>1301</td><td>2024-01-05</td><td>3830.0</td><td>3870.0</td><td>3815.0</td><td>3850.0</td><td>16800.0</td><td>1.0</td><td>0.18</td><td>0.52</td><td>0</td></tr><tr><td>1301</td><td>2024-01-09</td><td>3890.0</td><td>3900.0</td><td>3865.0</td><td>3885.0</td><td>24500.0</td><td>1.0</td><td>1.2</td><td>-0.13</td><td>1</td></tr><tr><td>1301</td><td>2024-01-10</td><td>3895.0</td><td>3940.0</td><td>3895.0</td><td>3910.0</td><td>26400.0</td><td>1.0</td><td>1.34</td><td>0.39</td><td>1</td></tr><tr><td>1301</td><td>2024-01-11</td><td>3935.0</td><td>3945.0</td><td>3890.0</td><td>3890.0</td><td>24000.0</td><td>1.0</td><td>0.95</td><td>-1.14</td><td>1</td></tr><tr><td>&hellip;</td><td>&hellip;</td><td>&hellip;</td><td>&hellip;</td><td>&hellip;</td><td>&hellip;</td><td>&hellip;</td><td>&hellip;</td><td>&hellip;</td><td>&hellip;</td><td>&hellip;</td></tr><tr><td>9997</td><td>2024-12-16</td><td>785.0</td><td>789.0</td><td>781.0</td><td>786.0</td><td>103100.0</td><td>1.0</td><td>-0.53</td><td>0.13</td><td>50</td></tr><tr><td>9997</td><td>2024-12-17</td><td>787.0</td><td>789.0</td><td>782.0</td><td>786.0</td><td>99400.0</td><td>1.0</td><td>-0.56</td><td>-0.13</td><td>50</td></tr><tr><td>9997</td><td>2024-12-18</td><td>786.0</td><td>787.0</td><td>774.0</td><td>776.0</td><td>119100.0</td><td>1.0</td><td>-0.21</td><td>-1.27</td><td>50</td></tr><tr><td>9997</td><td>2024-12-19</td><td>766.0</td><td>780.0</td><td>763.0</td><td>780.0</td><td>160800.0</td><td>1.0</td><td>0.43</td><td>1.83</td><td>50</td></tr><tr><td>9997</td><td>2024-12-20</td><td>783.0</td><td>784.0</td><td>772.0</td><td>772.0</td><td>260100.0</td><td>1.0</td><td>1.8</td><td>-1.4</td><td>50</td></tr></tbody></table></div>"
      ],
      "text/plain": [
       "shape: (969_439, 11)\n",
       "┌──────┬────────────┬────────┬────────┬───┬───────────────────┬───────┬───────────────────┬────────┐\n",
       "│ code ┆ date       ┆ open   ┆ high   ┆ … ┆ accumulated_split ┆ zs25  ┆ daily_updown_rate ┆ weekid │\n",
       "│ ---  ┆ ---        ┆ ---    ┆ ---    ┆   ┆ _rate             ┆ ---   ┆ ---               ┆ ---    │\n",
       "│ i64  ┆ date       ┆ f64    ┆ f64    ┆   ┆ ---               ┆ f64   ┆ f64               ┆ i16    │\n",
       "│      ┆            ┆        ┆        ┆   ┆ f64               ┆       ┆                   ┆        │\n",
       "╞══════╪════════════╪════════╪════════╪═══╪═══════════════════╪═══════╪═══════════════════╪════════╡\n",
       "│ 1301 ┆ 2024-01-04 ┆ 3775.0 ┆ 3825.0 ┆ … ┆ 1.0               ┆ 0.87  ┆ 1.06              ┆ 0      │\n",
       "│ 1301 ┆ 2024-01-05 ┆ 3830.0 ┆ 3870.0 ┆ … ┆ 1.0               ┆ 0.18  ┆ 0.52              ┆ 0      │\n",
       "│ 1301 ┆ 2024-01-09 ┆ 3890.0 ┆ 3900.0 ┆ … ┆ 1.0               ┆ 1.2   ┆ -0.13             ┆ 1      │\n",
       "│ 1301 ┆ 2024-01-10 ┆ 3895.0 ┆ 3940.0 ┆ … ┆ 1.0               ┆ 1.34  ┆ 0.39              ┆ 1      │\n",
       "│ 1301 ┆ 2024-01-11 ┆ 3935.0 ┆ 3945.0 ┆ … ┆ 1.0               ┆ 0.95  ┆ -1.14             ┆ 1      │\n",
       "│ …    ┆ …          ┆ …      ┆ …      ┆ … ┆ …                 ┆ …     ┆ …                 ┆ …      │\n",
       "│ 9997 ┆ 2024-12-16 ┆ 785.0  ┆ 789.0  ┆ … ┆ 1.0               ┆ -0.53 ┆ 0.13              ┆ 50     │\n",
       "│ 9997 ┆ 2024-12-17 ┆ 787.0  ┆ 789.0  ┆ … ┆ 1.0               ┆ -0.56 ┆ -0.13             ┆ 50     │\n",
       "│ 9997 ┆ 2024-12-18 ┆ 786.0  ┆ 787.0  ┆ … ┆ 1.0               ┆ -0.21 ┆ -1.27             ┆ 50     │\n",
       "│ 9997 ┆ 2024-12-19 ┆ 766.0  ┆ 780.0  ┆ … ┆ 1.0               ┆ 0.43  ┆ 1.83              ┆ 50     │\n",
       "│ 9997 ┆ 2024-12-20 ┆ 783.0  ┆ 784.0  ┆ … ┆ 1.0               ┆ 1.8   ┆ -1.4              ┆ 50     │\n",
       "└──────┴────────────┴────────┴────────┴───┴───────────────────┴───────┴───────────────────┴────────┘"
      ]
     },
     "execution_count": 4,
     "metadata": {},
     "output_type": "execute_result"
    }
   ],
   "source": [
    "fp = DATA_DIR/\"reviced_pricelist.parquet\"\n",
    "df = read_data(fp)\n",
    "RPL = PricelistPl(df)\n",
    "\n",
    "RPL.with_columns_moving_zscore()\n",
    "RPL.with_columns_daily_updown_rate()\n",
    "RPL.df = RPL.df.filter(pl.col(\"date\")>=date(target_year, 1, 1)).filter(pl.col(\"date\")<=date(target_year, 12, 31))\n",
    "RPL.with_columns_weekid()\n",
    "RPL.df"
   ]
  },
  {
   "cell_type": "code",
   "execution_count": 5,
   "id": "a0c2a551-256c-40b3-b056-0634904d7c8d",
   "metadata": {},
   "outputs": [],
   "source": [
    "##### creditbalanceの加工"
   ]
  },
  {
   "cell_type": "code",
   "execution_count": 6,
   "id": "f2c14398-3009-45d1-a461-4a053289fed0",
   "metadata": {},
   "outputs": [
    {
     "data": {
      "text/html": [
       "<div><style>\n",
       ".dataframe > thead > tr,\n",
       ".dataframe > tbody > tr {\n",
       "  text-align: right;\n",
       "  white-space: pre-wrap;\n",
       "}\n",
       "</style>\n",
       "<small>shape: (180_974, 8)</small><table border=\"1\" class=\"dataframe\"><thead><tr><th>code</th><th>date</th><th>unsold_margin</th><th>purchase_margin</th><th>volume_ma25</th><th>unsold_margin_volume_ratio</th><th>purchase_margin_volume_ratio</th><th>weekid</th></tr><tr><td>i64</td><td>date</td><td>i64</td><td>i64</td><td>f64</td><td>f64</td><td>f64</td><td>i16</td></tr></thead><tbody><tr><td>1301</td><td>2023-12-29</td><td>2000</td><td>29200</td><td>15180.0</td><td>0.13</td><td>1.92</td><td>0</td></tr><tr><td>1301</td><td>2024-01-12</td><td>4900</td><td>31300</td><td>17056.0</td><td>0.29</td><td>1.84</td><td>2</td></tr><tr><td>1301</td><td>2024-01-19</td><td>4300</td><td>31800</td><td>16276.0</td><td>0.26</td><td>1.95</td><td>3</td></tr><tr><td>1301</td><td>2024-01-26</td><td>5200</td><td>32200</td><td>16264.0</td><td>0.32</td><td>1.98</td><td>4</td></tr><tr><td>1301</td><td>2024-02-02</td><td>7600</td><td>22800</td><td>18404.0</td><td>0.41</td><td>1.24</td><td>5</td></tr><tr><td>&hellip;</td><td>&hellip;</td><td>&hellip;</td><td>&hellip;</td><td>&hellip;</td><td>&hellip;</td><td>&hellip;</td><td>&hellip;</td></tr><tr><td>9997</td><td>2024-11-15</td><td>39300</td><td>637200</td><td>168780.0</td><td>0.23</td><td>3.78</td><td>46</td></tr><tr><td>9997</td><td>2024-11-22</td><td>39700</td><td>634500</td><td>148708.0</td><td>0.27</td><td>4.27</td><td>47</td></tr><tr><td>9997</td><td>2024-11-29</td><td>40200</td><td>667800</td><td>142640.0</td><td>0.28</td><td>4.68</td><td>48</td></tr><tr><td>9997</td><td>2024-12-06</td><td>27200</td><td>727000</td><td>135664.0</td><td>0.2</td><td>5.36</td><td>49</td></tr><tr><td>9997</td><td>2024-12-13</td><td>12800</td><td>669800</td><td>139584.0</td><td>0.09</td><td>4.8</td><td>50</td></tr></tbody></table></div>"
      ],
      "text/plain": [
       "shape: (180_974, 8)\n",
       "┌──────┬────────────┬─────────────┬─────────────┬─────────────┬─────────────┬─────────────┬────────┐\n",
       "│ code ┆ date       ┆ unsold_marg ┆ purchase_ma ┆ volume_ma25 ┆ unsold_marg ┆ purchase_ma ┆ weekid │\n",
       "│ ---  ┆ ---        ┆ in          ┆ rgin        ┆ ---         ┆ in_volume_r ┆ rgin_volume ┆ ---    │\n",
       "│ i64  ┆ date       ┆ ---         ┆ ---         ┆ f64         ┆ atio        ┆ _ratio      ┆ i16    │\n",
       "│      ┆            ┆ i64         ┆ i64         ┆             ┆ ---         ┆ ---         ┆        │\n",
       "│      ┆            ┆             ┆             ┆             ┆ f64         ┆ f64         ┆        │\n",
       "╞══════╪════════════╪═════════════╪═════════════╪═════════════╪═════════════╪═════════════╪════════╡\n",
       "│ 1301 ┆ 2023-12-29 ┆ 2000        ┆ 29200       ┆ 15180.0     ┆ 0.13        ┆ 1.92        ┆ 0      │\n",
       "│ 1301 ┆ 2024-01-12 ┆ 4900        ┆ 31300       ┆ 17056.0     ┆ 0.29        ┆ 1.84        ┆ 2      │\n",
       "│ 1301 ┆ 2024-01-19 ┆ 4300        ┆ 31800       ┆ 16276.0     ┆ 0.26        ┆ 1.95        ┆ 3      │\n",
       "│ 1301 ┆ 2024-01-26 ┆ 5200        ┆ 32200       ┆ 16264.0     ┆ 0.32        ┆ 1.98        ┆ 4      │\n",
       "│ 1301 ┆ 2024-02-02 ┆ 7600        ┆ 22800       ┆ 18404.0     ┆ 0.41        ┆ 1.24        ┆ 5      │\n",
       "│ …    ┆ …          ┆ …           ┆ …           ┆ …           ┆ …           ┆ …           ┆ …      │\n",
       "│ 9997 ┆ 2024-11-15 ┆ 39300       ┆ 637200      ┆ 168780.0    ┆ 0.23        ┆ 3.78        ┆ 46     │\n",
       "│ 9997 ┆ 2024-11-22 ┆ 39700       ┆ 634500      ┆ 148708.0    ┆ 0.27        ┆ 4.27        ┆ 47     │\n",
       "│ 9997 ┆ 2024-11-29 ┆ 40200       ┆ 667800      ┆ 142640.0    ┆ 0.28        ┆ 4.68        ┆ 48     │\n",
       "│ 9997 ┆ 2024-12-06 ┆ 27200       ┆ 727000      ┆ 135664.0    ┆ 0.2         ┆ 5.36        ┆ 49     │\n",
       "│ 9997 ┆ 2024-12-13 ┆ 12800       ┆ 669800      ┆ 139584.0    ┆ 0.09        ┆ 4.8         ┆ 50     │\n",
       "└──────┴────────────┴─────────────┴─────────────┴─────────────┴─────────────┴─────────────┴────────┘"
      ]
     },
     "execution_count": 6,
     "metadata": {},
     "output_type": "execute_result"
    }
   ],
   "source": [
    "CPL = CreditbalancePl()\n",
    "CPL.with_columns_margin_volume_ratio()\n",
    "delta = relativedelta(days=7)\n",
    "start_date = RPL.df[\"date\"].min() - delta\n",
    "end_date = RPL.df[\"date\"].max() - delta\n",
    "CPL.df = CPL.df.filter(pl.col(\"date\")>=start_date).filter(pl.col(\"date\")<=end_date)\n",
    "CPL.with_columns_weekid()\n",
    "CPL.df"
   ]
  },
  {
   "cell_type": "code",
   "execution_count": 7,
   "id": "61cc67a8-ccab-4198-97ea-28d2daa074de",
   "metadata": {},
   "outputs": [],
   "source": [
    "####### revoced_pricelistにcreditbalanceをjoin\n",
    "joined_df = RPL.df.join(CPL.df, on=[\"code\", \"weekid\"], how=\"left\")"
   ]
  },
  {
   "cell_type": "code",
   "execution_count": 8,
   "id": "d7bdd355-f5d9-4868-b0da-a7edd1739396",
   "metadata": {},
   "outputs": [
    {
     "data": {
      "text/html": [
       "<div><style>\n",
       ".dataframe > thead > tr,\n",
       ".dataframe > tbody > tr {\n",
       "  text-align: right;\n",
       "  white-space: pre-wrap;\n",
       "}\n",
       "</style>\n",
       "<small>shape: (969_439, 17)</small><table border=\"1\" class=\"dataframe\"><thead><tr><th>code</th><th>date</th><th>open</th><th>high</th><th>low</th><th>close</th><th>volume</th><th>accumulated_split_rate</th><th>zs25</th><th>daily_updown_rate</th><th>weekid</th><th>date_right</th><th>unsold_margin</th><th>purchase_margin</th><th>volume_ma25</th><th>unsold_margin_volume_ratio</th><th>purchase_margin_volume_ratio</th></tr><tr><td>i64</td><td>date</td><td>f64</td><td>f64</td><td>f64</td><td>f64</td><td>f64</td><td>f64</td><td>f64</td><td>f64</td><td>i16</td><td>date</td><td>i64</td><td>i64</td><td>f64</td><td>f64</td><td>f64</td></tr></thead><tbody><tr><td>1301</td><td>2024-01-04</td><td>3775.0</td><td>3825.0</td><td>3755.0</td><td>3815.0</td><td>21400.0</td><td>1.0</td><td>0.87</td><td>1.06</td><td>0</td><td>2023-12-29</td><td>2000</td><td>29200</td><td>15180.0</td><td>0.13</td><td>1.92</td></tr><tr><td>1301</td><td>2024-01-05</td><td>3830.0</td><td>3870.0</td><td>3815.0</td><td>3850.0</td><td>16800.0</td><td>1.0</td><td>0.18</td><td>0.52</td><td>0</td><td>2023-12-29</td><td>2000</td><td>29200</td><td>15180.0</td><td>0.13</td><td>1.92</td></tr><tr><td>1301</td><td>2024-01-09</td><td>3890.0</td><td>3900.0</td><td>3865.0</td><td>3885.0</td><td>24500.0</td><td>1.0</td><td>1.2</td><td>-0.13</td><td>1</td><td>null</td><td>null</td><td>null</td><td>null</td><td>null</td><td>null</td></tr><tr><td>1301</td><td>2024-01-10</td><td>3895.0</td><td>3940.0</td><td>3895.0</td><td>3910.0</td><td>26400.0</td><td>1.0</td><td>1.34</td><td>0.39</td><td>1</td><td>null</td><td>null</td><td>null</td><td>null</td><td>null</td><td>null</td></tr><tr><td>1301</td><td>2024-01-11</td><td>3935.0</td><td>3945.0</td><td>3890.0</td><td>3890.0</td><td>24000.0</td><td>1.0</td><td>0.95</td><td>-1.14</td><td>1</td><td>null</td><td>null</td><td>null</td><td>null</td><td>null</td><td>null</td></tr><tr><td>&hellip;</td><td>&hellip;</td><td>&hellip;</td><td>&hellip;</td><td>&hellip;</td><td>&hellip;</td><td>&hellip;</td><td>&hellip;</td><td>&hellip;</td><td>&hellip;</td><td>&hellip;</td><td>&hellip;</td><td>&hellip;</td><td>&hellip;</td><td>&hellip;</td><td>&hellip;</td><td>&hellip;</td></tr><tr><td>9997</td><td>2024-12-16</td><td>785.0</td><td>789.0</td><td>781.0</td><td>786.0</td><td>103100.0</td><td>1.0</td><td>-0.53</td><td>0.13</td><td>50</td><td>2024-12-13</td><td>12800</td><td>669800</td><td>139584.0</td><td>0.09</td><td>4.8</td></tr><tr><td>9997</td><td>2024-12-17</td><td>787.0</td><td>789.0</td><td>782.0</td><td>786.0</td><td>99400.0</td><td>1.0</td><td>-0.56</td><td>-0.13</td><td>50</td><td>2024-12-13</td><td>12800</td><td>669800</td><td>139584.0</td><td>0.09</td><td>4.8</td></tr><tr><td>9997</td><td>2024-12-18</td><td>786.0</td><td>787.0</td><td>774.0</td><td>776.0</td><td>119100.0</td><td>1.0</td><td>-0.21</td><td>-1.27</td><td>50</td><td>2024-12-13</td><td>12800</td><td>669800</td><td>139584.0</td><td>0.09</td><td>4.8</td></tr><tr><td>9997</td><td>2024-12-19</td><td>766.0</td><td>780.0</td><td>763.0</td><td>780.0</td><td>160800.0</td><td>1.0</td><td>0.43</td><td>1.83</td><td>50</td><td>2024-12-13</td><td>12800</td><td>669800</td><td>139584.0</td><td>0.09</td><td>4.8</td></tr><tr><td>9997</td><td>2024-12-20</td><td>783.0</td><td>784.0</td><td>772.0</td><td>772.0</td><td>260100.0</td><td>1.0</td><td>1.8</td><td>-1.4</td><td>50</td><td>2024-12-13</td><td>12800</td><td>669800</td><td>139584.0</td><td>0.09</td><td>4.8</td></tr></tbody></table></div>"
      ],
      "text/plain": [
       "shape: (969_439, 17)\n",
       "┌──────┬────────────┬────────┬────────┬───┬──────────────┬─────────────┬─────────────┬─────────────┐\n",
       "│ code ┆ date       ┆ open   ┆ high   ┆ … ┆ purchase_mar ┆ volume_ma25 ┆ unsold_marg ┆ purchase_ma │\n",
       "│ ---  ┆ ---        ┆ ---    ┆ ---    ┆   ┆ gin          ┆ ---         ┆ in_volume_r ┆ rgin_volume │\n",
       "│ i64  ┆ date       ┆ f64    ┆ f64    ┆   ┆ ---          ┆ f64         ┆ atio        ┆ _ratio      │\n",
       "│      ┆            ┆        ┆        ┆   ┆ i64          ┆             ┆ ---         ┆ ---         │\n",
       "│      ┆            ┆        ┆        ┆   ┆              ┆             ┆ f64         ┆ f64         │\n",
       "╞══════╪════════════╪════════╪════════╪═══╪══════════════╪═════════════╪═════════════╪═════════════╡\n",
       "│ 1301 ┆ 2024-01-04 ┆ 3775.0 ┆ 3825.0 ┆ … ┆ 29200        ┆ 15180.0     ┆ 0.13        ┆ 1.92        │\n",
       "│ 1301 ┆ 2024-01-05 ┆ 3830.0 ┆ 3870.0 ┆ … ┆ 29200        ┆ 15180.0     ┆ 0.13        ┆ 1.92        │\n",
       "│ 1301 ┆ 2024-01-09 ┆ 3890.0 ┆ 3900.0 ┆ … ┆ null         ┆ null        ┆ null        ┆ null        │\n",
       "│ 1301 ┆ 2024-01-10 ┆ 3895.0 ┆ 3940.0 ┆ … ┆ null         ┆ null        ┆ null        ┆ null        │\n",
       "│ 1301 ┆ 2024-01-11 ┆ 3935.0 ┆ 3945.0 ┆ … ┆ null         ┆ null        ┆ null        ┆ null        │\n",
       "│ …    ┆ …          ┆ …      ┆ …      ┆ … ┆ …            ┆ …           ┆ …           ┆ …           │\n",
       "│ 9997 ┆ 2024-12-16 ┆ 785.0  ┆ 789.0  ┆ … ┆ 669800       ┆ 139584.0    ┆ 0.09        ┆ 4.8         │\n",
       "│ 9997 ┆ 2024-12-17 ┆ 787.0  ┆ 789.0  ┆ … ┆ 669800       ┆ 139584.0    ┆ 0.09        ┆ 4.8         │\n",
       "│ 9997 ┆ 2024-12-18 ┆ 786.0  ┆ 787.0  ┆ … ┆ 669800       ┆ 139584.0    ┆ 0.09        ┆ 4.8         │\n",
       "│ 9997 ┆ 2024-12-19 ┆ 766.0  ┆ 780.0  ┆ … ┆ 669800       ┆ 139584.0    ┆ 0.09        ┆ 4.8         │\n",
       "│ 9997 ┆ 2024-12-20 ┆ 783.0  ┆ 784.0  ┆ … ┆ 669800       ┆ 139584.0    ┆ 0.09        ┆ 4.8         │\n",
       "└──────┴────────────┴────────┴────────┴───┴──────────────┴─────────────┴─────────────┴─────────────┘"
      ]
     },
     "execution_count": 8,
     "metadata": {},
     "output_type": "execute_result"
    }
   ],
   "source": [
    "joined_df"
   ]
  },
  {
   "cell_type": "code",
   "execution_count": 9,
   "id": "4ef457d5-d6ea-4a94-ae0e-f2d3810e082a",
   "metadata": {},
   "outputs": [],
   "source": [
    "##### いろいろfilterしてみる"
   ]
  },
  {
   "cell_type": "code",
   "execution_count": 15,
   "id": "b0c011ba-a612-4dce-9049-99f5f3b3e911",
   "metadata": {},
   "outputs": [],
   "source": [
    "min_zs25 = 3\n",
    "min_daily_updown_rate = 5\n",
    "min_unsold_margin_volume_ratio = 2\n",
    "display_cols = [\n",
    "    \"code\",\n",
    "    \"date\",\n",
    "    \"zs25\",\n",
    "    \"daily_updown_rate\",\n",
    "    \"unsold_margin_volume_ratio\"\n",
    "]"
   ]
  },
  {
   "cell_type": "code",
   "execution_count": 113,
   "id": "a4762e65-979f-4b5b-9463-5c2175da45a4",
   "metadata": {},
   "outputs": [
    {
     "data": {
      "text/html": [
       "<div><style>\n",
       ".dataframe > thead > tr,\n",
       ".dataframe > tbody > tr {\n",
       "  text-align: right;\n",
       "  white-space: pre-wrap;\n",
       "}\n",
       "</style>\n",
       "<small>shape: (5, 5)</small><table border=\"1\" class=\"dataframe\"><thead><tr><th>code</th><th>date</th><th>zs25</th><th>daily_updown_rate</th><th>unsold_margin_volume_ratio</th></tr><tr><td>i64</td><td>date</td><td>f64</td><td>f64</td><td>f64</td></tr></thead><tbody><tr><td>1899</td><td>2024-12-16</td><td>3.09</td><td>0.39</td><td>10.03</td></tr><tr><td>1904</td><td>2024-09-26</td><td>4.33</td><td>0.47</td><td>2.26</td></tr><tr><td>1946</td><td>2024-07-16</td><td>3.89</td><td>-2.37</td><td>6.46</td></tr><tr><td>2009</td><td>2024-12-16</td><td>3.82</td><td>21.86</td><td>2.03</td></tr><tr><td>2009</td><td>2024-12-17</td><td>4.63</td><td>-3.25</td><td>2.03</td></tr></tbody></table></div>"
      ],
      "text/plain": [
       "shape: (5, 5)\n",
       "┌──────┬────────────┬──────┬───────────────────┬────────────────────────────┐\n",
       "│ code ┆ date       ┆ zs25 ┆ daily_updown_rate ┆ unsold_margin_volume_ratio │\n",
       "│ ---  ┆ ---        ┆ ---  ┆ ---               ┆ ---                        │\n",
       "│ i64  ┆ date       ┆ f64  ┆ f64               ┆ f64                        │\n",
       "╞══════╪════════════╪══════╪═══════════════════╪════════════════════════════╡\n",
       "│ 1899 ┆ 2024-12-16 ┆ 3.09 ┆ 0.39              ┆ 10.03                      │\n",
       "│ 1904 ┆ 2024-09-26 ┆ 4.33 ┆ 0.47              ┆ 2.26                       │\n",
       "│ 1946 ┆ 2024-07-16 ┆ 3.89 ┆ -2.37             ┆ 6.46                       │\n",
       "│ 2009 ┆ 2024-12-16 ┆ 3.82 ┆ 21.86             ┆ 2.03                       │\n",
       "│ 2009 ┆ 2024-12-17 ┆ 4.63 ┆ -3.25             ┆ 2.03                       │\n",
       "└──────┴────────────┴──────┴───────────────────┴────────────────────────────┘"
      ]
     },
     "execution_count": 113,
     "metadata": {},
     "output_type": "execute_result"
    }
   ],
   "source": [
    "#df = joined_df.filter(pl.col(\"zs25\")>=min_zs25)\\\n",
    "#    .filter(pl.col(\"daily_updown_rate\")>=min_daily_updown_rate)\\\n",
    "#    .filter(pl.col(\"unsold_margin_volume_ratio\")>=min_unsold_margin_volume_ratio)\n",
    "df = joined_df.filter(pl.col(\"zs25\")>=min_zs25)\\\n",
    "    .filter(pl.col(\"unsold_margin_volume_ratio\")>=min_unsold_margin_volume_ratio)\n",
    "\n",
    "df = df.drop_nulls()\n",
    "df = df.select(display_cols)\n",
    "df[50:55]"
   ]
  },
  {
   "cell_type": "code",
   "execution_count": 114,
   "id": "773d3b34-5551-466c-a324-2357affa48bc",
   "metadata": {},
   "outputs": [],
   "source": [
    "##### chart"
   ]
  },
  {
   "cell_type": "code",
   "execution_count": 115,
   "id": "29570ca9-d459-4f76-8294-ea8f62e3ff15",
   "metadata": {},
   "outputs": [],
   "source": [
    "code = 1899\n",
    "dt = date(2024, 12, 16)\n",
    "weeks = 4"
   ]
  },
  {
   "cell_type": "code",
   "execution_count": 116,
   "id": "94bed748-ee4a-46ee-b82d-546525d0929e",
   "metadata": {},
   "outputs": [
    {
     "data": {
      "application/vnd.plotly.v1+json": {
       "config": {
        "plotlyServerURL": "https://plot.ly"
       },
       "data": [
        {
         "close": [
          5650,
          5640,
          5590,
          5470,
          5410,
          5280,
          5250,
          5280,
          5290,
          5290,
          5340,
          5410,
          5330,
          5330,
          5270,
          5290,
          5390,
          5290,
          5340,
          5340,
          5280,
          5250,
          5250,
          5200,
          5170,
          5200,
          5230,
          5240,
          5200,
          5220
         ],
         "high": [
          5690,
          5780,
          5670,
          5590,
          5480,
          5400,
          5370,
          5310,
          5350,
          5360,
          5390,
          5410,
          5410,
          5400,
          5350,
          5310,
          5440,
          5390,
          5360,
          5360,
          5330,
          5310,
          5290,
          5300,
          5220,
          5230,
          5280,
          5270,
          5260,
          5270
         ],
         "low": [
          5520,
          5640,
          5510,
          5470,
          5410,
          5280,
          5240,
          5200,
          5280,
          5270,
          5320,
          5290,
          5330,
          5300,
          5270,
          5250,
          5320,
          5290,
          5290,
          5300,
          5280,
          5230,
          5210,
          5200,
          5170,
          5160,
          5200,
          5220,
          5110,
          5180
         ],
         "name": "株価",
         "open": [
          5690,
          5690,
          5610,
          5590,
          5470,
          5370,
          5250,
          5230,
          5310,
          5300,
          5320,
          5330,
          5410,
          5330,
          5320,
          5270,
          5320,
          5380,
          5300,
          5360,
          5330,
          5310,
          5210,
          5300,
          5180,
          5180,
          5240,
          5220,
          5110,
          5190
         ],
         "type": "candlestick",
         "x": [
          "2024-11-11",
          "2024-11-12",
          "2024-11-13",
          "2024-11-14",
          "2024-11-15",
          "2024-11-18",
          "2024-11-19",
          "2024-11-20",
          "2024-11-21",
          "2024-11-22",
          "2024-11-25",
          "2024-11-26",
          "2024-11-27",
          "2024-11-28",
          "2024-11-29",
          "2024-12-02",
          "2024-12-03",
          "2024-12-04",
          "2024-12-05",
          "2024-12-06",
          "2024-12-09",
          "2024-12-10",
          "2024-12-11",
          "2024-12-12",
          "2024-12-13",
          "2024-12-16",
          "2024-12-17",
          "2024-12-18",
          "2024-12-19",
          "2024-12-20"
         ],
         "xaxis": "x",
         "yaxis": "y"
        },
        {
         "marker": {
          "color": "blue"
         },
         "name": "出来高",
         "type": "bar",
         "x": [
          "2024-11-11",
          "2024-11-12",
          "2024-11-13",
          "2024-11-14",
          "2024-11-15",
          "2024-11-18",
          "2024-11-19",
          "2024-11-20",
          "2024-11-21",
          "2024-11-22",
          "2024-11-25",
          "2024-11-26",
          "2024-11-27",
          "2024-11-28",
          "2024-11-29",
          "2024-12-02",
          "2024-12-03",
          "2024-12-04",
          "2024-12-05",
          "2024-12-06",
          "2024-12-09",
          "2024-12-10",
          "2024-12-11",
          "2024-12-12",
          "2024-12-13",
          "2024-12-16",
          "2024-12-17",
          "2024-12-18",
          "2024-12-19",
          "2024-12-20"
         ],
         "xaxis": "x2",
         "y": [
          9200,
          7400,
          7100,
          6000,
          9600,
          8300,
          7800,
          4700,
          5100,
          5500,
          6900,
          5700,
          9400,
          9800,
          6900,
          9500,
          10700,
          7800,
          15700,
          12000,
          22200,
          18900,
          18500,
          56700,
          40800,
          63000,
          20500,
          16900,
          63900,
          54300
         ],
         "yaxis": "y2"
        }
       ],
       "layout": {
        "autosize": true,
        "shapes": [
         {
          "line": {
           "color": "grey",
           "width": 1
          },
          "opacity": 0.5,
          "type": "line",
          "x0": "2024-11-15",
          "x1": "2024-11-15",
          "xref": "x",
          "y0": 0,
          "y1": 1,
          "yref": "y domain"
         },
         {
          "line": {
           "color": "grey",
           "width": 1
          },
          "opacity": 0.5,
          "type": "line",
          "x0": "2024-11-15",
          "x1": "2024-11-15",
          "xref": "x2",
          "y0": 0,
          "y1": 1,
          "yref": "y2 domain"
         },
         {
          "line": {
           "color": "grey",
           "width": 1
          },
          "opacity": 0.5,
          "type": "line",
          "x0": "2024-11-22",
          "x1": "2024-11-22",
          "xref": "x",
          "y0": 0,
          "y1": 1,
          "yref": "y domain"
         },
         {
          "line": {
           "color": "grey",
           "width": 1
          },
          "opacity": 0.5,
          "type": "line",
          "x0": "2024-11-22",
          "x1": "2024-11-22",
          "xref": "x2",
          "y0": 0,
          "y1": 1,
          "yref": "y2 domain"
         },
         {
          "line": {
           "color": "grey",
           "width": 1
          },
          "opacity": 0.5,
          "type": "line",
          "x0": "2024-11-29",
          "x1": "2024-11-29",
          "xref": "x",
          "y0": 0,
          "y1": 1,
          "yref": "y domain"
         },
         {
          "line": {
           "color": "grey",
           "width": 1
          },
          "opacity": 0.5,
          "type": "line",
          "x0": "2024-11-29",
          "x1": "2024-11-29",
          "xref": "x2",
          "y0": 0,
          "y1": 1,
          "yref": "y2 domain"
         },
         {
          "line": {
           "color": "grey",
           "width": 1
          },
          "opacity": 0.5,
          "type": "line",
          "x0": "2024-12-06",
          "x1": "2024-12-06",
          "xref": "x",
          "y0": 0,
          "y1": 1,
          "yref": "y domain"
         },
         {
          "line": {
           "color": "grey",
           "width": 1
          },
          "opacity": 0.5,
          "type": "line",
          "x0": "2024-12-06",
          "x1": "2024-12-06",
          "xref": "x2",
          "y0": 0,
          "y1": 1,
          "yref": "y2 domain"
         },
         {
          "line": {
           "color": "grey",
           "width": 1
          },
          "opacity": 0.5,
          "type": "line",
          "x0": "2024-12-13",
          "x1": "2024-12-13",
          "xref": "x",
          "y0": 0,
          "y1": 1,
          "yref": "y domain"
         },
         {
          "line": {
           "color": "grey",
           "width": 1
          },
          "opacity": 0.5,
          "type": "line",
          "x0": "2024-12-13",
          "x1": "2024-12-13",
          "xref": "x2",
          "y0": 0,
          "y1": 1,
          "yref": "y2 domain"
         },
         {
          "line": {
           "color": "grey",
           "width": 1
          },
          "opacity": 0.5,
          "type": "line",
          "x0": "2024-12-20",
          "x1": "2024-12-20",
          "xref": "x",
          "y0": 0,
          "y1": 1,
          "yref": "y domain"
         },
         {
          "line": {
           "color": "grey",
           "width": 1
          },
          "opacity": 0.5,
          "type": "line",
          "x0": "2024-12-20",
          "x1": "2024-12-20",
          "xref": "x2",
          "y0": 0,
          "y1": 1,
          "yref": "y2 domain"
         },
         {
          "line": {
           "color": "red",
           "width": 1
          },
          "opacity": 0.5,
          "type": "line",
          "x0": "2024-12-16",
          "x1": "2024-12-16",
          "xref": "x",
          "y0": 0,
          "y1": 1,
          "yref": "y domain"
         },
         {
          "line": {
           "color": "red",
           "width": 1
          },
          "opacity": 0.5,
          "type": "line",
          "x0": "2024-12-16",
          "x1": "2024-12-16",
          "xref": "x2",
          "y0": 0,
          "y1": 1,
          "yref": "y2 domain"
         }
        ],
        "template": {
         "data": {
          "bar": [
           {
            "error_x": {
             "color": "#2a3f5f"
            },
            "error_y": {
             "color": "#2a3f5f"
            },
            "marker": {
             "line": {
              "color": "#E5ECF6",
              "width": 0.5
             },
             "pattern": {
              "fillmode": "overlay",
              "size": 10,
              "solidity": 0.2
             }
            },
            "type": "bar"
           }
          ],
          "barpolar": [
           {
            "marker": {
             "line": {
              "color": "#E5ECF6",
              "width": 0.5
             },
             "pattern": {
              "fillmode": "overlay",
              "size": 10,
              "solidity": 0.2
             }
            },
            "type": "barpolar"
           }
          ],
          "carpet": [
           {
            "aaxis": {
             "endlinecolor": "#2a3f5f",
             "gridcolor": "white",
             "linecolor": "white",
             "minorgridcolor": "white",
             "startlinecolor": "#2a3f5f"
            },
            "baxis": {
             "endlinecolor": "#2a3f5f",
             "gridcolor": "white",
             "linecolor": "white",
             "minorgridcolor": "white",
             "startlinecolor": "#2a3f5f"
            },
            "type": "carpet"
           }
          ],
          "choropleth": [
           {
            "colorbar": {
             "outlinewidth": 0,
             "ticks": ""
            },
            "type": "choropleth"
           }
          ],
          "contour": [
           {
            "colorbar": {
             "outlinewidth": 0,
             "ticks": ""
            },
            "colorscale": [
             [
              0,
              "#0d0887"
             ],
             [
              0.1111111111111111,
              "#46039f"
             ],
             [
              0.2222222222222222,
              "#7201a8"
             ],
             [
              0.3333333333333333,
              "#9c179e"
             ],
             [
              0.4444444444444444,
              "#bd3786"
             ],
             [
              0.5555555555555556,
              "#d8576b"
             ],
             [
              0.6666666666666666,
              "#ed7953"
             ],
             [
              0.7777777777777778,
              "#fb9f3a"
             ],
             [
              0.8888888888888888,
              "#fdca26"
             ],
             [
              1,
              "#f0f921"
             ]
            ],
            "type": "contour"
           }
          ],
          "contourcarpet": [
           {
            "colorbar": {
             "outlinewidth": 0,
             "ticks": ""
            },
            "type": "contourcarpet"
           }
          ],
          "heatmap": [
           {
            "colorbar": {
             "outlinewidth": 0,
             "ticks": ""
            },
            "colorscale": [
             [
              0,
              "#0d0887"
             ],
             [
              0.1111111111111111,
              "#46039f"
             ],
             [
              0.2222222222222222,
              "#7201a8"
             ],
             [
              0.3333333333333333,
              "#9c179e"
             ],
             [
              0.4444444444444444,
              "#bd3786"
             ],
             [
              0.5555555555555556,
              "#d8576b"
             ],
             [
              0.6666666666666666,
              "#ed7953"
             ],
             [
              0.7777777777777778,
              "#fb9f3a"
             ],
             [
              0.8888888888888888,
              "#fdca26"
             ],
             [
              1,
              "#f0f921"
             ]
            ],
            "type": "heatmap"
           }
          ],
          "heatmapgl": [
           {
            "colorbar": {
             "outlinewidth": 0,
             "ticks": ""
            },
            "colorscale": [
             [
              0,
              "#0d0887"
             ],
             [
              0.1111111111111111,
              "#46039f"
             ],
             [
              0.2222222222222222,
              "#7201a8"
             ],
             [
              0.3333333333333333,
              "#9c179e"
             ],
             [
              0.4444444444444444,
              "#bd3786"
             ],
             [
              0.5555555555555556,
              "#d8576b"
             ],
             [
              0.6666666666666666,
              "#ed7953"
             ],
             [
              0.7777777777777778,
              "#fb9f3a"
             ],
             [
              0.8888888888888888,
              "#fdca26"
             ],
             [
              1,
              "#f0f921"
             ]
            ],
            "type": "heatmapgl"
           }
          ],
          "histogram": [
           {
            "marker": {
             "pattern": {
              "fillmode": "overlay",
              "size": 10,
              "solidity": 0.2
             }
            },
            "type": "histogram"
           }
          ],
          "histogram2d": [
           {
            "colorbar": {
             "outlinewidth": 0,
             "ticks": ""
            },
            "colorscale": [
             [
              0,
              "#0d0887"
             ],
             [
              0.1111111111111111,
              "#46039f"
             ],
             [
              0.2222222222222222,
              "#7201a8"
             ],
             [
              0.3333333333333333,
              "#9c179e"
             ],
             [
              0.4444444444444444,
              "#bd3786"
             ],
             [
              0.5555555555555556,
              "#d8576b"
             ],
             [
              0.6666666666666666,
              "#ed7953"
             ],
             [
              0.7777777777777778,
              "#fb9f3a"
             ],
             [
              0.8888888888888888,
              "#fdca26"
             ],
             [
              1,
              "#f0f921"
             ]
            ],
            "type": "histogram2d"
           }
          ],
          "histogram2dcontour": [
           {
            "colorbar": {
             "outlinewidth": 0,
             "ticks": ""
            },
            "colorscale": [
             [
              0,
              "#0d0887"
             ],
             [
              0.1111111111111111,
              "#46039f"
             ],
             [
              0.2222222222222222,
              "#7201a8"
             ],
             [
              0.3333333333333333,
              "#9c179e"
             ],
             [
              0.4444444444444444,
              "#bd3786"
             ],
             [
              0.5555555555555556,
              "#d8576b"
             ],
             [
              0.6666666666666666,
              "#ed7953"
             ],
             [
              0.7777777777777778,
              "#fb9f3a"
             ],
             [
              0.8888888888888888,
              "#fdca26"
             ],
             [
              1,
              "#f0f921"
             ]
            ],
            "type": "histogram2dcontour"
           }
          ],
          "mesh3d": [
           {
            "colorbar": {
             "outlinewidth": 0,
             "ticks": ""
            },
            "type": "mesh3d"
           }
          ],
          "parcoords": [
           {
            "line": {
             "colorbar": {
              "outlinewidth": 0,
              "ticks": ""
             }
            },
            "type": "parcoords"
           }
          ],
          "pie": [
           {
            "automargin": true,
            "type": "pie"
           }
          ],
          "scatter": [
           {
            "fillpattern": {
             "fillmode": "overlay",
             "size": 10,
             "solidity": 0.2
            },
            "type": "scatter"
           }
          ],
          "scatter3d": [
           {
            "line": {
             "colorbar": {
              "outlinewidth": 0,
              "ticks": ""
             }
            },
            "marker": {
             "colorbar": {
              "outlinewidth": 0,
              "ticks": ""
             }
            },
            "type": "scatter3d"
           }
          ],
          "scattercarpet": [
           {
            "marker": {
             "colorbar": {
              "outlinewidth": 0,
              "ticks": ""
             }
            },
            "type": "scattercarpet"
           }
          ],
          "scattergeo": [
           {
            "marker": {
             "colorbar": {
              "outlinewidth": 0,
              "ticks": ""
             }
            },
            "type": "scattergeo"
           }
          ],
          "scattergl": [
           {
            "marker": {
             "colorbar": {
              "outlinewidth": 0,
              "ticks": ""
             }
            },
            "type": "scattergl"
           }
          ],
          "scattermapbox": [
           {
            "marker": {
             "colorbar": {
              "outlinewidth": 0,
              "ticks": ""
             }
            },
            "type": "scattermapbox"
           }
          ],
          "scatterpolar": [
           {
            "marker": {
             "colorbar": {
              "outlinewidth": 0,
              "ticks": ""
             }
            },
            "type": "scatterpolar"
           }
          ],
          "scatterpolargl": [
           {
            "marker": {
             "colorbar": {
              "outlinewidth": 0,
              "ticks": ""
             }
            },
            "type": "scatterpolargl"
           }
          ],
          "scatterternary": [
           {
            "marker": {
             "colorbar": {
              "outlinewidth": 0,
              "ticks": ""
             }
            },
            "type": "scatterternary"
           }
          ],
          "surface": [
           {
            "colorbar": {
             "outlinewidth": 0,
             "ticks": ""
            },
            "colorscale": [
             [
              0,
              "#0d0887"
             ],
             [
              0.1111111111111111,
              "#46039f"
             ],
             [
              0.2222222222222222,
              "#7201a8"
             ],
             [
              0.3333333333333333,
              "#9c179e"
             ],
             [
              0.4444444444444444,
              "#bd3786"
             ],
             [
              0.5555555555555556,
              "#d8576b"
             ],
             [
              0.6666666666666666,
              "#ed7953"
             ],
             [
              0.7777777777777778,
              "#fb9f3a"
             ],
             [
              0.8888888888888888,
              "#fdca26"
             ],
             [
              1,
              "#f0f921"
             ]
            ],
            "type": "surface"
           }
          ],
          "table": [
           {
            "cells": {
             "fill": {
              "color": "#EBF0F8"
             },
             "line": {
              "color": "white"
             }
            },
            "header": {
             "fill": {
              "color": "#C8D4E3"
             },
             "line": {
              "color": "white"
             }
            },
            "type": "table"
           }
          ]
         },
         "layout": {
          "annotationdefaults": {
           "arrowcolor": "#2a3f5f",
           "arrowhead": 0,
           "arrowwidth": 1
          },
          "autotypenumbers": "strict",
          "coloraxis": {
           "colorbar": {
            "outlinewidth": 0,
            "ticks": ""
           }
          },
          "colorscale": {
           "diverging": [
            [
             0,
             "#8e0152"
            ],
            [
             0.1,
             "#c51b7d"
            ],
            [
             0.2,
             "#de77ae"
            ],
            [
             0.3,
             "#f1b6da"
            ],
            [
             0.4,
             "#fde0ef"
            ],
            [
             0.5,
             "#f7f7f7"
            ],
            [
             0.6,
             "#e6f5d0"
            ],
            [
             0.7,
             "#b8e186"
            ],
            [
             0.8,
             "#7fbc41"
            ],
            [
             0.9,
             "#4d9221"
            ],
            [
             1,
             "#276419"
            ]
           ],
           "sequential": [
            [
             0,
             "#0d0887"
            ],
            [
             0.1111111111111111,
             "#46039f"
            ],
            [
             0.2222222222222222,
             "#7201a8"
            ],
            [
             0.3333333333333333,
             "#9c179e"
            ],
            [
             0.4444444444444444,
             "#bd3786"
            ],
            [
             0.5555555555555556,
             "#d8576b"
            ],
            [
             0.6666666666666666,
             "#ed7953"
            ],
            [
             0.7777777777777778,
             "#fb9f3a"
            ],
            [
             0.8888888888888888,
             "#fdca26"
            ],
            [
             1,
             "#f0f921"
            ]
           ],
           "sequentialminus": [
            [
             0,
             "#0d0887"
            ],
            [
             0.1111111111111111,
             "#46039f"
            ],
            [
             0.2222222222222222,
             "#7201a8"
            ],
            [
             0.3333333333333333,
             "#9c179e"
            ],
            [
             0.4444444444444444,
             "#bd3786"
            ],
            [
             0.5555555555555556,
             "#d8576b"
            ],
            [
             0.6666666666666666,
             "#ed7953"
            ],
            [
             0.7777777777777778,
             "#fb9f3a"
            ],
            [
             0.8888888888888888,
             "#fdca26"
            ],
            [
             1,
             "#f0f921"
            ]
           ]
          },
          "colorway": [
           "#636efa",
           "#EF553B",
           "#00cc96",
           "#ab63fa",
           "#FFA15A",
           "#19d3f3",
           "#FF6692",
           "#B6E880",
           "#FF97FF",
           "#FECB52"
          ],
          "font": {
           "color": "#2a3f5f"
          },
          "geo": {
           "bgcolor": "white",
           "lakecolor": "white",
           "landcolor": "#E5ECF6",
           "showlakes": true,
           "showland": true,
           "subunitcolor": "white"
          },
          "hoverlabel": {
           "align": "left"
          },
          "hovermode": "closest",
          "mapbox": {
           "style": "light"
          },
          "paper_bgcolor": "white",
          "plot_bgcolor": "#E5ECF6",
          "polar": {
           "angularaxis": {
            "gridcolor": "white",
            "linecolor": "white",
            "ticks": ""
           },
           "bgcolor": "#E5ECF6",
           "radialaxis": {
            "gridcolor": "white",
            "linecolor": "white",
            "ticks": ""
           }
          },
          "scene": {
           "xaxis": {
            "backgroundcolor": "#E5ECF6",
            "gridcolor": "white",
            "gridwidth": 2,
            "linecolor": "white",
            "showbackground": true,
            "ticks": "",
            "zerolinecolor": "white"
           },
           "yaxis": {
            "backgroundcolor": "#E5ECF6",
            "gridcolor": "white",
            "gridwidth": 2,
            "linecolor": "white",
            "showbackground": true,
            "ticks": "",
            "zerolinecolor": "white"
           },
           "zaxis": {
            "backgroundcolor": "#E5ECF6",
            "gridcolor": "white",
            "gridwidth": 2,
            "linecolor": "white",
            "showbackground": true,
            "ticks": "",
            "zerolinecolor": "white"
           }
          },
          "shapedefaults": {
           "line": {
            "color": "#2a3f5f"
           }
          },
          "ternary": {
           "aaxis": {
            "gridcolor": "white",
            "linecolor": "white",
            "ticks": ""
           },
           "baxis": {
            "gridcolor": "white",
            "linecolor": "white",
            "ticks": ""
           },
           "bgcolor": "#E5ECF6",
           "caxis": {
            "gridcolor": "white",
            "linecolor": "white",
            "ticks": ""
           }
          },
          "title": {
           "x": 0.05
          },
          "xaxis": {
           "automargin": true,
           "gridcolor": "white",
           "linecolor": "white",
           "ticks": "",
           "title": {
            "standoff": 15
           },
           "zerolinecolor": "white",
           "zerolinewidth": 2
          },
          "yaxis": {
           "automargin": true,
           "gridcolor": "white",
           "linecolor": "white",
           "ticks": "",
           "title": {
            "standoff": 15
           },
           "zerolinecolor": "white",
           "zerolinewidth": 2
          }
         }
        },
        "title": {
         "text": "福田組(1899)株価ローソクチャートと出来高2024-11-11 ～ 2024-12-20"
        },
        "xaxis": {
         "anchor": "y",
         "autorange": true,
         "domain": [
          0,
          1
         ],
         "matches": "x2",
         "range": [
          -0.5,
          29.5
         ],
         "rangeslider": {
          "visible": false,
          "yaxis": {}
         },
         "showticklabels": false,
         "type": "category"
        },
        "xaxis2": {
         "anchor": "y2",
         "autorange": true,
         "domain": [
          0,
          1
         ],
         "range": [
          -0.5,
          29.5
         ],
         "tickangle": 45,
         "tickvals": [
          "2024-11-11",
          "2024-11-14",
          "2024-11-19",
          "2024-11-22",
          "2024-11-27",
          "2024-12-02",
          "2024-12-05",
          "2024-12-10",
          "2024-12-13",
          "2024-12-18"
         ],
         "title": {
          "text": "取引日"
         },
         "type": "category"
        },
        "yaxis": {
         "anchor": "x",
         "autorange": true,
         "domain": [
          0.2461538461538461,
          0.9999999999999998
         ],
         "range": [
          5072.777777777777,
          5817.222222222223
         ],
         "title": {
          "text": "株価"
         }
        },
        "yaxis2": {
         "anchor": "x2",
         "autorange": true,
         "domain": [
          0,
          0.22615384615384612
         ],
         "range": [
          0,
          67263.15789473684
         ],
         "title": {
          "text": "出来高"
         },
         "type": "linear"
        }
       }
      },
      "image/png": "[encoded data removed]",
      "text/html": [
       "<div>                            <div id=\"3a068641-7c9e-48e8-9953-b86a294bd634\" class=\"plotly-graph-div\" style=\"height:600px; width:100%;\"></div>            <script type=\"text/javascript\">                require([\"plotly\"], function(Plotly) {                    window.PLOTLYENV=window.PLOTLYENV || {};                                    if (document.getElementById(\"3a068641-7c9e-48e8-9953-b86a294bd634\")) {                    Plotly.newPlot(                        \"3a068641-7c9e-48e8-9953-b86a294bd634\",                        [{\"close\":[5650.0,5640.0,5590.0,5470.0,5410.0,5280.0,5250.0,5280.0,5290.0,5290.0,5340.0,5410.0,5330.0,5330.0,5270.0,5290.0,5390.0,5290.0,5340.0,5340.0,5280.0,5250.0,5250.0,5200.0,5170.0,5200.0,5230.0,5240.0,5200.0,5220.0],\"high\":[5690.0,5780.0,5670.0,5590.0,5480.0,5400.0,5370.0,5310.0,5350.0,5360.0,5390.0,5410.0,5410.0,5400.0,5350.0,5310.0,5440.0,5390.0,5360.0,5360.0,5330.0,5310.0,5290.0,5300.0,5220.0,5230.0,5280.0,5270.0,5260.0,5270.0],\"low\":[5520.0,5640.0,5510.0,5470.0,5410.0,5280.0,5240.0,5200.0,5280.0,5270.0,5320.0,5290.0,5330.0,5300.0,5270.0,5250.0,5320.0,5290.0,5290.0,5300.0,5280.0,5230.0,5210.0,5200.0,5170.0,5160.0,5200.0,5220.0,5110.0,5180.0],\"name\":\"\\u682a\\u4fa1\",\"open\":[5690.0,5690.0,5610.0,5590.0,5470.0,5370.0,5250.0,5230.0,5310.0,5300.0,5320.0,5330.0,5410.0,5330.0,5320.0,5270.0,5320.0,5380.0,5300.0,5360.0,5330.0,5310.0,5210.0,5300.0,5180.0,5180.0,5240.0,5220.0,5110.0,5190.0],\"x\":[\"2024-11-11\",\"2024-11-12\",\"2024-11-13\",\"2024-11-14\",\"2024-11-15\",\"2024-11-18\",\"2024-11-19\",\"2024-11-20\",\"2024-11-21\",\"2024-11-22\",\"2024-11-25\",\"2024-11-26\",\"2024-11-27\",\"2024-11-28\",\"2024-11-29\",\"2024-12-02\",\"2024-12-03\",\"2024-12-04\",\"2024-12-05\",\"2024-12-06\",\"2024-12-09\",\"2024-12-10\",\"2024-12-11\",\"2024-12-12\",\"2024-12-13\",\"2024-12-16\",\"2024-12-17\",\"2024-12-18\",\"2024-12-19\",\"2024-12-20\"],\"type\":\"candlestick\",\"xaxis\":\"x\",\"yaxis\":\"y\"},{\"marker\":{\"color\":\"blue\"},\"name\":\"\\u51fa\\u6765\\u9ad8\",\"x\":[\"2024-11-11\",\"2024-11-12\",\"2024-11-13\",\"2024-11-14\",\"2024-11-15\",\"2024-11-18\",\"2024-11-19\",\"2024-11-20\",\"2024-11-21\",\"2024-11-22\",\"2024-11-25\",\"2024-11-26\",\"2024-11-27\",\"2024-11-28\",\"2024-11-29\",\"2024-12-02\",\"2024-12-03\",\"2024-12-04\",\"2024-12-05\",\"2024-12-06\",\"2024-12-09\",\"2024-12-10\",\"2024-12-11\",\"2024-12-12\",\"2024-12-13\",\"2024-12-16\",\"2024-12-17\",\"2024-12-18\",\"2024-12-19\",\"2024-12-20\"],\"y\":[9200.0,7400.0,7100.0,6000.0,9600.0,8300.0,7800.0,4700.0,5100.0,5500.0,6900.0,5700.0,9400.0,9800.0,6900.0,9500.0,10700.0,7800.0,15700.0,12000.0,22200.0,18900.0,18500.0,56700.0,40800.0,63000.0,20500.0,16900.0,63900.0,54300.0],\"type\":\"bar\",\"xaxis\":\"x2\",\"yaxis\":\"y2\"}],                        {\"template\":{\"data\":{\"histogram2dcontour\":[{\"type\":\"histogram2dcontour\",\"colorbar\":{\"outlinewidth\":0,\"ticks\":\"\"},\"colorscale\":[[0.0,\"#0d0887\"],[0.1111111111111111,\"#46039f\"],[0.2222222222222222,\"#7201a8\"],[0.3333333333333333,\"#9c179e\"],[0.4444444444444444,\"#bd3786\"],[0.5555555555555556,\"#d8576b\"],[0.6666666666666666,\"#ed7953\"],[0.7777777777777778,\"#fb9f3a\"],[0.8888888888888888,\"#fdca26\"],[1.0,\"#f0f921\"]]}],\"choropleth\":[{\"type\":\"choropleth\",\"colorbar\":{\"outlinewidth\":0,\"ticks\":\"\"}}],\"histogram2d\":[{\"type\":\"histogram2d\",\"colorbar\":{\"outlinewidth\":0,\"ticks\":\"\"},\"colorscale\":[[0.0,\"#0d0887\"],[0.1111111111111111,\"#46039f\"],[0.2222222222222222,\"#7201a8\"],[0.3333333333333333,\"#9c179e\"],[0.4444444444444444,\"#bd3786\"],[0.5555555555555556,\"#d8576b\"],[0.6666666666666666,\"#ed7953\"],[0.7777777777777778,\"#fb9f3a\"],[0.8888888888888888,\"#fdca26\"],[1.0,\"#f0f921\"]]}],\"heatmap\":[{\"type\":\"heatmap\",\"colorbar\":{\"outlinewidth\":0,\"ticks\":\"\"},\"colorscale\":[[0.0,\"#0d0887\"],[0.1111111111111111,\"#46039f\"],[0.2222222222222222,\"#7201a8\"],[0.3333333333333333,\"#9c179e\"],[0.4444444444444444,\"#bd3786\"],[0.5555555555555556,\"#d8576b\"],[0.6666666666666666,\"#ed7953\"],[0.7777777777777778,\"#fb9f3a\"],[0.8888888888888888,\"#fdca26\"],[1.0,\"#f0f921\"]]}],\"heatmapgl\":[{\"type\":\"heatmapgl\",\"colorbar\":{\"outlinewidth\":0,\"ticks\":\"\"},\"colorscale\":[[0.0,\"#0d0887\"],[0.1111111111111111,\"#46039f\"],[0.2222222222222222,\"#7201a8\"],[0.3333333333333333,\"#9c179e\"],[0.4444444444444444,\"#bd3786\"],[0.5555555555555556,\"#d8576b\"],[0.6666666666666666,\"#ed7953\"],[0.7777777777777778,\"#fb9f3a\"],[0.8888888888888888,\"#fdca26\"],[1.0,\"#f0f921\"]]}],\"contourcarpet\":[{\"type\":\"contourcarpet\",\"colorbar\":{\"outlinewidth\":0,\"ticks\":\"\"}}],\"contour\":[{\"type\":\"contour\",\"colorbar\":{\"outlinewidth\":0,\"ticks\":\"\"},\"colorscale\":[[0.0,\"#0d0887\"],[0.1111111111111111,\"#46039f\"],[0.2222222222222222,\"#7201a8\"],[0.3333333333333333,\"#9c179e\"],[0.4444444444444444,\"#bd3786\"],[0.5555555555555556,\"#d8576b\"],[0.6666666666666666,\"#ed7953\"],[0.7777777777777778,\"#fb9f3a\"],[0.8888888888888888,\"#fdca26\"],[1.0,\"#f0f921\"]]}],\"surface\":[{\"type\":\"surface\",\"colorbar\":{\"outlinewidth\":0,\"ticks\":\"\"},\"colorscale\":[[0.0,\"#0d0887\"],[0.1111111111111111,\"#46039f\"],[0.2222222222222222,\"#7201a8\"],[0.3333333333333333,\"#9c179e\"],[0.4444444444444444,\"#bd3786\"],[0.5555555555555556,\"#d8576b\"],[0.6666666666666666,\"#ed7953\"],[0.7777777777777778,\"#fb9f3a\"],[0.8888888888888888,\"#fdca26\"],[1.0,\"#f0f921\"]]}],\"mesh3d\":[{\"type\":\"mesh3d\",\"colorbar\":{\"outlinewidth\":0,\"ticks\":\"\"}}],\"scatter\":[{\"fillpattern\":{\"fillmode\":\"overlay\",\"size\":10,\"solidity\":0.2},\"type\":\"scatter\"}],\"parcoords\":[{\"type\":\"parcoords\",\"line\":{\"colorbar\":{\"outlinewidth\":0,\"ticks\":\"\"}}}],\"scatterpolargl\":[{\"type\":\"scatterpolargl\",\"marker\":{\"colorbar\":{\"outlinewidth\":0,\"ticks\":\"\"}}}],\"bar\":[{\"error_x\":{\"color\":\"#2a3f5f\"},\"error_y\":{\"color\":\"#2a3f5f\"},\"marker\":{\"line\":{\"color\":\"#E5ECF6\",\"width\":0.5},\"pattern\":{\"fillmode\":\"overlay\",\"size\":10,\"solidity\":0.2}},\"type\":\"bar\"}],\"scattergeo\":[{\"type\":\"scattergeo\",\"marker\":{\"colorbar\":{\"outlinewidth\":0,\"ticks\":\"\"}}}],\"scatterpolar\":[{\"type\":\"scatterpolar\",\"marker\":{\"colorbar\":{\"outlinewidth\":0,\"ticks\":\"\"}}}],\"histogram\":[{\"marker\":{\"pattern\":{\"fillmode\":\"overlay\",\"size\":10,\"solidity\":0.2}},\"type\":\"histogram\"}],\"scattergl\":[{\"type\":\"scattergl\",\"marker\":{\"colorbar\":{\"outlinewidth\":0,\"ticks\":\"\"}}}],\"scatter3d\":[{\"type\":\"scatter3d\",\"line\":{\"colorbar\":{\"outlinewidth\":0,\"ticks\":\"\"}},\"marker\":{\"colorbar\":{\"outlinewidth\":0,\"ticks\":\"\"}}}],\"scattermapbox\":[{\"type\":\"scattermapbox\",\"marker\":{\"colorbar\":{\"outlinewidth\":0,\"ticks\":\"\"}}}],\"scatterternary\":[{\"type\":\"scatterternary\",\"marker\":{\"colorbar\":{\"outlinewidth\":0,\"ticks\":\"\"}}}],\"scattercarpet\":[{\"type\":\"scattercarpet\",\"marker\":{\"colorbar\":{\"outlinewidth\":0,\"ticks\":\"\"}}}],\"carpet\":[{\"aaxis\":{\"endlinecolor\":\"#2a3f5f\",\"gridcolor\":\"white\",\"linecolor\":\"white\",\"minorgridcolor\":\"white\",\"startlinecolor\":\"#2a3f5f\"},\"baxis\":{\"endlinecolor\":\"#2a3f5f\",\"gridcolor\":\"white\",\"linecolor\":\"white\",\"minorgridcolor\":\"white\",\"startlinecolor\":\"#2a3f5f\"},\"type\":\"carpet\"}],\"table\":[{\"cells\":{\"fill\":{\"color\":\"#EBF0F8\"},\"line\":{\"color\":\"white\"}},\"header\":{\"fill\":{\"color\":\"#C8D4E3\"},\"line\":{\"color\":\"white\"}},\"type\":\"table\"}],\"barpolar\":[{\"marker\":{\"line\":{\"color\":\"#E5ECF6\",\"width\":0.5},\"pattern\":{\"fillmode\":\"overlay\",\"size\":10,\"solidity\":0.2}},\"type\":\"barpolar\"}],\"pie\":[{\"automargin\":true,\"type\":\"pie\"}]},\"layout\":{\"autotypenumbers\":\"strict\",\"colorway\":[\"#636efa\",\"#EF553B\",\"#00cc96\",\"#ab63fa\",\"#FFA15A\",\"#19d3f3\",\"#FF6692\",\"#B6E880\",\"#FF97FF\",\"#FECB52\"],\"font\":{\"color\":\"#2a3f5f\"},\"hovermode\":\"closest\",\"hoverlabel\":{\"align\":\"left\"},\"paper_bgcolor\":\"white\",\"plot_bgcolor\":\"#E5ECF6\",\"polar\":{\"bgcolor\":\"#E5ECF6\",\"angularaxis\":{\"gridcolor\":\"white\",\"linecolor\":\"white\",\"ticks\":\"\"},\"radialaxis\":{\"gridcolor\":\"white\",\"linecolor\":\"white\",\"ticks\":\"\"}},\"ternary\":{\"bgcolor\":\"#E5ECF6\",\"aaxis\":{\"gridcolor\":\"white\",\"linecolor\":\"white\",\"ticks\":\"\"},\"baxis\":{\"gridcolor\":\"white\",\"linecolor\":\"white\",\"ticks\":\"\"},\"caxis\":{\"gridcolor\":\"white\",\"linecolor\":\"white\",\"ticks\":\"\"}},\"coloraxis\":{\"colorbar\":{\"outlinewidth\":0,\"ticks\":\"\"}},\"colorscale\":{\"sequential\":[[0.0,\"#0d0887\"],[0.1111111111111111,\"#46039f\"],[0.2222222222222222,\"#7201a8\"],[0.3333333333333333,\"#9c179e\"],[0.4444444444444444,\"#bd3786\"],[0.5555555555555556,\"#d8576b\"],[0.6666666666666666,\"#ed7953\"],[0.7777777777777778,\"#fb9f3a\"],[0.8888888888888888,\"#fdca26\"],[1.0,\"#f0f921\"]],\"sequentialminus\":[[0.0,\"#0d0887\"],[0.1111111111111111,\"#46039f\"],[0.2222222222222222,\"#7201a8\"],[0.3333333333333333,\"#9c179e\"],[0.4444444444444444,\"#bd3786\"],[0.5555555555555556,\"#d8576b\"],[0.6666666666666666,\"#ed7953\"],[0.7777777777777778,\"#fb9f3a\"],[0.8888888888888888,\"#fdca26\"],[1.0,\"#f0f921\"]],\"diverging\":[[0,\"#8e0152\"],[0.1,\"#c51b7d\"],[0.2,\"#de77ae\"],[0.3,\"#f1b6da\"],[0.4,\"#fde0ef\"],[0.5,\"#f7f7f7\"],[0.6,\"#e6f5d0\"],[0.7,\"#b8e186\"],[0.8,\"#7fbc41\"],[0.9,\"#4d9221\"],[1,\"#276419\"]]},\"xaxis\":{\"gridcolor\":\"white\",\"linecolor\":\"white\",\"ticks\":\"\",\"title\":{\"standoff\":15},\"zerolinecolor\":\"white\",\"automargin\":true,\"zerolinewidth\":2},\"yaxis\":{\"gridcolor\":\"white\",\"linecolor\":\"white\",\"ticks\":\"\",\"title\":{\"standoff\":15},\"zerolinecolor\":\"white\",\"automargin\":true,\"zerolinewidth\":2},\"scene\":{\"xaxis\":{\"backgroundcolor\":\"#E5ECF6\",\"gridcolor\":\"white\",\"linecolor\":\"white\",\"showbackground\":true,\"ticks\":\"\",\"zerolinecolor\":\"white\",\"gridwidth\":2},\"yaxis\":{\"backgroundcolor\":\"#E5ECF6\",\"gridcolor\":\"white\",\"linecolor\":\"white\",\"showbackground\":true,\"ticks\":\"\",\"zerolinecolor\":\"white\",\"gridwidth\":2},\"zaxis\":{\"backgroundcolor\":\"#E5ECF6\",\"gridcolor\":\"white\",\"linecolor\":\"white\",\"showbackground\":true,\"ticks\":\"\",\"zerolinecolor\":\"white\",\"gridwidth\":2}},\"shapedefaults\":{\"line\":{\"color\":\"#2a3f5f\"}},\"annotationdefaults\":{\"arrowcolor\":\"#2a3f5f\",\"arrowhead\":0,\"arrowwidth\":1},\"geo\":{\"bgcolor\":\"white\",\"landcolor\":\"#E5ECF6\",\"subunitcolor\":\"white\",\"showland\":true,\"showlakes\":true,\"lakecolor\":\"white\"},\"title\":{\"x\":0.05},\"mapbox\":{\"style\":\"light\"}}},\"xaxis\":{\"anchor\":\"y\",\"domain\":[0.0,1.0],\"matches\":\"x2\",\"showticklabels\":false,\"rangeslider\":{\"visible\":false},\"type\":\"category\"},\"yaxis\":{\"anchor\":\"x\",\"domain\":[0.2461538461538461,0.9999999999999998],\"title\":{\"text\":\"\\u682a\\u4fa1\"}},\"xaxis2\":{\"anchor\":\"y2\",\"domain\":[0.0,1.0],\"title\":{\"text\":\"\\u53d6\\u5f15\\u65e5\"},\"type\":\"category\",\"tickvals\":[\"2024-11-11\",\"2024-11-14\",\"2024-11-19\",\"2024-11-22\",\"2024-11-27\",\"2024-12-02\",\"2024-12-05\",\"2024-12-10\",\"2024-12-13\",\"2024-12-18\"],\"tickangle\":45},\"yaxis2\":{\"anchor\":\"x2\",\"domain\":[0.0,0.22615384615384612],\"title\":{\"text\":\"\\u51fa\\u6765\\u9ad8\"}},\"title\":{\"text\":\"\\u798f\\u7530\\u7d44(1899)\\u682a\\u4fa1\\u30ed\\u30fc\\u30bd\\u30af\\u30c1\\u30e3\\u30fc\\u30c8\\u3068\\u51fa\\u6765\\u9ad82024-11-11 \\uff5e 2024-12-20\"},\"height\":600,\"shapes\":[{\"line\":{\"color\":\"grey\",\"width\":1},\"opacity\":0.5,\"type\":\"line\",\"x0\":\"2024-11-15\",\"x1\":\"2024-11-15\",\"xref\":\"x\",\"y0\":0,\"y1\":1,\"yref\":\"y domain\"},{\"line\":{\"color\":\"grey\",\"width\":1},\"opacity\":0.5,\"type\":\"line\",\"x0\":\"2024-11-15\",\"x1\":\"2024-11-15\",\"xref\":\"x2\",\"y0\":0,\"y1\":1,\"yref\":\"y2 domain\"},{\"line\":{\"color\":\"grey\",\"width\":1},\"opacity\":0.5,\"type\":\"line\",\"x0\":\"2024-11-22\",\"x1\":\"2024-11-22\",\"xref\":\"x\",\"y0\":0,\"y1\":1,\"yref\":\"y domain\"},{\"line\":{\"color\":\"grey\",\"width\":1},\"opacity\":0.5,\"type\":\"line\",\"x0\":\"2024-11-22\",\"x1\":\"2024-11-22\",\"xref\":\"x2\",\"y0\":0,\"y1\":1,\"yref\":\"y2 domain\"},{\"line\":{\"color\":\"grey\",\"width\":1},\"opacity\":0.5,\"type\":\"line\",\"x0\":\"2024-11-29\",\"x1\":\"2024-11-29\",\"xref\":\"x\",\"y0\":0,\"y1\":1,\"yref\":\"y domain\"},{\"line\":{\"color\":\"grey\",\"width\":1},\"opacity\":0.5,\"type\":\"line\",\"x0\":\"2024-11-29\",\"x1\":\"2024-11-29\",\"xref\":\"x2\",\"y0\":0,\"y1\":1,\"yref\":\"y2 domain\"},{\"line\":{\"color\":\"grey\",\"width\":1},\"opacity\":0.5,\"type\":\"line\",\"x0\":\"2024-12-06\",\"x1\":\"2024-12-06\",\"xref\":\"x\",\"y0\":0,\"y1\":1,\"yref\":\"y domain\"},{\"line\":{\"color\":\"grey\",\"width\":1},\"opacity\":0.5,\"type\":\"line\",\"x0\":\"2024-12-06\",\"x1\":\"2024-12-06\",\"xref\":\"x2\",\"y0\":0,\"y1\":1,\"yref\":\"y2 domain\"},{\"line\":{\"color\":\"grey\",\"width\":1},\"opacity\":0.5,\"type\":\"line\",\"x0\":\"2024-12-13\",\"x1\":\"2024-12-13\",\"xref\":\"x\",\"y0\":0,\"y1\":1,\"yref\":\"y domain\"},{\"line\":{\"color\":\"grey\",\"width\":1},\"opacity\":0.5,\"type\":\"line\",\"x0\":\"2024-12-13\",\"x1\":\"2024-12-13\",\"xref\":\"x2\",\"y0\":0,\"y1\":1,\"yref\":\"y2 domain\"},{\"line\":{\"color\":\"grey\",\"width\":1},\"opacity\":0.5,\"type\":\"line\",\"x0\":\"2024-12-20\",\"x1\":\"2024-12-20\",\"xref\":\"x\",\"y0\":0,\"y1\":1,\"yref\":\"y domain\"},{\"line\":{\"color\":\"grey\",\"width\":1},\"opacity\":0.5,\"type\":\"line\",\"x0\":\"2024-12-20\",\"x1\":\"2024-12-20\",\"xref\":\"x2\",\"y0\":0,\"y1\":1,\"yref\":\"y2 domain\"},{\"line\":{\"color\":\"red\",\"width\":1},\"opacity\":0.5,\"type\":\"line\",\"x0\":\"2024-12-16\",\"x1\":\"2024-12-16\",\"xref\":\"x\",\"y0\":0,\"y1\":1,\"yref\":\"y domain\"},{\"line\":{\"color\":\"red\",\"width\":1},\"opacity\":0.5,\"type\":\"line\",\"x0\":\"2024-12-16\",\"x1\":\"2024-12-16\",\"xref\":\"x2\",\"y0\":0,\"y1\":1,\"yref\":\"y2 domain\"}]},                        {\"responsive\": true}                    ).then(function(){\n",
       "                            \n",
       "var gd = document.getElementById('3a068641-7c9e-48e8-9953-b86a294bd634');\n",
       "var x = new MutationObserver(function (mutations, observer) {{\n",
       "        var display = window.getComputedStyle(gd).display;\n",
       "        if (!display || display === 'none') {{\n",
       "            console.log([gd, 'removed!']);\n",
       "            Plotly.purge(gd);\n",
       "            observer.disconnect();\n",
       "        }}\n",
       "}});\n",
       "\n",
       "// Listen for the removal of the full notebook cells\n",
       "var notebookContainer = gd.closest('#notebook-container');\n",
       "if (notebookContainer) {{\n",
       "    x.observe(notebookContainer, {childList: true});\n",
       "}}\n",
       "\n",
       "// Listen for the clearing of the current output cell\n",
       "var outputEl = gd.closest('.output');\n",
       "if (outputEl) {{\n",
       "    x.observe(outputEl, {childList: true});\n",
       "}}\n",
       "\n",
       "                        })                };                });            </script>        </div>"
      ]
     },
     "metadata": {},
     "output_type": "display_data"
    }
   ],
   "source": [
    "# 日足チャート\n",
    "start_date = dt - relativedelta(days = 7 * (weeks + 1))\n",
    "end_date = dt + relativedelta(days = 7 * weeks)\n",
    "PFIG = PricelistFig(code, start_date=start_date, end_date=end_date)\n",
    "\n",
    "# 週末にvline\n",
    "df = read_data(fp)\n",
    "RPL = PricelistPl(df)\n",
    "df = RPL.df\n",
    "df = df.filter(pl.col(\"code\")==code)\\\n",
    ".filter(pl.col(\"date\")>=start_date)\\\n",
    ".filter(pl.col(\"date\")<=end_date)\n",
    "RPL = PricelistPl(df)\n",
    "RPL.with_columns_weekid()\n",
    "pdf = RPL.df\n",
    "pdf = pdf.group_by([\"weekid\"]).agg([\n",
    "    pl.col(\"date\").last()\n",
    "]).sort(by=[\"weekid\"])\n",
    "vline_dates = pdf[\"date\"].to_list()\n",
    "#vline_dates.remove(dt)\n",
    "for d in vline_dates:\n",
    "    PFIG.add_vline(d)\n",
    "\n",
    "# 該当日にvline\n",
    "PFIG.add_vline(dt, color=\"red\")\n",
    "\n",
    "PFIG.fig.show()"
   ]
  },
  {
   "cell_type": "code",
   "execution_count": null,
   "id": "1af4b69f-d8d7-45ca-85d4-b0311aec9f34",
   "metadata": {},
   "outputs": [],
   "source": []
  }
 ],
 "metadata": {
  "kernelspec": {
   "display_name": "Python 3 (ipykernel)",
   "language": "python",
   "name": "python3"
  },
  "language_info": {
   "codemirror_mode": {
    "name": "ipython",
    "version": 3
   },
   "file_extension": ".py",
   "mimetype": "text/x-python",
   "name": "python",
   "nbconvert_exporter": "python",
   "pygments_lexer": "ipython3",
   "version": "3.12.3"
  }
 },
 "nbformat": 4,
 "nbformat_minor": 5
}
