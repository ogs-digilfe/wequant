{
 "cells": [
  {
   "cell_type": "code",
   "execution_count": 1,
   "id": "53716c86-eff3-42bd-b77b-1e48dd73df9a",
   "metadata": {},
   "outputs": [],
   "source": [
    "# para\n",
    "target_year = 2023"
   ]
  },
  {
   "cell_type": "code",
   "execution_count": 2,
   "id": "e830364c-e7d3-4e98-8f87-0a8f82a52cac",
   "metadata": {},
   "outputs": [],
   "source": [
    "# 読み込みファイルパスの設定とimportしたいmoduleパス(pythonパス)の設定\n",
    "from pathlib import Path\n",
    "import os, sys\n",
    "\n",
    "CURRENT_DIR = Path(os.getcwd())\n",
    "PJ_DIR = CURRENT_DIR.parent.parent\n",
    "LIB_DIR = PJ_DIR / \"lib\"\n",
    "DATA_DIR = PJ_DIR / \"data\" \n",
    "\n",
    "sys.path.append(str(LIB_DIR))\n",
    "\n",
    "# notebook内で利用するmoduleのimport\n",
    "from lib_dataprocess import CreditbalancePl, PricelistPl, read_data, PricelistFig\n",
    "import polars as pl\n",
    "from datetime import date\n",
    "from dateutil.relativedelta import relativedelta"
   ]
  },
  {
   "cell_type": "code",
   "execution_count": 3,
   "id": "3deeba73-b68d-4071-96c9-32173db9a80b",
   "metadata": {},
   "outputs": [],
   "source": [
    "##### reviced_pricelistの加工"
   ]
  },
  {
   "cell_type": "code",
   "execution_count": 4,
   "id": "fb97102b-41c1-4d72-9ac8-8387009c5164",
   "metadata": {},
   "outputs": [
    {
     "data": {
      "text/html": [
       "<div><style>\n",
       ".dataframe > thead > tr,\n",
       ".dataframe > tbody > tr {\n",
       "  text-align: right;\n",
       "  white-space: pre-wrap;\n",
       "}\n",
       "</style>\n",
       "<small>shape: (1_027_852, 11)</small><table border=\"1\" class=\"dataframe\"><thead><tr><th>code</th><th>date</th><th>open</th><th>high</th><th>low</th><th>close</th><th>volume</th><th>accumulated_split_rate</th><th>zs25</th><th>daily_updown_rate</th><th>weekid</th></tr><tr><td>i64</td><td>date</td><td>f64</td><td>f64</td><td>f64</td><td>f64</td><td>f64</td><td>f64</td><td>f64</td><td>f64</td><td>i16</td></tr></thead><tbody><tr><td>1301</td><td>2023-01-04</td><td>3815.0</td><td>3815.0</td><td>3735.0</td><td>3750.0</td><td>16800.0</td><td>1.0</td><td>0.33</td><td>-1.7</td><td>0</td></tr><tr><td>1301</td><td>2023-01-05</td><td>3750.0</td><td>3755.0</td><td>3725.0</td><td>3745.0</td><td>11300.0</td><td>1.0</td><td>-0.61</td><td>-0.13</td><td>0</td></tr><tr><td>1301</td><td>2023-01-06</td><td>3710.0</td><td>3730.0</td><td>3690.0</td><td>3720.0</td><td>15800.0</td><td>1.0</td><td>0.13</td><td>0.27</td><td>0</td></tr><tr><td>1301</td><td>2023-01-10</td><td>3740.0</td><td>3760.0</td><td>3710.0</td><td>3715.0</td><td>13400.0</td><td>1.0</td><td>-0.25</td><td>-0.67</td><td>1</td></tr><tr><td>1301</td><td>2023-01-11</td><td>3720.0</td><td>3740.0</td><td>3710.0</td><td>3725.0</td><td>7900.0</td><td>1.0</td><td>-1.12</td><td>0.13</td><td>1</td></tr><tr><td>&hellip;</td><td>&hellip;</td><td>&hellip;</td><td>&hellip;</td><td>&hellip;</td><td>&hellip;</td><td>&hellip;</td><td>&hellip;</td><td>&hellip;</td><td>&hellip;</td><td>&hellip;</td></tr><tr><td>9997</td><td>2023-12-25</td><td>598.0</td><td>600.0</td><td>597.0</td><td>599.0</td><td>299100.0</td><td>1.0</td><td>-0.45</td><td>0.17</td><td>51</td></tr><tr><td>9997</td><td>2023-12-26</td><td>599.0</td><td>603.0</td><td>599.0</td><td>601.0</td><td>418400.0</td><td>1.0</td><td>0.51</td><td>0.33</td><td>51</td></tr><tr><td>9997</td><td>2023-12-27</td><td>601.0</td><td>612.0</td><td>601.0</td><td>611.0</td><td>444200.0</td><td>1.0</td><td>0.69</td><td>1.66</td><td>51</td></tr><tr><td>9997</td><td>2023-12-28</td><td>612.0</td><td>622.0</td><td>612.0</td><td>622.0</td><td>317800.0</td><td>1.0</td><td>-0.38</td><td>1.63</td><td>51</td></tr><tr><td>9997</td><td>2023-12-29</td><td>625.0</td><td>628.0</td><td>620.0</td><td>622.0</td><td>251500.0</td><td>1.0</td><td>-0.93</td><td>-0.48</td><td>51</td></tr></tbody></table></div>"
      ],
      "text/plain": [
       "shape: (1_027_852, 11)\n",
       "┌──────┬────────────┬────────┬────────┬───┬───────────────────┬───────┬───────────────────┬────────┐\n",
       "│ code ┆ date       ┆ open   ┆ high   ┆ … ┆ accumulated_split ┆ zs25  ┆ daily_updown_rate ┆ weekid │\n",
       "│ ---  ┆ ---        ┆ ---    ┆ ---    ┆   ┆ _rate             ┆ ---   ┆ ---               ┆ ---    │\n",
       "│ i64  ┆ date       ┆ f64    ┆ f64    ┆   ┆ ---               ┆ f64   ┆ f64               ┆ i16    │\n",
       "│      ┆            ┆        ┆        ┆   ┆ f64               ┆       ┆                   ┆        │\n",
       "╞══════╪════════════╪════════╪════════╪═══╪═══════════════════╪═══════╪═══════════════════╪════════╡\n",
       "│ 1301 ┆ 2023-01-04 ┆ 3815.0 ┆ 3815.0 ┆ … ┆ 1.0               ┆ 0.33  ┆ -1.7              ┆ 0      │\n",
       "│ 1301 ┆ 2023-01-05 ┆ 3750.0 ┆ 3755.0 ┆ … ┆ 1.0               ┆ -0.61 ┆ -0.13             ┆ 0      │\n",
       "│ 1301 ┆ 2023-01-06 ┆ 3710.0 ┆ 3730.0 ┆ … ┆ 1.0               ┆ 0.13  ┆ 0.27              ┆ 0      │\n",
       "│ 1301 ┆ 2023-01-10 ┆ 3740.0 ┆ 3760.0 ┆ … ┆ 1.0               ┆ -0.25 ┆ -0.67             ┆ 1      │\n",
       "│ 1301 ┆ 2023-01-11 ┆ 3720.0 ┆ 3740.0 ┆ … ┆ 1.0               ┆ -1.12 ┆ 0.13              ┆ 1      │\n",
       "│ …    ┆ …          ┆ …      ┆ …      ┆ … ┆ …                 ┆ …     ┆ …                 ┆ …      │\n",
       "│ 9997 ┆ 2023-12-25 ┆ 598.0  ┆ 600.0  ┆ … ┆ 1.0               ┆ -0.45 ┆ 0.17              ┆ 51     │\n",
       "│ 9997 ┆ 2023-12-26 ┆ 599.0  ┆ 603.0  ┆ … ┆ 1.0               ┆ 0.51  ┆ 0.33              ┆ 51     │\n",
       "│ 9997 ┆ 2023-12-27 ┆ 601.0  ┆ 612.0  ┆ … ┆ 1.0               ┆ 0.69  ┆ 1.66              ┆ 51     │\n",
       "│ 9997 ┆ 2023-12-28 ┆ 612.0  ┆ 622.0  ┆ … ┆ 1.0               ┆ -0.38 ┆ 1.63              ┆ 51     │\n",
       "│ 9997 ┆ 2023-12-29 ┆ 625.0  ┆ 628.0  ┆ … ┆ 1.0               ┆ -0.93 ┆ -0.48             ┆ 51     │\n",
       "└──────┴────────────┴────────┴────────┴───┴───────────────────┴───────┴───────────────────┴────────┘"
      ]
     },
     "execution_count": 4,
     "metadata": {},
     "output_type": "execute_result"
    }
   ],
   "source": [
    "fp = DATA_DIR/\"reviced_pricelist.parquet\"\n",
    "df = read_data(fp)\n",
    "RPL = PricelistPl(df)\n",
    "\n",
    "RPL.with_columns_moving_zscore()\n",
    "RPL.with_columns_daily_updown_rate()\n",
    "RPL.df = RPL.df.filter(pl.col(\"date\")>=date(target_year, 1, 1)).filter(pl.col(\"date\")<=date(target_year, 12, 31))\n",
    "RPL.with_columns_weekid()\n",
    "RPL.df"
   ]
  },
  {
   "cell_type": "code",
   "execution_count": 5,
   "id": "a0c2a551-256c-40b3-b056-0634904d7c8d",
   "metadata": {},
   "outputs": [],
   "source": [
    "##### creditbalanceの加工"
   ]
  },
  {
   "cell_type": "code",
   "execution_count": 6,
   "id": "f2c14398-3009-45d1-a461-4a053289fed0",
   "metadata": {},
   "outputs": [
    {
     "data": {
      "text/html": [
       "<div><style>\n",
       ".dataframe > thead > tr,\n",
       ".dataframe > tbody > tr {\n",
       "  text-align: right;\n",
       "  white-space: pre-wrap;\n",
       "}\n",
       "</style>\n",
       "<small>shape: (185_167, 8)</small><table border=\"1\" class=\"dataframe\"><thead><tr><th>code</th><th>date</th><th>unsold_margin</th><th>purchase_margin</th><th>volume_ma25</th><th>unsold_margin_volume_ratio</th><th>purchase_margin_volume_ratio</th><th>weekid</th></tr><tr><td>i64</td><td>date</td><td>i64</td><td>i64</td><td>f64</td><td>f64</td><td>f64</td><td>i16</td></tr></thead><tbody><tr><td>1301</td><td>2022-12-30</td><td>3200</td><td>17700</td><td>14580.0</td><td>0.22</td><td>1.21</td><td>0</td></tr><tr><td>1301</td><td>2023-01-06</td><td>2400</td><td>21200</td><td>15052.0</td><td>0.16</td><td>1.41</td><td>1</td></tr><tr><td>1301</td><td>2023-01-13</td><td>2200</td><td>20900</td><td>14264.0</td><td>0.15</td><td>1.47</td><td>2</td></tr><tr><td>1301</td><td>2023-01-20</td><td>4000</td><td>20200</td><td>14752.0</td><td>0.27</td><td>1.37</td><td>3</td></tr><tr><td>1301</td><td>2023-01-27</td><td>4400</td><td>19700</td><td>13360.0</td><td>0.33</td><td>1.47</td><td>4</td></tr><tr><td>&hellip;</td><td>&hellip;</td><td>&hellip;</td><td>&hellip;</td><td>&hellip;</td><td>&hellip;</td><td>&hellip;</td><td>&hellip;</td></tr><tr><td>9997</td><td>2023-11-24</td><td>12200</td><td>1291400</td><td>338988.0</td><td>0.04</td><td>3.81</td><td>47</td></tr><tr><td>9997</td><td>2023-12-01</td><td>16600</td><td>1297200</td><td>308868.0</td><td>0.05</td><td>4.2</td><td>48</td></tr><tr><td>9997</td><td>2023-12-08</td><td>12800</td><td>1363400</td><td>298360.0</td><td>0.04</td><td>4.57</td><td>49</td></tr><tr><td>9997</td><td>2023-12-15</td><td>16000</td><td>1486300</td><td>334968.0</td><td>0.05</td><td>4.44</td><td>50</td></tr><tr><td>9997</td><td>2023-12-22</td><td>126700</td><td>1470500</td><td>360220.0</td><td>0.35</td><td>4.08</td><td>51</td></tr></tbody></table></div>"
      ],
      "text/plain": [
       "shape: (185_167, 8)\n",
       "┌──────┬────────────┬─────────────┬─────────────┬─────────────┬─────────────┬─────────────┬────────┐\n",
       "│ code ┆ date       ┆ unsold_marg ┆ purchase_ma ┆ volume_ma25 ┆ unsold_marg ┆ purchase_ma ┆ weekid │\n",
       "│ ---  ┆ ---        ┆ in          ┆ rgin        ┆ ---         ┆ in_volume_r ┆ rgin_volume ┆ ---    │\n",
       "│ i64  ┆ date       ┆ ---         ┆ ---         ┆ f64         ┆ atio        ┆ _ratio      ┆ i16    │\n",
       "│      ┆            ┆ i64         ┆ i64         ┆             ┆ ---         ┆ ---         ┆        │\n",
       "│      ┆            ┆             ┆             ┆             ┆ f64         ┆ f64         ┆        │\n",
       "╞══════╪════════════╪═════════════╪═════════════╪═════════════╪═════════════╪═════════════╪════════╡\n",
       "│ 1301 ┆ 2022-12-30 ┆ 3200        ┆ 17700       ┆ 14580.0     ┆ 0.22        ┆ 1.21        ┆ 0      │\n",
       "│ 1301 ┆ 2023-01-06 ┆ 2400        ┆ 21200       ┆ 15052.0     ┆ 0.16        ┆ 1.41        ┆ 1      │\n",
       "│ 1301 ┆ 2023-01-13 ┆ 2200        ┆ 20900       ┆ 14264.0     ┆ 0.15        ┆ 1.47        ┆ 2      │\n",
       "│ 1301 ┆ 2023-01-20 ┆ 4000        ┆ 20200       ┆ 14752.0     ┆ 0.27        ┆ 1.37        ┆ 3      │\n",
       "│ 1301 ┆ 2023-01-27 ┆ 4400        ┆ 19700       ┆ 13360.0     ┆ 0.33        ┆ 1.47        ┆ 4      │\n",
       "│ …    ┆ …          ┆ …           ┆ …           ┆ …           ┆ …           ┆ …           ┆ …      │\n",
       "│ 9997 ┆ 2023-11-24 ┆ 12200       ┆ 1291400     ┆ 338988.0    ┆ 0.04        ┆ 3.81        ┆ 47     │\n",
       "│ 9997 ┆ 2023-12-01 ┆ 16600       ┆ 1297200     ┆ 308868.0    ┆ 0.05        ┆ 4.2         ┆ 48     │\n",
       "│ 9997 ┆ 2023-12-08 ┆ 12800       ┆ 1363400     ┆ 298360.0    ┆ 0.04        ┆ 4.57        ┆ 49     │\n",
       "│ 9997 ┆ 2023-12-15 ┆ 16000       ┆ 1486300     ┆ 334968.0    ┆ 0.05        ┆ 4.44        ┆ 50     │\n",
       "│ 9997 ┆ 2023-12-22 ┆ 126700      ┆ 1470500     ┆ 360220.0    ┆ 0.35        ┆ 4.08        ┆ 51     │\n",
       "└──────┴────────────┴─────────────┴─────────────┴─────────────┴─────────────┴─────────────┴────────┘"
      ]
     },
     "execution_count": 6,
     "metadata": {},
     "output_type": "execute_result"
    }
   ],
   "source": [
    "CPL = CreditbalancePl()\n",
    "CPL.with_columns_margin_volume_ratio()\n",
    "delta = relativedelta(days=7)\n",
    "start_date = RPL.df[\"date\"].min() - delta\n",
    "end_date = RPL.df[\"date\"].max() - delta\n",
    "CPL.df = CPL.df.filter(pl.col(\"date\")>=start_date).filter(pl.col(\"date\")<=end_date)\n",
    "CPL.with_columns_weekid()\n",
    "CPL.df"
   ]
  },
  {
   "cell_type": "code",
   "execution_count": 15,
   "id": "61cc67a8-ccab-4198-97ea-28d2daa074de",
   "metadata": {},
   "outputs": [],
   "source": [
    "####### revoced_pricelistにcreditbalanceをjoin\n",
    "joined_df = RPL.df.join(CPL.df, on=[\"code\", \"weekid\"], how=\"left\")"
   ]
  },
  {
   "cell_type": "code",
   "execution_count": 16,
   "id": "d7bdd355-f5d9-4868-b0da-a7edd1739396",
   "metadata": {},
   "outputs": [
    {
     "data": {
      "text/html": [
       "<div><style>\n",
       ".dataframe > thead > tr,\n",
       ".dataframe > tbody > tr {\n",
       "  text-align: right;\n",
       "  white-space: pre-wrap;\n",
       "}\n",
       "</style>\n",
       "<small>shape: (1_027_852, 17)</small><table border=\"1\" class=\"dataframe\"><thead><tr><th>code</th><th>date</th><th>open</th><th>high</th><th>low</th><th>close</th><th>volume</th><th>accumulated_split_rate</th><th>zs25</th><th>daily_updown_rate</th><th>weekid</th><th>date_right</th><th>unsold_margin</th><th>purchase_margin</th><th>volume_ma25</th><th>unsold_margin_volume_ratio</th><th>purchase_margin_volume_ratio</th></tr><tr><td>i64</td><td>date</td><td>f64</td><td>f64</td><td>f64</td><td>f64</td><td>f64</td><td>f64</td><td>f64</td><td>f64</td><td>i16</td><td>date</td><td>i64</td><td>i64</td><td>f64</td><td>f64</td><td>f64</td></tr></thead><tbody><tr><td>1301</td><td>2023-01-04</td><td>3815.0</td><td>3815.0</td><td>3735.0</td><td>3750.0</td><td>16800.0</td><td>1.0</td><td>0.33</td><td>-1.7</td><td>0</td><td>2022-12-30</td><td>3200</td><td>17700</td><td>14580.0</td><td>0.22</td><td>1.21</td></tr><tr><td>1301</td><td>2023-01-05</td><td>3750.0</td><td>3755.0</td><td>3725.0</td><td>3745.0</td><td>11300.0</td><td>1.0</td><td>-0.61</td><td>-0.13</td><td>0</td><td>2022-12-30</td><td>3200</td><td>17700</td><td>14580.0</td><td>0.22</td><td>1.21</td></tr><tr><td>1301</td><td>2023-01-06</td><td>3710.0</td><td>3730.0</td><td>3690.0</td><td>3720.0</td><td>15800.0</td><td>1.0</td><td>0.13</td><td>0.27</td><td>0</td><td>2022-12-30</td><td>3200</td><td>17700</td><td>14580.0</td><td>0.22</td><td>1.21</td></tr><tr><td>1301</td><td>2023-01-10</td><td>3740.0</td><td>3760.0</td><td>3710.0</td><td>3715.0</td><td>13400.0</td><td>1.0</td><td>-0.25</td><td>-0.67</td><td>1</td><td>2023-01-06</td><td>2400</td><td>21200</td><td>15052.0</td><td>0.16</td><td>1.41</td></tr><tr><td>1301</td><td>2023-01-11</td><td>3720.0</td><td>3740.0</td><td>3710.0</td><td>3725.0</td><td>7900.0</td><td>1.0</td><td>-1.12</td><td>0.13</td><td>1</td><td>2023-01-06</td><td>2400</td><td>21200</td><td>15052.0</td><td>0.16</td><td>1.41</td></tr><tr><td>&hellip;</td><td>&hellip;</td><td>&hellip;</td><td>&hellip;</td><td>&hellip;</td><td>&hellip;</td><td>&hellip;</td><td>&hellip;</td><td>&hellip;</td><td>&hellip;</td><td>&hellip;</td><td>&hellip;</td><td>&hellip;</td><td>&hellip;</td><td>&hellip;</td><td>&hellip;</td><td>&hellip;</td></tr><tr><td>9997</td><td>2023-12-25</td><td>598.0</td><td>600.0</td><td>597.0</td><td>599.0</td><td>299100.0</td><td>1.0</td><td>-0.45</td><td>0.17</td><td>51</td><td>2023-12-22</td><td>126700</td><td>1470500</td><td>360220.0</td><td>0.35</td><td>4.08</td></tr><tr><td>9997</td><td>2023-12-26</td><td>599.0</td><td>603.0</td><td>599.0</td><td>601.0</td><td>418400.0</td><td>1.0</td><td>0.51</td><td>0.33</td><td>51</td><td>2023-12-22</td><td>126700</td><td>1470500</td><td>360220.0</td><td>0.35</td><td>4.08</td></tr><tr><td>9997</td><td>2023-12-27</td><td>601.0</td><td>612.0</td><td>601.0</td><td>611.0</td><td>444200.0</td><td>1.0</td><td>0.69</td><td>1.66</td><td>51</td><td>2023-12-22</td><td>126700</td><td>1470500</td><td>360220.0</td><td>0.35</td><td>4.08</td></tr><tr><td>9997</td><td>2023-12-28</td><td>612.0</td><td>622.0</td><td>612.0</td><td>622.0</td><td>317800.0</td><td>1.0</td><td>-0.38</td><td>1.63</td><td>51</td><td>2023-12-22</td><td>126700</td><td>1470500</td><td>360220.0</td><td>0.35</td><td>4.08</td></tr><tr><td>9997</td><td>2023-12-29</td><td>625.0</td><td>628.0</td><td>620.0</td><td>622.0</td><td>251500.0</td><td>1.0</td><td>-0.93</td><td>-0.48</td><td>51</td><td>2023-12-22</td><td>126700</td><td>1470500</td><td>360220.0</td><td>0.35</td><td>4.08</td></tr></tbody></table></div>"
      ],
      "text/plain": [
       "shape: (1_027_852, 17)\n",
       "┌──────┬────────────┬────────┬────────┬───┬──────────────┬─────────────┬─────────────┬─────────────┐\n",
       "│ code ┆ date       ┆ open   ┆ high   ┆ … ┆ purchase_mar ┆ volume_ma25 ┆ unsold_marg ┆ purchase_ma │\n",
       "│ ---  ┆ ---        ┆ ---    ┆ ---    ┆   ┆ gin          ┆ ---         ┆ in_volume_r ┆ rgin_volume │\n",
       "│ i64  ┆ date       ┆ f64    ┆ f64    ┆   ┆ ---          ┆ f64         ┆ atio        ┆ _ratio      │\n",
       "│      ┆            ┆        ┆        ┆   ┆ i64          ┆             ┆ ---         ┆ ---         │\n",
       "│      ┆            ┆        ┆        ┆   ┆              ┆             ┆ f64         ┆ f64         │\n",
       "╞══════╪════════════╪════════╪════════╪═══╪══════════════╪═════════════╪═════════════╪═════════════╡\n",
       "│ 1301 ┆ 2023-01-04 ┆ 3815.0 ┆ 3815.0 ┆ … ┆ 17700        ┆ 14580.0     ┆ 0.22        ┆ 1.21        │\n",
       "│ 1301 ┆ 2023-01-05 ┆ 3750.0 ┆ 3755.0 ┆ … ┆ 17700        ┆ 14580.0     ┆ 0.22        ┆ 1.21        │\n",
       "│ 1301 ┆ 2023-01-06 ┆ 3710.0 ┆ 3730.0 ┆ … ┆ 17700        ┆ 14580.0     ┆ 0.22        ┆ 1.21        │\n",
       "│ 1301 ┆ 2023-01-10 ┆ 3740.0 ┆ 3760.0 ┆ … ┆ 21200        ┆ 15052.0     ┆ 0.16        ┆ 1.41        │\n",
       "│ 1301 ┆ 2023-01-11 ┆ 3720.0 ┆ 3740.0 ┆ … ┆ 21200        ┆ 15052.0     ┆ 0.16        ┆ 1.41        │\n",
       "│ …    ┆ …          ┆ …      ┆ …      ┆ … ┆ …            ┆ …           ┆ …           ┆ …           │\n",
       "│ 9997 ┆ 2023-12-25 ┆ 598.0  ┆ 600.0  ┆ … ┆ 1470500      ┆ 360220.0    ┆ 0.35        ┆ 4.08        │\n",
       "│ 9997 ┆ 2023-12-26 ┆ 599.0  ┆ 603.0  ┆ … ┆ 1470500      ┆ 360220.0    ┆ 0.35        ┆ 4.08        │\n",
       "│ 9997 ┆ 2023-12-27 ┆ 601.0  ┆ 612.0  ┆ … ┆ 1470500      ┆ 360220.0    ┆ 0.35        ┆ 4.08        │\n",
       "│ 9997 ┆ 2023-12-28 ┆ 612.0  ┆ 622.0  ┆ … ┆ 1470500      ┆ 360220.0    ┆ 0.35        ┆ 4.08        │\n",
       "│ 9997 ┆ 2023-12-29 ┆ 625.0  ┆ 628.0  ┆ … ┆ 1470500      ┆ 360220.0    ┆ 0.35        ┆ 4.08        │\n",
       "└──────┴────────────┴────────┴────────┴───┴──────────────┴─────────────┴─────────────┴─────────────┘"
      ]
     },
     "execution_count": 16,
     "metadata": {},
     "output_type": "execute_result"
    }
   ],
   "source": [
    "joined_df"
   ]
  },
  {
   "cell_type": "code",
   "execution_count": 17,
   "id": "4ef457d5-d6ea-4a94-ae0e-f2d3810e082a",
   "metadata": {},
   "outputs": [],
   "source": [
    "##### いろいろfilterしてみる"
   ]
  },
  {
   "cell_type": "code",
   "execution_count": 21,
   "id": "b0c011ba-a612-4dce-9049-99f5f3b3e911",
   "metadata": {},
   "outputs": [],
   "source": [
    "min_zs25 = 3\n",
    "min_daily_updown_rate = 5\n",
    "min_unsold_margin_volume_ratio = 1\n",
    "display_cols = [\n",
    "    \"code\",\n",
    "    \"date\",\n",
    "    \"zs25\",\n",
    "    \"daily_updown_rate\",\n",
    "    \"unsold_margin_volume_ratio\"\n",
    "]"
   ]
  },
  {
   "cell_type": "code",
   "execution_count": 22,
   "id": "a4762e65-979f-4b5b-9463-5c2175da45a4",
   "metadata": {},
   "outputs": [
    {
     "data": {
      "text/html": [
       "<div><style>\n",
       ".dataframe > thead > tr,\n",
       ".dataframe > tbody > tr {\n",
       "  text-align: right;\n",
       "  white-space: pre-wrap;\n",
       "}\n",
       "</style>\n",
       "<small>shape: (324, 5)</small><table border=\"1\" class=\"dataframe\"><thead><tr><th>code</th><th>date</th><th>zs25</th><th>daily_updown_rate</th><th>unsold_margin_volume_ratio</th></tr><tr><td>i64</td><td>date</td><td>f64</td><td>f64</td><td>f64</td></tr></thead><tbody><tr><td>1418</td><td>2023-04-17</td><td>4.5</td><td>26.11</td><td>1.21</td></tr><tr><td>1418</td><td>2023-07-12</td><td>3.52</td><td>5.29</td><td>7.94</td></tr><tr><td>1418</td><td>2023-10-12</td><td>4.54</td><td>7.88</td><td>8.89</td></tr><tr><td>1882</td><td>2023-02-28</td><td>3.78</td><td>6.37</td><td>1.32</td></tr><tr><td>1888</td><td>2023-03-03</td><td>3.12</td><td>6.18</td><td>2.32</td></tr><tr><td>&hellip;</td><td>&hellip;</td><td>&hellip;</td><td>&hellip;</td><td>&hellip;</td></tr><tr><td>9930</td><td>2023-02-13</td><td>4.35</td><td>12.45</td><td>1.81</td></tr><tr><td>9930</td><td>2023-03-06</td><td>4.49</td><td>9.71</td><td>1.7</td></tr><tr><td>9930</td><td>2023-04-21</td><td>3.05</td><td>5.24</td><td>1.22</td></tr><tr><td>9969</td><td>2023-11-24</td><td>4.8</td><td>22.22</td><td>6.52</td></tr><tr><td>9982</td><td>2023-04-10</td><td>3.75</td><td>10.63</td><td>2.92</td></tr></tbody></table></div>"
      ],
      "text/plain": [
       "shape: (324, 5)\n",
       "┌──────┬────────────┬──────┬───────────────────┬────────────────────────────┐\n",
       "│ code ┆ date       ┆ zs25 ┆ daily_updown_rate ┆ unsold_margin_volume_ratio │\n",
       "│ ---  ┆ ---        ┆ ---  ┆ ---               ┆ ---                        │\n",
       "│ i64  ┆ date       ┆ f64  ┆ f64               ┆ f64                        │\n",
       "╞══════╪════════════╪══════╪═══════════════════╪════════════════════════════╡\n",
       "│ 1418 ┆ 2023-04-17 ┆ 4.5  ┆ 26.11             ┆ 1.21                       │\n",
       "│ 1418 ┆ 2023-07-12 ┆ 3.52 ┆ 5.29              ┆ 7.94                       │\n",
       "│ 1418 ┆ 2023-10-12 ┆ 4.54 ┆ 7.88              ┆ 8.89                       │\n",
       "│ 1882 ┆ 2023-02-28 ┆ 3.78 ┆ 6.37              ┆ 1.32                       │\n",
       "│ 1888 ┆ 2023-03-03 ┆ 3.12 ┆ 6.18              ┆ 2.32                       │\n",
       "│ …    ┆ …          ┆ …    ┆ …                 ┆ …                          │\n",
       "│ 9930 ┆ 2023-02-13 ┆ 4.35 ┆ 12.45             ┆ 1.81                       │\n",
       "│ 9930 ┆ 2023-03-06 ┆ 4.49 ┆ 9.71              ┆ 1.7                        │\n",
       "│ 9930 ┆ 2023-04-21 ┆ 3.05 ┆ 5.24              ┆ 1.22                       │\n",
       "│ 9969 ┆ 2023-11-24 ┆ 4.8  ┆ 22.22             ┆ 6.52                       │\n",
       "│ 9982 ┆ 2023-04-10 ┆ 3.75 ┆ 10.63             ┆ 2.92                       │\n",
       "└──────┴────────────┴──────┴───────────────────┴────────────────────────────┘"
      ]
     },
     "execution_count": 22,
     "metadata": {},
     "output_type": "execute_result"
    }
   ],
   "source": [
    "df = joined_df.filter(pl.col(\"zs25\")>=min_zs25)\\\n",
    "    .filter(pl.col(\"daily_updown_rate\")>=min_daily_updown_rate)\\\n",
    "    .filter(pl.col(\"unsold_margin_volume_ratio\")>=min_unsold_margin_volume_ratio)\n",
    "df = df.drop_nulls()\n",
    "df.select(display_cols)"
   ]
  },
  {
   "cell_type": "code",
   "execution_count": null,
   "id": "773d3b34-5551-466c-a324-2357affa48bc",
   "metadata": {},
   "outputs": [],
   "source": [
    "##### chart"
   ]
  },
  {
   "cell_type": "code",
   "execution_count": 25,
   "id": "29570ca9-d459-4f76-8294-ea8f62e3ff15",
   "metadata": {},
   "outputs": [],
   "source": [
    "code = 1888\n",
    "dt = date(2023, 3, 3)\n",
    "weeks = 4"
   ]
  },
  {
   "cell_type": "code",
   "execution_count": 26,
   "id": "94bed748-ee4a-46ee-b82d-546525d0929e",
   "metadata": {},
   "outputs": [
    {
     "data": {
      "application/vnd.plotly.v1+json": {
       "config": {
        "plotlyServerURL": "https://plot.ly"
       },
       "data": [
        {
         "close": [
          3040,
          3010,
          3025,
          3010,
          3010,
          2983,
          3005,
          2992,
          3020,
          2981,
          3010,
          3040,
          3085,
          3040,
          2991,
          3035,
          2998,
          3020,
          3010,
          3105,
          3140,
          3155,
          3140,
          3155,
          3350,
          3370,
          3385,
          3460,
          3505,
          3560,
          3625,
          3555,
          3745,
          3590,
          3615,
          3480,
          3655,
          3565,
          3670,
          3655,
          3690,
          3700,
          3740,
          3820
         ],
         "high": [
          3060,
          3070,
          3065,
          3065,
          3055,
          2995,
          3020,
          3040,
          3055,
          3015,
          3030,
          3075,
          3120,
          3095,
          3065,
          3040,
          3065,
          3040,
          3010,
          3140,
          3145,
          3175,
          3150,
          3185,
          3370,
          3375,
          3410,
          3475,
          3540,
          3595,
          3625,
          3610,
          3750,
          3710,
          3655,
          3615,
          3685,
          3600,
          3675,
          3690,
          3710,
          3755,
          3765,
          3850
         ],
         "low": [
          2929,
          2970,
          3010,
          3010,
          3005,
          2940,
          2966,
          2984,
          2992,
          2972,
          2965,
          2900,
          3040,
          3040,
          2991,
          2975,
          2998,
          3010,
          2976,
          3030,
          3120,
          3100,
          3120,
          3130,
          3155,
          3285,
          3325,
          3370,
          3440,
          3460,
          3480,
          3420,
          3555,
          3585,
          3595,
          3475,
          3575,
          3525,
          3570,
          3620,
          3595,
          3665,
          3600,
          3715
         ],
         "name": "株価",
         "open": [
          2929,
          3055,
          3010,
          3065,
          3010,
          2995,
          2966,
          3005,
          2992,
          2992,
          2974,
          2979,
          3070,
          3085,
          3050,
          2977,
          3035,
          3025,
          2991,
          3035,
          3125,
          3115,
          3145,
          3140,
          3155,
          3370,
          3340,
          3370,
          3460,
          3500,
          3565,
          3610,
          3575,
          3605,
          3605,
          3590,
          3590,
          3595,
          3605,
          3685,
          3665,
          3685,
          3600,
          3755
         ],
         "type": "candlestick",
         "x": [
          "2023-01-27",
          "2023-01-30",
          "2023-01-31",
          "2023-02-01",
          "2023-02-02",
          "2023-02-03",
          "2023-02-06",
          "2023-02-07",
          "2023-02-08",
          "2023-02-09",
          "2023-02-10",
          "2023-02-13",
          "2023-02-14",
          "2023-02-15",
          "2023-02-16",
          "2023-02-17",
          "2023-02-20",
          "2023-02-21",
          "2023-02-22",
          "2023-02-24",
          "2023-02-27",
          "2023-02-28",
          "2023-03-01",
          "2023-03-02",
          "2023-03-03",
          "2023-03-06",
          "2023-03-07",
          "2023-03-08",
          "2023-03-09",
          "2023-03-10",
          "2023-03-13",
          "2023-03-14",
          "2023-03-15",
          "2023-03-16",
          "2023-03-17",
          "2023-03-20",
          "2023-03-22",
          "2023-03-23",
          "2023-03-24",
          "2023-03-27",
          "2023-03-28",
          "2023-03-29",
          "2023-03-30",
          "2023-03-31"
         ],
         "xaxis": "x",
         "yaxis": "y"
        },
        {
         "marker": {
          "color": "blue"
         },
         "name": "出来高",
         "type": "bar",
         "x": [
          "2023-01-27",
          "2023-01-30",
          "2023-01-31",
          "2023-02-01",
          "2023-02-02",
          "2023-02-03",
          "2023-02-06",
          "2023-02-07",
          "2023-02-08",
          "2023-02-09",
          "2023-02-10",
          "2023-02-13",
          "2023-02-14",
          "2023-02-15",
          "2023-02-16",
          "2023-02-17",
          "2023-02-20",
          "2023-02-21",
          "2023-02-22",
          "2023-02-24",
          "2023-02-27",
          "2023-02-28",
          "2023-03-01",
          "2023-03-02",
          "2023-03-03",
          "2023-03-06",
          "2023-03-07",
          "2023-03-08",
          "2023-03-09",
          "2023-03-10",
          "2023-03-13",
          "2023-03-14",
          "2023-03-15",
          "2023-03-16",
          "2023-03-17",
          "2023-03-20",
          "2023-03-22",
          "2023-03-23",
          "2023-03-24",
          "2023-03-27",
          "2023-03-28",
          "2023-03-29",
          "2023-03-30",
          "2023-03-31"
         ],
         "xaxis": "x2",
         "y": [
          72300,
          47900,
          14800,
          10400,
          10400,
          23600,
          15000,
          25900,
          19500,
          18100,
          17400,
          40900,
          40600,
          11600,
          11100,
          34900,
          11100,
          9400,
          16400,
          48800,
          23700,
          30000,
          7700,
          10700,
          91900,
          33700,
          24900,
          33000,
          62900,
          90600,
          67600,
          59400,
          80600,
          53000,
          28200,
          22200,
          31300,
          17800,
          31400,
          27600,
          48100,
          41900,
          34000,
          39500
         ],
         "yaxis": "y2"
        }
       ],
       "layout": {
        "autosize": true,
        "shapes": [
         {
          "line": {
           "color": "grey",
           "width": 1
          },
          "opacity": 0.5,
          "type": "line",
          "x0": "2023-01-27",
          "x1": "2023-01-27",
          "xref": "x",
          "y0": 0,
          "y1": 1,
          "yref": "y domain"
         },
         {
          "line": {
           "color": "grey",
           "width": 1
          },
          "opacity": 0.5,
          "type": "line",
          "x0": "2023-01-27",
          "x1": "2023-01-27",
          "xref": "x2",
          "y0": 0,
          "y1": 1,
          "yref": "y2 domain"
         },
         {
          "line": {
           "color": "grey",
           "width": 1
          },
          "opacity": 0.5,
          "type": "line",
          "x0": "2023-02-03",
          "x1": "2023-02-03",
          "xref": "x",
          "y0": 0,
          "y1": 1,
          "yref": "y domain"
         },
         {
          "line": {
           "color": "grey",
           "width": 1
          },
          "opacity": 0.5,
          "type": "line",
          "x0": "2023-02-03",
          "x1": "2023-02-03",
          "xref": "x2",
          "y0": 0,
          "y1": 1,
          "yref": "y2 domain"
         },
         {
          "line": {
           "color": "grey",
           "width": 1
          },
          "opacity": 0.5,
          "type": "line",
          "x0": "2023-02-10",
          "x1": "2023-02-10",
          "xref": "x",
          "y0": 0,
          "y1": 1,
          "yref": "y domain"
         },
         {
          "line": {
           "color": "grey",
           "width": 1
          },
          "opacity": 0.5,
          "type": "line",
          "x0": "2023-02-10",
          "x1": "2023-02-10",
          "xref": "x2",
          "y0": 0,
          "y1": 1,
          "yref": "y2 domain"
         },
         {
          "line": {
           "color": "grey",
           "width": 1
          },
          "opacity": 0.5,
          "type": "line",
          "x0": "2023-02-17",
          "x1": "2023-02-17",
          "xref": "x",
          "y0": 0,
          "y1": 1,
          "yref": "y domain"
         },
         {
          "line": {
           "color": "grey",
           "width": 1
          },
          "opacity": 0.5,
          "type": "line",
          "x0": "2023-02-17",
          "x1": "2023-02-17",
          "xref": "x2",
          "y0": 0,
          "y1": 1,
          "yref": "y2 domain"
         },
         {
          "line": {
           "color": "grey",
           "width": 1
          },
          "opacity": 0.5,
          "type": "line",
          "x0": "2023-02-24",
          "x1": "2023-02-24",
          "xref": "x",
          "y0": 0,
          "y1": 1,
          "yref": "y domain"
         },
         {
          "line": {
           "color": "grey",
           "width": 1
          },
          "opacity": 0.5,
          "type": "line",
          "x0": "2023-02-24",
          "x1": "2023-02-24",
          "xref": "x2",
          "y0": 0,
          "y1": 1,
          "yref": "y2 domain"
         },
         {
          "line": {
           "color": "grey",
           "width": 1
          },
          "opacity": 0.5,
          "type": "line",
          "x0": "2023-03-03",
          "x1": "2023-03-03",
          "xref": "x",
          "y0": 0,
          "y1": 1,
          "yref": "y domain"
         },
         {
          "line": {
           "color": "grey",
           "width": 1
          },
          "opacity": 0.5,
          "type": "line",
          "x0": "2023-03-03",
          "x1": "2023-03-03",
          "xref": "x2",
          "y0": 0,
          "y1": 1,
          "yref": "y2 domain"
         },
         {
          "line": {
           "color": "grey",
           "width": 1
          },
          "opacity": 0.5,
          "type": "line",
          "x0": "2023-03-10",
          "x1": "2023-03-10",
          "xref": "x",
          "y0": 0,
          "y1": 1,
          "yref": "y domain"
         },
         {
          "line": {
           "color": "grey",
           "width": 1
          },
          "opacity": 0.5,
          "type": "line",
          "x0": "2023-03-10",
          "x1": "2023-03-10",
          "xref": "x2",
          "y0": 0,
          "y1": 1,
          "yref": "y2 domain"
         },
         {
          "line": {
           "color": "grey",
           "width": 1
          },
          "opacity": 0.5,
          "type": "line",
          "x0": "2023-03-17",
          "x1": "2023-03-17",
          "xref": "x",
          "y0": 0,
          "y1": 1,
          "yref": "y domain"
         },
         {
          "line": {
           "color": "grey",
           "width": 1
          },
          "opacity": 0.5,
          "type": "line",
          "x0": "2023-03-17",
          "x1": "2023-03-17",
          "xref": "x2",
          "y0": 0,
          "y1": 1,
          "yref": "y2 domain"
         },
         {
          "line": {
           "color": "grey",
           "width": 1
          },
          "opacity": 0.5,
          "type": "line",
          "x0": "2023-03-24",
          "x1": "2023-03-24",
          "xref": "x",
          "y0": 0,
          "y1": 1,
          "yref": "y domain"
         },
         {
          "line": {
           "color": "grey",
           "width": 1
          },
          "opacity": 0.5,
          "type": "line",
          "x0": "2023-03-24",
          "x1": "2023-03-24",
          "xref": "x2",
          "y0": 0,
          "y1": 1,
          "yref": "y2 domain"
         },
         {
          "line": {
           "color": "grey",
           "width": 1
          },
          "opacity": 0.5,
          "type": "line",
          "x0": "2023-03-31",
          "x1": "2023-03-31",
          "xref": "x",
          "y0": 0,
          "y1": 1,
          "yref": "y domain"
         },
         {
          "line": {
           "color": "grey",
           "width": 1
          },
          "opacity": 0.5,
          "type": "line",
          "x0": "2023-03-31",
          "x1": "2023-03-31",
          "xref": "x2",
          "y0": 0,
          "y1": 1,
          "yref": "y2 domain"
         },
         {
          "line": {
           "color": "red",
           "width": 1
          },
          "opacity": 0.5,
          "type": "line",
          "x0": "2023-03-03",
          "x1": "2023-03-03",
          "xref": "x",
          "y0": 0,
          "y1": 1,
          "yref": "y domain"
         },
         {
          "line": {
           "color": "red",
           "width": 1
          },
          "opacity": 0.5,
          "type": "line",
          "x0": "2023-03-03",
          "x1": "2023-03-03",
          "xref": "x2",
          "y0": 0,
          "y1": 1,
          "yref": "y2 domain"
         }
        ],
        "template": {
         "data": {
          "bar": [
           {
            "error_x": {
             "color": "#2a3f5f"
            },
            "error_y": {
             "color": "#2a3f5f"
            },
            "marker": {
             "line": {
              "color": "#E5ECF6",
              "width": 0.5
             },
             "pattern": {
              "fillmode": "overlay",
              "size": 10,
              "solidity": 0.2
             }
            },
            "type": "bar"
           }
          ],
          "barpolar": [
           {
            "marker": {
             "line": {
              "color": "#E5ECF6",
              "width": 0.5
             },
             "pattern": {
              "fillmode": "overlay",
              "size": 10,
              "solidity": 0.2
             }
            },
            "type": "barpolar"
           }
          ],
          "carpet": [
           {
            "aaxis": {
             "endlinecolor": "#2a3f5f",
             "gridcolor": "white",
             "linecolor": "white",
             "minorgridcolor": "white",
             "startlinecolor": "#2a3f5f"
            },
            "baxis": {
             "endlinecolor": "#2a3f5f",
             "gridcolor": "white",
             "linecolor": "white",
             "minorgridcolor": "white",
             "startlinecolor": "#2a3f5f"
            },
            "type": "carpet"
           }
          ],
          "choropleth": [
           {
            "colorbar": {
             "outlinewidth": 0,
             "ticks": ""
            },
            "type": "choropleth"
           }
          ],
          "contour": [
           {
            "colorbar": {
             "outlinewidth": 0,
             "ticks": ""
            },
            "colorscale": [
             [
              0,
              "#0d0887"
             ],
             [
              0.1111111111111111,
              "#46039f"
             ],
             [
              0.2222222222222222,
              "#7201a8"
             ],
             [
              0.3333333333333333,
              "#9c179e"
             ],
             [
              0.4444444444444444,
              "#bd3786"
             ],
             [
              0.5555555555555556,
              "#d8576b"
             ],
             [
              0.6666666666666666,
              "#ed7953"
             ],
             [
              0.7777777777777778,
              "#fb9f3a"
             ],
             [
              0.8888888888888888,
              "#fdca26"
             ],
             [
              1,
              "#f0f921"
             ]
            ],
            "type": "contour"
           }
          ],
          "contourcarpet": [
           {
            "colorbar": {
             "outlinewidth": 0,
             "ticks": ""
            },
            "type": "contourcarpet"
           }
          ],
          "heatmap": [
           {
            "colorbar": {
             "outlinewidth": 0,
             "ticks": ""
            },
            "colorscale": [
             [
              0,
              "#0d0887"
             ],
             [
              0.1111111111111111,
              "#46039f"
             ],
             [
              0.2222222222222222,
              "#7201a8"
             ],
             [
              0.3333333333333333,
              "#9c179e"
             ],
             [
              0.4444444444444444,
              "#bd3786"
             ],
             [
              0.5555555555555556,
              "#d8576b"
             ],
             [
              0.6666666666666666,
              "#ed7953"
             ],
             [
              0.7777777777777778,
              "#fb9f3a"
             ],
             [
              0.8888888888888888,
              "#fdca26"
             ],
             [
              1,
              "#f0f921"
             ]
            ],
            "type": "heatmap"
           }
          ],
          "heatmapgl": [
           {
            "colorbar": {
             "outlinewidth": 0,
             "ticks": ""
            },
            "colorscale": [
             [
              0,
              "#0d0887"
             ],
             [
              0.1111111111111111,
              "#46039f"
             ],
             [
              0.2222222222222222,
              "#7201a8"
             ],
             [
              0.3333333333333333,
              "#9c179e"
             ],
             [
              0.4444444444444444,
              "#bd3786"
             ],
             [
              0.5555555555555556,
              "#d8576b"
             ],
             [
              0.6666666666666666,
              "#ed7953"
             ],
             [
              0.7777777777777778,
              "#fb9f3a"
             ],
             [
              0.8888888888888888,
              "#fdca26"
             ],
             [
              1,
              "#f0f921"
             ]
            ],
            "type": "heatmapgl"
           }
          ],
          "histogram": [
           {
            "marker": {
             "pattern": {
              "fillmode": "overlay",
              "size": 10,
              "solidity": 0.2
             }
            },
            "type": "histogram"
           }
          ],
          "histogram2d": [
           {
            "colorbar": {
             "outlinewidth": 0,
             "ticks": ""
            },
            "colorscale": [
             [
              0,
              "#0d0887"
             ],
             [
              0.1111111111111111,
              "#46039f"
             ],
             [
              0.2222222222222222,
              "#7201a8"
             ],
             [
              0.3333333333333333,
              "#9c179e"
             ],
             [
              0.4444444444444444,
              "#bd3786"
             ],
             [
              0.5555555555555556,
              "#d8576b"
             ],
             [
              0.6666666666666666,
              "#ed7953"
             ],
             [
              0.7777777777777778,
              "#fb9f3a"
             ],
             [
              0.8888888888888888,
              "#fdca26"
             ],
             [
              1,
              "#f0f921"
             ]
            ],
            "type": "histogram2d"
           }
          ],
          "histogram2dcontour": [
           {
            "colorbar": {
             "outlinewidth": 0,
             "ticks": ""
            },
            "colorscale": [
             [
              0,
              "#0d0887"
             ],
             [
              0.1111111111111111,
              "#46039f"
             ],
             [
              0.2222222222222222,
              "#7201a8"
             ],
             [
              0.3333333333333333,
              "#9c179e"
             ],
             [
              0.4444444444444444,
              "#bd3786"
             ],
             [
              0.5555555555555556,
              "#d8576b"
             ],
             [
              0.6666666666666666,
              "#ed7953"
             ],
             [
              0.7777777777777778,
              "#fb9f3a"
             ],
             [
              0.8888888888888888,
              "#fdca26"
             ],
             [
              1,
              "#f0f921"
             ]
            ],
            "type": "histogram2dcontour"
           }
          ],
          "mesh3d": [
           {
            "colorbar": {
             "outlinewidth": 0,
             "ticks": ""
            },
            "type": "mesh3d"
           }
          ],
          "parcoords": [
           {
            "line": {
             "colorbar": {
              "outlinewidth": 0,
              "ticks": ""
             }
            },
            "type": "parcoords"
           }
          ],
          "pie": [
           {
            "automargin": true,
            "type": "pie"
           }
          ],
          "scatter": [
           {
            "fillpattern": {
             "fillmode": "overlay",
             "size": 10,
             "solidity": 0.2
            },
            "type": "scatter"
           }
          ],
          "scatter3d": [
           {
            "line": {
             "colorbar": {
              "outlinewidth": 0,
              "ticks": ""
             }
            },
            "marker": {
             "colorbar": {
              "outlinewidth": 0,
              "ticks": ""
             }
            },
            "type": "scatter3d"
           }
          ],
          "scattercarpet": [
           {
            "marker": {
             "colorbar": {
              "outlinewidth": 0,
              "ticks": ""
             }
            },
            "type": "scattercarpet"
           }
          ],
          "scattergeo": [
           {
            "marker": {
             "colorbar": {
              "outlinewidth": 0,
              "ticks": ""
             }
            },
            "type": "scattergeo"
           }
          ],
          "scattergl": [
           {
            "marker": {
             "colorbar": {
              "outlinewidth": 0,
              "ticks": ""
             }
            },
            "type": "scattergl"
           }
          ],
          "scattermapbox": [
           {
            "marker": {
             "colorbar": {
              "outlinewidth": 0,
              "ticks": ""
             }
            },
            "type": "scattermapbox"
           }
          ],
          "scatterpolar": [
           {
            "marker": {
             "colorbar": {
              "outlinewidth": 0,
              "ticks": ""
             }
            },
            "type": "scatterpolar"
           }
          ],
          "scatterpolargl": [
           {
            "marker": {
             "colorbar": {
              "outlinewidth": 0,
              "ticks": ""
             }
            },
            "type": "scatterpolargl"
           }
          ],
          "scatterternary": [
           {
            "marker": {
             "colorbar": {
              "outlinewidth": 0,
              "ticks": ""
             }
            },
            "type": "scatterternary"
           }
          ],
          "surface": [
           {
            "colorbar": {
             "outlinewidth": 0,
             "ticks": ""
            },
            "colorscale": [
             [
              0,
              "#0d0887"
             ],
             [
              0.1111111111111111,
              "#46039f"
             ],
             [
              0.2222222222222222,
              "#7201a8"
             ],
             [
              0.3333333333333333,
              "#9c179e"
             ],
             [
              0.4444444444444444,
              "#bd3786"
             ],
             [
              0.5555555555555556,
              "#d8576b"
             ],
             [
              0.6666666666666666,
              "#ed7953"
             ],
             [
              0.7777777777777778,
              "#fb9f3a"
             ],
             [
              0.8888888888888888,
              "#fdca26"
             ],
             [
              1,
              "#f0f921"
             ]
            ],
            "type": "surface"
           }
          ],
          "table": [
           {
            "cells": {
             "fill": {
              "color": "#EBF0F8"
             },
             "line": {
              "color": "white"
             }
            },
            "header": {
             "fill": {
              "color": "#C8D4E3"
             },
             "line": {
              "color": "white"
             }
            },
            "type": "table"
           }
          ]
         },
         "layout": {
          "annotationdefaults": {
           "arrowcolor": "#2a3f5f",
           "arrowhead": 0,
           "arrowwidth": 1
          },
          "autotypenumbers": "strict",
          "coloraxis": {
           "colorbar": {
            "outlinewidth": 0,
            "ticks": ""
           }
          },
          "colorscale": {
           "diverging": [
            [
             0,
             "#8e0152"
            ],
            [
             0.1,
             "#c51b7d"
            ],
            [
             0.2,
             "#de77ae"
            ],
            [
             0.3,
             "#f1b6da"
            ],
            [
             0.4,
             "#fde0ef"
            ],
            [
             0.5,
             "#f7f7f7"
            ],
            [
             0.6,
             "#e6f5d0"
            ],
            [
             0.7,
             "#b8e186"
            ],
            [
             0.8,
             "#7fbc41"
            ],
            [
             0.9,
             "#4d9221"
            ],
            [
             1,
             "#276419"
            ]
           ],
           "sequential": [
            [
             0,
             "#0d0887"
            ],
            [
             0.1111111111111111,
             "#46039f"
            ],
            [
             0.2222222222222222,
             "#7201a8"
            ],
            [
             0.3333333333333333,
             "#9c179e"
            ],
            [
             0.4444444444444444,
             "#bd3786"
            ],
            [
             0.5555555555555556,
             "#d8576b"
            ],
            [
             0.6666666666666666,
             "#ed7953"
            ],
            [
             0.7777777777777778,
             "#fb9f3a"
            ],
            [
             0.8888888888888888,
             "#fdca26"
            ],
            [
             1,
             "#f0f921"
            ]
           ],
           "sequentialminus": [
            [
             0,
             "#0d0887"
            ],
            [
             0.1111111111111111,
             "#46039f"
            ],
            [
             0.2222222222222222,
             "#7201a8"
            ],
            [
             0.3333333333333333,
             "#9c179e"
            ],
            [
             0.4444444444444444,
             "#bd3786"
            ],
            [
             0.5555555555555556,
             "#d8576b"
            ],
            [
             0.6666666666666666,
             "#ed7953"
            ],
            [
             0.7777777777777778,
             "#fb9f3a"
            ],
            [
             0.8888888888888888,
             "#fdca26"
            ],
            [
             1,
             "#f0f921"
            ]
           ]
          },
          "colorway": [
           "#636efa",
           "#EF553B",
           "#00cc96",
           "#ab63fa",
           "#FFA15A",
           "#19d3f3",
           "#FF6692",
           "#B6E880",
           "#FF97FF",
           "#FECB52"
          ],
          "font": {
           "color": "#2a3f5f"
          },
          "geo": {
           "bgcolor": "white",
           "lakecolor": "white",
           "landcolor": "#E5ECF6",
           "showlakes": true,
           "showland": true,
           "subunitcolor": "white"
          },
          "hoverlabel": {
           "align": "left"
          },
          "hovermode": "closest",
          "mapbox": {
           "style": "light"
          },
          "paper_bgcolor": "white",
          "plot_bgcolor": "#E5ECF6",
          "polar": {
           "angularaxis": {
            "gridcolor": "white",
            "linecolor": "white",
            "ticks": ""
           },
           "bgcolor": "#E5ECF6",
           "radialaxis": {
            "gridcolor": "white",
            "linecolor": "white",
            "ticks": ""
           }
          },
          "scene": {
           "xaxis": {
            "backgroundcolor": "#E5ECF6",
            "gridcolor": "white",
            "gridwidth": 2,
            "linecolor": "white",
            "showbackground": true,
            "ticks": "",
            "zerolinecolor": "white"
           },
           "yaxis": {
            "backgroundcolor": "#E5ECF6",
            "gridcolor": "white",
            "gridwidth": 2,
            "linecolor": "white",
            "showbackground": true,
            "ticks": "",
            "zerolinecolor": "white"
           },
           "zaxis": {
            "backgroundcolor": "#E5ECF6",
            "gridcolor": "white",
            "gridwidth": 2,
            "linecolor": "white",
            "showbackground": true,
            "ticks": "",
            "zerolinecolor": "white"
           }
          },
          "shapedefaults": {
           "line": {
            "color": "#2a3f5f"
           }
          },
          "ternary": {
           "aaxis": {
            "gridcolor": "white",
            "linecolor": "white",
            "ticks": ""
           },
           "baxis": {
            "gridcolor": "white",
            "linecolor": "white",
            "ticks": ""
           },
           "bgcolor": "#E5ECF6",
           "caxis": {
            "gridcolor": "white",
            "linecolor": "white",
            "ticks": ""
           }
          },
          "title": {
           "x": 0.05
          },
          "xaxis": {
           "automargin": true,
           "gridcolor": "white",
           "linecolor": "white",
           "ticks": "",
           "title": {
            "standoff": 15
           },
           "zerolinecolor": "white",
           "zerolinewidth": 2
          },
          "yaxis": {
           "automargin": true,
           "gridcolor": "white",
           "linecolor": "white",
           "ticks": "",
           "title": {
            "standoff": 15
           },
           "zerolinecolor": "white",
           "zerolinewidth": 2
          }
         }
        },
        "title": {
         "text": "若築建設(1888)株価ローソクチャートと出来高2023-01-27 ～ 2023-03-31"
        },
        "xaxis": {
         "anchor": "y",
         "autorange": true,
         "domain": [
          0,
          1
         ],
         "matches": "x2",
         "range": [
          -0.5,
          43.5
         ],
         "rangeslider": {
          "visible": false,
          "yaxis": {}
         },
         "showticklabels": false,
         "type": "category"
        },
        "xaxis2": {
         "anchor": "y2",
         "autorange": true,
         "domain": [
          0,
          1
         ],
         "range": [
          -0.5,
          43.5
         ],
         "tickangle": 45,
         "tickvals": [
          "2023-01-27",
          "2023-02-02",
          "2023-02-08",
          "2023-02-14",
          "2023-02-20",
          "2023-02-27",
          "2023-03-03",
          "2023-03-09",
          "2023-03-15",
          "2023-03-22",
          "2023-03-28"
         ],
         "title": {
          "text": "取引日"
         },
         "type": "category"
        },
        "yaxis": {
         "anchor": "x",
         "autorange": true,
         "domain": [
          0.2461538461538461,
          0.9999999999999998
         ],
         "range": [
          2847.222222222222,
          3902.777777777778
         ],
         "title": {
          "text": "株価"
         }
        },
        "yaxis2": {
         "anchor": "x2",
         "autorange": true,
         "domain": [
          0,
          0.22615384615384612
         ],
         "range": [
          0,
          96736.84210526316
         ],
         "title": {
          "text": "出来高"
         },
         "type": "linear"
        }
       }
      },
      "image/png": "[encoded data removed]",
      "text/html": [
       "<div>                            <div id=\"af9de8ee-8c55-4322-860a-5aed72ce2d36\" class=\"plotly-graph-div\" style=\"height:600px; width:100%;\"></div>            <script type=\"text/javascript\">                require([\"plotly\"], function(Plotly) {                    window.PLOTLYENV=window.PLOTLYENV || {};                                    if (document.getElementById(\"af9de8ee-8c55-4322-860a-5aed72ce2d36\")) {                    Plotly.newPlot(                        \"af9de8ee-8c55-4322-860a-5aed72ce2d36\",                        [{\"close\":[3040.0,3010.0,3025.0,3010.0,3010.0,2983.0,3005.0,2992.0,3020.0,2981.0,3010.0,3040.0,3085.0,3040.0,2991.0,3035.0,2998.0,3020.0,3010.0,3105.0,3140.0,3155.0,3140.0,3155.0,3350.0,3370.0,3385.0,3460.0,3505.0,3560.0,3625.0,3555.0,3745.0,3590.0,3615.0,3480.0,3655.0,3565.0,3670.0,3655.0,3690.0,3700.0,3740.0,3820.0],\"high\":[3060.0,3070.0,3065.0,3065.0,3055.0,2995.0,3020.0,3040.0,3055.0,3015.0,3030.0,3075.0,3120.0,3095.0,3065.0,3040.0,3065.0,3040.0,3010.0,3140.0,3145.0,3175.0,3150.0,3185.0,3370.0,3375.0,3410.0,3475.0,3540.0,3595.0,3625.0,3610.0,3750.0,3710.0,3655.0,3615.0,3685.0,3600.0,3675.0,3690.0,3710.0,3755.0,3765.0,3850.0],\"low\":[2929.0,2970.0,3010.0,3010.0,3005.0,2940.0,2966.0,2984.0,2992.0,2972.0,2965.0,2900.0,3040.0,3040.0,2991.0,2975.0,2998.0,3010.0,2976.0,3030.0,3120.0,3100.0,3120.0,3130.0,3155.0,3285.0,3325.0,3370.0,3440.0,3460.0,3480.0,3420.0,3555.0,3585.0,3595.0,3475.0,3575.0,3525.0,3570.0,3620.0,3595.0,3665.0,3600.0,3715.0],\"name\":\"\\u682a\\u4fa1\",\"open\":[2929.0,3055.0,3010.0,3065.0,3010.0,2995.0,2966.0,3005.0,2992.0,2992.0,2974.0,2979.0,3070.0,3085.0,3050.0,2977.0,3035.0,3025.0,2991.0,3035.0,3125.0,3115.0,3145.0,3140.0,3155.0,3370.0,3340.0,3370.0,3460.0,3500.0,3565.0,3610.0,3575.0,3605.0,3605.0,3590.0,3590.0,3595.0,3605.0,3685.0,3665.0,3685.0,3600.0,3755.0],\"x\":[\"2023-01-27\",\"2023-01-30\",\"2023-01-31\",\"2023-02-01\",\"2023-02-02\",\"2023-02-03\",\"2023-02-06\",\"2023-02-07\",\"2023-02-08\",\"2023-02-09\",\"2023-02-10\",\"2023-02-13\",\"2023-02-14\",\"2023-02-15\",\"2023-02-16\",\"2023-02-17\",\"2023-02-20\",\"2023-02-21\",\"2023-02-22\",\"2023-02-24\",\"2023-02-27\",\"2023-02-28\",\"2023-03-01\",\"2023-03-02\",\"2023-03-03\",\"2023-03-06\",\"2023-03-07\",\"2023-03-08\",\"2023-03-09\",\"2023-03-10\",\"2023-03-13\",\"2023-03-14\",\"2023-03-15\",\"2023-03-16\",\"2023-03-17\",\"2023-03-20\",\"2023-03-22\",\"2023-03-23\",\"2023-03-24\",\"2023-03-27\",\"2023-03-28\",\"2023-03-29\",\"2023-03-30\",\"2023-03-31\"],\"type\":\"candlestick\",\"xaxis\":\"x\",\"yaxis\":\"y\"},{\"marker\":{\"color\":\"blue\"},\"name\":\"\\u51fa\\u6765\\u9ad8\",\"x\":[\"2023-01-27\",\"2023-01-30\",\"2023-01-31\",\"2023-02-01\",\"2023-02-02\",\"2023-02-03\",\"2023-02-06\",\"2023-02-07\",\"2023-02-08\",\"2023-02-09\",\"2023-02-10\",\"2023-02-13\",\"2023-02-14\",\"2023-02-15\",\"2023-02-16\",\"2023-02-17\",\"2023-02-20\",\"2023-02-21\",\"2023-02-22\",\"2023-02-24\",\"2023-02-27\",\"2023-02-28\",\"2023-03-01\",\"2023-03-02\",\"2023-03-03\",\"2023-03-06\",\"2023-03-07\",\"2023-03-08\",\"2023-03-09\",\"2023-03-10\",\"2023-03-13\",\"2023-03-14\",\"2023-03-15\",\"2023-03-16\",\"2023-03-17\",\"2023-03-20\",\"2023-03-22\",\"2023-03-23\",\"2023-03-24\",\"2023-03-27\",\"2023-03-28\",\"2023-03-29\",\"2023-03-30\",\"2023-03-31\"],\"y\":[72300.0,47900.0,14800.0,10400.0,10400.0,23600.0,15000.0,25900.0,19500.0,18100.0,17400.0,40900.0,40600.0,11600.0,11100.0,34900.0,11100.0,9400.0,16400.0,48800.0,23700.0,30000.0,7700.0,10700.0,91900.0,33700.0,24900.0,33000.0,62900.0,90600.0,67600.0,59400.0,80600.0,53000.0,28200.0,22200.0,31300.0,17800.0,31400.0,27600.0,48100.0,41900.0,34000.0,39500.0],\"type\":\"bar\",\"xaxis\":\"x2\",\"yaxis\":\"y2\"}],                        {\"template\":{\"data\":{\"histogram2dcontour\":[{\"type\":\"histogram2dcontour\",\"colorbar\":{\"outlinewidth\":0,\"ticks\":\"\"},\"colorscale\":[[0.0,\"#0d0887\"],[0.1111111111111111,\"#46039f\"],[0.2222222222222222,\"#7201a8\"],[0.3333333333333333,\"#9c179e\"],[0.4444444444444444,\"#bd3786\"],[0.5555555555555556,\"#d8576b\"],[0.6666666666666666,\"#ed7953\"],[0.7777777777777778,\"#fb9f3a\"],[0.8888888888888888,\"#fdca26\"],[1.0,\"#f0f921\"]]}],\"choropleth\":[{\"type\":\"choropleth\",\"colorbar\":{\"outlinewidth\":0,\"ticks\":\"\"}}],\"histogram2d\":[{\"type\":\"histogram2d\",\"colorbar\":{\"outlinewidth\":0,\"ticks\":\"\"},\"colorscale\":[[0.0,\"#0d0887\"],[0.1111111111111111,\"#46039f\"],[0.2222222222222222,\"#7201a8\"],[0.3333333333333333,\"#9c179e\"],[0.4444444444444444,\"#bd3786\"],[0.5555555555555556,\"#d8576b\"],[0.6666666666666666,\"#ed7953\"],[0.7777777777777778,\"#fb9f3a\"],[0.8888888888888888,\"#fdca26\"],[1.0,\"#f0f921\"]]}],\"heatmap\":[{\"type\":\"heatmap\",\"colorbar\":{\"outlinewidth\":0,\"ticks\":\"\"},\"colorscale\":[[0.0,\"#0d0887\"],[0.1111111111111111,\"#46039f\"],[0.2222222222222222,\"#7201a8\"],[0.3333333333333333,\"#9c179e\"],[0.4444444444444444,\"#bd3786\"],[0.5555555555555556,\"#d8576b\"],[0.6666666666666666,\"#ed7953\"],[0.7777777777777778,\"#fb9f3a\"],[0.8888888888888888,\"#fdca26\"],[1.0,\"#f0f921\"]]}],\"heatmapgl\":[{\"type\":\"heatmapgl\",\"colorbar\":{\"outlinewidth\":0,\"ticks\":\"\"},\"colorscale\":[[0.0,\"#0d0887\"],[0.1111111111111111,\"#46039f\"],[0.2222222222222222,\"#7201a8\"],[0.3333333333333333,\"#9c179e\"],[0.4444444444444444,\"#bd3786\"],[0.5555555555555556,\"#d8576b\"],[0.6666666666666666,\"#ed7953\"],[0.7777777777777778,\"#fb9f3a\"],[0.8888888888888888,\"#fdca26\"],[1.0,\"#f0f921\"]]}],\"contourcarpet\":[{\"type\":\"contourcarpet\",\"colorbar\":{\"outlinewidth\":0,\"ticks\":\"\"}}],\"contour\":[{\"type\":\"contour\",\"colorbar\":{\"outlinewidth\":0,\"ticks\":\"\"},\"colorscale\":[[0.0,\"#0d0887\"],[0.1111111111111111,\"#46039f\"],[0.2222222222222222,\"#7201a8\"],[0.3333333333333333,\"#9c179e\"],[0.4444444444444444,\"#bd3786\"],[0.5555555555555556,\"#d8576b\"],[0.6666666666666666,\"#ed7953\"],[0.7777777777777778,\"#fb9f3a\"],[0.8888888888888888,\"#fdca26\"],[1.0,\"#f0f921\"]]}],\"surface\":[{\"type\":\"surface\",\"colorbar\":{\"outlinewidth\":0,\"ticks\":\"\"},\"colorscale\":[[0.0,\"#0d0887\"],[0.1111111111111111,\"#46039f\"],[0.2222222222222222,\"#7201a8\"],[0.3333333333333333,\"#9c179e\"],[0.4444444444444444,\"#bd3786\"],[0.5555555555555556,\"#d8576b\"],[0.6666666666666666,\"#ed7953\"],[0.7777777777777778,\"#fb9f3a\"],[0.8888888888888888,\"#fdca26\"],[1.0,\"#f0f921\"]]}],\"mesh3d\":[{\"type\":\"mesh3d\",\"colorbar\":{\"outlinewidth\":0,\"ticks\":\"\"}}],\"scatter\":[{\"fillpattern\":{\"fillmode\":\"overlay\",\"size\":10,\"solidity\":0.2},\"type\":\"scatter\"}],\"parcoords\":[{\"type\":\"parcoords\",\"line\":{\"colorbar\":{\"outlinewidth\":0,\"ticks\":\"\"}}}],\"scatterpolargl\":[{\"type\":\"scatterpolargl\",\"marker\":{\"colorbar\":{\"outlinewidth\":0,\"ticks\":\"\"}}}],\"bar\":[{\"error_x\":{\"color\":\"#2a3f5f\"},\"error_y\":{\"color\":\"#2a3f5f\"},\"marker\":{\"line\":{\"color\":\"#E5ECF6\",\"width\":0.5},\"pattern\":{\"fillmode\":\"overlay\",\"size\":10,\"solidity\":0.2}},\"type\":\"bar\"}],\"scattergeo\":[{\"type\":\"scattergeo\",\"marker\":{\"colorbar\":{\"outlinewidth\":0,\"ticks\":\"\"}}}],\"scatterpolar\":[{\"type\":\"scatterpolar\",\"marker\":{\"colorbar\":{\"outlinewidth\":0,\"ticks\":\"\"}}}],\"histogram\":[{\"marker\":{\"pattern\":{\"fillmode\":\"overlay\",\"size\":10,\"solidity\":0.2}},\"type\":\"histogram\"}],\"scattergl\":[{\"type\":\"scattergl\",\"marker\":{\"colorbar\":{\"outlinewidth\":0,\"ticks\":\"\"}}}],\"scatter3d\":[{\"type\":\"scatter3d\",\"line\":{\"colorbar\":{\"outlinewidth\":0,\"ticks\":\"\"}},\"marker\":{\"colorbar\":{\"outlinewidth\":0,\"ticks\":\"\"}}}],\"scattermapbox\":[{\"type\":\"scattermapbox\",\"marker\":{\"colorbar\":{\"outlinewidth\":0,\"ticks\":\"\"}}}],\"scatterternary\":[{\"type\":\"scatterternary\",\"marker\":{\"colorbar\":{\"outlinewidth\":0,\"ticks\":\"\"}}}],\"scattercarpet\":[{\"type\":\"scattercarpet\",\"marker\":{\"colorbar\":{\"outlinewidth\":0,\"ticks\":\"\"}}}],\"carpet\":[{\"aaxis\":{\"endlinecolor\":\"#2a3f5f\",\"gridcolor\":\"white\",\"linecolor\":\"white\",\"minorgridcolor\":\"white\",\"startlinecolor\":\"#2a3f5f\"},\"baxis\":{\"endlinecolor\":\"#2a3f5f\",\"gridcolor\":\"white\",\"linecolor\":\"white\",\"minorgridcolor\":\"white\",\"startlinecolor\":\"#2a3f5f\"},\"type\":\"carpet\"}],\"table\":[{\"cells\":{\"fill\":{\"color\":\"#EBF0F8\"},\"line\":{\"color\":\"white\"}},\"header\":{\"fill\":{\"color\":\"#C8D4E3\"},\"line\":{\"color\":\"white\"}},\"type\":\"table\"}],\"barpolar\":[{\"marker\":{\"line\":{\"color\":\"#E5ECF6\",\"width\":0.5},\"pattern\":{\"fillmode\":\"overlay\",\"size\":10,\"solidity\":0.2}},\"type\":\"barpolar\"}],\"pie\":[{\"automargin\":true,\"type\":\"pie\"}]},\"layout\":{\"autotypenumbers\":\"strict\",\"colorway\":[\"#636efa\",\"#EF553B\",\"#00cc96\",\"#ab63fa\",\"#FFA15A\",\"#19d3f3\",\"#FF6692\",\"#B6E880\",\"#FF97FF\",\"#FECB52\"],\"font\":{\"color\":\"#2a3f5f\"},\"hovermode\":\"closest\",\"hoverlabel\":{\"align\":\"left\"},\"paper_bgcolor\":\"white\",\"plot_bgcolor\":\"#E5ECF6\",\"polar\":{\"bgcolor\":\"#E5ECF6\",\"angularaxis\":{\"gridcolor\":\"white\",\"linecolor\":\"white\",\"ticks\":\"\"},\"radialaxis\":{\"gridcolor\":\"white\",\"linecolor\":\"white\",\"ticks\":\"\"}},\"ternary\":{\"bgcolor\":\"#E5ECF6\",\"aaxis\":{\"gridcolor\":\"white\",\"linecolor\":\"white\",\"ticks\":\"\"},\"baxis\":{\"gridcolor\":\"white\",\"linecolor\":\"white\",\"ticks\":\"\"},\"caxis\":{\"gridcolor\":\"white\",\"linecolor\":\"white\",\"ticks\":\"\"}},\"coloraxis\":{\"colorbar\":{\"outlinewidth\":0,\"ticks\":\"\"}},\"colorscale\":{\"sequential\":[[0.0,\"#0d0887\"],[0.1111111111111111,\"#46039f\"],[0.2222222222222222,\"#7201a8\"],[0.3333333333333333,\"#9c179e\"],[0.4444444444444444,\"#bd3786\"],[0.5555555555555556,\"#d8576b\"],[0.6666666666666666,\"#ed7953\"],[0.7777777777777778,\"#fb9f3a\"],[0.8888888888888888,\"#fdca26\"],[1.0,\"#f0f921\"]],\"sequentialminus\":[[0.0,\"#0d0887\"],[0.1111111111111111,\"#46039f\"],[0.2222222222222222,\"#7201a8\"],[0.3333333333333333,\"#9c179e\"],[0.4444444444444444,\"#bd3786\"],[0.5555555555555556,\"#d8576b\"],[0.6666666666666666,\"#ed7953\"],[0.7777777777777778,\"#fb9f3a\"],[0.8888888888888888,\"#fdca26\"],[1.0,\"#f0f921\"]],\"diverging\":[[0,\"#8e0152\"],[0.1,\"#c51b7d\"],[0.2,\"#de77ae\"],[0.3,\"#f1b6da\"],[0.4,\"#fde0ef\"],[0.5,\"#f7f7f7\"],[0.6,\"#e6f5d0\"],[0.7,\"#b8e186\"],[0.8,\"#7fbc41\"],[0.9,\"#4d9221\"],[1,\"#276419\"]]},\"xaxis\":{\"gridcolor\":\"white\",\"linecolor\":\"white\",\"ticks\":\"\",\"title\":{\"standoff\":15},\"zerolinecolor\":\"white\",\"automargin\":true,\"zerolinewidth\":2},\"yaxis\":{\"gridcolor\":\"white\",\"linecolor\":\"white\",\"ticks\":\"\",\"title\":{\"standoff\":15},\"zerolinecolor\":\"white\",\"automargin\":true,\"zerolinewidth\":2},\"scene\":{\"xaxis\":{\"backgroundcolor\":\"#E5ECF6\",\"gridcolor\":\"white\",\"linecolor\":\"white\",\"showbackground\":true,\"ticks\":\"\",\"zerolinecolor\":\"white\",\"gridwidth\":2},\"yaxis\":{\"backgroundcolor\":\"#E5ECF6\",\"gridcolor\":\"white\",\"linecolor\":\"white\",\"showbackground\":true,\"ticks\":\"\",\"zerolinecolor\":\"white\",\"gridwidth\":2},\"zaxis\":{\"backgroundcolor\":\"#E5ECF6\",\"gridcolor\":\"white\",\"linecolor\":\"white\",\"showbackground\":true,\"ticks\":\"\",\"zerolinecolor\":\"white\",\"gridwidth\":2}},\"shapedefaults\":{\"line\":{\"color\":\"#2a3f5f\"}},\"annotationdefaults\":{\"arrowcolor\":\"#2a3f5f\",\"arrowhead\":0,\"arrowwidth\":1},\"geo\":{\"bgcolor\":\"white\",\"landcolor\":\"#E5ECF6\",\"subunitcolor\":\"white\",\"showland\":true,\"showlakes\":true,\"lakecolor\":\"white\"},\"title\":{\"x\":0.05},\"mapbox\":{\"style\":\"light\"}}},\"xaxis\":{\"anchor\":\"y\",\"domain\":[0.0,1.0],\"matches\":\"x2\",\"showticklabels\":false,\"rangeslider\":{\"visible\":false},\"type\":\"category\"},\"yaxis\":{\"anchor\":\"x\",\"domain\":[0.2461538461538461,0.9999999999999998],\"title\":{\"text\":\"\\u682a\\u4fa1\"}},\"xaxis2\":{\"anchor\":\"y2\",\"domain\":[0.0,1.0],\"title\":{\"text\":\"\\u53d6\\u5f15\\u65e5\"},\"type\":\"category\",\"tickvals\":[\"2023-01-27\",\"2023-02-02\",\"2023-02-08\",\"2023-02-14\",\"2023-02-20\",\"2023-02-27\",\"2023-03-03\",\"2023-03-09\",\"2023-03-15\",\"2023-03-22\",\"2023-03-28\"],\"tickangle\":45},\"yaxis2\":{\"anchor\":\"x2\",\"domain\":[0.0,0.22615384615384612],\"title\":{\"text\":\"\\u51fa\\u6765\\u9ad8\"}},\"title\":{\"text\":\"\\u82e5\\u7bc9\\u5efa\\u8a2d(1888)\\u682a\\u4fa1\\u30ed\\u30fc\\u30bd\\u30af\\u30c1\\u30e3\\u30fc\\u30c8\\u3068\\u51fa\\u6765\\u9ad82023-01-27 \\uff5e 2023-03-31\"},\"height\":600,\"shapes\":[{\"line\":{\"color\":\"grey\",\"width\":1},\"opacity\":0.5,\"type\":\"line\",\"x0\":\"2023-01-27\",\"x1\":\"2023-01-27\",\"xref\":\"x\",\"y0\":0,\"y1\":1,\"yref\":\"y domain\"},{\"line\":{\"color\":\"grey\",\"width\":1},\"opacity\":0.5,\"type\":\"line\",\"x0\":\"2023-01-27\",\"x1\":\"2023-01-27\",\"xref\":\"x2\",\"y0\":0,\"y1\":1,\"yref\":\"y2 domain\"},{\"line\":{\"color\":\"grey\",\"width\":1},\"opacity\":0.5,\"type\":\"line\",\"x0\":\"2023-02-03\",\"x1\":\"2023-02-03\",\"xref\":\"x\",\"y0\":0,\"y1\":1,\"yref\":\"y domain\"},{\"line\":{\"color\":\"grey\",\"width\":1},\"opacity\":0.5,\"type\":\"line\",\"x0\":\"2023-02-03\",\"x1\":\"2023-02-03\",\"xref\":\"x2\",\"y0\":0,\"y1\":1,\"yref\":\"y2 domain\"},{\"line\":{\"color\":\"grey\",\"width\":1},\"opacity\":0.5,\"type\":\"line\",\"x0\":\"2023-02-10\",\"x1\":\"2023-02-10\",\"xref\":\"x\",\"y0\":0,\"y1\":1,\"yref\":\"y domain\"},{\"line\":{\"color\":\"grey\",\"width\":1},\"opacity\":0.5,\"type\":\"line\",\"x0\":\"2023-02-10\",\"x1\":\"2023-02-10\",\"xref\":\"x2\",\"y0\":0,\"y1\":1,\"yref\":\"y2 domain\"},{\"line\":{\"color\":\"grey\",\"width\":1},\"opacity\":0.5,\"type\":\"line\",\"x0\":\"2023-02-17\",\"x1\":\"2023-02-17\",\"xref\":\"x\",\"y0\":0,\"y1\":1,\"yref\":\"y domain\"},{\"line\":{\"color\":\"grey\",\"width\":1},\"opacity\":0.5,\"type\":\"line\",\"x0\":\"2023-02-17\",\"x1\":\"2023-02-17\",\"xref\":\"x2\",\"y0\":0,\"y1\":1,\"yref\":\"y2 domain\"},{\"line\":{\"color\":\"grey\",\"width\":1},\"opacity\":0.5,\"type\":\"line\",\"x0\":\"2023-02-24\",\"x1\":\"2023-02-24\",\"xref\":\"x\",\"y0\":0,\"y1\":1,\"yref\":\"y domain\"},{\"line\":{\"color\":\"grey\",\"width\":1},\"opacity\":0.5,\"type\":\"line\",\"x0\":\"2023-02-24\",\"x1\":\"2023-02-24\",\"xref\":\"x2\",\"y0\":0,\"y1\":1,\"yref\":\"y2 domain\"},{\"line\":{\"color\":\"grey\",\"width\":1},\"opacity\":0.5,\"type\":\"line\",\"x0\":\"2023-03-03\",\"x1\":\"2023-03-03\",\"xref\":\"x\",\"y0\":0,\"y1\":1,\"yref\":\"y domain\"},{\"line\":{\"color\":\"grey\",\"width\":1},\"opacity\":0.5,\"type\":\"line\",\"x0\":\"2023-03-03\",\"x1\":\"2023-03-03\",\"xref\":\"x2\",\"y0\":0,\"y1\":1,\"yref\":\"y2 domain\"},{\"line\":{\"color\":\"grey\",\"width\":1},\"opacity\":0.5,\"type\":\"line\",\"x0\":\"2023-03-10\",\"x1\":\"2023-03-10\",\"xref\":\"x\",\"y0\":0,\"y1\":1,\"yref\":\"y domain\"},{\"line\":{\"color\":\"grey\",\"width\":1},\"opacity\":0.5,\"type\":\"line\",\"x0\":\"2023-03-10\",\"x1\":\"2023-03-10\",\"xref\":\"x2\",\"y0\":0,\"y1\":1,\"yref\":\"y2 domain\"},{\"line\":{\"color\":\"grey\",\"width\":1},\"opacity\":0.5,\"type\":\"line\",\"x0\":\"2023-03-17\",\"x1\":\"2023-03-17\",\"xref\":\"x\",\"y0\":0,\"y1\":1,\"yref\":\"y domain\"},{\"line\":{\"color\":\"grey\",\"width\":1},\"opacity\":0.5,\"type\":\"line\",\"x0\":\"2023-03-17\",\"x1\":\"2023-03-17\",\"xref\":\"x2\",\"y0\":0,\"y1\":1,\"yref\":\"y2 domain\"},{\"line\":{\"color\":\"grey\",\"width\":1},\"opacity\":0.5,\"type\":\"line\",\"x0\":\"2023-03-24\",\"x1\":\"2023-03-24\",\"xref\":\"x\",\"y0\":0,\"y1\":1,\"yref\":\"y domain\"},{\"line\":{\"color\":\"grey\",\"width\":1},\"opacity\":0.5,\"type\":\"line\",\"x0\":\"2023-03-24\",\"x1\":\"2023-03-24\",\"xref\":\"x2\",\"y0\":0,\"y1\":1,\"yref\":\"y2 domain\"},{\"line\":{\"color\":\"grey\",\"width\":1},\"opacity\":0.5,\"type\":\"line\",\"x0\":\"2023-03-31\",\"x1\":\"2023-03-31\",\"xref\":\"x\",\"y0\":0,\"y1\":1,\"yref\":\"y domain\"},{\"line\":{\"color\":\"grey\",\"width\":1},\"opacity\":0.5,\"type\":\"line\",\"x0\":\"2023-03-31\",\"x1\":\"2023-03-31\",\"xref\":\"x2\",\"y0\":0,\"y1\":1,\"yref\":\"y2 domain\"},{\"line\":{\"color\":\"red\",\"width\":1},\"opacity\":0.5,\"type\":\"line\",\"x0\":\"2023-03-03\",\"x1\":\"2023-03-03\",\"xref\":\"x\",\"y0\":0,\"y1\":1,\"yref\":\"y domain\"},{\"line\":{\"color\":\"red\",\"width\":1},\"opacity\":0.5,\"type\":\"line\",\"x0\":\"2023-03-03\",\"x1\":\"2023-03-03\",\"xref\":\"x2\",\"y0\":0,\"y1\":1,\"yref\":\"y2 domain\"}]},                        {\"responsive\": true}                    ).then(function(){\n",
       "                            \n",
       "var gd = document.getElementById('af9de8ee-8c55-4322-860a-5aed72ce2d36');\n",
       "var x = new MutationObserver(function (mutations, observer) {{\n",
       "        var display = window.getComputedStyle(gd).display;\n",
       "        if (!display || display === 'none') {{\n",
       "            console.log([gd, 'removed!']);\n",
       "            Plotly.purge(gd);\n",
       "            observer.disconnect();\n",
       "        }}\n",
       "}});\n",
       "\n",
       "// Listen for the removal of the full notebook cells\n",
       "var notebookContainer = gd.closest('#notebook-container');\n",
       "if (notebookContainer) {{\n",
       "    x.observe(notebookContainer, {childList: true});\n",
       "}}\n",
       "\n",
       "// Listen for the clearing of the current output cell\n",
       "var outputEl = gd.closest('.output');\n",
       "if (outputEl) {{\n",
       "    x.observe(outputEl, {childList: true});\n",
       "}}\n",
       "\n",
       "                        })                };                });            </script>        </div>"
      ]
     },
     "metadata": {},
     "output_type": "display_data"
    }
   ],
   "source": [
    "# 日足チャート\n",
    "start_date = dt - relativedelta(days = 7 * (weeks + 1))\n",
    "end_date = dt + relativedelta(days = 7 * weeks)\n",
    "PFIG = PricelistFig(code, start_date=start_date, end_date=end_date)\n",
    "\n",
    "# 週末にvline\n",
    "df = read_data(fp)\n",
    "RPL = PricelistPl(df)\n",
    "df = RPL.df\n",
    "df = df.filter(pl.col(\"code\")==code)\\\n",
    ".filter(pl.col(\"date\")>=start_date)\\\n",
    ".filter(pl.col(\"date\")<=end_date)\n",
    "RPL = PricelistPl(df)\n",
    "RPL.with_columns_weekid()\n",
    "pdf = RPL.df\n",
    "pdf = pdf.group_by([\"weekid\"]).agg([\n",
    "    pl.col(\"date\").last()\n",
    "]).sort(by=[\"weekid\"])\n",
    "vline_dates = pdf[\"date\"].to_list()\n",
    "#vline_dates.remove(dt)\n",
    "for d in vline_dates:\n",
    "    PFIG.add_vline(d)\n",
    "\n",
    "# 該当日にvline\n",
    "PFIG.add_vline(dt, color=\"red\")\n",
    "\n",
    "PFIG.fig.show()"
   ]
  },
  {
   "cell_type": "code",
   "execution_count": null,
   "id": "029b168d-4106-4953-afc7-513f8fe6dce3",
   "metadata": {},
   "outputs": [],
   "source": [
    "dt"
   ]
  },
  {
   "cell_type": "code",
   "execution_count": null,
   "id": "97e12683-0d2a-44a8-adb8-6b6572304ea8",
   "metadata": {},
   "outputs": [],
   "source": [
    "vline_dates"
   ]
  },
  {
   "cell_type": "code",
   "execution_count": null,
   "id": "1af4b69f-d8d7-45ca-85d4-b0311aec9f34",
   "metadata": {},
   "outputs": [],
   "source": []
  }
 ],
 "metadata": {
  "kernelspec": {
   "display_name": "Python 3 (ipykernel)",
   "language": "python",
   "name": "python3"
  },
  "language_info": {
   "codemirror_mode": {
    "name": "ipython",
    "version": 3
   },
   "file_extension": ".py",
   "mimetype": "text/x-python",
   "name": "python",
   "nbconvert_exporter": "python",
   "pygments_lexer": "ipython3",
   "version": "3.12.3"
  }
 },
 "nbformat": 4,
 "nbformat_minor": 5
}
