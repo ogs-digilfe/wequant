{
 "cells": [
  {
   "cell_type": "code",
   "execution_count": 1,
   "id": "53716c86-eff3-42bd-b77b-1e48dd73df9a",
   "metadata": {},
   "outputs": [],
   "source": [
    "# para\n",
    "target_year = 2024"
   ]
  },
  {
   "cell_type": "code",
   "execution_count": 2,
   "id": "e830364c-e7d3-4e98-8f87-0a8f82a52cac",
   "metadata": {},
   "outputs": [],
   "source": [
    "# 読み込みファイルパスの設定とimportしたいmoduleパス(pythonパス)の設定\n",
    "from pathlib import Path\n",
    "import os, sys\n",
    "\n",
    "CURRENT_DIR = Path(os.getcwd())\n",
    "PJ_DIR = CURRENT_DIR.parent.parent\n",
    "LIB_DIR = PJ_DIR / \"lib\"\n",
    "DATA_DIR = PJ_DIR / \"data\" \n",
    "\n",
    "sys.path.append(str(LIB_DIR))\n",
    "\n",
    "# notebook内で利用するmoduleのimport\n",
    "from lib_dataprocess import CreditbalancePl, PricelistPl, read_data, PricelistFig\n",
    "import polars as pl\n",
    "from datetime import date\n",
    "from dateutil.relativedelta import relativedelta"
   ]
  },
  {
   "cell_type": "code",
   "execution_count": 3,
   "id": "3deeba73-b68d-4071-96c9-32173db9a80b",
   "metadata": {},
   "outputs": [],
   "source": [
    "##### reviced_pricelistの加工"
   ]
  },
  {
   "cell_type": "code",
   "execution_count": 4,
   "id": "fb97102b-41c1-4d72-9ac8-8387009c5164",
   "metadata": {},
   "outputs": [
    {
     "data": {
      "text/html": [
       "<div><style>\n",
       ".dataframe > thead > tr,\n",
       ".dataframe > tbody > tr {\n",
       "  text-align: right;\n",
       "  white-space: pre-wrap;\n",
       "}\n",
       "</style>\n",
       "<small>shape: (973_294, 12)</small><table border=\"1\" class=\"dataframe\"><thead><tr><th>code</th><th>date</th><th>open</th><th>high</th><th>low</th><th>close</th><th>volume</th><th>accumulated_split_rate</th><th>zs25</th><th>daily_updown_rate</th><th>overnight_updown_rate</th><th>weekid</th></tr><tr><td>i64</td><td>date</td><td>f64</td><td>f64</td><td>f64</td><td>f64</td><td>f64</td><td>f64</td><td>f64</td><td>f64</td><td>f64</td><td>i16</td></tr></thead><tbody><tr><td>1301</td><td>2024-01-04</td><td>3775.0</td><td>3825.0</td><td>3755.0</td><td>3815.0</td><td>21400.0</td><td>1.0</td><td>0.87</td><td>1.06</td><td>0.39</td><td>0</td></tr><tr><td>1301</td><td>2024-01-05</td><td>3830.0</td><td>3870.0</td><td>3815.0</td><td>3850.0</td><td>16800.0</td><td>1.0</td><td>0.18</td><td>0.52</td><td>1.04</td><td>0</td></tr><tr><td>1301</td><td>2024-01-09</td><td>3890.0</td><td>3900.0</td><td>3865.0</td><td>3885.0</td><td>24500.0</td><td>1.0</td><td>1.2</td><td>-0.13</td><td>0.26</td><td>1</td></tr><tr><td>1301</td><td>2024-01-10</td><td>3895.0</td><td>3940.0</td><td>3895.0</td><td>3910.0</td><td>26400.0</td><td>1.0</td><td>1.34</td><td>0.39</td><td>0.64</td><td>1</td></tr><tr><td>1301</td><td>2024-01-11</td><td>3935.0</td><td>3945.0</td><td>3890.0</td><td>3890.0</td><td>24000.0</td><td>1.0</td><td>0.95</td><td>-1.14</td><td>-0.13</td><td>1</td></tr><tr><td>&hellip;</td><td>&hellip;</td><td>&hellip;</td><td>&hellip;</td><td>&hellip;</td><td>&hellip;</td><td>&hellip;</td><td>&hellip;</td><td>&hellip;</td><td>&hellip;</td><td>&hellip;</td><td>&hellip;</td></tr><tr><td>9997</td><td>2024-12-17</td><td>787.0</td><td>789.0</td><td>782.0</td><td>786.0</td><td>99400.0</td><td>1.0</td><td>-0.56</td><td>-0.13</td><td>0.0</td><td>50</td></tr><tr><td>9997</td><td>2024-12-18</td><td>786.0</td><td>787.0</td><td>774.0</td><td>776.0</td><td>119100.0</td><td>1.0</td><td>-0.21</td><td>-1.27</td><td>-1.29</td><td>50</td></tr><tr><td>9997</td><td>2024-12-19</td><td>766.0</td><td>780.0</td><td>763.0</td><td>780.0</td><td>160800.0</td><td>1.0</td><td>0.43</td><td>1.83</td><td>0.38</td><td>50</td></tr><tr><td>9997</td><td>2024-12-20</td><td>783.0</td><td>784.0</td><td>772.0</td><td>772.0</td><td>260100.0</td><td>1.0</td><td>1.8</td><td>-1.4</td><td>0.65</td><td>50</td></tr><tr><td>9997</td><td>2024-12-23</td><td>777.0</td><td>780.0</td><td>769.0</td><td>775.0</td><td>119100.0</td><td>1.0</td><td>-0.34</td><td>-0.26</td><td>null</td><td>51</td></tr></tbody></table></div>"
      ],
      "text/plain": [
       "shape: (973_294, 12)\n",
       "┌──────┬────────────┬────────┬────────┬───┬───────┬───────────────────┬───────────────────┬────────┐\n",
       "│ code ┆ date       ┆ open   ┆ high   ┆ … ┆ zs25  ┆ daily_updown_rate ┆ overnight_updown_ ┆ weekid │\n",
       "│ ---  ┆ ---        ┆ ---    ┆ ---    ┆   ┆ ---   ┆ ---               ┆ rate              ┆ ---    │\n",
       "│ i64  ┆ date       ┆ f64    ┆ f64    ┆   ┆ f64   ┆ f64               ┆ ---               ┆ i16    │\n",
       "│      ┆            ┆        ┆        ┆   ┆       ┆                   ┆ f64               ┆        │\n",
       "╞══════╪════════════╪════════╪════════╪═══╪═══════╪═══════════════════╪═══════════════════╪════════╡\n",
       "│ 1301 ┆ 2024-01-04 ┆ 3775.0 ┆ 3825.0 ┆ … ┆ 0.87  ┆ 1.06              ┆ 0.39              ┆ 0      │\n",
       "│ 1301 ┆ 2024-01-05 ┆ 3830.0 ┆ 3870.0 ┆ … ┆ 0.18  ┆ 0.52              ┆ 1.04              ┆ 0      │\n",
       "│ 1301 ┆ 2024-01-09 ┆ 3890.0 ┆ 3900.0 ┆ … ┆ 1.2   ┆ -0.13             ┆ 0.26              ┆ 1      │\n",
       "│ 1301 ┆ 2024-01-10 ┆ 3895.0 ┆ 3940.0 ┆ … ┆ 1.34  ┆ 0.39              ┆ 0.64              ┆ 1      │\n",
       "│ 1301 ┆ 2024-01-11 ┆ 3935.0 ┆ 3945.0 ┆ … ┆ 0.95  ┆ -1.14             ┆ -0.13             ┆ 1      │\n",
       "│ …    ┆ …          ┆ …      ┆ …      ┆ … ┆ …     ┆ …                 ┆ …                 ┆ …      │\n",
       "│ 9997 ┆ 2024-12-17 ┆ 787.0  ┆ 789.0  ┆ … ┆ -0.56 ┆ -0.13             ┆ 0.0               ┆ 50     │\n",
       "│ 9997 ┆ 2024-12-18 ┆ 786.0  ┆ 787.0  ┆ … ┆ -0.21 ┆ -1.27             ┆ -1.29             ┆ 50     │\n",
       "│ 9997 ┆ 2024-12-19 ┆ 766.0  ┆ 780.0  ┆ … ┆ 0.43  ┆ 1.83              ┆ 0.38              ┆ 50     │\n",
       "│ 9997 ┆ 2024-12-20 ┆ 783.0  ┆ 784.0  ┆ … ┆ 1.8   ┆ -1.4              ┆ 0.65              ┆ 50     │\n",
       "│ 9997 ┆ 2024-12-23 ┆ 777.0  ┆ 780.0  ┆ … ┆ -0.34 ┆ -0.26             ┆ null              ┆ 51     │\n",
       "└──────┴────────────┴────────┴────────┴───┴───────┴───────────────────┴───────────────────┴────────┘"
      ]
     },
     "execution_count": 4,
     "metadata": {},
     "output_type": "execute_result"
    }
   ],
   "source": [
    "fp = DATA_DIR/\"reviced_pricelist.parquet\"\n",
    "df = read_data(fp)\n",
    "RPL = PricelistPl(df)\n",
    "\n",
    "RPL.with_columns_moving_zscore()\n",
    "RPL.with_columns_daily_updown_rate()\n",
    "RPL.with_columns_overnight_updown(\"tomorrow\")\n",
    "RPL.df = RPL.df.filter(pl.col(\"date\")>=date(target_year, 1, 1)).filter(pl.col(\"date\")<=date(target_year, 12, 31))\n",
    "RPL.with_columns_weekid()\n",
    "RPL.df"
   ]
  },
  {
   "cell_type": "code",
   "execution_count": 5,
   "id": "a0c2a551-256c-40b3-b056-0634904d7c8d",
   "metadata": {},
   "outputs": [],
   "source": [
    "##### creditbalanceの加工"
   ]
  },
  {
   "cell_type": "code",
   "execution_count": 6,
   "id": "f2c14398-3009-45d1-a461-4a053289fed0",
   "metadata": {},
   "outputs": [
    {
     "data": {
      "text/html": [
       "<div><style>\n",
       ".dataframe > thead > tr,\n",
       ".dataframe > tbody > tr {\n",
       "  text-align: right;\n",
       "  white-space: pre-wrap;\n",
       "}\n",
       "</style>\n",
       "<small>shape: (116_257, 9)</small><table border=\"1\" class=\"dataframe\"><thead><tr><th>code</th><th>date</th><th>unsold_margin</th><th>purchase_margin</th><th>margin_ratio</th><th>volume_ma25</th><th>unsold_margin_volume_ratio</th><th>purchase_margin_volume_ratio</th><th>weekid</th></tr><tr><td>i64</td><td>date</td><td>i64</td><td>i64</td><td>f64</td><td>f64</td><td>f64</td><td>f64</td><td>i16</td></tr></thead><tbody><tr><td>1301</td><td>2023-12-29</td><td>2000</td><td>29200</td><td>14.6</td><td>15180.0</td><td>0.13</td><td>1.92</td><td>0</td></tr><tr><td>1301</td><td>2024-01-12</td><td>4900</td><td>31300</td><td>6.39</td><td>17056.0</td><td>0.29</td><td>1.84</td><td>2</td></tr><tr><td>1301</td><td>2024-01-19</td><td>4300</td><td>31800</td><td>7.4</td><td>16276.0</td><td>0.26</td><td>1.95</td><td>3</td></tr><tr><td>1301</td><td>2024-01-26</td><td>5200</td><td>32200</td><td>6.19</td><td>16264.0</td><td>0.32</td><td>1.98</td><td>4</td></tr><tr><td>1301</td><td>2024-02-02</td><td>7600</td><td>22800</td><td>3.0</td><td>18404.0</td><td>0.41</td><td>1.24</td><td>5</td></tr><tr><td>&hellip;</td><td>&hellip;</td><td>&hellip;</td><td>&hellip;</td><td>&hellip;</td><td>&hellip;</td><td>&hellip;</td><td>&hellip;</td><td>&hellip;</td></tr><tr><td>9997</td><td>2024-11-15</td><td>39300</td><td>637200</td><td>16.21</td><td>168780.0</td><td>0.23</td><td>3.78</td><td>46</td></tr><tr><td>9997</td><td>2024-11-22</td><td>39700</td><td>634500</td><td>15.98</td><td>148708.0</td><td>0.27</td><td>4.27</td><td>47</td></tr><tr><td>9997</td><td>2024-11-29</td><td>40200</td><td>667800</td><td>16.61</td><td>142640.0</td><td>0.28</td><td>4.68</td><td>48</td></tr><tr><td>9997</td><td>2024-12-06</td><td>27200</td><td>727000</td><td>26.73</td><td>135664.0</td><td>0.2</td><td>5.36</td><td>49</td></tr><tr><td>9997</td><td>2024-12-13</td><td>12800</td><td>669800</td><td>52.33</td><td>139584.0</td><td>0.09</td><td>4.8</td><td>50</td></tr></tbody></table></div>"
      ],
      "text/plain": [
       "shape: (116_257, 9)\n",
       "┌──────┬────────────┬─────────────┬────────────┬───┬────────────┬────────────┬────────────┬────────┐\n",
       "│ code ┆ date       ┆ unsold_marg ┆ purchase_m ┆ … ┆ volume_ma2 ┆ unsold_mar ┆ purchase_m ┆ weekid │\n",
       "│ ---  ┆ ---        ┆ in          ┆ argin      ┆   ┆ 5          ┆ gin_volume ┆ argin_volu ┆ ---    │\n",
       "│ i64  ┆ date       ┆ ---         ┆ ---        ┆   ┆ ---        ┆ _ratio     ┆ me_ratio   ┆ i16    │\n",
       "│      ┆            ┆ i64         ┆ i64        ┆   ┆ f64        ┆ ---        ┆ ---        ┆        │\n",
       "│      ┆            ┆             ┆            ┆   ┆            ┆ f64        ┆ f64        ┆        │\n",
       "╞══════╪════════════╪═════════════╪════════════╪═══╪════════════╪════════════╪════════════╪════════╡\n",
       "│ 1301 ┆ 2023-12-29 ┆ 2000        ┆ 29200      ┆ … ┆ 15180.0    ┆ 0.13       ┆ 1.92       ┆ 0      │\n",
       "│ 1301 ┆ 2024-01-12 ┆ 4900        ┆ 31300      ┆ … ┆ 17056.0    ┆ 0.29       ┆ 1.84       ┆ 2      │\n",
       "│ 1301 ┆ 2024-01-19 ┆ 4300        ┆ 31800      ┆ … ┆ 16276.0    ┆ 0.26       ┆ 1.95       ┆ 3      │\n",
       "│ 1301 ┆ 2024-01-26 ┆ 5200        ┆ 32200      ┆ … ┆ 16264.0    ┆ 0.32       ┆ 1.98       ┆ 4      │\n",
       "│ 1301 ┆ 2024-02-02 ┆ 7600        ┆ 22800      ┆ … ┆ 18404.0    ┆ 0.41       ┆ 1.24       ┆ 5      │\n",
       "│ …    ┆ …          ┆ …           ┆ …          ┆ … ┆ …          ┆ …          ┆ …          ┆ …      │\n",
       "│ 9997 ┆ 2024-11-15 ┆ 39300       ┆ 637200     ┆ … ┆ 168780.0   ┆ 0.23       ┆ 3.78       ┆ 46     │\n",
       "│ 9997 ┆ 2024-11-22 ┆ 39700       ┆ 634500     ┆ … ┆ 148708.0   ┆ 0.27       ┆ 4.27       ┆ 47     │\n",
       "│ 9997 ┆ 2024-11-29 ┆ 40200       ┆ 667800     ┆ … ┆ 142640.0   ┆ 0.28       ┆ 4.68       ┆ 48     │\n",
       "│ 9997 ┆ 2024-12-06 ┆ 27200       ┆ 727000     ┆ … ┆ 135664.0   ┆ 0.2        ┆ 5.36       ┆ 49     │\n",
       "│ 9997 ┆ 2024-12-13 ┆ 12800       ┆ 669800     ┆ … ┆ 139584.0   ┆ 0.09       ┆ 4.8        ┆ 50     │\n",
       "└──────┴────────────┴─────────────┴────────────┴───┴────────────┴────────────┴────────────┴────────┘"
      ]
     },
     "execution_count": 6,
     "metadata": {},
     "output_type": "execute_result"
    }
   ],
   "source": [
    "CPL = CreditbalancePl()\n",
    "CPL.with_columns_margin_ratio()\n",
    "CPL.with_columns_margin_volume_ratio()\n",
    "delta = relativedelta(days=7)\n",
    "start_date = RPL.df[\"date\"].min() - delta\n",
    "end_date = RPL.df[\"date\"].max() - delta\n",
    "CPL.df = CPL.df.filter(pl.col(\"date\")>=start_date).filter(pl.col(\"date\")<=end_date)\n",
    "CPL.with_columns_weekid()\n",
    "CPL.df"
   ]
  },
  {
   "cell_type": "code",
   "execution_count": 16,
   "id": "61cc67a8-ccab-4198-97ea-28d2daa074de",
   "metadata": {},
   "outputs": [],
   "source": [
    "####### revoced_pricelistにcreditbalanceをjoin\n",
    "joined_df = RPL.df.join(CPL.df, on=[\"code\", \"weekid\"], how=\"left\")"
   ]
  },
  {
   "cell_type": "code",
   "execution_count": 17,
   "id": "d7bdd355-f5d9-4868-b0da-a7edd1739396",
   "metadata": {},
   "outputs": [
    {
     "data": {
      "text/html": [
       "<div><style>\n",
       ".dataframe > thead > tr,\n",
       ".dataframe > tbody > tr {\n",
       "  text-align: right;\n",
       "  white-space: pre-wrap;\n",
       "}\n",
       "</style>\n",
       "<small>shape: (973_294, 19)</small><table border=\"1\" class=\"dataframe\"><thead><tr><th>code</th><th>date</th><th>open</th><th>high</th><th>low</th><th>close</th><th>volume</th><th>accumulated_split_rate</th><th>zs25</th><th>daily_updown_rate</th><th>overnight_updown_rate</th><th>weekid</th><th>date_right</th><th>unsold_margin</th><th>purchase_margin</th><th>margin_ratio</th><th>volume_ma25</th><th>unsold_margin_volume_ratio</th><th>purchase_margin_volume_ratio</th></tr><tr><td>i64</td><td>date</td><td>f64</td><td>f64</td><td>f64</td><td>f64</td><td>f64</td><td>f64</td><td>f64</td><td>f64</td><td>f64</td><td>i16</td><td>date</td><td>i64</td><td>i64</td><td>f64</td><td>f64</td><td>f64</td><td>f64</td></tr></thead><tbody><tr><td>1301</td><td>2024-01-04</td><td>3775.0</td><td>3825.0</td><td>3755.0</td><td>3815.0</td><td>21400.0</td><td>1.0</td><td>0.87</td><td>1.06</td><td>0.39</td><td>0</td><td>2023-12-29</td><td>2000</td><td>29200</td><td>14.6</td><td>15180.0</td><td>0.13</td><td>1.92</td></tr><tr><td>1301</td><td>2024-01-05</td><td>3830.0</td><td>3870.0</td><td>3815.0</td><td>3850.0</td><td>16800.0</td><td>1.0</td><td>0.18</td><td>0.52</td><td>1.04</td><td>0</td><td>2023-12-29</td><td>2000</td><td>29200</td><td>14.6</td><td>15180.0</td><td>0.13</td><td>1.92</td></tr><tr><td>1301</td><td>2024-01-09</td><td>3890.0</td><td>3900.0</td><td>3865.0</td><td>3885.0</td><td>24500.0</td><td>1.0</td><td>1.2</td><td>-0.13</td><td>0.26</td><td>1</td><td>null</td><td>null</td><td>null</td><td>null</td><td>null</td><td>null</td><td>null</td></tr><tr><td>1301</td><td>2024-01-10</td><td>3895.0</td><td>3940.0</td><td>3895.0</td><td>3910.0</td><td>26400.0</td><td>1.0</td><td>1.34</td><td>0.39</td><td>0.64</td><td>1</td><td>null</td><td>null</td><td>null</td><td>null</td><td>null</td><td>null</td><td>null</td></tr><tr><td>1301</td><td>2024-01-11</td><td>3935.0</td><td>3945.0</td><td>3890.0</td><td>3890.0</td><td>24000.0</td><td>1.0</td><td>0.95</td><td>-1.14</td><td>-0.13</td><td>1</td><td>null</td><td>null</td><td>null</td><td>null</td><td>null</td><td>null</td><td>null</td></tr><tr><td>&hellip;</td><td>&hellip;</td><td>&hellip;</td><td>&hellip;</td><td>&hellip;</td><td>&hellip;</td><td>&hellip;</td><td>&hellip;</td><td>&hellip;</td><td>&hellip;</td><td>&hellip;</td><td>&hellip;</td><td>&hellip;</td><td>&hellip;</td><td>&hellip;</td><td>&hellip;</td><td>&hellip;</td><td>&hellip;</td><td>&hellip;</td></tr><tr><td>9997</td><td>2024-12-17</td><td>787.0</td><td>789.0</td><td>782.0</td><td>786.0</td><td>99400.0</td><td>1.0</td><td>-0.56</td><td>-0.13</td><td>0.0</td><td>50</td><td>2024-12-13</td><td>12800</td><td>669800</td><td>52.33</td><td>139584.0</td><td>0.09</td><td>4.8</td></tr><tr><td>9997</td><td>2024-12-18</td><td>786.0</td><td>787.0</td><td>774.0</td><td>776.0</td><td>119100.0</td><td>1.0</td><td>-0.21</td><td>-1.27</td><td>-1.29</td><td>50</td><td>2024-12-13</td><td>12800</td><td>669800</td><td>52.33</td><td>139584.0</td><td>0.09</td><td>4.8</td></tr><tr><td>9997</td><td>2024-12-19</td><td>766.0</td><td>780.0</td><td>763.0</td><td>780.0</td><td>160800.0</td><td>1.0</td><td>0.43</td><td>1.83</td><td>0.38</td><td>50</td><td>2024-12-13</td><td>12800</td><td>669800</td><td>52.33</td><td>139584.0</td><td>0.09</td><td>4.8</td></tr><tr><td>9997</td><td>2024-12-20</td><td>783.0</td><td>784.0</td><td>772.0</td><td>772.0</td><td>260100.0</td><td>1.0</td><td>1.8</td><td>-1.4</td><td>0.65</td><td>50</td><td>2024-12-13</td><td>12800</td><td>669800</td><td>52.33</td><td>139584.0</td><td>0.09</td><td>4.8</td></tr><tr><td>9997</td><td>2024-12-23</td><td>777.0</td><td>780.0</td><td>769.0</td><td>775.0</td><td>119100.0</td><td>1.0</td><td>-0.34</td><td>-0.26</td><td>null</td><td>51</td><td>null</td><td>null</td><td>null</td><td>null</td><td>null</td><td>null</td><td>null</td></tr></tbody></table></div>"
      ],
      "text/plain": [
       "shape: (973_294, 19)\n",
       "┌──────┬────────────┬────────┬────────┬───┬──────────────┬─────────────┬─────────────┬─────────────┐\n",
       "│ code ┆ date       ┆ open   ┆ high   ┆ … ┆ margin_ratio ┆ volume_ma25 ┆ unsold_marg ┆ purchase_ma │\n",
       "│ ---  ┆ ---        ┆ ---    ┆ ---    ┆   ┆ ---          ┆ ---         ┆ in_volume_r ┆ rgin_volume │\n",
       "│ i64  ┆ date       ┆ f64    ┆ f64    ┆   ┆ f64          ┆ f64         ┆ atio        ┆ _ratio      │\n",
       "│      ┆            ┆        ┆        ┆   ┆              ┆             ┆ ---         ┆ ---         │\n",
       "│      ┆            ┆        ┆        ┆   ┆              ┆             ┆ f64         ┆ f64         │\n",
       "╞══════╪════════════╪════════╪════════╪═══╪══════════════╪═════════════╪═════════════╪═════════════╡\n",
       "│ 1301 ┆ 2024-01-04 ┆ 3775.0 ┆ 3825.0 ┆ … ┆ 14.6         ┆ 15180.0     ┆ 0.13        ┆ 1.92        │\n",
       "│ 1301 ┆ 2024-01-05 ┆ 3830.0 ┆ 3870.0 ┆ … ┆ 14.6         ┆ 15180.0     ┆ 0.13        ┆ 1.92        │\n",
       "│ 1301 ┆ 2024-01-09 ┆ 3890.0 ┆ 3900.0 ┆ … ┆ null         ┆ null        ┆ null        ┆ null        │\n",
       "│ 1301 ┆ 2024-01-10 ┆ 3895.0 ┆ 3940.0 ┆ … ┆ null         ┆ null        ┆ null        ┆ null        │\n",
       "│ 1301 ┆ 2024-01-11 ┆ 3935.0 ┆ 3945.0 ┆ … ┆ null         ┆ null        ┆ null        ┆ null        │\n",
       "│ …    ┆ …          ┆ …      ┆ …      ┆ … ┆ …            ┆ …           ┆ …           ┆ …           │\n",
       "│ 9997 ┆ 2024-12-17 ┆ 787.0  ┆ 789.0  ┆ … ┆ 52.33        ┆ 139584.0    ┆ 0.09        ┆ 4.8         │\n",
       "│ 9997 ┆ 2024-12-18 ┆ 786.0  ┆ 787.0  ┆ … ┆ 52.33        ┆ 139584.0    ┆ 0.09        ┆ 4.8         │\n",
       "│ 9997 ┆ 2024-12-19 ┆ 766.0  ┆ 780.0  ┆ … ┆ 52.33        ┆ 139584.0    ┆ 0.09        ┆ 4.8         │\n",
       "│ 9997 ┆ 2024-12-20 ┆ 783.0  ┆ 784.0  ┆ … ┆ 52.33        ┆ 139584.0    ┆ 0.09        ┆ 4.8         │\n",
       "│ 9997 ┆ 2024-12-23 ┆ 777.0  ┆ 780.0  ┆ … ┆ null         ┆ null        ┆ null        ┆ null        │\n",
       "└──────┴────────────┴────────┴────────┴───┴──────────────┴─────────────┴─────────────┴─────────────┘"
      ]
     },
     "execution_count": 17,
     "metadata": {},
     "output_type": "execute_result"
    }
   ],
   "source": [
    "joined_df"
   ]
  },
  {
   "cell_type": "code",
   "execution_count": 18,
   "id": "4ef457d5-d6ea-4a94-ae0e-f2d3810e082a",
   "metadata": {},
   "outputs": [],
   "source": [
    "##### いろいろfilterしてみる"
   ]
  },
  {
   "cell_type": "code",
   "execution_count": 82,
   "id": "b0c011ba-a612-4dce-9049-99f5f3b3e911",
   "metadata": {},
   "outputs": [],
   "source": [
    "min_zs25 = 3\n",
    "max_daily_updown_rate = -1\n",
    "max_overnight_updown_rate = -2\n",
    "max_margin_ratio = 0.5\n",
    "min_unsold_margin_volume_ratio = 2\n",
    "display_cols = [\n",
    "    \"code\",\n",
    "    \"date\",\n",
    "    \"zs25\",\n",
    "    \"daily_updown_rate\",\n",
    "    \"overnight_updown_rate\",\n",
    "    \"unsold_margin\",\n",
    "    \"margin_ratio\",\n",
    "    \"unsold_margin_volume_ratio\"\n",
    "]"
   ]
  },
  {
   "cell_type": "code",
   "execution_count": 113,
   "id": "a4762e65-979f-4b5b-9463-5c2175da45a4",
   "metadata": {},
   "outputs": [
    {
     "data": {
      "text/html": [
       "<div><style>\n",
       ".dataframe > thead > tr,\n",
       ".dataframe > tbody > tr {\n",
       "  text-align: right;\n",
       "  white-space: pre-wrap;\n",
       "}\n",
       "</style>\n",
       "<small>shape: (4, 8)</small><table border=\"1\" class=\"dataframe\"><thead><tr><th>code</th><th>date</th><th>zs25</th><th>daily_updown_rate</th><th>overnight_updown_rate</th><th>unsold_margin</th><th>margin_ratio</th><th>unsold_margin_volume_ratio</th></tr><tr><td>i64</td><td>date</td><td>f64</td><td>f64</td><td>f64</td><td>i64</td><td>f64</td><td>f64</td></tr></thead><tbody><tr><td>8275</td><td>2024-09-27</td><td>3.1</td><td>-1.57</td><td>-2.67</td><td>403000</td><td>0.06</td><td>16.57</td></tr><tr><td>8609</td><td>2024-08-02</td><td>3.25</td><td>-5.76</td><td>-13.59</td><td>1514300</td><td>0.32</td><td>3.24</td></tr><tr><td>8917</td><td>2024-10-30</td><td>3.91</td><td>-1.76</td><td>-2.64</td><td>233400</td><td>0.25</td><td>5.95</td></tr><tr><td>9278</td><td>2024-05-29</td><td>4.25</td><td>-1.96</td><td>-3.13</td><td>534000</td><td>0.21</td><td>2.88</td></tr></tbody></table></div>"
      ],
      "text/plain": [
       "shape: (4, 8)\n",
       "┌──────┬────────────┬──────┬──────────────┬──────────────┬─────────────┬─────────────┬─────────────┐\n",
       "│ code ┆ date       ┆ zs25 ┆ daily_updown ┆ overnight_up ┆ unsold_marg ┆ margin_rati ┆ unsold_marg │\n",
       "│ ---  ┆ ---        ┆ ---  ┆ _rate        ┆ down_rate    ┆ in          ┆ o           ┆ in_volume_r │\n",
       "│ i64  ┆ date       ┆ f64  ┆ ---          ┆ ---          ┆ ---         ┆ ---         ┆ atio        │\n",
       "│      ┆            ┆      ┆ f64          ┆ f64          ┆ i64         ┆ f64         ┆ ---         │\n",
       "│      ┆            ┆      ┆              ┆              ┆             ┆             ┆ f64         │\n",
       "╞══════╪════════════╪══════╪══════════════╪══════════════╪═════════════╪═════════════╪═════════════╡\n",
       "│ 8275 ┆ 2024-09-27 ┆ 3.1  ┆ -1.57        ┆ -2.67        ┆ 403000      ┆ 0.06        ┆ 16.57       │\n",
       "│ 8609 ┆ 2024-08-02 ┆ 3.25 ┆ -5.76        ┆ -13.59       ┆ 1514300     ┆ 0.32        ┆ 3.24        │\n",
       "│ 8917 ┆ 2024-10-30 ┆ 3.91 ┆ -1.76        ┆ -2.64        ┆ 233400      ┆ 0.25        ┆ 5.95        │\n",
       "│ 9278 ┆ 2024-05-29 ┆ 4.25 ┆ -1.96        ┆ -3.13        ┆ 534000      ┆ 0.21        ┆ 2.88        │\n",
       "└──────┴────────────┴──────┴──────────────┴──────────────┴─────────────┴─────────────┴─────────────┘"
      ]
     },
     "execution_count": 113,
     "metadata": {},
     "output_type": "execute_result"
    }
   ],
   "source": [
    "df = joined_df.filter(pl.col(\"zs25\")>=min_zs25)\\\n",
    "    .filter(pl.col(\"daily_updown_rate\")<=max_daily_updown_rate)\\\n",
    "    .filter(pl.col(\"overnight_updown_rate\")<=max_overnight_updown_rate)\\\n",
    "    .filter(pl.col(\"margin_ratio\")<=max_margin_ratio)\\\n",
    "    .filter(pl.col(\"unsold_margin_volume_ratio\")>=min_unsold_margin_volume_ratio)\n",
    "\n",
    "df = df.drop_nulls()\n",
    "df = df.select(display_cols)\n",
    "unsold_margin_filtered_df = df\n",
    "unsold_margin_filtered_df[20:30]"
   ]
  },
  {
   "cell_type": "code",
   "execution_count": 112,
   "id": "773d3b34-5551-466c-a324-2357affa48bc",
   "metadata": {},
   "outputs": [],
   "source": [
    "##### historychart"
   ]
  },
  {
   "cell_type": "code",
   "execution_count": 108,
   "id": "29570ca9-d459-4f76-8294-ea8f62e3ff15",
   "metadata": {},
   "outputs": [],
   "source": [
    "code = 8275\n",
    "dt = date(2024, 8, 2)\n",
    "weeks = 4"
   ]
  },
  {
   "cell_type": "code",
   "execution_count": 109,
   "id": "c0ec4cf5-9f67-4c70-8c83-18e644b9cdd8",
   "metadata": {},
   "outputs": [
    {
     "data": {
      "text/html": [
       "<div><style>\n",
       ".dataframe > thead > tr,\n",
       ".dataframe > tbody > tr {\n",
       "  text-align: right;\n",
       "  white-space: pre-wrap;\n",
       "}\n",
       "</style>\n",
       "<small>shape: (5, 9)</small><table border=\"1\" class=\"dataframe\"><thead><tr><th>code</th><th>date</th><th>unsold_margin</th><th>purchase_margin</th><th>margin_ratio</th><th>volume_ma25</th><th>unsold_margin_volume_ratio</th><th>purchase_margin_volume_ratio</th><th>weekid</th></tr><tr><td>i64</td><td>date</td><td>i64</td><td>i64</td><td>f64</td><td>f64</td><td>f64</td><td>f64</td><td>i16</td></tr></thead><tbody><tr><td>8275</td><td>2024-07-05</td><td>48700</td><td>5600</td><td>0.11</td><td>11408.0</td><td>4.27</td><td>0.49</td><td>27</td></tr><tr><td>8275</td><td>2024-07-12</td><td>74900</td><td>6700</td><td>0.09</td><td>15340.0</td><td>4.88</td><td>0.44</td><td>28</td></tr><tr><td>8275</td><td>2024-07-19</td><td>98500</td><td>6900</td><td>0.07</td><td>18136.0</td><td>5.43</td><td>0.38</td><td>29</td></tr><tr><td>8275</td><td>2024-07-26</td><td>141200</td><td>14600</td><td>0.1</td><td>20324.0</td><td>6.95</td><td>0.72</td><td>30</td></tr><tr><td>8275</td><td>2024-08-02</td><td>209700</td><td>17200</td><td>0.08</td><td>24868.0</td><td>8.43</td><td>0.69</td><td>31</td></tr></tbody></table></div>"
      ],
      "text/plain": [
       "shape: (5, 9)\n",
       "┌──────┬────────────┬─────────────┬────────────┬───┬────────────┬────────────┬────────────┬────────┐\n",
       "│ code ┆ date       ┆ unsold_marg ┆ purchase_m ┆ … ┆ volume_ma2 ┆ unsold_mar ┆ purchase_m ┆ weekid │\n",
       "│ ---  ┆ ---        ┆ in          ┆ argin      ┆   ┆ 5          ┆ gin_volume ┆ argin_volu ┆ ---    │\n",
       "│ i64  ┆ date       ┆ ---         ┆ ---        ┆   ┆ ---        ┆ _ratio     ┆ me_ratio   ┆ i16    │\n",
       "│      ┆            ┆ i64         ┆ i64        ┆   ┆ f64        ┆ ---        ┆ ---        ┆        │\n",
       "│      ┆            ┆             ┆            ┆   ┆            ┆ f64        ┆ f64        ┆        │\n",
       "╞══════╪════════════╪═════════════╪════════════╪═══╪════════════╪════════════╪════════════╪════════╡\n",
       "│ 8275 ┆ 2024-07-05 ┆ 48700       ┆ 5600       ┆ … ┆ 11408.0    ┆ 4.27       ┆ 0.49       ┆ 27     │\n",
       "│ 8275 ┆ 2024-07-12 ┆ 74900       ┆ 6700       ┆ … ┆ 15340.0    ┆ 4.88       ┆ 0.44       ┆ 28     │\n",
       "│ 8275 ┆ 2024-07-19 ┆ 98500       ┆ 6900       ┆ … ┆ 18136.0    ┆ 5.43       ┆ 0.38       ┆ 29     │\n",
       "│ 8275 ┆ 2024-07-26 ┆ 141200      ┆ 14600      ┆ … ┆ 20324.0    ┆ 6.95       ┆ 0.72       ┆ 30     │\n",
       "│ 8275 ┆ 2024-08-02 ┆ 209700      ┆ 17200      ┆ … ┆ 24868.0    ┆ 8.43       ┆ 0.69       ┆ 31     │\n",
       "└──────┴────────────┴─────────────┴────────────┴───┴────────────┴────────────┴────────────┴────────┘"
      ]
     },
     "execution_count": 109,
     "metadata": {},
     "output_type": "execute_result"
    }
   ],
   "source": [
    "# 信用売り残データ履歴\n",
    "df = CPL.df\n",
    "df.filter(pl.col(\"code\")==code).filter(pl.col(\"date\")>=(dt-relativedelta(days=7*weeks))).filter(pl.col(\"date\")<=dt)"
   ]
  },
  {
   "cell_type": "code",
   "execution_count": 110,
   "id": "94bed748-ee4a-46ee-b82d-546525d0929e",
   "metadata": {},
   "outputs": [
    {
     "data": {
      "application/vnd.plotly.v1+json": {
       "config": {
        "plotlyServerURL": "https://plot.ly"
       },
       "data": [
        {
         "close": [
          1548,
          1533,
          1504,
          1549,
          1533,
          1509,
          1536,
          1607,
          1573,
          1633,
          1665,
          1708,
          1725,
          1672,
          1602,
          1530,
          1520,
          1480,
          1449,
          1419,
          1531,
          1474,
          1565,
          1470,
          1349,
          1139,
          1250,
          1288,
          1272,
          1278,
          1286,
          1307,
          1319,
          1409,
          1350,
          1430,
          1421,
          1412,
          1398,
          1409,
          1444,
          1402,
          1441,
          1490
         ],
         "high": [
          1580,
          1552,
          1550,
          1584,
          1569,
          1540,
          1570,
          1630,
          1596,
          1649,
          1771,
          1754,
          1779,
          1725,
          1692,
          1608,
          1561,
          1549,
          1500,
          1457,
          1531,
          1531,
          1565,
          1543,
          1463,
          1285,
          1289,
          1353,
          1334,
          1341,
          1337,
          1315,
          1367,
          1409,
          1440,
          1441,
          1444,
          1439,
          1409,
          1415,
          1462,
          1433,
          1455,
          1490
         ],
         "low": [
          1520,
          1507,
          1497,
          1518,
          1522,
          1491,
          1523,
          1548,
          1532,
          1556,
          1640,
          1671,
          1706,
          1666,
          1600,
          1530,
          1504,
          1477,
          1443,
          1412,
          1449,
          1464,
          1475,
          1440,
          1349,
          1127,
          1189,
          1221,
          1238,
          1277,
          1272,
          1268,
          1312,
          1334,
          1350,
          1381,
          1363,
          1400,
          1385,
          1380,
          1402,
          1388,
          1409,
          1436
         ],
         "name": "株価",
         "open": [
          1579,
          1541,
          1550,
          1518,
          1552,
          1535,
          1530,
          1576,
          1596,
          1594,
          1771,
          1679,
          1726,
          1718,
          1678,
          1602,
          1553,
          1527,
          1478,
          1452,
          1449,
          1531,
          1484,
          1541,
          1412,
          1259,
          1285,
          1235,
          1266,
          1309,
          1272,
          1301,
          1313,
          1364,
          1408,
          1399,
          1409,
          1439,
          1402,
          1398,
          1405,
          1424,
          1409,
          1456
         ],
         "type": "candlestick",
         "x": [
          "2024-06-28",
          "2024-07-01",
          "2024-07-02",
          "2024-07-03",
          "2024-07-04",
          "2024-07-05",
          "2024-07-08",
          "2024-07-09",
          "2024-07-10",
          "2024-07-11",
          "2024-07-12",
          "2024-07-16",
          "2024-07-17",
          "2024-07-18",
          "2024-07-19",
          "2024-07-22",
          "2024-07-23",
          "2024-07-24",
          "2024-07-25",
          "2024-07-26",
          "2024-07-29",
          "2024-07-30",
          "2024-07-31",
          "2024-08-01",
          "2024-08-02",
          "2024-08-05",
          "2024-08-06",
          "2024-08-07",
          "2024-08-08",
          "2024-08-09",
          "2024-08-13",
          "2024-08-14",
          "2024-08-15",
          "2024-08-16",
          "2024-08-19",
          "2024-08-20",
          "2024-08-21",
          "2024-08-22",
          "2024-08-23",
          "2024-08-26",
          "2024-08-27",
          "2024-08-28",
          "2024-08-29",
          "2024-08-30"
         ],
         "xaxis": "x",
         "yaxis": "y"
        },
        {
         "marker": {
          "color": "blue"
         },
         "name": "出来高",
         "type": "bar",
         "x": [
          "2024-06-28",
          "2024-07-01",
          "2024-07-02",
          "2024-07-03",
          "2024-07-04",
          "2024-07-05",
          "2024-07-08",
          "2024-07-09",
          "2024-07-10",
          "2024-07-11",
          "2024-07-12",
          "2024-07-16",
          "2024-07-17",
          "2024-07-18",
          "2024-07-19",
          "2024-07-22",
          "2024-07-23",
          "2024-07-24",
          "2024-07-25",
          "2024-07-26",
          "2024-07-29",
          "2024-07-30",
          "2024-07-31",
          "2024-08-01",
          "2024-08-02",
          "2024-08-05",
          "2024-08-06",
          "2024-08-07",
          "2024-08-08",
          "2024-08-09",
          "2024-08-13",
          "2024-08-14",
          "2024-08-15",
          "2024-08-16",
          "2024-08-19",
          "2024-08-20",
          "2024-08-21",
          "2024-08-22",
          "2024-08-23",
          "2024-08-26",
          "2024-08-27",
          "2024-08-28",
          "2024-08-29",
          "2024-08-30"
         ],
         "xaxis": "x2",
         "y": [
          14000,
          19000,
          13900,
          15600,
          14200,
          10500,
          14200,
          27500,
          14400,
          21600,
          58200,
          32600,
          26500,
          13800,
          23300,
          22400,
          20300,
          19400,
          31200,
          25700,
          29000,
          22900,
          24400,
          41600,
          65500,
          60600,
          30400,
          22300,
          35300,
          23800,
          32100,
          38400,
          69400,
          40500,
          24200,
          25300,
          15000,
          9500,
          12100,
          13400,
          25100,
          19400,
          24300,
          19300
         ],
         "yaxis": "y2"
        }
       ],
       "layout": {
        "autosize": true,
        "shapes": [
         {
          "line": {
           "color": "grey",
           "width": 1
          },
          "opacity": 0.5,
          "type": "line",
          "x0": "2024-06-28",
          "x1": "2024-06-28",
          "xref": "x",
          "y0": 0,
          "y1": 1,
          "yref": "y domain"
         },
         {
          "line": {
           "color": "grey",
           "width": 1
          },
          "opacity": 0.5,
          "type": "line",
          "x0": "2024-06-28",
          "x1": "2024-06-28",
          "xref": "x2",
          "y0": 0,
          "y1": 1,
          "yref": "y2 domain"
         },
         {
          "line": {
           "color": "grey",
           "width": 1
          },
          "opacity": 0.5,
          "type": "line",
          "x0": "2024-07-05",
          "x1": "2024-07-05",
          "xref": "x",
          "y0": 0,
          "y1": 1,
          "yref": "y domain"
         },
         {
          "line": {
           "color": "grey",
           "width": 1
          },
          "opacity": 0.5,
          "type": "line",
          "x0": "2024-07-05",
          "x1": "2024-07-05",
          "xref": "x2",
          "y0": 0,
          "y1": 1,
          "yref": "y2 domain"
         },
         {
          "line": {
           "color": "grey",
           "width": 1
          },
          "opacity": 0.5,
          "type": "line",
          "x0": "2024-07-12",
          "x1": "2024-07-12",
          "xref": "x",
          "y0": 0,
          "y1": 1,
          "yref": "y domain"
         },
         {
          "line": {
           "color": "grey",
           "width": 1
          },
          "opacity": 0.5,
          "type": "line",
          "x0": "2024-07-12",
          "x1": "2024-07-12",
          "xref": "x2",
          "y0": 0,
          "y1": 1,
          "yref": "y2 domain"
         },
         {
          "line": {
           "color": "grey",
           "width": 1
          },
          "opacity": 0.5,
          "type": "line",
          "x0": "2024-07-19",
          "x1": "2024-07-19",
          "xref": "x",
          "y0": 0,
          "y1": 1,
          "yref": "y domain"
         },
         {
          "line": {
           "color": "grey",
           "width": 1
          },
          "opacity": 0.5,
          "type": "line",
          "x0": "2024-07-19",
          "x1": "2024-07-19",
          "xref": "x2",
          "y0": 0,
          "y1": 1,
          "yref": "y2 domain"
         },
         {
          "line": {
           "color": "grey",
           "width": 1
          },
          "opacity": 0.5,
          "type": "line",
          "x0": "2024-07-26",
          "x1": "2024-07-26",
          "xref": "x",
          "y0": 0,
          "y1": 1,
          "yref": "y domain"
         },
         {
          "line": {
           "color": "grey",
           "width": 1
          },
          "opacity": 0.5,
          "type": "line",
          "x0": "2024-07-26",
          "x1": "2024-07-26",
          "xref": "x2",
          "y0": 0,
          "y1": 1,
          "yref": "y2 domain"
         },
         {
          "line": {
           "color": "grey",
           "width": 1
          },
          "opacity": 0.5,
          "type": "line",
          "x0": "2024-08-02",
          "x1": "2024-08-02",
          "xref": "x",
          "y0": 0,
          "y1": 1,
          "yref": "y domain"
         },
         {
          "line": {
           "color": "grey",
           "width": 1
          },
          "opacity": 0.5,
          "type": "line",
          "x0": "2024-08-02",
          "x1": "2024-08-02",
          "xref": "x2",
          "y0": 0,
          "y1": 1,
          "yref": "y2 domain"
         },
         {
          "line": {
           "color": "grey",
           "width": 1
          },
          "opacity": 0.5,
          "type": "line",
          "x0": "2024-08-09",
          "x1": "2024-08-09",
          "xref": "x",
          "y0": 0,
          "y1": 1,
          "yref": "y domain"
         },
         {
          "line": {
           "color": "grey",
           "width": 1
          },
          "opacity": 0.5,
          "type": "line",
          "x0": "2024-08-09",
          "x1": "2024-08-09",
          "xref": "x2",
          "y0": 0,
          "y1": 1,
          "yref": "y2 domain"
         },
         {
          "line": {
           "color": "grey",
           "width": 1
          },
          "opacity": 0.5,
          "type": "line",
          "x0": "2024-08-16",
          "x1": "2024-08-16",
          "xref": "x",
          "y0": 0,
          "y1": 1,
          "yref": "y domain"
         },
         {
          "line": {
           "color": "grey",
           "width": 1
          },
          "opacity": 0.5,
          "type": "line",
          "x0": "2024-08-16",
          "x1": "2024-08-16",
          "xref": "x2",
          "y0": 0,
          "y1": 1,
          "yref": "y2 domain"
         },
         {
          "line": {
           "color": "grey",
           "width": 1
          },
          "opacity": 0.5,
          "type": "line",
          "x0": "2024-08-23",
          "x1": "2024-08-23",
          "xref": "x",
          "y0": 0,
          "y1": 1,
          "yref": "y domain"
         },
         {
          "line": {
           "color": "grey",
           "width": 1
          },
          "opacity": 0.5,
          "type": "line",
          "x0": "2024-08-23",
          "x1": "2024-08-23",
          "xref": "x2",
          "y0": 0,
          "y1": 1,
          "yref": "y2 domain"
         },
         {
          "line": {
           "color": "grey",
           "width": 1
          },
          "opacity": 0.5,
          "type": "line",
          "x0": "2024-08-30",
          "x1": "2024-08-30",
          "xref": "x",
          "y0": 0,
          "y1": 1,
          "yref": "y domain"
         },
         {
          "line": {
           "color": "grey",
           "width": 1
          },
          "opacity": 0.5,
          "type": "line",
          "x0": "2024-08-30",
          "x1": "2024-08-30",
          "xref": "x2",
          "y0": 0,
          "y1": 1,
          "yref": "y2 domain"
         },
         {
          "line": {
           "color": "red",
           "width": 1
          },
          "opacity": 0.5,
          "type": "line",
          "x0": "2024-08-02",
          "x1": "2024-08-02",
          "xref": "x",
          "y0": 0,
          "y1": 1,
          "yref": "y domain"
         },
         {
          "line": {
           "color": "red",
           "width": 1
          },
          "opacity": 0.5,
          "type": "line",
          "x0": "2024-08-02",
          "x1": "2024-08-02",
          "xref": "x2",
          "y0": 0,
          "y1": 1,
          "yref": "y2 domain"
         }
        ],
        "template": {
         "data": {
          "bar": [
           {
            "error_x": {
             "color": "#2a3f5f"
            },
            "error_y": {
             "color": "#2a3f5f"
            },
            "marker": {
             "line": {
              "color": "#E5ECF6",
              "width": 0.5
             },
             "pattern": {
              "fillmode": "overlay",
              "size": 10,
              "solidity": 0.2
             }
            },
            "type": "bar"
           }
          ],
          "barpolar": [
           {
            "marker": {
             "line": {
              "color": "#E5ECF6",
              "width": 0.5
             },
             "pattern": {
              "fillmode": "overlay",
              "size": 10,
              "solidity": 0.2
             }
            },
            "type": "barpolar"
           }
          ],
          "carpet": [
           {
            "aaxis": {
             "endlinecolor": "#2a3f5f",
             "gridcolor": "white",
             "linecolor": "white",
             "minorgridcolor": "white",
             "startlinecolor": "#2a3f5f"
            },
            "baxis": {
             "endlinecolor": "#2a3f5f",
             "gridcolor": "white",
             "linecolor": "white",
             "minorgridcolor": "white",
             "startlinecolor": "#2a3f5f"
            },
            "type": "carpet"
           }
          ],
          "choropleth": [
           {
            "colorbar": {
             "outlinewidth": 0,
             "ticks": ""
            },
            "type": "choropleth"
           }
          ],
          "contour": [
           {
            "colorbar": {
             "outlinewidth": 0,
             "ticks": ""
            },
            "colorscale": [
             [
              0,
              "#0d0887"
             ],
             [
              0.1111111111111111,
              "#46039f"
             ],
             [
              0.2222222222222222,
              "#7201a8"
             ],
             [
              0.3333333333333333,
              "#9c179e"
             ],
             [
              0.4444444444444444,
              "#bd3786"
             ],
             [
              0.5555555555555556,
              "#d8576b"
             ],
             [
              0.6666666666666666,
              "#ed7953"
             ],
             [
              0.7777777777777778,
              "#fb9f3a"
             ],
             [
              0.8888888888888888,
              "#fdca26"
             ],
             [
              1,
              "#f0f921"
             ]
            ],
            "type": "contour"
           }
          ],
          "contourcarpet": [
           {
            "colorbar": {
             "outlinewidth": 0,
             "ticks": ""
            },
            "type": "contourcarpet"
           }
          ],
          "heatmap": [
           {
            "colorbar": {
             "outlinewidth": 0,
             "ticks": ""
            },
            "colorscale": [
             [
              0,
              "#0d0887"
             ],
             [
              0.1111111111111111,
              "#46039f"
             ],
             [
              0.2222222222222222,
              "#7201a8"
             ],
             [
              0.3333333333333333,
              "#9c179e"
             ],
             [
              0.4444444444444444,
              "#bd3786"
             ],
             [
              0.5555555555555556,
              "#d8576b"
             ],
             [
              0.6666666666666666,
              "#ed7953"
             ],
             [
              0.7777777777777778,
              "#fb9f3a"
             ],
             [
              0.8888888888888888,
              "#fdca26"
             ],
             [
              1,
              "#f0f921"
             ]
            ],
            "type": "heatmap"
           }
          ],
          "heatmapgl": [
           {
            "colorbar": {
             "outlinewidth": 0,
             "ticks": ""
            },
            "colorscale": [
             [
              0,
              "#0d0887"
             ],
             [
              0.1111111111111111,
              "#46039f"
             ],
             [
              0.2222222222222222,
              "#7201a8"
             ],
             [
              0.3333333333333333,
              "#9c179e"
             ],
             [
              0.4444444444444444,
              "#bd3786"
             ],
             [
              0.5555555555555556,
              "#d8576b"
             ],
             [
              0.6666666666666666,
              "#ed7953"
             ],
             [
              0.7777777777777778,
              "#fb9f3a"
             ],
             [
              0.8888888888888888,
              "#fdca26"
             ],
             [
              1,
              "#f0f921"
             ]
            ],
            "type": "heatmapgl"
           }
          ],
          "histogram": [
           {
            "marker": {
             "pattern": {
              "fillmode": "overlay",
              "size": 10,
              "solidity": 0.2
             }
            },
            "type": "histogram"
           }
          ],
          "histogram2d": [
           {
            "colorbar": {
             "outlinewidth": 0,
             "ticks": ""
            },
            "colorscale": [
             [
              0,
              "#0d0887"
             ],
             [
              0.1111111111111111,
              "#46039f"
             ],
             [
              0.2222222222222222,
              "#7201a8"
             ],
             [
              0.3333333333333333,
              "#9c179e"
             ],
             [
              0.4444444444444444,
              "#bd3786"
             ],
             [
              0.5555555555555556,
              "#d8576b"
             ],
             [
              0.6666666666666666,
              "#ed7953"
             ],
             [
              0.7777777777777778,
              "#fb9f3a"
             ],
             [
              0.8888888888888888,
              "#fdca26"
             ],
             [
              1,
              "#f0f921"
             ]
            ],
            "type": "histogram2d"
           }
          ],
          "histogram2dcontour": [
           {
            "colorbar": {
             "outlinewidth": 0,
             "ticks": ""
            },
            "colorscale": [
             [
              0,
              "#0d0887"
             ],
             [
              0.1111111111111111,
              "#46039f"
             ],
             [
              0.2222222222222222,
              "#7201a8"
             ],
             [
              0.3333333333333333,
              "#9c179e"
             ],
             [
              0.4444444444444444,
              "#bd3786"
             ],
             [
              0.5555555555555556,
              "#d8576b"
             ],
             [
              0.6666666666666666,
              "#ed7953"
             ],
             [
              0.7777777777777778,
              "#fb9f3a"
             ],
             [
              0.8888888888888888,
              "#fdca26"
             ],
             [
              1,
              "#f0f921"
             ]
            ],
            "type": "histogram2dcontour"
           }
          ],
          "mesh3d": [
           {
            "colorbar": {
             "outlinewidth": 0,
             "ticks": ""
            },
            "type": "mesh3d"
           }
          ],
          "parcoords": [
           {
            "line": {
             "colorbar": {
              "outlinewidth": 0,
              "ticks": ""
             }
            },
            "type": "parcoords"
           }
          ],
          "pie": [
           {
            "automargin": true,
            "type": "pie"
           }
          ],
          "scatter": [
           {
            "fillpattern": {
             "fillmode": "overlay",
             "size": 10,
             "solidity": 0.2
            },
            "type": "scatter"
           }
          ],
          "scatter3d": [
           {
            "line": {
             "colorbar": {
              "outlinewidth": 0,
              "ticks": ""
             }
            },
            "marker": {
             "colorbar": {
              "outlinewidth": 0,
              "ticks": ""
             }
            },
            "type": "scatter3d"
           }
          ],
          "scattercarpet": [
           {
            "marker": {
             "colorbar": {
              "outlinewidth": 0,
              "ticks": ""
             }
            },
            "type": "scattercarpet"
           }
          ],
          "scattergeo": [
           {
            "marker": {
             "colorbar": {
              "outlinewidth": 0,
              "ticks": ""
             }
            },
            "type": "scattergeo"
           }
          ],
          "scattergl": [
           {
            "marker": {
             "colorbar": {
              "outlinewidth": 0,
              "ticks": ""
             }
            },
            "type": "scattergl"
           }
          ],
          "scattermapbox": [
           {
            "marker": {
             "colorbar": {
              "outlinewidth": 0,
              "ticks": ""
             }
            },
            "type": "scattermapbox"
           }
          ],
          "scatterpolar": [
           {
            "marker": {
             "colorbar": {
              "outlinewidth": 0,
              "ticks": ""
             }
            },
            "type": "scatterpolar"
           }
          ],
          "scatterpolargl": [
           {
            "marker": {
             "colorbar": {
              "outlinewidth": 0,
              "ticks": ""
             }
            },
            "type": "scatterpolargl"
           }
          ],
          "scatterternary": [
           {
            "marker": {
             "colorbar": {
              "outlinewidth": 0,
              "ticks": ""
             }
            },
            "type": "scatterternary"
           }
          ],
          "surface": [
           {
            "colorbar": {
             "outlinewidth": 0,
             "ticks": ""
            },
            "colorscale": [
             [
              0,
              "#0d0887"
             ],
             [
              0.1111111111111111,
              "#46039f"
             ],
             [
              0.2222222222222222,
              "#7201a8"
             ],
             [
              0.3333333333333333,
              "#9c179e"
             ],
             [
              0.4444444444444444,
              "#bd3786"
             ],
             [
              0.5555555555555556,
              "#d8576b"
             ],
             [
              0.6666666666666666,
              "#ed7953"
             ],
             [
              0.7777777777777778,
              "#fb9f3a"
             ],
             [
              0.8888888888888888,
              "#fdca26"
             ],
             [
              1,
              "#f0f921"
             ]
            ],
            "type": "surface"
           }
          ],
          "table": [
           {
            "cells": {
             "fill": {
              "color": "#EBF0F8"
             },
             "line": {
              "color": "white"
             }
            },
            "header": {
             "fill": {
              "color": "#C8D4E3"
             },
             "line": {
              "color": "white"
             }
            },
            "type": "table"
           }
          ]
         },
         "layout": {
          "annotationdefaults": {
           "arrowcolor": "#2a3f5f",
           "arrowhead": 0,
           "arrowwidth": 1
          },
          "autotypenumbers": "strict",
          "coloraxis": {
           "colorbar": {
            "outlinewidth": 0,
            "ticks": ""
           }
          },
          "colorscale": {
           "diverging": [
            [
             0,
             "#8e0152"
            ],
            [
             0.1,
             "#c51b7d"
            ],
            [
             0.2,
             "#de77ae"
            ],
            [
             0.3,
             "#f1b6da"
            ],
            [
             0.4,
             "#fde0ef"
            ],
            [
             0.5,
             "#f7f7f7"
            ],
            [
             0.6,
             "#e6f5d0"
            ],
            [
             0.7,
             "#b8e186"
            ],
            [
             0.8,
             "#7fbc41"
            ],
            [
             0.9,
             "#4d9221"
            ],
            [
             1,
             "#276419"
            ]
           ],
           "sequential": [
            [
             0,
             "#0d0887"
            ],
            [
             0.1111111111111111,
             "#46039f"
            ],
            [
             0.2222222222222222,
             "#7201a8"
            ],
            [
             0.3333333333333333,
             "#9c179e"
            ],
            [
             0.4444444444444444,
             "#bd3786"
            ],
            [
             0.5555555555555556,
             "#d8576b"
            ],
            [
             0.6666666666666666,
             "#ed7953"
            ],
            [
             0.7777777777777778,
             "#fb9f3a"
            ],
            [
             0.8888888888888888,
             "#fdca26"
            ],
            [
             1,
             "#f0f921"
            ]
           ],
           "sequentialminus": [
            [
             0,
             "#0d0887"
            ],
            [
             0.1111111111111111,
             "#46039f"
            ],
            [
             0.2222222222222222,
             "#7201a8"
            ],
            [
             0.3333333333333333,
             "#9c179e"
            ],
            [
             0.4444444444444444,
             "#bd3786"
            ],
            [
             0.5555555555555556,
             "#d8576b"
            ],
            [
             0.6666666666666666,
             "#ed7953"
            ],
            [
             0.7777777777777778,
             "#fb9f3a"
            ],
            [
             0.8888888888888888,
             "#fdca26"
            ],
            [
             1,
             "#f0f921"
            ]
           ]
          },
          "colorway": [
           "#636efa",
           "#EF553B",
           "#00cc96",
           "#ab63fa",
           "#FFA15A",
           "#19d3f3",
           "#FF6692",
           "#B6E880",
           "#FF97FF",
           "#FECB52"
          ],
          "font": {
           "color": "#2a3f5f"
          },
          "geo": {
           "bgcolor": "white",
           "lakecolor": "white",
           "landcolor": "#E5ECF6",
           "showlakes": true,
           "showland": true,
           "subunitcolor": "white"
          },
          "hoverlabel": {
           "align": "left"
          },
          "hovermode": "closest",
          "mapbox": {
           "style": "light"
          },
          "paper_bgcolor": "white",
          "plot_bgcolor": "#E5ECF6",
          "polar": {
           "angularaxis": {
            "gridcolor": "white",
            "linecolor": "white",
            "ticks": ""
           },
           "bgcolor": "#E5ECF6",
           "radialaxis": {
            "gridcolor": "white",
            "linecolor": "white",
            "ticks": ""
           }
          },
          "scene": {
           "xaxis": {
            "backgroundcolor": "#E5ECF6",
            "gridcolor": "white",
            "gridwidth": 2,
            "linecolor": "white",
            "showbackground": true,
            "ticks": "",
            "zerolinecolor": "white"
           },
           "yaxis": {
            "backgroundcolor": "#E5ECF6",
            "gridcolor": "white",
            "gridwidth": 2,
            "linecolor": "white",
            "showbackground": true,
            "ticks": "",
            "zerolinecolor": "white"
           },
           "zaxis": {
            "backgroundcolor": "#E5ECF6",
            "gridcolor": "white",
            "gridwidth": 2,
            "linecolor": "white",
            "showbackground": true,
            "ticks": "",
            "zerolinecolor": "white"
           }
          },
          "shapedefaults": {
           "line": {
            "color": "#2a3f5f"
           }
          },
          "ternary": {
           "aaxis": {
            "gridcolor": "white",
            "linecolor": "white",
            "ticks": ""
           },
           "baxis": {
            "gridcolor": "white",
            "linecolor": "white",
            "ticks": ""
           },
           "bgcolor": "#E5ECF6",
           "caxis": {
            "gridcolor": "white",
            "linecolor": "white",
            "ticks": ""
           }
          },
          "title": {
           "x": 0.05
          },
          "xaxis": {
           "automargin": true,
           "gridcolor": "white",
           "linecolor": "white",
           "ticks": "",
           "title": {
            "standoff": 15
           },
           "zerolinecolor": "white",
           "zerolinewidth": 2
          },
          "yaxis": {
           "automargin": true,
           "gridcolor": "white",
           "linecolor": "white",
           "ticks": "",
           "title": {
            "standoff": 15
           },
           "zerolinecolor": "white",
           "zerolinewidth": 2
          }
         }
        },
        "title": {
         "text": "フォーバル(8275)株価ローソクチャートと出来高2024-06-28 ～ 2024-08-30"
        },
        "xaxis": {
         "anchor": "y",
         "autorange": true,
         "domain": [
          0,
          1
         ],
         "matches": "x2",
         "range": [
          -0.5,
          43.5
         ],
         "rangeslider": {
          "visible": false,
          "yaxis": {}
         },
         "showticklabels": false,
         "type": "category"
        },
        "xaxis2": {
         "anchor": "y2",
         "autorange": true,
         "domain": [
          0,
          1
         ],
         "range": [
          -0.5,
          43.5
         ],
         "tickangle": 45,
         "tickvals": [
          "2024-06-28",
          "2024-07-04",
          "2024-07-10",
          "2024-07-17",
          "2024-07-23",
          "2024-07-29",
          "2024-08-02",
          "2024-08-08",
          "2024-08-15",
          "2024-08-21",
          "2024-08-27"
         ],
         "title": {
          "text": "取引日"
         },
         "type": "category"
        },
        "yaxis": {
         "anchor": "x",
         "autorange": true,
         "domain": [
          0.2461538461538461,
          0.9999999999999998
         ],
         "range": [
          1090.7777777777778,
          1815.2222222222222
         ],
         "title": {
          "text": "株価"
         }
        },
        "yaxis2": {
         "anchor": "x2",
         "autorange": true,
         "domain": [
          0,
          0.22615384615384612
         ],
         "range": [
          0,
          73052.63157894737
         ],
         "title": {
          "text": "出来高"
         },
         "type": "linear"
        }
       }
      },
      "image/png": "[encoded data removed]",
      "text/html": [
       "<div>                            <div id=\"858e05c8-a445-47ad-8aca-557ea847b7db\" class=\"plotly-graph-div\" style=\"height:600px; width:100%;\"></div>            <script type=\"text/javascript\">                require([\"plotly\"], function(Plotly) {                    window.PLOTLYENV=window.PLOTLYENV || {};                                    if (document.getElementById(\"858e05c8-a445-47ad-8aca-557ea847b7db\")) {                    Plotly.newPlot(                        \"858e05c8-a445-47ad-8aca-557ea847b7db\",                        [{\"close\":[1548.0,1533.0,1504.0,1549.0,1533.0,1509.0,1536.0,1607.0,1573.0,1633.0,1665.0,1708.0,1725.0,1672.0,1602.0,1530.0,1520.0,1480.0,1449.0,1419.0,1531.0,1474.0,1565.0,1470.0,1349.0,1139.0,1250.0,1288.0,1272.0,1278.0,1286.0,1307.0,1319.0,1409.0,1350.0,1430.0,1421.0,1412.0,1398.0,1409.0,1444.0,1402.0,1441.0,1490.0],\"high\":[1580.0,1552.0,1550.0,1584.0,1569.0,1540.0,1570.0,1630.0,1596.0,1649.0,1771.0,1754.0,1779.0,1725.0,1692.0,1608.0,1561.0,1549.0,1500.0,1457.0,1531.0,1531.0,1565.0,1543.0,1463.0,1285.0,1289.0,1353.0,1334.0,1341.0,1337.0,1315.0,1367.0,1409.0,1440.0,1441.0,1444.0,1439.0,1409.0,1415.0,1462.0,1433.0,1455.0,1490.0],\"low\":[1520.0,1507.0,1497.0,1518.0,1522.0,1491.0,1523.0,1548.0,1532.0,1556.0,1640.0,1671.0,1706.0,1666.0,1600.0,1530.0,1504.0,1477.0,1443.0,1412.0,1449.0,1464.0,1475.0,1440.0,1349.0,1127.0,1189.0,1221.0,1238.0,1277.0,1272.0,1268.0,1312.0,1334.0,1350.0,1381.0,1363.0,1400.0,1385.0,1380.0,1402.0,1388.0,1409.0,1436.0],\"name\":\"\\u682a\\u4fa1\",\"open\":[1579.0,1541.0,1550.0,1518.0,1552.0,1535.0,1530.0,1576.0,1596.0,1594.0,1771.0,1679.0,1726.0,1718.0,1678.0,1602.0,1553.0,1527.0,1478.0,1452.0,1449.0,1531.0,1484.0,1541.0,1412.0,1259.0,1285.0,1235.0,1266.0,1309.0,1272.0,1301.0,1313.0,1364.0,1408.0,1399.0,1409.0,1439.0,1402.0,1398.0,1405.0,1424.0,1409.0,1456.0],\"x\":[\"2024-06-28\",\"2024-07-01\",\"2024-07-02\",\"2024-07-03\",\"2024-07-04\",\"2024-07-05\",\"2024-07-08\",\"2024-07-09\",\"2024-07-10\",\"2024-07-11\",\"2024-07-12\",\"2024-07-16\",\"2024-07-17\",\"2024-07-18\",\"2024-07-19\",\"2024-07-22\",\"2024-07-23\",\"2024-07-24\",\"2024-07-25\",\"2024-07-26\",\"2024-07-29\",\"2024-07-30\",\"2024-07-31\",\"2024-08-01\",\"2024-08-02\",\"2024-08-05\",\"2024-08-06\",\"2024-08-07\",\"2024-08-08\",\"2024-08-09\",\"2024-08-13\",\"2024-08-14\",\"2024-08-15\",\"2024-08-16\",\"2024-08-19\",\"2024-08-20\",\"2024-08-21\",\"2024-08-22\",\"2024-08-23\",\"2024-08-26\",\"2024-08-27\",\"2024-08-28\",\"2024-08-29\",\"2024-08-30\"],\"type\":\"candlestick\",\"xaxis\":\"x\",\"yaxis\":\"y\"},{\"marker\":{\"color\":\"blue\"},\"name\":\"\\u51fa\\u6765\\u9ad8\",\"x\":[\"2024-06-28\",\"2024-07-01\",\"2024-07-02\",\"2024-07-03\",\"2024-07-04\",\"2024-07-05\",\"2024-07-08\",\"2024-07-09\",\"2024-07-10\",\"2024-07-11\",\"2024-07-12\",\"2024-07-16\",\"2024-07-17\",\"2024-07-18\",\"2024-07-19\",\"2024-07-22\",\"2024-07-23\",\"2024-07-24\",\"2024-07-25\",\"2024-07-26\",\"2024-07-29\",\"2024-07-30\",\"2024-07-31\",\"2024-08-01\",\"2024-08-02\",\"2024-08-05\",\"2024-08-06\",\"2024-08-07\",\"2024-08-08\",\"2024-08-09\",\"2024-08-13\",\"2024-08-14\",\"2024-08-15\",\"2024-08-16\",\"2024-08-19\",\"2024-08-20\",\"2024-08-21\",\"2024-08-22\",\"2024-08-23\",\"2024-08-26\",\"2024-08-27\",\"2024-08-28\",\"2024-08-29\",\"2024-08-30\"],\"y\":[14000.0,19000.0,13900.0,15600.0,14200.0,10500.0,14200.0,27500.0,14400.0,21600.0,58200.0,32600.0,26500.0,13800.0,23300.0,22400.0,20300.0,19400.0,31200.0,25700.0,29000.0,22900.0,24400.0,41600.0,65500.0,60600.0,30400.0,22300.0,35300.0,23800.0,32100.0,38400.0,69400.0,40500.0,24200.0,25300.0,15000.0,9500.0,12100.0,13400.0,25100.0,19400.0,24300.0,19300.0],\"type\":\"bar\",\"xaxis\":\"x2\",\"yaxis\":\"y2\"}],                        {\"template\":{\"data\":{\"histogram2dcontour\":[{\"type\":\"histogram2dcontour\",\"colorbar\":{\"outlinewidth\":0,\"ticks\":\"\"},\"colorscale\":[[0.0,\"#0d0887\"],[0.1111111111111111,\"#46039f\"],[0.2222222222222222,\"#7201a8\"],[0.3333333333333333,\"#9c179e\"],[0.4444444444444444,\"#bd3786\"],[0.5555555555555556,\"#d8576b\"],[0.6666666666666666,\"#ed7953\"],[0.7777777777777778,\"#fb9f3a\"],[0.8888888888888888,\"#fdca26\"],[1.0,\"#f0f921\"]]}],\"choropleth\":[{\"type\":\"choropleth\",\"colorbar\":{\"outlinewidth\":0,\"ticks\":\"\"}}],\"histogram2d\":[{\"type\":\"histogram2d\",\"colorbar\":{\"outlinewidth\":0,\"ticks\":\"\"},\"colorscale\":[[0.0,\"#0d0887\"],[0.1111111111111111,\"#46039f\"],[0.2222222222222222,\"#7201a8\"],[0.3333333333333333,\"#9c179e\"],[0.4444444444444444,\"#bd3786\"],[0.5555555555555556,\"#d8576b\"],[0.6666666666666666,\"#ed7953\"],[0.7777777777777778,\"#fb9f3a\"],[0.8888888888888888,\"#fdca26\"],[1.0,\"#f0f921\"]]}],\"heatmap\":[{\"type\":\"heatmap\",\"colorbar\":{\"outlinewidth\":0,\"ticks\":\"\"},\"colorscale\":[[0.0,\"#0d0887\"],[0.1111111111111111,\"#46039f\"],[0.2222222222222222,\"#7201a8\"],[0.3333333333333333,\"#9c179e\"],[0.4444444444444444,\"#bd3786\"],[0.5555555555555556,\"#d8576b\"],[0.6666666666666666,\"#ed7953\"],[0.7777777777777778,\"#fb9f3a\"],[0.8888888888888888,\"#fdca26\"],[1.0,\"#f0f921\"]]}],\"heatmapgl\":[{\"type\":\"heatmapgl\",\"colorbar\":{\"outlinewidth\":0,\"ticks\":\"\"},\"colorscale\":[[0.0,\"#0d0887\"],[0.1111111111111111,\"#46039f\"],[0.2222222222222222,\"#7201a8\"],[0.3333333333333333,\"#9c179e\"],[0.4444444444444444,\"#bd3786\"],[0.5555555555555556,\"#d8576b\"],[0.6666666666666666,\"#ed7953\"],[0.7777777777777778,\"#fb9f3a\"],[0.8888888888888888,\"#fdca26\"],[1.0,\"#f0f921\"]]}],\"contourcarpet\":[{\"type\":\"contourcarpet\",\"colorbar\":{\"outlinewidth\":0,\"ticks\":\"\"}}],\"contour\":[{\"type\":\"contour\",\"colorbar\":{\"outlinewidth\":0,\"ticks\":\"\"},\"colorscale\":[[0.0,\"#0d0887\"],[0.1111111111111111,\"#46039f\"],[0.2222222222222222,\"#7201a8\"],[0.3333333333333333,\"#9c179e\"],[0.4444444444444444,\"#bd3786\"],[0.5555555555555556,\"#d8576b\"],[0.6666666666666666,\"#ed7953\"],[0.7777777777777778,\"#fb9f3a\"],[0.8888888888888888,\"#fdca26\"],[1.0,\"#f0f921\"]]}],\"surface\":[{\"type\":\"surface\",\"colorbar\":{\"outlinewidth\":0,\"ticks\":\"\"},\"colorscale\":[[0.0,\"#0d0887\"],[0.1111111111111111,\"#46039f\"],[0.2222222222222222,\"#7201a8\"],[0.3333333333333333,\"#9c179e\"],[0.4444444444444444,\"#bd3786\"],[0.5555555555555556,\"#d8576b\"],[0.6666666666666666,\"#ed7953\"],[0.7777777777777778,\"#fb9f3a\"],[0.8888888888888888,\"#fdca26\"],[1.0,\"#f0f921\"]]}],\"mesh3d\":[{\"type\":\"mesh3d\",\"colorbar\":{\"outlinewidth\":0,\"ticks\":\"\"}}],\"scatter\":[{\"fillpattern\":{\"fillmode\":\"overlay\",\"size\":10,\"solidity\":0.2},\"type\":\"scatter\"}],\"parcoords\":[{\"type\":\"parcoords\",\"line\":{\"colorbar\":{\"outlinewidth\":0,\"ticks\":\"\"}}}],\"scatterpolargl\":[{\"type\":\"scatterpolargl\",\"marker\":{\"colorbar\":{\"outlinewidth\":0,\"ticks\":\"\"}}}],\"bar\":[{\"error_x\":{\"color\":\"#2a3f5f\"},\"error_y\":{\"color\":\"#2a3f5f\"},\"marker\":{\"line\":{\"color\":\"#E5ECF6\",\"width\":0.5},\"pattern\":{\"fillmode\":\"overlay\",\"size\":10,\"solidity\":0.2}},\"type\":\"bar\"}],\"scattergeo\":[{\"type\":\"scattergeo\",\"marker\":{\"colorbar\":{\"outlinewidth\":0,\"ticks\":\"\"}}}],\"scatterpolar\":[{\"type\":\"scatterpolar\",\"marker\":{\"colorbar\":{\"outlinewidth\":0,\"ticks\":\"\"}}}],\"histogram\":[{\"marker\":{\"pattern\":{\"fillmode\":\"overlay\",\"size\":10,\"solidity\":0.2}},\"type\":\"histogram\"}],\"scattergl\":[{\"type\":\"scattergl\",\"marker\":{\"colorbar\":{\"outlinewidth\":0,\"ticks\":\"\"}}}],\"scatter3d\":[{\"type\":\"scatter3d\",\"line\":{\"colorbar\":{\"outlinewidth\":0,\"ticks\":\"\"}},\"marker\":{\"colorbar\":{\"outlinewidth\":0,\"ticks\":\"\"}}}],\"scattermapbox\":[{\"type\":\"scattermapbox\",\"marker\":{\"colorbar\":{\"outlinewidth\":0,\"ticks\":\"\"}}}],\"scatterternary\":[{\"type\":\"scatterternary\",\"marker\":{\"colorbar\":{\"outlinewidth\":0,\"ticks\":\"\"}}}],\"scattercarpet\":[{\"type\":\"scattercarpet\",\"marker\":{\"colorbar\":{\"outlinewidth\":0,\"ticks\":\"\"}}}],\"carpet\":[{\"aaxis\":{\"endlinecolor\":\"#2a3f5f\",\"gridcolor\":\"white\",\"linecolor\":\"white\",\"minorgridcolor\":\"white\",\"startlinecolor\":\"#2a3f5f\"},\"baxis\":{\"endlinecolor\":\"#2a3f5f\",\"gridcolor\":\"white\",\"linecolor\":\"white\",\"minorgridcolor\":\"white\",\"startlinecolor\":\"#2a3f5f\"},\"type\":\"carpet\"}],\"table\":[{\"cells\":{\"fill\":{\"color\":\"#EBF0F8\"},\"line\":{\"color\":\"white\"}},\"header\":{\"fill\":{\"color\":\"#C8D4E3\"},\"line\":{\"color\":\"white\"}},\"type\":\"table\"}],\"barpolar\":[{\"marker\":{\"line\":{\"color\":\"#E5ECF6\",\"width\":0.5},\"pattern\":{\"fillmode\":\"overlay\",\"size\":10,\"solidity\":0.2}},\"type\":\"barpolar\"}],\"pie\":[{\"automargin\":true,\"type\":\"pie\"}]},\"layout\":{\"autotypenumbers\":\"strict\",\"colorway\":[\"#636efa\",\"#EF553B\",\"#00cc96\",\"#ab63fa\",\"#FFA15A\",\"#19d3f3\",\"#FF6692\",\"#B6E880\",\"#FF97FF\",\"#FECB52\"],\"font\":{\"color\":\"#2a3f5f\"},\"hovermode\":\"closest\",\"hoverlabel\":{\"align\":\"left\"},\"paper_bgcolor\":\"white\",\"plot_bgcolor\":\"#E5ECF6\",\"polar\":{\"bgcolor\":\"#E5ECF6\",\"angularaxis\":{\"gridcolor\":\"white\",\"linecolor\":\"white\",\"ticks\":\"\"},\"radialaxis\":{\"gridcolor\":\"white\",\"linecolor\":\"white\",\"ticks\":\"\"}},\"ternary\":{\"bgcolor\":\"#E5ECF6\",\"aaxis\":{\"gridcolor\":\"white\",\"linecolor\":\"white\",\"ticks\":\"\"},\"baxis\":{\"gridcolor\":\"white\",\"linecolor\":\"white\",\"ticks\":\"\"},\"caxis\":{\"gridcolor\":\"white\",\"linecolor\":\"white\",\"ticks\":\"\"}},\"coloraxis\":{\"colorbar\":{\"outlinewidth\":0,\"ticks\":\"\"}},\"colorscale\":{\"sequential\":[[0.0,\"#0d0887\"],[0.1111111111111111,\"#46039f\"],[0.2222222222222222,\"#7201a8\"],[0.3333333333333333,\"#9c179e\"],[0.4444444444444444,\"#bd3786\"],[0.5555555555555556,\"#d8576b\"],[0.6666666666666666,\"#ed7953\"],[0.7777777777777778,\"#fb9f3a\"],[0.8888888888888888,\"#fdca26\"],[1.0,\"#f0f921\"]],\"sequentialminus\":[[0.0,\"#0d0887\"],[0.1111111111111111,\"#46039f\"],[0.2222222222222222,\"#7201a8\"],[0.3333333333333333,\"#9c179e\"],[0.4444444444444444,\"#bd3786\"],[0.5555555555555556,\"#d8576b\"],[0.6666666666666666,\"#ed7953\"],[0.7777777777777778,\"#fb9f3a\"],[0.8888888888888888,\"#fdca26\"],[1.0,\"#f0f921\"]],\"diverging\":[[0,\"#8e0152\"],[0.1,\"#c51b7d\"],[0.2,\"#de77ae\"],[0.3,\"#f1b6da\"],[0.4,\"#fde0ef\"],[0.5,\"#f7f7f7\"],[0.6,\"#e6f5d0\"],[0.7,\"#b8e186\"],[0.8,\"#7fbc41\"],[0.9,\"#4d9221\"],[1,\"#276419\"]]},\"xaxis\":{\"gridcolor\":\"white\",\"linecolor\":\"white\",\"ticks\":\"\",\"title\":{\"standoff\":15},\"zerolinecolor\":\"white\",\"automargin\":true,\"zerolinewidth\":2},\"yaxis\":{\"gridcolor\":\"white\",\"linecolor\":\"white\",\"ticks\":\"\",\"title\":{\"standoff\":15},\"zerolinecolor\":\"white\",\"automargin\":true,\"zerolinewidth\":2},\"scene\":{\"xaxis\":{\"backgroundcolor\":\"#E5ECF6\",\"gridcolor\":\"white\",\"linecolor\":\"white\",\"showbackground\":true,\"ticks\":\"\",\"zerolinecolor\":\"white\",\"gridwidth\":2},\"yaxis\":{\"backgroundcolor\":\"#E5ECF6\",\"gridcolor\":\"white\",\"linecolor\":\"white\",\"showbackground\":true,\"ticks\":\"\",\"zerolinecolor\":\"white\",\"gridwidth\":2},\"zaxis\":{\"backgroundcolor\":\"#E5ECF6\",\"gridcolor\":\"white\",\"linecolor\":\"white\",\"showbackground\":true,\"ticks\":\"\",\"zerolinecolor\":\"white\",\"gridwidth\":2}},\"shapedefaults\":{\"line\":{\"color\":\"#2a3f5f\"}},\"annotationdefaults\":{\"arrowcolor\":\"#2a3f5f\",\"arrowhead\":0,\"arrowwidth\":1},\"geo\":{\"bgcolor\":\"white\",\"landcolor\":\"#E5ECF6\",\"subunitcolor\":\"white\",\"showland\":true,\"showlakes\":true,\"lakecolor\":\"white\"},\"title\":{\"x\":0.05},\"mapbox\":{\"style\":\"light\"}}},\"xaxis\":{\"anchor\":\"y\",\"domain\":[0.0,1.0],\"matches\":\"x2\",\"showticklabels\":false,\"rangeslider\":{\"visible\":false},\"type\":\"category\"},\"yaxis\":{\"anchor\":\"x\",\"domain\":[0.2461538461538461,0.9999999999999998],\"title\":{\"text\":\"\\u682a\\u4fa1\"}},\"xaxis2\":{\"anchor\":\"y2\",\"domain\":[0.0,1.0],\"title\":{\"text\":\"\\u53d6\\u5f15\\u65e5\"},\"type\":\"category\",\"tickvals\":[\"2024-06-28\",\"2024-07-04\",\"2024-07-10\",\"2024-07-17\",\"2024-07-23\",\"2024-07-29\",\"2024-08-02\",\"2024-08-08\",\"2024-08-15\",\"2024-08-21\",\"2024-08-27\"],\"tickangle\":45},\"yaxis2\":{\"anchor\":\"x2\",\"domain\":[0.0,0.22615384615384612],\"title\":{\"text\":\"\\u51fa\\u6765\\u9ad8\"}},\"title\":{\"text\":\"\\u30d5\\u30a9\\u30fc\\u30d0\\u30eb(8275)\\u682a\\u4fa1\\u30ed\\u30fc\\u30bd\\u30af\\u30c1\\u30e3\\u30fc\\u30c8\\u3068\\u51fa\\u6765\\u9ad82024-06-28 \\uff5e 2024-08-30\"},\"height\":600,\"shapes\":[{\"line\":{\"color\":\"grey\",\"width\":1},\"opacity\":0.5,\"type\":\"line\",\"x0\":\"2024-06-28\",\"x1\":\"2024-06-28\",\"xref\":\"x\",\"y0\":0,\"y1\":1,\"yref\":\"y domain\"},{\"line\":{\"color\":\"grey\",\"width\":1},\"opacity\":0.5,\"type\":\"line\",\"x0\":\"2024-06-28\",\"x1\":\"2024-06-28\",\"xref\":\"x2\",\"y0\":0,\"y1\":1,\"yref\":\"y2 domain\"},{\"line\":{\"color\":\"grey\",\"width\":1},\"opacity\":0.5,\"type\":\"line\",\"x0\":\"2024-07-05\",\"x1\":\"2024-07-05\",\"xref\":\"x\",\"y0\":0,\"y1\":1,\"yref\":\"y domain\"},{\"line\":{\"color\":\"grey\",\"width\":1},\"opacity\":0.5,\"type\":\"line\",\"x0\":\"2024-07-05\",\"x1\":\"2024-07-05\",\"xref\":\"x2\",\"y0\":0,\"y1\":1,\"yref\":\"y2 domain\"},{\"line\":{\"color\":\"grey\",\"width\":1},\"opacity\":0.5,\"type\":\"line\",\"x0\":\"2024-07-12\",\"x1\":\"2024-07-12\",\"xref\":\"x\",\"y0\":0,\"y1\":1,\"yref\":\"y domain\"},{\"line\":{\"color\":\"grey\",\"width\":1},\"opacity\":0.5,\"type\":\"line\",\"x0\":\"2024-07-12\",\"x1\":\"2024-07-12\",\"xref\":\"x2\",\"y0\":0,\"y1\":1,\"yref\":\"y2 domain\"},{\"line\":{\"color\":\"grey\",\"width\":1},\"opacity\":0.5,\"type\":\"line\",\"x0\":\"2024-07-19\",\"x1\":\"2024-07-19\",\"xref\":\"x\",\"y0\":0,\"y1\":1,\"yref\":\"y domain\"},{\"line\":{\"color\":\"grey\",\"width\":1},\"opacity\":0.5,\"type\":\"line\",\"x0\":\"2024-07-19\",\"x1\":\"2024-07-19\",\"xref\":\"x2\",\"y0\":0,\"y1\":1,\"yref\":\"y2 domain\"},{\"line\":{\"color\":\"grey\",\"width\":1},\"opacity\":0.5,\"type\":\"line\",\"x0\":\"2024-07-26\",\"x1\":\"2024-07-26\",\"xref\":\"x\",\"y0\":0,\"y1\":1,\"yref\":\"y domain\"},{\"line\":{\"color\":\"grey\",\"width\":1},\"opacity\":0.5,\"type\":\"line\",\"x0\":\"2024-07-26\",\"x1\":\"2024-07-26\",\"xref\":\"x2\",\"y0\":0,\"y1\":1,\"yref\":\"y2 domain\"},{\"line\":{\"color\":\"grey\",\"width\":1},\"opacity\":0.5,\"type\":\"line\",\"x0\":\"2024-08-02\",\"x1\":\"2024-08-02\",\"xref\":\"x\",\"y0\":0,\"y1\":1,\"yref\":\"y domain\"},{\"line\":{\"color\":\"grey\",\"width\":1},\"opacity\":0.5,\"type\":\"line\",\"x0\":\"2024-08-02\",\"x1\":\"2024-08-02\",\"xref\":\"x2\",\"y0\":0,\"y1\":1,\"yref\":\"y2 domain\"},{\"line\":{\"color\":\"grey\",\"width\":1},\"opacity\":0.5,\"type\":\"line\",\"x0\":\"2024-08-09\",\"x1\":\"2024-08-09\",\"xref\":\"x\",\"y0\":0,\"y1\":1,\"yref\":\"y domain\"},{\"line\":{\"color\":\"grey\",\"width\":1},\"opacity\":0.5,\"type\":\"line\",\"x0\":\"2024-08-09\",\"x1\":\"2024-08-09\",\"xref\":\"x2\",\"y0\":0,\"y1\":1,\"yref\":\"y2 domain\"},{\"line\":{\"color\":\"grey\",\"width\":1},\"opacity\":0.5,\"type\":\"line\",\"x0\":\"2024-08-16\",\"x1\":\"2024-08-16\",\"xref\":\"x\",\"y0\":0,\"y1\":1,\"yref\":\"y domain\"},{\"line\":{\"color\":\"grey\",\"width\":1},\"opacity\":0.5,\"type\":\"line\",\"x0\":\"2024-08-16\",\"x1\":\"2024-08-16\",\"xref\":\"x2\",\"y0\":0,\"y1\":1,\"yref\":\"y2 domain\"},{\"line\":{\"color\":\"grey\",\"width\":1},\"opacity\":0.5,\"type\":\"line\",\"x0\":\"2024-08-23\",\"x1\":\"2024-08-23\",\"xref\":\"x\",\"y0\":0,\"y1\":1,\"yref\":\"y domain\"},{\"line\":{\"color\":\"grey\",\"width\":1},\"opacity\":0.5,\"type\":\"line\",\"x0\":\"2024-08-23\",\"x1\":\"2024-08-23\",\"xref\":\"x2\",\"y0\":0,\"y1\":1,\"yref\":\"y2 domain\"},{\"line\":{\"color\":\"grey\",\"width\":1},\"opacity\":0.5,\"type\":\"line\",\"x0\":\"2024-08-30\",\"x1\":\"2024-08-30\",\"xref\":\"x\",\"y0\":0,\"y1\":1,\"yref\":\"y domain\"},{\"line\":{\"color\":\"grey\",\"width\":1},\"opacity\":0.5,\"type\":\"line\",\"x0\":\"2024-08-30\",\"x1\":\"2024-08-30\",\"xref\":\"x2\",\"y0\":0,\"y1\":1,\"yref\":\"y2 domain\"},{\"line\":{\"color\":\"red\",\"width\":1},\"opacity\":0.5,\"type\":\"line\",\"x0\":\"2024-08-02\",\"x1\":\"2024-08-02\",\"xref\":\"x\",\"y0\":0,\"y1\":1,\"yref\":\"y domain\"},{\"line\":{\"color\":\"red\",\"width\":1},\"opacity\":0.5,\"type\":\"line\",\"x0\":\"2024-08-02\",\"x1\":\"2024-08-02\",\"xref\":\"x2\",\"y0\":0,\"y1\":1,\"yref\":\"y2 domain\"}]},                        {\"responsive\": true}                    ).then(function(){\n",
       "                            \n",
       "var gd = document.getElementById('858e05c8-a445-47ad-8aca-557ea847b7db');\n",
       "var x = new MutationObserver(function (mutations, observer) {{\n",
       "        var display = window.getComputedStyle(gd).display;\n",
       "        if (!display || display === 'none') {{\n",
       "            console.log([gd, 'removed!']);\n",
       "            Plotly.purge(gd);\n",
       "            observer.disconnect();\n",
       "        }}\n",
       "}});\n",
       "\n",
       "// Listen for the removal of the full notebook cells\n",
       "var notebookContainer = gd.closest('#notebook-container');\n",
       "if (notebookContainer) {{\n",
       "    x.observe(notebookContainer, {childList: true});\n",
       "}}\n",
       "\n",
       "// Listen for the clearing of the current output cell\n",
       "var outputEl = gd.closest('.output');\n",
       "if (outputEl) {{\n",
       "    x.observe(outputEl, {childList: true});\n",
       "}}\n",
       "\n",
       "                        })                };                });            </script>        </div>"
      ]
     },
     "metadata": {},
     "output_type": "display_data"
    }
   ],
   "source": [
    "# 日足チャート\n",
    "start_date = dt - relativedelta(days = 7 * (weeks + 1))\n",
    "end_date = dt + relativedelta(days = 7 * weeks)\n",
    "PFIG = PricelistFig(code, start_date=start_date, end_date=end_date)\n",
    "\n",
    "# 週末にvline\n",
    "df = read_data(fp)\n",
    "RPL = PricelistPl(df)\n",
    "df = RPL.df\n",
    "df = df.filter(pl.col(\"code\")==code)\\\n",
    ".filter(pl.col(\"date\")>=start_date)\\\n",
    ".filter(pl.col(\"date\")<=end_date)\n",
    "RPL = PricelistPl(df)\n",
    "RPL.with_columns_weekid()\n",
    "pdf = RPL.df\n",
    "pdf = pdf.group_by([\"weekid\"]).agg([\n",
    "    pl.col(\"date\").last()\n",
    "]).sort(by=[\"weekid\"])\n",
    "vline_dates = pdf[\"date\"].to_list()\n",
    "#vline_dates.remove(dt)\n",
    "for d in vline_dates:\n",
    "    PFIG.add_vline(d)\n",
    "\n",
    "# 該当日にvline\n",
    "PFIG.add_vline(dt, color=\"red\")\n",
    "\n",
    "PFIG.fig.show()"
   ]
  },
  {
   "cell_type": "code",
   "execution_count": null,
   "id": "1af4b69f-d8d7-45ca-85d4-b0311aec9f34",
   "metadata": {},
   "outputs": [],
   "source": []
  }
 ],
 "metadata": {
  "kernelspec": {
   "display_name": "Python 3 (ipykernel)",
   "language": "python",
   "name": "python3"
  },
  "language_info": {
   "codemirror_mode": {
    "name": "ipython",
    "version": 3
   },
   "file_extension": ".py",
   "mimetype": "text/x-python",
   "name": "python",
   "nbconvert_exporter": "python",
   "pygments_lexer": "ipython3",
   "version": "3.12.3"
  }
 },
 "nbformat": 4,
 "nbformat_minor": 5
}
