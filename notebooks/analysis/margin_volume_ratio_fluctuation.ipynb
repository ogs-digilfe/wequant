{
 "cells": [
  {
   "cell_type": "code",
   "execution_count": 1,
   "id": "a9153460-34ec-41ad-bb4c-d0bff1ce8e7d",
   "metadata": {},
   "outputs": [],
   "source": [
    "term = 25\n",
    "target = \"unsold_margin\"\n",
    "target = \"purchase_margin\"\n",
    "\n",
    "target_col = \"diff_unsold_margin_volume_ratio\"\n",
    "target_col = \"diff_purchase_margin_volume_ratio\"\n",
    "desc = False"
   ]
  },
  {
   "cell_type": "code",
   "execution_count": 2,
   "id": "b3a517fe-f52e-47b3-9843-b9b702035db8",
   "metadata": {},
   "outputs": [],
   "source": [
    "# 読み込みファイルパスの設定とimportしたいmoduleパス(pythonパス)の設定\n",
    "from pathlib import Path\n",
    "import os, sys\n",
    "\n",
    "CURRENT_DIR = Path(os.getcwd())\n",
    "PJ_DIR = CURRENT_DIR.parent.parent\n",
    "LIB_DIR = PJ_DIR / \"lib\"\n",
    "DATA_DIR = PJ_DIR / \"data\" \n",
    "\n",
    "sys.path.append(str(LIB_DIR))\n",
    "\n",
    "# notebook内で利用するmoduleのimport\n",
    "from lib_dataprocess import CreditbalancePl, PricelistPl, read_data, PricelistFig\n",
    "import polars as pl\n",
    "from datetime import date\n",
    "from dateutil.relativedelta import relativedelta"
   ]
  },
  {
   "cell_type": "code",
   "execution_count": 3,
   "id": "67e9e6d9-3211-4294-ba1d-cb3c982e76a7",
   "metadata": {},
   "outputs": [],
   "source": [
    "###### 空売り踏み上げの痕跡を探す"
   ]
  },
  {
   "cell_type": "code",
   "execution_count": 4,
   "id": "80c19b53-3a49-4f2e-b0c7-526c33334916",
   "metadata": {},
   "outputs": [],
   "source": [
    "# 信用残高データの加工\n",
    "CPL = CreditbalancePl()\n",
    "CPL.with_columns_margin_volume_ratio()\n",
    "CPL.with_columns_diff_margin()\n",
    "CPL.with_columns_diff_margin_rate()\n",
    "drop_cols = [\"diff_purchase_margin\", \"purchase_margin_volume_ratio\", \"diff_purchase_margin_rate\"]\n",
    "selected_cols = [c for c in CPL.df.columns if c not in drop_cols]\n",
    "df = CPL.df.select(selected_cols)\n",
    "# diff_unsold_marginが日足平均出来高に対してどの程度の増減であったか。\n",
    "df = df.with_columns([\n",
    "    (pl.col(\"diff_unsold_margin\") / pl.col(\"volume_ma25\")).round(2).alias(\"diff_vol_ratio\")\n",
    "])\n",
    "c_df =df"
   ]
  },
  {
   "cell_type": "code",
   "execution_count": 5,
   "id": "4e573698-6e66-4853-9209-24282832b567",
   "metadata": {},
   "outputs": [],
   "source": [
    "# 日足データの加工\n",
    "fp = DATA_DIR/\"reviced_pricelist.parquet\"\n",
    "df = read_data(fp)\n",
    "RPL = PricelistPl(df)"
   ]
  },
  {
   "cell_type": "code",
   "execution_count": 6,
   "id": "18a29afb-3961-4d76-a901-f092c28093ba",
   "metadata": {},
   "outputs": [],
   "source": [
    "RPL.convert_daily_to_weekly()"
   ]
  },
  {
   "cell_type": "code",
   "execution_count": 7,
   "id": "02d99fe2-ad20-42e3-a7a5-af28998d8d84",
   "metadata": {},
   "outputs": [],
   "source": [
    "df = RPL.df\n",
    "# 週の始値~終値までの騰落率列を追加\n",
    "df = df.with_columns([\n",
    "    (pl.lit(100)*(pl.col(\"close\") - pl.col(\"open\"))/pl.col(\"open\")).round(1).alias(\"updown_r\")\n",
    "])\n",
    "rpl_df = df"
   ]
  },
  {
   "cell_type": "code",
   "execution_count": 8,
   "id": "8a339dee-30e5-4edf-b378-48070b49eceb",
   "metadata": {},
   "outputs": [],
   "source": [
    "##### 連結してみる"
   ]
  },
  {
   "cell_type": "code",
   "execution_count": 9,
   "id": "705cd54a-2418-4e79-8620-6a746cc1a064",
   "metadata": {},
   "outputs": [],
   "source": [
    "rpl_df = rpl_df.select([\n",
    "    \"code\", \n",
    "    \"date\",\n",
    "    \"updown_r\"\n",
    "])\n",
    "df = c_df.join(rpl_df, on=[\"code\", \"date\"], how=\"left\")\n",
    "c_rpl_df = df"
   ]
  },
  {
   "cell_type": "code",
   "execution_count": 43,
   "id": "3cedecb6-3c10-4001-b008-24dcb8df9717",
   "metadata": {},
   "outputs": [
    {
     "data": {
      "text/html": [
       "<div><style>\n",
       ".dataframe > thead > tr,\n",
       ".dataframe > tbody > tr {\n",
       "  text-align: right;\n",
       "  white-space: pre-wrap;\n",
       "}\n",
       "</style>\n",
       "<small>shape: (5, 10)</small><table border=\"1\" class=\"dataframe\"><thead><tr><th>code</th><th>date</th><th>unsold_margin</th><th>purchase_margin</th><th>volume_ma25</th><th>unsold_margin_volume_ratio</th><th>diff_unsold_margin</th><th>diff_unsold_margin_rate</th><th>diff_vol_ratio</th><th>updown_r</th></tr><tr><td>i64</td><td>date</td><td>i64</td><td>i64</td><td>f64</td><td>f64</td><td>i64</td><td>f64</td><td>f64</td><td>f64</td></tr></thead><tbody><tr><td>8508</td><td>2019-02-22</td><td>660800</td><td>4316800</td><td>447768.0</td><td>1.48</td><td>-723800</td><td>-52.3</td><td>-1.62</td><td>17.5</td></tr><tr><td>7245</td><td>2009-03-27</td><td>715000</td><td>158000</td><td>112800.0</td><td>6.34</td><td>-137000</td><td>-16.1</td><td>-1.21</td><td>17.3</td></tr><tr><td>9072</td><td>2024-06-21</td><td>389700</td><td>45900</td><td>497552.0</td><td>0.78</td><td>-926300</td><td>-70.4</td><td>-1.86</td><td>16.6</td></tr><tr><td>7971</td><td>2011-03-18</td><td>60000</td><td>102000</td><td>109880.0</td><td>0.55</td><td>-114000</td><td>-65.5</td><td>-1.04</td><td>16.2</td></tr><tr><td>8011</td><td>2023-03-03</td><td>256400</td><td>187100</td><td>146716.0</td><td>1.75</td><td>-253100</td><td>-49.7</td><td>-1.73</td><td>15.5</td></tr></tbody></table></div>"
      ],
      "text/plain": [
       "shape: (5, 10)\n",
       "┌──────┬────────────┬────────────┬────────────┬───┬────────────┬────────────┬───────────┬──────────┐\n",
       "│ code ┆ date       ┆ unsold_mar ┆ purchase_m ┆ … ┆ diff_unsol ┆ diff_unsol ┆ diff_vol_ ┆ updown_r │\n",
       "│ ---  ┆ ---        ┆ gin        ┆ argin      ┆   ┆ d_margin   ┆ d_margin_r ┆ ratio     ┆ ---      │\n",
       "│ i64  ┆ date       ┆ ---        ┆ ---        ┆   ┆ ---        ┆ ate        ┆ ---       ┆ f64      │\n",
       "│      ┆            ┆ i64        ┆ i64        ┆   ┆ i64        ┆ ---        ┆ f64       ┆          │\n",
       "│      ┆            ┆            ┆            ┆   ┆            ┆ f64        ┆           ┆          │\n",
       "╞══════╪════════════╪════════════╪════════════╪═══╪════════════╪════════════╪═══════════╪══════════╡\n",
       "│ 8508 ┆ 2019-02-22 ┆ 660800     ┆ 4316800    ┆ … ┆ -723800    ┆ -52.3      ┆ -1.62     ┆ 17.5     │\n",
       "│ 7245 ┆ 2009-03-27 ┆ 715000     ┆ 158000     ┆ … ┆ -137000    ┆ -16.1      ┆ -1.21     ┆ 17.3     │\n",
       "│ 9072 ┆ 2024-06-21 ┆ 389700     ┆ 45900      ┆ … ┆ -926300    ┆ -70.4      ┆ -1.86     ┆ 16.6     │\n",
       "│ 7971 ┆ 2011-03-18 ┆ 60000      ┆ 102000     ┆ … ┆ -114000    ┆ -65.5      ┆ -1.04     ┆ 16.2     │\n",
       "│ 8011 ┆ 2023-03-03 ┆ 256400     ┆ 187100     ┆ … ┆ -253100    ┆ -49.7      ┆ -1.73     ┆ 15.5     │\n",
       "└──────┴────────────┴────────────┴────────────┴───┴────────────┴────────────┴───────────┴──────────┘"
      ]
     },
     "execution_count": 43,
     "metadata": {},
     "output_type": "execute_result"
    }
   ],
   "source": [
    "c_rpl_df\\\n",
    ".filter(pl.col(\"volume_ma25\")>100000)\\\n",
    ".filter(pl.col(\"diff_vol_ratio\")<-1)\\\n",
    ".sort(by=[\"updown_r\"], descending=[True])[10:15]"
   ]
  },
  {
   "cell_type": "code",
   "execution_count": 11,
   "id": "c45cd24c-da62-477a-a8b9-e5e842404cd1",
   "metadata": {},
   "outputs": [],
   "source": [
    "##### chart"
   ]
  },
  {
   "cell_type": "code",
   "execution_count": 48,
   "id": "ef3a1156-0f8b-4359-9837-b67d1a39b0de",
   "metadata": {},
   "outputs": [],
   "source": [
    "code = 9072\n",
    "dt = date(2024, 6, 21)\n",
    "weeks = 4"
   ]
  },
  {
   "cell_type": "code",
   "execution_count": 49,
   "id": "7cfeb58b-9ce4-4287-8222-b40587d68bfa",
   "metadata": {},
   "outputs": [
    {
     "data": {
      "application/vnd.plotly.v1+json": {
       "config": {
        "plotlyServerURL": "https://plot.ly"
       },
       "data": [
        {
         "close": [
          3050,
          3049,
          3047,
          2959,
          2952.5,
          2925,
          2927,
          2920.5,
          2897.5,
          2919,
          2984,
          3018,
          3004,
          2968,
          2954.5,
          2930.5,
          2955,
          2912,
          2918,
          2980.5,
          3037,
          2988,
          3036,
          3078,
          3452,
          3534,
          3478,
          3538,
          3627,
          3680,
          3639,
          3562,
          3696,
          3644,
          3634,
          3604,
          3572,
          3585,
          3627,
          3618,
          3655,
          3667,
          3701,
          3735,
          3727
         ],
         "high": [
          3053,
          3082,
          3082,
          3038,
          2992,
          2965,
          2940,
          2942,
          2928.5,
          2921.5,
          2997.5,
          3043,
          3010,
          3000,
          2974,
          2969,
          2965.5,
          3008,
          2946.5,
          2993,
          3044,
          3045,
          3063,
          3082,
          3460,
          3658,
          3542,
          3575,
          3631,
          3700,
          3712,
          3654,
          3704,
          3759,
          3668,
          3646,
          3617,
          3599,
          3638,
          3642,
          3671,
          3682,
          3719,
          3770,
          3732
         ],
         "low": [
          3000,
          3049,
          3040,
          2958,
          2939,
          2916,
          2904,
          2912,
          2889.5,
          2870,
          2931,
          3002,
          2972,
          2958.5,
          2930.5,
          2923.5,
          2725.5,
          2912,
          2896.5,
          2920.5,
          2972.5,
          2966,
          2956,
          3050,
          3253,
          3467,
          3455,
          3502,
          3515,
          3645,
          3635,
          3550,
          3570,
          3640,
          3616,
          3592,
          3531,
          3546,
          3595,
          3602,
          3594,
          3652,
          3670,
          3702,
          3691
         ],
         "name": "株価",
         "open": [
          3000,
          3055,
          3056,
          3038,
          2948,
          2929,
          2940,
          2927,
          2912.5,
          2893.5,
          2934,
          3002,
          2976,
          2990,
          2968,
          2936.5,
          2730.5,
          2950,
          2920,
          2939.5,
          2996,
          3032,
          2967.5,
          3050,
          3300,
          3467,
          3531,
          3528,
          3533,
          3660,
          3680,
          3640,
          3570,
          3665,
          3636,
          3640,
          3604,
          3572,
          3595,
          3627,
          3605,
          3660,
          3691,
          3702,
          3720
         ],
         "type": "candlestick",
         "x": [
          "2024-05-17",
          "2024-05-20",
          "2024-05-21",
          "2024-05-22",
          "2024-05-23",
          "2024-05-24",
          "2024-05-27",
          "2024-05-28",
          "2024-05-29",
          "2024-05-30",
          "2024-05-31",
          "2024-06-03",
          "2024-06-04",
          "2024-06-05",
          "2024-06-06",
          "2024-06-07",
          "2024-06-10",
          "2024-06-11",
          "2024-06-12",
          "2024-06-13",
          "2024-06-14",
          "2024-06-17",
          "2024-06-18",
          "2024-06-19",
          "2024-06-20",
          "2024-06-21",
          "2024-06-24",
          "2024-06-25",
          "2024-06-26",
          "2024-06-27",
          "2024-06-28",
          "2024-07-01",
          "2024-07-02",
          "2024-07-03",
          "2024-07-04",
          "2024-07-05",
          "2024-07-08",
          "2024-07-09",
          "2024-07-10",
          "2024-07-11",
          "2024-07-12",
          "2024-07-16",
          "2024-07-17",
          "2024-07-18",
          "2024-07-19"
         ],
         "xaxis": "x",
         "yaxis": "y"
        },
        {
         "marker": {
          "color": "blue"
         },
         "name": "出来高",
         "type": "bar",
         "x": [
          "2024-05-17",
          "2024-05-20",
          "2024-05-21",
          "2024-05-22",
          "2024-05-23",
          "2024-05-24",
          "2024-05-27",
          "2024-05-28",
          "2024-05-29",
          "2024-05-30",
          "2024-05-31",
          "2024-06-03",
          "2024-06-04",
          "2024-06-05",
          "2024-06-06",
          "2024-06-07",
          "2024-06-10",
          "2024-06-11",
          "2024-06-12",
          "2024-06-13",
          "2024-06-14",
          "2024-06-17",
          "2024-06-18",
          "2024-06-19",
          "2024-06-20",
          "2024-06-21",
          "2024-06-24",
          "2024-06-25",
          "2024-06-26",
          "2024-06-27",
          "2024-06-28",
          "2024-07-01",
          "2024-07-02",
          "2024-07-03",
          "2024-07-04",
          "2024-07-05",
          "2024-07-08",
          "2024-07-09",
          "2024-07-10",
          "2024-07-11",
          "2024-07-12",
          "2024-07-16",
          "2024-07-17",
          "2024-07-18",
          "2024-07-19"
         ],
         "xaxis": "x2",
         "y": [
          54100,
          61700,
          68800,
          118900,
          65200,
          84700,
          47900,
          62800,
          65300,
          69100,
          183100,
          68700,
          58000,
          62200,
          61900,
          53000,
          1449800,
          616000,
          374100,
          418100,
          491700,
          1551600,
          1522300,
          516600,
          3342200,
          1025100,
          480500,
          304600,
          277800,
          335000,
          300000,
          356800,
          319900,
          421800,
          211500,
          234300,
          244100,
          198300,
          213200,
          247800,
          235700,
          142700,
          126200,
          174100,
          169800
         ],
         "yaxis": "y2"
        }
       ],
       "layout": {
        "autosize": true,
        "shapes": [
         {
          "line": {
           "color": "grey",
           "width": 1
          },
          "opacity": 0.5,
          "type": "line",
          "x0": "2024-05-17",
          "x1": "2024-05-17",
          "xref": "x",
          "y0": 0,
          "y1": 1,
          "yref": "y domain"
         },
         {
          "line": {
           "color": "grey",
           "width": 1
          },
          "opacity": 0.5,
          "type": "line",
          "x0": "2024-05-17",
          "x1": "2024-05-17",
          "xref": "x2",
          "y0": 0,
          "y1": 1,
          "yref": "y2 domain"
         },
         {
          "line": {
           "color": "grey",
           "width": 1
          },
          "opacity": 0.5,
          "type": "line",
          "x0": "2024-05-24",
          "x1": "2024-05-24",
          "xref": "x",
          "y0": 0,
          "y1": 1,
          "yref": "y domain"
         },
         {
          "line": {
           "color": "grey",
           "width": 1
          },
          "opacity": 0.5,
          "type": "line",
          "x0": "2024-05-24",
          "x1": "2024-05-24",
          "xref": "x2",
          "y0": 0,
          "y1": 1,
          "yref": "y2 domain"
         },
         {
          "line": {
           "color": "grey",
           "width": 1
          },
          "opacity": 0.5,
          "type": "line",
          "x0": "2024-05-31",
          "x1": "2024-05-31",
          "xref": "x",
          "y0": 0,
          "y1": 1,
          "yref": "y domain"
         },
         {
          "line": {
           "color": "grey",
           "width": 1
          },
          "opacity": 0.5,
          "type": "line",
          "x0": "2024-05-31",
          "x1": "2024-05-31",
          "xref": "x2",
          "y0": 0,
          "y1": 1,
          "yref": "y2 domain"
         },
         {
          "line": {
           "color": "grey",
           "width": 1
          },
          "opacity": 0.5,
          "type": "line",
          "x0": "2024-06-07",
          "x1": "2024-06-07",
          "xref": "x",
          "y0": 0,
          "y1": 1,
          "yref": "y domain"
         },
         {
          "line": {
           "color": "grey",
           "width": 1
          },
          "opacity": 0.5,
          "type": "line",
          "x0": "2024-06-07",
          "x1": "2024-06-07",
          "xref": "x2",
          "y0": 0,
          "y1": 1,
          "yref": "y2 domain"
         },
         {
          "line": {
           "color": "grey",
           "width": 1
          },
          "opacity": 0.5,
          "type": "line",
          "x0": "2024-06-14",
          "x1": "2024-06-14",
          "xref": "x",
          "y0": 0,
          "y1": 1,
          "yref": "y domain"
         },
         {
          "line": {
           "color": "grey",
           "width": 1
          },
          "opacity": 0.5,
          "type": "line",
          "x0": "2024-06-14",
          "x1": "2024-06-14",
          "xref": "x2",
          "y0": 0,
          "y1": 1,
          "yref": "y2 domain"
         },
         {
          "line": {
           "color": "grey",
           "width": 1
          },
          "opacity": 0.5,
          "type": "line",
          "x0": "2024-06-28",
          "x1": "2024-06-28",
          "xref": "x",
          "y0": 0,
          "y1": 1,
          "yref": "y domain"
         },
         {
          "line": {
           "color": "grey",
           "width": 1
          },
          "opacity": 0.5,
          "type": "line",
          "x0": "2024-06-28",
          "x1": "2024-06-28",
          "xref": "x2",
          "y0": 0,
          "y1": 1,
          "yref": "y2 domain"
         },
         {
          "line": {
           "color": "grey",
           "width": 1
          },
          "opacity": 0.5,
          "type": "line",
          "x0": "2024-07-05",
          "x1": "2024-07-05",
          "xref": "x",
          "y0": 0,
          "y1": 1,
          "yref": "y domain"
         },
         {
          "line": {
           "color": "grey",
           "width": 1
          },
          "opacity": 0.5,
          "type": "line",
          "x0": "2024-07-05",
          "x1": "2024-07-05",
          "xref": "x2",
          "y0": 0,
          "y1": 1,
          "yref": "y2 domain"
         },
         {
          "line": {
           "color": "grey",
           "width": 1
          },
          "opacity": 0.5,
          "type": "line",
          "x0": "2024-07-12",
          "x1": "2024-07-12",
          "xref": "x",
          "y0": 0,
          "y1": 1,
          "yref": "y domain"
         },
         {
          "line": {
           "color": "grey",
           "width": 1
          },
          "opacity": 0.5,
          "type": "line",
          "x0": "2024-07-12",
          "x1": "2024-07-12",
          "xref": "x2",
          "y0": 0,
          "y1": 1,
          "yref": "y2 domain"
         },
         {
          "line": {
           "color": "grey",
           "width": 1
          },
          "opacity": 0.5,
          "type": "line",
          "x0": "2024-07-19",
          "x1": "2024-07-19",
          "xref": "x",
          "y0": 0,
          "y1": 1,
          "yref": "y domain"
         },
         {
          "line": {
           "color": "grey",
           "width": 1
          },
          "opacity": 0.5,
          "type": "line",
          "x0": "2024-07-19",
          "x1": "2024-07-19",
          "xref": "x2",
          "y0": 0,
          "y1": 1,
          "yref": "y2 domain"
         },
         {
          "line": {
           "color": "red",
           "width": 1
          },
          "opacity": 0.5,
          "type": "line",
          "x0": "2024-06-21",
          "x1": "2024-06-21",
          "xref": "x",
          "y0": 0,
          "y1": 1,
          "yref": "y domain"
         },
         {
          "line": {
           "color": "red",
           "width": 1
          },
          "opacity": 0.5,
          "type": "line",
          "x0": "2024-06-21",
          "x1": "2024-06-21",
          "xref": "x2",
          "y0": 0,
          "y1": 1,
          "yref": "y2 domain"
         }
        ],
        "template": {
         "data": {
          "bar": [
           {
            "error_x": {
             "color": "#2a3f5f"
            },
            "error_y": {
             "color": "#2a3f5f"
            },
            "marker": {
             "line": {
              "color": "#E5ECF6",
              "width": 0.5
             },
             "pattern": {
              "fillmode": "overlay",
              "size": 10,
              "solidity": 0.2
             }
            },
            "type": "bar"
           }
          ],
          "barpolar": [
           {
            "marker": {
             "line": {
              "color": "#E5ECF6",
              "width": 0.5
             },
             "pattern": {
              "fillmode": "overlay",
              "size": 10,
              "solidity": 0.2
             }
            },
            "type": "barpolar"
           }
          ],
          "carpet": [
           {
            "aaxis": {
             "endlinecolor": "#2a3f5f",
             "gridcolor": "white",
             "linecolor": "white",
             "minorgridcolor": "white",
             "startlinecolor": "#2a3f5f"
            },
            "baxis": {
             "endlinecolor": "#2a3f5f",
             "gridcolor": "white",
             "linecolor": "white",
             "minorgridcolor": "white",
             "startlinecolor": "#2a3f5f"
            },
            "type": "carpet"
           }
          ],
          "choropleth": [
           {
            "colorbar": {
             "outlinewidth": 0,
             "ticks": ""
            },
            "type": "choropleth"
           }
          ],
          "contour": [
           {
            "colorbar": {
             "outlinewidth": 0,
             "ticks": ""
            },
            "colorscale": [
             [
              0,
              "#0d0887"
             ],
             [
              0.1111111111111111,
              "#46039f"
             ],
             [
              0.2222222222222222,
              "#7201a8"
             ],
             [
              0.3333333333333333,
              "#9c179e"
             ],
             [
              0.4444444444444444,
              "#bd3786"
             ],
             [
              0.5555555555555556,
              "#d8576b"
             ],
             [
              0.6666666666666666,
              "#ed7953"
             ],
             [
              0.7777777777777778,
              "#fb9f3a"
             ],
             [
              0.8888888888888888,
              "#fdca26"
             ],
             [
              1,
              "#f0f921"
             ]
            ],
            "type": "contour"
           }
          ],
          "contourcarpet": [
           {
            "colorbar": {
             "outlinewidth": 0,
             "ticks": ""
            },
            "type": "contourcarpet"
           }
          ],
          "heatmap": [
           {
            "colorbar": {
             "outlinewidth": 0,
             "ticks": ""
            },
            "colorscale": [
             [
              0,
              "#0d0887"
             ],
             [
              0.1111111111111111,
              "#46039f"
             ],
             [
              0.2222222222222222,
              "#7201a8"
             ],
             [
              0.3333333333333333,
              "#9c179e"
             ],
             [
              0.4444444444444444,
              "#bd3786"
             ],
             [
              0.5555555555555556,
              "#d8576b"
             ],
             [
              0.6666666666666666,
              "#ed7953"
             ],
             [
              0.7777777777777778,
              "#fb9f3a"
             ],
             [
              0.8888888888888888,
              "#fdca26"
             ],
             [
              1,
              "#f0f921"
             ]
            ],
            "type": "heatmap"
           }
          ],
          "heatmapgl": [
           {
            "colorbar": {
             "outlinewidth": 0,
             "ticks": ""
            },
            "colorscale": [
             [
              0,
              "#0d0887"
             ],
             [
              0.1111111111111111,
              "#46039f"
             ],
             [
              0.2222222222222222,
              "#7201a8"
             ],
             [
              0.3333333333333333,
              "#9c179e"
             ],
             [
              0.4444444444444444,
              "#bd3786"
             ],
             [
              0.5555555555555556,
              "#d8576b"
             ],
             [
              0.6666666666666666,
              "#ed7953"
             ],
             [
              0.7777777777777778,
              "#fb9f3a"
             ],
             [
              0.8888888888888888,
              "#fdca26"
             ],
             [
              1,
              "#f0f921"
             ]
            ],
            "type": "heatmapgl"
           }
          ],
          "histogram": [
           {
            "marker": {
             "pattern": {
              "fillmode": "overlay",
              "size": 10,
              "solidity": 0.2
             }
            },
            "type": "histogram"
           }
          ],
          "histogram2d": [
           {
            "colorbar": {
             "outlinewidth": 0,
             "ticks": ""
            },
            "colorscale": [
             [
              0,
              "#0d0887"
             ],
             [
              0.1111111111111111,
              "#46039f"
             ],
             [
              0.2222222222222222,
              "#7201a8"
             ],
             [
              0.3333333333333333,
              "#9c179e"
             ],
             [
              0.4444444444444444,
              "#bd3786"
             ],
             [
              0.5555555555555556,
              "#d8576b"
             ],
             [
              0.6666666666666666,
              "#ed7953"
             ],
             [
              0.7777777777777778,
              "#fb9f3a"
             ],
             [
              0.8888888888888888,
              "#fdca26"
             ],
             [
              1,
              "#f0f921"
             ]
            ],
            "type": "histogram2d"
           }
          ],
          "histogram2dcontour": [
           {
            "colorbar": {
             "outlinewidth": 0,
             "ticks": ""
            },
            "colorscale": [
             [
              0,
              "#0d0887"
             ],
             [
              0.1111111111111111,
              "#46039f"
             ],
             [
              0.2222222222222222,
              "#7201a8"
             ],
             [
              0.3333333333333333,
              "#9c179e"
             ],
             [
              0.4444444444444444,
              "#bd3786"
             ],
             [
              0.5555555555555556,
              "#d8576b"
             ],
             [
              0.6666666666666666,
              "#ed7953"
             ],
             [
              0.7777777777777778,
              "#fb9f3a"
             ],
             [
              0.8888888888888888,
              "#fdca26"
             ],
             [
              1,
              "#f0f921"
             ]
            ],
            "type": "histogram2dcontour"
           }
          ],
          "mesh3d": [
           {
            "colorbar": {
             "outlinewidth": 0,
             "ticks": ""
            },
            "type": "mesh3d"
           }
          ],
          "parcoords": [
           {
            "line": {
             "colorbar": {
              "outlinewidth": 0,
              "ticks": ""
             }
            },
            "type": "parcoords"
           }
          ],
          "pie": [
           {
            "automargin": true,
            "type": "pie"
           }
          ],
          "scatter": [
           {
            "fillpattern": {
             "fillmode": "overlay",
             "size": 10,
             "solidity": 0.2
            },
            "type": "scatter"
           }
          ],
          "scatter3d": [
           {
            "line": {
             "colorbar": {
              "outlinewidth": 0,
              "ticks": ""
             }
            },
            "marker": {
             "colorbar": {
              "outlinewidth": 0,
              "ticks": ""
             }
            },
            "type": "scatter3d"
           }
          ],
          "scattercarpet": [
           {
            "marker": {
             "colorbar": {
              "outlinewidth": 0,
              "ticks": ""
             }
            },
            "type": "scattercarpet"
           }
          ],
          "scattergeo": [
           {
            "marker": {
             "colorbar": {
              "outlinewidth": 0,
              "ticks": ""
             }
            },
            "type": "scattergeo"
           }
          ],
          "scattergl": [
           {
            "marker": {
             "colorbar": {
              "outlinewidth": 0,
              "ticks": ""
             }
            },
            "type": "scattergl"
           }
          ],
          "scattermapbox": [
           {
            "marker": {
             "colorbar": {
              "outlinewidth": 0,
              "ticks": ""
             }
            },
            "type": "scattermapbox"
           }
          ],
          "scatterpolar": [
           {
            "marker": {
             "colorbar": {
              "outlinewidth": 0,
              "ticks": ""
             }
            },
            "type": "scatterpolar"
           }
          ],
          "scatterpolargl": [
           {
            "marker": {
             "colorbar": {
              "outlinewidth": 0,
              "ticks": ""
             }
            },
            "type": "scatterpolargl"
           }
          ],
          "scatterternary": [
           {
            "marker": {
             "colorbar": {
              "outlinewidth": 0,
              "ticks": ""
             }
            },
            "type": "scatterternary"
           }
          ],
          "surface": [
           {
            "colorbar": {
             "outlinewidth": 0,
             "ticks": ""
            },
            "colorscale": [
             [
              0,
              "#0d0887"
             ],
             [
              0.1111111111111111,
              "#46039f"
             ],
             [
              0.2222222222222222,
              "#7201a8"
             ],
             [
              0.3333333333333333,
              "#9c179e"
             ],
             [
              0.4444444444444444,
              "#bd3786"
             ],
             [
              0.5555555555555556,
              "#d8576b"
             ],
             [
              0.6666666666666666,
              "#ed7953"
             ],
             [
              0.7777777777777778,
              "#fb9f3a"
             ],
             [
              0.8888888888888888,
              "#fdca26"
             ],
             [
              1,
              "#f0f921"
             ]
            ],
            "type": "surface"
           }
          ],
          "table": [
           {
            "cells": {
             "fill": {
              "color": "#EBF0F8"
             },
             "line": {
              "color": "white"
             }
            },
            "header": {
             "fill": {
              "color": "#C8D4E3"
             },
             "line": {
              "color": "white"
             }
            },
            "type": "table"
           }
          ]
         },
         "layout": {
          "annotationdefaults": {
           "arrowcolor": "#2a3f5f",
           "arrowhead": 0,
           "arrowwidth": 1
          },
          "autotypenumbers": "strict",
          "coloraxis": {
           "colorbar": {
            "outlinewidth": 0,
            "ticks": ""
           }
          },
          "colorscale": {
           "diverging": [
            [
             0,
             "#8e0152"
            ],
            [
             0.1,
             "#c51b7d"
            ],
            [
             0.2,
             "#de77ae"
            ],
            [
             0.3,
             "#f1b6da"
            ],
            [
             0.4,
             "#fde0ef"
            ],
            [
             0.5,
             "#f7f7f7"
            ],
            [
             0.6,
             "#e6f5d0"
            ],
            [
             0.7,
             "#b8e186"
            ],
            [
             0.8,
             "#7fbc41"
            ],
            [
             0.9,
             "#4d9221"
            ],
            [
             1,
             "#276419"
            ]
           ],
           "sequential": [
            [
             0,
             "#0d0887"
            ],
            [
             0.1111111111111111,
             "#46039f"
            ],
            [
             0.2222222222222222,
             "#7201a8"
            ],
            [
             0.3333333333333333,
             "#9c179e"
            ],
            [
             0.4444444444444444,
             "#bd3786"
            ],
            [
             0.5555555555555556,
             "#d8576b"
            ],
            [
             0.6666666666666666,
             "#ed7953"
            ],
            [
             0.7777777777777778,
             "#fb9f3a"
            ],
            [
             0.8888888888888888,
             "#fdca26"
            ],
            [
             1,
             "#f0f921"
            ]
           ],
           "sequentialminus": [
            [
             0,
             "#0d0887"
            ],
            [
             0.1111111111111111,
             "#46039f"
            ],
            [
             0.2222222222222222,
             "#7201a8"
            ],
            [
             0.3333333333333333,
             "#9c179e"
            ],
            [
             0.4444444444444444,
             "#bd3786"
            ],
            [
             0.5555555555555556,
             "#d8576b"
            ],
            [
             0.6666666666666666,
             "#ed7953"
            ],
            [
             0.7777777777777778,
             "#fb9f3a"
            ],
            [
             0.8888888888888888,
             "#fdca26"
            ],
            [
             1,
             "#f0f921"
            ]
           ]
          },
          "colorway": [
           "#636efa",
           "#EF553B",
           "#00cc96",
           "#ab63fa",
           "#FFA15A",
           "#19d3f3",
           "#FF6692",
           "#B6E880",
           "#FF97FF",
           "#FECB52"
          ],
          "font": {
           "color": "#2a3f5f"
          },
          "geo": {
           "bgcolor": "white",
           "lakecolor": "white",
           "landcolor": "#E5ECF6",
           "showlakes": true,
           "showland": true,
           "subunitcolor": "white"
          },
          "hoverlabel": {
           "align": "left"
          },
          "hovermode": "closest",
          "mapbox": {
           "style": "light"
          },
          "paper_bgcolor": "white",
          "plot_bgcolor": "#E5ECF6",
          "polar": {
           "angularaxis": {
            "gridcolor": "white",
            "linecolor": "white",
            "ticks": ""
           },
           "bgcolor": "#E5ECF6",
           "radialaxis": {
            "gridcolor": "white",
            "linecolor": "white",
            "ticks": ""
           }
          },
          "scene": {
           "xaxis": {
            "backgroundcolor": "#E5ECF6",
            "gridcolor": "white",
            "gridwidth": 2,
            "linecolor": "white",
            "showbackground": true,
            "ticks": "",
            "zerolinecolor": "white"
           },
           "yaxis": {
            "backgroundcolor": "#E5ECF6",
            "gridcolor": "white",
            "gridwidth": 2,
            "linecolor": "white",
            "showbackground": true,
            "ticks": "",
            "zerolinecolor": "white"
           },
           "zaxis": {
            "backgroundcolor": "#E5ECF6",
            "gridcolor": "white",
            "gridwidth": 2,
            "linecolor": "white",
            "showbackground": true,
            "ticks": "",
            "zerolinecolor": "white"
           }
          },
          "shapedefaults": {
           "line": {
            "color": "#2a3f5f"
           }
          },
          "ternary": {
           "aaxis": {
            "gridcolor": "white",
            "linecolor": "white",
            "ticks": ""
           },
           "baxis": {
            "gridcolor": "white",
            "linecolor": "white",
            "ticks": ""
           },
           "bgcolor": "#E5ECF6",
           "caxis": {
            "gridcolor": "white",
            "linecolor": "white",
            "ticks": ""
           }
          },
          "title": {
           "x": 0.05
          },
          "xaxis": {
           "automargin": true,
           "gridcolor": "white",
           "linecolor": "white",
           "ticks": "",
           "title": {
            "standoff": 15
           },
           "zerolinecolor": "white",
           "zerolinewidth": 2
          },
          "yaxis": {
           "automargin": true,
           "gridcolor": "white",
           "linecolor": "white",
           "ticks": "",
           "title": {
            "standoff": 15
           },
           "zerolinecolor": "white",
           "zerolinewidth": 2
          }
         }
        },
        "title": {
         "text": "ニッコン HD(9072)株価ローソクチャートと出来高2024-05-17 ～ 2024-07-19"
        },
        "xaxis": {
         "anchor": "y",
         "autorange": true,
         "domain": [
          0,
          1
         ],
         "matches": "x2",
         "range": [
          -0.5,
          44.5
         ],
         "rangeslider": {
          "visible": false,
          "yaxis": {}
         },
         "showticklabels": false,
         "type": "category"
        },
        "xaxis2": {
         "anchor": "y2",
         "autorange": true,
         "domain": [
          0,
          1
         ],
         "range": [
          -0.5,
          44.5
         ],
         "tickangle": 45,
         "tickvals": [
          "2024-05-17",
          "2024-05-23",
          "2024-05-29",
          "2024-06-04",
          "2024-06-10",
          "2024-06-14",
          "2024-06-20",
          "2024-06-26",
          "2024-07-02",
          "2024-07-08",
          "2024-07-12",
          "2024-07-19"
         ],
         "title": {
          "text": "取引日"
         },
         "type": "category"
        },
        "yaxis": {
         "anchor": "x",
         "autorange": true,
         "domain": [
          0.2461538461538461,
          0.9999999999999998
         ],
         "range": [
          2667.472222222222,
          3828.027777777778
         ],
         "title": {
          "text": "株価"
         }
        },
        "yaxis2": {
         "anchor": "x2",
         "autorange": true,
         "domain": [
          0,
          0.22615384615384612
         ],
         "range": [
          0,
          3518105.263157895
         ],
         "title": {
          "text": "出来高"
         },
         "type": "linear"
        }
       }
      },
      "image/png": "[encoded data removed]",
      "text/html": [
       "<div>                            <div id=\"4a29b929-7e64-4536-b361-873f2ed44fe7\" class=\"plotly-graph-div\" style=\"height:600px; width:100%;\"></div>            <script type=\"text/javascript\">                require([\"plotly\"], function(Plotly) {                    window.PLOTLYENV=window.PLOTLYENV || {};                                    if (document.getElementById(\"4a29b929-7e64-4536-b361-873f2ed44fe7\")) {                    Plotly.newPlot(                        \"4a29b929-7e64-4536-b361-873f2ed44fe7\",                        [{\"close\":[3050.0,3049.0,3047.0,2959.0,2952.5,2925.0,2927.0,2920.5,2897.5,2919.0,2984.0,3018.0,3004.0,2968.0,2954.5,2930.5,2955.0,2912.0,2918.0,2980.5,3037.0,2988.0,3036.0,3078.0,3452.0,3534.0,3478.0,3538.0,3627.0,3680.0,3639.0,3562.0,3696.0,3644.0,3634.0,3604.0,3572.0,3585.0,3627.0,3618.0,3655.0,3667.0,3701.0,3735.0,3727.0],\"high\":[3053.0,3082.0,3082.0,3038.0,2992.0,2965.0,2940.0,2942.0,2928.5,2921.5,2997.5,3043.0,3010.0,3000.0,2974.0,2969.0,2965.5,3008.0,2946.5,2993.0,3044.0,3045.0,3063.0,3082.0,3460.0,3658.0,3542.0,3575.0,3631.0,3700.0,3712.0,3654.0,3704.0,3759.0,3668.0,3646.0,3617.0,3599.0,3638.0,3642.0,3671.0,3682.0,3719.0,3770.0,3732.0],\"low\":[3000.0,3049.0,3040.0,2958.0,2939.0,2916.0,2904.0,2912.0,2889.5,2870.0,2931.0,3002.0,2972.0,2958.5,2930.5,2923.5,2725.5,2912.0,2896.5,2920.5,2972.5,2966.0,2956.0,3050.0,3253.0,3467.0,3455.0,3502.0,3515.0,3645.0,3635.0,3550.0,3570.0,3640.0,3616.0,3592.0,3531.0,3546.0,3595.0,3602.0,3594.0,3652.0,3670.0,3702.0,3691.0],\"name\":\"\\u682a\\u4fa1\",\"open\":[3000.0,3055.0,3056.0,3038.0,2948.0,2929.0,2940.0,2927.0,2912.5,2893.5,2934.0,3002.0,2976.0,2990.0,2968.0,2936.5,2730.5,2950.0,2920.0,2939.5,2996.0,3032.0,2967.5,3050.0,3300.0,3467.0,3531.0,3528.0,3533.0,3660.0,3680.0,3640.0,3570.0,3665.0,3636.0,3640.0,3604.0,3572.0,3595.0,3627.0,3605.0,3660.0,3691.0,3702.0,3720.0],\"x\":[\"2024-05-17\",\"2024-05-20\",\"2024-05-21\",\"2024-05-22\",\"2024-05-23\",\"2024-05-24\",\"2024-05-27\",\"2024-05-28\",\"2024-05-29\",\"2024-05-30\",\"2024-05-31\",\"2024-06-03\",\"2024-06-04\",\"2024-06-05\",\"2024-06-06\",\"2024-06-07\",\"2024-06-10\",\"2024-06-11\",\"2024-06-12\",\"2024-06-13\",\"2024-06-14\",\"2024-06-17\",\"2024-06-18\",\"2024-06-19\",\"2024-06-20\",\"2024-06-21\",\"2024-06-24\",\"2024-06-25\",\"2024-06-26\",\"2024-06-27\",\"2024-06-28\",\"2024-07-01\",\"2024-07-02\",\"2024-07-03\",\"2024-07-04\",\"2024-07-05\",\"2024-07-08\",\"2024-07-09\",\"2024-07-10\",\"2024-07-11\",\"2024-07-12\",\"2024-07-16\",\"2024-07-17\",\"2024-07-18\",\"2024-07-19\"],\"type\":\"candlestick\",\"xaxis\":\"x\",\"yaxis\":\"y\"},{\"marker\":{\"color\":\"blue\"},\"name\":\"\\u51fa\\u6765\\u9ad8\",\"x\":[\"2024-05-17\",\"2024-05-20\",\"2024-05-21\",\"2024-05-22\",\"2024-05-23\",\"2024-05-24\",\"2024-05-27\",\"2024-05-28\",\"2024-05-29\",\"2024-05-30\",\"2024-05-31\",\"2024-06-03\",\"2024-06-04\",\"2024-06-05\",\"2024-06-06\",\"2024-06-07\",\"2024-06-10\",\"2024-06-11\",\"2024-06-12\",\"2024-06-13\",\"2024-06-14\",\"2024-06-17\",\"2024-06-18\",\"2024-06-19\",\"2024-06-20\",\"2024-06-21\",\"2024-06-24\",\"2024-06-25\",\"2024-06-26\",\"2024-06-27\",\"2024-06-28\",\"2024-07-01\",\"2024-07-02\",\"2024-07-03\",\"2024-07-04\",\"2024-07-05\",\"2024-07-08\",\"2024-07-09\",\"2024-07-10\",\"2024-07-11\",\"2024-07-12\",\"2024-07-16\",\"2024-07-17\",\"2024-07-18\",\"2024-07-19\"],\"y\":[54100.0,61700.0,68800.0,118900.0,65200.0,84700.0,47900.0,62800.0,65300.0,69100.0,183100.0,68700.0,58000.0,62200.0,61900.0,53000.0,1449800.0,616000.0,374100.0,418100.0,491700.0,1551600.0,1522300.0,516600.0,3342200.0,1025100.0,480500.0,304600.0,277800.0,335000.0,300000.0,356800.0,319900.0,421800.0,211500.0,234300.0,244100.0,198300.0,213200.0,247800.0,235700.0,142700.0,126200.0,174100.0,169800.0],\"type\":\"bar\",\"xaxis\":\"x2\",\"yaxis\":\"y2\"}],                        {\"template\":{\"data\":{\"histogram2dcontour\":[{\"type\":\"histogram2dcontour\",\"colorbar\":{\"outlinewidth\":0,\"ticks\":\"\"},\"colorscale\":[[0.0,\"#0d0887\"],[0.1111111111111111,\"#46039f\"],[0.2222222222222222,\"#7201a8\"],[0.3333333333333333,\"#9c179e\"],[0.4444444444444444,\"#bd3786\"],[0.5555555555555556,\"#d8576b\"],[0.6666666666666666,\"#ed7953\"],[0.7777777777777778,\"#fb9f3a\"],[0.8888888888888888,\"#fdca26\"],[1.0,\"#f0f921\"]]}],\"choropleth\":[{\"type\":\"choropleth\",\"colorbar\":{\"outlinewidth\":0,\"ticks\":\"\"}}],\"histogram2d\":[{\"type\":\"histogram2d\",\"colorbar\":{\"outlinewidth\":0,\"ticks\":\"\"},\"colorscale\":[[0.0,\"#0d0887\"],[0.1111111111111111,\"#46039f\"],[0.2222222222222222,\"#7201a8\"],[0.3333333333333333,\"#9c179e\"],[0.4444444444444444,\"#bd3786\"],[0.5555555555555556,\"#d8576b\"],[0.6666666666666666,\"#ed7953\"],[0.7777777777777778,\"#fb9f3a\"],[0.8888888888888888,\"#fdca26\"],[1.0,\"#f0f921\"]]}],\"heatmap\":[{\"type\":\"heatmap\",\"colorbar\":{\"outlinewidth\":0,\"ticks\":\"\"},\"colorscale\":[[0.0,\"#0d0887\"],[0.1111111111111111,\"#46039f\"],[0.2222222222222222,\"#7201a8\"],[0.3333333333333333,\"#9c179e\"],[0.4444444444444444,\"#bd3786\"],[0.5555555555555556,\"#d8576b\"],[0.6666666666666666,\"#ed7953\"],[0.7777777777777778,\"#fb9f3a\"],[0.8888888888888888,\"#fdca26\"],[1.0,\"#f0f921\"]]}],\"heatmapgl\":[{\"type\":\"heatmapgl\",\"colorbar\":{\"outlinewidth\":0,\"ticks\":\"\"},\"colorscale\":[[0.0,\"#0d0887\"],[0.1111111111111111,\"#46039f\"],[0.2222222222222222,\"#7201a8\"],[0.3333333333333333,\"#9c179e\"],[0.4444444444444444,\"#bd3786\"],[0.5555555555555556,\"#d8576b\"],[0.6666666666666666,\"#ed7953\"],[0.7777777777777778,\"#fb9f3a\"],[0.8888888888888888,\"#fdca26\"],[1.0,\"#f0f921\"]]}],\"contourcarpet\":[{\"type\":\"contourcarpet\",\"colorbar\":{\"outlinewidth\":0,\"ticks\":\"\"}}],\"contour\":[{\"type\":\"contour\",\"colorbar\":{\"outlinewidth\":0,\"ticks\":\"\"},\"colorscale\":[[0.0,\"#0d0887\"],[0.1111111111111111,\"#46039f\"],[0.2222222222222222,\"#7201a8\"],[0.3333333333333333,\"#9c179e\"],[0.4444444444444444,\"#bd3786\"],[0.5555555555555556,\"#d8576b\"],[0.6666666666666666,\"#ed7953\"],[0.7777777777777778,\"#fb9f3a\"],[0.8888888888888888,\"#fdca26\"],[1.0,\"#f0f921\"]]}],\"surface\":[{\"type\":\"surface\",\"colorbar\":{\"outlinewidth\":0,\"ticks\":\"\"},\"colorscale\":[[0.0,\"#0d0887\"],[0.1111111111111111,\"#46039f\"],[0.2222222222222222,\"#7201a8\"],[0.3333333333333333,\"#9c179e\"],[0.4444444444444444,\"#bd3786\"],[0.5555555555555556,\"#d8576b\"],[0.6666666666666666,\"#ed7953\"],[0.7777777777777778,\"#fb9f3a\"],[0.8888888888888888,\"#fdca26\"],[1.0,\"#f0f921\"]]}],\"mesh3d\":[{\"type\":\"mesh3d\",\"colorbar\":{\"outlinewidth\":0,\"ticks\":\"\"}}],\"scatter\":[{\"fillpattern\":{\"fillmode\":\"overlay\",\"size\":10,\"solidity\":0.2},\"type\":\"scatter\"}],\"parcoords\":[{\"type\":\"parcoords\",\"line\":{\"colorbar\":{\"outlinewidth\":0,\"ticks\":\"\"}}}],\"scatterpolargl\":[{\"type\":\"scatterpolargl\",\"marker\":{\"colorbar\":{\"outlinewidth\":0,\"ticks\":\"\"}}}],\"bar\":[{\"error_x\":{\"color\":\"#2a3f5f\"},\"error_y\":{\"color\":\"#2a3f5f\"},\"marker\":{\"line\":{\"color\":\"#E5ECF6\",\"width\":0.5},\"pattern\":{\"fillmode\":\"overlay\",\"size\":10,\"solidity\":0.2}},\"type\":\"bar\"}],\"scattergeo\":[{\"type\":\"scattergeo\",\"marker\":{\"colorbar\":{\"outlinewidth\":0,\"ticks\":\"\"}}}],\"scatterpolar\":[{\"type\":\"scatterpolar\",\"marker\":{\"colorbar\":{\"outlinewidth\":0,\"ticks\":\"\"}}}],\"histogram\":[{\"marker\":{\"pattern\":{\"fillmode\":\"overlay\",\"size\":10,\"solidity\":0.2}},\"type\":\"histogram\"}],\"scattergl\":[{\"type\":\"scattergl\",\"marker\":{\"colorbar\":{\"outlinewidth\":0,\"ticks\":\"\"}}}],\"scatter3d\":[{\"type\":\"scatter3d\",\"line\":{\"colorbar\":{\"outlinewidth\":0,\"ticks\":\"\"}},\"marker\":{\"colorbar\":{\"outlinewidth\":0,\"ticks\":\"\"}}}],\"scattermapbox\":[{\"type\":\"scattermapbox\",\"marker\":{\"colorbar\":{\"outlinewidth\":0,\"ticks\":\"\"}}}],\"scatterternary\":[{\"type\":\"scatterternary\",\"marker\":{\"colorbar\":{\"outlinewidth\":0,\"ticks\":\"\"}}}],\"scattercarpet\":[{\"type\":\"scattercarpet\",\"marker\":{\"colorbar\":{\"outlinewidth\":0,\"ticks\":\"\"}}}],\"carpet\":[{\"aaxis\":{\"endlinecolor\":\"#2a3f5f\",\"gridcolor\":\"white\",\"linecolor\":\"white\",\"minorgridcolor\":\"white\",\"startlinecolor\":\"#2a3f5f\"},\"baxis\":{\"endlinecolor\":\"#2a3f5f\",\"gridcolor\":\"white\",\"linecolor\":\"white\",\"minorgridcolor\":\"white\",\"startlinecolor\":\"#2a3f5f\"},\"type\":\"carpet\"}],\"table\":[{\"cells\":{\"fill\":{\"color\":\"#EBF0F8\"},\"line\":{\"color\":\"white\"}},\"header\":{\"fill\":{\"color\":\"#C8D4E3\"},\"line\":{\"color\":\"white\"}},\"type\":\"table\"}],\"barpolar\":[{\"marker\":{\"line\":{\"color\":\"#E5ECF6\",\"width\":0.5},\"pattern\":{\"fillmode\":\"overlay\",\"size\":10,\"solidity\":0.2}},\"type\":\"barpolar\"}],\"pie\":[{\"automargin\":true,\"type\":\"pie\"}]},\"layout\":{\"autotypenumbers\":\"strict\",\"colorway\":[\"#636efa\",\"#EF553B\",\"#00cc96\",\"#ab63fa\",\"#FFA15A\",\"#19d3f3\",\"#FF6692\",\"#B6E880\",\"#FF97FF\",\"#FECB52\"],\"font\":{\"color\":\"#2a3f5f\"},\"hovermode\":\"closest\",\"hoverlabel\":{\"align\":\"left\"},\"paper_bgcolor\":\"white\",\"plot_bgcolor\":\"#E5ECF6\",\"polar\":{\"bgcolor\":\"#E5ECF6\",\"angularaxis\":{\"gridcolor\":\"white\",\"linecolor\":\"white\",\"ticks\":\"\"},\"radialaxis\":{\"gridcolor\":\"white\",\"linecolor\":\"white\",\"ticks\":\"\"}},\"ternary\":{\"bgcolor\":\"#E5ECF6\",\"aaxis\":{\"gridcolor\":\"white\",\"linecolor\":\"white\",\"ticks\":\"\"},\"baxis\":{\"gridcolor\":\"white\",\"linecolor\":\"white\",\"ticks\":\"\"},\"caxis\":{\"gridcolor\":\"white\",\"linecolor\":\"white\",\"ticks\":\"\"}},\"coloraxis\":{\"colorbar\":{\"outlinewidth\":0,\"ticks\":\"\"}},\"colorscale\":{\"sequential\":[[0.0,\"#0d0887\"],[0.1111111111111111,\"#46039f\"],[0.2222222222222222,\"#7201a8\"],[0.3333333333333333,\"#9c179e\"],[0.4444444444444444,\"#bd3786\"],[0.5555555555555556,\"#d8576b\"],[0.6666666666666666,\"#ed7953\"],[0.7777777777777778,\"#fb9f3a\"],[0.8888888888888888,\"#fdca26\"],[1.0,\"#f0f921\"]],\"sequentialminus\":[[0.0,\"#0d0887\"],[0.1111111111111111,\"#46039f\"],[0.2222222222222222,\"#7201a8\"],[0.3333333333333333,\"#9c179e\"],[0.4444444444444444,\"#bd3786\"],[0.5555555555555556,\"#d8576b\"],[0.6666666666666666,\"#ed7953\"],[0.7777777777777778,\"#fb9f3a\"],[0.8888888888888888,\"#fdca26\"],[1.0,\"#f0f921\"]],\"diverging\":[[0,\"#8e0152\"],[0.1,\"#c51b7d\"],[0.2,\"#de77ae\"],[0.3,\"#f1b6da\"],[0.4,\"#fde0ef\"],[0.5,\"#f7f7f7\"],[0.6,\"#e6f5d0\"],[0.7,\"#b8e186\"],[0.8,\"#7fbc41\"],[0.9,\"#4d9221\"],[1,\"#276419\"]]},\"xaxis\":{\"gridcolor\":\"white\",\"linecolor\":\"white\",\"ticks\":\"\",\"title\":{\"standoff\":15},\"zerolinecolor\":\"white\",\"automargin\":true,\"zerolinewidth\":2},\"yaxis\":{\"gridcolor\":\"white\",\"linecolor\":\"white\",\"ticks\":\"\",\"title\":{\"standoff\":15},\"zerolinecolor\":\"white\",\"automargin\":true,\"zerolinewidth\":2},\"scene\":{\"xaxis\":{\"backgroundcolor\":\"#E5ECF6\",\"gridcolor\":\"white\",\"linecolor\":\"white\",\"showbackground\":true,\"ticks\":\"\",\"zerolinecolor\":\"white\",\"gridwidth\":2},\"yaxis\":{\"backgroundcolor\":\"#E5ECF6\",\"gridcolor\":\"white\",\"linecolor\":\"white\",\"showbackground\":true,\"ticks\":\"\",\"zerolinecolor\":\"white\",\"gridwidth\":2},\"zaxis\":{\"backgroundcolor\":\"#E5ECF6\",\"gridcolor\":\"white\",\"linecolor\":\"white\",\"showbackground\":true,\"ticks\":\"\",\"zerolinecolor\":\"white\",\"gridwidth\":2}},\"shapedefaults\":{\"line\":{\"color\":\"#2a3f5f\"}},\"annotationdefaults\":{\"arrowcolor\":\"#2a3f5f\",\"arrowhead\":0,\"arrowwidth\":1},\"geo\":{\"bgcolor\":\"white\",\"landcolor\":\"#E5ECF6\",\"subunitcolor\":\"white\",\"showland\":true,\"showlakes\":true,\"lakecolor\":\"white\"},\"title\":{\"x\":0.05},\"mapbox\":{\"style\":\"light\"}}},\"xaxis\":{\"anchor\":\"y\",\"domain\":[0.0,1.0],\"matches\":\"x2\",\"showticklabels\":false,\"rangeslider\":{\"visible\":false},\"type\":\"category\"},\"yaxis\":{\"anchor\":\"x\",\"domain\":[0.2461538461538461,0.9999999999999998],\"title\":{\"text\":\"\\u682a\\u4fa1\"}},\"xaxis2\":{\"anchor\":\"y2\",\"domain\":[0.0,1.0],\"title\":{\"text\":\"\\u53d6\\u5f15\\u65e5\"},\"type\":\"category\",\"tickvals\":[\"2024-05-17\",\"2024-05-23\",\"2024-05-29\",\"2024-06-04\",\"2024-06-10\",\"2024-06-14\",\"2024-06-20\",\"2024-06-26\",\"2024-07-02\",\"2024-07-08\",\"2024-07-12\",\"2024-07-19\"],\"tickangle\":45},\"yaxis2\":{\"anchor\":\"x2\",\"domain\":[0.0,0.22615384615384612],\"title\":{\"text\":\"\\u51fa\\u6765\\u9ad8\"}},\"title\":{\"text\":\"\\u30cb\\u30c3\\u30b3\\u30f3 HD(9072)\\u682a\\u4fa1\\u30ed\\u30fc\\u30bd\\u30af\\u30c1\\u30e3\\u30fc\\u30c8\\u3068\\u51fa\\u6765\\u9ad82024-05-17 \\uff5e 2024-07-19\"},\"height\":600,\"shapes\":[{\"line\":{\"color\":\"grey\",\"width\":1},\"opacity\":0.5,\"type\":\"line\",\"x0\":\"2024-05-17\",\"x1\":\"2024-05-17\",\"xref\":\"x\",\"y0\":0,\"y1\":1,\"yref\":\"y domain\"},{\"line\":{\"color\":\"grey\",\"width\":1},\"opacity\":0.5,\"type\":\"line\",\"x0\":\"2024-05-17\",\"x1\":\"2024-05-17\",\"xref\":\"x2\",\"y0\":0,\"y1\":1,\"yref\":\"y2 domain\"},{\"line\":{\"color\":\"grey\",\"width\":1},\"opacity\":0.5,\"type\":\"line\",\"x0\":\"2024-05-24\",\"x1\":\"2024-05-24\",\"xref\":\"x\",\"y0\":0,\"y1\":1,\"yref\":\"y domain\"},{\"line\":{\"color\":\"grey\",\"width\":1},\"opacity\":0.5,\"type\":\"line\",\"x0\":\"2024-05-24\",\"x1\":\"2024-05-24\",\"xref\":\"x2\",\"y0\":0,\"y1\":1,\"yref\":\"y2 domain\"},{\"line\":{\"color\":\"grey\",\"width\":1},\"opacity\":0.5,\"type\":\"line\",\"x0\":\"2024-05-31\",\"x1\":\"2024-05-31\",\"xref\":\"x\",\"y0\":0,\"y1\":1,\"yref\":\"y domain\"},{\"line\":{\"color\":\"grey\",\"width\":1},\"opacity\":0.5,\"type\":\"line\",\"x0\":\"2024-05-31\",\"x1\":\"2024-05-31\",\"xref\":\"x2\",\"y0\":0,\"y1\":1,\"yref\":\"y2 domain\"},{\"line\":{\"color\":\"grey\",\"width\":1},\"opacity\":0.5,\"type\":\"line\",\"x0\":\"2024-06-07\",\"x1\":\"2024-06-07\",\"xref\":\"x\",\"y0\":0,\"y1\":1,\"yref\":\"y domain\"},{\"line\":{\"color\":\"grey\",\"width\":1},\"opacity\":0.5,\"type\":\"line\",\"x0\":\"2024-06-07\",\"x1\":\"2024-06-07\",\"xref\":\"x2\",\"y0\":0,\"y1\":1,\"yref\":\"y2 domain\"},{\"line\":{\"color\":\"grey\",\"width\":1},\"opacity\":0.5,\"type\":\"line\",\"x0\":\"2024-06-14\",\"x1\":\"2024-06-14\",\"xref\":\"x\",\"y0\":0,\"y1\":1,\"yref\":\"y domain\"},{\"line\":{\"color\":\"grey\",\"width\":1},\"opacity\":0.5,\"type\":\"line\",\"x0\":\"2024-06-14\",\"x1\":\"2024-06-14\",\"xref\":\"x2\",\"y0\":0,\"y1\":1,\"yref\":\"y2 domain\"},{\"line\":{\"color\":\"grey\",\"width\":1},\"opacity\":0.5,\"type\":\"line\",\"x0\":\"2024-06-28\",\"x1\":\"2024-06-28\",\"xref\":\"x\",\"y0\":0,\"y1\":1,\"yref\":\"y domain\"},{\"line\":{\"color\":\"grey\",\"width\":1},\"opacity\":0.5,\"type\":\"line\",\"x0\":\"2024-06-28\",\"x1\":\"2024-06-28\",\"xref\":\"x2\",\"y0\":0,\"y1\":1,\"yref\":\"y2 domain\"},{\"line\":{\"color\":\"grey\",\"width\":1},\"opacity\":0.5,\"type\":\"line\",\"x0\":\"2024-07-05\",\"x1\":\"2024-07-05\",\"xref\":\"x\",\"y0\":0,\"y1\":1,\"yref\":\"y domain\"},{\"line\":{\"color\":\"grey\",\"width\":1},\"opacity\":0.5,\"type\":\"line\",\"x0\":\"2024-07-05\",\"x1\":\"2024-07-05\",\"xref\":\"x2\",\"y0\":0,\"y1\":1,\"yref\":\"y2 domain\"},{\"line\":{\"color\":\"grey\",\"width\":1},\"opacity\":0.5,\"type\":\"line\",\"x0\":\"2024-07-12\",\"x1\":\"2024-07-12\",\"xref\":\"x\",\"y0\":0,\"y1\":1,\"yref\":\"y domain\"},{\"line\":{\"color\":\"grey\",\"width\":1},\"opacity\":0.5,\"type\":\"line\",\"x0\":\"2024-07-12\",\"x1\":\"2024-07-12\",\"xref\":\"x2\",\"y0\":0,\"y1\":1,\"yref\":\"y2 domain\"},{\"line\":{\"color\":\"grey\",\"width\":1},\"opacity\":0.5,\"type\":\"line\",\"x0\":\"2024-07-19\",\"x1\":\"2024-07-19\",\"xref\":\"x\",\"y0\":0,\"y1\":1,\"yref\":\"y domain\"},{\"line\":{\"color\":\"grey\",\"width\":1},\"opacity\":0.5,\"type\":\"line\",\"x0\":\"2024-07-19\",\"x1\":\"2024-07-19\",\"xref\":\"x2\",\"y0\":0,\"y1\":1,\"yref\":\"y2 domain\"},{\"line\":{\"color\":\"red\",\"width\":1},\"opacity\":0.5,\"type\":\"line\",\"x0\":\"2024-06-21\",\"x1\":\"2024-06-21\",\"xref\":\"x\",\"y0\":0,\"y1\":1,\"yref\":\"y domain\"},{\"line\":{\"color\":\"red\",\"width\":1},\"opacity\":0.5,\"type\":\"line\",\"x0\":\"2024-06-21\",\"x1\":\"2024-06-21\",\"xref\":\"x2\",\"y0\":0,\"y1\":1,\"yref\":\"y2 domain\"}]},                        {\"responsive\": true}                    ).then(function(){\n",
       "                            \n",
       "var gd = document.getElementById('4a29b929-7e64-4536-b361-873f2ed44fe7');\n",
       "var x = new MutationObserver(function (mutations, observer) {{\n",
       "        var display = window.getComputedStyle(gd).display;\n",
       "        if (!display || display === 'none') {{\n",
       "            console.log([gd, 'removed!']);\n",
       "            Plotly.purge(gd);\n",
       "            observer.disconnect();\n",
       "        }}\n",
       "}});\n",
       "\n",
       "// Listen for the removal of the full notebook cells\n",
       "var notebookContainer = gd.closest('#notebook-container');\n",
       "if (notebookContainer) {{\n",
       "    x.observe(notebookContainer, {childList: true});\n",
       "}}\n",
       "\n",
       "// Listen for the clearing of the current output cell\n",
       "var outputEl = gd.closest('.output');\n",
       "if (outputEl) {{\n",
       "    x.observe(outputEl, {childList: true});\n",
       "}}\n",
       "\n",
       "                        })                };                });            </script>        </div>"
      ]
     },
     "metadata": {},
     "output_type": "display_data"
    }
   ],
   "source": [
    "# 日足チャート\n",
    "start_date = dt - relativedelta(days = 7 * (weeks + 1))\n",
    "end_date = dt + relativedelta(days = 7 * weeks)\n",
    "PFIG = PricelistFig(code, start_date=start_date, end_date=end_date)\n",
    "\n",
    "# 週末にvline\n",
    "df = read_data(fp)\n",
    "RPL = PricelistPl(df)\n",
    "df = RPL.df\n",
    "df = df.filter(pl.col(\"code\")==code)\\\n",
    ".filter(pl.col(\"date\")>=start_date)\\\n",
    ".filter(pl.col(\"date\")<=end_date)\n",
    "RPL = PricelistPl(df)\n",
    "RPL.with_columns_weekid()\n",
    "pdf = RPL.df\n",
    "pdf = pdf.group_by([\"weekid\"]).agg([\n",
    "    pl.col(\"date\").last()\n",
    "]).sort(by=[\"weekid\"])\n",
    "vline_dates = pdf[\"date\"].to_list()\n",
    "vline_dates.remove(dt)\n",
    "for d in vline_dates:\n",
    "    PFIG.add_vline(d)\n",
    "PFIG.add_vline(dt, color=\"red\")\n",
    "\n",
    "PFIG.fig.show()\n"
   ]
  },
  {
   "cell_type": "code",
   "execution_count": null,
   "id": "c4824e85-6ba2-4b79-bbe5-496aa9a974d7",
   "metadata": {},
   "outputs": [],
   "source": []
  }
 ],
 "metadata": {
  "kernelspec": {
   "display_name": "Python 3 (ipykernel)",
   "language": "python",
   "name": "python3"
  },
  "language_info": {
   "codemirror_mode": {
    "name": "ipython",
    "version": 3
   },
   "file_extension": ".py",
   "mimetype": "text/x-python",
   "name": "python",
   "nbconvert_exporter": "python",
   "pygments_lexer": "ipython3",
   "version": "3.12.3"
  }
 },
 "nbformat": 4,
 "nbformat_minor": 5
}
