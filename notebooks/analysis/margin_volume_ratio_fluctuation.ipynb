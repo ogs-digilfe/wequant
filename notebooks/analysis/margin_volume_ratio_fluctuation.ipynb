{
 "cells": [
  {
   "cell_type": "code",
   "execution_count": 1,
   "id": "a9153460-34ec-41ad-bb4c-d0bff1ce8e7d",
   "metadata": {},
   "outputs": [],
   "source": [
    "term = 25\n",
    "target = \"unsold_margin\"\n",
    "target = \"purchase_margin\"\n",
    "\n",
    "target_col = \"diff_unsold_margin_volume_ratio\"\n",
    "target_col = \"diff_purchase_margin_volume_ratio\"\n",
    "desc = False"
   ]
  },
  {
   "cell_type": "code",
   "execution_count": 2,
   "id": "b3a517fe-f52e-47b3-9843-b9b702035db8",
   "metadata": {},
   "outputs": [],
   "source": [
    "# 読み込みファイルパスの設定とimportしたいmoduleパス(pythonパス)の設定\n",
    "from pathlib import Path\n",
    "import os, sys\n",
    "\n",
    "CURRENT_DIR = Path(os.getcwd())\n",
    "PJ_DIR = CURRENT_DIR.parent.parent\n",
    "LIB_DIR = PJ_DIR / \"lib\"\n",
    "DATA_DIR = PJ_DIR / \"data\" \n",
    "\n",
    "sys.path.append(str(LIB_DIR))\n",
    "\n",
    "# notebook内で利用するmoduleのimport\n",
    "from lib_dataprocess import CreditbalancePl, PricelistPl\n",
    "import polars as pl\n",
    "from datetime import date"
   ]
  },
  {
   "cell_type": "code",
   "execution_count": 3,
   "id": "382e56b9-9c16-4976-a676-a924c3ab5185",
   "metadata": {},
   "outputs": [],
   "source": [
    "CPL = CreditbalancePl()\n",
    "CPL.with_columns_margin_volume_ratio()"
   ]
  },
  {
   "cell_type": "code",
   "execution_count": 4,
   "id": "7f1f2550-b835-4940-8c22-c6426c129094",
   "metadata": {},
   "outputs": [],
   "source": [
    "# margin_volume_ratioの週の差分を取ってみる\n",
    "df = CPL.df\n",
    "ori_cols = df.columns\n",
    "scol = \"unsold_margin_volume_ratio\"\n",
    "pcol = \"purchase_margin_volume_ratio\"\n",
    "s_scol = f'shifted_{scol}'\n",
    "s_pcol = f'shifted_{pcol}'\n",
    "d_scol = f'diff_{scol}'\n",
    "d_pcol = f'diff_{pcol}'\n",
    "df = df.with_columns([\n",
    "    pl.col(scol).shift().alias(s_scol),\n",
    "    pl.col(pcol).shift().alias(s_pcol)\n",
    "])\n",
    "df = df.with_columns([\n",
    "    (pl.col(scol) - pl.col(s_scol)).alias(d_scol),\n",
    "    (pl.col(pcol) - pl.col(s_pcol)).alias(d_pcol)\n",
    "])\n",
    "df = df.drop_nulls()\n",
    "added_cols = [d_scol, d_pcol]\n",
    "df = df.select([\"code\", \"date\", f'volume_ma{term}']+[target]+added_cols)\n",
    "diff_df = df\n"
   ]
  },
  {
   "cell_type": "code",
   "execution_count": 5,
   "id": "85c073e6-b25f-4958-b86f-5220b139b979",
   "metadata": {},
   "outputs": [
    {
     "data": {
      "text/html": [
       "<div><style>\n",
       ".dataframe > thead > tr,\n",
       ".dataframe > tbody > tr {\n",
       "  text-align: right;\n",
       "  white-space: pre-wrap;\n",
       "}\n",
       "</style>\n",
       "<small>shape: (2_273_091, 6)</small><table border=\"1\" class=\"dataframe\"><thead><tr><th>code</th><th>date</th><th>volume_ma25</th><th>purchase_margin</th><th>diff_unsold_margin_volume_ratio</th><th>diff_purchase_margin_volume_ratio</th></tr><tr><td>i64</td><td>date</td><td>f64</td><td>i64</td><td>f64</td><td>f64</td></tr></thead><tbody><tr><td>3322</td><td>2022-10-07</td><td>1968.0</td><td>629300</td><td>0.0</td><td>-1301.88</td></tr><tr><td>3322</td><td>2021-11-05</td><td>1396.0</td><td>604000</td><td>0.0</td><td>-901.41</td></tr><tr><td>7864</td><td>2009-02-13</td><td>74808.0</td><td>45600</td><td>2.39</td><td>-791.38</td></tr><tr><td>1739</td><td>2013-10-04</td><td>232.92</td><td>45400</td><td>0.0</td><td>-652.08</td></tr><tr><td>3322</td><td>2023-07-14</td><td>512.0</td><td>632100</td><td>0.0</td><td>-626.61</td></tr><tr><td>&hellip;</td><td>&hellip;</td><td>&hellip;</td><td>&hellip;</td><td>&hellip;</td><td>&hellip;</td></tr><tr><td>3439</td><td>2020-04-24</td><td>200.0</td><td>155900</td><td>0.0</td><td>732.46</td></tr><tr><td>1739</td><td>2013-09-27</td><td>56.08</td><td>47500</td><td>0.0</td><td>824.58</td></tr><tr><td>3322</td><td>2022-11-25</td><td>504.0</td><td>630300</td><td>0.0</td><td>954.55</td></tr><tr><td>3322</td><td>2023-06-02</td><td>416.0</td><td>632200</td><td>0.0</td><td>1133.28</td></tr><tr><td>3322</td><td>2022-09-30</td><td>388.0</td><td>629200</td><td>0.0</td><td>1253.09</td></tr></tbody></table></div>"
      ],
      "text/plain": [
       "shape: (2_273_091, 6)\n",
       "┌──────┬────────────┬─────────────┬─────────────────┬───────────────────────┬──────────────────────┐\n",
       "│ code ┆ date       ┆ volume_ma25 ┆ purchase_margin ┆ diff_unsold_margin_vo ┆ diff_purchase_margin │\n",
       "│ ---  ┆ ---        ┆ ---         ┆ ---             ┆ lume_rati…            ┆ _volume_ra…          │\n",
       "│ i64  ┆ date       ┆ f64         ┆ i64             ┆ ---                   ┆ ---                  │\n",
       "│      ┆            ┆             ┆                 ┆ f64                   ┆ f64                  │\n",
       "╞══════╪════════════╪═════════════╪═════════════════╪═══════════════════════╪══════════════════════╡\n",
       "│ 3322 ┆ 2022-10-07 ┆ 1968.0      ┆ 629300          ┆ 0.0                   ┆ -1301.88             │\n",
       "│ 3322 ┆ 2021-11-05 ┆ 1396.0      ┆ 604000          ┆ 0.0                   ┆ -901.41              │\n",
       "│ 7864 ┆ 2009-02-13 ┆ 74808.0     ┆ 45600           ┆ 2.39                  ┆ -791.38              │\n",
       "│ 1739 ┆ 2013-10-04 ┆ 232.92      ┆ 45400           ┆ 0.0                   ┆ -652.08              │\n",
       "│ 3322 ┆ 2023-07-14 ┆ 512.0       ┆ 632100          ┆ 0.0                   ┆ -626.61              │\n",
       "│ …    ┆ …          ┆ …           ┆ …               ┆ …                     ┆ …                    │\n",
       "│ 3439 ┆ 2020-04-24 ┆ 200.0       ┆ 155900          ┆ 0.0                   ┆ 732.46               │\n",
       "│ 1739 ┆ 2013-09-27 ┆ 56.08       ┆ 47500           ┆ 0.0                   ┆ 824.58               │\n",
       "│ 3322 ┆ 2022-11-25 ┆ 504.0       ┆ 630300          ┆ 0.0                   ┆ 954.55               │\n",
       "│ 3322 ┆ 2023-06-02 ┆ 416.0       ┆ 632200          ┆ 0.0                   ┆ 1133.28              │\n",
       "│ 3322 ┆ 2022-09-30 ┆ 388.0       ┆ 629200          ┆ 0.0                   ┆ 1253.09              │\n",
       "└──────┴────────────┴─────────────┴─────────────────┴───────────────────────┴──────────────────────┘"
      ]
     },
     "execution_count": 5,
     "metadata": {},
     "output_type": "execute_result"
    }
   ],
   "source": [
    "# 急増、急減を調べる\n",
    "df = diff_df\n",
    "\n",
    "\n",
    "\n",
    "df = df.sort(by=[target_col], descending=[desc])\n",
    "df"
   ]
  },
  {
   "cell_type": "code",
   "execution_count": 9,
   "id": "4b3922a8-c82c-4236-b574-c45c83cb7c70",
   "metadata": {},
   "outputs": [
    {
     "data": {
      "text/html": [
       "<div><style>\n",
       ".dataframe > thead > tr,\n",
       ".dataframe > tbody > tr {\n",
       "  text-align: right;\n",
       "  white-space: pre-wrap;\n",
       "}\n",
       "</style>\n",
       "<small>shape: (98, 7)</small><table border=\"1\" class=\"dataframe\"><thead><tr><th>code</th><th>date</th><th>unsold_margin</th><th>purchase_margin</th><th>volume_ma25</th><th>unsold_margin_volume_ratio</th><th>purchase_margin_volume_ratio</th></tr><tr><td>i64</td><td>date</td><td>i64</td><td>i64</td><td>f64</td><td>f64</td><td>f64</td></tr></thead><tbody><tr><td>3322</td><td>2022-08-12</td><td>0</td><td>629400</td><td>1960.0</td><td>0.0</td><td>321.12</td></tr><tr><td>3322</td><td>2022-08-19</td><td>0</td><td>629400</td><td>1868.0</td><td>0.0</td><td>336.94</td></tr><tr><td>3322</td><td>2022-08-26</td><td>0</td><td>629500</td><td>1708.0</td><td>0.0</td><td>368.56</td></tr><tr><td>3322</td><td>2022-09-30</td><td>0</td><td>629200</td><td>388.0</td><td>0.0</td><td>1621.65</td></tr><tr><td>3322</td><td>2022-10-07</td><td>0</td><td>629300</td><td>1968.0</td><td>0.0</td><td>319.77</td></tr><tr><td>&hellip;</td><td>&hellip;</td><td>&hellip;</td><td>&hellip;</td><td>&hellip;</td><td>&hellip;</td><td>&hellip;</td></tr><tr><td>3322</td><td>2024-11-08</td><td>0</td><td>636700</td><td>3724.0</td><td>0.0</td><td>170.97</td></tr><tr><td>3322</td><td>2024-11-15</td><td>400</td><td>641300</td><td>3900.0</td><td>0.1</td><td>164.44</td></tr><tr><td>3322</td><td>2024-11-22</td><td>0</td><td>602700</td><td>12864.0</td><td>0.0</td><td>46.85</td></tr><tr><td>3322</td><td>2024-11-29</td><td>0</td><td>585500</td><td>15136.0</td><td>0.0</td><td>38.68</td></tr><tr><td>3322</td><td>2024-12-06</td><td>0</td><td>571700</td><td>15480.0</td><td>0.0</td><td>36.93</td></tr></tbody></table></div>"
      ],
      "text/plain": [
       "shape: (98, 7)\n",
       "┌──────┬────────────┬───────────────┬────────────────┬─────────────┬───────────────┬───────────────┐\n",
       "│ code ┆ date       ┆ unsold_margin ┆ purchase_margi ┆ volume_ma25 ┆ unsold_margin ┆ purchase_marg │\n",
       "│ ---  ┆ ---        ┆ ---           ┆ n              ┆ ---         ┆ _volume_ratio ┆ in_volume_rat │\n",
       "│ i64  ┆ date       ┆ i64           ┆ ---            ┆ f64         ┆ ---           ┆ io            │\n",
       "│      ┆            ┆               ┆ i64            ┆             ┆ f64           ┆ ---           │\n",
       "│      ┆            ┆               ┆                ┆             ┆               ┆ f64           │\n",
       "╞══════╪════════════╪═══════════════╪════════════════╪═════════════╪═══════════════╪═══════════════╡\n",
       "│ 3322 ┆ 2022-08-12 ┆ 0             ┆ 629400         ┆ 1960.0      ┆ 0.0           ┆ 321.12        │\n",
       "│ 3322 ┆ 2022-08-19 ┆ 0             ┆ 629400         ┆ 1868.0      ┆ 0.0           ┆ 336.94        │\n",
       "│ 3322 ┆ 2022-08-26 ┆ 0             ┆ 629500         ┆ 1708.0      ┆ 0.0           ┆ 368.56        │\n",
       "│ 3322 ┆ 2022-09-30 ┆ 0             ┆ 629200         ┆ 388.0       ┆ 0.0           ┆ 1621.65       │\n",
       "│ 3322 ┆ 2022-10-07 ┆ 0             ┆ 629300         ┆ 1968.0      ┆ 0.0           ┆ 319.77        │\n",
       "│ …    ┆ …          ┆ …             ┆ …              ┆ …           ┆ …             ┆ …             │\n",
       "│ 3322 ┆ 2024-11-08 ┆ 0             ┆ 636700         ┆ 3724.0      ┆ 0.0           ┆ 170.97        │\n",
       "│ 3322 ┆ 2024-11-15 ┆ 400           ┆ 641300         ┆ 3900.0      ┆ 0.1           ┆ 164.44        │\n",
       "│ 3322 ┆ 2024-11-22 ┆ 0             ┆ 602700         ┆ 12864.0     ┆ 0.0           ┆ 46.85         │\n",
       "│ 3322 ┆ 2024-11-29 ┆ 0             ┆ 585500         ┆ 15136.0     ┆ 0.0           ┆ 38.68         │\n",
       "│ 3322 ┆ 2024-12-06 ┆ 0             ┆ 571700         ┆ 15480.0     ┆ 0.0           ┆ 36.93         │\n",
       "└──────┴────────────┴───────────────┴────────────────┴─────────────┴───────────────┴───────────────┘"
      ]
     },
     "execution_count": 9,
     "metadata": {},
     "output_type": "execute_result"
    }
   ],
   "source": [
    "df = CPL.df\n",
    "df = df.filter(pl.col(\"code\")==3322).filter(pl.col(\"date\")>=date(2022, 8, 1))\n",
    "df"
   ]
  },
  {
   "cell_type": "code",
   "execution_count": 7,
   "id": "54e9265f-1e92-4e61-8384-e1b37eccb488",
   "metadata": {},
   "outputs": [
    {
     "data": {
      "text/html": [
       "<div><style>\n",
       ".dataframe > thead > tr,\n",
       ".dataframe > tbody > tr {\n",
       "  text-align: right;\n",
       "  white-space: pre-wrap;\n",
       "}\n",
       "</style>\n",
       "<small>shape: (479, 8)</small><table border=\"1\" class=\"dataframe\"><thead><tr><th>code</th><th>date</th><th>open</th><th>high</th><th>low</th><th>close</th><th>volume</th><th>split_rate</th></tr><tr><td>i64</td><td>date</td><td>f64</td><td>f64</td><td>f64</td><td>f64</td><td>f64</td><td>f64</td></tr></thead><tbody><tr><td>3322</td><td>2022-10-03</td><td>800.0</td><td>800.0</td><td>779.0</td><td>779.0</td><td>20700.0</td><td>1.0</td></tr><tr><td>3322</td><td>2022-10-04</td><td>776.0</td><td>776.0</td><td>754.0</td><td>754.0</td><td>19300.0</td><td>1.0</td></tr><tr><td>3322</td><td>2022-10-05</td><td>739.0</td><td>752.0</td><td>737.0</td><td>751.0</td><td>1000.0</td><td>1.0</td></tr><tr><td>3322</td><td>2022-10-06</td><td>749.0</td><td>755.0</td><td>749.0</td><td>755.0</td><td>300.0</td><td>1.0</td></tr><tr><td>3322</td><td>2022-10-07</td><td>743.0</td><td>745.0</td><td>715.0</td><td>745.0</td><td>400.0</td><td>1.0</td></tr><tr><td>&hellip;</td><td>&hellip;</td><td>&hellip;</td><td>&hellip;</td><td>&hellip;</td><td>&hellip;</td><td>&hellip;</td><td>&hellip;</td></tr><tr><td>3322</td><td>2024-12-10</td><td>877.0</td><td>878.0</td><td>873.0</td><td>875.0</td><td>4400.0</td><td>1.0</td></tr><tr><td>3322</td><td>2024-12-11</td><td>875.0</td><td>877.0</td><td>871.0</td><td>876.0</td><td>5400.0</td><td>1.0</td></tr><tr><td>3322</td><td>2024-12-12</td><td>877.0</td><td>878.0</td><td>876.0</td><td>877.0</td><td>15900.0</td><td>1.0</td></tr><tr><td>3322</td><td>2024-12-13</td><td>877.0</td><td>878.0</td><td>877.0</td><td>877.0</td><td>7300.0</td><td>1.0</td></tr><tr><td>3322</td><td>2024-12-16</td><td>876.0</td><td>877.0</td><td>875.0</td><td>875.0</td><td>11400.0</td><td>1.0</td></tr></tbody></table></div>"
      ],
      "text/plain": [
       "shape: (479, 8)\n",
       "┌──────┬────────────┬───────┬───────┬───────┬───────┬─────────┬────────────┐\n",
       "│ code ┆ date       ┆ open  ┆ high  ┆ low   ┆ close ┆ volume  ┆ split_rate │\n",
       "│ ---  ┆ ---        ┆ ---   ┆ ---   ┆ ---   ┆ ---   ┆ ---     ┆ ---        │\n",
       "│ i64  ┆ date       ┆ f64   ┆ f64   ┆ f64   ┆ f64   ┆ f64     ┆ f64        │\n",
       "╞══════╪════════════╪═══════╪═══════╪═══════╪═══════╪═════════╪════════════╡\n",
       "│ 3322 ┆ 2022-10-03 ┆ 800.0 ┆ 800.0 ┆ 779.0 ┆ 779.0 ┆ 20700.0 ┆ 1.0        │\n",
       "│ 3322 ┆ 2022-10-04 ┆ 776.0 ┆ 776.0 ┆ 754.0 ┆ 754.0 ┆ 19300.0 ┆ 1.0        │\n",
       "│ 3322 ┆ 2022-10-05 ┆ 739.0 ┆ 752.0 ┆ 737.0 ┆ 751.0 ┆ 1000.0  ┆ 1.0        │\n",
       "│ 3322 ┆ 2022-10-06 ┆ 749.0 ┆ 755.0 ┆ 749.0 ┆ 755.0 ┆ 300.0   ┆ 1.0        │\n",
       "│ 3322 ┆ 2022-10-07 ┆ 743.0 ┆ 745.0 ┆ 715.0 ┆ 745.0 ┆ 400.0   ┆ 1.0        │\n",
       "│ …    ┆ …          ┆ …     ┆ …     ┆ …     ┆ …     ┆ …       ┆ …          │\n",
       "│ 3322 ┆ 2024-12-10 ┆ 877.0 ┆ 878.0 ┆ 873.0 ┆ 875.0 ┆ 4400.0  ┆ 1.0        │\n",
       "│ 3322 ┆ 2024-12-11 ┆ 875.0 ┆ 877.0 ┆ 871.0 ┆ 876.0 ┆ 5400.0  ┆ 1.0        │\n",
       "│ 3322 ┆ 2024-12-12 ┆ 877.0 ┆ 878.0 ┆ 876.0 ┆ 877.0 ┆ 15900.0 ┆ 1.0        │\n",
       "│ 3322 ┆ 2024-12-13 ┆ 877.0 ┆ 878.0 ┆ 877.0 ┆ 877.0 ┆ 7300.0  ┆ 1.0        │\n",
       "│ 3322 ┆ 2024-12-16 ┆ 876.0 ┆ 877.0 ┆ 875.0 ┆ 875.0 ┆ 11400.0 ┆ 1.0        │\n",
       "└──────┴────────────┴───────┴───────┴───────┴───────┴─────────┴────────────┘"
      ]
     },
     "execution_count": 7,
     "metadata": {},
     "output_type": "execute_result"
    }
   ],
   "source": [
    "RawPl = PricelistPl(str(DATA_DIR/\"raw_pricelist.parquet\"))\n",
    "RawPl.df.filter(pl.col(\"code\")==3322).filter(pl.col(\"date\")>=date(2022,10,3))"
   ]
  },
  {
   "cell_type": "code",
   "execution_count": null,
   "id": "4e573698-6e66-4853-9209-24282832b567",
   "metadata": {},
   "outputs": [],
   "source": []
  }
 ],
 "metadata": {
  "kernelspec": {
   "display_name": "Python 3 (ipykernel)",
   "language": "python",
   "name": "python3"
  },
  "language_info": {
   "codemirror_mode": {
    "name": "ipython",
    "version": 3
   },
   "file_extension": ".py",
   "mimetype": "text/x-python",
   "name": "python",
   "nbconvert_exporter": "python",
   "pygments_lexer": "ipython3",
   "version": "3.12.3"
  }
 },
 "nbformat": 4,
 "nbformat_minor": 5
}
