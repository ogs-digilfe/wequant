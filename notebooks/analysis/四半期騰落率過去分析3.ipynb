{
 "cells": [
  {
   "cell_type": "code",
   "execution_count": 1,
   "id": "69e4d913-e09b-46cd-959d-c0ad92f1205e",
   "metadata": {},
   "outputs": [],
   "source": [
    "#####\n",
    "# 1.最新四半期決算の営業利益率は低い\n",
    "# 2.最新四半期決算の売上高成長率が10%以上\n",
    "# 3.最新四半期決算の対売上高営業利益成長率が20%以上\n",
    "# 4.次期決算を、以下の方法で予測した場合において、営業利益率が前年同期比2倍以上になる\n",
    "# --> 最新四半期決算の売上高成長率と対売上高営業利益成長率を、次期前年四半期決算に適用して次期決算を予想する"
   ]
  },
  {
   "cell_type": "code",
   "execution_count": 2,
   "id": "ed2dd8a1-7b1b-4513-9942-0402d357a902",
   "metadata": {},
   "outputs": [],
   "source": [
    "# 読み込みファイルパスの設定とimportしたいmoduleパス(pythonパス)の設定\n",
    "from pathlib import Path\n",
    "import os, sys\n",
    "\n",
    "CURRENT_DIR = Path(os.getcwd())\n",
    "PJ_DIR = CURRENT_DIR.parent.parent\n",
    "LIB_DIR = PJ_DIR / \"lib\"\n",
    "DATA_DIR = PJ_DIR / \"data\" \n",
    "\n",
    "sys.path.append(str(LIB_DIR))\n",
    "\n",
    "# notebook内で利用するmoduleのimport\n",
    "from lib_dataprocess import KessanPl, PricelistFig, PricelistPl, MeigaralistPl\n",
    "from lib_dataprocess import ShikihoPl, FinancequotePl, print_finance_quote, PricelistFig, KessanFig, IndexPricelistPl\n",
    "import polars as pl\n",
    "from datetime import date\n",
    "from dateutil.relativedelta import relativedelta\n",
    "\n",
    "RevPl = PricelistPl(\"reviced_pricelist.parquet\")\n",
    "RawPL = PricelistPl(\"raw_pricelist.parquet\")\n",
    "MPL = MeigaralistPl()\n",
    "SPL = ShikihoPl()"
   ]
  },
  {
   "cell_type": "code",
   "execution_count": 3,
   "id": "c3f34b08-9bce-443c-9a16-a195fdc8ae84",
   "metadata": {},
   "outputs": [],
   "source": [
    "#####\n",
    "##### valuation_date時点の発表済最新四半期決算の業績成長率一覧(growth_rate_df)の作成\n",
    "#####"
   ]
  },
  {
   "cell_type": "code",
   "execution_count": 4,
   "id": "581cdf68-916f-4855-8270-d64571781da0",
   "metadata": {},
   "outputs": [
    {
     "data": {
      "text/html": [
       "<div><style>\n",
       ".dataframe > thead > tr,\n",
       ".dataframe > tbody > tr {\n",
       "  text-align: right;\n",
       "  white-space: pre-wrap;\n",
       "}\n",
       "</style>\n",
       "<small>shape: (3_746, 7)</small><table border=\"1\" class=\"dataframe\"><thead><tr><th>code</th><th>評価日発表済最新四半期決算</th><th>announcement_date</th><th>sales</th><th>operating_income</th><th>sales_growthrate</th><th>diff_operating_income_growthrate</th></tr><tr><td>i64</td><td>date</td><td>date</td><td>i64</td><td>i64</td><td>f64</td><td>f64</td></tr></thead><tbody><tr><td>1301</td><td>2024-03-31</td><td>2024-05-10</td><td>59990</td><td>1857</td><td>2.1</td><td>155.0</td></tr><tr><td>1332</td><td>2024-03-31</td><td>2024-05-14</td><td>205894</td><td>3308</td><td>8.5</td><td>13.6</td></tr><tr><td>1333</td><td>2024-03-31</td><td>2024-05-07</td><td>243328</td><td>1176</td><td>1.6</td><td>-37.3</td></tr><tr><td>1375</td><td>2024-03-31</td><td>2024-05-09</td><td>11807</td><td>-803</td><td>21.1</td><td>-5.0</td></tr><tr><td>1376</td><td>2024-05-31</td><td>2024-07-10</td><td>23224</td><td>1150</td><td>1.9</td><td>-16.0</td></tr><tr><td>&hellip;</td><td>&hellip;</td><td>&hellip;</td><td>&hellip;</td><td>&hellip;</td><td>&hellip;</td><td>&hellip;</td></tr><tr><td>9993</td><td>2024-05-31</td><td>2024-07-11</td><td>24969</td><td>-408</td><td>1.8</td><td>-108.5</td></tr><tr><td>9994</td><td>2024-03-31</td><td>2024-05-15</td><td>36543</td><td>1082</td><td>3.1</td><td>63.8</td></tr><tr><td>9995</td><td>2024-03-31</td><td>2024-05-07</td><td>18708</td><td>63</td><td>7.7</td><td>0.1</td></tr><tr><td>9996</td><td>2024-03-31</td><td>2024-05-13</td><td>11286</td><td>202</td><td>5.5</td><td>16.8</td></tr><tr><td>9997</td><td>2024-06-30</td><td>2024-07-31</td><td>51368</td><td>982</td><td>-0.9</td><td>36.7</td></tr></tbody></table></div>"
      ],
      "text/plain": [
       "shape: (3_746, 7)\n",
       "┌──────┬────────────────┬────────────────┬────────┬────────────────┬───────────────┬───────────────┐\n",
       "│ code ┆ 評価日発表済最 ┆ announcement_d ┆ sales  ┆ operating_inco ┆ sales_growthr ┆ diff_operatin │\n",
       "│ ---  ┆ 新四半期決算   ┆ ate            ┆ ---    ┆ me             ┆ ate           ┆ g_income_grow │\n",
       "│ i64  ┆ ---            ┆ ---            ┆ i64    ┆ ---            ┆ ---           ┆ thra…         │\n",
       "│      ┆ date           ┆ date           ┆        ┆ i64            ┆ f64           ┆ ---           │\n",
       "│      ┆                ┆                ┆        ┆                ┆               ┆ f64           │\n",
       "╞══════╪════════════════╪════════════════╪════════╪════════════════╪═══════════════╪═══════════════╡\n",
       "│ 1301 ┆ 2024-03-31     ┆ 2024-05-10     ┆ 59990  ┆ 1857           ┆ 2.1           ┆ 155.0         │\n",
       "│ 1332 ┆ 2024-03-31     ┆ 2024-05-14     ┆ 205894 ┆ 3308           ┆ 8.5           ┆ 13.6          │\n",
       "│ 1333 ┆ 2024-03-31     ┆ 2024-05-07     ┆ 243328 ┆ 1176           ┆ 1.6           ┆ -37.3         │\n",
       "│ 1375 ┆ 2024-03-31     ┆ 2024-05-09     ┆ 11807  ┆ -803           ┆ 21.1          ┆ -5.0          │\n",
       "│ 1376 ┆ 2024-05-31     ┆ 2024-07-10     ┆ 23224  ┆ 1150           ┆ 1.9           ┆ -16.0         │\n",
       "│ …    ┆ …              ┆ …              ┆ …      ┆ …              ┆ …             ┆ …             │\n",
       "│ 9993 ┆ 2024-05-31     ┆ 2024-07-11     ┆ 24969  ┆ -408           ┆ 1.8           ┆ -108.5        │\n",
       "│ 9994 ┆ 2024-03-31     ┆ 2024-05-15     ┆ 36543  ┆ 1082           ┆ 3.1           ┆ 63.8          │\n",
       "│ 9995 ┆ 2024-03-31     ┆ 2024-05-07     ┆ 18708  ┆ 63             ┆ 7.7           ┆ 0.1           │\n",
       "│ 9996 ┆ 2024-03-31     ┆ 2024-05-13     ┆ 11286  ┆ 202            ┆ 5.5           ┆ 16.8          │\n",
       "│ 9997 ┆ 2024-06-30     ┆ 2024-07-31     ┆ 51368  ┆ 982            ┆ -0.9          ┆ 36.7          │\n",
       "└──────┴────────────────┴────────────────┴────────┴────────────────┴───────────────┴───────────────┘"
      ]
     },
     "execution_count": 4,
     "metadata": {},
     "output_type": "execute_result"
    }
   ],
   "source": [
    "valuation_date = date(2024, 8, 1)\n",
    "\n",
    "KPL1 = KessanPl()\n",
    "KPL2 = KessanPl()\n",
    "KPL1.with_columns_growthrate_lastyear()\n",
    "KPL2.with_columns_diff_growthrate()\n",
    "KPL1.df = KPL1.df.filter(pl.col(\"settlement_type\")==\"四\")\n",
    "KPL2.df = KPL2.df.filter(pl.col(\"settlement_type\")==\"四\")\n",
    "df = KPL1.df.join(KPL2.df, on=[\"code\", \"settlement_date\"], how=\"left\")\n",
    "KPL3 = KessanPl(df)\n",
    "df =KPL3.get_latest_quater_settlements(valuation_date)\n",
    "df = df.select([\n",
    "    \"code\", \"settlement_date\", \"announcement_date\", \"sales\", \"operating_income\", \"sales_growthrate\", \"diff_operating_income_growthrate\"\n",
    "])\n",
    "df = df.rename({\"settlement_date\": \"評価日発表済最新四半期決算\"})\n",
    "growth_rate_df = df\n",
    "growth_rate_df"
   ]
  },
  {
   "cell_type": "code",
   "execution_count": null,
   "id": "b5980fc4-a606-4e2d-ba46-f7fd63477a6d",
   "metadata": {},
   "outputs": [],
   "source": []
  }
 ],
 "metadata": {
  "kernelspec": {
   "display_name": "Python 3 (ipykernel)",
   "language": "python",
   "name": "python3"
  },
  "language_info": {
   "codemirror_mode": {
    "name": "ipython",
    "version": 3
   },
   "file_extension": ".py",
   "mimetype": "text/x-python",
   "name": "python",
   "nbconvert_exporter": "python",
   "pygments_lexer": "ipython3",
   "version": "3.12.3"
  }
 },
 "nbformat": 4,
 "nbformat_minor": 5
}
