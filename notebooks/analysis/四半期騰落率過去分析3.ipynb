{
 "cells": [
  {
   "cell_type": "code",
   "execution_count": 1,
   "id": "69e4d913-e09b-46cd-959d-c0ad92f1205e",
   "metadata": {},
   "outputs": [],
   "source": [
    "#####\n",
    "# 1.最新四半期決算の営業利益率は低い\n",
    "# 2.最新四半期決算の売上高成長率が10%以上\n",
    "# 3.最新四半期決算の対売上高営業利益成長率が20%以上\n",
    "# 4.次期決算を、以下の方法で予測した場合において、営業利益率が前年同期比2倍以上になる\n",
    "# --> 最新四半期決算の売上高成長率と対売上高営業利益成長率を、次期前年四半期決算に適用して次期決算を予想する"
   ]
  },
  {
   "cell_type": "code",
   "execution_count": 2,
   "id": "ed2dd8a1-7b1b-4513-9942-0402d357a902",
   "metadata": {},
   "outputs": [],
   "source": [
    "# 読み込みファイルパスの設定とimportしたいmoduleパス(pythonパス)の設定\n",
    "from pathlib import Path\n",
    "import os, sys\n",
    "\n",
    "CURRENT_DIR = Path(os.getcwd())\n",
    "PJ_DIR = CURRENT_DIR.parent.parent\n",
    "LIB_DIR = PJ_DIR / \"lib\"\n",
    "DATA_DIR = PJ_DIR / \"data\" \n",
    "\n",
    "sys.path.append(str(LIB_DIR))\n",
    "\n",
    "# notebook内で利用するmoduleのimport\n",
    "from lib_dataprocess import KessanPl, PricelistFig, PricelistPl, MeigaralistPl\n",
    "from lib_dataprocess import ShikihoPl, FinancequotePl, print_finance_quote, PricelistFig, KessanFig, IndexPricelistPl\n",
    "import polars as pl\n",
    "from datetime import date\n",
    "from dateutil.relativedelta import relativedelta\n",
    "\n",
    "RevPl = PricelistPl(\"reviced_pricelist.parquet\")\n",
    "RawPL = PricelistPl(\"raw_pricelist.parquet\")\n",
    "MPL = MeigaralistPl()\n",
    "SPL = ShikihoPl()"
   ]
  },
  {
   "cell_type": "code",
   "execution_count": 3,
   "id": "b5980fc4-a606-4e2d-ba46-f7fd63477a6d",
   "metadata": {},
   "outputs": [],
   "source": [
    "KPL = KessanPl()\n",
    "KPL.with_columns_lastyear_settlement()\n",
    "df1 = KPL.df.filter(pl.col(\"settlement_type\")==\"四\")\n",
    "df1 = df1.with_columns([\n",
    "    pl.col(\"settlement_date\").alias(\"key\")\n",
    "])"
   ]
  },
  {
   "cell_type": "code",
   "execution_count": 4,
   "id": "bd1957b9-92de-4198-b78e-5890da960020",
   "metadata": {},
   "outputs": [],
   "source": [
    "# para\n",
    "valuation_date = date(2024, 8, 1)\n",
    "\n",
    "KPL = KessanPl()\n",
    "df2 = KPL.get_settlement_forcast_by_diff_growth_rate(valuation_date)\n",
    "df2 = df2.filter(pl.col(\"settlement_type\")==\"四\")\n",
    "df2 = df2.with_columns([\n",
    "    pl.col(\"nxt_settlement_date\").alias(\"key\")\n",
    "])"
   ]
  },
  {
   "cell_type": "code",
   "execution_count": 5,
   "id": "101a158a-eccb-4216-b98c-90291bc5f3a5",
   "metadata": {},
   "outputs": [],
   "source": [
    "KPL = KessanPl()\n",
    "df3 = KPL.get_current_settlements(valuation_date)\n",
    "df3 = df3.filter(pl.col(\"settlement_type\")==\"四\")\n",
    "df3 = df3.with_columns([\n",
    "    pl.col(\"settlement_date\").alias(\"key\")\n",
    "])"
   ]
  },
  {
   "cell_type": "code",
   "execution_count": 41,
   "id": "79bcc53f-5178-4b1b-bfaa-4f9b3ba073c9",
   "metadata": {},
   "outputs": [
    {
     "data": {
      "text/html": [
       "<div><style>\n",
       ".dataframe > thead > tr,\n",
       ".dataframe > tbody > tr {\n",
       "  text-align: right;\n",
       "  white-space: pre-wrap;\n",
       "}\n",
       "</style>\n",
       "<small>shape: (27, 4)</small><table border=\"1\" class=\"dataframe\"><thead><tr><th>code</th><th>key</th><th>updown_rate</th><th>nh_updown_rate</th></tr><tr><td>i64</td><td>date</td><td>f64</td><td>f64</td></tr></thead><tbody><tr><td>9022</td><td>2018-12-31</td><td>10.1</td><td>-1.03</td></tr><tr><td>9022</td><td>2019-03-31</td><td>4.2</td><td>6.4</td></tr><tr><td>9022</td><td>2019-06-30</td><td>-10.9</td><td>-2.89</td></tr><tr><td>9022</td><td>2019-09-30</td><td>3.2</td><td>6.62</td></tr><tr><td>9022</td><td>2019-12-31</td><td>-5.1</td><td>0.86</td></tr><tr><td>&hellip;</td><td>&hellip;</td><td>&hellip;</td><td>&hellip;</td></tr><tr><td>9022</td><td>2024-06-30</td><td>-0.3</td><td>0.09</td></tr><tr><td>9022</td><td>2024-09-30</td><td>-11.2</td><td>4.31</td></tr><tr><td>9022</td><td>2024-09-30</td><td>-9.6</td><td>4.31</td></tr><tr><td>9022</td><td>2024-09-30</td><td>-9.6</td><td>2.52</td></tr><tr><td>9022</td><td>2024-09-30</td><td>-11.2</td><td>2.52</td></tr></tbody></table></div>"
      ],
      "text/plain": [
       "shape: (27, 4)\n",
       "┌──────┬────────────┬─────────────┬────────────────┐\n",
       "│ code ┆ key        ┆ updown_rate ┆ nh_updown_rate │\n",
       "│ ---  ┆ ---        ┆ ---         ┆ ---            │\n",
       "│ i64  ┆ date       ┆ f64         ┆ f64            │\n",
       "╞══════╪════════════╪═════════════╪════════════════╡\n",
       "│ 9022 ┆ 2018-12-31 ┆ 10.1        ┆ -1.03          │\n",
       "│ 9022 ┆ 2019-03-31 ┆ 4.2         ┆ 6.4            │\n",
       "│ 9022 ┆ 2019-06-30 ┆ -10.9       ┆ -2.89          │\n",
       "│ 9022 ┆ 2019-09-30 ┆ 3.2         ┆ 6.62           │\n",
       "│ 9022 ┆ 2019-12-31 ┆ -5.1        ┆ 0.86           │\n",
       "│ …    ┆ …          ┆ …           ┆ …              │\n",
       "│ 9022 ┆ 2024-06-30 ┆ -0.3        ┆ 0.09           │\n",
       "│ 9022 ┆ 2024-09-30 ┆ -11.2       ┆ 4.31           │\n",
       "│ 9022 ┆ 2024-09-30 ┆ -9.6        ┆ 4.31           │\n",
       "│ 9022 ┆ 2024-09-30 ┆ -9.6        ┆ 2.52           │\n",
       "│ 9022 ┆ 2024-09-30 ┆ -11.2       ┆ 2.52           │\n",
       "└──────┴────────────┴─────────────┴────────────────┘"
      ]
     },
     "execution_count": 41,
     "metadata": {},
     "output_type": "execute_result"
    }
   ],
   "source": [
    "KPL = KessanPl()\n",
    "df = KPL.get_settlement_updown_rate(\"四\")\n",
    "df = df.with_columns([\n",
    "    pl.col(\"settlement_date\").alias(\"key\")\n",
    "])\n",
    "df4 = df.select([\"code\", \"key\", \"updown_rate\", \"nh_updown_rate\"])\n",
    "# df4.filter(pl.col(\"code\")==9022)"
   ]
  },
  {
   "cell_type": "code",
   "execution_count": 7,
   "id": "4ee1e533-e965-43e2-b9c4-01189bdaf6d9",
   "metadata": {},
   "outputs": [],
   "source": [
    "# df1, df2, df3, df4をjoin&select\n",
    "df = df2.join(df1, on=[\"code\", \"key\"], how=\"left\")\n",
    "df21 = df\n",
    "\n",
    "df = df21.with_columns([\n",
    "    pl.col(\"settlement_date\").alias(\"lst_settlement_date\"),\n",
    "    pl.col(\"announcement_date\").alias(\"lst_announcement_date\"),\n",
    "    pl.col(\"settlement_type\").alias(\"lst_settlement_type\"),\n",
    "    pl.col(\"sales\").alias(\"lst_sales\"),\n",
    "    pl.col(\"operating_income\").alias(\"lst_operating_income\"),\n",
    "    pl.col(\"ordinary_profit\").alias(\"lst_ordinary_profit\"),\n",
    "    pl.col(\"final_profit\").alias(\"lst_final_profit\"),\n",
    "    pl.col(\"quater\").alias(\"lst_quater\")\n",
    "])\n",
    "df = df.select([\n",
    "    \"code\",\t\n",
    "    \"lst_settlement_date\",\n",
    "    \"lst_announcement_date\",\n",
    "    \"lst_settlement_type\",\n",
    "    'lst_sales',\n",
    "    'lst_operating_income',\n",
    "    'lst_ordinary_profit',\n",
    "    'lst_final_profit',\n",
    "    \"quater\",\n",
    "    \"ly_settlement_date\",\n",
    "    \"ly_sales\",\n",
    "    \"ly_operating_income\",\n",
    "    \"ly_ordinary_profit\",\n",
    "    \"ly_final_profit\",\n",
    "    \"nxt_settlement_date\",\n",
    "    \"fcst_dgr_sales\",\n",
    "    \"fcst_dgr_operating_income\",\n",
    "    \"fcst_dgr_ordinary_profit\",\t\n",
    "    \"fcst_dgr_final_profit\",\n",
    "    \"key\"\n",
    "])\n",
    "df = df.join(df3, on=[\"code\", \"key\"], how=\"left\")\n",
    "df = df.drop_nulls()\n",
    "\n",
    "df123 = df"
   ]
  },
  {
   "cell_type": "code",
   "execution_count": 8,
   "id": "e4b712ec-511b-4174-baf8-9fe129aacefe",
   "metadata": {},
   "outputs": [
    {
     "data": {
      "text/html": [
       "<div><style>\n",
       ".dataframe > thead > tr,\n",
       ".dataframe > tbody > tr {\n",
       "  text-align: right;\n",
       "  white-space: pre-wrap;\n",
       "}\n",
       "</style>\n",
       "<small>shape: (3_537, 22)</small><table border=\"1\" class=\"dataframe\"><thead><tr><th>code</th><th>lst_settlement_date</th><th>lst_sales</th><th>lst_operating_income</th><th>lst_ordinary_profit</th><th>lst_final_profit</th><th>quater</th><th>ly_sales</th><th>ly_operating_income</th><th>fcst_dgr_sales</th><th>fcst_dgr_operating_income</th><th>fcst_dgr_ordinary_profit</th><th>fcst_dgr_final_profit</th><th>sales</th><th>operating_income</th><th>ordinary_profit</th><th>final_profit</th><th>lst_operating_income_pr</th><th>ly_fcst_sales_gr</th><th>ly_fcst_operating_income_gr</th><th>updown_rate</th><th>nh_updown_rate</th></tr><tr><td>i64</td><td>date</td><td>i64</td><td>i64</td><td>i64</td><td>i64</td><td>i64</td><td>i64</td><td>i64</td><td>i64</td><td>i64</td><td>i64</td><td>i64</td><td>i64</td><td>i64</td><td>i64</td><td>i64</td><td>f64</td><td>f64</td><td>f64</td><td>f64</td><td>f64</td></tr></thead><tbody><tr><td>4406</td><td>2024-03-31</td><td>8783</td><td>456</td><td>476</td><td>303</td><td>4</td><td>7952</td><td>1</td><td>9986</td><td>1227</td><td>1205</td><td>896</td><td>8194</td><td>203</td><td>281</td><td>236</td><td>5.19</td><td>25.58</td><td>122600.0</td><td>4.8</td><td>-7.12</td></tr><tr><td>9438</td><td>2024-03-31</td><td>6892</td><td>617</td><td>726</td><td>928</td><td>2</td><td>6500</td><td>1</td><td>7271</td><td>1227</td><td>1206</td><td>1633</td><td>7019</td><td>700</td><td>845</td><td>685</td><td>8.95</td><td>11.86</td><td>122600.0</td><td>3.5</td><td>-11.05</td></tr><tr><td>4418</td><td>2024-03-31</td><td>5531</td><td>41</td><td>28</td><td>8</td><td>3</td><td>452</td><td>1</td><td>55022</td><td>833</td><td>721</td><td>651</td><td>5292</td><td>4</td><td>-12</td><td>-213</td><td>0.74</td><td>12073.01</td><td>83200.0</td><td>-13.7</td><td>-4.39</td></tr><tr><td>6145</td><td>2024-03-31</td><td>11465</td><td>2173</td><td>2165</td><td>1395</td><td>4</td><td>4195</td><td>9</td><td>16383</td><td>3727</td><td>3852</td><td>2320</td><td>4319</td><td>-611</td><td>-484</td><td>-345</td><td>18.95</td><td>290.54</td><td>41311.11</td><td>-27.0</td><td>-7.12</td></tr><tr><td>1789</td><td>2024-03-31</td><td>2303</td><td>341</td><td>342</td><td>218</td><td>2</td><td>1773</td><td>1</td><td>1916</td><td>411</td><td>407</td><td>250</td><td>1675</td><td>-37</td><td>-43</td><td>-33</td><td>14.81</td><td>8.07</td><td>41000.0</td><td>-26.8</td><td>-7.9</td></tr><tr><td>&hellip;</td><td>&hellip;</td><td>&hellip;</td><td>&hellip;</td><td>&hellip;</td><td>&hellip;</td><td>&hellip;</td><td>&hellip;</td><td>&hellip;</td><td>&hellip;</td><td>&hellip;</td><td>&hellip;</td><td>&hellip;</td><td>&hellip;</td><td>&hellip;</td><td>&hellip;</td><td>&hellip;</td><td>&hellip;</td><td>&hellip;</td><td>&hellip;</td><td>&hellip;</td><td>&hellip;</td></tr><tr><td>5967</td><td>2024-05-31</td><td>2568</td><td>684</td><td>702</td><td>539</td><td>4</td><td>1305</td><td>-5</td><td>2917</td><td>922</td><td>956</td><td>779</td><td>1475</td><td>35</td><td>10</td><td>-20</td><td>26.64</td><td>123.52</td><td>-18540.0</td><td>17.5</td><td>-3.89</td></tr><tr><td>1961</td><td>2024-03-31</td><td>72309</td><td>5588</td><td>5770</td><td>4090</td><td>4</td><td>40727</td><td>-18</td><td>80263</td><td>7083</td><td>7472</td><td>4527</td><td>48527</td><td>1540</td><td>2087</td><td>1345</td><td>7.73</td><td>97.08</td><td>-39450.0</td><td>2.6</td><td>-7.12</td></tr><tr><td>7494</td><td>2024-03-31</td><td>19278</td><td>1143</td><td>1145</td><td>653</td><td>2</td><td>16144</td><td>-2</td><td>19104</td><td>1514</td><td>1457</td><td>811</td><td>14560</td><td>-599</td><td>-696</td><td>-829</td><td>5.93</td><td>18.33</td><td>-75800.0</td><td>-28.4</td><td>-5.86</td></tr><tr><td>3857</td><td>2024-03-31</td><td>14187</td><td>1480</td><td>1535</td><td>1006</td><td>4</td><td>11619</td><td>-1</td><td>15662</td><td>1713</td><td>1780</td><td>1134</td><td>13204</td><td>-8</td><td>-24</td><td>-37</td><td>10.43</td><td>34.8</td><td>-171400.0</td><td>-5.2</td><td>-7.31</td></tr><tr><td>6703</td><td>2024-03-31</td><td>135212</td><td>12850</td><td>13506</td><td>23650</td><td>4</td><td>81525</td><td>-10</td><td>162525</td><td>19979</td><td>20935</td><td>41840</td><td>97939</td><td>3860</td><td>3919</td><td>1805</td><td>9.5</td><td>99.36</td><td>-199890.0</td><td>-18.1</td><td>-8.05</td></tr></tbody></table></div>"
      ],
      "text/plain": [
       "shape: (3_537, 22)\n",
       "┌──────┬────────────┬───────────┬────────────┬───┬────────────┬────────────┬───────────┬───────────┐\n",
       "│ code ┆ lst_settle ┆ lst_sales ┆ lst_operat ┆ … ┆ ly_fcst_sa ┆ ly_fcst_op ┆ updown_ra ┆ nh_updown │\n",
       "│ ---  ┆ ment_date  ┆ ---       ┆ ing_income ┆   ┆ les_gr     ┆ erating_in ┆ te        ┆ _rate     │\n",
       "│ i64  ┆ ---        ┆ i64       ┆ ---        ┆   ┆ ---        ┆ come_gr    ┆ ---       ┆ ---       │\n",
       "│      ┆ date       ┆           ┆ i64        ┆   ┆ f64        ┆ ---        ┆ f64       ┆ f64       │\n",
       "│      ┆            ┆           ┆            ┆   ┆            ┆ f64        ┆           ┆           │\n",
       "╞══════╪════════════╪═══════════╪════════════╪═══╪════════════╪════════════╪═══════════╪═══════════╡\n",
       "│ 4406 ┆ 2024-03-31 ┆ 8783      ┆ 456        ┆ … ┆ 25.58      ┆ 122600.0   ┆ 4.8       ┆ -7.12     │\n",
       "│ 9438 ┆ 2024-03-31 ┆ 6892      ┆ 617        ┆ … ┆ 11.86      ┆ 122600.0   ┆ 3.5       ┆ -11.05    │\n",
       "│ 4418 ┆ 2024-03-31 ┆ 5531      ┆ 41         ┆ … ┆ 12073.01   ┆ 83200.0    ┆ -13.7     ┆ -4.39     │\n",
       "│ 6145 ┆ 2024-03-31 ┆ 11465     ┆ 2173       ┆ … ┆ 290.54     ┆ 41311.11   ┆ -27.0     ┆ -7.12     │\n",
       "│ 1789 ┆ 2024-03-31 ┆ 2303      ┆ 341        ┆ … ┆ 8.07       ┆ 41000.0    ┆ -26.8     ┆ -7.9      │\n",
       "│ …    ┆ …          ┆ …         ┆ …          ┆ … ┆ …          ┆ …          ┆ …         ┆ …         │\n",
       "│ 5967 ┆ 2024-05-31 ┆ 2568      ┆ 684        ┆ … ┆ 123.52     ┆ -18540.0   ┆ 17.5      ┆ -3.89     │\n",
       "│ 1961 ┆ 2024-03-31 ┆ 72309     ┆ 5588       ┆ … ┆ 97.08      ┆ -39450.0   ┆ 2.6       ┆ -7.12     │\n",
       "│ 7494 ┆ 2024-03-31 ┆ 19278     ┆ 1143       ┆ … ┆ 18.33      ┆ -75800.0   ┆ -28.4     ┆ -5.86     │\n",
       "│ 3857 ┆ 2024-03-31 ┆ 14187     ┆ 1480       ┆ … ┆ 34.8       ┆ -171400.0  ┆ -5.2      ┆ -7.31     │\n",
       "│ 6703 ┆ 2024-03-31 ┆ 135212    ┆ 12850      ┆ … ┆ 99.36      ┆ -199890.0  ┆ -18.1     ┆ -8.05     │\n",
       "└──────┴────────────┴───────────┴────────────┴───┴────────────┴────────────┴───────────┴───────────┘"
      ]
     },
     "execution_count": 8,
     "metadata": {},
     "output_type": "execute_result"
    }
   ],
   "source": [
    "# ly_fcstの売上高、営業利益成長率を\n",
    "# 列名ly_fcst_sales_gr, ly_fcst_operating_income_grで追加\n",
    "df = df123.with_columns([\n",
    "    (pl.lit(100) * pl.col(\"lst_operating_income\") / pl.col(\"lst_sales\")).round(2).alias(\"lst_operating_income_pr\"),\n",
    "    (pl.lit(100) * (pl.col(\"fcst_dgr_sales\") - pl.col(\"ly_sales\")) / pl.col(\"ly_sales\")).round(2).alias(\"ly_fcst_sales_gr\"),\n",
    "    (pl.lit(100) * (pl.col(\"fcst_dgr_operating_income\") - pl.col(\"ly_operating_income\")) / pl.col(\"ly_operating_income\")).round(2).alias(\"ly_fcst_operating_income_gr\"),\n",
    "])\n",
    "\n",
    "df = df.join(df4, on=[\"code\", \"key\"], how=\"left\")\n",
    "df = df.drop_nulls()\n",
    "\n",
    "scols = [\n",
    "    \"code\",\n",
    "    \"lst_settlement_date\",\n",
    "    #lst_announcement_date,\n",
    "    #lst_settlement_type,\n",
    "    \"lst_sales\",\n",
    "    \"lst_operating_income\",\n",
    "    \"lst_ordinary_profit\",\n",
    "    \"lst_final_profit\",\n",
    "    \"quater\",\n",
    "    #ly_settlement_date,\n",
    "    \"ly_sales\",\n",
    "    \"ly_operating_income\",\n",
    "    #ly_ordinary_profit,\n",
    "    #ly_final_profit,\n",
    "    #nxt_settlement_date,\n",
    "    \"fcst_dgr_sales\",\n",
    "    \"fcst_dgr_operating_income\",\n",
    "    \"fcst_dgr_ordinary_profit\",\n",
    "    \"fcst_dgr_final_profit\",\n",
    "    #key,\n",
    "    #settlement_date,\n",
    "    #settlement_type,\n",
    "    #announcement_date,\n",
    "    \"sales\",\n",
    "    \"operating_income\",\n",
    "    \"ordinary_profit\",\n",
    "    \"final_profit\",\n",
    "    #reviced_eps,\n",
    "    #dividend,\n",
    "    #quater_right,\n",
    "    \"lst_operating_income_pr\",\n",
    "    \"ly_fcst_sales_gr\",\n",
    "    \"ly_fcst_operating_income_gr\",\n",
    "    \"updown_rate\",\n",
    "    \"nh_updown_rate\"\n",
    "]\n",
    "df = df.select(scols)\n",
    "codes = df[\"code\"].unique()\n",
    "df = df.sort(by=[\"ly_fcst_operating_income_gr\"], descending=[True])\n",
    "original_df = df\n",
    "original_df"
   ]
  },
  {
   "cell_type": "code",
   "execution_count": 25,
   "id": "21dac58a-168d-4cbe-91c6-bcbff2ae8ae5",
   "metadata": {},
   "outputs": [
    {
     "data": {
      "text/html": [
       "<div><style>\n",
       ".dataframe > thead > tr,\n",
       ".dataframe > tbody > tr {\n",
       "  text-align: right;\n",
       "  white-space: pre-wrap;\n",
       "}\n",
       "</style>\n",
       "<small>shape: (1, 2)</small><table border=\"1\" class=\"dataframe\"><thead><tr><th>code</th><th>lst_settlement_date</th></tr><tr><td>i64</td><td>u32</td></tr></thead><tbody><tr><td>9022</td><td>4</td></tr></tbody></table></div>"
      ],
      "text/plain": [
       "shape: (1, 2)\n",
       "┌──────┬─────────────────────┐\n",
       "│ code ┆ lst_settlement_date │\n",
       "│ ---  ┆ ---                 │\n",
       "│ i64  ┆ u32                 │\n",
       "╞══════╪═════════════════════╡\n",
       "│ 9022 ┆ 4                   │\n",
       "└──────┴─────────────────────┘"
      ]
     },
     "execution_count": 25,
     "metadata": {},
     "output_type": "execute_result"
    }
   ],
   "source": [
    "df = original_df\n",
    "df = df.group_by([\"code\"]).agg([\n",
    "    pl.col(\"lst_settlement_date\").count()\n",
    "])\n",
    "df = df.filter(pl.col(\"lst_settlement_date\")!=1)\n",
    "df"
   ]
  },
  {
   "cell_type": "code",
   "execution_count": 42,
   "id": "9990196d-814f-43d3-9f81-c25202460c09",
   "metadata": {},
   "outputs": [
    {
     "data": {
      "text/html": [
       "<div><style>\n",
       ".dataframe > thead > tr,\n",
       ".dataframe > tbody > tr {\n",
       "  text-align: right;\n",
       "  white-space: pre-wrap;\n",
       "}\n",
       "</style>\n",
       "<small>shape: (4, 22)</small><table border=\"1\" class=\"dataframe\"><thead><tr><th>code</th><th>lst_settlement_date</th><th>lst_sales</th><th>lst_operating_income</th><th>lst_ordinary_profit</th><th>lst_final_profit</th><th>quater</th><th>ly_sales</th><th>ly_operating_income</th><th>fcst_dgr_sales</th><th>fcst_dgr_operating_income</th><th>fcst_dgr_ordinary_profit</th><th>fcst_dgr_final_profit</th><th>sales</th><th>operating_income</th><th>ordinary_profit</th><th>final_profit</th><th>lst_operating_income_pr</th><th>ly_fcst_sales_gr</th><th>ly_fcst_operating_income_gr</th><th>updown_rate</th><th>nh_updown_rate</th></tr><tr><td>i64</td><td>date</td><td>i64</td><td>i64</td><td>i64</td><td>i64</td><td>i64</td><td>i64</td><td>i64</td><td>i64</td><td>i64</td><td>i64</td><td>i64</td><td>i64</td><td>i64</td><td>i64</td><td>i64</td><td>f64</td><td>f64</td><td>f64</td><td>f64</td><td>f64</td></tr></thead><tbody><tr><td>9022</td><td>2024-06-30</td><td>435290</td><td>184327</td><td>171278</td><td>119786</td><td>1</td><td>422454</td><td>165574</td><td>479690</td><td>226551</td><td>218031</td><td>152509</td><td>438575</td><td>180882</td><td>164189</td><td>113861</td><td>42.35</td><td>13.55</td><td>36.83</td><td>-11.2</td><td>4.31</td></tr><tr><td>9022</td><td>2024-06-30</td><td>435290</td><td>184327</td><td>171278</td><td>119786</td><td>1</td><td>422454</td><td>165574</td><td>479690</td><td>226551</td><td>218031</td><td>152509</td><td>438575</td><td>180882</td><td>164189</td><td>113861</td><td>42.35</td><td>13.55</td><td>36.83</td><td>-9.6</td><td>4.31</td></tr><tr><td>9022</td><td>2024-06-30</td><td>435290</td><td>184327</td><td>171278</td><td>119786</td><td>1</td><td>422454</td><td>165574</td><td>479690</td><td>226551</td><td>218031</td><td>152509</td><td>438575</td><td>180882</td><td>164189</td><td>113861</td><td>42.35</td><td>13.55</td><td>36.83</td><td>-9.6</td><td>2.52</td></tr><tr><td>9022</td><td>2024-06-30</td><td>435290</td><td>184327</td><td>171278</td><td>119786</td><td>1</td><td>422454</td><td>165574</td><td>479690</td><td>226551</td><td>218031</td><td>152509</td><td>438575</td><td>180882</td><td>164189</td><td>113861</td><td>42.35</td><td>13.55</td><td>36.83</td><td>-11.2</td><td>2.52</td></tr></tbody></table></div>"
      ],
      "text/plain": [
       "shape: (4, 22)\n",
       "┌──────┬────────────┬───────────┬────────────┬───┬────────────┬────────────┬───────────┬───────────┐\n",
       "│ code ┆ lst_settle ┆ lst_sales ┆ lst_operat ┆ … ┆ ly_fcst_sa ┆ ly_fcst_op ┆ updown_ra ┆ nh_updown │\n",
       "│ ---  ┆ ment_date  ┆ ---       ┆ ing_income ┆   ┆ les_gr     ┆ erating_in ┆ te        ┆ _rate     │\n",
       "│ i64  ┆ ---        ┆ i64       ┆ ---        ┆   ┆ ---        ┆ come_gr    ┆ ---       ┆ ---       │\n",
       "│      ┆ date       ┆           ┆ i64        ┆   ┆ f64        ┆ ---        ┆ f64       ┆ f64       │\n",
       "│      ┆            ┆           ┆            ┆   ┆            ┆ f64        ┆           ┆           │\n",
       "╞══════╪════════════╪═══════════╪════════════╪═══╪════════════╪════════════╪═══════════╪═══════════╡\n",
       "│ 9022 ┆ 2024-06-30 ┆ 435290    ┆ 184327     ┆ … ┆ 13.55      ┆ 36.83      ┆ -11.2     ┆ 4.31      │\n",
       "│ 9022 ┆ 2024-06-30 ┆ 435290    ┆ 184327     ┆ … ┆ 13.55      ┆ 36.83      ┆ -9.6      ┆ 4.31      │\n",
       "│ 9022 ┆ 2024-06-30 ┆ 435290    ┆ 184327     ┆ … ┆ 13.55      ┆ 36.83      ┆ -9.6      ┆ 2.52      │\n",
       "│ 9022 ┆ 2024-06-30 ┆ 435290    ┆ 184327     ┆ … ┆ 13.55      ┆ 36.83      ┆ -11.2     ┆ 2.52      │\n",
       "└──────┴────────────┴───────────┴────────────┴───┴────────────┴────────────┴───────────┴───────────┘"
      ]
     },
     "execution_count": 42,
     "metadata": {},
     "output_type": "execute_result"
    }
   ],
   "source": [
    "df = original_df\n",
    "df = df.filter(pl.col(\"code\")==9022)\n",
    "df"
   ]
  },
  {
   "cell_type": "code",
   "execution_count": 9,
   "id": "db4d34b8-6ad1-4a66-ac47-a7c809dbddd3",
   "metadata": {},
   "outputs": [],
   "source": [
    "######\n",
    "###### filter\n",
    "######"
   ]
  },
  {
   "cell_type": "code",
   "execution_count": 10,
   "id": "fff978f5-9968-42ca-bc1f-911bf0cd5392",
   "metadata": {},
   "outputs": [
    {
     "data": {
      "text/plain": [
       "<bound method DataFrame.sort of shape: (3_537, 22)\n",
       "┌──────┬────────────┬───────────┬────────────┬───┬────────────┬────────────┬───────────┬───────────┐\n",
       "│ code ┆ lst_settle ┆ lst_sales ┆ lst_operat ┆ … ┆ ly_fcst_sa ┆ ly_fcst_op ┆ updown_ra ┆ nh_updown │\n",
       "│ ---  ┆ ment_date  ┆ ---       ┆ ing_income ┆   ┆ les_gr     ┆ erating_in ┆ te        ┆ _rate     │\n",
       "│ i64  ┆ ---        ┆ i64       ┆ ---        ┆   ┆ ---        ┆ come_gr    ┆ ---       ┆ ---       │\n",
       "│      ┆ date       ┆           ┆ i64        ┆   ┆ f64        ┆ ---        ┆ f64       ┆ f64       │\n",
       "│      ┆            ┆           ┆            ┆   ┆            ┆ f64        ┆           ┆           │\n",
       "╞══════╪════════════╪═══════════╪════════════╪═══╪════════════╪════════════╪═══════════╪═══════════╡\n",
       "│ 4406 ┆ 2024-03-31 ┆ 8783      ┆ 456        ┆ … ┆ 25.58      ┆ 122600.0   ┆ 4.8       ┆ -7.12     │\n",
       "│ 9438 ┆ 2024-03-31 ┆ 6892      ┆ 617        ┆ … ┆ 11.86      ┆ 122600.0   ┆ 3.5       ┆ -11.05    │\n",
       "│ 4418 ┆ 2024-03-31 ┆ 5531      ┆ 41         ┆ … ┆ 12073.01   ┆ 83200.0    ┆ -13.7     ┆ -4.39     │\n",
       "│ 6145 ┆ 2024-03-31 ┆ 11465     ┆ 2173       ┆ … ┆ 290.54     ┆ 41311.11   ┆ -27.0     ┆ -7.12     │\n",
       "│ 1789 ┆ 2024-03-31 ┆ 2303      ┆ 341        ┆ … ┆ 8.07       ┆ 41000.0    ┆ -26.8     ┆ -7.9      │\n",
       "│ …    ┆ …          ┆ …         ┆ …          ┆ … ┆ …          ┆ …          ┆ …         ┆ …         │\n",
       "│ 5967 ┆ 2024-05-31 ┆ 2568      ┆ 684        ┆ … ┆ 123.52     ┆ -18540.0   ┆ 17.5      ┆ -3.89     │\n",
       "│ 1961 ┆ 2024-03-31 ┆ 72309     ┆ 5588       ┆ … ┆ 97.08      ┆ -39450.0   ┆ 2.6       ┆ -7.12     │\n",
       "│ 7494 ┆ 2024-03-31 ┆ 19278     ┆ 1143       ┆ … ┆ 18.33      ┆ -75800.0   ┆ -28.4     ┆ -5.86     │\n",
       "│ 3857 ┆ 2024-03-31 ┆ 14187     ┆ 1480       ┆ … ┆ 34.8       ┆ -171400.0  ┆ -5.2      ┆ -7.31     │\n",
       "│ 6703 ┆ 2024-03-31 ┆ 135212    ┆ 12850      ┆ … ┆ 99.36      ┆ -199890.0  ┆ -18.1     ┆ -8.05     │\n",
       "└──────┴────────────┴───────────┴────────────┴───┴────────────┴────────────┴───────────┴───────────┘>"
      ]
     },
     "execution_count": 10,
     "metadata": {},
     "output_type": "execute_result"
    }
   ],
   "source": [
    "df = original_df\n",
    "df.sort"
   ]
  },
  {
   "cell_type": "code",
   "execution_count": 28,
   "id": "250164b8-082f-4999-836c-b41c9e536934",
   "metadata": {},
   "outputs": [],
   "source": [
    "KPL = KessanPl()\n",
    "df = KPL.df\n",
    "df = df.filter(pl.col(\"code\")==9022).filter(pl.col(\"settlement_date\")==date(2024, 3, 31))"
   ]
  },
  {
   "cell_type": "code",
   "execution_count": 29,
   "id": "241fc2a7-afad-4919-8d62-93c62329d241",
   "metadata": {},
   "outputs": [
    {
     "data": {
      "text/html": [
       "<div><style>\n",
       ".dataframe > thead > tr,\n",
       ".dataframe > tbody > tr {\n",
       "  text-align: right;\n",
       "  white-space: pre-wrap;\n",
       "}\n",
       "</style>\n",
       "<small>shape: (6, 11)</small><table border=\"1\" class=\"dataframe\"><thead><tr><th>code</th><th>settlement_date</th><th>settlement_type</th><th>announcement_date</th><th>sales</th><th>operating_income</th><th>ordinary_profit</th><th>final_profit</th><th>reviced_eps</th><th>dividend</th><th>quater</th></tr><tr><td>i64</td><td>date</td><td>str</td><td>date</td><td>i64</td><td>i64</td><td>i64</td><td>i64</td><td>f64</td><td>f64</td><td>i64</td></tr></thead><tbody><tr><td>9022</td><td>2024-03-31</td><td>&quot;予&quot;</td><td>2023-04-26</td><td>1566000</td><td>430000</td><td>357000</td><td>250000</td><td>1270.3</td><td>140.0</td><td>4</td></tr><tr><td>9022</td><td>2024-03-31</td><td>&quot;予&quot;</td><td>2023-08-22</td><td>1566000</td><td>430000</td><td>357000</td><td>250000</td><td>1270.3</td><td>84.0</td><td>4</td></tr><tr><td>9022</td><td>2024-03-31</td><td>&quot;予&quot;</td><td>2023-10-30</td><td>1627000</td><td>502000</td><td>433000</td><td>308000</td><td>313.0</td><td>28.0</td><td>4</td></tr><tr><td>9022</td><td>2024-03-31</td><td>&quot;予&quot;</td><td>2024-01-30</td><td>1658000</td><td>533000</td><td>464000</td><td>330000</td><td>335.4</td><td>28.0</td><td>4</td></tr><tr><td>9022</td><td>2024-03-31</td><td>&quot;四&quot;</td><td>2024-04-30</td><td>437390</td><td>104784</td><td>91831</td><td>65641</td><td>66.7</td><td>24.0</td><td>4</td></tr><tr><td>9022</td><td>2024-03-31</td><td>&quot;本&quot;</td><td>2024-04-30</td><td>1710407</td><td>607381</td><td>546946</td><td>384411</td><td>390.7</td><td>29.0</td><td>4</td></tr></tbody></table></div>"
      ],
      "text/plain": [
       "shape: (6, 11)\n",
       "┌──────┬─────────────┬─────────────┬─────────────┬───┬────────────┬────────────┬──────────┬────────┐\n",
       "│ code ┆ settlement_ ┆ settlement_ ┆ announcemen ┆ … ┆ final_prof ┆ reviced_ep ┆ dividend ┆ quater │\n",
       "│ ---  ┆ date        ┆ type        ┆ t_date      ┆   ┆ it         ┆ s          ┆ ---      ┆ ---    │\n",
       "│ i64  ┆ ---         ┆ ---         ┆ ---         ┆   ┆ ---        ┆ ---        ┆ f64      ┆ i64    │\n",
       "│      ┆ date        ┆ str         ┆ date        ┆   ┆ i64        ┆ f64        ┆          ┆        │\n",
       "╞══════╪═════════════╪═════════════╪═════════════╪═══╪════════════╪════════════╪══════════╪════════╡\n",
       "│ 9022 ┆ 2024-03-31  ┆ 予          ┆ 2023-04-26  ┆ … ┆ 250000     ┆ 1270.3     ┆ 140.0    ┆ 4      │\n",
       "│ 9022 ┆ 2024-03-31  ┆ 予          ┆ 2023-08-22  ┆ … ┆ 250000     ┆ 1270.3     ┆ 84.0     ┆ 4      │\n",
       "│ 9022 ┆ 2024-03-31  ┆ 予          ┆ 2023-10-30  ┆ … ┆ 308000     ┆ 313.0      ┆ 28.0     ┆ 4      │\n",
       "│ 9022 ┆ 2024-03-31  ┆ 予          ┆ 2024-01-30  ┆ … ┆ 330000     ┆ 335.4      ┆ 28.0     ┆ 4      │\n",
       "│ 9022 ┆ 2024-03-31  ┆ 四          ┆ 2024-04-30  ┆ … ┆ 65641      ┆ 66.7       ┆ 24.0     ┆ 4      │\n",
       "│ 9022 ┆ 2024-03-31  ┆ 本          ┆ 2024-04-30  ┆ … ┆ 384411     ┆ 390.7      ┆ 29.0     ┆ 4      │\n",
       "└──────┴─────────────┴─────────────┴─────────────┴───┴────────────┴────────────┴──────────┴────────┘"
      ]
     },
     "execution_count": 29,
     "metadata": {},
     "output_type": "execute_result"
    }
   ],
   "source": [
    "df"
   ]
  },
  {
   "cell_type": "code",
   "execution_count": 38,
   "id": "3026baee-359b-4cd1-bbcf-5557ad048ca8",
   "metadata": {},
   "outputs": [
    {
     "data": {
      "text/html": [
       "<div><style>\n",
       ".dataframe > thead > tr,\n",
       ".dataframe > tbody > tr {\n",
       "  text-align: right;\n",
       "  white-space: pre-wrap;\n",
       "}\n",
       "</style>\n",
       "<small>shape: (0, 12)</small><table border=\"1\" class=\"dataframe\"><thead><tr><th>code</th><th>settlement_date</th><th>settlement_type</th><th>announcement_date</th><th>sales</th><th>operating_income</th><th>ordinary_profit</th><th>final_profit</th><th>reviced_eps</th><th>dividend</th><th>quater</th><th>key</th></tr><tr><td>i64</td><td>date</td><td>str</td><td>date</td><td>i64</td><td>i64</td><td>i64</td><td>i64</td><td>f64</td><td>f64</td><td>i64</td><td>date</td></tr></thead><tbody></tbody></table></div>"
      ],
      "text/plain": [
       "shape: (0, 12)\n",
       "┌──────┬───────────────┬───────────────┬──────────────┬───┬─────────────┬──────────┬────────┬──────┐\n",
       "│ code ┆ settlement_da ┆ settlement_ty ┆ announcement ┆ … ┆ reviced_eps ┆ dividend ┆ quater ┆ key  │\n",
       "│ ---  ┆ te            ┆ pe            ┆ _date        ┆   ┆ ---         ┆ ---      ┆ ---    ┆ ---  │\n",
       "│ i64  ┆ ---           ┆ ---           ┆ ---          ┆   ┆ f64         ┆ f64      ┆ i64    ┆ date │\n",
       "│      ┆ date          ┆ str           ┆ date         ┆   ┆             ┆          ┆        ┆      │\n",
       "╞══════╪═══════════════╪═══════════════╪══════════════╪═══╪═════════════╪══════════╪════════╪══════╡\n",
       "└──────┴───────────────┴───────────────┴──────────────┴───┴─────────────┴──────────┴────────┴──────┘"
      ]
     },
     "execution_count": 38,
     "metadata": {},
     "output_type": "execute_result"
    }
   ],
   "source": [
    "df3.filter(pl.col(\"code\")==9022).filter(pl.col(\"settlement_date\")==date(2024, 6, 30))"
   ]
  },
  {
   "cell_type": "code",
   "execution_count": null,
   "id": "5c09f82a-8b47-460d-866f-78f3c1bc00ab",
   "metadata": {},
   "outputs": [],
   "source": []
  }
 ],
 "metadata": {
  "kernelspec": {
   "display_name": "Python 3 (ipykernel)",
   "language": "python",
   "name": "python3"
  },
  "language_info": {
   "codemirror_mode": {
    "name": "ipython",
    "version": 3
   },
   "file_extension": ".py",
   "mimetype": "text/x-python",
   "name": "python",
   "nbconvert_exporter": "python",
   "pygments_lexer": "ipython3",
   "version": "3.12.3"
  }
 },
 "nbformat": 4,
 "nbformat_minor": 5
}
