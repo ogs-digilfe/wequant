{
 "cells": [
  {
   "cell_type": "code",
   "execution_count": 1,
   "id": "69e4d913-e09b-46cd-959d-c0ad92f1205e",
   "metadata": {},
   "outputs": [],
   "source": [
    "#####\n",
    "# 1.最新四半期決算の営業利益率は低い\n",
    "# 2.最新四半期決算の売上高成長率が10%以上\n",
    "# 3.最新四半期決算の対売上高営業利益成長率が20%以上\n",
    "# 4.次期決算を、以下の方法で予測した場合において、営業利益率が前年同期比2倍以上になる\n",
    "# --> 最新四半期決算の売上高成長率と対売上高営業利益成長率を、次期前年四半期決算に適用して次期決算を予想する"
   ]
  },
  {
   "cell_type": "code",
   "execution_count": 2,
   "id": "ed2dd8a1-7b1b-4513-9942-0402d357a902",
   "metadata": {},
   "outputs": [],
   "source": [
    "# 読み込みファイルパスの設定とimportしたいmoduleパス(pythonパス)の設定\n",
    "from pathlib import Path\n",
    "import os, sys\n",
    "\n",
    "CURRENT_DIR = Path(os.getcwd())\n",
    "PJ_DIR = CURRENT_DIR.parent.parent\n",
    "LIB_DIR = PJ_DIR / \"lib\"\n",
    "DATA_DIR = PJ_DIR / \"data\" \n",
    "\n",
    "sys.path.append(str(LIB_DIR))\n",
    "\n",
    "# notebook内で利用するmoduleのimport\n",
    "from lib_dataprocess import KessanPl, PricelistFig, PricelistPl, MeigaralistPl\n",
    "from lib_dataprocess import ShikihoPl, FinancequotePl, print_finance_quote, PricelistFig, KessanFig, IndexPricelistPl\n",
    "import polars as pl\n",
    "from datetime import date\n",
    "from dateutil.relativedelta import relativedelta\n",
    "\n",
    "RevPl = PricelistPl(\"reviced_pricelist.parquet\")\n",
    "RawPL = PricelistPl(\"raw_pricelist.parquet\")\n",
    "MPL = MeigaralistPl()\n",
    "SPL = ShikihoPl()"
   ]
  },
  {
   "cell_type": "code",
   "execution_count": 4,
   "id": "b5980fc4-a606-4e2d-ba46-f7fd63477a6d",
   "metadata": {},
   "outputs": [
    {
     "data": {
      "text/html": [
       "<div><style>\n",
       ".dataframe > thead > tr,\n",
       ".dataframe > tbody > tr {\n",
       "  text-align: right;\n",
       "  white-space: pre-wrap;\n",
       "}\n",
       "</style>\n",
       "<small>shape: (76_383, 18)</small><table border=\"1\" class=\"dataframe\"><thead><tr><th>code</th><th>settlement_date</th><th>settlement_type</th><th>announcement_date</th><th>sales</th><th>operating_income</th><th>ordinary_profit</th><th>final_profit</th><th>reviced_eps</th><th>dividend</th><th>quater</th><th>ly_settlement_date</th><th>ly_announcement_date</th><th>ly_sales</th><th>ly_operating_income</th><th>ly_ordinary_profit</th><th>ly_final_profit</th><th>key</th></tr><tr><td>i64</td><td>date</td><td>str</td><td>date</td><td>i64</td><td>i64</td><td>i64</td><td>i64</td><td>f64</td><td>f64</td><td>i64</td><td>date</td><td>date</td><td>i64</td><td>i64</td><td>i64</td><td>i64</td><td>date</td></tr></thead><tbody><tr><td>1301</td><td>2019-09-30</td><td>&quot;四&quot;</td><td>2019-11-05</td><td>64240</td><td>-35</td><td>113</td><td>4</td><td>0.4</td><td>-0.1</td><td>2</td><td>2018-09-30</td><td>2018-11-05</td><td>61245</td><td>507</td><td>595</td><td>269</td><td>2019-09-30</td></tr><tr><td>1301</td><td>2019-12-31</td><td>&quot;四&quot;</td><td>2020-02-07</td><td>78552</td><td>1881</td><td>1851</td><td>1029</td><td>95.1</td><td>2.4</td><td>3</td><td>2018-12-31</td><td>2019-02-08</td><td>78581</td><td>2208</td><td>2591</td><td>1677</td><td>2019-12-31</td></tr><tr><td>1301</td><td>2020-03-31</td><td>&quot;四&quot;</td><td>2020-05-12</td><td>57083</td><td>302</td><td>629</td><td>298</td><td>27.6</td><td>0.5</td><td>4</td><td>2019-03-31</td><td>2019-05-13</td><td>58368</td><td>551</td><td>511</td><td>413</td><td>2020-03-31</td></tr><tr><td>1301</td><td>2020-06-30</td><td>&quot;四&quot;</td><td>2020-08-07</td><td>54320</td><td>633</td><td>697</td><td>565</td><td>52.6</td><td>1.2</td><td>1</td><td>2019-06-30</td><td>2019-08-02</td><td>62644</td><td>770</td><td>1015</td><td>706</td><td>2020-06-30</td></tr><tr><td>1301</td><td>2020-09-30</td><td>&quot;四&quot;</td><td>2020-11-06</td><td>62541</td><td>746</td><td>808</td><td>1012</td><td>94.2</td><td>1.2</td><td>2</td><td>2019-09-30</td><td>2019-11-05</td><td>64240</td><td>-35</td><td>113</td><td>4</td><td>2020-09-30</td></tr><tr><td>&hellip;</td><td>&hellip;</td><td>&hellip;</td><td>&hellip;</td><td>&hellip;</td><td>&hellip;</td><td>&hellip;</td><td>&hellip;</td><td>&hellip;</td><td>&hellip;</td><td>&hellip;</td><td>&hellip;</td><td>&hellip;</td><td>&hellip;</td><td>&hellip;</td><td>&hellip;</td><td>&hellip;</td><td>&hellip;</td></tr><tr><td>9997</td><td>2023-09-30</td><td>&quot;四&quot;</td><td>2023-10-31</td><td>44263</td><td>1939</td><td>2466</td><td>1878</td><td>19.4</td><td>4.4</td><td>2</td><td>2022-09-30</td><td>2022-10-31</td><td>45340</td><td>1936</td><td>2219</td><td>1467</td><td>2023-09-30</td></tr><tr><td>9997</td><td>2023-12-31</td><td>&quot;四&quot;</td><td>2024-01-31</td><td>60173</td><td>2630</td><td>2605</td><td>1818</td><td>18.8</td><td>4.4</td><td>3</td><td>2022-12-31</td><td>2023-01-31</td><td>61675</td><td>4185</td><td>4165</td><td>2533</td><td>2023-12-31</td></tr><tr><td>9997</td><td>2024-03-31</td><td>&quot;四&quot;</td><td>2024-05-13</td><td>52020</td><td>4062</td><td>4901</td><td>758</td><td>7.8</td><td>7.8</td><td>4</td><td>2023-03-31</td><td>2023-05-12</td><td>51922</td><td>3343</td><td>3623</td><td>2035</td><td>2024-03-31</td></tr><tr><td>9997</td><td>2024-06-30</td><td>&quot;四&quot;</td><td>2024-07-31</td><td>51368</td><td>982</td><td>1681</td><td>994</td><td>10.3</td><td>1.9</td><td>1</td><td>2023-06-30</td><td>2023-07-31</td><td>51842</td><td>1156</td><td>1859</td><td>1385</td><td>2024-06-30</td></tr><tr><td>9997</td><td>2024-09-30</td><td>&quot;四&quot;</td><td>2024-10-31</td><td>45759</td><td>2588</td><td>2462</td><td>1571</td><td>16.3</td><td>5.7</td><td>2</td><td>2023-09-30</td><td>2023-10-31</td><td>44263</td><td>1939</td><td>2466</td><td>1878</td><td>2024-09-30</td></tr></tbody></table></div>"
      ],
      "text/plain": [
       "shape: (76_383, 18)\n",
       "┌──────┬────────────┬────────────┬────────────┬───┬────────────┬───────────┬───────────┬───────────┐\n",
       "│ code ┆ settlement ┆ settlement ┆ announceme ┆ … ┆ ly_operati ┆ ly_ordina ┆ ly_final_ ┆ key       │\n",
       "│ ---  ┆ _date      ┆ _type      ┆ nt_date    ┆   ┆ ng_income  ┆ ry_profit ┆ profit    ┆ ---       │\n",
       "│ i64  ┆ ---        ┆ ---        ┆ ---        ┆   ┆ ---        ┆ ---       ┆ ---       ┆ date      │\n",
       "│      ┆ date       ┆ str        ┆ date       ┆   ┆ i64        ┆ i64       ┆ i64       ┆           │\n",
       "╞══════╪════════════╪════════════╪════════════╪═══╪════════════╪═══════════╪═══════════╪═══════════╡\n",
       "│ 1301 ┆ 2019-09-30 ┆ 四         ┆ 2019-11-05 ┆ … ┆ 507        ┆ 595       ┆ 269       ┆ 2019-09-3 │\n",
       "│      ┆            ┆            ┆            ┆   ┆            ┆           ┆           ┆ 0         │\n",
       "│ 1301 ┆ 2019-12-31 ┆ 四         ┆ 2020-02-07 ┆ … ┆ 2208       ┆ 2591      ┆ 1677      ┆ 2019-12-3 │\n",
       "│      ┆            ┆            ┆            ┆   ┆            ┆           ┆           ┆ 1         │\n",
       "│ 1301 ┆ 2020-03-31 ┆ 四         ┆ 2020-05-12 ┆ … ┆ 551        ┆ 511       ┆ 413       ┆ 2020-03-3 │\n",
       "│      ┆            ┆            ┆            ┆   ┆            ┆           ┆           ┆ 1         │\n",
       "│ 1301 ┆ 2020-06-30 ┆ 四         ┆ 2020-08-07 ┆ … ┆ 770        ┆ 1015      ┆ 706       ┆ 2020-06-3 │\n",
       "│      ┆            ┆            ┆            ┆   ┆            ┆           ┆           ┆ 0         │\n",
       "│ 1301 ┆ 2020-09-30 ┆ 四         ┆ 2020-11-06 ┆ … ┆ -35        ┆ 113       ┆ 4         ┆ 2020-09-3 │\n",
       "│      ┆            ┆            ┆            ┆   ┆            ┆           ┆           ┆ 0         │\n",
       "│ …    ┆ …          ┆ …          ┆ …          ┆ … ┆ …          ┆ …         ┆ …         ┆ …         │\n",
       "│ 9997 ┆ 2023-09-30 ┆ 四         ┆ 2023-10-31 ┆ … ┆ 1936       ┆ 2219      ┆ 1467      ┆ 2023-09-3 │\n",
       "│      ┆            ┆            ┆            ┆   ┆            ┆           ┆           ┆ 0         │\n",
       "│ 9997 ┆ 2023-12-31 ┆ 四         ┆ 2024-01-31 ┆ … ┆ 4185       ┆ 4165      ┆ 2533      ┆ 2023-12-3 │\n",
       "│      ┆            ┆            ┆            ┆   ┆            ┆           ┆           ┆ 1         │\n",
       "│ 9997 ┆ 2024-03-31 ┆ 四         ┆ 2024-05-13 ┆ … ┆ 3343       ┆ 3623      ┆ 2035      ┆ 2024-03-3 │\n",
       "│      ┆            ┆            ┆            ┆   ┆            ┆           ┆           ┆ 1         │\n",
       "│ 9997 ┆ 2024-06-30 ┆ 四         ┆ 2024-07-31 ┆ … ┆ 1156       ┆ 1859      ┆ 1385      ┆ 2024-06-3 │\n",
       "│      ┆            ┆            ┆            ┆   ┆            ┆           ┆           ┆ 0         │\n",
       "│ 9997 ┆ 2024-09-30 ┆ 四         ┆ 2024-10-31 ┆ … ┆ 1939       ┆ 2466      ┆ 1878      ┆ 2024-09-3 │\n",
       "│      ┆            ┆            ┆            ┆   ┆            ┆           ┆           ┆ 0         │\n",
       "└──────┴────────────┴────────────┴────────────┴───┴────────────┴───────────┴───────────┴───────────┘"
      ]
     },
     "execution_count": 4,
     "metadata": {},
     "output_type": "execute_result"
    }
   ],
   "source": [
    "KPL = KessanPl()\n",
    "KPL.with_columns_lastyear_settlement()\n",
    "df1 = KPL.df.filter(pl.col(\"settlement_type\")==\"四\")\n",
    "df1 = df1.with_columns([\n",
    "    pl.col(\"settlement_date\").alias(\"key\")\n",
    "])\n",
    "df1"
   ]
  },
  {
   "cell_type": "code",
   "execution_count": 5,
   "id": "bd1957b9-92de-4198-b78e-5890da960020",
   "metadata": {},
   "outputs": [
    {
     "data": {
      "text/html": [
       "<div><style>\n",
       ".dataframe > thead > tr,\n",
       ".dataframe > tbody > tr {\n",
       "  text-align: right;\n",
       "  white-space: pre-wrap;\n",
       "}\n",
       "</style>\n",
       "<small>shape: (3_637, 18)</small><table border=\"1\" class=\"dataframe\"><thead><tr><th>code</th><th>announcement_date</th><th>settlement_date</th><th>settlement_type</th><th>sales</th><th>operating_income</th><th>ordinary_profit</th><th>final_profit</th><th>reviced_eps</th><th>dividend</th><th>quater</th><th>fcst_dgr_sales</th><th>fcst_dgr_operating_income</th><th>fcst_dgr_ordinary_profit</th><th>fcst_dgr_final_profit</th><th>col</th><th>nxt_settlement_date</th><th>key</th></tr><tr><td>i64</td><td>date</td><td>date</td><td>str</td><td>i64</td><td>i64</td><td>i64</td><td>i64</td><td>f64</td><td>f64</td><td>i64</td><td>i64</td><td>i64</td><td>i64</td><td>i64</td><td>date</td><td>date</td><td>date</td></tr></thead><tbody><tr><td>1301</td><td>2024-05-10</td><td>2024-03-31</td><td>&quot;四&quot;</td><td>59990</td><td>1857</td><td>1863</td><td>951</td><td>87.9</td><td>3.1</td><td>4</td><td>61250</td><td>3823</td><td>3979</td><td>2143</td><td>2024-06-19</td><td>2024-06-30</td><td>2024-06-30</td></tr><tr><td>1332</td><td>2024-05-14</td><td>2024-03-31</td><td>&quot;四&quot;</td><td>205894</td><td>3308</td><td>4183</td><td>3557</td><td>11.4</td><td>1.6</td><td>4</td><td>223395</td><td>5863</td><td>6931</td><td>4730</td><td>2024-06-19</td><td>2024-06-30</td><td>2024-06-30</td></tr><tr><td>1333</td><td>2024-05-07</td><td>2024-03-31</td><td>&quot;四&quot;</td><td>243328</td><td>1176</td><td>878</td><td>-1581</td><td>-31.4</td><td>0.5</td><td>4</td><td>247221</td><td>-237</td><td>-858</td><td>-3216</td><td>2024-06-19</td><td>2024-06-30</td><td>2024-06-30</td></tr><tr><td>1375</td><td>2024-05-09</td><td>2024-03-31</td><td>&quot;四&quot;</td><td>11807</td><td>-803</td><td>-1015</td><td>-774</td><td>-19.4</td><td>-6.8</td><td>4</td><td>14298</td><td>-903</td><td>-1247</td><td>-1018</td><td>2024-06-19</td><td>2024-06-30</td><td>2024-06-30</td></tr><tr><td>1376</td><td>2024-07-10</td><td>2024-05-31</td><td>&quot;四&quot;</td><td>23224</td><td>1150</td><td>1134</td><td>918</td><td>80.6</td><td>5.0</td><td>4</td><td>23665</td><td>1084</td><td>1042</td><td>911</td><td>2024-08-19</td><td>2024-08-31</td><td>2024-08-31</td></tr><tr><td>&hellip;</td><td>&hellip;</td><td>&hellip;</td><td>&hellip;</td><td>&hellip;</td><td>&hellip;</td><td>&hellip;</td><td>&hellip;</td><td>&hellip;</td><td>&hellip;</td><td>&hellip;</td><td>&hellip;</td><td>&hellip;</td><td>&hellip;</td><td>&hellip;</td><td>&hellip;</td><td>&hellip;</td><td>&hellip;</td></tr><tr><td>9993</td><td>2024-07-11</td><td>2024-05-31</td><td>&quot;四&quot;</td><td>24969</td><td>-408</td><td>-223</td><td>-186</td><td>-17.3</td><td>-1.6</td><td>1</td><td>25418</td><td>-891</td><td>-539</td><td>-1045</td><td>2024-08-19</td><td>2024-08-31</td><td>2024-08-31</td></tr><tr><td>9994</td><td>2024-05-15</td><td>2024-03-31</td><td>&quot;四&quot;</td><td>36543</td><td>1082</td><td>1070</td><td>581</td><td>53.6</td><td>3.0</td><td>4</td><td>37676</td><td>1816</td><td>1779</td><td>1041</td><td>2024-06-19</td><td>2024-06-30</td><td>2024-06-30</td></tr><tr><td>9995</td><td>2024-05-07</td><td>2024-03-31</td><td>&quot;四&quot;</td><td>18708</td><td>63</td><td>249</td><td>433</td><td>15.2</td><td>0.3</td><td>4</td><td>20149</td><td>79</td><td>452</td><td>842</td><td>2024-06-19</td><td>2024-06-30</td><td>2024-06-30</td></tr><tr><td>9996</td><td>2024-05-13</td><td>2024-03-31</td><td>&quot;四&quot;</td><td>11286</td><td>202</td><td>258</td><td>206</td><td>24.7</td><td>1.8</td><td>4</td><td>11907</td><td>313</td><td>451</td><td>326</td><td>2024-06-19</td><td>2024-06-30</td><td>2024-06-30</td></tr><tr><td>9997</td><td>2024-07-31</td><td>2024-06-30</td><td>&quot;四&quot;</td><td>51368</td><td>982</td><td>1681</td><td>994</td><td>10.3</td><td>1.9</td><td>1</td><td>50906</td><td>808</td><td>1503</td><td>608</td><td>2024-09-18</td><td>2024-09-30</td><td>2024-09-30</td></tr></tbody></table></div>"
      ],
      "text/plain": [
       "shape: (3_637, 18)\n",
       "┌──────┬────────────┬────────────┬────────────┬───┬────────────┬───────────┬───────────┬───────────┐\n",
       "│ code ┆ announceme ┆ settlement ┆ settlement ┆ … ┆ fcst_dgr_f ┆ col       ┆ nxt_settl ┆ key       │\n",
       "│ ---  ┆ nt_date    ┆ _date      ┆ _type      ┆   ┆ inal_profi ┆ ---       ┆ ement_dat ┆ ---       │\n",
       "│ i64  ┆ ---        ┆ ---        ┆ ---        ┆   ┆ t          ┆ date      ┆ e         ┆ date      │\n",
       "│      ┆ date       ┆ date       ┆ str        ┆   ┆ ---        ┆           ┆ ---       ┆           │\n",
       "│      ┆            ┆            ┆            ┆   ┆ i64        ┆           ┆ date      ┆           │\n",
       "╞══════╪════════════╪════════════╪════════════╪═══╪════════════╪═══════════╪═══════════╪═══════════╡\n",
       "│ 1301 ┆ 2024-05-10 ┆ 2024-03-31 ┆ 四         ┆ … ┆ 2143       ┆ 2024-06-1 ┆ 2024-06-3 ┆ 2024-06-3 │\n",
       "│      ┆            ┆            ┆            ┆   ┆            ┆ 9         ┆ 0         ┆ 0         │\n",
       "│ 1332 ┆ 2024-05-14 ┆ 2024-03-31 ┆ 四         ┆ … ┆ 4730       ┆ 2024-06-1 ┆ 2024-06-3 ┆ 2024-06-3 │\n",
       "│      ┆            ┆            ┆            ┆   ┆            ┆ 9         ┆ 0         ┆ 0         │\n",
       "│ 1333 ┆ 2024-05-07 ┆ 2024-03-31 ┆ 四         ┆ … ┆ -3216      ┆ 2024-06-1 ┆ 2024-06-3 ┆ 2024-06-3 │\n",
       "│      ┆            ┆            ┆            ┆   ┆            ┆ 9         ┆ 0         ┆ 0         │\n",
       "│ 1375 ┆ 2024-05-09 ┆ 2024-03-31 ┆ 四         ┆ … ┆ -1018      ┆ 2024-06-1 ┆ 2024-06-3 ┆ 2024-06-3 │\n",
       "│      ┆            ┆            ┆            ┆   ┆            ┆ 9         ┆ 0         ┆ 0         │\n",
       "│ 1376 ┆ 2024-07-10 ┆ 2024-05-31 ┆ 四         ┆ … ┆ 911        ┆ 2024-08-1 ┆ 2024-08-3 ┆ 2024-08-3 │\n",
       "│      ┆            ┆            ┆            ┆   ┆            ┆ 9         ┆ 1         ┆ 1         │\n",
       "│ …    ┆ …          ┆ …          ┆ …          ┆ … ┆ …          ┆ …         ┆ …         ┆ …         │\n",
       "│ 9993 ┆ 2024-07-11 ┆ 2024-05-31 ┆ 四         ┆ … ┆ -1045      ┆ 2024-08-1 ┆ 2024-08-3 ┆ 2024-08-3 │\n",
       "│      ┆            ┆            ┆            ┆   ┆            ┆ 9         ┆ 1         ┆ 1         │\n",
       "│ 9994 ┆ 2024-05-15 ┆ 2024-03-31 ┆ 四         ┆ … ┆ 1041       ┆ 2024-06-1 ┆ 2024-06-3 ┆ 2024-06-3 │\n",
       "│      ┆            ┆            ┆            ┆   ┆            ┆ 9         ┆ 0         ┆ 0         │\n",
       "│ 9995 ┆ 2024-05-07 ┆ 2024-03-31 ┆ 四         ┆ … ┆ 842        ┆ 2024-06-1 ┆ 2024-06-3 ┆ 2024-06-3 │\n",
       "│      ┆            ┆            ┆            ┆   ┆            ┆ 9         ┆ 0         ┆ 0         │\n",
       "│ 9996 ┆ 2024-05-13 ┆ 2024-03-31 ┆ 四         ┆ … ┆ 326        ┆ 2024-06-1 ┆ 2024-06-3 ┆ 2024-06-3 │\n",
       "│      ┆            ┆            ┆            ┆   ┆            ┆ 9         ┆ 0         ┆ 0         │\n",
       "│ 9997 ┆ 2024-07-31 ┆ 2024-06-30 ┆ 四         ┆ … ┆ 608        ┆ 2024-09-1 ┆ 2024-09-3 ┆ 2024-09-3 │\n",
       "│      ┆            ┆            ┆            ┆   ┆            ┆ 8         ┆ 0         ┆ 0         │\n",
       "└──────┴────────────┴────────────┴────────────┴───┴────────────┴───────────┴───────────┴───────────┘"
      ]
     },
     "execution_count": 5,
     "metadata": {},
     "output_type": "execute_result"
    }
   ],
   "source": [
    "# para\n",
    "valuation_date = date(2024, 8, 1)\n",
    "\n",
    "KPL = KessanPl()\n",
    "df2 = KPL.get_settlement_forcast_by_diff_growth_rate(valuation_date)\n",
    "df2 = df2.filter(pl.col(\"settlement_type\")==\"四\")\n",
    "df2 = df2.with_columns([\n",
    "    pl.col(\"nxt_settlement_date\").alias(\"key\")\n",
    "])\n",
    "df2"
   ]
  },
  {
   "cell_type": "code",
   "execution_count": 13,
   "id": "4ee1e533-e965-43e2-b9c4-01189bdaf6d9",
   "metadata": {},
   "outputs": [
    {
     "data": {
      "text/html": [
       "<div><style>\n",
       ".dataframe > thead > tr,\n",
       ".dataframe > tbody > tr {\n",
       "  text-align: right;\n",
       "  white-space: pre-wrap;\n",
       "}\n",
       "</style>\n",
       "<small>shape: (3_637, 19)</small><table border=\"1\" class=\"dataframe\"><thead><tr><th>code</th><th>settlement_date</th><th>announcement_date</th><th>settlement_type</th><th>sales</th><th>operating_income</th><th>ordinary_profit</th><th>final_profit</th><th>quater</th><th>ly_settlement_date</th><th>ly_sales</th><th>ly_operating_income</th><th>ly_ordinary_profit</th><th>ly_final_profit</th><th>nxt_settlement_date</th><th>fcst_dgr_sales</th><th>fcst_dgr_operating_income</th><th>fcst_dgr_ordinary_profit</th><th>fcst_dgr_final_profit</th></tr><tr><td>i64</td><td>date</td><td>date</td><td>str</td><td>i64</td><td>i64</td><td>i64</td><td>i64</td><td>i64</td><td>date</td><td>i64</td><td>i64</td><td>i64</td><td>i64</td><td>date</td><td>i64</td><td>i64</td><td>i64</td><td>i64</td></tr></thead><tbody><tr><td>1301</td><td>2024-03-31</td><td>2024-05-10</td><td>&quot;四&quot;</td><td>59990</td><td>1857</td><td>1863</td><td>951</td><td>4</td><td>2023-06-30</td><td>62367</td><td>2421</td><td>2548</td><td>1827</td><td>2024-06-30</td><td>61250</td><td>3823</td><td>3979</td><td>2143</td></tr><tr><td>1332</td><td>2024-03-31</td><td>2024-05-14</td><td>&quot;四&quot;</td><td>205894</td><td>3308</td><td>4183</td><td>3557</td><td>4</td><td>2023-06-30</td><td>199844</td><td>9720</td><td>9718</td><td>5981</td><td>2024-06-30</td><td>223395</td><td>5863</td><td>6931</td><td>4730</td></tr><tr><td>1333</td><td>2024-03-31</td><td>2024-05-07</td><td>&quot;四&quot;</td><td>243328</td><td>1176</td><td>878</td><td>-1581</td><td>4</td><td>2023-06-30</td><td>250922</td><td>7685</td><td>11213</td><td>6652</td><td>2024-06-30</td><td>247221</td><td>-237</td><td>-858</td><td>-3216</td></tr><tr><td>1375</td><td>2024-03-31</td><td>2024-05-09</td><td>&quot;四&quot;</td><td>11807</td><td>-803</td><td>-1015</td><td>-774</td><td>4</td><td>2023-06-30</td><td>8274</td><td>-315</td><td>-413</td><td>-283</td><td>2024-06-30</td><td>14298</td><td>-903</td><td>-1247</td><td>-1018</td></tr><tr><td>1376</td><td>2024-05-31</td><td>2024-07-10</td><td>&quot;四&quot;</td><td>23224</td><td>1150</td><td>1134</td><td>918</td><td>4</td><td>2023-08-31</td><td>13727</td><td>258</td><td>309</td><td>208</td><td>2024-08-31</td><td>23665</td><td>1084</td><td>1042</td><td>911</td></tr><tr><td>&hellip;</td><td>&hellip;</td><td>&hellip;</td><td>&hellip;</td><td>&hellip;</td><td>&hellip;</td><td>&hellip;</td><td>&hellip;</td><td>&hellip;</td><td>&hellip;</td><td>&hellip;</td><td>&hellip;</td><td>&hellip;</td><td>&hellip;</td><td>&hellip;</td><td>&hellip;</td><td>&hellip;</td><td>&hellip;</td><td>&hellip;</td></tr><tr><td>9993</td><td>2024-05-31</td><td>2024-07-11</td><td>&quot;四&quot;</td><td>24969</td><td>-408</td><td>-223</td><td>-186</td><td>1</td><td>2023-08-31</td><td>26129</td><td>454</td><td>473</td><td>348</td><td>2024-08-31</td><td>25418</td><td>-891</td><td>-539</td><td>-1045</td></tr><tr><td>9994</td><td>2024-03-31</td><td>2024-05-15</td><td>&quot;四&quot;</td><td>36543</td><td>1082</td><td>1070</td><td>581</td><td>4</td><td>2023-06-30</td><td>38910</td><td>1322</td><td>1362</td><td>797</td><td>2024-06-30</td><td>37676</td><td>1816</td><td>1779</td><td>1041</td></tr><tr><td>9995</td><td>2024-03-31</td><td>2024-05-07</td><td>&quot;四&quot;</td><td>18708</td><td>63</td><td>249</td><td>433</td><td>4</td><td>null</td><td>null</td><td>null</td><td>null</td><td>null</td><td>2024-06-30</td><td>20149</td><td>79</td><td>452</td><td>842</td></tr><tr><td>9996</td><td>2024-03-31</td><td>2024-05-13</td><td>&quot;四&quot;</td><td>11286</td><td>202</td><td>258</td><td>206</td><td>4</td><td>2023-06-30</td><td>11598</td><td>351</td><td>409</td><td>279</td><td>2024-06-30</td><td>11907</td><td>313</td><td>451</td><td>326</td></tr><tr><td>9997</td><td>2024-06-30</td><td>2024-07-31</td><td>&quot;四&quot;</td><td>51368</td><td>982</td><td>1681</td><td>994</td><td>1</td><td>2023-09-30</td><td>44263</td><td>1939</td><td>2466</td><td>1878</td><td>2024-09-30</td><td>50906</td><td>808</td><td>1503</td><td>608</td></tr></tbody></table></div>"
      ],
      "text/plain": [
       "shape: (3_637, 19)\n",
       "┌──────┬────────────┬────────────┬────────────┬───┬────────────┬───────────┬───────────┬───────────┐\n",
       "│ code ┆ settlement ┆ announceme ┆ settlement ┆ … ┆ fcst_dgr_s ┆ fcst_dgr_ ┆ fcst_dgr_ ┆ fcst_dgr_ │\n",
       "│ ---  ┆ _date      ┆ nt_date    ┆ _type      ┆   ┆ ales       ┆ operating ┆ ordinary_ ┆ final_pro │\n",
       "│ i64  ┆ ---        ┆ ---        ┆ ---        ┆   ┆ ---        ┆ _income   ┆ profit    ┆ fit       │\n",
       "│      ┆ date       ┆ date       ┆ str        ┆   ┆ i64        ┆ ---       ┆ ---       ┆ ---       │\n",
       "│      ┆            ┆            ┆            ┆   ┆            ┆ i64       ┆ i64       ┆ i64       │\n",
       "╞══════╪════════════╪════════════╪════════════╪═══╪════════════╪═══════════╪═══════════╪═══════════╡\n",
       "│ 1301 ┆ 2024-03-31 ┆ 2024-05-10 ┆ 四         ┆ … ┆ 61250      ┆ 3823      ┆ 3979      ┆ 2143      │\n",
       "│ 1332 ┆ 2024-03-31 ┆ 2024-05-14 ┆ 四         ┆ … ┆ 223395     ┆ 5863      ┆ 6931      ┆ 4730      │\n",
       "│ 1333 ┆ 2024-03-31 ┆ 2024-05-07 ┆ 四         ┆ … ┆ 247221     ┆ -237      ┆ -858      ┆ -3216     │\n",
       "│ 1375 ┆ 2024-03-31 ┆ 2024-05-09 ┆ 四         ┆ … ┆ 14298      ┆ -903      ┆ -1247     ┆ -1018     │\n",
       "│ 1376 ┆ 2024-05-31 ┆ 2024-07-10 ┆ 四         ┆ … ┆ 23665      ┆ 1084      ┆ 1042      ┆ 911       │\n",
       "│ …    ┆ …          ┆ …          ┆ …          ┆ … ┆ …          ┆ …         ┆ …         ┆ …         │\n",
       "│ 9993 ┆ 2024-05-31 ┆ 2024-07-11 ┆ 四         ┆ … ┆ 25418      ┆ -891      ┆ -539      ┆ -1045     │\n",
       "│ 9994 ┆ 2024-03-31 ┆ 2024-05-15 ┆ 四         ┆ … ┆ 37676      ┆ 1816      ┆ 1779      ┆ 1041      │\n",
       "│ 9995 ┆ 2024-03-31 ┆ 2024-05-07 ┆ 四         ┆ … ┆ 20149      ┆ 79        ┆ 452       ┆ 842       │\n",
       "│ 9996 ┆ 2024-03-31 ┆ 2024-05-13 ┆ 四         ┆ … ┆ 11907      ┆ 313       ┆ 451       ┆ 326       │\n",
       "│ 9997 ┆ 2024-06-30 ┆ 2024-07-31 ┆ 四         ┆ … ┆ 50906      ┆ 808       ┆ 1503      ┆ 608       │\n",
       "└──────┴────────────┴────────────┴────────────┴───┴────────────┴───────────┴───────────┴───────────┘"
      ]
     },
     "execution_count": 13,
     "metadata": {},
     "output_type": "execute_result"
    }
   ],
   "source": [
    "df = df2.join(df1, on=[\"code\", \"key\"], how=\"left\")\n",
    "df = df.select([\n",
    "    \"code\",\t\n",
    "    \"settlement_date\",\n",
    "    \"announcement_date\",\n",
    "    \"settlement_type\",\n",
    "    'sales',\n",
    "    'operating_income',\n",
    "    'ordinary_profit',\n",
    "    'final_profit',\n",
    "    \"quater\",\n",
    "    \"ly_settlement_date\",\n",
    "    \"ly_sales\",\n",
    "    \"ly_operating_income\",\n",
    "    \"ly_ordinary_profit\",\n",
    "    \"ly_final_profit\",\n",
    "    \"nxt_settlement_date\",\n",
    "    \"fcst_dgr_sales\",\n",
    "    \"fcst_dgr_operating_income\",\n",
    "    \"fcst_dgr_ordinary_profit\",\t\n",
    "    \"fcst_dgr_final_profit\"\t\n",
    "])\n",
    "df"
   ]
  },
  {
   "cell_type": "code",
   "execution_count": null,
   "id": "0c0398ad-16af-4da9-a9a4-bd89575576e5",
   "metadata": {},
   "outputs": [],
   "source": []
  }
 ],
 "metadata": {
  "kernelspec": {
   "display_name": "Python 3 (ipykernel)",
   "language": "python",
   "name": "python3"
  },
  "language_info": {
   "codemirror_mode": {
    "name": "ipython",
    "version": 3
   },
   "file_extension": ".py",
   "mimetype": "text/x-python",
   "name": "python",
   "nbconvert_exporter": "python",
   "pygments_lexer": "ipython3",
   "version": "3.12.3"
  }
 },
 "nbformat": 4,
 "nbformat_minor": 5
}
