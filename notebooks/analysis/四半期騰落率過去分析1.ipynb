{
 "cells": [
  {
   "cell_type": "code",
   "execution_count": 1,
   "id": "385faced-ebf2-4b70-a5fd-800bbb9ad45f",
   "metadata": {},
   "outputs": [],
   "source": [
    "# 四半期の騰落率が大きく動いた銘柄の過去分析行う\n",
    "# 　四半期騰落率過去分析1: すでにある程度業績の良い銘柄の分析\n",
    "# 　四半期騰落率過去分析2: 黒字化銘柄の分析"
   ]
  },
  {
   "cell_type": "code",
   "execution_count": 2,
   "id": "761f62b0-eea1-4475-8b42-31bcef380ca1",
   "metadata": {},
   "outputs": [],
   "source": [
    "# 読み込みファイルパスの設定とimportしたいmoduleパス(pythonパス)の設定\n",
    "from pathlib import Path\n",
    "import os, sys\n",
    "\n",
    "CURRENT_DIR = Path(os.getcwd())\n",
    "PJ_DIR = CURRENT_DIR.parent.parent\n",
    "LIB_DIR = PJ_DIR / \"lib\"\n",
    "DATA_DIR = PJ_DIR / \"data\" \n",
    "\n",
    "sys.path.append(str(LIB_DIR))\n",
    "\n",
    "# notebook内で利用するmoduleのimport\n",
    "from lib_dataprocess import KessanPl, PricelistFig, PricelistPl, MeigaralistPl, read_data\n",
    "from lib_dataprocess import ShikihoPl, FinancequotePl, print_finance_quote, PricelistFig, KessanFig, IndexPricelistPl\n",
    "import polars as pl\n",
    "from datetime import date\n",
    "from dateutil.relativedelta import relativedelta\n",
    "\n",
    "RevPl = PricelistPl(\"reviced_pricelist.parquet\")\n",
    "RawPL = PricelistPl(\"raw_pricelist.parquet\")\n",
    "MPL = MeigaralistPl()\n",
    "SPL = ShikihoPl()"
   ]
  },
  {
   "cell_type": "code",
   "execution_count": 3,
   "id": "87b6e5ae-2d17-4b33-a3a4-dd524a714dd6",
   "metadata": {},
   "outputs": [],
   "source": [
    "#####\n",
    "##### 評価日における四半期騰落率一覧\n",
    "#####"
   ]
  },
  {
   "cell_type": "code",
   "execution_count": 4,
   "id": "2014bd7e-a8e5-4872-9ada-62fdac09a0a9",
   "metadata": {},
   "outputs": [
    {
     "data": {
      "text/html": [
       "<div><style>\n",
       ".dataframe > thead > tr,\n",
       ".dataframe > tbody > tr {\n",
       "  text-align: right;\n",
       "  white-space: pre-wrap;\n",
       "}\n",
       "</style>\n",
       "<small>shape: (3_763, 5)</small><table border=\"1\" class=\"dataframe\"><thead><tr><th>code</th><th>start_date</th><th>end_date</th><th>updown_rate</th><th>nh_updown_rate</th></tr><tr><td>i64</td><td>date</td><td>date</td><td>f64</td><td>f64</td></tr></thead><tbody><tr><td>1301</td><td>2024-05-11</td><td>2024-08-05</td><td>-8.97</td><td>-17.67</td></tr><tr><td>1332</td><td>2024-05-15</td><td>2024-08-06</td><td>-12.67</td><td>-10.01</td></tr><tr><td>1333</td><td>2024-05-08</td><td>2024-08-05</td><td>-11.23</td><td>-18.67</td></tr><tr><td>1375</td><td>2024-05-10</td><td>2024-08-08</td><td>-0.41</td><td>-9.2</td></tr><tr><td>1376</td><td>2024-07-11</td><td>2024-10-04</td><td>-3.01</td><td>-8.76</td></tr><tr><td>&hellip;</td><td>&hellip;</td><td>&hellip;</td><td>&hellip;</td><td>&hellip;</td></tr><tr><td>9993</td><td>2024-07-12</td><td>2024-10-10</td><td>-5.32</td><td>-5.49</td></tr><tr><td>9994</td><td>2024-05-16</td><td>2024-08-09</td><td>-3.61</td><td>-9.37</td></tr><tr><td>9995</td><td>2024-05-08</td><td>2024-08-01</td><td>0.27</td><td>-1.43</td></tr><tr><td>9996</td><td>2024-05-14</td><td>2024-08-09</td><td>-9.0</td><td>-8.52</td></tr><tr><td>9997</td><td>2024-08-01</td><td>2024-10-31</td><td>-5.43</td><td>0.77</td></tr></tbody></table></div>"
      ],
      "text/plain": [
       "shape: (3_763, 5)\n",
       "┌──────┬────────────┬────────────┬─────────────┬────────────────┐\n",
       "│ code ┆ start_date ┆ end_date   ┆ updown_rate ┆ nh_updown_rate │\n",
       "│ ---  ┆ ---        ┆ ---        ┆ ---         ┆ ---            │\n",
       "│ i64  ┆ date       ┆ date       ┆ f64         ┆ f64            │\n",
       "╞══════╪════════════╪════════════╪═════════════╪════════════════╡\n",
       "│ 1301 ┆ 2024-05-11 ┆ 2024-08-05 ┆ -8.97       ┆ -17.67         │\n",
       "│ 1332 ┆ 2024-05-15 ┆ 2024-08-06 ┆ -12.67      ┆ -10.01         │\n",
       "│ 1333 ┆ 2024-05-08 ┆ 2024-08-05 ┆ -11.23      ┆ -18.67         │\n",
       "│ 1375 ┆ 2024-05-10 ┆ 2024-08-08 ┆ -0.41       ┆ -9.2           │\n",
       "│ 1376 ┆ 2024-07-11 ┆ 2024-10-04 ┆ -3.01       ┆ -8.76          │\n",
       "│ …    ┆ …          ┆ …          ┆ …           ┆ …              │\n",
       "│ 9993 ┆ 2024-07-12 ┆ 2024-10-10 ┆ -5.32       ┆ -5.49          │\n",
       "│ 9994 ┆ 2024-05-16 ┆ 2024-08-09 ┆ -3.61       ┆ -9.37          │\n",
       "│ 9995 ┆ 2024-05-08 ┆ 2024-08-01 ┆ 0.27        ┆ -1.43          │\n",
       "│ 9996 ┆ 2024-05-14 ┆ 2024-08-09 ┆ -9.0        ┆ -8.52          │\n",
       "│ 9997 ┆ 2024-08-01 ┆ 2024-10-31 ┆ -5.43       ┆ 0.77           │\n",
       "└──────┴────────────┴────────────┴─────────────┴────────────────┘"
      ]
     },
     "execution_count": 4,
     "metadata": {},
     "output_type": "execute_result"
    }
   ],
   "source": [
    "valuation_date = date(2024, 8, 1)\n",
    "\n",
    "\n",
    "KPl = KessanPl()\n",
    "updown_rate_df = KPl.get_quater_settlement_price_updown_rate(valuation_date, \"nh225\")\n",
    "updown_rate_df"
   ]
  },
  {
   "cell_type": "code",
   "execution_count": 5,
   "id": "f35d8f5a-9d76-4fe9-918f-88784ae3cc20",
   "metadata": {},
   "outputs": [],
   "source": [
    "#####\n",
    "##### valuation_date時点で発表済四半期決算の業績成長率一覧(growth_rate_df)の作成\n",
    "#####"
   ]
  },
  {
   "cell_type": "code",
   "execution_count": 6,
   "id": "170a80b3-7ae6-4034-bec3-97a9469408c9",
   "metadata": {},
   "outputs": [
    {
     "data": {
      "text/html": [
       "<div><style>\n",
       ".dataframe > thead > tr,\n",
       ".dataframe > tbody > tr {\n",
       "  text-align: right;\n",
       "  white-space: pre-wrap;\n",
       "}\n",
       "</style>\n",
       "<small>shape: (3_746, 7)</small><table border=\"1\" class=\"dataframe\"><thead><tr><th>code</th><th>評価日発表済最新四半期決算</th><th>announcement_date</th><th>sales</th><th>operating_income</th><th>sales_growthrate</th><th>diff_operating_income_growthrate</th></tr><tr><td>i64</td><td>date</td><td>date</td><td>i64</td><td>i64</td><td>f64</td><td>f64</td></tr></thead><tbody><tr><td>1301</td><td>2024-03-31</td><td>2024-05-10</td><td>59990</td><td>1857</td><td>2.1</td><td>155.0</td></tr><tr><td>1332</td><td>2024-03-31</td><td>2024-05-14</td><td>205894</td><td>3308</td><td>8.5</td><td>13.6</td></tr><tr><td>1333</td><td>2024-03-31</td><td>2024-05-07</td><td>243328</td><td>1176</td><td>1.6</td><td>-37.3</td></tr><tr><td>1375</td><td>2024-03-31</td><td>2024-05-09</td><td>11807</td><td>-803</td><td>21.1</td><td>-5.0</td></tr><tr><td>1376</td><td>2024-05-31</td><td>2024-07-10</td><td>23224</td><td>1150</td><td>1.9</td><td>-16.0</td></tr><tr><td>&hellip;</td><td>&hellip;</td><td>&hellip;</td><td>&hellip;</td><td>&hellip;</td><td>&hellip;</td><td>&hellip;</td></tr><tr><td>9993</td><td>2024-05-31</td><td>2024-07-11</td><td>24969</td><td>-408</td><td>1.8</td><td>-108.5</td></tr><tr><td>9994</td><td>2024-03-31</td><td>2024-05-15</td><td>36543</td><td>1082</td><td>3.1</td><td>63.8</td></tr><tr><td>9995</td><td>2024-03-31</td><td>2024-05-07</td><td>18708</td><td>63</td><td>7.7</td><td>0.1</td></tr><tr><td>9996</td><td>2024-03-31</td><td>2024-05-13</td><td>11286</td><td>202</td><td>5.5</td><td>16.8</td></tr><tr><td>9997</td><td>2024-06-30</td><td>2024-07-31</td><td>51368</td><td>982</td><td>-0.9</td><td>36.7</td></tr></tbody></table></div>"
      ],
      "text/plain": [
       "shape: (3_746, 7)\n",
       "┌──────┬────────────────┬────────────────┬────────┬────────────────┬───────────────┬───────────────┐\n",
       "│ code ┆ 評価日発表済最 ┆ announcement_d ┆ sales  ┆ operating_inco ┆ sales_growthr ┆ diff_operatin │\n",
       "│ ---  ┆ 新四半期決算   ┆ ate            ┆ ---    ┆ me             ┆ ate           ┆ g_income_grow │\n",
       "│ i64  ┆ ---            ┆ ---            ┆ i64    ┆ ---            ┆ ---           ┆ thra…         │\n",
       "│      ┆ date           ┆ date           ┆        ┆ i64            ┆ f64           ┆ ---           │\n",
       "│      ┆                ┆                ┆        ┆                ┆               ┆ f64           │\n",
       "╞══════╪════════════════╪════════════════╪════════╪════════════════╪═══════════════╪═══════════════╡\n",
       "│ 1301 ┆ 2024-03-31     ┆ 2024-05-10     ┆ 59990  ┆ 1857           ┆ 2.1           ┆ 155.0         │\n",
       "│ 1332 ┆ 2024-03-31     ┆ 2024-05-14     ┆ 205894 ┆ 3308           ┆ 8.5           ┆ 13.6          │\n",
       "│ 1333 ┆ 2024-03-31     ┆ 2024-05-07     ┆ 243328 ┆ 1176           ┆ 1.6           ┆ -37.3         │\n",
       "│ 1375 ┆ 2024-03-31     ┆ 2024-05-09     ┆ 11807  ┆ -803           ┆ 21.1          ┆ -5.0          │\n",
       "│ 1376 ┆ 2024-05-31     ┆ 2024-07-10     ┆ 23224  ┆ 1150           ┆ 1.9           ┆ -16.0         │\n",
       "│ …    ┆ …              ┆ …              ┆ …      ┆ …              ┆ …             ┆ …             │\n",
       "│ 9993 ┆ 2024-05-31     ┆ 2024-07-11     ┆ 24969  ┆ -408           ┆ 1.8           ┆ -108.5        │\n",
       "│ 9994 ┆ 2024-03-31     ┆ 2024-05-15     ┆ 36543  ┆ 1082           ┆ 3.1           ┆ 63.8          │\n",
       "│ 9995 ┆ 2024-03-31     ┆ 2024-05-07     ┆ 18708  ┆ 63             ┆ 7.7           ┆ 0.1           │\n",
       "│ 9996 ┆ 2024-03-31     ┆ 2024-05-13     ┆ 11286  ┆ 202            ┆ 5.5           ┆ 16.8          │\n",
       "│ 9997 ┆ 2024-06-30     ┆ 2024-07-31     ┆ 51368  ┆ 982            ┆ -0.9          ┆ 36.7          │\n",
       "└──────┴────────────────┴────────────────┴────────┴────────────────┴───────────────┴───────────────┘"
      ]
     },
     "execution_count": 6,
     "metadata": {},
     "output_type": "execute_result"
    }
   ],
   "source": [
    "KPL1 = KessanPl()\n",
    "KPL2 = KessanPl()\n",
    "KPL1.with_columns_growthrate_lastyear()\n",
    "KPL2.with_columns_diff_growthrate()\n",
    "KPL1.df = KPL1.df.filter(pl.col(\"settlement_type\")==\"四\")\n",
    "KPL2.df = KPL2.df.filter(pl.col(\"settlement_type\")==\"四\")\n",
    "df = KPL1.df.join(KPL2.df, on=[\"code\", \"settlement_date\"], how=\"left\")\n",
    "KPL3 = KessanPl(df)\n",
    "df =KPL3.get_latest_quater_settlements(valuation_date)\n",
    "df = df.select([\n",
    "    \"code\", \"settlement_date\", \"announcement_date\", \"sales\", \"operating_income\", \"sales_growthrate\", \"diff_operating_income_growthrate\"\n",
    "])\n",
    "df = df.rename({\"settlement_date\": \"評価日発表済最新四半期決算\"})\n",
    "growth_rate_df = df\n",
    "growth_rate_df"
   ]
  },
  {
   "cell_type": "code",
   "execution_count": 7,
   "id": "00b0c358-8579-41cb-b07e-403f581136a1",
   "metadata": {},
   "outputs": [
    {
     "data": {
      "text/html": [
       "<div><style>\n",
       ".dataframe > thead > tr,\n",
       ".dataframe > tbody > tr {\n",
       "  text-align: right;\n",
       "  white-space: pre-wrap;\n",
       "}\n",
       "</style>\n",
       "<small>shape: (3_890, 8)</small><table border=\"1\" class=\"dataframe\"><thead><tr><th>code</th><th>date</th><th>expected_PER</th><th>actual_PBR</th><th>actual_CAR</th><th>market_cap</th><th>ROA</th><th>ROE</th></tr><tr><td>i64</td><td>date</td><td>f64</td><td>f64</td><td>f64</td><td>i64</td><td>f64</td><td>f64</td></tr></thead><tbody><tr><td>1301</td><td>2024-08-01</td><td>6.66</td><td>0.79</td><td>36.7</td><td>47407</td><td>4.36</td><td>11.87</td></tr><tr><td>1332</td><td>2024-08-01</td><td>11.26</td><td>1.08</td><td>41.1</td><td>271564</td><td>3.96</td><td>9.63</td></tr><tr><td>1333</td><td>2024-08-01</td><td>8.64</td><td>0.79</td><td>30.8</td><td>164886</td><td>2.83</td><td>9.17</td></tr><tr><td>1375</td><td>2024-08-01</td><td>25.74</td><td>3.48</td><td>30.1</td><td>39910</td><td>4.07</td><td>13.53</td></tr><tr><td>1376</td><td>2024-08-01</td><td>13.23</td><td>0.65</td><td>50.2</td><td>16540</td><td>2.46</td><td>4.91</td></tr><tr><td>&hellip;</td><td>&hellip;</td><td>&hellip;</td><td>&hellip;</td><td>&hellip;</td><td>&hellip;</td><td>&hellip;</td><td>&hellip;</td></tr><tr><td>9991</td><td>2024-08-01</td><td>7.95</td><td>0.52</td><td>58.8</td><td>32579</td><td>3.82</td><td>6.49</td></tr><tr><td>9993</td><td>2024-08-01</td><td>111.58</td><td>0.47</td><td>49.6</td><td>13624</td><td>0.21</td><td>0.42</td></tr><tr><td>9994</td><td>2024-08-01</td><td>9.05</td><td>1.04</td><td>51.6</td><td>33520</td><td>5.93</td><td>11.49</td></tr><tr><td>9996</td><td>2024-08-01</td><td>12.4</td><td>0.61</td><td>68.3</td><td>16941</td><td>3.36</td><td>4.92</td></tr><tr><td>9997</td><td>2024-08-01</td><td>8.7</td><td>0.51</td><td>45.0</td><td>70016</td><td>2.63</td><td>5.84</td></tr></tbody></table></div>"
      ],
      "text/plain": [
       "shape: (3_890, 8)\n",
       "┌──────┬────────────┬──────────────┬────────────┬────────────┬────────────┬──────┬───────┐\n",
       "│ code ┆ date       ┆ expected_PER ┆ actual_PBR ┆ actual_CAR ┆ market_cap ┆ ROA  ┆ ROE   │\n",
       "│ ---  ┆ ---        ┆ ---          ┆ ---        ┆ ---        ┆ ---        ┆ ---  ┆ ---   │\n",
       "│ i64  ┆ date       ┆ f64          ┆ f64        ┆ f64        ┆ i64        ┆ f64  ┆ f64   │\n",
       "╞══════╪════════════╪══════════════╪════════════╪════════════╪════════════╪══════╪═══════╡\n",
       "│ 1301 ┆ 2024-08-01 ┆ 6.66         ┆ 0.79       ┆ 36.7       ┆ 47407      ┆ 4.36 ┆ 11.87 │\n",
       "│ 1332 ┆ 2024-08-01 ┆ 11.26        ┆ 1.08       ┆ 41.1       ┆ 271564     ┆ 3.96 ┆ 9.63  │\n",
       "│ 1333 ┆ 2024-08-01 ┆ 8.64         ┆ 0.79       ┆ 30.8       ┆ 164886     ┆ 2.83 ┆ 9.17  │\n",
       "│ 1375 ┆ 2024-08-01 ┆ 25.74        ┆ 3.48       ┆ 30.1       ┆ 39910      ┆ 4.07 ┆ 13.53 │\n",
       "│ 1376 ┆ 2024-08-01 ┆ 13.23        ┆ 0.65       ┆ 50.2       ┆ 16540      ┆ 2.46 ┆ 4.91  │\n",
       "│ …    ┆ …          ┆ …            ┆ …          ┆ …          ┆ …          ┆ …    ┆ …     │\n",
       "│ 9991 ┆ 2024-08-01 ┆ 7.95         ┆ 0.52       ┆ 58.8       ┆ 32579      ┆ 3.82 ┆ 6.49  │\n",
       "│ 9993 ┆ 2024-08-01 ┆ 111.58       ┆ 0.47       ┆ 49.6       ┆ 13624      ┆ 0.21 ┆ 0.42  │\n",
       "│ 9994 ┆ 2024-08-01 ┆ 9.05         ┆ 1.04       ┆ 51.6       ┆ 33520      ┆ 5.93 ┆ 11.49 │\n",
       "│ 9996 ┆ 2024-08-01 ┆ 12.4         ┆ 0.61       ┆ 68.3       ┆ 16941      ┆ 3.36 ┆ 4.92  │\n",
       "│ 9997 ┆ 2024-08-01 ┆ 8.7          ┆ 0.51       ┆ 45.0       ┆ 70016      ┆ 2.63 ┆ 5.84  │\n",
       "└──────┴────────────┴──────────────┴────────────┴────────────┴────────────┴──────┴───────┘"
      ]
     },
     "execution_count": 7,
     "metadata": {},
     "output_type": "execute_result"
    }
   ],
   "source": [
    "#####\n",
    "##### valuation_date時点の最新financial_quote(finance_df)の抽出\n",
    "#####\n",
    "FPL = FinancequotePl()\n",
    "FPL.with_columns_market_cap()\n",
    "FPL.with_columns_ROA()\n",
    "FPL.with_columns_ROE()\n",
    "df = FPL.get_finance_quotes(valuation_date)\n",
    "df = df.select([\n",
    "    \"code\",\n",
    "    \"date\",\n",
    "    \"expected_PER\",\n",
    "    \"actual_PBR\",\n",
    "    \"actual_CAR\",\n",
    "    \"market_cap\",\n",
    "    \"ROA\",\n",
    "    \"ROE\"\n",
    "])\n",
    "\n",
    "finance_df = df\n",
    "finance_df"
   ]
  },
  {
   "cell_type": "code",
   "execution_count": 8,
   "id": "a29bb913-24e3-4b64-9435-8198bb3c3473",
   "metadata": {},
   "outputs": [],
   "source": [
    "#####\n",
    "##### 評価dfの作成：　updown_rate_dfとgrowth_rate_dfをjoinして必要な列を残す\n",
    "#####"
   ]
  },
  {
   "cell_type": "code",
   "execution_count": 9,
   "id": "7fc128b3-3ffe-4e66-9779-47c4f6643d81",
   "metadata": {},
   "outputs": [
    {
     "data": {
      "text/html": [
       "<div><style>\n",
       ".dataframe > thead > tr,\n",
       ".dataframe > tbody > tr {\n",
       "  text-align: right;\n",
       "  white-space: pre-wrap;\n",
       "}\n",
       "</style>\n",
       "<small>shape: (3_241, 18)</small><table border=\"1\" class=\"dataframe\"><thead><tr><th>code</th><th>評価日発表済最新四半期決算</th><th>sales</th><th>operating_income</th><th>営業利益率</th><th>sales_growthrate</th><th>diff_operating_income_growthrate</th><th>start_date</th><th>end_date</th><th>updown_rate</th><th>nh_updown_rate</th><th>date</th><th>expected_PER</th><th>actual_PBR</th><th>actual_CAR</th><th>market_cap</th><th>ROA</th><th>ROE</th></tr><tr><td>i64</td><td>date</td><td>i64</td><td>i64</td><td>f64</td><td>f64</td><td>f64</td><td>date</td><td>date</td><td>f64</td><td>f64</td><td>date</td><td>f64</td><td>f64</td><td>f64</td><td>i64</td><td>f64</td><td>f64</td></tr></thead><tbody><tr><td>1301</td><td>2024-03-31</td><td>59990</td><td>1857</td><td>3.1</td><td>2.1</td><td>155.0</td><td>2024-05-11</td><td>2024-08-05</td><td>-8.97</td><td>-17.67</td><td>2024-08-01</td><td>6.66</td><td>0.79</td><td>36.7</td><td>47407</td><td>4.36</td><td>11.87</td></tr><tr><td>1332</td><td>2024-03-31</td><td>205894</td><td>3308</td><td>1.61</td><td>8.5</td><td>13.6</td><td>2024-05-15</td><td>2024-08-06</td><td>-12.67</td><td>-10.01</td><td>2024-08-01</td><td>11.26</td><td>1.08</td><td>41.1</td><td>271564</td><td>3.96</td><td>9.63</td></tr><tr><td>1333</td><td>2024-03-31</td><td>243328</td><td>1176</td><td>0.48</td><td>1.6</td><td>-37.3</td><td>2024-05-08</td><td>2024-08-05</td><td>-11.23</td><td>-18.67</td><td>2024-08-01</td><td>8.64</td><td>0.79</td><td>30.8</td><td>164886</td><td>2.83</td><td>9.17</td></tr><tr><td>1375</td><td>2024-03-31</td><td>11807</td><td>-803</td><td>-6.8</td><td>21.1</td><td>-5.0</td><td>2024-05-10</td><td>2024-08-08</td><td>-0.41</td><td>-9.2</td><td>2024-08-01</td><td>25.74</td><td>3.48</td><td>30.1</td><td>39910</td><td>4.07</td><td>13.53</td></tr><tr><td>1376</td><td>2024-05-31</td><td>23224</td><td>1150</td><td>4.95</td><td>1.9</td><td>-16.0</td><td>2024-07-11</td><td>2024-10-04</td><td>-3.01</td><td>-8.76</td><td>2024-08-01</td><td>13.23</td><td>0.65</td><td>50.2</td><td>16540</td><td>2.46</td><td>4.91</td></tr><tr><td>&hellip;</td><td>&hellip;</td><td>&hellip;</td><td>&hellip;</td><td>&hellip;</td><td>&hellip;</td><td>&hellip;</td><td>&hellip;</td><td>&hellip;</td><td>&hellip;</td><td>&hellip;</td><td>&hellip;</td><td>&hellip;</td><td>&hellip;</td><td>&hellip;</td><td>&hellip;</td><td>&hellip;</td><td>&hellip;</td></tr><tr><td>9991</td><td>2024-06-30</td><td>26954</td><td>1366</td><td>5.07</td><td>-14.5</td><td>-2.5</td><td>2024-07-26</td><td>2024-10-29</td><td>-9.93</td><td>2.94</td><td>2024-08-01</td><td>7.95</td><td>0.52</td><td>58.8</td><td>32579</td><td>3.82</td><td>6.49</td></tr><tr><td>9993</td><td>2024-05-31</td><td>24969</td><td>-408</td><td>-1.63</td><td>1.8</td><td>-108.5</td><td>2024-07-12</td><td>2024-10-10</td><td>-5.32</td><td>-5.49</td><td>2024-08-01</td><td>111.58</td><td>0.47</td><td>49.6</td><td>13624</td><td>0.21</td><td>0.42</td></tr><tr><td>9994</td><td>2024-03-31</td><td>36543</td><td>1082</td><td>2.96</td><td>3.1</td><td>63.8</td><td>2024-05-16</td><td>2024-08-09</td><td>-3.61</td><td>-9.37</td><td>2024-08-01</td><td>9.05</td><td>1.04</td><td>51.6</td><td>33520</td><td>5.93</td><td>11.49</td></tr><tr><td>9996</td><td>2024-03-31</td><td>11286</td><td>202</td><td>1.79</td><td>5.5</td><td>16.8</td><td>2024-05-14</td><td>2024-08-09</td><td>-9.0</td><td>-8.52</td><td>2024-08-01</td><td>12.4</td><td>0.61</td><td>68.3</td><td>16941</td><td>3.36</td><td>4.92</td></tr><tr><td>9997</td><td>2024-06-30</td><td>51368</td><td>982</td><td>1.91</td><td>-0.9</td><td>36.7</td><td>2024-08-01</td><td>2024-10-31</td><td>-5.43</td><td>0.77</td><td>2024-08-01</td><td>8.7</td><td>0.51</td><td>45.0</td><td>70016</td><td>2.63</td><td>5.84</td></tr></tbody></table></div>"
      ],
      "text/plain": [
       "shape: (3_241, 18)\n",
       "┌──────┬──────────────────┬────────┬──────────────────┬───┬────────────┬────────────┬──────┬───────┐\n",
       "│ code ┆ 評価日発表済最新 ┆ sales  ┆ operating_income ┆ … ┆ actual_CAR ┆ market_cap ┆ ROA  ┆ ROE   │\n",
       "│ ---  ┆ 四半期決算       ┆ ---    ┆ ---              ┆   ┆ ---        ┆ ---        ┆ ---  ┆ ---   │\n",
       "│ i64  ┆ ---              ┆ i64    ┆ i64              ┆   ┆ f64        ┆ i64        ┆ f64  ┆ f64   │\n",
       "│      ┆ date             ┆        ┆                  ┆   ┆            ┆            ┆      ┆       │\n",
       "╞══════╪══════════════════╪════════╪══════════════════╪═══╪════════════╪════════════╪══════╪═══════╡\n",
       "│ 1301 ┆ 2024-03-31       ┆ 59990  ┆ 1857             ┆ … ┆ 36.7       ┆ 47407      ┆ 4.36 ┆ 11.87 │\n",
       "│ 1332 ┆ 2024-03-31       ┆ 205894 ┆ 3308             ┆ … ┆ 41.1       ┆ 271564     ┆ 3.96 ┆ 9.63  │\n",
       "│ 1333 ┆ 2024-03-31       ┆ 243328 ┆ 1176             ┆ … ┆ 30.8       ┆ 164886     ┆ 2.83 ┆ 9.17  │\n",
       "│ 1375 ┆ 2024-03-31       ┆ 11807  ┆ -803             ┆ … ┆ 30.1       ┆ 39910      ┆ 4.07 ┆ 13.53 │\n",
       "│ 1376 ┆ 2024-05-31       ┆ 23224  ┆ 1150             ┆ … ┆ 50.2       ┆ 16540      ┆ 2.46 ┆ 4.91  │\n",
       "│ …    ┆ …                ┆ …      ┆ …                ┆ … ┆ …          ┆ …          ┆ …    ┆ …     │\n",
       "│ 9991 ┆ 2024-06-30       ┆ 26954  ┆ 1366             ┆ … ┆ 58.8       ┆ 32579      ┆ 3.82 ┆ 6.49  │\n",
       "│ 9993 ┆ 2024-05-31       ┆ 24969  ┆ -408             ┆ … ┆ 49.6       ┆ 13624      ┆ 0.21 ┆ 0.42  │\n",
       "│ 9994 ┆ 2024-03-31       ┆ 36543  ┆ 1082             ┆ … ┆ 51.6       ┆ 33520      ┆ 5.93 ┆ 11.49 │\n",
       "│ 9996 ┆ 2024-03-31       ┆ 11286  ┆ 202              ┆ … ┆ 68.3       ┆ 16941      ┆ 3.36 ┆ 4.92  │\n",
       "│ 9997 ┆ 2024-06-30       ┆ 51368  ┆ 982              ┆ … ┆ 45.0       ┆ 70016      ┆ 2.63 ┆ 5.84  │\n",
       "└──────┴──────────────────┴────────┴──────────────────┴───┴────────────┴────────────┴──────┴───────┘"
      ]
     },
     "execution_count": 9,
     "metadata": {},
     "output_type": "execute_result"
    }
   ],
   "source": [
    "df = growth_rate_df.join(updown_rate_df, on=[\"code\"], how=\"left\")\n",
    "if finance_df.shape[0] > 3500:\n",
    "    df = df.join(finance_df, on=[\"code\"], how=\"left\")\n",
    "    \n",
    "df = df.with_columns([\n",
    "    (pl.lit(100) * pl.col(\"operating_income\") / pl.col(\"sales\")).round(2).alias(\"営業利益率\")\n",
    "])\n",
    "df = df.select(df.columns[:5] + [df.columns[-1]] + df.columns[5:-1])\n",
    "df = df.select(df.columns[:2]+df.columns[3:])\n",
    "df = df.sort(by=[\"updown_rate\"], descending=[True])\n",
    "df = df.drop_nulls()\n",
    "df = df.sort(by=[\"code\"])\n",
    "evaluated_df = df\n",
    "evaluated_df"
   ]
  },
  {
   "cell_type": "code",
   "execution_count": 10,
   "id": "eba9e3e8-9bd5-4b17-a753-422a2a031cb5",
   "metadata": {},
   "outputs": [],
   "source": [
    "#####\n",
    "##### filter\n",
    "#####"
   ]
  },
  {
   "cell_type": "code",
   "execution_count": 16,
   "id": "bbe46b9a-7535-48c6-acd0-dcf8a130eda9",
   "metadata": {},
   "outputs": [
    {
     "data": {
      "text/html": [
       "<div><style>\n",
       ".dataframe > thead > tr,\n",
       ".dataframe > tbody > tr {\n",
       "  text-align: right;\n",
       "  white-space: pre-wrap;\n",
       "}\n",
       "</style>\n",
       "<small>shape: (9, 18)</small><table border=\"1\" class=\"dataframe\"><thead><tr><th>code</th><th>評価日発表済最新四半期決算</th><th>sales</th><th>operating_income</th><th>営業利益率</th><th>sales_growthrate</th><th>diff_operating_income_growthrate</th><th>start_date</th><th>end_date</th><th>updown_rate</th><th>nh_updown_rate</th><th>date</th><th>expected_PER</th><th>actual_PBR</th><th>actual_CAR</th><th>market_cap</th><th>ROA</th><th>ROE</th></tr><tr><td>i64</td><td>date</td><td>i64</td><td>i64</td><td>f64</td><td>f64</td><td>f64</td><td>date</td><td>date</td><td>f64</td><td>f64</td><td>date</td><td>f64</td><td>f64</td><td>f64</td><td>i64</td><td>f64</td><td>f64</td></tr></thead><tbody><tr><td>1815</td><td>2024-03-31</td><td>50928</td><td>-3</td><td>-0.01</td><td>11.3</td><td>4.0</td><td>2024-05-15</td><td>2024-08-09</td><td>-11.53</td><td>-9.1</td><td>2024-08-01</td><td>13.86</td><td>0.52</td><td>34.0</td><td>39611</td><td>1.28</td><td>3.76</td></tr><tr><td>1950</td><td>2024-06-30</td><td>33011</td><td>-774</td><td>-2.34</td><td>15.5</td><td>11.3</td><td>2024-08-01</td><td>2024-10-31</td><td>-1.57</td><td>0.77</td><td>2024-08-01</td><td>10.29</td><td>0.59</td><td>65.7</td><td>112797</td><td>3.78</td><td>5.75</td></tr><tr><td>2130</td><td>2024-06-30</td><td>5035</td><td>-492</td><td>-9.77</td><td>11.9</td><td>13.0</td><td>2024-08-01</td><td>2024-10-31</td><td>-1.94</td><td>0.77</td><td>2024-08-01</td><td>73.36</td><td>2.11</td><td>51.5</td><td>11569</td><td>1.48</td><td>2.87</td></tr><tr><td>5261</td><td>2024-03-31</td><td>5910</td><td>-45</td><td>-0.76</td><td>30.9</td><td>42.0</td><td>2024-05-10</td><td>2024-08-09</td><td>-13.58</td><td>-8.7</td><td>2024-08-01</td><td>17.24</td><td>1.77</td><td>34.0</td><td>25901</td><td>3.48</td><td>10.25</td></tr><tr><td>9033</td><td>2024-03-31</td><td>9070</td><td>-660</td><td>-7.28</td><td>22.7</td><td>21.9</td><td>2024-05-15</td><td>2024-08-09</td><td>-4.05</td><td>-9.1</td><td>2024-08-01</td><td>26.21</td><td>0.54</td><td>41.3</td><td>22072</td><td>0.85</td><td>2.07</td></tr><tr><td>9206</td><td>2024-06-30</td><td>10068</td><td>-854</td><td>-8.48</td><td>13.9</td><td>105.7</td><td>2024-08-01</td><td>2024-10-31</td><td>-2.5</td><td>0.77</td><td>2024-08-01</td><td>6.88</td><td>3.6</td><td>13.6</td><td>9595</td><td>7.11</td><td>52.31</td></tr><tr><td>9474</td><td>2024-06-30</td><td>14130</td><td>-274</td><td>-1.94</td><td>10.5</td><td>80.0</td><td>2024-07-30</td><td>2024-10-29</td><td>-19.1</td><td>1.73</td><td>2024-08-01</td><td>20.3</td><td>1.02</td><td>65.3</td><td>54493</td><td>3.27</td><td>5.01</td></tr><tr><td>9551</td><td>2024-06-30</td><td>25015</td><td>-2068</td><td>-8.27</td><td>18.2</td><td>11.8</td><td>2024-07-26</td><td>2024-10-30</td><td>-3.46</td><td>3.93</td><td>2024-08-01</td><td>13.26</td><td>1.13</td><td>43.2</td><td>84836</td><td>3.69</td><td>8.55</td></tr><tr><td>9850</td><td>2024-03-31</td><td>8884</td><td>-166</td><td>-1.87</td><td>24.5</td><td>13.2</td><td>2024-05-15</td><td>2024-08-09</td><td>0.19</td><td>-9.1</td><td>2024-08-01</td><td>118.62</td><td>2.92</td><td>23.2</td><td>25544</td><td>0.57</td><td>2.46</td></tr></tbody></table></div>"
      ],
      "text/plain": [
       "shape: (9, 18)\n",
       "┌──────┬───────────────────┬───────┬──────────────────┬───┬────────────┬────────────┬──────┬───────┐\n",
       "│ code ┆ 評価日発表済最新  ┆ sales ┆ operating_income ┆ … ┆ actual_CAR ┆ market_cap ┆ ROA  ┆ ROE   │\n",
       "│ ---  ┆ 四半期決算        ┆ ---   ┆ ---              ┆   ┆ ---        ┆ ---        ┆ ---  ┆ ---   │\n",
       "│ i64  ┆ ---               ┆ i64   ┆ i64              ┆   ┆ f64        ┆ i64        ┆ f64  ┆ f64   │\n",
       "│      ┆ date              ┆       ┆                  ┆   ┆            ┆            ┆      ┆       │\n",
       "╞══════╪═══════════════════╪═══════╪══════════════════╪═══╪════════════╪════════════╪══════╪═══════╡\n",
       "│ 1815 ┆ 2024-03-31        ┆ 50928 ┆ -3               ┆ … ┆ 34.0       ┆ 39611      ┆ 1.28 ┆ 3.76  │\n",
       "│ 1950 ┆ 2024-06-30        ┆ 33011 ┆ -774             ┆ … ┆ 65.7       ┆ 112797     ┆ 3.78 ┆ 5.75  │\n",
       "│ 2130 ┆ 2024-06-30        ┆ 5035  ┆ -492             ┆ … ┆ 51.5       ┆ 11569      ┆ 1.48 ┆ 2.87  │\n",
       "│ 5261 ┆ 2024-03-31        ┆ 5910  ┆ -45              ┆ … ┆ 34.0       ┆ 25901      ┆ 3.48 ┆ 10.25 │\n",
       "│ 9033 ┆ 2024-03-31        ┆ 9070  ┆ -660             ┆ … ┆ 41.3       ┆ 22072      ┆ 0.85 ┆ 2.07  │\n",
       "│ 9206 ┆ 2024-06-30        ┆ 10068 ┆ -854             ┆ … ┆ 13.6       ┆ 9595       ┆ 7.11 ┆ 52.31 │\n",
       "│ 9474 ┆ 2024-06-30        ┆ 14130 ┆ -274             ┆ … ┆ 65.3       ┆ 54493      ┆ 3.27 ┆ 5.01  │\n",
       "│ 9551 ┆ 2024-06-30        ┆ 25015 ┆ -2068            ┆ … ┆ 43.2       ┆ 84836      ┆ 3.69 ┆ 8.55  │\n",
       "│ 9850 ┆ 2024-03-31        ┆ 8884  ┆ -166             ┆ … ┆ 23.2       ┆ 25544      ┆ 0.57 ┆ 2.46  │\n",
       "└──────┴───────────────────┴───────┴──────────────────┴───┴────────────┴────────────┴──────┴───────┘"
      ]
     },
     "execution_count": 16,
     "metadata": {},
     "output_type": "execute_result"
    }
   ],
   "source": [
    "# para\n",
    "# 業績para\n",
    "finance_filter = False\n",
    "\n",
    "min_sales = 5000\n",
    "\n",
    "min_operating_income = -10000000\n",
    "\n",
    "min_営業利益率 = -100\n",
    "max_営業利益率 = 0\n",
    "\n",
    "min_sales_growth_rate = 10\n",
    "max_sales_growth_rate = 100\n",
    "\n",
    "min_diff_operating_income_growthrate = 0\n",
    "\n",
    "r1 = 0\n",
    "# 財務para\n",
    "max_expected_PER = 100 \n",
    "max_actual_PBR = 10\n",
    "min_actual_CAR = 50\n",
    "min_ROA = -100\n",
    "min_ROE = -100\n",
    "\n",
    "\n",
    "# 単純filter\n",
    "df = evaluated_df\n",
    "# 業績filter\n",
    "df = df.filter(pl.col(\"sales\")>=min_sales)\\\n",
    "    .filter(pl.col(\"operating_income\")>=min_operating_income)\\\n",
    "    .filter(pl.col(\"営業利益率\")>=min_営業利益率)\\\n",
    "    .filter(pl.col(\"営業利益率\")<=max_営業利益率)\\\n",
    "    .filter(pl.col(\"sales_growthrate\")>=min_sales_growth_rate)\\\n",
    "    .filter(pl.col(\"sales_growthrate\")<=max_sales_growth_rate)\\\n",
    "    .filter(pl.col(\"diff_operating_income_growthrate\")>=min_diff_operating_income_growthrate)\n",
    "\n",
    "# 財務filter\n",
    "# 黒字化企業をfilterする場合は、実行しない\n",
    "if finance_filter:\n",
    "    df = df.filter(pl.col(\"expected_PER\")<=max_expected_PER)\\\n",
    "        .filter(pl.col(\"actual_PBR\")<=max_actual_PBR)\\\n",
    "        .filter(pl.col(\"actual_CAR\")>=min_actual_CAR)\\\n",
    "        .filter(pl.col(\"ROA\")>=min_ROA)\\\n",
    "        .filter(pl.col(\"ROE\")>=min_ROE)\n",
    "\n",
    "# 列間filter\n",
    "df = df.filter(\n",
    "    pl.lit(r1) * pl.col(\"sales_growthrate\") <= pl.col(\"diff_operating_income_growthrate\")\n",
    ")\n",
    "\n",
    "target_df = df\n",
    "target_df\n"
   ]
  },
  {
   "cell_type": "code",
   "execution_count": 17,
   "id": "3704909e-c63b-42e4-95b8-711852e8273b",
   "metadata": {},
   "outputs": [
    {
     "data": {
      "text/html": [
       "<div><style>\n",
       ".dataframe > thead > tr,\n",
       ".dataframe > tbody > tr {\n",
       "  text-align: right;\n",
       "  white-space: pre-wrap;\n",
       "}\n",
       "</style>\n",
       "<small>shape: (3_241, 18)</small><table border=\"1\" class=\"dataframe\"><thead><tr><th>code</th><th>評価日発表済最新四半期決算</th><th>sales</th><th>operating_income</th><th>営業利益率</th><th>sales_growthrate</th><th>diff_operating_income_growthrate</th><th>start_date</th><th>end_date</th><th>updown_rate</th><th>nh_updown_rate</th><th>date</th><th>expected_PER</th><th>actual_PBR</th><th>actual_CAR</th><th>market_cap</th><th>ROA</th><th>ROE</th></tr><tr><td>i64</td><td>date</td><td>i64</td><td>i64</td><td>f64</td><td>f64</td><td>f64</td><td>date</td><td>date</td><td>f64</td><td>f64</td><td>date</td><td>f64</td><td>f64</td><td>f64</td><td>i64</td><td>f64</td><td>f64</td></tr></thead><tbody><tr><td>1301</td><td>2024-03-31</td><td>59990</td><td>1857</td><td>3.1</td><td>2.1</td><td>155.0</td><td>2024-05-11</td><td>2024-08-05</td><td>-8.97</td><td>-17.67</td><td>2024-08-01</td><td>6.66</td><td>0.79</td><td>36.7</td><td>47407</td><td>4.36</td><td>11.87</td></tr><tr><td>1332</td><td>2024-03-31</td><td>205894</td><td>3308</td><td>1.61</td><td>8.5</td><td>13.6</td><td>2024-05-15</td><td>2024-08-06</td><td>-12.67</td><td>-10.01</td><td>2024-08-01</td><td>11.26</td><td>1.08</td><td>41.1</td><td>271564</td><td>3.96</td><td>9.63</td></tr><tr><td>1333</td><td>2024-03-31</td><td>243328</td><td>1176</td><td>0.48</td><td>1.6</td><td>-37.3</td><td>2024-05-08</td><td>2024-08-05</td><td>-11.23</td><td>-18.67</td><td>2024-08-01</td><td>8.64</td><td>0.79</td><td>30.8</td><td>164886</td><td>2.83</td><td>9.17</td></tr><tr><td>1375</td><td>2024-03-31</td><td>11807</td><td>-803</td><td>-6.8</td><td>21.1</td><td>-5.0</td><td>2024-05-10</td><td>2024-08-08</td><td>-0.41</td><td>-9.2</td><td>2024-08-01</td><td>25.74</td><td>3.48</td><td>30.1</td><td>39910</td><td>4.07</td><td>13.53</td></tr><tr><td>1376</td><td>2024-05-31</td><td>23224</td><td>1150</td><td>4.95</td><td>1.9</td><td>-16.0</td><td>2024-07-11</td><td>2024-10-04</td><td>-3.01</td><td>-8.76</td><td>2024-08-01</td><td>13.23</td><td>0.65</td><td>50.2</td><td>16540</td><td>2.46</td><td>4.91</td></tr><tr><td>&hellip;</td><td>&hellip;</td><td>&hellip;</td><td>&hellip;</td><td>&hellip;</td><td>&hellip;</td><td>&hellip;</td><td>&hellip;</td><td>&hellip;</td><td>&hellip;</td><td>&hellip;</td><td>&hellip;</td><td>&hellip;</td><td>&hellip;</td><td>&hellip;</td><td>&hellip;</td><td>&hellip;</td><td>&hellip;</td></tr><tr><td>9991</td><td>2024-06-30</td><td>26954</td><td>1366</td><td>5.07</td><td>-14.5</td><td>-2.5</td><td>2024-07-26</td><td>2024-10-29</td><td>-9.93</td><td>2.94</td><td>2024-08-01</td><td>7.95</td><td>0.52</td><td>58.8</td><td>32579</td><td>3.82</td><td>6.49</td></tr><tr><td>9993</td><td>2024-05-31</td><td>24969</td><td>-408</td><td>-1.63</td><td>1.8</td><td>-108.5</td><td>2024-07-12</td><td>2024-10-10</td><td>-5.32</td><td>-5.49</td><td>2024-08-01</td><td>111.58</td><td>0.47</td><td>49.6</td><td>13624</td><td>0.21</td><td>0.42</td></tr><tr><td>9994</td><td>2024-03-31</td><td>36543</td><td>1082</td><td>2.96</td><td>3.1</td><td>63.8</td><td>2024-05-16</td><td>2024-08-09</td><td>-3.61</td><td>-9.37</td><td>2024-08-01</td><td>9.05</td><td>1.04</td><td>51.6</td><td>33520</td><td>5.93</td><td>11.49</td></tr><tr><td>9996</td><td>2024-03-31</td><td>11286</td><td>202</td><td>1.79</td><td>5.5</td><td>16.8</td><td>2024-05-14</td><td>2024-08-09</td><td>-9.0</td><td>-8.52</td><td>2024-08-01</td><td>12.4</td><td>0.61</td><td>68.3</td><td>16941</td><td>3.36</td><td>4.92</td></tr><tr><td>9997</td><td>2024-06-30</td><td>51368</td><td>982</td><td>1.91</td><td>-0.9</td><td>36.7</td><td>2024-08-01</td><td>2024-10-31</td><td>-5.43</td><td>0.77</td><td>2024-08-01</td><td>8.7</td><td>0.51</td><td>45.0</td><td>70016</td><td>2.63</td><td>5.84</td></tr></tbody></table></div>"
      ],
      "text/plain": [
       "shape: (3_241, 18)\n",
       "┌──────┬──────────────────┬────────┬──────────────────┬───┬────────────┬────────────┬──────┬───────┐\n",
       "│ code ┆ 評価日発表済最新 ┆ sales  ┆ operating_income ┆ … ┆ actual_CAR ┆ market_cap ┆ ROA  ┆ ROE   │\n",
       "│ ---  ┆ 四半期決算       ┆ ---    ┆ ---              ┆   ┆ ---        ┆ ---        ┆ ---  ┆ ---   │\n",
       "│ i64  ┆ ---              ┆ i64    ┆ i64              ┆   ┆ f64        ┆ i64        ┆ f64  ┆ f64   │\n",
       "│      ┆ date             ┆        ┆                  ┆   ┆            ┆            ┆      ┆       │\n",
       "╞══════╪══════════════════╪════════╪══════════════════╪═══╪════════════╪════════════╪══════╪═══════╡\n",
       "│ 1301 ┆ 2024-03-31       ┆ 59990  ┆ 1857             ┆ … ┆ 36.7       ┆ 47407      ┆ 4.36 ┆ 11.87 │\n",
       "│ 1332 ┆ 2024-03-31       ┆ 205894 ┆ 3308             ┆ … ┆ 41.1       ┆ 271564     ┆ 3.96 ┆ 9.63  │\n",
       "│ 1333 ┆ 2024-03-31       ┆ 243328 ┆ 1176             ┆ … ┆ 30.8       ┆ 164886     ┆ 2.83 ┆ 9.17  │\n",
       "│ 1375 ┆ 2024-03-31       ┆ 11807  ┆ -803             ┆ … ┆ 30.1       ┆ 39910      ┆ 4.07 ┆ 13.53 │\n",
       "│ 1376 ┆ 2024-05-31       ┆ 23224  ┆ 1150             ┆ … ┆ 50.2       ┆ 16540      ┆ 2.46 ┆ 4.91  │\n",
       "│ …    ┆ …                ┆ …      ┆ …                ┆ … ┆ …          ┆ …          ┆ …    ┆ …     │\n",
       "│ 9991 ┆ 2024-06-30       ┆ 26954  ┆ 1366             ┆ … ┆ 58.8       ┆ 32579      ┆ 3.82 ┆ 6.49  │\n",
       "│ 9993 ┆ 2024-05-31       ┆ 24969  ┆ -408             ┆ … ┆ 49.6       ┆ 13624      ┆ 0.21 ┆ 0.42  │\n",
       "│ 9994 ┆ 2024-03-31       ┆ 36543  ┆ 1082             ┆ … ┆ 51.6       ┆ 33520      ┆ 5.93 ┆ 11.49 │\n",
       "│ 9996 ┆ 2024-03-31       ┆ 11286  ┆ 202              ┆ … ┆ 68.3       ┆ 16941      ┆ 3.36 ┆ 4.92  │\n",
       "│ 9997 ┆ 2024-06-30       ┆ 51368  ┆ 982              ┆ … ┆ 45.0       ┆ 70016      ┆ 2.63 ┆ 5.84  │\n",
       "└──────┴──────────────────┴────────┴──────────────────┴───┴────────────┴────────────┴──────┴───────┘"
      ]
     },
     "execution_count": 17,
     "metadata": {},
     "output_type": "execute_result"
    }
   ],
   "source": [
    "evaluated_df"
   ]
  },
  {
   "cell_type": "code",
   "execution_count": 18,
   "id": "8b609299-84ce-4bb2-89d4-fbc765f5c73e",
   "metadata": {},
   "outputs": [],
   "source": [
    "#####\n",
    "##### 統計結果出力\n",
    "#####"
   ]
  },
  {
   "cell_type": "code",
   "execution_count": 19,
   "id": "6be81c02-afdd-4020-a16f-4a763a4aa9ee",
   "metadata": {},
   "outputs": [
    {
     "name": "stdout",
     "output_type": "stream",
     "text": [
      "##### 全体\n",
      "総銘柄数：3241\n",
      "上昇銘柄数:789／下落銘柄数:2452／上昇率:(24.3%)\n",
      "全銘柄平均騰落率:-6.39%\n",
      "日経225平均騰落率:-6.19%\n",
      "\n",
      "##### 抽出銘柄\n",
      "総銘柄数：9\n",
      "上昇銘柄数:1／下落銘柄数:8／上昇率:(11.1%)\n",
      "抽出銘柄平均騰落率:-6.39%\n",
      "日経225平均騰落率:-3.11%\n"
     ]
    }
   ],
   "source": [
    "df = evaluated_df\n",
    "print(\"##### 全体\")\n",
    "print(f'総銘柄数：{df.shape[0]}')\n",
    "a = df.filter(pl.col(\"updown_rate\")>0).shape[0]\n",
    "b = df.filter(pl.col(\"updown_rate\")<=0).shape[0]\n",
    "uprate = round(100*a/(a+b), 1)\n",
    "print(f'上昇銘柄数:{a}／下落銘柄数:{b}／上昇率:({uprate}%)')\n",
    "print(f'全銘柄平均騰落率:{round(df[\"updown_rate\"].mean(), 2)}%')\n",
    "print(f'日経225平均騰落率:{round(df[\"nh_updown_rate\"].mean(), 2)}%')\n",
    "print()\n",
    "\n",
    "df = target_df\n",
    "print(\"##### 抽出銘柄\")\n",
    "print(f'総銘柄数：{df.shape[0]}')\n",
    "a = df.filter(pl.col(\"updown_rate\")>0).shape[0]\n",
    "b = df.filter(pl.col(\"updown_rate\")<=0).shape[0]\n",
    "uprate = round(100*a/(a+b), 1)\n",
    "print(f'上昇銘柄数:{a}／下落銘柄数:{b}／上昇率:({uprate}%)')\n",
    "print(f'抽出銘柄平均騰落率:{round(df[\"updown_rate\"].mean(), 2)}%')\n",
    "print(f'日経225平均騰落率:{round(df[\"nh_updown_rate\"].mean(), 2)}%')"
   ]
  },
  {
   "cell_type": "code",
   "execution_count": 20,
   "id": "e04aa63a-f5bb-4f85-8efa-c297752f16a2",
   "metadata": {},
   "outputs": [],
   "source": [
    "#####\n",
    "##### 個別銘柄の分析\n",
    "#####"
   ]
  },
  {
   "cell_type": "code",
   "execution_count": 21,
   "id": "c33e380c-90a3-4179-b66f-0a22724913ba",
   "metadata": {},
   "outputs": [
    {
     "name": "stdout",
     "output_type": "stream",
     "text": [
      "ユニバンス(7254)の銘柄情報\n",
      "\n",
      "終値: 488.0円(2024年08月01日)\n",
      "予想配当利回り: 2.46%(2024年08月01日)\n",
      "予想PER: 4.07倍(2024年08月01日)\n",
      "実績PBR: 0.41倍(2024年08月01日)\n",
      "自己資本比率: 53.2%(2024年08月01日)\n",
      "予想ROE: 10.14%(2024年08月01日)\n",
      "予想ROA: 5.39%(2024年08月01日)\n",
      "時価総額: 114.2億円(2024年08月01日)\n",
      "\n",
      "7254(ユニバンス)の四季報データ履歴\n",
      "\n",
      "発行日: 2024年06月14日\n",
      "【反落】\n",
      "  主力の駆動装置は好採算の北米農機向けが増勢。自動車向けは顧客の自動車生産復調につれて伸びる。価格転嫁の進展も効く。だが、製品保証引当金の戻りが剥落。開発費かさみ、人件費も増加。営業益反落。土壌汚染対策特損ない。連続増配。\n",
      "【開発】\n",
      "  新規分野の開拓に注力。EV向け駆動装置のほか、ロボット向け歯車など自動車以外の分野への開発・投資を加速。\n",
      "\n",
      "発行日: 2024年03月16日\n",
      "【続伸】\n",
      "  主力の駆動装置は自動車向けが回復。前号より営業益再増額。子会社工場での汚染対策費用計上でも最終増益。増配。25年3月期も主力の駆動装置が好調持続。前期の製品保証引当金なくなっても合理化効果など大きく営業益続伸。大幅増配も。\n",
      "【ニッチ】\n",
      "  EV駆動装置は数を追わず超小型EVや大型トラック向けなど特定顧客に応じた開発を志向。他社と差別化し販売。\n",
      "\n",
      "発行日: 2023年12月15日\n",
      "【大幅増額】\n",
      "  主力の駆動装置は半導体不足解消で自動車向けが大幅増。構造改革による固定費や物流費削減に加え、円安効果もあり。営業益表記へ大幅増額。増配。25年3月期も主力の駆動装置が順調、連続増益。\n",
      "【共同開発】\n",
      "  独自製作の減速機と一体化したEV駆動装置をヤマハ発動機と開発、EVスーパーカー等の採用目指す。さらにトラックや超小型EV向けの開発も強化。\n",
      "\n",
      "発行日: 2023年09月15日\n",
      "【反発】\n",
      "  主力の駆動装置は大手自動車の半導体不足が解消、販価も向上。前期赤字の米国も最悪期から脱出。非自動車新製品などの立ち上げ負担あるが営業益反発。営業外に為替差益。前期の減損特損消える。\n",
      "【３つの型】\n",
      "  独自の電動駆動システムは従来S型にSS型とM型を追加し充実。特にSSはA4サイズ大の超小型をアピールし、1人用カートなどでの採用を狙う。\n"
     ]
    }
   ],
   "source": [
    "# ファンダメンタルズ\n",
    "code = 7254\n",
    "FPL.print_finance_info(code, valuation_date=valuation_date)\n",
    "print()\n",
    "SPL.print_stock_df(code, num=4, valuation_date=valuation_date)\n",
    "\n"
   ]
  },
  {
   "cell_type": "code",
   "execution_count": 23,
   "id": "00f62c89-655d-45a5-983d-94a7e3cdbfa4",
   "metadata": {},
   "outputs": [],
   "source": [
    "#####\n",
    "##### 四半期決算推移\n",
    "#####"
   ]
  },
  {
   "cell_type": "code",
   "execution_count": 24,
   "id": "16c6edf1-3e33-4954-b20d-40d188be4f4a",
   "metadata": {},
   "outputs": [
    {
     "data": {
      "text/html": [
       "<iframe\n",
       "    scrolling=\"no\"\n",
       "    width=\"100%\"\n",
       "    height=\"545px\"\n",
       "    src=\"iframe_figures/figure_24.html\"\n",
       "    frameborder=\"0\"\n",
       "    allowfullscreen\n",
       "></iframe>\n"
      ]
     },
     "metadata": {},
     "output_type": "display_data"
    }
   ],
   "source": [
    "KFIG = KessanFig(code, \"四半期\", end_settlement_date=valuation_date)\n",
    "KFIG.add_trace_profits()\n",
    "KFIG.fig.show()"
   ]
  },
  {
   "cell_type": "code",
   "execution_count": 25,
   "id": "2726d8dc-6ac0-4287-a8ef-f88806b4a693",
   "metadata": {},
   "outputs": [],
   "source": [
    "#####\n",
    "##### 株価推移\n",
    "#####"
   ]
  },
  {
   "cell_type": "code",
   "execution_count": 26,
   "id": "2b10dccf-989f-45dc-8c21-b815b56b26b5",
   "metadata": {},
   "outputs": [],
   "source": [
    "# para\n",
    "delta = relativedelta(days=100)"
   ]
  },
  {
   "cell_type": "code",
   "execution_count": 27,
   "id": "008b25fa-c5ee-4416-b9f6-0ef4ef0cea33",
   "metadata": {},
   "outputs": [
    {
     "name": "stdout",
     "output_type": "stream",
     "text": [
      "決算発表日: 2024-05-13\n"
     ]
    },
    {
     "data": {
      "text/html": [
       "<iframe\n",
       "    scrolling=\"no\"\n",
       "    width=\"100%\"\n",
       "    height=\"620\"\n",
       "    src=\"iframe_figures/figure_27.html\"\n",
       "    frameborder=\"0\"\n",
       "    allowfullscreen\n",
       "></iframe>\n"
      ]
     },
     "metadata": {},
     "output_type": "display_data"
    }
   ],
   "source": [
    "# 日足\n",
    "KPL = KessanPl()\n",
    "df = KPL.df.filter(pl.col(\"announcement_date\")<valuation_date).filter(pl.col(\"code\")==code)\n",
    "ann_date = df[\"announcement_date\"].to_list()[-1]\n",
    "print(f'決算発表日: {ann_date}')\n",
    "start_date = ann_date - delta\n",
    "end_date = ann_date + delta\n",
    "\n",
    "PFIG = PricelistFig(code, RevPl.df, MPL.df, start_date, end_date)\n",
    "# 決算発表日にvlineを引く\n",
    "PFIG.add_vline_announcement_date()\n",
    "PFIG.fig.show()"
   ]
  },
  {
   "cell_type": "code",
   "execution_count": null,
   "id": "388a6444-3eb3-4f83-8f3c-03f6113fa0a3",
   "metadata": {},
   "outputs": [],
   "source": []
  },
  {
   "cell_type": "code",
   "execution_count": null,
   "id": "93411633-1f0e-46e7-a265-673a09ceb379",
   "metadata": {},
   "outputs": [],
   "source": []
  },
  {
   "cell_type": "code",
   "execution_count": null,
   "id": "e33fd01c-83b8-4f4c-9cec-40862fd2d466",
   "metadata": {},
   "outputs": [],
   "source": []
  },
  {
   "cell_type": "code",
   "execution_count": null,
   "id": "7917179b-22a4-4475-8b26-d205d47f6b74",
   "metadata": {},
   "outputs": [],
   "source": []
  },
  {
   "cell_type": "code",
   "execution_count": null,
   "id": "280beb5d-c2d9-41c4-9270-4bad7b472c64",
   "metadata": {},
   "outputs": [],
   "source": []
  }
 ],
 "metadata": {
  "kernelspec": {
   "display_name": "Python 3 (ipykernel)",
   "language": "python",
   "name": "python3"
  },
  "language_info": {
   "codemirror_mode": {
    "name": "ipython",
    "version": 3
   },
   "file_extension": ".py",
   "mimetype": "text/x-python",
   "name": "python",
   "nbconvert_exporter": "python",
   "pygments_lexer": "ipython3",
   "version": "3.12.3"
  }
 },
 "nbformat": 4,
 "nbformat_minor": 5
}
