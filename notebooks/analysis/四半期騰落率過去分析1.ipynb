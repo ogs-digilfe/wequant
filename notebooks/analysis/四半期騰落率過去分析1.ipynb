{
 "cells": [
  {
   "cell_type": "code",
   "execution_count": 1,
   "id": "385faced-ebf2-4b70-a5fd-800bbb9ad45f",
   "metadata": {},
   "outputs": [],
   "source": [
    "# 四半期の騰落率が大きく動いた銘柄の過去分析行う"
   ]
  },
  {
   "cell_type": "code",
   "execution_count": 2,
   "id": "761f62b0-eea1-4475-8b42-31bcef380ca1",
   "metadata": {},
   "outputs": [],
   "source": [
    "# 読み込みファイルパスの設定とimportしたいmoduleパス(pythonパス)の設定\n",
    "from pathlib import Path\n",
    "import os, sys\n",
    "\n",
    "CURRENT_DIR = Path(os.getcwd())\n",
    "PJ_DIR = CURRENT_DIR.parent.parent\n",
    "LIB_DIR = PJ_DIR / \"lib\"\n",
    "DATA_DIR = PJ_DIR / \"data\" \n",
    "\n",
    "sys.path.append(str(LIB_DIR))\n",
    "\n",
    "# notebook内で利用するmoduleのimport\n",
    "from lib_dataprocess import KessanPl, PricelistFig, PricelistPl, MeigaralistPl, read_data\n",
    "from lib_dataprocess import ShikihoPl, FinancequotePl, print_finance_quote, PricelistFig, KessanFig\n",
    "import polars as pl\n",
    "from datetime import date\n",
    "from dateutil.relativedelta import relativedelta\n",
    "\n",
    "fp = DATA_DIR/\"reviced_pricelist.parquet\"\n",
    "df = read_data(fp)\n",
    "RevPl = PricelistPl(df)\n",
    "\n",
    "# dataの読み込み\n",
    "fp = DATA_DIR/\"raw_pricelist.parquet\"\n",
    "df = read_data(fp)\n",
    "PPL = PricelistPl(df)\n",
    "\n",
    "fp = DATA_DIR/\"finance_quote.parquet\"\n",
    "df = read_data(fp)\n",
    "FPL = FinancequotePl(df)\n",
    "FPL.with_columns_market_cap()\n",
    "\n",
    "fp = DATA_DIR/\"meigaralist.parquet\"\n",
    "df = read_data(fp)\n",
    "MPL = MeigaralistPl(df)\n",
    "\n",
    "fp = DATA_DIR/\"shikiho.parquet\"\n",
    "df = read_data(fp)\n",
    "SPL = ShikihoPl(df)"
   ]
  },
  {
   "cell_type": "code",
   "execution_count": 3,
   "id": "86ced4be-7437-424d-bd5f-afccda0ba6a4",
   "metadata": {},
   "outputs": [],
   "source": [
    "#####\n",
    "##### KessanPl.dfの加工\n",
    "#####"
   ]
  },
  {
   "cell_type": "code",
   "execution_count": 4,
   "id": "7c01d72e-0c5e-4187-85f4-4a3cbd1b5e35",
   "metadata": {},
   "outputs": [],
   "source": [
    "#パラメータのセット\n",
    "# 決算日の指定 -> 指定した日の四半期決算でランキングを作成する\n",
    "valuation_date = date.today()\n",
    "valuation_date = date(2024, 9, 26)\n",
    "settlement_type = \"四\"\n",
    "pricelist_df = RevPl.df"
   ]
  },
  {
   "cell_type": "code",
   "execution_count": 31,
   "id": "d4552f08-ecc1-42e7-a938-f3c54d924875",
   "metadata": {},
   "outputs": [
    {
     "data": {
      "text/html": [
       "<div><style>\n",
       ".dataframe > thead > tr,\n",
       ".dataframe > tbody > tr {\n",
       "  text-align: right;\n",
       "  white-space: pre-wrap;\n",
       "}\n",
       "</style>\n",
       "<small>shape: (2_656, 12)</small><table border=\"1\" class=\"dataframe\"><thead><tr><th>code</th><th>announcement_date</th><th>settlement_date</th><th>settlement_type</th><th>sales</th><th>operating_income</th><th>ordinary_profit</th><th>final_profit</th><th>reviced_eps</th><th>dividend</th><th>quater</th><th>price_change_rate</th></tr><tr><td>i64</td><td>date</td><td>date</td><td>str</td><td>i64</td><td>i64</td><td>i64</td><td>i64</td><td>f64</td><td>f64</td><td>i64</td><td>f64</td></tr></thead><tbody><tr><td>4935</td><td>2024-08-09</td><td>2024-06-30</td><td>&quot;四&quot;</td><td>2529</td><td>144</td><td>139</td><td>81</td><td>13.7</td><td>5.7</td><td>2</td><td>159.1</td></tr><tr><td>6557</td><td>2024-07-31</td><td>2024-06-30</td><td>&quot;四&quot;</td><td>3009</td><td>116</td><td>111</td><td>203</td><td>65.8</td><td>3.9</td><td>1</td><td>124.7</td></tr><tr><td>4348</td><td>2024-07-31</td><td>2024-06-30</td><td>&quot;四&quot;</td><td>20862</td><td>1282</td><td>1311</td><td>831</td><td>15.1</td><td>6.1</td><td>1</td><td>124.6</td></tr><tr><td>6704</td><td>2024-08-09</td><td>2024-06-30</td><td>&quot;四&quot;</td><td>4572</td><td>-822</td><td>-800</td><td>-815</td><td>-54.7</td><td>-18.0</td><td>1</td><td>99.6</td></tr><tr><td>6927</td><td>2024-08-06</td><td>2024-06-30</td><td>&quot;四&quot;</td><td>3232</td><td>698</td><td>721</td><td>509</td><td>28.1</td><td>21.6</td><td>1</td><td>78.1</td></tr><tr><td>&hellip;</td><td>&hellip;</td><td>&hellip;</td><td>&hellip;</td><td>&hellip;</td><td>&hellip;</td><td>&hellip;</td><td>&hellip;</td><td>&hellip;</td><td>&hellip;</td><td>&hellip;</td><td>&hellip;</td></tr><tr><td>4761</td><td>2024-07-30</td><td>2024-06-30</td><td>&quot;四&quot;</td><td>4685</td><td>4</td><td>49</td><td>31</td><td>2.9</td><td>0.1</td><td>1</td><td>-48.2</td></tr><tr><td>5255</td><td>2024-08-14</td><td>2024-06-30</td><td>&quot;四&quot;</td><td>2542</td><td>-6099</td><td>-5505</td><td>-5554</td><td>-161.8</td><td>-239.9</td><td>2</td><td>-51.5</td></tr><tr><td>6254</td><td>2024-08-09</td><td>2024-06-30</td><td>&quot;四&quot;</td><td>7629</td><td>362</td><td>494</td><td>411</td><td>11.0</td><td>4.7</td><td>1</td><td>-51.9</td></tr><tr><td>6228</td><td>2024-08-09</td><td>2024-06-30</td><td>&quot;四&quot;</td><td>7172</td><td>531</td><td>534</td><td>342</td><td>26.1</td><td>7.4</td><td>2</td><td>-53.2</td></tr><tr><td>3856</td><td>2024-08-14</td><td>2024-06-30</td><td>&quot;四&quot;</td><td>53346</td><td>9309</td><td>10412</td><td>4061</td><td>233.5</td><td>17.5</td><td>4</td><td>-57.6</td></tr></tbody></table></div>"
      ],
      "text/plain": [
       "shape: (2_656, 12)\n",
       "┌──────┬─────────────┬─────────────┬─────────────┬───┬────────────┬──────────┬────────┬────────────┐\n",
       "│ code ┆ announcemen ┆ settlement_ ┆ settlement_ ┆ … ┆ reviced_ep ┆ dividend ┆ quater ┆ price_chan │\n",
       "│ ---  ┆ t_date      ┆ date        ┆ type        ┆   ┆ s          ┆ ---      ┆ ---    ┆ ge_rate    │\n",
       "│ i64  ┆ ---         ┆ ---         ┆ ---         ┆   ┆ ---        ┆ f64      ┆ i64    ┆ ---        │\n",
       "│      ┆ date        ┆ date        ┆ str         ┆   ┆ f64        ┆          ┆        ┆ f64        │\n",
       "╞══════╪═════════════╪═════════════╪═════════════╪═══╪════════════╪══════════╪════════╪════════════╡\n",
       "│ 4935 ┆ 2024-08-09  ┆ 2024-06-30  ┆ 四          ┆ … ┆ 13.7       ┆ 5.7      ┆ 2      ┆ 159.1      │\n",
       "│ 6557 ┆ 2024-07-31  ┆ 2024-06-30  ┆ 四          ┆ … ┆ 65.8       ┆ 3.9      ┆ 1      ┆ 124.7      │\n",
       "│ 4348 ┆ 2024-07-31  ┆ 2024-06-30  ┆ 四          ┆ … ┆ 15.1       ┆ 6.1      ┆ 1      ┆ 124.6      │\n",
       "│ 6704 ┆ 2024-08-09  ┆ 2024-06-30  ┆ 四          ┆ … ┆ -54.7      ┆ -18.0    ┆ 1      ┆ 99.6       │\n",
       "│ 6927 ┆ 2024-08-06  ┆ 2024-06-30  ┆ 四          ┆ … ┆ 28.1       ┆ 21.6     ┆ 1      ┆ 78.1       │\n",
       "│ …    ┆ …           ┆ …           ┆ …           ┆ … ┆ …          ┆ …        ┆ …      ┆ …          │\n",
       "│ 4761 ┆ 2024-07-30  ┆ 2024-06-30  ┆ 四          ┆ … ┆ 2.9        ┆ 0.1      ┆ 1      ┆ -48.2      │\n",
       "│ 5255 ┆ 2024-08-14  ┆ 2024-06-30  ┆ 四          ┆ … ┆ -161.8     ┆ -239.9   ┆ 2      ┆ -51.5      │\n",
       "│ 6254 ┆ 2024-08-09  ┆ 2024-06-30  ┆ 四          ┆ … ┆ 11.0       ┆ 4.7      ┆ 1      ┆ -51.9      │\n",
       "│ 6228 ┆ 2024-08-09  ┆ 2024-06-30  ┆ 四          ┆ … ┆ 26.1       ┆ 7.4      ┆ 2      ┆ -53.2      │\n",
       "│ 3856 ┆ 2024-08-14  ┆ 2024-06-30  ┆ 四          ┆ … ┆ 233.5      ┆ 17.5     ┆ 4      ┆ -57.6      │\n",
       "└──────┴─────────────┴─────────────┴─────────────┴───┴────────────┴──────────┴────────┴────────────┘"
      ]
     },
     "execution_count": 31,
     "metadata": {},
     "output_type": "execute_result"
    }
   ],
   "source": [
    "# 読み込みと加工\n",
    "KPL = KessanPl()\n",
    "df = KPL.get_settlement_performance(settlement_type, pricelist_df)\n",
    "KPL = KessanPl(df)\n",
    "df = KPL.get_latest_quater_settlements(valuation_date)\n",
    "# 売上高25億以上\n",
    "df = df.filter(pl.col(\"sales\")>=2500)\n",
    "\n",
    "# sortして出力\n",
    "df = df.sort(by=[\"price_change_rate\"], descending=[True])\n",
    "kpl_df = df\n",
    "kpl_df"
   ]
  },
  {
   "cell_type": "code",
   "execution_count": 62,
   "id": "91619880-dcfc-4f0c-8608-f29194e79ae5",
   "metadata": {},
   "outputs": [
    {
     "data": {
      "text/html": [
       "<div><style>\n",
       ".dataframe > thead > tr,\n",
       ".dataframe > tbody > tr {\n",
       "  text-align: right;\n",
       "  white-space: pre-wrap;\n",
       "}\n",
       "</style>\n",
       "<small>shape: (10, 12)</small><table border=\"1\" class=\"dataframe\"><thead><tr><th>code</th><th>announcement_date</th><th>settlement_date</th><th>settlement_type</th><th>sales</th><th>operating_income</th><th>ordinary_profit</th><th>final_profit</th><th>reviced_eps</th><th>dividend</th><th>quater</th><th>price_change_rate</th></tr><tr><td>i64</td><td>date</td><td>date</td><td>str</td><td>i64</td><td>i64</td><td>i64</td><td>i64</td><td>f64</td><td>f64</td><td>i64</td><td>f64</td></tr></thead><tbody><tr><td>4935</td><td>2024-08-09</td><td>2024-06-30</td><td>&quot;四&quot;</td><td>2529</td><td>144</td><td>139</td><td>81</td><td>13.7</td><td>5.7</td><td>2</td><td>159.1</td></tr><tr><td>6557</td><td>2024-07-31</td><td>2024-06-30</td><td>&quot;四&quot;</td><td>3009</td><td>116</td><td>111</td><td>203</td><td>65.8</td><td>3.9</td><td>1</td><td>124.7</td></tr><tr><td>4348</td><td>2024-07-31</td><td>2024-06-30</td><td>&quot;四&quot;</td><td>20862</td><td>1282</td><td>1311</td><td>831</td><td>15.1</td><td>6.1</td><td>1</td><td>124.6</td></tr><tr><td>6704</td><td>2024-08-09</td><td>2024-06-30</td><td>&quot;四&quot;</td><td>4572</td><td>-822</td><td>-800</td><td>-815</td><td>-54.7</td><td>-18.0</td><td>1</td><td>99.6</td></tr><tr><td>6927</td><td>2024-08-06</td><td>2024-06-30</td><td>&quot;四&quot;</td><td>3232</td><td>698</td><td>721</td><td>509</td><td>28.1</td><td>21.6</td><td>1</td><td>78.1</td></tr><tr><td>4490</td><td>2024-07-12</td><td>2024-05-31</td><td>&quot;四&quot;</td><td>2520</td><td>385</td><td>378</td><td>60</td><td>-0.7</td><td>15.3</td><td>1</td><td>64.8</td></tr><tr><td>9067</td><td>2024-08-07</td><td>2024-06-30</td><td>&quot;四&quot;</td><td>11307</td><td>243</td><td>292</td><td>187</td><td>6.5</td><td>2.1</td><td>1</td><td>60.6</td></tr><tr><td>3738</td><td>2024-08-01</td><td>2024-06-30</td><td>&quot;四&quot;</td><td>104750</td><td>3097</td><td>4284</td><td>2805</td><td>50.3</td><td>3.0</td><td>1</td><td>57.4</td></tr><tr><td>5010</td><td>2024-08-14</td><td>2024-06-30</td><td>&quot;四&quot;</td><td>5864</td><td>799</td><td>685</td><td>637</td><td>32.3</td><td>13.6</td><td>2</td><td>54.6</td></tr><tr><td>9978</td><td>2024-07-12</td><td>2024-05-31</td><td>&quot;四&quot;</td><td>3918</td><td>52</td><td>60</td><td>57</td><td>1.3</td><td>1.3</td><td>3</td><td>53.8</td></tr></tbody></table></div>"
      ],
      "text/plain": [
       "shape: (10, 12)\n",
       "┌──────┬─────────────┬─────────────┬─────────────┬───┬────────────┬──────────┬────────┬────────────┐\n",
       "│ code ┆ announcemen ┆ settlement_ ┆ settlement_ ┆ … ┆ reviced_ep ┆ dividend ┆ quater ┆ price_chan │\n",
       "│ ---  ┆ t_date      ┆ date        ┆ type        ┆   ┆ s          ┆ ---      ┆ ---    ┆ ge_rate    │\n",
       "│ i64  ┆ ---         ┆ ---         ┆ ---         ┆   ┆ ---        ┆ f64      ┆ i64    ┆ ---        │\n",
       "│      ┆ date        ┆ date        ┆ str         ┆   ┆ f64        ┆          ┆        ┆ f64        │\n",
       "╞══════╪═════════════╪═════════════╪═════════════╪═══╪════════════╪══════════╪════════╪════════════╡\n",
       "│ 4935 ┆ 2024-08-09  ┆ 2024-06-30  ┆ 四          ┆ … ┆ 13.7       ┆ 5.7      ┆ 2      ┆ 159.1      │\n",
       "│ 6557 ┆ 2024-07-31  ┆ 2024-06-30  ┆ 四          ┆ … ┆ 65.8       ┆ 3.9      ┆ 1      ┆ 124.7      │\n",
       "│ 4348 ┆ 2024-07-31  ┆ 2024-06-30  ┆ 四          ┆ … ┆ 15.1       ┆ 6.1      ┆ 1      ┆ 124.6      │\n",
       "│ 6704 ┆ 2024-08-09  ┆ 2024-06-30  ┆ 四          ┆ … ┆ -54.7      ┆ -18.0    ┆ 1      ┆ 99.6       │\n",
       "│ 6927 ┆ 2024-08-06  ┆ 2024-06-30  ┆ 四          ┆ … ┆ 28.1       ┆ 21.6     ┆ 1      ┆ 78.1       │\n",
       "│ 4490 ┆ 2024-07-12  ┆ 2024-05-31  ┆ 四          ┆ … ┆ -0.7       ┆ 15.3     ┆ 1      ┆ 64.8       │\n",
       "│ 9067 ┆ 2024-08-07  ┆ 2024-06-30  ┆ 四          ┆ … ┆ 6.5        ┆ 2.1      ┆ 1      ┆ 60.6       │\n",
       "│ 3738 ┆ 2024-08-01  ┆ 2024-06-30  ┆ 四          ┆ … ┆ 50.3       ┆ 3.0      ┆ 1      ┆ 57.4       │\n",
       "│ 5010 ┆ 2024-08-14  ┆ 2024-06-30  ┆ 四          ┆ … ┆ 32.3       ┆ 13.6     ┆ 2      ┆ 54.6       │\n",
       "│ 9978 ┆ 2024-07-12  ┆ 2024-05-31  ┆ 四          ┆ … ┆ 1.3        ┆ 1.3      ┆ 3      ┆ 53.8       │\n",
       "└──────┴─────────────┴─────────────┴─────────────┴───┴────────────┴──────────┴────────┴────────────┘"
      ]
     },
     "execution_count": 62,
     "metadata": {},
     "output_type": "execute_result"
    }
   ],
   "source": [
    "kpl_df[0:10]"
   ]
  },
  {
   "cell_type": "code",
   "execution_count": 6,
   "id": "53709cb7-c709-472a-887c-5671d6cf3687",
   "metadata": {},
   "outputs": [],
   "source": [
    "#####\n",
    "##### 最新ファンダメンタルズ&業績情報\n",
    "#####"
   ]
  },
  {
   "cell_type": "code",
   "execution_count": 69,
   "id": "b6913aa1-3227-4018-93b6-9deeac4f6f1a",
   "metadata": {},
   "outputs": [],
   "source": [
    "# parametor\n",
    "code = 9067"
   ]
  },
  {
   "cell_type": "code",
   "execution_count": 70,
   "id": "66658737-a89a-4fbe-84a5-55bdf043aa8b",
   "metadata": {},
   "outputs": [
    {
     "name": "stdout",
     "output_type": "stream",
     "text": [
      "丸運(9067)の銘柄情報\n",
      "\n",
      "終値: 501.0円(2024年09月26日)\n",
      "予想配当利回り: 2.0%(2024年09月26日)\n",
      "予想PER: 25.39倍(2024年09月26日)\n",
      "実績PBR: 0.58倍(2024年09月26日)\n",
      "自己資本比率: 67.1%(2024年09月26日)\n",
      "予想ROE: 2.28%(2024年09月26日)\n",
      "予想ROA: 1.53%(2024年09月26日)\n",
      "時価総額: 145.1億円(2024年09月26日)\n",
      "\n",
      "9067(丸運)の四季報データ履歴\n",
      "\n",
      "発行日: 2024年09月13日\n",
      "【連続増配】\n",
      "  貨物輸送は数量横ばいも値上げ浸透。エネルギー輸送も石油の数量減響くが、外注費上昇を受けた運賃改定により伸長。労務費・物流費増こなし営業益続伸。有価証券売却益(約2.5億円)。連続増配。\n",
      "【提携】\n",
      "  ベトナム子会社が同国の梱包専門会社の株式約40%を取得。梱包から保管、輸送まで一貫サービス提供へ。需要増にらみ、国内の危険物倉庫の増強を鋭意検討。\n",
      "\n",
      "発行日: 2024年06月14日\n",
      "【続伸】\n",
      "  エネルギー輸送は数量減に加え労務費上昇で軟調。が、貨物輸送は素材物流軸に数量回復、前期価格改定もフル寄与。貨物・海外物流で一貫物流業務の新規業務獲得が上乗せ。営業利益続伸。連続増配。\n",
      "【営業強化】\n",
      "  4月貨物輸送事業部に営業開発部を設置、営業情報を全社で共有するシステムも稼働し、新規業務受注強化へ。24年3月川崎市東扇島の毒劇物倉庫が稼働。\n",
      "\n",
      "発行日: 2024年03月16日\n",
      "【連続増益】\n",
      "  貨物は素材物流の数量減響く。エネルギーは暖冬で石油輸送想定以下。ただ基幹システム導入費減で営業増益。25年3月期はエネルギー輸送横ばい。が、貨物輸送は素材物流軸に数量回復。前期価格改定も定着。増益続く。連続増配余地。\n",
      "【物流問題】\n",
      "  24年物流問題を受け、鉄道輸送など通運事業への取り組み強化。危険物輸送の需要増にらみ、倉庫増強など検討。\n",
      "\n",
      "発行日: 2023年12月15日\n",
      "【増配】\n",
      "  貨物輸送は素材物流など数量減に加え、航空・海上運賃下落響く。エネルギー輸送も回復緩慢。ただ価格改定が浸透。基幹システム導入費用減や一貫物流での費用抑制効き、営業益は反転増。増配。25年3月期は貨物輸送の取扱数量増える。\n",
      "【還元】\n",
      "  24年3月期から連結配当性向50%以上メド、下限8円に変更。中国から日本への輸送は一貫物流強化し効率化図る。\n"
     ]
    }
   ],
   "source": [
    "# ファンダメンタルズ\n",
    "print_finance_quote(PPL.df, FPL.df, code, valuation_date=valuation_date)\n",
    "print()\n",
    "SPL.print_stock_df(code, num=4, valuation_date=valuation_date)"
   ]
  },
  {
   "cell_type": "code",
   "execution_count": 71,
   "id": "8290336c-a265-4000-a613-b34399505447",
   "metadata": {},
   "outputs": [
    {
     "data": {
      "text/html": [
       "<iframe\n",
       "    scrolling=\"no\"\n",
       "    width=\"100%\"\n",
       "    height=\"545px\"\n",
       "    src=\"iframe_figures/figure_71.html\"\n",
       "    frameborder=\"0\"\n",
       "    allowfullscreen\n",
       "></iframe>\n"
      ]
     },
     "metadata": {},
     "output_type": "display_data"
    }
   ],
   "source": [
    "# 業績推移\n",
    "KFIG = KessanFig(code, \"四半期\", end_settlement_date=valuation_date)\n",
    "KFIG.add_trace_profits()\n",
    "KFIG.fig.show()"
   ]
  },
  {
   "cell_type": "code",
   "execution_count": 72,
   "id": "06e1a87d-7f55-416e-b19c-770df7daf7cd",
   "metadata": {},
   "outputs": [],
   "source": [
    "#####\n",
    "##### 株価推移\n",
    "#####"
   ]
  },
  {
   "cell_type": "code",
   "execution_count": 73,
   "id": "97f89c68-2f2b-4223-a642-9c3bfa019653",
   "metadata": {},
   "outputs": [],
   "source": [
    "# para\n",
    "delta = relativedelta(days=100)"
   ]
  },
  {
   "cell_type": "code",
   "execution_count": 74,
   "id": "8c210dec-62d4-40b3-b0b5-3dc77bd80452",
   "metadata": {},
   "outputs": [
    {
     "name": "stdout",
     "output_type": "stream",
     "text": [
      "決算発表日: 2024-08-07\n"
     ]
    },
    {
     "data": {
      "text/html": [
       "<iframe\n",
       "    scrolling=\"no\"\n",
       "    width=\"100%\"\n",
       "    height=\"620\"\n",
       "    src=\"iframe_figures/figure_74.html\"\n",
       "    frameborder=\"0\"\n",
       "    allowfullscreen\n",
       "></iframe>\n"
      ]
     },
     "metadata": {},
     "output_type": "display_data"
    }
   ],
   "source": [
    "# 日足\n",
    "df = kpl_df.filter(pl.col(\"code\")==code)\n",
    "ann_date = df[\"announcement_date\"].to_list()[-1]\n",
    "print(f'決算発表日: {ann_date}')\n",
    "start_date = ann_date - delta\n",
    "end_date = ann_date + delta\n",
    "\n",
    "PFIG = PricelistFig(code, RevPl.df, MPL.df, start_date, end_date)\n",
    "# 決算発表日にvlineを引く\n",
    "PFIG.add_vline_announcement_date()\n",
    "PFIG.fig.show()"
   ]
  },
  {
   "cell_type": "code",
   "execution_count": null,
   "id": "280beb5d-c2d9-41c4-9270-4bad7b472c64",
   "metadata": {},
   "outputs": [],
   "source": []
  }
 ],
 "metadata": {
  "kernelspec": {
   "display_name": "Python 3 (ipykernel)",
   "language": "python",
   "name": "python3"
  },
  "language_info": {
   "codemirror_mode": {
    "name": "ipython",
    "version": 3
   },
   "file_extension": ".py",
   "mimetype": "text/x-python",
   "name": "python",
   "nbconvert_exporter": "python",
   "pygments_lexer": "ipython3",
   "version": "3.12.3"
  }
 },
 "nbformat": 4,
 "nbformat_minor": 5
}
