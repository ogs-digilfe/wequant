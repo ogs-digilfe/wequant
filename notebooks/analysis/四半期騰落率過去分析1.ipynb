{
 "cells": [
  {
   "cell_type": "code",
   "execution_count": 1,
   "id": "385faced-ebf2-4b70-a5fd-800bbb9ad45f",
   "metadata": {},
   "outputs": [],
   "source": [
    "# 四半期の騰落率が大きく動いた銘柄の過去分析行う"
   ]
  },
  {
   "cell_type": "code",
   "execution_count": 16,
   "id": "761f62b0-eea1-4475-8b42-31bcef380ca1",
   "metadata": {},
   "outputs": [],
   "source": [
    "# 読み込みファイルパスの設定とimportしたいmoduleパス(pythonパス)の設定\n",
    "from pathlib import Path\n",
    "import os, sys\n",
    "\n",
    "CURRENT_DIR = Path(os.getcwd())\n",
    "PJ_DIR = CURRENT_DIR.parent.parent\n",
    "LIB_DIR = PJ_DIR / \"lib\"\n",
    "DATA_DIR = PJ_DIR / \"data\" \n",
    "\n",
    "sys.path.append(str(LIB_DIR))\n",
    "\n",
    "# notebook内で利用するmoduleのimport\n",
    "from lib_dataprocess import KessanPl, PricelistFig, PricelistPl, MeigaralistPl, read_data\n",
    "from lib_dataprocess import ShikihoPl, FinancequotePl, print_finance_quote, PricelistFig, KessanFig, IndexPricelistPl\n",
    "import polars as pl\n",
    "from datetime import date\n",
    "from dateutil.relativedelta import relativedelta\n",
    "\n",
    "RevPl = PricelistPl(\"reviced_pricelist.parquet\")\n",
    "RawPL = PricelistPl(\"raw_pricelist.parquet\")\n",
    "FPL = FinancequotePl()\n",
    "FPL.with_columns_market_cap()\n",
    "MPL = MeigaralistPl()\n",
    "SPL = ShikihoPl()"
   ]
  },
  {
   "cell_type": "code",
   "execution_count": 3,
   "id": "87b6e5ae-2d17-4b33-a3a4-dd524a714dd6",
   "metadata": {},
   "outputs": [],
   "source": [
    "#####\n",
    "##### 評価日における四半期騰落率一覧\n",
    "#####"
   ]
  },
  {
   "cell_type": "code",
   "execution_count": 4,
   "id": "2014bd7e-a8e5-4872-9ada-62fdac09a0a9",
   "metadata": {},
   "outputs": [
    {
     "data": {
      "text/html": [
       "<div><style>\n",
       ".dataframe > thead > tr,\n",
       ".dataframe > tbody > tr {\n",
       "  text-align: right;\n",
       "  white-space: pre-wrap;\n",
       "}\n",
       "</style>\n",
       "<small>shape: (3_743, 5)</small><table border=\"1\" class=\"dataframe\"><thead><tr><th>code</th><th>start_date</th><th>end_date</th><th>updown_rate</th><th>nh_updown_rate</th></tr><tr><td>i64</td><td>date</td><td>date</td><td>f64</td><td>f64</td></tr></thead><tbody><tr><td>1301</td><td>2022-02-05</td><td>2022-05-13</td><td>1.25</td><td>-3.29</td></tr><tr><td>1332</td><td>2022-02-05</td><td>2022-05-12</td><td>-0.19</td><td>-5.78</td></tr><tr><td>1333</td><td>2022-02-08</td><td>2022-05-09</td><td>-7.3</td><td>-3.66</td></tr><tr><td>1352</td><td>2022-01-29</td><td>2022-05-13</td><td>38.1</td><td>-0.98</td></tr><tr><td>1375</td><td>2022-02-04</td><td>2022-05-12</td><td>-14.7</td><td>-4.97</td></tr><tr><td>&hellip;</td><td>&hellip;</td><td>&hellip;</td><td>&hellip;</td><td>&hellip;</td></tr><tr><td>9993</td><td>2022-01-08</td><td>2022-04-12</td><td>-2.8</td><td>-7.21</td></tr><tr><td>9994</td><td>2022-02-11</td><td>2022-05-12</td><td>-2.08</td><td>-5.7</td></tr><tr><td>9995</td><td>2022-01-29</td><td>2022-05-16</td><td>-3.95</td><td>-0.54</td></tr><tr><td>9996</td><td>2022-02-10</td><td>2022-05-12</td><td>-6.5</td><td>-7.44</td></tr><tr><td>9997</td><td>2022-02-01</td><td>2022-05-13</td><td>-2.75</td><td>-2.72</td></tr></tbody></table></div>"
      ],
      "text/plain": [
       "shape: (3_743, 5)\n",
       "┌──────┬────────────┬────────────┬─────────────┬────────────────┐\n",
       "│ code ┆ start_date ┆ end_date   ┆ updown_rate ┆ nh_updown_rate │\n",
       "│ ---  ┆ ---        ┆ ---        ┆ ---         ┆ ---            │\n",
       "│ i64  ┆ date       ┆ date       ┆ f64         ┆ f64            │\n",
       "╞══════╪════════════╪════════════╪═════════════╪════════════════╡\n",
       "│ 1301 ┆ 2022-02-05 ┆ 2022-05-13 ┆ 1.25        ┆ -3.29          │\n",
       "│ 1332 ┆ 2022-02-05 ┆ 2022-05-12 ┆ -0.19       ┆ -5.78          │\n",
       "│ 1333 ┆ 2022-02-08 ┆ 2022-05-09 ┆ -7.3        ┆ -3.66          │\n",
       "│ 1352 ┆ 2022-01-29 ┆ 2022-05-13 ┆ 38.1        ┆ -0.98          │\n",
       "│ 1375 ┆ 2022-02-04 ┆ 2022-05-12 ┆ -14.7       ┆ -4.97          │\n",
       "│ …    ┆ …          ┆ …          ┆ …           ┆ …              │\n",
       "│ 9993 ┆ 2022-01-08 ┆ 2022-04-12 ┆ -2.8        ┆ -7.21          │\n",
       "│ 9994 ┆ 2022-02-11 ┆ 2022-05-12 ┆ -2.08       ┆ -5.7           │\n",
       "│ 9995 ┆ 2022-01-29 ┆ 2022-05-16 ┆ -3.95       ┆ -0.54          │\n",
       "│ 9996 ┆ 2022-02-10 ┆ 2022-05-12 ┆ -6.5        ┆ -7.44          │\n",
       "│ 9997 ┆ 2022-02-01 ┆ 2022-05-13 ┆ -2.75       ┆ -2.72          │\n",
       "└──────┴────────────┴────────────┴─────────────┴────────────────┘"
      ]
     },
     "execution_count": 4,
     "metadata": {},
     "output_type": "execute_result"
    }
   ],
   "source": [
    "valuation_date = date(2022, 4, 1)\n",
    "\n",
    "\n",
    "KPl = KessanPl()\n",
    "updown_rate_df = KPl.get_quater_settlement_price_updown_rate(valuation_date, \"nh225\")\n",
    "updown_rate_df"
   ]
  },
  {
   "cell_type": "code",
   "execution_count": 5,
   "id": "f35d8f5a-9d76-4fe9-918f-88784ae3cc20",
   "metadata": {},
   "outputs": [],
   "source": [
    "#####\n",
    "##### valuation_date時点で発表済四半期決算の業績成長率一覧(growth_rate_df)の作成\n",
    "#####"
   ]
  },
  {
   "cell_type": "code",
   "execution_count": 6,
   "id": "170a80b3-7ae6-4034-bec3-97a9469408c9",
   "metadata": {},
   "outputs": [
    {
     "data": {
      "text/html": [
       "<div><style>\n",
       ".dataframe > thead > tr,\n",
       ".dataframe > tbody > tr {\n",
       "  text-align: right;\n",
       "  white-space: pre-wrap;\n",
       "}\n",
       "</style>\n",
       "<small>shape: (3_733, 7)</small><table border=\"1\" class=\"dataframe\"><thead><tr><th>code</th><th>評価日発表済最新四半期決算</th><th>announcement_date</th><th>sales</th><th>operating_income</th><th>sales_growthrate</th><th>diff_operating_income_growthrate</th></tr><tr><td>i64</td><td>date</td><td>date</td><td>i64</td><td>i64</td><td>f64</td><td>f64</td></tr></thead><tbody><tr><td>1301</td><td>2021-12-31</td><td>2022-02-04</td><td>79597</td><td>2493</td><td>2.7</td><td>9.2</td></tr><tr><td>1332</td><td>2021-12-31</td><td>2022-02-04</td><td>185668</td><td>10786</td><td>-5.7</td><td>-23.5</td></tr><tr><td>1333</td><td>2021-12-31</td><td>2022-02-07</td><td>249002</td><td>9913</td><td>-8.5</td><td>-12.6</td></tr><tr><td>1352</td><td>2021-12-31</td><td>2022-01-28</td><td>9619</td><td>609</td><td>-60.7</td><td>-0.6</td></tr><tr><td>1375</td><td>2021-12-31</td><td>2022-02-03</td><td>15954</td><td>2900</td><td>-6.5</td><td>83.2</td></tr><tr><td>&hellip;</td><td>&hellip;</td><td>&hellip;</td><td>&hellip;</td><td>&hellip;</td><td>&hellip;</td><td>&hellip;</td></tr><tr><td>9993</td><td>2021-11-30</td><td>2022-01-07</td><td>26555</td><td>32</td><td>-0.1</td><td>1438.9</td></tr><tr><td>9994</td><td>2021-12-31</td><td>2022-02-10</td><td>41072</td><td>1507</td><td>0.8</td><td>171.8</td></tr><tr><td>9995</td><td>2021-12-31</td><td>2022-01-28</td><td>18236</td><td>569</td><td>16.3</td><td>19.6</td></tr><tr><td>9996</td><td>2021-12-31</td><td>2022-02-09</td><td>11167</td><td>374</td><td>-25.9</td><td>1.7</td></tr><tr><td>9997</td><td>2021-12-31</td><td>2022-01-31</td><td>62819</td><td>5462</td><td>-0.3</td><td>844.9</td></tr></tbody></table></div>"
      ],
      "text/plain": [
       "shape: (3_733, 7)\n",
       "┌──────┬────────────────┬────────────────┬────────┬────────────────┬───────────────┬───────────────┐\n",
       "│ code ┆ 評価日発表済最 ┆ announcement_d ┆ sales  ┆ operating_inco ┆ sales_growthr ┆ diff_operatin │\n",
       "│ ---  ┆ 新四半期決算   ┆ ate            ┆ ---    ┆ me             ┆ ate           ┆ g_income_grow │\n",
       "│ i64  ┆ ---            ┆ ---            ┆ i64    ┆ ---            ┆ ---           ┆ thra…         │\n",
       "│      ┆ date           ┆ date           ┆        ┆ i64            ┆ f64           ┆ ---           │\n",
       "│      ┆                ┆                ┆        ┆                ┆               ┆ f64           │\n",
       "╞══════╪════════════════╪════════════════╪════════╪════════════════╪═══════════════╪═══════════════╡\n",
       "│ 1301 ┆ 2021-12-31     ┆ 2022-02-04     ┆ 79597  ┆ 2493           ┆ 2.7           ┆ 9.2           │\n",
       "│ 1332 ┆ 2021-12-31     ┆ 2022-02-04     ┆ 185668 ┆ 10786          ┆ -5.7          ┆ -23.5         │\n",
       "│ 1333 ┆ 2021-12-31     ┆ 2022-02-07     ┆ 249002 ┆ 9913           ┆ -8.5          ┆ -12.6         │\n",
       "│ 1352 ┆ 2021-12-31     ┆ 2022-01-28     ┆ 9619   ┆ 609            ┆ -60.7         ┆ -0.6          │\n",
       "│ 1375 ┆ 2021-12-31     ┆ 2022-02-03     ┆ 15954  ┆ 2900           ┆ -6.5          ┆ 83.2          │\n",
       "│ …    ┆ …              ┆ …              ┆ …      ┆ …              ┆ …             ┆ …             │\n",
       "│ 9993 ┆ 2021-11-30     ┆ 2022-01-07     ┆ 26555  ┆ 32             ┆ -0.1          ┆ 1438.9        │\n",
       "│ 9994 ┆ 2021-12-31     ┆ 2022-02-10     ┆ 41072  ┆ 1507           ┆ 0.8           ┆ 171.8         │\n",
       "│ 9995 ┆ 2021-12-31     ┆ 2022-01-28     ┆ 18236  ┆ 569            ┆ 16.3          ┆ 19.6          │\n",
       "│ 9996 ┆ 2021-12-31     ┆ 2022-02-09     ┆ 11167  ┆ 374            ┆ -25.9         ┆ 1.7           │\n",
       "│ 9997 ┆ 2021-12-31     ┆ 2022-01-31     ┆ 62819  ┆ 5462           ┆ -0.3          ┆ 844.9         │\n",
       "└──────┴────────────────┴────────────────┴────────┴────────────────┴───────────────┴───────────────┘"
      ]
     },
     "execution_count": 6,
     "metadata": {},
     "output_type": "execute_result"
    }
   ],
   "source": [
    "KPL1 = KessanPl()\n",
    "KPL2 = KessanPl()\n",
    "KPL1.with_columns_growthrate_lastyear()\n",
    "KPL2.with_columns_diff_growthrate()\n",
    "KPL1.df = KPL1.df.filter(pl.col(\"settlement_type\")==\"四\")\n",
    "KPL2.df = KPL2.df.filter(pl.col(\"settlement_type\")==\"四\")\n",
    "df = KPL1.df.join(KPL2.df, on=[\"code\", \"settlement_date\"], how=\"left\")\n",
    "KPL3 = KessanPl(df)\n",
    "df =KPL3.get_latest_quater_settlements(valuation_date)\n",
    "df = df.select([\n",
    "    \"code\", \"settlement_date\", \"announcement_date\", \"sales\", \"operating_income\", \"sales_growthrate\", \"diff_operating_income_growthrate\"\n",
    "])\n",
    "df = df.rename({\"settlement_date\": \"評価日発表済最新四半期決算\"})\n",
    "growth_rate_df = df\n",
    "growth_rate_df"
   ]
  },
  {
   "cell_type": "code",
   "execution_count": 7,
   "id": "a29bb913-24e3-4b64-9435-8198bb3c3473",
   "metadata": {},
   "outputs": [],
   "source": [
    "#####\n",
    "##### 評価dfの作成：　updown_rate_dfとgrowth_rate_dfをjoinして必要な列を残す\n",
    "#####"
   ]
  },
  {
   "cell_type": "code",
   "execution_count": 9,
   "id": "7fc128b3-3ffe-4e66-9779-47c4f6643d81",
   "metadata": {},
   "outputs": [
    {
     "data": {
      "text/html": [
       "<div><style>\n",
       ".dataframe > thead > tr,\n",
       ".dataframe > tbody > tr {\n",
       "  text-align: right;\n",
       "  white-space: pre-wrap;\n",
       "}\n",
       "</style>\n",
       "<small>shape: (3_550, 11)</small><table border=\"1\" class=\"dataframe\"><thead><tr><th>code</th><th>評価日発表済最新四半期決算</th><th>sales</th><th>operating_income</th><th>営業利益率</th><th>sales_growthrate</th><th>diff_operating_income_growthrate</th><th>start_date</th><th>end_date</th><th>updown_rate</th><th>nh_updown_rate</th></tr><tr><td>i64</td><td>date</td><td>i64</td><td>i64</td><td>f64</td><td>f64</td><td>f64</td><td>date</td><td>date</td><td>f64</td><td>f64</td></tr></thead><tbody><tr><td>8139</td><td>2021-12-31</td><td>4555</td><td>101</td><td>2.22</td><td>-11.8</td><td>22.2</td><td>2022-02-11</td><td>2022-05-13</td><td>377.39</td><td>-3.22</td></tr><tr><td>7901</td><td>2022-01-31</td><td>163</td><td>-85</td><td>-52.15</td><td>5.2</td><td>112.5</td><td>2022-03-10</td><td>2022-06-08</td><td>110.87</td><td>12.45</td></tr><tr><td>7066</td><td>2021-12-31</td><td>654</td><td>-75</td><td>-11.47</td><td>9.9</td><td>-210.2</td><td>2022-02-11</td><td>2022-05-13</td><td>98.55</td><td>-3.22</td></tr><tr><td>3094</td><td>2021-11-30</td><td>17407</td><td>-214</td><td>-1.23</td><td>-4.7</td><td>28.0</td><td>2022-01-15</td><td>2022-04-14</td><td>89.41</td><td>-4.1</td></tr><tr><td>4387</td><td>2021-12-31</td><td>805</td><td>-211</td><td>-26.21</td><td>22.7</td><td>-163.1</td><td>2022-02-15</td><td>2022-05-13</td><td>78.61</td><td>-2.78</td></tr><tr><td>&hellip;</td><td>&hellip;</td><td>&hellip;</td><td>&hellip;</td><td>&hellip;</td><td>&hellip;</td><td>&hellip;</td><td>&hellip;</td><td>&hellip;</td><td>&hellip;</td><td>&hellip;</td></tr><tr><td>2980</td><td>2021-12-31</td><td>3947</td><td>654</td><td>16.57</td><td>442.9</td><td>15.8</td><td>2022-02-01</td><td>2022-05-11</td><td>-53.79</td><td>-3.51</td></tr><tr><td>4169</td><td>2021-12-31</td><td>832</td><td>-97</td><td>-11.66</td><td>80.5</td><td>-18.3</td><td>2022-02-11</td><td>2022-05-13</td><td>-57.32</td><td>-3.22</td></tr><tr><td>3782</td><td>2021-12-31</td><td>280</td><td>-78</td><td>-27.86</td><td>-15.2</td><td>166.0</td><td>2022-02-11</td><td>2022-08-12</td><td>-60.71</td><td>4.55</td></tr><tr><td>3945</td><td>2021-12-31</td><td>7551</td><td>65</td><td>0.86</td><td>3.5</td><td>-7.4</td><td>2022-02-05</td><td>2022-05-13</td><td>-62.05</td><td>-3.29</td></tr><tr><td>3808</td><td>2021-12-31</td><td>31</td><td>-272</td><td>-877.42</td><td>-94.5</td><td>36.5</td><td>2022-02-11</td><td>2022-06-27</td><td>-69.46</td><td>-1.59</td></tr></tbody></table></div>"
      ],
      "text/plain": [
       "shape: (3_550, 11)\n",
       "┌──────┬─────────────┬───────┬─────────────┬───┬────────────┬────────────┬────────────┬────────────┐\n",
       "│ code ┆ 評価日発表  ┆ sales ┆ operating_i ┆ … ┆ start_date ┆ end_date   ┆ updown_rat ┆ nh_updown_ │\n",
       "│ ---  ┆ 済最新四半  ┆ ---   ┆ ncome       ┆   ┆ ---        ┆ ---        ┆ e          ┆ rate       │\n",
       "│ i64  ┆ 期決算      ┆ i64   ┆ ---         ┆   ┆ date       ┆ date       ┆ ---        ┆ ---        │\n",
       "│      ┆ ---         ┆       ┆ i64         ┆   ┆            ┆            ┆ f64        ┆ f64        │\n",
       "│      ┆ date        ┆       ┆             ┆   ┆            ┆            ┆            ┆            │\n",
       "╞══════╪═════════════╪═══════╪═════════════╪═══╪════════════╪════════════╪════════════╪════════════╡\n",
       "│ 8139 ┆ 2021-12-31  ┆ 4555  ┆ 101         ┆ … ┆ 2022-02-11 ┆ 2022-05-13 ┆ 377.39     ┆ -3.22      │\n",
       "│ 7901 ┆ 2022-01-31  ┆ 163   ┆ -85         ┆ … ┆ 2022-03-10 ┆ 2022-06-08 ┆ 110.87     ┆ 12.45      │\n",
       "│ 7066 ┆ 2021-12-31  ┆ 654   ┆ -75         ┆ … ┆ 2022-02-11 ┆ 2022-05-13 ┆ 98.55      ┆ -3.22      │\n",
       "│ 3094 ┆ 2021-11-30  ┆ 17407 ┆ -214        ┆ … ┆ 2022-01-15 ┆ 2022-04-14 ┆ 89.41      ┆ -4.1       │\n",
       "│ 4387 ┆ 2021-12-31  ┆ 805   ┆ -211        ┆ … ┆ 2022-02-15 ┆ 2022-05-13 ┆ 78.61      ┆ -2.78      │\n",
       "│ …    ┆ …           ┆ …     ┆ …           ┆ … ┆ …          ┆ …          ┆ …          ┆ …          │\n",
       "│ 2980 ┆ 2021-12-31  ┆ 3947  ┆ 654         ┆ … ┆ 2022-02-01 ┆ 2022-05-11 ┆ -53.79     ┆ -3.51      │\n",
       "│ 4169 ┆ 2021-12-31  ┆ 832   ┆ -97         ┆ … ┆ 2022-02-11 ┆ 2022-05-13 ┆ -57.32     ┆ -3.22      │\n",
       "│ 3782 ┆ 2021-12-31  ┆ 280   ┆ -78         ┆ … ┆ 2022-02-11 ┆ 2022-08-12 ┆ -60.71     ┆ 4.55       │\n",
       "│ 3945 ┆ 2021-12-31  ┆ 7551  ┆ 65          ┆ … ┆ 2022-02-05 ┆ 2022-05-13 ┆ -62.05     ┆ -3.29      │\n",
       "│ 3808 ┆ 2021-12-31  ┆ 31    ┆ -272        ┆ … ┆ 2022-02-11 ┆ 2022-06-27 ┆ -69.46     ┆ -1.59      │\n",
       "└──────┴─────────────┴───────┴─────────────┴───┴────────────┴────────────┴────────────┴────────────┘"
      ]
     },
     "execution_count": 9,
     "metadata": {},
     "output_type": "execute_result"
    }
   ],
   "source": [
    "df = growth_rate_df.join(updown_rate_df, on=[\"code\"], how=\"left\")\n",
    "df = df.with_columns([\n",
    "    (pl.lit(100) * pl.col(\"operating_income\") / pl.col(\"sales\")).round(2).alias(\"営業利益率\")\n",
    "])\n",
    "df = df.select(df.columns[:5] + [df.columns[-1]] + df.columns[5:-1])\n",
    "df = df.select(df.columns[:2]+df.columns[3:])\n",
    "df = df.sort(by=[\"updown_rate\"], descending=[True])\n",
    "df = df.drop_nulls()\n",
    "evaluated_df = df\n",
    "evaluated_df"
   ]
  },
  {
   "cell_type": "code",
   "execution_count": 10,
   "id": "eba9e3e8-9bd5-4b17-a753-422a2a031cb5",
   "metadata": {},
   "outputs": [],
   "source": [
    "#####\n",
    "##### filter\n",
    "#####"
   ]
  },
  {
   "cell_type": "code",
   "execution_count": 11,
   "id": "bbe46b9a-7535-48c6-acd0-dcf8a130eda9",
   "metadata": {},
   "outputs": [
    {
     "data": {
      "text/html": [
       "<div><style>\n",
       ".dataframe > thead > tr,\n",
       ".dataframe > tbody > tr {\n",
       "  text-align: right;\n",
       "  white-space: pre-wrap;\n",
       "}\n",
       "</style>\n",
       "<small>shape: (189, 11)</small><table border=\"1\" class=\"dataframe\"><thead><tr><th>code</th><th>評価日発表済最新四半期決算</th><th>sales</th><th>operating_income</th><th>営業利益率</th><th>sales_growthrate</th><th>diff_operating_income_growthrate</th><th>start_date</th><th>end_date</th><th>updown_rate</th><th>nh_updown_rate</th></tr><tr><td>i64</td><td>date</td><td>i64</td><td>i64</td><td>f64</td><td>f64</td><td>f64</td><td>date</td><td>date</td><td>f64</td><td>f64</td></tr></thead><tbody><tr><td>4331</td><td>2021-12-31</td><td>11647</td><td>1887</td><td>16.2</td><td>42.6</td><td>73.6</td><td>2022-02-11</td><td>2022-05-13</td><td>32.79</td><td>-3.22</td></tr><tr><td>3064</td><td>2021-12-31</td><td>51281</td><td>6588</td><td>12.85</td><td>20.7</td><td>15.4</td><td>2022-02-04</td><td>2022-04-28</td><td>32.03</td><td>-0.92</td></tr><tr><td>9273</td><td>2021-12-31</td><td>5510</td><td>1297</td><td>23.54</td><td>22.9</td><td>37.9</td><td>2022-02-11</td><td>2022-05-12</td><td>29.21</td><td>-5.7</td></tr><tr><td>2222</td><td>2021-12-31</td><td>10963</td><td>2278</td><td>20.78</td><td>30.5</td><td>45.5</td><td>2022-02-04</td><td>2022-05-13</td><td>28.16</td><td>-2.47</td></tr><tr><td>4293</td><td>2021-12-31</td><td>6572</td><td>1940</td><td>29.52</td><td>24.6</td><td>56.7</td><td>2022-02-11</td><td>2022-05-12</td><td>26.84</td><td>-5.7</td></tr><tr><td>&hellip;</td><td>&hellip;</td><td>&hellip;</td><td>&hellip;</td><td>&hellip;</td><td>&hellip;</td><td>&hellip;</td><td>&hellip;</td><td>&hellip;</td><td>&hellip;</td><td>&hellip;</td></tr><tr><td>3302</td><td>2021-12-31</td><td>12024</td><td>2641</td><td>21.96</td><td>46.5</td><td>36.0</td><td>2022-02-15</td><td>2022-05-12</td><td>-23.37</td><td>-5.28</td></tr><tr><td>7816</td><td>2021-12-31</td><td>7320</td><td>1263</td><td>17.25</td><td>37.0</td><td>28.5</td><td>2022-02-15</td><td>2022-05-13</td><td>-23.58</td><td>-2.78</td></tr><tr><td>7734</td><td>2021-12-31</td><td>9631</td><td>2364</td><td>24.55</td><td>20.0</td><td>55.0</td><td>2022-02-11</td><td>2022-05-12</td><td>-25.15</td><td>-5.7</td></tr><tr><td>6941</td><td>2021-12-31</td><td>10150</td><td>2318</td><td>22.84</td><td>50.8</td><td>52.0</td><td>2022-02-05</td><td>2022-05-13</td><td>-26.43</td><td>-3.29</td></tr><tr><td>6920</td><td>2021-12-31</td><td>27819</td><td>10784</td><td>38.76</td><td>45.9</td><td>37.2</td><td>2022-02-01</td><td>2022-04-28</td><td>-33.65</td><td>-1.17</td></tr></tbody></table></div>"
      ],
      "text/plain": [
       "shape: (189, 11)\n",
       "┌──────┬─────────────┬───────┬─────────────┬───┬────────────┬────────────┬────────────┬────────────┐\n",
       "│ code ┆ 評価日発表  ┆ sales ┆ operating_i ┆ … ┆ start_date ┆ end_date   ┆ updown_rat ┆ nh_updown_ │\n",
       "│ ---  ┆ 済最新四半  ┆ ---   ┆ ncome       ┆   ┆ ---        ┆ ---        ┆ e          ┆ rate       │\n",
       "│ i64  ┆ 期決算      ┆ i64   ┆ ---         ┆   ┆ date       ┆ date       ┆ ---        ┆ ---        │\n",
       "│      ┆ ---         ┆       ┆ i64         ┆   ┆            ┆            ┆ f64        ┆ f64        │\n",
       "│      ┆ date        ┆       ┆             ┆   ┆            ┆            ┆            ┆            │\n",
       "╞══════╪═════════════╪═══════╪═════════════╪═══╪════════════╪════════════╪════════════╪════════════╡\n",
       "│ 4331 ┆ 2021-12-31  ┆ 11647 ┆ 1887        ┆ … ┆ 2022-02-11 ┆ 2022-05-13 ┆ 32.79      ┆ -3.22      │\n",
       "│ 3064 ┆ 2021-12-31  ┆ 51281 ┆ 6588        ┆ … ┆ 2022-02-04 ┆ 2022-04-28 ┆ 32.03      ┆ -0.92      │\n",
       "│ 9273 ┆ 2021-12-31  ┆ 5510  ┆ 1297        ┆ … ┆ 2022-02-11 ┆ 2022-05-12 ┆ 29.21      ┆ -5.7       │\n",
       "│ 2222 ┆ 2021-12-31  ┆ 10963 ┆ 2278        ┆ … ┆ 2022-02-04 ┆ 2022-05-13 ┆ 28.16      ┆ -2.47      │\n",
       "│ 4293 ┆ 2021-12-31  ┆ 6572  ┆ 1940        ┆ … ┆ 2022-02-11 ┆ 2022-05-12 ┆ 26.84      ┆ -5.7       │\n",
       "│ …    ┆ …           ┆ …     ┆ …           ┆ … ┆ …          ┆ …          ┆ …          ┆ …          │\n",
       "│ 3302 ┆ 2021-12-31  ┆ 12024 ┆ 2641        ┆ … ┆ 2022-02-15 ┆ 2022-05-12 ┆ -23.37     ┆ -5.28      │\n",
       "│ 7816 ┆ 2021-12-31  ┆ 7320  ┆ 1263        ┆ … ┆ 2022-02-15 ┆ 2022-05-13 ┆ -23.58     ┆ -2.78      │\n",
       "│ 7734 ┆ 2021-12-31  ┆ 9631  ┆ 2364        ┆ … ┆ 2022-02-11 ┆ 2022-05-12 ┆ -25.15     ┆ -5.7       │\n",
       "│ 6941 ┆ 2021-12-31  ┆ 10150 ┆ 2318        ┆ … ┆ 2022-02-05 ┆ 2022-05-13 ┆ -26.43     ┆ -3.29      │\n",
       "│ 6920 ┆ 2021-12-31  ┆ 27819 ┆ 10784       ┆ … ┆ 2022-02-01 ┆ 2022-04-28 ┆ -33.65     ┆ -1.17      │\n",
       "└──────┴─────────────┴───────┴─────────────┴───┴────────────┴────────────┴────────────┴────────────┘"
      ]
     },
     "execution_count": 11,
     "metadata": {},
     "output_type": "execute_result"
    }
   ],
   "source": [
    "# para\n",
    "min_sales = 5000\n",
    "min_operating_income = 0\n",
    "min_営業利益率 = 10\n",
    "max_営業利益率 = 100\n",
    "min_sales_growth_rate = 10\n",
    "max_sales_growth_rate = 100\n",
    "min_diff_operating_income_growthrate = 0\n",
    "\n",
    "r1 = 1.5\n",
    "\n",
    "# 単純filter\n",
    "df = evaluated_df\n",
    "df = df.filter(pl.col(\"sales\")>=min_sales)\\\n",
    "    .filter(pl.col(\"operating_income\")>=min_operating_income)\\\n",
    "    .filter(pl.col(\"営業利益率\")>=min_営業利益率)\\\n",
    "    .filter(pl.col(\"営業利益率\")<=max_営業利益率)\\\n",
    "    .filter(pl.col(\"sales_growthrate\")>=min_sales_growth_rate)\\\n",
    "    .filter(pl.col(\"sales_growthrate\")<=max_sales_growth_rate)\\\n",
    "    .filter(pl.col(\"diff_operating_income_growthrate\")>=min_diff_operating_income_growthrate)\n",
    "\n",
    "# 列間filter\n",
    "df = df.filter(\n",
    "    pl.col(\"sales_growthrate\")<=(pl.lit(r1) * pl.col(\"diff_operating_income_growthrate\"))\n",
    ")\n",
    "\n",
    "target_df = df\n",
    "target_df\n"
   ]
  },
  {
   "cell_type": "code",
   "execution_count": 12,
   "id": "8b609299-84ce-4bb2-89d4-fbc765f5c73e",
   "metadata": {},
   "outputs": [],
   "source": [
    "#####\n",
    "##### 統計結果出力\n",
    "#####"
   ]
  },
  {
   "cell_type": "code",
   "execution_count": 13,
   "id": "6be81c02-afdd-4020-a16f-4a763a4aa9ee",
   "metadata": {},
   "outputs": [
    {
     "name": "stdout",
     "output_type": "stream",
     "text": [
      "##### 全体\n",
      "総銘柄数：3550\n",
      "上昇銘柄数:1347／下落銘柄数:2203／上昇率:(37.9%)\n",
      "全銘柄平均騰落率:-1.38%\n",
      "日経225平均騰落率:-2.98%\n",
      "\n",
      "##### 抽出銘柄\n",
      "総銘柄数：189\n",
      "上昇銘柄数:70／下落銘柄数:119／上昇率:(37.0%)\n",
      "抽出銘柄平均騰落率:-3.31%\n",
      "日経225平均騰落率:-3.05%\n"
     ]
    }
   ],
   "source": [
    "df = evaluated_df\n",
    "print(\"##### 全体\")\n",
    "print(f'総銘柄数：{df.shape[0]}')\n",
    "a = df.filter(pl.col(\"updown_rate\")>0).shape[0]\n",
    "b = df.filter(pl.col(\"updown_rate\")<=0).shape[0]\n",
    "uprate = round(100*a/(a+b), 1)\n",
    "print(f'上昇銘柄数:{a}／下落銘柄数:{b}／上昇率:({uprate}%)')\n",
    "print(f'全銘柄平均騰落率:{round(df[\"updown_rate\"].mean(), 2)}%')\n",
    "print(f'日経225平均騰落率:{round(df[\"nh_updown_rate\"].mean(), 2)}%')\n",
    "print()\n",
    "\n",
    "df = target_df\n",
    "print(\"##### 抽出銘柄\")\n",
    "print(f'総銘柄数：{df.shape[0]}')\n",
    "a = df.filter(pl.col(\"updown_rate\")>0).shape[0]\n",
    "b = df.filter(pl.col(\"updown_rate\")<=0).shape[0]\n",
    "uprate = round(100*a/(a+b), 1)\n",
    "print(f'上昇銘柄数:{a}／下落銘柄数:{b}／上昇率:({uprate}%)')\n",
    "print(f'抽出銘柄平均騰落率:{round(df[\"updown_rate\"].mean(), 2)}%')\n",
    "print(f'日経225平均騰落率:{round(df[\"nh_updown_rate\"].mean(), 2)}%')"
   ]
  },
  {
   "cell_type": "code",
   "execution_count": 49,
   "id": "e04aa63a-f5bb-4f85-8efa-c297752f16a2",
   "metadata": {},
   "outputs": [],
   "source": [
    "#####\n",
    "##### 個別銘柄の分析\n",
    "#####"
   ]
  },
  {
   "cell_type": "code",
   "execution_count": 29,
   "id": "c33e380c-90a3-4179-b66f-0a22724913ba",
   "metadata": {},
   "outputs": [
    {
     "name": "stdout",
     "output_type": "stream",
     "text": [
      "レーザーテック(6920)の銘柄情報\n",
      "\n",
      "終値: 20635.0円(2022年04月01日)\n"
     ]
    },
    {
     "ename": "OutOfBoundsError",
     "evalue": "index 0 is out of bounds for sequence of length 0",
     "output_type": "error",
     "traceback": [
      "\u001b[0;31m---------------------------------------------------------------------------\u001b[0m",
      "\u001b[0;31mOutOfBoundsError\u001b[0m                          Traceback (most recent call last)",
      "\u001b[0;32m/tmp/ipykernel_422596/1970242316.py\u001b[0m in \u001b[0;36m?\u001b[0;34m()\u001b[0m\n\u001b[1;32m      1\u001b[0m \u001b[0;31m# ファンダメンタルズ\u001b[0m\u001b[0;34m\u001b[0m\u001b[0;34m\u001b[0m\u001b[0m\n\u001b[1;32m      2\u001b[0m \u001b[0mcode\u001b[0m \u001b[0;34m=\u001b[0m \u001b[0;36m6920\u001b[0m\u001b[0;34m\u001b[0m\u001b[0;34m\u001b[0m\u001b[0m\n\u001b[0;32m----> 3\u001b[0;31m \u001b[0mprint_finance_quote\u001b[0m\u001b[0;34m(\u001b[0m\u001b[0mRawPL\u001b[0m\u001b[0;34m.\u001b[0m\u001b[0mdf\u001b[0m\u001b[0;34m,\u001b[0m \u001b[0mFPL\u001b[0m\u001b[0;34m.\u001b[0m\u001b[0mdf\u001b[0m\u001b[0;34m,\u001b[0m \u001b[0mcode\u001b[0m\u001b[0;34m,\u001b[0m \u001b[0mvaluation_date\u001b[0m\u001b[0;34m=\u001b[0m\u001b[0mvaluation_date\u001b[0m\u001b[0;34m)\u001b[0m\u001b[0;34m\u001b[0m\u001b[0;34m\u001b[0m\u001b[0m\n\u001b[0m\u001b[1;32m      4\u001b[0m \u001b[0mprint\u001b[0m\u001b[0;34m(\u001b[0m\u001b[0;34m)\u001b[0m\u001b[0;34m\u001b[0m\u001b[0;34m\u001b[0m\u001b[0m\n\u001b[1;32m      5\u001b[0m \u001b[0mSPL\u001b[0m\u001b[0;34m.\u001b[0m\u001b[0mprint_stock_df\u001b[0m\u001b[0;34m(\u001b[0m\u001b[0mcode\u001b[0m\u001b[0;34m,\u001b[0m \u001b[0mnum\u001b[0m\u001b[0;34m=\u001b[0m\u001b[0;36m4\u001b[0m\u001b[0;34m,\u001b[0m \u001b[0mvaluation_date\u001b[0m\u001b[0;34m=\u001b[0m\u001b[0mvaluation_date\u001b[0m\u001b[0;34m)\u001b[0m\u001b[0;34m\u001b[0m\u001b[0;34m\u001b[0m\u001b[0m\n\u001b[1;32m      6\u001b[0m \u001b[0;34m\u001b[0m\u001b[0m\n",
      "\u001b[0;32m~/workspace-wequant/wequant/lib/lib_dataprocess.py\u001b[0m in \u001b[0;36m?\u001b[0;34m(pricelist_df, finance_quote_df, code, valuation_date)\u001b[0m\n\u001b[1;32m    321\u001b[0m     \u001b[0mdf\u001b[0m \u001b[0;34m=\u001b[0m \u001b[0mfinance_quote_df\u001b[0m\u001b[0;34m\u001b[0m\u001b[0;34m\u001b[0m\u001b[0m\n\u001b[1;32m    322\u001b[0m     df = df.filter(pl.col(\"code\")==code)\\\n\u001b[1;32m    323\u001b[0m         \u001b[0;34m.\u001b[0m\u001b[0mfilter\u001b[0m\u001b[0;34m(\u001b[0m\u001b[0mpl\u001b[0m\u001b[0;34m.\u001b[0m\u001b[0mcol\u001b[0m\u001b[0;34m(\u001b[0m\u001b[0;34m\"date\"\u001b[0m\u001b[0;34m)\u001b[0m\u001b[0;34m<=\u001b[0m\u001b[0mvaluation_date\u001b[0m\u001b[0;34m)\u001b[0m\u001b[0;34m\u001b[0m\u001b[0;34m\u001b[0m\u001b[0m\n\u001b[1;32m    324\u001b[0m     \u001b[0mdf\u001b[0m \u001b[0;34m=\u001b[0m \u001b[0mdf\u001b[0m\u001b[0;34m.\u001b[0m\u001b[0mfilter\u001b[0m\u001b[0;34m(\u001b[0m\u001b[0mpl\u001b[0m\u001b[0;34m.\u001b[0m\u001b[0mcol\u001b[0m\u001b[0;34m(\u001b[0m\u001b[0;34m\"date\"\u001b[0m\u001b[0;34m)\u001b[0m\u001b[0;34m==\u001b[0m\u001b[0mpl\u001b[0m\u001b[0;34m.\u001b[0m\u001b[0mcol\u001b[0m\u001b[0;34m(\u001b[0m\u001b[0;34m\"date\"\u001b[0m\u001b[0;34m)\u001b[0m\u001b[0;34m.\u001b[0m\u001b[0mmax\u001b[0m\u001b[0;34m(\u001b[0m\u001b[0;34m)\u001b[0m\u001b[0;34m)\u001b[0m\u001b[0;34m\u001b[0m\u001b[0;34m\u001b[0m\u001b[0m\n\u001b[0;32m--> 325\u001b[0;31m     \u001b[0mquoted_date\u001b[0m \u001b[0;34m=\u001b[0m \u001b[0mdf\u001b[0m\u001b[0;34m.\u001b[0m\u001b[0mselect\u001b[0m\u001b[0;34m(\u001b[0m\u001b[0;34m[\u001b[0m\u001b[0;34m\"date\"\u001b[0m\u001b[0;34m]\u001b[0m\u001b[0;34m)\u001b[0m\u001b[0;34m.\u001b[0m\u001b[0mrow\u001b[0m\u001b[0;34m(\u001b[0m\u001b[0;36m0\u001b[0m\u001b[0;34m)\u001b[0m\u001b[0;34m[\u001b[0m\u001b[0;36m0\u001b[0m\u001b[0;34m]\u001b[0m\u001b[0;34m\u001b[0m\u001b[0;34m\u001b[0m\u001b[0m\n\u001b[0m\u001b[1;32m    326\u001b[0m     \u001b[0;31m# 予想配当利回り\u001b[0m\u001b[0;34m\u001b[0m\u001b[0;34m\u001b[0m\u001b[0m\n\u001b[1;32m    327\u001b[0m     \u001b[0mexpected_dividened_yield\u001b[0m \u001b[0;34m=\u001b[0m \u001b[0mdf\u001b[0m\u001b[0;34m.\u001b[0m\u001b[0mselect\u001b[0m\u001b[0;34m(\u001b[0m\u001b[0;34m[\u001b[0m\u001b[0;34m\"expected_dividend_yield\"\u001b[0m\u001b[0;34m]\u001b[0m\u001b[0;34m)\u001b[0m\u001b[0;34m.\u001b[0m\u001b[0mrow\u001b[0m\u001b[0;34m(\u001b[0m\u001b[0;36m0\u001b[0m\u001b[0;34m)\u001b[0m\u001b[0;34m[\u001b[0m\u001b[0;36m0\u001b[0m\u001b[0;34m]\u001b[0m\u001b[0;34m\u001b[0m\u001b[0;34m\u001b[0m\u001b[0m\n\u001b[1;32m    328\u001b[0m     \u001b[0mprint\u001b[0m\u001b[0;34m(\u001b[0m\u001b[0;34mf'\u001b[0m\u001b[0;34m予想配当利回り: \u001b[0m\u001b[0;34m{\u001b[0m\u001b[0mexpected_dividened_yield\u001b[0m\u001b[0;34m}\u001b[0m\u001b[0;34m%(\u001b[0m\u001b[0;34m{\u001b[0m\u001b[0mquoted_date\u001b[0m\u001b[0;34m.\u001b[0m\u001b[0mstrftime\u001b[0m\u001b[0;34m(\u001b[0m\u001b[0mDATEFORMAT2\u001b[0m\u001b[0;34m)\u001b[0m\u001b[0;34m}\u001b[0m\u001b[0;34m)\u001b[0m\u001b[0;34m'\u001b[0m\u001b[0;34m)\u001b[0m\u001b[0;34m\u001b[0m\u001b[0;34m\u001b[0m\u001b[0m\n",
      "\u001b[0;32m~/workspace-wequant/venv-wequant/lib/python3.12/site-packages/polars/dataframe/frame.py\u001b[0m in \u001b[0;36m?\u001b[0;34m(self, index, by_predicate, named)\u001b[0m\n\u001b[1;32m  10222\u001b[0m             \u001b[0mmsg\u001b[0m \u001b[0;34m=\u001b[0m \u001b[0;34m\"expressions should be passed to the `by_predicate` parameter\"\u001b[0m\u001b[0;34m\u001b[0m\u001b[0;34m\u001b[0m\u001b[0m\n\u001b[1;32m  10223\u001b[0m             \u001b[0;32mraise\u001b[0m \u001b[0mTypeError\u001b[0m\u001b[0;34m(\u001b[0m\u001b[0mmsg\u001b[0m\u001b[0;34m)\u001b[0m\u001b[0;34m\u001b[0m\u001b[0;34m\u001b[0m\u001b[0m\n\u001b[1;32m  10224\u001b[0m \u001b[0;34m\u001b[0m\u001b[0m\n\u001b[1;32m  10225\u001b[0m         \u001b[0;32mif\u001b[0m \u001b[0mindex\u001b[0m \u001b[0;32mis\u001b[0m \u001b[0;32mnot\u001b[0m \u001b[0;32mNone\u001b[0m\u001b[0;34m:\u001b[0m\u001b[0;34m\u001b[0m\u001b[0;34m\u001b[0m\u001b[0m\n\u001b[0;32m> 10226\u001b[0;31m             \u001b[0mrow\u001b[0m \u001b[0;34m=\u001b[0m \u001b[0mself\u001b[0m\u001b[0;34m.\u001b[0m\u001b[0m_df\u001b[0m\u001b[0;34m.\u001b[0m\u001b[0mrow_tuple\u001b[0m\u001b[0;34m(\u001b[0m\u001b[0mindex\u001b[0m\u001b[0;34m)\u001b[0m\u001b[0;34m\u001b[0m\u001b[0;34m\u001b[0m\u001b[0m\n\u001b[0m\u001b[1;32m  10227\u001b[0m             \u001b[0;32mif\u001b[0m \u001b[0mnamed\u001b[0m\u001b[0;34m:\u001b[0m\u001b[0;34m\u001b[0m\u001b[0;34m\u001b[0m\u001b[0m\n\u001b[1;32m  10228\u001b[0m                 \u001b[0;32mreturn\u001b[0m \u001b[0mdict\u001b[0m\u001b[0;34m(\u001b[0m\u001b[0mzip\u001b[0m\u001b[0;34m(\u001b[0m\u001b[0mself\u001b[0m\u001b[0;34m.\u001b[0m\u001b[0mcolumns\u001b[0m\u001b[0;34m,\u001b[0m \u001b[0mrow\u001b[0m\u001b[0;34m)\u001b[0m\u001b[0;34m)\u001b[0m\u001b[0;34m\u001b[0m\u001b[0;34m\u001b[0m\u001b[0m\n\u001b[1;32m  10229\u001b[0m             \u001b[0;32melse\u001b[0m\u001b[0;34m:\u001b[0m\u001b[0;34m\u001b[0m\u001b[0;34m\u001b[0m\u001b[0m\n",
      "\u001b[0;31mOutOfBoundsError\u001b[0m: index 0 is out of bounds for sequence of length 0"
     ]
    }
   ],
   "source": [
    "# ファンダメンタルズ\n",
    "code = 6920\n",
    "print_finance_quote(RawPL.df, FPL.df, code, valuation_date=valuation_date)\n",
    "print()\n",
    "SPL.print_stock_df(code, num=4, valuation_date=valuation_date)\n",
    "\n"
   ]
  },
  {
   "cell_type": "code",
   "execution_count": 30,
   "id": "00f62c89-655d-45a5-983d-94a7e3cdbfa4",
   "metadata": {},
   "outputs": [],
   "source": [
    "#####\n",
    "##### 四半期決算推移\n",
    "#####"
   ]
  },
  {
   "cell_type": "code",
   "execution_count": 31,
   "id": "16c6edf1-3e33-4954-b20d-40d188be4f4a",
   "metadata": {},
   "outputs": [
    {
     "data": {
      "text/html": [
       "<iframe\n",
       "    scrolling=\"no\"\n",
       "    width=\"100%\"\n",
       "    height=\"545px\"\n",
       "    src=\"iframe_figures/figure_31.html\"\n",
       "    frameborder=\"0\"\n",
       "    allowfullscreen\n",
       "></iframe>\n"
      ]
     },
     "metadata": {},
     "output_type": "display_data"
    }
   ],
   "source": [
    "KFIG = KessanFig(code, \"四半期\", end_settlement_date=valuation_date)\n",
    "KFIG.add_trace_profits()\n",
    "KFIG.fig.show()"
   ]
  },
  {
   "cell_type": "code",
   "execution_count": 32,
   "id": "2726d8dc-6ac0-4287-a8ef-f88806b4a693",
   "metadata": {},
   "outputs": [],
   "source": [
    "#####\n",
    "##### 株価推移\n",
    "#####"
   ]
  },
  {
   "cell_type": "code",
   "execution_count": 33,
   "id": "2b10dccf-989f-45dc-8c21-b815b56b26b5",
   "metadata": {},
   "outputs": [],
   "source": [
    "# para\n",
    "delta = relativedelta(days=100)"
   ]
  },
  {
   "cell_type": "code",
   "execution_count": 34,
   "id": "008b25fa-c5ee-4416-b9f6-0ef4ef0cea33",
   "metadata": {},
   "outputs": [
    {
     "name": "stdout",
     "output_type": "stream",
     "text": [
      "決算発表日: 2022-01-31\n"
     ]
    },
    {
     "data": {
      "text/html": [
       "<iframe\n",
       "    scrolling=\"no\"\n",
       "    width=\"100%\"\n",
       "    height=\"620\"\n",
       "    src=\"iframe_figures/figure_34.html\"\n",
       "    frameborder=\"0\"\n",
       "    allowfullscreen\n",
       "></iframe>\n"
      ]
     },
     "metadata": {},
     "output_type": "display_data"
    }
   ],
   "source": [
    "# 日足\n",
    "KPL = KessanPl()\n",
    "df = KPL.df.filter(pl.col(\"announcement_date\")<valuation_date).filter(pl.col(\"code\")==code)\n",
    "ann_date = df[\"announcement_date\"].to_list()[-1]\n",
    "print(f'決算発表日: {ann_date}')\n",
    "start_date = ann_date - delta\n",
    "end_date = ann_date + delta\n",
    "\n",
    "PFIG = PricelistFig(code, RevPl.df, MPL.df, start_date, end_date)\n",
    "# 決算発表日にvlineを引く\n",
    "PFIG.add_vline_announcement_date()\n",
    "PFIG.fig.show()"
   ]
  },
  {
   "cell_type": "code",
   "execution_count": null,
   "id": "388a6444-3eb3-4f83-8f3c-03f6113fa0a3",
   "metadata": {},
   "outputs": [],
   "source": []
  },
  {
   "cell_type": "code",
   "execution_count": null,
   "id": "93411633-1f0e-46e7-a265-673a09ceb379",
   "metadata": {},
   "outputs": [],
   "source": []
  },
  {
   "cell_type": "code",
   "execution_count": null,
   "id": "e33fd01c-83b8-4f4c-9cec-40862fd2d466",
   "metadata": {},
   "outputs": [],
   "source": []
  },
  {
   "cell_type": "code",
   "execution_count": null,
   "id": "7917179b-22a4-4475-8b26-d205d47f6b74",
   "metadata": {},
   "outputs": [],
   "source": []
  },
  {
   "cell_type": "code",
   "execution_count": null,
   "id": "280beb5d-c2d9-41c4-9270-4bad7b472c64",
   "metadata": {},
   "outputs": [],
   "source": []
  }
 ],
 "metadata": {
  "kernelspec": {
   "display_name": "Python 3 (ipykernel)",
   "language": "python",
   "name": "python3"
  },
  "language_info": {
   "codemirror_mode": {
    "name": "ipython",
    "version": 3
   },
   "file_extension": ".py",
   "mimetype": "text/x-python",
   "name": "python",
   "nbconvert_exporter": "python",
   "pygments_lexer": "ipython3",
   "version": "3.12.3"
  }
 },
 "nbformat": 4,
 "nbformat_minor": 5
}
