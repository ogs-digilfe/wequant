{
 "cells": [
  {
   "cell_type": "code",
   "execution_count": 1,
   "id": "2e58805a-4a90-435b-9b4e-b87db34f2fa7",
   "metadata": {},
   "outputs": [],
   "source": [
    "# 四半期の騰落率が大きく動いた銘柄の過去分析行う\n",
    "# 　四半期騰落率過去分析1: すでにある程度業績の良い銘柄の分析\n",
    "# 　四半期騰落率過去分析2: 黒字化銘柄の分析"
   ]
  },
  {
   "cell_type": "code",
   "execution_count": 2,
   "id": "a046eee5-69da-42d4-9b6c-4b960e21cf00",
   "metadata": {},
   "outputs": [],
   "source": [
    "# 読み込みファイルパスの設定とimportしたいmoduleパス(pythonパス)の設定\n",
    "from pathlib import Path\n",
    "import os, sys\n",
    "\n",
    "CURRENT_DIR = Path(os.getcwd())\n",
    "PJ_DIR = CURRENT_DIR.parent.parent\n",
    "LIB_DIR = PJ_DIR / \"lib\"\n",
    "DATA_DIR = PJ_DIR / \"data\" \n",
    "\n",
    "sys.path.append(str(LIB_DIR))\n",
    "\n",
    "# notebook内で利用するmoduleのimport\n",
    "from lib_dataprocess import KessanPl, PricelistFig, PricelistPl, MeigaralistPl\n",
    "from lib_dataprocess import ShikihoPl, FinancequotePl, print_finance_quote, PricelistFig, KessanFig, IndexPricelistPl\n",
    "import polars as pl\n",
    "from datetime import date\n",
    "from dateutil.relativedelta import relativedelta\n",
    "\n",
    "RevPl = PricelistPl(\"reviced_pricelist.parquet\")\n",
    "RawPL = PricelistPl(\"raw_pricelist.parquet\")\n",
    "MPL = MeigaralistPl()\n",
    "SPL = ShikihoPl()"
   ]
  },
  {
   "cell_type": "code",
   "execution_count": 3,
   "id": "6e15db76-0d76-4581-8792-3fa9b5ea3c31",
   "metadata": {},
   "outputs": [],
   "source": [
    "#####\n",
    "##### 評価日における四半期騰落率一覧\n",
    "#####"
   ]
  },
  {
   "cell_type": "code",
   "execution_count": 4,
   "id": "47c058a9-0ebc-4ae3-bd97-67117f0c030b",
   "metadata": {},
   "outputs": [
    {
     "data": {
      "text/html": [
       "<div><style>\n",
       ".dataframe > thead > tr,\n",
       ".dataframe > tbody > tr {\n",
       "  text-align: right;\n",
       "  white-space: pre-wrap;\n",
       "}\n",
       "</style>\n",
       "<small>shape: (3_763, 5)</small><table border=\"1\" class=\"dataframe\"><thead><tr><th>code</th><th>start_date</th><th>end_date</th><th>updown_rate</th><th>nh_updown_rate</th></tr><tr><td>i64</td><td>date</td><td>date</td><td>f64</td><td>f64</td></tr></thead><tbody><tr><td>1301</td><td>2024-05-11</td><td>2024-08-05</td><td>-8.97</td><td>-17.67</td></tr><tr><td>1332</td><td>2024-05-15</td><td>2024-08-06</td><td>-12.67</td><td>-10.01</td></tr><tr><td>1333</td><td>2024-05-08</td><td>2024-08-05</td><td>-11.23</td><td>-18.67</td></tr><tr><td>1375</td><td>2024-05-10</td><td>2024-08-08</td><td>-0.41</td><td>-9.2</td></tr><tr><td>1376</td><td>2024-07-11</td><td>2024-10-04</td><td>-3.01</td><td>-8.76</td></tr><tr><td>&hellip;</td><td>&hellip;</td><td>&hellip;</td><td>&hellip;</td><td>&hellip;</td></tr><tr><td>9993</td><td>2024-07-12</td><td>2024-10-10</td><td>-5.32</td><td>-5.49</td></tr><tr><td>9994</td><td>2024-05-16</td><td>2024-08-09</td><td>-3.61</td><td>-9.37</td></tr><tr><td>9995</td><td>2024-05-08</td><td>2024-08-01</td><td>0.27</td><td>-1.43</td></tr><tr><td>9996</td><td>2024-05-14</td><td>2024-08-09</td><td>-9.0</td><td>-8.52</td></tr><tr><td>9997</td><td>2024-08-01</td><td>2024-10-31</td><td>-5.43</td><td>0.77</td></tr></tbody></table></div>"
      ],
      "text/plain": [
       "shape: (3_763, 5)\n",
       "┌──────┬────────────┬────────────┬─────────────┬────────────────┐\n",
       "│ code ┆ start_date ┆ end_date   ┆ updown_rate ┆ nh_updown_rate │\n",
       "│ ---  ┆ ---        ┆ ---        ┆ ---         ┆ ---            │\n",
       "│ i64  ┆ date       ┆ date       ┆ f64         ┆ f64            │\n",
       "╞══════╪════════════╪════════════╪═════════════╪════════════════╡\n",
       "│ 1301 ┆ 2024-05-11 ┆ 2024-08-05 ┆ -8.97       ┆ -17.67         │\n",
       "│ 1332 ┆ 2024-05-15 ┆ 2024-08-06 ┆ -12.67      ┆ -10.01         │\n",
       "│ 1333 ┆ 2024-05-08 ┆ 2024-08-05 ┆ -11.23      ┆ -18.67         │\n",
       "│ 1375 ┆ 2024-05-10 ┆ 2024-08-08 ┆ -0.41       ┆ -9.2           │\n",
       "│ 1376 ┆ 2024-07-11 ┆ 2024-10-04 ┆ -3.01       ┆ -8.76          │\n",
       "│ …    ┆ …          ┆ …          ┆ …           ┆ …              │\n",
       "│ 9993 ┆ 2024-07-12 ┆ 2024-10-10 ┆ -5.32       ┆ -5.49          │\n",
       "│ 9994 ┆ 2024-05-16 ┆ 2024-08-09 ┆ -3.61       ┆ -9.37          │\n",
       "│ 9995 ┆ 2024-05-08 ┆ 2024-08-01 ┆ 0.27        ┆ -1.43          │\n",
       "│ 9996 ┆ 2024-05-14 ┆ 2024-08-09 ┆ -9.0        ┆ -8.52          │\n",
       "│ 9997 ┆ 2024-08-01 ┆ 2024-10-31 ┆ -5.43       ┆ 0.77           │\n",
       "└──────┴────────────┴────────────┴─────────────┴────────────────┘"
      ]
     },
     "execution_count": 4,
     "metadata": {},
     "output_type": "execute_result"
    }
   ],
   "source": [
    "valuation_date = date(2024, 8, 1)\n",
    "\n",
    "KPl = KessanPl()\n",
    "updown_rate_df = KPl.get_quater_settlement_price_updown_rate(valuation_date, \"nh225\")\n",
    "updown_rate_df"
   ]
  },
  {
   "cell_type": "code",
   "execution_count": 5,
   "id": "eb375459-fd1c-4564-a203-fd470ba94ad1",
   "metadata": {},
   "outputs": [],
   "source": [
    "#####\n",
    "##### valuation_date時点で発表済四半期決算の業績成長率一覧(growth_rate_df)の作成\n",
    "#####"
   ]
  },
  {
   "cell_type": "code",
   "execution_count": 6,
   "id": "0de74579-20ce-46d2-838c-2e495f20f2ca",
   "metadata": {},
   "outputs": [
    {
     "data": {
      "text/html": [
       "<div><style>\n",
       ".dataframe > thead > tr,\n",
       ".dataframe > tbody > tr {\n",
       "  text-align: right;\n",
       "  white-space: pre-wrap;\n",
       "}\n",
       "</style>\n",
       "<small>shape: (3_746, 7)</small><table border=\"1\" class=\"dataframe\"><thead><tr><th>code</th><th>評価日発表済最新四半期決算</th><th>announcement_date</th><th>sales</th><th>operating_income</th><th>sales_growthrate</th><th>diff_operating_income_growthrate</th></tr><tr><td>i64</td><td>date</td><td>date</td><td>i64</td><td>i64</td><td>f64</td><td>f64</td></tr></thead><tbody><tr><td>1301</td><td>2024-03-31</td><td>2024-05-10</td><td>59990</td><td>1857</td><td>2.1</td><td>155.0</td></tr><tr><td>1332</td><td>2024-03-31</td><td>2024-05-14</td><td>205894</td><td>3308</td><td>8.5</td><td>13.6</td></tr><tr><td>1333</td><td>2024-03-31</td><td>2024-05-07</td><td>243328</td><td>1176</td><td>1.6</td><td>-37.3</td></tr><tr><td>1375</td><td>2024-03-31</td><td>2024-05-09</td><td>11807</td><td>-803</td><td>21.1</td><td>-5.0</td></tr><tr><td>1376</td><td>2024-05-31</td><td>2024-07-10</td><td>23224</td><td>1150</td><td>1.9</td><td>-16.0</td></tr><tr><td>&hellip;</td><td>&hellip;</td><td>&hellip;</td><td>&hellip;</td><td>&hellip;</td><td>&hellip;</td><td>&hellip;</td></tr><tr><td>9993</td><td>2024-05-31</td><td>2024-07-11</td><td>24969</td><td>-408</td><td>1.8</td><td>-108.5</td></tr><tr><td>9994</td><td>2024-03-31</td><td>2024-05-15</td><td>36543</td><td>1082</td><td>3.1</td><td>63.8</td></tr><tr><td>9995</td><td>2024-03-31</td><td>2024-05-07</td><td>18708</td><td>63</td><td>7.7</td><td>0.1</td></tr><tr><td>9996</td><td>2024-03-31</td><td>2024-05-13</td><td>11286</td><td>202</td><td>5.5</td><td>16.8</td></tr><tr><td>9997</td><td>2024-06-30</td><td>2024-07-31</td><td>51368</td><td>982</td><td>-0.9</td><td>36.7</td></tr></tbody></table></div>"
      ],
      "text/plain": [
       "shape: (3_746, 7)\n",
       "┌──────┬────────────────┬────────────────┬────────┬────────────────┬───────────────┬───────────────┐\n",
       "│ code ┆ 評価日発表済最 ┆ announcement_d ┆ sales  ┆ operating_inco ┆ sales_growthr ┆ diff_operatin │\n",
       "│ ---  ┆ 新四半期決算   ┆ ate            ┆ ---    ┆ me             ┆ ate           ┆ g_income_grow │\n",
       "│ i64  ┆ ---            ┆ ---            ┆ i64    ┆ ---            ┆ ---           ┆ thra…         │\n",
       "│      ┆ date           ┆ date           ┆        ┆ i64            ┆ f64           ┆ ---           │\n",
       "│      ┆                ┆                ┆        ┆                ┆               ┆ f64           │\n",
       "╞══════╪════════════════╪════════════════╪════════╪════════════════╪═══════════════╪═══════════════╡\n",
       "│ 1301 ┆ 2024-03-31     ┆ 2024-05-10     ┆ 59990  ┆ 1857           ┆ 2.1           ┆ 155.0         │\n",
       "│ 1332 ┆ 2024-03-31     ┆ 2024-05-14     ┆ 205894 ┆ 3308           ┆ 8.5           ┆ 13.6          │\n",
       "│ 1333 ┆ 2024-03-31     ┆ 2024-05-07     ┆ 243328 ┆ 1176           ┆ 1.6           ┆ -37.3         │\n",
       "│ 1375 ┆ 2024-03-31     ┆ 2024-05-09     ┆ 11807  ┆ -803           ┆ 21.1          ┆ -5.0          │\n",
       "│ 1376 ┆ 2024-05-31     ┆ 2024-07-10     ┆ 23224  ┆ 1150           ┆ 1.9           ┆ -16.0         │\n",
       "│ …    ┆ …              ┆ …              ┆ …      ┆ …              ┆ …             ┆ …             │\n",
       "│ 9993 ┆ 2024-05-31     ┆ 2024-07-11     ┆ 24969  ┆ -408           ┆ 1.8           ┆ -108.5        │\n",
       "│ 9994 ┆ 2024-03-31     ┆ 2024-05-15     ┆ 36543  ┆ 1082           ┆ 3.1           ┆ 63.8          │\n",
       "│ 9995 ┆ 2024-03-31     ┆ 2024-05-07     ┆ 18708  ┆ 63             ┆ 7.7           ┆ 0.1           │\n",
       "│ 9996 ┆ 2024-03-31     ┆ 2024-05-13     ┆ 11286  ┆ 202            ┆ 5.5           ┆ 16.8          │\n",
       "│ 9997 ┆ 2024-06-30     ┆ 2024-07-31     ┆ 51368  ┆ 982            ┆ -0.9          ┆ 36.7          │\n",
       "└──────┴────────────────┴────────────────┴────────┴────────────────┴───────────────┴───────────────┘"
      ]
     },
     "execution_count": 6,
     "metadata": {},
     "output_type": "execute_result"
    }
   ],
   "source": [
    "KPL1 = KessanPl()\n",
    "KPL2 = KessanPl()\n",
    "KPL1.with_columns_growthrate_lastyear()\n",
    "KPL2.with_columns_diff_growthrate()\n",
    "KPL1.df = KPL1.df.filter(pl.col(\"settlement_type\")==\"四\")\n",
    "KPL2.df = KPL2.df.filter(pl.col(\"settlement_type\")==\"四\")\n",
    "df = KPL1.df.join(KPL2.df, on=[\"code\", \"settlement_date\"], how=\"left\")\n",
    "KPL3 = KessanPl(df)\n",
    "df =KPL3.get_latest_quater_settlements(valuation_date)\n",
    "df = df.select([\n",
    "    \"code\", \"settlement_date\", \"announcement_date\", \"sales\", \"operating_income\", \"sales_growthrate\", \"diff_operating_income_growthrate\"\n",
    "])\n",
    "df = df.rename({\"settlement_date\": \"評価日発表済最新四半期決算\"})\n",
    "growth_rate_df = df\n",
    "growth_rate_df"
   ]
  },
  {
   "cell_type": "code",
   "execution_count": 7,
   "id": "d8a4a11c-4f36-4f73-bb04-2dea37a97830",
   "metadata": {},
   "outputs": [],
   "source": [
    "#####\n",
    "##### 評価dfの作成：　updown_rate_dfとgrowth_rate_dfをjoinして必要な列を残す\n",
    "#####"
   ]
  },
  {
   "cell_type": "code",
   "execution_count": 12,
   "id": "4f0329ac-d1f1-4388-b9ee-9c1eb5b57fd9",
   "metadata": {},
   "outputs": [
    {
     "data": {
      "text/html": [
       "<div><style>\n",
       ".dataframe > thead > tr,\n",
       ".dataframe > tbody > tr {\n",
       "  text-align: right;\n",
       "  white-space: pre-wrap;\n",
       "}\n",
       "</style>\n",
       "<small>shape: (3_746, 10)</small><table border=\"1\" class=\"dataframe\"><thead><tr><th>code</th><th>sales</th><th>operating_income</th><th>営業利益率</th><th>sales_growthrate</th><th>diff_operating_income_growthrate</th><th>start_date</th><th>end_date</th><th>updown_rate</th><th>nh_updown_rate</th></tr><tr><td>i64</td><td>i64</td><td>i64</td><td>f64</td><td>f64</td><td>f64</td><td>date</td><td>date</td><td>f64</td><td>f64</td></tr></thead><tbody><tr><td>1301</td><td>59990</td><td>1857</td><td>3.1</td><td>2.1</td><td>155.0</td><td>2024-05-11</td><td>2024-08-05</td><td>-8.97</td><td>-17.67</td></tr><tr><td>1332</td><td>205894</td><td>3308</td><td>1.61</td><td>8.5</td><td>13.6</td><td>2024-05-15</td><td>2024-08-06</td><td>-12.67</td><td>-10.01</td></tr><tr><td>1333</td><td>243328</td><td>1176</td><td>0.48</td><td>1.6</td><td>-37.3</td><td>2024-05-08</td><td>2024-08-05</td><td>-11.23</td><td>-18.67</td></tr><tr><td>1375</td><td>11807</td><td>-803</td><td>-6.8</td><td>21.1</td><td>-5.0</td><td>2024-05-10</td><td>2024-08-08</td><td>-0.41</td><td>-9.2</td></tr><tr><td>1376</td><td>23224</td><td>1150</td><td>4.95</td><td>1.9</td><td>-16.0</td><td>2024-07-11</td><td>2024-10-04</td><td>-3.01</td><td>-8.76</td></tr><tr><td>&hellip;</td><td>&hellip;</td><td>&hellip;</td><td>&hellip;</td><td>&hellip;</td><td>&hellip;</td><td>&hellip;</td><td>&hellip;</td><td>&hellip;</td><td>&hellip;</td></tr><tr><td>9993</td><td>24969</td><td>-408</td><td>-1.63</td><td>1.8</td><td>-108.5</td><td>2024-07-12</td><td>2024-10-10</td><td>-5.32</td><td>-5.49</td></tr><tr><td>9994</td><td>36543</td><td>1082</td><td>2.96</td><td>3.1</td><td>63.8</td><td>2024-05-16</td><td>2024-08-09</td><td>-3.61</td><td>-9.37</td></tr><tr><td>9995</td><td>18708</td><td>63</td><td>0.34</td><td>7.7</td><td>0.1</td><td>2024-05-08</td><td>2024-08-01</td><td>0.27</td><td>-1.43</td></tr><tr><td>9996</td><td>11286</td><td>202</td><td>1.79</td><td>5.5</td><td>16.8</td><td>2024-05-14</td><td>2024-08-09</td><td>-9.0</td><td>-8.52</td></tr><tr><td>9997</td><td>51368</td><td>982</td><td>1.91</td><td>-0.9</td><td>36.7</td><td>2024-08-01</td><td>2024-10-31</td><td>-5.43</td><td>0.77</td></tr></tbody></table></div>"
      ],
      "text/plain": [
       "shape: (3_746, 10)\n",
       "┌──────┬────────┬─────────────┬────────────┬───┬────────────┬────────────┬────────────┬────────────┐\n",
       "│ code ┆ sales  ┆ operating_i ┆ 営業利益率 ┆ … ┆ start_date ┆ end_date   ┆ updown_rat ┆ nh_updown_ │\n",
       "│ ---  ┆ ---    ┆ ncome       ┆ ---        ┆   ┆ ---        ┆ ---        ┆ e          ┆ rate       │\n",
       "│ i64  ┆ i64    ┆ ---         ┆ f64        ┆   ┆ date       ┆ date       ┆ ---        ┆ ---        │\n",
       "│      ┆        ┆ i64         ┆            ┆   ┆            ┆            ┆ f64        ┆ f64        │\n",
       "╞══════╪════════╪═════════════╪════════════╪═══╪════════════╪════════════╪════════════╪════════════╡\n",
       "│ 1301 ┆ 59990  ┆ 1857        ┆ 3.1        ┆ … ┆ 2024-05-11 ┆ 2024-08-05 ┆ -8.97      ┆ -17.67     │\n",
       "│ 1332 ┆ 205894 ┆ 3308        ┆ 1.61       ┆ … ┆ 2024-05-15 ┆ 2024-08-06 ┆ -12.67     ┆ -10.01     │\n",
       "│ 1333 ┆ 243328 ┆ 1176        ┆ 0.48       ┆ … ┆ 2024-05-08 ┆ 2024-08-05 ┆ -11.23     ┆ -18.67     │\n",
       "│ 1375 ┆ 11807  ┆ -803        ┆ -6.8       ┆ … ┆ 2024-05-10 ┆ 2024-08-08 ┆ -0.41      ┆ -9.2       │\n",
       "│ 1376 ┆ 23224  ┆ 1150        ┆ 4.95       ┆ … ┆ 2024-07-11 ┆ 2024-10-04 ┆ -3.01      ┆ -8.76      │\n",
       "│ …    ┆ …      ┆ …           ┆ …          ┆ … ┆ …          ┆ …          ┆ …          ┆ …          │\n",
       "│ 9993 ┆ 24969  ┆ -408        ┆ -1.63      ┆ … ┆ 2024-07-12 ┆ 2024-10-10 ┆ -5.32      ┆ -5.49      │\n",
       "│ 9994 ┆ 36543  ┆ 1082        ┆ 2.96       ┆ … ┆ 2024-05-16 ┆ 2024-08-09 ┆ -3.61      ┆ -9.37      │\n",
       "│ 9995 ┆ 18708  ┆ 63          ┆ 0.34       ┆ … ┆ 2024-05-08 ┆ 2024-08-01 ┆ 0.27       ┆ -1.43      │\n",
       "│ 9996 ┆ 11286  ┆ 202         ┆ 1.79       ┆ … ┆ 2024-05-14 ┆ 2024-08-09 ┆ -9.0       ┆ -8.52      │\n",
       "│ 9997 ┆ 51368  ┆ 982         ┆ 1.91       ┆ … ┆ 2024-08-01 ┆ 2024-10-31 ┆ -5.43      ┆ 0.77       │\n",
       "└──────┴────────┴─────────────┴────────────┴───┴────────────┴────────────┴────────────┴────────────┘"
      ]
     },
     "execution_count": 12,
     "metadata": {},
     "output_type": "execute_result"
    }
   ],
   "source": [
    "df = growth_rate_df.join(updown_rate_df, on=[\"code\"], how=\"left\")\n",
    "df = df.with_columns([\n",
    "    (pl.lit(100) * pl.col(\"operating_income\") / pl.col(\"sales\")).round(2).alias(\"営業利益率\")\n",
    "])\n",
    "df = df.select([\n",
    "    \"code\",\n",
    "    \"sales\",\n",
    "    \"operating_income\",\n",
    "    \"営業利益率\",\n",
    "    \"sales_growthrate\",\n",
    "    \"diff_operating_income_growthrate\",\n",
    "    \"start_date\",\n",
    "    \"end_date\",\n",
    "    \"updown_rate\",\n",
    "    \"nh_updown_rate\"\t\n",
    "])\n",
    "evaluated_df = df\n",
    "evaluated_df"
   ]
  },
  {
   "cell_type": "code",
   "execution_count": 9,
   "id": "5983f502-6d9c-4441-a14d-fb7f63a2b0be",
   "metadata": {},
   "outputs": [],
   "source": [
    "#####\n",
    "##### filter\n",
    "#####"
   ]
  },
  {
   "cell_type": "code",
   "execution_count": 24,
   "id": "3e7f5351-8180-4ba4-8bba-1d80a7ca3c88",
   "metadata": {},
   "outputs": [
    {
     "data": {
      "text/html": [
       "<div><style>\n",
       ".dataframe > thead > tr,\n",
       ".dataframe > tbody > tr {\n",
       "  text-align: right;\n",
       "  white-space: pre-wrap;\n",
       "}\n",
       "</style>\n",
       "<small>shape: (262, 10)</small><table border=\"1\" class=\"dataframe\"><thead><tr><th>code</th><th>sales</th><th>operating_income</th><th>営業利益率</th><th>sales_growthrate</th><th>diff_operating_income_growthrate</th><th>start_date</th><th>end_date</th><th>updown_rate</th><th>nh_updown_rate</th></tr><tr><td>i64</td><td>i64</td><td>i64</td><td>f64</td><td>f64</td><td>f64</td><td>date</td><td>date</td><td>f64</td><td>f64</td></tr></thead><tbody><tr><td>1419</td><td>95225</td><td>11127</td><td>11.68</td><td>15.8</td><td>42.8</td><td>2024-07-12</td><td>2024-10-11</td><td>-7.47</td><td>-4.95</td></tr><tr><td>1435</td><td>2758</td><td>599</td><td>21.72</td><td>27.0</td><td>62.0</td><td>2024-05-14</td><td>2024-08-09</td><td>-14.29</td><td>-8.52</td></tr><tr><td>1438</td><td>1299</td><td>172</td><td>13.24</td><td>11.9</td><td>37.7</td><td>2024-05-11</td><td>2024-08-09</td><td>-16.91</td><td>-8.34</td></tr><tr><td>1805</td><td>38093</td><td>2286</td><td>6.0</td><td>11.1</td><td>31.9</td><td>2024-05-16</td><td>2024-08-09</td><td>-7.99</td><td>-9.37</td></tr><tr><td>1820</td><td>106790</td><td>3950</td><td>3.7</td><td>12.8</td><td>27.1</td><td>2024-05-14</td><td>2024-08-06</td><td>-0.78</td><td>-9.44</td></tr><tr><td>&hellip;</td><td>&hellip;</td><td>&hellip;</td><td>&hellip;</td><td>&hellip;</td><td>&hellip;</td><td>&hellip;</td><td>&hellip;</td><td>&hellip;</td><td>&hellip;</td></tr><tr><td>9755</td><td>18211</td><td>2017</td><td>11.08</td><td>16.3</td><td>28.8</td><td>2024-05-15</td><td>2024-08-09</td><td>-15.83</td><td>-9.1</td></tr><tr><td>9766</td><td>90039</td><td>25145</td><td>27.93</td><td>24.0</td><td>45.9</td><td>2024-05-10</td><td>2024-08-01</td><td>1.69</td><td>-0.61</td></tr><tr><td>9853</td><td>1884</td><td>6</td><td>0.32</td><td>11.1</td><td>36.2</td><td>2024-05-11</td><td>2024-08-08</td><td>-2.74</td><td>-8.85</td></tr><tr><td>9889</td><td>18118</td><td>1536</td><td>8.48</td><td>10.8</td><td>22.6</td><td>2024-08-01</td><td>2024-10-31</td><td>5.6</td><td>0.77</td></tr><tr><td>9962</td><td>99527</td><td>11828</td><td>11.88</td><td>10.8</td><td>29.3</td><td>2024-07-27</td><td>2024-10-25</td><td>-10.83</td><td>-0.59</td></tr></tbody></table></div>"
      ],
      "text/plain": [
       "shape: (262, 10)\n",
       "┌──────┬────────┬─────────────┬────────────┬───┬────────────┬────────────┬────────────┬────────────┐\n",
       "│ code ┆ sales  ┆ operating_i ┆ 営業利益率 ┆ … ┆ start_date ┆ end_date   ┆ updown_rat ┆ nh_updown_ │\n",
       "│ ---  ┆ ---    ┆ ncome       ┆ ---        ┆   ┆ ---        ┆ ---        ┆ e          ┆ rate       │\n",
       "│ i64  ┆ i64    ┆ ---         ┆ f64        ┆   ┆ date       ┆ date       ┆ ---        ┆ ---        │\n",
       "│      ┆        ┆ i64         ┆            ┆   ┆            ┆            ┆ f64        ┆ f64        │\n",
       "╞══════╪════════╪═════════════╪════════════╪═══╪════════════╪════════════╪════════════╪════════════╡\n",
       "│ 1419 ┆ 95225  ┆ 11127       ┆ 11.68      ┆ … ┆ 2024-07-12 ┆ 2024-10-11 ┆ -7.47      ┆ -4.95      │\n",
       "│ 1435 ┆ 2758   ┆ 599         ┆ 21.72      ┆ … ┆ 2024-05-14 ┆ 2024-08-09 ┆ -14.29     ┆ -8.52      │\n",
       "│ 1438 ┆ 1299   ┆ 172         ┆ 13.24      ┆ … ┆ 2024-05-11 ┆ 2024-08-09 ┆ -16.91     ┆ -8.34      │\n",
       "│ 1805 ┆ 38093  ┆ 2286        ┆ 6.0        ┆ … ┆ 2024-05-16 ┆ 2024-08-09 ┆ -7.99      ┆ -9.37      │\n",
       "│ 1820 ┆ 106790 ┆ 3950        ┆ 3.7        ┆ … ┆ 2024-05-14 ┆ 2024-08-06 ┆ -0.78      ┆ -9.44      │\n",
       "│ …    ┆ …      ┆ …           ┆ …          ┆ … ┆ …          ┆ …          ┆ …          ┆ …          │\n",
       "│ 9755 ┆ 18211  ┆ 2017        ┆ 11.08      ┆ … ┆ 2024-05-15 ┆ 2024-08-09 ┆ -15.83     ┆ -9.1       │\n",
       "│ 9766 ┆ 90039  ┆ 25145       ┆ 27.93      ┆ … ┆ 2024-05-10 ┆ 2024-08-01 ┆ 1.69       ┆ -0.61      │\n",
       "│ 9853 ┆ 1884   ┆ 6           ┆ 0.32       ┆ … ┆ 2024-05-11 ┆ 2024-08-08 ┆ -2.74      ┆ -8.85      │\n",
       "│ 9889 ┆ 18118  ┆ 1536        ┆ 8.48       ┆ … ┆ 2024-08-01 ┆ 2024-10-31 ┆ 5.6        ┆ 0.77       │\n",
       "│ 9962 ┆ 99527  ┆ 11828       ┆ 11.88      ┆ … ┆ 2024-07-27 ┆ 2024-10-25 ┆ -10.83     ┆ -0.59      │\n",
       "└──────┴────────┴─────────────┴────────────┴───┴────────────┴────────────┴────────────┴────────────┘"
      ]
     },
     "execution_count": 24,
     "metadata": {},
     "output_type": "execute_result"
    }
   ],
   "source": [
    "# 列フィルタパラメータ\n",
    "min_sales = 0\n",
    "min_operating_income = 0\n",
    "min_営業利益率 = 0\n",
    "min_sales_growthrate = 10\n",
    "\n",
    "r1 = 0.8\n",
    "r2 = 1.5\n",
    "\n",
    "# フィルタ\n",
    "df = evaluated_df\n",
    "# 列フィルタ\n",
    "df = df.filter(pl.col(\"sales\") >= min_sales)\\\n",
    "    .filter(pl.col(\"operating_income\") >= min_operating_income)\\\n",
    "    .filter(pl.col(\"営業利益率\") >= min_営業利益率)\\\n",
    "    .filter(pl.col(\"sales_growthrate\") >= min_sales_growthrate)\n",
    "# 列間フィルタ\n",
    "df = df.filter((pl.lit(r1) * pl.col(\"営業利益率\")) <= pl.col(\"sales_growthrate\"))\\\n",
    "    .filter((pl.lit(r2) * pl.col(\"sales_growthrate\")) <= pl.col(\"diff_operating_income_growthrate\")) \n",
    "target_df = df\n",
    "target_df"
   ]
  },
  {
   "cell_type": "code",
   "execution_count": 25,
   "id": "11d5718a-5ae3-4d6f-b0df-63aee948748d",
   "metadata": {},
   "outputs": [],
   "source": [
    "#####\n",
    "##### 統計結果出力\n",
    "#####"
   ]
  },
  {
   "cell_type": "code",
   "execution_count": 26,
   "id": "2495c972-4583-48ca-9ed2-33ad7f1624ca",
   "metadata": {},
   "outputs": [
    {
     "name": "stdout",
     "output_type": "stream",
     "text": [
      "##### 全体\n",
      "総銘柄数：3746\n",
      "上昇銘柄数:921／下落銘柄数:2825／上昇率:(24.6%)\n",
      "全銘柄平均騰落率:-6.34%\n",
      "日経225平均騰落率:-6.14%\n",
      "\n",
      "##### 抽出銘柄\n",
      "総銘柄数：262\n",
      "上昇銘柄数:76／下落銘柄数:186／上昇率:(29.0%)\n",
      "抽出銘柄平均騰落率:-6.89%\n",
      "日経225平均騰落率:-6.26%\n"
     ]
    }
   ],
   "source": [
    "df = evaluated_df\n",
    "print(\"##### 全体\")\n",
    "print(f'総銘柄数：{df.shape[0]}')\n",
    "a = df.filter(pl.col(\"updown_rate\")>0).shape[0]\n",
    "b = df.filter(pl.col(\"updown_rate\")<=0).shape[0]\n",
    "uprate = round(100*a/(a+b), 1)\n",
    "print(f'上昇銘柄数:{a}／下落銘柄数:{b}／上昇率:({uprate}%)')\n",
    "print(f'全銘柄平均騰落率:{round(df[\"updown_rate\"].mean(), 2)}%')\n",
    "print(f'日経225平均騰落率:{round(df[\"nh_updown_rate\"].mean(), 2)}%')\n",
    "print()\n",
    "\n",
    "df = target_df\n",
    "print(\"##### 抽出銘柄\")\n",
    "print(f'総銘柄数：{df.shape[0]}')\n",
    "a = df.filter(pl.col(\"updown_rate\")>0).shape[0]\n",
    "b = df.filter(pl.col(\"updown_rate\")<=0).shape[0]\n",
    "uprate = round(100*a/(a+b), 1)\n",
    "print(f'上昇銘柄数:{a}／下落銘柄数:{b}／上昇率:({uprate}%)')\n",
    "print(f'抽出銘柄平均騰落率:{round(df[\"updown_rate\"].mean(), 2)}%')\n",
    "print(f'日経225平均騰落率:{round(df[\"nh_updown_rate\"].mean(), 2)}%')"
   ]
  },
  {
   "cell_type": "code",
   "execution_count": 27,
   "id": "d35f2054-3203-4124-8cf3-3b1eee45b664",
   "metadata": {},
   "outputs": [],
   "source": [
    "#####\n",
    "##### 個別銘柄の分析\n",
    "#####"
   ]
  },
  {
   "cell_type": "code",
   "execution_count": 29,
   "id": "ce892ad3-3e6d-4975-b0d1-1ea77fdd98c5",
   "metadata": {},
   "outputs": [
    {
     "name": "stdout",
     "output_type": "stream",
     "text": [
      "1419(タマホーム)の四季報データ履歴\n",
      "\n",
      "発行日: 2024年06月14日\n",
      "【上向く】\n",
      "  25年5月期は主力の注文住宅販売が引き渡し棟数軟調続く。ただ、価格転嫁浸透して粗利率改善。強化中の分譲住宅販売やリフォーム積み増す。積極投入する販促費増こなし営業益上向く。増配余地。\n",
      "【分譲住宅】\n",
      "  事業拡大に向け、全国11カ所の土地買取センターで人員増強や地場不動産会社との関係性構築を進める。プリカなど進呈する展示場集客策続けて需要喚起。\n",
      "\n",
      "発行日: 2024年03月16日\n",
      "【一転減益】\n",
      "  分譲住宅販売棟数は前期比1割増の1400戸想定。ただ、柱の注文住宅の販売棟数減少が想定超。後半の販促強化でも補えず。前号から一転営業減益。25年5月期は注文住宅持ち直し利益上向く。\n",
      "【人員増】\n",
      "  リフォーム事業の人員増など体制強化。定期点検などで顧客との関係構築、提案活動推進して事業成長図る。分譲住宅は専門ノウハウ持つ人材採用を進める。\n",
      "\n",
      "発行日: 2023年12月15日\n",
      "【連続増益】\n",
      "  柱の注文住宅は序盤から販売棟数減も、販促強化で後半挽回。値上げ浸透し採算改善。分譲住宅販売棟数は前期比1割増の1400戸前提。リフォームやオフィス区分所有権販売堅調。連続営業増益。\n",
      "【喚起策】\n",
      "  23年10～11月に展示場来場者へプリペイドカード進呈キャンペーン実施。潜在客と接点増で低調な需要喚起。分譲は地方中核都市軸に小規模用地仕入れ強化。\n",
      "\n",
      "発行日: 2023年09月15日\n",
      "【連続増配】\n",
      "  柱の注文住宅が販売棟数減ながら値上げ浸透して利益率向上。仕入れ強化中の分譲住宅は販売棟数が前期比1割超増の1400戸公算。オフィス区分所有権販売順調。販促費増こなして連続最高純益。\n",
      "【重点】\n",
      "  分譲住宅は資金回転率重視し10区画以下の小規模分譲地中心に仕入れ拡大、首都圏や関西軸に深耕。営業拠点は関東や東海の空白エリアへの出店を積極化。\n"
     ]
    }
   ],
   "source": [
    "# 四季報\n",
    "code = 1419\n",
    "SPL.print_stock_df(code, num=4, valuation_date=valuation_date)"
   ]
  },
  {
   "cell_type": "code",
   "execution_count": 30,
   "id": "c2bfe499-79a5-4fd6-a839-9d7a2c86edb8",
   "metadata": {},
   "outputs": [],
   "source": [
    "#####\n",
    "##### 四半期決算推移\n",
    "#####"
   ]
  },
  {
   "cell_type": "code",
   "execution_count": 31,
   "id": "e5628663-46c3-43a7-b15e-b0da9c64a78a",
   "metadata": {},
   "outputs": [
    {
     "data": {
      "text/html": [
       "<iframe\n",
       "    scrolling=\"no\"\n",
       "    width=\"100%\"\n",
       "    height=\"545px\"\n",
       "    src=\"iframe_figures/figure_31.html\"\n",
       "    frameborder=\"0\"\n",
       "    allowfullscreen\n",
       "></iframe>\n"
      ]
     },
     "metadata": {},
     "output_type": "display_data"
    }
   ],
   "source": [
    "KFIG = KessanFig(code, \"四半期\", end_settlement_date=valuation_date)\n",
    "KFIG.add_trace_profits()\n",
    "KFIG.fig.show()"
   ]
  },
  {
   "cell_type": "code",
   "execution_count": 32,
   "id": "6ef14aa9-23cb-40c8-be5a-e3048d554ebe",
   "metadata": {},
   "outputs": [],
   "source": [
    "#####\n",
    "##### 株価推移\n",
    "#####"
   ]
  },
  {
   "cell_type": "code",
   "execution_count": 33,
   "id": "89efd593-d648-4d58-af66-fca0ed1844cf",
   "metadata": {},
   "outputs": [
    {
     "name": "stdout",
     "output_type": "stream",
     "text": [
      "決算発表日: 2024-07-11\n"
     ]
    },
    {
     "data": {
      "text/html": [
       "<iframe\n",
       "    scrolling=\"no\"\n",
       "    width=\"100%\"\n",
       "    height=\"620\"\n",
       "    src=\"iframe_figures/figure_33.html\"\n",
       "    frameborder=\"0\"\n",
       "    allowfullscreen\n",
       "></iframe>\n"
      ]
     },
     "metadata": {},
     "output_type": "display_data"
    }
   ],
   "source": [
    "# 日足\n",
    "delta = relativedelta(days=100)\n",
    "\n",
    "KPL = KessanPl()\n",
    "df = KPL.df.filter(pl.col(\"announcement_date\")<valuation_date).filter(pl.col(\"code\")==code)\n",
    "ann_date = df[\"announcement_date\"].to_list()[-1]\n",
    "print(f'決算発表日: {ann_date}')\n",
    "start_date = ann_date - delta\n",
    "end_date = ann_date + delta\n",
    "\n",
    "PFIG = PricelistFig(code, RevPl.df, MPL.df, start_date, end_date)\n",
    "# 決算発表日にvlineを引く\n",
    "PFIG.add_vline_announcement_date()\n",
    "PFIG.fig.show()"
   ]
  },
  {
   "cell_type": "code",
   "execution_count": 34,
   "id": "b3571deb-a50b-495c-b485-bde8c81b0e60",
   "metadata": {},
   "outputs": [],
   "source": [
    "#####\n",
    "##### appendix\n",
    "#####"
   ]
  },
  {
   "cell_type": "code",
   "execution_count": 43,
   "id": "b8c5c982-d97d-45c4-a9eb-d22acbccebf6",
   "metadata": {},
   "outputs": [
    {
     "data": {
      "text/html": [
       "<div><style>\n",
       ".dataframe > thead > tr,\n",
       ".dataframe > tbody > tr {\n",
       "  text-align: right;\n",
       "  white-space: pre-wrap;\n",
       "}\n",
       "</style>\n",
       "<small>shape: (20, 11)</small><table border=\"1\" class=\"dataframe\"><thead><tr><th>code</th><th>settlement_date</th><th>settlement_type</th><th>announcement_date</th><th>sales</th><th>operating_income</th><th>ordinary_profit</th><th>final_profit</th><th>reviced_eps</th><th>dividend</th><th>quater</th></tr><tr><td>i64</td><td>date</td><td>str</td><td>date</td><td>i64</td><td>i64</td><td>i64</td><td>i64</td><td>f64</td><td>f64</td><td>i64</td></tr></thead><tbody><tr><td>1419</td><td>2017-05-31</td><td>&quot;本&quot;</td><td>2017-07-14</td><td>157001</td><td>3901</td><td>3475</td><td>901</td><td>30.0</td><td>15.0</td><td>-2</td></tr><tr><td>1419</td><td>2018-05-31</td><td>&quot;本&quot;</td><td>2018-07-13</td><td>167915</td><td>4653</td><td>4029</td><td>2047</td><td>68.1</td><td>30.0</td><td>4</td></tr><tr><td>1419</td><td>2019-05-31</td><td>&quot;本&quot;</td><td>2019-07-10</td><td>186874</td><td>7366</td><td>6955</td><td>3934</td><td>130.9</td><td>53.0</td><td>4</td></tr><tr><td>1419</td><td>2020-05-31</td><td>&quot;本&quot;</td><td>2020-07-13</td><td>209207</td><td>9873</td><td>9754</td><td>5109</td><td>172.8</td><td>70.0</td><td>4</td></tr><tr><td>1419</td><td>2021-05-31</td><td>&quot;予&quot;</td><td>2020-07-13</td><td>195000</td><td>7500</td><td>7200</td><td>4000</td><td>135.8</td><td>60.0</td><td>4</td></tr><tr><td>&hellip;</td><td>&hellip;</td><td>&hellip;</td><td>&hellip;</td><td>&hellip;</td><td>&hellip;</td><td>&hellip;</td><td>&hellip;</td><td>&hellip;</td><td>&hellip;</td><td>&hellip;</td></tr><tr><td>1419</td><td>2023-05-31</td><td>&quot;本&quot;</td><td>2023-07-11</td><td>256065</td><td>13264</td><td>13477</td><td>8715</td><td>298.4</td><td>180.0</td><td>4</td></tr><tr><td>1419</td><td>2024-05-31</td><td>&quot;予&quot;</td><td>2023-07-11</td><td>257000</td><td>14100</td><td>14100</td><td>9200</td><td>317.4</td><td>185.0</td><td>4</td></tr><tr><td>1419</td><td>2024-05-31</td><td>&quot;予&quot;</td><td>2024-06-18</td><td>247700</td><td>12500</td><td>12600</td><td>8800</td><td>303.6</td><td>185.0</td><td>4</td></tr><tr><td>1419</td><td>2025-05-31</td><td>&quot;予&quot;</td><td>2024-07-11</td><td>235000</td><td>13700</td><td>13800</td><td>9200</td><td>317.4</td><td>195.0</td><td>4</td></tr><tr><td>1419</td><td>2024-05-31</td><td>&quot;本&quot;</td><td>2024-07-11</td><td>247733</td><td>12586</td><td>12877</td><td>8752</td><td>301.9</td><td>190.0</td><td>4</td></tr></tbody></table></div>"
      ],
      "text/plain": [
       "shape: (20, 11)\n",
       "┌──────┬─────────────┬─────────────┬─────────────┬───┬────────────┬────────────┬──────────┬────────┐\n",
       "│ code ┆ settlement_ ┆ settlement_ ┆ announcemen ┆ … ┆ final_prof ┆ reviced_ep ┆ dividend ┆ quater │\n",
       "│ ---  ┆ date        ┆ type        ┆ t_date      ┆   ┆ it         ┆ s          ┆ ---      ┆ ---    │\n",
       "│ i64  ┆ ---         ┆ ---         ┆ ---         ┆   ┆ ---        ┆ ---        ┆ f64      ┆ i64    │\n",
       "│      ┆ date        ┆ str         ┆ date        ┆   ┆ i64        ┆ f64        ┆          ┆        │\n",
       "╞══════╪═════════════╪═════════════╪═════════════╪═══╪════════════╪════════════╪══════════╪════════╡\n",
       "│ 1419 ┆ 2017-05-31  ┆ 本          ┆ 2017-07-14  ┆ … ┆ 901        ┆ 30.0       ┆ 15.0     ┆ -2     │\n",
       "│ 1419 ┆ 2018-05-31  ┆ 本          ┆ 2018-07-13  ┆ … ┆ 2047       ┆ 68.1       ┆ 30.0     ┆ 4      │\n",
       "│ 1419 ┆ 2019-05-31  ┆ 本          ┆ 2019-07-10  ┆ … ┆ 3934       ┆ 130.9      ┆ 53.0     ┆ 4      │\n",
       "│ 1419 ┆ 2020-05-31  ┆ 本          ┆ 2020-07-13  ┆ … ┆ 5109       ┆ 172.8      ┆ 70.0     ┆ 4      │\n",
       "│ 1419 ┆ 2021-05-31  ┆ 予          ┆ 2020-07-13  ┆ … ┆ 4000       ┆ 135.8      ┆ 60.0     ┆ 4      │\n",
       "│ …    ┆ …           ┆ …           ┆ …           ┆ … ┆ …          ┆ …          ┆ …        ┆ …      │\n",
       "│ 1419 ┆ 2023-05-31  ┆ 本          ┆ 2023-07-11  ┆ … ┆ 8715       ┆ 298.4      ┆ 180.0    ┆ 4      │\n",
       "│ 1419 ┆ 2024-05-31  ┆ 予          ┆ 2023-07-11  ┆ … ┆ 9200       ┆ 317.4      ┆ 185.0    ┆ 4      │\n",
       "│ 1419 ┆ 2024-05-31  ┆ 予          ┆ 2024-06-18  ┆ … ┆ 8800       ┆ 303.6      ┆ 185.0    ┆ 4      │\n",
       "│ 1419 ┆ 2025-05-31  ┆ 予          ┆ 2024-07-11  ┆ … ┆ 9200       ┆ 317.4      ┆ 195.0    ┆ 4      │\n",
       "│ 1419 ┆ 2024-05-31  ┆ 本          ┆ 2024-07-11  ┆ … ┆ 8752       ┆ 301.9      ┆ 190.0    ┆ 4      │\n",
       "└──────┴─────────────┴─────────────┴─────────────┴───┴────────────┴────────────┴──────────┴────────┘"
      ]
     },
     "execution_count": 43,
     "metadata": {},
     "output_type": "execute_result"
    }
   ],
   "source": [
    "KPL = KessanPl()\n",
    "df = KPL.df\n",
    "\n",
    "df = df.filter(pl.col(\"code\")==code)\\\n",
    "    .filter(pl.col(\"announcement_date\")<=valuation_date)\\\n",
    "    .filter(pl.col(\"settlement_type\").is_in([\"予\",\"本\"]))\n",
    "df"
   ]
  },
  {
   "cell_type": "code",
   "execution_count": null,
   "id": "49e2ab12-e845-4363-a317-adb8a1e9901b",
   "metadata": {},
   "outputs": [],
   "source": []
  }
 ],
 "metadata": {
  "kernelspec": {
   "display_name": "Python 3 (ipykernel)",
   "language": "python",
   "name": "python3"
  },
  "language_info": {
   "codemirror_mode": {
    "name": "ipython",
    "version": 3
   },
   "file_extension": ".py",
   "mimetype": "text/x-python",
   "name": "python",
   "nbconvert_exporter": "python",
   "pygments_lexer": "ipython3",
   "version": "3.12.3"
  }
 },
 "nbformat": 4,
 "nbformat_minor": 5
}
