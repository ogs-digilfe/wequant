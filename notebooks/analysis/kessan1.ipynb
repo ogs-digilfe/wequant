{
 "cells": [
  {
   "cell_type": "code",
   "execution_count": 1,
   "id": "72fe6020-2485-4d19-ba64-b2929df1c64f",
   "metadata": {},
   "outputs": [],
   "source": [
    "# valuation_date時におけるcodeで指定した銘柄の個別銘柄分析\n",
    "# SBI証券のモバイルの銘柄分析を参考に作成"
   ]
  },
  {
   "cell_type": "code",
   "execution_count": 2,
   "id": "4c3ea513-3b75-4b72-be31-8271db72c241",
   "metadata": {},
   "outputs": [],
   "source": [
    "### パラメータ設定セル\n",
    "from datetime import date\n",
    "\n",
    "# パラメータをセット\n",
    "# code: 証券コード\n",
    "# valuation_date: 過去にさかのぼって評価日をdatetime.dateでセット可能。デフォルト値は今日(date.today())\n",
    "code = 3663\n",
    "valuation_date = date.today()\n",
    "# valuation_date = date(2023, 11, 9)"
   ]
  },
  {
   "cell_type": "code",
   "execution_count": 3,
   "id": "0fa30969-b1dd-4795-8ca4-8bb63e06f211",
   "metadata": {},
   "outputs": [],
   "source": [
    "# 読み込みファイルパスの設定とimportしたいmoduleパス(pythonパス)の設定\n",
    "from pathlib import Path\n",
    "import os, sys\n",
    "\n",
    "CURRENT_DIR = Path(os.getcwd())\n",
    "PJ_DIR = CURRENT_DIR.parent.parent\n",
    "LIB_DIR = PJ_DIR / \"lib\"\n",
    "DATA_DIR = PJ_DIR / \"data\" \n",
    "\n",
    "sys.path.append(str(LIB_DIR))\n",
    "\n",
    "# notebook内で利用するmoduleのimport\n",
    "from lib_dataprocess import PricelistPl, FinancequotePl, KessanPl, KessanFig, read_data, get_df_latest_yearly_performance, get_latest_stockprice, print_finance_quote\n",
    "from lib_dataprocess import get_fig_expected_performance_progress_rate_pycharts\n",
    "import polars as pl\n",
    "\n",
    "# dataの読み込み\n",
    "fp = DATA_DIR/\"raw_pricelist.parquet\"\n",
    "df = read_data(fp)\n",
    "PPL = PricelistPl(df)\n",
    "\n",
    "fp = DATA_DIR/\"finance_quote.parquet\"\n",
    "df = read_data(fp)\n",
    "FPL = FinancequotePl(df)"
   ]
  },
  {
   "cell_type": "code",
   "execution_count": 4,
   "id": "12cca2e1-9577-4b88-a042-170da054f42b",
   "metadata": {},
   "outputs": [
    {
     "name": "stdout",
     "output_type": "stream",
     "text": [
      "セルシス(3663)の銘柄情報\n",
      "\n",
      "終値: 1352.0円(2024年11月25日)\n",
      "予想配当利回り: 1.78%(2024年11月25日)\n",
      "予想PER: 32.07倍(2024年11月25日)\n",
      "実績PBR: 7.43倍(2024年11月25日)\n",
      "自己資本比率: 76.1%(2024年11月25日)\n",
      "予想ROE: 23.16%(2024年11月25日)\n",
      "予想ROA: 17.62%(2024年11月25日)\n"
     ]
    }
   ],
   "source": [
    "### 最新情報\n",
    "# 指定したcodeの指定した日における株価と各種ファンダメンタルズデータをまとめて標準出力する\n",
    "# pricelist_dfは、raw_pricelistかreviced_pricelistかケースに応じて使い分ける。\n",
    "# def print_finance_quote(\n",
    "#        pricelist_df: pl.DataFrame,\n",
    "#        finance_quote_df: pl.DataFrame,\n",
    "#        code: int, \n",
    "#        valuation_date: date=date.today()\n",
    "#    ) -> None:\n",
    "print_finance_quote(PPL.df, FPL.df, code, valuation_date=valuation_date)"
   ]
  },
  {
   "cell_type": "code",
   "execution_count": 5,
   "id": "0496d051-66d9-4003-8ca9-71a782b5ec88",
   "metadata": {},
   "outputs": [
    {
     "data": {
      "text/html": [
       "<iframe\n",
       "    scrolling=\"no\"\n",
       "    width=\"100%\"\n",
       "    height=\"545px\"\n",
       "    src=\"iframe_figures/figure_5.html\"\n",
       "    frameborder=\"0\"\n",
       "    allowfullscreen\n",
       "></iframe>\n"
      ]
     },
     "metadata": {},
     "output_type": "display_data"
    }
   ],
   "source": [
    "### 業績推移\n",
    "\n",
    "# KessanFig(\n",
    "#    code: int, \n",
    "#    settlement_type: Literal[\"通期\", \"四半期\"], \n",
    "#    output_target: str = \"jupyter\",\n",
    "#    start_settlement_date: date = date(1900, 1, 1),\n",
    "#    end_settlement_date: date = date(2999, 12, 31)\n",
    "#)\n",
    "\n",
    "KFIG = KessanFig(code, \"通期\", end_settlement_date=valuation_date)\n",
    "KFIG.add_trace_profits()\n",
    "KFIG.fig.show()"
   ]
  },
  {
   "cell_type": "code",
   "execution_count": 6,
   "id": "9640855f-4673-4470-8ef7-5995b03feaa1",
   "metadata": {},
   "outputs": [
    {
     "name": "stdout",
     "output_type": "stream",
     "text": [
      "セルシス(3663)の通期決算(評価日：2024年11月26日)\n"
     ]
    },
    {
     "data": {
      "text/html": [
       "<div><style>\n",
       ".dataframe > thead > tr,\n",
       ".dataframe > tbody > tr {\n",
       "  text-align: right;\n",
       "  white-space: pre-wrap;\n",
       "}\n",
       "</style>\n",
       "<small>shape: (2, 8)</small><table border=\"1\" class=\"dataframe\"><thead><tr><th>決算期</th><th>決算発表日</th><th>売上高</th><th>営業利益</th><th>経常利益</th><th>純利益</th><th>EPS</th><th>1株配当</th></tr><tr><td>str</td><td>date</td><td>i64</td><td>i64</td><td>i64</td><td>i64</td><td>f64</td><td>f64</td></tr></thead><tbody><tr><td>&quot;2024年12月期(予)&quot;</td><td>2024-02-09</td><td>7723</td><td>1655</td><td>1611</td><td>744</td><td>23.3</td><td>20.0</td></tr><tr><td>&quot;2023年12月期&quot;</td><td>2024-02-09</td><td>8091</td><td>1352</td><td>1404</td><td>626</td><td>18.5</td><td>12.0</td></tr></tbody></table></div>"
      ],
      "text/plain": [
       "shape: (2, 8)\n",
       "┌──────────────────┬────────────┬────────┬──────────┬──────────┬────────┬──────┬─────────┐\n",
       "│ 決算期           ┆ 決算発表日 ┆ 売上高 ┆ 営業利益 ┆ 経常利益 ┆ 純利益 ┆ EPS  ┆ 1株配当 │\n",
       "│ ---              ┆ ---        ┆ ---    ┆ ---      ┆ ---      ┆ ---    ┆ ---  ┆ ---     │\n",
       "│ str              ┆ date       ┆ i64    ┆ i64      ┆ i64      ┆ i64    ┆ f64  ┆ f64     │\n",
       "╞══════════════════╪════════════╪════════╪══════════╪══════════╪════════╪══════╪═════════╡\n",
       "│ 2024年12月期(予) ┆ 2024-02-09 ┆ 7723   ┆ 1655     ┆ 1611     ┆ 744    ┆ 23.3 ┆ 20.0    │\n",
       "│ 2023年12月期     ┆ 2024-02-09 ┆ 8091   ┆ 1352     ┆ 1404     ┆ 626    ┆ 18.5 ┆ 12.0    │\n",
       "└──────────────────┴────────────┴────────┴──────────┴──────────┴────────┴──────┴─────────┘"
      ]
     },
     "execution_count": 6,
     "metadata": {},
     "output_type": "execute_result"
    }
   ],
   "source": [
    "### 通期業績、業績予想\n",
    "# def get_df_latest_yearly_performance(code: int, valuation_date: date=date.today()) -> pl.DataFrame:\n",
    "df = get_df_latest_yearly_performance(code)\n",
    "df"
   ]
  },
  {
   "cell_type": "code",
   "execution_count": 7,
   "id": "9ebf91d2-7436-46c3-b035-04a125b60357",
   "metadata": {},
   "outputs": [
    {
     "data": {
      "text/html": [
       "<iframe\n",
       "    scrolling=\"no\"\n",
       "    width=\"100%\"\n",
       "    height=\"545px\"\n",
       "    src=\"iframe_figures/figure_7.html\"\n",
       "    frameborder=\"0\"\n",
       "    allowfullscreen\n",
       "></iframe>\n"
      ]
     },
     "metadata": {},
     "output_type": "display_data"
    }
   ],
   "source": [
    "KFIG = KessanFig(code, \"四半期\", end_settlement_date=valuation_date)\n",
    "KFIG.add_trace_profits()\n",
    "KFIG.fig.show()"
   ]
  },
  {
   "cell_type": "code",
   "execution_count": 8,
   "id": "0e6e726c-d77c-464d-8d42-3247af5afba0",
   "metadata": {},
   "outputs": [
    {
     "name": "stdout",
     "output_type": "stream",
     "text": [
      "   code yearly_settlement_date  quater  sales_pr(%)  operating_income_pr(%)  \\\n",
      "0  3663             2024-12-31       1         26.0                    34.1   \n",
      "1  3663             2024-12-31       2         52.6                    66.8   \n",
      "2  3663             2024-12-31       3         78.1                    97.2   \n",
      "\n",
      "   ordinary_profit_pr(%)  final_profit_pr(%)  \n",
      "0                   37.5                74.2  \n",
      "1                   76.2               126.7  \n",
      "2                  108.4               164.5  \n",
      "セルシス(3663)の2024年12月期第3四半期決算進捗率(評価日：2024-11-26)\n"
     ]
    },
    {
     "data": {
      "text/html": [
       "<iframe\n",
       "    scrolling=\"no\"\n",
       "    width=\"100%\"\n",
       "    height=\"545px\"\n",
       "    src=\"iframe_figures/figure_8.html\"\n",
       "    frameborder=\"0\"\n",
       "    allowfullscreen\n",
       "></iframe>\n"
      ]
     },
     "metadata": {},
     "output_type": "display_data"
    }
   ],
   "source": [
    "# codeで指定した銘柄のevaluation_dateで指定した時点での最新の年度決算予想に基づく\n",
    "# 売上高~純利益の決算進捗率を円グラフで表示するためのfigを返す\n",
    "# from plotly.graph_objects import Figure\n",
    "# def get_fig_expected_performance_progress_rate_pycharts(code: int, evaluation_date: date=date.today()) -> Figure:\n",
    "\n",
    "fig2 = get_fig_expected_performance_progress_rate_pycharts(code)\n",
    "fig2.show()"
   ]
  },
  {
   "cell_type": "code",
   "execution_count": null,
   "id": "412228f6-95ef-432e-af38-b2301c619c9e",
   "metadata": {},
   "outputs": [],
   "source": []
  }
 ],
 "metadata": {
  "kernelspec": {
   "display_name": "Python 3 (ipykernel)",
   "language": "python",
   "name": "python3"
  },
  "language_info": {
   "codemirror_mode": {
    "name": "ipython",
    "version": 3
   },
   "file_extension": ".py",
   "mimetype": "text/x-python",
   "name": "python",
   "nbconvert_exporter": "python",
   "pygments_lexer": "ipython3",
   "version": "3.12.3"
  }
 },
 "nbformat": 4,
 "nbformat_minor": 5
}
