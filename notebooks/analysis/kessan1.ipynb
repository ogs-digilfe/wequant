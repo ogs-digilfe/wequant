{
 "cells": [
  {
   "cell_type": "code",
   "execution_count": 1,
   "id": "72fe6020-2485-4d19-ba64-b2929df1c64f",
   "metadata": {},
   "outputs": [],
   "source": [
    "# valuation_date時におけるcodeで指定した銘柄の個別銘柄分析\n",
    "# SBI証券のモバイルの銘柄分析を参考に作成"
   ]
  },
  {
   "cell_type": "code",
   "execution_count": 2,
   "id": "4c3ea513-3b75-4b72-be31-8271db72c241",
   "metadata": {},
   "outputs": [],
   "source": [
    "### パラメータ設定セル\n",
    "from datetime import date\n",
    "\n",
    "# パラメータをセット\n",
    "# code: 証券コード\n",
    "# valuation_date: 過去にさかのぼって評価日をdatetime.dateでセット可能。デフォルト値は今日(date.today())\n",
    "code = 7976\n",
    "# valuation_date = date(2023, 11, 9)"
   ]
  },
  {
   "cell_type": "code",
   "execution_count": 3,
   "id": "0fa30969-b1dd-4795-8ca4-8bb63e06f211",
   "metadata": {},
   "outputs": [],
   "source": [
    "# 読み込みファイルパスの設定とimportしたいmoduleパス(pythonパス)の設定\n",
    "from pathlib import Path\n",
    "import os, sys\n",
    "\n",
    "CURRENT_DIR = Path(os.getcwd())\n",
    "PJ_DIR = CURRENT_DIR.parent.parent\n",
    "LIB_DIR = PJ_DIR / \"lib\"\n",
    "DATA_DIR = PJ_DIR / \"data\" \n",
    "\n",
    "sys.path.append(str(LIB_DIR))\n",
    "\n",
    "# notebook内で利用するmoduleのimport\n",
    "from lib_dataprocess import KessanPl, read_data, get_fig_yearly_settlement_trend_barchart, get_df_latest_yearly_performance, get_latest_stockprice\n",
    "import polars as pl"
   ]
  },
  {
   "cell_type": "code",
   "execution_count": 4,
   "id": "12cca2e1-9577-4b88-a042-170da054f42b",
   "metadata": {},
   "outputs": [
    {
     "name": "stdout",
     "output_type": "stream",
     "text": [
      "三菱鉛筆(7976)の2024年11月15日終値\n"
     ]
    },
    {
     "data": {
      "text/plain": [
       "2574.0"
      ]
     },
     "execution_count": 4,
     "metadata": {},
     "output_type": "execute_result"
    }
   ],
   "source": [
    "### 最新株価\n",
    "# def get_latest_stockprice(code: int, valudation_date: date=date.today()) -> float:\n",
    "close = get_latest_stockprice(code)\n",
    "close"
   ]
  },
  {
   "cell_type": "code",
   "execution_count": 5,
   "id": "bc688f3c-7b7b-4812-80c4-f5ec9248d075",
   "metadata": {},
   "outputs": [
    {
     "data": {
      "text/html": [
       "<iframe\n",
       "    scrolling=\"no\"\n",
       "    width=\"100%\"\n",
       "    height=\"545px\"\n",
       "    src=\"iframe_figures/figure_5.html\"\n",
       "    frameborder=\"0\"\n",
       "    allowfullscreen\n",
       "></iframe>\n"
      ]
     },
     "metadata": {},
     "output_type": "display_data"
    }
   ],
   "source": [
    "### 業績推移\n",
    "# def get_fig_yearly_settlement_trend_barchart(code: int, valuation_date: date=date.today(), get_latest_forcast=True) -> Figure:\n",
    "fig = get_fig_yearly_settlement_trend_barchart(code)\n",
    "fig.show()"
   ]
  },
  {
   "cell_type": "code",
   "execution_count": 6,
   "id": "9640855f-4673-4470-8ef7-5995b03feaa1",
   "metadata": {},
   "outputs": [
    {
     "name": "stdout",
     "output_type": "stream",
     "text": [
      "三菱鉛筆(7976)の通期決算(評価日：2024年11月19日)\n"
     ]
    },
    {
     "data": {
      "text/html": [
       "<div><style>\n",
       ".dataframe > thead > tr,\n",
       ".dataframe > tbody > tr {\n",
       "  text-align: right;\n",
       "  white-space: pre-wrap;\n",
       "}\n",
       "</style>\n",
       "<small>shape: (2, 8)</small><table border=\"1\" class=\"dataframe\"><thead><tr><th>決算期</th><th>決算発表日</th><th>売上高</th><th>営業利益</th><th>経常利益</th><th>純利益</th><th>EPS</th><th>1株配当</th></tr><tr><td>str</td><td>date</td><td>i64</td><td>i64</td><td>i64</td><td>i64</td><td>f64</td><td>f64</td></tr></thead><tbody><tr><td>&quot;2024年12月期(予)&quot;</td><td>2024-10-31</td><td>87000</td><td>11500</td><td>12000</td><td>10800</td><td>194.1</td><td>44.0</td></tr><tr><td>&quot;2023年12月期&quot;</td><td>2024-02-16</td><td>74801</td><td>11851</td><td>12889</td><td>10166</td><td>186.8</td><td>40.0</td></tr></tbody></table></div>"
      ],
      "text/plain": [
       "shape: (2, 8)\n",
       "┌──────────────────┬────────────┬────────┬──────────┬──────────┬────────┬───────┬─────────┐\n",
       "│ 決算期           ┆ 決算発表日 ┆ 売上高 ┆ 営業利益 ┆ 経常利益 ┆ 純利益 ┆ EPS   ┆ 1株配当 │\n",
       "│ ---              ┆ ---        ┆ ---    ┆ ---      ┆ ---      ┆ ---    ┆ ---   ┆ ---     │\n",
       "│ str              ┆ date       ┆ i64    ┆ i64      ┆ i64      ┆ i64    ┆ f64   ┆ f64     │\n",
       "╞══════════════════╪════════════╪════════╪══════════╪══════════╪════════╪═══════╪═════════╡\n",
       "│ 2024年12月期(予) ┆ 2024-10-31 ┆ 87000  ┆ 11500    ┆ 12000    ┆ 10800  ┆ 194.1 ┆ 44.0    │\n",
       "│ 2023年12月期     ┆ 2024-02-16 ┆ 74801  ┆ 11851    ┆ 12889    ┆ 10166  ┆ 186.8 ┆ 40.0    │\n",
       "└──────────────────┴────────────┴────────┴──────────┴──────────┴────────┴───────┴─────────┘"
      ]
     },
     "execution_count": 6,
     "metadata": {},
     "output_type": "execute_result"
    }
   ],
   "source": [
    "### 通期業績、業績予想\n",
    "# def get_df_latest_yearly_performance(code: int, valuation_date: date=date.today()) -> pl.DataFrame:\n",
    "df = get_df_latest_yearly_performance(code)\n",
    "df"
   ]
  },
  {
   "cell_type": "code",
   "execution_count": null,
   "id": "0103ef89-1279-4b1d-b127-acbb221cea73",
   "metadata": {},
   "outputs": [],
   "source": []
  }
 ],
 "metadata": {
  "kernelspec": {
   "display_name": "Python 3 (ipykernel)",
   "language": "python",
   "name": "python3"
  },
  "language_info": {
   "codemirror_mode": {
    "name": "ipython",
    "version": 3
   },
   "file_extension": ".py",
   "mimetype": "text/x-python",
   "name": "python",
   "nbconvert_exporter": "python",
   "pygments_lexer": "ipython3",
   "version": "3.12.3"
  }
 },
 "nbformat": 4,
 "nbformat_minor": 5
}
