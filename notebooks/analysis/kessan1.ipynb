{
 "cells": [
  {
   "cell_type": "code",
   "execution_count": 1,
   "id": "72fe6020-2485-4d19-ba64-b2929df1c64f",
   "metadata": {},
   "outputs": [],
   "source": [
    "# SBI証券のモバイルの銘柄分析を参考に作成"
   ]
  },
  {
   "cell_type": "code",
   "execution_count": 2,
   "id": "4c3ea513-3b75-4b72-be31-8271db72c241",
   "metadata": {},
   "outputs": [],
   "source": [
    "# 分析対象銘柄の証券コードをセット\n",
    "code = 4235"
   ]
  },
  {
   "cell_type": "code",
   "execution_count": 3,
   "id": "0fa30969-b1dd-4795-8ca4-8bb63e06f211",
   "metadata": {},
   "outputs": [],
   "source": [
    "# 読み込みファイルパスの設定とimportしたいmoduleパス(pythonパス)の設定\n",
    "from pathlib import Path\n",
    "import os, sys\n",
    "\n",
    "CURRENT_DIR = Path(os.getcwd())\n",
    "PJ_DIR = CURRENT_DIR.parent.parent\n",
    "LIB_DIR = PJ_DIR / \"lib\"\n",
    "DATA_DIR = PJ_DIR / \"data\" \n",
    "\n",
    "sys.path.append(str(LIB_DIR))\n",
    "\n",
    "# notebook内で利用するmoduleのimport\n",
    "from lib_dataprocess import KessanPl, read_data\n",
    "import polars as pl"
   ]
  },
  {
   "cell_type": "code",
   "execution_count": 6,
   "id": "9640855f-4673-4470-8ef7-5995b03feaa1",
   "metadata": {},
   "outputs": [
    {
     "data": {
      "text/html": [
       "<div><style>\n",
       ".dataframe > thead > tr,\n",
       ".dataframe > tbody > tr {\n",
       "  text-align: right;\n",
       "  white-space: pre-wrap;\n",
       "}\n",
       "</style>\n",
       "<small>shape: (2, 7)</small><table border=\"1\" class=\"dataframe\"><thead><tr><th>settlement_date</th><th>sales</th><th>operating_income</th><th>ordinary_profit</th><th>final_profit</th><th>reviced_eps</th><th>dividend</th></tr><tr><td>date</td><td>i64</td><td>i64</td><td>i64</td><td>i64</td><td>f64</td><td>f64</td></tr></thead><tbody><tr><td>2024-12-31</td><td>20400</td><td>2500</td><td>2200</td><td>1600</td><td>78.7</td><td>39.0</td></tr><tr><td>2023-12-31</td><td>21045</td><td>3546</td><td>2892</td><td>2375</td><td>129.6</td><td>39.0</td></tr></tbody></table></div>"
      ],
      "text/plain": [
       "shape: (2, 7)\n",
       "┌────────────────┬───────┬────────────────┬────────────────┬──────────────┬─────────────┬──────────┐\n",
       "│ settlement_dat ┆ sales ┆ operating_inco ┆ ordinary_profi ┆ final_profit ┆ reviced_eps ┆ dividend │\n",
       "│ e              ┆ ---   ┆ me             ┆ t              ┆ ---          ┆ ---         ┆ ---      │\n",
       "│ ---            ┆ i64   ┆ ---            ┆ ---            ┆ i64          ┆ f64         ┆ f64      │\n",
       "│ date           ┆       ┆ i64            ┆ i64            ┆              ┆             ┆          │\n",
       "╞════════════════╪═══════╪════════════════╪════════════════╪══════════════╪═════════════╪══════════╡\n",
       "│ 2024-12-31     ┆ 20400 ┆ 2500           ┆ 2200           ┆ 1600         ┆ 78.7        ┆ 39.0     │\n",
       "│ 2023-12-31     ┆ 21045 ┆ 3546           ┆ 2892           ┆ 2375         ┆ 129.6       ┆ 39.0     │\n",
       "└────────────────┴───────┴────────────────┴────────────────┴──────────────┴─────────────┴──────────┘"
      ]
     },
     "execution_count": 6,
     "metadata": {},
     "output_type": "execute_result"
    }
   ],
   "source": [
    "###\n",
    "### 通期業績、業績予想\n",
    "###\n",
    "fp = DATA_DIR/\"kessan.parquet\"\n",
    "df = read_data(fp)\n",
    "KPL = KessanPl(df)\n",
    "\n",
    "df1 = KPL.get_latest_yearly_settlements(settlement_type=\"予\")\n",
    "df2 = KPL.get_latest_yearly_settlements(settlement_type=\"本\")\n",
    "\n",
    "df = pl.concat([df1, df2])\n",
    "df.filter(pl.col(\"code\")==code).select(df.columns[1:2]+df.columns[4:-1])"
   ]
  },
  {
   "cell_type": "code",
   "execution_count": null,
   "id": "0103ef89-1279-4b1d-b127-acbb221cea73",
   "metadata": {},
   "outputs": [],
   "source": []
  }
 ],
 "metadata": {
  "kernelspec": {
   "display_name": "Python 3 (ipykernel)",
   "language": "python",
   "name": "python3"
  },
  "language_info": {
   "codemirror_mode": {
    "name": "ipython",
    "version": 3
   },
   "file_extension": ".py",
   "mimetype": "text/x-python",
   "name": "python",
   "nbconvert_exporter": "python",
   "pygments_lexer": "ipython3",
   "version": "3.12.3"
  }
 },
 "nbformat": 4,
 "nbformat_minor": 5
}
