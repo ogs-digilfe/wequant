{
 "cells": [
  {
   "cell_type": "code",
   "execution_count": 1,
   "id": "e4f67817-a472-4dbd-8a08-e82ca6ca7099",
   "metadata": {},
   "outputs": [],
   "source": [
    "#### 利益改善され、割安な銘柄が動意づいたときに検知することを目的とする"
   ]
  },
  {
   "cell_type": "code",
   "execution_count": 2,
   "id": "7c3aad63-32da-47b8-becd-8f495dcf985a",
   "metadata": {},
   "outputs": [],
   "source": [
    "# 読み込みファイルパスの設定とimportしたいmoduleパス(pythonパス)の設定\n",
    "from pathlib import Path\n",
    "import os, sys\n",
    "\n",
    "CURRENT_DIR = Path(os.getcwd())\n",
    "PJ_DIR = CURRENT_DIR.parent.parent\n",
    "LIB_DIR = PJ_DIR / \"lib\"\n",
    "DATA_DIR = PJ_DIR / \"data\" \n",
    "\n",
    "sys.path.append(str(LIB_DIR))\n",
    "\n",
    "# notebook内で利用するmoduleのimport\n",
    "from lib_dataprocess import KessanPl, PricelistFig, PricelistPl, MeigaralistPl, read_data\n",
    "from lib_dataprocess import ShikihoPl, FinancequotePl, print_finance_quote, PricelistFig, KessanFig\n",
    "import polars as pl\n",
    "from datetime import date\n",
    "from dateutil.relativedelta import relativedelta\n",
    "\n",
    "fp = DATA_DIR/\"reviced_pricelist.parquet\"\n",
    "df = read_data(fp)\n",
    "RevPl = PricelistPl(df)\n",
    "\n",
    "# dataの読み込み\n",
    "fp = DATA_DIR/\"raw_pricelist.parquet\"\n",
    "df = read_data(fp)\n",
    "PPL = PricelistPl(df)\n",
    "\n",
    "fp = DATA_DIR/\"finance_quote.parquet\"\n",
    "df = read_data(fp)\n",
    "FPL = FinancequotePl(df)\n",
    "FPL.with_columns_market_cap()\n",
    "\n",
    "fp = DATA_DIR/\"meigaralist.parquet\"\n",
    "df = read_data(fp)\n",
    "MPL = MeigaralistPl(df)\n",
    "\n",
    "fp = DATA_DIR/\"shikiho.parquet\"\n",
    "df = read_data(fp)\n",
    "SPL = ShikihoPl(df)\n"
   ]
  },
  {
   "cell_type": "code",
   "execution_count": 3,
   "id": "0f5adef0-992f-4d05-8bc9-2aa834b7b7ca",
   "metadata": {},
   "outputs": [],
   "source": [
    "#####\n",
    "##### KessanPl.dfの加工\n",
    "#####"
   ]
  },
  {
   "cell_type": "code",
   "execution_count": 4,
   "id": "47ac89e9-9358-4bf3-87e7-2c42804ebac8",
   "metadata": {},
   "outputs": [],
   "source": [
    "#パラメータのセット\n",
    "# 決算日の指定 -> 指定した日の四半期決算でランキングを作成する\n",
    "valuation_date = date.today()\n",
    "valuation_date = date(2024, 9, 26)\n",
    "# 売上高伸び率を何%以上にするか\n",
    "min_sales_growthrate = 10"
   ]
  },
  {
   "cell_type": "code",
   "execution_count": 5,
   "id": "0e3166ab-39e3-4032-b83c-b21b7a77ee83",
   "metadata": {},
   "outputs": [
    {
     "data": {
      "text/html": [
       "<div><style>\n",
       ".dataframe > thead > tr,\n",
       ".dataframe > tbody > tr {\n",
       "  text-align: right;\n",
       "  white-space: pre-wrap;\n",
       "}\n",
       "</style>\n",
       "<small>shape: (3_717, 7)</small><table border=\"1\" class=\"dataframe\"><thead><tr><th>code</th><th>settlement_date</th><th>announcement_date</th><th>sales</th><th>operating_income</th><th>sales_growthrate</th><th>diff_operating_income_growthrate</th></tr><tr><td>i64</td><td>date</td><td>date</td><td>i64</td><td>i64</td><td>f64</td><td>f64</td></tr></thead><tbody><tr><td>1301</td><td>2024-06-30</td><td>2024-08-05</td><td>68204</td><td>3102</td><td>9.4</td><td>11.7</td></tr><tr><td>1332</td><td>2024-06-30</td><td>2024-08-06</td><td>220644</td><td>9724</td><td>10.4</td><td>0.0</td></tr><tr><td>1333</td><td>2024-06-30</td><td>2024-08-05</td><td>256928</td><td>7657</td><td>2.4</td><td>-0.5</td></tr><tr><td>1375</td><td>2024-06-30</td><td>2024-08-08</td><td>10172</td><td>-77</td><td>22.9</td><td>12.5</td></tr><tr><td>1376</td><td>2024-05-31</td><td>2024-07-10</td><td>23224</td><td>1150</td><td>1.9</td><td>-16.0</td></tr><tr><td>&hellip;</td><td>&hellip;</td><td>&hellip;</td><td>&hellip;</td><td>&hellip;</td><td>&hellip;</td><td>&hellip;</td></tr><tr><td>9991</td><td>2024-06-30</td><td>2024-07-25</td><td>26954</td><td>1366</td><td>-14.5</td><td>-2.5</td></tr><tr><td>9993</td><td>2024-05-31</td><td>2024-07-11</td><td>24969</td><td>-408</td><td>1.8</td><td>-108.5</td></tr><tr><td>9994</td><td>2024-06-30</td><td>2024-08-09</td><td>39151</td><td>1286</td><td>0.6</td><td>-14.9</td></tr><tr><td>9996</td><td>2024-06-30</td><td>2024-08-09</td><td>11994</td><td>326</td><td>3.4</td><td>-6.3</td></tr><tr><td>9997</td><td>2024-06-30</td><td>2024-07-31</td><td>51368</td><td>982</td><td>-0.9</td><td>36.7</td></tr></tbody></table></div>"
      ],
      "text/plain": [
       "shape: (3_717, 7)\n",
       "┌──────┬────────────────┬────────────────┬────────┬────────────────┬───────────────┬───────────────┐\n",
       "│ code ┆ settlement_dat ┆ announcement_d ┆ sales  ┆ operating_inco ┆ sales_growthr ┆ diff_operatin │\n",
       "│ ---  ┆ e              ┆ ate            ┆ ---    ┆ me             ┆ ate           ┆ g_income_grow │\n",
       "│ i64  ┆ ---            ┆ ---            ┆ i64    ┆ ---            ┆ ---           ┆ thra…         │\n",
       "│      ┆ date           ┆ date           ┆        ┆ i64            ┆ f64           ┆ ---           │\n",
       "│      ┆                ┆                ┆        ┆                ┆               ┆ f64           │\n",
       "╞══════╪════════════════╪════════════════╪════════╪════════════════╪═══════════════╪═══════════════╡\n",
       "│ 1301 ┆ 2024-06-30     ┆ 2024-08-05     ┆ 68204  ┆ 3102           ┆ 9.4           ┆ 11.7          │\n",
       "│ 1332 ┆ 2024-06-30     ┆ 2024-08-06     ┆ 220644 ┆ 9724           ┆ 10.4          ┆ 0.0           │\n",
       "│ 1333 ┆ 2024-06-30     ┆ 2024-08-05     ┆ 256928 ┆ 7657           ┆ 2.4           ┆ -0.5          │\n",
       "│ 1375 ┆ 2024-06-30     ┆ 2024-08-08     ┆ 10172  ┆ -77            ┆ 22.9          ┆ 12.5          │\n",
       "│ 1376 ┆ 2024-05-31     ┆ 2024-07-10     ┆ 23224  ┆ 1150           ┆ 1.9           ┆ -16.0         │\n",
       "│ …    ┆ …              ┆ …              ┆ …      ┆ …              ┆ …             ┆ …             │\n",
       "│ 9991 ┆ 2024-06-30     ┆ 2024-07-25     ┆ 26954  ┆ 1366           ┆ -14.5         ┆ -2.5          │\n",
       "│ 9993 ┆ 2024-05-31     ┆ 2024-07-11     ┆ 24969  ┆ -408           ┆ 1.8           ┆ -108.5        │\n",
       "│ 9994 ┆ 2024-06-30     ┆ 2024-08-09     ┆ 39151  ┆ 1286           ┆ 0.6           ┆ -14.9         │\n",
       "│ 9996 ┆ 2024-06-30     ┆ 2024-08-09     ┆ 11994  ┆ 326            ┆ 3.4           ┆ -6.3          │\n",
       "│ 9997 ┆ 2024-06-30     ┆ 2024-07-31     ┆ 51368  ┆ 982            ┆ -0.9          ┆ 36.7          │\n",
       "└──────┴────────────────┴────────────────┴────────┴────────────────┴───────────────┴───────────────┘"
      ]
     },
     "execution_count": 5,
     "metadata": {},
     "output_type": "execute_result"
    }
   ],
   "source": [
    "# 読み込みと加工\n",
    "# 読み込み\n",
    "fp = DATA_DIR/\"kessan.parquet\"\n",
    "df = read_data(fp)\n",
    "KPL1 = KessanPl(df)\n",
    "KPL2 = KessanPl(df)\n",
    "\n",
    "# データ加工\n",
    "KPL1.with_columns_growthrate_lastyear()\n",
    "KPL2.with_columns_diff_growthrate()\n",
    "KPL1.df = KPL1.df.filter(pl.col(\"settlement_type\")==\"四\")\n",
    "KPL2.df = KPL2.df.filter(pl.col(\"settlement_type\")==\"四\")\n",
    "df = KPL1.df.join(KPL2.df, on=[\"code\", \"settlement_date\"], how=\"left\")\n",
    "df = df.select([\n",
    "    \"code\", \"settlement_date\", \"announcement_date\", \"sales\", \"operating_income\", \"sales_growthrate\", \"diff_operating_income_growthrate\"\n",
    "])\n",
    "# valuation_date日時点の最新データに絞る\n",
    "df = df.filter(pl.col(\"announcement_date\")<=valuation_date)\n",
    "df = df.group_by(\"code\").agg([\n",
    "    pl.col(\"settlement_date\").last().alias(\"settlement_date\"),\n",
    "    pl.col(\"announcement_date\").last().alias(\"announcement_date\"),\n",
    "    pl.col(\"sales\").last().alias(\"sales\"),\n",
    "    pl.col(\"operating_income\").last().alias(\"operating_income\"),\n",
    "    pl.col(\"sales_growthrate\").last().alias(\"sales_growthrate\"),\n",
    "    pl.col(\"diff_operating_income_growthrate\").last().alias(\"diff_operating_income_growthrate\")\n",
    "])\n",
    "\n",
    "target_date = valuation_date - relativedelta(days=90)\n",
    "df = df.filter(pl.col(\"announcement_date\")>target_date)\n",
    "\n",
    "cpl_df = df\n",
    "cpl_df"
   ]
  },
  {
   "cell_type": "code",
   "execution_count": 6,
   "id": "1379d260-4b9d-48cc-87f3-8ae51e821e50",
   "metadata": {},
   "outputs": [],
   "source": [
    "##### \n",
    "##### reviced_pricelistの加工\n",
    "#####"
   ]
  },
  {
   "cell_type": "code",
   "execution_count": 7,
   "id": "c6783e27-ca11-4806-a399-fb294f1f45d5",
   "metadata": {},
   "outputs": [],
   "source": [
    "#パラメータのセット\n",
    "min_zs25 = 2\n",
    "min_daily_updown_rate = 2\n",
    "min_overnight_updown_rate = 0"
   ]
  },
  {
   "cell_type": "code",
   "execution_count": 8,
   "id": "757b9d59-35ca-4b14-bfee-279c7ccf9c83",
   "metadata": {},
   "outputs": [
    {
     "data": {
      "text/html": [
       "<div><style>\n",
       ".dataframe > thead > tr,\n",
       ".dataframe > tbody > tr {\n",
       "  text-align: right;\n",
       "  white-space: pre-wrap;\n",
       "}\n",
       "</style>\n",
       "<small>shape: (228_748, 11)</small><table border=\"1\" class=\"dataframe\"><thead><tr><th>code</th><th>date</th><th>open</th><th>high</th><th>low</th><th>close</th><th>volume</th><th>accumulated_split_rate</th><th>zs25</th><th>daily_updown_rate</th><th>overnight_updown_rate</th></tr><tr><td>i64</td><td>date</td><td>f64</td><td>f64</td><td>f64</td><td>f64</td><td>f64</td><td>f64</td><td>f64</td><td>f64</td><td>f64</td></tr></thead><tbody><tr><td>1301</td><td>2024-08-05</td><td>3610.0</td><td>3780.0</td><td>3400.0</td><td>3450.0</td><td>105000.0</td><td>1.0</td><td>4.2</td><td>-4.43</td><td>-3.99</td></tr><tr><td>1301</td><td>2024-08-06</td><td>3855.0</td><td>3855.0</td><td>3605.0</td><td>3665.0</td><td>50100.0</td><td>1.0</td><td>1.2</td><td>-4.93</td><td>11.74</td></tr><tr><td>1301</td><td>2024-08-07</td><td>3630.0</td><td>3755.0</td><td>3600.0</td><td>3650.0</td><td>38600.0</td><td>1.0</td><td>0.58</td><td>0.55</td><td>-0.95</td></tr><tr><td>1301</td><td>2024-08-08</td><td>3635.0</td><td>3690.0</td><td>3630.0</td><td>3645.0</td><td>23400.0</td><td>1.0</td><td>-0.23</td><td>0.28</td><td>-0.41</td></tr><tr><td>1301</td><td>2024-08-09</td><td>3690.0</td><td>3720.0</td><td>3630.0</td><td>3675.0</td><td>31700.0</td><td>1.0</td><td>0.17</td><td>-0.41</td><td>1.23</td></tr><tr><td>&hellip;</td><td>&hellip;</td><td>&hellip;</td><td>&hellip;</td><td>&hellip;</td><td>&hellip;</td><td>&hellip;</td><td>&hellip;</td><td>&hellip;</td><td>&hellip;</td><td>&hellip;</td></tr><tr><td>9997</td><td>2024-10-28</td><td>702.0</td><td>711.0</td><td>699.0</td><td>708.0</td><td>154300.0</td><td>1.0</td><td>-0.59</td><td>0.85</td><td>0.86</td></tr><tr><td>9997</td><td>2024-10-29</td><td>711.0</td><td>722.0</td><td>710.0</td><td>716.0</td><td>205600.0</td><td>1.0</td><td>-0.39</td><td>0.7</td><td>0.42</td></tr><tr><td>9997</td><td>2024-10-30</td><td>715.0</td><td>718.0</td><td>711.0</td><td>712.0</td><td>208800.0</td><td>1.0</td><td>-0.33</td><td>-0.42</td><td>-0.14</td></tr><tr><td>9997</td><td>2024-10-31</td><td>710.0</td><td>716.0</td><td>706.0</td><td>714.0</td><td>160600.0</td><td>1.0</td><td>-0.42</td><td>0.56</td><td>-0.28</td></tr><tr><td>9997</td><td>2024-11-01</td><td>707.0</td><td>723.0</td><td>703.0</td><td>718.0</td><td>223100.0</td><td>1.0</td><td>-0.1</td><td>1.56</td><td>-0.98</td></tr></tbody></table></div>"
      ],
      "text/plain": [
       "shape: (228_748, 11)\n",
       "┌──────┬────────────┬────────┬────────┬───┬────────────────┬───────┬───────────────┬───────────────┐\n",
       "│ code ┆ date       ┆ open   ┆ high   ┆ … ┆ accumulated_sp ┆ zs25  ┆ daily_updown_ ┆ overnight_upd │\n",
       "│ ---  ┆ ---        ┆ ---    ┆ ---    ┆   ┆ lit_rate       ┆ ---   ┆ rate          ┆ own_rate      │\n",
       "│ i64  ┆ date       ┆ f64    ┆ f64    ┆   ┆ ---            ┆ f64   ┆ ---           ┆ ---           │\n",
       "│      ┆            ┆        ┆        ┆   ┆ f64            ┆       ┆ f64           ┆ f64           │\n",
       "╞══════╪════════════╪════════╪════════╪═══╪════════════════╪═══════╪═══════════════╪═══════════════╡\n",
       "│ 1301 ┆ 2024-08-05 ┆ 3610.0 ┆ 3780.0 ┆ … ┆ 1.0            ┆ 4.2   ┆ -4.43         ┆ -3.99         │\n",
       "│ 1301 ┆ 2024-08-06 ┆ 3855.0 ┆ 3855.0 ┆ … ┆ 1.0            ┆ 1.2   ┆ -4.93         ┆ 11.74         │\n",
       "│ 1301 ┆ 2024-08-07 ┆ 3630.0 ┆ 3755.0 ┆ … ┆ 1.0            ┆ 0.58  ┆ 0.55          ┆ -0.95         │\n",
       "│ 1301 ┆ 2024-08-08 ┆ 3635.0 ┆ 3690.0 ┆ … ┆ 1.0            ┆ -0.23 ┆ 0.28          ┆ -0.41         │\n",
       "│ 1301 ┆ 2024-08-09 ┆ 3690.0 ┆ 3720.0 ┆ … ┆ 1.0            ┆ 0.17  ┆ -0.41         ┆ 1.23          │\n",
       "│ …    ┆ …          ┆ …      ┆ …      ┆ … ┆ …              ┆ …     ┆ …             ┆ …             │\n",
       "│ 9997 ┆ 2024-10-28 ┆ 702.0  ┆ 711.0  ┆ … ┆ 1.0            ┆ -0.59 ┆ 0.85          ┆ 0.86          │\n",
       "│ 9997 ┆ 2024-10-29 ┆ 711.0  ┆ 722.0  ┆ … ┆ 1.0            ┆ -0.39 ┆ 0.7           ┆ 0.42          │\n",
       "│ 9997 ┆ 2024-10-30 ┆ 715.0  ┆ 718.0  ┆ … ┆ 1.0            ┆ -0.33 ┆ -0.42         ┆ -0.14         │\n",
       "│ 9997 ┆ 2024-10-31 ┆ 710.0  ┆ 716.0  ┆ … ┆ 1.0            ┆ -0.42 ┆ 0.56          ┆ -0.28         │\n",
       "│ 9997 ┆ 2024-11-01 ┆ 707.0  ┆ 723.0  ┆ … ┆ 1.0            ┆ -0.1  ┆ 1.56          ┆ -0.98         │\n",
       "└──────┴────────────┴────────┴────────┴───┴────────────────┴───────┴───────────────┴───────────────┘"
      ]
     },
     "execution_count": 8,
     "metadata": {},
     "output_type": "execute_result"
    }
   ],
   "source": [
    "# 読み込みと加工\n",
    "# 読み込み\n",
    "fp = DATA_DIR/\"reviced_pricelist.parquet\"\n",
    "df = read_data(fp)\n",
    "RPL = PricelistPl(df)\n",
    "\n",
    "# データ加工\n",
    "# rpl_dfに評価列を追加\n",
    "RPL.with_columns_moving_zscore()\n",
    "RPL.with_columns_daily_updown_rate()\n",
    "RPL.with_columns_overnight_updown(\"yesterday\")\n",
    "rpl_df = RPL.df\n",
    "# rpl_dfの評価対象行を抽出\n",
    "ori_cols = rpl_df.columns\n",
    "df = cpl_df\n",
    "df = df.select([\"code\", \"announcement_date\"])\n",
    "df = df.with_columns([\n",
    "    pl.col(\"announcement_date\").alias(\"start_date\"),\n",
    "    (pl.col(\"announcement_date\") + pl.duration(days=93)).alias(\"end_date\")\n",
    "])\n",
    "df = df.select([\"code\", \"start_date\", \"end_date\"])\n",
    "df = rpl_df.join(df, on=\"code\", how=\"left\")\n",
    "df = df.filter(pl.col(\"date\")>=pl.col(\"start_date\"))\\\n",
    "    .filter(pl.col(\"date\")<=pl.col(\"end_date\"))\n",
    "df = df.select(ori_cols)\n",
    "rpl_df = df\n",
    "rpl_df"
   ]
  },
  {
   "cell_type": "code",
   "execution_count": 9,
   "id": "e2c7da84-b5b4-402e-93a2-63192f75fd82",
   "metadata": {},
   "outputs": [],
   "source": [
    "##### \n",
    "##### cpl_dfとrpl_dfを連結して、screening用のdfを作成\n",
    "#####"
   ]
  },
  {
   "cell_type": "code",
   "execution_count": 10,
   "id": "259a9099-11a6-4198-af8a-59c2a15543ef",
   "metadata": {},
   "outputs": [
    {
     "data": {
      "text/html": [
       "<div><style>\n",
       ".dataframe > thead > tr,\n",
       ".dataframe > tbody > tr {\n",
       "  text-align: right;\n",
       "  white-space: pre-wrap;\n",
       "}\n",
       "</style>\n",
       "<small>shape: (228_748, 17)</small><table border=\"1\" class=\"dataframe\"><thead><tr><th>code</th><th>date</th><th>open</th><th>high</th><th>low</th><th>close</th><th>volume</th><th>accumulated_split_rate</th><th>zs25</th><th>daily_updown_rate</th><th>overnight_updown_rate</th><th>settlement_date</th><th>announcement_date</th><th>sales</th><th>operating_income</th><th>sales_growthrate</th><th>diff_operating_income_growthrate</th></tr><tr><td>i64</td><td>date</td><td>f64</td><td>f64</td><td>f64</td><td>f64</td><td>f64</td><td>f64</td><td>f64</td><td>f64</td><td>f64</td><td>date</td><td>date</td><td>i64</td><td>i64</td><td>f64</td><td>f64</td></tr></thead><tbody><tr><td>1301</td><td>2024-08-05</td><td>3610.0</td><td>3780.0</td><td>3400.0</td><td>3450.0</td><td>105000.0</td><td>1.0</td><td>4.2</td><td>-4.43</td><td>-3.99</td><td>2024-06-30</td><td>2024-08-05</td><td>68204</td><td>3102</td><td>9.4</td><td>11.7</td></tr><tr><td>1301</td><td>2024-08-06</td><td>3855.0</td><td>3855.0</td><td>3605.0</td><td>3665.0</td><td>50100.0</td><td>1.0</td><td>1.2</td><td>-4.93</td><td>11.74</td><td>2024-06-30</td><td>2024-08-05</td><td>68204</td><td>3102</td><td>9.4</td><td>11.7</td></tr><tr><td>1301</td><td>2024-08-07</td><td>3630.0</td><td>3755.0</td><td>3600.0</td><td>3650.0</td><td>38600.0</td><td>1.0</td><td>0.58</td><td>0.55</td><td>-0.95</td><td>2024-06-30</td><td>2024-08-05</td><td>68204</td><td>3102</td><td>9.4</td><td>11.7</td></tr><tr><td>1301</td><td>2024-08-08</td><td>3635.0</td><td>3690.0</td><td>3630.0</td><td>3645.0</td><td>23400.0</td><td>1.0</td><td>-0.23</td><td>0.28</td><td>-0.41</td><td>2024-06-30</td><td>2024-08-05</td><td>68204</td><td>3102</td><td>9.4</td><td>11.7</td></tr><tr><td>1301</td><td>2024-08-09</td><td>3690.0</td><td>3720.0</td><td>3630.0</td><td>3675.0</td><td>31700.0</td><td>1.0</td><td>0.17</td><td>-0.41</td><td>1.23</td><td>2024-06-30</td><td>2024-08-05</td><td>68204</td><td>3102</td><td>9.4</td><td>11.7</td></tr><tr><td>&hellip;</td><td>&hellip;</td><td>&hellip;</td><td>&hellip;</td><td>&hellip;</td><td>&hellip;</td><td>&hellip;</td><td>&hellip;</td><td>&hellip;</td><td>&hellip;</td><td>&hellip;</td><td>&hellip;</td><td>&hellip;</td><td>&hellip;</td><td>&hellip;</td><td>&hellip;</td><td>&hellip;</td></tr><tr><td>9997</td><td>2024-10-28</td><td>702.0</td><td>711.0</td><td>699.0</td><td>708.0</td><td>154300.0</td><td>1.0</td><td>-0.59</td><td>0.85</td><td>0.86</td><td>2024-06-30</td><td>2024-07-31</td><td>51368</td><td>982</td><td>-0.9</td><td>36.7</td></tr><tr><td>9997</td><td>2024-10-29</td><td>711.0</td><td>722.0</td><td>710.0</td><td>716.0</td><td>205600.0</td><td>1.0</td><td>-0.39</td><td>0.7</td><td>0.42</td><td>2024-06-30</td><td>2024-07-31</td><td>51368</td><td>982</td><td>-0.9</td><td>36.7</td></tr><tr><td>9997</td><td>2024-10-30</td><td>715.0</td><td>718.0</td><td>711.0</td><td>712.0</td><td>208800.0</td><td>1.0</td><td>-0.33</td><td>-0.42</td><td>-0.14</td><td>2024-06-30</td><td>2024-07-31</td><td>51368</td><td>982</td><td>-0.9</td><td>36.7</td></tr><tr><td>9997</td><td>2024-10-31</td><td>710.0</td><td>716.0</td><td>706.0</td><td>714.0</td><td>160600.0</td><td>1.0</td><td>-0.42</td><td>0.56</td><td>-0.28</td><td>2024-06-30</td><td>2024-07-31</td><td>51368</td><td>982</td><td>-0.9</td><td>36.7</td></tr><tr><td>9997</td><td>2024-11-01</td><td>707.0</td><td>723.0</td><td>703.0</td><td>718.0</td><td>223100.0</td><td>1.0</td><td>-0.1</td><td>1.56</td><td>-0.98</td><td>2024-06-30</td><td>2024-07-31</td><td>51368</td><td>982</td><td>-0.9</td><td>36.7</td></tr></tbody></table></div>"
      ],
      "text/plain": [
       "shape: (228_748, 17)\n",
       "┌──────┬────────────┬────────┬────────┬───┬───────┬────────────────┬───────────────┬───────────────┐\n",
       "│ code ┆ date       ┆ open   ┆ high   ┆ … ┆ sales ┆ operating_inco ┆ sales_growthr ┆ diff_operatin │\n",
       "│ ---  ┆ ---        ┆ ---    ┆ ---    ┆   ┆ ---   ┆ me             ┆ ate           ┆ g_income_grow │\n",
       "│ i64  ┆ date       ┆ f64    ┆ f64    ┆   ┆ i64   ┆ ---            ┆ ---           ┆ thra…         │\n",
       "│      ┆            ┆        ┆        ┆   ┆       ┆ i64            ┆ f64           ┆ ---           │\n",
       "│      ┆            ┆        ┆        ┆   ┆       ┆                ┆               ┆ f64           │\n",
       "╞══════╪════════════╪════════╪════════╪═══╪═══════╪════════════════╪═══════════════╪═══════════════╡\n",
       "│ 1301 ┆ 2024-08-05 ┆ 3610.0 ┆ 3780.0 ┆ … ┆ 68204 ┆ 3102           ┆ 9.4           ┆ 11.7          │\n",
       "│ 1301 ┆ 2024-08-06 ┆ 3855.0 ┆ 3855.0 ┆ … ┆ 68204 ┆ 3102           ┆ 9.4           ┆ 11.7          │\n",
       "│ 1301 ┆ 2024-08-07 ┆ 3630.0 ┆ 3755.0 ┆ … ┆ 68204 ┆ 3102           ┆ 9.4           ┆ 11.7          │\n",
       "│ 1301 ┆ 2024-08-08 ┆ 3635.0 ┆ 3690.0 ┆ … ┆ 68204 ┆ 3102           ┆ 9.4           ┆ 11.7          │\n",
       "│ 1301 ┆ 2024-08-09 ┆ 3690.0 ┆ 3720.0 ┆ … ┆ 68204 ┆ 3102           ┆ 9.4           ┆ 11.7          │\n",
       "│ …    ┆ …          ┆ …      ┆ …      ┆ … ┆ …     ┆ …              ┆ …             ┆ …             │\n",
       "│ 9997 ┆ 2024-10-28 ┆ 702.0  ┆ 711.0  ┆ … ┆ 51368 ┆ 982            ┆ -0.9          ┆ 36.7          │\n",
       "│ 9997 ┆ 2024-10-29 ┆ 711.0  ┆ 722.0  ┆ … ┆ 51368 ┆ 982            ┆ -0.9          ┆ 36.7          │\n",
       "│ 9997 ┆ 2024-10-30 ┆ 715.0  ┆ 718.0  ┆ … ┆ 51368 ┆ 982            ┆ -0.9          ┆ 36.7          │\n",
       "│ 9997 ┆ 2024-10-31 ┆ 710.0  ┆ 716.0  ┆ … ┆ 51368 ┆ 982            ┆ -0.9          ┆ 36.7          │\n",
       "│ 9997 ┆ 2024-11-01 ┆ 707.0  ┆ 723.0  ┆ … ┆ 51368 ┆ 982            ┆ -0.9          ┆ 36.7          │\n",
       "└──────┴────────────┴────────┴────────┴───┴───────┴────────────────┴───────────────┴───────────────┘"
      ]
     },
     "execution_count": 10,
     "metadata": {},
     "output_type": "execute_result"
    }
   ],
   "source": [
    "df = rpl_df.join(cpl_df, on=\"code\", how=\"left\")\n",
    "screened_df = df\n",
    "screened_df"
   ]
  },
  {
   "cell_type": "code",
   "execution_count": 11,
   "id": "cb23440d-8c46-4e58-9b5c-2cb9437e91d0",
   "metadata": {},
   "outputs": [],
   "source": [
    "##### \n",
    "##### screening\n",
    "#####"
   ]
  },
  {
   "cell_type": "code",
   "execution_count": 12,
   "id": "a132296d-864b-4960-b083-d7be57a1ee4c",
   "metadata": {},
   "outputs": [],
   "source": [
    "# para\n",
    "min_zs25 = 3\n",
    "min_sales = 1000\n",
    "min_daily_updown_rate = 2\n",
    "min_overnight_updown_rate = 0\n",
    "min_sales_growthrate = 10\n",
    "min_sgr_dogr_ratio = 2"
   ]
  },
  {
   "cell_type": "code",
   "execution_count": 64,
   "id": "f5deb4b4-b230-4934-b7ac-5dd5a531e7d8",
   "metadata": {},
   "outputs": [
    {
     "data": {
      "text/html": [
       "<div><style>\n",
       ".dataframe > thead > tr,\n",
       ".dataframe > tbody > tr {\n",
       "  text-align: right;\n",
       "  white-space: pre-wrap;\n",
       "}\n",
       "</style>\n",
       "<small>shape: (10, 17)</small><table border=\"1\" class=\"dataframe\"><thead><tr><th>code</th><th>date</th><th>open</th><th>high</th><th>low</th><th>close</th><th>volume</th><th>accumulated_split_rate</th><th>zs25</th><th>daily_updown_rate</th><th>overnight_updown_rate</th><th>settlement_date</th><th>announcement_date</th><th>sales</th><th>operating_income</th><th>sales_growthrate</th><th>diff_operating_income_growthrate</th></tr><tr><td>i64</td><td>date</td><td>f64</td><td>f64</td><td>f64</td><td>f64</td><td>f64</td><td>f64</td><td>f64</td><td>f64</td><td>f64</td><td>date</td><td>date</td><td>i64</td><td>i64</td><td>f64</td><td>f64</td></tr></thead><tbody><tr><td>4478</td><td>2024-10-03</td><td>2504.0</td><td>2755.0</td><td>2460.0</td><td>2744.0</td><td>1.4868e6</td><td>1.0</td><td>3.88</td><td>9.58</td><td>3.05</td><td>2024-06-30</td><td>2024-08-14</td><td>7007</td><td>-1426</td><td>29.6</td><td>111.8</td></tr><tr><td>4490</td><td>2024-07-17</td><td>1332.0</td><td>1429.0</td><td>1251.0</td><td>1392.0</td><td>619900.0</td><td>1.0</td><td>4.73</td><td>4.5</td><td>2.3</td><td>2024-05-31</td><td>2024-07-12</td><td>2520</td><td>385</td><td>18.1</td><td>121.0</td></tr><tr><td>4490</td><td>2024-07-22</td><td>1270.0</td><td>1454.0</td><td>1250.0</td><td>1410.0</td><td>680200.0</td><td>1.0</td><td>3.37</td><td>11.02</td><td>2.42</td><td>2024-05-31</td><td>2024-07-12</td><td>2520</td><td>385</td><td>18.1</td><td>121.0</td></tr><tr><td>4506</td><td>2024-08-19</td><td>564.0</td><td>612.0</td><td>551.0</td><td>593.0</td><td>1.34777e7</td><td>1.0</td><td>3.09</td><td>5.14</td><td>1.81</td><td>2024-06-30</td><td>2024-07-31</td><td>90675</td><td>-3105</td><td>19.8</td><td>323.3</td></tr><tr><td>4540</td><td>2024-09-24</td><td>4125.0</td><td>4254.0</td><td>4105.0</td><td>4241.0</td><td>759400.0</td><td>1.0</td><td>4.06</td><td>2.81</td><td>3.88</td><td>2024-06-30</td><td>2024-08-05</td><td>43690</td><td>10575</td><td>18.0</td><td>88.5</td></tr><tr><td>4540</td><td>2024-09-26</td><td>4400.0</td><td>4530.0</td><td>4381.0</td><td>4521.0</td><td>869800.0</td><td>1.0</td><td>3.13</td><td>2.75</td><td>1.36</td><td>2024-06-30</td><td>2024-08-05</td><td>43690</td><td>10575</td><td>18.0</td><td>88.5</td></tr><tr><td>4704</td><td>2024-08-13</td><td>8000.0</td><td>8451.0</td><td>7973.0</td><td>8235.0</td><td>4.1664e6</td><td>1.0</td><td>4.37</td><td>2.94</td><td>3.33</td><td>2024-06-30</td><td>2024-08-08</td><td>68603</td><td>12309</td><td>12.8</td><td>47.2</td></tr><tr><td>4716</td><td>2024-09-26</td><td>14275.0</td><td>15190.0</td><td>14240.0</td><td>15190.0</td><td>504400.0</td><td>1.0</td><td>4.19</td><td>6.41</td><td>4.24</td><td>2024-08-31</td><td>2024-09-25</td><td>63915</td><td>22194</td><td>11.4</td><td>56.9</td></tr><tr><td>4792</td><td>2024-08-07</td><td>2033.0</td><td>2145.0</td><td>1986.0</td><td>2120.0</td><td>123000.0</td><td>1.0</td><td>4.22</td><td>4.28</td><td>14.66</td><td>2024-06-30</td><td>2024-08-06</td><td>7269</td><td>1978</td><td>34.0</td><td>74.5</td></tr><tr><td>4816</td><td>2024-10-30</td><td>3350.0</td><td>3475.0</td><td>3295.0</td><td>3475.0</td><td>1.8014e6</td><td>1.0</td><td>3.29</td><td>3.73</td><td>0.0</td><td>2024-06-30</td><td>2024-07-31</td><td>23059</td><td>6684</td><td>16.0</td><td>144.5</td></tr></tbody></table></div>"
      ],
      "text/plain": [
       "shape: (10, 17)\n",
       "┌──────┬────────────┬─────────┬─────────┬───┬───────┬───────────────┬───────────────┬──────────────┐\n",
       "│ code ┆ date       ┆ open    ┆ high    ┆ … ┆ sales ┆ operating_inc ┆ sales_growthr ┆ diff_operati │\n",
       "│ ---  ┆ ---        ┆ ---     ┆ ---     ┆   ┆ ---   ┆ ome           ┆ ate           ┆ ng_income_gr │\n",
       "│ i64  ┆ date       ┆ f64     ┆ f64     ┆   ┆ i64   ┆ ---           ┆ ---           ┆ owthra…      │\n",
       "│      ┆            ┆         ┆         ┆   ┆       ┆ i64           ┆ f64           ┆ ---          │\n",
       "│      ┆            ┆         ┆         ┆   ┆       ┆               ┆               ┆ f64          │\n",
       "╞══════╪════════════╪═════════╪═════════╪═══╪═══════╪═══════════════╪═══════════════╪══════════════╡\n",
       "│ 4478 ┆ 2024-10-03 ┆ 2504.0  ┆ 2755.0  ┆ … ┆ 7007  ┆ -1426         ┆ 29.6          ┆ 111.8        │\n",
       "│ 4490 ┆ 2024-07-17 ┆ 1332.0  ┆ 1429.0  ┆ … ┆ 2520  ┆ 385           ┆ 18.1          ┆ 121.0        │\n",
       "│ 4490 ┆ 2024-07-22 ┆ 1270.0  ┆ 1454.0  ┆ … ┆ 2520  ┆ 385           ┆ 18.1          ┆ 121.0        │\n",
       "│ 4506 ┆ 2024-08-19 ┆ 564.0   ┆ 612.0   ┆ … ┆ 90675 ┆ -3105         ┆ 19.8          ┆ 323.3        │\n",
       "│ 4540 ┆ 2024-09-24 ┆ 4125.0  ┆ 4254.0  ┆ … ┆ 43690 ┆ 10575         ┆ 18.0          ┆ 88.5         │\n",
       "│ 4540 ┆ 2024-09-26 ┆ 4400.0  ┆ 4530.0  ┆ … ┆ 43690 ┆ 10575         ┆ 18.0          ┆ 88.5         │\n",
       "│ 4704 ┆ 2024-08-13 ┆ 8000.0  ┆ 8451.0  ┆ … ┆ 68603 ┆ 12309         ┆ 12.8          ┆ 47.2         │\n",
       "│ 4716 ┆ 2024-09-26 ┆ 14275.0 ┆ 15190.0 ┆ … ┆ 63915 ┆ 22194         ┆ 11.4          ┆ 56.9         │\n",
       "│ 4792 ┆ 2024-08-07 ┆ 2033.0  ┆ 2145.0  ┆ … ┆ 7269  ┆ 1978          ┆ 34.0          ┆ 74.5         │\n",
       "│ 4816 ┆ 2024-10-30 ┆ 3350.0  ┆ 3475.0  ┆ … ┆ 23059 ┆ 6684          ┆ 16.0          ┆ 144.5        │\n",
       "└──────┴────────────┴─────────┴─────────┴───┴───────┴───────────────┴───────────────┴──────────────┘"
      ]
     },
     "execution_count": 64,
     "metadata": {},
     "output_type": "execute_result"
    }
   ],
   "source": [
    "df = screened_df\n",
    "\n",
    "df = df.filter([\n",
    "    pl.col(\"zs25\")>=min_zs25,\n",
    "    pl.col(\"sales\")>=min_sales,\n",
    "    pl.col(\"daily_updown_rate\")>=min_daily_updown_rate,\n",
    "    pl.col(\"overnight_updown_rate\")>=min_overnight_updown_rate,\n",
    "    pl.col(\"sales_growthrate\")>=min_sales_growthrate,\n",
    "    pl.lit(min_sgr_dogr_ratio) * pl.col(\"sales_growthrate\")<pl.col(\"diff_operating_income_growthrate\")\n",
    "])\n",
    "df[30:40]"
   ]
  },
  {
   "cell_type": "code",
   "execution_count": 65,
   "id": "80324471-804b-4c3e-bc4e-a5e9e8156ed5",
   "metadata": {},
   "outputs": [],
   "source": [
    "##### \n",
    "##### individual stock info\n",
    "#####"
   ]
  },
  {
   "cell_type": "code",
   "execution_count": 69,
   "id": "9c54ab64-557d-4148-9cfc-7ca6cdb4d7e0",
   "metadata": {},
   "outputs": [],
   "source": [
    "# set code\n",
    "code = 4478\n",
    "marked_day = date(2024, 10, 3)"
   ]
  },
  {
   "cell_type": "code",
   "execution_count": 70,
   "id": "6ba4260f-64fc-427a-b345-7f009301e017",
   "metadata": {},
   "outputs": [
    {
     "name": "stdout",
     "output_type": "stream",
     "text": [
      "フリー(4478)の銘柄情報\n",
      "\n",
      "終値: 2744.0円(2024年10月03日)\n",
      "予想配当利回り: 0.0%(2024年10月03日)\n",
      "予想PER: None倍(2024年10月03日)\n",
      "実績PBR: 9.58倍(2024年10月03日)\n",
      "自己資本比率: 42.0%(2024年10月03日)\n",
      "予想ROE: 決算予想がないため、表示不可\n",
      "予想ROA: 決算予想がないため、表示不可\n",
      "時価総額: 1608.3億円(2024年10月03日)\n",
      "\n",
      "4478(フリー)の四季報データ履歴\n",
      "\n",
      "発行日: 2024年09月13日\n",
      "【黒字近づく】\n",
      "  柱のERPは中堅企業の追加契約が順調に推移、一部製品の値上げも寄与。個人向け堅調増。増収効果と広告宣伝費圧縮、開発費の資産計上などで営業赤字幅が急減。買収時の一括減損特損消える。\n",
      "【効率化】\n",
      "  請求書や法人カードの従量課金型、顧客自身による追加購入など営業の効率化を模索。制度対応が一服、蓄積した見込み客への再提案に重点置いて生産性向上。\n",
      "\n",
      "発行日: 2024年06月14日\n",
      "【赤字激減】\n",
      "  高単価な中堅企業向けが順調増。人員増や広告費増などの先行費用重い。25年6月期は中堅企業の追加契約が大幅増。費用増も徹底的に抑制し、営業赤字幅は急縮小。買収関連の減損特損消える。\n",
      "【転換点】\n",
      "  25年6月期に調整後利益で上場後初の黒字化が視野。開発費の資産計上開始、固定資産や買収時のれんの毎四半期減損処理も終了。7月に会計製品を価格改定。\n",
      "\n",
      "発行日: 2024年03月16日\n",
      "【赤字続く】\n",
      "  制度改正を背景に高単価の中堅企業向けが順調増。ただ人員増や広告費増などの先行費用重い。なお営業赤字。買収関連特損。25年6月期は追加契約が大幅増。費用増負担も一服。赤字幅急縮小。\n",
      "【借り入れ】\n",
      "  25年6月期に調整後利益で黒字化視野。32億円を借り入れ、カード事業強化。決済から証憑回収、仕訳まで一貫提供。山梨中央銀行と提携、域内DX推進。\n",
      "\n",
      "発行日: 2023年12月15日\n",
      "【費用先行】\n",
      "  中堅企業向けの開拓進み、クラウド型ERPの新規利用者が順調増。ただ、人員や広告費などの費用増重い。大幅増収ながら営業赤字やや拡大。買収関連特損、案件増えれば最終赤字幅は一段増す。\n",
      "【取得】\n",
      "  エン・ジャパンからフリーランス管理ツール事業を取得。同分野向けの受発注管理を強化。AIが契約書のレビューをサポートする『契約チェック』を開始。\n"
     ]
    }
   ],
   "source": [
    "### 最新情報\n",
    "# 指定したcodeの指定した日における株価と各種ファンダメンタルズデータをまとめて標準出力する\n",
    "# pricelist_dfは、raw_pricelistかreviced_pricelistかケースに応じて使い分ける。\n",
    "# def print_finance_quote(\n",
    "#        pricelist_df: pl.DataFrame,\n",
    "#        finance_quote_df: pl.DataFrame,\n",
    "#        code: int, \n",
    "#        valuation_date: date=date.today()\n",
    "#    ) -> None:\n",
    "print_finance_quote(PPL.df, FPL.df, code, valuation_date=marked_day)\n",
    "print()\n",
    "SPL.print_stock_df(code, num=4, valuation_date=valuation_date)"
   ]
  },
  {
   "cell_type": "code",
   "execution_count": 71,
   "id": "97ad7859-d0b0-4177-a17e-a43db5b07037",
   "metadata": {},
   "outputs": [
    {
     "data": {
      "text/html": [
       "<iframe\n",
       "    scrolling=\"no\"\n",
       "    width=\"100%\"\n",
       "    height=\"545px\"\n",
       "    src=\"iframe_figures/figure_71.html\"\n",
       "    frameborder=\"0\"\n",
       "    allowfullscreen\n",
       "></iframe>\n"
      ]
     },
     "metadata": {},
     "output_type": "display_data"
    }
   ],
   "source": [
    "KFIG = KessanFig(code, \"四半期\", end_settlement_date=valuation_date)\n",
    "KFIG.add_trace_profits()\n",
    "KFIG.fig.show()"
   ]
  },
  {
   "cell_type": "code",
   "execution_count": 72,
   "id": "4a5fbfdd-0e47-4955-9515-f5d3128423f1",
   "metadata": {},
   "outputs": [
    {
     "name": "stdout",
     "output_type": "stream",
     "text": [
      "2024-09-26\n"
     ]
    },
    {
     "data": {
      "text/html": [
       "<iframe\n",
       "    scrolling=\"no\"\n",
       "    width=\"100%\"\n",
       "    height=\"620\"\n",
       "    src=\"iframe_figures/figure_72.html\"\n",
       "    frameborder=\"0\"\n",
       "    allowfullscreen\n",
       "></iframe>\n"
      ]
     },
     "metadata": {},
     "output_type": "display_data"
    }
   ],
   "source": [
    "print(valuation_date)\n",
    "delta = relativedelta(days=90)\n",
    "start_date = marked_day - delta\n",
    "end_date = marked_day + delta\n",
    "PFIG = PricelistFig(code, RevPl.df, MPL.df, start_date, end_date)\n",
    "df = RevPl.df.filter(pl.col(\"code\")==code).filter(pl.col(\"date\")<=marked_day)\n",
    "vline_date = df[\"date\"].to_list()[-1]\n",
    "# screeningで抽出した日にvlineを引く \n",
    "PFIG.add_vline(marked_day)\n",
    "# 決算発表日にvlineを引く\n",
    "PFIG.add_vline_announcement_date()\n",
    "PFIG.fig.show()"
   ]
  },
  {
   "cell_type": "code",
   "execution_count": 63,
   "id": "c2a0859d-fee9-436f-abb8-baf8bfdba468",
   "metadata": {},
   "outputs": [
    {
     "data": {
      "text/html": [
       "<div><style>\n",
       ".dataframe > thead > tr,\n",
       ".dataframe > tbody > tr {\n",
       "  text-align: right;\n",
       "  white-space: pre-wrap;\n",
       "}\n",
       "</style>\n",
       "<small>shape: (4, 11)</small><table border=\"1\" class=\"dataframe\"><thead><tr><th>code</th><th>settlement_date</th><th>settlement_type</th><th>announcement_date</th><th>sales</th><th>operating_income</th><th>ordinary_profit</th><th>final_profit</th><th>reviced_eps</th><th>dividend</th><th>quater</th></tr><tr><td>i64</td><td>date</td><td>str</td><td>date</td><td>i64</td><td>i64</td><td>i64</td><td>i64</td><td>f64</td><td>f64</td><td>i64</td></tr></thead><tbody><tr><td>4403</td><td>2024-03-31</td><td>&quot;本&quot;</td><td>2024-05-09</td><td>222252</td><td>42142</td><td>45577</td><td>33990</td><td>141.2</td><td>38.0</td><td>4</td></tr><tr><td>4403</td><td>2024-03-31</td><td>&quot;四&quot;</td><td>2024-05-09</td><td>62153</td><td>8880</td><td>9844</td><td>7979</td><td>33.1</td><td>14.3</td><td>4</td></tr><tr><td>4403</td><td>2025-03-31</td><td>&quot;予&quot;</td><td>2024-05-09</td><td>232000</td><td>40500</td><td>41600</td><td>33000</td><td>138.4</td><td>40.0</td><td>4</td></tr><tr><td>4403</td><td>2024-06-30</td><td>&quot;四&quot;</td><td>2024-08-07</td><td>55110</td><td>13533</td><td>15160</td><td>11047</td><td>46.3</td><td>24.6</td><td>1</td></tr></tbody></table></div>"
      ],
      "text/plain": [
       "shape: (4, 11)\n",
       "┌──────┬─────────────┬─────────────┬─────────────┬───┬────────────┬────────────┬──────────┬────────┐\n",
       "│ code ┆ settlement_ ┆ settlement_ ┆ announcemen ┆ … ┆ final_prof ┆ reviced_ep ┆ dividend ┆ quater │\n",
       "│ ---  ┆ date        ┆ type        ┆ t_date      ┆   ┆ it         ┆ s          ┆ ---      ┆ ---    │\n",
       "│ i64  ┆ ---         ┆ ---         ┆ ---         ┆   ┆ ---        ┆ ---        ┆ f64      ┆ i64    │\n",
       "│      ┆ date        ┆ str         ┆ date        ┆   ┆ i64        ┆ f64        ┆          ┆        │\n",
       "╞══════╪═════════════╪═════════════╪═════════════╪═══╪════════════╪════════════╪══════════╪════════╡\n",
       "│ 4403 ┆ 2024-03-31  ┆ 本          ┆ 2024-05-09  ┆ … ┆ 33990      ┆ 141.2      ┆ 38.0     ┆ 4      │\n",
       "│ 4403 ┆ 2024-03-31  ┆ 四          ┆ 2024-05-09  ┆ … ┆ 7979       ┆ 33.1       ┆ 14.3     ┆ 4      │\n",
       "│ 4403 ┆ 2025-03-31  ┆ 予          ┆ 2024-05-09  ┆ … ┆ 33000      ┆ 138.4      ┆ 40.0     ┆ 4      │\n",
       "│ 4403 ┆ 2024-06-30  ┆ 四          ┆ 2024-08-07  ┆ … ┆ 11047      ┆ 46.3       ┆ 24.6     ┆ 1      │\n",
       "└──────┴─────────────┴─────────────┴─────────────┴───┴────────────┴────────────┴──────────┴────────┘"
      ]
     },
     "execution_count": 63,
     "metadata": {},
     "output_type": "execute_result"
    }
   ],
   "source": [
    "fp = DATA_DIR/\"kessan.parquet\"\n",
    "df = read_data(fp)\n",
    "KPL = KessanPl(df)\n",
    "\n",
    "KPL.df.filter(pl.col(\"code\")==code).filter(pl.col(\"announcement_date\")>=start_date).filter(pl.col(\"announcement_date\")<=end_date)"
   ]
  },
  {
   "cell_type": "code",
   "execution_count": null,
   "id": "6fa0ddf7-22da-40a9-af49-36b61e040fdf",
   "metadata": {},
   "outputs": [],
   "source": []
  }
 ],
 "metadata": {
  "kernelspec": {
   "display_name": "Python 3 (ipykernel)",
   "language": "python",
   "name": "python3"
  },
  "language_info": {
   "codemirror_mode": {
    "name": "ipython",
    "version": 3
   },
   "file_extension": ".py",
   "mimetype": "text/x-python",
   "name": "python",
   "nbconvert_exporter": "python",
   "pygments_lexer": "ipython3",
   "version": "3.12.3"
  }
 },
 "nbformat": 4,
 "nbformat_minor": 5
}
