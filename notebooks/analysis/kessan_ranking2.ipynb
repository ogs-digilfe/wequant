{
 "cells": [
  {
   "cell_type": "code",
   "execution_count": 1,
   "id": "e4f67817-a472-4dbd-8a08-e82ca6ca7099",
   "metadata": {},
   "outputs": [],
   "source": [
    "#### 利益改善され、割安な銘柄が動意づいたときに検知することを目的とする"
   ]
  },
  {
   "cell_type": "code",
   "execution_count": 2,
   "id": "7c3aad63-32da-47b8-becd-8f495dcf985a",
   "metadata": {},
   "outputs": [],
   "source": [
    "# 読み込みファイルパスの設定とimportしたいmoduleパス(pythonパス)の設定\n",
    "from pathlib import Path\n",
    "import os, sys\n",
    "\n",
    "CURRENT_DIR = Path(os.getcwd())\n",
    "PJ_DIR = CURRENT_DIR.parent.parent\n",
    "LIB_DIR = PJ_DIR / \"lib\"\n",
    "DATA_DIR = PJ_DIR / \"data\" \n",
    "\n",
    "sys.path.append(str(LIB_DIR))\n",
    "\n",
    "# notebook内で利用するmoduleのimport\n",
    "from lib_dataprocess import KessanPl, PricelistFig, PricelistPl, MeigaralistPl, read_data\n",
    "from lib_dataprocess import ShikihoPl, FinancequotePl, print_finance_quote, PricelistFig\n",
    "import polars as pl\n",
    "from datetime import date\n",
    "from dateutil.relativedelta import relativedelta\n",
    "\n",
    "fp = DATA_DIR/\"reviced_pricelist.parquet\"\n",
    "df = read_data(fp)\n",
    "RevPl = PricelistPl(df)\n",
    "\n",
    "# dataの読み込み\n",
    "fp = DATA_DIR/\"raw_pricelist.parquet\"\n",
    "df = read_data(fp)\n",
    "PPL = PricelistPl(df)\n",
    "\n",
    "fp = DATA_DIR/\"finance_quote.parquet\"\n",
    "df = read_data(fp)\n",
    "FPL = FinancequotePl(df)\n",
    "FPL.with_columns_market_cap()\n",
    "\n",
    "fp = DATA_DIR/\"meigaralist.parquet\"\n",
    "df = read_data(fp)\n",
    "MPL = MeigaralistPl(df)\n",
    "\n",
    "fp = DATA_DIR/\"shikiho.parquet\"\n",
    "df = read_data(fp)\n",
    "SPL = ShikihoPl(df)\n"
   ]
  },
  {
   "cell_type": "code",
   "execution_count": 3,
   "id": "0f5adef0-992f-4d05-8bc9-2aa834b7b7ca",
   "metadata": {},
   "outputs": [],
   "source": [
    "#####\n",
    "##### KessanPl.dfの加工\n",
    "#####"
   ]
  },
  {
   "cell_type": "code",
   "execution_count": 4,
   "id": "47ac89e9-9358-4bf3-87e7-2c42804ebac8",
   "metadata": {},
   "outputs": [],
   "source": [
    "#パラメータのセット\n",
    "# 決算日の指定 -> 指定した日の四半期決算でランキングを作成する\n",
    "valuation_date = date.today()\n",
    "valuation_date = date(2024, 9, 26)\n",
    "# 売上高伸び率を何%以上にするか\n",
    "min_sales_growthrate = 10"
   ]
  },
  {
   "cell_type": "code",
   "execution_count": 5,
   "id": "0e3166ab-39e3-4032-b83c-b21b7a77ee83",
   "metadata": {},
   "outputs": [
    {
     "data": {
      "text/html": [
       "<div><style>\n",
       ".dataframe > thead > tr,\n",
       ".dataframe > tbody > tr {\n",
       "  text-align: right;\n",
       "  white-space: pre-wrap;\n",
       "}\n",
       "</style>\n",
       "<small>shape: (3_717, 7)</small><table border=\"1\" class=\"dataframe\"><thead><tr><th>code</th><th>settlement_date</th><th>announcement_date</th><th>sales</th><th>operating_income</th><th>sales_growthrate</th><th>diff_operating_income_growthrate</th></tr><tr><td>i64</td><td>date</td><td>date</td><td>i64</td><td>i64</td><td>f64</td><td>f64</td></tr></thead><tbody><tr><td>1301</td><td>2024-06-30</td><td>2024-08-05</td><td>68204</td><td>3102</td><td>9.4</td><td>11.7</td></tr><tr><td>1332</td><td>2024-06-30</td><td>2024-08-06</td><td>220644</td><td>9724</td><td>10.4</td><td>0.0</td></tr><tr><td>1333</td><td>2024-06-30</td><td>2024-08-05</td><td>256928</td><td>7657</td><td>2.4</td><td>-0.5</td></tr><tr><td>1375</td><td>2024-06-30</td><td>2024-08-08</td><td>10172</td><td>-77</td><td>22.9</td><td>12.5</td></tr><tr><td>1376</td><td>2024-05-31</td><td>2024-07-10</td><td>23224</td><td>1150</td><td>1.9</td><td>-16.0</td></tr><tr><td>&hellip;</td><td>&hellip;</td><td>&hellip;</td><td>&hellip;</td><td>&hellip;</td><td>&hellip;</td><td>&hellip;</td></tr><tr><td>9991</td><td>2024-06-30</td><td>2024-07-25</td><td>26954</td><td>1366</td><td>-14.5</td><td>-2.5</td></tr><tr><td>9993</td><td>2024-05-31</td><td>2024-07-11</td><td>24969</td><td>-408</td><td>1.8</td><td>-108.5</td></tr><tr><td>9994</td><td>2024-06-30</td><td>2024-08-09</td><td>39151</td><td>1286</td><td>0.6</td><td>-14.9</td></tr><tr><td>9996</td><td>2024-06-30</td><td>2024-08-09</td><td>11994</td><td>326</td><td>3.4</td><td>-6.3</td></tr><tr><td>9997</td><td>2024-06-30</td><td>2024-07-31</td><td>51368</td><td>982</td><td>-0.9</td><td>36.7</td></tr></tbody></table></div>"
      ],
      "text/plain": [
       "shape: (3_717, 7)\n",
       "┌──────┬────────────────┬────────────────┬────────┬────────────────┬───────────────┬───────────────┐\n",
       "│ code ┆ settlement_dat ┆ announcement_d ┆ sales  ┆ operating_inco ┆ sales_growthr ┆ diff_operatin │\n",
       "│ ---  ┆ e              ┆ ate            ┆ ---    ┆ me             ┆ ate           ┆ g_income_grow │\n",
       "│ i64  ┆ ---            ┆ ---            ┆ i64    ┆ ---            ┆ ---           ┆ thra…         │\n",
       "│      ┆ date           ┆ date           ┆        ┆ i64            ┆ f64           ┆ ---           │\n",
       "│      ┆                ┆                ┆        ┆                ┆               ┆ f64           │\n",
       "╞══════╪════════════════╪════════════════╪════════╪════════════════╪═══════════════╪═══════════════╡\n",
       "│ 1301 ┆ 2024-06-30     ┆ 2024-08-05     ┆ 68204  ┆ 3102           ┆ 9.4           ┆ 11.7          │\n",
       "│ 1332 ┆ 2024-06-30     ┆ 2024-08-06     ┆ 220644 ┆ 9724           ┆ 10.4          ┆ 0.0           │\n",
       "│ 1333 ┆ 2024-06-30     ┆ 2024-08-05     ┆ 256928 ┆ 7657           ┆ 2.4           ┆ -0.5          │\n",
       "│ 1375 ┆ 2024-06-30     ┆ 2024-08-08     ┆ 10172  ┆ -77            ┆ 22.9          ┆ 12.5          │\n",
       "│ 1376 ┆ 2024-05-31     ┆ 2024-07-10     ┆ 23224  ┆ 1150           ┆ 1.9           ┆ -16.0         │\n",
       "│ …    ┆ …              ┆ …              ┆ …      ┆ …              ┆ …             ┆ …             │\n",
       "│ 9991 ┆ 2024-06-30     ┆ 2024-07-25     ┆ 26954  ┆ 1366           ┆ -14.5         ┆ -2.5          │\n",
       "│ 9993 ┆ 2024-05-31     ┆ 2024-07-11     ┆ 24969  ┆ -408           ┆ 1.8           ┆ -108.5        │\n",
       "│ 9994 ┆ 2024-06-30     ┆ 2024-08-09     ┆ 39151  ┆ 1286           ┆ 0.6           ┆ -14.9         │\n",
       "│ 9996 ┆ 2024-06-30     ┆ 2024-08-09     ┆ 11994  ┆ 326            ┆ 3.4           ┆ -6.3          │\n",
       "│ 9997 ┆ 2024-06-30     ┆ 2024-07-31     ┆ 51368  ┆ 982            ┆ -0.9          ┆ 36.7          │\n",
       "└──────┴────────────────┴────────────────┴────────┴────────────────┴───────────────┴───────────────┘"
      ]
     },
     "execution_count": 5,
     "metadata": {},
     "output_type": "execute_result"
    }
   ],
   "source": [
    "# 読み込みと加工\n",
    "# 読み込み\n",
    "fp = DATA_DIR/\"kessan.parquet\"\n",
    "df = read_data(fp)\n",
    "KPL1 = KessanPl(df)\n",
    "KPL2 = KessanPl(df)\n",
    "\n",
    "# データ加工\n",
    "KPL1.with_columns_growthrate_lastyear()\n",
    "KPL2.with_columns_diff_growthrate()\n",
    "KPL1.df = KPL1.df.filter(pl.col(\"settlement_type\")==\"四\")\n",
    "KPL2.df = KPL2.df.filter(pl.col(\"settlement_type\")==\"四\")\n",
    "df = KPL1.df.join(KPL2.df, on=[\"code\", \"settlement_date\"], how=\"left\")\n",
    "df = df.select([\n",
    "    \"code\", \"settlement_date\", \"announcement_date\", \"sales\", \"operating_income\", \"sales_growthrate\", \"diff_operating_income_growthrate\"\n",
    "])\n",
    "# valuation_date日時点の最新データに絞る\n",
    "df = df.filter(pl.col(\"announcement_date\")<=valuation_date)\n",
    "df = df.group_by(\"code\").agg([\n",
    "    pl.col(\"settlement_date\").last().alias(\"settlement_date\"),\n",
    "    pl.col(\"announcement_date\").last().alias(\"announcement_date\"),\n",
    "    pl.col(\"sales\").last().alias(\"sales\"),\n",
    "    pl.col(\"operating_income\").last().alias(\"operating_income\"),\n",
    "    pl.col(\"sales_growthrate\").last().alias(\"sales_growthrate\"),\n",
    "    pl.col(\"diff_operating_income_growthrate\").last().alias(\"diff_operating_income_growthrate\")\n",
    "])\n",
    "\n",
    "target_date = valuation_date - relativedelta(days=90)\n",
    "df = df.filter(pl.col(\"announcement_date\")>target_date)\n",
    "\n",
    "cpl_df = df\n",
    "cpl_df"
   ]
  },
  {
   "cell_type": "code",
   "execution_count": 6,
   "id": "1379d260-4b9d-48cc-87f3-8ae51e821e50",
   "metadata": {},
   "outputs": [],
   "source": [
    "##### \n",
    "##### reviced_pricelistの加工\n",
    "#####"
   ]
  },
  {
   "cell_type": "code",
   "execution_count": 7,
   "id": "c6783e27-ca11-4806-a399-fb294f1f45d5",
   "metadata": {},
   "outputs": [],
   "source": [
    "#パラメータのセット\n",
    "min_zs25 = 2\n",
    "min_daily_updown_rate = 2\n",
    "min_overnight_updown_rate = 0"
   ]
  },
  {
   "cell_type": "code",
   "execution_count": 8,
   "id": "757b9d59-35ca-4b14-bfee-279c7ccf9c83",
   "metadata": {},
   "outputs": [
    {
     "data": {
      "text/html": [
       "<div><style>\n",
       ".dataframe > thead > tr,\n",
       ".dataframe > tbody > tr {\n",
       "  text-align: right;\n",
       "  white-space: pre-wrap;\n",
       "}\n",
       "</style>\n",
       "<small>shape: (228_739, 11)</small><table border=\"1\" class=\"dataframe\"><thead><tr><th>code</th><th>date</th><th>open</th><th>high</th><th>low</th><th>close</th><th>volume</th><th>accumulated_split_rate</th><th>zs25</th><th>daily_updown_rate</th><th>overnight_updown_rate</th></tr><tr><td>i64</td><td>date</td><td>f64</td><td>f64</td><td>f64</td><td>f64</td><td>f64</td><td>f64</td><td>f64</td><td>f64</td><td>f64</td></tr></thead><tbody><tr><td>1301</td><td>2024-08-05</td><td>3610.0</td><td>3780.0</td><td>3400.0</td><td>3450.0</td><td>105000.0</td><td>1.0</td><td>4.2</td><td>-4.43</td><td>-3.99</td></tr><tr><td>1301</td><td>2024-08-06</td><td>3855.0</td><td>3855.0</td><td>3605.0</td><td>3665.0</td><td>50100.0</td><td>1.0</td><td>1.2</td><td>-4.93</td><td>11.74</td></tr><tr><td>1301</td><td>2024-08-07</td><td>3630.0</td><td>3755.0</td><td>3600.0</td><td>3650.0</td><td>38600.0</td><td>1.0</td><td>0.58</td><td>0.55</td><td>-0.95</td></tr><tr><td>1301</td><td>2024-08-08</td><td>3635.0</td><td>3690.0</td><td>3630.0</td><td>3645.0</td><td>23400.0</td><td>1.0</td><td>-0.23</td><td>0.28</td><td>-0.41</td></tr><tr><td>1301</td><td>2024-08-09</td><td>3690.0</td><td>3720.0</td><td>3630.0</td><td>3675.0</td><td>31700.0</td><td>1.0</td><td>0.17</td><td>-0.41</td><td>1.23</td></tr><tr><td>&hellip;</td><td>&hellip;</td><td>&hellip;</td><td>&hellip;</td><td>&hellip;</td><td>&hellip;</td><td>&hellip;</td><td>&hellip;</td><td>&hellip;</td><td>&hellip;</td><td>&hellip;</td></tr><tr><td>9997</td><td>2024-10-28</td><td>702.0</td><td>711.0</td><td>699.0</td><td>708.0</td><td>154300.0</td><td>1.0</td><td>-0.59</td><td>0.85</td><td>0.86</td></tr><tr><td>9997</td><td>2024-10-29</td><td>711.0</td><td>722.0</td><td>710.0</td><td>716.0</td><td>205600.0</td><td>1.0</td><td>-0.39</td><td>0.7</td><td>0.42</td></tr><tr><td>9997</td><td>2024-10-30</td><td>715.0</td><td>718.0</td><td>711.0</td><td>712.0</td><td>208800.0</td><td>1.0</td><td>-0.33</td><td>-0.42</td><td>-0.14</td></tr><tr><td>9997</td><td>2024-10-31</td><td>710.0</td><td>716.0</td><td>706.0</td><td>714.0</td><td>160600.0</td><td>1.0</td><td>-0.42</td><td>0.56</td><td>-0.28</td></tr><tr><td>9997</td><td>2024-11-01</td><td>707.0</td><td>723.0</td><td>703.0</td><td>718.0</td><td>223100.0</td><td>1.0</td><td>-0.1</td><td>1.56</td><td>-0.98</td></tr></tbody></table></div>"
      ],
      "text/plain": [
       "shape: (228_739, 11)\n",
       "┌──────┬────────────┬────────┬────────┬───┬────────────────┬───────┬───────────────┬───────────────┐\n",
       "│ code ┆ date       ┆ open   ┆ high   ┆ … ┆ accumulated_sp ┆ zs25  ┆ daily_updown_ ┆ overnight_upd │\n",
       "│ ---  ┆ ---        ┆ ---    ┆ ---    ┆   ┆ lit_rate       ┆ ---   ┆ rate          ┆ own_rate      │\n",
       "│ i64  ┆ date       ┆ f64    ┆ f64    ┆   ┆ ---            ┆ f64   ┆ ---           ┆ ---           │\n",
       "│      ┆            ┆        ┆        ┆   ┆ f64            ┆       ┆ f64           ┆ f64           │\n",
       "╞══════╪════════════╪════════╪════════╪═══╪════════════════╪═══════╪═══════════════╪═══════════════╡\n",
       "│ 1301 ┆ 2024-08-05 ┆ 3610.0 ┆ 3780.0 ┆ … ┆ 1.0            ┆ 4.2   ┆ -4.43         ┆ -3.99         │\n",
       "│ 1301 ┆ 2024-08-06 ┆ 3855.0 ┆ 3855.0 ┆ … ┆ 1.0            ┆ 1.2   ┆ -4.93         ┆ 11.74         │\n",
       "│ 1301 ┆ 2024-08-07 ┆ 3630.0 ┆ 3755.0 ┆ … ┆ 1.0            ┆ 0.58  ┆ 0.55          ┆ -0.95         │\n",
       "│ 1301 ┆ 2024-08-08 ┆ 3635.0 ┆ 3690.0 ┆ … ┆ 1.0            ┆ -0.23 ┆ 0.28          ┆ -0.41         │\n",
       "│ 1301 ┆ 2024-08-09 ┆ 3690.0 ┆ 3720.0 ┆ … ┆ 1.0            ┆ 0.17  ┆ -0.41         ┆ 1.23          │\n",
       "│ …    ┆ …          ┆ …      ┆ …      ┆ … ┆ …              ┆ …     ┆ …             ┆ …             │\n",
       "│ 9997 ┆ 2024-10-28 ┆ 702.0  ┆ 711.0  ┆ … ┆ 1.0            ┆ -0.59 ┆ 0.85          ┆ 0.86          │\n",
       "│ 9997 ┆ 2024-10-29 ┆ 711.0  ┆ 722.0  ┆ … ┆ 1.0            ┆ -0.39 ┆ 0.7           ┆ 0.42          │\n",
       "│ 9997 ┆ 2024-10-30 ┆ 715.0  ┆ 718.0  ┆ … ┆ 1.0            ┆ -0.33 ┆ -0.42         ┆ -0.14         │\n",
       "│ 9997 ┆ 2024-10-31 ┆ 710.0  ┆ 716.0  ┆ … ┆ 1.0            ┆ -0.42 ┆ 0.56          ┆ -0.28         │\n",
       "│ 9997 ┆ 2024-11-01 ┆ 707.0  ┆ 723.0  ┆ … ┆ 1.0            ┆ -0.1  ┆ 1.56          ┆ -0.98         │\n",
       "└──────┴────────────┴────────┴────────┴───┴────────────────┴───────┴───────────────┴───────────────┘"
      ]
     },
     "execution_count": 8,
     "metadata": {},
     "output_type": "execute_result"
    }
   ],
   "source": [
    "# 読み込みと加工\n",
    "# 読み込み\n",
    "fp = DATA_DIR/\"reviced_pricelist.parquet\"\n",
    "df = read_data(fp)\n",
    "RPL = PricelistPl(df)\n",
    "\n",
    "# データ加工\n",
    "# rpl_dfに評価列を追加\n",
    "RPL.with_columns_moving_zscore()\n",
    "RPL.with_columns_daily_updown_rate()\n",
    "RPL.with_columns_overnight_updown(\"yesterday\")\n",
    "rpl_df = RPL.df\n",
    "# rpl_dfの評価対象行を抽出\n",
    "ori_cols = rpl_df.columns\n",
    "df = cpl_df\n",
    "df = df.select([\"code\", \"announcement_date\"])\n",
    "df = df.with_columns([\n",
    "    pl.col(\"announcement_date\").alias(\"start_date\"),\n",
    "    (pl.col(\"announcement_date\") + pl.duration(days=93)).alias(\"end_date\")\n",
    "])\n",
    "df = df.select([\"code\", \"start_date\", \"end_date\"])\n",
    "df = rpl_df.join(df, on=\"code\", how=\"left\")\n",
    "df = df.filter(pl.col(\"date\")>=pl.col(\"start_date\"))\\\n",
    "    .filter(pl.col(\"date\")<=pl.col(\"end_date\"))\n",
    "df = df.select(ori_cols)\n",
    "rpl_df = df\n",
    "rpl_df"
   ]
  },
  {
   "cell_type": "code",
   "execution_count": 9,
   "id": "e2c7da84-b5b4-402e-93a2-63192f75fd82",
   "metadata": {},
   "outputs": [],
   "source": [
    "##### \n",
    "##### cpl_dfとrpl_dfを連結して、screening用のdfを作成\n",
    "#####"
   ]
  },
  {
   "cell_type": "code",
   "execution_count": 10,
   "id": "259a9099-11a6-4198-af8a-59c2a15543ef",
   "metadata": {},
   "outputs": [
    {
     "data": {
      "text/html": [
       "<div><style>\n",
       ".dataframe > thead > tr,\n",
       ".dataframe > tbody > tr {\n",
       "  text-align: right;\n",
       "  white-space: pre-wrap;\n",
       "}\n",
       "</style>\n",
       "<small>shape: (228_739, 17)</small><table border=\"1\" class=\"dataframe\"><thead><tr><th>code</th><th>date</th><th>open</th><th>high</th><th>low</th><th>close</th><th>volume</th><th>accumulated_split_rate</th><th>zs25</th><th>daily_updown_rate</th><th>overnight_updown_rate</th><th>settlement_date</th><th>announcement_date</th><th>sales</th><th>operating_income</th><th>sales_growthrate</th><th>diff_operating_income_growthrate</th></tr><tr><td>i64</td><td>date</td><td>f64</td><td>f64</td><td>f64</td><td>f64</td><td>f64</td><td>f64</td><td>f64</td><td>f64</td><td>f64</td><td>date</td><td>date</td><td>i64</td><td>i64</td><td>f64</td><td>f64</td></tr></thead><tbody><tr><td>1301</td><td>2024-08-05</td><td>3610.0</td><td>3780.0</td><td>3400.0</td><td>3450.0</td><td>105000.0</td><td>1.0</td><td>4.2</td><td>-4.43</td><td>-3.99</td><td>2024-06-30</td><td>2024-08-05</td><td>68204</td><td>3102</td><td>9.4</td><td>11.7</td></tr><tr><td>1301</td><td>2024-08-06</td><td>3855.0</td><td>3855.0</td><td>3605.0</td><td>3665.0</td><td>50100.0</td><td>1.0</td><td>1.2</td><td>-4.93</td><td>11.74</td><td>2024-06-30</td><td>2024-08-05</td><td>68204</td><td>3102</td><td>9.4</td><td>11.7</td></tr><tr><td>1301</td><td>2024-08-07</td><td>3630.0</td><td>3755.0</td><td>3600.0</td><td>3650.0</td><td>38600.0</td><td>1.0</td><td>0.58</td><td>0.55</td><td>-0.95</td><td>2024-06-30</td><td>2024-08-05</td><td>68204</td><td>3102</td><td>9.4</td><td>11.7</td></tr><tr><td>1301</td><td>2024-08-08</td><td>3635.0</td><td>3690.0</td><td>3630.0</td><td>3645.0</td><td>23400.0</td><td>1.0</td><td>-0.23</td><td>0.28</td><td>-0.41</td><td>2024-06-30</td><td>2024-08-05</td><td>68204</td><td>3102</td><td>9.4</td><td>11.7</td></tr><tr><td>1301</td><td>2024-08-09</td><td>3690.0</td><td>3720.0</td><td>3630.0</td><td>3675.0</td><td>31700.0</td><td>1.0</td><td>0.17</td><td>-0.41</td><td>1.23</td><td>2024-06-30</td><td>2024-08-05</td><td>68204</td><td>3102</td><td>9.4</td><td>11.7</td></tr><tr><td>&hellip;</td><td>&hellip;</td><td>&hellip;</td><td>&hellip;</td><td>&hellip;</td><td>&hellip;</td><td>&hellip;</td><td>&hellip;</td><td>&hellip;</td><td>&hellip;</td><td>&hellip;</td><td>&hellip;</td><td>&hellip;</td><td>&hellip;</td><td>&hellip;</td><td>&hellip;</td><td>&hellip;</td></tr><tr><td>9997</td><td>2024-10-28</td><td>702.0</td><td>711.0</td><td>699.0</td><td>708.0</td><td>154300.0</td><td>1.0</td><td>-0.59</td><td>0.85</td><td>0.86</td><td>2024-06-30</td><td>2024-07-31</td><td>51368</td><td>982</td><td>-0.9</td><td>36.7</td></tr><tr><td>9997</td><td>2024-10-29</td><td>711.0</td><td>722.0</td><td>710.0</td><td>716.0</td><td>205600.0</td><td>1.0</td><td>-0.39</td><td>0.7</td><td>0.42</td><td>2024-06-30</td><td>2024-07-31</td><td>51368</td><td>982</td><td>-0.9</td><td>36.7</td></tr><tr><td>9997</td><td>2024-10-30</td><td>715.0</td><td>718.0</td><td>711.0</td><td>712.0</td><td>208800.0</td><td>1.0</td><td>-0.33</td><td>-0.42</td><td>-0.14</td><td>2024-06-30</td><td>2024-07-31</td><td>51368</td><td>982</td><td>-0.9</td><td>36.7</td></tr><tr><td>9997</td><td>2024-10-31</td><td>710.0</td><td>716.0</td><td>706.0</td><td>714.0</td><td>160600.0</td><td>1.0</td><td>-0.42</td><td>0.56</td><td>-0.28</td><td>2024-06-30</td><td>2024-07-31</td><td>51368</td><td>982</td><td>-0.9</td><td>36.7</td></tr><tr><td>9997</td><td>2024-11-01</td><td>707.0</td><td>723.0</td><td>703.0</td><td>718.0</td><td>223100.0</td><td>1.0</td><td>-0.1</td><td>1.56</td><td>-0.98</td><td>2024-06-30</td><td>2024-07-31</td><td>51368</td><td>982</td><td>-0.9</td><td>36.7</td></tr></tbody></table></div>"
      ],
      "text/plain": [
       "shape: (228_739, 17)\n",
       "┌──────┬────────────┬────────┬────────┬───┬───────┬────────────────┬───────────────┬───────────────┐\n",
       "│ code ┆ date       ┆ open   ┆ high   ┆ … ┆ sales ┆ operating_inco ┆ sales_growthr ┆ diff_operatin │\n",
       "│ ---  ┆ ---        ┆ ---    ┆ ---    ┆   ┆ ---   ┆ me             ┆ ate           ┆ g_income_grow │\n",
       "│ i64  ┆ date       ┆ f64    ┆ f64    ┆   ┆ i64   ┆ ---            ┆ ---           ┆ thra…         │\n",
       "│      ┆            ┆        ┆        ┆   ┆       ┆ i64            ┆ f64           ┆ ---           │\n",
       "│      ┆            ┆        ┆        ┆   ┆       ┆                ┆               ┆ f64           │\n",
       "╞══════╪════════════╪════════╪════════╪═══╪═══════╪════════════════╪═══════════════╪═══════════════╡\n",
       "│ 1301 ┆ 2024-08-05 ┆ 3610.0 ┆ 3780.0 ┆ … ┆ 68204 ┆ 3102           ┆ 9.4           ┆ 11.7          │\n",
       "│ 1301 ┆ 2024-08-06 ┆ 3855.0 ┆ 3855.0 ┆ … ┆ 68204 ┆ 3102           ┆ 9.4           ┆ 11.7          │\n",
       "│ 1301 ┆ 2024-08-07 ┆ 3630.0 ┆ 3755.0 ┆ … ┆ 68204 ┆ 3102           ┆ 9.4           ┆ 11.7          │\n",
       "│ 1301 ┆ 2024-08-08 ┆ 3635.0 ┆ 3690.0 ┆ … ┆ 68204 ┆ 3102           ┆ 9.4           ┆ 11.7          │\n",
       "│ 1301 ┆ 2024-08-09 ┆ 3690.0 ┆ 3720.0 ┆ … ┆ 68204 ┆ 3102           ┆ 9.4           ┆ 11.7          │\n",
       "│ …    ┆ …          ┆ …      ┆ …      ┆ … ┆ …     ┆ …              ┆ …             ┆ …             │\n",
       "│ 9997 ┆ 2024-10-28 ┆ 702.0  ┆ 711.0  ┆ … ┆ 51368 ┆ 982            ┆ -0.9          ┆ 36.7          │\n",
       "│ 9997 ┆ 2024-10-29 ┆ 711.0  ┆ 722.0  ┆ … ┆ 51368 ┆ 982            ┆ -0.9          ┆ 36.7          │\n",
       "│ 9997 ┆ 2024-10-30 ┆ 715.0  ┆ 718.0  ┆ … ┆ 51368 ┆ 982            ┆ -0.9          ┆ 36.7          │\n",
       "│ 9997 ┆ 2024-10-31 ┆ 710.0  ┆ 716.0  ┆ … ┆ 51368 ┆ 982            ┆ -0.9          ┆ 36.7          │\n",
       "│ 9997 ┆ 2024-11-01 ┆ 707.0  ┆ 723.0  ┆ … ┆ 51368 ┆ 982            ┆ -0.9          ┆ 36.7          │\n",
       "└──────┴────────────┴────────┴────────┴───┴───────┴────────────────┴───────────────┴───────────────┘"
      ]
     },
     "execution_count": 10,
     "metadata": {},
     "output_type": "execute_result"
    }
   ],
   "source": [
    "df = rpl_df.join(cpl_df, on=\"code\", how=\"left\")\n",
    "screened_df = df\n",
    "screened_df"
   ]
  },
  {
   "cell_type": "code",
   "execution_count": 11,
   "id": "cb23440d-8c46-4e58-9b5c-2cb9437e91d0",
   "metadata": {},
   "outputs": [],
   "source": [
    "##### \n",
    "##### screening\n",
    "#####"
   ]
  },
  {
   "cell_type": "code",
   "execution_count": 12,
   "id": "a132296d-864b-4960-b083-d7be57a1ee4c",
   "metadata": {},
   "outputs": [],
   "source": [
    "# para\n",
    "min_zs25 = 3\n",
    "min_daily_updown_rate = 2\n",
    "min_overnight_updown_rate = 0\n",
    "min_sales_growthrate = 10\n",
    "min_sgr_dogr_ratio = 2"
   ]
  },
  {
   "cell_type": "code",
   "execution_count": 13,
   "id": "f5deb4b4-b230-4934-b7ac-5dd5a531e7d8",
   "metadata": {},
   "outputs": [
    {
     "data": {
      "text/html": [
       "<div><style>\n",
       ".dataframe > thead > tr,\n",
       ".dataframe > tbody > tr {\n",
       "  text-align: right;\n",
       "  white-space: pre-wrap;\n",
       "}\n",
       "</style>\n",
       "<small>shape: (10, 17)</small><table border=\"1\" class=\"dataframe\"><thead><tr><th>code</th><th>date</th><th>open</th><th>high</th><th>low</th><th>close</th><th>volume</th><th>accumulated_split_rate</th><th>zs25</th><th>daily_updown_rate</th><th>overnight_updown_rate</th><th>settlement_date</th><th>announcement_date</th><th>sales</th><th>operating_income</th><th>sales_growthrate</th><th>diff_operating_income_growthrate</th></tr><tr><td>i64</td><td>date</td><td>f64</td><td>f64</td><td>f64</td><td>f64</td><td>f64</td><td>f64</td><td>f64</td><td>f64</td><td>f64</td><td>date</td><td>date</td><td>i64</td><td>i64</td><td>f64</td><td>f64</td></tr></thead><tbody><tr><td>3708</td><td>2024-09-26</td><td>3785.0</td><td>3880.0</td><td>3775.0</td><td>3865.0</td><td>44800.0</td><td>1.0</td><td>4.04</td><td>2.11</td><td>0.53</td><td>2024-06-30</td><td>2024-08-14</td><td>22702</td><td>1049</td><td>10.4</td><td>38.1</td></tr><tr><td>3727</td><td>2024-10-09</td><td>182.0</td><td>189.0</td><td>175.0</td><td>189.0</td><td>5.6819e6</td><td>1.0</td><td>4.74</td><td>3.85</td><td>30.94</td><td>2024-06-30</td><td>2024-08-13</td><td>1037</td><td>84</td><td>12.5</td><td>42.6</td></tr><tr><td>3763</td><td>2024-10-07</td><td>1599.0</td><td>1677.0</td><td>1591.0</td><td>1667.0</td><td>102700.0</td><td>1.0</td><td>4.4</td><td>4.25</td><td>0.95</td><td>2024-06-30</td><td>2024-08-09</td><td>1485</td><td>193</td><td>14.6</td><td>89.9</td></tr><tr><td>3773</td><td>2024-10-21</td><td>1120.0</td><td>1179.0</td><td>1108.0</td><td>1160.0</td><td>363200.0</td><td>1.0</td><td>4.57</td><td>3.57</td><td>3.9</td><td>2024-06-30</td><td>2024-08-07</td><td>1482</td><td>265</td><td>20.6</td><td>51.0</td></tr><tr><td>3837</td><td>2024-11-08</td><td>1878.0</td><td>1937.0</td><td>1876.0</td><td>1922.0</td><td>53700.0</td><td>1.0</td><td>3.94</td><td>2.34</td><td>0.75</td><td>2024-06-30</td><td>2024-08-07</td><td>3753</td><td>456</td><td>10.5</td><td>33.0</td></tr><tr><td>3920</td><td>2024-09-12</td><td>563.0</td><td>649.0</td><td>557.0</td><td>593.0</td><td>366800.0</td><td>1.0</td><td>4.63</td><td>5.33</td><td>1.81</td><td>2024-06-30</td><td>2024-08-09</td><td>576</td><td>147</td><td>25.2</td><td>64.7</td></tr><tr><td>3922</td><td>2024-07-11</td><td>1820.0</td><td>1871.0</td><td>1802.0</td><td>1871.0</td><td>50200.0</td><td>1.0</td><td>3.61</td><td>2.8</td><td>0.22</td><td>2024-05-31</td><td>2024-07-11</td><td>1925</td><td>484</td><td>19.7</td><td>44.5</td></tr><tr><td>3922</td><td>2024-07-12</td><td>1959.0</td><td>2116.0</td><td>1956.0</td><td>2081.0</td><td>267300.0</td><td>1.0</td><td>4.73</td><td>6.23</td><td>4.7</td><td>2024-05-31</td><td>2024-07-11</td><td>1925</td><td>484</td><td>19.7</td><td>44.5</td></tr><tr><td>3930</td><td>2024-12-13</td><td>931.0</td><td>1074.0</td><td>906.0</td><td>1000.0</td><td>257300.0</td><td>1.0</td><td>4.8</td><td>7.41</td><td>0.76</td><td>2024-07-31</td><td>2024-09-13</td><td>931</td><td>107</td><td>14.8</td><td>63.3</td></tr><tr><td>4026</td><td>2024-09-12</td><td>1700.0</td><td>1887.0</td><td>1695.0</td><td>1880.0</td><td>438600.0</td><td>1.0</td><td>3.15</td><td>10.59</td><td>0.0</td><td>2024-07-31</td><td>2024-09-11</td><td>6983</td><td>649</td><td>12.7</td><td>29.7</td></tr></tbody></table></div>"
      ],
      "text/plain": [
       "shape: (10, 17)\n",
       "┌──────┬────────────┬────────┬────────┬───┬───────┬────────────────┬───────────────┬───────────────┐\n",
       "│ code ┆ date       ┆ open   ┆ high   ┆ … ┆ sales ┆ operating_inco ┆ sales_growthr ┆ diff_operatin │\n",
       "│ ---  ┆ ---        ┆ ---    ┆ ---    ┆   ┆ ---   ┆ me             ┆ ate           ┆ g_income_grow │\n",
       "│ i64  ┆ date       ┆ f64    ┆ f64    ┆   ┆ i64   ┆ ---            ┆ ---           ┆ thra…         │\n",
       "│      ┆            ┆        ┆        ┆   ┆       ┆ i64            ┆ f64           ┆ ---           │\n",
       "│      ┆            ┆        ┆        ┆   ┆       ┆                ┆               ┆ f64           │\n",
       "╞══════╪════════════╪════════╪════════╪═══╪═══════╪════════════════╪═══════════════╪═══════════════╡\n",
       "│ 3708 ┆ 2024-09-26 ┆ 3785.0 ┆ 3880.0 ┆ … ┆ 22702 ┆ 1049           ┆ 10.4          ┆ 38.1          │\n",
       "│ 3727 ┆ 2024-10-09 ┆ 182.0  ┆ 189.0  ┆ … ┆ 1037  ┆ 84             ┆ 12.5          ┆ 42.6          │\n",
       "│ 3763 ┆ 2024-10-07 ┆ 1599.0 ┆ 1677.0 ┆ … ┆ 1485  ┆ 193            ┆ 14.6          ┆ 89.9          │\n",
       "│ 3773 ┆ 2024-10-21 ┆ 1120.0 ┆ 1179.0 ┆ … ┆ 1482  ┆ 265            ┆ 20.6          ┆ 51.0          │\n",
       "│ 3837 ┆ 2024-11-08 ┆ 1878.0 ┆ 1937.0 ┆ … ┆ 3753  ┆ 456            ┆ 10.5          ┆ 33.0          │\n",
       "│ 3920 ┆ 2024-09-12 ┆ 563.0  ┆ 649.0  ┆ … ┆ 576   ┆ 147            ┆ 25.2          ┆ 64.7          │\n",
       "│ 3922 ┆ 2024-07-11 ┆ 1820.0 ┆ 1871.0 ┆ … ┆ 1925  ┆ 484            ┆ 19.7          ┆ 44.5          │\n",
       "│ 3922 ┆ 2024-07-12 ┆ 1959.0 ┆ 2116.0 ┆ … ┆ 1925  ┆ 484            ┆ 19.7          ┆ 44.5          │\n",
       "│ 3930 ┆ 2024-12-13 ┆ 931.0  ┆ 1074.0 ┆ … ┆ 931   ┆ 107            ┆ 14.8          ┆ 63.3          │\n",
       "│ 4026 ┆ 2024-09-12 ┆ 1700.0 ┆ 1887.0 ┆ … ┆ 6983  ┆ 649            ┆ 12.7          ┆ 29.7          │\n",
       "└──────┴────────────┴────────┴────────┴───┴───────┴────────────────┴───────────────┴───────────────┘"
      ]
     },
     "execution_count": 13,
     "metadata": {},
     "output_type": "execute_result"
    }
   ],
   "source": [
    "df = screened_df\n",
    "\n",
    "df = df.filter([\n",
    "    pl.col(\"zs25\")>=min_zs25,\n",
    "    pl.col(\"daily_updown_rate\")>=min_daily_updown_rate,\n",
    "    pl.col(\"overnight_updown_rate\")>=min_overnight_updown_rate,\n",
    "    pl.col(\"sales_growthrate\")>=min_sales_growthrate,\n",
    "    pl.lit(min_sgr_dogr_ratio) * pl.col(\"sales_growthrate\")<pl.col(\"diff_operating_income_growthrate\")\n",
    "])\n",
    "df[20:30]"
   ]
  },
  {
   "cell_type": "code",
   "execution_count": 14,
   "id": "80324471-804b-4c3e-bc4e-a5e9e8156ed5",
   "metadata": {},
   "outputs": [],
   "source": [
    "##### \n",
    "##### individual stock info\n",
    "#####"
   ]
  },
  {
   "cell_type": "code",
   "execution_count": 23,
   "id": "9c54ab64-557d-4148-9cfc-7ca6cdb4d7e0",
   "metadata": {},
   "outputs": [],
   "source": [
    "# set code\n",
    "code = 4026\n",
    "marked_day = date(2024, 9, 12)"
   ]
  },
  {
   "cell_type": "code",
   "execution_count": 25,
   "id": "6ba4260f-64fc-427a-b345-7f009301e017",
   "metadata": {},
   "outputs": [
    {
     "name": "stdout",
     "output_type": "stream",
     "text": [
      "神島化学工業(4026)の銘柄情報\n",
      "\n",
      "終値: 1880.0円(2024年09月12日)\n",
      "予想配当利回り: 2.34%(2024年09月12日)\n",
      "予想PER: 10.31倍(2024年09月12日)\n",
      "実績PBR: 1.41倍(2024年09月12日)\n",
      "自己資本比率: 39.8%(2024年09月12日)\n",
      "予想ROE: 13.63%(2024年09月12日)\n",
      "予想ROA: 5.42%(2024年09月12日)\n",
      "時価総額: 173.7億円(2024年09月12日)\n",
      "\n",
      "4026(神島化学工業)の四季報データ履歴\n",
      "\n",
      "発行日: 2024年09月13日\n",
      "【上向く】\n",
      "  サプリや自動車向けマグネシウム、車載用やレーザー向けセラミックスが伸長し業績牽引。建材も高級軒天ボード採用拡大など高付加価値品下支え。減価償却費など固定費増吸収し増益転換。連続増配。\n",
      "【核融合発電】\n",
      "  ITER計画(トカマク方式)が大幅遅延の公算、レーザー核融合方式の市場浸透チャンスに。建材は販売チャネル強化によって非住宅向け拡販進める。\n",
      "\n",
      "発行日: 2024年06月14日\n",
      "【改善】\n",
      "  25年4月期は建材横ばい見込みも、セラミックスが車載用蛍光体の拡大持続やレーザー核融合発電向け寄与で伸長。収益性高い酸化マグネシウムも拡販進展。償却負担大幅増の影響も一巡し営業増益。\n",
      "【新分野】\n",
      "  CO2固定化建材製造に向けた大型投資は25年4月期後半に予定、翌期に販売開始本格化。プロジェクター用途『LED用蛍光体』は試験用向けに販売開始。\n",
      "\n",
      "発行日: 2024年03月16日\n",
      "【堅調】\n",
      "  マグネシウムはじめ化成品が設備増強効果で増販進む。建材は高級軒天ボードなど高付加価値品が下支え。修繕費などの一部固定費負担が後半に低減。増配。25年4月期は化成品を牽引役に営業増益。\n",
      "【協調】\n",
      "  大阪大学レーザー科学研究所とセラミックス協働拠点設立、核融合発電分野の開発強化。25年にCO2固定化建材の製造開始予定、25年4月期設備投資実施も。\n",
      "\n",
      "発行日: 2023年12月15日\n",
      "【連続最高益】\n",
      "  化成品が増産設備稼働で伸長、利益率高いサプリ向けマグネシウムも在庫調整解消し後半巻き返し。建材は高付加価値品が好調で下支え。減価償却増えるが、増収効果でかわす。営業益堅調。増配。\n",
      "【セラミックス】\n",
      "  プロジェクター用途のLED用蛍光体サンプル出荷開始、レーザー用途は来年度に案件見込む。マグネシウムでは高熱伝導部材向け製品の開発進める。\n"
     ]
    }
   ],
   "source": [
    "### 最新情報\n",
    "# 指定したcodeの指定した日における株価と各種ファンダメンタルズデータをまとめて標準出力する\n",
    "# pricelist_dfは、raw_pricelistかreviced_pricelistかケースに応じて使い分ける。\n",
    "# def print_finance_quote(\n",
    "#        pricelist_df: pl.DataFrame,\n",
    "#        finance_quote_df: pl.DataFrame,\n",
    "#        code: int, \n",
    "#        valuation_date: date=date.today()\n",
    "#    ) -> None:\n",
    "print_finance_quote(PPL.df, FPL.df, code, valuation_date=marked_day)\n",
    "print()\n",
    "SPL.print_stock_df(code, num=4, valuation_date=valuation_date)"
   ]
  },
  {
   "cell_type": "code",
   "execution_count": 26,
   "id": "4a5fbfdd-0e47-4955-9515-f5d3128423f1",
   "metadata": {},
   "outputs": [
    {
     "name": "stdout",
     "output_type": "stream",
     "text": [
      "2024-09-26\n"
     ]
    },
    {
     "data": {
      "application/vnd.plotly.v1+json": {
       "config": {
        "plotlyServerURL": "https://plot.ly"
       },
       "data": [
        {
         "close": [
          1798,
          1994,
          1836,
          1961,
          1847,
          1777,
          1706,
          1711,
          1740,
          1748,
          1699,
          1716,
          1719,
          1792,
          1779,
          1743,
          1818,
          1839,
          1796,
          1788,
          1843,
          1847,
          1856,
          1813,
          1781,
          1691,
          1715,
          1712,
          1725,
          1756,
          1818,
          1826,
          1787,
          1700,
          1580,
          1312,
          1470,
          1468,
          1482,
          1530,
          1554,
          1618,
          1603,
          1675,
          1685,
          1701,
          1673,
          1770,
          1745,
          1772,
          2010,
          1882,
          1866,
          1870,
          1829,
          1860,
          1762,
          1696,
          1640,
          1637,
          1632,
          1700,
          1880,
          1822,
          1802,
          1769,
          1849,
          1870,
          1950,
          1996,
          2062,
          2150,
          1934,
          1970,
          1927,
          1954,
          2002,
          1986,
          1934,
          1959,
          1907,
          1891,
          1896,
          1873,
          1895,
          1834,
          1836,
          1856,
          1820,
          1781,
          1811,
          1817,
          1832,
          1840,
          1817,
          1792,
          1825,
          1758,
          1802,
          1791,
          1795,
          1786,
          1750,
          1732,
          1759,
          1741,
          1760,
          1763,
          1740,
          1813,
          1791,
          1797,
          1782,
          1781,
          1782,
          1790,
          1804,
          1770,
          1770,
          1809,
          1805,
          1837,
          1626
         ],
         "high": [
          1807,
          2162,
          2054,
          1980,
          1975,
          1842,
          1838,
          1749,
          1774,
          1791,
          1769,
          1722,
          1758,
          1830,
          1813,
          1778,
          1863,
          1886,
          1908,
          1827,
          1847,
          1869,
          1880,
          1840,
          1812,
          1770,
          1724,
          1753,
          1728,
          1779,
          1832,
          1845,
          1820,
          1764,
          1627,
          1527,
          1490,
          1518,
          1523,
          1551,
          1556,
          1619,
          1644,
          1694,
          1756,
          1727,
          1690,
          1786,
          1770,
          1791,
          2010,
          2014,
          1887,
          1938,
          1870,
          1880,
          1810,
          1804,
          1709,
          1649,
          1674,
          1727,
          1887,
          1924,
          1825,
          1828,
          1881,
          1908,
          1983,
          2028,
          2062,
          2229,
          2015,
          1980,
          1961,
          1967,
          2028,
          2065,
          2010,
          1991,
          1959,
          1911,
          1915,
          1889,
          1908,
          1909,
          1867,
          1919,
          1878,
          1800,
          1811,
          1828,
          1930,
          1875,
          1839,
          1797,
          1838,
          1810,
          1809,
          1835,
          1801,
          1820,
          1778,
          1763,
          1770,
          1765,
          1771,
          1779,
          1768,
          1816,
          1823,
          1814,
          1795,
          1799,
          1802,
          1818,
          1816,
          1810,
          1789,
          1810,
          1828,
          1837,
          1870
         ],
         "low": [
          1647,
          1790,
          1750,
          1845,
          1829,
          1777,
          1668,
          1680,
          1690,
          1730,
          1690,
          1698,
          1710,
          1728,
          1772,
          1740,
          1734,
          1818,
          1784,
          1766,
          1765,
          1831,
          1850,
          1801,
          1745,
          1686,
          1687,
          1705,
          1680,
          1716,
          1777,
          1808,
          1733,
          1691,
          1550,
          1280,
          1404,
          1442,
          1445,
          1500,
          1528,
          1530,
          1582,
          1620,
          1663,
          1689,
          1665,
          1694,
          1729,
          1748,
          1833,
          1862,
          1832,
          1840,
          1826,
          1829,
          1757,
          1673,
          1632,
          1559,
          1621,
          1525,
          1695,
          1766,
          1767,
          1749,
          1761,
          1851,
          1908,
          1942,
          1965,
          2111,
          1896,
          1921,
          1900,
          1937,
          1965,
          1982,
          1934,
          1937,
          1887,
          1883,
          1856,
          1860,
          1857,
          1820,
          1830,
          1820,
          1811,
          1760,
          1744,
          1790,
          1817,
          1824,
          1813,
          1757,
          1790,
          1752,
          1748,
          1784,
          1776,
          1772,
          1750,
          1718,
          1735,
          1726,
          1746,
          1760,
          1739,
          1740,
          1791,
          1772,
          1750,
          1771,
          1771,
          1783,
          1797,
          1760,
          1752,
          1753,
          1792,
          1807,
          1586
         ],
         "name": "株価",
         "open": [
          1666,
          1798,
          1977,
          1915,
          1923,
          1834,
          1779,
          1692,
          1700,
          1731,
          1769,
          1700,
          1721,
          1728,
          1802,
          1764,
          1758,
          1840,
          1847,
          1807,
          1777,
          1859,
          1854,
          1840,
          1803,
          1769,
          1711,
          1713,
          1692,
          1727,
          1788,
          1818,
          1820,
          1764,
          1627,
          1460,
          1432,
          1459,
          1445,
          1509,
          1551,
          1576,
          1616,
          1636,
          1663,
          1702,
          1690,
          1694,
          1770,
          1764,
          1840,
          1995,
          1860,
          1903,
          1870,
          1829,
          1800,
          1745,
          1691,
          1580,
          1658,
          1609,
          1700,
          1885,
          1802,
          1814,
          1772,
          1868,
          1929,
          1955,
          1991,
          2162,
          2000,
          1934,
          1952,
          1955,
          1968,
          2065,
          1978,
          1974,
          1959,
          1902,
          1897,
          1861,
          1880,
          1909,
          1830,
          1839,
          1843,
          1780,
          1766,
          1800,
          1861,
          1845,
          1839,
          1779,
          1795,
          1800,
          1770,
          1801,
          1776,
          1799,
          1771,
          1763,
          1735,
          1740,
          1757,
          1760,
          1762,
          1740,
          1818,
          1790,
          1795,
          1782,
          1776,
          1783,
          1803,
          1805,
          1788,
          1757,
          1825,
          1810,
          1850
         ],
         "type": "candlestick",
         "x": [
          "2024-06-14",
          "2024-06-17",
          "2024-06-18",
          "2024-06-19",
          "2024-06-20",
          "2024-06-21",
          "2024-06-24",
          "2024-06-25",
          "2024-06-26",
          "2024-06-27",
          "2024-06-28",
          "2024-07-01",
          "2024-07-02",
          "2024-07-03",
          "2024-07-04",
          "2024-07-05",
          "2024-07-08",
          "2024-07-09",
          "2024-07-10",
          "2024-07-11",
          "2024-07-12",
          "2024-07-16",
          "2024-07-17",
          "2024-07-18",
          "2024-07-19",
          "2024-07-22",
          "2024-07-23",
          "2024-07-24",
          "2024-07-25",
          "2024-07-26",
          "2024-07-29",
          "2024-07-30",
          "2024-07-31",
          "2024-08-01",
          "2024-08-02",
          "2024-08-05",
          "2024-08-06",
          "2024-08-07",
          "2024-08-08",
          "2024-08-09",
          "2024-08-13",
          "2024-08-14",
          "2024-08-15",
          "2024-08-16",
          "2024-08-19",
          "2024-08-20",
          "2024-08-21",
          "2024-08-22",
          "2024-08-23",
          "2024-08-26",
          "2024-08-27",
          "2024-08-28",
          "2024-08-29",
          "2024-08-30",
          "2024-09-02",
          "2024-09-03",
          "2024-09-04",
          "2024-09-05",
          "2024-09-06",
          "2024-09-09",
          "2024-09-10",
          "2024-09-11",
          "2024-09-12",
          "2024-09-13",
          "2024-09-17",
          "2024-09-18",
          "2024-09-19",
          "2024-09-20",
          "2024-09-24",
          "2024-09-25",
          "2024-09-26",
          "2024-09-27",
          "2024-09-30",
          "2024-10-01",
          "2024-10-02",
          "2024-10-03",
          "2024-10-04",
          "2024-10-07",
          "2024-10-08",
          "2024-10-09",
          "2024-10-10",
          "2024-10-11",
          "2024-10-15",
          "2024-10-16",
          "2024-10-17",
          "2024-10-18",
          "2024-10-21",
          "2024-10-22",
          "2024-10-23",
          "2024-10-24",
          "2024-10-25",
          "2024-10-28",
          "2024-10-29",
          "2024-10-30",
          "2024-10-31",
          "2024-11-01",
          "2024-11-05",
          "2024-11-06",
          "2024-11-07",
          "2024-11-08",
          "2024-11-11",
          "2024-11-12",
          "2024-11-13",
          "2024-11-14",
          "2024-11-15",
          "2024-11-18",
          "2024-11-19",
          "2024-11-20",
          "2024-11-21",
          "2024-11-22",
          "2024-11-25",
          "2024-11-26",
          "2024-11-27",
          "2024-11-28",
          "2024-11-29",
          "2024-12-02",
          "2024-12-03",
          "2024-12-04",
          "2024-12-05",
          "2024-12-06",
          "2024-12-09",
          "2024-12-10",
          "2024-12-11"
         ],
         "xaxis": "x",
         "yaxis": "y"
        },
        {
         "marker": {
          "color": "blue"
         },
         "name": "出来高",
         "type": "bar",
         "x": [
          "2024-06-14",
          "2024-06-17",
          "2024-06-18",
          "2024-06-19",
          "2024-06-20",
          "2024-06-21",
          "2024-06-24",
          "2024-06-25",
          "2024-06-26",
          "2024-06-27",
          "2024-06-28",
          "2024-07-01",
          "2024-07-02",
          "2024-07-03",
          "2024-07-04",
          "2024-07-05",
          "2024-07-08",
          "2024-07-09",
          "2024-07-10",
          "2024-07-11",
          "2024-07-12",
          "2024-07-16",
          "2024-07-17",
          "2024-07-18",
          "2024-07-19",
          "2024-07-22",
          "2024-07-23",
          "2024-07-24",
          "2024-07-25",
          "2024-07-26",
          "2024-07-29",
          "2024-07-30",
          "2024-07-31",
          "2024-08-01",
          "2024-08-02",
          "2024-08-05",
          "2024-08-06",
          "2024-08-07",
          "2024-08-08",
          "2024-08-09",
          "2024-08-13",
          "2024-08-14",
          "2024-08-15",
          "2024-08-16",
          "2024-08-19",
          "2024-08-20",
          "2024-08-21",
          "2024-08-22",
          "2024-08-23",
          "2024-08-26",
          "2024-08-27",
          "2024-08-28",
          "2024-08-29",
          "2024-08-30",
          "2024-09-02",
          "2024-09-03",
          "2024-09-04",
          "2024-09-05",
          "2024-09-06",
          "2024-09-09",
          "2024-09-10",
          "2024-09-11",
          "2024-09-12",
          "2024-09-13",
          "2024-09-17",
          "2024-09-18",
          "2024-09-19",
          "2024-09-20",
          "2024-09-24",
          "2024-09-25",
          "2024-09-26",
          "2024-09-27",
          "2024-09-30",
          "2024-10-01",
          "2024-10-02",
          "2024-10-03",
          "2024-10-04",
          "2024-10-07",
          "2024-10-08",
          "2024-10-09",
          "2024-10-10",
          "2024-10-11",
          "2024-10-15",
          "2024-10-16",
          "2024-10-17",
          "2024-10-18",
          "2024-10-21",
          "2024-10-22",
          "2024-10-23",
          "2024-10-24",
          "2024-10-25",
          "2024-10-28",
          "2024-10-29",
          "2024-10-30",
          "2024-10-31",
          "2024-11-01",
          "2024-11-05",
          "2024-11-06",
          "2024-11-07",
          "2024-11-08",
          "2024-11-11",
          "2024-11-12",
          "2024-11-13",
          "2024-11-14",
          "2024-11-15",
          "2024-11-18",
          "2024-11-19",
          "2024-11-20",
          "2024-11-21",
          "2024-11-22",
          "2024-11-25",
          "2024-11-26",
          "2024-11-27",
          "2024-11-28",
          "2024-11-29",
          "2024-12-02",
          "2024-12-03",
          "2024-12-04",
          "2024-12-05",
          "2024-12-06",
          "2024-12-09",
          "2024-12-10",
          "2024-12-11"
         ],
         "xaxis": "x2",
         "y": [
          243900,
          702700,
          531200,
          251500,
          184500,
          125500,
          254100,
          116300,
          74200,
          67800,
          82100,
          22100,
          32200,
          103200,
          55800,
          42000,
          92900,
          117600,
          132200,
          54900,
          47400,
          32200,
          20800,
          22400,
          76900,
          67400,
          38800,
          22000,
          40000,
          32900,
          38700,
          22900,
          22400,
          39400,
          86000,
          137100,
          40300,
          48100,
          19800,
          41000,
          20300,
          35700,
          31800,
          45300,
          68800,
          17600,
          12900,
          68500,
          22100,
          33400,
          263400,
          145300,
          72100,
          78300,
          35800,
          26800,
          59300,
          92400,
          69000,
          145100,
          50000,
          380100,
          438600,
          175300,
          75000,
          86300,
          81100,
          55600,
          98500,
          144200,
          141400,
          273900,
          333300,
          105000,
          110400,
          68900,
          125800,
          100600,
          49300,
          62500,
          68700,
          36400,
          53400,
          43200,
          56100,
          68400,
          48300,
          119400,
          91600,
          67900,
          130200,
          49400,
          180400,
          72900,
          37900,
          58900,
          40700,
          76300,
          47800,
          37200,
          26900,
          30300,
          34200,
          36100,
          21800,
          14100,
          13700,
          11100,
          22800,
          36600,
          20700,
          16700,
          28800,
          13500,
          12700,
          32100,
          26100,
          50200,
          31400,
          66100,
          37800,
          49800,
          809400
         ],
         "yaxis": "y2"
        }
       ],
       "layout": {
        "autosize": true,
        "shapes": [
         {
          "line": {
           "color": "grey",
           "width": 1
          },
          "opacity": 0.5,
          "type": "line",
          "x0": "2024-09-12",
          "x1": "2024-09-12",
          "xref": "x",
          "y0": 0,
          "y1": 1,
          "yref": "y domain"
         },
         {
          "line": {
           "color": "grey",
           "width": 1
          },
          "opacity": 0.5,
          "type": "line",
          "x0": "2024-09-12",
          "x1": "2024-09-12",
          "xref": "x2",
          "y0": 0,
          "y1": 1,
          "yref": "y2 domain"
         },
         {
          "line": {
           "color": "orange",
           "width": 1
          },
          "opacity": 0.5,
          "type": "line",
          "x0": "2024-09-11",
          "x1": "2024-09-11",
          "xref": "x",
          "y0": 0,
          "y1": 1,
          "yref": "y domain"
         },
         {
          "line": {
           "color": "orange",
           "width": 1
          },
          "opacity": 0.5,
          "type": "line",
          "x0": "2024-09-11",
          "x1": "2024-09-11",
          "xref": "x2",
          "y0": 0,
          "y1": 1,
          "yref": "y2 domain"
         },
         {
          "line": {
           "color": "orange",
           "width": 1
          },
          "opacity": 0.5,
          "type": "line",
          "x0": "2024-12-11",
          "x1": "2024-12-11",
          "xref": "x",
          "y0": 0,
          "y1": 1,
          "yref": "y domain"
         },
         {
          "line": {
           "color": "orange",
           "width": 1
          },
          "opacity": 0.5,
          "type": "line",
          "x0": "2024-12-11",
          "x1": "2024-12-11",
          "xref": "x2",
          "y0": 0,
          "y1": 1,
          "yref": "y2 domain"
         }
        ],
        "template": {
         "data": {
          "bar": [
           {
            "error_x": {
             "color": "#2a3f5f"
            },
            "error_y": {
             "color": "#2a3f5f"
            },
            "marker": {
             "line": {
              "color": "#E5ECF6",
              "width": 0.5
             },
             "pattern": {
              "fillmode": "overlay",
              "size": 10,
              "solidity": 0.2
             }
            },
            "type": "bar"
           }
          ],
          "barpolar": [
           {
            "marker": {
             "line": {
              "color": "#E5ECF6",
              "width": 0.5
             },
             "pattern": {
              "fillmode": "overlay",
              "size": 10,
              "solidity": 0.2
             }
            },
            "type": "barpolar"
           }
          ],
          "carpet": [
           {
            "aaxis": {
             "endlinecolor": "#2a3f5f",
             "gridcolor": "white",
             "linecolor": "white",
             "minorgridcolor": "white",
             "startlinecolor": "#2a3f5f"
            },
            "baxis": {
             "endlinecolor": "#2a3f5f",
             "gridcolor": "white",
             "linecolor": "white",
             "minorgridcolor": "white",
             "startlinecolor": "#2a3f5f"
            },
            "type": "carpet"
           }
          ],
          "choropleth": [
           {
            "colorbar": {
             "outlinewidth": 0,
             "ticks": ""
            },
            "type": "choropleth"
           }
          ],
          "contour": [
           {
            "colorbar": {
             "outlinewidth": 0,
             "ticks": ""
            },
            "colorscale": [
             [
              0,
              "#0d0887"
             ],
             [
              0.1111111111111111,
              "#46039f"
             ],
             [
              0.2222222222222222,
              "#7201a8"
             ],
             [
              0.3333333333333333,
              "#9c179e"
             ],
             [
              0.4444444444444444,
              "#bd3786"
             ],
             [
              0.5555555555555556,
              "#d8576b"
             ],
             [
              0.6666666666666666,
              "#ed7953"
             ],
             [
              0.7777777777777778,
              "#fb9f3a"
             ],
             [
              0.8888888888888888,
              "#fdca26"
             ],
             [
              1,
              "#f0f921"
             ]
            ],
            "type": "contour"
           }
          ],
          "contourcarpet": [
           {
            "colorbar": {
             "outlinewidth": 0,
             "ticks": ""
            },
            "type": "contourcarpet"
           }
          ],
          "heatmap": [
           {
            "colorbar": {
             "outlinewidth": 0,
             "ticks": ""
            },
            "colorscale": [
             [
              0,
              "#0d0887"
             ],
             [
              0.1111111111111111,
              "#46039f"
             ],
             [
              0.2222222222222222,
              "#7201a8"
             ],
             [
              0.3333333333333333,
              "#9c179e"
             ],
             [
              0.4444444444444444,
              "#bd3786"
             ],
             [
              0.5555555555555556,
              "#d8576b"
             ],
             [
              0.6666666666666666,
              "#ed7953"
             ],
             [
              0.7777777777777778,
              "#fb9f3a"
             ],
             [
              0.8888888888888888,
              "#fdca26"
             ],
             [
              1,
              "#f0f921"
             ]
            ],
            "type": "heatmap"
           }
          ],
          "heatmapgl": [
           {
            "colorbar": {
             "outlinewidth": 0,
             "ticks": ""
            },
            "colorscale": [
             [
              0,
              "#0d0887"
             ],
             [
              0.1111111111111111,
              "#46039f"
             ],
             [
              0.2222222222222222,
              "#7201a8"
             ],
             [
              0.3333333333333333,
              "#9c179e"
             ],
             [
              0.4444444444444444,
              "#bd3786"
             ],
             [
              0.5555555555555556,
              "#d8576b"
             ],
             [
              0.6666666666666666,
              "#ed7953"
             ],
             [
              0.7777777777777778,
              "#fb9f3a"
             ],
             [
              0.8888888888888888,
              "#fdca26"
             ],
             [
              1,
              "#f0f921"
             ]
            ],
            "type": "heatmapgl"
           }
          ],
          "histogram": [
           {
            "marker": {
             "pattern": {
              "fillmode": "overlay",
              "size": 10,
              "solidity": 0.2
             }
            },
            "type": "histogram"
           }
          ],
          "histogram2d": [
           {
            "colorbar": {
             "outlinewidth": 0,
             "ticks": ""
            },
            "colorscale": [
             [
              0,
              "#0d0887"
             ],
             [
              0.1111111111111111,
              "#46039f"
             ],
             [
              0.2222222222222222,
              "#7201a8"
             ],
             [
              0.3333333333333333,
              "#9c179e"
             ],
             [
              0.4444444444444444,
              "#bd3786"
             ],
             [
              0.5555555555555556,
              "#d8576b"
             ],
             [
              0.6666666666666666,
              "#ed7953"
             ],
             [
              0.7777777777777778,
              "#fb9f3a"
             ],
             [
              0.8888888888888888,
              "#fdca26"
             ],
             [
              1,
              "#f0f921"
             ]
            ],
            "type": "histogram2d"
           }
          ],
          "histogram2dcontour": [
           {
            "colorbar": {
             "outlinewidth": 0,
             "ticks": ""
            },
            "colorscale": [
             [
              0,
              "#0d0887"
             ],
             [
              0.1111111111111111,
              "#46039f"
             ],
             [
              0.2222222222222222,
              "#7201a8"
             ],
             [
              0.3333333333333333,
              "#9c179e"
             ],
             [
              0.4444444444444444,
              "#bd3786"
             ],
             [
              0.5555555555555556,
              "#d8576b"
             ],
             [
              0.6666666666666666,
              "#ed7953"
             ],
             [
              0.7777777777777778,
              "#fb9f3a"
             ],
             [
              0.8888888888888888,
              "#fdca26"
             ],
             [
              1,
              "#f0f921"
             ]
            ],
            "type": "histogram2dcontour"
           }
          ],
          "mesh3d": [
           {
            "colorbar": {
             "outlinewidth": 0,
             "ticks": ""
            },
            "type": "mesh3d"
           }
          ],
          "parcoords": [
           {
            "line": {
             "colorbar": {
              "outlinewidth": 0,
              "ticks": ""
             }
            },
            "type": "parcoords"
           }
          ],
          "pie": [
           {
            "automargin": true,
            "type": "pie"
           }
          ],
          "scatter": [
           {
            "fillpattern": {
             "fillmode": "overlay",
             "size": 10,
             "solidity": 0.2
            },
            "type": "scatter"
           }
          ],
          "scatter3d": [
           {
            "line": {
             "colorbar": {
              "outlinewidth": 0,
              "ticks": ""
             }
            },
            "marker": {
             "colorbar": {
              "outlinewidth": 0,
              "ticks": ""
             }
            },
            "type": "scatter3d"
           }
          ],
          "scattercarpet": [
           {
            "marker": {
             "colorbar": {
              "outlinewidth": 0,
              "ticks": ""
             }
            },
            "type": "scattercarpet"
           }
          ],
          "scattergeo": [
           {
            "marker": {
             "colorbar": {
              "outlinewidth": 0,
              "ticks": ""
             }
            },
            "type": "scattergeo"
           }
          ],
          "scattergl": [
           {
            "marker": {
             "colorbar": {
              "outlinewidth": 0,
              "ticks": ""
             }
            },
            "type": "scattergl"
           }
          ],
          "scattermapbox": [
           {
            "marker": {
             "colorbar": {
              "outlinewidth": 0,
              "ticks": ""
             }
            },
            "type": "scattermapbox"
           }
          ],
          "scatterpolar": [
           {
            "marker": {
             "colorbar": {
              "outlinewidth": 0,
              "ticks": ""
             }
            },
            "type": "scatterpolar"
           }
          ],
          "scatterpolargl": [
           {
            "marker": {
             "colorbar": {
              "outlinewidth": 0,
              "ticks": ""
             }
            },
            "type": "scatterpolargl"
           }
          ],
          "scatterternary": [
           {
            "marker": {
             "colorbar": {
              "outlinewidth": 0,
              "ticks": ""
             }
            },
            "type": "scatterternary"
           }
          ],
          "surface": [
           {
            "colorbar": {
             "outlinewidth": 0,
             "ticks": ""
            },
            "colorscale": [
             [
              0,
              "#0d0887"
             ],
             [
              0.1111111111111111,
              "#46039f"
             ],
             [
              0.2222222222222222,
              "#7201a8"
             ],
             [
              0.3333333333333333,
              "#9c179e"
             ],
             [
              0.4444444444444444,
              "#bd3786"
             ],
             [
              0.5555555555555556,
              "#d8576b"
             ],
             [
              0.6666666666666666,
              "#ed7953"
             ],
             [
              0.7777777777777778,
              "#fb9f3a"
             ],
             [
              0.8888888888888888,
              "#fdca26"
             ],
             [
              1,
              "#f0f921"
             ]
            ],
            "type": "surface"
           }
          ],
          "table": [
           {
            "cells": {
             "fill": {
              "color": "#EBF0F8"
             },
             "line": {
              "color": "white"
             }
            },
            "header": {
             "fill": {
              "color": "#C8D4E3"
             },
             "line": {
              "color": "white"
             }
            },
            "type": "table"
           }
          ]
         },
         "layout": {
          "annotationdefaults": {
           "arrowcolor": "#2a3f5f",
           "arrowhead": 0,
           "arrowwidth": 1
          },
          "autotypenumbers": "strict",
          "coloraxis": {
           "colorbar": {
            "outlinewidth": 0,
            "ticks": ""
           }
          },
          "colorscale": {
           "diverging": [
            [
             0,
             "#8e0152"
            ],
            [
             0.1,
             "#c51b7d"
            ],
            [
             0.2,
             "#de77ae"
            ],
            [
             0.3,
             "#f1b6da"
            ],
            [
             0.4,
             "#fde0ef"
            ],
            [
             0.5,
             "#f7f7f7"
            ],
            [
             0.6,
             "#e6f5d0"
            ],
            [
             0.7,
             "#b8e186"
            ],
            [
             0.8,
             "#7fbc41"
            ],
            [
             0.9,
             "#4d9221"
            ],
            [
             1,
             "#276419"
            ]
           ],
           "sequential": [
            [
             0,
             "#0d0887"
            ],
            [
             0.1111111111111111,
             "#46039f"
            ],
            [
             0.2222222222222222,
             "#7201a8"
            ],
            [
             0.3333333333333333,
             "#9c179e"
            ],
            [
             0.4444444444444444,
             "#bd3786"
            ],
            [
             0.5555555555555556,
             "#d8576b"
            ],
            [
             0.6666666666666666,
             "#ed7953"
            ],
            [
             0.7777777777777778,
             "#fb9f3a"
            ],
            [
             0.8888888888888888,
             "#fdca26"
            ],
            [
             1,
             "#f0f921"
            ]
           ],
           "sequentialminus": [
            [
             0,
             "#0d0887"
            ],
            [
             0.1111111111111111,
             "#46039f"
            ],
            [
             0.2222222222222222,
             "#7201a8"
            ],
            [
             0.3333333333333333,
             "#9c179e"
            ],
            [
             0.4444444444444444,
             "#bd3786"
            ],
            [
             0.5555555555555556,
             "#d8576b"
            ],
            [
             0.6666666666666666,
             "#ed7953"
            ],
            [
             0.7777777777777778,
             "#fb9f3a"
            ],
            [
             0.8888888888888888,
             "#fdca26"
            ],
            [
             1,
             "#f0f921"
            ]
           ]
          },
          "colorway": [
           "#636efa",
           "#EF553B",
           "#00cc96",
           "#ab63fa",
           "#FFA15A",
           "#19d3f3",
           "#FF6692",
           "#B6E880",
           "#FF97FF",
           "#FECB52"
          ],
          "font": {
           "color": "#2a3f5f"
          },
          "geo": {
           "bgcolor": "white",
           "lakecolor": "white",
           "landcolor": "#E5ECF6",
           "showlakes": true,
           "showland": true,
           "subunitcolor": "white"
          },
          "hoverlabel": {
           "align": "left"
          },
          "hovermode": "closest",
          "mapbox": {
           "style": "light"
          },
          "paper_bgcolor": "white",
          "plot_bgcolor": "#E5ECF6",
          "polar": {
           "angularaxis": {
            "gridcolor": "white",
            "linecolor": "white",
            "ticks": ""
           },
           "bgcolor": "#E5ECF6",
           "radialaxis": {
            "gridcolor": "white",
            "linecolor": "white",
            "ticks": ""
           }
          },
          "scene": {
           "xaxis": {
            "backgroundcolor": "#E5ECF6",
            "gridcolor": "white",
            "gridwidth": 2,
            "linecolor": "white",
            "showbackground": true,
            "ticks": "",
            "zerolinecolor": "white"
           },
           "yaxis": {
            "backgroundcolor": "#E5ECF6",
            "gridcolor": "white",
            "gridwidth": 2,
            "linecolor": "white",
            "showbackground": true,
            "ticks": "",
            "zerolinecolor": "white"
           },
           "zaxis": {
            "backgroundcolor": "#E5ECF6",
            "gridcolor": "white",
            "gridwidth": 2,
            "linecolor": "white",
            "showbackground": true,
            "ticks": "",
            "zerolinecolor": "white"
           }
          },
          "shapedefaults": {
           "line": {
            "color": "#2a3f5f"
           }
          },
          "ternary": {
           "aaxis": {
            "gridcolor": "white",
            "linecolor": "white",
            "ticks": ""
           },
           "baxis": {
            "gridcolor": "white",
            "linecolor": "white",
            "ticks": ""
           },
           "bgcolor": "#E5ECF6",
           "caxis": {
            "gridcolor": "white",
            "linecolor": "white",
            "ticks": ""
           }
          },
          "title": {
           "x": 0.05
          },
          "xaxis": {
           "automargin": true,
           "gridcolor": "white",
           "linecolor": "white",
           "ticks": "",
           "title": {
            "standoff": 15
           },
           "zerolinecolor": "white",
           "zerolinewidth": 2
          },
          "yaxis": {
           "automargin": true,
           "gridcolor": "white",
           "linecolor": "white",
           "ticks": "",
           "title": {
            "standoff": 15
           },
           "zerolinecolor": "white",
           "zerolinewidth": 2
          }
         }
        },
        "title": {
         "text": "神島化学工業(4026)株価ローソクチャートと出来高2024-06-14 ～ 2024-12-11"
        },
        "xaxis": {
         "anchor": "y",
         "autorange": true,
         "domain": [
          0,
          1
         ],
         "matches": "x2",
         "range": [
          -0.5,
          122.5
         ],
         "rangeslider": {
          "visible": false,
          "yaxis": {}
         },
         "showticklabels": false,
         "type": "category"
        },
        "xaxis2": {
         "anchor": "y2",
         "autorange": true,
         "domain": [
          0,
          1
         ],
         "range": [
          -0.5,
          122.5
         ],
         "tickangle": 45,
         "tickvals": [
          "2024-06-14",
          "2024-07-02",
          "2024-07-19",
          "2024-08-06",
          "2024-08-23",
          "2024-09-10",
          "2024-09-30",
          "2024-10-17",
          "2024-11-05",
          "2024-11-21",
          "2024-12-09"
         ],
         "title": {
          "text": "取引日"
         },
         "type": "category"
        },
        "yaxis": {
         "anchor": "x",
         "autorange": true,
         "domain": [
          0.2461538461538461,
          0.9999999999999998
         ],
         "range": [
          1227.2777777777778,
          2281.722222222222
         ],
         "title": {
          "text": "株価"
         }
        },
        "yaxis2": {
         "anchor": "x2",
         "autorange": true,
         "domain": [
          0,
          0.22615384615384612
         ],
         "range": [
          0,
          852000
         ],
         "title": {
          "text": "出来高"
         },
         "type": "linear"
        }
       }
      },
      "image/png": "[encoded data removed]",
      "text/html": [
       "<div>                            <div id=\"cd3d861e-35bd-48d6-8773-1a6fa545cf65\" class=\"plotly-graph-div\" style=\"height:600px; width:100%;\"></div>            <script type=\"text/javascript\">                require([\"plotly\"], function(Plotly) {                    window.PLOTLYENV=window.PLOTLYENV || {};                                    if (document.getElementById(\"cd3d861e-35bd-48d6-8773-1a6fa545cf65\")) {                    Plotly.newPlot(                        \"cd3d861e-35bd-48d6-8773-1a6fa545cf65\",                        [{\"close\":[1798.0,1994.0,1836.0,1961.0,1847.0,1777.0,1706.0,1711.0,1740.0,1748.0,1699.0,1716.0,1719.0,1792.0,1779.0,1743.0,1818.0,1839.0,1796.0,1788.0,1843.0,1847.0,1856.0,1813.0,1781.0,1691.0,1715.0,1712.0,1725.0,1756.0,1818.0,1826.0,1787.0,1700.0,1580.0,1312.0,1470.0,1468.0,1482.0,1530.0,1554.0,1618.0,1603.0,1675.0,1685.0,1701.0,1673.0,1770.0,1745.0,1772.0,2010.0,1882.0,1866.0,1870.0,1829.0,1860.0,1762.0,1696.0,1640.0,1637.0,1632.0,1700.0,1880.0,1822.0,1802.0,1769.0,1849.0,1870.0,1950.0,1996.0,2062.0,2150.0,1934.0,1970.0,1927.0,1954.0,2002.0,1986.0,1934.0,1959.0,1907.0,1891.0,1896.0,1873.0,1895.0,1834.0,1836.0,1856.0,1820.0,1781.0,1811.0,1817.0,1832.0,1840.0,1817.0,1792.0,1825.0,1758.0,1802.0,1791.0,1795.0,1786.0,1750.0,1732.0,1759.0,1741.0,1760.0,1763.0,1740.0,1813.0,1791.0,1797.0,1782.0,1781.0,1782.0,1790.0,1804.0,1770.0,1770.0,1809.0,1805.0,1837.0,1626.0],\"high\":[1807.0,2162.0,2054.0,1980.0,1975.0,1842.0,1838.0,1749.0,1774.0,1791.0,1769.0,1722.0,1758.0,1830.0,1813.0,1778.0,1863.0,1886.0,1908.0,1827.0,1847.0,1869.0,1880.0,1840.0,1812.0,1770.0,1724.0,1753.0,1728.0,1779.0,1832.0,1845.0,1820.0,1764.0,1627.0,1527.0,1490.0,1518.0,1523.0,1551.0,1556.0,1619.0,1644.0,1694.0,1756.0,1727.0,1690.0,1786.0,1770.0,1791.0,2010.0,2014.0,1887.0,1938.0,1870.0,1880.0,1810.0,1804.0,1709.0,1649.0,1674.0,1727.0,1887.0,1924.0,1825.0,1828.0,1881.0,1908.0,1983.0,2028.0,2062.0,2229.0,2015.0,1980.0,1961.0,1967.0,2028.0,2065.0,2010.0,1991.0,1959.0,1911.0,1915.0,1889.0,1908.0,1909.0,1867.0,1919.0,1878.0,1800.0,1811.0,1828.0,1930.0,1875.0,1839.0,1797.0,1838.0,1810.0,1809.0,1835.0,1801.0,1820.0,1778.0,1763.0,1770.0,1765.0,1771.0,1779.0,1768.0,1816.0,1823.0,1814.0,1795.0,1799.0,1802.0,1818.0,1816.0,1810.0,1789.0,1810.0,1828.0,1837.0,1870.0],\"low\":[1647.0,1790.0,1750.0,1845.0,1829.0,1777.0,1668.0,1680.0,1690.0,1730.0,1690.0,1698.0,1710.0,1728.0,1772.0,1740.0,1734.0,1818.0,1784.0,1766.0,1765.0,1831.0,1850.0,1801.0,1745.0,1686.0,1687.0,1705.0,1680.0,1716.0,1777.0,1808.0,1733.0,1691.0,1550.0,1280.0,1404.0,1442.0,1445.0,1500.0,1528.0,1530.0,1582.0,1620.0,1663.0,1689.0,1665.0,1694.0,1729.0,1748.0,1833.0,1862.0,1832.0,1840.0,1826.0,1829.0,1757.0,1673.0,1632.0,1559.0,1621.0,1525.0,1695.0,1766.0,1767.0,1749.0,1761.0,1851.0,1908.0,1942.0,1965.0,2111.0,1896.0,1921.0,1900.0,1937.0,1965.0,1982.0,1934.0,1937.0,1887.0,1883.0,1856.0,1860.0,1857.0,1820.0,1830.0,1820.0,1811.0,1760.0,1744.0,1790.0,1817.0,1824.0,1813.0,1757.0,1790.0,1752.0,1748.0,1784.0,1776.0,1772.0,1750.0,1718.0,1735.0,1726.0,1746.0,1760.0,1739.0,1740.0,1791.0,1772.0,1750.0,1771.0,1771.0,1783.0,1797.0,1760.0,1752.0,1753.0,1792.0,1807.0,1586.0],\"name\":\"\\u682a\\u4fa1\",\"open\":[1666.0,1798.0,1977.0,1915.0,1923.0,1834.0,1779.0,1692.0,1700.0,1731.0,1769.0,1700.0,1721.0,1728.0,1802.0,1764.0,1758.0,1840.0,1847.0,1807.0,1777.0,1859.0,1854.0,1840.0,1803.0,1769.0,1711.0,1713.0,1692.0,1727.0,1788.0,1818.0,1820.0,1764.0,1627.0,1460.0,1432.0,1459.0,1445.0,1509.0,1551.0,1576.0,1616.0,1636.0,1663.0,1702.0,1690.0,1694.0,1770.0,1764.0,1840.0,1995.0,1860.0,1903.0,1870.0,1829.0,1800.0,1745.0,1691.0,1580.0,1658.0,1609.0,1700.0,1885.0,1802.0,1814.0,1772.0,1868.0,1929.0,1955.0,1991.0,2162.0,2000.0,1934.0,1952.0,1955.0,1968.0,2065.0,1978.0,1974.0,1959.0,1902.0,1897.0,1861.0,1880.0,1909.0,1830.0,1839.0,1843.0,1780.0,1766.0,1800.0,1861.0,1845.0,1839.0,1779.0,1795.0,1800.0,1770.0,1801.0,1776.0,1799.0,1771.0,1763.0,1735.0,1740.0,1757.0,1760.0,1762.0,1740.0,1818.0,1790.0,1795.0,1782.0,1776.0,1783.0,1803.0,1805.0,1788.0,1757.0,1825.0,1810.0,1850.0],\"x\":[\"2024-06-14\",\"2024-06-17\",\"2024-06-18\",\"2024-06-19\",\"2024-06-20\",\"2024-06-21\",\"2024-06-24\",\"2024-06-25\",\"2024-06-26\",\"2024-06-27\",\"2024-06-28\",\"2024-07-01\",\"2024-07-02\",\"2024-07-03\",\"2024-07-04\",\"2024-07-05\",\"2024-07-08\",\"2024-07-09\",\"2024-07-10\",\"2024-07-11\",\"2024-07-12\",\"2024-07-16\",\"2024-07-17\",\"2024-07-18\",\"2024-07-19\",\"2024-07-22\",\"2024-07-23\",\"2024-07-24\",\"2024-07-25\",\"2024-07-26\",\"2024-07-29\",\"2024-07-30\",\"2024-07-31\",\"2024-08-01\",\"2024-08-02\",\"2024-08-05\",\"2024-08-06\",\"2024-08-07\",\"2024-08-08\",\"2024-08-09\",\"2024-08-13\",\"2024-08-14\",\"2024-08-15\",\"2024-08-16\",\"2024-08-19\",\"2024-08-20\",\"2024-08-21\",\"2024-08-22\",\"2024-08-23\",\"2024-08-26\",\"2024-08-27\",\"2024-08-28\",\"2024-08-29\",\"2024-08-30\",\"2024-09-02\",\"2024-09-03\",\"2024-09-04\",\"2024-09-05\",\"2024-09-06\",\"2024-09-09\",\"2024-09-10\",\"2024-09-11\",\"2024-09-12\",\"2024-09-13\",\"2024-09-17\",\"2024-09-18\",\"2024-09-19\",\"2024-09-20\",\"2024-09-24\",\"2024-09-25\",\"2024-09-26\",\"2024-09-27\",\"2024-09-30\",\"2024-10-01\",\"2024-10-02\",\"2024-10-03\",\"2024-10-04\",\"2024-10-07\",\"2024-10-08\",\"2024-10-09\",\"2024-10-10\",\"2024-10-11\",\"2024-10-15\",\"2024-10-16\",\"2024-10-17\",\"2024-10-18\",\"2024-10-21\",\"2024-10-22\",\"2024-10-23\",\"2024-10-24\",\"2024-10-25\",\"2024-10-28\",\"2024-10-29\",\"2024-10-30\",\"2024-10-31\",\"2024-11-01\",\"2024-11-05\",\"2024-11-06\",\"2024-11-07\",\"2024-11-08\",\"2024-11-11\",\"2024-11-12\",\"2024-11-13\",\"2024-11-14\",\"2024-11-15\",\"2024-11-18\",\"2024-11-19\",\"2024-11-20\",\"2024-11-21\",\"2024-11-22\",\"2024-11-25\",\"2024-11-26\",\"2024-11-27\",\"2024-11-28\",\"2024-11-29\",\"2024-12-02\",\"2024-12-03\",\"2024-12-04\",\"2024-12-05\",\"2024-12-06\",\"2024-12-09\",\"2024-12-10\",\"2024-12-11\"],\"type\":\"candlestick\",\"xaxis\":\"x\",\"yaxis\":\"y\"},{\"marker\":{\"color\":\"blue\"},\"name\":\"\\u51fa\\u6765\\u9ad8\",\"x\":[\"2024-06-14\",\"2024-06-17\",\"2024-06-18\",\"2024-06-19\",\"2024-06-20\",\"2024-06-21\",\"2024-06-24\",\"2024-06-25\",\"2024-06-26\",\"2024-06-27\",\"2024-06-28\",\"2024-07-01\",\"2024-07-02\",\"2024-07-03\",\"2024-07-04\",\"2024-07-05\",\"2024-07-08\",\"2024-07-09\",\"2024-07-10\",\"2024-07-11\",\"2024-07-12\",\"2024-07-16\",\"2024-07-17\",\"2024-07-18\",\"2024-07-19\",\"2024-07-22\",\"2024-07-23\",\"2024-07-24\",\"2024-07-25\",\"2024-07-26\",\"2024-07-29\",\"2024-07-30\",\"2024-07-31\",\"2024-08-01\",\"2024-08-02\",\"2024-08-05\",\"2024-08-06\",\"2024-08-07\",\"2024-08-08\",\"2024-08-09\",\"2024-08-13\",\"2024-08-14\",\"2024-08-15\",\"2024-08-16\",\"2024-08-19\",\"2024-08-20\",\"2024-08-21\",\"2024-08-22\",\"2024-08-23\",\"2024-08-26\",\"2024-08-27\",\"2024-08-28\",\"2024-08-29\",\"2024-08-30\",\"2024-09-02\",\"2024-09-03\",\"2024-09-04\",\"2024-09-05\",\"2024-09-06\",\"2024-09-09\",\"2024-09-10\",\"2024-09-11\",\"2024-09-12\",\"2024-09-13\",\"2024-09-17\",\"2024-09-18\",\"2024-09-19\",\"2024-09-20\",\"2024-09-24\",\"2024-09-25\",\"2024-09-26\",\"2024-09-27\",\"2024-09-30\",\"2024-10-01\",\"2024-10-02\",\"2024-10-03\",\"2024-10-04\",\"2024-10-07\",\"2024-10-08\",\"2024-10-09\",\"2024-10-10\",\"2024-10-11\",\"2024-10-15\",\"2024-10-16\",\"2024-10-17\",\"2024-10-18\",\"2024-10-21\",\"2024-10-22\",\"2024-10-23\",\"2024-10-24\",\"2024-10-25\",\"2024-10-28\",\"2024-10-29\",\"2024-10-30\",\"2024-10-31\",\"2024-11-01\",\"2024-11-05\",\"2024-11-06\",\"2024-11-07\",\"2024-11-08\",\"2024-11-11\",\"2024-11-12\",\"2024-11-13\",\"2024-11-14\",\"2024-11-15\",\"2024-11-18\",\"2024-11-19\",\"2024-11-20\",\"2024-11-21\",\"2024-11-22\",\"2024-11-25\",\"2024-11-26\",\"2024-11-27\",\"2024-11-28\",\"2024-11-29\",\"2024-12-02\",\"2024-12-03\",\"2024-12-04\",\"2024-12-05\",\"2024-12-06\",\"2024-12-09\",\"2024-12-10\",\"2024-12-11\"],\"y\":[243900.0,702700.0,531200.0,251500.0,184500.0,125500.0,254100.0,116300.0,74200.0,67800.0,82100.0,22100.0,32200.0,103200.0,55800.0,42000.0,92900.0,117600.0,132200.0,54900.0,47400.0,32200.0,20800.0,22400.0,76900.0,67400.0,38800.0,22000.0,40000.0,32900.0,38700.0,22900.0,22400.0,39400.0,86000.0,137100.0,40300.0,48100.0,19800.0,41000.0,20300.0,35700.0,31800.0,45300.0,68800.0,17600.0,12900.0,68500.0,22100.0,33400.0,263400.0,145300.0,72100.0,78300.0,35800.0,26800.0,59300.0,92400.0,69000.0,145100.0,50000.0,380100.0,438600.0,175300.0,75000.0,86300.0,81100.0,55600.0,98500.0,144200.0,141400.0,273900.0,333300.0,105000.0,110400.0,68900.0,125800.0,100600.0,49300.0,62500.0,68700.0,36400.0,53400.0,43200.0,56100.0,68400.0,48300.0,119400.0,91600.0,67900.0,130200.0,49400.0,180400.0,72900.0,37900.0,58900.0,40700.0,76300.0,47800.0,37200.0,26900.0,30300.0,34200.0,36100.0,21800.0,14100.0,13700.0,11100.0,22800.0,36600.0,20700.0,16700.0,28800.0,13500.0,12700.0,32100.0,26100.0,50200.0,31400.0,66100.0,37800.0,49800.0,809400.0],\"type\":\"bar\",\"xaxis\":\"x2\",\"yaxis\":\"y2\"}],                        {\"template\":{\"data\":{\"histogram2dcontour\":[{\"type\":\"histogram2dcontour\",\"colorbar\":{\"outlinewidth\":0,\"ticks\":\"\"},\"colorscale\":[[0.0,\"#0d0887\"],[0.1111111111111111,\"#46039f\"],[0.2222222222222222,\"#7201a8\"],[0.3333333333333333,\"#9c179e\"],[0.4444444444444444,\"#bd3786\"],[0.5555555555555556,\"#d8576b\"],[0.6666666666666666,\"#ed7953\"],[0.7777777777777778,\"#fb9f3a\"],[0.8888888888888888,\"#fdca26\"],[1.0,\"#f0f921\"]]}],\"choropleth\":[{\"type\":\"choropleth\",\"colorbar\":{\"outlinewidth\":0,\"ticks\":\"\"}}],\"histogram2d\":[{\"type\":\"histogram2d\",\"colorbar\":{\"outlinewidth\":0,\"ticks\":\"\"},\"colorscale\":[[0.0,\"#0d0887\"],[0.1111111111111111,\"#46039f\"],[0.2222222222222222,\"#7201a8\"],[0.3333333333333333,\"#9c179e\"],[0.4444444444444444,\"#bd3786\"],[0.5555555555555556,\"#d8576b\"],[0.6666666666666666,\"#ed7953\"],[0.7777777777777778,\"#fb9f3a\"],[0.8888888888888888,\"#fdca26\"],[1.0,\"#f0f921\"]]}],\"heatmap\":[{\"type\":\"heatmap\",\"colorbar\":{\"outlinewidth\":0,\"ticks\":\"\"},\"colorscale\":[[0.0,\"#0d0887\"],[0.1111111111111111,\"#46039f\"],[0.2222222222222222,\"#7201a8\"],[0.3333333333333333,\"#9c179e\"],[0.4444444444444444,\"#bd3786\"],[0.5555555555555556,\"#d8576b\"],[0.6666666666666666,\"#ed7953\"],[0.7777777777777778,\"#fb9f3a\"],[0.8888888888888888,\"#fdca26\"],[1.0,\"#f0f921\"]]}],\"heatmapgl\":[{\"type\":\"heatmapgl\",\"colorbar\":{\"outlinewidth\":0,\"ticks\":\"\"},\"colorscale\":[[0.0,\"#0d0887\"],[0.1111111111111111,\"#46039f\"],[0.2222222222222222,\"#7201a8\"],[0.3333333333333333,\"#9c179e\"],[0.4444444444444444,\"#bd3786\"],[0.5555555555555556,\"#d8576b\"],[0.6666666666666666,\"#ed7953\"],[0.7777777777777778,\"#fb9f3a\"],[0.8888888888888888,\"#fdca26\"],[1.0,\"#f0f921\"]]}],\"contourcarpet\":[{\"type\":\"contourcarpet\",\"colorbar\":{\"outlinewidth\":0,\"ticks\":\"\"}}],\"contour\":[{\"type\":\"contour\",\"colorbar\":{\"outlinewidth\":0,\"ticks\":\"\"},\"colorscale\":[[0.0,\"#0d0887\"],[0.1111111111111111,\"#46039f\"],[0.2222222222222222,\"#7201a8\"],[0.3333333333333333,\"#9c179e\"],[0.4444444444444444,\"#bd3786\"],[0.5555555555555556,\"#d8576b\"],[0.6666666666666666,\"#ed7953\"],[0.7777777777777778,\"#fb9f3a\"],[0.8888888888888888,\"#fdca26\"],[1.0,\"#f0f921\"]]}],\"surface\":[{\"type\":\"surface\",\"colorbar\":{\"outlinewidth\":0,\"ticks\":\"\"},\"colorscale\":[[0.0,\"#0d0887\"],[0.1111111111111111,\"#46039f\"],[0.2222222222222222,\"#7201a8\"],[0.3333333333333333,\"#9c179e\"],[0.4444444444444444,\"#bd3786\"],[0.5555555555555556,\"#d8576b\"],[0.6666666666666666,\"#ed7953\"],[0.7777777777777778,\"#fb9f3a\"],[0.8888888888888888,\"#fdca26\"],[1.0,\"#f0f921\"]]}],\"mesh3d\":[{\"type\":\"mesh3d\",\"colorbar\":{\"outlinewidth\":0,\"ticks\":\"\"}}],\"scatter\":[{\"fillpattern\":{\"fillmode\":\"overlay\",\"size\":10,\"solidity\":0.2},\"type\":\"scatter\"}],\"parcoords\":[{\"type\":\"parcoords\",\"line\":{\"colorbar\":{\"outlinewidth\":0,\"ticks\":\"\"}}}],\"scatterpolargl\":[{\"type\":\"scatterpolargl\",\"marker\":{\"colorbar\":{\"outlinewidth\":0,\"ticks\":\"\"}}}],\"bar\":[{\"error_x\":{\"color\":\"#2a3f5f\"},\"error_y\":{\"color\":\"#2a3f5f\"},\"marker\":{\"line\":{\"color\":\"#E5ECF6\",\"width\":0.5},\"pattern\":{\"fillmode\":\"overlay\",\"size\":10,\"solidity\":0.2}},\"type\":\"bar\"}],\"scattergeo\":[{\"type\":\"scattergeo\",\"marker\":{\"colorbar\":{\"outlinewidth\":0,\"ticks\":\"\"}}}],\"scatterpolar\":[{\"type\":\"scatterpolar\",\"marker\":{\"colorbar\":{\"outlinewidth\":0,\"ticks\":\"\"}}}],\"histogram\":[{\"marker\":{\"pattern\":{\"fillmode\":\"overlay\",\"size\":10,\"solidity\":0.2}},\"type\":\"histogram\"}],\"scattergl\":[{\"type\":\"scattergl\",\"marker\":{\"colorbar\":{\"outlinewidth\":0,\"ticks\":\"\"}}}],\"scatter3d\":[{\"type\":\"scatter3d\",\"line\":{\"colorbar\":{\"outlinewidth\":0,\"ticks\":\"\"}},\"marker\":{\"colorbar\":{\"outlinewidth\":0,\"ticks\":\"\"}}}],\"scattermapbox\":[{\"type\":\"scattermapbox\",\"marker\":{\"colorbar\":{\"outlinewidth\":0,\"ticks\":\"\"}}}],\"scatterternary\":[{\"type\":\"scatterternary\",\"marker\":{\"colorbar\":{\"outlinewidth\":0,\"ticks\":\"\"}}}],\"scattercarpet\":[{\"type\":\"scattercarpet\",\"marker\":{\"colorbar\":{\"outlinewidth\":0,\"ticks\":\"\"}}}],\"carpet\":[{\"aaxis\":{\"endlinecolor\":\"#2a3f5f\",\"gridcolor\":\"white\",\"linecolor\":\"white\",\"minorgridcolor\":\"white\",\"startlinecolor\":\"#2a3f5f\"},\"baxis\":{\"endlinecolor\":\"#2a3f5f\",\"gridcolor\":\"white\",\"linecolor\":\"white\",\"minorgridcolor\":\"white\",\"startlinecolor\":\"#2a3f5f\"},\"type\":\"carpet\"}],\"table\":[{\"cells\":{\"fill\":{\"color\":\"#EBF0F8\"},\"line\":{\"color\":\"white\"}},\"header\":{\"fill\":{\"color\":\"#C8D4E3\"},\"line\":{\"color\":\"white\"}},\"type\":\"table\"}],\"barpolar\":[{\"marker\":{\"line\":{\"color\":\"#E5ECF6\",\"width\":0.5},\"pattern\":{\"fillmode\":\"overlay\",\"size\":10,\"solidity\":0.2}},\"type\":\"barpolar\"}],\"pie\":[{\"automargin\":true,\"type\":\"pie\"}]},\"layout\":{\"autotypenumbers\":\"strict\",\"colorway\":[\"#636efa\",\"#EF553B\",\"#00cc96\",\"#ab63fa\",\"#FFA15A\",\"#19d3f3\",\"#FF6692\",\"#B6E880\",\"#FF97FF\",\"#FECB52\"],\"font\":{\"color\":\"#2a3f5f\"},\"hovermode\":\"closest\",\"hoverlabel\":{\"align\":\"left\"},\"paper_bgcolor\":\"white\",\"plot_bgcolor\":\"#E5ECF6\",\"polar\":{\"bgcolor\":\"#E5ECF6\",\"angularaxis\":{\"gridcolor\":\"white\",\"linecolor\":\"white\",\"ticks\":\"\"},\"radialaxis\":{\"gridcolor\":\"white\",\"linecolor\":\"white\",\"ticks\":\"\"}},\"ternary\":{\"bgcolor\":\"#E5ECF6\",\"aaxis\":{\"gridcolor\":\"white\",\"linecolor\":\"white\",\"ticks\":\"\"},\"baxis\":{\"gridcolor\":\"white\",\"linecolor\":\"white\",\"ticks\":\"\"},\"caxis\":{\"gridcolor\":\"white\",\"linecolor\":\"white\",\"ticks\":\"\"}},\"coloraxis\":{\"colorbar\":{\"outlinewidth\":0,\"ticks\":\"\"}},\"colorscale\":{\"sequential\":[[0.0,\"#0d0887\"],[0.1111111111111111,\"#46039f\"],[0.2222222222222222,\"#7201a8\"],[0.3333333333333333,\"#9c179e\"],[0.4444444444444444,\"#bd3786\"],[0.5555555555555556,\"#d8576b\"],[0.6666666666666666,\"#ed7953\"],[0.7777777777777778,\"#fb9f3a\"],[0.8888888888888888,\"#fdca26\"],[1.0,\"#f0f921\"]],\"sequentialminus\":[[0.0,\"#0d0887\"],[0.1111111111111111,\"#46039f\"],[0.2222222222222222,\"#7201a8\"],[0.3333333333333333,\"#9c179e\"],[0.4444444444444444,\"#bd3786\"],[0.5555555555555556,\"#d8576b\"],[0.6666666666666666,\"#ed7953\"],[0.7777777777777778,\"#fb9f3a\"],[0.8888888888888888,\"#fdca26\"],[1.0,\"#f0f921\"]],\"diverging\":[[0,\"#8e0152\"],[0.1,\"#c51b7d\"],[0.2,\"#de77ae\"],[0.3,\"#f1b6da\"],[0.4,\"#fde0ef\"],[0.5,\"#f7f7f7\"],[0.6,\"#e6f5d0\"],[0.7,\"#b8e186\"],[0.8,\"#7fbc41\"],[0.9,\"#4d9221\"],[1,\"#276419\"]]},\"xaxis\":{\"gridcolor\":\"white\",\"linecolor\":\"white\",\"ticks\":\"\",\"title\":{\"standoff\":15},\"zerolinecolor\":\"white\",\"automargin\":true,\"zerolinewidth\":2},\"yaxis\":{\"gridcolor\":\"white\",\"linecolor\":\"white\",\"ticks\":\"\",\"title\":{\"standoff\":15},\"zerolinecolor\":\"white\",\"automargin\":true,\"zerolinewidth\":2},\"scene\":{\"xaxis\":{\"backgroundcolor\":\"#E5ECF6\",\"gridcolor\":\"white\",\"linecolor\":\"white\",\"showbackground\":true,\"ticks\":\"\",\"zerolinecolor\":\"white\",\"gridwidth\":2},\"yaxis\":{\"backgroundcolor\":\"#E5ECF6\",\"gridcolor\":\"white\",\"linecolor\":\"white\",\"showbackground\":true,\"ticks\":\"\",\"zerolinecolor\":\"white\",\"gridwidth\":2},\"zaxis\":{\"backgroundcolor\":\"#E5ECF6\",\"gridcolor\":\"white\",\"linecolor\":\"white\",\"showbackground\":true,\"ticks\":\"\",\"zerolinecolor\":\"white\",\"gridwidth\":2}},\"shapedefaults\":{\"line\":{\"color\":\"#2a3f5f\"}},\"annotationdefaults\":{\"arrowcolor\":\"#2a3f5f\",\"arrowhead\":0,\"arrowwidth\":1},\"geo\":{\"bgcolor\":\"white\",\"landcolor\":\"#E5ECF6\",\"subunitcolor\":\"white\",\"showland\":true,\"showlakes\":true,\"lakecolor\":\"white\"},\"title\":{\"x\":0.05},\"mapbox\":{\"style\":\"light\"}}},\"xaxis\":{\"anchor\":\"y\",\"domain\":[0.0,1.0],\"matches\":\"x2\",\"showticklabels\":false,\"rangeslider\":{\"visible\":false},\"type\":\"category\"},\"yaxis\":{\"anchor\":\"x\",\"domain\":[0.2461538461538461,0.9999999999999998],\"title\":{\"text\":\"\\u682a\\u4fa1\"}},\"xaxis2\":{\"anchor\":\"y2\",\"domain\":[0.0,1.0],\"title\":{\"text\":\"\\u53d6\\u5f15\\u65e5\"},\"type\":\"category\",\"tickvals\":[\"2024-06-14\",\"2024-07-02\",\"2024-07-19\",\"2024-08-06\",\"2024-08-23\",\"2024-09-10\",\"2024-09-30\",\"2024-10-17\",\"2024-11-05\",\"2024-11-21\",\"2024-12-09\"],\"tickangle\":45},\"yaxis2\":{\"anchor\":\"x2\",\"domain\":[0.0,0.22615384615384612],\"title\":{\"text\":\"\\u51fa\\u6765\\u9ad8\"}},\"title\":{\"text\":\"\\u795e\\u5cf6\\u5316\\u5b66\\u5de5\\u696d(4026)\\u682a\\u4fa1\\u30ed\\u30fc\\u30bd\\u30af\\u30c1\\u30e3\\u30fc\\u30c8\\u3068\\u51fa\\u6765\\u9ad82024-06-14 \\uff5e 2024-12-11\"},\"height\":600,\"shapes\":[{\"line\":{\"color\":\"grey\",\"width\":1},\"opacity\":0.5,\"type\":\"line\",\"x0\":\"2024-09-12\",\"x1\":\"2024-09-12\",\"xref\":\"x\",\"y0\":0,\"y1\":1,\"yref\":\"y domain\"},{\"line\":{\"color\":\"grey\",\"width\":1},\"opacity\":0.5,\"type\":\"line\",\"x0\":\"2024-09-12\",\"x1\":\"2024-09-12\",\"xref\":\"x2\",\"y0\":0,\"y1\":1,\"yref\":\"y2 domain\"},{\"line\":{\"color\":\"orange\",\"width\":1},\"opacity\":0.5,\"type\":\"line\",\"x0\":\"2024-09-11\",\"x1\":\"2024-09-11\",\"xref\":\"x\",\"y0\":0,\"y1\":1,\"yref\":\"y domain\"},{\"line\":{\"color\":\"orange\",\"width\":1},\"opacity\":0.5,\"type\":\"line\",\"x0\":\"2024-09-11\",\"x1\":\"2024-09-11\",\"xref\":\"x2\",\"y0\":0,\"y1\":1,\"yref\":\"y2 domain\"},{\"line\":{\"color\":\"orange\",\"width\":1},\"opacity\":0.5,\"type\":\"line\",\"x0\":\"2024-12-11\",\"x1\":\"2024-12-11\",\"xref\":\"x\",\"y0\":0,\"y1\":1,\"yref\":\"y domain\"},{\"line\":{\"color\":\"orange\",\"width\":1},\"opacity\":0.5,\"type\":\"line\",\"x0\":\"2024-12-11\",\"x1\":\"2024-12-11\",\"xref\":\"x2\",\"y0\":0,\"y1\":1,\"yref\":\"y2 domain\"}]},                        {\"responsive\": true}                    ).then(function(){\n",
       "                            \n",
       "var gd = document.getElementById('cd3d861e-35bd-48d6-8773-1a6fa545cf65');\n",
       "var x = new MutationObserver(function (mutations, observer) {{\n",
       "        var display = window.getComputedStyle(gd).display;\n",
       "        if (!display || display === 'none') {{\n",
       "            console.log([gd, 'removed!']);\n",
       "            Plotly.purge(gd);\n",
       "            observer.disconnect();\n",
       "        }}\n",
       "}});\n",
       "\n",
       "// Listen for the removal of the full notebook cells\n",
       "var notebookContainer = gd.closest('#notebook-container');\n",
       "if (notebookContainer) {{\n",
       "    x.observe(notebookContainer, {childList: true});\n",
       "}}\n",
       "\n",
       "// Listen for the clearing of the current output cell\n",
       "var outputEl = gd.closest('.output');\n",
       "if (outputEl) {{\n",
       "    x.observe(outputEl, {childList: true});\n",
       "}}\n",
       "\n",
       "                        })                };                });            </script>        </div>"
      ]
     },
     "metadata": {},
     "output_type": "display_data"
    }
   ],
   "source": [
    "print(valuation_date)\n",
    "delta = relativedelta(days=90)\n",
    "start_date = marked_day - delta\n",
    "end_date = marked_day + delta\n",
    "PFIG = PricelistFig(code, RevPl.df, MPL.df, start_date, end_date)\n",
    "df = RevPl.df.filter(pl.col(\"code\")==code).filter(pl.col(\"date\")<=marked_day)\n",
    "vline_date = df[\"date\"].to_list()[-1]\n",
    "# screeningで抽出した日にvlineを引く \n",
    "PFIG.add_vline(marked_day)\n",
    "# 決算発表日にvlineを引く\n",
    "PFIG.add_vline_announcement_date()\n",
    "PFIG.fig.show()"
   ]
  },
  {
   "cell_type": "code",
   "execution_count": 22,
   "id": "c2a0859d-fee9-436f-abb8-baf8bfdba468",
   "metadata": {},
   "outputs": [
    {
     "name": "stdout",
     "output_type": "stream",
     "text": [
      "2024-09-14 2025-09-09\n"
     ]
    }
   ],
   "source": [
    "print(start_date, end_date)"
   ]
  },
  {
   "cell_type": "code",
   "execution_count": null,
   "id": "6fa0ddf7-22da-40a9-af49-36b61e040fdf",
   "metadata": {},
   "outputs": [],
   "source": []
  }
 ],
 "metadata": {
  "kernelspec": {
   "display_name": "Python 3 (ipykernel)",
   "language": "python",
   "name": "python3"
  },
  "language_info": {
   "codemirror_mode": {
    "name": "ipython",
    "version": 3
   },
   "file_extension": ".py",
   "mimetype": "text/x-python",
   "name": "python",
   "nbconvert_exporter": "python",
   "pygments_lexer": "ipython3",
   "version": "3.12.3"
  }
 },
 "nbformat": 4,
 "nbformat_minor": 5
}
