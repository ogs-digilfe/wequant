{
 "cells": [
  {
   "cell_type": "code",
   "execution_count": 1,
   "id": "e4f67817-a472-4dbd-8a08-e82ca6ca7099",
   "metadata": {},
   "outputs": [],
   "source": [
    "#### 利益改善され、割安な銘柄が動意づいたときに検知することを目的とする"
   ]
  },
  {
   "cell_type": "code",
   "execution_count": 2,
   "id": "7c3aad63-32da-47b8-becd-8f495dcf985a",
   "metadata": {},
   "outputs": [],
   "source": [
    "# 読み込みファイルパスの設定とimportしたいmoduleパス(pythonパス)の設定\n",
    "from pathlib import Path\n",
    "import os, sys\n",
    "\n",
    "CURRENT_DIR = Path(os.getcwd())\n",
    "PJ_DIR = CURRENT_DIR.parent.parent\n",
    "LIB_DIR = PJ_DIR / \"lib\"\n",
    "DATA_DIR = PJ_DIR / \"data\" \n",
    "\n",
    "sys.path.append(str(LIB_DIR))\n",
    "\n",
    "# notebook内で利用するmoduleのimport\n",
    "from lib_dataprocess import KessanPl, PricelistFig, PricelistPl, MeigaralistPl, read_data\n",
    "from lib_dataprocess import ShikihoPl, FinancequotePl, print_finance_quote, PricelistFig\n",
    "import polars as pl\n",
    "from datetime import date\n",
    "from dateutil.relativedelta import relativedelta\n",
    "\n",
    "fp = DATA_DIR/\"reviced_pricelist.parquet\"\n",
    "df = read_data(fp)\n",
    "RevPl = PricelistPl(df)\n",
    "\n",
    "# dataの読み込み\n",
    "fp = DATA_DIR/\"raw_pricelist.parquet\"\n",
    "df = read_data(fp)\n",
    "PPL = PricelistPl(df)\n",
    "\n",
    "fp = DATA_DIR/\"finance_quote.parquet\"\n",
    "df = read_data(fp)\n",
    "FPL = FinancequotePl(df)\n",
    "FPL.with_columns_market_cap()\n",
    "\n",
    "fp = DATA_DIR/\"meigaralist.parquet\"\n",
    "df = read_data(fp)\n",
    "MPL = MeigaralistPl(df)\n",
    "\n",
    "fp = DATA_DIR/\"shikiho.parquet\"\n",
    "df = read_data(fp)\n",
    "SPL = ShikihoPl(df)\n"
   ]
  },
  {
   "cell_type": "code",
   "execution_count": 3,
   "id": "0f5adef0-992f-4d05-8bc9-2aa834b7b7ca",
   "metadata": {},
   "outputs": [],
   "source": [
    "#####\n",
    "##### KessanPl.dfの加工\n",
    "#####"
   ]
  },
  {
   "cell_type": "code",
   "execution_count": 4,
   "id": "47ac89e9-9358-4bf3-87e7-2c42804ebac8",
   "metadata": {},
   "outputs": [],
   "source": [
    "#パラメータのセット\n",
    "# 決算日の指定 -> 指定した日の四半期決算でランキングを作成する\n",
    "valuation_date = date.today()\n",
    "valuation_date = date(2024, 9, 26)\n",
    "# 売上高伸び率を何%以上にするか\n",
    "min_sales_growthrate = 10"
   ]
  },
  {
   "cell_type": "code",
   "execution_count": 5,
   "id": "0e3166ab-39e3-4032-b83c-b21b7a77ee83",
   "metadata": {},
   "outputs": [
    {
     "data": {
      "text/html": [
       "<div><style>\n",
       ".dataframe > thead > tr,\n",
       ".dataframe > tbody > tr {\n",
       "  text-align: right;\n",
       "  white-space: pre-wrap;\n",
       "}\n",
       "</style>\n",
       "<small>shape: (3_717, 7)</small><table border=\"1\" class=\"dataframe\"><thead><tr><th>code</th><th>settlement_date</th><th>announcement_date</th><th>sales</th><th>operating_income</th><th>sales_growthrate</th><th>diff_operating_income_growthrate</th></tr><tr><td>i64</td><td>date</td><td>date</td><td>i64</td><td>i64</td><td>f64</td><td>f64</td></tr></thead><tbody><tr><td>1301</td><td>2024-06-30</td><td>2024-08-05</td><td>68204</td><td>3102</td><td>9.4</td><td>11.7</td></tr><tr><td>1332</td><td>2024-06-30</td><td>2024-08-06</td><td>220644</td><td>9724</td><td>10.4</td><td>0.0</td></tr><tr><td>1333</td><td>2024-06-30</td><td>2024-08-05</td><td>256928</td><td>7657</td><td>2.4</td><td>-0.5</td></tr><tr><td>1375</td><td>2024-06-30</td><td>2024-08-08</td><td>10172</td><td>-77</td><td>22.9</td><td>12.5</td></tr><tr><td>1376</td><td>2024-05-31</td><td>2024-07-10</td><td>23224</td><td>1150</td><td>1.9</td><td>-16.0</td></tr><tr><td>&hellip;</td><td>&hellip;</td><td>&hellip;</td><td>&hellip;</td><td>&hellip;</td><td>&hellip;</td><td>&hellip;</td></tr><tr><td>9991</td><td>2024-06-30</td><td>2024-07-25</td><td>26954</td><td>1366</td><td>-14.5</td><td>-2.5</td></tr><tr><td>9993</td><td>2024-05-31</td><td>2024-07-11</td><td>24969</td><td>-408</td><td>1.8</td><td>-108.5</td></tr><tr><td>9994</td><td>2024-06-30</td><td>2024-08-09</td><td>39151</td><td>1286</td><td>0.6</td><td>-14.9</td></tr><tr><td>9996</td><td>2024-06-30</td><td>2024-08-09</td><td>11994</td><td>326</td><td>3.4</td><td>-6.3</td></tr><tr><td>9997</td><td>2024-06-30</td><td>2024-07-31</td><td>51368</td><td>982</td><td>-0.9</td><td>36.7</td></tr></tbody></table></div>"
      ],
      "text/plain": [
       "shape: (3_717, 7)\n",
       "┌──────┬────────────────┬────────────────┬────────┬────────────────┬───────────────┬───────────────┐\n",
       "│ code ┆ settlement_dat ┆ announcement_d ┆ sales  ┆ operating_inco ┆ sales_growthr ┆ diff_operatin │\n",
       "│ ---  ┆ e              ┆ ate            ┆ ---    ┆ me             ┆ ate           ┆ g_income_grow │\n",
       "│ i64  ┆ ---            ┆ ---            ┆ i64    ┆ ---            ┆ ---           ┆ thra…         │\n",
       "│      ┆ date           ┆ date           ┆        ┆ i64            ┆ f64           ┆ ---           │\n",
       "│      ┆                ┆                ┆        ┆                ┆               ┆ f64           │\n",
       "╞══════╪════════════════╪════════════════╪════════╪════════════════╪═══════════════╪═══════════════╡\n",
       "│ 1301 ┆ 2024-06-30     ┆ 2024-08-05     ┆ 68204  ┆ 3102           ┆ 9.4           ┆ 11.7          │\n",
       "│ 1332 ┆ 2024-06-30     ┆ 2024-08-06     ┆ 220644 ┆ 9724           ┆ 10.4          ┆ 0.0           │\n",
       "│ 1333 ┆ 2024-06-30     ┆ 2024-08-05     ┆ 256928 ┆ 7657           ┆ 2.4           ┆ -0.5          │\n",
       "│ 1375 ┆ 2024-06-30     ┆ 2024-08-08     ┆ 10172  ┆ -77            ┆ 22.9          ┆ 12.5          │\n",
       "│ 1376 ┆ 2024-05-31     ┆ 2024-07-10     ┆ 23224  ┆ 1150           ┆ 1.9           ┆ -16.0         │\n",
       "│ …    ┆ …              ┆ …              ┆ …      ┆ …              ┆ …             ┆ …             │\n",
       "│ 9991 ┆ 2024-06-30     ┆ 2024-07-25     ┆ 26954  ┆ 1366           ┆ -14.5         ┆ -2.5          │\n",
       "│ 9993 ┆ 2024-05-31     ┆ 2024-07-11     ┆ 24969  ┆ -408           ┆ 1.8           ┆ -108.5        │\n",
       "│ 9994 ┆ 2024-06-30     ┆ 2024-08-09     ┆ 39151  ┆ 1286           ┆ 0.6           ┆ -14.9         │\n",
       "│ 9996 ┆ 2024-06-30     ┆ 2024-08-09     ┆ 11994  ┆ 326            ┆ 3.4           ┆ -6.3          │\n",
       "│ 9997 ┆ 2024-06-30     ┆ 2024-07-31     ┆ 51368  ┆ 982            ┆ -0.9          ┆ 36.7          │\n",
       "└──────┴────────────────┴────────────────┴────────┴────────────────┴───────────────┴───────────────┘"
      ]
     },
     "execution_count": 5,
     "metadata": {},
     "output_type": "execute_result"
    }
   ],
   "source": [
    "# 読み込みと加工\n",
    "# 読み込み\n",
    "fp = DATA_DIR/\"kessan.parquet\"\n",
    "df = read_data(fp)\n",
    "KPL1 = KessanPl(df)\n",
    "KPL2 = KessanPl(df)\n",
    "\n",
    "# データ加工\n",
    "KPL1.with_columns_growthrate_lastyear()\n",
    "KPL2.with_columns_diff_growthrate()\n",
    "KPL1.df = KPL1.df.filter(pl.col(\"settlement_type\")==\"四\")\n",
    "KPL2.df = KPL2.df.filter(pl.col(\"settlement_type\")==\"四\")\n",
    "df = KPL1.df.join(KPL2.df, on=[\"code\", \"settlement_date\"], how=\"left\")\n",
    "df = df.select([\n",
    "    \"code\", \"settlement_date\", \"announcement_date\", \"sales\", \"operating_income\", \"sales_growthrate\", \"diff_operating_income_growthrate\"\n",
    "])\n",
    "# valuation_date日時点の最新データに絞る\n",
    "df = df.filter(pl.col(\"announcement_date\")<=valuation_date)\n",
    "df = df.group_by(\"code\").agg([\n",
    "    pl.col(\"settlement_date\").last().alias(\"settlement_date\"),\n",
    "    pl.col(\"announcement_date\").last().alias(\"announcement_date\"),\n",
    "    pl.col(\"sales\").last().alias(\"sales\"),\n",
    "    pl.col(\"operating_income\").last().alias(\"operating_income\"),\n",
    "    pl.col(\"sales_growthrate\").last().alias(\"sales_growthrate\"),\n",
    "    pl.col(\"diff_operating_income_growthrate\").last().alias(\"diff_operating_income_growthrate\")\n",
    "])\n",
    "\n",
    "target_date = valuation_date - relativedelta(days=90)\n",
    "df = df.filter(pl.col(\"announcement_date\")>target_date)\n",
    "\n",
    "cpl_df = df\n",
    "cpl_df"
   ]
  },
  {
   "cell_type": "code",
   "execution_count": 6,
   "id": "1379d260-4b9d-48cc-87f3-8ae51e821e50",
   "metadata": {},
   "outputs": [],
   "source": [
    "##### \n",
    "##### reviced_pricelistの加工\n",
    "#####"
   ]
  },
  {
   "cell_type": "code",
   "execution_count": 7,
   "id": "c6783e27-ca11-4806-a399-fb294f1f45d5",
   "metadata": {},
   "outputs": [],
   "source": [
    "#パラメータのセット\n",
    "min_zs25 = 2\n",
    "min_daily_updown_rate = 2\n",
    "min_overnight_updown_rate = 0"
   ]
  },
  {
   "cell_type": "code",
   "execution_count": 8,
   "id": "757b9d59-35ca-4b14-bfee-279c7ccf9c83",
   "metadata": {},
   "outputs": [
    {
     "data": {
      "text/html": [
       "<div><style>\n",
       ".dataframe > thead > tr,\n",
       ".dataframe > tbody > tr {\n",
       "  text-align: right;\n",
       "  white-space: pre-wrap;\n",
       "}\n",
       "</style>\n",
       "<small>shape: (228_708, 11)</small><table border=\"1\" class=\"dataframe\"><thead><tr><th>code</th><th>date</th><th>open</th><th>high</th><th>low</th><th>close</th><th>volume</th><th>accumulated_split_rate</th><th>zs25</th><th>daily_updown_rate</th><th>overnight_updown_rate</th></tr><tr><td>i64</td><td>date</td><td>f64</td><td>f64</td><td>f64</td><td>f64</td><td>f64</td><td>f64</td><td>f64</td><td>f64</td><td>f64</td></tr></thead><tbody><tr><td>1301</td><td>2024-08-05</td><td>3610.0</td><td>3780.0</td><td>3400.0</td><td>3450.0</td><td>105000.0</td><td>1.0</td><td>4.2</td><td>-4.43</td><td>-3.99</td></tr><tr><td>1301</td><td>2024-08-06</td><td>3855.0</td><td>3855.0</td><td>3605.0</td><td>3665.0</td><td>50100.0</td><td>1.0</td><td>1.2</td><td>-4.93</td><td>11.74</td></tr><tr><td>1301</td><td>2024-08-07</td><td>3630.0</td><td>3755.0</td><td>3600.0</td><td>3650.0</td><td>38600.0</td><td>1.0</td><td>0.58</td><td>0.55</td><td>-0.95</td></tr><tr><td>1301</td><td>2024-08-08</td><td>3635.0</td><td>3690.0</td><td>3630.0</td><td>3645.0</td><td>23400.0</td><td>1.0</td><td>-0.23</td><td>0.28</td><td>-0.41</td></tr><tr><td>1301</td><td>2024-08-09</td><td>3690.0</td><td>3720.0</td><td>3630.0</td><td>3675.0</td><td>31700.0</td><td>1.0</td><td>0.17</td><td>-0.41</td><td>1.23</td></tr><tr><td>&hellip;</td><td>&hellip;</td><td>&hellip;</td><td>&hellip;</td><td>&hellip;</td><td>&hellip;</td><td>&hellip;</td><td>&hellip;</td><td>&hellip;</td><td>&hellip;</td><td>&hellip;</td></tr><tr><td>9997</td><td>2024-10-28</td><td>702.0</td><td>711.0</td><td>699.0</td><td>708.0</td><td>154300.0</td><td>1.0</td><td>-0.59</td><td>0.85</td><td>0.86</td></tr><tr><td>9997</td><td>2024-10-29</td><td>711.0</td><td>722.0</td><td>710.0</td><td>716.0</td><td>205600.0</td><td>1.0</td><td>-0.39</td><td>0.7</td><td>0.42</td></tr><tr><td>9997</td><td>2024-10-30</td><td>715.0</td><td>718.0</td><td>711.0</td><td>712.0</td><td>208800.0</td><td>1.0</td><td>-0.33</td><td>-0.42</td><td>-0.14</td></tr><tr><td>9997</td><td>2024-10-31</td><td>710.0</td><td>716.0</td><td>706.0</td><td>714.0</td><td>160600.0</td><td>1.0</td><td>-0.42</td><td>0.56</td><td>-0.28</td></tr><tr><td>9997</td><td>2024-11-01</td><td>707.0</td><td>723.0</td><td>703.0</td><td>718.0</td><td>223100.0</td><td>1.0</td><td>-0.1</td><td>1.56</td><td>-0.98</td></tr></tbody></table></div>"
      ],
      "text/plain": [
       "shape: (228_708, 11)\n",
       "┌──────┬────────────┬────────┬────────┬───┬────────────────┬───────┬───────────────┬───────────────┐\n",
       "│ code ┆ date       ┆ open   ┆ high   ┆ … ┆ accumulated_sp ┆ zs25  ┆ daily_updown_ ┆ overnight_upd │\n",
       "│ ---  ┆ ---        ┆ ---    ┆ ---    ┆   ┆ lit_rate       ┆ ---   ┆ rate          ┆ own_rate      │\n",
       "│ i64  ┆ date       ┆ f64    ┆ f64    ┆   ┆ ---            ┆ f64   ┆ ---           ┆ ---           │\n",
       "│      ┆            ┆        ┆        ┆   ┆ f64            ┆       ┆ f64           ┆ f64           │\n",
       "╞══════╪════════════╪════════╪════════╪═══╪════════════════╪═══════╪═══════════════╪═══════════════╡\n",
       "│ 1301 ┆ 2024-08-05 ┆ 3610.0 ┆ 3780.0 ┆ … ┆ 1.0            ┆ 4.2   ┆ -4.43         ┆ -3.99         │\n",
       "│ 1301 ┆ 2024-08-06 ┆ 3855.0 ┆ 3855.0 ┆ … ┆ 1.0            ┆ 1.2   ┆ -4.93         ┆ 11.74         │\n",
       "│ 1301 ┆ 2024-08-07 ┆ 3630.0 ┆ 3755.0 ┆ … ┆ 1.0            ┆ 0.58  ┆ 0.55          ┆ -0.95         │\n",
       "│ 1301 ┆ 2024-08-08 ┆ 3635.0 ┆ 3690.0 ┆ … ┆ 1.0            ┆ -0.23 ┆ 0.28          ┆ -0.41         │\n",
       "│ 1301 ┆ 2024-08-09 ┆ 3690.0 ┆ 3720.0 ┆ … ┆ 1.0            ┆ 0.17  ┆ -0.41         ┆ 1.23          │\n",
       "│ …    ┆ …          ┆ …      ┆ …      ┆ … ┆ …              ┆ …     ┆ …             ┆ …             │\n",
       "│ 9997 ┆ 2024-10-28 ┆ 702.0  ┆ 711.0  ┆ … ┆ 1.0            ┆ -0.59 ┆ 0.85          ┆ 0.86          │\n",
       "│ 9997 ┆ 2024-10-29 ┆ 711.0  ┆ 722.0  ┆ … ┆ 1.0            ┆ -0.39 ┆ 0.7           ┆ 0.42          │\n",
       "│ 9997 ┆ 2024-10-30 ┆ 715.0  ┆ 718.0  ┆ … ┆ 1.0            ┆ -0.33 ┆ -0.42         ┆ -0.14         │\n",
       "│ 9997 ┆ 2024-10-31 ┆ 710.0  ┆ 716.0  ┆ … ┆ 1.0            ┆ -0.42 ┆ 0.56          ┆ -0.28         │\n",
       "│ 9997 ┆ 2024-11-01 ┆ 707.0  ┆ 723.0  ┆ … ┆ 1.0            ┆ -0.1  ┆ 1.56          ┆ -0.98         │\n",
       "└──────┴────────────┴────────┴────────┴───┴────────────────┴───────┴───────────────┴───────────────┘"
      ]
     },
     "execution_count": 8,
     "metadata": {},
     "output_type": "execute_result"
    }
   ],
   "source": [
    "# 読み込みと加工\n",
    "# 読み込み\n",
    "fp = DATA_DIR/\"reviced_pricelist.parquet\"\n",
    "df = read_data(fp)\n",
    "RPL = PricelistPl(df)\n",
    "\n",
    "# データ加工\n",
    "# rpl_dfに評価列を追加\n",
    "RPL.with_columns_moving_zscore()\n",
    "RPL.with_columns_daily_updown_rate()\n",
    "RPL.with_columns_overnight_updown(\"yesterday\")\n",
    "rpl_df = RPL.df\n",
    "# rpl_dfの評価対象行を抽出\n",
    "ori_cols = rpl_df.columns\n",
    "df = cpl_df\n",
    "df = df.select([\"code\", \"announcement_date\"])\n",
    "df = df.with_columns([\n",
    "    pl.col(\"announcement_date\").alias(\"start_date\"),\n",
    "    (pl.col(\"announcement_date\") + pl.duration(days=93)).alias(\"end_date\")\n",
    "])\n",
    "df = df.select([\"code\", \"start_date\", \"end_date\"])\n",
    "df = rpl_df.join(df, on=\"code\", how=\"left\")\n",
    "df = df.filter(pl.col(\"date\")>=pl.col(\"start_date\"))\\\n",
    "    .filter(pl.col(\"date\")<=pl.col(\"end_date\"))\n",
    "df = df.select(ori_cols)\n",
    "rpl_df = df\n",
    "rpl_df"
   ]
  },
  {
   "cell_type": "code",
   "execution_count": 9,
   "id": "e2c7da84-b5b4-402e-93a2-63192f75fd82",
   "metadata": {},
   "outputs": [],
   "source": [
    "##### \n",
    "##### cpl_dfとrpl_dfを連結して、screening用のdfを作成\n",
    "#####"
   ]
  },
  {
   "cell_type": "code",
   "execution_count": 10,
   "id": "259a9099-11a6-4198-af8a-59c2a15543ef",
   "metadata": {},
   "outputs": [
    {
     "data": {
      "text/html": [
       "<div><style>\n",
       ".dataframe > thead > tr,\n",
       ".dataframe > tbody > tr {\n",
       "  text-align: right;\n",
       "  white-space: pre-wrap;\n",
       "}\n",
       "</style>\n",
       "<small>shape: (228_708, 17)</small><table border=\"1\" class=\"dataframe\"><thead><tr><th>code</th><th>date</th><th>open</th><th>high</th><th>low</th><th>close</th><th>volume</th><th>accumulated_split_rate</th><th>zs25</th><th>daily_updown_rate</th><th>overnight_updown_rate</th><th>settlement_date</th><th>announcement_date</th><th>sales</th><th>operating_income</th><th>sales_growthrate</th><th>diff_operating_income_growthrate</th></tr><tr><td>i64</td><td>date</td><td>f64</td><td>f64</td><td>f64</td><td>f64</td><td>f64</td><td>f64</td><td>f64</td><td>f64</td><td>f64</td><td>date</td><td>date</td><td>i64</td><td>i64</td><td>f64</td><td>f64</td></tr></thead><tbody><tr><td>1301</td><td>2024-08-05</td><td>3610.0</td><td>3780.0</td><td>3400.0</td><td>3450.0</td><td>105000.0</td><td>1.0</td><td>4.2</td><td>-4.43</td><td>-3.99</td><td>2024-06-30</td><td>2024-08-05</td><td>68204</td><td>3102</td><td>9.4</td><td>11.7</td></tr><tr><td>1301</td><td>2024-08-06</td><td>3855.0</td><td>3855.0</td><td>3605.0</td><td>3665.0</td><td>50100.0</td><td>1.0</td><td>1.2</td><td>-4.93</td><td>11.74</td><td>2024-06-30</td><td>2024-08-05</td><td>68204</td><td>3102</td><td>9.4</td><td>11.7</td></tr><tr><td>1301</td><td>2024-08-07</td><td>3630.0</td><td>3755.0</td><td>3600.0</td><td>3650.0</td><td>38600.0</td><td>1.0</td><td>0.58</td><td>0.55</td><td>-0.95</td><td>2024-06-30</td><td>2024-08-05</td><td>68204</td><td>3102</td><td>9.4</td><td>11.7</td></tr><tr><td>1301</td><td>2024-08-08</td><td>3635.0</td><td>3690.0</td><td>3630.0</td><td>3645.0</td><td>23400.0</td><td>1.0</td><td>-0.23</td><td>0.28</td><td>-0.41</td><td>2024-06-30</td><td>2024-08-05</td><td>68204</td><td>3102</td><td>9.4</td><td>11.7</td></tr><tr><td>1301</td><td>2024-08-09</td><td>3690.0</td><td>3720.0</td><td>3630.0</td><td>3675.0</td><td>31700.0</td><td>1.0</td><td>0.17</td><td>-0.41</td><td>1.23</td><td>2024-06-30</td><td>2024-08-05</td><td>68204</td><td>3102</td><td>9.4</td><td>11.7</td></tr><tr><td>&hellip;</td><td>&hellip;</td><td>&hellip;</td><td>&hellip;</td><td>&hellip;</td><td>&hellip;</td><td>&hellip;</td><td>&hellip;</td><td>&hellip;</td><td>&hellip;</td><td>&hellip;</td><td>&hellip;</td><td>&hellip;</td><td>&hellip;</td><td>&hellip;</td><td>&hellip;</td><td>&hellip;</td></tr><tr><td>9997</td><td>2024-10-28</td><td>702.0</td><td>711.0</td><td>699.0</td><td>708.0</td><td>154300.0</td><td>1.0</td><td>-0.59</td><td>0.85</td><td>0.86</td><td>2024-06-30</td><td>2024-07-31</td><td>51368</td><td>982</td><td>-0.9</td><td>36.7</td></tr><tr><td>9997</td><td>2024-10-29</td><td>711.0</td><td>722.0</td><td>710.0</td><td>716.0</td><td>205600.0</td><td>1.0</td><td>-0.39</td><td>0.7</td><td>0.42</td><td>2024-06-30</td><td>2024-07-31</td><td>51368</td><td>982</td><td>-0.9</td><td>36.7</td></tr><tr><td>9997</td><td>2024-10-30</td><td>715.0</td><td>718.0</td><td>711.0</td><td>712.0</td><td>208800.0</td><td>1.0</td><td>-0.33</td><td>-0.42</td><td>-0.14</td><td>2024-06-30</td><td>2024-07-31</td><td>51368</td><td>982</td><td>-0.9</td><td>36.7</td></tr><tr><td>9997</td><td>2024-10-31</td><td>710.0</td><td>716.0</td><td>706.0</td><td>714.0</td><td>160600.0</td><td>1.0</td><td>-0.42</td><td>0.56</td><td>-0.28</td><td>2024-06-30</td><td>2024-07-31</td><td>51368</td><td>982</td><td>-0.9</td><td>36.7</td></tr><tr><td>9997</td><td>2024-11-01</td><td>707.0</td><td>723.0</td><td>703.0</td><td>718.0</td><td>223100.0</td><td>1.0</td><td>-0.1</td><td>1.56</td><td>-0.98</td><td>2024-06-30</td><td>2024-07-31</td><td>51368</td><td>982</td><td>-0.9</td><td>36.7</td></tr></tbody></table></div>"
      ],
      "text/plain": [
       "shape: (228_708, 17)\n",
       "┌──────┬────────────┬────────┬────────┬───┬───────┬────────────────┬───────────────┬───────────────┐\n",
       "│ code ┆ date       ┆ open   ┆ high   ┆ … ┆ sales ┆ operating_inco ┆ sales_growthr ┆ diff_operatin │\n",
       "│ ---  ┆ ---        ┆ ---    ┆ ---    ┆   ┆ ---   ┆ me             ┆ ate           ┆ g_income_grow │\n",
       "│ i64  ┆ date       ┆ f64    ┆ f64    ┆   ┆ i64   ┆ ---            ┆ ---           ┆ thra…         │\n",
       "│      ┆            ┆        ┆        ┆   ┆       ┆ i64            ┆ f64           ┆ ---           │\n",
       "│      ┆            ┆        ┆        ┆   ┆       ┆                ┆               ┆ f64           │\n",
       "╞══════╪════════════╪════════╪════════╪═══╪═══════╪════════════════╪═══════════════╪═══════════════╡\n",
       "│ 1301 ┆ 2024-08-05 ┆ 3610.0 ┆ 3780.0 ┆ … ┆ 68204 ┆ 3102           ┆ 9.4           ┆ 11.7          │\n",
       "│ 1301 ┆ 2024-08-06 ┆ 3855.0 ┆ 3855.0 ┆ … ┆ 68204 ┆ 3102           ┆ 9.4           ┆ 11.7          │\n",
       "│ 1301 ┆ 2024-08-07 ┆ 3630.0 ┆ 3755.0 ┆ … ┆ 68204 ┆ 3102           ┆ 9.4           ┆ 11.7          │\n",
       "│ 1301 ┆ 2024-08-08 ┆ 3635.0 ┆ 3690.0 ┆ … ┆ 68204 ┆ 3102           ┆ 9.4           ┆ 11.7          │\n",
       "│ 1301 ┆ 2024-08-09 ┆ 3690.0 ┆ 3720.0 ┆ … ┆ 68204 ┆ 3102           ┆ 9.4           ┆ 11.7          │\n",
       "│ …    ┆ …          ┆ …      ┆ …      ┆ … ┆ …     ┆ …              ┆ …             ┆ …             │\n",
       "│ 9997 ┆ 2024-10-28 ┆ 702.0  ┆ 711.0  ┆ … ┆ 51368 ┆ 982            ┆ -0.9          ┆ 36.7          │\n",
       "│ 9997 ┆ 2024-10-29 ┆ 711.0  ┆ 722.0  ┆ … ┆ 51368 ┆ 982            ┆ -0.9          ┆ 36.7          │\n",
       "│ 9997 ┆ 2024-10-30 ┆ 715.0  ┆ 718.0  ┆ … ┆ 51368 ┆ 982            ┆ -0.9          ┆ 36.7          │\n",
       "│ 9997 ┆ 2024-10-31 ┆ 710.0  ┆ 716.0  ┆ … ┆ 51368 ┆ 982            ┆ -0.9          ┆ 36.7          │\n",
       "│ 9997 ┆ 2024-11-01 ┆ 707.0  ┆ 723.0  ┆ … ┆ 51368 ┆ 982            ┆ -0.9          ┆ 36.7          │\n",
       "└──────┴────────────┴────────┴────────┴───┴───────┴────────────────┴───────────────┴───────────────┘"
      ]
     },
     "execution_count": 10,
     "metadata": {},
     "output_type": "execute_result"
    }
   ],
   "source": [
    "df = rpl_df.join(cpl_df, on=\"code\", how=\"left\")\n",
    "screened_df = df\n",
    "screened_df"
   ]
  },
  {
   "cell_type": "code",
   "execution_count": 11,
   "id": "cb23440d-8c46-4e58-9b5c-2cb9437e91d0",
   "metadata": {},
   "outputs": [],
   "source": [
    "##### \n",
    "##### screening\n",
    "#####"
   ]
  },
  {
   "cell_type": "code",
   "execution_count": 12,
   "id": "a132296d-864b-4960-b083-d7be57a1ee4c",
   "metadata": {},
   "outputs": [],
   "source": [
    "# para\n",
    "min_zs25 = 3\n",
    "min_daily_updown_rate = 2\n",
    "min_overnight_updown_rate = 0\n",
    "min_sales_growthrate = 10\n",
    "min_sgr_dogr_ratio = 2"
   ]
  },
  {
   "cell_type": "code",
   "execution_count": 67,
   "id": "f5deb4b4-b230-4934-b7ac-5dd5a531e7d8",
   "metadata": {},
   "outputs": [
    {
     "data": {
      "text/html": [
       "<div><style>\n",
       ".dataframe > thead > tr,\n",
       ".dataframe > tbody > tr {\n",
       "  text-align: right;\n",
       "  white-space: pre-wrap;\n",
       "}\n",
       "</style>\n",
       "<small>shape: (10, 17)</small><table border=\"1\" class=\"dataframe\"><thead><tr><th>code</th><th>date</th><th>open</th><th>high</th><th>low</th><th>close</th><th>volume</th><th>accumulated_split_rate</th><th>zs25</th><th>daily_updown_rate</th><th>overnight_updown_rate</th><th>settlement_date</th><th>announcement_date</th><th>sales</th><th>operating_income</th><th>sales_growthrate</th><th>diff_operating_income_growthrate</th></tr><tr><td>i64</td><td>date</td><td>f64</td><td>f64</td><td>f64</td><td>f64</td><td>f64</td><td>f64</td><td>f64</td><td>f64</td><td>f64</td><td>date</td><td>date</td><td>i64</td><td>i64</td><td>f64</td><td>f64</td></tr></thead><tbody><tr><td>3708</td><td>2024-09-26</td><td>3785.0</td><td>3880.0</td><td>3775.0</td><td>3865.0</td><td>44800.0</td><td>1.0</td><td>4.04</td><td>2.11</td><td>0.53</td><td>2024-06-30</td><td>2024-08-14</td><td>22702</td><td>1049</td><td>10.4</td><td>38.1</td></tr><tr><td>3727</td><td>2024-10-09</td><td>182.0</td><td>189.0</td><td>175.0</td><td>189.0</td><td>5.6819e6</td><td>1.0</td><td>4.74</td><td>3.85</td><td>30.94</td><td>2024-06-30</td><td>2024-08-13</td><td>1037</td><td>84</td><td>12.5</td><td>42.6</td></tr><tr><td>3763</td><td>2024-10-07</td><td>1599.0</td><td>1677.0</td><td>1591.0</td><td>1667.0</td><td>102700.0</td><td>1.0</td><td>4.4</td><td>4.25</td><td>0.95</td><td>2024-06-30</td><td>2024-08-09</td><td>1485</td><td>193</td><td>14.6</td><td>89.9</td></tr><tr><td>3773</td><td>2024-10-21</td><td>1120.0</td><td>1179.0</td><td>1108.0</td><td>1160.0</td><td>363200.0</td><td>1.0</td><td>4.57</td><td>3.57</td><td>3.9</td><td>2024-06-30</td><td>2024-08-07</td><td>1482</td><td>265</td><td>20.6</td><td>51.0</td></tr><tr><td>3837</td><td>2024-11-08</td><td>1878.0</td><td>1937.0</td><td>1876.0</td><td>1922.0</td><td>53700.0</td><td>1.0</td><td>3.94</td><td>2.34</td><td>0.75</td><td>2024-06-30</td><td>2024-08-07</td><td>3753</td><td>456</td><td>10.5</td><td>33.0</td></tr><tr><td>3920</td><td>2024-09-12</td><td>563.0</td><td>649.0</td><td>557.0</td><td>593.0</td><td>366800.0</td><td>1.0</td><td>4.63</td><td>5.33</td><td>1.81</td><td>2024-06-30</td><td>2024-08-09</td><td>576</td><td>147</td><td>25.2</td><td>64.7</td></tr><tr><td>3922</td><td>2024-07-11</td><td>1820.0</td><td>1871.0</td><td>1802.0</td><td>1871.0</td><td>50200.0</td><td>1.0</td><td>3.61</td><td>2.8</td><td>0.22</td><td>2024-05-31</td><td>2024-07-11</td><td>1925</td><td>484</td><td>19.7</td><td>44.5</td></tr><tr><td>3922</td><td>2024-07-12</td><td>1959.0</td><td>2116.0</td><td>1956.0</td><td>2081.0</td><td>267300.0</td><td>1.0</td><td>4.73</td><td>6.23</td><td>4.7</td><td>2024-05-31</td><td>2024-07-11</td><td>1925</td><td>484</td><td>19.7</td><td>44.5</td></tr><tr><td>3930</td><td>2024-12-13</td><td>931.0</td><td>1074.0</td><td>906.0</td><td>1000.0</td><td>257300.0</td><td>1.0</td><td>4.8</td><td>7.41</td><td>0.76</td><td>2024-07-31</td><td>2024-09-13</td><td>931</td><td>107</td><td>14.8</td><td>63.3</td></tr><tr><td>4026</td><td>2024-09-12</td><td>1700.0</td><td>1887.0</td><td>1695.0</td><td>1880.0</td><td>438600.0</td><td>1.0</td><td>3.15</td><td>10.59</td><td>0.0</td><td>2024-07-31</td><td>2024-09-11</td><td>6983</td><td>649</td><td>12.7</td><td>29.7</td></tr></tbody></table></div>"
      ],
      "text/plain": [
       "shape: (10, 17)\n",
       "┌──────┬────────────┬────────┬────────┬───┬───────┬────────────────┬───────────────┬───────────────┐\n",
       "│ code ┆ date       ┆ open   ┆ high   ┆ … ┆ sales ┆ operating_inco ┆ sales_growthr ┆ diff_operatin │\n",
       "│ ---  ┆ ---        ┆ ---    ┆ ---    ┆   ┆ ---   ┆ me             ┆ ate           ┆ g_income_grow │\n",
       "│ i64  ┆ date       ┆ f64    ┆ f64    ┆   ┆ i64   ┆ ---            ┆ ---           ┆ thra…         │\n",
       "│      ┆            ┆        ┆        ┆   ┆       ┆ i64            ┆ f64           ┆ ---           │\n",
       "│      ┆            ┆        ┆        ┆   ┆       ┆                ┆               ┆ f64           │\n",
       "╞══════╪════════════╪════════╪════════╪═══╪═══════╪════════════════╪═══════════════╪═══════════════╡\n",
       "│ 3708 ┆ 2024-09-26 ┆ 3785.0 ┆ 3880.0 ┆ … ┆ 22702 ┆ 1049           ┆ 10.4          ┆ 38.1          │\n",
       "│ 3727 ┆ 2024-10-09 ┆ 182.0  ┆ 189.0  ┆ … ┆ 1037  ┆ 84             ┆ 12.5          ┆ 42.6          │\n",
       "│ 3763 ┆ 2024-10-07 ┆ 1599.0 ┆ 1677.0 ┆ … ┆ 1485  ┆ 193            ┆ 14.6          ┆ 89.9          │\n",
       "│ 3773 ┆ 2024-10-21 ┆ 1120.0 ┆ 1179.0 ┆ … ┆ 1482  ┆ 265            ┆ 20.6          ┆ 51.0          │\n",
       "│ 3837 ┆ 2024-11-08 ┆ 1878.0 ┆ 1937.0 ┆ … ┆ 3753  ┆ 456            ┆ 10.5          ┆ 33.0          │\n",
       "│ 3920 ┆ 2024-09-12 ┆ 563.0  ┆ 649.0  ┆ … ┆ 576   ┆ 147            ┆ 25.2          ┆ 64.7          │\n",
       "│ 3922 ┆ 2024-07-11 ┆ 1820.0 ┆ 1871.0 ┆ … ┆ 1925  ┆ 484            ┆ 19.7          ┆ 44.5          │\n",
       "│ 3922 ┆ 2024-07-12 ┆ 1959.0 ┆ 2116.0 ┆ … ┆ 1925  ┆ 484            ┆ 19.7          ┆ 44.5          │\n",
       "│ 3930 ┆ 2024-12-13 ┆ 931.0  ┆ 1074.0 ┆ … ┆ 931   ┆ 107            ┆ 14.8          ┆ 63.3          │\n",
       "│ 4026 ┆ 2024-09-12 ┆ 1700.0 ┆ 1887.0 ┆ … ┆ 6983  ┆ 649            ┆ 12.7          ┆ 29.7          │\n",
       "└──────┴────────────┴────────┴────────┴───┴───────┴────────────────┴───────────────┴───────────────┘"
      ]
     },
     "execution_count": 67,
     "metadata": {},
     "output_type": "execute_result"
    }
   ],
   "source": [
    "df = screened_df\n",
    "\n",
    "df = df.filter([\n",
    "    pl.col(\"zs25\")>=min_zs25,\n",
    "    pl.col(\"daily_updown_rate\")>=min_daily_updown_rate,\n",
    "    pl.col(\"overnight_updown_rate\")>=min_overnight_updown_rate,\n",
    "    pl.col(\"sales_growthrate\")>=min_sales_growthrate,\n",
    "    pl.lit(min_sgr_dogr_ratio) * pl.col(\"sales_growthrate\")<pl.col(\"diff_operating_income_growthrate\")\n",
    "])\n",
    "df[20:30]"
   ]
  },
  {
   "cell_type": "code",
   "execution_count": 68,
   "id": "80324471-804b-4c3e-bc4e-a5e9e8156ed5",
   "metadata": {},
   "outputs": [],
   "source": [
    "##### \n",
    "##### individual stock info\n",
    "#####"
   ]
  },
  {
   "cell_type": "code",
   "execution_count": 71,
   "id": "9c54ab64-557d-4148-9cfc-7ca6cdb4d7e0",
   "metadata": {},
   "outputs": [],
   "source": [
    "# set code\n",
    "code = 3708\n",
    "marked_day = date(2024, 9, 26)"
   ]
  },
  {
   "cell_type": "code",
   "execution_count": 72,
   "id": "6ba4260f-64fc-427a-b345-7f009301e017",
   "metadata": {},
   "outputs": [
    {
     "name": "stdout",
     "output_type": "stream",
     "text": [
      "特種東海製紙(3708)の銘柄情報\n",
      "\n",
      "終値: 3865.0円(2024年09月26日)\n",
      "予想配当利回り: 3.1%(2024年09月26日)\n",
      "予想PER: 10.6倍(2024年09月26日)\n",
      "実績PBR: 0.59倍(2024年09月26日)\n",
      "自己資本比率: 57.8%(2024年09月26日)\n",
      "予想ROE: 5.53%(2024年09月26日)\n",
      "予想ROA: 3.2%(2024年09月26日)\n",
      "時価総額: 502.4億円(2024年09月26日)\n",
      "\n",
      "3708(特種東海製紙)の四季報データ履歴\n",
      "\n",
      "発行日: 2024年09月13日\n",
      "【上振れ】\n",
      "  前期連結の資源再活用会社がフル寄与。特殊紙と生活紙は前期の価格改定が通期寄与で伸長。岐阜工場閉鎖で労務費削減も効く。原燃料高や償却費増こなし、営業利益上振れ公算。段ボール需要減で産業素材関連の持分益は減少。増配余地。\n",
      "【新設】\n",
      "  産業素材の島田工場の廃棄物ボイラー(投資125億円)は27年1月稼働。24年10月特殊紙全商品を10%以上値上げ。\n",
      "\n",
      "発行日: 2024年06月14日\n",
      "【続伸】\n",
      "  前期連結の資源再活用会社がフル寄与。家庭紙や産業素材堅調。特殊紙も回復に向かう。償却費増や資材価格高騰あるが、岐阜工場閉鎖で労務費削減もあり、営業益続伸。産業素材関連の持分益は減少。\n",
      "【Ｍ＆Ａ】\n",
      "  廃棄物収集エリア拡大狙い、西東京拠点の廃棄物処理会社を4月子会社化。金属や複合素材を含む難易度高いプラスチックのリサイクル技術確立目指す。\n",
      "\n",
      "発行日: 2024年03月16日\n",
      "【続伸】\n",
      "  家庭紙や産業素材は値上げ浸透し伸長。が、数量減の特殊紙は想定より苦戦。営業増益幅縮小。持分益拡大。25年3月期は前期連結の資源再活用の子会社フル寄与。家庭紙や産業素材も堅調。特殊紙も上向く。償却費増など吸収し営業益続伸。\n",
      "【脱炭素】\n",
      "  4月小売電気事業を非化石燃料子会社に移管、製造業の脱炭素支援へ。島田工場バイオマスボイラーは27年1月稼働。\n",
      "\n",
      "発行日: 2023年12月15日\n",
      "【反発】\n",
      "  家庭紙は数量減だが値上げ浸透し拡大。資源再活用では連結子会社が上乗せで伸長。ただ特殊紙は数量減響き上期不冴え、下期値上げ浸透でも営業増益幅は前号比縮小。持分益は想定超で純益増。25年3月期は家庭紙堅調で特殊紙も持ち直す。\n",
      "【集約】\n",
      "  ファンシーペーパーの生産を24年3月に三島工場に集約し固定費圧縮へ。リサイクル等環境関連事業への投資加速。\n"
     ]
    }
   ],
   "source": [
    "### 最新情報\n",
    "# 指定したcodeの指定した日における株価と各種ファンダメンタルズデータをまとめて標準出力する\n",
    "# pricelist_dfは、raw_pricelistかreviced_pricelistかケースに応じて使い分ける。\n",
    "# def print_finance_quote(\n",
    "#        pricelist_df: pl.DataFrame,\n",
    "#        finance_quote_df: pl.DataFrame,\n",
    "#        code: int, \n",
    "#        valuation_date: date=date.today()\n",
    "#    ) -> None:\n",
    "print_finance_quote(PPL.df, FPL.df, code, valuation_date=marked_day)\n",
    "print()\n",
    "SPL.print_stock_df(code, num=4, valuation_date=valuation_date)"
   ]
  },
  {
   "cell_type": "code",
   "execution_count": 73,
   "id": "4a5fbfdd-0e47-4955-9515-f5d3128423f1",
   "metadata": {},
   "outputs": [
    {
     "name": "stdout",
     "output_type": "stream",
     "text": [
      "2024-09-26\n"
     ]
    },
    {
     "data": {
      "application/vnd.plotly.v1+json": {
       "config": {
        "plotlyServerURL": "https://plot.ly"
       },
       "data": [
        {
         "close": [
          3710,
          3665,
          3690,
          3690,
          3710,
          3655,
          3655,
          3695,
          3675,
          3720,
          3750,
          3810,
          3810,
          3810,
          3790,
          3760,
          3810,
          3775,
          3765,
          3745,
          3805,
          3750,
          3875,
          3780,
          3560,
          3360,
          3485,
          3410,
          3445,
          3500,
          3530,
          3585,
          3580,
          3605,
          3530,
          3530,
          3545,
          3570,
          3580,
          3675,
          3740,
          3685,
          3720,
          3690,
          3720,
          3715,
          3675,
          3675,
          3655,
          3665,
          3700,
          3595,
          3665,
          3630,
          3675,
          3670,
          3690,
          3720,
          3765,
          3765,
          3865,
          3795,
          3710,
          3750,
          3710,
          3735,
          3795,
          3810,
          3735,
          3730,
          3700,
          3725,
          3725,
          3700,
          3685,
          3680,
          3665,
          3605,
          3610,
          3645,
          3615,
          3740,
          3715,
          3710,
          3760,
          3730,
          3680,
          3695,
          3700,
          3655,
          3640,
          3620,
          3580,
          3575,
          3535,
          3565,
          3555,
          3530,
          3545,
          3560,
          3535,
          3540,
          3510,
          3540,
          3510,
          3530,
          3585,
          3540,
          3520,
          3540,
          3570,
          3575,
          3555,
          3590,
          3560,
          3540,
          3515,
          3495,
          3495,
          3480,
          3495
         ],
         "high": [
          3730,
          3755,
          3700,
          3710,
          3710,
          3710,
          3685,
          3705,
          3700,
          3735,
          3810,
          3830,
          3845,
          3845,
          3830,
          3805,
          3830,
          3830,
          3815,
          3780,
          3815,
          3820,
          3875,
          3880,
          3730,
          3515,
          3570,
          3575,
          3485,
          3535,
          3570,
          3585,
          3670,
          3645,
          3600,
          3595,
          3545,
          3570,
          3605,
          3700,
          3750,
          3740,
          3720,
          3730,
          3725,
          3745,
          3715,
          3730,
          3695,
          3690,
          3710,
          3695,
          3675,
          3655,
          3685,
          3700,
          3710,
          3720,
          3790,
          3785,
          3880,
          3865,
          3785,
          3760,
          3750,
          3760,
          3795,
          3840,
          3810,
          3750,
          3730,
          3725,
          3740,
          3740,
          3705,
          3685,
          3695,
          3670,
          3645,
          3665,
          3665,
          3750,
          3760,
          3745,
          3765,
          3755,
          3730,
          3750,
          3745,
          3725,
          3660,
          3650,
          3620,
          3610,
          3585,
          3575,
          3585,
          3560,
          3565,
          3575,
          3585,
          3560,
          3540,
          3540,
          3545,
          3540,
          3595,
          3570,
          3550,
          3550,
          3570,
          3595,
          3585,
          3595,
          3610,
          3570,
          3565,
          3525,
          3515,
          3510,
          3500
         ],
         "low": [
          3695,
          3645,
          3660,
          3665,
          3685,
          3650,
          3620,
          3660,
          3655,
          3685,
          3730,
          3780,
          3805,
          3800,
          3785,
          3760,
          3790,
          3765,
          3760,
          3735,
          3765,
          3750,
          3750,
          3765,
          3550,
          3255,
          3375,
          3370,
          3400,
          3430,
          3505,
          3530,
          3580,
          3550,
          3525,
          3530,
          3490,
          3540,
          3555,
          3605,
          3700,
          3655,
          3660,
          3680,
          3675,
          3715,
          3665,
          3665,
          3640,
          3605,
          3675,
          3590,
          3640,
          3605,
          3625,
          3635,
          3670,
          3680,
          3730,
          3735,
          3775,
          3785,
          3710,
          3705,
          3700,
          3735,
          3735,
          3775,
          3710,
          3710,
          3695,
          3695,
          3720,
          3695,
          3675,
          3650,
          3645,
          3600,
          3605,
          3605,
          3605,
          3635,
          3705,
          3670,
          3695,
          3715,
          3675,
          3670,
          3685,
          3635,
          3640,
          3580,
          3580,
          3575,
          3535,
          3535,
          3540,
          3530,
          3540,
          3545,
          3535,
          3510,
          3485,
          3515,
          3510,
          3510,
          3540,
          3540,
          3510,
          3530,
          3545,
          3575,
          3555,
          3555,
          3550,
          3540,
          3515,
          3480,
          3470,
          3480,
          3485
         ],
         "name": "株価",
         "open": [
          3730,
          3755,
          3700,
          3710,
          3700,
          3710,
          3655,
          3690,
          3700,
          3700,
          3730,
          3785,
          3820,
          3800,
          3815,
          3790,
          3795,
          3830,
          3775,
          3760,
          3785,
          3820,
          3750,
          3880,
          3730,
          3505,
          3555,
          3415,
          3400,
          3515,
          3570,
          3530,
          3600,
          3645,
          3580,
          3570,
          3530,
          3570,
          3555,
          3605,
          3700,
          3740,
          3675,
          3730,
          3725,
          3735,
          3700,
          3665,
          3675,
          3605,
          3700,
          3695,
          3640,
          3655,
          3655,
          3685,
          3690,
          3710,
          3750,
          3765,
          3785,
          3865,
          3765,
          3760,
          3700,
          3755,
          3735,
          3840,
          3765,
          3735,
          3730,
          3695,
          3730,
          3730,
          3695,
          3685,
          3695,
          3670,
          3605,
          3615,
          3665,
          3635,
          3735,
          3740,
          3725,
          3750,
          3730,
          3670,
          3705,
          3685,
          3655,
          3635,
          3620,
          3580,
          3575,
          3540,
          3565,
          3550,
          3540,
          3550,
          3580,
          3540,
          3540,
          3520,
          3540,
          3510,
          3540,
          3560,
          3540,
          3530,
          3545,
          3590,
          3580,
          3555,
          3550,
          3560,
          3565,
          3515,
          3480,
          3495,
          3490
         ],
         "type": "candlestick",
         "x": [
          "2024-06-28",
          "2024-07-01",
          "2024-07-02",
          "2024-07-03",
          "2024-07-04",
          "2024-07-05",
          "2024-07-08",
          "2024-07-09",
          "2024-07-10",
          "2024-07-11",
          "2024-07-12",
          "2024-07-16",
          "2024-07-17",
          "2024-07-18",
          "2024-07-19",
          "2024-07-22",
          "2024-07-23",
          "2024-07-24",
          "2024-07-25",
          "2024-07-26",
          "2024-07-29",
          "2024-07-30",
          "2024-07-31",
          "2024-08-01",
          "2024-08-02",
          "2024-08-05",
          "2024-08-06",
          "2024-08-07",
          "2024-08-08",
          "2024-08-09",
          "2024-08-13",
          "2024-08-14",
          "2024-08-15",
          "2024-08-16",
          "2024-08-19",
          "2024-08-20",
          "2024-08-21",
          "2024-08-22",
          "2024-08-23",
          "2024-08-26",
          "2024-08-27",
          "2024-08-28",
          "2024-08-29",
          "2024-08-30",
          "2024-09-02",
          "2024-09-03",
          "2024-09-04",
          "2024-09-05",
          "2024-09-06",
          "2024-09-09",
          "2024-09-10",
          "2024-09-11",
          "2024-09-12",
          "2024-09-13",
          "2024-09-17",
          "2024-09-18",
          "2024-09-19",
          "2024-09-20",
          "2024-09-24",
          "2024-09-25",
          "2024-09-26",
          "2024-09-27",
          "2024-09-30",
          "2024-10-01",
          "2024-10-02",
          "2024-10-03",
          "2024-10-04",
          "2024-10-07",
          "2024-10-08",
          "2024-10-09",
          "2024-10-10",
          "2024-10-11",
          "2024-10-15",
          "2024-10-16",
          "2024-10-17",
          "2024-10-18",
          "2024-10-21",
          "2024-10-22",
          "2024-10-23",
          "2024-10-24",
          "2024-10-25",
          "2024-10-28",
          "2024-10-29",
          "2024-10-30",
          "2024-10-31",
          "2024-11-01",
          "2024-11-05",
          "2024-11-06",
          "2024-11-07",
          "2024-11-08",
          "2024-11-11",
          "2024-11-12",
          "2024-11-13",
          "2024-11-14",
          "2024-11-15",
          "2024-11-18",
          "2024-11-19",
          "2024-11-20",
          "2024-11-21",
          "2024-11-22",
          "2024-11-25",
          "2024-11-26",
          "2024-11-27",
          "2024-11-28",
          "2024-11-29",
          "2024-12-02",
          "2024-12-03",
          "2024-12-04",
          "2024-12-05",
          "2024-12-06",
          "2024-12-09",
          "2024-12-10",
          "2024-12-11",
          "2024-12-12",
          "2024-12-13",
          "2024-12-16",
          "2024-12-17",
          "2024-12-18",
          "2024-12-19",
          "2024-12-20",
          "2024-12-23"
         ],
         "xaxis": "x",
         "yaxis": "y"
        },
        {
         "marker": {
          "color": "blue"
         },
         "name": "出来高",
         "type": "bar",
         "x": [
          "2024-06-28",
          "2024-07-01",
          "2024-07-02",
          "2024-07-03",
          "2024-07-04",
          "2024-07-05",
          "2024-07-08",
          "2024-07-09",
          "2024-07-10",
          "2024-07-11",
          "2024-07-12",
          "2024-07-16",
          "2024-07-17",
          "2024-07-18",
          "2024-07-19",
          "2024-07-22",
          "2024-07-23",
          "2024-07-24",
          "2024-07-25",
          "2024-07-26",
          "2024-07-29",
          "2024-07-30",
          "2024-07-31",
          "2024-08-01",
          "2024-08-02",
          "2024-08-05",
          "2024-08-06",
          "2024-08-07",
          "2024-08-08",
          "2024-08-09",
          "2024-08-13",
          "2024-08-14",
          "2024-08-15",
          "2024-08-16",
          "2024-08-19",
          "2024-08-20",
          "2024-08-21",
          "2024-08-22",
          "2024-08-23",
          "2024-08-26",
          "2024-08-27",
          "2024-08-28",
          "2024-08-29",
          "2024-08-30",
          "2024-09-02",
          "2024-09-03",
          "2024-09-04",
          "2024-09-05",
          "2024-09-06",
          "2024-09-09",
          "2024-09-10",
          "2024-09-11",
          "2024-09-12",
          "2024-09-13",
          "2024-09-17",
          "2024-09-18",
          "2024-09-19",
          "2024-09-20",
          "2024-09-24",
          "2024-09-25",
          "2024-09-26",
          "2024-09-27",
          "2024-09-30",
          "2024-10-01",
          "2024-10-02",
          "2024-10-03",
          "2024-10-04",
          "2024-10-07",
          "2024-10-08",
          "2024-10-09",
          "2024-10-10",
          "2024-10-11",
          "2024-10-15",
          "2024-10-16",
          "2024-10-17",
          "2024-10-18",
          "2024-10-21",
          "2024-10-22",
          "2024-10-23",
          "2024-10-24",
          "2024-10-25",
          "2024-10-28",
          "2024-10-29",
          "2024-10-30",
          "2024-10-31",
          "2024-11-01",
          "2024-11-05",
          "2024-11-06",
          "2024-11-07",
          "2024-11-08",
          "2024-11-11",
          "2024-11-12",
          "2024-11-13",
          "2024-11-14",
          "2024-11-15",
          "2024-11-18",
          "2024-11-19",
          "2024-11-20",
          "2024-11-21",
          "2024-11-22",
          "2024-11-25",
          "2024-11-26",
          "2024-11-27",
          "2024-11-28",
          "2024-11-29",
          "2024-12-02",
          "2024-12-03",
          "2024-12-04",
          "2024-12-05",
          "2024-12-06",
          "2024-12-09",
          "2024-12-10",
          "2024-12-11",
          "2024-12-12",
          "2024-12-13",
          "2024-12-16",
          "2024-12-17",
          "2024-12-18",
          "2024-12-19",
          "2024-12-20",
          "2024-12-23"
         ],
         "xaxis": "x2",
         "y": [
          18200,
          15700,
          17700,
          9500,
          8100,
          13800,
          15100,
          18500,
          22500,
          14300,
          23200,
          24000,
          7100,
          15800,
          9500,
          11700,
          14000,
          14000,
          15800,
          17200,
          11700,
          14800,
          13200,
          18800,
          38100,
          38700,
          30200,
          15800,
          18700,
          20900,
          11100,
          12900,
          20400,
          16200,
          15200,
          13800,
          14400,
          5300,
          7800,
          15700,
          9100,
          12500,
          10300,
          6500,
          15900,
          6600,
          10600,
          10200,
          8600,
          12000,
          10700,
          17000,
          11700,
          17200,
          10100,
          10200,
          12000,
          19500,
          22400,
          15400,
          44800,
          15100,
          14600,
          8100,
          14600,
          7000,
          11600,
          12300,
          15200,
          14100,
          14700,
          15400,
          11900,
          11100,
          12900,
          11900,
          11200,
          17100,
          10800,
          16500,
          10600,
          18900,
          12000,
          84700,
          16600,
          9100,
          8400,
          10500,
          11400,
          17800,
          5300,
          35700,
          14300,
          14200,
          17100,
          11900,
          8300,
          8300,
          6200,
          7000,
          14100,
          14900,
          21100,
          9700,
          6500,
          3900,
          9600,
          9500,
          9100,
          2700,
          10500,
          8700,
          10700,
          12100,
          19200,
          6100,
          7900,
          20800,
          9800,
          11200,
          8600
         ],
         "yaxis": "y2"
        }
       ],
       "layout": {
        "autosize": true,
        "shapes": [
         {
          "line": {
           "color": "grey",
           "width": 1
          },
          "opacity": 0.5,
          "type": "line",
          "x0": "2024-09-26",
          "x1": "2024-09-26",
          "xref": "x",
          "y0": 0,
          "y1": 1,
          "yref": "y domain"
         },
         {
          "line": {
           "color": "grey",
           "width": 1
          },
          "opacity": 0.5,
          "type": "line",
          "x0": "2024-09-26",
          "x1": "2024-09-26",
          "xref": "x2",
          "y0": 0,
          "y1": 1,
          "yref": "y2 domain"
         },
         {
          "line": {
           "color": "orange",
           "width": 1
          },
          "opacity": 0.5,
          "type": "line",
          "x0": "2024-08-14",
          "x1": "2024-08-14",
          "xref": "x",
          "y0": 0,
          "y1": 1,
          "yref": "y domain"
         },
         {
          "line": {
           "color": "orange",
           "width": 1
          },
          "opacity": 0.5,
          "type": "line",
          "x0": "2024-08-14",
          "x1": "2024-08-14",
          "xref": "x2",
          "y0": 0,
          "y1": 1,
          "yref": "y2 domain"
         },
         {
          "line": {
           "color": "orange",
           "width": 1
          },
          "opacity": 0.5,
          "type": "line",
          "x0": "2024-11-12",
          "x1": "2024-11-12",
          "xref": "x",
          "y0": 0,
          "y1": 1,
          "yref": "y domain"
         },
         {
          "line": {
           "color": "orange",
           "width": 1
          },
          "opacity": 0.5,
          "type": "line",
          "x0": "2024-11-12",
          "x1": "2024-11-12",
          "xref": "x2",
          "y0": 0,
          "y1": 1,
          "yref": "y2 domain"
         },
         {
          "line": {
           "color": "orange",
           "width": 1
          },
          "opacity": 0.5,
          "type": "line",
          "x0": "2024-11-12",
          "x1": "2024-11-12",
          "xref": "x",
          "y0": 0,
          "y1": 1,
          "yref": "y domain"
         },
         {
          "line": {
           "color": "orange",
           "width": 1
          },
          "opacity": 0.5,
          "type": "line",
          "x0": "2024-11-12",
          "x1": "2024-11-12",
          "xref": "x2",
          "y0": 0,
          "y1": 1,
          "yref": "y2 domain"
         }
        ],
        "template": {
         "data": {
          "bar": [
           {
            "error_x": {
             "color": "#2a3f5f"
            },
            "error_y": {
             "color": "#2a3f5f"
            },
            "marker": {
             "line": {
              "color": "#E5ECF6",
              "width": 0.5
             },
             "pattern": {
              "fillmode": "overlay",
              "size": 10,
              "solidity": 0.2
             }
            },
            "type": "bar"
           }
          ],
          "barpolar": [
           {
            "marker": {
             "line": {
              "color": "#E5ECF6",
              "width": 0.5
             },
             "pattern": {
              "fillmode": "overlay",
              "size": 10,
              "solidity": 0.2
             }
            },
            "type": "barpolar"
           }
          ],
          "carpet": [
           {
            "aaxis": {
             "endlinecolor": "#2a3f5f",
             "gridcolor": "white",
             "linecolor": "white",
             "minorgridcolor": "white",
             "startlinecolor": "#2a3f5f"
            },
            "baxis": {
             "endlinecolor": "#2a3f5f",
             "gridcolor": "white",
             "linecolor": "white",
             "minorgridcolor": "white",
             "startlinecolor": "#2a3f5f"
            },
            "type": "carpet"
           }
          ],
          "choropleth": [
           {
            "colorbar": {
             "outlinewidth": 0,
             "ticks": ""
            },
            "type": "choropleth"
           }
          ],
          "contour": [
           {
            "colorbar": {
             "outlinewidth": 0,
             "ticks": ""
            },
            "colorscale": [
             [
              0,
              "#0d0887"
             ],
             [
              0.1111111111111111,
              "#46039f"
             ],
             [
              0.2222222222222222,
              "#7201a8"
             ],
             [
              0.3333333333333333,
              "#9c179e"
             ],
             [
              0.4444444444444444,
              "#bd3786"
             ],
             [
              0.5555555555555556,
              "#d8576b"
             ],
             [
              0.6666666666666666,
              "#ed7953"
             ],
             [
              0.7777777777777778,
              "#fb9f3a"
             ],
             [
              0.8888888888888888,
              "#fdca26"
             ],
             [
              1,
              "#f0f921"
             ]
            ],
            "type": "contour"
           }
          ],
          "contourcarpet": [
           {
            "colorbar": {
             "outlinewidth": 0,
             "ticks": ""
            },
            "type": "contourcarpet"
           }
          ],
          "heatmap": [
           {
            "colorbar": {
             "outlinewidth": 0,
             "ticks": ""
            },
            "colorscale": [
             [
              0,
              "#0d0887"
             ],
             [
              0.1111111111111111,
              "#46039f"
             ],
             [
              0.2222222222222222,
              "#7201a8"
             ],
             [
              0.3333333333333333,
              "#9c179e"
             ],
             [
              0.4444444444444444,
              "#bd3786"
             ],
             [
              0.5555555555555556,
              "#d8576b"
             ],
             [
              0.6666666666666666,
              "#ed7953"
             ],
             [
              0.7777777777777778,
              "#fb9f3a"
             ],
             [
              0.8888888888888888,
              "#fdca26"
             ],
             [
              1,
              "#f0f921"
             ]
            ],
            "type": "heatmap"
           }
          ],
          "heatmapgl": [
           {
            "colorbar": {
             "outlinewidth": 0,
             "ticks": ""
            },
            "colorscale": [
             [
              0,
              "#0d0887"
             ],
             [
              0.1111111111111111,
              "#46039f"
             ],
             [
              0.2222222222222222,
              "#7201a8"
             ],
             [
              0.3333333333333333,
              "#9c179e"
             ],
             [
              0.4444444444444444,
              "#bd3786"
             ],
             [
              0.5555555555555556,
              "#d8576b"
             ],
             [
              0.6666666666666666,
              "#ed7953"
             ],
             [
              0.7777777777777778,
              "#fb9f3a"
             ],
             [
              0.8888888888888888,
              "#fdca26"
             ],
             [
              1,
              "#f0f921"
             ]
            ],
            "type": "heatmapgl"
           }
          ],
          "histogram": [
           {
            "marker": {
             "pattern": {
              "fillmode": "overlay",
              "size": 10,
              "solidity": 0.2
             }
            },
            "type": "histogram"
           }
          ],
          "histogram2d": [
           {
            "colorbar": {
             "outlinewidth": 0,
             "ticks": ""
            },
            "colorscale": [
             [
              0,
              "#0d0887"
             ],
             [
              0.1111111111111111,
              "#46039f"
             ],
             [
              0.2222222222222222,
              "#7201a8"
             ],
             [
              0.3333333333333333,
              "#9c179e"
             ],
             [
              0.4444444444444444,
              "#bd3786"
             ],
             [
              0.5555555555555556,
              "#d8576b"
             ],
             [
              0.6666666666666666,
              "#ed7953"
             ],
             [
              0.7777777777777778,
              "#fb9f3a"
             ],
             [
              0.8888888888888888,
              "#fdca26"
             ],
             [
              1,
              "#f0f921"
             ]
            ],
            "type": "histogram2d"
           }
          ],
          "histogram2dcontour": [
           {
            "colorbar": {
             "outlinewidth": 0,
             "ticks": ""
            },
            "colorscale": [
             [
              0,
              "#0d0887"
             ],
             [
              0.1111111111111111,
              "#46039f"
             ],
             [
              0.2222222222222222,
              "#7201a8"
             ],
             [
              0.3333333333333333,
              "#9c179e"
             ],
             [
              0.4444444444444444,
              "#bd3786"
             ],
             [
              0.5555555555555556,
              "#d8576b"
             ],
             [
              0.6666666666666666,
              "#ed7953"
             ],
             [
              0.7777777777777778,
              "#fb9f3a"
             ],
             [
              0.8888888888888888,
              "#fdca26"
             ],
             [
              1,
              "#f0f921"
             ]
            ],
            "type": "histogram2dcontour"
           }
          ],
          "mesh3d": [
           {
            "colorbar": {
             "outlinewidth": 0,
             "ticks": ""
            },
            "type": "mesh3d"
           }
          ],
          "parcoords": [
           {
            "line": {
             "colorbar": {
              "outlinewidth": 0,
              "ticks": ""
             }
            },
            "type": "parcoords"
           }
          ],
          "pie": [
           {
            "automargin": true,
            "type": "pie"
           }
          ],
          "scatter": [
           {
            "fillpattern": {
             "fillmode": "overlay",
             "size": 10,
             "solidity": 0.2
            },
            "type": "scatter"
           }
          ],
          "scatter3d": [
           {
            "line": {
             "colorbar": {
              "outlinewidth": 0,
              "ticks": ""
             }
            },
            "marker": {
             "colorbar": {
              "outlinewidth": 0,
              "ticks": ""
             }
            },
            "type": "scatter3d"
           }
          ],
          "scattercarpet": [
           {
            "marker": {
             "colorbar": {
              "outlinewidth": 0,
              "ticks": ""
             }
            },
            "type": "scattercarpet"
           }
          ],
          "scattergeo": [
           {
            "marker": {
             "colorbar": {
              "outlinewidth": 0,
              "ticks": ""
             }
            },
            "type": "scattergeo"
           }
          ],
          "scattergl": [
           {
            "marker": {
             "colorbar": {
              "outlinewidth": 0,
              "ticks": ""
             }
            },
            "type": "scattergl"
           }
          ],
          "scattermapbox": [
           {
            "marker": {
             "colorbar": {
              "outlinewidth": 0,
              "ticks": ""
             }
            },
            "type": "scattermapbox"
           }
          ],
          "scatterpolar": [
           {
            "marker": {
             "colorbar": {
              "outlinewidth": 0,
              "ticks": ""
             }
            },
            "type": "scatterpolar"
           }
          ],
          "scatterpolargl": [
           {
            "marker": {
             "colorbar": {
              "outlinewidth": 0,
              "ticks": ""
             }
            },
            "type": "scatterpolargl"
           }
          ],
          "scatterternary": [
           {
            "marker": {
             "colorbar": {
              "outlinewidth": 0,
              "ticks": ""
             }
            },
            "type": "scatterternary"
           }
          ],
          "surface": [
           {
            "colorbar": {
             "outlinewidth": 0,
             "ticks": ""
            },
            "colorscale": [
             [
              0,
              "#0d0887"
             ],
             [
              0.1111111111111111,
              "#46039f"
             ],
             [
              0.2222222222222222,
              "#7201a8"
             ],
             [
              0.3333333333333333,
              "#9c179e"
             ],
             [
              0.4444444444444444,
              "#bd3786"
             ],
             [
              0.5555555555555556,
              "#d8576b"
             ],
             [
              0.6666666666666666,
              "#ed7953"
             ],
             [
              0.7777777777777778,
              "#fb9f3a"
             ],
             [
              0.8888888888888888,
              "#fdca26"
             ],
             [
              1,
              "#f0f921"
             ]
            ],
            "type": "surface"
           }
          ],
          "table": [
           {
            "cells": {
             "fill": {
              "color": "#EBF0F8"
             },
             "line": {
              "color": "white"
             }
            },
            "header": {
             "fill": {
              "color": "#C8D4E3"
             },
             "line": {
              "color": "white"
             }
            },
            "type": "table"
           }
          ]
         },
         "layout": {
          "annotationdefaults": {
           "arrowcolor": "#2a3f5f",
           "arrowhead": 0,
           "arrowwidth": 1
          },
          "autotypenumbers": "strict",
          "coloraxis": {
           "colorbar": {
            "outlinewidth": 0,
            "ticks": ""
           }
          },
          "colorscale": {
           "diverging": [
            [
             0,
             "#8e0152"
            ],
            [
             0.1,
             "#c51b7d"
            ],
            [
             0.2,
             "#de77ae"
            ],
            [
             0.3,
             "#f1b6da"
            ],
            [
             0.4,
             "#fde0ef"
            ],
            [
             0.5,
             "#f7f7f7"
            ],
            [
             0.6,
             "#e6f5d0"
            ],
            [
             0.7,
             "#b8e186"
            ],
            [
             0.8,
             "#7fbc41"
            ],
            [
             0.9,
             "#4d9221"
            ],
            [
             1,
             "#276419"
            ]
           ],
           "sequential": [
            [
             0,
             "#0d0887"
            ],
            [
             0.1111111111111111,
             "#46039f"
            ],
            [
             0.2222222222222222,
             "#7201a8"
            ],
            [
             0.3333333333333333,
             "#9c179e"
            ],
            [
             0.4444444444444444,
             "#bd3786"
            ],
            [
             0.5555555555555556,
             "#d8576b"
            ],
            [
             0.6666666666666666,
             "#ed7953"
            ],
            [
             0.7777777777777778,
             "#fb9f3a"
            ],
            [
             0.8888888888888888,
             "#fdca26"
            ],
            [
             1,
             "#f0f921"
            ]
           ],
           "sequentialminus": [
            [
             0,
             "#0d0887"
            ],
            [
             0.1111111111111111,
             "#46039f"
            ],
            [
             0.2222222222222222,
             "#7201a8"
            ],
            [
             0.3333333333333333,
             "#9c179e"
            ],
            [
             0.4444444444444444,
             "#bd3786"
            ],
            [
             0.5555555555555556,
             "#d8576b"
            ],
            [
             0.6666666666666666,
             "#ed7953"
            ],
            [
             0.7777777777777778,
             "#fb9f3a"
            ],
            [
             0.8888888888888888,
             "#fdca26"
            ],
            [
             1,
             "#f0f921"
            ]
           ]
          },
          "colorway": [
           "#636efa",
           "#EF553B",
           "#00cc96",
           "#ab63fa",
           "#FFA15A",
           "#19d3f3",
           "#FF6692",
           "#B6E880",
           "#FF97FF",
           "#FECB52"
          ],
          "font": {
           "color": "#2a3f5f"
          },
          "geo": {
           "bgcolor": "white",
           "lakecolor": "white",
           "landcolor": "#E5ECF6",
           "showlakes": true,
           "showland": true,
           "subunitcolor": "white"
          },
          "hoverlabel": {
           "align": "left"
          },
          "hovermode": "closest",
          "mapbox": {
           "style": "light"
          },
          "paper_bgcolor": "white",
          "plot_bgcolor": "#E5ECF6",
          "polar": {
           "angularaxis": {
            "gridcolor": "white",
            "linecolor": "white",
            "ticks": ""
           },
           "bgcolor": "#E5ECF6",
           "radialaxis": {
            "gridcolor": "white",
            "linecolor": "white",
            "ticks": ""
           }
          },
          "scene": {
           "xaxis": {
            "backgroundcolor": "#E5ECF6",
            "gridcolor": "white",
            "gridwidth": 2,
            "linecolor": "white",
            "showbackground": true,
            "ticks": "",
            "zerolinecolor": "white"
           },
           "yaxis": {
            "backgroundcolor": "#E5ECF6",
            "gridcolor": "white",
            "gridwidth": 2,
            "linecolor": "white",
            "showbackground": true,
            "ticks": "",
            "zerolinecolor": "white"
           },
           "zaxis": {
            "backgroundcolor": "#E5ECF6",
            "gridcolor": "white",
            "gridwidth": 2,
            "linecolor": "white",
            "showbackground": true,
            "ticks": "",
            "zerolinecolor": "white"
           }
          },
          "shapedefaults": {
           "line": {
            "color": "#2a3f5f"
           }
          },
          "ternary": {
           "aaxis": {
            "gridcolor": "white",
            "linecolor": "white",
            "ticks": ""
           },
           "baxis": {
            "gridcolor": "white",
            "linecolor": "white",
            "ticks": ""
           },
           "bgcolor": "#E5ECF6",
           "caxis": {
            "gridcolor": "white",
            "linecolor": "white",
            "ticks": ""
           }
          },
          "title": {
           "x": 0.05
          },
          "xaxis": {
           "automargin": true,
           "gridcolor": "white",
           "linecolor": "white",
           "ticks": "",
           "title": {
            "standoff": 15
           },
           "zerolinecolor": "white",
           "zerolinewidth": 2
          },
          "yaxis": {
           "automargin": true,
           "gridcolor": "white",
           "linecolor": "white",
           "ticks": "",
           "title": {
            "standoff": 15
           },
           "zerolinecolor": "white",
           "zerolinewidth": 2
          }
         }
        },
        "title": {
         "text": "特種東海製紙(3708)株価ローソクチャートと出来高2024-06-28 ～ 2024-12-23"
        },
        "xaxis": {
         "anchor": "y",
         "autorange": true,
         "domain": [
          0,
          1
         ],
         "matches": "x2",
         "range": [
          -0.5,
          120.5
         ],
         "rangeslider": {
          "visible": false,
          "yaxis": {}
         },
         "showticklabels": false,
         "type": "category"
        },
        "xaxis2": {
         "anchor": "y2",
         "autorange": true,
         "domain": [
          0,
          1
         ],
         "range": [
          -0.5,
          120.5
         ],
         "tickangle": 45,
         "tickvals": [
          "2024-06-28",
          "2024-07-17",
          "2024-08-02",
          "2024-08-21",
          "2024-09-06",
          "2024-09-26",
          "2024-10-15",
          "2024-10-31",
          "2024-11-19",
          "2024-12-05",
          "2024-12-23"
         ],
         "title": {
          "text": "取引日"
         },
         "type": "category"
        },
        "yaxis": {
         "anchor": "x",
         "autorange": true,
         "domain": [
          0.2461538461538461,
          0.9999999999999998
         ],
         "range": [
          3220.277777777778,
          3914.722222222222
         ],
         "title": {
          "text": "株価"
         }
        },
        "yaxis2": {
         "anchor": "x2",
         "autorange": true,
         "domain": [
          0,
          0.22615384615384612
         ],
         "range": [
          0,
          89157.8947368421
         ],
         "title": {
          "text": "出来高"
         },
         "type": "linear"
        }
       }
      },
      "image/png": "[encoded data removed]",
      "text/html": [
       "<div>                            <div id=\"c7502755-0645-4415-b2d5-02a4fc504e9e\" class=\"plotly-graph-div\" style=\"height:600px; width:100%;\"></div>            <script type=\"text/javascript\">                require([\"plotly\"], function(Plotly) {                    window.PLOTLYENV=window.PLOTLYENV || {};                                    if (document.getElementById(\"c7502755-0645-4415-b2d5-02a4fc504e9e\")) {                    Plotly.newPlot(                        \"c7502755-0645-4415-b2d5-02a4fc504e9e\",                        [{\"close\":[3710.0,3665.0,3690.0,3690.0,3710.0,3655.0,3655.0,3695.0,3675.0,3720.0,3750.0,3810.0,3810.0,3810.0,3790.0,3760.0,3810.0,3775.0,3765.0,3745.0,3805.0,3750.0,3875.0,3780.0,3560.0,3360.0,3485.0,3410.0,3445.0,3500.0,3530.0,3585.0,3580.0,3605.0,3530.0,3530.0,3545.0,3570.0,3580.0,3675.0,3740.0,3685.0,3720.0,3690.0,3720.0,3715.0,3675.0,3675.0,3655.0,3665.0,3700.0,3595.0,3665.0,3630.0,3675.0,3670.0,3690.0,3720.0,3765.0,3765.0,3865.0,3795.0,3710.0,3750.0,3710.0,3735.0,3795.0,3810.0,3735.0,3730.0,3700.0,3725.0,3725.0,3700.0,3685.0,3680.0,3665.0,3605.0,3610.0,3645.0,3615.0,3740.0,3715.0,3710.0,3760.0,3730.0,3680.0,3695.0,3700.0,3655.0,3640.0,3620.0,3580.0,3575.0,3535.0,3565.0,3555.0,3530.0,3545.0,3560.0,3535.0,3540.0,3510.0,3540.0,3510.0,3530.0,3585.0,3540.0,3520.0,3540.0,3570.0,3575.0,3555.0,3590.0,3560.0,3540.0,3515.0,3495.0,3495.0,3480.0,3495.0],\"high\":[3730.0,3755.0,3700.0,3710.0,3710.0,3710.0,3685.0,3705.0,3700.0,3735.0,3810.0,3830.0,3845.0,3845.0,3830.0,3805.0,3830.0,3830.0,3815.0,3780.0,3815.0,3820.0,3875.0,3880.0,3730.0,3515.0,3570.0,3575.0,3485.0,3535.0,3570.0,3585.0,3670.0,3645.0,3600.0,3595.0,3545.0,3570.0,3605.0,3700.0,3750.0,3740.0,3720.0,3730.0,3725.0,3745.0,3715.0,3730.0,3695.0,3690.0,3710.0,3695.0,3675.0,3655.0,3685.0,3700.0,3710.0,3720.0,3790.0,3785.0,3880.0,3865.0,3785.0,3760.0,3750.0,3760.0,3795.0,3840.0,3810.0,3750.0,3730.0,3725.0,3740.0,3740.0,3705.0,3685.0,3695.0,3670.0,3645.0,3665.0,3665.0,3750.0,3760.0,3745.0,3765.0,3755.0,3730.0,3750.0,3745.0,3725.0,3660.0,3650.0,3620.0,3610.0,3585.0,3575.0,3585.0,3560.0,3565.0,3575.0,3585.0,3560.0,3540.0,3540.0,3545.0,3540.0,3595.0,3570.0,3550.0,3550.0,3570.0,3595.0,3585.0,3595.0,3610.0,3570.0,3565.0,3525.0,3515.0,3510.0,3500.0],\"low\":[3695.0,3645.0,3660.0,3665.0,3685.0,3650.0,3620.0,3660.0,3655.0,3685.0,3730.0,3780.0,3805.0,3800.0,3785.0,3760.0,3790.0,3765.0,3760.0,3735.0,3765.0,3750.0,3750.0,3765.0,3550.0,3255.0,3375.0,3370.0,3400.0,3430.0,3505.0,3530.0,3580.0,3550.0,3525.0,3530.0,3490.0,3540.0,3555.0,3605.0,3700.0,3655.0,3660.0,3680.0,3675.0,3715.0,3665.0,3665.0,3640.0,3605.0,3675.0,3590.0,3640.0,3605.0,3625.0,3635.0,3670.0,3680.0,3730.0,3735.0,3775.0,3785.0,3710.0,3705.0,3700.0,3735.0,3735.0,3775.0,3710.0,3710.0,3695.0,3695.0,3720.0,3695.0,3675.0,3650.0,3645.0,3600.0,3605.0,3605.0,3605.0,3635.0,3705.0,3670.0,3695.0,3715.0,3675.0,3670.0,3685.0,3635.0,3640.0,3580.0,3580.0,3575.0,3535.0,3535.0,3540.0,3530.0,3540.0,3545.0,3535.0,3510.0,3485.0,3515.0,3510.0,3510.0,3540.0,3540.0,3510.0,3530.0,3545.0,3575.0,3555.0,3555.0,3550.0,3540.0,3515.0,3480.0,3470.0,3480.0,3485.0],\"name\":\"\\u682a\\u4fa1\",\"open\":[3730.0,3755.0,3700.0,3710.0,3700.0,3710.0,3655.0,3690.0,3700.0,3700.0,3730.0,3785.0,3820.0,3800.0,3815.0,3790.0,3795.0,3830.0,3775.0,3760.0,3785.0,3820.0,3750.0,3880.0,3730.0,3505.0,3555.0,3415.0,3400.0,3515.0,3570.0,3530.0,3600.0,3645.0,3580.0,3570.0,3530.0,3570.0,3555.0,3605.0,3700.0,3740.0,3675.0,3730.0,3725.0,3735.0,3700.0,3665.0,3675.0,3605.0,3700.0,3695.0,3640.0,3655.0,3655.0,3685.0,3690.0,3710.0,3750.0,3765.0,3785.0,3865.0,3765.0,3760.0,3700.0,3755.0,3735.0,3840.0,3765.0,3735.0,3730.0,3695.0,3730.0,3730.0,3695.0,3685.0,3695.0,3670.0,3605.0,3615.0,3665.0,3635.0,3735.0,3740.0,3725.0,3750.0,3730.0,3670.0,3705.0,3685.0,3655.0,3635.0,3620.0,3580.0,3575.0,3540.0,3565.0,3550.0,3540.0,3550.0,3580.0,3540.0,3540.0,3520.0,3540.0,3510.0,3540.0,3560.0,3540.0,3530.0,3545.0,3590.0,3580.0,3555.0,3550.0,3560.0,3565.0,3515.0,3480.0,3495.0,3490.0],\"x\":[\"2024-06-28\",\"2024-07-01\",\"2024-07-02\",\"2024-07-03\",\"2024-07-04\",\"2024-07-05\",\"2024-07-08\",\"2024-07-09\",\"2024-07-10\",\"2024-07-11\",\"2024-07-12\",\"2024-07-16\",\"2024-07-17\",\"2024-07-18\",\"2024-07-19\",\"2024-07-22\",\"2024-07-23\",\"2024-07-24\",\"2024-07-25\",\"2024-07-26\",\"2024-07-29\",\"2024-07-30\",\"2024-07-31\",\"2024-08-01\",\"2024-08-02\",\"2024-08-05\",\"2024-08-06\",\"2024-08-07\",\"2024-08-08\",\"2024-08-09\",\"2024-08-13\",\"2024-08-14\",\"2024-08-15\",\"2024-08-16\",\"2024-08-19\",\"2024-08-20\",\"2024-08-21\",\"2024-08-22\",\"2024-08-23\",\"2024-08-26\",\"2024-08-27\",\"2024-08-28\",\"2024-08-29\",\"2024-08-30\",\"2024-09-02\",\"2024-09-03\",\"2024-09-04\",\"2024-09-05\",\"2024-09-06\",\"2024-09-09\",\"2024-09-10\",\"2024-09-11\",\"2024-09-12\",\"2024-09-13\",\"2024-09-17\",\"2024-09-18\",\"2024-09-19\",\"2024-09-20\",\"2024-09-24\",\"2024-09-25\",\"2024-09-26\",\"2024-09-27\",\"2024-09-30\",\"2024-10-01\",\"2024-10-02\",\"2024-10-03\",\"2024-10-04\",\"2024-10-07\",\"2024-10-08\",\"2024-10-09\",\"2024-10-10\",\"2024-10-11\",\"2024-10-15\",\"2024-10-16\",\"2024-10-17\",\"2024-10-18\",\"2024-10-21\",\"2024-10-22\",\"2024-10-23\",\"2024-10-24\",\"2024-10-25\",\"2024-10-28\",\"2024-10-29\",\"2024-10-30\",\"2024-10-31\",\"2024-11-01\",\"2024-11-05\",\"2024-11-06\",\"2024-11-07\",\"2024-11-08\",\"2024-11-11\",\"2024-11-12\",\"2024-11-13\",\"2024-11-14\",\"2024-11-15\",\"2024-11-18\",\"2024-11-19\",\"2024-11-20\",\"2024-11-21\",\"2024-11-22\",\"2024-11-25\",\"2024-11-26\",\"2024-11-27\",\"2024-11-28\",\"2024-11-29\",\"2024-12-02\",\"2024-12-03\",\"2024-12-04\",\"2024-12-05\",\"2024-12-06\",\"2024-12-09\",\"2024-12-10\",\"2024-12-11\",\"2024-12-12\",\"2024-12-13\",\"2024-12-16\",\"2024-12-17\",\"2024-12-18\",\"2024-12-19\",\"2024-12-20\",\"2024-12-23\"],\"type\":\"candlestick\",\"xaxis\":\"x\",\"yaxis\":\"y\"},{\"marker\":{\"color\":\"blue\"},\"name\":\"\\u51fa\\u6765\\u9ad8\",\"x\":[\"2024-06-28\",\"2024-07-01\",\"2024-07-02\",\"2024-07-03\",\"2024-07-04\",\"2024-07-05\",\"2024-07-08\",\"2024-07-09\",\"2024-07-10\",\"2024-07-11\",\"2024-07-12\",\"2024-07-16\",\"2024-07-17\",\"2024-07-18\",\"2024-07-19\",\"2024-07-22\",\"2024-07-23\",\"2024-07-24\",\"2024-07-25\",\"2024-07-26\",\"2024-07-29\",\"2024-07-30\",\"2024-07-31\",\"2024-08-01\",\"2024-08-02\",\"2024-08-05\",\"2024-08-06\",\"2024-08-07\",\"2024-08-08\",\"2024-08-09\",\"2024-08-13\",\"2024-08-14\",\"2024-08-15\",\"2024-08-16\",\"2024-08-19\",\"2024-08-20\",\"2024-08-21\",\"2024-08-22\",\"2024-08-23\",\"2024-08-26\",\"2024-08-27\",\"2024-08-28\",\"2024-08-29\",\"2024-08-30\",\"2024-09-02\",\"2024-09-03\",\"2024-09-04\",\"2024-09-05\",\"2024-09-06\",\"2024-09-09\",\"2024-09-10\",\"2024-09-11\",\"2024-09-12\",\"2024-09-13\",\"2024-09-17\",\"2024-09-18\",\"2024-09-19\",\"2024-09-20\",\"2024-09-24\",\"2024-09-25\",\"2024-09-26\",\"2024-09-27\",\"2024-09-30\",\"2024-10-01\",\"2024-10-02\",\"2024-10-03\",\"2024-10-04\",\"2024-10-07\",\"2024-10-08\",\"2024-10-09\",\"2024-10-10\",\"2024-10-11\",\"2024-10-15\",\"2024-10-16\",\"2024-10-17\",\"2024-10-18\",\"2024-10-21\",\"2024-10-22\",\"2024-10-23\",\"2024-10-24\",\"2024-10-25\",\"2024-10-28\",\"2024-10-29\",\"2024-10-30\",\"2024-10-31\",\"2024-11-01\",\"2024-11-05\",\"2024-11-06\",\"2024-11-07\",\"2024-11-08\",\"2024-11-11\",\"2024-11-12\",\"2024-11-13\",\"2024-11-14\",\"2024-11-15\",\"2024-11-18\",\"2024-11-19\",\"2024-11-20\",\"2024-11-21\",\"2024-11-22\",\"2024-11-25\",\"2024-11-26\",\"2024-11-27\",\"2024-11-28\",\"2024-11-29\",\"2024-12-02\",\"2024-12-03\",\"2024-12-04\",\"2024-12-05\",\"2024-12-06\",\"2024-12-09\",\"2024-12-10\",\"2024-12-11\",\"2024-12-12\",\"2024-12-13\",\"2024-12-16\",\"2024-12-17\",\"2024-12-18\",\"2024-12-19\",\"2024-12-20\",\"2024-12-23\"],\"y\":[18200.0,15700.0,17700.0,9500.0,8100.0,13800.0,15100.0,18500.0,22500.0,14300.0,23200.0,24000.0,7100.0,15800.0,9500.0,11700.0,14000.0,14000.0,15800.0,17200.0,11700.0,14800.0,13200.0,18800.0,38100.0,38700.0,30200.0,15800.0,18700.0,20900.0,11100.0,12900.0,20400.0,16200.0,15200.0,13800.0,14400.0,5300.0,7800.0,15700.0,9100.0,12500.0,10300.0,6500.0,15900.0,6600.0,10600.0,10200.0,8600.0,12000.0,10700.0,17000.0,11700.0,17200.0,10100.0,10200.0,12000.0,19500.0,22400.0,15400.0,44800.0,15100.0,14600.0,8100.0,14600.0,7000.0,11600.0,12300.0,15200.0,14100.0,14700.0,15400.0,11900.0,11100.0,12900.0,11900.0,11200.0,17100.0,10800.0,16500.0,10600.0,18900.0,12000.0,84700.0,16600.0,9100.0,8400.0,10500.0,11400.0,17800.0,5300.0,35700.0,14300.0,14200.0,17100.0,11900.0,8300.0,8300.0,6200.0,7000.0,14100.0,14900.0,21100.0,9700.0,6500.0,3900.0,9600.0,9500.0,9100.0,2700.0,10500.0,8700.0,10700.0,12100.0,19200.0,6100.0,7900.0,20800.0,9800.0,11200.0,8600.0],\"type\":\"bar\",\"xaxis\":\"x2\",\"yaxis\":\"y2\"}],                        {\"template\":{\"data\":{\"histogram2dcontour\":[{\"type\":\"histogram2dcontour\",\"colorbar\":{\"outlinewidth\":0,\"ticks\":\"\"},\"colorscale\":[[0.0,\"#0d0887\"],[0.1111111111111111,\"#46039f\"],[0.2222222222222222,\"#7201a8\"],[0.3333333333333333,\"#9c179e\"],[0.4444444444444444,\"#bd3786\"],[0.5555555555555556,\"#d8576b\"],[0.6666666666666666,\"#ed7953\"],[0.7777777777777778,\"#fb9f3a\"],[0.8888888888888888,\"#fdca26\"],[1.0,\"#f0f921\"]]}],\"choropleth\":[{\"type\":\"choropleth\",\"colorbar\":{\"outlinewidth\":0,\"ticks\":\"\"}}],\"histogram2d\":[{\"type\":\"histogram2d\",\"colorbar\":{\"outlinewidth\":0,\"ticks\":\"\"},\"colorscale\":[[0.0,\"#0d0887\"],[0.1111111111111111,\"#46039f\"],[0.2222222222222222,\"#7201a8\"],[0.3333333333333333,\"#9c179e\"],[0.4444444444444444,\"#bd3786\"],[0.5555555555555556,\"#d8576b\"],[0.6666666666666666,\"#ed7953\"],[0.7777777777777778,\"#fb9f3a\"],[0.8888888888888888,\"#fdca26\"],[1.0,\"#f0f921\"]]}],\"heatmap\":[{\"type\":\"heatmap\",\"colorbar\":{\"outlinewidth\":0,\"ticks\":\"\"},\"colorscale\":[[0.0,\"#0d0887\"],[0.1111111111111111,\"#46039f\"],[0.2222222222222222,\"#7201a8\"],[0.3333333333333333,\"#9c179e\"],[0.4444444444444444,\"#bd3786\"],[0.5555555555555556,\"#d8576b\"],[0.6666666666666666,\"#ed7953\"],[0.7777777777777778,\"#fb9f3a\"],[0.8888888888888888,\"#fdca26\"],[1.0,\"#f0f921\"]]}],\"heatmapgl\":[{\"type\":\"heatmapgl\",\"colorbar\":{\"outlinewidth\":0,\"ticks\":\"\"},\"colorscale\":[[0.0,\"#0d0887\"],[0.1111111111111111,\"#46039f\"],[0.2222222222222222,\"#7201a8\"],[0.3333333333333333,\"#9c179e\"],[0.4444444444444444,\"#bd3786\"],[0.5555555555555556,\"#d8576b\"],[0.6666666666666666,\"#ed7953\"],[0.7777777777777778,\"#fb9f3a\"],[0.8888888888888888,\"#fdca26\"],[1.0,\"#f0f921\"]]}],\"contourcarpet\":[{\"type\":\"contourcarpet\",\"colorbar\":{\"outlinewidth\":0,\"ticks\":\"\"}}],\"contour\":[{\"type\":\"contour\",\"colorbar\":{\"outlinewidth\":0,\"ticks\":\"\"},\"colorscale\":[[0.0,\"#0d0887\"],[0.1111111111111111,\"#46039f\"],[0.2222222222222222,\"#7201a8\"],[0.3333333333333333,\"#9c179e\"],[0.4444444444444444,\"#bd3786\"],[0.5555555555555556,\"#d8576b\"],[0.6666666666666666,\"#ed7953\"],[0.7777777777777778,\"#fb9f3a\"],[0.8888888888888888,\"#fdca26\"],[1.0,\"#f0f921\"]]}],\"surface\":[{\"type\":\"surface\",\"colorbar\":{\"outlinewidth\":0,\"ticks\":\"\"},\"colorscale\":[[0.0,\"#0d0887\"],[0.1111111111111111,\"#46039f\"],[0.2222222222222222,\"#7201a8\"],[0.3333333333333333,\"#9c179e\"],[0.4444444444444444,\"#bd3786\"],[0.5555555555555556,\"#d8576b\"],[0.6666666666666666,\"#ed7953\"],[0.7777777777777778,\"#fb9f3a\"],[0.8888888888888888,\"#fdca26\"],[1.0,\"#f0f921\"]]}],\"mesh3d\":[{\"type\":\"mesh3d\",\"colorbar\":{\"outlinewidth\":0,\"ticks\":\"\"}}],\"scatter\":[{\"fillpattern\":{\"fillmode\":\"overlay\",\"size\":10,\"solidity\":0.2},\"type\":\"scatter\"}],\"parcoords\":[{\"type\":\"parcoords\",\"line\":{\"colorbar\":{\"outlinewidth\":0,\"ticks\":\"\"}}}],\"scatterpolargl\":[{\"type\":\"scatterpolargl\",\"marker\":{\"colorbar\":{\"outlinewidth\":0,\"ticks\":\"\"}}}],\"bar\":[{\"error_x\":{\"color\":\"#2a3f5f\"},\"error_y\":{\"color\":\"#2a3f5f\"},\"marker\":{\"line\":{\"color\":\"#E5ECF6\",\"width\":0.5},\"pattern\":{\"fillmode\":\"overlay\",\"size\":10,\"solidity\":0.2}},\"type\":\"bar\"}],\"scattergeo\":[{\"type\":\"scattergeo\",\"marker\":{\"colorbar\":{\"outlinewidth\":0,\"ticks\":\"\"}}}],\"scatterpolar\":[{\"type\":\"scatterpolar\",\"marker\":{\"colorbar\":{\"outlinewidth\":0,\"ticks\":\"\"}}}],\"histogram\":[{\"marker\":{\"pattern\":{\"fillmode\":\"overlay\",\"size\":10,\"solidity\":0.2}},\"type\":\"histogram\"}],\"scattergl\":[{\"type\":\"scattergl\",\"marker\":{\"colorbar\":{\"outlinewidth\":0,\"ticks\":\"\"}}}],\"scatter3d\":[{\"type\":\"scatter3d\",\"line\":{\"colorbar\":{\"outlinewidth\":0,\"ticks\":\"\"}},\"marker\":{\"colorbar\":{\"outlinewidth\":0,\"ticks\":\"\"}}}],\"scattermapbox\":[{\"type\":\"scattermapbox\",\"marker\":{\"colorbar\":{\"outlinewidth\":0,\"ticks\":\"\"}}}],\"scatterternary\":[{\"type\":\"scatterternary\",\"marker\":{\"colorbar\":{\"outlinewidth\":0,\"ticks\":\"\"}}}],\"scattercarpet\":[{\"type\":\"scattercarpet\",\"marker\":{\"colorbar\":{\"outlinewidth\":0,\"ticks\":\"\"}}}],\"carpet\":[{\"aaxis\":{\"endlinecolor\":\"#2a3f5f\",\"gridcolor\":\"white\",\"linecolor\":\"white\",\"minorgridcolor\":\"white\",\"startlinecolor\":\"#2a3f5f\"},\"baxis\":{\"endlinecolor\":\"#2a3f5f\",\"gridcolor\":\"white\",\"linecolor\":\"white\",\"minorgridcolor\":\"white\",\"startlinecolor\":\"#2a3f5f\"},\"type\":\"carpet\"}],\"table\":[{\"cells\":{\"fill\":{\"color\":\"#EBF0F8\"},\"line\":{\"color\":\"white\"}},\"header\":{\"fill\":{\"color\":\"#C8D4E3\"},\"line\":{\"color\":\"white\"}},\"type\":\"table\"}],\"barpolar\":[{\"marker\":{\"line\":{\"color\":\"#E5ECF6\",\"width\":0.5},\"pattern\":{\"fillmode\":\"overlay\",\"size\":10,\"solidity\":0.2}},\"type\":\"barpolar\"}],\"pie\":[{\"automargin\":true,\"type\":\"pie\"}]},\"layout\":{\"autotypenumbers\":\"strict\",\"colorway\":[\"#636efa\",\"#EF553B\",\"#00cc96\",\"#ab63fa\",\"#FFA15A\",\"#19d3f3\",\"#FF6692\",\"#B6E880\",\"#FF97FF\",\"#FECB52\"],\"font\":{\"color\":\"#2a3f5f\"},\"hovermode\":\"closest\",\"hoverlabel\":{\"align\":\"left\"},\"paper_bgcolor\":\"white\",\"plot_bgcolor\":\"#E5ECF6\",\"polar\":{\"bgcolor\":\"#E5ECF6\",\"angularaxis\":{\"gridcolor\":\"white\",\"linecolor\":\"white\",\"ticks\":\"\"},\"radialaxis\":{\"gridcolor\":\"white\",\"linecolor\":\"white\",\"ticks\":\"\"}},\"ternary\":{\"bgcolor\":\"#E5ECF6\",\"aaxis\":{\"gridcolor\":\"white\",\"linecolor\":\"white\",\"ticks\":\"\"},\"baxis\":{\"gridcolor\":\"white\",\"linecolor\":\"white\",\"ticks\":\"\"},\"caxis\":{\"gridcolor\":\"white\",\"linecolor\":\"white\",\"ticks\":\"\"}},\"coloraxis\":{\"colorbar\":{\"outlinewidth\":0,\"ticks\":\"\"}},\"colorscale\":{\"sequential\":[[0.0,\"#0d0887\"],[0.1111111111111111,\"#46039f\"],[0.2222222222222222,\"#7201a8\"],[0.3333333333333333,\"#9c179e\"],[0.4444444444444444,\"#bd3786\"],[0.5555555555555556,\"#d8576b\"],[0.6666666666666666,\"#ed7953\"],[0.7777777777777778,\"#fb9f3a\"],[0.8888888888888888,\"#fdca26\"],[1.0,\"#f0f921\"]],\"sequentialminus\":[[0.0,\"#0d0887\"],[0.1111111111111111,\"#46039f\"],[0.2222222222222222,\"#7201a8\"],[0.3333333333333333,\"#9c179e\"],[0.4444444444444444,\"#bd3786\"],[0.5555555555555556,\"#d8576b\"],[0.6666666666666666,\"#ed7953\"],[0.7777777777777778,\"#fb9f3a\"],[0.8888888888888888,\"#fdca26\"],[1.0,\"#f0f921\"]],\"diverging\":[[0,\"#8e0152\"],[0.1,\"#c51b7d\"],[0.2,\"#de77ae\"],[0.3,\"#f1b6da\"],[0.4,\"#fde0ef\"],[0.5,\"#f7f7f7\"],[0.6,\"#e6f5d0\"],[0.7,\"#b8e186\"],[0.8,\"#7fbc41\"],[0.9,\"#4d9221\"],[1,\"#276419\"]]},\"xaxis\":{\"gridcolor\":\"white\",\"linecolor\":\"white\",\"ticks\":\"\",\"title\":{\"standoff\":15},\"zerolinecolor\":\"white\",\"automargin\":true,\"zerolinewidth\":2},\"yaxis\":{\"gridcolor\":\"white\",\"linecolor\":\"white\",\"ticks\":\"\",\"title\":{\"standoff\":15},\"zerolinecolor\":\"white\",\"automargin\":true,\"zerolinewidth\":2},\"scene\":{\"xaxis\":{\"backgroundcolor\":\"#E5ECF6\",\"gridcolor\":\"white\",\"linecolor\":\"white\",\"showbackground\":true,\"ticks\":\"\",\"zerolinecolor\":\"white\",\"gridwidth\":2},\"yaxis\":{\"backgroundcolor\":\"#E5ECF6\",\"gridcolor\":\"white\",\"linecolor\":\"white\",\"showbackground\":true,\"ticks\":\"\",\"zerolinecolor\":\"white\",\"gridwidth\":2},\"zaxis\":{\"backgroundcolor\":\"#E5ECF6\",\"gridcolor\":\"white\",\"linecolor\":\"white\",\"showbackground\":true,\"ticks\":\"\",\"zerolinecolor\":\"white\",\"gridwidth\":2}},\"shapedefaults\":{\"line\":{\"color\":\"#2a3f5f\"}},\"annotationdefaults\":{\"arrowcolor\":\"#2a3f5f\",\"arrowhead\":0,\"arrowwidth\":1},\"geo\":{\"bgcolor\":\"white\",\"landcolor\":\"#E5ECF6\",\"subunitcolor\":\"white\",\"showland\":true,\"showlakes\":true,\"lakecolor\":\"white\"},\"title\":{\"x\":0.05},\"mapbox\":{\"style\":\"light\"}}},\"xaxis\":{\"anchor\":\"y\",\"domain\":[0.0,1.0],\"matches\":\"x2\",\"showticklabels\":false,\"rangeslider\":{\"visible\":false},\"type\":\"category\"},\"yaxis\":{\"anchor\":\"x\",\"domain\":[0.2461538461538461,0.9999999999999998],\"title\":{\"text\":\"\\u682a\\u4fa1\"}},\"xaxis2\":{\"anchor\":\"y2\",\"domain\":[0.0,1.0],\"title\":{\"text\":\"\\u53d6\\u5f15\\u65e5\"},\"type\":\"category\",\"tickvals\":[\"2024-06-28\",\"2024-07-17\",\"2024-08-02\",\"2024-08-21\",\"2024-09-06\",\"2024-09-26\",\"2024-10-15\",\"2024-10-31\",\"2024-11-19\",\"2024-12-05\",\"2024-12-23\"],\"tickangle\":45},\"yaxis2\":{\"anchor\":\"x2\",\"domain\":[0.0,0.22615384615384612],\"title\":{\"text\":\"\\u51fa\\u6765\\u9ad8\"}},\"title\":{\"text\":\"\\u7279\\u7a2e\\u6771\\u6d77\\u88fd\\u7d19(3708)\\u682a\\u4fa1\\u30ed\\u30fc\\u30bd\\u30af\\u30c1\\u30e3\\u30fc\\u30c8\\u3068\\u51fa\\u6765\\u9ad82024-06-28 \\uff5e 2024-12-23\"},\"height\":600,\"shapes\":[{\"line\":{\"color\":\"grey\",\"width\":1},\"opacity\":0.5,\"type\":\"line\",\"x0\":\"2024-09-26\",\"x1\":\"2024-09-26\",\"xref\":\"x\",\"y0\":0,\"y1\":1,\"yref\":\"y domain\"},{\"line\":{\"color\":\"grey\",\"width\":1},\"opacity\":0.5,\"type\":\"line\",\"x0\":\"2024-09-26\",\"x1\":\"2024-09-26\",\"xref\":\"x2\",\"y0\":0,\"y1\":1,\"yref\":\"y2 domain\"},{\"line\":{\"color\":\"orange\",\"width\":1},\"opacity\":0.5,\"type\":\"line\",\"x0\":\"2024-08-14\",\"x1\":\"2024-08-14\",\"xref\":\"x\",\"y0\":0,\"y1\":1,\"yref\":\"y domain\"},{\"line\":{\"color\":\"orange\",\"width\":1},\"opacity\":0.5,\"type\":\"line\",\"x0\":\"2024-08-14\",\"x1\":\"2024-08-14\",\"xref\":\"x2\",\"y0\":0,\"y1\":1,\"yref\":\"y2 domain\"},{\"line\":{\"color\":\"orange\",\"width\":1},\"opacity\":0.5,\"type\":\"line\",\"x0\":\"2024-11-12\",\"x1\":\"2024-11-12\",\"xref\":\"x\",\"y0\":0,\"y1\":1,\"yref\":\"y domain\"},{\"line\":{\"color\":\"orange\",\"width\":1},\"opacity\":0.5,\"type\":\"line\",\"x0\":\"2024-11-12\",\"x1\":\"2024-11-12\",\"xref\":\"x2\",\"y0\":0,\"y1\":1,\"yref\":\"y2 domain\"},{\"line\":{\"color\":\"orange\",\"width\":1},\"opacity\":0.5,\"type\":\"line\",\"x0\":\"2024-11-12\",\"x1\":\"2024-11-12\",\"xref\":\"x\",\"y0\":0,\"y1\":1,\"yref\":\"y domain\"},{\"line\":{\"color\":\"orange\",\"width\":1},\"opacity\":0.5,\"type\":\"line\",\"x0\":\"2024-11-12\",\"x1\":\"2024-11-12\",\"xref\":\"x2\",\"y0\":0,\"y1\":1,\"yref\":\"y2 domain\"}]},                        {\"responsive\": true}                    ).then(function(){\n",
       "                            \n",
       "var gd = document.getElementById('c7502755-0645-4415-b2d5-02a4fc504e9e');\n",
       "var x = new MutationObserver(function (mutations, observer) {{\n",
       "        var display = window.getComputedStyle(gd).display;\n",
       "        if (!display || display === 'none') {{\n",
       "            console.log([gd, 'removed!']);\n",
       "            Plotly.purge(gd);\n",
       "            observer.disconnect();\n",
       "        }}\n",
       "}});\n",
       "\n",
       "// Listen for the removal of the full notebook cells\n",
       "var notebookContainer = gd.closest('#notebook-container');\n",
       "if (notebookContainer) {{\n",
       "    x.observe(notebookContainer, {childList: true});\n",
       "}}\n",
       "\n",
       "// Listen for the clearing of the current output cell\n",
       "var outputEl = gd.closest('.output');\n",
       "if (outputEl) {{\n",
       "    x.observe(outputEl, {childList: true});\n",
       "}}\n",
       "\n",
       "                        })                };                });            </script>        </div>"
      ]
     },
     "metadata": {},
     "output_type": "display_data"
    }
   ],
   "source": [
    "print(valuation_date)\n",
    "delta = relativedelta(days=90)\n",
    "start_date = marked_day - delta\n",
    "end_date = marked_day + delta\n",
    "PFIG = PricelistFig(code, RevPl.df, MPL.df, start_date, end_date)\n",
    "df = RevPl.df.filter(pl.col(\"code\")==code).filter(pl.col(\"date\")<=marked_day)\n",
    "vline_date = df[\"date\"].to_list()[-1]\n",
    "# screeningで抽出した日にvlineを引く \n",
    "PFIG.add_vline(marked_day)\n",
    "# 決算発表日にvlineを引く\n",
    "PFIG.add_vline_announcement_date()\n",
    "PFIG.fig.show()"
   ]
  },
  {
   "cell_type": "code",
   "execution_count": null,
   "id": "c2a0859d-fee9-436f-abb8-baf8bfdba468",
   "metadata": {},
   "outputs": [],
   "source": []
  }
 ],
 "metadata": {
  "kernelspec": {
   "display_name": "Python 3 (ipykernel)",
   "language": "python",
   "name": "python3"
  },
  "language_info": {
   "codemirror_mode": {
    "name": "ipython",
    "version": 3
   },
   "file_extension": ".py",
   "mimetype": "text/x-python",
   "name": "python",
   "nbconvert_exporter": "python",
   "pygments_lexer": "ipython3",
   "version": "3.12.3"
  }
 },
 "nbformat": 4,
 "nbformat_minor": 5
}
