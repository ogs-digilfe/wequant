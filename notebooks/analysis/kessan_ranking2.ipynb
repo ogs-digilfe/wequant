{
 "cells": [
  {
   "cell_type": "code",
   "execution_count": 1,
   "id": "e4f67817-a472-4dbd-8a08-e82ca6ca7099",
   "metadata": {},
   "outputs": [],
   "source": [
    "#### 利益改善され、割安な銘柄が動意づいたときに検知することを目的とする"
   ]
  },
  {
   "cell_type": "code",
   "execution_count": 2,
   "id": "7c3aad63-32da-47b8-becd-8f495dcf985a",
   "metadata": {},
   "outputs": [],
   "source": [
    "# 読み込みファイルパスの設定とimportしたいmoduleパス(pythonパス)の設定\n",
    "from pathlib import Path\n",
    "import os, sys\n",
    "\n",
    "CURRENT_DIR = Path(os.getcwd())\n",
    "PJ_DIR = CURRENT_DIR.parent.parent\n",
    "LIB_DIR = PJ_DIR / \"lib\"\n",
    "DATA_DIR = PJ_DIR / \"data\" \n",
    "\n",
    "sys.path.append(str(LIB_DIR))\n",
    "\n",
    "# notebook内で利用するmoduleのimport\n",
    "from lib_dataprocess import KessanPl, PricelistFig, PricelistPl, MeigaralistPl, read_data\n",
    "from lib_dataprocess import ShikihoPl, FinancequotePl, print_finance_quote, PricelistFig\n",
    "import polars as pl\n",
    "from datetime import date\n",
    "from dateutil.relativedelta import relativedelta\n",
    "\n",
    "fp = DATA_DIR/\"reviced_pricelist.parquet\"\n",
    "df = read_data(fp)\n",
    "RevPl = PricelistPl(df)\n",
    "\n",
    "# dataの読み込み\n",
    "fp = DATA_DIR/\"raw_pricelist.parquet\"\n",
    "df = read_data(fp)\n",
    "PPL = PricelistPl(df)\n",
    "\n",
    "fp = DATA_DIR/\"finance_quote.parquet\"\n",
    "df = read_data(fp)\n",
    "FPL = FinancequotePl(df)\n",
    "FPL.with_columns_market_cap()\n",
    "\n",
    "fp = DATA_DIR/\"meigaralist.parquet\"\n",
    "df = read_data(fp)\n",
    "MPL = MeigaralistPl(df)\n",
    "\n",
    "fp = DATA_DIR/\"shikiho.parquet\"\n",
    "df = read_data(fp)\n",
    "SPL = ShikihoPl(df)\n"
   ]
  },
  {
   "cell_type": "code",
   "execution_count": 3,
   "id": "0f5adef0-992f-4d05-8bc9-2aa834b7b7ca",
   "metadata": {},
   "outputs": [],
   "source": [
    "#####\n",
    "##### KessanPl.dfの加工\n",
    "#####"
   ]
  },
  {
   "cell_type": "code",
   "execution_count": 4,
   "id": "47ac89e9-9358-4bf3-87e7-2c42804ebac8",
   "metadata": {},
   "outputs": [],
   "source": [
    "#パラメータのセット\n",
    "# 決算日の指定 -> 指定した日の四半期決算でランキングを作成する\n",
    "valuation_date = date.today()\n",
    "valuation_date = date(2024, 9, 26)\n",
    "# 売上高伸び率を何%以上にするか\n",
    "min_sales_growthrate = 10"
   ]
  },
  {
   "cell_type": "code",
   "execution_count": 5,
   "id": "0e3166ab-39e3-4032-b83c-b21b7a77ee83",
   "metadata": {},
   "outputs": [
    {
     "data": {
      "text/html": [
       "<div><style>\n",
       ".dataframe > thead > tr,\n",
       ".dataframe > tbody > tr {\n",
       "  text-align: right;\n",
       "  white-space: pre-wrap;\n",
       "}\n",
       "</style>\n",
       "<small>shape: (3_717, 7)</small><table border=\"1\" class=\"dataframe\"><thead><tr><th>code</th><th>settlement_date</th><th>announcement_date</th><th>sales</th><th>operating_income</th><th>sales_growthrate</th><th>diff_operating_income_growthrate</th></tr><tr><td>i64</td><td>date</td><td>date</td><td>i64</td><td>i64</td><td>f64</td><td>f64</td></tr></thead><tbody><tr><td>1301</td><td>2024-06-30</td><td>2024-08-05</td><td>68204</td><td>3102</td><td>9.4</td><td>11.7</td></tr><tr><td>1332</td><td>2024-06-30</td><td>2024-08-06</td><td>220644</td><td>9724</td><td>10.4</td><td>0.0</td></tr><tr><td>1333</td><td>2024-06-30</td><td>2024-08-05</td><td>256928</td><td>7657</td><td>2.4</td><td>-0.5</td></tr><tr><td>1375</td><td>2024-06-30</td><td>2024-08-08</td><td>10172</td><td>-77</td><td>22.9</td><td>12.5</td></tr><tr><td>1376</td><td>2024-05-31</td><td>2024-07-10</td><td>23224</td><td>1150</td><td>1.9</td><td>-16.0</td></tr><tr><td>&hellip;</td><td>&hellip;</td><td>&hellip;</td><td>&hellip;</td><td>&hellip;</td><td>&hellip;</td><td>&hellip;</td></tr><tr><td>9991</td><td>2024-06-30</td><td>2024-07-25</td><td>26954</td><td>1366</td><td>-14.5</td><td>-2.5</td></tr><tr><td>9993</td><td>2024-05-31</td><td>2024-07-11</td><td>24969</td><td>-408</td><td>1.8</td><td>-108.5</td></tr><tr><td>9994</td><td>2024-06-30</td><td>2024-08-09</td><td>39151</td><td>1286</td><td>0.6</td><td>-14.9</td></tr><tr><td>9996</td><td>2024-06-30</td><td>2024-08-09</td><td>11994</td><td>326</td><td>3.4</td><td>-6.3</td></tr><tr><td>9997</td><td>2024-06-30</td><td>2024-07-31</td><td>51368</td><td>982</td><td>-0.9</td><td>36.7</td></tr></tbody></table></div>"
      ],
      "text/plain": [
       "shape: (3_717, 7)\n",
       "┌──────┬────────────────┬────────────────┬────────┬────────────────┬───────────────┬───────────────┐\n",
       "│ code ┆ settlement_dat ┆ announcement_d ┆ sales  ┆ operating_inco ┆ sales_growthr ┆ diff_operatin │\n",
       "│ ---  ┆ e              ┆ ate            ┆ ---    ┆ me             ┆ ate           ┆ g_income_grow │\n",
       "│ i64  ┆ ---            ┆ ---            ┆ i64    ┆ ---            ┆ ---           ┆ thra…         │\n",
       "│      ┆ date           ┆ date           ┆        ┆ i64            ┆ f64           ┆ ---           │\n",
       "│      ┆                ┆                ┆        ┆                ┆               ┆ f64           │\n",
       "╞══════╪════════════════╪════════════════╪════════╪════════════════╪═══════════════╪═══════════════╡\n",
       "│ 1301 ┆ 2024-06-30     ┆ 2024-08-05     ┆ 68204  ┆ 3102           ┆ 9.4           ┆ 11.7          │\n",
       "│ 1332 ┆ 2024-06-30     ┆ 2024-08-06     ┆ 220644 ┆ 9724           ┆ 10.4          ┆ 0.0           │\n",
       "│ 1333 ┆ 2024-06-30     ┆ 2024-08-05     ┆ 256928 ┆ 7657           ┆ 2.4           ┆ -0.5          │\n",
       "│ 1375 ┆ 2024-06-30     ┆ 2024-08-08     ┆ 10172  ┆ -77            ┆ 22.9          ┆ 12.5          │\n",
       "│ 1376 ┆ 2024-05-31     ┆ 2024-07-10     ┆ 23224  ┆ 1150           ┆ 1.9           ┆ -16.0         │\n",
       "│ …    ┆ …              ┆ …              ┆ …      ┆ …              ┆ …             ┆ …             │\n",
       "│ 9991 ┆ 2024-06-30     ┆ 2024-07-25     ┆ 26954  ┆ 1366           ┆ -14.5         ┆ -2.5          │\n",
       "│ 9993 ┆ 2024-05-31     ┆ 2024-07-11     ┆ 24969  ┆ -408           ┆ 1.8           ┆ -108.5        │\n",
       "│ 9994 ┆ 2024-06-30     ┆ 2024-08-09     ┆ 39151  ┆ 1286           ┆ 0.6           ┆ -14.9         │\n",
       "│ 9996 ┆ 2024-06-30     ┆ 2024-08-09     ┆ 11994  ┆ 326            ┆ 3.4           ┆ -6.3          │\n",
       "│ 9997 ┆ 2024-06-30     ┆ 2024-07-31     ┆ 51368  ┆ 982            ┆ -0.9          ┆ 36.7          │\n",
       "└──────┴────────────────┴────────────────┴────────┴────────────────┴───────────────┴───────────────┘"
      ]
     },
     "execution_count": 5,
     "metadata": {},
     "output_type": "execute_result"
    }
   ],
   "source": [
    "# 読み込みと加工\n",
    "# 読み込み\n",
    "fp = DATA_DIR/\"kessan.parquet\"\n",
    "df = read_data(fp)\n",
    "KPL1 = KessanPl(df)\n",
    "KPL2 = KessanPl(df)\n",
    "\n",
    "# データ加工\n",
    "KPL1.with_columns_growthrate_lastyear()\n",
    "KPL2.with_columns_diff_growthrate()\n",
    "KPL1.df = KPL1.df.filter(pl.col(\"settlement_type\")==\"四\")\n",
    "KPL2.df = KPL2.df.filter(pl.col(\"settlement_type\")==\"四\")\n",
    "df = KPL1.df.join(KPL2.df, on=[\"code\", \"settlement_date\"], how=\"left\")\n",
    "df = df.select([\n",
    "    \"code\", \"settlement_date\", \"announcement_date\", \"sales\", \"operating_income\", \"sales_growthrate\", \"diff_operating_income_growthrate\"\n",
    "])\n",
    "# valuation_date日時点の最新データに絞る\n",
    "df = df.filter(pl.col(\"announcement_date\")<=valuation_date)\n",
    "df = df.group_by(\"code\").agg([\n",
    "    pl.col(\"settlement_date\").last().alias(\"settlement_date\"),\n",
    "    pl.col(\"announcement_date\").last().alias(\"announcement_date\"),\n",
    "    pl.col(\"sales\").last().alias(\"sales\"),\n",
    "    pl.col(\"operating_income\").last().alias(\"operating_income\"),\n",
    "    pl.col(\"sales_growthrate\").last().alias(\"sales_growthrate\"),\n",
    "    pl.col(\"diff_operating_income_growthrate\").last().alias(\"diff_operating_income_growthrate\")\n",
    "])\n",
    "\n",
    "target_date = valuation_date - relativedelta(days=90)\n",
    "df = df.filter(pl.col(\"announcement_date\")>target_date)\n",
    "\n",
    "cpl_df = df\n",
    "cpl_df"
   ]
  },
  {
   "cell_type": "code",
   "execution_count": 6,
   "id": "1379d260-4b9d-48cc-87f3-8ae51e821e50",
   "metadata": {},
   "outputs": [],
   "source": [
    "##### \n",
    "##### reviced_pricelistの加工\n",
    "#####"
   ]
  },
  {
   "cell_type": "code",
   "execution_count": 7,
   "id": "c6783e27-ca11-4806-a399-fb294f1f45d5",
   "metadata": {},
   "outputs": [],
   "source": [
    "#パラメータのセット\n",
    "min_zs25 = 2\n",
    "min_daily_updown_rate = 2\n",
    "min_overnight_updown_rate = 0"
   ]
  },
  {
   "cell_type": "code",
   "execution_count": 8,
   "id": "757b9d59-35ca-4b14-bfee-279c7ccf9c83",
   "metadata": {},
   "outputs": [
    {
     "data": {
      "text/html": [
       "<div><style>\n",
       ".dataframe > thead > tr,\n",
       ".dataframe > tbody > tr {\n",
       "  text-align: right;\n",
       "  white-space: pre-wrap;\n",
       "}\n",
       "</style>\n",
       "<small>shape: (228_739, 11)</small><table border=\"1\" class=\"dataframe\"><thead><tr><th>code</th><th>date</th><th>open</th><th>high</th><th>low</th><th>close</th><th>volume</th><th>accumulated_split_rate</th><th>zs25</th><th>daily_updown_rate</th><th>overnight_updown_rate</th></tr><tr><td>i64</td><td>date</td><td>f64</td><td>f64</td><td>f64</td><td>f64</td><td>f64</td><td>f64</td><td>f64</td><td>f64</td><td>f64</td></tr></thead><tbody><tr><td>1301</td><td>2024-08-05</td><td>3610.0</td><td>3780.0</td><td>3400.0</td><td>3450.0</td><td>105000.0</td><td>1.0</td><td>4.2</td><td>-4.43</td><td>-3.99</td></tr><tr><td>1301</td><td>2024-08-06</td><td>3855.0</td><td>3855.0</td><td>3605.0</td><td>3665.0</td><td>50100.0</td><td>1.0</td><td>1.2</td><td>-4.93</td><td>11.74</td></tr><tr><td>1301</td><td>2024-08-07</td><td>3630.0</td><td>3755.0</td><td>3600.0</td><td>3650.0</td><td>38600.0</td><td>1.0</td><td>0.58</td><td>0.55</td><td>-0.95</td></tr><tr><td>1301</td><td>2024-08-08</td><td>3635.0</td><td>3690.0</td><td>3630.0</td><td>3645.0</td><td>23400.0</td><td>1.0</td><td>-0.23</td><td>0.28</td><td>-0.41</td></tr><tr><td>1301</td><td>2024-08-09</td><td>3690.0</td><td>3720.0</td><td>3630.0</td><td>3675.0</td><td>31700.0</td><td>1.0</td><td>0.17</td><td>-0.41</td><td>1.23</td></tr><tr><td>&hellip;</td><td>&hellip;</td><td>&hellip;</td><td>&hellip;</td><td>&hellip;</td><td>&hellip;</td><td>&hellip;</td><td>&hellip;</td><td>&hellip;</td><td>&hellip;</td><td>&hellip;</td></tr><tr><td>9997</td><td>2024-10-28</td><td>702.0</td><td>711.0</td><td>699.0</td><td>708.0</td><td>154300.0</td><td>1.0</td><td>-0.59</td><td>0.85</td><td>0.86</td></tr><tr><td>9997</td><td>2024-10-29</td><td>711.0</td><td>722.0</td><td>710.0</td><td>716.0</td><td>205600.0</td><td>1.0</td><td>-0.39</td><td>0.7</td><td>0.42</td></tr><tr><td>9997</td><td>2024-10-30</td><td>715.0</td><td>718.0</td><td>711.0</td><td>712.0</td><td>208800.0</td><td>1.0</td><td>-0.33</td><td>-0.42</td><td>-0.14</td></tr><tr><td>9997</td><td>2024-10-31</td><td>710.0</td><td>716.0</td><td>706.0</td><td>714.0</td><td>160600.0</td><td>1.0</td><td>-0.42</td><td>0.56</td><td>-0.28</td></tr><tr><td>9997</td><td>2024-11-01</td><td>707.0</td><td>723.0</td><td>703.0</td><td>718.0</td><td>223100.0</td><td>1.0</td><td>-0.1</td><td>1.56</td><td>-0.98</td></tr></tbody></table></div>"
      ],
      "text/plain": [
       "shape: (228_739, 11)\n",
       "┌──────┬────────────┬────────┬────────┬───┬────────────────┬───────┬───────────────┬───────────────┐\n",
       "│ code ┆ date       ┆ open   ┆ high   ┆ … ┆ accumulated_sp ┆ zs25  ┆ daily_updown_ ┆ overnight_upd │\n",
       "│ ---  ┆ ---        ┆ ---    ┆ ---    ┆   ┆ lit_rate       ┆ ---   ┆ rate          ┆ own_rate      │\n",
       "│ i64  ┆ date       ┆ f64    ┆ f64    ┆   ┆ ---            ┆ f64   ┆ ---           ┆ ---           │\n",
       "│      ┆            ┆        ┆        ┆   ┆ f64            ┆       ┆ f64           ┆ f64           │\n",
       "╞══════╪════════════╪════════╪════════╪═══╪════════════════╪═══════╪═══════════════╪═══════════════╡\n",
       "│ 1301 ┆ 2024-08-05 ┆ 3610.0 ┆ 3780.0 ┆ … ┆ 1.0            ┆ 4.2   ┆ -4.43         ┆ -3.99         │\n",
       "│ 1301 ┆ 2024-08-06 ┆ 3855.0 ┆ 3855.0 ┆ … ┆ 1.0            ┆ 1.2   ┆ -4.93         ┆ 11.74         │\n",
       "│ 1301 ┆ 2024-08-07 ┆ 3630.0 ┆ 3755.0 ┆ … ┆ 1.0            ┆ 0.58  ┆ 0.55          ┆ -0.95         │\n",
       "│ 1301 ┆ 2024-08-08 ┆ 3635.0 ┆ 3690.0 ┆ … ┆ 1.0            ┆ -0.23 ┆ 0.28          ┆ -0.41         │\n",
       "│ 1301 ┆ 2024-08-09 ┆ 3690.0 ┆ 3720.0 ┆ … ┆ 1.0            ┆ 0.17  ┆ -0.41         ┆ 1.23          │\n",
       "│ …    ┆ …          ┆ …      ┆ …      ┆ … ┆ …              ┆ …     ┆ …             ┆ …             │\n",
       "│ 9997 ┆ 2024-10-28 ┆ 702.0  ┆ 711.0  ┆ … ┆ 1.0            ┆ -0.59 ┆ 0.85          ┆ 0.86          │\n",
       "│ 9997 ┆ 2024-10-29 ┆ 711.0  ┆ 722.0  ┆ … ┆ 1.0            ┆ -0.39 ┆ 0.7           ┆ 0.42          │\n",
       "│ 9997 ┆ 2024-10-30 ┆ 715.0  ┆ 718.0  ┆ … ┆ 1.0            ┆ -0.33 ┆ -0.42         ┆ -0.14         │\n",
       "│ 9997 ┆ 2024-10-31 ┆ 710.0  ┆ 716.0  ┆ … ┆ 1.0            ┆ -0.42 ┆ 0.56          ┆ -0.28         │\n",
       "│ 9997 ┆ 2024-11-01 ┆ 707.0  ┆ 723.0  ┆ … ┆ 1.0            ┆ -0.1  ┆ 1.56          ┆ -0.98         │\n",
       "└──────┴────────────┴────────┴────────┴───┴────────────────┴───────┴───────────────┴───────────────┘"
      ]
     },
     "execution_count": 8,
     "metadata": {},
     "output_type": "execute_result"
    }
   ],
   "source": [
    "# 読み込みと加工\n",
    "# 読み込み\n",
    "fp = DATA_DIR/\"reviced_pricelist.parquet\"\n",
    "df = read_data(fp)\n",
    "RPL = PricelistPl(df)\n",
    "\n",
    "# データ加工\n",
    "# rpl_dfに評価列を追加\n",
    "RPL.with_columns_moving_zscore()\n",
    "RPL.with_columns_daily_updown_rate()\n",
    "RPL.with_columns_overnight_updown(\"yesterday\")\n",
    "rpl_df = RPL.df\n",
    "# rpl_dfの評価対象行を抽出\n",
    "ori_cols = rpl_df.columns\n",
    "df = cpl_df\n",
    "df = df.select([\"code\", \"announcement_date\"])\n",
    "df = df.with_columns([\n",
    "    pl.col(\"announcement_date\").alias(\"start_date\"),\n",
    "    (pl.col(\"announcement_date\") + pl.duration(days=93)).alias(\"end_date\")\n",
    "])\n",
    "df = df.select([\"code\", \"start_date\", \"end_date\"])\n",
    "df = rpl_df.join(df, on=\"code\", how=\"left\")\n",
    "df = df.filter(pl.col(\"date\")>=pl.col(\"start_date\"))\\\n",
    "    .filter(pl.col(\"date\")<=pl.col(\"end_date\"))\n",
    "df = df.select(ori_cols)\n",
    "rpl_df = df\n",
    "rpl_df"
   ]
  },
  {
   "cell_type": "code",
   "execution_count": 9,
   "id": "e2c7da84-b5b4-402e-93a2-63192f75fd82",
   "metadata": {},
   "outputs": [],
   "source": [
    "##### \n",
    "##### cpl_dfとrpl_dfを連結して、screening用のdfを作成\n",
    "#####"
   ]
  },
  {
   "cell_type": "code",
   "execution_count": 10,
   "id": "259a9099-11a6-4198-af8a-59c2a15543ef",
   "metadata": {},
   "outputs": [
    {
     "data": {
      "text/html": [
       "<div><style>\n",
       ".dataframe > thead > tr,\n",
       ".dataframe > tbody > tr {\n",
       "  text-align: right;\n",
       "  white-space: pre-wrap;\n",
       "}\n",
       "</style>\n",
       "<small>shape: (228_739, 17)</small><table border=\"1\" class=\"dataframe\"><thead><tr><th>code</th><th>date</th><th>open</th><th>high</th><th>low</th><th>close</th><th>volume</th><th>accumulated_split_rate</th><th>zs25</th><th>daily_updown_rate</th><th>overnight_updown_rate</th><th>settlement_date</th><th>announcement_date</th><th>sales</th><th>operating_income</th><th>sales_growthrate</th><th>diff_operating_income_growthrate</th></tr><tr><td>i64</td><td>date</td><td>f64</td><td>f64</td><td>f64</td><td>f64</td><td>f64</td><td>f64</td><td>f64</td><td>f64</td><td>f64</td><td>date</td><td>date</td><td>i64</td><td>i64</td><td>f64</td><td>f64</td></tr></thead><tbody><tr><td>1301</td><td>2024-08-05</td><td>3610.0</td><td>3780.0</td><td>3400.0</td><td>3450.0</td><td>105000.0</td><td>1.0</td><td>4.2</td><td>-4.43</td><td>-3.99</td><td>2024-06-30</td><td>2024-08-05</td><td>68204</td><td>3102</td><td>9.4</td><td>11.7</td></tr><tr><td>1301</td><td>2024-08-06</td><td>3855.0</td><td>3855.0</td><td>3605.0</td><td>3665.0</td><td>50100.0</td><td>1.0</td><td>1.2</td><td>-4.93</td><td>11.74</td><td>2024-06-30</td><td>2024-08-05</td><td>68204</td><td>3102</td><td>9.4</td><td>11.7</td></tr><tr><td>1301</td><td>2024-08-07</td><td>3630.0</td><td>3755.0</td><td>3600.0</td><td>3650.0</td><td>38600.0</td><td>1.0</td><td>0.58</td><td>0.55</td><td>-0.95</td><td>2024-06-30</td><td>2024-08-05</td><td>68204</td><td>3102</td><td>9.4</td><td>11.7</td></tr><tr><td>1301</td><td>2024-08-08</td><td>3635.0</td><td>3690.0</td><td>3630.0</td><td>3645.0</td><td>23400.0</td><td>1.0</td><td>-0.23</td><td>0.28</td><td>-0.41</td><td>2024-06-30</td><td>2024-08-05</td><td>68204</td><td>3102</td><td>9.4</td><td>11.7</td></tr><tr><td>1301</td><td>2024-08-09</td><td>3690.0</td><td>3720.0</td><td>3630.0</td><td>3675.0</td><td>31700.0</td><td>1.0</td><td>0.17</td><td>-0.41</td><td>1.23</td><td>2024-06-30</td><td>2024-08-05</td><td>68204</td><td>3102</td><td>9.4</td><td>11.7</td></tr><tr><td>&hellip;</td><td>&hellip;</td><td>&hellip;</td><td>&hellip;</td><td>&hellip;</td><td>&hellip;</td><td>&hellip;</td><td>&hellip;</td><td>&hellip;</td><td>&hellip;</td><td>&hellip;</td><td>&hellip;</td><td>&hellip;</td><td>&hellip;</td><td>&hellip;</td><td>&hellip;</td><td>&hellip;</td></tr><tr><td>9997</td><td>2024-10-28</td><td>702.0</td><td>711.0</td><td>699.0</td><td>708.0</td><td>154300.0</td><td>1.0</td><td>-0.59</td><td>0.85</td><td>0.86</td><td>2024-06-30</td><td>2024-07-31</td><td>51368</td><td>982</td><td>-0.9</td><td>36.7</td></tr><tr><td>9997</td><td>2024-10-29</td><td>711.0</td><td>722.0</td><td>710.0</td><td>716.0</td><td>205600.0</td><td>1.0</td><td>-0.39</td><td>0.7</td><td>0.42</td><td>2024-06-30</td><td>2024-07-31</td><td>51368</td><td>982</td><td>-0.9</td><td>36.7</td></tr><tr><td>9997</td><td>2024-10-30</td><td>715.0</td><td>718.0</td><td>711.0</td><td>712.0</td><td>208800.0</td><td>1.0</td><td>-0.33</td><td>-0.42</td><td>-0.14</td><td>2024-06-30</td><td>2024-07-31</td><td>51368</td><td>982</td><td>-0.9</td><td>36.7</td></tr><tr><td>9997</td><td>2024-10-31</td><td>710.0</td><td>716.0</td><td>706.0</td><td>714.0</td><td>160600.0</td><td>1.0</td><td>-0.42</td><td>0.56</td><td>-0.28</td><td>2024-06-30</td><td>2024-07-31</td><td>51368</td><td>982</td><td>-0.9</td><td>36.7</td></tr><tr><td>9997</td><td>2024-11-01</td><td>707.0</td><td>723.0</td><td>703.0</td><td>718.0</td><td>223100.0</td><td>1.0</td><td>-0.1</td><td>1.56</td><td>-0.98</td><td>2024-06-30</td><td>2024-07-31</td><td>51368</td><td>982</td><td>-0.9</td><td>36.7</td></tr></tbody></table></div>"
      ],
      "text/plain": [
       "shape: (228_739, 17)\n",
       "┌──────┬────────────┬────────┬────────┬───┬───────┬────────────────┬───────────────┬───────────────┐\n",
       "│ code ┆ date       ┆ open   ┆ high   ┆ … ┆ sales ┆ operating_inco ┆ sales_growthr ┆ diff_operatin │\n",
       "│ ---  ┆ ---        ┆ ---    ┆ ---    ┆   ┆ ---   ┆ me             ┆ ate           ┆ g_income_grow │\n",
       "│ i64  ┆ date       ┆ f64    ┆ f64    ┆   ┆ i64   ┆ ---            ┆ ---           ┆ thra…         │\n",
       "│      ┆            ┆        ┆        ┆   ┆       ┆ i64            ┆ f64           ┆ ---           │\n",
       "│      ┆            ┆        ┆        ┆   ┆       ┆                ┆               ┆ f64           │\n",
       "╞══════╪════════════╪════════╪════════╪═══╪═══════╪════════════════╪═══════════════╪═══════════════╡\n",
       "│ 1301 ┆ 2024-08-05 ┆ 3610.0 ┆ 3780.0 ┆ … ┆ 68204 ┆ 3102           ┆ 9.4           ┆ 11.7          │\n",
       "│ 1301 ┆ 2024-08-06 ┆ 3855.0 ┆ 3855.0 ┆ … ┆ 68204 ┆ 3102           ┆ 9.4           ┆ 11.7          │\n",
       "│ 1301 ┆ 2024-08-07 ┆ 3630.0 ┆ 3755.0 ┆ … ┆ 68204 ┆ 3102           ┆ 9.4           ┆ 11.7          │\n",
       "│ 1301 ┆ 2024-08-08 ┆ 3635.0 ┆ 3690.0 ┆ … ┆ 68204 ┆ 3102           ┆ 9.4           ┆ 11.7          │\n",
       "│ 1301 ┆ 2024-08-09 ┆ 3690.0 ┆ 3720.0 ┆ … ┆ 68204 ┆ 3102           ┆ 9.4           ┆ 11.7          │\n",
       "│ …    ┆ …          ┆ …      ┆ …      ┆ … ┆ …     ┆ …              ┆ …             ┆ …             │\n",
       "│ 9997 ┆ 2024-10-28 ┆ 702.0  ┆ 711.0  ┆ … ┆ 51368 ┆ 982            ┆ -0.9          ┆ 36.7          │\n",
       "│ 9997 ┆ 2024-10-29 ┆ 711.0  ┆ 722.0  ┆ … ┆ 51368 ┆ 982            ┆ -0.9          ┆ 36.7          │\n",
       "│ 9997 ┆ 2024-10-30 ┆ 715.0  ┆ 718.0  ┆ … ┆ 51368 ┆ 982            ┆ -0.9          ┆ 36.7          │\n",
       "│ 9997 ┆ 2024-10-31 ┆ 710.0  ┆ 716.0  ┆ … ┆ 51368 ┆ 982            ┆ -0.9          ┆ 36.7          │\n",
       "│ 9997 ┆ 2024-11-01 ┆ 707.0  ┆ 723.0  ┆ … ┆ 51368 ┆ 982            ┆ -0.9          ┆ 36.7          │\n",
       "└──────┴────────────┴────────┴────────┴───┴───────┴────────────────┴───────────────┴───────────────┘"
      ]
     },
     "execution_count": 10,
     "metadata": {},
     "output_type": "execute_result"
    }
   ],
   "source": [
    "df = rpl_df.join(cpl_df, on=\"code\", how=\"left\")\n",
    "screened_df = df\n",
    "screened_df"
   ]
  },
  {
   "cell_type": "code",
   "execution_count": 11,
   "id": "cb23440d-8c46-4e58-9b5c-2cb9437e91d0",
   "metadata": {},
   "outputs": [],
   "source": [
    "##### \n",
    "##### screening\n",
    "#####"
   ]
  },
  {
   "cell_type": "code",
   "execution_count": 12,
   "id": "a132296d-864b-4960-b083-d7be57a1ee4c",
   "metadata": {},
   "outputs": [],
   "source": [
    "# para\n",
    "min_zs25 = 3\n",
    "min_daily_updown_rate = 2\n",
    "min_overnight_updown_rate = 0\n",
    "min_sales_growthrate = 10\n",
    "min_sgr_dogr_ratio = 2"
   ]
  },
  {
   "cell_type": "code",
   "execution_count": 46,
   "id": "f5deb4b4-b230-4934-b7ac-5dd5a531e7d8",
   "metadata": {},
   "outputs": [
    {
     "data": {
      "text/html": [
       "<div><style>\n",
       ".dataframe > thead > tr,\n",
       ".dataframe > tbody > tr {\n",
       "  text-align: right;\n",
       "  white-space: pre-wrap;\n",
       "}\n",
       "</style>\n",
       "<small>shape: (10, 17)</small><table border=\"1\" class=\"dataframe\"><thead><tr><th>code</th><th>date</th><th>open</th><th>high</th><th>low</th><th>close</th><th>volume</th><th>accumulated_split_rate</th><th>zs25</th><th>daily_updown_rate</th><th>overnight_updown_rate</th><th>settlement_date</th><th>announcement_date</th><th>sales</th><th>operating_income</th><th>sales_growthrate</th><th>diff_operating_income_growthrate</th></tr><tr><td>i64</td><td>date</td><td>f64</td><td>f64</td><td>f64</td><td>f64</td><td>f64</td><td>f64</td><td>f64</td><td>f64</td><td>f64</td><td>date</td><td>date</td><td>i64</td><td>i64</td><td>f64</td><td>f64</td></tr></thead><tbody><tr><td>3708</td><td>2024-09-26</td><td>3785.0</td><td>3880.0</td><td>3775.0</td><td>3865.0</td><td>44800.0</td><td>1.0</td><td>4.04</td><td>2.11</td><td>0.53</td><td>2024-06-30</td><td>2024-08-14</td><td>22702</td><td>1049</td><td>10.4</td><td>38.1</td></tr><tr><td>3727</td><td>2024-10-09</td><td>182.0</td><td>189.0</td><td>175.0</td><td>189.0</td><td>5.6819e6</td><td>1.0</td><td>4.74</td><td>3.85</td><td>30.94</td><td>2024-06-30</td><td>2024-08-13</td><td>1037</td><td>84</td><td>12.5</td><td>42.6</td></tr><tr><td>3763</td><td>2024-10-07</td><td>1599.0</td><td>1677.0</td><td>1591.0</td><td>1667.0</td><td>102700.0</td><td>1.0</td><td>4.4</td><td>4.25</td><td>0.95</td><td>2024-06-30</td><td>2024-08-09</td><td>1485</td><td>193</td><td>14.6</td><td>89.9</td></tr><tr><td>3773</td><td>2024-10-21</td><td>1120.0</td><td>1179.0</td><td>1108.0</td><td>1160.0</td><td>363200.0</td><td>1.0</td><td>4.57</td><td>3.57</td><td>3.9</td><td>2024-06-30</td><td>2024-08-07</td><td>1482</td><td>265</td><td>20.6</td><td>51.0</td></tr><tr><td>3837</td><td>2024-11-08</td><td>1878.0</td><td>1937.0</td><td>1876.0</td><td>1922.0</td><td>53700.0</td><td>1.0</td><td>3.94</td><td>2.34</td><td>0.75</td><td>2024-06-30</td><td>2024-08-07</td><td>3753</td><td>456</td><td>10.5</td><td>33.0</td></tr><tr><td>3920</td><td>2024-09-12</td><td>563.0</td><td>649.0</td><td>557.0</td><td>593.0</td><td>366800.0</td><td>1.0</td><td>4.63</td><td>5.33</td><td>1.81</td><td>2024-06-30</td><td>2024-08-09</td><td>576</td><td>147</td><td>25.2</td><td>64.7</td></tr><tr><td>3922</td><td>2024-07-11</td><td>1820.0</td><td>1871.0</td><td>1802.0</td><td>1871.0</td><td>50200.0</td><td>1.0</td><td>3.61</td><td>2.8</td><td>0.22</td><td>2024-05-31</td><td>2024-07-11</td><td>1925</td><td>484</td><td>19.7</td><td>44.5</td></tr><tr><td>3922</td><td>2024-07-12</td><td>1959.0</td><td>2116.0</td><td>1956.0</td><td>2081.0</td><td>267300.0</td><td>1.0</td><td>4.73</td><td>6.23</td><td>4.7</td><td>2024-05-31</td><td>2024-07-11</td><td>1925</td><td>484</td><td>19.7</td><td>44.5</td></tr><tr><td>3930</td><td>2024-12-13</td><td>931.0</td><td>1074.0</td><td>906.0</td><td>1000.0</td><td>257300.0</td><td>1.0</td><td>4.8</td><td>7.41</td><td>0.76</td><td>2024-07-31</td><td>2024-09-13</td><td>931</td><td>107</td><td>14.8</td><td>63.3</td></tr><tr><td>4026</td><td>2024-09-12</td><td>1700.0</td><td>1887.0</td><td>1695.0</td><td>1880.0</td><td>438600.0</td><td>1.0</td><td>3.15</td><td>10.59</td><td>0.0</td><td>2024-07-31</td><td>2024-09-11</td><td>6983</td><td>649</td><td>12.7</td><td>29.7</td></tr></tbody></table></div>"
      ],
      "text/plain": [
       "shape: (10, 17)\n",
       "┌──────┬────────────┬────────┬────────┬───┬───────┬────────────────┬───────────────┬───────────────┐\n",
       "│ code ┆ date       ┆ open   ┆ high   ┆ … ┆ sales ┆ operating_inco ┆ sales_growthr ┆ diff_operatin │\n",
       "│ ---  ┆ ---        ┆ ---    ┆ ---    ┆   ┆ ---   ┆ me             ┆ ate           ┆ g_income_grow │\n",
       "│ i64  ┆ date       ┆ f64    ┆ f64    ┆   ┆ i64   ┆ ---            ┆ ---           ┆ thra…         │\n",
       "│      ┆            ┆        ┆        ┆   ┆       ┆ i64            ┆ f64           ┆ ---           │\n",
       "│      ┆            ┆        ┆        ┆   ┆       ┆                ┆               ┆ f64           │\n",
       "╞══════╪════════════╪════════╪════════╪═══╪═══════╪════════════════╪═══════════════╪═══════════════╡\n",
       "│ 3708 ┆ 2024-09-26 ┆ 3785.0 ┆ 3880.0 ┆ … ┆ 22702 ┆ 1049           ┆ 10.4          ┆ 38.1          │\n",
       "│ 3727 ┆ 2024-10-09 ┆ 182.0  ┆ 189.0  ┆ … ┆ 1037  ┆ 84             ┆ 12.5          ┆ 42.6          │\n",
       "│ 3763 ┆ 2024-10-07 ┆ 1599.0 ┆ 1677.0 ┆ … ┆ 1485  ┆ 193            ┆ 14.6          ┆ 89.9          │\n",
       "│ 3773 ┆ 2024-10-21 ┆ 1120.0 ┆ 1179.0 ┆ … ┆ 1482  ┆ 265            ┆ 20.6          ┆ 51.0          │\n",
       "│ 3837 ┆ 2024-11-08 ┆ 1878.0 ┆ 1937.0 ┆ … ┆ 3753  ┆ 456            ┆ 10.5          ┆ 33.0          │\n",
       "│ 3920 ┆ 2024-09-12 ┆ 563.0  ┆ 649.0  ┆ … ┆ 576   ┆ 147            ┆ 25.2          ┆ 64.7          │\n",
       "│ 3922 ┆ 2024-07-11 ┆ 1820.0 ┆ 1871.0 ┆ … ┆ 1925  ┆ 484            ┆ 19.7          ┆ 44.5          │\n",
       "│ 3922 ┆ 2024-07-12 ┆ 1959.0 ┆ 2116.0 ┆ … ┆ 1925  ┆ 484            ┆ 19.7          ┆ 44.5          │\n",
       "│ 3930 ┆ 2024-12-13 ┆ 931.0  ┆ 1074.0 ┆ … ┆ 931   ┆ 107            ┆ 14.8          ┆ 63.3          │\n",
       "│ 4026 ┆ 2024-09-12 ┆ 1700.0 ┆ 1887.0 ┆ … ┆ 6983  ┆ 649            ┆ 12.7          ┆ 29.7          │\n",
       "└──────┴────────────┴────────┴────────┴───┴───────┴────────────────┴───────────────┴───────────────┘"
      ]
     },
     "execution_count": 46,
     "metadata": {},
     "output_type": "execute_result"
    }
   ],
   "source": [
    "df = screened_df\n",
    "\n",
    "df = df.filter([\n",
    "    pl.col(\"zs25\")>=min_zs25,\n",
    "    pl.col(\"daily_updown_rate\")>=min_daily_updown_rate,\n",
    "    pl.col(\"overnight_updown_rate\")>=min_overnight_updown_rate,\n",
    "    pl.col(\"sales_growthrate\")>=min_sales_growthrate,\n",
    "    pl.lit(min_sgr_dogr_ratio) * pl.col(\"sales_growthrate\")<pl.col(\"diff_operating_income_growthrate\")\n",
    "])\n",
    "df[20:30]"
   ]
  },
  {
   "cell_type": "code",
   "execution_count": 47,
   "id": "80324471-804b-4c3e-bc4e-a5e9e8156ed5",
   "metadata": {},
   "outputs": [],
   "source": [
    "##### \n",
    "##### individual stock info\n",
    "#####"
   ]
  },
  {
   "cell_type": "code",
   "execution_count": 51,
   "id": "9c54ab64-557d-4148-9cfc-7ca6cdb4d7e0",
   "metadata": {},
   "outputs": [],
   "source": [
    "# set code\n",
    "code = 3930\n",
    "marked_day = date(2024,12, 13)"
   ]
  },
  {
   "cell_type": "code",
   "execution_count": 52,
   "id": "6ba4260f-64fc-427a-b345-7f009301e017",
   "metadata": {},
   "outputs": [
    {
     "name": "stdout",
     "output_type": "stream",
     "text": [
      "はてな(3930)の銘柄情報\n",
      "\n",
      "終値: 1000.0円(2024年12月13日)\n",
      "予想配当利回り: None%(2024年12月13日)\n",
      "予想PER: 21.11倍(2024年12月13日)\n",
      "実績PBR: 1.15倍(2024年12月13日)\n",
      "自己資本比率: 88.0%(2024年12月13日)\n",
      "予想ROE: 5.47%(2024年12月13日)\n",
      "予想ROA: 4.81%(2024年12月13日)\n",
      "時価総額: 30.7億円(2024年12月13日)\n",
      "\n",
      "3930(はてな)の四季報データ履歴\n",
      "\n",
      "発行日: 2024年09月13日\n",
      "【好転】\n",
      "  25年7月期は受託サービスでビューワの『少年ジャンプ+』搭載が通期貢献。『はてなブログ』の運用型広告は苦戦続くが、法人向け案件増。開発人件費やデータセンター利用料増こなし、営業益好転。\n",
      "【集英社】\n",
      "  漫画アプリビューワ提供に加え広告運用やコンテンツ販売支援、専用アプリでの次世代ヒット作創出で協業。生成AI活用の企業向け発話分析サービス開始。\n",
      "\n",
      "発行日: 2024年06月14日\n",
      "【費用増】\n",
      "  受託サービスは下期から集英社が『少年ジャンプ+』でアプリビューワ採用し貢献大。はてな関連は企業向けオウンドメディア支援下げ止まる。ただ人件費やデータセンター利用料の上昇重い。連続減益。25年7月期は受託サービスの収益軌道化。\n",
      "【漫画アプリ】\n",
      "  ブラウザーとの高い連動性をアピールし、集英社に続く大型案件獲得狙う。任天堂のスマホサービス開発に協力。\n",
      "\n",
      "発行日: 2024年03月16日\n",
      "【増収減益】\n",
      "  受託サービスはWeb・アプリともに導入進展、前期ずれ込んだ大型漫画アプリ開発案件も寄与。『はてな』関連は個人向けの課金伸び悩む一方、広告単価復調。ただ受託中心に人員体制の拡充進めるほか、クラウド利用料等膨らみ営業益続落。\n",
      "【人員体制】\n",
      "  社員採用に加え、外注・業務委託活用。フルリモート勤務容認。生成AI使ったタイトル提案機能は法人にも展開。\n",
      "\n",
      "発行日: 2023年12月15日\n",
      "【続落】\n",
      "  『はてな』関連は法人向けメディア構築・運用支援の案件増え、個人向けの軟調補う。漫画向け中心に受託サービスの受注拡大。ただ開発人員投資やクラウドサービス利用料の負担増きつく、営業益続落。\n",
      "【生成ＡＩ】\n",
      "  『はてなブログ』で機能実装、記事編集画面の入力内容を基にタイトルの自動作成支援。受託サービスは受注金額大きい有名雑誌の漫画アプリ開発に注力。\n"
     ]
    }
   ],
   "source": [
    "### 最新情報\n",
    "# 指定したcodeの指定した日における株価と各種ファンダメンタルズデータをまとめて標準出力する\n",
    "# pricelist_dfは、raw_pricelistかreviced_pricelistかケースに応じて使い分ける。\n",
    "# def print_finance_quote(\n",
    "#        pricelist_df: pl.DataFrame,\n",
    "#        finance_quote_df: pl.DataFrame,\n",
    "#        code: int, \n",
    "#        valuation_date: date=date.today()\n",
    "#    ) -> None:\n",
    "print_finance_quote(PPL.df, FPL.df, code, valuation_date=marked_day)\n",
    "print()\n",
    "SPL.print_stock_df(code, num=4, valuation_date=valuation_date)"
   ]
  },
  {
   "cell_type": "code",
   "execution_count": 53,
   "id": "4a5fbfdd-0e47-4955-9515-f5d3128423f1",
   "metadata": {},
   "outputs": [
    {
     "name": "stdout",
     "output_type": "stream",
     "text": [
      "2024-09-26\n"
     ]
    },
    {
     "data": {
      "application/vnd.plotly.v1+json": {
       "config": {
        "plotlyServerURL": "https://plot.ly"
       },
       "data": [
        {
         "close": [
          824,
          821,
          814,
          787,
          796,
          781,
          786,
          790,
          780,
          793,
          778,
          778,
          786,
          791,
          778,
          779,
          820,
          817,
          825,
          834,
          835,
          865,
          890,
          873,
          897,
          905,
          883,
          890,
          872,
          861,
          850,
          852,
          883,
          870,
          869,
          881,
          877,
          880,
          876,
          873,
          874,
          884,
          875,
          880,
          870,
          907,
          906,
          919,
          926,
          918,
          906,
          885,
          882,
          914,
          920,
          922,
          922,
          918,
          923,
          924,
          1000,
          1040,
          1078,
          1070,
          1049,
          1094,
          1060,
          1028,
          1006,
          1010
         ],
         "high": [
          824,
          821,
          820,
          818,
          796,
          791,
          786,
          795,
          781,
          793,
          781,
          778,
          788,
          793,
          788,
          781,
          837,
          835,
          825,
          836,
          835,
          875,
          890,
          894,
          897,
          907,
          905,
          890,
          884,
          872,
          873,
          854,
          885,
          883,
          877,
          881,
          897,
          880,
          880,
          876,
          882,
          885,
          884,
          880,
          880,
          907,
          925,
          921,
          927,
          929,
          930,
          915,
          925,
          915,
          920,
          922,
          922,
          929,
          924,
          924,
          1074,
          1045,
          1112,
          1100,
          1065,
          1105,
          1094,
          1050,
          1030,
          1024
         ],
         "low": [
          797,
          807,
          812,
          786,
          788,
          781,
          777,
          786,
          770,
          771,
          773,
          778,
          778,
          783,
          778,
          776,
          783,
          802,
          807,
          812,
          821,
          834,
          867,
          872,
          876,
          871,
          852,
          856,
          860,
          861,
          850,
          840,
          845,
          857,
          856,
          869,
          866,
          871,
          876,
          873,
          874,
          874,
          870,
          880,
          870,
          860,
          898,
          900,
          912,
          910,
          906,
          883,
          882,
          896,
          910,
          909,
          910,
          914,
          918,
          914,
          906,
          1013,
          1032,
          1054,
          1030,
          1050,
          1045,
          1015,
          1005,
          999
         ],
         "name": "株価",
         "open": [
          809,
          812,
          820,
          818,
          788,
          791,
          783,
          790,
          771,
          774,
          780,
          778,
          778,
          793,
          786,
          778,
          783,
          814,
          813,
          812,
          821,
          835,
          880,
          894,
          885,
          903,
          905,
          883,
          875,
          864,
          853,
          840,
          850,
          883,
          870,
          869,
          881,
          871,
          877,
          876,
          880,
          874,
          884,
          880,
          880,
          870,
          910,
          915,
          921,
          929,
          930,
          907,
          885,
          896,
          912,
          921,
          919,
          928,
          918,
          921,
          931,
          1029,
          1046,
          1090,
          1054,
          1050,
          1094,
          1050,
          1028,
          1007
         ],
         "type": "candlestick",
         "x": [
          "2024-09-17",
          "2024-09-18",
          "2024-09-19",
          "2024-09-20",
          "2024-09-24",
          "2024-09-25",
          "2024-09-26",
          "2024-09-27",
          "2024-09-30",
          "2024-10-01",
          "2024-10-02",
          "2024-10-03",
          "2024-10-04",
          "2024-10-07",
          "2024-10-08",
          "2024-10-09",
          "2024-10-10",
          "2024-10-11",
          "2024-10-15",
          "2024-10-16",
          "2024-10-17",
          "2024-10-18",
          "2024-10-21",
          "2024-10-22",
          "2024-10-23",
          "2024-10-24",
          "2024-10-25",
          "2024-10-28",
          "2024-10-29",
          "2024-10-30",
          "2024-10-31",
          "2024-11-01",
          "2024-11-05",
          "2024-11-06",
          "2024-11-07",
          "2024-11-08",
          "2024-11-11",
          "2024-11-12",
          "2024-11-13",
          "2024-11-14",
          "2024-11-15",
          "2024-11-18",
          "2024-11-19",
          "2024-11-20",
          "2024-11-21",
          "2024-11-22",
          "2024-11-25",
          "2024-11-26",
          "2024-11-27",
          "2024-11-28",
          "2024-11-29",
          "2024-12-02",
          "2024-12-03",
          "2024-12-04",
          "2024-12-05",
          "2024-12-06",
          "2024-12-09",
          "2024-12-10",
          "2024-12-11",
          "2024-12-12",
          "2024-12-13",
          "2024-12-16",
          "2024-12-17",
          "2024-12-18",
          "2024-12-19",
          "2024-12-20",
          "2024-12-23",
          "2024-12-24",
          "2024-12-25",
          "2024-12-26"
         ],
         "xaxis": "x",
         "yaxis": "y"
        },
        {
         "marker": {
          "color": "blue"
         },
         "name": "出来高",
         "type": "bar",
         "x": [
          "2024-09-17",
          "2024-09-18",
          "2024-09-19",
          "2024-09-20",
          "2024-09-24",
          "2024-09-25",
          "2024-09-26",
          "2024-09-27",
          "2024-09-30",
          "2024-10-01",
          "2024-10-02",
          "2024-10-03",
          "2024-10-04",
          "2024-10-07",
          "2024-10-08",
          "2024-10-09",
          "2024-10-10",
          "2024-10-11",
          "2024-10-15",
          "2024-10-16",
          "2024-10-17",
          "2024-10-18",
          "2024-10-21",
          "2024-10-22",
          "2024-10-23",
          "2024-10-24",
          "2024-10-25",
          "2024-10-28",
          "2024-10-29",
          "2024-10-30",
          "2024-10-31",
          "2024-11-01",
          "2024-11-05",
          "2024-11-06",
          "2024-11-07",
          "2024-11-08",
          "2024-11-11",
          "2024-11-12",
          "2024-11-13",
          "2024-11-14",
          "2024-11-15",
          "2024-11-18",
          "2024-11-19",
          "2024-11-20",
          "2024-11-21",
          "2024-11-22",
          "2024-11-25",
          "2024-11-26",
          "2024-11-27",
          "2024-11-28",
          "2024-11-29",
          "2024-12-02",
          "2024-12-03",
          "2024-12-04",
          "2024-12-05",
          "2024-12-06",
          "2024-12-09",
          "2024-12-10",
          "2024-12-11",
          "2024-12-12",
          "2024-12-13",
          "2024-12-16",
          "2024-12-17",
          "2024-12-18",
          "2024-12-19",
          "2024-12-20",
          "2024-12-23",
          "2024-12-24",
          "2024-12-25",
          "2024-12-26"
         ],
         "xaxis": "x2",
         "y": [
          74600,
          11800,
          3700,
          28200,
          1400,
          2900,
          1900,
          2900,
          7000,
          2400,
          3000,
          300,
          2700,
          3300,
          4200,
          2000,
          15600,
          9700,
          7200,
          3800,
          700,
          14200,
          7600,
          3400,
          4600,
          9500,
          7700,
          2700,
          2000,
          3000,
          3800,
          1300,
          1700,
          3900,
          1300,
          1700,
          3100,
          1400,
          700,
          600,
          1400,
          1700,
          1100,
          400,
          900,
          4200,
          5700,
          3900,
          4000,
          2700,
          1800,
          3800,
          10700,
          4900,
          1700,
          3200,
          1300,
          4700,
          1700,
          1500,
          257300,
          79200,
          65800,
          19600,
          11600,
          18000,
          15600,
          9700,
          14700,
          15700
         ],
         "yaxis": "y2"
        }
       ],
       "layout": {
        "autosize": true,
        "shapes": [
         {
          "line": {
           "color": "grey",
           "width": 1
          },
          "opacity": 0.5,
          "type": "line",
          "x0": "2024-12-13",
          "x1": "2024-12-13",
          "xref": "x",
          "y0": 0,
          "y1": 1,
          "yref": "y domain"
         },
         {
          "line": {
           "color": "grey",
           "width": 1
          },
          "opacity": 0.5,
          "type": "line",
          "x0": "2024-12-13",
          "x1": "2024-12-13",
          "xref": "x2",
          "y0": 0,
          "y1": 1,
          "yref": "y2 domain"
         },
         {
          "line": {
           "color": "orange",
           "width": 1
          },
          "opacity": 0.5,
          "type": "line",
          "x0": "2024-12-13",
          "x1": "2024-12-13",
          "xref": "x",
          "y0": 0,
          "y1": 1,
          "yref": "y domain"
         },
         {
          "line": {
           "color": "orange",
           "width": 1
          },
          "opacity": 0.5,
          "type": "line",
          "x0": "2024-12-13",
          "x1": "2024-12-13",
          "xref": "x2",
          "y0": 0,
          "y1": 1,
          "yref": "y2 domain"
         }
        ],
        "template": {
         "data": {
          "bar": [
           {
            "error_x": {
             "color": "#2a3f5f"
            },
            "error_y": {
             "color": "#2a3f5f"
            },
            "marker": {
             "line": {
              "color": "#E5ECF6",
              "width": 0.5
             },
             "pattern": {
              "fillmode": "overlay",
              "size": 10,
              "solidity": 0.2
             }
            },
            "type": "bar"
           }
          ],
          "barpolar": [
           {
            "marker": {
             "line": {
              "color": "#E5ECF6",
              "width": 0.5
             },
             "pattern": {
              "fillmode": "overlay",
              "size": 10,
              "solidity": 0.2
             }
            },
            "type": "barpolar"
           }
          ],
          "carpet": [
           {
            "aaxis": {
             "endlinecolor": "#2a3f5f",
             "gridcolor": "white",
             "linecolor": "white",
             "minorgridcolor": "white",
             "startlinecolor": "#2a3f5f"
            },
            "baxis": {
             "endlinecolor": "#2a3f5f",
             "gridcolor": "white",
             "linecolor": "white",
             "minorgridcolor": "white",
             "startlinecolor": "#2a3f5f"
            },
            "type": "carpet"
           }
          ],
          "choropleth": [
           {
            "colorbar": {
             "outlinewidth": 0,
             "ticks": ""
            },
            "type": "choropleth"
           }
          ],
          "contour": [
           {
            "colorbar": {
             "outlinewidth": 0,
             "ticks": ""
            },
            "colorscale": [
             [
              0,
              "#0d0887"
             ],
             [
              0.1111111111111111,
              "#46039f"
             ],
             [
              0.2222222222222222,
              "#7201a8"
             ],
             [
              0.3333333333333333,
              "#9c179e"
             ],
             [
              0.4444444444444444,
              "#bd3786"
             ],
             [
              0.5555555555555556,
              "#d8576b"
             ],
             [
              0.6666666666666666,
              "#ed7953"
             ],
             [
              0.7777777777777778,
              "#fb9f3a"
             ],
             [
              0.8888888888888888,
              "#fdca26"
             ],
             [
              1,
              "#f0f921"
             ]
            ],
            "type": "contour"
           }
          ],
          "contourcarpet": [
           {
            "colorbar": {
             "outlinewidth": 0,
             "ticks": ""
            },
            "type": "contourcarpet"
           }
          ],
          "heatmap": [
           {
            "colorbar": {
             "outlinewidth": 0,
             "ticks": ""
            },
            "colorscale": [
             [
              0,
              "#0d0887"
             ],
             [
              0.1111111111111111,
              "#46039f"
             ],
             [
              0.2222222222222222,
              "#7201a8"
             ],
             [
              0.3333333333333333,
              "#9c179e"
             ],
             [
              0.4444444444444444,
              "#bd3786"
             ],
             [
              0.5555555555555556,
              "#d8576b"
             ],
             [
              0.6666666666666666,
              "#ed7953"
             ],
             [
              0.7777777777777778,
              "#fb9f3a"
             ],
             [
              0.8888888888888888,
              "#fdca26"
             ],
             [
              1,
              "#f0f921"
             ]
            ],
            "type": "heatmap"
           }
          ],
          "heatmapgl": [
           {
            "colorbar": {
             "outlinewidth": 0,
             "ticks": ""
            },
            "colorscale": [
             [
              0,
              "#0d0887"
             ],
             [
              0.1111111111111111,
              "#46039f"
             ],
             [
              0.2222222222222222,
              "#7201a8"
             ],
             [
              0.3333333333333333,
              "#9c179e"
             ],
             [
              0.4444444444444444,
              "#bd3786"
             ],
             [
              0.5555555555555556,
              "#d8576b"
             ],
             [
              0.6666666666666666,
              "#ed7953"
             ],
             [
              0.7777777777777778,
              "#fb9f3a"
             ],
             [
              0.8888888888888888,
              "#fdca26"
             ],
             [
              1,
              "#f0f921"
             ]
            ],
            "type": "heatmapgl"
           }
          ],
          "histogram": [
           {
            "marker": {
             "pattern": {
              "fillmode": "overlay",
              "size": 10,
              "solidity": 0.2
             }
            },
            "type": "histogram"
           }
          ],
          "histogram2d": [
           {
            "colorbar": {
             "outlinewidth": 0,
             "ticks": ""
            },
            "colorscale": [
             [
              0,
              "#0d0887"
             ],
             [
              0.1111111111111111,
              "#46039f"
             ],
             [
              0.2222222222222222,
              "#7201a8"
             ],
             [
              0.3333333333333333,
              "#9c179e"
             ],
             [
              0.4444444444444444,
              "#bd3786"
             ],
             [
              0.5555555555555556,
              "#d8576b"
             ],
             [
              0.6666666666666666,
              "#ed7953"
             ],
             [
              0.7777777777777778,
              "#fb9f3a"
             ],
             [
              0.8888888888888888,
              "#fdca26"
             ],
             [
              1,
              "#f0f921"
             ]
            ],
            "type": "histogram2d"
           }
          ],
          "histogram2dcontour": [
           {
            "colorbar": {
             "outlinewidth": 0,
             "ticks": ""
            },
            "colorscale": [
             [
              0,
              "#0d0887"
             ],
             [
              0.1111111111111111,
              "#46039f"
             ],
             [
              0.2222222222222222,
              "#7201a8"
             ],
             [
              0.3333333333333333,
              "#9c179e"
             ],
             [
              0.4444444444444444,
              "#bd3786"
             ],
             [
              0.5555555555555556,
              "#d8576b"
             ],
             [
              0.6666666666666666,
              "#ed7953"
             ],
             [
              0.7777777777777778,
              "#fb9f3a"
             ],
             [
              0.8888888888888888,
              "#fdca26"
             ],
             [
              1,
              "#f0f921"
             ]
            ],
            "type": "histogram2dcontour"
           }
          ],
          "mesh3d": [
           {
            "colorbar": {
             "outlinewidth": 0,
             "ticks": ""
            },
            "type": "mesh3d"
           }
          ],
          "parcoords": [
           {
            "line": {
             "colorbar": {
              "outlinewidth": 0,
              "ticks": ""
             }
            },
            "type": "parcoords"
           }
          ],
          "pie": [
           {
            "automargin": true,
            "type": "pie"
           }
          ],
          "scatter": [
           {
            "fillpattern": {
             "fillmode": "overlay",
             "size": 10,
             "solidity": 0.2
            },
            "type": "scatter"
           }
          ],
          "scatter3d": [
           {
            "line": {
             "colorbar": {
              "outlinewidth": 0,
              "ticks": ""
             }
            },
            "marker": {
             "colorbar": {
              "outlinewidth": 0,
              "ticks": ""
             }
            },
            "type": "scatter3d"
           }
          ],
          "scattercarpet": [
           {
            "marker": {
             "colorbar": {
              "outlinewidth": 0,
              "ticks": ""
             }
            },
            "type": "scattercarpet"
           }
          ],
          "scattergeo": [
           {
            "marker": {
             "colorbar": {
              "outlinewidth": 0,
              "ticks": ""
             }
            },
            "type": "scattergeo"
           }
          ],
          "scattergl": [
           {
            "marker": {
             "colorbar": {
              "outlinewidth": 0,
              "ticks": ""
             }
            },
            "type": "scattergl"
           }
          ],
          "scattermapbox": [
           {
            "marker": {
             "colorbar": {
              "outlinewidth": 0,
              "ticks": ""
             }
            },
            "type": "scattermapbox"
           }
          ],
          "scatterpolar": [
           {
            "marker": {
             "colorbar": {
              "outlinewidth": 0,
              "ticks": ""
             }
            },
            "type": "scatterpolar"
           }
          ],
          "scatterpolargl": [
           {
            "marker": {
             "colorbar": {
              "outlinewidth": 0,
              "ticks": ""
             }
            },
            "type": "scatterpolargl"
           }
          ],
          "scatterternary": [
           {
            "marker": {
             "colorbar": {
              "outlinewidth": 0,
              "ticks": ""
             }
            },
            "type": "scatterternary"
           }
          ],
          "surface": [
           {
            "colorbar": {
             "outlinewidth": 0,
             "ticks": ""
            },
            "colorscale": [
             [
              0,
              "#0d0887"
             ],
             [
              0.1111111111111111,
              "#46039f"
             ],
             [
              0.2222222222222222,
              "#7201a8"
             ],
             [
              0.3333333333333333,
              "#9c179e"
             ],
             [
              0.4444444444444444,
              "#bd3786"
             ],
             [
              0.5555555555555556,
              "#d8576b"
             ],
             [
              0.6666666666666666,
              "#ed7953"
             ],
             [
              0.7777777777777778,
              "#fb9f3a"
             ],
             [
              0.8888888888888888,
              "#fdca26"
             ],
             [
              1,
              "#f0f921"
             ]
            ],
            "type": "surface"
           }
          ],
          "table": [
           {
            "cells": {
             "fill": {
              "color": "#EBF0F8"
             },
             "line": {
              "color": "white"
             }
            },
            "header": {
             "fill": {
              "color": "#C8D4E3"
             },
             "line": {
              "color": "white"
             }
            },
            "type": "table"
           }
          ]
         },
         "layout": {
          "annotationdefaults": {
           "arrowcolor": "#2a3f5f",
           "arrowhead": 0,
           "arrowwidth": 1
          },
          "autotypenumbers": "strict",
          "coloraxis": {
           "colorbar": {
            "outlinewidth": 0,
            "ticks": ""
           }
          },
          "colorscale": {
           "diverging": [
            [
             0,
             "#8e0152"
            ],
            [
             0.1,
             "#c51b7d"
            ],
            [
             0.2,
             "#de77ae"
            ],
            [
             0.3,
             "#f1b6da"
            ],
            [
             0.4,
             "#fde0ef"
            ],
            [
             0.5,
             "#f7f7f7"
            ],
            [
             0.6,
             "#e6f5d0"
            ],
            [
             0.7,
             "#b8e186"
            ],
            [
             0.8,
             "#7fbc41"
            ],
            [
             0.9,
             "#4d9221"
            ],
            [
             1,
             "#276419"
            ]
           ],
           "sequential": [
            [
             0,
             "#0d0887"
            ],
            [
             0.1111111111111111,
             "#46039f"
            ],
            [
             0.2222222222222222,
             "#7201a8"
            ],
            [
             0.3333333333333333,
             "#9c179e"
            ],
            [
             0.4444444444444444,
             "#bd3786"
            ],
            [
             0.5555555555555556,
             "#d8576b"
            ],
            [
             0.6666666666666666,
             "#ed7953"
            ],
            [
             0.7777777777777778,
             "#fb9f3a"
            ],
            [
             0.8888888888888888,
             "#fdca26"
            ],
            [
             1,
             "#f0f921"
            ]
           ],
           "sequentialminus": [
            [
             0,
             "#0d0887"
            ],
            [
             0.1111111111111111,
             "#46039f"
            ],
            [
             0.2222222222222222,
             "#7201a8"
            ],
            [
             0.3333333333333333,
             "#9c179e"
            ],
            [
             0.4444444444444444,
             "#bd3786"
            ],
            [
             0.5555555555555556,
             "#d8576b"
            ],
            [
             0.6666666666666666,
             "#ed7953"
            ],
            [
             0.7777777777777778,
             "#fb9f3a"
            ],
            [
             0.8888888888888888,
             "#fdca26"
            ],
            [
             1,
             "#f0f921"
            ]
           ]
          },
          "colorway": [
           "#636efa",
           "#EF553B",
           "#00cc96",
           "#ab63fa",
           "#FFA15A",
           "#19d3f3",
           "#FF6692",
           "#B6E880",
           "#FF97FF",
           "#FECB52"
          ],
          "font": {
           "color": "#2a3f5f"
          },
          "geo": {
           "bgcolor": "white",
           "lakecolor": "white",
           "landcolor": "#E5ECF6",
           "showlakes": true,
           "showland": true,
           "subunitcolor": "white"
          },
          "hoverlabel": {
           "align": "left"
          },
          "hovermode": "closest",
          "mapbox": {
           "style": "light"
          },
          "paper_bgcolor": "white",
          "plot_bgcolor": "#E5ECF6",
          "polar": {
           "angularaxis": {
            "gridcolor": "white",
            "linecolor": "white",
            "ticks": ""
           },
           "bgcolor": "#E5ECF6",
           "radialaxis": {
            "gridcolor": "white",
            "linecolor": "white",
            "ticks": ""
           }
          },
          "scene": {
           "xaxis": {
            "backgroundcolor": "#E5ECF6",
            "gridcolor": "white",
            "gridwidth": 2,
            "linecolor": "white",
            "showbackground": true,
            "ticks": "",
            "zerolinecolor": "white"
           },
           "yaxis": {
            "backgroundcolor": "#E5ECF6",
            "gridcolor": "white",
            "gridwidth": 2,
            "linecolor": "white",
            "showbackground": true,
            "ticks": "",
            "zerolinecolor": "white"
           },
           "zaxis": {
            "backgroundcolor": "#E5ECF6",
            "gridcolor": "white",
            "gridwidth": 2,
            "linecolor": "white",
            "showbackground": true,
            "ticks": "",
            "zerolinecolor": "white"
           }
          },
          "shapedefaults": {
           "line": {
            "color": "#2a3f5f"
           }
          },
          "ternary": {
           "aaxis": {
            "gridcolor": "white",
            "linecolor": "white",
            "ticks": ""
           },
           "baxis": {
            "gridcolor": "white",
            "linecolor": "white",
            "ticks": ""
           },
           "bgcolor": "#E5ECF6",
           "caxis": {
            "gridcolor": "white",
            "linecolor": "white",
            "ticks": ""
           }
          },
          "title": {
           "x": 0.05
          },
          "xaxis": {
           "automargin": true,
           "gridcolor": "white",
           "linecolor": "white",
           "ticks": "",
           "title": {
            "standoff": 15
           },
           "zerolinecolor": "white",
           "zerolinewidth": 2
          },
          "yaxis": {
           "automargin": true,
           "gridcolor": "white",
           "linecolor": "white",
           "ticks": "",
           "title": {
            "standoff": 15
           },
           "zerolinecolor": "white",
           "zerolinewidth": 2
          }
         }
        },
        "title": {
         "text": "はてな(3930)株価ローソクチャートと出来高2024-09-17 ～ 2024-12-26"
        },
        "xaxis": {
         "anchor": "y",
         "autorange": true,
         "domain": [
          0,
          1
         ],
         "matches": "x2",
         "range": [
          -0.5,
          69.5
         ],
         "rangeslider": {
          "visible": false,
          "yaxis": {}
         },
         "showticklabels": false,
         "type": "category"
        },
        "xaxis2": {
         "anchor": "y2",
         "autorange": true,
         "domain": [
          0,
          1
         ],
         "range": [
          -0.5,
          69.5
         ],
         "tickangle": 45,
         "tickvals": [
          "2024-09-17",
          "2024-09-27",
          "2024-10-08",
          "2024-10-18",
          "2024-10-29",
          "2024-11-08",
          "2024-11-19",
          "2024-11-28",
          "2024-12-09",
          "2024-12-18"
         ],
         "title": {
          "text": "取引日"
         },
         "type": "category"
        },
        "yaxis": {
         "anchor": "x",
         "autorange": true,
         "domain": [
          0.2461538461538461,
          0.9999999999999998
         ],
         "range": [
          751,
          1131
         ],
         "title": {
          "text": "株価"
         }
        },
        "yaxis2": {
         "anchor": "x2",
         "autorange": true,
         "domain": [
          0,
          0.22615384615384612
         ],
         "range": [
          0,
          270842.1052631579
         ],
         "title": {
          "text": "出来高"
         },
         "type": "linear"
        }
       }
      },
      "image/png": "[encoded data removed]",
      "text/html": [
       "<div>                            <div id=\"9f67154f-9976-4cf3-966e-d63fedaab7ca\" class=\"plotly-graph-div\" style=\"height:600px; width:100%;\"></div>            <script type=\"text/javascript\">                require([\"plotly\"], function(Plotly) {                    window.PLOTLYENV=window.PLOTLYENV || {};                                    if (document.getElementById(\"9f67154f-9976-4cf3-966e-d63fedaab7ca\")) {                    Plotly.newPlot(                        \"9f67154f-9976-4cf3-966e-d63fedaab7ca\",                        [{\"close\":[824.0,821.0,814.0,787.0,796.0,781.0,786.0,790.0,780.0,793.0,778.0,778.0,786.0,791.0,778.0,779.0,820.0,817.0,825.0,834.0,835.0,865.0,890.0,873.0,897.0,905.0,883.0,890.0,872.0,861.0,850.0,852.0,883.0,870.0,869.0,881.0,877.0,880.0,876.0,873.0,874.0,884.0,875.0,880.0,870.0,907.0,906.0,919.0,926.0,918.0,906.0,885.0,882.0,914.0,920.0,922.0,922.0,918.0,923.0,924.0,1000.0,1040.0,1078.0,1070.0,1049.0,1094.0,1060.0,1028.0,1006.0,1010.0],\"high\":[824.0,821.0,820.0,818.0,796.0,791.0,786.0,795.0,781.0,793.0,781.0,778.0,788.0,793.0,788.0,781.0,837.0,835.0,825.0,836.0,835.0,875.0,890.0,894.0,897.0,907.0,905.0,890.0,884.0,872.0,873.0,854.0,885.0,883.0,877.0,881.0,897.0,880.0,880.0,876.0,882.0,885.0,884.0,880.0,880.0,907.0,925.0,921.0,927.0,929.0,930.0,915.0,925.0,915.0,920.0,922.0,922.0,929.0,924.0,924.0,1074.0,1045.0,1112.0,1100.0,1065.0,1105.0,1094.0,1050.0,1030.0,1024.0],\"low\":[797.0,807.0,812.0,786.0,788.0,781.0,777.0,786.0,770.0,771.0,773.0,778.0,778.0,783.0,778.0,776.0,783.0,802.0,807.0,812.0,821.0,834.0,867.0,872.0,876.0,871.0,852.0,856.0,860.0,861.0,850.0,840.0,845.0,857.0,856.0,869.0,866.0,871.0,876.0,873.0,874.0,874.0,870.0,880.0,870.0,860.0,898.0,900.0,912.0,910.0,906.0,883.0,882.0,896.0,910.0,909.0,910.0,914.0,918.0,914.0,906.0,1013.0,1032.0,1054.0,1030.0,1050.0,1045.0,1015.0,1005.0,999.0],\"name\":\"\\u682a\\u4fa1\",\"open\":[809.0,812.0,820.0,818.0,788.0,791.0,783.0,790.0,771.0,774.0,780.0,778.0,778.0,793.0,786.0,778.0,783.0,814.0,813.0,812.0,821.0,835.0,880.0,894.0,885.0,903.0,905.0,883.0,875.0,864.0,853.0,840.0,850.0,883.0,870.0,869.0,881.0,871.0,877.0,876.0,880.0,874.0,884.0,880.0,880.0,870.0,910.0,915.0,921.0,929.0,930.0,907.0,885.0,896.0,912.0,921.0,919.0,928.0,918.0,921.0,931.0,1029.0,1046.0,1090.0,1054.0,1050.0,1094.0,1050.0,1028.0,1007.0],\"x\":[\"2024-09-17\",\"2024-09-18\",\"2024-09-19\",\"2024-09-20\",\"2024-09-24\",\"2024-09-25\",\"2024-09-26\",\"2024-09-27\",\"2024-09-30\",\"2024-10-01\",\"2024-10-02\",\"2024-10-03\",\"2024-10-04\",\"2024-10-07\",\"2024-10-08\",\"2024-10-09\",\"2024-10-10\",\"2024-10-11\",\"2024-10-15\",\"2024-10-16\",\"2024-10-17\",\"2024-10-18\",\"2024-10-21\",\"2024-10-22\",\"2024-10-23\",\"2024-10-24\",\"2024-10-25\",\"2024-10-28\",\"2024-10-29\",\"2024-10-30\",\"2024-10-31\",\"2024-11-01\",\"2024-11-05\",\"2024-11-06\",\"2024-11-07\",\"2024-11-08\",\"2024-11-11\",\"2024-11-12\",\"2024-11-13\",\"2024-11-14\",\"2024-11-15\",\"2024-11-18\",\"2024-11-19\",\"2024-11-20\",\"2024-11-21\",\"2024-11-22\",\"2024-11-25\",\"2024-11-26\",\"2024-11-27\",\"2024-11-28\",\"2024-11-29\",\"2024-12-02\",\"2024-12-03\",\"2024-12-04\",\"2024-12-05\",\"2024-12-06\",\"2024-12-09\",\"2024-12-10\",\"2024-12-11\",\"2024-12-12\",\"2024-12-13\",\"2024-12-16\",\"2024-12-17\",\"2024-12-18\",\"2024-12-19\",\"2024-12-20\",\"2024-12-23\",\"2024-12-24\",\"2024-12-25\",\"2024-12-26\"],\"type\":\"candlestick\",\"xaxis\":\"x\",\"yaxis\":\"y\"},{\"marker\":{\"color\":\"blue\"},\"name\":\"\\u51fa\\u6765\\u9ad8\",\"x\":[\"2024-09-17\",\"2024-09-18\",\"2024-09-19\",\"2024-09-20\",\"2024-09-24\",\"2024-09-25\",\"2024-09-26\",\"2024-09-27\",\"2024-09-30\",\"2024-10-01\",\"2024-10-02\",\"2024-10-03\",\"2024-10-04\",\"2024-10-07\",\"2024-10-08\",\"2024-10-09\",\"2024-10-10\",\"2024-10-11\",\"2024-10-15\",\"2024-10-16\",\"2024-10-17\",\"2024-10-18\",\"2024-10-21\",\"2024-10-22\",\"2024-10-23\",\"2024-10-24\",\"2024-10-25\",\"2024-10-28\",\"2024-10-29\",\"2024-10-30\",\"2024-10-31\",\"2024-11-01\",\"2024-11-05\",\"2024-11-06\",\"2024-11-07\",\"2024-11-08\",\"2024-11-11\",\"2024-11-12\",\"2024-11-13\",\"2024-11-14\",\"2024-11-15\",\"2024-11-18\",\"2024-11-19\",\"2024-11-20\",\"2024-11-21\",\"2024-11-22\",\"2024-11-25\",\"2024-11-26\",\"2024-11-27\",\"2024-11-28\",\"2024-11-29\",\"2024-12-02\",\"2024-12-03\",\"2024-12-04\",\"2024-12-05\",\"2024-12-06\",\"2024-12-09\",\"2024-12-10\",\"2024-12-11\",\"2024-12-12\",\"2024-12-13\",\"2024-12-16\",\"2024-12-17\",\"2024-12-18\",\"2024-12-19\",\"2024-12-20\",\"2024-12-23\",\"2024-12-24\",\"2024-12-25\",\"2024-12-26\"],\"y\":[74600.0,11800.0,3700.0,28200.0,1400.0,2900.0,1900.0,2900.0,7000.0,2400.0,3000.0,300.0,2700.0,3300.0,4200.0,2000.0,15600.0,9700.0,7200.0,3800.0,700.0,14200.0,7600.0,3400.0,4600.0,9500.0,7700.0,2700.0,2000.0,3000.0,3800.0,1300.0,1700.0,3900.0,1300.0,1700.0,3100.0,1400.0,700.0,600.0,1400.0,1700.0,1100.0,400.0,900.0,4200.0,5700.0,3900.0,4000.0,2700.0,1800.0,3800.0,10700.0,4900.0,1700.0,3200.0,1300.0,4700.0,1700.0,1500.0,257300.0,79200.0,65800.0,19600.0,11600.0,18000.0,15600.0,9700.0,14700.0,15700.0],\"type\":\"bar\",\"xaxis\":\"x2\",\"yaxis\":\"y2\"}],                        {\"template\":{\"data\":{\"histogram2dcontour\":[{\"type\":\"histogram2dcontour\",\"colorbar\":{\"outlinewidth\":0,\"ticks\":\"\"},\"colorscale\":[[0.0,\"#0d0887\"],[0.1111111111111111,\"#46039f\"],[0.2222222222222222,\"#7201a8\"],[0.3333333333333333,\"#9c179e\"],[0.4444444444444444,\"#bd3786\"],[0.5555555555555556,\"#d8576b\"],[0.6666666666666666,\"#ed7953\"],[0.7777777777777778,\"#fb9f3a\"],[0.8888888888888888,\"#fdca26\"],[1.0,\"#f0f921\"]]}],\"choropleth\":[{\"type\":\"choropleth\",\"colorbar\":{\"outlinewidth\":0,\"ticks\":\"\"}}],\"histogram2d\":[{\"type\":\"histogram2d\",\"colorbar\":{\"outlinewidth\":0,\"ticks\":\"\"},\"colorscale\":[[0.0,\"#0d0887\"],[0.1111111111111111,\"#46039f\"],[0.2222222222222222,\"#7201a8\"],[0.3333333333333333,\"#9c179e\"],[0.4444444444444444,\"#bd3786\"],[0.5555555555555556,\"#d8576b\"],[0.6666666666666666,\"#ed7953\"],[0.7777777777777778,\"#fb9f3a\"],[0.8888888888888888,\"#fdca26\"],[1.0,\"#f0f921\"]]}],\"heatmap\":[{\"type\":\"heatmap\",\"colorbar\":{\"outlinewidth\":0,\"ticks\":\"\"},\"colorscale\":[[0.0,\"#0d0887\"],[0.1111111111111111,\"#46039f\"],[0.2222222222222222,\"#7201a8\"],[0.3333333333333333,\"#9c179e\"],[0.4444444444444444,\"#bd3786\"],[0.5555555555555556,\"#d8576b\"],[0.6666666666666666,\"#ed7953\"],[0.7777777777777778,\"#fb9f3a\"],[0.8888888888888888,\"#fdca26\"],[1.0,\"#f0f921\"]]}],\"heatmapgl\":[{\"type\":\"heatmapgl\",\"colorbar\":{\"outlinewidth\":0,\"ticks\":\"\"},\"colorscale\":[[0.0,\"#0d0887\"],[0.1111111111111111,\"#46039f\"],[0.2222222222222222,\"#7201a8\"],[0.3333333333333333,\"#9c179e\"],[0.4444444444444444,\"#bd3786\"],[0.5555555555555556,\"#d8576b\"],[0.6666666666666666,\"#ed7953\"],[0.7777777777777778,\"#fb9f3a\"],[0.8888888888888888,\"#fdca26\"],[1.0,\"#f0f921\"]]}],\"contourcarpet\":[{\"type\":\"contourcarpet\",\"colorbar\":{\"outlinewidth\":0,\"ticks\":\"\"}}],\"contour\":[{\"type\":\"contour\",\"colorbar\":{\"outlinewidth\":0,\"ticks\":\"\"},\"colorscale\":[[0.0,\"#0d0887\"],[0.1111111111111111,\"#46039f\"],[0.2222222222222222,\"#7201a8\"],[0.3333333333333333,\"#9c179e\"],[0.4444444444444444,\"#bd3786\"],[0.5555555555555556,\"#d8576b\"],[0.6666666666666666,\"#ed7953\"],[0.7777777777777778,\"#fb9f3a\"],[0.8888888888888888,\"#fdca26\"],[1.0,\"#f0f921\"]]}],\"surface\":[{\"type\":\"surface\",\"colorbar\":{\"outlinewidth\":0,\"ticks\":\"\"},\"colorscale\":[[0.0,\"#0d0887\"],[0.1111111111111111,\"#46039f\"],[0.2222222222222222,\"#7201a8\"],[0.3333333333333333,\"#9c179e\"],[0.4444444444444444,\"#bd3786\"],[0.5555555555555556,\"#d8576b\"],[0.6666666666666666,\"#ed7953\"],[0.7777777777777778,\"#fb9f3a\"],[0.8888888888888888,\"#fdca26\"],[1.0,\"#f0f921\"]]}],\"mesh3d\":[{\"type\":\"mesh3d\",\"colorbar\":{\"outlinewidth\":0,\"ticks\":\"\"}}],\"scatter\":[{\"fillpattern\":{\"fillmode\":\"overlay\",\"size\":10,\"solidity\":0.2},\"type\":\"scatter\"}],\"parcoords\":[{\"type\":\"parcoords\",\"line\":{\"colorbar\":{\"outlinewidth\":0,\"ticks\":\"\"}}}],\"scatterpolargl\":[{\"type\":\"scatterpolargl\",\"marker\":{\"colorbar\":{\"outlinewidth\":0,\"ticks\":\"\"}}}],\"bar\":[{\"error_x\":{\"color\":\"#2a3f5f\"},\"error_y\":{\"color\":\"#2a3f5f\"},\"marker\":{\"line\":{\"color\":\"#E5ECF6\",\"width\":0.5},\"pattern\":{\"fillmode\":\"overlay\",\"size\":10,\"solidity\":0.2}},\"type\":\"bar\"}],\"scattergeo\":[{\"type\":\"scattergeo\",\"marker\":{\"colorbar\":{\"outlinewidth\":0,\"ticks\":\"\"}}}],\"scatterpolar\":[{\"type\":\"scatterpolar\",\"marker\":{\"colorbar\":{\"outlinewidth\":0,\"ticks\":\"\"}}}],\"histogram\":[{\"marker\":{\"pattern\":{\"fillmode\":\"overlay\",\"size\":10,\"solidity\":0.2}},\"type\":\"histogram\"}],\"scattergl\":[{\"type\":\"scattergl\",\"marker\":{\"colorbar\":{\"outlinewidth\":0,\"ticks\":\"\"}}}],\"scatter3d\":[{\"type\":\"scatter3d\",\"line\":{\"colorbar\":{\"outlinewidth\":0,\"ticks\":\"\"}},\"marker\":{\"colorbar\":{\"outlinewidth\":0,\"ticks\":\"\"}}}],\"scattermapbox\":[{\"type\":\"scattermapbox\",\"marker\":{\"colorbar\":{\"outlinewidth\":0,\"ticks\":\"\"}}}],\"scatterternary\":[{\"type\":\"scatterternary\",\"marker\":{\"colorbar\":{\"outlinewidth\":0,\"ticks\":\"\"}}}],\"scattercarpet\":[{\"type\":\"scattercarpet\",\"marker\":{\"colorbar\":{\"outlinewidth\":0,\"ticks\":\"\"}}}],\"carpet\":[{\"aaxis\":{\"endlinecolor\":\"#2a3f5f\",\"gridcolor\":\"white\",\"linecolor\":\"white\",\"minorgridcolor\":\"white\",\"startlinecolor\":\"#2a3f5f\"},\"baxis\":{\"endlinecolor\":\"#2a3f5f\",\"gridcolor\":\"white\",\"linecolor\":\"white\",\"minorgridcolor\":\"white\",\"startlinecolor\":\"#2a3f5f\"},\"type\":\"carpet\"}],\"table\":[{\"cells\":{\"fill\":{\"color\":\"#EBF0F8\"},\"line\":{\"color\":\"white\"}},\"header\":{\"fill\":{\"color\":\"#C8D4E3\"},\"line\":{\"color\":\"white\"}},\"type\":\"table\"}],\"barpolar\":[{\"marker\":{\"line\":{\"color\":\"#E5ECF6\",\"width\":0.5},\"pattern\":{\"fillmode\":\"overlay\",\"size\":10,\"solidity\":0.2}},\"type\":\"barpolar\"}],\"pie\":[{\"automargin\":true,\"type\":\"pie\"}]},\"layout\":{\"autotypenumbers\":\"strict\",\"colorway\":[\"#636efa\",\"#EF553B\",\"#00cc96\",\"#ab63fa\",\"#FFA15A\",\"#19d3f3\",\"#FF6692\",\"#B6E880\",\"#FF97FF\",\"#FECB52\"],\"font\":{\"color\":\"#2a3f5f\"},\"hovermode\":\"closest\",\"hoverlabel\":{\"align\":\"left\"},\"paper_bgcolor\":\"white\",\"plot_bgcolor\":\"#E5ECF6\",\"polar\":{\"bgcolor\":\"#E5ECF6\",\"angularaxis\":{\"gridcolor\":\"white\",\"linecolor\":\"white\",\"ticks\":\"\"},\"radialaxis\":{\"gridcolor\":\"white\",\"linecolor\":\"white\",\"ticks\":\"\"}},\"ternary\":{\"bgcolor\":\"#E5ECF6\",\"aaxis\":{\"gridcolor\":\"white\",\"linecolor\":\"white\",\"ticks\":\"\"},\"baxis\":{\"gridcolor\":\"white\",\"linecolor\":\"white\",\"ticks\":\"\"},\"caxis\":{\"gridcolor\":\"white\",\"linecolor\":\"white\",\"ticks\":\"\"}},\"coloraxis\":{\"colorbar\":{\"outlinewidth\":0,\"ticks\":\"\"}},\"colorscale\":{\"sequential\":[[0.0,\"#0d0887\"],[0.1111111111111111,\"#46039f\"],[0.2222222222222222,\"#7201a8\"],[0.3333333333333333,\"#9c179e\"],[0.4444444444444444,\"#bd3786\"],[0.5555555555555556,\"#d8576b\"],[0.6666666666666666,\"#ed7953\"],[0.7777777777777778,\"#fb9f3a\"],[0.8888888888888888,\"#fdca26\"],[1.0,\"#f0f921\"]],\"sequentialminus\":[[0.0,\"#0d0887\"],[0.1111111111111111,\"#46039f\"],[0.2222222222222222,\"#7201a8\"],[0.3333333333333333,\"#9c179e\"],[0.4444444444444444,\"#bd3786\"],[0.5555555555555556,\"#d8576b\"],[0.6666666666666666,\"#ed7953\"],[0.7777777777777778,\"#fb9f3a\"],[0.8888888888888888,\"#fdca26\"],[1.0,\"#f0f921\"]],\"diverging\":[[0,\"#8e0152\"],[0.1,\"#c51b7d\"],[0.2,\"#de77ae\"],[0.3,\"#f1b6da\"],[0.4,\"#fde0ef\"],[0.5,\"#f7f7f7\"],[0.6,\"#e6f5d0\"],[0.7,\"#b8e186\"],[0.8,\"#7fbc41\"],[0.9,\"#4d9221\"],[1,\"#276419\"]]},\"xaxis\":{\"gridcolor\":\"white\",\"linecolor\":\"white\",\"ticks\":\"\",\"title\":{\"standoff\":15},\"zerolinecolor\":\"white\",\"automargin\":true,\"zerolinewidth\":2},\"yaxis\":{\"gridcolor\":\"white\",\"linecolor\":\"white\",\"ticks\":\"\",\"title\":{\"standoff\":15},\"zerolinecolor\":\"white\",\"automargin\":true,\"zerolinewidth\":2},\"scene\":{\"xaxis\":{\"backgroundcolor\":\"#E5ECF6\",\"gridcolor\":\"white\",\"linecolor\":\"white\",\"showbackground\":true,\"ticks\":\"\",\"zerolinecolor\":\"white\",\"gridwidth\":2},\"yaxis\":{\"backgroundcolor\":\"#E5ECF6\",\"gridcolor\":\"white\",\"linecolor\":\"white\",\"showbackground\":true,\"ticks\":\"\",\"zerolinecolor\":\"white\",\"gridwidth\":2},\"zaxis\":{\"backgroundcolor\":\"#E5ECF6\",\"gridcolor\":\"white\",\"linecolor\":\"white\",\"showbackground\":true,\"ticks\":\"\",\"zerolinecolor\":\"white\",\"gridwidth\":2}},\"shapedefaults\":{\"line\":{\"color\":\"#2a3f5f\"}},\"annotationdefaults\":{\"arrowcolor\":\"#2a3f5f\",\"arrowhead\":0,\"arrowwidth\":1},\"geo\":{\"bgcolor\":\"white\",\"landcolor\":\"#E5ECF6\",\"subunitcolor\":\"white\",\"showland\":true,\"showlakes\":true,\"lakecolor\":\"white\"},\"title\":{\"x\":0.05},\"mapbox\":{\"style\":\"light\"}}},\"xaxis\":{\"anchor\":\"y\",\"domain\":[0.0,1.0],\"matches\":\"x2\",\"showticklabels\":false,\"rangeslider\":{\"visible\":false},\"type\":\"category\"},\"yaxis\":{\"anchor\":\"x\",\"domain\":[0.2461538461538461,0.9999999999999998],\"title\":{\"text\":\"\\u682a\\u4fa1\"}},\"xaxis2\":{\"anchor\":\"y2\",\"domain\":[0.0,1.0],\"title\":{\"text\":\"\\u53d6\\u5f15\\u65e5\"},\"type\":\"category\",\"tickvals\":[\"2024-09-17\",\"2024-09-27\",\"2024-10-08\",\"2024-10-18\",\"2024-10-29\",\"2024-11-08\",\"2024-11-19\",\"2024-11-28\",\"2024-12-09\",\"2024-12-18\"],\"tickangle\":45},\"yaxis2\":{\"anchor\":\"x2\",\"domain\":[0.0,0.22615384615384612],\"title\":{\"text\":\"\\u51fa\\u6765\\u9ad8\"}},\"title\":{\"text\":\"\\u306f\\u3066\\u306a(3930)\\u682a\\u4fa1\\u30ed\\u30fc\\u30bd\\u30af\\u30c1\\u30e3\\u30fc\\u30c8\\u3068\\u51fa\\u6765\\u9ad82024-09-17 \\uff5e 2024-12-26\"},\"height\":600,\"shapes\":[{\"line\":{\"color\":\"grey\",\"width\":1},\"opacity\":0.5,\"type\":\"line\",\"x0\":\"2024-12-13\",\"x1\":\"2024-12-13\",\"xref\":\"x\",\"y0\":0,\"y1\":1,\"yref\":\"y domain\"},{\"line\":{\"color\":\"grey\",\"width\":1},\"opacity\":0.5,\"type\":\"line\",\"x0\":\"2024-12-13\",\"x1\":\"2024-12-13\",\"xref\":\"x2\",\"y0\":0,\"y1\":1,\"yref\":\"y2 domain\"},{\"line\":{\"color\":\"orange\",\"width\":1},\"opacity\":0.5,\"type\":\"line\",\"x0\":\"2024-12-13\",\"x1\":\"2024-12-13\",\"xref\":\"x\",\"y0\":0,\"y1\":1,\"yref\":\"y domain\"},{\"line\":{\"color\":\"orange\",\"width\":1},\"opacity\":0.5,\"type\":\"line\",\"x0\":\"2024-12-13\",\"x1\":\"2024-12-13\",\"xref\":\"x2\",\"y0\":0,\"y1\":1,\"yref\":\"y2 domain\"}]},                        {\"responsive\": true}                    ).then(function(){\n",
       "                            \n",
       "var gd = document.getElementById('9f67154f-9976-4cf3-966e-d63fedaab7ca');\n",
       "var x = new MutationObserver(function (mutations, observer) {{\n",
       "        var display = window.getComputedStyle(gd).display;\n",
       "        if (!display || display === 'none') {{\n",
       "            console.log([gd, 'removed!']);\n",
       "            Plotly.purge(gd);\n",
       "            observer.disconnect();\n",
       "        }}\n",
       "}});\n",
       "\n",
       "// Listen for the removal of the full notebook cells\n",
       "var notebookContainer = gd.closest('#notebook-container');\n",
       "if (notebookContainer) {{\n",
       "    x.observe(notebookContainer, {childList: true});\n",
       "}}\n",
       "\n",
       "// Listen for the clearing of the current output cell\n",
       "var outputEl = gd.closest('.output');\n",
       "if (outputEl) {{\n",
       "    x.observe(outputEl, {childList: true});\n",
       "}}\n",
       "\n",
       "                        })                };                });            </script>        </div>"
      ]
     },
     "metadata": {},
     "output_type": "display_data"
    }
   ],
   "source": [
    "print(valuation_date)\n",
    "delta = relativedelta(days=90)\n",
    "start_date = marked_day - delta\n",
    "end_date = marked_day + delta\n",
    "PFIG = PricelistFig(code, RevPl.df, MPL.df, start_date, end_date)\n",
    "df = RevPl.df.filter(pl.col(\"code\")==code).filter(pl.col(\"date\")<=marked_day)\n",
    "vline_date = df[\"date\"].to_list()[-1]\n",
    "# screeningで抽出した日にvlineを引く \n",
    "PFIG.add_vline(marked_day)\n",
    "# 決算発表日にvlineを引く\n",
    "PFIG.add_vline_announcement_date()\n",
    "PFIG.fig.show()"
   ]
  },
  {
   "cell_type": "code",
   "execution_count": null,
   "id": "c2a0859d-fee9-436f-abb8-baf8bfdba468",
   "metadata": {},
   "outputs": [],
   "source": []
  }
 ],
 "metadata": {
  "kernelspec": {
   "display_name": "Python 3 (ipykernel)",
   "language": "python",
   "name": "python3"
  },
  "language_info": {
   "codemirror_mode": {
    "name": "ipython",
    "version": 3
   },
   "file_extension": ".py",
   "mimetype": "text/x-python",
   "name": "python",
   "nbconvert_exporter": "python",
   "pygments_lexer": "ipython3",
   "version": "3.12.3"
  }
 },
 "nbformat": 4,
 "nbformat_minor": 5
}
