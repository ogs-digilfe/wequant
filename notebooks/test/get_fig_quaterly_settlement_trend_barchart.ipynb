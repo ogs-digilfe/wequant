{
 "cells": [
  {
   "cell_type": "code",
   "execution_count": 1,
   "id": "17dd1235-36f2-4476-bf29-cb4d75eafb7b",
   "metadata": {},
   "outputs": [],
   "source": [
    "# 分析対象銘柄の証券コードをセット\n",
    "from datetime import date\n",
    "code = 2267\n",
    "valuation_date = date.today()\n",
    "# valuation_date = date(2022, 11, 18)"
   ]
  },
  {
   "cell_type": "code",
   "execution_count": 2,
   "id": "3470493a-1800-4b62-afe9-124478330ce6",
   "metadata": {},
   "outputs": [],
   "source": [
    "# 読み込みファイルパスの設定とimportしたいmoduleパス(pythonパス)の設定\n",
    "from pathlib import Path\n",
    "import os, sys\n",
    "\n",
    "CURRENT_DIR = Path(os.getcwd())\n",
    "PJ_DIR = CURRENT_DIR.parent.parent\n",
    "LIB_DIR = PJ_DIR / \"lib\"\n",
    "\n",
    "sys.path.append(str(LIB_DIR))\n",
    "\n",
    "# モジュールのインポート\n",
    "from lib_dataprocess import get_fig_quaterly_settlement_trend_barchart"
   ]
  },
  {
   "cell_type": "code",
   "execution_count": 3,
   "id": "cf57d4bb-4a9a-44de-9860-026b6109594e",
   "metadata": {},
   "outputs": [
    {
     "data": {
      "text/html": [
       "<iframe\n",
       "    scrolling=\"no\"\n",
       "    width=\"100%\"\n",
       "    height=\"545px\"\n",
       "    src=\"iframe_figures/figure_3.html\"\n",
       "    frameborder=\"0\"\n",
       "    allowfullscreen\n",
       "></iframe>\n"
      ]
     },
     "metadata": {},
     "output_type": "display_data"
    }
   ],
   "source": [
    "# codeで指定した銘柄の四半期決算の業績推移のグラフ描画インスタンスfigを返す\n",
    "# valuation_dateを指定された日で評価できるようにグラフを描画する(過去時点の評価が可能)\n",
    "# def get_fig_quaterly_settlement_trend_barchart(code: int, valuation_date: date=date.today()) -> Figure:\n",
    "fig = get_fig_quaterly_settlement_trend_barchart(code, valuation_date)"
   ]
  },
  {
   "cell_type": "code",
   "execution_count": null,
   "id": "ab07d379-e9e7-4d68-ac55-9ba2703240c1",
   "metadata": {},
   "outputs": [],
   "source": []
  }
 ],
 "metadata": {
  "kernelspec": {
   "display_name": "Python 3 (ipykernel)",
   "language": "python",
   "name": "python3"
  },
  "language_info": {
   "codemirror_mode": {
    "name": "ipython",
    "version": 3
   },
   "file_extension": ".py",
   "mimetype": "text/x-python",
   "name": "python",
   "nbconvert_exporter": "python",
   "pygments_lexer": "ipython3",
   "version": "3.12.3"
  }
 },
 "nbformat": 4,
 "nbformat_minor": 5
}
