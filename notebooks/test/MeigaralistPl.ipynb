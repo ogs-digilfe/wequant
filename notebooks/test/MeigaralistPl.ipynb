{
 "cells": [
  {
   "cell_type": "code",
   "execution_count": 1,
   "id": "36cf0ff6-6d2d-44a4-8113-47f214933db9",
   "metadata": {},
   "outputs": [],
   "source": [
    "# 読み込みファイルパスの設定とimportしたいmoduleパス(pythonパス)の設定\n",
    "from pathlib import Path\n",
    "import os, sys\n",
    "\n",
    "CURRENT_DIR = Path(os.getcwd())\n",
    "PJ_DIR = CURRENT_DIR.parent.parent\n",
    "LIB_DIR = PJ_DIR / \"lib\"\n",
    "DATA_DIR = PJ_DIR / \"data\" \n",
    "\n",
    "sys.path.append(str(LIB_DIR))\n",
    "\n",
    "# notebook内で利用するmoduleのimport\n",
    "from lib_dataprocess import MeigaralistPl, read_data\n",
    "import polars as pl\n",
    "from datetime import date"
   ]
  },
  {
   "cell_type": "code",
   "execution_count": 2,
   "id": "10087952-20c6-476b-86db-ffe1482ce03e",
   "metadata": {},
   "outputs": [
    {
     "data": {
      "text/html": [
       "<div><style>\n",
       ".dataframe > thead > tr,\n",
       ".dataframe > tbody > tr {\n",
       "  text-align: right;\n",
       "  white-space: pre-wrap;\n",
       "}\n",
       "</style>\n",
       "<small>shape: (5_603, 6)</small><table border=\"1\" class=\"dataframe\"><thead><tr><th>code</th><th>name</th><th>category</th><th>register_date</th><th>confirm_date</th><th>update_date</th></tr><tr><td>i64</td><td>str</td><td>str</td><td>date</td><td>date</td><td>date</td></tr></thead><tbody><tr><td>1301</td><td>&quot;極洋&quot;</td><td>&quot;水産・農林業&quot;</td><td>2023-01-23</td><td>2024-11-03</td><td>2023-01-23</td></tr><tr><td>1305</td><td>&quot;iFreeETF TOPIX(年1回決算型)&quot;</td><td>&quot;&quot;</td><td>2023-01-23</td><td>2024-11-03</td><td>2023-04-09</td></tr><tr><td>1306</td><td>&quot;NEXT FUNDS TOPIX連動型上場投信&quot;</td><td>&quot;&quot;</td><td>2023-01-23</td><td>2024-11-03</td><td>2023-01-23</td></tr><tr><td>1308</td><td>&quot;上場インデックスファンドTOPIX&quot;</td><td>&quot;&quot;</td><td>2023-01-23</td><td>2024-11-03</td><td>2023-01-23</td></tr><tr><td>1309</td><td>&quot;NEXT FUNDS ChinaAMC・中国株式・上証50連…</td><td>&quot;&quot;</td><td>2023-01-23</td><td>2024-11-03</td><td>2023-01-23</td></tr><tr><td>&hellip;</td><td>&hellip;</td><td>&hellip;</td><td>&hellip;</td><td>&hellip;</td><td>&hellip;</td></tr><tr><td>9993</td><td>&quot;ヤマザワ&quot;</td><td>&quot;小売業&quot;</td><td>2023-01-23</td><td>2024-11-03</td><td>2023-01-23</td></tr><tr><td>9994</td><td>&quot;やまや&quot;</td><td>&quot;小売業&quot;</td><td>2023-01-23</td><td>2024-11-03</td><td>2023-01-23</td></tr><tr><td>9995</td><td>&quot;グローセル&quot;</td><td>&quot;卸売業&quot;</td><td>2023-01-23</td><td>2024-11-03</td><td>2023-01-23</td></tr><tr><td>9996</td><td>&quot;サトー商会&quot;</td><td>&quot;卸売業&quot;</td><td>2023-01-23</td><td>2024-11-03</td><td>2023-01-23</td></tr><tr><td>9997</td><td>&quot;ベルーナ&quot;</td><td>&quot;小売業&quot;</td><td>2023-01-23</td><td>2024-11-03</td><td>2023-01-23</td></tr></tbody></table></div>"
      ],
      "text/plain": [
       "shape: (5_603, 6)\n",
       "┌──────┬───────────────────────────────┬──────────────┬───────────────┬──────────────┬─────────────┐\n",
       "│ code ┆ name                          ┆ category     ┆ register_date ┆ confirm_date ┆ update_date │\n",
       "│ ---  ┆ ---                           ┆ ---          ┆ ---           ┆ ---          ┆ ---         │\n",
       "│ i64  ┆ str                           ┆ str          ┆ date          ┆ date         ┆ date        │\n",
       "╞══════╪═══════════════════════════════╪══════════════╪═══════════════╪══════════════╪═════════════╡\n",
       "│ 1301 ┆ 極洋                          ┆ 水産・農林業 ┆ 2023-01-23    ┆ 2024-11-03   ┆ 2023-01-23  │\n",
       "│ 1305 ┆ iFreeETF TOPIX(年1回決算型)   ┆              ┆ 2023-01-23    ┆ 2024-11-03   ┆ 2023-04-09  │\n",
       "│ 1306 ┆ NEXT FUNDS                    ┆              ┆ 2023-01-23    ┆ 2024-11-03   ┆ 2023-01-23  │\n",
       "│      ┆ TOPIX連動型上場投信           ┆              ┆               ┆              ┆             │\n",
       "│ 1308 ┆ 上場インデックスファンドTOPIX ┆              ┆ 2023-01-23    ┆ 2024-11-03   ┆ 2023-01-23  │\n",
       "│ 1309 ┆ NEXT FUNDS                    ┆              ┆ 2023-01-23    ┆ 2024-11-03   ┆ 2023-01-23  │\n",
       "│      ┆ ChinaAMC・中国株式・上証50連… ┆              ┆               ┆              ┆             │\n",
       "│ …    ┆ …                             ┆ …            ┆ …             ┆ …            ┆ …           │\n",
       "│ 9993 ┆ ヤマザワ                      ┆ 小売業       ┆ 2023-01-23    ┆ 2024-11-03   ┆ 2023-01-23  │\n",
       "│ 9994 ┆ やまや                        ┆ 小売業       ┆ 2023-01-23    ┆ 2024-11-03   ┆ 2023-01-23  │\n",
       "│ 9995 ┆ グローセル                    ┆ 卸売業       ┆ 2023-01-23    ┆ 2024-11-03   ┆ 2023-01-23  │\n",
       "│ 9996 ┆ サトー商会                    ┆ 卸売業       ┆ 2023-01-23    ┆ 2024-11-03   ┆ 2023-01-23  │\n",
       "│ 9997 ┆ ベルーナ                      ┆ 小売業       ┆ 2023-01-23    ┆ 2024-11-03   ┆ 2023-01-23  │\n",
       "└──────┴───────────────────────────────┴──────────────┴───────────────┴──────────────┴─────────────┘"
      ]
     },
     "execution_count": 2,
     "metadata": {},
     "output_type": "execute_result"
    }
   ],
   "source": [
    "fp = DATA_DIR/\"meigaralist.parquet\"\n",
    "df = read_data(fp)\n",
    "MPL = MeigaralistPl(df)\n",
    "MPL.df"
   ]
  },
  {
   "cell_type": "code",
   "execution_count": 3,
   "id": "b27d272b-a314-4467-9c4d-1b1bf4421a43",
   "metadata": {},
   "outputs": [
    {
     "data": {
      "text/plain": [
       "'極洋'"
      ]
     },
     "execution_count": 3,
     "metadata": {},
     "output_type": "execute_result"
    }
   ],
   "source": [
    "fp = DATA_DIR/\"meigaralist.parquet\"\n",
    "df = read_data(fp)\n",
    "MPL = MeigaralistPl(df)\n",
    "\n",
    "# 証券コードから、会社名を取得して返す\n",
    "# def get_name(self, code: int) -> str:\n",
    "MPL.get_name(1301)"
   ]
  },
  {
   "cell_type": "code",
   "execution_count": null,
   "id": "cb17cb3c-9f2a-47ff-9b34-7dec16364c2f",
   "metadata": {},
   "outputs": [],
   "source": []
  }
 ],
 "metadata": {
  "kernelspec": {
   "display_name": "Python 3 (ipykernel)",
   "language": "python",
   "name": "python3"
  },
  "language_info": {
   "codemirror_mode": {
    "name": "ipython",
    "version": 3
   },
   "file_extension": ".py",
   "mimetype": "text/x-python",
   "name": "python",
   "nbconvert_exporter": "python",
   "pygments_lexer": "ipython3",
   "version": "3.12.3"
  }
 },
 "nbformat": 4,
 "nbformat_minor": 5
}
