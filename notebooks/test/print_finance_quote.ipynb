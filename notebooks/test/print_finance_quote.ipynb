{
 "cells": [
  {
   "cell_type": "code",
   "execution_count": 1,
   "id": "47a499a6-c6e0-4cc3-8e30-1851b70cc0e8",
   "metadata": {},
   "outputs": [],
   "source": [
    "# 読み込みファイルパスの設定とimportしたいmoduleパス(pythonパス)の設定\n",
    "from pathlib import Path\n",
    "import os, sys\n",
    "\n",
    "CURRENT_DIR = Path(os.getcwd())\n",
    "PJ_DIR = CURRENT_DIR.parent.parent\n",
    "LIB_DIR = PJ_DIR / \"lib\"\n",
    "DATA_DIR = PJ_DIR / \"data\" \n",
    "\n",
    "sys.path.append(str(LIB_DIR))\n",
    "\n",
    "# notebook内で利用するmoduleのimport\n",
    "from lib_dataprocess import PricelistPl, FinancequotePl, MeigaralistPl, print_finance_quote, read_data\n",
    "import polars as pl\n",
    "from datetime import date"
   ]
  },
  {
   "cell_type": "code",
   "execution_count": 2,
   "id": "b4099de1-2591-42d5-be7c-e900d5fe0330",
   "metadata": {},
   "outputs": [],
   "source": [
    "fp = DATA_DIR/\"raw_pricelist.parquet\"\n",
    "df = read_data(fp)\n",
    "PPL = PricelistPl(df)\n",
    "\n",
    "fp = DATA_DIR/\"finance_quote.parquet\"\n",
    "df = read_data(fp)\n",
    "FPL = FinancequotePl(df)"
   ]
  },
  {
   "cell_type": "code",
   "execution_count": 3,
   "id": "c8fa559b-1796-4643-9e19-86f1d12ba271",
   "metadata": {},
   "outputs": [
    {
     "name": "stdout",
     "output_type": "stream",
     "text": [
      "日本たばこ産業(2914)の銘柄情報\n",
      "\n",
      "終値: 4236.0円(2024年11月22日)\n",
      "予想配当利回り: 4.58%(2024年11月22日)\n",
      "予想PER: 16.1倍(2024年11月22日)\n",
      "実績PBR: 1.93(2024年11月22日)\n",
      "自己資本比率: 52.6%(2024年11月22日)\n",
      "予想ROE: 12.0%(2024年11月22日)\n",
      "予想ROA: 6.31%(2024年11月22日)\n"
     ]
    }
   ],
   "source": [
    "# 指定したcodeの指定した日における株価と各種ファンダメンタルズデータをまとめて標準出力する\n",
    "# pricelist_dfは、raw_pricelistかreviced_pricelistかケースに応じて使い分ける。\n",
    "# def print_finance_quote(\n",
    "#        pricelist_df: pl.DataFrame,\n",
    "#        finance_quote_df: pl.DataFrame,\n",
    "#        code: int, \n",
    "#        valuation_date: date=date.today()\n",
    "#    ) -> None:\n",
    "code = 2914\n",
    "print_finance_quote(PPL.df, FPL.df, code)"
   ]
  },
  {
   "cell_type": "code",
   "execution_count": null,
   "id": "790a29fd-30b5-468c-af38-0c2ea7b9e075",
   "metadata": {},
   "outputs": [],
   "source": []
  }
 ],
 "metadata": {
  "kernelspec": {
   "display_name": "Python 3 (ipykernel)",
   "language": "python",
   "name": "python3"
  },
  "language_info": {
   "codemirror_mode": {
    "name": "ipython",
    "version": 3
   },
   "file_extension": ".py",
   "mimetype": "text/x-python",
   "name": "python",
   "nbconvert_exporter": "python",
   "pygments_lexer": "ipython3",
   "version": "3.12.3"
  }
 },
 "nbformat": 4,
 "nbformat_minor": 5
}
