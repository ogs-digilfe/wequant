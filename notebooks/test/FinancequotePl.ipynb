{
 "cells": [
  {
   "cell_type": "code",
   "execution_count": 1,
   "id": "6936408d-f85d-403e-baad-96207d1a9106",
   "metadata": {},
   "outputs": [],
   "source": [
    "# 読み込みファイルパスの設定とimportしたいmoduleパス(pythonパス)の設定\n",
    "from pathlib import Path\n",
    "import os, sys\n",
    "\n",
    "CURRENT_DIR = Path(os.getcwd())\n",
    "PJ_DIR = CURRENT_DIR.parent.parent\n",
    "LIB_DIR = PJ_DIR / \"lib\"\n",
    "DATA_DIR = PJ_DIR / \"data\" \n",
    "\n",
    "sys.path.append(str(LIB_DIR))\n",
    "\n",
    "# notebook内で利用するmoduleのimport\n",
    "from lib_dataprocess import FinancequotePl, read_data\n",
    "import polars as pl\n",
    "from datetime import date"
   ]
  },
  {
   "cell_type": "code",
   "execution_count": 2,
   "id": "ef47aabe-57bb-4410-a7b6-87005b2ace12",
   "metadata": {},
   "outputs": [
    {
     "data": {
      "text/html": [
       "<div><style>\n",
       ".dataframe > thead > tr,\n",
       ".dataframe > tbody > tr {\n",
       "  text-align: right;\n",
       "  white-space: pre-wrap;\n",
       "}\n",
       "</style>\n",
       "<small>shape: (345_446, 13)</small><table border=\"1\" class=\"dataframe\"><thead><tr><th>code</th><th>date</th><th>total_shares_num</th><th>expected_dividend_yield</th><th>expected_dividend_per_share</th><th>expected_PER</th><th>actual_PBR</th><th>expected_EPS</th><th>actual_BPS</th><th>actual_CAR</th><th>next_settlement_date</th><th>last_settlement_date</th><th>market_cap</th></tr><tr><td>i64</td><td>date</td><td>f64</td><td>f64</td><td>f64</td><td>f64</td><td>f64</td><td>f64</td><td>f64</td><td>f64</td><td>date</td><td>date</td><td>i64</td></tr></thead><tbody><tr><td>1301</td><td>2024-07-05</td><td>1.20783e7</td><td>2.72</td><td>110.0</td><td>6.86</td><td>0.81</td><td>589.35</td><td>4965.39</td><td>36.7</td><td>2025-03-31</td><td>2025-03-31</td><td>48856</td></tr><tr><td>1301</td><td>2024-07-19</td><td>1.20783e7</td><td>2.69</td><td>110.0</td><td>6.94</td><td>0.82</td><td>589.35</td><td>4965.39</td><td>36.7</td><td>2025-03-31</td><td>2025-03-31</td><td>49400</td></tr><tr><td>1301</td><td>2024-07-22</td><td>1.20783e7</td><td>2.71</td><td>110.0</td><td>6.88</td><td>0.82</td><td>589.35</td><td>4965.39</td><td>36.7</td><td>2025-03-31</td><td>2025-03-31</td><td>48977</td></tr><tr><td>1301</td><td>2024-07-23</td><td>1.20783e7</td><td>2.72</td><td>110.0</td><td>6.87</td><td>0.82</td><td>589.35</td><td>4965.39</td><td>36.7</td><td>2025-03-31</td><td>2025-03-31</td><td>48917</td></tr><tr><td>1301</td><td>2024-07-24</td><td>1.20783e7</td><td>2.76</td><td>110.0</td><td>6.77</td><td>0.8</td><td>589.35</td><td>4965.39</td><td>36.7</td><td>2025-03-31</td><td>2025-03-31</td><td>48192</td></tr><tr><td>&hellip;</td><td>&hellip;</td><td>&hellip;</td><td>&hellip;</td><td>&hellip;</td><td>&hellip;</td><td>&hellip;</td><td>&hellip;</td><td>&hellip;</td><td>&hellip;</td><td>&hellip;</td><td>&hellip;</td><td>&hellip;</td></tr><tr><td>9997</td><td>2024-11-21</td><td>9.72445e7</td><td>3.98</td><td>29.0</td><td>8.8</td><td>0.52</td><td>82.82</td><td>1405.72</td><td>45.0</td><td>2025-03-31</td><td>2025-03-31</td><td>70891</td></tr><tr><td>9997</td><td>2024-11-22</td><td>9.72445e7</td><td>3.95</td><td>29.0</td><td>8.86</td><td>0.52</td><td>82.82</td><td>1405.72</td><td>45.0</td><td>2025-03-31</td><td>2025-03-31</td><td>71377</td></tr><tr><td>9997</td><td>2024-11-25</td><td>9.72445e7</td><td>3.93</td><td>29.0</td><td>8.9</td><td>0.52</td><td>82.82</td><td>1405.72</td><td>45.0</td><td>2025-03-31</td><td>2025-03-31</td><td>71669</td></tr><tr><td>9997</td><td>2024-11-26</td><td>9.72445e7</td><td>3.94</td><td>29.0</td><td>8.89</td><td>0.52</td><td>82.82</td><td>1405.72</td><td>45.0</td><td>2025-03-31</td><td>2025-03-31</td><td>71571</td></tr><tr><td>9997</td><td>2024-11-27</td><td>9.72445e7</td><td>3.96</td><td>29.0</td><td>8.84</td><td>0.52</td><td>82.82</td><td>1405.72</td><td>45.0</td><td>2025-03-31</td><td>2025-03-31</td><td>71182</td></tr></tbody></table></div>"
      ],
      "text/plain": [
       "shape: (345_446, 13)\n",
       "┌──────┬────────────┬────────────┬────────────┬───┬────────────┬───────────┬───────────┬───────────┐\n",
       "│ code ┆ date       ┆ total_shar ┆ expected_d ┆ … ┆ actual_CAR ┆ next_sett ┆ last_sett ┆ market_ca │\n",
       "│ ---  ┆ ---        ┆ es_num     ┆ ividend_yi ┆   ┆ ---        ┆ lement_da ┆ lement_da ┆ p         │\n",
       "│ i64  ┆ date       ┆ ---        ┆ eld        ┆   ┆ f64        ┆ te        ┆ te        ┆ ---       │\n",
       "│      ┆            ┆ f64        ┆ ---        ┆   ┆            ┆ ---       ┆ ---       ┆ i64       │\n",
       "│      ┆            ┆            ┆ f64        ┆   ┆            ┆ date      ┆ date      ┆           │\n",
       "╞══════╪════════════╪════════════╪════════════╪═══╪════════════╪═══════════╪═══════════╪═══════════╡\n",
       "│ 1301 ┆ 2024-07-05 ┆ 1.20783e7  ┆ 2.72       ┆ … ┆ 36.7       ┆ 2025-03-3 ┆ 2025-03-3 ┆ 48856     │\n",
       "│      ┆            ┆            ┆            ┆   ┆            ┆ 1         ┆ 1         ┆           │\n",
       "│ 1301 ┆ 2024-07-19 ┆ 1.20783e7  ┆ 2.69       ┆ … ┆ 36.7       ┆ 2025-03-3 ┆ 2025-03-3 ┆ 49400     │\n",
       "│      ┆            ┆            ┆            ┆   ┆            ┆ 1         ┆ 1         ┆           │\n",
       "│ 1301 ┆ 2024-07-22 ┆ 1.20783e7  ┆ 2.71       ┆ … ┆ 36.7       ┆ 2025-03-3 ┆ 2025-03-3 ┆ 48977     │\n",
       "│      ┆            ┆            ┆            ┆   ┆            ┆ 1         ┆ 1         ┆           │\n",
       "│ 1301 ┆ 2024-07-23 ┆ 1.20783e7  ┆ 2.72       ┆ … ┆ 36.7       ┆ 2025-03-3 ┆ 2025-03-3 ┆ 48917     │\n",
       "│      ┆            ┆            ┆            ┆   ┆            ┆ 1         ┆ 1         ┆           │\n",
       "│ 1301 ┆ 2024-07-24 ┆ 1.20783e7  ┆ 2.76       ┆ … ┆ 36.7       ┆ 2025-03-3 ┆ 2025-03-3 ┆ 48192     │\n",
       "│      ┆            ┆            ┆            ┆   ┆            ┆ 1         ┆ 1         ┆           │\n",
       "│ …    ┆ …          ┆ …          ┆ …          ┆ … ┆ …          ┆ …         ┆ …         ┆ …         │\n",
       "│ 9997 ┆ 2024-11-21 ┆ 9.72445e7  ┆ 3.98       ┆ … ┆ 45.0       ┆ 2025-03-3 ┆ 2025-03-3 ┆ 70891     │\n",
       "│      ┆            ┆            ┆            ┆   ┆            ┆ 1         ┆ 1         ┆           │\n",
       "│ 9997 ┆ 2024-11-22 ┆ 9.72445e7  ┆ 3.95       ┆ … ┆ 45.0       ┆ 2025-03-3 ┆ 2025-03-3 ┆ 71377     │\n",
       "│      ┆            ┆            ┆            ┆   ┆            ┆ 1         ┆ 1         ┆           │\n",
       "│ 9997 ┆ 2024-11-25 ┆ 9.72445e7  ┆ 3.93       ┆ … ┆ 45.0       ┆ 2025-03-3 ┆ 2025-03-3 ┆ 71669     │\n",
       "│      ┆            ┆            ┆            ┆   ┆            ┆ 1         ┆ 1         ┆           │\n",
       "│ 9997 ┆ 2024-11-26 ┆ 9.72445e7  ┆ 3.94       ┆ … ┆ 45.0       ┆ 2025-03-3 ┆ 2025-03-3 ┆ 71571     │\n",
       "│      ┆            ┆            ┆            ┆   ┆            ┆ 1         ┆ 1         ┆           │\n",
       "│ 9997 ┆ 2024-11-27 ┆ 9.72445e7  ┆ 3.96       ┆ … ┆ 45.0       ┆ 2025-03-3 ┆ 2025-03-3 ┆ 71182     │\n",
       "│      ┆            ┆            ┆            ┆   ┆            ┆ 1         ┆ 1         ┆           │\n",
       "└──────┴────────────┴────────────┴────────────┴───┴────────────┴───────────┴───────────┴───────────┘"
      ]
     },
     "execution_count": 2,
     "metadata": {},
     "output_type": "execute_result"
    }
   ],
   "source": [
    "# dev\n",
    "fp = DATA_DIR/\"finance_quote.parquet\"\n",
    "df = read_data(fp)\n",
    "FPL = FinancequotePl(df)\n",
    "\n",
    "# PricelistPlとtotal_shares_numを使って時価総額列(百万円)を追加する\n",
    "# pricelist_dfを引数で渡さない場合はdataファイルを読み込む\n",
    "FPL.with_columns_market_cap()\n",
    "FPL.df"
   ]
  },
  {
   "cell_type": "code",
   "execution_count": 3,
   "id": "fd08b266-8f37-4f96-8e84-9cc0de5f98bd",
   "metadata": {},
   "outputs": [
    {
     "data": {
      "text/html": [
       "<div><style>\n",
       ".dataframe > thead > tr,\n",
       ".dataframe > tbody > tr {\n",
       "  text-align: right;\n",
       "  white-space: pre-wrap;\n",
       "}\n",
       "</style>\n",
       "<small>shape: (345_446, 12)</small><table border=\"1\" class=\"dataframe\"><thead><tr><th>code</th><th>date</th><th>total_shares_num</th><th>expected_dividend_yield</th><th>expected_dividend_per_share</th><th>expected_PER</th><th>actual_PBR</th><th>expected_EPS</th><th>actual_BPS</th><th>actual_CAR</th><th>next_settlement_date</th><th>last_settlement_date</th></tr><tr><td>i64</td><td>date</td><td>f64</td><td>f64</td><td>f64</td><td>f64</td><td>f64</td><td>f64</td><td>f64</td><td>f64</td><td>date</td><td>date</td></tr></thead><tbody><tr><td>1301</td><td>2024-07-05</td><td>1.20783e7</td><td>2.72</td><td>110.0</td><td>6.86</td><td>0.81</td><td>589.35</td><td>4965.39</td><td>36.7</td><td>2025-03-31</td><td>2025-03-31</td></tr><tr><td>1301</td><td>2024-07-19</td><td>1.20783e7</td><td>2.69</td><td>110.0</td><td>6.94</td><td>0.82</td><td>589.35</td><td>4965.39</td><td>36.7</td><td>2025-03-31</td><td>2025-03-31</td></tr><tr><td>1301</td><td>2024-07-22</td><td>1.20783e7</td><td>2.71</td><td>110.0</td><td>6.88</td><td>0.82</td><td>589.35</td><td>4965.39</td><td>36.7</td><td>2025-03-31</td><td>2025-03-31</td></tr><tr><td>1301</td><td>2024-07-23</td><td>1.20783e7</td><td>2.72</td><td>110.0</td><td>6.87</td><td>0.82</td><td>589.35</td><td>4965.39</td><td>36.7</td><td>2025-03-31</td><td>2025-03-31</td></tr><tr><td>1301</td><td>2024-07-24</td><td>1.20783e7</td><td>2.76</td><td>110.0</td><td>6.77</td><td>0.8</td><td>589.35</td><td>4965.39</td><td>36.7</td><td>2025-03-31</td><td>2025-03-31</td></tr><tr><td>&hellip;</td><td>&hellip;</td><td>&hellip;</td><td>&hellip;</td><td>&hellip;</td><td>&hellip;</td><td>&hellip;</td><td>&hellip;</td><td>&hellip;</td><td>&hellip;</td><td>&hellip;</td><td>&hellip;</td></tr><tr><td>9997</td><td>2024-11-21</td><td>9.72445e7</td><td>3.98</td><td>29.0</td><td>8.8</td><td>0.52</td><td>82.82</td><td>1405.72</td><td>45.0</td><td>2025-03-31</td><td>2025-03-31</td></tr><tr><td>9997</td><td>2024-11-22</td><td>9.72445e7</td><td>3.95</td><td>29.0</td><td>8.86</td><td>0.52</td><td>82.82</td><td>1405.72</td><td>45.0</td><td>2025-03-31</td><td>2025-03-31</td></tr><tr><td>9997</td><td>2024-11-25</td><td>9.72445e7</td><td>3.93</td><td>29.0</td><td>8.9</td><td>0.52</td><td>82.82</td><td>1405.72</td><td>45.0</td><td>2025-03-31</td><td>2025-03-31</td></tr><tr><td>9997</td><td>2024-11-26</td><td>9.72445e7</td><td>3.94</td><td>29.0</td><td>8.89</td><td>0.52</td><td>82.82</td><td>1405.72</td><td>45.0</td><td>2025-03-31</td><td>2025-03-31</td></tr><tr><td>9997</td><td>2024-11-27</td><td>9.72445e7</td><td>3.96</td><td>29.0</td><td>8.84</td><td>0.52</td><td>82.82</td><td>1405.72</td><td>45.0</td><td>2025-03-31</td><td>2025-03-31</td></tr></tbody></table></div>"
      ],
      "text/plain": [
       "shape: (345_446, 12)\n",
       "┌──────┬────────────┬────────────┬────────────┬───┬────────────┬───────────┬───────────┬───────────┐\n",
       "│ code ┆ date       ┆ total_shar ┆ expected_d ┆ … ┆ actual_BPS ┆ actual_CA ┆ next_sett ┆ last_sett │\n",
       "│ ---  ┆ ---        ┆ es_num     ┆ ividend_yi ┆   ┆ ---        ┆ R         ┆ lement_da ┆ lement_da │\n",
       "│ i64  ┆ date       ┆ ---        ┆ eld        ┆   ┆ f64        ┆ ---       ┆ te        ┆ te        │\n",
       "│      ┆            ┆ f64        ┆ ---        ┆   ┆            ┆ f64       ┆ ---       ┆ ---       │\n",
       "│      ┆            ┆            ┆ f64        ┆   ┆            ┆           ┆ date      ┆ date      │\n",
       "╞══════╪════════════╪════════════╪════════════╪═══╪════════════╪═══════════╪═══════════╪═══════════╡\n",
       "│ 1301 ┆ 2024-07-05 ┆ 1.20783e7  ┆ 2.72       ┆ … ┆ 4965.39    ┆ 36.7      ┆ 2025-03-3 ┆ 2025-03-3 │\n",
       "│      ┆            ┆            ┆            ┆   ┆            ┆           ┆ 1         ┆ 1         │\n",
       "│ 1301 ┆ 2024-07-19 ┆ 1.20783e7  ┆ 2.69       ┆ … ┆ 4965.39    ┆ 36.7      ┆ 2025-03-3 ┆ 2025-03-3 │\n",
       "│      ┆            ┆            ┆            ┆   ┆            ┆           ┆ 1         ┆ 1         │\n",
       "│ 1301 ┆ 2024-07-22 ┆ 1.20783e7  ┆ 2.71       ┆ … ┆ 4965.39    ┆ 36.7      ┆ 2025-03-3 ┆ 2025-03-3 │\n",
       "│      ┆            ┆            ┆            ┆   ┆            ┆           ┆ 1         ┆ 1         │\n",
       "│ 1301 ┆ 2024-07-23 ┆ 1.20783e7  ┆ 2.72       ┆ … ┆ 4965.39    ┆ 36.7      ┆ 2025-03-3 ┆ 2025-03-3 │\n",
       "│      ┆            ┆            ┆            ┆   ┆            ┆           ┆ 1         ┆ 1         │\n",
       "│ 1301 ┆ 2024-07-24 ┆ 1.20783e7  ┆ 2.76       ┆ … ┆ 4965.39    ┆ 36.7      ┆ 2025-03-3 ┆ 2025-03-3 │\n",
       "│      ┆            ┆            ┆            ┆   ┆            ┆           ┆ 1         ┆ 1         │\n",
       "│ …    ┆ …          ┆ …          ┆ …          ┆ … ┆ …          ┆ …         ┆ …         ┆ …         │\n",
       "│ 9997 ┆ 2024-11-21 ┆ 9.72445e7  ┆ 3.98       ┆ … ┆ 1405.72    ┆ 45.0      ┆ 2025-03-3 ┆ 2025-03-3 │\n",
       "│      ┆            ┆            ┆            ┆   ┆            ┆           ┆ 1         ┆ 1         │\n",
       "│ 9997 ┆ 2024-11-22 ┆ 9.72445e7  ┆ 3.95       ┆ … ┆ 1405.72    ┆ 45.0      ┆ 2025-03-3 ┆ 2025-03-3 │\n",
       "│      ┆            ┆            ┆            ┆   ┆            ┆           ┆ 1         ┆ 1         │\n",
       "│ 9997 ┆ 2024-11-25 ┆ 9.72445e7  ┆ 3.93       ┆ … ┆ 1405.72    ┆ 45.0      ┆ 2025-03-3 ┆ 2025-03-3 │\n",
       "│      ┆            ┆            ┆            ┆   ┆            ┆           ┆ 1         ┆ 1         │\n",
       "│ 9997 ┆ 2024-11-26 ┆ 9.72445e7  ┆ 3.94       ┆ … ┆ 1405.72    ┆ 45.0      ┆ 2025-03-3 ┆ 2025-03-3 │\n",
       "│      ┆            ┆            ┆            ┆   ┆            ┆           ┆ 1         ┆ 1         │\n",
       "│ 9997 ┆ 2024-11-27 ┆ 9.72445e7  ┆ 3.96       ┆ … ┆ 1405.72    ┆ 45.0      ┆ 2025-03-3 ┆ 2025-03-3 │\n",
       "│      ┆            ┆            ┆            ┆   ┆            ┆           ┆ 1         ┆ 1         │\n",
       "└──────┴────────────┴────────────┴────────────┴───┴────────────┴───────────┴───────────┴───────────┘"
      ]
     },
     "execution_count": 3,
     "metadata": {},
     "output_type": "execute_result"
    }
   ],
   "source": [
    "fp = DATA_DIR/\"finance_quote.parquet\"\n",
    "df = read_data(fp)\n",
    "FPL = FinancequotePl(df)\n",
    "FPL.df"
   ]
  },
  {
   "cell_type": "code",
   "execution_count": 4,
   "id": "dc01e604-a756-4c63-a5a9-02d45518b90e",
   "metadata": {},
   "outputs": [],
   "source": [
    "## debug\n",
    "df = FPL.df\n"
   ]
  },
  {
   "cell_type": "code",
   "execution_count": 5,
   "id": "2748107a-7483-4670-b9a6-a26a02afd1a7",
   "metadata": {},
   "outputs": [
    {
     "data": {
      "text/html": [
       "<div><style>\n",
       ".dataframe > thead > tr,\n",
       ".dataframe > tbody > tr {\n",
       "  text-align: right;\n",
       "  white-space: pre-wrap;\n",
       "}\n",
       "</style>\n",
       "<small>shape: (1, 12)</small><table border=\"1\" class=\"dataframe\"><thead><tr><th>code</th><th>date</th><th>total_shares_num</th><th>expected_dividend_yield</th><th>expected_dividend_per_share</th><th>expected_PER</th><th>actual_PBR</th><th>expected_EPS</th><th>actual_BPS</th><th>actual_CAR</th><th>next_settlement_date</th><th>last_settlement_date</th></tr><tr><td>i64</td><td>date</td><td>f64</td><td>f64</td><td>f64</td><td>f64</td><td>f64</td><td>f64</td><td>f64</td><td>f64</td><td>date</td><td>date</td></tr></thead><tbody><tr><td>1301</td><td>2024-11-29</td><td>1.20783e7</td><td>2.81</td><td>110.0</td><td>6.63</td><td>0.76</td><td>589.35</td><td>5164.42</td><td>36.7</td><td>2025-03-31</td><td>2025-03-31</td></tr></tbody></table></div>"
      ],
      "text/plain": [
       "shape: (1, 12)\n",
       "┌──────┬────────────┬────────────┬────────────┬───┬────────────┬───────────┬───────────┬───────────┐\n",
       "│ code ┆ date       ┆ total_shar ┆ expected_d ┆ … ┆ actual_BPS ┆ actual_CA ┆ next_sett ┆ last_sett │\n",
       "│ ---  ┆ ---        ┆ es_num     ┆ ividend_yi ┆   ┆ ---        ┆ R         ┆ lement_da ┆ lement_da │\n",
       "│ i64  ┆ date       ┆ ---        ┆ eld        ┆   ┆ f64        ┆ ---       ┆ te        ┆ te        │\n",
       "│      ┆            ┆ f64        ┆ ---        ┆   ┆            ┆ f64       ┆ ---       ┆ ---       │\n",
       "│      ┆            ┆            ┆ f64        ┆   ┆            ┆           ┆ date      ┆ date      │\n",
       "╞══════╪════════════╪════════════╪════════════╪═══╪════════════╪═══════════╪═══════════╪═══════════╡\n",
       "│ 1301 ┆ 2024-11-29 ┆ 1.20783e7  ┆ 2.81       ┆ … ┆ 5164.42    ┆ 36.7      ┆ 2025-03-3 ┆ 2025-03-3 │\n",
       "│      ┆            ┆            ┆            ┆   ┆            ┆           ┆ 1         ┆ 1         │\n",
       "└──────┴────────────┴────────────┴────────────┴───┴────────────┴───────────┴───────────┴───────────┘"
      ]
     },
     "execution_count": 5,
     "metadata": {},
     "output_type": "execute_result"
    }
   ],
   "source": [
    "fp = DATA_DIR/\"finance_quote.parquet\"\n",
    "df = read_data(fp)\n",
    "FPL = FinancequotePl(df)\n",
    "# 指定したcodeの指定した日における各種ファンダメンタルズのレコードをpl.DataFrameで返す\n",
    "# def get_finance_quote(self, code: int, valuation_date: date=date.today()) -> pl.DataFrame:\n",
    "code = 1301\n",
    "df = FPL.get_finance_quote(code)\n",
    "df\n"
   ]
  },
  {
   "cell_type": "code",
   "execution_count": null,
   "id": "737171fd-9d48-4d29-a59c-d7488dad0362",
   "metadata": {},
   "outputs": [],
   "source": []
  }
 ],
 "metadata": {
  "kernelspec": {
   "display_name": "Python 3 (ipykernel)",
   "language": "python",
   "name": "python3"
  },
  "language_info": {
   "codemirror_mode": {
    "name": "ipython",
    "version": 3
   },
   "file_extension": ".py",
   "mimetype": "text/x-python",
   "name": "python",
   "nbconvert_exporter": "python",
   "pygments_lexer": "ipython3",
   "version": "3.12.3"
  }
 },
 "nbformat": 4,
 "nbformat_minor": 5
}
