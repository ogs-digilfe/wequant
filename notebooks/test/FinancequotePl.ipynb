{
 "cells": [
  {
   "cell_type": "code",
   "execution_count": 1,
   "id": "6936408d-f85d-403e-baad-96207d1a9106",
   "metadata": {},
   "outputs": [],
   "source": [
    "# 読み込みファイルパスの設定とimportしたいmoduleパス(pythonパス)の設定\n",
    "from pathlib import Path\n",
    "import os, sys\n",
    "\n",
    "CURRENT_DIR = Path(os.getcwd())\n",
    "PJ_DIR = CURRENT_DIR.parent.parent\n",
    "LIB_DIR = PJ_DIR / \"lib\"\n",
    "DATA_DIR = PJ_DIR / \"data\" \n",
    "\n",
    "sys.path.append(str(LIB_DIR))\n",
    "\n",
    "# notebook内で利用するmoduleのimport\n",
    "from lib_dataprocess import FinancequotePl, read_data\n",
    "import polars as pl\n",
    "from datetime import date"
   ]
  },
  {
   "cell_type": "code",
   "execution_count": 5,
   "id": "fd08b266-8f37-4f96-8e84-9cc0de5f98bd",
   "metadata": {},
   "outputs": [
    {
     "data": {
      "text/html": [
       "<div><style>\n",
       ".dataframe > thead > tr,\n",
       ".dataframe > tbody > tr {\n",
       "  text-align: right;\n",
       "  white-space: pre-wrap;\n",
       "}\n",
       "</style>\n",
       "<small>shape: (425_847, 12)</small><table border=\"1\" class=\"dataframe\"><thead><tr><th>code</th><th>date</th><th>total_shares_num</th><th>expected_dividend_yield</th><th>expected_dividend_per_share</th><th>expected_PER</th><th>actual_PBR</th><th>expected_EPS</th><th>actual_BPS</th><th>actual_CAR</th><th>next_settlement_date</th><th>last_settlement_date</th></tr><tr><td>i64</td><td>date</td><td>f64</td><td>f64</td><td>f64</td><td>f64</td><td>f64</td><td>f64</td><td>f64</td><td>f64</td><td>date</td><td>date</td></tr></thead><tbody><tr><td>1301</td><td>2024-07-05</td><td>1.20783e7</td><td>2.72</td><td>110.0</td><td>6.86</td><td>0.81</td><td>589.35</td><td>4965.39</td><td>36.7</td><td>2025-03-31</td><td>2025-03-31</td></tr><tr><td>1301</td><td>2024-07-19</td><td>1.20783e7</td><td>2.69</td><td>110.0</td><td>6.94</td><td>0.82</td><td>589.35</td><td>4965.39</td><td>36.7</td><td>2025-03-31</td><td>2025-03-31</td></tr><tr><td>1301</td><td>2024-07-22</td><td>1.20783e7</td><td>2.71</td><td>110.0</td><td>6.88</td><td>0.82</td><td>589.35</td><td>4965.39</td><td>36.7</td><td>2025-03-31</td><td>2025-03-31</td></tr><tr><td>1301</td><td>2024-07-23</td><td>1.20783e7</td><td>2.72</td><td>110.0</td><td>6.87</td><td>0.82</td><td>589.35</td><td>4965.39</td><td>36.7</td><td>2025-03-31</td><td>2025-03-31</td></tr><tr><td>1301</td><td>2024-07-24</td><td>1.20783e7</td><td>2.76</td><td>110.0</td><td>6.77</td><td>0.8</td><td>589.35</td><td>4965.39</td><td>36.7</td><td>2025-03-31</td><td>2025-03-31</td></tr><tr><td>&hellip;</td><td>&hellip;</td><td>&hellip;</td><td>&hellip;</td><td>&hellip;</td><td>&hellip;</td><td>&hellip;</td><td>&hellip;</td><td>&hellip;</td><td>&hellip;</td><td>&hellip;</td><td>&hellip;</td></tr><tr><td>9997</td><td>2024-12-24</td><td>9.72445e7</td><td>3.74</td><td>29.0</td><td>9.36</td><td>0.55</td><td>82.82</td><td>1405.72</td><td>45.0</td><td>2025-03-31</td><td>2025-03-31</td></tr><tr><td>9997</td><td>2024-12-25</td><td>9.72445e7</td><td>3.75</td><td>29.0</td><td>9.33</td><td>0.55</td><td>82.82</td><td>1405.72</td><td>45.0</td><td>2025-03-31</td><td>2025-03-31</td></tr><tr><td>9997</td><td>2024-12-26</td><td>9.72445e7</td><td>3.73</td><td>29.0</td><td>9.39</td><td>0.55</td><td>82.82</td><td>1405.72</td><td>45.0</td><td>2025-03-31</td><td>2025-03-31</td></tr><tr><td>9997</td><td>2024-12-27</td><td>9.72445e7</td><td>3.68</td><td>29.0</td><td>9.51</td><td>0.56</td><td>82.82</td><td>1405.72</td><td>45.0</td><td>2025-03-31</td><td>2025-03-31</td></tr><tr><td>9997</td><td>2024-12-30</td><td>9.72445e7</td><td>3.73</td><td>29.0</td><td>9.39</td><td>0.55</td><td>82.82</td><td>1405.72</td><td>45.0</td><td>2025-03-31</td><td>2025-03-31</td></tr></tbody></table></div>"
      ],
      "text/plain": [
       "shape: (425_847, 12)\n",
       "┌──────┬────────────┬────────────┬────────────┬───┬────────────┬───────────┬───────────┬───────────┐\n",
       "│ code ┆ date       ┆ total_shar ┆ expected_d ┆ … ┆ actual_BPS ┆ actual_CA ┆ next_sett ┆ last_sett │\n",
       "│ ---  ┆ ---        ┆ es_num     ┆ ividend_yi ┆   ┆ ---        ┆ R         ┆ lement_da ┆ lement_da │\n",
       "│ i64  ┆ date       ┆ ---        ┆ eld        ┆   ┆ f64        ┆ ---       ┆ te        ┆ te        │\n",
       "│      ┆            ┆ f64        ┆ ---        ┆   ┆            ┆ f64       ┆ ---       ┆ ---       │\n",
       "│      ┆            ┆            ┆ f64        ┆   ┆            ┆           ┆ date      ┆ date      │\n",
       "╞══════╪════════════╪════════════╪════════════╪═══╪════════════╪═══════════╪═══════════╪═══════════╡\n",
       "│ 1301 ┆ 2024-07-05 ┆ 1.20783e7  ┆ 2.72       ┆ … ┆ 4965.39    ┆ 36.7      ┆ 2025-03-3 ┆ 2025-03-3 │\n",
       "│      ┆            ┆            ┆            ┆   ┆            ┆           ┆ 1         ┆ 1         │\n",
       "│ 1301 ┆ 2024-07-19 ┆ 1.20783e7  ┆ 2.69       ┆ … ┆ 4965.39    ┆ 36.7      ┆ 2025-03-3 ┆ 2025-03-3 │\n",
       "│      ┆            ┆            ┆            ┆   ┆            ┆           ┆ 1         ┆ 1         │\n",
       "│ 1301 ┆ 2024-07-22 ┆ 1.20783e7  ┆ 2.71       ┆ … ┆ 4965.39    ┆ 36.7      ┆ 2025-03-3 ┆ 2025-03-3 │\n",
       "│      ┆            ┆            ┆            ┆   ┆            ┆           ┆ 1         ┆ 1         │\n",
       "│ 1301 ┆ 2024-07-23 ┆ 1.20783e7  ┆ 2.72       ┆ … ┆ 4965.39    ┆ 36.7      ┆ 2025-03-3 ┆ 2025-03-3 │\n",
       "│      ┆            ┆            ┆            ┆   ┆            ┆           ┆ 1         ┆ 1         │\n",
       "│ 1301 ┆ 2024-07-24 ┆ 1.20783e7  ┆ 2.76       ┆ … ┆ 4965.39    ┆ 36.7      ┆ 2025-03-3 ┆ 2025-03-3 │\n",
       "│      ┆            ┆            ┆            ┆   ┆            ┆           ┆ 1         ┆ 1         │\n",
       "│ …    ┆ …          ┆ …          ┆ …          ┆ … ┆ …          ┆ …         ┆ …         ┆ …         │\n",
       "│ 9997 ┆ 2024-12-24 ┆ 9.72445e7  ┆ 3.74       ┆ … ┆ 1405.72    ┆ 45.0      ┆ 2025-03-3 ┆ 2025-03-3 │\n",
       "│      ┆            ┆            ┆            ┆   ┆            ┆           ┆ 1         ┆ 1         │\n",
       "│ 9997 ┆ 2024-12-25 ┆ 9.72445e7  ┆ 3.75       ┆ … ┆ 1405.72    ┆ 45.0      ┆ 2025-03-3 ┆ 2025-03-3 │\n",
       "│      ┆            ┆            ┆            ┆   ┆            ┆           ┆ 1         ┆ 1         │\n",
       "│ 9997 ┆ 2024-12-26 ┆ 9.72445e7  ┆ 3.73       ┆ … ┆ 1405.72    ┆ 45.0      ┆ 2025-03-3 ┆ 2025-03-3 │\n",
       "│      ┆            ┆            ┆            ┆   ┆            ┆           ┆ 1         ┆ 1         │\n",
       "│ 9997 ┆ 2024-12-27 ┆ 9.72445e7  ┆ 3.68       ┆ … ┆ 1405.72    ┆ 45.0      ┆ 2025-03-3 ┆ 2025-03-3 │\n",
       "│      ┆            ┆            ┆            ┆   ┆            ┆           ┆ 1         ┆ 1         │\n",
       "│ 9997 ┆ 2024-12-30 ┆ 9.72445e7  ┆ 3.73       ┆ … ┆ 1405.72    ┆ 45.0      ┆ 2025-03-3 ┆ 2025-03-3 │\n",
       "│      ┆            ┆            ┆            ┆   ┆            ┆           ┆ 1         ┆ 1         │\n",
       "└──────┴────────────┴────────────┴────────────┴───┴────────────┴───────────┴───────────┴───────────┘"
      ]
     },
     "execution_count": 5,
     "metadata": {},
     "output_type": "execute_result"
    }
   ],
   "source": [
    "FPL = FinancequotePl()\n",
    "FPL.df"
   ]
  },
  {
   "cell_type": "code",
   "execution_count": 6,
   "id": "2748107a-7483-4670-b9a6-a26a02afd1a7",
   "metadata": {},
   "outputs": [
    {
     "data": {
      "text/html": [
       "<div><style>\n",
       ".dataframe > thead > tr,\n",
       ".dataframe > tbody > tr {\n",
       "  text-align: right;\n",
       "  white-space: pre-wrap;\n",
       "}\n",
       "</style>\n",
       "<small>shape: (1, 12)</small><table border=\"1\" class=\"dataframe\"><thead><tr><th>code</th><th>date</th><th>total_shares_num</th><th>expected_dividend_yield</th><th>expected_dividend_per_share</th><th>expected_PER</th><th>actual_PBR</th><th>expected_EPS</th><th>actual_BPS</th><th>actual_CAR</th><th>next_settlement_date</th><th>last_settlement_date</th></tr><tr><td>i64</td><td>date</td><td>f64</td><td>f64</td><td>f64</td><td>f64</td><td>f64</td><td>f64</td><td>f64</td><td>f64</td><td>date</td><td>date</td></tr></thead><tbody><tr><td>1301</td><td>2024-12-30</td><td>1.20783e7</td><td>2.67</td><td>110.0</td><td>6.99</td><td>0.8</td><td>589.35</td><td>5164.42</td><td>36.7</td><td>2025-03-31</td><td>2025-03-31</td></tr></tbody></table></div>"
      ],
      "text/plain": [
       "shape: (1, 12)\n",
       "┌──────┬────────────┬────────────┬────────────┬───┬────────────┬───────────┬───────────┬───────────┐\n",
       "│ code ┆ date       ┆ total_shar ┆ expected_d ┆ … ┆ actual_BPS ┆ actual_CA ┆ next_sett ┆ last_sett │\n",
       "│ ---  ┆ ---        ┆ es_num     ┆ ividend_yi ┆   ┆ ---        ┆ R         ┆ lement_da ┆ lement_da │\n",
       "│ i64  ┆ date       ┆ ---        ┆ eld        ┆   ┆ f64        ┆ ---       ┆ te        ┆ te        │\n",
       "│      ┆            ┆ f64        ┆ ---        ┆   ┆            ┆ f64       ┆ ---       ┆ ---       │\n",
       "│      ┆            ┆            ┆ f64        ┆   ┆            ┆           ┆ date      ┆ date      │\n",
       "╞══════╪════════════╪════════════╪════════════╪═══╪════════════╪═══════════╪═══════════╪═══════════╡\n",
       "│ 1301 ┆ 2024-12-30 ┆ 1.20783e7  ┆ 2.67       ┆ … ┆ 5164.42    ┆ 36.7      ┆ 2025-03-3 ┆ 2025-03-3 │\n",
       "│      ┆            ┆            ┆            ┆   ┆            ┆           ┆ 1         ┆ 1         │\n",
       "└──────┴────────────┴────────────┴────────────┴───┴────────────┴───────────┴───────────┴───────────┘"
      ]
     },
     "execution_count": 6,
     "metadata": {},
     "output_type": "execute_result"
    }
   ],
   "source": [
    "fp = DATA_DIR/\"finance_quote.parquet\"\n",
    "df = read_data(fp)\n",
    "FPL = FinancequotePl(df)\n",
    "# 指定したcodeの指定した日における各種ファンダメンタルズのレコードをpl.DataFrameで返す\n",
    "# def get_finance_quote(self, code: int, valuation_date: date=date.today()) -> pl.DataFrame:\n",
    "code = 1301\n",
    "df = FPL.get_finance_quote(code)\n",
    "df\n"
   ]
  },
  {
   "cell_type": "code",
   "execution_count": 3,
   "id": "15e5d209-7930-4947-abfc-b8585b2b3338",
   "metadata": {},
   "outputs": [
    {
     "data": {
      "text/html": [
       "<div><style>\n",
       ".dataframe > thead > tr,\n",
       ".dataframe > tbody > tr {\n",
       "  text-align: right;\n",
       "  white-space: pre-wrap;\n",
       "}\n",
       "</style>\n",
       "<small>shape: (3_853, 12)</small><table border=\"1\" class=\"dataframe\"><thead><tr><th>code</th><th>date</th><th>total_shares_num</th><th>expected_dividend_yield</th><th>expected_dividend_per_share</th><th>expected_PER</th><th>actual_PBR</th><th>expected_EPS</th><th>actual_BPS</th><th>actual_CAR</th><th>next_settlement_date</th><th>last_settlement_date</th></tr><tr><td>i64</td><td>date</td><td>f64</td><td>f64</td><td>f64</td><td>f64</td><td>f64</td><td>f64</td><td>f64</td><td>f64</td><td>date</td><td>date</td></tr></thead><tbody><tr><td>1301</td><td>2024-12-30</td><td>1.20783e7</td><td>2.67</td><td>110.0</td><td>6.99</td><td>0.8</td><td>589.35</td><td>5164.42</td><td>36.7</td><td>2025-03-31</td><td>2025-03-31</td></tr><tr><td>1332</td><td>2024-12-30</td><td>3.1243e8</td><td>2.67</td><td>24.0</td><td>11.65</td><td>1.03</td><td>77.21</td><td>870.12</td><td>41.1</td><td>2025-03-31</td><td>2025-03-31</td></tr><tr><td>1333</td><td>2024-12-30</td><td>5.05788e7</td><td>3.29</td><td>100.0</td><td>6.95</td><td>0.69</td><td>436.79</td><td>4431.22</td><td>30.8</td><td>2025-03-31</td><td>2025-03-31</td></tr><tr><td>1375</td><td>2024-12-30</td><td>3.99107e7</td><td>1.11</td><td>12.0</td><td>27.82</td><td>3.66</td><td>38.86</td><td>295.36</td><td>30.1</td><td>2025-03-31</td><td>2025-03-31</td></tr><tr><td>1376</td><td>2024-12-30</td><td>1.17726e7</td><td>2.35</td><td>33.0</td><td>13.21</td><td>0.65</td><td>106.42</td><td>2162.79</td><td>50.2</td><td>2025-05-31</td><td>2025-05-31</td></tr><tr><td>&hellip;</td><td>&hellip;</td><td>&hellip;</td><td>&hellip;</td><td>&hellip;</td><td>&hellip;</td><td>&hellip;</td><td>&hellip;</td><td>&hellip;</td><td>&hellip;</td><td>&hellip;</td><td>&hellip;</td></tr><tr><td>9991</td><td>2024-12-30</td><td>3.37957e7</td><td>4.71</td><td>48.0</td><td>8.4</td><td>0.54</td><td>121.42</td><td>1902.94</td><td>58.8</td><td>2025-03-31</td><td>2025-03-31</td></tr><tr><td>9993</td><td>2024-12-30</td><td>1.09608e7</td><td>2.27</td><td>27.0</td><td>null</td><td>0.46</td><td>157.73</td><td>2563.51</td><td>49.6</td><td>2025-02-28</td><td>2025-02-28</td></tr><tr><td>9994</td><td>2024-12-30</td><td>1.08479e7</td><td>1.88</td><td>54.0</td><td>8.44</td><td>0.93</td><td>341.28</td><td>3082.24</td><td>51.6</td><td>2025-03-31</td><td>2025-03-31</td></tr><tr><td>9996</td><td>2024-12-30</td><td>9.15264e6</td><td>2.41</td><td>45.0</td><td>12.53</td><td>0.61</td><td>149.27</td><td>3087.41</td><td>68.3</td><td>2025-03-31</td><td>2025-03-31</td></tr><tr><td>9997</td><td>2024-12-30</td><td>9.72445e7</td><td>3.73</td><td>29.0</td><td>9.39</td><td>0.55</td><td>82.82</td><td>1405.72</td><td>45.0</td><td>2025-03-31</td><td>2025-03-31</td></tr></tbody></table></div>"
      ],
      "text/plain": [
       "shape: (3_853, 12)\n",
       "┌──────┬────────────┬────────────┬────────────┬───┬────────────┬───────────┬───────────┬───────────┐\n",
       "│ code ┆ date       ┆ total_shar ┆ expected_d ┆ … ┆ actual_BPS ┆ actual_CA ┆ next_sett ┆ last_sett │\n",
       "│ ---  ┆ ---        ┆ es_num     ┆ ividend_yi ┆   ┆ ---        ┆ R         ┆ lement_da ┆ lement_da │\n",
       "│ i64  ┆ date       ┆ ---        ┆ eld        ┆   ┆ f64        ┆ ---       ┆ te        ┆ te        │\n",
       "│      ┆            ┆ f64        ┆ ---        ┆   ┆            ┆ f64       ┆ ---       ┆ ---       │\n",
       "│      ┆            ┆            ┆ f64        ┆   ┆            ┆           ┆ date      ┆ date      │\n",
       "╞══════╪════════════╪════════════╪════════════╪═══╪════════════╪═══════════╪═══════════╪═══════════╡\n",
       "│ 1301 ┆ 2024-12-30 ┆ 1.20783e7  ┆ 2.67       ┆ … ┆ 5164.42    ┆ 36.7      ┆ 2025-03-3 ┆ 2025-03-3 │\n",
       "│      ┆            ┆            ┆            ┆   ┆            ┆           ┆ 1         ┆ 1         │\n",
       "│ 1332 ┆ 2024-12-30 ┆ 3.1243e8   ┆ 2.67       ┆ … ┆ 870.12     ┆ 41.1      ┆ 2025-03-3 ┆ 2025-03-3 │\n",
       "│      ┆            ┆            ┆            ┆   ┆            ┆           ┆ 1         ┆ 1         │\n",
       "│ 1333 ┆ 2024-12-30 ┆ 5.05788e7  ┆ 3.29       ┆ … ┆ 4431.22    ┆ 30.8      ┆ 2025-03-3 ┆ 2025-03-3 │\n",
       "│      ┆            ┆            ┆            ┆   ┆            ┆           ┆ 1         ┆ 1         │\n",
       "│ 1375 ┆ 2024-12-30 ┆ 3.99107e7  ┆ 1.11       ┆ … ┆ 295.36     ┆ 30.1      ┆ 2025-03-3 ┆ 2025-03-3 │\n",
       "│      ┆            ┆            ┆            ┆   ┆            ┆           ┆ 1         ┆ 1         │\n",
       "│ 1376 ┆ 2024-12-30 ┆ 1.17726e7  ┆ 2.35       ┆ … ┆ 2162.79    ┆ 50.2      ┆ 2025-05-3 ┆ 2025-05-3 │\n",
       "│      ┆            ┆            ┆            ┆   ┆            ┆           ┆ 1         ┆ 1         │\n",
       "│ …    ┆ …          ┆ …          ┆ …          ┆ … ┆ …          ┆ …         ┆ …         ┆ …         │\n",
       "│ 9991 ┆ 2024-12-30 ┆ 3.37957e7  ┆ 4.71       ┆ … ┆ 1902.94    ┆ 58.8      ┆ 2025-03-3 ┆ 2025-03-3 │\n",
       "│      ┆            ┆            ┆            ┆   ┆            ┆           ┆ 1         ┆ 1         │\n",
       "│ 9993 ┆ 2024-12-30 ┆ 1.09608e7  ┆ 2.27       ┆ … ┆ 2563.51    ┆ 49.6      ┆ 2025-02-2 ┆ 2025-02-2 │\n",
       "│      ┆            ┆            ┆            ┆   ┆            ┆           ┆ 8         ┆ 8         │\n",
       "│ 9994 ┆ 2024-12-30 ┆ 1.08479e7  ┆ 1.88       ┆ … ┆ 3082.24    ┆ 51.6      ┆ 2025-03-3 ┆ 2025-03-3 │\n",
       "│      ┆            ┆            ┆            ┆   ┆            ┆           ┆ 1         ┆ 1         │\n",
       "│ 9996 ┆ 2024-12-30 ┆ 9.15264e6  ┆ 2.41       ┆ … ┆ 3087.41    ┆ 68.3      ┆ 2025-03-3 ┆ 2025-03-3 │\n",
       "│      ┆            ┆            ┆            ┆   ┆            ┆           ┆ 1         ┆ 1         │\n",
       "│ 9997 ┆ 2024-12-30 ┆ 9.72445e7  ┆ 3.73       ┆ … ┆ 1405.72    ┆ 45.0      ┆ 2025-03-3 ┆ 2025-03-3 │\n",
       "│      ┆            ┆            ┆            ┆   ┆            ┆           ┆ 1         ┆ 1         │\n",
       "└──────┴────────────┴────────────┴────────────┴───┴────────────┴───────────┴───────────┴───────────┘"
      ]
     },
     "execution_count": 3,
     "metadata": {},
     "output_type": "execute_result"
    }
   ],
   "source": [
    "FPL = FinancequotePl()\n",
    "\n",
    "# 指定した日における最新の各種ファンダメンタルズのレコードをpl.DataFrameで返す\n",
    "#def get_finance_quotes(self, valuation_date: date=date.today()) -> pl.DataFrame:\n",
    "\n",
    "# para\n",
    "valuation_date = date.today()\n",
    "df = FPL.get_finance_quotes(valuation_date)\n",
    "df"
   ]
  },
  {
   "cell_type": "code",
   "execution_count": 4,
   "id": "23c861b9-01ca-4b5c-ba7a-5c4b4296be2b",
   "metadata": {},
   "outputs": [
    {
     "name": "stdout",
     "output_type": "stream",
     "text": [
      "極洋(1301)の銘柄情報\n",
      "\n",
      "終値: 4120.0円(2024年12月30日)\n",
      "予想配当利回り: 2.67%(2024年12月30日)\n",
      "予想PER: 6.99倍(2024年12月30日)\n",
      "実績PBR: 0.8倍(2024年12月30日)\n",
      "自己資本比率: 36.7%(2024年12月30日)\n",
      "予想ROE: 11.41%(2024年12月30日)\n",
      "予想ROA: 4.19%(2024年12月30日)\n",
      "時価総額: 497.6億円(2024年12月30日)\n"
     ]
    }
   ],
   "source": [
    "FPL = FinancequotePl()\n",
    "\n",
    "# 指定したcodeの指定した日における株価と各種ファンダメンタルズデータをまとめて標準出力する\n",
    "# pricelist_dfは、raw_pricelistかreviced_pricelistかケースに応じて使い分ける。\n",
    "#def print_finance_info(self, \n",
    "#        code: int,\n",
    "#        pricelist_type: Literal[\n",
    "#            \"raw\",\n",
    "#            \"raw_pricelist\", \n",
    "#            \"reviced\",\n",
    "#            \"reviced_pricelist\"\n",
    "#        ]=\"raw\",\n",
    "#        valuation_date: date = date.today()\n",
    "#    ) -> None:\n",
    "\n",
    "# para\n",
    "code = 1301\n",
    "valuation_date = date.today()\n",
    "#valuation_date = date(2021, 12, 1)\n",
    "\n",
    "# メソッドの実行\n",
    "FPL.print_finance_info(code, valuation_date=valuation_date)"
   ]
  },
  {
   "cell_type": "code",
   "execution_count": 7,
   "id": "737171fd-9d48-4d29-a59c-d7488dad0362",
   "metadata": {},
   "outputs": [
    {
     "data": {
      "text/html": [
       "<div><style>\n",
       ".dataframe > thead > tr,\n",
       ".dataframe > tbody > tr {\n",
       "  text-align: right;\n",
       "  white-space: pre-wrap;\n",
       "}\n",
       "</style>\n",
       "<small>shape: (425_847, 13)</small><table border=\"1\" class=\"dataframe\"><thead><tr><th>code</th><th>date</th><th>total_shares_num</th><th>expected_dividend_yield</th><th>expected_dividend_per_share</th><th>expected_PER</th><th>actual_PBR</th><th>expected_EPS</th><th>actual_BPS</th><th>actual_CAR</th><th>next_settlement_date</th><th>last_settlement_date</th><th>market_cap</th></tr><tr><td>i64</td><td>date</td><td>f64</td><td>f64</td><td>f64</td><td>f64</td><td>f64</td><td>f64</td><td>f64</td><td>f64</td><td>date</td><td>date</td><td>i64</td></tr></thead><tbody><tr><td>1301</td><td>2024-07-05</td><td>1.20783e7</td><td>2.72</td><td>110.0</td><td>6.86</td><td>0.81</td><td>589.35</td><td>4965.39</td><td>36.7</td><td>2025-03-31</td><td>2025-03-31</td><td>48856</td></tr><tr><td>1301</td><td>2024-07-19</td><td>1.20783e7</td><td>2.69</td><td>110.0</td><td>6.94</td><td>0.82</td><td>589.35</td><td>4965.39</td><td>36.7</td><td>2025-03-31</td><td>2025-03-31</td><td>49400</td></tr><tr><td>1301</td><td>2024-07-22</td><td>1.20783e7</td><td>2.71</td><td>110.0</td><td>6.88</td><td>0.82</td><td>589.35</td><td>4965.39</td><td>36.7</td><td>2025-03-31</td><td>2025-03-31</td><td>48977</td></tr><tr><td>1301</td><td>2024-07-23</td><td>1.20783e7</td><td>2.72</td><td>110.0</td><td>6.87</td><td>0.82</td><td>589.35</td><td>4965.39</td><td>36.7</td><td>2025-03-31</td><td>2025-03-31</td><td>48917</td></tr><tr><td>1301</td><td>2024-07-24</td><td>1.20783e7</td><td>2.76</td><td>110.0</td><td>6.77</td><td>0.8</td><td>589.35</td><td>4965.39</td><td>36.7</td><td>2025-03-31</td><td>2025-03-31</td><td>48192</td></tr><tr><td>&hellip;</td><td>&hellip;</td><td>&hellip;</td><td>&hellip;</td><td>&hellip;</td><td>&hellip;</td><td>&hellip;</td><td>&hellip;</td><td>&hellip;</td><td>&hellip;</td><td>&hellip;</td><td>&hellip;</td><td>&hellip;</td></tr><tr><td>9997</td><td>2024-12-24</td><td>9.72445e7</td><td>3.74</td><td>29.0</td><td>9.36</td><td>0.55</td><td>82.82</td><td>1405.72</td><td>45.0</td><td>2025-03-31</td><td>2025-03-31</td><td>75364</td></tr><tr><td>9997</td><td>2024-12-25</td><td>9.72445e7</td><td>3.75</td><td>29.0</td><td>9.33</td><td>0.55</td><td>82.82</td><td>1405.72</td><td>45.0</td><td>2025-03-31</td><td>2025-03-31</td><td>75169</td></tr><tr><td>9997</td><td>2024-12-26</td><td>9.72445e7</td><td>3.73</td><td>29.0</td><td>9.39</td><td>0.55</td><td>82.82</td><td>1405.72</td><td>45.0</td><td>2025-03-31</td><td>2025-03-31</td><td>75656</td></tr><tr><td>9997</td><td>2024-12-27</td><td>9.72445e7</td><td>3.68</td><td>29.0</td><td>9.51</td><td>0.56</td><td>82.82</td><td>1405.72</td><td>45.0</td><td>2025-03-31</td><td>2025-03-31</td><td>76628</td></tr><tr><td>9997</td><td>2024-12-30</td><td>9.72445e7</td><td>3.73</td><td>29.0</td><td>9.39</td><td>0.55</td><td>82.82</td><td>1405.72</td><td>45.0</td><td>2025-03-31</td><td>2025-03-31</td><td>75656</td></tr></tbody></table></div>"
      ],
      "text/plain": [
       "shape: (425_847, 13)\n",
       "┌──────┬────────────┬────────────┬────────────┬───┬────────────┬───────────┬───────────┬───────────┐\n",
       "│ code ┆ date       ┆ total_shar ┆ expected_d ┆ … ┆ actual_CAR ┆ next_sett ┆ last_sett ┆ market_ca │\n",
       "│ ---  ┆ ---        ┆ es_num     ┆ ividend_yi ┆   ┆ ---        ┆ lement_da ┆ lement_da ┆ p         │\n",
       "│ i64  ┆ date       ┆ ---        ┆ eld        ┆   ┆ f64        ┆ te        ┆ te        ┆ ---       │\n",
       "│      ┆            ┆ f64        ┆ ---        ┆   ┆            ┆ ---       ┆ ---       ┆ i64       │\n",
       "│      ┆            ┆            ┆ f64        ┆   ┆            ┆ date      ┆ date      ┆           │\n",
       "╞══════╪════════════╪════════════╪════════════╪═══╪════════════╪═══════════╪═══════════╪═══════════╡\n",
       "│ 1301 ┆ 2024-07-05 ┆ 1.20783e7  ┆ 2.72       ┆ … ┆ 36.7       ┆ 2025-03-3 ┆ 2025-03-3 ┆ 48856     │\n",
       "│      ┆            ┆            ┆            ┆   ┆            ┆ 1         ┆ 1         ┆           │\n",
       "│ 1301 ┆ 2024-07-19 ┆ 1.20783e7  ┆ 2.69       ┆ … ┆ 36.7       ┆ 2025-03-3 ┆ 2025-03-3 ┆ 49400     │\n",
       "│      ┆            ┆            ┆            ┆   ┆            ┆ 1         ┆ 1         ┆           │\n",
       "│ 1301 ┆ 2024-07-22 ┆ 1.20783e7  ┆ 2.71       ┆ … ┆ 36.7       ┆ 2025-03-3 ┆ 2025-03-3 ┆ 48977     │\n",
       "│      ┆            ┆            ┆            ┆   ┆            ┆ 1         ┆ 1         ┆           │\n",
       "│ 1301 ┆ 2024-07-23 ┆ 1.20783e7  ┆ 2.72       ┆ … ┆ 36.7       ┆ 2025-03-3 ┆ 2025-03-3 ┆ 48917     │\n",
       "│      ┆            ┆            ┆            ┆   ┆            ┆ 1         ┆ 1         ┆           │\n",
       "│ 1301 ┆ 2024-07-24 ┆ 1.20783e7  ┆ 2.76       ┆ … ┆ 36.7       ┆ 2025-03-3 ┆ 2025-03-3 ┆ 48192     │\n",
       "│      ┆            ┆            ┆            ┆   ┆            ┆ 1         ┆ 1         ┆           │\n",
       "│ …    ┆ …          ┆ …          ┆ …          ┆ … ┆ …          ┆ …         ┆ …         ┆ …         │\n",
       "│ 9997 ┆ 2024-12-24 ┆ 9.72445e7  ┆ 3.74       ┆ … ┆ 45.0       ┆ 2025-03-3 ┆ 2025-03-3 ┆ 75364     │\n",
       "│      ┆            ┆            ┆            ┆   ┆            ┆ 1         ┆ 1         ┆           │\n",
       "│ 9997 ┆ 2024-12-25 ┆ 9.72445e7  ┆ 3.75       ┆ … ┆ 45.0       ┆ 2025-03-3 ┆ 2025-03-3 ┆ 75169     │\n",
       "│      ┆            ┆            ┆            ┆   ┆            ┆ 1         ┆ 1         ┆           │\n",
       "│ 9997 ┆ 2024-12-26 ┆ 9.72445e7  ┆ 3.73       ┆ … ┆ 45.0       ┆ 2025-03-3 ┆ 2025-03-3 ┆ 75656     │\n",
       "│      ┆            ┆            ┆            ┆   ┆            ┆ 1         ┆ 1         ┆           │\n",
       "│ 9997 ┆ 2024-12-27 ┆ 9.72445e7  ┆ 3.68       ┆ … ┆ 45.0       ┆ 2025-03-3 ┆ 2025-03-3 ┆ 76628     │\n",
       "│      ┆            ┆            ┆            ┆   ┆            ┆ 1         ┆ 1         ┆           │\n",
       "│ 9997 ┆ 2024-12-30 ┆ 9.72445e7  ┆ 3.73       ┆ … ┆ 45.0       ┆ 2025-03-3 ┆ 2025-03-3 ┆ 75656     │\n",
       "│      ┆            ┆            ┆            ┆   ┆            ┆ 1         ┆ 1         ┆           │\n",
       "└──────┴────────────┴────────────┴────────────┴───┴────────────┴───────────┴───────────┴───────────┘"
      ]
     },
     "execution_count": 7,
     "metadata": {},
     "output_type": "execute_result"
    }
   ],
   "source": [
    "# dev\n",
    "#fp = DATA_DIR/\"finance_quote.parquet\"\n",
    "#df = read_data(fp)\n",
    "FPL = FinancequotePl()\n",
    "\n",
    "# PricelistPlとtotal_shares_numを使って時価総額列(百万円)を追加する\n",
    "# pricelist_dfを引数で渡さない場合はdataファイルを読み込む\n",
    "FPL.with_columns_market_cap()\n",
    "FPL.df"
   ]
  },
  {
   "cell_type": "code",
   "execution_count": 3,
   "id": "78d6cc19-f023-40a8-bb00-82b213453876",
   "metadata": {},
   "outputs": [
    {
     "data": {
      "text/html": [
       "<div><style>\n",
       ".dataframe > thead > tr,\n",
       ".dataframe > tbody > tr {\n",
       "  text-align: right;\n",
       "  white-space: pre-wrap;\n",
       "}\n",
       "</style>\n",
       "<small>shape: (425_847, 13)</small><table border=\"1\" class=\"dataframe\"><thead><tr><th>code</th><th>date</th><th>total_shares_num</th><th>expected_dividend_yield</th><th>expected_dividend_per_share</th><th>expected_PER</th><th>actual_PBR</th><th>expected_EPS</th><th>actual_BPS</th><th>actual_CAR</th><th>next_settlement_date</th><th>last_settlement_date</th><th>ROA</th></tr><tr><td>i64</td><td>date</td><td>f64</td><td>f64</td><td>f64</td><td>f64</td><td>f64</td><td>f64</td><td>f64</td><td>f64</td><td>date</td><td>date</td><td>f64</td></tr></thead><tbody><tr><td>1301</td><td>2024-07-05</td><td>1.20783e7</td><td>2.72</td><td>110.0</td><td>6.86</td><td>0.81</td><td>589.35</td><td>4965.39</td><td>36.7</td><td>2025-03-31</td><td>2025-03-31</td><td>4.36</td></tr><tr><td>1301</td><td>2024-07-19</td><td>1.20783e7</td><td>2.69</td><td>110.0</td><td>6.94</td><td>0.82</td><td>589.35</td><td>4965.39</td><td>36.7</td><td>2025-03-31</td><td>2025-03-31</td><td>4.36</td></tr><tr><td>1301</td><td>2024-07-22</td><td>1.20783e7</td><td>2.71</td><td>110.0</td><td>6.88</td><td>0.82</td><td>589.35</td><td>4965.39</td><td>36.7</td><td>2025-03-31</td><td>2025-03-31</td><td>4.36</td></tr><tr><td>1301</td><td>2024-07-23</td><td>1.20783e7</td><td>2.72</td><td>110.0</td><td>6.87</td><td>0.82</td><td>589.35</td><td>4965.39</td><td>36.7</td><td>2025-03-31</td><td>2025-03-31</td><td>4.36</td></tr><tr><td>1301</td><td>2024-07-24</td><td>1.20783e7</td><td>2.76</td><td>110.0</td><td>6.77</td><td>0.8</td><td>589.35</td><td>4965.39</td><td>36.7</td><td>2025-03-31</td><td>2025-03-31</td><td>4.36</td></tr><tr><td>&hellip;</td><td>&hellip;</td><td>&hellip;</td><td>&hellip;</td><td>&hellip;</td><td>&hellip;</td><td>&hellip;</td><td>&hellip;</td><td>&hellip;</td><td>&hellip;</td><td>&hellip;</td><td>&hellip;</td><td>&hellip;</td></tr><tr><td>9997</td><td>2024-12-24</td><td>9.72445e7</td><td>3.74</td><td>29.0</td><td>9.36</td><td>0.55</td><td>82.82</td><td>1405.72</td><td>45.0</td><td>2025-03-31</td><td>2025-03-31</td><td>2.65</td></tr><tr><td>9997</td><td>2024-12-25</td><td>9.72445e7</td><td>3.75</td><td>29.0</td><td>9.33</td><td>0.55</td><td>82.82</td><td>1405.72</td><td>45.0</td><td>2025-03-31</td><td>2025-03-31</td><td>2.65</td></tr><tr><td>9997</td><td>2024-12-26</td><td>9.72445e7</td><td>3.73</td><td>29.0</td><td>9.39</td><td>0.55</td><td>82.82</td><td>1405.72</td><td>45.0</td><td>2025-03-31</td><td>2025-03-31</td><td>2.65</td></tr><tr><td>9997</td><td>2024-12-27</td><td>9.72445e7</td><td>3.68</td><td>29.0</td><td>9.51</td><td>0.56</td><td>82.82</td><td>1405.72</td><td>45.0</td><td>2025-03-31</td><td>2025-03-31</td><td>2.65</td></tr><tr><td>9997</td><td>2024-12-30</td><td>9.72445e7</td><td>3.73</td><td>29.0</td><td>9.39</td><td>0.55</td><td>82.82</td><td>1405.72</td><td>45.0</td><td>2025-03-31</td><td>2025-03-31</td><td>2.65</td></tr></tbody></table></div>"
      ],
      "text/plain": [
       "shape: (425_847, 13)\n",
       "┌──────┬────────────┬─────────────┬─────────────┬───┬────────────┬─────────────┬────────────┬──────┐\n",
       "│ code ┆ date       ┆ total_share ┆ expected_di ┆ … ┆ actual_CAR ┆ next_settle ┆ last_settl ┆ ROA  │\n",
       "│ ---  ┆ ---        ┆ s_num       ┆ vidend_yiel ┆   ┆ ---        ┆ ment_date   ┆ ement_date ┆ ---  │\n",
       "│ i64  ┆ date       ┆ ---         ┆ d           ┆   ┆ f64        ┆ ---         ┆ ---        ┆ f64  │\n",
       "│      ┆            ┆ f64         ┆ ---         ┆   ┆            ┆ date        ┆ date       ┆      │\n",
       "│      ┆            ┆             ┆ f64         ┆   ┆            ┆             ┆            ┆      │\n",
       "╞══════╪════════════╪═════════════╪═════════════╪═══╪════════════╪═════════════╪════════════╪══════╡\n",
       "│ 1301 ┆ 2024-07-05 ┆ 1.20783e7   ┆ 2.72        ┆ … ┆ 36.7       ┆ 2025-03-31  ┆ 2025-03-31 ┆ 4.36 │\n",
       "│ 1301 ┆ 2024-07-19 ┆ 1.20783e7   ┆ 2.69        ┆ … ┆ 36.7       ┆ 2025-03-31  ┆ 2025-03-31 ┆ 4.36 │\n",
       "│ 1301 ┆ 2024-07-22 ┆ 1.20783e7   ┆ 2.71        ┆ … ┆ 36.7       ┆ 2025-03-31  ┆ 2025-03-31 ┆ 4.36 │\n",
       "│ 1301 ┆ 2024-07-23 ┆ 1.20783e7   ┆ 2.72        ┆ … ┆ 36.7       ┆ 2025-03-31  ┆ 2025-03-31 ┆ 4.36 │\n",
       "│ 1301 ┆ 2024-07-24 ┆ 1.20783e7   ┆ 2.76        ┆ … ┆ 36.7       ┆ 2025-03-31  ┆ 2025-03-31 ┆ 4.36 │\n",
       "│ …    ┆ …          ┆ …           ┆ …           ┆ … ┆ …          ┆ …           ┆ …          ┆ …    │\n",
       "│ 9997 ┆ 2024-12-24 ┆ 9.72445e7   ┆ 3.74        ┆ … ┆ 45.0       ┆ 2025-03-31  ┆ 2025-03-31 ┆ 2.65 │\n",
       "│ 9997 ┆ 2024-12-25 ┆ 9.72445e7   ┆ 3.75        ┆ … ┆ 45.0       ┆ 2025-03-31  ┆ 2025-03-31 ┆ 2.65 │\n",
       "│ 9997 ┆ 2024-12-26 ┆ 9.72445e7   ┆ 3.73        ┆ … ┆ 45.0       ┆ 2025-03-31  ┆ 2025-03-31 ┆ 2.65 │\n",
       "│ 9997 ┆ 2024-12-27 ┆ 9.72445e7   ┆ 3.68        ┆ … ┆ 45.0       ┆ 2025-03-31  ┆ 2025-03-31 ┆ 2.65 │\n",
       "│ 9997 ┆ 2024-12-30 ┆ 9.72445e7   ┆ 3.73        ┆ … ┆ 45.0       ┆ 2025-03-31  ┆ 2025-03-31 ┆ 2.65 │\n",
       "└──────┴────────────┴─────────────┴─────────────┴───┴────────────┴─────────────┴────────────┴──────┘"
      ]
     },
     "execution_count": 3,
     "metadata": {},
     "output_type": "execute_result"
    }
   ],
   "source": [
    "FPL = FinancequotePl()\n",
    "\n",
    "# (actul_CAR*expected_EPS)/(100*actual_BPS)=ROA列を追加\n",
    "#def with_columns_ROA(self) -> None:\n",
    "\n",
    "FPL.with_columns_ROA()\n",
    "FPL.df"
   ]
  },
  {
   "cell_type": "code",
   "execution_count": 3,
   "id": "736ad1d6-8b48-4b81-a6f3-ca269733c029",
   "metadata": {},
   "outputs": [
    {
     "data": {
      "text/html": [
       "<div><style>\n",
       ".dataframe > thead > tr,\n",
       ".dataframe > tbody > tr {\n",
       "  text-align: right;\n",
       "  white-space: pre-wrap;\n",
       "}\n",
       "</style>\n",
       "<small>shape: (425_847, 13)</small><table border=\"1\" class=\"dataframe\"><thead><tr><th>code</th><th>date</th><th>total_shares_num</th><th>expected_dividend_yield</th><th>expected_dividend_per_share</th><th>expected_PER</th><th>actual_PBR</th><th>expected_EPS</th><th>actual_BPS</th><th>actual_CAR</th><th>next_settlement_date</th><th>last_settlement_date</th><th>ROE</th></tr><tr><td>i64</td><td>date</td><td>f64</td><td>f64</td><td>f64</td><td>f64</td><td>f64</td><td>f64</td><td>f64</td><td>f64</td><td>date</td><td>date</td><td>f64</td></tr></thead><tbody><tr><td>1301</td><td>2024-07-05</td><td>1.20783e7</td><td>2.72</td><td>110.0</td><td>6.86</td><td>0.81</td><td>589.35</td><td>4965.39</td><td>36.7</td><td>2025-03-31</td><td>2025-03-31</td><td>11.87</td></tr><tr><td>1301</td><td>2024-07-19</td><td>1.20783e7</td><td>2.69</td><td>110.0</td><td>6.94</td><td>0.82</td><td>589.35</td><td>4965.39</td><td>36.7</td><td>2025-03-31</td><td>2025-03-31</td><td>11.87</td></tr><tr><td>1301</td><td>2024-07-22</td><td>1.20783e7</td><td>2.71</td><td>110.0</td><td>6.88</td><td>0.82</td><td>589.35</td><td>4965.39</td><td>36.7</td><td>2025-03-31</td><td>2025-03-31</td><td>11.87</td></tr><tr><td>1301</td><td>2024-07-23</td><td>1.20783e7</td><td>2.72</td><td>110.0</td><td>6.87</td><td>0.82</td><td>589.35</td><td>4965.39</td><td>36.7</td><td>2025-03-31</td><td>2025-03-31</td><td>11.87</td></tr><tr><td>1301</td><td>2024-07-24</td><td>1.20783e7</td><td>2.76</td><td>110.0</td><td>6.77</td><td>0.8</td><td>589.35</td><td>4965.39</td><td>36.7</td><td>2025-03-31</td><td>2025-03-31</td><td>11.87</td></tr><tr><td>&hellip;</td><td>&hellip;</td><td>&hellip;</td><td>&hellip;</td><td>&hellip;</td><td>&hellip;</td><td>&hellip;</td><td>&hellip;</td><td>&hellip;</td><td>&hellip;</td><td>&hellip;</td><td>&hellip;</td><td>&hellip;</td></tr><tr><td>9997</td><td>2024-12-24</td><td>9.72445e7</td><td>3.74</td><td>29.0</td><td>9.36</td><td>0.55</td><td>82.82</td><td>1405.72</td><td>45.0</td><td>2025-03-31</td><td>2025-03-31</td><td>5.89</td></tr><tr><td>9997</td><td>2024-12-25</td><td>9.72445e7</td><td>3.75</td><td>29.0</td><td>9.33</td><td>0.55</td><td>82.82</td><td>1405.72</td><td>45.0</td><td>2025-03-31</td><td>2025-03-31</td><td>5.89</td></tr><tr><td>9997</td><td>2024-12-26</td><td>9.72445e7</td><td>3.73</td><td>29.0</td><td>9.39</td><td>0.55</td><td>82.82</td><td>1405.72</td><td>45.0</td><td>2025-03-31</td><td>2025-03-31</td><td>5.89</td></tr><tr><td>9997</td><td>2024-12-27</td><td>9.72445e7</td><td>3.68</td><td>29.0</td><td>9.51</td><td>0.56</td><td>82.82</td><td>1405.72</td><td>45.0</td><td>2025-03-31</td><td>2025-03-31</td><td>5.89</td></tr><tr><td>9997</td><td>2024-12-30</td><td>9.72445e7</td><td>3.73</td><td>29.0</td><td>9.39</td><td>0.55</td><td>82.82</td><td>1405.72</td><td>45.0</td><td>2025-03-31</td><td>2025-03-31</td><td>5.89</td></tr></tbody></table></div>"
      ],
      "text/plain": [
       "shape: (425_847, 13)\n",
       "┌──────┬────────────┬─────────────┬─────────────┬───┬────────────┬────────────┬────────────┬───────┐\n",
       "│ code ┆ date       ┆ total_share ┆ expected_di ┆ … ┆ actual_CAR ┆ next_settl ┆ last_settl ┆ ROE   │\n",
       "│ ---  ┆ ---        ┆ s_num       ┆ vidend_yiel ┆   ┆ ---        ┆ ement_date ┆ ement_date ┆ ---   │\n",
       "│ i64  ┆ date       ┆ ---         ┆ d           ┆   ┆ f64        ┆ ---        ┆ ---        ┆ f64   │\n",
       "│      ┆            ┆ f64         ┆ ---         ┆   ┆            ┆ date       ┆ date       ┆       │\n",
       "│      ┆            ┆             ┆ f64         ┆   ┆            ┆            ┆            ┆       │\n",
       "╞══════╪════════════╪═════════════╪═════════════╪═══╪════════════╪════════════╪════════════╪═══════╡\n",
       "│ 1301 ┆ 2024-07-05 ┆ 1.20783e7   ┆ 2.72        ┆ … ┆ 36.7       ┆ 2025-03-31 ┆ 2025-03-31 ┆ 11.87 │\n",
       "│ 1301 ┆ 2024-07-19 ┆ 1.20783e7   ┆ 2.69        ┆ … ┆ 36.7       ┆ 2025-03-31 ┆ 2025-03-31 ┆ 11.87 │\n",
       "│ 1301 ┆ 2024-07-22 ┆ 1.20783e7   ┆ 2.71        ┆ … ┆ 36.7       ┆ 2025-03-31 ┆ 2025-03-31 ┆ 11.87 │\n",
       "│ 1301 ┆ 2024-07-23 ┆ 1.20783e7   ┆ 2.72        ┆ … ┆ 36.7       ┆ 2025-03-31 ┆ 2025-03-31 ┆ 11.87 │\n",
       "│ 1301 ┆ 2024-07-24 ┆ 1.20783e7   ┆ 2.76        ┆ … ┆ 36.7       ┆ 2025-03-31 ┆ 2025-03-31 ┆ 11.87 │\n",
       "│ …    ┆ …          ┆ …           ┆ …           ┆ … ┆ …          ┆ …          ┆ …          ┆ …     │\n",
       "│ 9997 ┆ 2024-12-24 ┆ 9.72445e7   ┆ 3.74        ┆ … ┆ 45.0       ┆ 2025-03-31 ┆ 2025-03-31 ┆ 5.89  │\n",
       "│ 9997 ┆ 2024-12-25 ┆ 9.72445e7   ┆ 3.75        ┆ … ┆ 45.0       ┆ 2025-03-31 ┆ 2025-03-31 ┆ 5.89  │\n",
       "│ 9997 ┆ 2024-12-26 ┆ 9.72445e7   ┆ 3.73        ┆ … ┆ 45.0       ┆ 2025-03-31 ┆ 2025-03-31 ┆ 5.89  │\n",
       "│ 9997 ┆ 2024-12-27 ┆ 9.72445e7   ┆ 3.68        ┆ … ┆ 45.0       ┆ 2025-03-31 ┆ 2025-03-31 ┆ 5.89  │\n",
       "│ 9997 ┆ 2024-12-30 ┆ 9.72445e7   ┆ 3.73        ┆ … ┆ 45.0       ┆ 2025-03-31 ┆ 2025-03-31 ┆ 5.89  │\n",
       "└──────┴────────────┴─────────────┴─────────────┴───┴────────────┴────────────┴────────────┴───────┘"
      ]
     },
     "execution_count": 3,
     "metadata": {},
     "output_type": "execute_result"
    }
   ],
   "source": [
    "FPL = FinancequotePl()\n",
    "\n",
    "# expected_EPS/actual_BPS=ROE列を追加\n",
    "#def with_columns_ROE(self) -> None:\n",
    "FPL.with_columns_ROE()\n",
    "FPL.df"
   ]
  },
  {
   "cell_type": "code",
   "execution_count": null,
   "id": "d349cd0d-af1b-42c8-9ad8-aadcab23fed6",
   "metadata": {},
   "outputs": [],
   "source": []
  }
 ],
 "metadata": {
  "kernelspec": {
   "display_name": "Python 3 (ipykernel)",
   "language": "python",
   "name": "python3"
  },
  "language_info": {
   "codemirror_mode": {
    "name": "ipython",
    "version": 3
   },
   "file_extension": ".py",
   "mimetype": "text/x-python",
   "name": "python",
   "nbconvert_exporter": "python",
   "pygments_lexer": "ipython3",
   "version": "3.12.3"
  }
 },
 "nbformat": 4,
 "nbformat_minor": 5
}
