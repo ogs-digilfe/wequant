{
 "cells": [
  {
   "cell_type": "code",
   "execution_count": 1,
   "id": "4e623844-7b9f-4c05-9bef-3ee8a89ba225",
   "metadata": {},
   "outputs": [],
   "source": [
    "# 読み込みファイルパスの設定とimportしたいmoduleパス(pythonパス)の設定\n",
    "from pathlib import Path\n",
    "import os, sys\n",
    "\n",
    "CURRENT_DIR = Path(os.getcwd())\n",
    "PJ_DIR = CURRENT_DIR.parent.parent\n",
    "LIB_DIR = PJ_DIR / \"lib\"\n",
    "DATA_DIR = PJ_DIR / \"data\" \n",
    "\n",
    "sys.path.append(str(LIB_DIR))\n",
    "\n",
    "# notebook内で利用するmoduleのimport\n",
    "from lib_dataprocess import KessanFig, read_data\n",
    "import polars as pl\n",
    "from datetime import date"
   ]
  },
  {
   "cell_type": "code",
   "execution_count": 2,
   "id": "00c5592e-9d24-4a70-ae4e-3a16c4f70bd5",
   "metadata": {},
   "outputs": [
    {
     "data": {
      "text/html": [
       "<iframe\n",
       "    scrolling=\"no\"\n",
       "    width=\"100%\"\n",
       "    height=\"545px\"\n",
       "    src=\"iframe_figures/figure_2.html\"\n",
       "    frameborder=\"0\"\n",
       "    allowfullscreen\n",
       "></iframe>\n"
      ]
     },
     "metadata": {},
     "output_type": "display_data"
    }
   ],
   "source": [
    "code = 1301\n",
    "settlement_type = \"四半期\"\n",
    "# settlement_type = \"通期\"\n",
    "\n",
    "\n",
    "# codeで指定した売上高推移の棒グラフオブジェクト(KessanFig.fig: plotly.graph_objects.Figure)を生成する。\n",
    "# KessanFigのメソッドを実行することで、生成した売上高推移の棒グラフオブジェクトに、各利益や利益率の棒グラフなどを重ねて表示するグラフオブジェクトを生成する。\n",
    "# 通期決算の決算推移か、四半期決算の決算推移かをsettlement_typeで指定する。\n",
    "# jupyter-labやjupyter-notebookにグラフを出力する場合は、output_targetに\"jupyter\"を指定すること。\n",
    "# start_settlement_date, end_settlement_dateを指定するといつからいつまでの決算推移のグラフを作成するか期間を指定することができる\n",
    "# end_settlement_dateが未来日に設定されている場合は、end_settlement_date=date.today()に補正される。\n",
    "# settlement_type=\"通期\"とした場合は、end_settlement_date時点で発表されている最新の決算予想を追加表示する\n",
    "# KesanFigクラスの各メソッドは、売上高の棒グラフオブジェクトにグラフを重ねて追加する。\n",
    "# KessanFig(\n",
    "#    code: int, \n",
    "#    settlement_type: Literal[\"通期\", \"四半期\"], \n",
    "#    output_target: str = \"jupyter\",\n",
    "#    start_settlement_date: date = date(1900, 1, 1),\n",
    "#    end_settlement_date: date = date(2999, 12, 31)\n",
    "#)\n",
    "KFIG = KessanFig(code, settlement_type, \"jupyter\")\n",
    "KFIG.fig.show()"
   ]
  },
  {
   "cell_type": "code",
   "execution_count": 3,
   "id": "15d071f2-1544-46d8-a78c-2c8adc3a1b88",
   "metadata": {},
   "outputs": [
    {
     "data": {
      "text/html": [
       "<iframe\n",
       "    scrolling=\"no\"\n",
       "    width=\"100%\"\n",
       "    height=\"545px\"\n",
       "    src=\"iframe_figures/figure_3.html\"\n",
       "    frameborder=\"0\"\n",
       "    allowfullscreen\n",
       "></iframe>\n"
      ]
     },
     "metadata": {},
     "output_type": "display_data"
    }
   ],
   "source": [
    "KFIG.add_trace_profits()\n",
    "KFIG.fig.show()"
   ]
  },
  {
   "cell_type": "code",
   "execution_count": 4,
   "id": "76082edd-b5da-4310-9cbe-a06457a61641",
   "metadata": {},
   "outputs": [
    {
     "data": {
      "text/html": [
       "<div><style>\n",
       ".dataframe > thead > tr,\n",
       ".dataframe > tbody > tr {\n",
       "  text-align: right;\n",
       "  white-space: pre-wrap;\n",
       "}\n",
       "</style>\n",
       "<small>shape: (7, 16)</small><table border=\"1\" class=\"dataframe\"><thead><tr><th>code</th><th>settlement_date</th><th>settlement_type</th><th>announcement_date</th><th>sales</th><th>operating_income</th><th>ordinary_profit</th><th>final_profit</th><th>reviced_eps</th><th>dividend</th><th>quater</th><th>yearly_settlement_date</th><th>fy</th><th>fm</th><th>決算期</th><th>xlabels</th></tr><tr><td>i64</td><td>date</td><td>str</td><td>date</td><td>i64</td><td>i64</td><td>i64</td><td>i64</td><td>f64</td><td>f64</td><td>str</td><td>date</td><td>str</td><td>str</td><td>str</td><td>str</td></tr></thead><tbody><tr><td>1301</td><td>2023-03-31</td><td>&quot;四&quot;</td><td>2023-05-12</td><td>58780</td><td>-19</td><td>-157</td><td>-182</td><td>-17.0</td><td>0.0</td><td>&quot;4&quot;</td><td>2023-03-31</td><td>&quot;2023&quot;</td><td>&quot;3&quot;</td><td>&quot;2023年3月期&quot;</td><td>&quot;2023-3-4Q&quot;</td></tr><tr><td>1301</td><td>2023-06-30</td><td>&quot;四&quot;</td><td>2023-08-04</td><td>62367</td><td>2421</td><td>2548</td><td>1827</td><td>170.5</td><td>3.9</td><td>&quot;1&quot;</td><td>2024-03-31</td><td>&quot;2024&quot;</td><td>&quot;3&quot;</td><td>&quot;2024年3月期&quot;</td><td>&quot;2024-3-1Q&quot;</td></tr><tr><td>1301</td><td>2023-09-30</td><td>&quot;四&quot;</td><td>2023-11-06</td><td>63708</td><td>1575</td><td>1594</td><td>624</td><td>58.2</td><td>2.5</td><td>&quot;2&quot;</td><td>2024-03-31</td><td>&quot;2024&quot;</td><td>&quot;3&quot;</td><td>&quot;2024年3月期&quot;</td><td>&quot;2024-3-2Q&quot;</td></tr><tr><td>1301</td><td>2023-12-31</td><td>&quot;四&quot;</td><td>2024-02-02</td><td>75539</td><td>2953</td><td>2851</td><td>2534</td><td>236.3</td><td>3.9</td><td>&quot;3&quot;</td><td>2024-03-31</td><td>&quot;2024&quot;</td><td>&quot;3&quot;</td><td>&quot;2024年3月期&quot;</td><td>&quot;2024-3-3Q&quot;</td></tr><tr><td>1301</td><td>2024-03-31</td><td>&quot;四&quot;</td><td>2024-05-10</td><td>59990</td><td>1857</td><td>1863</td><td>951</td><td>87.9</td><td>3.1</td><td>&quot;4&quot;</td><td>2024-03-31</td><td>&quot;2024&quot;</td><td>&quot;3&quot;</td><td>&quot;2024年3月期&quot;</td><td>&quot;2024-3-4Q&quot;</td></tr><tr><td>1301</td><td>2024-06-30</td><td>&quot;四&quot;</td><td>2024-08-05</td><td>68204</td><td>3102</td><td>3295</td><td>2412</td><td>203.1</td><td>4.5</td><td>&quot;1&quot;</td><td>2025-03-31</td><td>&quot;2025&quot;</td><td>&quot;3&quot;</td><td>&quot;2025年3月期&quot;</td><td>&quot;2025-3-1Q&quot;</td></tr><tr><td>1301</td><td>2024-09-30</td><td>&quot;四&quot;</td><td>2024-11-06</td><td>72361</td><td>2362</td><td>2020</td><td>297</td><td>25.0</td><td>3.3</td><td>&quot;2&quot;</td><td>2025-03-31</td><td>&quot;2025&quot;</td><td>&quot;3&quot;</td><td>&quot;2025年3月期&quot;</td><td>&quot;2025-3-2Q&quot;</td></tr></tbody></table></div>"
      ],
      "text/plain": [
       "shape: (7, 16)\n",
       "┌──────┬────────────────┬───────────────┬───────────────┬───┬──────┬─────┬─────────────┬───────────┐\n",
       "│ code ┆ settlement_dat ┆ settlement_ty ┆ announcement_ ┆ … ┆ fy   ┆ fm  ┆ 決算期      ┆ xlabels   │\n",
       "│ ---  ┆ e              ┆ pe            ┆ date          ┆   ┆ ---  ┆ --- ┆ ---         ┆ ---       │\n",
       "│ i64  ┆ ---            ┆ ---           ┆ ---           ┆   ┆ str  ┆ str ┆ str         ┆ str       │\n",
       "│      ┆ date           ┆ str           ┆ date          ┆   ┆      ┆     ┆             ┆           │\n",
       "╞══════╪════════════════╪═══════════════╪═══════════════╪═══╪══════╪═════╪═════════════╪═══════════╡\n",
       "│ 1301 ┆ 2023-03-31     ┆ 四            ┆ 2023-05-12    ┆ … ┆ 2023 ┆ 3   ┆ 2023年3月期 ┆ 2023-3-4Q │\n",
       "│ 1301 ┆ 2023-06-30     ┆ 四            ┆ 2023-08-04    ┆ … ┆ 2024 ┆ 3   ┆ 2024年3月期 ┆ 2024-3-1Q │\n",
       "│ 1301 ┆ 2023-09-30     ┆ 四            ┆ 2023-11-06    ┆ … ┆ 2024 ┆ 3   ┆ 2024年3月期 ┆ 2024-3-2Q │\n",
       "│ 1301 ┆ 2023-12-31     ┆ 四            ┆ 2024-02-02    ┆ … ┆ 2024 ┆ 3   ┆ 2024年3月期 ┆ 2024-3-3Q │\n",
       "│ 1301 ┆ 2024-03-31     ┆ 四            ┆ 2024-05-10    ┆ … ┆ 2024 ┆ 3   ┆ 2024年3月期 ┆ 2024-3-4Q │\n",
       "│ 1301 ┆ 2024-06-30     ┆ 四            ┆ 2024-08-05    ┆ … ┆ 2025 ┆ 3   ┆ 2025年3月期 ┆ 2025-3-1Q │\n",
       "│ 1301 ┆ 2024-09-30     ┆ 四            ┆ 2024-11-06    ┆ … ┆ 2025 ┆ 3   ┆ 2025年3月期 ┆ 2025-3-2Q │\n",
       "└──────┴────────────────┴───────────────┴───────────────┴───┴──────┴─────┴─────────────┴───────────┘"
      ]
     },
     "execution_count": 4,
     "metadata": {},
     "output_type": "execute_result"
    }
   ],
   "source": [
    "from datetime import date\n",
    "KFIG.df.filter(pl.col(\"settlement_date\")>=date(2023,1,1))"
   ]
  },
  {
   "cell_type": "code",
   "execution_count": 5,
   "id": "2953b2f9-f423-4f6f-941d-591c439a42aa",
   "metadata": {},
   "outputs": [
    {
     "data": {
      "text/html": [
       "<div><style>\n",
       ".dataframe > thead > tr,\n",
       ".dataframe > tbody > tr {\n",
       "  text-align: right;\n",
       "  white-space: pre-wrap;\n",
       "}\n",
       "</style>\n",
       "<small>shape: (25, 16)</small><table border=\"1\" class=\"dataframe\"><thead><tr><th>code</th><th>settlement_date</th><th>settlement_type</th><th>announcement_date</th><th>sales</th><th>operating_income</th><th>ordinary_profit</th><th>final_profit</th><th>reviced_eps</th><th>dividend</th><th>quater</th><th>yearly_settlement_date</th><th>fy</th><th>fm</th><th>決算期</th><th>xlabels</th></tr><tr><td>i64</td><td>date</td><td>str</td><td>date</td><td>i64</td><td>i64</td><td>i64</td><td>i64</td><td>f64</td><td>f64</td><td>str</td><td>date</td><td>str</td><td>str</td><td>str</td><td>str</td></tr></thead><tbody><tr><td>1301</td><td>2018-09-30</td><td>&quot;四&quot;</td><td>2018-11-05</td><td>61245</td><td>507</td><td>595</td><td>269</td><td>24.9</td><td>0.8</td><td>&quot;2&quot;</td><td>2019-03-31</td><td>&quot;2019&quot;</td><td>&quot;3&quot;</td><td>&quot;2019年3月期&quot;</td><td>&quot;2019-3-2Q&quot;</td></tr><tr><td>1301</td><td>2018-12-31</td><td>&quot;四&quot;</td><td>2019-02-08</td><td>78581</td><td>2208</td><td>2591</td><td>1677</td><td>155.2</td><td>2.8</td><td>&quot;3&quot;</td><td>2019-03-31</td><td>&quot;2019&quot;</td><td>&quot;3&quot;</td><td>&quot;2019年3月期&quot;</td><td>&quot;2019-3-3Q&quot;</td></tr><tr><td>1301</td><td>2019-03-31</td><td>&quot;四&quot;</td><td>2019-05-13</td><td>58368</td><td>551</td><td>511</td><td>413</td><td>38.2</td><td>0.9</td><td>&quot;4&quot;</td><td>2019-03-31</td><td>&quot;2019&quot;</td><td>&quot;3&quot;</td><td>&quot;2019年3月期&quot;</td><td>&quot;2019-3-4Q&quot;</td></tr><tr><td>1301</td><td>2019-06-30</td><td>&quot;四&quot;</td><td>2019-08-02</td><td>62644</td><td>770</td><td>1015</td><td>706</td><td>65.3</td><td>1.2</td><td>&quot;1&quot;</td><td>2020-03-31</td><td>&quot;2020&quot;</td><td>&quot;3&quot;</td><td>&quot;2020年3月期&quot;</td><td>&quot;2020-3-1Q&quot;</td></tr><tr><td>1301</td><td>2019-09-30</td><td>&quot;四&quot;</td><td>2019-11-05</td><td>64240</td><td>-35</td><td>113</td><td>4</td><td>0.4</td><td>-0.1</td><td>&quot;2&quot;</td><td>2020-03-31</td><td>&quot;2020&quot;</td><td>&quot;3&quot;</td><td>&quot;2020年3月期&quot;</td><td>&quot;2020-3-2Q&quot;</td></tr><tr><td>&hellip;</td><td>&hellip;</td><td>&hellip;</td><td>&hellip;</td><td>&hellip;</td><td>&hellip;</td><td>&hellip;</td><td>&hellip;</td><td>&hellip;</td><td>&hellip;</td><td>&hellip;</td><td>&hellip;</td><td>&hellip;</td><td>&hellip;</td><td>&hellip;</td><td>&hellip;</td></tr><tr><td>1301</td><td>2023-09-30</td><td>&quot;四&quot;</td><td>2023-11-06</td><td>63708</td><td>1575</td><td>1594</td><td>624</td><td>58.2</td><td>2.5</td><td>&quot;2&quot;</td><td>2024-03-31</td><td>&quot;2024&quot;</td><td>&quot;3&quot;</td><td>&quot;2024年3月期&quot;</td><td>&quot;2024-3-2Q&quot;</td></tr><tr><td>1301</td><td>2023-12-31</td><td>&quot;四&quot;</td><td>2024-02-02</td><td>75539</td><td>2953</td><td>2851</td><td>2534</td><td>236.3</td><td>3.9</td><td>&quot;3&quot;</td><td>2024-03-31</td><td>&quot;2024&quot;</td><td>&quot;3&quot;</td><td>&quot;2024年3月期&quot;</td><td>&quot;2024-3-3Q&quot;</td></tr><tr><td>1301</td><td>2024-03-31</td><td>&quot;四&quot;</td><td>2024-05-10</td><td>59990</td><td>1857</td><td>1863</td><td>951</td><td>87.9</td><td>3.1</td><td>&quot;4&quot;</td><td>2024-03-31</td><td>&quot;2024&quot;</td><td>&quot;3&quot;</td><td>&quot;2024年3月期&quot;</td><td>&quot;2024-3-4Q&quot;</td></tr><tr><td>1301</td><td>2024-06-30</td><td>&quot;四&quot;</td><td>2024-08-05</td><td>68204</td><td>3102</td><td>3295</td><td>2412</td><td>203.1</td><td>4.5</td><td>&quot;1&quot;</td><td>2025-03-31</td><td>&quot;2025&quot;</td><td>&quot;3&quot;</td><td>&quot;2025年3月期&quot;</td><td>&quot;2025-3-1Q&quot;</td></tr><tr><td>1301</td><td>2024-09-30</td><td>&quot;四&quot;</td><td>2024-11-06</td><td>72361</td><td>2362</td><td>2020</td><td>297</td><td>25.0</td><td>3.3</td><td>&quot;2&quot;</td><td>2025-03-31</td><td>&quot;2025&quot;</td><td>&quot;3&quot;</td><td>&quot;2025年3月期&quot;</td><td>&quot;2025-3-2Q&quot;</td></tr></tbody></table></div>"
      ],
      "text/plain": [
       "shape: (25, 16)\n",
       "┌──────┬────────────────┬───────────────┬───────────────┬───┬──────┬─────┬─────────────┬───────────┐\n",
       "│ code ┆ settlement_dat ┆ settlement_ty ┆ announcement_ ┆ … ┆ fy   ┆ fm  ┆ 決算期      ┆ xlabels   │\n",
       "│ ---  ┆ e              ┆ pe            ┆ date          ┆   ┆ ---  ┆ --- ┆ ---         ┆ ---       │\n",
       "│ i64  ┆ ---            ┆ ---           ┆ ---           ┆   ┆ str  ┆ str ┆ str         ┆ str       │\n",
       "│      ┆ date           ┆ str           ┆ date          ┆   ┆      ┆     ┆             ┆           │\n",
       "╞══════╪════════════════╪═══════════════╪═══════════════╪═══╪══════╪═════╪═════════════╪═══════════╡\n",
       "│ 1301 ┆ 2018-09-30     ┆ 四            ┆ 2018-11-05    ┆ … ┆ 2019 ┆ 3   ┆ 2019年3月期 ┆ 2019-3-2Q │\n",
       "│ 1301 ┆ 2018-12-31     ┆ 四            ┆ 2019-02-08    ┆ … ┆ 2019 ┆ 3   ┆ 2019年3月期 ┆ 2019-3-3Q │\n",
       "│ 1301 ┆ 2019-03-31     ┆ 四            ┆ 2019-05-13    ┆ … ┆ 2019 ┆ 3   ┆ 2019年3月期 ┆ 2019-3-4Q │\n",
       "│ 1301 ┆ 2019-06-30     ┆ 四            ┆ 2019-08-02    ┆ … ┆ 2020 ┆ 3   ┆ 2020年3月期 ┆ 2020-3-1Q │\n",
       "│ 1301 ┆ 2019-09-30     ┆ 四            ┆ 2019-11-05    ┆ … ┆ 2020 ┆ 3   ┆ 2020年3月期 ┆ 2020-3-2Q │\n",
       "│ …    ┆ …              ┆ …             ┆ …             ┆ … ┆ …    ┆ …   ┆ …           ┆ …         │\n",
       "│ 1301 ┆ 2023-09-30     ┆ 四            ┆ 2023-11-06    ┆ … ┆ 2024 ┆ 3   ┆ 2024年3月期 ┆ 2024-3-2Q │\n",
       "│ 1301 ┆ 2023-12-31     ┆ 四            ┆ 2024-02-02    ┆ … ┆ 2024 ┆ 3   ┆ 2024年3月期 ┆ 2024-3-3Q │\n",
       "│ 1301 ┆ 2024-03-31     ┆ 四            ┆ 2024-05-10    ┆ … ┆ 2024 ┆ 3   ┆ 2024年3月期 ┆ 2024-3-4Q │\n",
       "│ 1301 ┆ 2024-06-30     ┆ 四            ┆ 2024-08-05    ┆ … ┆ 2025 ┆ 3   ┆ 2025年3月期 ┆ 2025-3-1Q │\n",
       "│ 1301 ┆ 2024-09-30     ┆ 四            ┆ 2024-11-06    ┆ … ┆ 2025 ┆ 3   ┆ 2025年3月期 ┆ 2025-3-2Q │\n",
       "└──────┴────────────────┴───────────────┴───────────────┴───┴──────┴─────┴─────────────┴───────────┘"
      ]
     },
     "execution_count": 5,
     "metadata": {},
     "output_type": "execute_result"
    }
   ],
   "source": [
    "KFIG.df"
   ]
  },
  {
   "cell_type": "code",
   "execution_count": null,
   "id": "7f522855-b008-44da-9fd5-27b21dc1e270",
   "metadata": {},
   "outputs": [],
   "source": []
  }
 ],
 "metadata": {
  "kernelspec": {
   "display_name": "Python 3 (ipykernel)",
   "language": "python",
   "name": "python3"
  },
  "language_info": {
   "codemirror_mode": {
    "name": "ipython",
    "version": 3
   },
   "file_extension": ".py",
   "mimetype": "text/x-python",
   "name": "python",
   "nbconvert_exporter": "python",
   "pygments_lexer": "ipython3",
   "version": "3.12.3"
  }
 },
 "nbformat": 4,
 "nbformat_minor": 5
}
