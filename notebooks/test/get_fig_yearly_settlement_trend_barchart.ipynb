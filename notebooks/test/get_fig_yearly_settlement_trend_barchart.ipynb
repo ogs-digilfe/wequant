{
 "cells": [
  {
   "cell_type": "code",
   "execution_count": 1,
   "id": "1cf36415-1086-4a49-bf0e-79754e8e311f",
   "metadata": {},
   "outputs": [],
   "source": [
    "# 分析対象銘柄の証券コードをセット\n",
    "from datetime import date\n",
    "code = 2267\n",
    "get_latest_forcast = True\n",
    "valuation_date = date.today()\n",
    "# valuation_date = date(2022, 11, 18)"
   ]
  },
  {
   "cell_type": "code",
   "execution_count": 2,
   "id": "32a8eaa5-5707-4e44-a6ed-873907b67217",
   "metadata": {},
   "outputs": [],
   "source": [
    "# 読み込みファイルパスの設定とimportしたいmoduleパス(pythonパス)の設定\n",
    "from pathlib import Path\n",
    "import os, sys\n",
    "\n",
    "CURRENT_DIR = Path(os.getcwd())\n",
    "PJ_DIR = CURRENT_DIR.parent.parent\n",
    "LIB_DIR = PJ_DIR / \"lib\"\n",
    "\n",
    "sys.path.append(str(LIB_DIR))\n",
    "\n",
    "from lib_dataprocess import get_fig_yearly_settlement_trend_barchart"
   ]
  },
  {
   "cell_type": "code",
   "execution_count": 3,
   "id": "b3558953-4f94-46a6-beab-a40253e64d5b",
   "metadata": {},
   "outputs": [
    {
     "data": {
      "text/html": [
       "<iframe\n",
       "    scrolling=\"no\"\n",
       "    width=\"100%\"\n",
       "    height=\"545px\"\n",
       "    src=\"iframe_figures/figure_3.html\"\n",
       "    frameborder=\"0\"\n",
       "    allowfullscreen\n",
       "></iframe>\n"
      ]
     },
     "metadata": {},
     "output_type": "display_data"
    }
   ],
   "source": [
    "# codeで指定した銘柄の年度決算の業績推移のグラフ描画インスタンスfigを返す\n",
    "# valuation_dateを指定された日で評価できるようにグラフを描画する(過去時点の評価が可能)\n",
    "# get_latest_forcast = Trueとすると、valuation_date時点で公開された最新決算予想の業績データを追加する\n",
    "# ただし、valuation_date時点で決算予想が発表されていない場合、決算予想は表示されない。\n",
    "# def get_fig_yearly_settlement_trend_barchart(code: int, valuation_date: date=date.today(), get_latest_forcast=True) -> Figure:\n",
    "fig = get_fig_yearly_settlement_trend_barchart(code)\n",
    "fig.show()"
   ]
  },
  {
   "cell_type": "code",
   "execution_count": null,
   "id": "ba11f8be-05aa-4ea7-9199-27db651dc57b",
   "metadata": {},
   "outputs": [],
   "source": []
  }
 ],
 "metadata": {
  "kernelspec": {
   "display_name": "Python 3 (ipykernel)",
   "language": "python",
   "name": "python3"
  },
  "language_info": {
   "codemirror_mode": {
    "name": "ipython",
    "version": 3
   },
   "file_extension": ".py",
   "mimetype": "text/x-python",
   "name": "python",
   "nbconvert_exporter": "python",
   "pygments_lexer": "ipython3",
   "version": "3.12.3"
  }
 },
 "nbformat": 4,
 "nbformat_minor": 5
}
