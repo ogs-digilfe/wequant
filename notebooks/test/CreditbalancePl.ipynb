{
 "cells": [
  {
   "cell_type": "code",
   "execution_count": 1,
   "id": "22aa093c-2455-4880-9e84-19c853e7b36d",
   "metadata": {},
   "outputs": [],
   "source": [
    "# 読み込みファイルパスの設定とimportしたいmoduleパス(pythonパス)の設定\n",
    "from pathlib import Path\n",
    "import os, sys\n",
    "\n",
    "CURRENT_DIR = Path(os.getcwd())\n",
    "PJ_DIR = CURRENT_DIR.parent.parent\n",
    "LIB_DIR = PJ_DIR / \"lib\"\n",
    "DATA_DIR = PJ_DIR / \"data\" \n",
    "\n",
    "sys.path.append(str(LIB_DIR))\n",
    "\n",
    "# notebook内で利用するmoduleのimport\n",
    "from lib_dataprocess import CreditbalancePl\n",
    "import polars as pl\n",
    "from datetime import date"
   ]
  },
  {
   "cell_type": "code",
   "execution_count": 2,
   "id": "7d261f58-7cf4-4eef-95dc-121021ac42e6",
   "metadata": {},
   "outputs": [],
   "source": [
    "# cell to create new method\n"
   ]
  },
  {
   "cell_type": "code",
   "execution_count": 3,
   "id": "6b91be44-9c54-4e00-8bd2-820be271b9dd",
   "metadata": {},
   "outputs": [
    {
     "data": {
      "text/html": [
       "<div><style>\n",
       ".dataframe > thead > tr,\n",
       ".dataframe > tbody > tr {\n",
       "  text-align: right;\n",
       "  white-space: pre-wrap;\n",
       "}\n",
       "</style>\n",
       "<small>shape: (2_685_179, 4)</small><table border=\"1\" class=\"dataframe\"><thead><tr><th>code</th><th>date</th><th>unsold_margin</th><th>purchase_margin</th></tr><tr><td>i64</td><td>date</td><td>i64</td><td>i64</td></tr></thead><tbody><tr><td>1301</td><td>2008-12-30</td><td>558000</td><td>609000</td></tr><tr><td>1301</td><td>2009-01-09</td><td>622000</td><td>597000</td></tr><tr><td>1301</td><td>2009-01-16</td><td>444000</td><td>612000</td></tr><tr><td>1301</td><td>2009-01-23</td><td>441000</td><td>618000</td></tr><tr><td>1301</td><td>2009-01-30</td><td>460000</td><td>651000</td></tr><tr><td>&hellip;</td><td>&hellip;</td><td>&hellip;</td><td>&hellip;</td></tr><tr><td>9997</td><td>2023-02-10</td><td>45500</td><td>899500</td></tr><tr><td>9997</td><td>2023-02-17</td><td>53800</td><td>911000</td></tr><tr><td>9997</td><td>2023-02-24</td><td>64700</td><td>897300</td></tr><tr><td>9997</td><td>2023-03-03</td><td>123600</td><td>929600</td></tr><tr><td>9997</td><td>2023-03-10</td><td>265000</td><td>955500</td></tr></tbody></table></div>"
      ],
      "text/plain": [
       "shape: (2_685_179, 4)\n",
       "┌──────┬────────────┬───────────────┬─────────────────┐\n",
       "│ code ┆ date       ┆ unsold_margin ┆ purchase_margin │\n",
       "│ ---  ┆ ---        ┆ ---           ┆ ---             │\n",
       "│ i64  ┆ date       ┆ i64           ┆ i64             │\n",
       "╞══════╪════════════╪═══════════════╪═════════════════╡\n",
       "│ 1301 ┆ 2008-12-30 ┆ 558000        ┆ 609000          │\n",
       "│ 1301 ┆ 2009-01-09 ┆ 622000        ┆ 597000          │\n",
       "│ 1301 ┆ 2009-01-16 ┆ 444000        ┆ 612000          │\n",
       "│ 1301 ┆ 2009-01-23 ┆ 441000        ┆ 618000          │\n",
       "│ 1301 ┆ 2009-01-30 ┆ 460000        ┆ 651000          │\n",
       "│ …    ┆ …          ┆ …             ┆ …               │\n",
       "│ 9997 ┆ 2023-02-10 ┆ 45500         ┆ 899500          │\n",
       "│ 9997 ┆ 2023-02-17 ┆ 53800         ┆ 911000          │\n",
       "│ 9997 ┆ 2023-02-24 ┆ 64700         ┆ 897300          │\n",
       "│ 9997 ┆ 2023-03-03 ┆ 123600        ┆ 929600          │\n",
       "│ 9997 ┆ 2023-03-10 ┆ 265000        ┆ 955500          │\n",
       "└──────┴────────────┴───────────────┴─────────────────┘"
      ]
     },
     "execution_count": 3,
     "metadata": {},
     "output_type": "execute_result"
    }
   ],
   "source": [
    "# 信用取引データの加工/分析\n",
    "#class CreditbalancePl():\n",
    "#    # dfがセットされていれば、self.dfにセット\n",
    "#    # fpがセットされていれば、fpで指定するpathから信用残履歴のparquet fileを読み込んでself.dfをセット\n",
    "#    # dfもfpもセットされていなければ、所定のファイルパスから信用残履歴のparquet fileを読み込んでself.dfにセット\n",
    "#    def __init__(self, df: Union[pl.DataFrame, None]=None, fp: Union[Path, None]=None):\n",
    "CPL = CreditbalancePl()\n",
    "CPL.df"
   ]
  },
  {
   "cell_type": "code",
   "execution_count": 4,
   "id": "c2a8f2ff-4198-4557-b81c-1872f9c48921",
   "metadata": {},
   "outputs": [
    {
     "data": {
      "text/html": [
       "<div><style>\n",
       ".dataframe > thead > tr,\n",
       ".dataframe > tbody > tr {\n",
       "  text-align: right;\n",
       "  white-space: pre-wrap;\n",
       "}\n",
       "</style>\n",
       "<small>shape: (1_716_610, 4)</small><table border=\"1\" class=\"dataframe\"><thead><tr><th>code</th><th>date</th><th>unsold_margin</th><th>purchase_margin</th></tr><tr><td>i64</td><td>date</td><td>i64</td><td>i64</td></tr></thead><tbody><tr><td>1301</td><td>2008-12-30</td><td>558000</td><td>609000</td></tr><tr><td>1301</td><td>2009-01-09</td><td>622000</td><td>597000</td></tr><tr><td>1301</td><td>2009-01-16</td><td>444000</td><td>612000</td></tr><tr><td>1301</td><td>2009-01-23</td><td>441000</td><td>618000</td></tr><tr><td>1301</td><td>2009-01-30</td><td>460000</td><td>651000</td></tr><tr><td>&hellip;</td><td>&hellip;</td><td>&hellip;</td><td>&hellip;</td></tr><tr><td>9997</td><td>2023-02-10</td><td>45500</td><td>899500</td></tr><tr><td>9997</td><td>2023-02-17</td><td>53800</td><td>911000</td></tr><tr><td>9997</td><td>2023-02-24</td><td>64700</td><td>897300</td></tr><tr><td>9997</td><td>2023-03-03</td><td>123600</td><td>929600</td></tr><tr><td>9997</td><td>2023-03-10</td><td>265000</td><td>955500</td></tr></tbody></table></div>"
      ],
      "text/plain": [
       "shape: (1_716_610, 4)\n",
       "┌──────┬────────────┬───────────────┬─────────────────┐\n",
       "│ code ┆ date       ┆ unsold_margin ┆ purchase_margin │\n",
       "│ ---  ┆ ---        ┆ ---           ┆ ---             │\n",
       "│ i64  ┆ date       ┆ i64           ┆ i64             │\n",
       "╞══════╪════════════╪═══════════════╪═════════════════╡\n",
       "│ 1301 ┆ 2008-12-30 ┆ 558000        ┆ 609000          │\n",
       "│ 1301 ┆ 2009-01-09 ┆ 622000        ┆ 597000          │\n",
       "│ 1301 ┆ 2009-01-16 ┆ 444000        ┆ 612000          │\n",
       "│ 1301 ┆ 2009-01-23 ┆ 441000        ┆ 618000          │\n",
       "│ 1301 ┆ 2009-01-30 ┆ 460000        ┆ 651000          │\n",
       "│ …    ┆ …          ┆ …             ┆ …               │\n",
       "│ 9997 ┆ 2023-02-10 ┆ 45500         ┆ 899500          │\n",
       "│ 9997 ┆ 2023-02-17 ┆ 53800         ┆ 911000          │\n",
       "│ 9997 ┆ 2023-02-24 ┆ 64700         ┆ 897300          │\n",
       "│ 9997 ┆ 2023-03-03 ┆ 123600        ┆ 929600          │\n",
       "│ 9997 ┆ 2023-03-10 ┆ 265000        ┆ 955500          │\n",
       "└──────┴────────────┴───────────────┴─────────────────┘"
      ]
     },
     "execution_count": 4,
     "metadata": {},
     "output_type": "execute_result"
    }
   ],
   "source": [
    "CPL = CreditbalancePl()\n",
    "\n",
    "# filterで始まるメソッド。\n",
    "# 信用売りに対応した銘柄をfilterして、self.dfを書き換える\n",
    "#def filter_unsolod_margin_target(self):\n",
    "CPL.filter_unsold_margin_target()\n",
    "CPL.df"
   ]
  },
  {
   "cell_type": "code",
   "execution_count": 5,
   "id": "300e7510-e1a7-4d33-bd74-afa1788bc90a",
   "metadata": {},
   "outputs": [
    {
     "data": {
      "text/html": [
       "<div><style>\n",
       ".dataframe > thead > tr,\n",
       ".dataframe > tbody > tr {\n",
       "  text-align: right;\n",
       "  white-space: pre-wrap;\n",
       "}\n",
       "</style>\n",
       "<small>shape: (2_710, 5)</small><table border=\"1\" class=\"dataframe\"><thead><tr><th>code</th><th>date</th><th>unsold_margin</th><th>purchase_margin</th><th>margin_ratio</th></tr><tr><td>i64</td><td>date</td><td>i64</td><td>i64</td><td>f64</td></tr></thead><tbody><tr><td>1301</td><td>2024-12-06</td><td>1600</td><td>68200</td><td>0.02</td></tr><tr><td>1332</td><td>2024-12-06</td><td>100100</td><td>278300</td><td>0.36</td></tr><tr><td>1333</td><td>2024-12-06</td><td>17500</td><td>272400</td><td>0.06</td></tr><tr><td>1334</td><td>2014-03-28</td><td>2519000</td><td>4854000</td><td>0.52</td></tr><tr><td>1375</td><td>2024-12-06</td><td>2900</td><td>128100</td><td>0.02</td></tr><tr><td>&hellip;</td><td>&hellip;</td><td>&hellip;</td><td>&hellip;</td><td>&hellip;</td></tr><tr><td>9991</td><td>2023-03-10</td><td>1100</td><td>97800</td><td>0.01</td></tr><tr><td>9993</td><td>2023-03-10</td><td>100</td><td>8700</td><td>0.01</td></tr><tr><td>9994</td><td>2023-03-10</td><td>8600</td><td>5200</td><td>1.65</td></tr><tr><td>9995</td><td>2023-03-10</td><td>376300</td><td>696900</td><td>0.54</td></tr><tr><td>9997</td><td>2023-03-10</td><td>265000</td><td>955500</td><td>0.28</td></tr></tbody></table></div>"
      ],
      "text/plain": [
       "shape: (2_710, 5)\n",
       "┌──────┬────────────┬───────────────┬─────────────────┬──────────────┐\n",
       "│ code ┆ date       ┆ unsold_margin ┆ purchase_margin ┆ margin_ratio │\n",
       "│ ---  ┆ ---        ┆ ---           ┆ ---             ┆ ---          │\n",
       "│ i64  ┆ date       ┆ i64           ┆ i64             ┆ f64          │\n",
       "╞══════╪════════════╪═══════════════╪═════════════════╪══════════════╡\n",
       "│ 1301 ┆ 2024-12-06 ┆ 1600          ┆ 68200           ┆ 0.02         │\n",
       "│ 1332 ┆ 2024-12-06 ┆ 100100        ┆ 278300          ┆ 0.36         │\n",
       "│ 1333 ┆ 2024-12-06 ┆ 17500         ┆ 272400          ┆ 0.06         │\n",
       "│ 1334 ┆ 2014-03-28 ┆ 2519000       ┆ 4854000         ┆ 0.52         │\n",
       "│ 1375 ┆ 2024-12-06 ┆ 2900          ┆ 128100          ┆ 0.02         │\n",
       "│ …    ┆ …          ┆ …             ┆ …               ┆ …            │\n",
       "│ 9991 ┆ 2023-03-10 ┆ 1100          ┆ 97800           ┆ 0.01         │\n",
       "│ 9993 ┆ 2023-03-10 ┆ 100           ┆ 8700            ┆ 0.01         │\n",
       "│ 9994 ┆ 2023-03-10 ┆ 8600          ┆ 5200            ┆ 1.65         │\n",
       "│ 9995 ┆ 2023-03-10 ┆ 376300        ┆ 696900          ┆ 0.54         │\n",
       "│ 9997 ┆ 2023-03-10 ┆ 265000        ┆ 955500          ┆ 0.28         │\n",
       "└──────┴────────────┴───────────────┴─────────────────┴──────────────┘"
      ]
     },
     "execution_count": 5,
     "metadata": {},
     "output_type": "execute_result"
    }
   ],
   "source": [
    "CPL = CreditbalancePl()\n",
    "\n",
    "# valuation_dateで指定した日における各銘柄の最新の信用倍率リストをpl.DataFrameの形式で返す\n",
    "#def get_latest_margin_ratio_df(self, valuation_date: date=date.today()) -> pl.DataFrame:\n",
    "# para\n",
    "valuation_date = date.today()\n",
    "\n",
    "# execute method\n",
    "df =  CPL.get_latest_margin_ratio_df(valuation_date=valuation_date)\n",
    "df"
   ]
  },
  {
   "cell_type": "code",
   "execution_count": 6,
   "id": "b3df33b3-b5fc-4125-a168-a518e3643924",
   "metadata": {},
   "outputs": [
    {
     "data": {
      "text/html": [
       "<div><style>\n",
       ".dataframe > thead > tr,\n",
       ".dataframe > tbody > tr {\n",
       "  text-align: right;\n",
       "  white-space: pre-wrap;\n",
       "}\n",
       "</style>\n",
       "<small>shape: (1_716_610, 5)</small><table border=\"1\" class=\"dataframe\"><thead><tr><th>code</th><th>date</th><th>unsold_margin</th><th>purchase_margin</th><th>margin_ratio</th></tr><tr><td>i64</td><td>date</td><td>i64</td><td>i64</td><td>f64</td></tr></thead><tbody><tr><td>1301</td><td>2008-12-30</td><td>558000</td><td>609000</td><td>0.92</td></tr><tr><td>1301</td><td>2009-01-09</td><td>622000</td><td>597000</td><td>1.04</td></tr><tr><td>1301</td><td>2009-01-16</td><td>444000</td><td>612000</td><td>0.73</td></tr><tr><td>1301</td><td>2009-01-23</td><td>441000</td><td>618000</td><td>0.71</td></tr><tr><td>1301</td><td>2009-01-30</td><td>460000</td><td>651000</td><td>0.71</td></tr><tr><td>&hellip;</td><td>&hellip;</td><td>&hellip;</td><td>&hellip;</td><td>&hellip;</td></tr><tr><td>9997</td><td>2023-02-10</td><td>45500</td><td>899500</td><td>0.05</td></tr><tr><td>9997</td><td>2023-02-17</td><td>53800</td><td>911000</td><td>0.06</td></tr><tr><td>9997</td><td>2023-02-24</td><td>64700</td><td>897300</td><td>0.07</td></tr><tr><td>9997</td><td>2023-03-03</td><td>123600</td><td>929600</td><td>0.13</td></tr><tr><td>9997</td><td>2023-03-10</td><td>265000</td><td>955500</td><td>0.28</td></tr></tbody></table></div>"
      ],
      "text/plain": [
       "shape: (1_716_610, 5)\n",
       "┌──────┬────────────┬───────────────┬─────────────────┬──────────────┐\n",
       "│ code ┆ date       ┆ unsold_margin ┆ purchase_margin ┆ margin_ratio │\n",
       "│ ---  ┆ ---        ┆ ---           ┆ ---             ┆ ---          │\n",
       "│ i64  ┆ date       ┆ i64           ┆ i64             ┆ f64          │\n",
       "╞══════╪════════════╪═══════════════╪═════════════════╪══════════════╡\n",
       "│ 1301 ┆ 2008-12-30 ┆ 558000        ┆ 609000          ┆ 0.92         │\n",
       "│ 1301 ┆ 2009-01-09 ┆ 622000        ┆ 597000          ┆ 1.04         │\n",
       "│ 1301 ┆ 2009-01-16 ┆ 444000        ┆ 612000          ┆ 0.73         │\n",
       "│ 1301 ┆ 2009-01-23 ┆ 441000        ┆ 618000          ┆ 0.71         │\n",
       "│ 1301 ┆ 2009-01-30 ┆ 460000        ┆ 651000          ┆ 0.71         │\n",
       "│ …    ┆ …          ┆ …             ┆ …               ┆ …            │\n",
       "│ 9997 ┆ 2023-02-10 ┆ 45500         ┆ 899500          ┆ 0.05         │\n",
       "│ 9997 ┆ 2023-02-17 ┆ 53800         ┆ 911000          ┆ 0.06         │\n",
       "│ 9997 ┆ 2023-02-24 ┆ 64700         ┆ 897300          ┆ 0.07         │\n",
       "│ 9997 ┆ 2023-03-03 ┆ 123600        ┆ 929600          ┆ 0.13         │\n",
       "│ 9997 ┆ 2023-03-10 ┆ 265000        ┆ 955500          ┆ 0.28         │\n",
       "└──────┴────────────┴───────────────┴─────────────────┴──────────────┘"
      ]
     },
     "execution_count": 6,
     "metadata": {},
     "output_type": "execute_result"
    }
   ],
   "source": [
    "CPL = CreditbalancePl()\n",
    "\n",
    "# 各銘柄の最新データの売り残が0でない銘柄を抽出し、margin_ratio列(信用倍率=売残/買残)を追加。\n",
    "# CreditbalancePl.dfを書き換える\n",
    "# def with_columns_margin_ratio(self):\n",
    "\n",
    "CPL.with_columns_margin_ratio()\n",
    "CPL.df"
   ]
  },
  {
   "cell_type": "code",
   "execution_count": 7,
   "id": "6b3dc4d2-ed60-4f9c-82ef-f2ec94c93035",
   "metadata": {},
   "outputs": [
    {
     "data": {
      "text/html": [
       "<div><style>\n",
       ".dataframe > thead > tr,\n",
       ".dataframe > tbody > tr {\n",
       "  text-align: right;\n",
       "  white-space: pre-wrap;\n",
       "}\n",
       "</style>\n",
       "<small>shape: (2_273_092, 7)</small><table border=\"1\" class=\"dataframe\"><thead><tr><th>code</th><th>date</th><th>unsold_margin</th><th>purchase_margin</th><th>volume_ma25</th><th>unsold_margin_volume_ratio</th><th>purchase_margin_volume_ratio</th></tr><tr><td>i64</td><td>date</td><td>i64</td><td>i64</td><td>f64</td><td>f64</td><td>f64</td></tr></thead><tbody><tr><td>1301</td><td>2009-02-13</td><td>427000</td><td>608000</td><td>138240.0</td><td>3.09</td><td>4.4</td></tr><tr><td>1301</td><td>2009-02-20</td><td>426000</td><td>624000</td><td>137280.0</td><td>3.1</td><td>4.55</td></tr><tr><td>1301</td><td>2009-02-27</td><td>467000</td><td>594000</td><td>150920.0</td><td>3.09</td><td>3.94</td></tr><tr><td>1301</td><td>2009-03-06</td><td>464000</td><td>606000</td><td>154600.0</td><td>3.0</td><td>3.92</td></tr><tr><td>1301</td><td>2009-03-13</td><td>397000</td><td>638000</td><td>157800.0</td><td>2.52</td><td>4.04</td></tr><tr><td>&hellip;</td><td>&hellip;</td><td>&hellip;</td><td>&hellip;</td><td>&hellip;</td><td>&hellip;</td><td>&hellip;</td></tr><tr><td>9997</td><td>2023-02-10</td><td>45500</td><td>899500</td><td>94732.0</td><td>0.48</td><td>9.5</td></tr><tr><td>9997</td><td>2023-02-17</td><td>53800</td><td>911000</td><td>88920.0</td><td>0.61</td><td>10.25</td></tr><tr><td>9997</td><td>2023-02-24</td><td>64700</td><td>897300</td><td>92312.0</td><td>0.7</td><td>9.72</td></tr><tr><td>9997</td><td>2023-03-03</td><td>123600</td><td>929600</td><td>94488.0</td><td>1.31</td><td>9.84</td></tr><tr><td>9997</td><td>2023-03-10</td><td>265000</td><td>955500</td><td>104312.0</td><td>2.54</td><td>9.16</td></tr></tbody></table></div>"
      ],
      "text/plain": [
       "shape: (2_273_092, 7)\n",
       "┌──────┬────────────┬───────────────┬────────────────┬─────────────┬───────────────┬───────────────┐\n",
       "│ code ┆ date       ┆ unsold_margin ┆ purchase_margi ┆ volume_ma25 ┆ unsold_margin ┆ purchase_marg │\n",
       "│ ---  ┆ ---        ┆ ---           ┆ n              ┆ ---         ┆ _volume_ratio ┆ in_volume_rat │\n",
       "│ i64  ┆ date       ┆ i64           ┆ ---            ┆ f64         ┆ ---           ┆ io            │\n",
       "│      ┆            ┆               ┆ i64            ┆             ┆ f64           ┆ ---           │\n",
       "│      ┆            ┆               ┆                ┆             ┆               ┆ f64           │\n",
       "╞══════╪════════════╪═══════════════╪════════════════╪═════════════╪═══════════════╪═══════════════╡\n",
       "│ 1301 ┆ 2009-02-13 ┆ 427000        ┆ 608000         ┆ 138240.0    ┆ 3.09          ┆ 4.4           │\n",
       "│ 1301 ┆ 2009-02-20 ┆ 426000        ┆ 624000         ┆ 137280.0    ┆ 3.1           ┆ 4.55          │\n",
       "│ 1301 ┆ 2009-02-27 ┆ 467000        ┆ 594000         ┆ 150920.0    ┆ 3.09          ┆ 3.94          │\n",
       "│ 1301 ┆ 2009-03-06 ┆ 464000        ┆ 606000         ┆ 154600.0    ┆ 3.0           ┆ 3.92          │\n",
       "│ 1301 ┆ 2009-03-13 ┆ 397000        ┆ 638000         ┆ 157800.0    ┆ 2.52          ┆ 4.04          │\n",
       "│ …    ┆ …          ┆ …             ┆ …              ┆ …           ┆ …             ┆ …             │\n",
       "│ 9997 ┆ 2023-02-10 ┆ 45500         ┆ 899500         ┆ 94732.0     ┆ 0.48          ┆ 9.5           │\n",
       "│ 9997 ┆ 2023-02-17 ┆ 53800         ┆ 911000         ┆ 88920.0     ┆ 0.61          ┆ 10.25         │\n",
       "│ 9997 ┆ 2023-02-24 ┆ 64700         ┆ 897300         ┆ 92312.0     ┆ 0.7           ┆ 9.72          │\n",
       "│ 9997 ┆ 2023-03-03 ┆ 123600        ┆ 929600         ┆ 94488.0     ┆ 1.31          ┆ 9.84          │\n",
       "│ 9997 ┆ 2023-03-10 ┆ 265000        ┆ 955500         ┆ 104312.0    ┆ 2.54          ┆ 9.16          │\n",
       "└──────┴────────────┴───────────────┴────────────────┴─────────────┴───────────────┴───────────────┘"
      ]
     },
     "execution_count": 7,
     "metadata": {},
     "output_type": "execute_result"
    }
   ],
   "source": [
    "CPL = CreditbalancePl()\n",
    "\n",
    "# 信用残高が、日足出来高の何倍あるかを計算した列\"unsold_margin_volume_ratio\"列と\"purchase_margin_volume_ratio\"列を追加する。\n",
    "# 日々の変動が大きいので、日足出来高は移動平均を使用する。\n",
    "# termでは、日足出来高の移動平均の計算期間を日数で指定する。\n",
    "#def with_columns_margin_volume_ratio(self, term: int=25):\n",
    "term = 25\n",
    "CPL.with_columns_margin_volume_ratio(term)\n",
    "CPL.df"
   ]
  },
  {
   "cell_type": "code",
   "execution_count": 12,
   "id": "5a56d03f-6b5c-41f3-9ab3-437f145f3697",
   "metadata": {},
   "outputs": [
    {
     "data": {
      "text/html": [
       "<div><style>\n",
       ".dataframe > thead > tr,\n",
       ".dataframe > tbody > tr {\n",
       "  text-align: right;\n",
       "  white-space: pre-wrap;\n",
       "}\n",
       "</style>\n",
       "<small>shape: (116_853, 7)</small><table border=\"1\" class=\"dataframe\"><thead><tr><th>code</th><th>date</th><th>unsold_margin</th><th>purchase_margin</th><th>volume_ma25</th><th>unsold_margin_volume_ratio</th><th>purchase_margin_volume_ratio</th></tr><tr><td>i64</td><td>date</td><td>i64</td><td>i64</td><td>f64</td><td>f64</td><td>f64</td></tr></thead><tbody><tr><td>9850</td><td>2023-02-17</td><td>470300</td><td>36700</td><td>16904.0</td><td>27.82</td><td>2.17</td></tr><tr><td>9850</td><td>2023-03-03</td><td>626300</td><td>25200</td><td>22748.0</td><td>27.53</td><td>1.11</td></tr><tr><td>9850</td><td>2023-02-24</td><td>533000</td><td>69500</td><td>19688.0</td><td>27.07</td><td>3.53</td></tr><tr><td>9850</td><td>2023-03-10</td><td>646300</td><td>27000</td><td>26140.0</td><td>24.72</td><td>1.03</td></tr><tr><td>9900</td><td>2023-03-03</td><td>944100</td><td>28600</td><td>44240.0</td><td>21.34</td><td>0.65</td></tr><tr><td>&hellip;</td><td>&hellip;</td><td>&hellip;</td><td>&hellip;</td><td>&hellip;</td><td>&hellip;</td><td>&hellip;</td></tr><tr><td>9978</td><td>2023-02-10</td><td>0</td><td>1497900</td><td>269444.0</td><td>0.0</td><td>5.56</td></tr><tr><td>9978</td><td>2023-02-17</td><td>0</td><td>1429600</td><td>267316.0</td><td>0.0</td><td>5.35</td></tr><tr><td>9978</td><td>2023-02-24</td><td>0</td><td>1330700</td><td>277752.0</td><td>0.0</td><td>4.79</td></tr><tr><td>9978</td><td>2023-03-03</td><td>0</td><td>1541100</td><td>145032.0</td><td>0.0</td><td>10.63</td></tr><tr><td>9978</td><td>2023-03-10</td><td>0</td><td>1521600</td><td>131004.0</td><td>0.0</td><td>11.61</td></tr></tbody></table></div>"
      ],
      "text/plain": [
       "shape: (116_853, 7)\n",
       "┌──────┬────────────┬───────────────┬────────────────┬─────────────┬───────────────┬───────────────┐\n",
       "│ code ┆ date       ┆ unsold_margin ┆ purchase_margi ┆ volume_ma25 ┆ unsold_margin ┆ purchase_marg │\n",
       "│ ---  ┆ ---        ┆ ---           ┆ n              ┆ ---         ┆ _volume_ratio ┆ in_volume_rat │\n",
       "│ i64  ┆ date       ┆ i64           ┆ ---            ┆ f64         ┆ ---           ┆ io            │\n",
       "│      ┆            ┆               ┆ i64            ┆             ┆ f64           ┆ ---           │\n",
       "│      ┆            ┆               ┆                ┆             ┆               ┆ f64           │\n",
       "╞══════╪════════════╪═══════════════╪════════════════╪═════════════╪═══════════════╪═══════════════╡\n",
       "│ 9850 ┆ 2023-02-17 ┆ 470300        ┆ 36700          ┆ 16904.0     ┆ 27.82         ┆ 2.17          │\n",
       "│ 9850 ┆ 2023-03-03 ┆ 626300        ┆ 25200          ┆ 22748.0     ┆ 27.53         ┆ 1.11          │\n",
       "│ 9850 ┆ 2023-02-24 ┆ 533000        ┆ 69500          ┆ 19688.0     ┆ 27.07         ┆ 3.53          │\n",
       "│ 9850 ┆ 2023-03-10 ┆ 646300        ┆ 27000          ┆ 26140.0     ┆ 24.72         ┆ 1.03          │\n",
       "│ 9900 ┆ 2023-03-03 ┆ 944100        ┆ 28600          ┆ 44240.0     ┆ 21.34         ┆ 0.65          │\n",
       "│ …    ┆ …          ┆ …             ┆ …              ┆ …           ┆ …             ┆ …             │\n",
       "│ 9978 ┆ 2023-02-10 ┆ 0             ┆ 1497900        ┆ 269444.0    ┆ 0.0           ┆ 5.56          │\n",
       "│ 9978 ┆ 2023-02-17 ┆ 0             ┆ 1429600        ┆ 267316.0    ┆ 0.0           ┆ 5.35          │\n",
       "│ 9978 ┆ 2023-02-24 ┆ 0             ┆ 1330700        ┆ 277752.0    ┆ 0.0           ┆ 4.79          │\n",
       "│ 9978 ┆ 2023-03-03 ┆ 0             ┆ 1541100        ┆ 145032.0    ┆ 0.0           ┆ 10.63         │\n",
       "│ 9978 ┆ 2023-03-10 ┆ 0             ┆ 1521600        ┆ 131004.0    ┆ 0.0           ┆ 11.61         │\n",
       "└──────┴────────────┴───────────────┴────────────────┴─────────────┴───────────────┴───────────────┘"
      ]
     },
     "execution_count": 12,
     "metadata": {},
     "output_type": "execute_result"
    }
   ],
   "source": [
    "df = CPL.df\n",
    "# df = df.filter(pl.col(\"code\")==1301)\n",
    "df = df.filter(pl.col(\"date\")>=date(2023, 1, 1))\n",
    "df = df.filter(pl.col(\"volume_ma25\")>=10000)\n",
    "df.sort(by=[\"unsold_margin_volume_ratio\"], descending=[True])"
   ]
  },
  {
   "cell_type": "code",
   "execution_count": null,
   "id": "37b3d352-33d0-4291-9b50-5c6045d76c5c",
   "metadata": {},
   "outputs": [],
   "source": []
  }
 ],
 "metadata": {
  "kernelspec": {
   "display_name": "Python 3 (ipykernel)",
   "language": "python",
   "name": "python3"
  },
  "language_info": {
   "codemirror_mode": {
    "name": "ipython",
    "version": 3
   },
   "file_extension": ".py",
   "mimetype": "text/x-python",
   "name": "python",
   "nbconvert_exporter": "python",
   "pygments_lexer": "ipython3",
   "version": "3.12.3"
  }
 },
 "nbformat": 4,
 "nbformat_minor": 5
}
