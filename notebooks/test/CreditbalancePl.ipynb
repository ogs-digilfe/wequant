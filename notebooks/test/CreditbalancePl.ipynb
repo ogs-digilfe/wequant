{
 "cells": [
  {
   "cell_type": "code",
   "execution_count": 1,
   "id": "22aa093c-2455-4880-9e84-19c853e7b36d",
   "metadata": {},
   "outputs": [],
   "source": [
    "# 読み込みファイルパスの設定とimportしたいmoduleパス(pythonパス)の設定\n",
    "from pathlib import Path\n",
    "import os, sys\n",
    "\n",
    "CURRENT_DIR = Path(os.getcwd())\n",
    "PJ_DIR = CURRENT_DIR.parent.parent\n",
    "LIB_DIR = PJ_DIR / \"lib\"\n",
    "DATA_DIR = PJ_DIR / \"data\" \n",
    "\n",
    "sys.path.append(str(LIB_DIR))\n",
    "\n",
    "# notebook内で利用するmoduleのimport\n",
    "from lib_dataprocess import CreditbalancePl\n",
    "import polars as pl\n",
    "from datetime import date"
   ]
  },
  {
   "cell_type": "code",
   "execution_count": 3,
   "id": "6b91be44-9c54-4e00-8bd2-820be271b9dd",
   "metadata": {},
   "outputs": [
    {
     "data": {
      "text/html": [
       "<div><style>\n",
       ".dataframe > thead > tr,\n",
       ".dataframe > tbody > tr {\n",
       "  text-align: right;\n",
       "  white-space: pre-wrap;\n",
       "}\n",
       "</style>\n",
       "<small>shape: (2_911_260, 4)</small><table border=\"1\" class=\"dataframe\"><thead><tr><th>code</th><th>date</th><th>unsold_margin</th><th>purchase_margin</th></tr><tr><td>i64</td><td>date</td><td>i64</td><td>i64</td></tr></thead><tbody><tr><td>1301</td><td>2008-12-30</td><td>558000</td><td>609000</td></tr><tr><td>1301</td><td>2009-01-09</td><td>622000</td><td>597000</td></tr><tr><td>1301</td><td>2009-01-16</td><td>444000</td><td>612000</td></tr><tr><td>1301</td><td>2009-01-23</td><td>441000</td><td>618000</td></tr><tr><td>1301</td><td>2009-01-30</td><td>460000</td><td>651000</td></tr><tr><td>&hellip;</td><td>&hellip;</td><td>&hellip;</td><td>&hellip;</td></tr><tr><td>9997</td><td>2024-11-15</td><td>39300</td><td>637200</td></tr><tr><td>9997</td><td>2024-11-22</td><td>39700</td><td>634500</td></tr><tr><td>9997</td><td>2024-11-29</td><td>40200</td><td>667800</td></tr><tr><td>9997</td><td>2024-12-06</td><td>27200</td><td>727000</td></tr><tr><td>9997</td><td>2024-12-13</td><td>12800</td><td>669800</td></tr></tbody></table></div>"
      ],
      "text/plain": [
       "shape: (2_911_260, 4)\n",
       "┌──────┬────────────┬───────────────┬─────────────────┐\n",
       "│ code ┆ date       ┆ unsold_margin ┆ purchase_margin │\n",
       "│ ---  ┆ ---        ┆ ---           ┆ ---             │\n",
       "│ i64  ┆ date       ┆ i64           ┆ i64             │\n",
       "╞══════╪════════════╪═══════════════╪═════════════════╡\n",
       "│ 1301 ┆ 2008-12-30 ┆ 558000        ┆ 609000          │\n",
       "│ 1301 ┆ 2009-01-09 ┆ 622000        ┆ 597000          │\n",
       "│ 1301 ┆ 2009-01-16 ┆ 444000        ┆ 612000          │\n",
       "│ 1301 ┆ 2009-01-23 ┆ 441000        ┆ 618000          │\n",
       "│ 1301 ┆ 2009-01-30 ┆ 460000        ┆ 651000          │\n",
       "│ …    ┆ …          ┆ …             ┆ …               │\n",
       "│ 9997 ┆ 2024-11-15 ┆ 39300         ┆ 637200          │\n",
       "│ 9997 ┆ 2024-11-22 ┆ 39700         ┆ 634500          │\n",
       "│ 9997 ┆ 2024-11-29 ┆ 40200         ┆ 667800          │\n",
       "│ 9997 ┆ 2024-12-06 ┆ 27200         ┆ 727000          │\n",
       "│ 9997 ┆ 2024-12-13 ┆ 12800         ┆ 669800          │\n",
       "└──────┴────────────┴───────────────┴─────────────────┘"
      ]
     },
     "execution_count": 3,
     "metadata": {},
     "output_type": "execute_result"
    }
   ],
   "source": [
    "# 信用取引データの加工/分析\n",
    "#class CreditbalancePl():\n",
    "#    # dfがセットされていれば、self.dfにセット\n",
    "#    # fpがセットされていれば、fpで指定するpathから信用残履歴のparquet fileを読み込んでself.dfをセット\n",
    "#    # dfもfpもセットされていなければ、所定のファイルパスから信用残履歴のparquet fileを読み込んでself.dfにセット\n",
    "#    def __init__(self, df: Union[pl.DataFrame, None]=None, fp: Union[Path, None]=None):\n",
    "CPL = CreditbalancePl()\n",
    "CPL.df"
   ]
  },
  {
   "cell_type": "code",
   "execution_count": 4,
   "id": "699a2954-b4b8-4de6-a60b-3647b88cee4d",
   "metadata": {},
   "outputs": [],
   "source": [
    "##### filterで始まるメソッド"
   ]
  },
  {
   "cell_type": "code",
   "execution_count": 5,
   "id": "c2a8f2ff-4198-4557-b81c-1872f9c48921",
   "metadata": {},
   "outputs": [
    {
     "data": {
      "text/html": [
       "<div><style>\n",
       ".dataframe > thead > tr,\n",
       ".dataframe > tbody > tr {\n",
       "  text-align: right;\n",
       "  white-space: pre-wrap;\n",
       "}\n",
       "</style>\n",
       "<small>shape: (1_806_616, 4)</small><table border=\"1\" class=\"dataframe\"><thead><tr><th>code</th><th>date</th><th>unsold_margin</th><th>purchase_margin</th></tr><tr><td>i64</td><td>date</td><td>i64</td><td>i64</td></tr></thead><tbody><tr><td>1301</td><td>2008-12-30</td><td>558000</td><td>609000</td></tr><tr><td>1301</td><td>2009-01-09</td><td>622000</td><td>597000</td></tr><tr><td>1301</td><td>2009-01-16</td><td>444000</td><td>612000</td></tr><tr><td>1301</td><td>2009-01-23</td><td>441000</td><td>618000</td></tr><tr><td>1301</td><td>2009-01-30</td><td>460000</td><td>651000</td></tr><tr><td>&hellip;</td><td>&hellip;</td><td>&hellip;</td><td>&hellip;</td></tr><tr><td>9997</td><td>2024-11-15</td><td>39300</td><td>637200</td></tr><tr><td>9997</td><td>2024-11-22</td><td>39700</td><td>634500</td></tr><tr><td>9997</td><td>2024-11-29</td><td>40200</td><td>667800</td></tr><tr><td>9997</td><td>2024-12-06</td><td>27200</td><td>727000</td></tr><tr><td>9997</td><td>2024-12-13</td><td>12800</td><td>669800</td></tr></tbody></table></div>"
      ],
      "text/plain": [
       "shape: (1_806_616, 4)\n",
       "┌──────┬────────────┬───────────────┬─────────────────┐\n",
       "│ code ┆ date       ┆ unsold_margin ┆ purchase_margin │\n",
       "│ ---  ┆ ---        ┆ ---           ┆ ---             │\n",
       "│ i64  ┆ date       ┆ i64           ┆ i64             │\n",
       "╞══════╪════════════╪═══════════════╪═════════════════╡\n",
       "│ 1301 ┆ 2008-12-30 ┆ 558000        ┆ 609000          │\n",
       "│ 1301 ┆ 2009-01-09 ┆ 622000        ┆ 597000          │\n",
       "│ 1301 ┆ 2009-01-16 ┆ 444000        ┆ 612000          │\n",
       "│ 1301 ┆ 2009-01-23 ┆ 441000        ┆ 618000          │\n",
       "│ 1301 ┆ 2009-01-30 ┆ 460000        ┆ 651000          │\n",
       "│ …    ┆ …          ┆ …             ┆ …               │\n",
       "│ 9997 ┆ 2024-11-15 ┆ 39300         ┆ 637200          │\n",
       "│ 9997 ┆ 2024-11-22 ┆ 39700         ┆ 634500          │\n",
       "│ 9997 ┆ 2024-11-29 ┆ 40200         ┆ 667800          │\n",
       "│ 9997 ┆ 2024-12-06 ┆ 27200         ┆ 727000          │\n",
       "│ 9997 ┆ 2024-12-13 ┆ 12800         ┆ 669800          │\n",
       "└──────┴────────────┴───────────────┴─────────────────┘"
      ]
     },
     "execution_count": 5,
     "metadata": {},
     "output_type": "execute_result"
    }
   ],
   "source": [
    "CPL = CreditbalancePl()\n",
    "\n",
    "# filterで始まるメソッド。\n",
    "# 信用売りに対応した銘柄をfilterして、self.dfを書き換える\n",
    "#def filter_unsolod_margin_target(self):\n",
    "CPL.filter_unsold_margin_target()\n",
    "CPL.df"
   ]
  },
  {
   "cell_type": "code",
   "execution_count": null,
   "id": "4d56b4d4-3820-4122-bd6b-c77c320feedd",
   "metadata": {},
   "outputs": [],
   "source": []
  },
  {
   "cell_type": "code",
   "execution_count": 6,
   "id": "fa1a11ea-680d-4e00-a303-19398cbe58f5",
   "metadata": {},
   "outputs": [
    {
     "data": {
      "text/html": [
       "<div><style>\n",
       ".dataframe > thead > tr,\n",
       ".dataframe > tbody > tr {\n",
       "  text-align: right;\n",
       "  white-space: pre-wrap;\n",
       "}\n",
       "</style>\n",
       "<small>shape: (3_761, 4)</small><table border=\"1\" class=\"dataframe\"><thead><tr><th>code</th><th>date</th><th>unsold_margin</th><th>purchase_margin</th></tr><tr><td>i64</td><td>date</td><td>i64</td><td>i64</td></tr></thead><tbody><tr><td>1332</td><td>2024-12-13</td><td>92800</td><td>328300</td></tr><tr><td>1333</td><td>2024-12-13</td><td>13700</td><td>270100</td></tr><tr><td>1375</td><td>2024-12-13</td><td>2900</td><td>133000</td></tr><tr><td>1376</td><td>2024-12-13</td><td>0</td><td>10400</td></tr><tr><td>1377</td><td>2024-12-13</td><td>8800</td><td>49800</td></tr><tr><td>&hellip;</td><td>&hellip;</td><td>&hellip;</td><td>&hellip;</td></tr><tr><td>9991</td><td>2024-12-13</td><td>2500</td><td>217500</td></tr><tr><td>9993</td><td>2024-12-13</td><td>0</td><td>91600</td></tr><tr><td>9994</td><td>2024-12-13</td><td>2400</td><td>14900</td></tr><tr><td>9996</td><td>2024-12-13</td><td>800</td><td>8200</td></tr><tr><td>9997</td><td>2024-12-13</td><td>12800</td><td>669800</td></tr></tbody></table></div>"
      ],
      "text/plain": [
       "shape: (3_761, 4)\n",
       "┌──────┬────────────┬───────────────┬─────────────────┐\n",
       "│ code ┆ date       ┆ unsold_margin ┆ purchase_margin │\n",
       "│ ---  ┆ ---        ┆ ---           ┆ ---             │\n",
       "│ i64  ┆ date       ┆ i64           ┆ i64             │\n",
       "╞══════╪════════════╪═══════════════╪═════════════════╡\n",
       "│ 1332 ┆ 2024-12-13 ┆ 92800         ┆ 328300          │\n",
       "│ 1333 ┆ 2024-12-13 ┆ 13700         ┆ 270100          │\n",
       "│ 1375 ┆ 2024-12-13 ┆ 2900          ┆ 133000          │\n",
       "│ 1376 ┆ 2024-12-13 ┆ 0             ┆ 10400           │\n",
       "│ 1377 ┆ 2024-12-13 ┆ 8800          ┆ 49800           │\n",
       "│ …    ┆ …          ┆ …             ┆ …               │\n",
       "│ 9991 ┆ 2024-12-13 ┆ 2500          ┆ 217500          │\n",
       "│ 9993 ┆ 2024-12-13 ┆ 0             ┆ 91600           │\n",
       "│ 9994 ┆ 2024-12-13 ┆ 2400          ┆ 14900           │\n",
       "│ 9996 ┆ 2024-12-13 ┆ 800           ┆ 8200            │\n",
       "│ 9997 ┆ 2024-12-13 ┆ 12800         ┆ 669800          │\n",
       "└──────┴────────────┴───────────────┴─────────────────┘"
      ]
     },
     "execution_count": 6,
     "metadata": {},
     "output_type": "execute_result"
    }
   ],
   "source": [
    "CPL = CreditbalancePl()\n",
    "\n",
    "# valuation_dateで指定した日における各銘柄の最新のデータのみ抽出してpl.DataFrameの形式で返す\n",
    "# CreditbalancePl.dfは書き換えない。\n",
    "# 更新が止まった銘柄は抽出しない。\n",
    "#def get_latest_df(self, valuation_date: date=date.today()) -> pl.DataFrame:\n",
    "# para set\n",
    "valuation_date = date.today()\n",
    "\n",
    "# execution\n",
    "df = CPL.get_latest_df(valuation_date)\n",
    "df"
   ]
  },
  {
   "cell_type": "code",
   "execution_count": 7,
   "id": "300e7510-e1a7-4d33-bd74-afa1788bc90a",
   "metadata": {},
   "outputs": [
    {
     "data": {
      "text/html": [
       "<div><style>\n",
       ".dataframe > thead > tr,\n",
       ".dataframe > tbody > tr {\n",
       "  text-align: right;\n",
       "  white-space: pre-wrap;\n",
       "}\n",
       "</style>\n",
       "<small>shape: (2_662, 5)</small><table border=\"1\" class=\"dataframe\"><thead><tr><th>code</th><th>date</th><th>unsold_margin</th><th>purchase_margin</th><th>margin_ratio</th></tr><tr><td>i64</td><td>date</td><td>i64</td><td>i64</td><td>f64</td></tr></thead><tbody><tr><td>1301</td><td>2024-12-06</td><td>1600</td><td>68200</td><td>42.63</td></tr><tr><td>1332</td><td>2024-12-13</td><td>92800</td><td>328300</td><td>3.54</td></tr><tr><td>1333</td><td>2024-12-13</td><td>13700</td><td>270100</td><td>19.72</td></tr><tr><td>1334</td><td>2014-03-28</td><td>2519000</td><td>4854000</td><td>1.93</td></tr><tr><td>1375</td><td>2024-12-13</td><td>2900</td><td>133000</td><td>45.86</td></tr><tr><td>&hellip;</td><td>&hellip;</td><td>&hellip;</td><td>&hellip;</td><td>&hellip;</td></tr><tr><td>9990</td><td>2024-12-13</td><td>3200</td><td>150200</td><td>46.94</td></tr><tr><td>9991</td><td>2024-12-13</td><td>2500</td><td>217500</td><td>87.0</td></tr><tr><td>9994</td><td>2024-12-13</td><td>2400</td><td>14900</td><td>6.21</td></tr><tr><td>9996</td><td>2024-12-13</td><td>800</td><td>8200</td><td>10.25</td></tr><tr><td>9997</td><td>2024-12-13</td><td>12800</td><td>669800</td><td>52.33</td></tr></tbody></table></div>"
      ],
      "text/plain": [
       "shape: (2_662, 5)\n",
       "┌──────┬────────────┬───────────────┬─────────────────┬──────────────┐\n",
       "│ code ┆ date       ┆ unsold_margin ┆ purchase_margin ┆ margin_ratio │\n",
       "│ ---  ┆ ---        ┆ ---           ┆ ---             ┆ ---          │\n",
       "│ i64  ┆ date       ┆ i64           ┆ i64             ┆ f64          │\n",
       "╞══════╪════════════╪═══════════════╪═════════════════╪══════════════╡\n",
       "│ 1301 ┆ 2024-12-06 ┆ 1600          ┆ 68200           ┆ 42.63        │\n",
       "│ 1332 ┆ 2024-12-13 ┆ 92800         ┆ 328300          ┆ 3.54         │\n",
       "│ 1333 ┆ 2024-12-13 ┆ 13700         ┆ 270100          ┆ 19.72        │\n",
       "│ 1334 ┆ 2014-03-28 ┆ 2519000       ┆ 4854000         ┆ 1.93         │\n",
       "│ 1375 ┆ 2024-12-13 ┆ 2900          ┆ 133000          ┆ 45.86        │\n",
       "│ …    ┆ …          ┆ …             ┆ …               ┆ …            │\n",
       "│ 9990 ┆ 2024-12-13 ┆ 3200          ┆ 150200          ┆ 46.94        │\n",
       "│ 9991 ┆ 2024-12-13 ┆ 2500          ┆ 217500          ┆ 87.0         │\n",
       "│ 9994 ┆ 2024-12-13 ┆ 2400          ┆ 14900           ┆ 6.21         │\n",
       "│ 9996 ┆ 2024-12-13 ┆ 800           ┆ 8200            ┆ 10.25        │\n",
       "│ 9997 ┆ 2024-12-13 ┆ 12800         ┆ 669800          ┆ 52.33        │\n",
       "└──────┴────────────┴───────────────┴─────────────────┴──────────────┘"
      ]
     },
     "execution_count": 7,
     "metadata": {},
     "output_type": "execute_result"
    }
   ],
   "source": [
    "CPL = CreditbalancePl()\n",
    "\n",
    "# valuation_dateで指定した日における各銘柄の最新の信用倍率リストをpl.DataFrameの形式で返す\n",
    "#def get_latest_margin_ratio_df(self, valuation_date: date=date.today()) -> pl.DataFrame:\n",
    "# para\n",
    "valuation_date = date.today()\n",
    "\n",
    "# execute method\n",
    "df =  CPL.get_latest_margin_ratio_df(valuation_date=valuation_date)\n",
    "df"
   ]
  },
  {
   "cell_type": "code",
   "execution_count": 8,
   "id": "6396d764-9ee4-4685-8eb5-298c6e86b99c",
   "metadata": {},
   "outputs": [],
   "source": [
    "##### with_columns_で始まるメソッド"
   ]
  },
  {
   "cell_type": "code",
   "execution_count": 2,
   "id": "08c2e8c4-82d3-4716-b17a-9fc7f33c1ddb",
   "metadata": {},
   "outputs": [
    {
     "data": {
      "text/html": [
       "<div><style>\n",
       ".dataframe > thead > tr,\n",
       ".dataframe > tbody > tr {\n",
       "  text-align: right;\n",
       "  white-space: pre-wrap;\n",
       "}\n",
       "</style>\n",
       "<small>shape: (2_906_594, 6)</small><table border=\"1\" class=\"dataframe\"><thead><tr><th>code</th><th>date</th><th>unsold_margin</th><th>purchase_margin</th><th>diff_unsold_margin</th><th>diff_purchase_margin</th></tr><tr><td>i64</td><td>date</td><td>i64</td><td>i64</td><td>i64</td><td>i64</td></tr></thead><tbody><tr><td>1301</td><td>2009-01-09</td><td>622000</td><td>597000</td><td>64000</td><td>-12000</td></tr><tr><td>1301</td><td>2009-01-16</td><td>444000</td><td>612000</td><td>-178000</td><td>15000</td></tr><tr><td>1301</td><td>2009-01-23</td><td>441000</td><td>618000</td><td>-3000</td><td>6000</td></tr><tr><td>1301</td><td>2009-01-30</td><td>460000</td><td>651000</td><td>19000</td><td>33000</td></tr><tr><td>1301</td><td>2009-02-06</td><td>426000</td><td>631000</td><td>-34000</td><td>-20000</td></tr><tr><td>&hellip;</td><td>&hellip;</td><td>&hellip;</td><td>&hellip;</td><td>&hellip;</td><td>&hellip;</td></tr><tr><td>9997</td><td>2024-11-15</td><td>39300</td><td>637200</td><td>300</td><td>-106200</td></tr><tr><td>9997</td><td>2024-11-22</td><td>39700</td><td>634500</td><td>400</td><td>-2700</td></tr><tr><td>9997</td><td>2024-11-29</td><td>40200</td><td>667800</td><td>500</td><td>33300</td></tr><tr><td>9997</td><td>2024-12-06</td><td>27200</td><td>727000</td><td>-13000</td><td>59200</td></tr><tr><td>9997</td><td>2024-12-13</td><td>12800</td><td>669800</td><td>-14400</td><td>-57200</td></tr></tbody></table></div>"
      ],
      "text/plain": [
       "shape: (2_906_594, 6)\n",
       "┌──────┬────────────┬───────────────┬─────────────────┬────────────────────┬──────────────────────┐\n",
       "│ code ┆ date       ┆ unsold_margin ┆ purchase_margin ┆ diff_unsold_margin ┆ diff_purchase_margin │\n",
       "│ ---  ┆ ---        ┆ ---           ┆ ---             ┆ ---                ┆ ---                  │\n",
       "│ i64  ┆ date       ┆ i64           ┆ i64             ┆ i64                ┆ i64                  │\n",
       "╞══════╪════════════╪═══════════════╪═════════════════╪════════════════════╪══════════════════════╡\n",
       "│ 1301 ┆ 2009-01-09 ┆ 622000        ┆ 597000          ┆ 64000              ┆ -12000               │\n",
       "│ 1301 ┆ 2009-01-16 ┆ 444000        ┆ 612000          ┆ -178000            ┆ 15000                │\n",
       "│ 1301 ┆ 2009-01-23 ┆ 441000        ┆ 618000          ┆ -3000              ┆ 6000                 │\n",
       "│ 1301 ┆ 2009-01-30 ┆ 460000        ┆ 651000          ┆ 19000              ┆ 33000                │\n",
       "│ 1301 ┆ 2009-02-06 ┆ 426000        ┆ 631000          ┆ -34000             ┆ -20000               │\n",
       "│ …    ┆ …          ┆ …             ┆ …               ┆ …                  ┆ …                    │\n",
       "│ 9997 ┆ 2024-11-15 ┆ 39300         ┆ 637200          ┆ 300                ┆ -106200              │\n",
       "│ 9997 ┆ 2024-11-22 ┆ 39700         ┆ 634500          ┆ 400                ┆ -2700                │\n",
       "│ 9997 ┆ 2024-11-29 ┆ 40200         ┆ 667800          ┆ 500                ┆ 33300                │\n",
       "│ 9997 ┆ 2024-12-06 ┆ 27200         ┆ 727000          ┆ -13000             ┆ 59200                │\n",
       "│ 9997 ┆ 2024-12-13 ┆ 12800         ┆ 669800          ┆ -14400             ┆ -57200               │\n",
       "└──────┴────────────┴───────────────┴─────────────────┴────────────────────┴──────────────────────┘"
      ]
     },
     "execution_count": 2,
     "metadata": {},
     "output_type": "execute_result"
    }
   ],
   "source": [
    "CPL = CreditbalancePl()\n",
    "\n",
    "# 売残、買残それぞれについて前週との差分列を追加する\n",
    "# CreditbalancePl.dfを書き換える\n",
    "#def with_columns_diff_margin(self):\n",
    "CPL.with_columns_diff_margin()\n",
    "CPL.df"
   ]
  },
  {
   "cell_type": "code",
   "execution_count": 10,
   "id": "7d50d3fc-de88-445b-ac95-72d4c90f2156",
   "metadata": {},
   "outputs": [
    {
     "data": {
      "text/html": [
       "<div><style>\n",
       ".dataframe > thead > tr,\n",
       ".dataframe > tbody > tr {\n",
       "  text-align: right;\n",
       "  white-space: pre-wrap;\n",
       "}\n",
       "</style>\n",
       "<small>shape: (2_906_594, 6)</small><table border=\"1\" class=\"dataframe\"><thead><tr><th>code</th><th>date</th><th>unsold_margin</th><th>purchase_margin</th><th>diff_unsold_margin_rate</th><th>diff_purchase_margin_rate</th></tr><tr><td>i64</td><td>date</td><td>i64</td><td>i64</td><td>f64</td><td>f64</td></tr></thead><tbody><tr><td>1301</td><td>2009-01-09</td><td>622000</td><td>597000</td><td>11.5</td><td>-2.0</td></tr><tr><td>1301</td><td>2009-01-16</td><td>444000</td><td>612000</td><td>-28.6</td><td>2.5</td></tr><tr><td>1301</td><td>2009-01-23</td><td>441000</td><td>618000</td><td>-0.7</td><td>1.0</td></tr><tr><td>1301</td><td>2009-01-30</td><td>460000</td><td>651000</td><td>4.3</td><td>5.3</td></tr><tr><td>1301</td><td>2009-02-06</td><td>426000</td><td>631000</td><td>-7.4</td><td>-3.1</td></tr><tr><td>&hellip;</td><td>&hellip;</td><td>&hellip;</td><td>&hellip;</td><td>&hellip;</td><td>&hellip;</td></tr><tr><td>9997</td><td>2024-11-15</td><td>39300</td><td>637200</td><td>0.8</td><td>-14.3</td></tr><tr><td>9997</td><td>2024-11-22</td><td>39700</td><td>634500</td><td>1.0</td><td>-0.4</td></tr><tr><td>9997</td><td>2024-11-29</td><td>40200</td><td>667800</td><td>1.3</td><td>5.2</td></tr><tr><td>9997</td><td>2024-12-06</td><td>27200</td><td>727000</td><td>-32.3</td><td>8.9</td></tr><tr><td>9997</td><td>2024-12-13</td><td>12800</td><td>669800</td><td>-52.9</td><td>-7.9</td></tr></tbody></table></div>"
      ],
      "text/plain": [
       "shape: (2_906_594, 6)\n",
       "┌──────┬────────────┬───────────────┬─────────────────┬──────────────────────┬─────────────────────┐\n",
       "│ code ┆ date       ┆ unsold_margin ┆ purchase_margin ┆ diff_unsold_margin_r ┆ diff_purchase_margi │\n",
       "│ ---  ┆ ---        ┆ ---           ┆ ---             ┆ ate                  ┆ n_rate              │\n",
       "│ i64  ┆ date       ┆ i64           ┆ i64             ┆ ---                  ┆ ---                 │\n",
       "│      ┆            ┆               ┆                 ┆ f64                  ┆ f64                 │\n",
       "╞══════╪════════════╪═══════════════╪═════════════════╪══════════════════════╪═════════════════════╡\n",
       "│ 1301 ┆ 2009-01-09 ┆ 622000        ┆ 597000          ┆ 11.5                 ┆ -2.0                │\n",
       "│ 1301 ┆ 2009-01-16 ┆ 444000        ┆ 612000          ┆ -28.6                ┆ 2.5                 │\n",
       "│ 1301 ┆ 2009-01-23 ┆ 441000        ┆ 618000          ┆ -0.7                 ┆ 1.0                 │\n",
       "│ 1301 ┆ 2009-01-30 ┆ 460000        ┆ 651000          ┆ 4.3                  ┆ 5.3                 │\n",
       "│ 1301 ┆ 2009-02-06 ┆ 426000        ┆ 631000          ┆ -7.4                 ┆ -3.1                │\n",
       "│ …    ┆ …          ┆ …             ┆ …               ┆ …                    ┆ …                   │\n",
       "│ 9997 ┆ 2024-11-15 ┆ 39300         ┆ 637200          ┆ 0.8                  ┆ -14.3               │\n",
       "│ 9997 ┆ 2024-11-22 ┆ 39700         ┆ 634500          ┆ 1.0                  ┆ -0.4                │\n",
       "│ 9997 ┆ 2024-11-29 ┆ 40200         ┆ 667800          ┆ 1.3                  ┆ 5.2                 │\n",
       "│ 9997 ┆ 2024-12-06 ┆ 27200         ┆ 727000          ┆ -32.3                ┆ 8.9                 │\n",
       "│ 9997 ┆ 2024-12-13 ┆ 12800         ┆ 669800          ┆ -52.9                ┆ -7.9                │\n",
       "└──────┴────────────┴───────────────┴─────────────────┴──────────────────────┴─────────────────────┘"
      ]
     },
     "execution_count": 10,
     "metadata": {},
     "output_type": "execute_result"
    }
   ],
   "source": [
    "CPL = CreditbalancePl()\n",
    "\n",
    "# 売残、買残それぞれの前週からの増減率列を追加する\n",
    "# CreditbalancePl.dfを書き換える\n",
    "#def with_columns_diff_margin(self):\n",
    "CPL.with_columns_diff_margin_rate()\n",
    "CPL.df"
   ]
  },
  {
   "cell_type": "code",
   "execution_count": 11,
   "id": "b3df33b3-b5fc-4125-a168-a518e3643924",
   "metadata": {},
   "outputs": [
    {
     "data": {
      "text/html": [
       "<div><style>\n",
       ".dataframe > thead > tr,\n",
       ".dataframe > tbody > tr {\n",
       "  text-align: right;\n",
       "  white-space: pre-wrap;\n",
       "}\n",
       "</style>\n",
       "<small>shape: (1_806_616, 5)</small><table border=\"1\" class=\"dataframe\"><thead><tr><th>code</th><th>date</th><th>unsold_margin</th><th>purchase_margin</th><th>margin_ratio</th></tr><tr><td>i64</td><td>date</td><td>i64</td><td>i64</td><td>f64</td></tr></thead><tbody><tr><td>1301</td><td>2008-12-30</td><td>558000</td><td>609000</td><td>1.09</td></tr><tr><td>1301</td><td>2009-01-09</td><td>622000</td><td>597000</td><td>0.96</td></tr><tr><td>1301</td><td>2009-01-16</td><td>444000</td><td>612000</td><td>1.38</td></tr><tr><td>1301</td><td>2009-01-23</td><td>441000</td><td>618000</td><td>1.4</td></tr><tr><td>1301</td><td>2009-01-30</td><td>460000</td><td>651000</td><td>1.42</td></tr><tr><td>&hellip;</td><td>&hellip;</td><td>&hellip;</td><td>&hellip;</td><td>&hellip;</td></tr><tr><td>9997</td><td>2024-11-15</td><td>39300</td><td>637200</td><td>16.21</td></tr><tr><td>9997</td><td>2024-11-22</td><td>39700</td><td>634500</td><td>15.98</td></tr><tr><td>9997</td><td>2024-11-29</td><td>40200</td><td>667800</td><td>16.61</td></tr><tr><td>9997</td><td>2024-12-06</td><td>27200</td><td>727000</td><td>26.73</td></tr><tr><td>9997</td><td>2024-12-13</td><td>12800</td><td>669800</td><td>52.33</td></tr></tbody></table></div>"
      ],
      "text/plain": [
       "shape: (1_806_616, 5)\n",
       "┌──────┬────────────┬───────────────┬─────────────────┬──────────────┐\n",
       "│ code ┆ date       ┆ unsold_margin ┆ purchase_margin ┆ margin_ratio │\n",
       "│ ---  ┆ ---        ┆ ---           ┆ ---             ┆ ---          │\n",
       "│ i64  ┆ date       ┆ i64           ┆ i64             ┆ f64          │\n",
       "╞══════╪════════════╪═══════════════╪═════════════════╪══════════════╡\n",
       "│ 1301 ┆ 2008-12-30 ┆ 558000        ┆ 609000          ┆ 1.09         │\n",
       "│ 1301 ┆ 2009-01-09 ┆ 622000        ┆ 597000          ┆ 0.96         │\n",
       "│ 1301 ┆ 2009-01-16 ┆ 444000        ┆ 612000          ┆ 1.38         │\n",
       "│ 1301 ┆ 2009-01-23 ┆ 441000        ┆ 618000          ┆ 1.4          │\n",
       "│ 1301 ┆ 2009-01-30 ┆ 460000        ┆ 651000          ┆ 1.42         │\n",
       "│ …    ┆ …          ┆ …             ┆ …               ┆ …            │\n",
       "│ 9997 ┆ 2024-11-15 ┆ 39300         ┆ 637200          ┆ 16.21        │\n",
       "│ 9997 ┆ 2024-11-22 ┆ 39700         ┆ 634500          ┆ 15.98        │\n",
       "│ 9997 ┆ 2024-11-29 ┆ 40200         ┆ 667800          ┆ 16.61        │\n",
       "│ 9997 ┆ 2024-12-06 ┆ 27200         ┆ 727000          ┆ 26.73        │\n",
       "│ 9997 ┆ 2024-12-13 ┆ 12800         ┆ 669800          ┆ 52.33        │\n",
       "└──────┴────────────┴───────────────┴─────────────────┴──────────────┘"
      ]
     },
     "execution_count": 11,
     "metadata": {},
     "output_type": "execute_result"
    }
   ],
   "source": [
    "CPL = CreditbalancePl()\n",
    "\n",
    "# 各銘柄の最新データの売り残が0でない銘柄を抽出し、margin_ratio列(信用倍率=売残/買残)を追加。\n",
    "# CreditbalancePl.dfを書き換える\n",
    "# def with_columns_margin_ratio(self):\n",
    "\n",
    "CPL.with_columns_margin_ratio()\n",
    "CPL.df"
   ]
  },
  {
   "cell_type": "code",
   "execution_count": 12,
   "id": "6b3dc4d2-ed60-4f9c-82ef-f2ec94c93035",
   "metadata": {},
   "outputs": [
    {
     "data": {
      "text/html": [
       "<div><style>\n",
       ".dataframe > thead > tr,\n",
       ".dataframe > tbody > tr {\n",
       "  text-align: right;\n",
       "  white-space: pre-wrap;\n",
       "}\n",
       "</style>\n",
       "<small>shape: (2_485_172, 7)</small><table border=\"1\" class=\"dataframe\"><thead><tr><th>code</th><th>date</th><th>unsold_margin</th><th>purchase_margin</th><th>volume_ma25</th><th>unsold_margin_volume_ratio</th><th>purchase_margin_volume_ratio</th></tr><tr><td>i64</td><td>date</td><td>i64</td><td>i64</td><td>f64</td><td>f64</td><td>f64</td></tr></thead><tbody><tr><td>1301</td><td>2009-02-13</td><td>427000</td><td>608000</td><td>138240.0</td><td>3.09</td><td>4.4</td></tr><tr><td>1301</td><td>2009-02-20</td><td>426000</td><td>624000</td><td>137280.0</td><td>3.1</td><td>4.55</td></tr><tr><td>1301</td><td>2009-02-27</td><td>467000</td><td>594000</td><td>150920.0</td><td>3.09</td><td>3.94</td></tr><tr><td>1301</td><td>2009-03-06</td><td>464000</td><td>606000</td><td>154600.0</td><td>3.0</td><td>3.92</td></tr><tr><td>1301</td><td>2009-03-13</td><td>397000</td><td>638000</td><td>157800.0</td><td>2.52</td><td>4.04</td></tr><tr><td>&hellip;</td><td>&hellip;</td><td>&hellip;</td><td>&hellip;</td><td>&hellip;</td><td>&hellip;</td><td>&hellip;</td></tr><tr><td>9997</td><td>2024-11-15</td><td>39300</td><td>637200</td><td>168780.0</td><td>0.23</td><td>3.78</td></tr><tr><td>9997</td><td>2024-11-22</td><td>39700</td><td>634500</td><td>148708.0</td><td>0.27</td><td>4.27</td></tr><tr><td>9997</td><td>2024-11-29</td><td>40200</td><td>667800</td><td>142640.0</td><td>0.28</td><td>4.68</td></tr><tr><td>9997</td><td>2024-12-06</td><td>27200</td><td>727000</td><td>135664.0</td><td>0.2</td><td>5.36</td></tr><tr><td>9997</td><td>2024-12-13</td><td>12800</td><td>669800</td><td>139584.0</td><td>0.09</td><td>4.8</td></tr></tbody></table></div>"
      ],
      "text/plain": [
       "shape: (2_485_172, 7)\n",
       "┌──────┬────────────┬───────────────┬────────────────┬─────────────┬───────────────┬───────────────┐\n",
       "│ code ┆ date       ┆ unsold_margin ┆ purchase_margi ┆ volume_ma25 ┆ unsold_margin ┆ purchase_marg │\n",
       "│ ---  ┆ ---        ┆ ---           ┆ n              ┆ ---         ┆ _volume_ratio ┆ in_volume_rat │\n",
       "│ i64  ┆ date       ┆ i64           ┆ ---            ┆ f64         ┆ ---           ┆ io            │\n",
       "│      ┆            ┆               ┆ i64            ┆             ┆ f64           ┆ ---           │\n",
       "│      ┆            ┆               ┆                ┆             ┆               ┆ f64           │\n",
       "╞══════╪════════════╪═══════════════╪════════════════╪═════════════╪═══════════════╪═══════════════╡\n",
       "│ 1301 ┆ 2009-02-13 ┆ 427000        ┆ 608000         ┆ 138240.0    ┆ 3.09          ┆ 4.4           │\n",
       "│ 1301 ┆ 2009-02-20 ┆ 426000        ┆ 624000         ┆ 137280.0    ┆ 3.1           ┆ 4.55          │\n",
       "│ 1301 ┆ 2009-02-27 ┆ 467000        ┆ 594000         ┆ 150920.0    ┆ 3.09          ┆ 3.94          │\n",
       "│ 1301 ┆ 2009-03-06 ┆ 464000        ┆ 606000         ┆ 154600.0    ┆ 3.0           ┆ 3.92          │\n",
       "│ 1301 ┆ 2009-03-13 ┆ 397000        ┆ 638000         ┆ 157800.0    ┆ 2.52          ┆ 4.04          │\n",
       "│ …    ┆ …          ┆ …             ┆ …              ┆ …           ┆ …             ┆ …             │\n",
       "│ 9997 ┆ 2024-11-15 ┆ 39300         ┆ 637200         ┆ 168780.0    ┆ 0.23          ┆ 3.78          │\n",
       "│ 9997 ┆ 2024-11-22 ┆ 39700         ┆ 634500         ┆ 148708.0    ┆ 0.27          ┆ 4.27          │\n",
       "│ 9997 ┆ 2024-11-29 ┆ 40200         ┆ 667800         ┆ 142640.0    ┆ 0.28          ┆ 4.68          │\n",
       "│ 9997 ┆ 2024-12-06 ┆ 27200         ┆ 727000         ┆ 135664.0    ┆ 0.2           ┆ 5.36          │\n",
       "│ 9997 ┆ 2024-12-13 ┆ 12800         ┆ 669800         ┆ 139584.0    ┆ 0.09          ┆ 4.8           │\n",
       "└──────┴────────────┴───────────────┴────────────────┴─────────────┴───────────────┴───────────────┘"
      ]
     },
     "execution_count": 12,
     "metadata": {},
     "output_type": "execute_result"
    }
   ],
   "source": [
    "CPL = CreditbalancePl()\n",
    "\n",
    "# 信用残高が、日足出来高の何倍あるかを計算した列\"unsold_margin_volume_ratio\"列と\"purchase_margin_volume_ratio\"列を追加する。\n",
    "# 日々の変動が大きいので、日足出来高は移動平均を使用する。\n",
    "# termでは、日足出来高の移動平均の計算期間を日数で指定する。\n",
    "#def with_columns_margin_volume_ratio(self, term: int=25):\n",
    "term = 25\n",
    "CPL.with_columns_margin_volume_ratio(term)\n",
    "CPL.df"
   ]
  },
  {
   "cell_type": "code",
   "execution_count": 3,
   "id": "2c47dcae-3ddc-4a81-8661-aa1070d09393",
   "metadata": {},
   "outputs": [
    {
     "data": {
      "text/html": [
       "<div><style>\n",
       ".dataframe > thead > tr,\n",
       ".dataframe > tbody > tr {\n",
       "  text-align: right;\n",
       "  white-space: pre-wrap;\n",
       "}\n",
       "</style>\n",
       "<small>shape: (2_911_260, 5)</small><table border=\"1\" class=\"dataframe\"><thead><tr><th>code</th><th>date</th><th>unsold_margin</th><th>purchase_margin</th><th>weekid</th></tr><tr><td>i64</td><td>date</td><td>i64</td><td>i64</td><td>i16</td></tr></thead><tbody><tr><td>1301</td><td>2008-12-30</td><td>558000</td><td>609000</td><td>487</td></tr><tr><td>1301</td><td>2009-01-09</td><td>622000</td><td>597000</td><td>488</td></tr><tr><td>1301</td><td>2009-01-16</td><td>444000</td><td>612000</td><td>489</td></tr><tr><td>1301</td><td>2009-01-23</td><td>441000</td><td>618000</td><td>490</td></tr><tr><td>1301</td><td>2009-01-30</td><td>460000</td><td>651000</td><td>491</td></tr><tr><td>&hellip;</td><td>&hellip;</td><td>&hellip;</td><td>&hellip;</td><td>&hellip;</td></tr><tr><td>9997</td><td>2024-11-15</td><td>39300</td><td>637200</td><td>1315</td></tr><tr><td>9997</td><td>2024-11-22</td><td>39700</td><td>634500</td><td>1316</td></tr><tr><td>9997</td><td>2024-11-29</td><td>40200</td><td>667800</td><td>1317</td></tr><tr><td>9997</td><td>2024-12-06</td><td>27200</td><td>727000</td><td>1318</td></tr><tr><td>9997</td><td>2024-12-13</td><td>12800</td><td>669800</td><td>1319</td></tr></tbody></table></div>"
      ],
      "text/plain": [
       "shape: (2_911_260, 5)\n",
       "┌──────┬────────────┬───────────────┬─────────────────┬────────┐\n",
       "│ code ┆ date       ┆ unsold_margin ┆ purchase_margin ┆ weekid │\n",
       "│ ---  ┆ ---        ┆ ---           ┆ ---             ┆ ---    │\n",
       "│ i64  ┆ date       ┆ i64           ┆ i64             ┆ i16    │\n",
       "╞══════╪════════════╪═══════════════╪═════════════════╪════════╡\n",
       "│ 1301 ┆ 2008-12-30 ┆ 558000        ┆ 609000          ┆ 487    │\n",
       "│ 1301 ┆ 2009-01-09 ┆ 622000        ┆ 597000          ┆ 488    │\n",
       "│ 1301 ┆ 2009-01-16 ┆ 444000        ┆ 612000          ┆ 489    │\n",
       "│ 1301 ┆ 2009-01-23 ┆ 441000        ┆ 618000          ┆ 490    │\n",
       "│ 1301 ┆ 2009-01-30 ┆ 460000        ┆ 651000          ┆ 491    │\n",
       "│ …    ┆ …          ┆ …             ┆ …               ┆ …      │\n",
       "│ 9997 ┆ 2024-11-15 ┆ 39300         ┆ 637200          ┆ 1315   │\n",
       "│ 9997 ┆ 2024-11-22 ┆ 39700         ┆ 634500          ┆ 1316   │\n",
       "│ 9997 ┆ 2024-11-29 ┆ 40200         ┆ 667800          ┆ 1317   │\n",
       "│ 9997 ┆ 2024-12-06 ┆ 27200         ┆ 727000          ┆ 1318   │\n",
       "│ 9997 ┆ 2024-12-13 ┆ 12800         ┆ 669800          ┆ 1319   │\n",
       "└──────┴────────────┴───────────────┴─────────────────┴────────┘"
      ]
     },
     "execution_count": 3,
     "metadata": {},
     "output_type": "execute_result"
    }
   ],
   "source": [
    "CPL = CreditbalancePl()\n",
    "\n",
    "# 週でグループ化できるように、日付から週グループのインデックス列を追加する\n",
    "# dailyのdfとweeklyのdfを紐づける(joinする)ときに便利。\n",
    "# PricelistPl.dfに列を追加する\n",
    "#def with_columns_weekid(self) -> None:\n",
    "CPL.with_columns_weekid()\n",
    "CPL.df"
   ]
  },
  {
   "cell_type": "code",
   "execution_count": 13,
   "id": "695c7729-f0c3-488a-a5dc-050d193057a8",
   "metadata": {},
   "outputs": [],
   "source": [
    "###### trial"
   ]
  },
  {
   "cell_type": "code",
   "execution_count": 14,
   "id": "5a56d03f-6b5c-41f3-9ab3-437f145f3697",
   "metadata": {},
   "outputs": [
    {
     "data": {
      "text/html": [
       "<div><style>\n",
       ".dataframe > thead > tr,\n",
       ".dataframe > tbody > tr {\n",
       "  text-align: right;\n",
       "  white-space: pre-wrap;\n",
       "}\n",
       "</style>\n",
       "<small>shape: (283_938, 7)</small><table border=\"1\" class=\"dataframe\"><thead><tr><th>code</th><th>date</th><th>unsold_margin</th><th>purchase_margin</th><th>volume_ma25</th><th>unsold_margin_volume_ratio</th><th>purchase_margin_volume_ratio</th></tr><tr><td>i64</td><td>date</td><td>i64</td><td>i64</td><td>f64</td><td>f64</td><td>f64</td></tr></thead><tbody><tr><td>4801</td><td>2024-09-13</td><td>334400</td><td>9800</td><td>10168.0</td><td>32.89</td><td>0.96</td></tr><tr><td>4801</td><td>2024-09-20</td><td>334400</td><td>9900</td><td>11452.0</td><td>29.2</td><td>0.86</td></tr><tr><td>9850</td><td>2023-02-17</td><td>470300</td><td>36700</td><td>16904.0</td><td>27.82</td><td>2.17</td></tr><tr><td>8275</td><td>2023-09-15</td><td>376100</td><td>7100</td><td>13588.0</td><td>27.68</td><td>0.52</td></tr><tr><td>9850</td><td>2023-03-03</td><td>626300</td><td>25200</td><td>22748.0</td><td>27.53</td><td>1.11</td></tr><tr><td>&hellip;</td><td>&hellip;</td><td>&hellip;</td><td>&hellip;</td><td>&hellip;</td><td>&hellip;</td><td>&hellip;</td></tr><tr><td>9995</td><td>2024-04-19</td><td>0</td><td>8200</td><td>92864.0</td><td>0.0</td><td>0.09</td></tr><tr><td>9995</td><td>2024-04-26</td><td>0</td><td>6200</td><td>85388.0</td><td>0.0</td><td>0.07</td></tr><tr><td>9995</td><td>2024-05-10</td><td>0</td><td>6300</td><td>26420.0</td><td>0.0</td><td>0.24</td></tr><tr><td>9995</td><td>2024-05-17</td><td>0</td><td>3900</td><td>42096.0</td><td>0.0</td><td>0.09</td></tr><tr><td>9995</td><td>2024-05-24</td><td>0</td><td>1400</td><td>43312.0</td><td>0.0</td><td>0.03</td></tr></tbody></table></div>"
      ],
      "text/plain": [
       "shape: (283_938, 7)\n",
       "┌──────┬────────────┬───────────────┬────────────────┬─────────────┬───────────────┬───────────────┐\n",
       "│ code ┆ date       ┆ unsold_margin ┆ purchase_margi ┆ volume_ma25 ┆ unsold_margin ┆ purchase_marg │\n",
       "│ ---  ┆ ---        ┆ ---           ┆ n              ┆ ---         ┆ _volume_ratio ┆ in_volume_rat │\n",
       "│ i64  ┆ date       ┆ i64           ┆ ---            ┆ f64         ┆ ---           ┆ io            │\n",
       "│      ┆            ┆               ┆ i64            ┆             ┆ f64           ┆ ---           │\n",
       "│      ┆            ┆               ┆                ┆             ┆               ┆ f64           │\n",
       "╞══════╪════════════╪═══════════════╪════════════════╪═════════════╪═══════════════╪═══════════════╡\n",
       "│ 4801 ┆ 2024-09-13 ┆ 334400        ┆ 9800           ┆ 10168.0     ┆ 32.89         ┆ 0.96          │\n",
       "│ 4801 ┆ 2024-09-20 ┆ 334400        ┆ 9900           ┆ 11452.0     ┆ 29.2          ┆ 0.86          │\n",
       "│ 9850 ┆ 2023-02-17 ┆ 470300        ┆ 36700          ┆ 16904.0     ┆ 27.82         ┆ 2.17          │\n",
       "│ 8275 ┆ 2023-09-15 ┆ 376100        ┆ 7100           ┆ 13588.0     ┆ 27.68         ┆ 0.52          │\n",
       "│ 9850 ┆ 2023-03-03 ┆ 626300        ┆ 25200          ┆ 22748.0     ┆ 27.53         ┆ 1.11          │\n",
       "│ …    ┆ …          ┆ …             ┆ …              ┆ …           ┆ …             ┆ …             │\n",
       "│ 9995 ┆ 2024-04-19 ┆ 0             ┆ 8200           ┆ 92864.0     ┆ 0.0           ┆ 0.09          │\n",
       "│ 9995 ┆ 2024-04-26 ┆ 0             ┆ 6200           ┆ 85388.0     ┆ 0.0           ┆ 0.07          │\n",
       "│ 9995 ┆ 2024-05-10 ┆ 0             ┆ 6300           ┆ 26420.0     ┆ 0.0           ┆ 0.24          │\n",
       "│ 9995 ┆ 2024-05-17 ┆ 0             ┆ 3900           ┆ 42096.0     ┆ 0.0           ┆ 0.09          │\n",
       "│ 9995 ┆ 2024-05-24 ┆ 0             ┆ 1400           ┆ 43312.0     ┆ 0.0           ┆ 0.03          │\n",
       "└──────┴────────────┴───────────────┴────────────────┴─────────────┴───────────────┴───────────────┘"
      ]
     },
     "execution_count": 14,
     "metadata": {},
     "output_type": "execute_result"
    }
   ],
   "source": [
    "# 出来高に対して売り残が多い銘柄/日付の抽出\n",
    "df = CPL.df\n",
    "# df = df.filter(pl.col(\"code\")==1301)\n",
    "df = df.filter(pl.col(\"date\")>=date(2023, 1, 1))\n",
    "df = df.filter(pl.col(\"volume_ma25\")>=10000)\n",
    "df.sort(by=[\"unsold_margin_volume_ratio\"], descending=[True])"
   ]
  },
  {
   "cell_type": "code",
   "execution_count": 15,
   "id": "2c9603e1-bfd3-45ea-863d-ad9efcee60bf",
   "metadata": {},
   "outputs": [],
   "source": [
    "##### with_columnsで始まるメソッド"
   ]
  },
  {
   "cell_type": "code",
   "execution_count": 16,
   "id": "85a8f8ae-84fb-458d-8a59-ea08cd701ece",
   "metadata": {},
   "outputs": [
    {
     "data": {
      "text/html": [
       "<div><style>\n",
       ".dataframe > thead > tr,\n",
       ".dataframe > tbody > tr {\n",
       "  text-align: right;\n",
       "  white-space: pre-wrap;\n",
       "}\n",
       "</style>\n",
       "<small>shape: (2_906_594, 6)</small><table border=\"1\" class=\"dataframe\"><thead><tr><th>code</th><th>date</th><th>unsold_margin</th><th>purchase_margin</th><th>diff_unsold_margin</th><th>diff_purchase_margin</th></tr><tr><td>i64</td><td>date</td><td>i64</td><td>i64</td><td>i64</td><td>i64</td></tr></thead><tbody><tr><td>1301</td><td>2009-01-09</td><td>622000</td><td>597000</td><td>64000</td><td>-12000</td></tr><tr><td>1301</td><td>2009-01-16</td><td>444000</td><td>612000</td><td>-178000</td><td>15000</td></tr><tr><td>1301</td><td>2009-01-23</td><td>441000</td><td>618000</td><td>-3000</td><td>6000</td></tr><tr><td>1301</td><td>2009-01-30</td><td>460000</td><td>651000</td><td>19000</td><td>33000</td></tr><tr><td>1301</td><td>2009-02-06</td><td>426000</td><td>631000</td><td>-34000</td><td>-20000</td></tr><tr><td>&hellip;</td><td>&hellip;</td><td>&hellip;</td><td>&hellip;</td><td>&hellip;</td><td>&hellip;</td></tr><tr><td>9997</td><td>2024-11-15</td><td>39300</td><td>637200</td><td>300</td><td>-106200</td></tr><tr><td>9997</td><td>2024-11-22</td><td>39700</td><td>634500</td><td>400</td><td>-2700</td></tr><tr><td>9997</td><td>2024-11-29</td><td>40200</td><td>667800</td><td>500</td><td>33300</td></tr><tr><td>9997</td><td>2024-12-06</td><td>27200</td><td>727000</td><td>-13000</td><td>59200</td></tr><tr><td>9997</td><td>2024-12-13</td><td>12800</td><td>669800</td><td>-14400</td><td>-57200</td></tr></tbody></table></div>"
      ],
      "text/plain": [
       "shape: (2_906_594, 6)\n",
       "┌──────┬────────────┬───────────────┬─────────────────┬────────────────────┬──────────────────────┐\n",
       "│ code ┆ date       ┆ unsold_margin ┆ purchase_margin ┆ diff_unsold_margin ┆ diff_purchase_margin │\n",
       "│ ---  ┆ ---        ┆ ---           ┆ ---             ┆ ---                ┆ ---                  │\n",
       "│ i64  ┆ date       ┆ i64           ┆ i64             ┆ i64                ┆ i64                  │\n",
       "╞══════╪════════════╪═══════════════╪═════════════════╪════════════════════╪══════════════════════╡\n",
       "│ 1301 ┆ 2009-01-09 ┆ 622000        ┆ 597000          ┆ 64000              ┆ -12000               │\n",
       "│ 1301 ┆ 2009-01-16 ┆ 444000        ┆ 612000          ┆ -178000            ┆ 15000                │\n",
       "│ 1301 ┆ 2009-01-23 ┆ 441000        ┆ 618000          ┆ -3000              ┆ 6000                 │\n",
       "│ 1301 ┆ 2009-01-30 ┆ 460000        ┆ 651000          ┆ 19000              ┆ 33000                │\n",
       "│ 1301 ┆ 2009-02-06 ┆ 426000        ┆ 631000          ┆ -34000             ┆ -20000               │\n",
       "│ …    ┆ …          ┆ …             ┆ …               ┆ …                  ┆ …                    │\n",
       "│ 9997 ┆ 2024-11-15 ┆ 39300         ┆ 637200          ┆ 300                ┆ -106200              │\n",
       "│ 9997 ┆ 2024-11-22 ┆ 39700         ┆ 634500          ┆ 400                ┆ -2700                │\n",
       "│ 9997 ┆ 2024-11-29 ┆ 40200         ┆ 667800          ┆ 500                ┆ 33300                │\n",
       "│ 9997 ┆ 2024-12-06 ┆ 27200         ┆ 727000          ┆ -13000             ┆ 59200                │\n",
       "│ 9997 ┆ 2024-12-13 ┆ 12800         ┆ 669800          ┆ -14400             ┆ -57200               │\n",
       "└──────┴────────────┴───────────────┴─────────────────┴────────────────────┴──────────────────────┘"
      ]
     },
     "execution_count": 16,
     "metadata": {},
     "output_type": "execute_result"
    }
   ],
   "source": [
    "CPL = CreditbalancePl()\n",
    "\n",
    "# 売残、買残それぞれについて前週との差分列を追加する\n",
    "# CreditbalancePl.dfを書き換える\n",
    "#def with_columns_diff_margin(self):\n",
    "CPL.with_columns_diff_margin()\n",
    "CPL.df"
   ]
  },
  {
   "cell_type": "code",
   "execution_count": 17,
   "id": "37b3d352-33d0-4291-9b50-5c6045d76c5c",
   "metadata": {},
   "outputs": [
    {
     "data": {
      "text/html": [
       "<div><style>\n",
       ".dataframe > thead > tr,\n",
       ".dataframe > tbody > tr {\n",
       "  text-align: right;\n",
       "  white-space: pre-wrap;\n",
       "}\n",
       "</style>\n",
       "<small>shape: (2_412, 8)</small><table border=\"1\" class=\"dataframe\"><thead><tr><th>code</th><th>date</th><th>unsold_margin</th><th>purchase_margin</th><th>volume_ma25</th><th>unsold_margin_volume_ratio</th><th>purchase_margin_volume_ratio</th><th>margin_ratio</th></tr><tr><td>i64</td><td>date</td><td>i64</td><td>i64</td><td>f64</td><td>f64</td><td>f64</td><td>f64</td></tr></thead><tbody><tr><td>3197</td><td>2024-12-13</td><td>13554500</td><td>359600</td><td>2.01678e6</td><td>6.72</td><td>0.18</td><td>0.03</td></tr><tr><td>4326</td><td>2024-12-13</td><td>400700</td><td>11700</td><td>45460.0</td><td>8.81</td><td>0.26</td><td>0.03</td></tr><tr><td>7925</td><td>2024-12-13</td><td>759200</td><td>29300</td><td>34344.0</td><td>22.11</td><td>0.85</td><td>0.04</td></tr><tr><td>3028</td><td>2024-12-13</td><td>1166500</td><td>57600</td><td>139484.0</td><td>8.36</td><td>0.41</td><td>0.05</td></tr><tr><td>8179</td><td>2024-12-13</td><td>2220000</td><td>115000</td><td>213632.0</td><td>10.39</td><td>0.54</td><td>0.05</td></tr><tr><td>&hellip;</td><td>&hellip;</td><td>&hellip;</td><td>&hellip;</td><td>&hellip;</td><td>&hellip;</td><td>&hellip;</td><td>&hellip;</td></tr><tr><td>7769</td><td>2024-12-13</td><td>100</td><td>1716300</td><td>7340.0</td><td>0.01</td><td>233.83</td><td>17163.0</td></tr><tr><td>9204</td><td>2024-12-13</td><td>100</td><td>2550500</td><td>376324.0</td><td>0.0</td><td>6.78</td><td>25505.0</td></tr><tr><td>4259</td><td>2024-12-13</td><td>100</td><td>3416400</td><td>1.309488e6</td><td>0.0</td><td>2.61</td><td>34164.0</td></tr><tr><td>7527</td><td>2024-12-13</td><td>100</td><td>5464200</td><td>1.321376e6</td><td>0.0</td><td>4.14</td><td>54642.0</td></tr><tr><td>4883</td><td>2024-12-13</td><td>200</td><td>16603300</td><td>1.4064972e7</td><td>0.0</td><td>1.18</td><td>83016.5</td></tr></tbody></table></div>"
      ],
      "text/plain": [
       "shape: (2_412, 8)\n",
       "┌──────┬────────────┬─────────────┬────────────┬────────────┬────────────┬────────────┬────────────┐\n",
       "│ code ┆ date       ┆ unsold_marg ┆ purchase_m ┆ volume_ma2 ┆ unsold_mar ┆ purchase_m ┆ margin_rat │\n",
       "│ ---  ┆ ---        ┆ in          ┆ argin      ┆ 5          ┆ gin_volume ┆ argin_volu ┆ io         │\n",
       "│ i64  ┆ date       ┆ ---         ┆ ---        ┆ ---        ┆ _ratio     ┆ me_ratio   ┆ ---        │\n",
       "│      ┆            ┆ i64         ┆ i64        ┆ f64        ┆ ---        ┆ ---        ┆ f64        │\n",
       "│      ┆            ┆             ┆            ┆            ┆ f64        ┆ f64        ┆            │\n",
       "╞══════╪════════════╪═════════════╪════════════╪════════════╪════════════╪════════════╪════════════╡\n",
       "│ 3197 ┆ 2024-12-13 ┆ 13554500    ┆ 359600     ┆ 2.01678e6  ┆ 6.72       ┆ 0.18       ┆ 0.03       │\n",
       "│ 4326 ┆ 2024-12-13 ┆ 400700      ┆ 11700      ┆ 45460.0    ┆ 8.81       ┆ 0.26       ┆ 0.03       │\n",
       "│ 7925 ┆ 2024-12-13 ┆ 759200      ┆ 29300      ┆ 34344.0    ┆ 22.11      ┆ 0.85       ┆ 0.04       │\n",
       "│ 3028 ┆ 2024-12-13 ┆ 1166500     ┆ 57600      ┆ 139484.0   ┆ 8.36       ┆ 0.41       ┆ 0.05       │\n",
       "│ 8179 ┆ 2024-12-13 ┆ 2220000     ┆ 115000     ┆ 213632.0   ┆ 10.39      ┆ 0.54       ┆ 0.05       │\n",
       "│ …    ┆ …          ┆ …           ┆ …          ┆ …          ┆ …          ┆ …          ┆ …          │\n",
       "│ 7769 ┆ 2024-12-13 ┆ 100         ┆ 1716300    ┆ 7340.0     ┆ 0.01       ┆ 233.83     ┆ 17163.0    │\n",
       "│ 9204 ┆ 2024-12-13 ┆ 100         ┆ 2550500    ┆ 376324.0   ┆ 0.0        ┆ 6.78       ┆ 25505.0    │\n",
       "│ 4259 ┆ 2024-12-13 ┆ 100         ┆ 3416400    ┆ 1.309488e6 ┆ 0.0        ┆ 2.61       ┆ 34164.0    │\n",
       "│ 7527 ┆ 2024-12-13 ┆ 100         ┆ 5464200    ┆ 1.321376e6 ┆ 0.0        ┆ 4.14       ┆ 54642.0    │\n",
       "│ 4883 ┆ 2024-12-13 ┆ 200         ┆ 16603300   ┆ 1.4064972e ┆ 0.0        ┆ 1.18       ┆ 83016.5    │\n",
       "│      ┆            ┆             ┆            ┆ 7          ┆            ┆            ┆            │\n",
       "└──────┴────────────┴─────────────┴────────────┴────────────┴────────────┴────────────┴────────────┘"
      ]
     },
     "execution_count": 17,
     "metadata": {},
     "output_type": "execute_result"
    }
   ],
   "source": [
    "# 出来高-残高ratio列と、信用倍率列を追加\n",
    "CPL = CreditbalancePl()\n",
    "\n",
    "CPL.with_columns_margin_volume_ratio(term)\n",
    "CPL.with_columns_margin_ratio()\n",
    "CPL.df.filter(pl.col(\"date\")==date(2024, 12, 13)).sort(by=[\"margin_ratio\"])"
   ]
  },
  {
   "cell_type": "code",
   "execution_count": null,
   "id": "f88154df-4cae-4fc7-8ef0-7166c2769a3f",
   "metadata": {},
   "outputs": [],
   "source": []
  }
 ],
 "metadata": {
  "kernelspec": {
   "display_name": "Python 3 (ipykernel)",
   "language": "python",
   "name": "python3"
  },
  "language_info": {
   "codemirror_mode": {
    "name": "ipython",
    "version": 3
   },
   "file_extension": ".py",
   "mimetype": "text/x-python",
   "name": "python",
   "nbconvert_exporter": "python",
   "pygments_lexer": "ipython3",
   "version": "3.12.3"
  }
 },
 "nbformat": 4,
 "nbformat_minor": 5
}
