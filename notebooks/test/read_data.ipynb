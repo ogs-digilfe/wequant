{
 "cells": [
  {
   "cell_type": "code",
   "execution_count": 7,
   "id": "7a5e232e-8f5b-45ef-acfa-06fb7cd90d43",
   "metadata": {},
   "outputs": [],
   "source": [
    "# 読み込みファイルパスの設定とimportしたいmoduleパス(pythonパス)の設定\n",
    "from pathlib import Path\n",
    "import os, sys\n",
    "\n",
    "CURRENT_DIR = Path(os.getcwd())\n",
    "PJ_DIR = CURRENT_DIR.parent.parent\n",
    "LIB_DIR = PJ_DIR / \"lib\"\n",
    "DATA_DIR = PJ_DIR / \"data\" \n",
    "\n",
    "sys.path.append(str(LIB_DIR))\n",
    "\n",
    "# notebook内で利用するmoduleのimport\n",
    "from lib_dataprocess import read_data"
   ]
  },
  {
   "cell_type": "code",
   "execution_count": 12,
   "id": "1730de11-9369-4ecd-99dc-a8380c37c322",
   "metadata": {},
   "outputs": [],
   "source": [
    "DOWNLOADABLE_FILES = [\n",
    "    \"finance_quote.parquet\",\n",
    "    \"kessan.parquet\",\n",
    "    \"meigaralist.parquet\",\n",
    "    \"nh225.parquet\",\n",
    "    \"raw_pricelist.parquet\",\n",
    "    \"reviced_pricelist.parquet\"\n",
    "]\n",
    "\n",
    "fp = DATA_DIR/\"reviced_pricelist.parquet\"\n",
    "df = read_data(fp)"
   ]
  },
  {
   "cell_type": "code",
   "execution_count": null,
   "id": "308f9e0f-dafd-45ba-aa29-a6a9f554f59c",
   "metadata": {},
   "outputs": [],
   "source": []
  }
 ],
 "metadata": {
  "kernelspec": {
   "display_name": "Python 3 (ipykernel)",
   "language": "python",
   "name": "python3"
  },
  "language_info": {
   "codemirror_mode": {
    "name": "ipython",
    "version": 3
   },
   "file_extension": ".py",
   "mimetype": "text/x-python",
   "name": "python",
   "nbconvert_exporter": "python",
   "pygments_lexer": "ipython3",
   "version": "3.12.3"
  }
 },
 "nbformat": 4,
 "nbformat_minor": 5
}
