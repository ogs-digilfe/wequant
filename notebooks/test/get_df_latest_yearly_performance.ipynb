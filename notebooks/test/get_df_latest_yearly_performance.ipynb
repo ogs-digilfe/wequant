{
 "cells": [
  {
   "cell_type": "code",
   "execution_count": 1,
   "id": "00f9ee84-cbea-4cfd-b9a9-39c93ff19298",
   "metadata": {},
   "outputs": [],
   "source": [
    "# 分析対象銘柄の証券コードをセット\n",
    "from datetime import date\n",
    "code = 2267\n",
    "valuation_date = date.today()\n",
    "# valuation_date = date(2022, 11, 18)"
   ]
  },
  {
   "cell_type": "code",
   "execution_count": 2,
   "id": "b2d05dfc-dc00-468c-8cfc-12b5e1778201",
   "metadata": {},
   "outputs": [],
   "source": [
    "from pathlib import Path\n",
    "import os, sys\n",
    "\n",
    "CURRENT_DIR = Path(os.getcwd())\n",
    "PJ_DIR = CURRENT_DIR.parent.parent\n",
    "LIB_DIR = PJ_DIR / \"lib\"\n",
    "\n",
    "sys.path.append(str(LIB_DIR))\n",
    "\n",
    "from lib_dataprocess import get_df_latest_yearly_performance"
   ]
  },
  {
   "cell_type": "code",
   "execution_count": 3,
   "id": "320ab384-e435-4e45-bb13-fbb674df1caa",
   "metadata": {},
   "outputs": [
    {
     "name": "stdout",
     "output_type": "stream",
     "text": [
      "ヤクルト本社(2267)の通期決算(評価日：2024年11月19日)\n"
     ]
    },
    {
     "data": {
      "text/html": [
       "<div><style>\n",
       ".dataframe > thead > tr,\n",
       ".dataframe > tbody > tr {\n",
       "  text-align: right;\n",
       "  white-space: pre-wrap;\n",
       "}\n",
       "</style>\n",
       "<small>shape: (2, 8)</small><table border=\"1\" class=\"dataframe\"><thead><tr><th>決算期</th><th>決算発表日</th><th>売上高</th><th>営業利益</th><th>経常利益</th><th>純利益</th><th>EPS</th><th>1株配当</th></tr><tr><td>str</td><td>date</td><td>i64</td><td>i64</td><td>i64</td><td>i64</td><td>f64</td><td>f64</td></tr></thead><tbody><tr><td>&quot;2025年3月期(予)&quot;</td><td>2024-05-14</td><td>533500</td><td>68500</td><td>86500</td><td>55500</td><td>183.1</td><td>64.0</td></tr><tr><td>&quot;2024年3月期&quot;</td><td>2024-05-14</td><td>503079</td><td>63399</td><td>79300</td><td>51006</td><td>164.5</td><td>55.5</td></tr></tbody></table></div>"
      ],
      "text/plain": [
       "shape: (2, 8)\n",
       "┌─────────────────┬────────────┬────────┬──────────┬──────────┬────────┬───────┬─────────┐\n",
       "│ 決算期          ┆ 決算発表日 ┆ 売上高 ┆ 営業利益 ┆ 経常利益 ┆ 純利益 ┆ EPS   ┆ 1株配当 │\n",
       "│ ---             ┆ ---        ┆ ---    ┆ ---      ┆ ---      ┆ ---    ┆ ---   ┆ ---     │\n",
       "│ str             ┆ date       ┆ i64    ┆ i64      ┆ i64      ┆ i64    ┆ f64   ┆ f64     │\n",
       "╞═════════════════╪════════════╪════════╪══════════╪══════════╪════════╪═══════╪═════════╡\n",
       "│ 2025年3月期(予) ┆ 2024-05-14 ┆ 533500 ┆ 68500    ┆ 86500    ┆ 55500  ┆ 183.1 ┆ 64.0    │\n",
       "│ 2024年3月期     ┆ 2024-05-14 ┆ 503079 ┆ 63399    ┆ 79300    ┆ 51006  ┆ 164.5 ┆ 55.5    │\n",
       "└─────────────────┴────────────┴────────┴──────────┴──────────┴────────┴───────┴─────────┘"
      ]
     },
     "execution_count": 3,
     "metadata": {},
     "output_type": "execute_result"
    }
   ],
   "source": [
    "df = get_df_latest_yearly_performance(code)\n",
    "df"
   ]
  },
  {
   "cell_type": "code",
   "execution_count": null,
   "id": "7d1962d5-c28c-41b1-bc35-949a2a7a26ad",
   "metadata": {},
   "outputs": [],
   "source": []
  }
 ],
 "metadata": {
  "kernelspec": {
   "display_name": "Python 3 (ipykernel)",
   "language": "python",
   "name": "python3"
  },
  "language_info": {
   "codemirror_mode": {
    "name": "ipython",
    "version": 3
   },
   "file_extension": ".py",
   "mimetype": "text/x-python",
   "name": "python",
   "nbconvert_exporter": "python",
   "pygments_lexer": "ipython3",
   "version": "3.12.3"
  }
 },
 "nbformat": 4,
 "nbformat_minor": 5
}
