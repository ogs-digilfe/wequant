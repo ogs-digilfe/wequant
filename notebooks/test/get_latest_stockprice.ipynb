{
 "cells": [
  {
   "cell_type": "code",
   "execution_count": 1,
   "id": "0425fb96-58b6-4389-b048-dcaf7e8b86b1",
   "metadata": {},
   "outputs": [],
   "source": [
    "# 分析対象銘柄の証券コードをセット\n",
    "from datetime import date\n",
    "code = 2267\n",
    "valuation_date = date.today()\n",
    "# valuation_date = date(2022, 11, 18)"
   ]
  },
  {
   "cell_type": "code",
   "execution_count": 2,
   "id": "1351b706-ba5d-4058-8155-d50de4d641a0",
   "metadata": {},
   "outputs": [],
   "source": [
    "from pathlib import Path\n",
    "import os, sys\n",
    "\n",
    "CURRENT_DIR = Path(os.getcwd())\n",
    "PJ_DIR = CURRENT_DIR.parent.parent\n",
    "LIB_DIR = PJ_DIR / \"lib\"\n",
    "\n",
    "sys.path.append(str(LIB_DIR))\n",
    "\n",
    "from lib_dataprocess import get_latest_stockprice"
   ]
  },
  {
   "cell_type": "code",
   "execution_count": 3,
   "id": "6598d03e-ddac-42db-a0aa-d9b2e6163017",
   "metadata": {},
   "outputs": [
    {
     "name": "stdout",
     "output_type": "stream",
     "text": [
      "ヤクルト本社(2267)の2024年11月15日終値\n"
     ]
    },
    {
     "data": {
      "text/plain": [
       "2955.0"
      ]
     },
     "execution_count": 3,
     "metadata": {},
     "output_type": "execute_result"
    }
   ],
   "source": [
    "close = get_latest_stockprice(code)\n",
    "close"
   ]
  },
  {
   "cell_type": "code",
   "execution_count": null,
   "id": "a9f15da4-4f13-4bc9-92f9-90539518d3fd",
   "metadata": {},
   "outputs": [],
   "source": []
  }
 ],
 "metadata": {
  "kernelspec": {
   "display_name": "Python 3 (ipykernel)",
   "language": "python",
   "name": "python3"
  },
  "language_info": {
   "codemirror_mode": {
    "name": "ipython",
    "version": 3
   },
   "file_extension": ".py",
   "mimetype": "text/x-python",
   "name": "python",
   "nbconvert_exporter": "python",
   "pygments_lexer": "ipython3",
   "version": "3.12.3"
  }
 },
 "nbformat": 4,
 "nbformat_minor": 5
}
