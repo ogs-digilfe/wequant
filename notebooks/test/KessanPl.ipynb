{
 "cells": [
  {
   "cell_type": "code",
   "execution_count": 1,
   "id": "59f84bdd-3e0f-4c50-9cfe-9bb5c33269c6",
   "metadata": {},
   "outputs": [],
   "source": [
    "from pathlib import Path\n",
    "import os, sys\n",
    "\n",
    "CURRENT_DIR = Path(os.getcwd())\n",
    "PJ_DIR = CURRENT_DIR.parent.parent\n",
    "LIB_DIR = PJ_DIR / \"lib\"\n",
    "DATA_DIR = PJ_DIR / \"data\" \n",
    "\n",
    "sys.path.append(str(LIB_DIR))"
   ]
  },
  {
   "cell_type": "code",
   "execution_count": 2,
   "id": "e2032c2e-0bc3-4b69-9ba8-aed187cb7223",
   "metadata": {},
   "outputs": [],
   "source": [
    "from lib_dataprocess import KessanPl, read_data"
   ]
  },
  {
   "cell_type": "code",
   "execution_count": 3,
   "id": "940bfaa0-6597-4f97-a9ef-cfa7fdb6dbe3",
   "metadata": {},
   "outputs": [
    {
     "data": {
      "text/html": [
       "<div><style>\n",
       ".dataframe > thead > tr,\n",
       ".dataframe > tbody > tr {\n",
       "  text-align: right;\n",
       "  white-space: pre-wrap;\n",
       "}\n",
       "</style>\n",
       "<small>shape: (162_653, 11)</small><table border=\"1\" class=\"dataframe\"><thead><tr><th>code</th><th>settlement_date</th><th>settlement_type</th><th>announcement_date</th><th>sales</th><th>operating_income</th><th>ordinary_profit</th><th>final_profit</th><th>reviced_eps</th><th>dividend</th><th>quater</th></tr><tr><td>i64</td><td>date</td><td>str</td><td>date</td><td>i64</td><td>i64</td><td>i64</td><td>i64</td><td>f64</td><td>f64</td><td>i64</td></tr></thead><tbody><tr><td>1301</td><td>2017-03-31</td><td>&quot;本&quot;</td><td>2017-05-11</td><td>236561</td><td>3723</td><td>3709</td><td>2422</td><td>230.7</td><td>60.0</td><td>-2</td></tr><tr><td>1301</td><td>2018-03-31</td><td>&quot;本&quot;</td><td>2018-05-10</td><td>254783</td><td>4066</td><td>4437</td><td>3211</td><td>304.3</td><td>60.0</td><td>4</td></tr><tr><td>1301</td><td>2018-09-30</td><td>&quot;四&quot;</td><td>2018-11-05</td><td>61245</td><td>507</td><td>595</td><td>269</td><td>24.9</td><td>0.8</td><td>2</td></tr><tr><td>1301</td><td>2018-12-31</td><td>&quot;四&quot;</td><td>2019-02-08</td><td>78581</td><td>2208</td><td>2591</td><td>1677</td><td>155.2</td><td>2.8</td><td>3</td></tr><tr><td>1301</td><td>2019-03-31</td><td>&quot;四&quot;</td><td>2019-05-13</td><td>58368</td><td>551</td><td>511</td><td>413</td><td>38.2</td><td>0.9</td><td>4</td></tr><tr><td>&hellip;</td><td>&hellip;</td><td>&hellip;</td><td>&hellip;</td><td>&hellip;</td><td>&hellip;</td><td>&hellip;</td><td>&hellip;</td><td>&hellip;</td><td>&hellip;</td><td>&hellip;</td></tr><tr><td>9997</td><td>2024-03-31</td><td>&quot;四&quot;</td><td>2024-05-13</td><td>52020</td><td>4062</td><td>4901</td><td>758</td><td>7.8</td><td>7.8</td><td>4</td></tr><tr><td>9997</td><td>2024-03-31</td><td>&quot;本&quot;</td><td>2024-05-13</td><td>208298</td><td>9787</td><td>11831</td><td>5839</td><td>60.4</td><td>20.5</td><td>4</td></tr><tr><td>9997</td><td>2024-06-30</td><td>&quot;四&quot;</td><td>2024-07-31</td><td>51368</td><td>982</td><td>1681</td><td>994</td><td>10.3</td><td>1.9</td><td>1</td></tr><tr><td>9997</td><td>2024-09-30</td><td>&quot;四&quot;</td><td>2024-10-31</td><td>45759</td><td>2588</td><td>2462</td><td>1571</td><td>16.3</td><td>5.7</td><td>2</td></tr><tr><td>9997</td><td>2025-03-31</td><td>&quot;予&quot;</td><td>2024-05-13</td><td>217000</td><td>11500</td><td>12500</td><td>8000</td><td>82.7</td><td>29.0</td><td>4</td></tr></tbody></table></div>"
      ],
      "text/plain": [
       "shape: (162_653, 11)\n",
       "┌──────┬─────────────┬─────────────┬─────────────┬───┬────────────┬────────────┬──────────┬────────┐\n",
       "│ code ┆ settlement_ ┆ settlement_ ┆ announcemen ┆ … ┆ final_prof ┆ reviced_ep ┆ dividend ┆ quater │\n",
       "│ ---  ┆ date        ┆ type        ┆ t_date      ┆   ┆ it         ┆ s          ┆ ---      ┆ ---    │\n",
       "│ i64  ┆ ---         ┆ ---         ┆ ---         ┆   ┆ ---        ┆ ---        ┆ f64      ┆ i64    │\n",
       "│      ┆ date        ┆ str         ┆ date        ┆   ┆ i64        ┆ f64        ┆          ┆        │\n",
       "╞══════╪═════════════╪═════════════╪═════════════╪═══╪════════════╪════════════╪══════════╪════════╡\n",
       "│ 1301 ┆ 2017-03-31  ┆ 本          ┆ 2017-05-11  ┆ … ┆ 2422       ┆ 230.7      ┆ 60.0     ┆ -2     │\n",
       "│ 1301 ┆ 2018-03-31  ┆ 本          ┆ 2018-05-10  ┆ … ┆ 3211       ┆ 304.3      ┆ 60.0     ┆ 4      │\n",
       "│ 1301 ┆ 2018-09-30  ┆ 四          ┆ 2018-11-05  ┆ … ┆ 269        ┆ 24.9       ┆ 0.8      ┆ 2      │\n",
       "│ 1301 ┆ 2018-12-31  ┆ 四          ┆ 2019-02-08  ┆ … ┆ 1677       ┆ 155.2      ┆ 2.8      ┆ 3      │\n",
       "│ 1301 ┆ 2019-03-31  ┆ 四          ┆ 2019-05-13  ┆ … ┆ 413        ┆ 38.2       ┆ 0.9      ┆ 4      │\n",
       "│ …    ┆ …           ┆ …           ┆ …           ┆ … ┆ …          ┆ …          ┆ …        ┆ …      │\n",
       "│ 9997 ┆ 2024-03-31  ┆ 四          ┆ 2024-05-13  ┆ … ┆ 758        ┆ 7.8        ┆ 7.8      ┆ 4      │\n",
       "│ 9997 ┆ 2024-03-31  ┆ 本          ┆ 2024-05-13  ┆ … ┆ 5839       ┆ 60.4       ┆ 20.5     ┆ 4      │\n",
       "│ 9997 ┆ 2024-06-30  ┆ 四          ┆ 2024-07-31  ┆ … ┆ 994        ┆ 10.3       ┆ 1.9      ┆ 1      │\n",
       "│ 9997 ┆ 2024-09-30  ┆ 四          ┆ 2024-10-31  ┆ … ┆ 1571       ┆ 16.3       ┆ 5.7      ┆ 2      │\n",
       "│ 9997 ┆ 2025-03-31  ┆ 予          ┆ 2024-05-13  ┆ … ┆ 8000       ┆ 82.7       ┆ 29.0     ┆ 4      │\n",
       "└──────┴─────────────┴─────────────┴─────────────┴───┴────────────┴────────────┴──────────┴────────┘"
      ]
     },
     "execution_count": 3,
     "metadata": {},
     "output_type": "execute_result"
    }
   ],
   "source": [
    "fp = DATA_DIR/\"kessan.parquet\"\n",
    "df = read_data(fp)\n",
    "KPL = KessanPl(df)\n",
    "KPL.df"
   ]
  },
  {
   "cell_type": "code",
   "execution_count": 7,
   "id": "464cb78d-7035-44d8-973e-02bf999067e9",
   "metadata": {},
   "outputs": [
    {
     "data": {
      "text/html": [
       "<div><style>\n",
       ".dataframe > thead > tr,\n",
       ".dataframe > tbody > tr {\n",
       "  text-align: right;\n",
       "  white-space: pre-wrap;\n",
       "}\n",
       "</style>\n",
       "<small>shape: (97_780, 11)</small><table border=\"1\" class=\"dataframe\"><thead><tr><th>code</th><th>settlement_date</th><th>settlement_type</th><th>announcement_date</th><th>sales</th><th>operating_income</th><th>ordinary_profit</th><th>final_profit</th><th>reviced_eps</th><th>dividend</th><th>quater</th></tr><tr><td>i64</td><td>date</td><td>str</td><td>date</td><td>i64</td><td>i64</td><td>i64</td><td>i64</td><td>f64</td><td>f64</td><td>i64</td></tr></thead><tbody><tr><td>1301</td><td>2018-09-30</td><td>&quot;四&quot;</td><td>2018-11-05</td><td>61245</td><td>507</td><td>595</td><td>269</td><td>24.9</td><td>0.8</td><td>2</td></tr><tr><td>1301</td><td>2018-12-31</td><td>&quot;四&quot;</td><td>2019-02-08</td><td>78581</td><td>2208</td><td>2591</td><td>1677</td><td>155.2</td><td>2.8</td><td>3</td></tr><tr><td>1301</td><td>2019-03-31</td><td>&quot;四&quot;</td><td>2019-05-13</td><td>58368</td><td>551</td><td>511</td><td>413</td><td>38.2</td><td>0.9</td><td>4</td></tr><tr><td>1301</td><td>2019-06-30</td><td>&quot;四&quot;</td><td>2019-08-02</td><td>62644</td><td>770</td><td>1015</td><td>706</td><td>65.3</td><td>1.2</td><td>1</td></tr><tr><td>1301</td><td>2019-09-30</td><td>&quot;四&quot;</td><td>2019-11-05</td><td>64240</td><td>-35</td><td>113</td><td>4</td><td>0.4</td><td>-0.1</td><td>2</td></tr><tr><td>&hellip;</td><td>&hellip;</td><td>&hellip;</td><td>&hellip;</td><td>&hellip;</td><td>&hellip;</td><td>&hellip;</td><td>&hellip;</td><td>&hellip;</td><td>&hellip;</td><td>&hellip;</td></tr><tr><td>9997</td><td>2023-09-30</td><td>&quot;四&quot;</td><td>2023-10-31</td><td>44263</td><td>1939</td><td>2466</td><td>1878</td><td>19.4</td><td>4.4</td><td>2</td></tr><tr><td>9997</td><td>2023-12-31</td><td>&quot;四&quot;</td><td>2024-01-31</td><td>60173</td><td>2630</td><td>2605</td><td>1818</td><td>18.8</td><td>4.4</td><td>3</td></tr><tr><td>9997</td><td>2024-03-31</td><td>&quot;四&quot;</td><td>2024-05-13</td><td>52020</td><td>4062</td><td>4901</td><td>758</td><td>7.8</td><td>7.8</td><td>4</td></tr><tr><td>9997</td><td>2024-06-30</td><td>&quot;四&quot;</td><td>2024-07-31</td><td>51368</td><td>982</td><td>1681</td><td>994</td><td>10.3</td><td>1.9</td><td>1</td></tr><tr><td>9997</td><td>2024-09-30</td><td>&quot;四&quot;</td><td>2024-10-31</td><td>45759</td><td>2588</td><td>2462</td><td>1571</td><td>16.3</td><td>5.7</td><td>2</td></tr></tbody></table></div>"
      ],
      "text/plain": [
       "shape: (97_780, 11)\n",
       "┌──────┬─────────────┬─────────────┬─────────────┬───┬────────────┬────────────┬──────────┬────────┐\n",
       "│ code ┆ settlement_ ┆ settlement_ ┆ announcemen ┆ … ┆ final_prof ┆ reviced_ep ┆ dividend ┆ quater │\n",
       "│ ---  ┆ date        ┆ type        ┆ t_date      ┆   ┆ it         ┆ s          ┆ ---      ┆ ---    │\n",
       "│ i64  ┆ ---         ┆ ---         ┆ ---         ┆   ┆ ---        ┆ ---        ┆ f64      ┆ i64    │\n",
       "│      ┆ date        ┆ str         ┆ date        ┆   ┆ i64        ┆ f64        ┆          ┆        │\n",
       "╞══════╪═════════════╪═════════════╪═════════════╪═══╪════════════╪════════════╪══════════╪════════╡\n",
       "│ 1301 ┆ 2018-09-30  ┆ 四          ┆ 2018-11-05  ┆ … ┆ 269        ┆ 24.9       ┆ 0.8      ┆ 2      │\n",
       "│ 1301 ┆ 2018-12-31  ┆ 四          ┆ 2019-02-08  ┆ … ┆ 1677       ┆ 155.2      ┆ 2.8      ┆ 3      │\n",
       "│ 1301 ┆ 2019-03-31  ┆ 四          ┆ 2019-05-13  ┆ … ┆ 413        ┆ 38.2       ┆ 0.9      ┆ 4      │\n",
       "│ 1301 ┆ 2019-06-30  ┆ 四          ┆ 2019-08-02  ┆ … ┆ 706        ┆ 65.3       ┆ 1.2      ┆ 1      │\n",
       "│ 1301 ┆ 2019-09-30  ┆ 四          ┆ 2019-11-05  ┆ … ┆ 4          ┆ 0.4        ┆ -0.1     ┆ 2      │\n",
       "│ …    ┆ …           ┆ …           ┆ …           ┆ … ┆ …          ┆ …          ┆ …        ┆ …      │\n",
       "│ 9997 ┆ 2023-09-30  ┆ 四          ┆ 2023-10-31  ┆ … ┆ 1878       ┆ 19.4       ┆ 4.4      ┆ 2      │\n",
       "│ 9997 ┆ 2023-12-31  ┆ 四          ┆ 2024-01-31  ┆ … ┆ 1818       ┆ 18.8       ┆ 4.4      ┆ 3      │\n",
       "│ 9997 ┆ 2024-03-31  ┆ 四          ┆ 2024-05-13  ┆ … ┆ 758        ┆ 7.8        ┆ 7.8      ┆ 4      │\n",
       "│ 9997 ┆ 2024-06-30  ┆ 四          ┆ 2024-07-31  ┆ … ┆ 994        ┆ 10.3       ┆ 1.9      ┆ 1      │\n",
       "│ 9997 ┆ 2024-09-30  ┆ 四          ┆ 2024-10-31  ┆ … ┆ 1571       ┆ 16.3       ┆ 5.7      ┆ 2      │\n",
       "└──────┴─────────────┴─────────────┴─────────────┴───┴────────────┴────────────┴──────────┴────────┘"
      ]
     },
     "execution_count": 7,
     "metadata": {},
     "output_type": "execute_result"
    }
   ],
   "source": [
    "fp = DATA_DIR/\"kessan.parquet\"\n",
    "df = read_data(fp)\n",
    "KPL = KessanPl(df)\n",
    "\n",
    "# 四半期決算(quaterly)、または本決算(early)のみを抽出(filter)してKessanPl.dfを書き換える\n",
    "# def filter_settlement_type(self, settlement_type: Literal[\"quaterly\", \"yearly\"]) -> None:\n",
    "KPL.filter_settlement_type(\"quaterly\")\n",
    "KPL.df"
   ]
  },
  {
   "cell_type": "code",
   "execution_count": null,
   "id": "73a4bd05-e055-4aac-ba8a-1538c7286e28",
   "metadata": {},
   "outputs": [],
   "source": []
  }
 ],
 "metadata": {
  "kernelspec": {
   "display_name": "Python 3 (ipykernel)",
   "language": "python",
   "name": "python3"
  },
  "language_info": {
   "codemirror_mode": {
    "name": "ipython",
    "version": 3
   },
   "file_extension": ".py",
   "mimetype": "text/x-python",
   "name": "python",
   "nbconvert_exporter": "python",
   "pygments_lexer": "ipython3",
   "version": "3.12.3"
  }
 },
 "nbformat": 4,
 "nbformat_minor": 5
}
