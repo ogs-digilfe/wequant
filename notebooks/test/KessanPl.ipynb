{
 "cells": [
  {
   "cell_type": "code",
   "execution_count": 1,
   "id": "59f84bdd-3e0f-4c50-9cfe-9bb5c33269c6",
   "metadata": {},
   "outputs": [],
   "source": [
    "# 読み込みファイルパスの設定とimportしたいmoduleパス(pythonパス)の設定\n",
    "from pathlib import Path\n",
    "import os, sys\n",
    "\n",
    "CURRENT_DIR = Path(os.getcwd())\n",
    "PJ_DIR = CURRENT_DIR.parent.parent\n",
    "LIB_DIR = PJ_DIR / \"lib\"\n",
    "DATA_DIR = PJ_DIR / \"data\" \n",
    "\n",
    "sys.path.append(str(LIB_DIR))\n",
    "\n",
    "# notebook内で利用するmoduleのimport\n",
    "from lib_dataprocess import KessanPl, PricelistPl, read_data\n",
    "import polars as pl\n",
    "from datetime import date\n",
    "from dateutil.relativedelta import relativedelta"
   ]
  },
  {
   "cell_type": "code",
   "execution_count": 4,
   "id": "54b5bf8e-558a-4a20-9dd0-b692b8f7d689",
   "metadata": {},
   "outputs": [
    {
     "data": {
      "text/html": [
       "<div><style>\n",
       ".dataframe > thead > tr,\n",
       ".dataframe > tbody > tr {\n",
       "  text-align: right;\n",
       "  white-space: pre-wrap;\n",
       "}\n",
       "</style>\n",
       "<small>shape: (129_389, 17)</small><table border=\"1\" class=\"dataframe\"><thead><tr><th>code</th><th>settlement_date</th><th>settlement_type</th><th>announcement_date</th><th>sales</th><th>operating_income</th><th>ordinary_profit</th><th>final_profit</th><th>reviced_eps</th><th>dividend</th><th>quater</th><th>fcst_dgr_sales</th><th>fcst_dgr_operating_income</th><th>fcst_dgr_ordinary_profit</th><th>fcst_dgr_final_profit</th><th>col</th><th>nxt_settlement_date</th></tr><tr><td>i64</td><td>date</td><td>str</td><td>date</td><td>i64</td><td>i64</td><td>i64</td><td>i64</td><td>f64</td><td>f64</td><td>i64</td><td>i64</td><td>i64</td><td>i64</td><td>i64</td><td>date</td><td>date</td></tr></thead><tbody><tr><td>1301</td><td>2019-03-31</td><td>&quot;本&quot;</td><td>2019-05-13</td><td>256151</td><td>3831</td><td>4434</td><td>2914</td><td>269.6</td><td>70.0</td><td>4</td><td>257432</td><td>3623</td><td>4444</td><td>2649</td><td>2020-03-25</td><td>2020-03-31</td></tr><tr><td>1301</td><td>2019-09-30</td><td>&quot;四&quot;</td><td>2019-11-05</td><td>64240</td><td>-35</td><td>113</td><td>4</td><td>0.4</td><td>-0.1</td><td>2</td><td>67388</td><td>-573</td><td>-362</td><td>-242</td><td>2019-12-19</td><td>2019-12-31</td></tr><tr><td>1301</td><td>2019-12-31</td><td>&quot;四&quot;</td><td>2020-02-07</td><td>78552</td><td>1881</td><td>1851</td><td>1029</td><td>95.1</td><td>2.4</td><td>3</td><td>78552</td><td>1881</td><td>1851</td><td>1029</td><td>2020-03-20</td><td>2020-03-31</td></tr><tr><td>1301</td><td>2021-03-31</td><td>&quot;予&quot;</td><td>2020-05-12</td><td>270000</td><td>4200</td><td>4500</td><td>3000</td><td>279.2</td><td>70.0</td><td>4</td><td>277560</td><td>5568</td><td>5475</td><td>4051</td><td>2021-06-19</td><td>2021-06-30</td></tr><tr><td>1301</td><td>2020-03-31</td><td>&quot;四&quot;</td><td>2020-05-12</td><td>57083</td><td>302</td><td>629</td><td>298</td><td>27.6</td><td>0.5</td><td>4</td><td>55827</td><td>46</td><td>732</td><td>174</td><td>2020-06-19</td><td>2020-06-30</td></tr><tr><td>&hellip;</td><td>&hellip;</td><td>&hellip;</td><td>&hellip;</td><td>&hellip;</td><td>&hellip;</td><td>&hellip;</td><td>&hellip;</td><td>&hellip;</td><td>&hellip;</td><td>&hellip;</td><td>&hellip;</td><td>&hellip;</td><td>&hellip;</td><td>&hellip;</td><td>&hellip;</td><td>&hellip;</td></tr><tr><td>9997</td><td>2025-03-31</td><td>&quot;予&quot;</td><td>2024-05-13</td><td>217000</td><td>11500</td><td>12500</td><td>8000</td><td>82.7</td><td>29.0</td><td>4</td><td>226114</td><td>13387</td><td>13293</td><td>10351</td><td>2025-06-19</td><td>2025-06-30</td></tr><tr><td>9997</td><td>2024-03-31</td><td>&quot;四&quot;</td><td>2024-05-13</td><td>52020</td><td>4062</td><td>4901</td><td>758</td><td>7.8</td><td>7.8</td><td>4</td><td>52124</td><td>4826</td><td>6258</td><td>-596</td><td>2024-06-19</td><td>2024-06-30</td></tr><tr><td>9997</td><td>2024-03-31</td><td>&quot;本&quot;</td><td>2024-05-13</td><td>208298</td><td>9787</td><td>11831</td><td>5839</td><td>60.4</td><td>20.5</td><td>4</td><td>204340</td><td>8358</td><td>11182</td><td>4268</td><td>2025-03-26</td><td>2025-03-31</td></tr><tr><td>9997</td><td>2024-06-30</td><td>&quot;四&quot;</td><td>2024-07-31</td><td>51368</td><td>982</td><td>1681</td><td>994</td><td>10.3</td><td>1.9</td><td>1</td><td>50906</td><td>808</td><td>1503</td><td>608</td><td>2024-09-18</td><td>2024-09-30</td></tr><tr><td>9997</td><td>2024-09-30</td><td>&quot;四&quot;</td><td>2024-10-31</td><td>45759</td><td>2588</td><td>2462</td><td>1571</td><td>16.3</td><td>5.7</td><td>2</td><td>47315</td><td>3279</td><td>2473</td><td>1268</td><td>2024-12-19</td><td>2024-12-31</td></tr></tbody></table></div>"
      ],
      "text/plain": [
       "shape: (129_389, 17)\n",
       "┌──────┬────────────┬────────────┬────────────┬───┬────────────┬───────────┬───────────┬───────────┐\n",
       "│ code ┆ settlement ┆ settlement ┆ announceme ┆ … ┆ fcst_dgr_o ┆ fcst_dgr_ ┆ col       ┆ nxt_settl │\n",
       "│ ---  ┆ _date      ┆ _type      ┆ nt_date    ┆   ┆ rdinary_pr ┆ final_pro ┆ ---       ┆ ement_dat │\n",
       "│ i64  ┆ ---        ┆ ---        ┆ ---        ┆   ┆ ofit       ┆ fit       ┆ date      ┆ e         │\n",
       "│      ┆ date       ┆ str        ┆ date       ┆   ┆ ---        ┆ ---       ┆           ┆ ---       │\n",
       "│      ┆            ┆            ┆            ┆   ┆ i64        ┆ i64       ┆           ┆ date      │\n",
       "╞══════╪════════════╪════════════╪════════════╪═══╪════════════╪═══════════╪═══════════╪═══════════╡\n",
       "│ 1301 ┆ 2019-03-31 ┆ 本         ┆ 2019-05-13 ┆ … ┆ 4444       ┆ 2649      ┆ 2020-03-2 ┆ 2020-03-3 │\n",
       "│      ┆            ┆            ┆            ┆   ┆            ┆           ┆ 5         ┆ 1         │\n",
       "│ 1301 ┆ 2019-09-30 ┆ 四         ┆ 2019-11-05 ┆ … ┆ -362       ┆ -242      ┆ 2019-12-1 ┆ 2019-12-3 │\n",
       "│      ┆            ┆            ┆            ┆   ┆            ┆           ┆ 9         ┆ 1         │\n",
       "│ 1301 ┆ 2019-12-31 ┆ 四         ┆ 2020-02-07 ┆ … ┆ 1851       ┆ 1029      ┆ 2020-03-2 ┆ 2020-03-3 │\n",
       "│      ┆            ┆            ┆            ┆   ┆            ┆           ┆ 0         ┆ 1         │\n",
       "│ 1301 ┆ 2021-03-31 ┆ 予         ┆ 2020-05-12 ┆ … ┆ 5475       ┆ 4051      ┆ 2021-06-1 ┆ 2021-06-3 │\n",
       "│      ┆            ┆            ┆            ┆   ┆            ┆           ┆ 9         ┆ 0         │\n",
       "│ 1301 ┆ 2020-03-31 ┆ 四         ┆ 2020-05-12 ┆ … ┆ 732        ┆ 174       ┆ 2020-06-1 ┆ 2020-06-3 │\n",
       "│      ┆            ┆            ┆            ┆   ┆            ┆           ┆ 9         ┆ 0         │\n",
       "│ …    ┆ …          ┆ …          ┆ …          ┆ … ┆ …          ┆ …         ┆ …         ┆ …         │\n",
       "│ 9997 ┆ 2025-03-31 ┆ 予         ┆ 2024-05-13 ┆ … ┆ 13293      ┆ 10351     ┆ 2025-06-1 ┆ 2025-06-3 │\n",
       "│      ┆            ┆            ┆            ┆   ┆            ┆           ┆ 9         ┆ 0         │\n",
       "│ 9997 ┆ 2024-03-31 ┆ 四         ┆ 2024-05-13 ┆ … ┆ 6258       ┆ -596      ┆ 2024-06-1 ┆ 2024-06-3 │\n",
       "│      ┆            ┆            ┆            ┆   ┆            ┆           ┆ 9         ┆ 0         │\n",
       "│ 9997 ┆ 2024-03-31 ┆ 本         ┆ 2024-05-13 ┆ … ┆ 11182      ┆ 4268      ┆ 2025-03-2 ┆ 2025-03-3 │\n",
       "│      ┆            ┆            ┆            ┆   ┆            ┆           ┆ 6         ┆ 1         │\n",
       "│ 9997 ┆ 2024-06-30 ┆ 四         ┆ 2024-07-31 ┆ … ┆ 1503       ┆ 608       ┆ 2024-09-1 ┆ 2024-09-3 │\n",
       "│      ┆            ┆            ┆            ┆   ┆            ┆           ┆ 8         ┆ 0         │\n",
       "│ 9997 ┆ 2024-09-30 ┆ 四         ┆ 2024-10-31 ┆ … ┆ 2473       ┆ 1268      ┆ 2024-12-1 ┆ 2024-12-3 │\n",
       "│      ┆            ┆            ┆            ┆   ┆            ┆           ┆ 9         ┆ 1         │\n",
       "└──────┴────────────┴────────────┴────────────┴───┴────────────┴───────────┴───────────┴───────────┘"
      ]
     },
     "execution_count": 4,
     "metadata": {},
     "output_type": "execute_result"
    }
   ],
   "source": [
    "# valuation_dateを含む決算期の直前期決算の対前年同期売上高成長率、対売上高差分利益成長率から計算した決算予想一覧を取得する。\n",
    "# def get_settlement_forcast_by_diff_growth_rate(self, valuation_date: date=date.today()) -> pl.DataFrame:\n",
    "\n",
    "KPL = KessanPl()\n",
    "df = KPL.get_settlement_forcast_by_diff_growth_rate()\n",
    "df"
   ]
  },
  {
   "cell_type": "code",
   "execution_count": 3,
   "id": "940bfaa0-6597-4f97-a9ef-cfa7fdb6dbe3",
   "metadata": {},
   "outputs": [
    {
     "data": {
      "text/html": [
       "<div><style>\n",
       ".dataframe > thead > tr,\n",
       ".dataframe > tbody > tr {\n",
       "  text-align: right;\n",
       "  white-space: pre-wrap;\n",
       "}\n",
       "</style>\n",
       "<small>shape: (156_408, 11)</small><table border=\"1\" class=\"dataframe\"><thead><tr><th>code</th><th>settlement_date</th><th>settlement_type</th><th>announcement_date</th><th>sales</th><th>operating_income</th><th>ordinary_profit</th><th>final_profit</th><th>reviced_eps</th><th>dividend</th><th>quater</th></tr><tr><td>i64</td><td>date</td><td>str</td><td>date</td><td>i64</td><td>i64</td><td>i64</td><td>i64</td><td>f64</td><td>f64</td><td>i64</td></tr></thead><tbody><tr><td>1301</td><td>2017-03-31</td><td>&quot;本&quot;</td><td>2017-05-11</td><td>236561</td><td>3723</td><td>3709</td><td>2422</td><td>230.7</td><td>60.0</td><td>-2</td></tr><tr><td>1301</td><td>2018-03-31</td><td>&quot;本&quot;</td><td>2018-05-10</td><td>254783</td><td>4066</td><td>4437</td><td>3211</td><td>304.3</td><td>60.0</td><td>4</td></tr><tr><td>1301</td><td>2018-09-30</td><td>&quot;四&quot;</td><td>2018-11-05</td><td>61245</td><td>507</td><td>595</td><td>269</td><td>24.9</td><td>0.8</td><td>2</td></tr><tr><td>1301</td><td>2018-12-31</td><td>&quot;四&quot;</td><td>2019-02-08</td><td>78581</td><td>2208</td><td>2591</td><td>1677</td><td>155.2</td><td>2.8</td><td>3</td></tr><tr><td>1301</td><td>2019-03-31</td><td>&quot;本&quot;</td><td>2019-05-13</td><td>256151</td><td>3831</td><td>4434</td><td>2914</td><td>269.6</td><td>70.0</td><td>4</td></tr><tr><td>&hellip;</td><td>&hellip;</td><td>&hellip;</td><td>&hellip;</td><td>&hellip;</td><td>&hellip;</td><td>&hellip;</td><td>&hellip;</td><td>&hellip;</td><td>&hellip;</td><td>&hellip;</td></tr><tr><td>9997</td><td>2024-03-31</td><td>&quot;四&quot;</td><td>2024-05-13</td><td>52020</td><td>4062</td><td>4901</td><td>758</td><td>7.8</td><td>7.8</td><td>4</td></tr><tr><td>9997</td><td>2024-03-31</td><td>&quot;本&quot;</td><td>2024-05-13</td><td>208298</td><td>9787</td><td>11831</td><td>5839</td><td>60.4</td><td>20.5</td><td>4</td></tr><tr><td>9997</td><td>2025-03-31</td><td>&quot;予&quot;</td><td>2024-05-13</td><td>217000</td><td>11500</td><td>12500</td><td>8000</td><td>82.7</td><td>29.0</td><td>4</td></tr><tr><td>9997</td><td>2024-06-30</td><td>&quot;四&quot;</td><td>2024-07-31</td><td>51368</td><td>982</td><td>1681</td><td>994</td><td>10.3</td><td>1.9</td><td>1</td></tr><tr><td>9997</td><td>2024-09-30</td><td>&quot;四&quot;</td><td>2024-10-31</td><td>45759</td><td>2588</td><td>2462</td><td>1571</td><td>16.3</td><td>5.7</td><td>2</td></tr></tbody></table></div>"
      ],
      "text/plain": [
       "shape: (156_408, 11)\n",
       "┌──────┬─────────────┬─────────────┬─────────────┬───┬────────────┬────────────┬──────────┬────────┐\n",
       "│ code ┆ settlement_ ┆ settlement_ ┆ announcemen ┆ … ┆ final_prof ┆ reviced_ep ┆ dividend ┆ quater │\n",
       "│ ---  ┆ date        ┆ type        ┆ t_date      ┆   ┆ it         ┆ s          ┆ ---      ┆ ---    │\n",
       "│ i64  ┆ ---         ┆ ---         ┆ ---         ┆   ┆ ---        ┆ ---        ┆ f64      ┆ i64    │\n",
       "│      ┆ date        ┆ str         ┆ date        ┆   ┆ i64        ┆ f64        ┆          ┆        │\n",
       "╞══════╪═════════════╪═════════════╪═════════════╪═══╪════════════╪════════════╪══════════╪════════╡\n",
       "│ 1301 ┆ 2017-03-31  ┆ 本          ┆ 2017-05-11  ┆ … ┆ 2422       ┆ 230.7      ┆ 60.0     ┆ -2     │\n",
       "│ 1301 ┆ 2018-03-31  ┆ 本          ┆ 2018-05-10  ┆ … ┆ 3211       ┆ 304.3      ┆ 60.0     ┆ 4      │\n",
       "│ 1301 ┆ 2018-09-30  ┆ 四          ┆ 2018-11-05  ┆ … ┆ 269        ┆ 24.9       ┆ 0.8      ┆ 2      │\n",
       "│ 1301 ┆ 2018-12-31  ┆ 四          ┆ 2019-02-08  ┆ … ┆ 1677       ┆ 155.2      ┆ 2.8      ┆ 3      │\n",
       "│ 1301 ┆ 2019-03-31  ┆ 本          ┆ 2019-05-13  ┆ … ┆ 2914       ┆ 269.6      ┆ 70.0     ┆ 4      │\n",
       "│ …    ┆ …           ┆ …           ┆ …           ┆ … ┆ …          ┆ …          ┆ …        ┆ …      │\n",
       "│ 9997 ┆ 2024-03-31  ┆ 四          ┆ 2024-05-13  ┆ … ┆ 758        ┆ 7.8        ┆ 7.8      ┆ 4      │\n",
       "│ 9997 ┆ 2024-03-31  ┆ 本          ┆ 2024-05-13  ┆ … ┆ 5839       ┆ 60.4       ┆ 20.5     ┆ 4      │\n",
       "│ 9997 ┆ 2025-03-31  ┆ 予          ┆ 2024-05-13  ┆ … ┆ 8000       ┆ 82.7       ┆ 29.0     ┆ 4      │\n",
       "│ 9997 ┆ 2024-06-30  ┆ 四          ┆ 2024-07-31  ┆ … ┆ 994        ┆ 10.3       ┆ 1.9      ┆ 1      │\n",
       "│ 9997 ┆ 2024-09-30  ┆ 四          ┆ 2024-10-31  ┆ … ┆ 1571       ┆ 16.3       ┆ 5.7      ┆ 2      │\n",
       "└──────┴─────────────┴─────────────┴─────────────┴───┴────────────┴────────────┴──────────┴────────┘"
      ]
     },
     "execution_count": 3,
     "metadata": {},
     "output_type": "execute_result"
    }
   ],
   "source": [
    "# 決算データを読み込んで加工する。\n",
    "# dfをセットしない場合はデフォルトパスのparquetファイルからデータを読み込んでKessanPl.dfをセットする。\n",
    "# KessanPl(df: Union[pl.DataFrame, None]=None)\n",
    "KPL = KessanPl()\n",
    "KPL.df"
   ]
  },
  {
   "cell_type": "code",
   "execution_count": 4,
   "id": "5deff82f-6089-45ad-8b69-58044edd0f1f",
   "metadata": {},
   "outputs": [],
   "source": [
    "#### filter_で始まるメソッド\n",
    "#### KessanPl.dfから、特定レコードを抽出する。\n",
    "#### KessanPl.dfは加工され、書き換わる"
   ]
  },
  {
   "cell_type": "code",
   "execution_count": 5,
   "id": "464cb78d-7035-44d8-973e-02bf999067e9",
   "metadata": {
    "scrolled": true
   },
   "outputs": [
    {
     "data": {
      "text/html": [
       "<div><style>\n",
       ".dataframe > thead > tr,\n",
       ".dataframe > tbody > tr {\n",
       "  text-align: right;\n",
       "  white-space: pre-wrap;\n",
       "}\n",
       "</style>\n",
       "<small>shape: (94_134, 11)</small><table border=\"1\" class=\"dataframe\"><thead><tr><th>code</th><th>settlement_date</th><th>settlement_type</th><th>announcement_date</th><th>sales</th><th>operating_income</th><th>ordinary_profit</th><th>final_profit</th><th>reviced_eps</th><th>dividend</th><th>quater</th></tr><tr><td>i64</td><td>date</td><td>str</td><td>date</td><td>i64</td><td>i64</td><td>i64</td><td>i64</td><td>f64</td><td>f64</td><td>i64</td></tr></thead><tbody><tr><td>1301</td><td>2018-09-30</td><td>&quot;四&quot;</td><td>2018-11-05</td><td>61245</td><td>507</td><td>595</td><td>269</td><td>24.9</td><td>0.8</td><td>2</td></tr><tr><td>1301</td><td>2018-12-31</td><td>&quot;四&quot;</td><td>2019-02-08</td><td>78581</td><td>2208</td><td>2591</td><td>1677</td><td>155.2</td><td>2.8</td><td>3</td></tr><tr><td>1301</td><td>2019-03-31</td><td>&quot;四&quot;</td><td>2019-05-13</td><td>58368</td><td>551</td><td>511</td><td>413</td><td>38.2</td><td>0.9</td><td>4</td></tr><tr><td>1301</td><td>2019-06-30</td><td>&quot;四&quot;</td><td>2019-08-02</td><td>62644</td><td>770</td><td>1015</td><td>706</td><td>65.3</td><td>1.2</td><td>1</td></tr><tr><td>1301</td><td>2019-09-30</td><td>&quot;四&quot;</td><td>2019-11-05</td><td>64240</td><td>-35</td><td>113</td><td>4</td><td>0.4</td><td>-0.1</td><td>2</td></tr><tr><td>&hellip;</td><td>&hellip;</td><td>&hellip;</td><td>&hellip;</td><td>&hellip;</td><td>&hellip;</td><td>&hellip;</td><td>&hellip;</td><td>&hellip;</td><td>&hellip;</td><td>&hellip;</td></tr><tr><td>9997</td><td>2023-09-30</td><td>&quot;四&quot;</td><td>2023-10-31</td><td>44263</td><td>1939</td><td>2466</td><td>1878</td><td>19.4</td><td>4.4</td><td>2</td></tr><tr><td>9997</td><td>2023-12-31</td><td>&quot;四&quot;</td><td>2024-01-31</td><td>60173</td><td>2630</td><td>2605</td><td>1818</td><td>18.8</td><td>4.4</td><td>3</td></tr><tr><td>9997</td><td>2024-03-31</td><td>&quot;四&quot;</td><td>2024-05-13</td><td>52020</td><td>4062</td><td>4901</td><td>758</td><td>7.8</td><td>7.8</td><td>4</td></tr><tr><td>9997</td><td>2024-06-30</td><td>&quot;四&quot;</td><td>2024-07-31</td><td>51368</td><td>982</td><td>1681</td><td>994</td><td>10.3</td><td>1.9</td><td>1</td></tr><tr><td>9997</td><td>2024-09-30</td><td>&quot;四&quot;</td><td>2024-10-31</td><td>45759</td><td>2588</td><td>2462</td><td>1571</td><td>16.3</td><td>5.7</td><td>2</td></tr></tbody></table></div>"
      ],
      "text/plain": [
       "shape: (94_134, 11)\n",
       "┌──────┬─────────────┬─────────────┬─────────────┬───┬────────────┬────────────┬──────────┬────────┐\n",
       "│ code ┆ settlement_ ┆ settlement_ ┆ announcemen ┆ … ┆ final_prof ┆ reviced_ep ┆ dividend ┆ quater │\n",
       "│ ---  ┆ date        ┆ type        ┆ t_date      ┆   ┆ it         ┆ s          ┆ ---      ┆ ---    │\n",
       "│ i64  ┆ ---         ┆ ---         ┆ ---         ┆   ┆ ---        ┆ ---        ┆ f64      ┆ i64    │\n",
       "│      ┆ date        ┆ str         ┆ date        ┆   ┆ i64        ┆ f64        ┆          ┆        │\n",
       "╞══════╪═════════════╪═════════════╪═════════════╪═══╪════════════╪════════════╪══════════╪════════╡\n",
       "│ 1301 ┆ 2018-09-30  ┆ 四          ┆ 2018-11-05  ┆ … ┆ 269        ┆ 24.9       ┆ 0.8      ┆ 2      │\n",
       "│ 1301 ┆ 2018-12-31  ┆ 四          ┆ 2019-02-08  ┆ … ┆ 1677       ┆ 155.2      ┆ 2.8      ┆ 3      │\n",
       "│ 1301 ┆ 2019-03-31  ┆ 四          ┆ 2019-05-13  ┆ … ┆ 413        ┆ 38.2       ┆ 0.9      ┆ 4      │\n",
       "│ 1301 ┆ 2019-06-30  ┆ 四          ┆ 2019-08-02  ┆ … ┆ 706        ┆ 65.3       ┆ 1.2      ┆ 1      │\n",
       "│ 1301 ┆ 2019-09-30  ┆ 四          ┆ 2019-11-05  ┆ … ┆ 4          ┆ 0.4        ┆ -0.1     ┆ 2      │\n",
       "│ …    ┆ …           ┆ …           ┆ …           ┆ … ┆ …          ┆ …          ┆ …        ┆ …      │\n",
       "│ 9997 ┆ 2023-09-30  ┆ 四          ┆ 2023-10-31  ┆ … ┆ 1878       ┆ 19.4       ┆ 4.4      ┆ 2      │\n",
       "│ 9997 ┆ 2023-12-31  ┆ 四          ┆ 2024-01-31  ┆ … ┆ 1818       ┆ 18.8       ┆ 4.4      ┆ 3      │\n",
       "│ 9997 ┆ 2024-03-31  ┆ 四          ┆ 2024-05-13  ┆ … ┆ 758        ┆ 7.8        ┆ 7.8      ┆ 4      │\n",
       "│ 9997 ┆ 2024-06-30  ┆ 四          ┆ 2024-07-31  ┆ … ┆ 994        ┆ 10.3       ┆ 1.9      ┆ 1      │\n",
       "│ 9997 ┆ 2024-09-30  ┆ 四          ┆ 2024-10-31  ┆ … ┆ 1571       ┆ 16.3       ┆ 5.7      ┆ 2      │\n",
       "└──────┴─────────────┴─────────────┴─────────────┴───┴────────────┴────────────┴──────────┴────────┘"
      ]
     },
     "execution_count": 5,
     "metadata": {},
     "output_type": "execute_result"
    }
   ],
   "source": [
    "fp = DATA_DIR/\"kessan.parquet\"\n",
    "df = read_data(fp)\n",
    "KPL = KessanPl(df)\n",
    "\n",
    "# 四半期決算(quaterly)、または本決算(yearly)のみを抽出してKessanPl.dfを書き換える\n",
    "# def filter_settlement_type(self, settlement_type: Literal[\"quaterly\", \"yearly\"]) -> None:\n",
    "KPL.filter_settlement_type(\"quaterly\")\n",
    "KPL.df"
   ]
  },
  {
   "cell_type": "code",
   "execution_count": 6,
   "id": "73a4bd05-e055-4aac-ba8a-1538c7286e28",
   "metadata": {},
   "outputs": [
    {
     "data": {
      "text/html": [
       "<div><style>\n",
       ".dataframe > thead > tr,\n",
       ".dataframe > tbody > tr {\n",
       "  text-align: right;\n",
       "  white-space: pre-wrap;\n",
       "}\n",
       "</style>\n",
       "<small>shape: (43, 11)</small><table border=\"1\" class=\"dataframe\"><thead><tr><th>code</th><th>settlement_date</th><th>settlement_type</th><th>announcement_date</th><th>sales</th><th>operating_income</th><th>ordinary_profit</th><th>final_profit</th><th>reviced_eps</th><th>dividend</th><th>quater</th></tr><tr><td>i64</td><td>date</td><td>str</td><td>date</td><td>i64</td><td>i64</td><td>i64</td><td>i64</td><td>f64</td><td>f64</td><td>i64</td></tr></thead><tbody><tr><td>9997</td><td>2017-03-31</td><td>&quot;本&quot;</td><td>2017-05-11</td><td>146083</td><td>10882</td><td>12188</td><td>5802</td><td>59.7</td><td>12.5</td><td>-2</td></tr><tr><td>9997</td><td>2018-03-31</td><td>&quot;本&quot;</td><td>2018-05-11</td><td>161673</td><td>13008</td><td>13248</td><td>9665</td><td>99.4</td><td>12.5</td><td>4</td></tr><tr><td>9997</td><td>2018-09-30</td><td>&quot;四&quot;</td><td>2018-10-31</td><td>37182</td><td>1374</td><td>2101</td><td>1362</td><td>14.0</td><td>3.7</td><td>2</td></tr><tr><td>9997</td><td>2018-12-31</td><td>&quot;四&quot;</td><td>2019-01-31</td><td>54394</td><td>4610</td><td>4690</td><td>2949</td><td>30.3</td><td>8.5</td><td>3</td></tr><tr><td>9997</td><td>2019-03-31</td><td>&quot;本&quot;</td><td>2019-05-13</td><td>177648</td><td>12005</td><td>15309</td><td>10343</td><td>106.4</td><td>15.0</td><td>4</td></tr><tr><td>&hellip;</td><td>&hellip;</td><td>&hellip;</td><td>&hellip;</td><td>&hellip;</td><td>&hellip;</td><td>&hellip;</td><td>&hellip;</td><td>&hellip;</td><td>&hellip;</td><td>&hellip;</td></tr><tr><td>9997</td><td>2024-03-31</td><td>&quot;四&quot;</td><td>2024-05-13</td><td>52020</td><td>4062</td><td>4901</td><td>758</td><td>7.8</td><td>7.8</td><td>4</td></tr><tr><td>9997</td><td>2024-03-31</td><td>&quot;本&quot;</td><td>2024-05-13</td><td>208298</td><td>9787</td><td>11831</td><td>5839</td><td>60.4</td><td>20.5</td><td>4</td></tr><tr><td>9997</td><td>2025-03-31</td><td>&quot;予&quot;</td><td>2024-05-13</td><td>217000</td><td>11500</td><td>12500</td><td>8000</td><td>82.7</td><td>29.0</td><td>4</td></tr><tr><td>9997</td><td>2024-06-30</td><td>&quot;四&quot;</td><td>2024-07-31</td><td>51368</td><td>982</td><td>1681</td><td>994</td><td>10.3</td><td>1.9</td><td>1</td></tr><tr><td>9997</td><td>2024-09-30</td><td>&quot;四&quot;</td><td>2024-10-31</td><td>45759</td><td>2588</td><td>2462</td><td>1571</td><td>16.3</td><td>5.7</td><td>2</td></tr></tbody></table></div>"
      ],
      "text/plain": [
       "shape: (43, 11)\n",
       "┌──────┬─────────────┬─────────────┬─────────────┬───┬────────────┬────────────┬──────────┬────────┐\n",
       "│ code ┆ settlement_ ┆ settlement_ ┆ announcemen ┆ … ┆ final_prof ┆ reviced_ep ┆ dividend ┆ quater │\n",
       "│ ---  ┆ date        ┆ type        ┆ t_date      ┆   ┆ it         ┆ s          ┆ ---      ┆ ---    │\n",
       "│ i64  ┆ ---         ┆ ---         ┆ ---         ┆   ┆ ---        ┆ ---        ┆ f64      ┆ i64    │\n",
       "│      ┆ date        ┆ str         ┆ date        ┆   ┆ i64        ┆ f64        ┆          ┆        │\n",
       "╞══════╪═════════════╪═════════════╪═════════════╪═══╪════════════╪════════════╪══════════╪════════╡\n",
       "│ 9997 ┆ 2017-03-31  ┆ 本          ┆ 2017-05-11  ┆ … ┆ 5802       ┆ 59.7       ┆ 12.5     ┆ -2     │\n",
       "│ 9997 ┆ 2018-03-31  ┆ 本          ┆ 2018-05-11  ┆ … ┆ 9665       ┆ 99.4       ┆ 12.5     ┆ 4      │\n",
       "│ 9997 ┆ 2018-09-30  ┆ 四          ┆ 2018-10-31  ┆ … ┆ 1362       ┆ 14.0       ┆ 3.7      ┆ 2      │\n",
       "│ 9997 ┆ 2018-12-31  ┆ 四          ┆ 2019-01-31  ┆ … ┆ 2949       ┆ 30.3       ┆ 8.5      ┆ 3      │\n",
       "│ 9997 ┆ 2019-03-31  ┆ 本          ┆ 2019-05-13  ┆ … ┆ 10343      ┆ 106.4      ┆ 15.0     ┆ 4      │\n",
       "│ …    ┆ …           ┆ …           ┆ …           ┆ … ┆ …          ┆ …          ┆ …        ┆ …      │\n",
       "│ 9997 ┆ 2024-03-31  ┆ 四          ┆ 2024-05-13  ┆ … ┆ 758        ┆ 7.8        ┆ 7.8      ┆ 4      │\n",
       "│ 9997 ┆ 2024-03-31  ┆ 本          ┆ 2024-05-13  ┆ … ┆ 5839       ┆ 60.4       ┆ 20.5     ┆ 4      │\n",
       "│ 9997 ┆ 2025-03-31  ┆ 予          ┆ 2024-05-13  ┆ … ┆ 8000       ┆ 82.7       ┆ 29.0     ┆ 4      │\n",
       "│ 9997 ┆ 2024-06-30  ┆ 四          ┆ 2024-07-31  ┆ … ┆ 994        ┆ 10.3       ┆ 1.9      ┆ 1      │\n",
       "│ 9997 ┆ 2024-09-30  ┆ 四          ┆ 2024-10-31  ┆ … ┆ 1571       ┆ 16.3       ┆ 5.7      ┆ 2      │\n",
       "└──────┴─────────────┴─────────────┴─────────────┴───┴────────────┴────────────┴──────────┴────────┘"
      ]
     },
     "execution_count": 6,
     "metadata": {},
     "output_type": "execute_result"
    }
   ],
   "source": [
    "fp = DATA_DIR/\"kessan.parquet\"\n",
    "df = read_data(fp)\n",
    "KPL = KessanPl(df)\n",
    "\n",
    "# codeで指定した決算レコードのみを抽出してKessanPl.dfを書き換え\n",
    "# def filter_code(self, code: int) -> None:\n",
    "KPL.filter_code(9997)\n",
    "KPL.df"
   ]
  },
  {
   "cell_type": "code",
   "execution_count": 7,
   "id": "ef30054b-486a-4a1f-9cae-406b75a36eee",
   "metadata": {},
   "outputs": [],
   "source": [
    "#### get_で始まるメソッド\n",
    "#### KessanPl.dfを加工して結果をpl.DataFrameのインスタンスとして返す\n",
    "#### KessanPl.dfには手を加えない"
   ]
  },
  {
   "cell_type": "code",
   "execution_count": 7,
   "id": "09d96551-4c53-422d-97be-91d5e0686dc0",
   "metadata": {},
   "outputs": [
    {
     "data": {
      "text/html": [
       "<div><style>\n",
       ".dataframe > thead > tr,\n",
       ".dataframe > tbody > tr {\n",
       "  text-align: right;\n",
       "  white-space: pre-wrap;\n",
       "}\n",
       "</style>\n",
       "<small>shape: (7_718, 11)</small><table border=\"1\" class=\"dataframe\"><thead><tr><th>code</th><th>settlement_date</th><th>settlement_type</th><th>announcement_date</th><th>sales</th><th>operating_income</th><th>ordinary_profit</th><th>final_profit</th><th>reviced_eps</th><th>dividend</th><th>quater</th></tr><tr><td>i64</td><td>date</td><td>str</td><td>date</td><td>i64</td><td>i64</td><td>i64</td><td>i64</td><td>f64</td><td>f64</td><td>i64</td></tr></thead><tbody><tr><td>1301</td><td>2023-06-30</td><td>&quot;四&quot;</td><td>2023-08-04</td><td>62367</td><td>2421</td><td>2548</td><td>1827</td><td>170.5</td><td>3.9</td><td>1</td></tr><tr><td>1301</td><td>2024-03-31</td><td>&quot;本&quot;</td><td>2024-05-10</td><td>261604</td><td>8806</td><td>8856</td><td>5936</td><td>548.6</td><td>100.0</td><td>4</td></tr><tr><td>1332</td><td>2023-06-30</td><td>&quot;四&quot;</td><td>2023-08-04</td><td>199844</td><td>9720</td><td>9718</td><td>5981</td><td>19.2</td><td>4.9</td><td>1</td></tr><tr><td>1332</td><td>2024-03-31</td><td>&quot;本&quot;</td><td>2024-05-14</td><td>831375</td><td>29663</td><td>31963</td><td>23850</td><td>76.7</td><td>24.0</td><td>4</td></tr><tr><td>1333</td><td>2023-06-30</td><td>&quot;四&quot;</td><td>2023-08-07</td><td>250922</td><td>7685</td><td>11213</td><td>6652</td><td>131.9</td><td>3.1</td><td>1</td></tr><tr><td>&hellip;</td><td>&hellip;</td><td>&hellip;</td><td>&hellip;</td><td>&hellip;</td><td>&hellip;</td><td>&hellip;</td><td>&hellip;</td><td>&hellip;</td><td>&hellip;</td><td>&hellip;</td></tr><tr><td>9995</td><td>2024-03-31</td><td>&quot;本&quot;</td><td>2024-05-07</td><td>73361</td><td>862</td><td>1067</td><td>994</td><td>35.0</td><td>0.0</td><td>4</td></tr><tr><td>9996</td><td>2023-06-30</td><td>&quot;四&quot;</td><td>2023-08-10</td><td>11598</td><td>351</td><td>409</td><td>279</td><td>33.5</td><td>3.0</td><td>1</td></tr><tr><td>9996</td><td>2024-03-31</td><td>&quot;本&quot;</td><td>2024-05-13</td><td>47606</td><td>1527</td><td>1756</td><td>1227</td><td>147.2</td><td>40.0</td><td>4</td></tr><tr><td>9997</td><td>2023-06-30</td><td>&quot;四&quot;</td><td>2023-07-31</td><td>51842</td><td>1156</td><td>1859</td><td>1385</td><td>14.3</td><td>2.2</td><td>1</td></tr><tr><td>9997</td><td>2024-03-31</td><td>&quot;本&quot;</td><td>2024-05-13</td><td>208298</td><td>9787</td><td>11831</td><td>5839</td><td>60.4</td><td>20.5</td><td>4</td></tr></tbody></table></div>"
      ],
      "text/plain": [
       "shape: (7_718, 11)\n",
       "┌──────┬─────────────┬─────────────┬─────────────┬───┬────────────┬────────────┬──────────┬────────┐\n",
       "│ code ┆ settlement_ ┆ settlement_ ┆ announcemen ┆ … ┆ final_prof ┆ reviced_ep ┆ dividend ┆ quater │\n",
       "│ ---  ┆ date        ┆ type        ┆ t_date      ┆   ┆ it         ┆ s          ┆ ---      ┆ ---    │\n",
       "│ i64  ┆ ---         ┆ ---         ┆ ---         ┆   ┆ ---        ┆ ---        ┆ f64      ┆ i64    │\n",
       "│      ┆ date        ┆ str         ┆ date        ┆   ┆ i64        ┆ f64        ┆          ┆        │\n",
       "╞══════╪═════════════╪═════════════╪═════════════╪═══╪════════════╪════════════╪══════════╪════════╡\n",
       "│ 1301 ┆ 2023-06-30  ┆ 四          ┆ 2023-08-04  ┆ … ┆ 1827       ┆ 170.5      ┆ 3.9      ┆ 1      │\n",
       "│ 1301 ┆ 2024-03-31  ┆ 本          ┆ 2024-05-10  ┆ … ┆ 5936       ┆ 548.6      ┆ 100.0    ┆ 4      │\n",
       "│ 1332 ┆ 2023-06-30  ┆ 四          ┆ 2023-08-04  ┆ … ┆ 5981       ┆ 19.2       ┆ 4.9      ┆ 1      │\n",
       "│ 1332 ┆ 2024-03-31  ┆ 本          ┆ 2024-05-14  ┆ … ┆ 23850      ┆ 76.7       ┆ 24.0     ┆ 4      │\n",
       "│ 1333 ┆ 2023-06-30  ┆ 四          ┆ 2023-08-07  ┆ … ┆ 6652       ┆ 131.9      ┆ 3.1      ┆ 1      │\n",
       "│ …    ┆ …           ┆ …           ┆ …           ┆ … ┆ …          ┆ …          ┆ …        ┆ …      │\n",
       "│ 9995 ┆ 2024-03-31  ┆ 本          ┆ 2024-05-07  ┆ … ┆ 994        ┆ 35.0       ┆ 0.0      ┆ 4      │\n",
       "│ 9996 ┆ 2023-06-30  ┆ 四          ┆ 2023-08-10  ┆ … ┆ 279        ┆ 33.5       ┆ 3.0      ┆ 1      │\n",
       "│ 9996 ┆ 2024-03-31  ┆ 本          ┆ 2024-05-13  ┆ … ┆ 1227       ┆ 147.2      ┆ 40.0     ┆ 4      │\n",
       "│ 9997 ┆ 2023-06-30  ┆ 四          ┆ 2023-07-31  ┆ … ┆ 1385       ┆ 14.3       ┆ 2.2      ┆ 1      │\n",
       "│ 9997 ┆ 2024-03-31  ┆ 本          ┆ 2024-05-13  ┆ … ┆ 5839       ┆ 60.4       ┆ 20.5     ┆ 4      │\n",
       "└──────┴─────────────┴─────────────┴─────────────┴───┴────────────┴────────────┴──────────┴────────┘"
      ]
     },
     "execution_count": 7,
     "metadata": {},
     "output_type": "execute_result"
    }
   ],
   "source": [
    "# valuation_dateが含まれる決算リストの一覧を抽出する\n",
    "# settlement_dateではなく、announcement_dateで抽出。\n",
    "# valuation_dateを含む決算が未発表である場合は抽出されない。\n",
    "#def get_current_settlements(self, valuation_date: date) -> pl.DataFrame:\n",
    "\n",
    "KPL = KessanPl()\n",
    "# para\n",
    "valuation_date = date(2023, 7, 1)\n",
    "\n",
    "df = KPL.get_current_settlements(valuation_date=valuation_date)\n",
    "df"
   ]
  },
  {
   "cell_type": "code",
   "execution_count": 8,
   "id": "762c82b0-6d8a-4bd7-94d0-818f4ac40642",
   "metadata": {},
   "outputs": [
    {
     "data": {
      "text/html": [
       "<div><style>\n",
       ".dataframe > thead > tr,\n",
       ".dataframe > tbody > tr {\n",
       "  text-align: right;\n",
       "  white-space: pre-wrap;\n",
       "}\n",
       "</style>\n",
       "<small>shape: (6_971, 18)</small><table border=\"1\" class=\"dataframe\"><thead><tr><th>code</th><th>settlement_date</th><th>yearly_settlement_date</th><th>quater</th><th>announcement_date</th><th>sales_pr(%)</th><th>operating_income_pr(%)</th><th>ordinary_profit_pr(%)</th><th>final_profit_pr(%)</th><th>q_sales</th><th>q_operating_income</th><th>q_ordinary_profit</th><th>q_final_profit</th><th>forcast_announcement_date</th><th>forcast_sales</th><th>forcast_operating_income</th><th>forcast_ordinary_profit</th><th>forcast_final_profit</th></tr><tr><td>i64</td><td>date</td><td>date</td><td>i64</td><td>date</td><td>f64</td><td>f64</td><td>f64</td><td>f64</td><td>i64</td><td>i64</td><td>i64</td><td>i64</td><td>date</td><td>i64</td><td>i64</td><td>i64</td><td>i64</td></tr></thead><tbody><tr><td>1301</td><td>2024-06-30</td><td>2025-03-31</td><td>1</td><td>2024-08-05</td><td>22.7</td><td>31.0</td><td>33.0</td><td>34.5</td><td>68204</td><td>3102</td><td>3295</td><td>2412</td><td>2024-05-10</td><td>300000</td><td>10000</td><td>10000</td><td>7000</td></tr><tr><td>1301</td><td>2024-09-30</td><td>2025-03-31</td><td>2</td><td>2024-11-06</td><td>46.9</td><td>54.6</td><td>53.2</td><td>38.7</td><td>140565</td><td>5464</td><td>5315</td><td>2709</td><td>2024-05-10</td><td>300000</td><td>10000</td><td>10000</td><td>7000</td></tr><tr><td>1332</td><td>2024-06-30</td><td>2025-03-31</td><td>1</td><td>2024-08-06</td><td>25.2</td><td>29.9</td><td>27.2</td><td>22.0</td><td>220644</td><td>9724</td><td>9516</td><td>5289</td><td>2024-05-14</td><td>875000</td><td>32500</td><td>35000</td><td>24000</td></tr><tr><td>1332</td><td>2024-09-30</td><td>2025-03-31</td><td>2</td><td>2024-11-06</td><td>50.4</td><td>53.2</td><td>48.5</td><td>43.7</td><td>440682</td><td>17276</td><td>16976</td><td>10499</td><td>2024-05-14</td><td>875000</td><td>32500</td><td>35000</td><td>24000</td></tr><tr><td>1333</td><td>2024-06-30</td><td>2025-03-31</td><td>1</td><td>2024-08-05</td><td>24.5</td><td>25.5</td><td>30.8</td><td>29.7</td><td>256928</td><td>7657</td><td>9868</td><td>6540</td><td>2024-08-05</td><td>1050000</td><td>30000</td><td>32000</td><td>22000</td></tr><tr><td>&hellip;</td><td>&hellip;</td><td>&hellip;</td><td>&hellip;</td><td>&hellip;</td><td>&hellip;</td><td>&hellip;</td><td>&hellip;</td><td>&hellip;</td><td>&hellip;</td><td>&hellip;</td><td>&hellip;</td><td>&hellip;</td><td>&hellip;</td><td>&hellip;</td><td>&hellip;</td><td>&hellip;</td><td>&hellip;</td></tr><tr><td>9994</td><td>2024-09-30</td><td>2025-03-31</td><td>2</td><td>2024-11-14</td><td>47.9</td><td>38.0</td><td>38.2</td><td>41.8</td><td>79570</td><td>2434</td><td>2485</td><td>1548</td><td>2024-05-15</td><td>166000</td><td>6400</td><td>6500</td><td>3700</td></tr><tr><td>9996</td><td>2024-06-30</td><td>2025-03-31</td><td>1</td><td>2024-08-09</td><td>24.3</td><td>20.9</td><td>23.2</td><td>22.7</td><td>11994</td><td>326</td><td>414</td><td>283</td><td>2024-05-13</td><td>49430</td><td>1560</td><td>1785</td><td>1245</td></tr><tr><td>9996</td><td>2024-09-30</td><td>2025-03-31</td><td>2</td><td>2024-11-13</td><td>48.7</td><td>51.3</td><td>52.5</td><td>51.3</td><td>24097</td><td>801</td><td>938</td><td>639</td><td>2024-05-13</td><td>49430</td><td>1560</td><td>1785</td><td>1245</td></tr><tr><td>9997</td><td>2024-06-30</td><td>2025-03-31</td><td>1</td><td>2024-07-31</td><td>23.7</td><td>8.5</td><td>13.4</td><td>12.4</td><td>51368</td><td>982</td><td>1681</td><td>994</td><td>2024-05-13</td><td>217000</td><td>11500</td><td>12500</td><td>8000</td></tr><tr><td>9997</td><td>2024-09-30</td><td>2025-03-31</td><td>2</td><td>2024-10-31</td><td>44.8</td><td>31.0</td><td>33.1</td><td>32.1</td><td>97127</td><td>3570</td><td>4143</td><td>2565</td><td>2024-05-13</td><td>217000</td><td>11500</td><td>12500</td><td>8000</td></tr></tbody></table></div>"
      ],
      "text/plain": [
       "shape: (6_971, 18)\n",
       "┌──────┬─────────────┬────────────┬────────┬───┬────────────┬────────────┬────────────┬────────────┐\n",
       "│ code ┆ settlement_ ┆ yearly_set ┆ quater ┆ … ┆ forcast_sa ┆ forcast_op ┆ forcast_or ┆ forcast_fi │\n",
       "│ ---  ┆ date        ┆ tlement_da ┆ ---    ┆   ┆ les        ┆ erating_in ┆ dinary_pro ┆ nal_profit │\n",
       "│ i64  ┆ ---         ┆ te         ┆ i64    ┆   ┆ ---        ┆ come       ┆ fit        ┆ ---        │\n",
       "│      ┆ date        ┆ ---        ┆        ┆   ┆ i64        ┆ ---        ┆ ---        ┆ i64        │\n",
       "│      ┆             ┆ date       ┆        ┆   ┆            ┆ i64        ┆ i64        ┆            │\n",
       "╞══════╪═════════════╪════════════╪════════╪═══╪════════════╪════════════╪════════════╪════════════╡\n",
       "│ 1301 ┆ 2024-06-30  ┆ 2025-03-31 ┆ 1      ┆ … ┆ 300000     ┆ 10000      ┆ 10000      ┆ 7000       │\n",
       "│ 1301 ┆ 2024-09-30  ┆ 2025-03-31 ┆ 2      ┆ … ┆ 300000     ┆ 10000      ┆ 10000      ┆ 7000       │\n",
       "│ 1332 ┆ 2024-06-30  ┆ 2025-03-31 ┆ 1      ┆ … ┆ 875000     ┆ 32500      ┆ 35000      ┆ 24000      │\n",
       "│ 1332 ┆ 2024-09-30  ┆ 2025-03-31 ┆ 2      ┆ … ┆ 875000     ┆ 32500      ┆ 35000      ┆ 24000      │\n",
       "│ 1333 ┆ 2024-06-30  ┆ 2025-03-31 ┆ 1      ┆ … ┆ 1050000    ┆ 30000      ┆ 32000      ┆ 22000      │\n",
       "│ …    ┆ …           ┆ …          ┆ …      ┆ … ┆ …          ┆ …          ┆ …          ┆ …          │\n",
       "│ 9994 ┆ 2024-09-30  ┆ 2025-03-31 ┆ 2      ┆ … ┆ 166000     ┆ 6400       ┆ 6500       ┆ 3700       │\n",
       "│ 9996 ┆ 2024-06-30  ┆ 2025-03-31 ┆ 1      ┆ … ┆ 49430      ┆ 1560       ┆ 1785       ┆ 1245       │\n",
       "│ 9996 ┆ 2024-09-30  ┆ 2025-03-31 ┆ 2      ┆ … ┆ 49430      ┆ 1560       ┆ 1785       ┆ 1245       │\n",
       "│ 9997 ┆ 2024-06-30  ┆ 2025-03-31 ┆ 1      ┆ … ┆ 217000     ┆ 11500      ┆ 12500      ┆ 8000       │\n",
       "│ 9997 ┆ 2024-09-30  ┆ 2025-03-31 ┆ 2      ┆ … ┆ 217000     ┆ 11500      ┆ 12500      ┆ 8000       │\n",
       "└──────┴─────────────┴────────────┴────────┴───┴────────────┴────────────┴────────────┴────────────┘"
      ]
     },
     "execution_count": 8,
     "metadata": {},
     "output_type": "execute_result"
    }
   ],
   "source": [
    "fp = DATA_DIR/\"kessan.parquet\"\n",
    "df = read_data(fp)\n",
    "KPL = KessanPl(df)\n",
    "\n",
    "# evaluation_dateで指定した日における、決算進捗率が取得可能な全銘柄の四半期決算進捗率をpl.DataFrameで作成し、返す\n",
    "# 進捗率は、evaluation_date時における当期最新決算予想に対する四半期決算の進捗率。\n",
    "df = KPL.get_expected_quatery_settlements_progress_rate()\n",
    "df"
   ]
  },
  {
   "cell_type": "code",
   "execution_count": 9,
   "id": "549647f5-88ea-4925-bb18-969224b57b74",
   "metadata": {},
   "outputs": [
    {
     "data": {
      "text/html": [
       "<div><style>\n",
       ".dataframe > thead > tr,\n",
       ".dataframe > tbody > tr {\n",
       "  text-align: right;\n",
       "  white-space: pre-wrap;\n",
       "}\n",
       "</style>\n",
       "<small>shape: (80_194, 18)</small><table border=\"1\" class=\"dataframe\"><thead><tr><th>code</th><th>settlement_date</th><th>yearly_settlement_date</th><th>quater</th><th>announcement_date</th><th>sales_pr(%)</th><th>operating_income_pr(%)</th><th>ordinary_profit_pr(%)</th><th>final_profit_pr(%)</th><th>q_sales</th><th>q_operating_income</th><th>q_ordinary_profit</th><th>q_final_profit</th><th>yearly_announcement_date</th><th>yearly_sales</th><th>yearly_operating_income</th><th>yearly_ordinary_profit</th><th>yearly_final_profit</th></tr><tr><td>i64</td><td>date</td><td>date</td><td>i64</td><td>date</td><td>f64</td><td>f64</td><td>f64</td><td>f64</td><td>i64</td><td>i64</td><td>i64</td><td>i64</td><td>date</td><td>i64</td><td>i64</td><td>i64</td><td>i64</td></tr></thead><tbody><tr><td>1301</td><td>2019-03-31</td><td>2019-03-31</td><td>4</td><td>2019-05-13</td><td>100.0</td><td>100.0</td><td>100.0</td><td>100.0</td><td>256151</td><td>3831</td><td>4434</td><td>2914</td><td>2019-05-13</td><td>256151</td><td>3831</td><td>4434</td><td>2914</td></tr><tr><td>1301</td><td>2019-06-30</td><td>2020-03-31</td><td>1</td><td>2019-08-02</td><td>23.9</td><td>26.4</td><td>28.1</td><td>34.7</td><td>62644</td><td>770</td><td>1015</td><td>706</td><td>2020-05-12</td><td>262519</td><td>2918</td><td>3608</td><td>2037</td></tr><tr><td>1301</td><td>2019-09-30</td><td>2020-03-31</td><td>2</td><td>2019-11-05</td><td>48.3</td><td>25.2</td><td>31.3</td><td>34.9</td><td>126884</td><td>735</td><td>1128</td><td>710</td><td>2020-05-12</td><td>262519</td><td>2918</td><td>3608</td><td>2037</td></tr><tr><td>1301</td><td>2019-12-31</td><td>2020-03-31</td><td>3</td><td>2020-02-07</td><td>78.3</td><td>89.7</td><td>82.6</td><td>85.4</td><td>205436</td><td>2616</td><td>2979</td><td>1739</td><td>2020-05-12</td><td>262519</td><td>2918</td><td>3608</td><td>2037</td></tr><tr><td>1301</td><td>2020-03-31</td><td>2020-03-31</td><td>4</td><td>2020-05-12</td><td>100.0</td><td>100.0</td><td>100.0</td><td>100.0</td><td>262519</td><td>2918</td><td>3608</td><td>2037</td><td>2020-05-12</td><td>262519</td><td>2918</td><td>3608</td><td>2037</td></tr><tr><td>&hellip;</td><td>&hellip;</td><td>&hellip;</td><td>&hellip;</td><td>&hellip;</td><td>&hellip;</td><td>&hellip;</td><td>&hellip;</td><td>&hellip;</td><td>&hellip;</td><td>&hellip;</td><td>&hellip;</td><td>&hellip;</td><td>&hellip;</td><td>&hellip;</td><td>&hellip;</td><td>&hellip;</td><td>&hellip;</td></tr><tr><td>9997</td><td>2023-03-31</td><td>2023-03-31</td><td>4</td><td>2023-05-12</td><td>100.0</td><td>100.0</td><td>100.0</td><td>100.0</td><td>212376</td><td>11217</td><td>12459</td><td>7417</td><td>2023-05-12</td><td>212376</td><td>11217</td><td>12459</td><td>7417</td></tr><tr><td>9997</td><td>2023-06-30</td><td>2024-03-31</td><td>1</td><td>2023-07-31</td><td>24.9</td><td>11.8</td><td>15.7</td><td>23.7</td><td>51842</td><td>1156</td><td>1859</td><td>1385</td><td>2024-05-13</td><td>208298</td><td>9787</td><td>11831</td><td>5839</td></tr><tr><td>9997</td><td>2023-09-30</td><td>2024-03-31</td><td>2</td><td>2023-10-31</td><td>46.1</td><td>31.6</td><td>36.6</td><td>55.9</td><td>96105</td><td>3095</td><td>4325</td><td>3263</td><td>2024-05-13</td><td>208298</td><td>9787</td><td>11831</td><td>5839</td></tr><tr><td>9997</td><td>2023-12-31</td><td>2024-03-31</td><td>3</td><td>2024-01-31</td><td>75.0</td><td>58.5</td><td>58.6</td><td>87.0</td><td>156278</td><td>5725</td><td>6930</td><td>5081</td><td>2024-05-13</td><td>208298</td><td>9787</td><td>11831</td><td>5839</td></tr><tr><td>9997</td><td>2024-03-31</td><td>2024-03-31</td><td>4</td><td>2024-05-13</td><td>100.0</td><td>100.0</td><td>100.0</td><td>100.0</td><td>208298</td><td>9787</td><td>11831</td><td>5839</td><td>2024-05-13</td><td>208298</td><td>9787</td><td>11831</td><td>5839</td></tr></tbody></table></div>"
      ],
      "text/plain": [
       "shape: (80_194, 18)\n",
       "┌──────┬─────────────┬────────────┬────────┬───┬────────────┬────────────┬────────────┬────────────┐\n",
       "│ code ┆ settlement_ ┆ yearly_set ┆ quater ┆ … ┆ yearly_sal ┆ yearly_ope ┆ yearly_ord ┆ yearly_fin │\n",
       "│ ---  ┆ date        ┆ tlement_da ┆ ---    ┆   ┆ es         ┆ rating_inc ┆ inary_prof ┆ al_profit  │\n",
       "│ i64  ┆ ---         ┆ te         ┆ i64    ┆   ┆ ---        ┆ ome        ┆ it         ┆ ---        │\n",
       "│      ┆ date        ┆ ---        ┆        ┆   ┆ i64        ┆ ---        ┆ ---        ┆ i64        │\n",
       "│      ┆             ┆ date       ┆        ┆   ┆            ┆ i64        ┆ i64        ┆            │\n",
       "╞══════╪═════════════╪════════════╪════════╪═══╪════════════╪════════════╪════════════╪════════════╡\n",
       "│ 1301 ┆ 2019-03-31  ┆ 2019-03-31 ┆ 4      ┆ … ┆ 256151     ┆ 3831       ┆ 4434       ┆ 2914       │\n",
       "│ 1301 ┆ 2019-06-30  ┆ 2020-03-31 ┆ 1      ┆ … ┆ 262519     ┆ 2918       ┆ 3608       ┆ 2037       │\n",
       "│ 1301 ┆ 2019-09-30  ┆ 2020-03-31 ┆ 2      ┆ … ┆ 262519     ┆ 2918       ┆ 3608       ┆ 2037       │\n",
       "│ 1301 ┆ 2019-12-31  ┆ 2020-03-31 ┆ 3      ┆ … ┆ 262519     ┆ 2918       ┆ 3608       ┆ 2037       │\n",
       "│ 1301 ┆ 2020-03-31  ┆ 2020-03-31 ┆ 4      ┆ … ┆ 262519     ┆ 2918       ┆ 3608       ┆ 2037       │\n",
       "│ …    ┆ …           ┆ …          ┆ …      ┆ … ┆ …          ┆ …          ┆ …          ┆ …          │\n",
       "│ 9997 ┆ 2023-03-31  ┆ 2023-03-31 ┆ 4      ┆ … ┆ 212376     ┆ 11217      ┆ 12459      ┆ 7417       │\n",
       "│ 9997 ┆ 2023-06-30  ┆ 2024-03-31 ┆ 1      ┆ … ┆ 208298     ┆ 9787       ┆ 11831      ┆ 5839       │\n",
       "│ 9997 ┆ 2023-09-30  ┆ 2024-03-31 ┆ 2      ┆ … ┆ 208298     ┆ 9787       ┆ 11831      ┆ 5839       │\n",
       "│ 9997 ┆ 2023-12-31  ┆ 2024-03-31 ┆ 3      ┆ … ┆ 208298     ┆ 9787       ┆ 11831      ┆ 5839       │\n",
       "│ 9997 ┆ 2024-03-31  ┆ 2024-03-31 ┆ 4      ┆ … ┆ 208298     ┆ 9787       ┆ 11831      ┆ 5839       │\n",
       "└──────┴─────────────┴────────────┴────────┴───┴────────────┴────────────┴────────────┴────────────┘"
      ]
     },
     "execution_count": 9,
     "metadata": {},
     "output_type": "execute_result"
    }
   ],
   "source": [
    "fp = DATA_DIR/\"kessan.parquet\"\n",
    "df = read_data(fp)\n",
    "KPL = KessanPl(df)\n",
    "\n",
    "# 年度決算の実績値における、当該年度の四半期決算の進捗率をpl.DataFrameで作成し、返す\n",
    "# def get_actual_quatery_settlements_progress_rate(self) -> pl.DataFrame:\n",
    "df = KPL.get_actual_quatery_settlements_progress_rate()\n",
    "df"
   ]
  },
  {
   "cell_type": "code",
   "execution_count": 10,
   "id": "f0218802-e6e3-46c0-bfce-68c3886f2477",
   "metadata": {},
   "outputs": [
    {
     "data": {
      "text/plain": [
       "(datetime.date(2023, 5, 12), datetime.date(2024, 5, 10))"
      ]
     },
     "execution_count": 10,
     "metadata": {},
     "output_type": "execute_result"
    }
   ],
   "source": [
    "fp = DATA_DIR/\"kessan.parquet\"\n",
    "df = read_data(fp)\n",
    "KPL = KessanPl(df)\n",
    "\n",
    "# codeで指定した銘柄のsettlement_typeで指定した決算のvaluation_date時点における期首、期末のannouncement_daetを取得する\n",
    "# valuation_date = date.today()のような場合はまだ期末決算が発表されていないので、その場合においてはdate(2999, 12, 31)を期末として返す\n",
    "# def get_current_settlement_period(self, code: int, valuation_date: date, settlement_type: Literal[\"四\", \"本\"]) -> tuple:\n",
    "# パラメータ\n",
    "code = 1301\n",
    "valuation_date = date.today()\n",
    "valuation_date = date(2023, 12, 11)\n",
    "settlement_type = \"本\"\n",
    "\n",
    "# \n",
    "KPL.get_current_settlement_period_by_announcement_date(code, valuation_date, settlement_type)"
   ]
  },
  {
   "cell_type": "code",
   "execution_count": 11,
   "id": "c94d0220-3c59-49b4-bdc5-a3187ab11f11",
   "metadata": {},
   "outputs": [
    {
     "data": {
      "text/html": [
       "<div><style>\n",
       ".dataframe > thead > tr,\n",
       ".dataframe > tbody > tr {\n",
       "  text-align: right;\n",
       "  white-space: pre-wrap;\n",
       "}\n",
       "</style>\n",
       "<small>shape: (6_971, 18)</small><table border=\"1\" class=\"dataframe\"><thead><tr><th>code</th><th>settlement_date</th><th>yearly_settlement_date</th><th>quater</th><th>announcement_date</th><th>sales_pr(%)</th><th>operating_income_pr(%)</th><th>ordinary_profit_pr(%)</th><th>final_profit_pr(%)</th><th>q_sales</th><th>q_operating_income</th><th>q_ordinary_profit</th><th>q_final_profit</th><th>forcast_announcement_date</th><th>forcast_sales</th><th>forcast_operating_income</th><th>forcast_ordinary_profit</th><th>forcast_final_profit</th></tr><tr><td>i64</td><td>date</td><td>date</td><td>i64</td><td>date</td><td>f64</td><td>f64</td><td>f64</td><td>f64</td><td>i64</td><td>i64</td><td>i64</td><td>i64</td><td>date</td><td>i64</td><td>i64</td><td>i64</td><td>i64</td></tr></thead><tbody><tr><td>1301</td><td>2024-06-30</td><td>2025-03-31</td><td>1</td><td>2024-08-05</td><td>22.7</td><td>31.0</td><td>33.0</td><td>34.5</td><td>68204</td><td>3102</td><td>3295</td><td>2412</td><td>2024-05-10</td><td>300000</td><td>10000</td><td>10000</td><td>7000</td></tr><tr><td>1301</td><td>2024-09-30</td><td>2025-03-31</td><td>2</td><td>2024-11-06</td><td>46.9</td><td>54.6</td><td>53.2</td><td>38.7</td><td>140565</td><td>5464</td><td>5315</td><td>2709</td><td>2024-05-10</td><td>300000</td><td>10000</td><td>10000</td><td>7000</td></tr><tr><td>1332</td><td>2024-06-30</td><td>2025-03-31</td><td>1</td><td>2024-08-06</td><td>25.2</td><td>29.9</td><td>27.2</td><td>22.0</td><td>220644</td><td>9724</td><td>9516</td><td>5289</td><td>2024-05-14</td><td>875000</td><td>32500</td><td>35000</td><td>24000</td></tr><tr><td>1332</td><td>2024-09-30</td><td>2025-03-31</td><td>2</td><td>2024-11-06</td><td>50.4</td><td>53.2</td><td>48.5</td><td>43.7</td><td>440682</td><td>17276</td><td>16976</td><td>10499</td><td>2024-05-14</td><td>875000</td><td>32500</td><td>35000</td><td>24000</td></tr><tr><td>1333</td><td>2024-06-30</td><td>2025-03-31</td><td>1</td><td>2024-08-05</td><td>24.5</td><td>25.5</td><td>30.8</td><td>29.7</td><td>256928</td><td>7657</td><td>9868</td><td>6540</td><td>2024-08-05</td><td>1050000</td><td>30000</td><td>32000</td><td>22000</td></tr><tr><td>&hellip;</td><td>&hellip;</td><td>&hellip;</td><td>&hellip;</td><td>&hellip;</td><td>&hellip;</td><td>&hellip;</td><td>&hellip;</td><td>&hellip;</td><td>&hellip;</td><td>&hellip;</td><td>&hellip;</td><td>&hellip;</td><td>&hellip;</td><td>&hellip;</td><td>&hellip;</td><td>&hellip;</td><td>&hellip;</td></tr><tr><td>9994</td><td>2024-09-30</td><td>2025-03-31</td><td>2</td><td>2024-11-14</td><td>47.9</td><td>38.0</td><td>38.2</td><td>41.8</td><td>79570</td><td>2434</td><td>2485</td><td>1548</td><td>2024-05-15</td><td>166000</td><td>6400</td><td>6500</td><td>3700</td></tr><tr><td>9996</td><td>2024-06-30</td><td>2025-03-31</td><td>1</td><td>2024-08-09</td><td>24.3</td><td>20.9</td><td>23.2</td><td>22.7</td><td>11994</td><td>326</td><td>414</td><td>283</td><td>2024-05-13</td><td>49430</td><td>1560</td><td>1785</td><td>1245</td></tr><tr><td>9996</td><td>2024-09-30</td><td>2025-03-31</td><td>2</td><td>2024-11-13</td><td>48.7</td><td>51.3</td><td>52.5</td><td>51.3</td><td>24097</td><td>801</td><td>938</td><td>639</td><td>2024-05-13</td><td>49430</td><td>1560</td><td>1785</td><td>1245</td></tr><tr><td>9997</td><td>2024-06-30</td><td>2025-03-31</td><td>1</td><td>2024-07-31</td><td>23.7</td><td>8.5</td><td>13.4</td><td>12.4</td><td>51368</td><td>982</td><td>1681</td><td>994</td><td>2024-05-13</td><td>217000</td><td>11500</td><td>12500</td><td>8000</td></tr><tr><td>9997</td><td>2024-09-30</td><td>2025-03-31</td><td>2</td><td>2024-10-31</td><td>44.8</td><td>31.0</td><td>33.1</td><td>32.1</td><td>97127</td><td>3570</td><td>4143</td><td>2565</td><td>2024-05-13</td><td>217000</td><td>11500</td><td>12500</td><td>8000</td></tr></tbody></table></div>"
      ],
      "text/plain": [
       "shape: (6_971, 18)\n",
       "┌──────┬─────────────┬────────────┬────────┬───┬────────────┬────────────┬────────────┬────────────┐\n",
       "│ code ┆ settlement_ ┆ yearly_set ┆ quater ┆ … ┆ forcast_sa ┆ forcast_op ┆ forcast_or ┆ forcast_fi │\n",
       "│ ---  ┆ date        ┆ tlement_da ┆ ---    ┆   ┆ les        ┆ erating_in ┆ dinary_pro ┆ nal_profit │\n",
       "│ i64  ┆ ---         ┆ te         ┆ i64    ┆   ┆ ---        ┆ come       ┆ fit        ┆ ---        │\n",
       "│      ┆ date        ┆ ---        ┆        ┆   ┆ i64        ┆ ---        ┆ ---        ┆ i64        │\n",
       "│      ┆             ┆ date       ┆        ┆   ┆            ┆ i64        ┆ i64        ┆            │\n",
       "╞══════╪═════════════╪════════════╪════════╪═══╪════════════╪════════════╪════════════╪════════════╡\n",
       "│ 1301 ┆ 2024-06-30  ┆ 2025-03-31 ┆ 1      ┆ … ┆ 300000     ┆ 10000      ┆ 10000      ┆ 7000       │\n",
       "│ 1301 ┆ 2024-09-30  ┆ 2025-03-31 ┆ 2      ┆ … ┆ 300000     ┆ 10000      ┆ 10000      ┆ 7000       │\n",
       "│ 1332 ┆ 2024-06-30  ┆ 2025-03-31 ┆ 1      ┆ … ┆ 875000     ┆ 32500      ┆ 35000      ┆ 24000      │\n",
       "│ 1332 ┆ 2024-09-30  ┆ 2025-03-31 ┆ 2      ┆ … ┆ 875000     ┆ 32500      ┆ 35000      ┆ 24000      │\n",
       "│ 1333 ┆ 2024-06-30  ┆ 2025-03-31 ┆ 1      ┆ … ┆ 1050000    ┆ 30000      ┆ 32000      ┆ 22000      │\n",
       "│ …    ┆ …           ┆ …          ┆ …      ┆ … ┆ …          ┆ …          ┆ …          ┆ …          │\n",
       "│ 9994 ┆ 2024-09-30  ┆ 2025-03-31 ┆ 2      ┆ … ┆ 166000     ┆ 6400       ┆ 6500       ┆ 3700       │\n",
       "│ 9996 ┆ 2024-06-30  ┆ 2025-03-31 ┆ 1      ┆ … ┆ 49430      ┆ 1560       ┆ 1785       ┆ 1245       │\n",
       "│ 9996 ┆ 2024-09-30  ┆ 2025-03-31 ┆ 2      ┆ … ┆ 49430      ┆ 1560       ┆ 1785       ┆ 1245       │\n",
       "│ 9997 ┆ 2024-06-30  ┆ 2025-03-31 ┆ 1      ┆ … ┆ 217000     ┆ 11500      ┆ 12500      ┆ 8000       │\n",
       "│ 9997 ┆ 2024-09-30  ┆ 2025-03-31 ┆ 2      ┆ … ┆ 217000     ┆ 11500      ┆ 12500      ┆ 8000       │\n",
       "└──────┴─────────────┴────────────┴────────┴───┴────────────┴────────────┴────────────┴────────────┘"
      ]
     },
     "execution_count": 11,
     "metadata": {},
     "output_type": "execute_result"
    }
   ],
   "source": [
    "fp = DATA_DIR/\"kessan.parquet\"\n",
    "df = read_data(fp)\n",
    "KPL = KessanPl(df)\n",
    "\n",
    "# evaluation_dateで指定した日における、決算進捗率が取得可能な全銘柄の四半期決算進捗率をpl.DataFrame取得する\n",
    "# 進捗率は、evaluation_date時における当期最新決算予想に対する四半期決算の進捗率。\n",
    "# KessanPl.dfは、valuation_date以前の決算のみを抽出する。\n",
    "# def with_columns_expected_quatery_settlements_progress_rate(self, valuation_date: date=date.today()) -> None:\n",
    "df = KPL.get_expected_quatery_settlements_progress_rate()\n",
    "df"
   ]
  },
  {
   "cell_type": "code",
   "execution_count": 12,
   "id": "e6f61cf7-a408-4366-8352-02904d1660f6",
   "metadata": {},
   "outputs": [
    {
     "data": {
      "text/html": [
       "<div><style>\n",
       ".dataframe > thead > tr,\n",
       ".dataframe > tbody > tr {\n",
       "  text-align: right;\n",
       "  white-space: pre-wrap;\n",
       "}\n",
       "</style>\n",
       "<small>shape: (8, 11)</small><table border=\"1\" class=\"dataframe\"><thead><tr><th>code</th><th>settlement_date</th><th>settlement_type</th><th>announcement_date</th><th>sales</th><th>operating_income</th><th>ordinary_profit</th><th>final_profit</th><th>reviced_eps</th><th>dividend</th><th>quater</th></tr><tr><td>i64</td><td>date</td><td>str</td><td>date</td><td>i64</td><td>i64</td><td>i64</td><td>i64</td><td>f64</td><td>f64</td><td>i64</td></tr></thead><tbody><tr><td>1301</td><td>2024-09-30</td><td>&quot;四&quot;</td><td>2024-11-06</td><td>72361</td><td>2362</td><td>2020</td><td>297</td><td>25.0</td><td>3.3</td><td>2</td></tr><tr><td>1301</td><td>2024-06-30</td><td>&quot;四&quot;</td><td>2024-08-05</td><td>68204</td><td>3102</td><td>3295</td><td>2412</td><td>203.1</td><td>4.5</td><td>1</td></tr><tr><td>1301</td><td>2024-03-31</td><td>&quot;四&quot;</td><td>2024-05-10</td><td>59990</td><td>1857</td><td>1863</td><td>951</td><td>87.9</td><td>3.1</td><td>4</td></tr><tr><td>1301</td><td>2023-12-31</td><td>&quot;四&quot;</td><td>2024-02-02</td><td>75539</td><td>2953</td><td>2851</td><td>2534</td><td>236.3</td><td>3.9</td><td>3</td></tr><tr><td>1301</td><td>2023-09-30</td><td>&quot;四&quot;</td><td>2023-11-06</td><td>63708</td><td>1575</td><td>1594</td><td>624</td><td>58.2</td><td>2.5</td><td>2</td></tr><tr><td>1301</td><td>2023-06-30</td><td>&quot;四&quot;</td><td>2023-08-04</td><td>62367</td><td>2421</td><td>2548</td><td>1827</td><td>170.5</td><td>3.9</td><td>1</td></tr><tr><td>1301</td><td>2023-03-31</td><td>&quot;四&quot;</td><td>2023-05-12</td><td>58780</td><td>-19</td><td>-157</td><td>-182</td><td>-17.0</td><td>0.0</td><td>4</td></tr><tr><td>1301</td><td>2022-12-31</td><td>&quot;四&quot;</td><td>2023-02-03</td><td>79768</td><td>2749</td><td>2534</td><td>1756</td><td>163.7</td><td>3.4</td><td>3</td></tr></tbody></table></div>"
      ],
      "text/plain": [
       "shape: (8, 11)\n",
       "┌──────┬─────────────┬─────────────┬─────────────┬───┬────────────┬────────────┬──────────┬────────┐\n",
       "│ code ┆ settlement_ ┆ settlement_ ┆ announcemen ┆ … ┆ final_prof ┆ reviced_ep ┆ dividend ┆ quater │\n",
       "│ ---  ┆ date        ┆ type        ┆ t_date      ┆   ┆ it         ┆ s          ┆ ---      ┆ ---    │\n",
       "│ i64  ┆ ---         ┆ ---         ┆ ---         ┆   ┆ ---        ┆ ---        ┆ f64      ┆ i64    │\n",
       "│      ┆ date        ┆ str         ┆ date        ┆   ┆ i64        ┆ f64        ┆          ┆        │\n",
       "╞══════╪═════════════╪═════════════╪═════════════╪═══╪════════════╪════════════╪══════════╪════════╡\n",
       "│ 1301 ┆ 2024-09-30  ┆ 四          ┆ 2024-11-06  ┆ … ┆ 297        ┆ 25.0       ┆ 3.3      ┆ 2      │\n",
       "│ 1301 ┆ 2024-06-30  ┆ 四          ┆ 2024-08-05  ┆ … ┆ 2412       ┆ 203.1      ┆ 4.5      ┆ 1      │\n",
       "│ 1301 ┆ 2024-03-31  ┆ 四          ┆ 2024-05-10  ┆ … ┆ 951        ┆ 87.9       ┆ 3.1      ┆ 4      │\n",
       "│ 1301 ┆ 2023-12-31  ┆ 四          ┆ 2024-02-02  ┆ … ┆ 2534       ┆ 236.3      ┆ 3.9      ┆ 3      │\n",
       "│ 1301 ┆ 2023-09-30  ┆ 四          ┆ 2023-11-06  ┆ … ┆ 624        ┆ 58.2       ┆ 2.5      ┆ 2      │\n",
       "│ 1301 ┆ 2023-06-30  ┆ 四          ┆ 2023-08-04  ┆ … ┆ 1827       ┆ 170.5      ┆ 3.9      ┆ 1      │\n",
       "│ 1301 ┆ 2023-03-31  ┆ 四          ┆ 2023-05-12  ┆ … ┆ -182       ┆ -17.0      ┆ 0.0      ┆ 4      │\n",
       "│ 1301 ┆ 2022-12-31  ┆ 四          ┆ 2023-02-03  ┆ … ┆ 1756       ┆ 163.7      ┆ 3.4      ┆ 3      │\n",
       "└──────┴─────────────┴─────────────┴─────────────┴───┴────────────┴────────────┴──────────┴────────┘"
      ]
     },
     "execution_count": 12,
     "metadata": {},
     "output_type": "execute_result"
    }
   ],
   "source": [
    "fp = DATA_DIR/\"kessan.parquet\"\n",
    "df = read_data(fp)\n",
    "KPL = KessanPl(df)\n",
    "\n",
    "code = 1301\n",
    "# codeで指定した銘柄のvaluation_date時点で発表済の四半期決算を、新しいものからnum個返す\n",
    "#def get_latest_quater_settlement(self, code: int, valuation_date: date=date.today(), num: int=8) -> pl.DataFrame:\n",
    "\n",
    "df = KPL.get_latest_quater_settlement(code)\n",
    "df"
   ]
  },
  {
   "cell_type": "code",
   "execution_count": 5,
   "id": "5000709f-5885-4364-95d7-9fa3b13c4f5f",
   "metadata": {},
   "outputs": [
    {
     "data": {
      "text/html": [
       "<div><style>\n",
       ".dataframe > thead > tr,\n",
       ".dataframe > tbody > tr {\n",
       "  text-align: right;\n",
       "  white-space: pre-wrap;\n",
       "}\n",
       "</style>\n",
       "<small>shape: (3_756, 11)</small><table border=\"1\" class=\"dataframe\"><thead><tr><th>code</th><th>announcement_date</th><th>settlement_date</th><th>settlement_type</th><th>sales</th><th>operating_income</th><th>ordinary_profit</th><th>final_profit</th><th>reviced_eps</th><th>dividend</th><th>quater</th></tr><tr><td>i64</td><td>date</td><td>date</td><td>str</td><td>i64</td><td>i64</td><td>i64</td><td>i64</td><td>f64</td><td>f64</td><td>i64</td></tr></thead><tbody><tr><td>1301</td><td>2022-11-04</td><td>2022-09-30</td><td>&quot;四&quot;</td><td>68337</td><td>2943</td><td>3151</td><td>2380</td><td>221.7</td><td>4.3</td><td>2</td></tr><tr><td>1332</td><td>2022-11-02</td><td>2022-09-30</td><td>&quot;四&quot;</td><td>192952</td><td>6656</td><td>7335</td><td>7514</td><td>24.2</td><td>3.4</td><td>2</td></tr><tr><td>1333</td><td>2022-11-07</td><td>2022-09-30</td><td>&quot;四&quot;</td><td>252623</td><td>8064</td><td>9034</td><td>5454</td><td>105.4</td><td>3.2</td><td>2</td></tr><tr><td>1375</td><td>2022-11-10</td><td>2022-09-30</td><td>&quot;四&quot;</td><td>9312</td><td>977</td><td>878</td><td>590</td><td>14.8</td><td>10.5</td><td>2</td></tr><tr><td>1376</td><td>2022-10-07</td><td>2022-08-31</td><td>&quot;四&quot;</td><td>14577</td><td>291</td><td>340</td><td>224</td><td>19.4</td><td>2.0</td><td>1</td></tr><tr><td>&hellip;</td><td>&hellip;</td><td>&hellip;</td><td>&hellip;</td><td>&hellip;</td><td>&hellip;</td><td>&hellip;</td><td>&hellip;</td><td>&hellip;</td><td>&hellip;</td><td>&hellip;</td></tr><tr><td>9993</td><td>2022-10-12</td><td>2022-08-31</td><td>&quot;四&quot;</td><td>25425</td><td>369</td><td>391</td><td>251</td><td>23.1</td><td>1.5</td><td>2</td></tr><tr><td>9994</td><td>2022-11-11</td><td>2022-09-30</td><td>&quot;四&quot;</td><td>39352</td><td>126</td><td>142</td><td>152</td><td>14.0</td><td>0.3</td><td>2</td></tr><tr><td>9995</td><td>2022-10-28</td><td>2022-09-30</td><td>&quot;四&quot;</td><td>17413</td><td>591</td><td>618</td><td>511</td><td>20.7</td><td>3.4</td><td>2</td></tr><tr><td>9996</td><td>2022-11-10</td><td>2022-09-30</td><td>&quot;四&quot;</td><td>10504</td><td>350</td><td>387</td><td>259</td><td>31.1</td><td>3.3</td><td>2</td></tr><tr><td>9997</td><td>2022-10-31</td><td>2022-09-30</td><td>&quot;四&quot;</td><td>45340</td><td>1936</td><td>2219</td><td>1467</td><td>15.2</td><td>4.3</td><td>2</td></tr></tbody></table></div>"
      ],
      "text/plain": [
       "shape: (3_756, 11)\n",
       "┌──────┬─────────────┬─────────────┬─────────────┬───┬────────────┬────────────┬──────────┬────────┐\n",
       "│ code ┆ announcemen ┆ settlement_ ┆ settlement_ ┆ … ┆ final_prof ┆ reviced_ep ┆ dividend ┆ quater │\n",
       "│ ---  ┆ t_date      ┆ date        ┆ type        ┆   ┆ it         ┆ s          ┆ ---      ┆ ---    │\n",
       "│ i64  ┆ ---         ┆ ---         ┆ ---         ┆   ┆ ---        ┆ ---        ┆ f64      ┆ i64    │\n",
       "│      ┆ date        ┆ date        ┆ str         ┆   ┆ i64        ┆ f64        ┆          ┆        │\n",
       "╞══════╪═════════════╪═════════════╪═════════════╪═══╪════════════╪════════════╪══════════╪════════╡\n",
       "│ 1301 ┆ 2022-11-04  ┆ 2022-09-30  ┆ 四          ┆ … ┆ 2380       ┆ 221.7      ┆ 4.3      ┆ 2      │\n",
       "│ 1332 ┆ 2022-11-02  ┆ 2022-09-30  ┆ 四          ┆ … ┆ 7514       ┆ 24.2       ┆ 3.4      ┆ 2      │\n",
       "│ 1333 ┆ 2022-11-07  ┆ 2022-09-30  ┆ 四          ┆ … ┆ 5454       ┆ 105.4      ┆ 3.2      ┆ 2      │\n",
       "│ 1375 ┆ 2022-11-10  ┆ 2022-09-30  ┆ 四          ┆ … ┆ 590        ┆ 14.8       ┆ 10.5     ┆ 2      │\n",
       "│ 1376 ┆ 2022-10-07  ┆ 2022-08-31  ┆ 四          ┆ … ┆ 224        ┆ 19.4       ┆ 2.0      ┆ 1      │\n",
       "│ …    ┆ …           ┆ …           ┆ …           ┆ … ┆ …          ┆ …          ┆ …        ┆ …      │\n",
       "│ 9993 ┆ 2022-10-12  ┆ 2022-08-31  ┆ 四          ┆ … ┆ 251        ┆ 23.1       ┆ 1.5      ┆ 2      │\n",
       "│ 9994 ┆ 2022-11-11  ┆ 2022-09-30  ┆ 四          ┆ … ┆ 152        ┆ 14.0       ┆ 0.3      ┆ 2      │\n",
       "│ 9995 ┆ 2022-10-28  ┆ 2022-09-30  ┆ 四          ┆ … ┆ 511        ┆ 20.7       ┆ 3.4      ┆ 2      │\n",
       "│ 9996 ┆ 2022-11-10  ┆ 2022-09-30  ┆ 四          ┆ … ┆ 259        ┆ 31.1       ┆ 3.3      ┆ 2      │\n",
       "│ 9997 ┆ 2022-10-31  ┆ 2022-09-30  ┆ 四          ┆ … ┆ 1467       ┆ 15.2       ┆ 4.3      ┆ 2      │\n",
       "└──────┴─────────────┴─────────────┴─────────────┴───┴────────────┴────────────┴──────────┴────────┘"
      ]
     },
     "execution_count": 5,
     "metadata": {},
     "output_type": "execute_result"
    }
   ],
   "source": [
    "# valuation_date時点で発表済最新の全銘柄の四半期決算リストを返す\n",
    "#def get_latest_quater_settlements(self, valuation_date: date=date.today()) -> pl.DataFrame:\n",
    "KPL = KessanPl()\n",
    "df = KPL.get_latest_quater_settlements(date(2023,1,1))\n",
    "df"
   ]
  },
  {
   "cell_type": "code",
   "execution_count": 3,
   "id": "6b677c9e-208c-46ea-853b-c91bd23d8c8d",
   "metadata": {},
   "outputs": [
    {
     "data": {
      "text/html": [
       "<div><style>\n",
       ".dataframe > thead > tr,\n",
       ".dataframe > tbody > tr {\n",
       "  text-align: right;\n",
       "  white-space: pre-wrap;\n",
       "}\n",
       "</style>\n",
       "<small>shape: (10_902, 11)</small><table border=\"1\" class=\"dataframe\"><thead><tr><th>code</th><th>announcement_date</th><th>settlement_date</th><th>settlement_type</th><th>sales</th><th>operating_income</th><th>ordinary_profit</th><th>final_profit</th><th>reviced_eps</th><th>dividend</th><th>quater</th></tr><tr><td>i64</td><td>date</td><td>date</td><td>str</td><td>i64</td><td>i64</td><td>i64</td><td>i64</td><td>f64</td><td>f64</td><td>i64</td></tr></thead><tbody><tr><td>1301</td><td>2024-05-10</td><td>2025-03-31</td><td>&quot;予&quot;</td><td>300000</td><td>10000</td><td>10000</td><td>7000</td><td>589.4</td><td>110.0</td><td>4</td></tr><tr><td>1301</td><td>2024-05-10</td><td>2024-03-31</td><td>&quot;本&quot;</td><td>261604</td><td>8806</td><td>8856</td><td>5936</td><td>548.6</td><td>100.0</td><td>4</td></tr><tr><td>1301</td><td>2024-11-06</td><td>2024-09-30</td><td>&quot;四&quot;</td><td>72361</td><td>2362</td><td>2020</td><td>297</td><td>25.0</td><td>3.3</td><td>2</td></tr><tr><td>1332</td><td>2024-05-14</td><td>2025-03-31</td><td>&quot;予&quot;</td><td>875000</td><td>32500</td><td>35000</td><td>24000</td><td>77.2</td><td>24.0</td><td>4</td></tr><tr><td>1332</td><td>2024-05-14</td><td>2024-03-31</td><td>&quot;本&quot;</td><td>831375</td><td>29663</td><td>31963</td><td>23850</td><td>76.7</td><td>24.0</td><td>4</td></tr><tr><td>&hellip;</td><td>&hellip;</td><td>&hellip;</td><td>&hellip;</td><td>&hellip;</td><td>&hellip;</td><td>&hellip;</td><td>&hellip;</td><td>&hellip;</td><td>&hellip;</td><td>&hellip;</td></tr><tr><td>9996</td><td>2024-05-13</td><td>2024-03-31</td><td>&quot;本&quot;</td><td>47606</td><td>1527</td><td>1756</td><td>1227</td><td>147.2</td><td>40.0</td><td>4</td></tr><tr><td>9996</td><td>2024-11-13</td><td>2024-09-30</td><td>&quot;四&quot;</td><td>12103</td><td>475</td><td>524</td><td>356</td><td>42.7</td><td>3.9</td><td>2</td></tr><tr><td>9997</td><td>2024-05-13</td><td>2025-03-31</td><td>&quot;予&quot;</td><td>217000</td><td>11500</td><td>12500</td><td>8000</td><td>82.7</td><td>29.0</td><td>4</td></tr><tr><td>9997</td><td>2024-05-13</td><td>2024-03-31</td><td>&quot;本&quot;</td><td>208298</td><td>9787</td><td>11831</td><td>5839</td><td>60.4</td><td>20.5</td><td>4</td></tr><tr><td>9997</td><td>2024-10-31</td><td>2024-09-30</td><td>&quot;四&quot;</td><td>45759</td><td>2588</td><td>2462</td><td>1571</td><td>16.3</td><td>5.7</td><td>2</td></tr></tbody></table></div>"
      ],
      "text/plain": [
       "shape: (10_902, 11)\n",
       "┌──────┬─────────────┬─────────────┬─────────────┬───┬────────────┬────────────┬──────────┬────────┐\n",
       "│ code ┆ announcemen ┆ settlement_ ┆ settlement_ ┆ … ┆ final_prof ┆ reviced_ep ┆ dividend ┆ quater │\n",
       "│ ---  ┆ t_date      ┆ date        ┆ type        ┆   ┆ it         ┆ s          ┆ ---      ┆ ---    │\n",
       "│ i64  ┆ ---         ┆ ---         ┆ ---         ┆   ┆ ---        ┆ ---        ┆ f64      ┆ i64    │\n",
       "│      ┆ date        ┆ date        ┆ str         ┆   ┆ i64        ┆ f64        ┆          ┆        │\n",
       "╞══════╪═════════════╪═════════════╪═════════════╪═══╪════════════╪════════════╪══════════╪════════╡\n",
       "│ 1301 ┆ 2024-05-10  ┆ 2025-03-31  ┆ 予          ┆ … ┆ 7000       ┆ 589.4      ┆ 110.0    ┆ 4      │\n",
       "│ 1301 ┆ 2024-05-10  ┆ 2024-03-31  ┆ 本          ┆ … ┆ 5936       ┆ 548.6      ┆ 100.0    ┆ 4      │\n",
       "│ 1301 ┆ 2024-11-06  ┆ 2024-09-30  ┆ 四          ┆ … ┆ 297        ┆ 25.0       ┆ 3.3      ┆ 2      │\n",
       "│ 1332 ┆ 2024-05-14  ┆ 2025-03-31  ┆ 予          ┆ … ┆ 24000      ┆ 77.2       ┆ 24.0     ┆ 4      │\n",
       "│ 1332 ┆ 2024-05-14  ┆ 2024-03-31  ┆ 本          ┆ … ┆ 23850      ┆ 76.7       ┆ 24.0     ┆ 4      │\n",
       "│ …    ┆ …           ┆ …           ┆ …           ┆ … ┆ …          ┆ …          ┆ …        ┆ …      │\n",
       "│ 9996 ┆ 2024-05-13  ┆ 2024-03-31  ┆ 本          ┆ … ┆ 1227       ┆ 147.2      ┆ 40.0     ┆ 4      │\n",
       "│ 9996 ┆ 2024-11-13  ┆ 2024-09-30  ┆ 四          ┆ … ┆ 356        ┆ 42.7       ┆ 3.9      ┆ 2      │\n",
       "│ 9997 ┆ 2024-05-13  ┆ 2025-03-31  ┆ 予          ┆ … ┆ 8000       ┆ 82.7       ┆ 29.0     ┆ 4      │\n",
       "│ 9997 ┆ 2024-05-13  ┆ 2024-03-31  ┆ 本          ┆ … ┆ 5839       ┆ 60.4       ┆ 20.5     ┆ 4      │\n",
       "│ 9997 ┆ 2024-10-31  ┆ 2024-09-30  ┆ 四          ┆ … ┆ 1571       ┆ 16.3       ┆ 5.7      ┆ 2      │\n",
       "└──────┴─────────────┴─────────────┴─────────────┴───┴────────────┴────────────┴──────────┴────────┘"
      ]
     },
     "execution_count": 3,
     "metadata": {},
     "output_type": "execute_result"
    }
   ],
   "source": [
    "# valuation_date時点で発表済最新の全銘柄の本決算、四半期決算のリストを返す\n",
    "#def get_latest_settlements(self, valuation_date: date=date.today()) -> pl.DataFrame:\n",
    "KPL = KessanPl()\n",
    "# para \n",
    "valuation_date = date.today()\n",
    "\n",
    "# 実行\n",
    "df = KPL.get_latest_settlements(valuation_date=valuation_date)\n",
    "df"
   ]
  },
  {
   "cell_type": "code",
   "execution_count": 2,
   "id": "e5da2d2d-074a-4069-9e7c-e17bbf6515eb",
   "metadata": {},
   "outputs": [
    {
     "data": {
      "text/html": [
       "<div><style>\n",
       ".dataframe > thead > tr,\n",
       ".dataframe > tbody > tr {\n",
       "  text-align: right;\n",
       "  white-space: pre-wrap;\n",
       "}\n",
       "</style>\n",
       "<small>shape: (3_525, 11)</small><table border=\"1\" class=\"dataframe\"><thead><tr><th>code</th><th>announcement_date</th><th>settlement_date</th><th>settlement_type</th><th>sales</th><th>operating_income</th><th>ordinary_profit</th><th>final_profit</th><th>reviced_eps</th><th>dividend</th><th>quater</th></tr><tr><td>i64</td><td>date</td><td>date</td><td>str</td><td>i64</td><td>i64</td><td>i64</td><td>i64</td><td>f64</td><td>f64</td><td>i64</td></tr></thead><tbody><tr><td>1301</td><td>2024-05-10</td><td>2025-03-31</td><td>&quot;予&quot;</td><td>300000</td><td>10000</td><td>10000</td><td>7000</td><td>589.4</td><td>110.0</td><td>4</td></tr><tr><td>1332</td><td>2024-05-14</td><td>2025-03-31</td><td>&quot;予&quot;</td><td>875000</td><td>32500</td><td>35000</td><td>24000</td><td>77.2</td><td>24.0</td><td>4</td></tr><tr><td>1333</td><td>2024-08-05</td><td>2025-03-31</td><td>&quot;予&quot;</td><td>1050000</td><td>30000</td><td>32000</td><td>22000</td><td>436.8</td><td>100.0</td><td>4</td></tr><tr><td>1375</td><td>2024-05-09</td><td>2025-03-31</td><td>&quot;予&quot;</td><td>49990</td><td>2620</td><td>2370</td><td>1550</td><td>38.9</td><td>12.0</td><td>4</td></tr><tr><td>1376</td><td>2024-07-10</td><td>2025-05-31</td><td>&quot;予&quot;</td><td>63500</td><td>1650</td><td>1750</td><td>1200</td><td>106.2</td><td>33.0</td><td>4</td></tr><tr><td>&hellip;</td><td>&hellip;</td><td>&hellip;</td><td>&hellip;</td><td>&hellip;</td><td>&hellip;</td><td>&hellip;</td><td>&hellip;</td><td>&hellip;</td><td>&hellip;</td><td>&hellip;</td></tr><tr><td>9991</td><td>2024-10-29</td><td>2025-03-31</td><td>&quot;予&quot;</td><td>115000</td><td>5500</td><td>6000</td><td>4100</td><td>121.9</td><td>48.0</td><td>4</td></tr><tr><td>9993</td><td>2024-10-10</td><td>2025-02-28</td><td>&quot;予&quot;</td><td>101500</td><td>-800</td><td>-500</td><td>-1700</td><td>-157.7</td><td>27.0</td><td>4</td></tr><tr><td>9994</td><td>2024-05-15</td><td>2025-03-31</td><td>&quot;予&quot;</td><td>166000</td><td>6400</td><td>6500</td><td>3700</td><td>341.3</td><td>54.0</td><td>4</td></tr><tr><td>9996</td><td>2024-05-13</td><td>2025-03-31</td><td>&quot;予&quot;</td><td>49430</td><td>1560</td><td>1785</td><td>1245</td><td>149.3</td><td>45.0</td><td>4</td></tr><tr><td>9997</td><td>2024-05-13</td><td>2025-03-31</td><td>&quot;予&quot;</td><td>217000</td><td>11500</td><td>12500</td><td>8000</td><td>82.7</td><td>29.0</td><td>4</td></tr></tbody></table></div>"
      ],
      "text/plain": [
       "shape: (3_525, 11)\n",
       "┌──────┬─────────────┬─────────────┬─────────────┬───┬────────────┬────────────┬──────────┬────────┐\n",
       "│ code ┆ announcemen ┆ settlement_ ┆ settlement_ ┆ … ┆ final_prof ┆ reviced_ep ┆ dividend ┆ quater │\n",
       "│ ---  ┆ t_date      ┆ date        ┆ type        ┆   ┆ it         ┆ s          ┆ ---      ┆ ---    │\n",
       "│ i64  ┆ ---         ┆ ---         ┆ ---         ┆   ┆ ---        ┆ ---        ┆ f64      ┆ i64    │\n",
       "│      ┆ date        ┆ date        ┆ str         ┆   ┆ i64        ┆ f64        ┆          ┆        │\n",
       "╞══════╪═════════════╪═════════════╪═════════════╪═══╪════════════╪════════════╪══════════╪════════╡\n",
       "│ 1301 ┆ 2024-05-10  ┆ 2025-03-31  ┆ 予          ┆ … ┆ 7000       ┆ 589.4      ┆ 110.0    ┆ 4      │\n",
       "│ 1332 ┆ 2024-05-14  ┆ 2025-03-31  ┆ 予          ┆ … ┆ 24000      ┆ 77.2       ┆ 24.0     ┆ 4      │\n",
       "│ 1333 ┆ 2024-08-05  ┆ 2025-03-31  ┆ 予          ┆ … ┆ 22000      ┆ 436.8      ┆ 100.0    ┆ 4      │\n",
       "│ 1375 ┆ 2024-05-09  ┆ 2025-03-31  ┆ 予          ┆ … ┆ 1550       ┆ 38.9       ┆ 12.0     ┆ 4      │\n",
       "│ 1376 ┆ 2024-07-10  ┆ 2025-05-31  ┆ 予          ┆ … ┆ 1200       ┆ 106.2      ┆ 33.0     ┆ 4      │\n",
       "│ …    ┆ …           ┆ …           ┆ …           ┆ … ┆ …          ┆ …          ┆ …        ┆ …      │\n",
       "│ 9991 ┆ 2024-10-29  ┆ 2025-03-31  ┆ 予          ┆ … ┆ 4100       ┆ 121.9      ┆ 48.0     ┆ 4      │\n",
       "│ 9993 ┆ 2024-10-10  ┆ 2025-02-28  ┆ 予          ┆ … ┆ -1700      ┆ -157.7     ┆ 27.0     ┆ 4      │\n",
       "│ 9994 ┆ 2024-05-15  ┆ 2025-03-31  ┆ 予          ┆ … ┆ 3700       ┆ 341.3      ┆ 54.0     ┆ 4      │\n",
       "│ 9996 ┆ 2024-05-13  ┆ 2025-03-31  ┆ 予          ┆ … ┆ 1245       ┆ 149.3      ┆ 45.0     ┆ 4      │\n",
       "│ 9997 ┆ 2024-05-13  ┆ 2025-03-31  ┆ 予          ┆ … ┆ 8000       ┆ 82.7       ┆ 29.0     ┆ 4      │\n",
       "└──────┴─────────────┴─────────────┴─────────────┴───┴────────────┴────────────┴──────────┴────────┘"
      ]
     },
     "execution_count": 2,
     "metadata": {},
     "output_type": "execute_result"
    }
   ],
   "source": [
    "# valuation_date時点で発表済最新の全銘柄の本決算、またはリストを返す\n",
    "#def get_latest_yearly_settlements(self, valuation_date: date=date.today(), settlement_type: Literal[\"本\", \"予\"]=\"本\") -> pl.DataFrame:\n",
    "\n",
    "KPL = KessanPl()\n",
    "# para\n",
    "valuation_date = date.today()\n",
    "settlement_type=\"予\"\n",
    "\n",
    "df = KPL.get_latest_yearly_settlements(valuation_date=valuation_date, settlement_type=settlement_type)\n",
    "df"
   ]
  },
  {
   "cell_type": "code",
   "execution_count": 3,
   "id": "46a037af-fc72-41cc-8e9c-cb863cf83ffa",
   "metadata": {},
   "outputs": [
    {
     "data": {
      "text/html": [
       "<div><style>\n",
       ".dataframe > thead > tr,\n",
       ".dataframe > tbody > tr {\n",
       "  text-align: right;\n",
       "  white-space: pre-wrap;\n",
       "}\n",
       "</style>\n",
       "<small>shape: (3_709, 5)</small><table border=\"1\" class=\"dataframe\"><thead><tr><th>code</th><th>start_date</th><th>end_date</th><th>updown_rate</th><th>nh_updown_rate</th></tr><tr><td>i64</td><td>date</td><td>date</td><td>f64</td><td>f64</td></tr></thead><tbody><tr><td>1301</td><td>2024-11-07</td><td>2025-01-03</td><td>1.35</td><td>0.38</td></tr><tr><td>1332</td><td>2024-11-07</td><td>2025-01-03</td><td>0.11</td><td>0.38</td></tr><tr><td>1333</td><td>2024-11-12</td><td>2025-01-03</td><td>4.54</td><td>0.63</td></tr><tr><td>1375</td><td>2024-11-08</td><td>2025-01-03</td><td>3.35</td><td>0.28</td></tr><tr><td>1376</td><td>2024-10-05</td><td>2025-01-03</td><td>1.3</td><td>1.67</td></tr><tr><td>&hellip;</td><td>&hellip;</td><td>&hellip;</td><td>&hellip;</td><td>&hellip;</td></tr><tr><td>9991</td><td>2024-10-30</td><td>2025-01-03</td><td>5.37</td><td>2.02</td></tr><tr><td>9993</td><td>2024-10-11</td><td>2025-01-03</td><td>-0.42</td><td>0.65</td></tr><tr><td>9994</td><td>2024-11-15</td><td>2025-01-03</td><td>0.52</td><td>2.95</td></tr><tr><td>9996</td><td>2024-11-14</td><td>2025-01-03</td><td>9.23</td><td>2.53</td></tr><tr><td>9997</td><td>2024-11-01</td><td>2025-01-03</td><td>10.04</td><td>3.61</td></tr></tbody></table></div>"
      ],
      "text/plain": [
       "shape: (3_709, 5)\n",
       "┌──────┬────────────┬────────────┬─────────────┬────────────────┐\n",
       "│ code ┆ start_date ┆ end_date   ┆ updown_rate ┆ nh_updown_rate │\n",
       "│ ---  ┆ ---        ┆ ---        ┆ ---         ┆ ---            │\n",
       "│ i64  ┆ date       ┆ date       ┆ f64         ┆ f64            │\n",
       "╞══════╪════════════╪════════════╪═════════════╪════════════════╡\n",
       "│ 1301 ┆ 2024-11-07 ┆ 2025-01-03 ┆ 1.35        ┆ 0.38           │\n",
       "│ 1332 ┆ 2024-11-07 ┆ 2025-01-03 ┆ 0.11        ┆ 0.38           │\n",
       "│ 1333 ┆ 2024-11-12 ┆ 2025-01-03 ┆ 4.54        ┆ 0.63           │\n",
       "│ 1375 ┆ 2024-11-08 ┆ 2025-01-03 ┆ 3.35        ┆ 0.28           │\n",
       "│ 1376 ┆ 2024-10-05 ┆ 2025-01-03 ┆ 1.3         ┆ 1.67           │\n",
       "│ …    ┆ …          ┆ …          ┆ …           ┆ …              │\n",
       "│ 9991 ┆ 2024-10-30 ┆ 2025-01-03 ┆ 5.37        ┆ 2.02           │\n",
       "│ 9993 ┆ 2024-10-11 ┆ 2025-01-03 ┆ -0.42       ┆ 0.65           │\n",
       "│ 9994 ┆ 2024-11-15 ┆ 2025-01-03 ┆ 0.52        ┆ 2.95           │\n",
       "│ 9996 ┆ 2024-11-14 ┆ 2025-01-03 ┆ 9.23        ┆ 2.53           │\n",
       "│ 9997 ┆ 2024-11-01 ┆ 2025-01-03 ┆ 10.04       ┆ 3.61           │\n",
       "└──────┴────────────┴────────────┴─────────────┴────────────────┘"
      ]
     },
     "execution_count": 3,
     "metadata": {},
     "output_type": "execute_result"
    }
   ],
   "source": [
    "# valuation_dateで指定した日が含まれる四半期の株価上昇率列を追加した各銘柄の決算リストを返す。\n",
    "# 指定した日が含まれる四半期が決算発表前の場合は、四半期が始まってから、指定した日までの株価上昇率を計算する。\n",
    "# 株価上昇率は決算発表翌営業日始値～次の決算発表日当日の終値までで計算。\n",
    "#def get_quater_settlement_price_updown_rate(self, valuation_date: date=date.today()) -> pl.DataFrame:\n",
    "KPL = KessanPl()\n",
    "valuation_date = date.today()\n",
    "#valuation_date = date(2024, 9, 1)\n",
    "\n",
    "df = KPL.get_quater_settlement_price_updown_rate(valuation_date, index=\"nh225\")\n",
    "df"
   ]
  },
  {
   "cell_type": "code",
   "execution_count": 3,
   "id": "ef5feb1a-2b54-430e-97ea-dd5530fbda51",
   "metadata": {},
   "outputs": [
    {
     "data": {
      "text/html": [
       "<div><style>\n",
       ".dataframe > thead > tr,\n",
       ".dataframe > tbody > tr {\n",
       "  text-align: right;\n",
       "  white-space: pre-wrap;\n",
       "}\n",
       "</style>\n",
       "<small>shape: (3_756, 11)</small><table border=\"1\" class=\"dataframe\"><thead><tr><th>code</th><th>announcement_date</th><th>settlement_date</th><th>settlement_type</th><th>sales</th><th>operating_income</th><th>ordinary_profit</th><th>final_profit</th><th>reviced_eps</th><th>dividend</th><th>quater</th></tr><tr><td>i64</td><td>date</td><td>date</td><td>str</td><td>i64</td><td>i64</td><td>i64</td><td>i64</td><td>f64</td><td>f64</td><td>i64</td></tr></thead><tbody><tr><td>1301</td><td>2024-08-05</td><td>2024-06-30</td><td>&quot;四&quot;</td><td>68204</td><td>3102</td><td>3295</td><td>2412</td><td>203.1</td><td>4.5</td><td>1</td></tr><tr><td>1332</td><td>2024-08-06</td><td>2024-06-30</td><td>&quot;四&quot;</td><td>220644</td><td>9724</td><td>9516</td><td>5289</td><td>17.0</td><td>4.4</td><td>1</td></tr><tr><td>1333</td><td>2024-08-05</td><td>2024-06-30</td><td>&quot;四&quot;</td><td>256928</td><td>7657</td><td>9868</td><td>6540</td><td>129.9</td><td>3.0</td><td>1</td></tr><tr><td>1375</td><td>2024-08-08</td><td>2024-06-30</td><td>&quot;四&quot;</td><td>10172</td><td>-77</td><td>-90</td><td>-92</td><td>-2.3</td><td>-0.8</td><td>1</td></tr><tr><td>1376</td><td>2024-10-04</td><td>2024-08-31</td><td>&quot;四&quot;</td><td>14832</td><td>131</td><td>192</td><td>106</td><td>9.4</td><td>0.9</td><td>1</td></tr><tr><td>&hellip;</td><td>&hellip;</td><td>&hellip;</td><td>&hellip;</td><td>&hellip;</td><td>&hellip;</td><td>&hellip;</td><td>&hellip;</td><td>&hellip;</td><td>&hellip;</td><td>&hellip;</td></tr><tr><td>9991</td><td>2024-10-29</td><td>2024-09-30</td><td>&quot;四&quot;</td><td>26827</td><td>1386</td><td>1354</td><td>854</td><td>25.3</td><td>5.2</td><td>2</td></tr><tr><td>9993</td><td>2024-10-10</td><td>2024-08-31</td><td>&quot;四&quot;</td><td>25989</td><td>-274</td><td>-52</td><td>-870</td><td>-80.7</td><td>-1.1</td><td>2</td></tr><tr><td>9994</td><td>2024-08-09</td><td>2024-06-30</td><td>&quot;四&quot;</td><td>39151</td><td>1286</td><td>1321</td><td>817</td><td>75.4</td><td>3.3</td><td>1</td></tr><tr><td>9996</td><td>2024-08-09</td><td>2024-06-30</td><td>&quot;四&quot;</td><td>11994</td><td>326</td><td>414</td><td>283</td><td>34.0</td><td>2.7</td><td>1</td></tr><tr><td>9997</td><td>2024-10-31</td><td>2024-09-30</td><td>&quot;四&quot;</td><td>45759</td><td>2588</td><td>2462</td><td>1571</td><td>16.3</td><td>5.7</td><td>2</td></tr></tbody></table></div>"
      ],
      "text/plain": [
       "shape: (3_756, 11)\n",
       "┌──────┬─────────────┬─────────────┬─────────────┬───┬────────────┬────────────┬──────────┬────────┐\n",
       "│ code ┆ announcemen ┆ settlement_ ┆ settlement_ ┆ … ┆ final_prof ┆ reviced_ep ┆ dividend ┆ quater │\n",
       "│ ---  ┆ t_date      ┆ date        ┆ type        ┆   ┆ it         ┆ s          ┆ ---      ┆ ---    │\n",
       "│ i64  ┆ ---         ┆ ---         ┆ ---         ┆   ┆ ---        ┆ ---        ┆ f64      ┆ i64    │\n",
       "│      ┆ date        ┆ date        ┆ str         ┆   ┆ i64        ┆ f64        ┆          ┆        │\n",
       "╞══════╪═════════════╪═════════════╪═════════════╪═══╪════════════╪════════════╪══════════╪════════╡\n",
       "│ 1301 ┆ 2024-08-05  ┆ 2024-06-30  ┆ 四          ┆ … ┆ 2412       ┆ 203.1      ┆ 4.5      ┆ 1      │\n",
       "│ 1332 ┆ 2024-08-06  ┆ 2024-06-30  ┆ 四          ┆ … ┆ 5289       ┆ 17.0       ┆ 4.4      ┆ 1      │\n",
       "│ 1333 ┆ 2024-08-05  ┆ 2024-06-30  ┆ 四          ┆ … ┆ 6540       ┆ 129.9      ┆ 3.0      ┆ 1      │\n",
       "│ 1375 ┆ 2024-08-08  ┆ 2024-06-30  ┆ 四          ┆ … ┆ -92        ┆ -2.3       ┆ -0.8     ┆ 1      │\n",
       "│ 1376 ┆ 2024-10-04  ┆ 2024-08-31  ┆ 四          ┆ … ┆ 106        ┆ 9.4        ┆ 0.9      ┆ 1      │\n",
       "│ …    ┆ …           ┆ …           ┆ …           ┆ … ┆ …          ┆ …          ┆ …        ┆ …      │\n",
       "│ 9991 ┆ 2024-10-29  ┆ 2024-09-30  ┆ 四          ┆ … ┆ 854        ┆ 25.3       ┆ 5.2      ┆ 2      │\n",
       "│ 9993 ┆ 2024-10-10  ┆ 2024-08-31  ┆ 四          ┆ … ┆ -870       ┆ -80.7      ┆ -1.1     ┆ 2      │\n",
       "│ 9994 ┆ 2024-08-09  ┆ 2024-06-30  ┆ 四          ┆ … ┆ 817        ┆ 75.4       ┆ 3.3      ┆ 1      │\n",
       "│ 9996 ┆ 2024-08-09  ┆ 2024-06-30  ┆ 四          ┆ … ┆ 283        ┆ 34.0       ┆ 2.7      ┆ 1      │\n",
       "│ 9997 ┆ 2024-10-31  ┆ 2024-09-30  ┆ 四          ┆ … ┆ 1571       ┆ 16.3       ┆ 5.7      ┆ 2      │\n",
       "└──────┴─────────────┴─────────────┴─────────────┴───┴────────────┴────────────┴──────────┴────────┘"
      ]
     },
     "execution_count": 3,
     "metadata": {},
     "output_type": "execute_result"
    }
   ],
   "source": [
    "# valuation_dateを含む全銘柄の四半期決算リストを返す\n",
    "#def get_quater_settlements_including_valuation_date(self, valuation_date: date=date.today()) -> pl.DataFrame:\n",
    "\n",
    "# para\n",
    "valuation_date = date.today()\n",
    "valuation_date = date(2024, 8, 1)\n",
    "\n",
    "KPL = KessanPl()\n",
    "df = KPL.get_quater_settlements_including_valuation_date(valuation_date=valuation_date)\n",
    "df"
   ]
  },
  {
   "cell_type": "code",
   "execution_count": 14,
   "id": "6e9caef5-6c48-4e2e-bc8d-6b92d72af828",
   "metadata": {},
   "outputs": [
    {
     "data": {
      "text/html": [
       "<div><style>\n",
       ".dataframe > thead > tr,\n",
       ".dataframe > tbody > tr {\n",
       "  text-align: right;\n",
       "  white-space: pre-wrap;\n",
       "}\n",
       "</style>\n",
       "<small>shape: (1, 11)</small><table border=\"1\" class=\"dataframe\"><thead><tr><th>code</th><th>settlement_date</th><th>settlement_type</th><th>announcement_date</th><th>sales</th><th>operating_income</th><th>ordinary_profit</th><th>final_profit</th><th>reviced_eps</th><th>dividend</th><th>quater</th></tr><tr><td>i64</td><td>date</td><td>str</td><td>date</td><td>i64</td><td>i64</td><td>i64</td><td>i64</td><td>f64</td><td>f64</td><td>i64</td></tr></thead><tbody><tr><td>1301</td><td>2025-03-31</td><td>&quot;予&quot;</td><td>2024-05-10</td><td>300000</td><td>10000</td><td>10000</td><td>7000</td><td>589.4</td><td>110.0</td><td>4</td></tr></tbody></table></div>"
      ],
      "text/plain": [
       "shape: (1, 11)\n",
       "┌──────┬─────────────┬─────────────┬─────────────┬───┬────────────┬────────────┬──────────┬────────┐\n",
       "│ code ┆ settlement_ ┆ settlement_ ┆ announcemen ┆ … ┆ final_prof ┆ reviced_ep ┆ dividend ┆ quater │\n",
       "│ ---  ┆ date        ┆ type        ┆ t_date      ┆   ┆ it         ┆ s          ┆ ---      ┆ ---    │\n",
       "│ i64  ┆ ---         ┆ ---         ┆ ---         ┆   ┆ ---        ┆ ---        ┆ f64      ┆ i64    │\n",
       "│      ┆ date        ┆ str         ┆ date        ┆   ┆ i64        ┆ f64        ┆          ┆        │\n",
       "╞══════╪═════════════╪═════════════╪═════════════╪═══╪════════════╪════════════╪══════════╪════════╡\n",
       "│ 1301 ┆ 2025-03-31  ┆ 予          ┆ 2024-05-10  ┆ … ┆ 7000       ┆ 589.4      ┆ 110.0    ┆ 4      │\n",
       "└──────┴─────────────┴─────────────┴─────────────┴───┴────────────┴────────────┴──────────┴────────┘"
      ]
     },
     "execution_count": 14,
     "metadata": {},
     "output_type": "execute_result"
    }
   ],
   "source": [
    "fp = DATA_DIR/\"kessan.parquet\"\n",
    "df = read_data(fp)\n",
    "KPL = KessanPl(df)\n",
    "\n",
    "# codeで指定された銘柄のvaluation_date時点における発表済決算予想の発表推移をpl.DataFrameで返す\n",
    "# this_settlement_periodをTrueにセットすると、valuation_dateを含む期の決算予想のみに絞る\n",
    "# descending=Trueにすると、発表日が新しいもの順に並べ替える\n",
    "#def get_settlement_forcast(self, code: int, valuation_date: date=date.today(), this_settlement_period=True, descending=True) -> pl.DataFrame:\n",
    "\n",
    "# set parameter\n",
    "code = 1301\n",
    "valuation_date = date.today()\n",
    "this_settlement_period = True\n",
    "\n",
    "\n",
    "df = KPL.get_settlement_forcast(code, valuation_date=valuation_date, this_settlement_period=this_settlement_period)\n",
    "df\n"
   ]
  },
  {
   "cell_type": "code",
   "execution_count": 15,
   "id": "060b9a08-8585-4ed1-bb99-7766b6f7400f",
   "metadata": {},
   "outputs": [
    {
     "data": {
      "text/html": [
       "<div><style>\n",
       ".dataframe > thead > tr,\n",
       ".dataframe > tbody > tr {\n",
       "  text-align: right;\n",
       "  white-space: pre-wrap;\n",
       "}\n",
       "</style>\n",
       "<small>shape: (7_156, 12)</small><table border=\"1\" class=\"dataframe\"><thead><tr><th>code</th><th>settlement_date</th><th>settlement_type</th><th>announcement_date</th><th>sales</th><th>operating_income</th><th>ordinary_profit</th><th>final_profit</th><th>reviced_eps</th><th>dividend</th><th>quater</th><th>price_change_rate</th></tr><tr><td>i64</td><td>date</td><td>str</td><td>date</td><td>i64</td><td>i64</td><td>i64</td><td>i64</td><td>f64</td><td>f64</td><td>i64</td><td>f64</td></tr></thead><tbody><tr><td>1301</td><td>2023-03-31</td><td>&quot;本&quot;</td><td>2023-05-12</td><td>272167</td><td>8105</td><td>8182</td><td>5782</td><td>539.1</td><td>100.0</td><td>4</td><td>10.8</td></tr><tr><td>1301</td><td>2024-03-31</td><td>&quot;本&quot;</td><td>2024-05-10</td><td>261604</td><td>8806</td><td>8856</td><td>5936</td><td>548.6</td><td>100.0</td><td>4</td><td>4.1</td></tr><tr><td>1332</td><td>2023-03-31</td><td>&quot;本&quot;</td><td>2023-05-12</td><td>768181</td><td>24488</td><td>27776</td><td>21233</td><td>68.2</td><td>18.0</td><td>4</td><td>18.1</td></tr><tr><td>1332</td><td>2024-03-31</td><td>&quot;本&quot;</td><td>2024-05-14</td><td>831375</td><td>29663</td><td>31963</td><td>23850</td><td>76.7</td><td>24.0</td><td>4</td><td>47.1</td></tr><tr><td>1333</td><td>2023-03-31</td><td>&quot;本&quot;</td><td>2023-05-08</td><td>1020456</td><td>29575</td><td>33500</td><td>18596</td><td>363.7</td><td>65.0</td><td>4</td><td>6.6</td></tr><tr><td>&hellip;</td><td>&hellip;</td><td>&hellip;</td><td>&hellip;</td><td>&hellip;</td><td>&hellip;</td><td>&hellip;</td><td>&hellip;</td><td>&hellip;</td><td>&hellip;</td><td>&hellip;</td><td>&hellip;</td></tr><tr><td>9995</td><td>2024-03-31</td><td>&quot;本&quot;</td><td>2024-05-07</td><td>73361</td><td>862</td><td>1067</td><td>994</td><td>35.0</td><td>0.0</td><td>4</td><td>84.4</td></tr><tr><td>9996</td><td>2023-03-31</td><td>&quot;本&quot;</td><td>2023-05-12</td><td>43667</td><td>1240</td><td>1354</td><td>968</td><td>116.1</td><td>31.0</td><td>4</td><td>-8.6</td></tr><tr><td>9996</td><td>2024-03-31</td><td>&quot;本&quot;</td><td>2024-05-13</td><td>47606</td><td>1527</td><td>1756</td><td>1227</td><td>147.2</td><td>40.0</td><td>4</td><td>60.5</td></tr><tr><td>9997</td><td>2023-03-31</td><td>&quot;本&quot;</td><td>2023-05-12</td><td>212376</td><td>11217</td><td>12459</td><td>7417</td><td>76.7</td><td>20.0</td><td>4</td><td>11.0</td></tr><tr><td>9997</td><td>2024-03-31</td><td>&quot;本&quot;</td><td>2024-05-13</td><td>208298</td><td>9787</td><td>11831</td><td>5839</td><td>60.4</td><td>20.5</td><td>4</td><td>-11.2</td></tr></tbody></table></div>"
      ],
      "text/plain": [
       "shape: (7_156, 12)\n",
       "┌──────┬─────────────┬─────────────┬─────────────┬───┬────────────┬──────────┬────────┬────────────┐\n",
       "│ code ┆ settlement_ ┆ settlement_ ┆ announcemen ┆ … ┆ reviced_ep ┆ dividend ┆ quater ┆ price_chan │\n",
       "│ ---  ┆ date        ┆ type        ┆ t_date      ┆   ┆ s          ┆ ---      ┆ ---    ┆ ge_rate    │\n",
       "│ i64  ┆ ---         ┆ ---         ┆ ---         ┆   ┆ ---        ┆ f64      ┆ i64    ┆ ---        │\n",
       "│      ┆ date        ┆ str         ┆ date        ┆   ┆ f64        ┆          ┆        ┆ f64        │\n",
       "╞══════╪═════════════╪═════════════╪═════════════╪═══╪════════════╪══════════╪════════╪════════════╡\n",
       "│ 1301 ┆ 2023-03-31  ┆ 本          ┆ 2023-05-12  ┆ … ┆ 539.1      ┆ 100.0    ┆ 4      ┆ 10.8       │\n",
       "│ 1301 ┆ 2024-03-31  ┆ 本          ┆ 2024-05-10  ┆ … ┆ 548.6      ┆ 100.0    ┆ 4      ┆ 4.1        │\n",
       "│ 1332 ┆ 2023-03-31  ┆ 本          ┆ 2023-05-12  ┆ … ┆ 68.2       ┆ 18.0     ┆ 4      ┆ 18.1       │\n",
       "│ 1332 ┆ 2024-03-31  ┆ 本          ┆ 2024-05-14  ┆ … ┆ 76.7       ┆ 24.0     ┆ 4      ┆ 47.1       │\n",
       "│ 1333 ┆ 2023-03-31  ┆ 本          ┆ 2023-05-08  ┆ … ┆ 363.7      ┆ 65.0     ┆ 4      ┆ 6.6        │\n",
       "│ …    ┆ …           ┆ …           ┆ …           ┆ … ┆ …          ┆ …        ┆ …      ┆ …          │\n",
       "│ 9995 ┆ 2024-03-31  ┆ 本          ┆ 2024-05-07  ┆ … ┆ 35.0       ┆ 0.0      ┆ 4      ┆ 84.4       │\n",
       "│ 9996 ┆ 2023-03-31  ┆ 本          ┆ 2023-05-12  ┆ … ┆ 116.1      ┆ 31.0     ┆ 4      ┆ -8.6       │\n",
       "│ 9996 ┆ 2024-03-31  ┆ 本          ┆ 2024-05-13  ┆ … ┆ 147.2      ┆ 40.0     ┆ 4      ┆ 60.5       │\n",
       "│ 9997 ┆ 2023-03-31  ┆ 本          ┆ 2023-05-12  ┆ … ┆ 76.7       ┆ 20.0     ┆ 4      ┆ 11.0       │\n",
       "│ 9997 ┆ 2024-03-31  ┆ 本          ┆ 2024-05-13  ┆ … ┆ 60.4       ┆ 20.5     ┆ 4      ┆ -11.2      │\n",
       "└──────┴─────────────┴─────────────┴─────────────┴───┴────────────┴──────────┴────────┴────────────┘"
      ]
     },
     "execution_count": 15,
     "metadata": {},
     "output_type": "execute_result"
    }
   ],
   "source": [
    "fp = DATA_DIR/\"kessan.parquet\"\n",
    "df = read_data(fp)\n",
    "KPL = KessanPl(df)\n",
    "\n",
    "# KessanPlの四半期決算、または通期決算の決算発表日から翌決算発表日までの株価の騰落率列と同期間の日経平均の騰落率列を追加したpl.DataFrameを返す\n",
    "# 計算量とメモリ消費量が多いので、KessanPl.dfとpricelist_dfは期間などである程度絞ってやった方が良い。\n",
    "# settlement_typeで、通期決算で騰落率を取得するか、四半期決算で騰落率を取得するか選ぶ。\n",
    "# pricelist_dfが空のdataframe(初期値)の場合、parquetファイルから読み込んでくる。\n",
    "# overnight_biginingをTrueにセットすると、起点の株価として決算発表日当日の株価をセットし、Falseにセットすると、決算発表日翌営業日の株価をセットする。\n",
    "# overnight_endをTrueにセットすると、終点の株価として決算発表日翌営業日の株価をセットし、Falseにセットすると、決算発表日当日の株価をセットする。\n",
    "# *_pointは、期首(bigining)と期末(end)において、日足ローソクのどの時点の株価を起点、または終点とするか選択する。\n",
    "#def get_settlement_performance(self,\n",
    "#    settlement_type: Literal[\"本\", \"四\"],\n",
    "#    pricelist_df: pl.DataFrame = pl.DataFrame(),\n",
    "#    overnight_bigining: bool = False,\n",
    "#    overnight_end: bool = True,\n",
    "#    bigining_point: Literal[\"open\", \"high\", \"low\", \"close\"] = \"open\",\n",
    "#    end_point: Literal[\"open\", \"high\", \"low\", \"close\"] = \"open\"\n",
    "#) -> pl.DataFrame:\n",
    "\n",
    "# 引数の設定\n",
    "# settlement_type = \"四\"\n",
    "settlement_type = \"本\"\n",
    "fp = DATA_DIR/\"reviced_pricelist.parquet\"\n",
    "df = read_data(fp)\n",
    "RevPl = PricelistPl(df)\n",
    "pricelist_df = RevPl.df.filter(pl.col(\"date\")>=date(2021, 1, 1))\n",
    "\n",
    "# メソッドの実行\n",
    "KPL.df = KPL.df.filter(pl.col(\"settlement_date\")>=date(2022, 1, 1))                               \n",
    "df = KPL.get_settlement_performance(\n",
    "    settlement_type,\n",
    "    pricelist_df\n",
    ")\n",
    "df"
   ]
  },
  {
   "cell_type": "code",
   "execution_count": 2,
   "id": "c5645c2b-3442-4ff8-a3e6-8cef2e9f5bde",
   "metadata": {},
   "outputs": [
    {
     "name": "stdout",
     "output_type": "stream",
     "text": [
      "['code', 'settlement_date', 'start_date', 'end_date', 'start_price', 'end_date_right', 'end_price', 'updown_rate']\n"
     ]
    },
    {
     "data": {
      "text/html": [
       "<div><style>\n",
       ".dataframe > thead > tr,\n",
       ".dataframe > tbody > tr {\n",
       "  text-align: right;\n",
       "  white-space: pre-wrap;\n",
       "}\n",
       "</style>\n",
       "<small>shape: (88_227, 4)</small><table border=\"1\" class=\"dataframe\"><thead><tr><th>code</th><th>settlement_date</th><th>updown_rate</th><th>nh_updown_rate</th></tr><tr><td>i64</td><td>date</td><td>f64</td><td>f64</td></tr></thead><tbody><tr><td>1301</td><td>2018-12-31</td><td>-6.1</td><td>-7.16</td></tr><tr><td>1301</td><td>2019-03-31</td><td>-4.2</td><td>2.09</td></tr><tr><td>1301</td><td>2019-06-30</td><td>11.5</td><td>0.19</td></tr><tr><td>1301</td><td>2019-09-30</td><td>-2.1</td><td>11.64</td></tr><tr><td>1301</td><td>2019-12-31</td><td>-2.6</td><td>1.23</td></tr><tr><td>&hellip;</td><td>&hellip;</td><td>&hellip;</td><td>&hellip;</td></tr><tr><td>9997</td><td>2023-09-30</td><td>-9.3</td><td>-5.95</td></tr><tr><td>9997</td><td>2023-12-31</td><td>0.3</td><td>15.0</td></tr><tr><td>9997</td><td>2024-03-31</td><td>8.1</td><td>6.33</td></tr><tr><td>9997</td><td>2024-06-30</td><td>11.0</td><td>1.29</td></tr><tr><td>9997</td><td>2024-09-30</td><td>-6.4</td><td>-0.71</td></tr></tbody></table></div>"
      ],
      "text/plain": [
       "shape: (88_227, 4)\n",
       "┌──────┬─────────────────┬─────────────┬────────────────┐\n",
       "│ code ┆ settlement_date ┆ updown_rate ┆ nh_updown_rate │\n",
       "│ ---  ┆ ---             ┆ ---         ┆ ---            │\n",
       "│ i64  ┆ date            ┆ f64         ┆ f64            │\n",
       "╞══════╪═════════════════╪═════════════╪════════════════╡\n",
       "│ 1301 ┆ 2018-12-31      ┆ -6.1        ┆ -7.16          │\n",
       "│ 1301 ┆ 2019-03-31      ┆ -4.2        ┆ 2.09           │\n",
       "│ 1301 ┆ 2019-06-30      ┆ 11.5        ┆ 0.19           │\n",
       "│ 1301 ┆ 2019-09-30      ┆ -2.1        ┆ 11.64          │\n",
       "│ 1301 ┆ 2019-12-31      ┆ -2.6        ┆ 1.23           │\n",
       "│ …    ┆ …               ┆ …           ┆ …              │\n",
       "│ 9997 ┆ 2023-09-30      ┆ -9.3        ┆ -5.95          │\n",
       "│ 9997 ┆ 2023-12-31      ┆ 0.3         ┆ 15.0           │\n",
       "│ 9997 ┆ 2024-03-31      ┆ 8.1         ┆ 6.33           │\n",
       "│ 9997 ┆ 2024-06-30      ┆ 11.0        ┆ 1.29           │\n",
       "│ 9997 ┆ 2024-09-30      ┆ -6.4        ┆ -0.71          │\n",
       "└──────┴─────────────────┴─────────────┴────────────────┘"
      ]
     },
     "execution_count": 2,
     "metadata": {},
     "output_type": "execute_result"
    }
   ],
   "source": [
    "# KessanPlの四半期決算、または通期決算の決算発表日から翌決算発表日までの株価の騰落率列と同期間の日経平均の騰落率列を追加したpl.DataFrameを返す\n",
    "# 計算量とメモリ消費量が多いので、KessanPl.dfとpricelist_dfは期間などである程度絞ってやった方が良い。\n",
    "# settlement_typeで、通期決算で騰落率を取得するか、四半期決算で騰落率を取得するか選ぶ。\n",
    "# pricelist_dfが空のdataframe(初期値)の場合、parquetファイルから読み込んでくる。\n",
    "# overnight_biginingをTrueにセットすると、起点の株価として決算発表日当日の株価をセットし、Falseにセットすると、決算発表日翌営業日の株価をセットする。\n",
    "# overnight_endをTrueにセットすると、終点の株価として決算発表日翌営業日の株価をセットし、Falseにセットすると、決算発表日当日の株価をセットする。\n",
    "# *_pointは、期首(bigining)と期末(end)において、日足ローソクのどの時点の株価を起点、または終点とするか選択する。\n",
    "#def get_settlement_performance(self,\n",
    "#    settlement_type: Literal[\"本\", \"四\"],\n",
    "#    pricelist_df: pl.DataFrame = pl.DataFrame(),\n",
    "#    overnight_bigining: bool = False,\n",
    "#    overnight_end: bool = True,\n",
    "#    bigining_point: Literal[\"open\", \"high\", \"low\", \"close\"] = \"open\",\n",
    "#    end_point: Literal[\"open\", \"high\", \"low\", \"close\"] = \"open\"\n",
    "#) -> pl.DataFrame:\n",
    "\n",
    "# para\n",
    "settlement_type = \"四\"\n",
    "\n",
    "KPL = KessanPl()\n",
    "df = KPL.get_settlement_performance(settlement_type)\n",
    "df"
   ]
  },
  {
   "cell_type": "code",
   "execution_count": 16,
   "id": "327dc752-5b8c-4fef-9aab-8f4d78d825cc",
   "metadata": {},
   "outputs": [
    {
     "data": {
      "text/html": [
       "<div><style>\n",
       ".dataframe > thead > tr,\n",
       ".dataframe > tbody > tr {\n",
       "  text-align: right;\n",
       "  white-space: pre-wrap;\n",
       "}\n",
       "</style>\n",
       "<small>shape: (87_970, 4)</small><table border=\"1\" class=\"dataframe\"><thead><tr><th>code</th><th>settlement_date</th><th>start_date</th><th>end_date</th></tr><tr><td>i64</td><td>date</td><td>date</td><td>date</td></tr></thead><tbody><tr><td>1301</td><td>2018-12-31</td><td>2018-11-06</td><td>2019-02-12</td></tr><tr><td>1301</td><td>2019-03-31</td><td>2019-02-12</td><td>2019-05-14</td></tr><tr><td>1301</td><td>2019-06-30</td><td>2019-05-14</td><td>2019-08-05</td></tr><tr><td>1301</td><td>2019-09-30</td><td>2019-08-05</td><td>2019-11-06</td></tr><tr><td>1301</td><td>2019-12-31</td><td>2019-11-06</td><td>2020-02-10</td></tr><tr><td>&hellip;</td><td>&hellip;</td><td>&hellip;</td><td>&hellip;</td></tr><tr><td>9997</td><td>2023-09-30</td><td>2023-08-01</td><td>2023-11-01</td></tr><tr><td>9997</td><td>2023-12-31</td><td>2023-11-01</td><td>2024-02-01</td></tr><tr><td>9997</td><td>2024-03-31</td><td>2024-02-01</td><td>2024-05-14</td></tr><tr><td>9997</td><td>2024-06-30</td><td>2024-05-14</td><td>2024-08-01</td></tr><tr><td>9997</td><td>2024-09-30</td><td>2024-08-01</td><td>2024-11-01</td></tr></tbody></table></div>"
      ],
      "text/plain": [
       "shape: (87_970, 4)\n",
       "┌──────┬─────────────────┬────────────┬────────────┐\n",
       "│ code ┆ settlement_date ┆ start_date ┆ end_date   │\n",
       "│ ---  ┆ ---             ┆ ---        ┆ ---        │\n",
       "│ i64  ┆ date            ┆ date       ┆ date       │\n",
       "╞══════╪═════════════════╪════════════╪════════════╡\n",
       "│ 1301 ┆ 2018-12-31      ┆ 2018-11-06 ┆ 2019-02-12 │\n",
       "│ 1301 ┆ 2019-03-31      ┆ 2019-02-12 ┆ 2019-05-14 │\n",
       "│ 1301 ┆ 2019-06-30      ┆ 2019-05-14 ┆ 2019-08-05 │\n",
       "│ 1301 ┆ 2019-09-30      ┆ 2019-08-05 ┆ 2019-11-06 │\n",
       "│ 1301 ┆ 2019-12-31      ┆ 2019-11-06 ┆ 2020-02-10 │\n",
       "│ …    ┆ …               ┆ …          ┆ …          │\n",
       "│ 9997 ┆ 2023-09-30      ┆ 2023-08-01 ┆ 2023-11-01 │\n",
       "│ 9997 ┆ 2023-12-31      ┆ 2023-11-01 ┆ 2024-02-01 │\n",
       "│ 9997 ┆ 2024-03-31      ┆ 2024-02-01 ┆ 2024-05-14 │\n",
       "│ 9997 ┆ 2024-06-30      ┆ 2024-05-14 ┆ 2024-08-01 │\n",
       "│ 9997 ┆ 2024-09-30      ┆ 2024-08-01 ┆ 2024-11-01 │\n",
       "└──────┴─────────────────┴────────────┴────────────┘"
      ]
     },
     "execution_count": 16,
     "metadata": {},
     "output_type": "execute_result"
    }
   ],
   "source": [
    "fp = DATA_DIR/\"kessan.parquet\"\n",
    "df = read_data(fp)\n",
    "KPL = KessanPl(df)\n",
    "\n",
    "\n",
    "fp = DATA_DIR/\"reviced_pricelist.parquet\"\n",
    "df = read_data(fp)\n",
    "RPL = PricelistPl(df)\n",
    "pricelist_df = RPL.df\n",
    "# 決算期間中における株価騰落を求めるための引数一覧をpl.DataFrameで取得する\n",
    "# 決算期は、当該期の決算発表日から翌決算発表日まで。\n",
    "# settlement_typeは、四半期(\"四\")、通期(\"本\")いずれかで指定。\n",
    "# pricelist_dfは、start_date, end_dateを取引日のある日(平日)に指定するために利用する。\n",
    "# この例のようにpricelist_dfをまるごと全部渡すと楽だが、リソース消費が大きくなるので、KPL.dfを年度などでfilterして絞り、それに合わせてpricelist_dfも絞ると軽くなる。\n",
    "# overnight_*は、決算発表日をまたぐかまたがないかを指定。Trueはまたぐ。Falseはまたがない。\n",
    "# 取得されるdfの列は、\"code\", \"settlement_date\", \"start_date\", \"end_date\"\n",
    "#def get_settlement_performance_items_df(self,\n",
    "#    settlement_type: Literal[\"本\", \"四\"],\n",
    "#    pricelist_df: pl.DataFrame,\n",
    "#    overnight_bigining: bool = False,\n",
    "#    overnight_end: bool = True,\n",
    "#) -> pl.DataFrame:\n",
    "#df = KPL.get_settlement_performance_items_df(\"本\", pricelist_df)\n",
    "df = KPL.get_settlement_performance_items_df(\"四\", pricelist_df)\n",
    "df"
   ]
  },
  {
   "cell_type": "code",
   "execution_count": 17,
   "id": "a553b70b-6afa-47b2-aadf-b5699b90cc9e",
   "metadata": {},
   "outputs": [
    {
     "data": {
      "text/plain": [
       "(datetime.date(2024, 8, 5), datetime.date(2024, 11, 6))"
      ]
     },
     "execution_count": 17,
     "metadata": {},
     "output_type": "execute_result"
    }
   ],
   "source": [
    "fp = DATA_DIR/\"kessan.parquet\"\n",
    "df = read_data(fp)\n",
    "KPL = KessanPl(df)\n",
    "\n",
    "# for dev\n",
    "# codeで指定した銘柄のsettlement_date, settlement_typeで指定した決算の機首、期末のannouncement_daetを取得する\n",
    "# 期首は前期の決算発表日を返す\n",
    "#def get_settlement_period_by_announcement_date(self, code: int, settlement_date: date, settlement_type: Literal[\"四\", \"本\"]) -> tuple:\n",
    "# パラメータ\n",
    "code = 1301\n",
    "settlement_date = date(2024, 9, 30)\n",
    "settlement_type = \"四\"\n",
    "\n",
    "# \n",
    "KPL.get_settlement_period_by_announcement_date(code, settlement_date, settlement_type)"
   ]
  },
  {
   "cell_type": "code",
   "execution_count": 18,
   "id": "3b2bd61b-365c-4c4c-ae4d-89a94596f0a6",
   "metadata": {},
   "outputs": [
    {
     "data": {
      "text/html": [
       "<div><style>\n",
       ".dataframe > thead > tr,\n",
       ".dataframe > tbody > tr {\n",
       "  text-align: right;\n",
       "  white-space: pre-wrap;\n",
       "}\n",
       "</style>\n",
       "<small>shape: (9, 11)</small><table border=\"1\" class=\"dataframe\"><thead><tr><th>code</th><th>settlement_date</th><th>settlement_type</th><th>announcement_date</th><th>sales</th><th>operating_income</th><th>ordinary_profit</th><th>final_profit</th><th>reviced_eps</th><th>dividend</th><th>quater</th></tr><tr><td>i64</td><td>date</td><td>str</td><td>date</td><td>i64</td><td>i64</td><td>i64</td><td>i64</td><td>f64</td><td>f64</td><td>i64</td></tr></thead><tbody><tr><td>1301</td><td>2017-03-31</td><td>&quot;本&quot;</td><td>2017-05-11</td><td>236561</td><td>3723</td><td>3709</td><td>2422</td><td>230.7</td><td>60.0</td><td>-2</td></tr><tr><td>1301</td><td>2018-03-31</td><td>&quot;本&quot;</td><td>2018-05-10</td><td>254783</td><td>4066</td><td>4437</td><td>3211</td><td>304.3</td><td>60.0</td><td>4</td></tr><tr><td>1301</td><td>2019-03-31</td><td>&quot;本&quot;</td><td>2019-05-13</td><td>256151</td><td>3831</td><td>4434</td><td>2914</td><td>269.6</td><td>70.0</td><td>4</td></tr><tr><td>1301</td><td>2020-03-31</td><td>&quot;本&quot;</td><td>2020-05-12</td><td>262519</td><td>2918</td><td>3608</td><td>2037</td><td>188.5</td><td>70.0</td><td>4</td></tr><tr><td>1301</td><td>2021-03-31</td><td>&quot;本&quot;</td><td>2021-05-14</td><td>249197</td><td>4657</td><td>4879</td><td>3838</td><td>356.9</td><td>80.0</td><td>4</td></tr><tr><td>1301</td><td>2022-03-31</td><td>&quot;本&quot;</td><td>2022-05-13</td><td>253575</td><td>6392</td><td>6904</td><td>4634</td><td>430.8</td><td>90.0</td><td>4</td></tr><tr><td>1301</td><td>2023-03-31</td><td>&quot;本&quot;</td><td>2023-05-12</td><td>272167</td><td>8105</td><td>8182</td><td>5782</td><td>539.1</td><td>100.0</td><td>4</td></tr><tr><td>1301</td><td>2024-03-31</td><td>&quot;本&quot;</td><td>2024-05-10</td><td>261604</td><td>8806</td><td>8856</td><td>5936</td><td>548.6</td><td>100.0</td><td>4</td></tr><tr><td>1301</td><td>2025-03-31</td><td>&quot;予&quot;</td><td>2024-05-10</td><td>300000</td><td>10000</td><td>10000</td><td>7000</td><td>589.4</td><td>110.0</td><td>4</td></tr></tbody></table></div>"
      ],
      "text/plain": [
       "shape: (9, 11)\n",
       "┌──────┬─────────────┬─────────────┬─────────────┬───┬────────────┬────────────┬──────────┬────────┐\n",
       "│ code ┆ settlement_ ┆ settlement_ ┆ announcemen ┆ … ┆ final_prof ┆ reviced_ep ┆ dividend ┆ quater │\n",
       "│ ---  ┆ date        ┆ type        ┆ t_date      ┆   ┆ it         ┆ s          ┆ ---      ┆ ---    │\n",
       "│ i64  ┆ ---         ┆ ---         ┆ ---         ┆   ┆ ---        ┆ ---        ┆ f64      ┆ i64    │\n",
       "│      ┆ date        ┆ str         ┆ date        ┆   ┆ i64        ┆ f64        ┆          ┆        │\n",
       "╞══════╪═════════════╪═════════════╪═════════════╪═══╪════════════╪════════════╪══════════╪════════╡\n",
       "│ 1301 ┆ 2017-03-31  ┆ 本          ┆ 2017-05-11  ┆ … ┆ 2422       ┆ 230.7      ┆ 60.0     ┆ -2     │\n",
       "│ 1301 ┆ 2018-03-31  ┆ 本          ┆ 2018-05-10  ┆ … ┆ 3211       ┆ 304.3      ┆ 60.0     ┆ 4      │\n",
       "│ 1301 ┆ 2019-03-31  ┆ 本          ┆ 2019-05-13  ┆ … ┆ 2914       ┆ 269.6      ┆ 70.0     ┆ 4      │\n",
       "│ 1301 ┆ 2020-03-31  ┆ 本          ┆ 2020-05-12  ┆ … ┆ 2037       ┆ 188.5      ┆ 70.0     ┆ 4      │\n",
       "│ 1301 ┆ 2021-03-31  ┆ 本          ┆ 2021-05-14  ┆ … ┆ 3838       ┆ 356.9      ┆ 80.0     ┆ 4      │\n",
       "│ 1301 ┆ 2022-03-31  ┆ 本          ┆ 2022-05-13  ┆ … ┆ 4634       ┆ 430.8      ┆ 90.0     ┆ 4      │\n",
       "│ 1301 ┆ 2023-03-31  ┆ 本          ┆ 2023-05-12  ┆ … ┆ 5782       ┆ 539.1      ┆ 100.0    ┆ 4      │\n",
       "│ 1301 ┆ 2024-03-31  ┆ 本          ┆ 2024-05-10  ┆ … ┆ 5936       ┆ 548.6      ┆ 100.0    ┆ 4      │\n",
       "│ 1301 ┆ 2025-03-31  ┆ 予          ┆ 2024-05-10  ┆ … ┆ 7000       ┆ 589.4      ┆ 110.0    ┆ 4      │\n",
       "└──────┴─────────────┴─────────────┴─────────────┴───┴────────────┴────────────┴──────────┴────────┘"
      ]
     },
     "execution_count": 18,
     "metadata": {},
     "output_type": "execute_result"
    }
   ],
   "source": [
    "fp = DATA_DIR/\"kessan.parquet\"\n",
    "df = read_data(fp)\n",
    "KPL = KessanPl(df)\n",
    "\n",
    "# codeで指定した銘柄の年決算のリスト(履歴)を返す\n",
    "# valuation_dateを指定すると、指定日時点までの年決算を返す。\n",
    "# get_latest_forcast = Trueとした場合、valuation_date時点の最新の決算予想を返す\n",
    "# def get_target_stock_yearly_settlements(self, code: int, get_latest_forcast=True, valuation_date: date=date.today()) -> pl.DataFrame:\n",
    "df = KPL.get_target_stock_yearly_settlements(1301)\n",
    "df"
   ]
  },
  {
   "cell_type": "code",
   "execution_count": 19,
   "id": "5e6ec213-3188-4089-8c4e-fb84bdd5dbd1",
   "metadata": {},
   "outputs": [],
   "source": [
    "#### with_columns_で始まるメソッド\n",
    "#### KessanPl.dfに列を追加する\n",
    "#### KessanPl.dfは加工され、書き換わる"
   ]
  },
  {
   "cell_type": "code",
   "execution_count": 24,
   "id": "4ddc84ef-2e7e-44f4-8e82-c5995a33790b",
   "metadata": {},
   "outputs": [
    {
     "data": {
      "text/html": [
       "<div><style>\n",
       ".dataframe > thead > tr,\n",
       ".dataframe > tbody > tr {\n",
       "  text-align: right;\n",
       "  white-space: pre-wrap;\n",
       "}\n",
       "</style>\n",
       "<small>shape: (88_015, 16)</small><table border=\"1\" class=\"dataframe\"><thead><tr><th>code</th><th>settlement_date</th><th>settlement_type</th><th>announcement_date</th><th>sales</th><th>operating_income</th><th>ordinary_profit</th><th>final_profit</th><th>reviced_eps</th><th>dividend</th><th>quater</th><th>yearly_settlement_date</th><th>acc_sales</th><th>acc_operating_income</th><th>acc_ordinary_profit</th><th>acc_final_profit</th></tr><tr><td>i64</td><td>date</td><td>str</td><td>date</td><td>i64</td><td>i64</td><td>i64</td><td>i64</td><td>f64</td><td>f64</td><td>i64</td><td>date</td><td>i64</td><td>i64</td><td>i64</td><td>i64</td></tr></thead><tbody><tr><td>1301</td><td>2019-03-31</td><td>&quot;四&quot;</td><td>2019-05-13</td><td>58368</td><td>551</td><td>511</td><td>413</td><td>38.2</td><td>0.9</td><td>4</td><td>2019-03-31</td><td>256151</td><td>3831</td><td>4434</td><td>2914</td></tr><tr><td>1301</td><td>2019-06-30</td><td>&quot;四&quot;</td><td>2019-08-02</td><td>62644</td><td>770</td><td>1015</td><td>706</td><td>65.3</td><td>1.2</td><td>1</td><td>2020-03-31</td><td>62644</td><td>770</td><td>1015</td><td>706</td></tr><tr><td>1301</td><td>2019-09-30</td><td>&quot;四&quot;</td><td>2019-11-05</td><td>64240</td><td>-35</td><td>113</td><td>4</td><td>0.4</td><td>-0.1</td><td>2</td><td>2020-03-31</td><td>126884</td><td>735</td><td>1128</td><td>710</td></tr><tr><td>1301</td><td>2019-12-31</td><td>&quot;四&quot;</td><td>2020-02-07</td><td>78552</td><td>1881</td><td>1851</td><td>1029</td><td>95.1</td><td>2.4</td><td>3</td><td>2020-03-31</td><td>205436</td><td>2616</td><td>2979</td><td>1739</td></tr><tr><td>1301</td><td>2020-03-31</td><td>&quot;四&quot;</td><td>2020-05-12</td><td>57083</td><td>302</td><td>629</td><td>298</td><td>27.6</td><td>0.5</td><td>4</td><td>2020-03-31</td><td>262519</td><td>2918</td><td>3608</td><td>2037</td></tr><tr><td>&hellip;</td><td>&hellip;</td><td>&hellip;</td><td>&hellip;</td><td>&hellip;</td><td>&hellip;</td><td>&hellip;</td><td>&hellip;</td><td>&hellip;</td><td>&hellip;</td><td>&hellip;</td><td>&hellip;</td><td>&hellip;</td><td>&hellip;</td><td>&hellip;</td><td>&hellip;</td></tr><tr><td>9997</td><td>2023-09-30</td><td>&quot;四&quot;</td><td>2023-10-31</td><td>44263</td><td>1939</td><td>2466</td><td>1878</td><td>19.4</td><td>4.4</td><td>2</td><td>2024-03-31</td><td>96105</td><td>3095</td><td>4325</td><td>3263</td></tr><tr><td>9997</td><td>2023-12-31</td><td>&quot;四&quot;</td><td>2024-01-31</td><td>60173</td><td>2630</td><td>2605</td><td>1818</td><td>18.8</td><td>4.4</td><td>3</td><td>2024-03-31</td><td>156278</td><td>5725</td><td>6930</td><td>5081</td></tr><tr><td>9997</td><td>2024-03-31</td><td>&quot;四&quot;</td><td>2024-05-13</td><td>52020</td><td>4062</td><td>4901</td><td>758</td><td>7.8</td><td>7.8</td><td>4</td><td>2024-03-31</td><td>208298</td><td>9787</td><td>11831</td><td>5839</td></tr><tr><td>9997</td><td>2024-06-30</td><td>&quot;四&quot;</td><td>2024-07-31</td><td>51368</td><td>982</td><td>1681</td><td>994</td><td>10.3</td><td>1.9</td><td>1</td><td>2025-03-31</td><td>51368</td><td>982</td><td>1681</td><td>994</td></tr><tr><td>9997</td><td>2024-09-30</td><td>&quot;四&quot;</td><td>2024-10-31</td><td>45759</td><td>2588</td><td>2462</td><td>1571</td><td>16.3</td><td>5.7</td><td>2</td><td>2025-03-31</td><td>97127</td><td>3570</td><td>4143</td><td>2565</td></tr></tbody></table></div>"
      ],
      "text/plain": [
       "shape: (88_015, 16)\n",
       "┌──────┬────────────┬────────────┬────────────┬───┬───────────┬────────────┬───────────┬───────────┐\n",
       "│ code ┆ settlement ┆ settlement ┆ announceme ┆ … ┆ acc_sales ┆ acc_operat ┆ acc_ordin ┆ acc_final │\n",
       "│ ---  ┆ _date      ┆ _type      ┆ nt_date    ┆   ┆ ---       ┆ ing_income ┆ ary_profi ┆ _profit   │\n",
       "│ i64  ┆ ---        ┆ ---        ┆ ---        ┆   ┆ i64       ┆ ---        ┆ t         ┆ ---       │\n",
       "│      ┆ date       ┆ str        ┆ date       ┆   ┆           ┆ i64        ┆ ---       ┆ i64       │\n",
       "│      ┆            ┆            ┆            ┆   ┆           ┆            ┆ i64       ┆           │\n",
       "╞══════╪════════════╪════════════╪════════════╪═══╪═══════════╪════════════╪═══════════╪═══════════╡\n",
       "│ 1301 ┆ 2019-03-31 ┆ 四         ┆ 2019-05-13 ┆ … ┆ 256151    ┆ 3831       ┆ 4434      ┆ 2914      │\n",
       "│ 1301 ┆ 2019-06-30 ┆ 四         ┆ 2019-08-02 ┆ … ┆ 62644     ┆ 770        ┆ 1015      ┆ 706       │\n",
       "│ 1301 ┆ 2019-09-30 ┆ 四         ┆ 2019-11-05 ┆ … ┆ 126884    ┆ 735        ┆ 1128      ┆ 710       │\n",
       "│ 1301 ┆ 2019-12-31 ┆ 四         ┆ 2020-02-07 ┆ … ┆ 205436    ┆ 2616       ┆ 2979      ┆ 1739      │\n",
       "│ 1301 ┆ 2020-03-31 ┆ 四         ┆ 2020-05-12 ┆ … ┆ 262519    ┆ 2918       ┆ 3608      ┆ 2037      │\n",
       "│ …    ┆ …          ┆ …          ┆ …          ┆ … ┆ …         ┆ …          ┆ …         ┆ …         │\n",
       "│ 9997 ┆ 2023-09-30 ┆ 四         ┆ 2023-10-31 ┆ … ┆ 96105     ┆ 3095       ┆ 4325      ┆ 3263      │\n",
       "│ 9997 ┆ 2023-12-31 ┆ 四         ┆ 2024-01-31 ┆ … ┆ 156278    ┆ 5725       ┆ 6930      ┆ 5081      │\n",
       "│ 9997 ┆ 2024-03-31 ┆ 四         ┆ 2024-05-13 ┆ … ┆ 208298    ┆ 9787       ┆ 11831     ┆ 5839      │\n",
       "│ 9997 ┆ 2024-06-30 ┆ 四         ┆ 2024-07-31 ┆ … ┆ 51368     ┆ 982        ┆ 1681      ┆ 994       │\n",
       "│ 9997 ┆ 2024-09-30 ┆ 四         ┆ 2024-10-31 ┆ … ┆ 97127     ┆ 3570       ┆ 4143      ┆ 2565      │\n",
       "└──────┴────────────┴────────────┴────────────┴───┴───────────┴────────────┴───────────┴───────────┘"
      ]
     },
     "execution_count": 24,
     "metadata": {},
     "output_type": "execute_result"
    }
   ],
   "source": [
    "fp = DATA_DIR/\"kessan.parquet\"\n",
    "df = read_data(fp)\n",
    "KPL = KessanPl(df)\n",
    "\n",
    "# KessanPl.dfのレコードに、売上高～純利益までの四半期累積の列を追加。\n",
    "# 本決算や決算予想のレコードは、売上高～純利益までの数値をそのままコピーした列を追加。\n",
    "# def with_columns_accumulated_quaterly_settlement(self) -> None:\n",
    "KPL.with_columns_accumulated_quaterly_settlement()\n",
    "KPL.df.filter(pl.col(\"settlement_type\")==\"四\")"
   ]
  },
  {
   "cell_type": "code",
   "execution_count": 7,
   "id": "c2625319-f07d-4196-bdb4-6751233e777f",
   "metadata": {},
   "outputs": [
    {
     "data": {
      "text/html": [
       "<div><style>\n",
       ".dataframe > thead > tr,\n",
       ".dataframe > tbody > tr {\n",
       "  text-align: right;\n",
       "  white-space: pre-wrap;\n",
       "}\n",
       "</style>\n",
       "<small>shape: (156_416, 15)</small><table border=\"1\" class=\"dataframe\"><thead><tr><th>code</th><th>settlement_date</th><th>settlement_type</th><th>announcement_date</th><th>sales</th><th>operating_income</th><th>ordinary_profit</th><th>final_profit</th><th>reviced_eps</th><th>dividend</th><th>quater</th><th>sales_growth_rate</th><th>diff_operating_income_growth_rate</th><th>diff_ordinary_profit_growth_rate</th><th>diff_final_profit_growth_rate</th></tr><tr><td>i64</td><td>date</td><td>str</td><td>date</td><td>i64</td><td>i64</td><td>i64</td><td>i64</td><td>f64</td><td>f64</td><td>i64</td><td>f64</td><td>f64</td><td>f64</td><td>f64</td></tr></thead><tbody><tr><td>1301</td><td>2017-03-31</td><td>&quot;本&quot;</td><td>2017-05-11</td><td>236561</td><td>3723</td><td>3709</td><td>2422</td><td>230.7</td><td>60.0</td><td>-2</td><td>null</td><td>null</td><td>null</td><td>null</td></tr><tr><td>1301</td><td>2018-03-31</td><td>&quot;本&quot;</td><td>2018-05-10</td><td>254783</td><td>4066</td><td>4437</td><td>3211</td><td>304.3</td><td>60.0</td><td>4</td><td>null</td><td>null</td><td>null</td><td>null</td></tr><tr><td>1301</td><td>2018-09-30</td><td>&quot;四&quot;</td><td>2018-11-05</td><td>61245</td><td>507</td><td>595</td><td>269</td><td>24.9</td><td>0.8</td><td>2</td><td>null</td><td>null</td><td>null</td><td>null</td></tr><tr><td>1301</td><td>2018-12-31</td><td>&quot;四&quot;</td><td>2019-02-08</td><td>78581</td><td>2208</td><td>2591</td><td>1677</td><td>155.2</td><td>2.8</td><td>3</td><td>null</td><td>null</td><td>null</td><td>null</td></tr><tr><td>1301</td><td>2019-03-31</td><td>&quot;四&quot;</td><td>2019-05-13</td><td>58368</td><td>551</td><td>511</td><td>413</td><td>38.2</td><td>0.9</td><td>4</td><td>null</td><td>null</td><td>null</td><td>null</td></tr><tr><td>&hellip;</td><td>&hellip;</td><td>&hellip;</td><td>&hellip;</td><td>&hellip;</td><td>&hellip;</td><td>&hellip;</td><td>&hellip;</td><td>&hellip;</td><td>&hellip;</td><td>&hellip;</td><td>&hellip;</td><td>&hellip;</td><td>&hellip;</td><td>&hellip;</td></tr><tr><td>9997</td><td>2025-03-31</td><td>&quot;予&quot;</td><td>2024-05-13</td><td>217000</td><td>11500</td><td>12500</td><td>8000</td><td>82.7</td><td>29.0</td><td>4</td><td>4.2</td><td>19.7</td><td>7.7</td><td>24.8</td></tr><tr><td>9997</td><td>2024-03-31</td><td>&quot;四&quot;</td><td>2024-05-13</td><td>52020</td><td>4062</td><td>4901</td><td>758</td><td>7.8</td><td>7.8</td><td>4</td><td>0.2</td><td>733.7</td><td>1304.1</td><td>-1303.1</td></tr><tr><td>9997</td><td>2024-03-31</td><td>&quot;本&quot;</td><td>2024-05-13</td><td>208298</td><td>9787</td><td>11831</td><td>5839</td><td>60.4</td><td>20.5</td><td>4</td><td>-1.9</td><td>35.1</td><td>15.4</td><td>38.7</td></tr><tr><td>9997</td><td>2024-06-30</td><td>&quot;四&quot;</td><td>2024-07-31</td><td>51368</td><td>982</td><td>1681</td><td>994</td><td>10.3</td><td>1.9</td><td>1</td><td>-0.9</td><td>36.7</td><td>37.6</td><td>82.5</td></tr><tr><td>9997</td><td>2024-09-30</td><td>&quot;四&quot;</td><td>2024-10-31</td><td>45759</td><td>2588</td><td>2462</td><td>1571</td><td>16.3</td><td>5.7</td><td>2</td><td>3.4</td><td>43.4</td><td>-0.3</td><td>-20.5</td></tr></tbody></table></div>"
      ],
      "text/plain": [
       "shape: (156_416, 15)\n",
       "┌──────┬────────────┬────────────┬────────────┬───┬────────────┬───────────┬───────────┬───────────┐\n",
       "│ code ┆ settlement ┆ settlement ┆ announceme ┆ … ┆ sales_grow ┆ diff_oper ┆ diff_ordi ┆ diff_fina │\n",
       "│ ---  ┆ _date      ┆ _type      ┆ nt_date    ┆   ┆ th_rate    ┆ ating_inc ┆ nary_prof ┆ l_profit_ │\n",
       "│ i64  ┆ ---        ┆ ---        ┆ ---        ┆   ┆ ---        ┆ ome_growt ┆ it_growth ┆ growth_ra │\n",
       "│      ┆ date       ┆ str        ┆ date       ┆   ┆ f64        ┆ h_r…      ┆ _ra…      ┆ te        │\n",
       "│      ┆            ┆            ┆            ┆   ┆            ┆ ---       ┆ ---       ┆ ---       │\n",
       "│      ┆            ┆            ┆            ┆   ┆            ┆ f64       ┆ f64       ┆ f64       │\n",
       "╞══════╪════════════╪════════════╪════════════╪═══╪════════════╪═══════════╪═══════════╪═══════════╡\n",
       "│ 1301 ┆ 2017-03-31 ┆ 本         ┆ 2017-05-11 ┆ … ┆ null       ┆ null      ┆ null      ┆ null      │\n",
       "│ 1301 ┆ 2018-03-31 ┆ 本         ┆ 2018-05-10 ┆ … ┆ null       ┆ null      ┆ null      ┆ null      │\n",
       "│ 1301 ┆ 2018-09-30 ┆ 四         ┆ 2018-11-05 ┆ … ┆ null       ┆ null      ┆ null      ┆ null      │\n",
       "│ 1301 ┆ 2018-12-31 ┆ 四         ┆ 2019-02-08 ┆ … ┆ null       ┆ null      ┆ null      ┆ null      │\n",
       "│ 1301 ┆ 2019-03-31 ┆ 四         ┆ 2019-05-13 ┆ … ┆ null       ┆ null      ┆ null      ┆ null      │\n",
       "│ …    ┆ …          ┆ …          ┆ …          ┆ … ┆ …          ┆ …         ┆ …         ┆ …         │\n",
       "│ 9997 ┆ 2025-03-31 ┆ 予         ┆ 2024-05-13 ┆ … ┆ 4.2        ┆ 19.7      ┆ 7.7       ┆ 24.8      │\n",
       "│ 9997 ┆ 2024-03-31 ┆ 四         ┆ 2024-05-13 ┆ … ┆ 0.2        ┆ 733.7     ┆ 1304.1    ┆ -1303.1   │\n",
       "│ 9997 ┆ 2024-03-31 ┆ 本         ┆ 2024-05-13 ┆ … ┆ -1.9       ┆ 35.1      ┆ 15.4      ┆ 38.7      │\n",
       "│ 9997 ┆ 2024-06-30 ┆ 四         ┆ 2024-07-31 ┆ … ┆ -0.9       ┆ 36.7      ┆ 37.6      ┆ 82.5      │\n",
       "│ 9997 ┆ 2024-09-30 ┆ 四         ┆ 2024-10-31 ┆ … ┆ 3.4        ┆ 43.4      ┆ -0.3      ┆ -20.5     │\n",
       "└──────┴────────────┴────────────┴────────────┴───┴────────────┴───────────┴───────────┴───────────┘"
      ]
     },
     "execution_count": 7,
     "metadata": {},
     "output_type": "execute_result"
    }
   ],
   "source": [
    "fp = DATA_DIR/\"kessan.parquet\"\n",
    "df = read_data(fp)\n",
    "KPL = KessanPl(df)\n",
    "\n",
    "# 前年同期と比較して、差分利益率：(今年度利益率-昨年度利益率)/(今年度売上高-昨年度売上高)\n",
    "# を営業利益～純利益の各差分利益について計算してKessanPl.dfに列を追加する。\n",
    "# 売上高に対しては、売上高伸び率列を追加する。\n",
    "# 利益改善度合いを見るために利用する。\n",
    "# 決算予想の場合は、昨年度の実績に対して出す。\n",
    "# 次期移行の予想はnull。\n",
    "# def with_columns_diff_growth_rate(self) -> None:\n",
    "KPL.with_columns_diff_growth_rate()\n",
    "KPL.df"
   ]
  },
  {
   "cell_type": "code",
   "execution_count": 25,
   "id": "9b4d1125-6e2e-4a90-b768-de891c77229e",
   "metadata": {},
   "outputs": [
    {
     "data": {
      "text/html": [
       "<div><style>\n",
       ".dataframe > thead > tr,\n",
       ".dataframe > tbody > tr {\n",
       "  text-align: right;\n",
       "  white-space: pre-wrap;\n",
       "}\n",
       "</style>\n",
       "<small>shape: (156_408, 15)</small><table border=\"1\" class=\"dataframe\"><thead><tr><th>code</th><th>settlement_date</th><th>settlement_type</th><th>announcement_date</th><th>sales</th><th>operating_income</th><th>ordinary_profit</th><th>final_profit</th><th>reviced_eps</th><th>dividend</th><th>quater</th><th>yearly_settlement_date</th><th>fy</th><th>fm</th><th>決算期</th></tr><tr><td>i64</td><td>date</td><td>str</td><td>date</td><td>i64</td><td>i64</td><td>i64</td><td>i64</td><td>f64</td><td>f64</td><td>i64</td><td>date</td><td>str</td><td>str</td><td>str</td></tr></thead><tbody><tr><td>1301</td><td>2017-03-31</td><td>&quot;本&quot;</td><td>2017-05-11</td><td>236561</td><td>3723</td><td>3709</td><td>2422</td><td>230.7</td><td>60.0</td><td>4</td><td>2017-03-31</td><td>&quot;2017&quot;</td><td>&quot;3&quot;</td><td>&quot;2017年3月期&quot;</td></tr><tr><td>1301</td><td>2018-03-31</td><td>&quot;本&quot;</td><td>2018-05-10</td><td>254783</td><td>4066</td><td>4437</td><td>3211</td><td>304.3</td><td>60.0</td><td>4</td><td>2018-03-31</td><td>&quot;2018&quot;</td><td>&quot;3&quot;</td><td>&quot;2018年3月期&quot;</td></tr><tr><td>1301</td><td>2018-09-30</td><td>&quot;四&quot;</td><td>2018-11-05</td><td>61245</td><td>507</td><td>595</td><td>269</td><td>24.9</td><td>0.8</td><td>2</td><td>2019-03-31</td><td>&quot;2019&quot;</td><td>&quot;3&quot;</td><td>&quot;2019年3月期&quot;</td></tr><tr><td>1301</td><td>2018-12-31</td><td>&quot;四&quot;</td><td>2019-02-08</td><td>78581</td><td>2208</td><td>2591</td><td>1677</td><td>155.2</td><td>2.8</td><td>3</td><td>2019-03-31</td><td>&quot;2019&quot;</td><td>&quot;3&quot;</td><td>&quot;2019年3月期&quot;</td></tr><tr><td>1301</td><td>2019-03-31</td><td>&quot;本&quot;</td><td>2019-05-13</td><td>256151</td><td>3831</td><td>4434</td><td>2914</td><td>269.6</td><td>70.0</td><td>4</td><td>2019-03-31</td><td>&quot;2019&quot;</td><td>&quot;3&quot;</td><td>&quot;2019年3月期&quot;</td></tr><tr><td>&hellip;</td><td>&hellip;</td><td>&hellip;</td><td>&hellip;</td><td>&hellip;</td><td>&hellip;</td><td>&hellip;</td><td>&hellip;</td><td>&hellip;</td><td>&hellip;</td><td>&hellip;</td><td>&hellip;</td><td>&hellip;</td><td>&hellip;</td><td>&hellip;</td></tr><tr><td>9997</td><td>2024-03-31</td><td>&quot;四&quot;</td><td>2024-05-13</td><td>52020</td><td>4062</td><td>4901</td><td>758</td><td>7.8</td><td>7.8</td><td>4</td><td>2024-03-31</td><td>&quot;2024&quot;</td><td>&quot;3&quot;</td><td>&quot;2024年3月期&quot;</td></tr><tr><td>9997</td><td>2024-03-31</td><td>&quot;本&quot;</td><td>2024-05-13</td><td>208298</td><td>9787</td><td>11831</td><td>5839</td><td>60.4</td><td>20.5</td><td>4</td><td>2024-03-31</td><td>&quot;2024&quot;</td><td>&quot;3&quot;</td><td>&quot;2024年3月期&quot;</td></tr><tr><td>9997</td><td>2025-03-31</td><td>&quot;予&quot;</td><td>2024-05-13</td><td>217000</td><td>11500</td><td>12500</td><td>8000</td><td>82.7</td><td>29.0</td><td>4</td><td>2025-03-31</td><td>&quot;2025&quot;</td><td>&quot;3&quot;</td><td>&quot;2025年3月期&quot;</td></tr><tr><td>9997</td><td>2024-06-30</td><td>&quot;四&quot;</td><td>2024-07-31</td><td>51368</td><td>982</td><td>1681</td><td>994</td><td>10.3</td><td>1.9</td><td>1</td><td>2025-03-31</td><td>&quot;2025&quot;</td><td>&quot;3&quot;</td><td>&quot;2025年3月期&quot;</td></tr><tr><td>9997</td><td>2024-09-30</td><td>&quot;四&quot;</td><td>2024-10-31</td><td>45759</td><td>2588</td><td>2462</td><td>1571</td><td>16.3</td><td>5.7</td><td>2</td><td>2025-03-31</td><td>&quot;2025&quot;</td><td>&quot;3&quot;</td><td>&quot;2025年3月期&quot;</td></tr></tbody></table></div>"
      ],
      "text/plain": [
       "shape: (156_408, 15)\n",
       "┌──────┬───────────────┬──────────────┬──────────────┬───┬──────────────┬──────┬─────┬─────────────┐\n",
       "│ code ┆ settlement_da ┆ settlement_t ┆ announcement ┆ … ┆ yearly_settl ┆ fy   ┆ fm  ┆ 決算期      │\n",
       "│ ---  ┆ te            ┆ ype          ┆ _date        ┆   ┆ ement_date   ┆ ---  ┆ --- ┆ ---         │\n",
       "│ i64  ┆ ---           ┆ ---          ┆ ---          ┆   ┆ ---          ┆ str  ┆ str ┆ str         │\n",
       "│      ┆ date          ┆ str          ┆ date         ┆   ┆ date         ┆      ┆     ┆             │\n",
       "╞══════╪═══════════════╪══════════════╪══════════════╪═══╪══════════════╪══════╪═════╪═════════════╡\n",
       "│ 1301 ┆ 2017-03-31    ┆ 本           ┆ 2017-05-11   ┆ … ┆ 2017-03-31   ┆ 2017 ┆ 3   ┆ 2017年3月期 │\n",
       "│ 1301 ┆ 2018-03-31    ┆ 本           ┆ 2018-05-10   ┆ … ┆ 2018-03-31   ┆ 2018 ┆ 3   ┆ 2018年3月期 │\n",
       "│ 1301 ┆ 2018-09-30    ┆ 四           ┆ 2018-11-05   ┆ … ┆ 2019-03-31   ┆ 2019 ┆ 3   ┆ 2019年3月期 │\n",
       "│ 1301 ┆ 2018-12-31    ┆ 四           ┆ 2019-02-08   ┆ … ┆ 2019-03-31   ┆ 2019 ┆ 3   ┆ 2019年3月期 │\n",
       "│ 1301 ┆ 2019-03-31    ┆ 本           ┆ 2019-05-13   ┆ … ┆ 2019-03-31   ┆ 2019 ┆ 3   ┆ 2019年3月期 │\n",
       "│ …    ┆ …             ┆ …            ┆ …            ┆ … ┆ …            ┆ …    ┆ …   ┆ …           │\n",
       "│ 9997 ┆ 2024-03-31    ┆ 四           ┆ 2024-05-13   ┆ … ┆ 2024-03-31   ┆ 2024 ┆ 3   ┆ 2024年3月期 │\n",
       "│ 9997 ┆ 2024-03-31    ┆ 本           ┆ 2024-05-13   ┆ … ┆ 2024-03-31   ┆ 2024 ┆ 3   ┆ 2024年3月期 │\n",
       "│ 9997 ┆ 2025-03-31    ┆ 予           ┆ 2024-05-13   ┆ … ┆ 2025-03-31   ┆ 2025 ┆ 3   ┆ 2025年3月期 │\n",
       "│ 9997 ┆ 2024-06-30    ┆ 四           ┆ 2024-07-31   ┆ … ┆ 2025-03-31   ┆ 2025 ┆ 3   ┆ 2025年3月期 │\n",
       "│ 9997 ┆ 2024-09-30    ┆ 四           ┆ 2024-10-31   ┆ … ┆ 2025-03-31   ┆ 2025 ┆ 3   ┆ 2025年3月期 │\n",
       "└──────┴───────────────┴──────────────┴──────────────┴───┴──────────────┴──────┴─────┴─────────────┘"
      ]
     },
     "execution_count": 25,
     "metadata": {},
     "output_type": "execute_result"
    }
   ],
   "source": [
    "fp = DATA_DIR/\"kessan.parquet\"\n",
    "df = read_data(fp)\n",
    "KPL = KessanPl(df)\n",
    "\n",
    "# 結果出力をしやすいように、決算期の表記を日本語にした列を追加\n",
    "# add_settlement_type_string=Trueの場合、「〇年〇月期決算」決算の後ろに、決算種別を追加する。Falseの場合は〇年〇月期までしか表示しない。\n",
    "  # 本決算 -> 〇年〇月期通期決算\n",
    "  # 四半期決算 -> 〇年〇月第〇(単体|累積)四半期決算\n",
    "# KessanPl.DataFrameに四半期決算データが単体データか累積データ化識別できないので、かっこわるいが指定する。\n",
    "KPL.with_columns_financtial_period()\n",
    "KPL.df"
   ]
  },
  {
   "cell_type": "code",
   "execution_count": 6,
   "id": "f36de8de-4b90-403d-b425-5143701be934",
   "metadata": {},
   "outputs": [
    {
     "data": {
      "text/html": [
       "<div><style>\n",
       ".dataframe > thead > tr,\n",
       ".dataframe > tbody > tr {\n",
       "  text-align: right;\n",
       "  white-space: pre-wrap;\n",
       "}\n",
       "</style>\n",
       "<small>shape: (103_212, 15)</small><table border=\"1\" class=\"dataframe\"><thead><tr><th>code</th><th>settlement_date</th><th>settlement_type</th><th>announcement_date</th><th>sales</th><th>operating_income</th><th>ordinary_profit</th><th>final_profit</th><th>reviced_eps</th><th>dividend</th><th>quater</th><th>gr_sales</th><th>gr_operating_income</th><th>gr_ordinary_profit</th><th>gr_final_profit</th></tr><tr><td>i64</td><td>date</td><td>str</td><td>date</td><td>i64</td><td>i64</td><td>i64</td><td>i64</td><td>f64</td><td>f64</td><td>i64</td><td>f64</td><td>f64</td><td>f64</td><td>f64</td></tr></thead><tbody><tr><td>1301</td><td>2018-03-31</td><td>&quot;本&quot;</td><td>2018-05-10</td><td>254783</td><td>4066</td><td>4437</td><td>3211</td><td>304.3</td><td>60.0</td><td>4</td><td>7.7</td><td>9.21</td><td>19.63</td><td>32.58</td></tr><tr><td>1301</td><td>2019-03-31</td><td>&quot;本&quot;</td><td>2019-05-13</td><td>256151</td><td>3831</td><td>4434</td><td>2914</td><td>269.6</td><td>70.0</td><td>4</td><td>0.54</td><td>-5.78</td><td>-0.07</td><td>-9.25</td></tr><tr><td>1301</td><td>2019-09-30</td><td>&quot;四&quot;</td><td>2019-11-05</td><td>64240</td><td>-35</td><td>113</td><td>4</td><td>0.4</td><td>-0.1</td><td>2</td><td>4.89</td><td>-106.9</td><td>-81.01</td><td>-98.51</td></tr><tr><td>1301</td><td>2019-12-31</td><td>&quot;四&quot;</td><td>2020-02-07</td><td>78552</td><td>1881</td><td>1851</td><td>1029</td><td>95.1</td><td>2.4</td><td>3</td><td>-0.04</td><td>-14.81</td><td>-28.56</td><td>-38.64</td></tr><tr><td>1301</td><td>2020-03-31</td><td>&quot;四&quot;</td><td>2020-05-12</td><td>57083</td><td>302</td><td>629</td><td>298</td><td>27.6</td><td>0.5</td><td>4</td><td>-2.2</td><td>-45.19</td><td>23.09</td><td>-27.85</td></tr><tr><td>&hellip;</td><td>&hellip;</td><td>&hellip;</td><td>&hellip;</td><td>&hellip;</td><td>&hellip;</td><td>&hellip;</td><td>&hellip;</td><td>&hellip;</td><td>&hellip;</td><td>&hellip;</td><td>&hellip;</td><td>&hellip;</td><td>&hellip;</td><td>&hellip;</td></tr><tr><td>9997</td><td>2023-12-31</td><td>&quot;四&quot;</td><td>2024-01-31</td><td>60173</td><td>2630</td><td>2605</td><td>1818</td><td>18.8</td><td>4.4</td><td>3</td><td>-2.44</td><td>-37.16</td><td>-37.45</td><td>-28.23</td></tr><tr><td>9997</td><td>2024-03-31</td><td>&quot;四&quot;</td><td>2024-05-13</td><td>52020</td><td>4062</td><td>4901</td><td>758</td><td>7.8</td><td>7.8</td><td>4</td><td>0.19</td><td>21.51</td><td>35.27</td><td>-62.75</td></tr><tr><td>9997</td><td>2024-03-31</td><td>&quot;本&quot;</td><td>2024-05-13</td><td>208298</td><td>9787</td><td>11831</td><td>5839</td><td>60.4</td><td>20.5</td><td>4</td><td>-1.92</td><td>-12.75</td><td>-5.04</td><td>-21.28</td></tr><tr><td>9997</td><td>2024-06-30</td><td>&quot;四&quot;</td><td>2024-07-31</td><td>51368</td><td>982</td><td>1681</td><td>994</td><td>10.3</td><td>1.9</td><td>1</td><td>-0.91</td><td>-15.05</td><td>-9.58</td><td>-28.23</td></tr><tr><td>9997</td><td>2024-09-30</td><td>&quot;四&quot;</td><td>2024-10-31</td><td>45759</td><td>2588</td><td>2462</td><td>1571</td><td>16.3</td><td>5.7</td><td>2</td><td>3.38</td><td>33.47</td><td>-0.16</td><td>-16.35</td></tr></tbody></table></div>"
      ],
      "text/plain": [
       "shape: (103_212, 15)\n",
       "┌──────┬────────────┬────────────┬────────────┬───┬──────────┬────────────┬────────────┬───────────┐\n",
       "│ code ┆ settlement ┆ settlement ┆ announceme ┆ … ┆ gr_sales ┆ gr_operati ┆ gr_ordinar ┆ gr_final_ │\n",
       "│ ---  ┆ _date      ┆ _type      ┆ nt_date    ┆   ┆ ---      ┆ ng_income  ┆ y_profit   ┆ profit    │\n",
       "│ i64  ┆ ---        ┆ ---        ┆ ---        ┆   ┆ f64      ┆ ---        ┆ ---        ┆ ---       │\n",
       "│      ┆ date       ┆ str        ┆ date       ┆   ┆          ┆ f64        ┆ f64        ┆ f64       │\n",
       "╞══════╪════════════╪════════════╪════════════╪═══╪══════════╪════════════╪════════════╪═══════════╡\n",
       "│ 1301 ┆ 2018-03-31 ┆ 本         ┆ 2018-05-10 ┆ … ┆ 7.7      ┆ 9.21       ┆ 19.63      ┆ 32.58     │\n",
       "│ 1301 ┆ 2019-03-31 ┆ 本         ┆ 2019-05-13 ┆ … ┆ 0.54     ┆ -5.78      ┆ -0.07      ┆ -9.25     │\n",
       "│ 1301 ┆ 2019-09-30 ┆ 四         ┆ 2019-11-05 ┆ … ┆ 4.89     ┆ -106.9     ┆ -81.01     ┆ -98.51    │\n",
       "│ 1301 ┆ 2019-12-31 ┆ 四         ┆ 2020-02-07 ┆ … ┆ -0.04    ┆ -14.81     ┆ -28.56     ┆ -38.64    │\n",
       "│ 1301 ┆ 2020-03-31 ┆ 四         ┆ 2020-05-12 ┆ … ┆ -2.2     ┆ -45.19     ┆ 23.09      ┆ -27.85    │\n",
       "│ …    ┆ …          ┆ …          ┆ …          ┆ … ┆ …        ┆ …          ┆ …          ┆ …         │\n",
       "│ 9997 ┆ 2023-12-31 ┆ 四         ┆ 2024-01-31 ┆ … ┆ -2.44    ┆ -37.16     ┆ -37.45     ┆ -28.23    │\n",
       "│ 9997 ┆ 2024-03-31 ┆ 四         ┆ 2024-05-13 ┆ … ┆ 0.19     ┆ 21.51      ┆ 35.27      ┆ -62.75    │\n",
       "│ 9997 ┆ 2024-03-31 ┆ 本         ┆ 2024-05-13 ┆ … ┆ -1.92    ┆ -12.75     ┆ -5.04      ┆ -21.28    │\n",
       "│ 9997 ┆ 2024-06-30 ┆ 四         ┆ 2024-07-31 ┆ … ┆ -0.91    ┆ -15.05     ┆ -9.58      ┆ -28.23    │\n",
       "│ 9997 ┆ 2024-09-30 ┆ 四         ┆ 2024-10-31 ┆ … ┆ 3.38     ┆ 33.47      ┆ -0.16      ┆ -16.35    │\n",
       "└──────┴────────────┴────────────┴────────────┴───┴──────────┴────────────┴────────────┴───────────┘"
      ]
     },
     "execution_count": 6,
     "metadata": {},
     "output_type": "execute_result"
    }
   ],
   "source": [
    "# 前年同期からのsales-final_profitまでの成長率列を追加する。\n",
    "# 追加される列の列名は、gr_{col}\n",
    "# KessanPl.dfのsettlement_type=\"予\"は除外される\n",
    "#def with_columns_growth_rate(self):\n",
    "\n",
    "KPL = KessanPl()\n",
    "KPL.with_columns_growth_rate()\n",
    "KPL.df"
   ]
  },
  {
   "cell_type": "code",
   "execution_count": 2,
   "id": "e8147ae8-bab7-4153-b921-ed8bde27158e",
   "metadata": {},
   "outputs": [
    {
     "data": {
      "text/html": [
       "<div><style>\n",
       ".dataframe > thead > tr,\n",
       ".dataframe > tbody > tr {\n",
       "  text-align: right;\n",
       "  white-space: pre-wrap;\n",
       "}\n",
       "</style>\n",
       "<small>shape: (103_219, 17)</small><table border=\"1\" class=\"dataframe\"><thead><tr><th>code</th><th>settlement_date</th><th>settlement_type</th><th>announcement_date</th><th>sales</th><th>operating_income</th><th>ordinary_profit</th><th>final_profit</th><th>reviced_eps</th><th>dividend</th><th>quater</th><th>ly_settlement_date</th><th>ly_announcement_date</th><th>ly_sales</th><th>ly_operating_income</th><th>ly_ordinary_profit</th><th>ly_final_profit</th></tr><tr><td>i64</td><td>date</td><td>str</td><td>date</td><td>i64</td><td>i64</td><td>i64</td><td>i64</td><td>f64</td><td>f64</td><td>i64</td><td>date</td><td>date</td><td>i64</td><td>i64</td><td>i64</td><td>i64</td></tr></thead><tbody><tr><td>1301</td><td>2018-03-31</td><td>&quot;本&quot;</td><td>2018-05-10</td><td>254783</td><td>4066</td><td>4437</td><td>3211</td><td>304.3</td><td>60.0</td><td>4</td><td>2017-03-31</td><td>2017-05-11</td><td>236561</td><td>3723</td><td>3709</td><td>2422</td></tr><tr><td>1301</td><td>2019-03-31</td><td>&quot;本&quot;</td><td>2019-05-13</td><td>256151</td><td>3831</td><td>4434</td><td>2914</td><td>269.6</td><td>70.0</td><td>4</td><td>2018-03-31</td><td>2018-05-10</td><td>254783</td><td>4066</td><td>4437</td><td>3211</td></tr><tr><td>1301</td><td>2019-09-30</td><td>&quot;四&quot;</td><td>2019-11-05</td><td>64240</td><td>-35</td><td>113</td><td>4</td><td>0.4</td><td>-0.1</td><td>2</td><td>2018-09-30</td><td>2018-11-05</td><td>61245</td><td>507</td><td>595</td><td>269</td></tr><tr><td>1301</td><td>2019-12-31</td><td>&quot;四&quot;</td><td>2020-02-07</td><td>78552</td><td>1881</td><td>1851</td><td>1029</td><td>95.1</td><td>2.4</td><td>3</td><td>2018-12-31</td><td>2019-02-08</td><td>78581</td><td>2208</td><td>2591</td><td>1677</td></tr><tr><td>1301</td><td>2020-03-31</td><td>&quot;四&quot;</td><td>2020-05-12</td><td>57083</td><td>302</td><td>629</td><td>298</td><td>27.6</td><td>0.5</td><td>4</td><td>2019-03-31</td><td>2019-05-13</td><td>58368</td><td>551</td><td>511</td><td>413</td></tr><tr><td>&hellip;</td><td>&hellip;</td><td>&hellip;</td><td>&hellip;</td><td>&hellip;</td><td>&hellip;</td><td>&hellip;</td><td>&hellip;</td><td>&hellip;</td><td>&hellip;</td><td>&hellip;</td><td>&hellip;</td><td>&hellip;</td><td>&hellip;</td><td>&hellip;</td><td>&hellip;</td><td>&hellip;</td></tr><tr><td>9997</td><td>2023-12-31</td><td>&quot;四&quot;</td><td>2024-01-31</td><td>60173</td><td>2630</td><td>2605</td><td>1818</td><td>18.8</td><td>4.4</td><td>3</td><td>2022-12-31</td><td>2023-01-31</td><td>61675</td><td>4185</td><td>4165</td><td>2533</td></tr><tr><td>9997</td><td>2024-03-31</td><td>&quot;四&quot;</td><td>2024-05-13</td><td>52020</td><td>4062</td><td>4901</td><td>758</td><td>7.8</td><td>7.8</td><td>4</td><td>2023-03-31</td><td>2023-05-12</td><td>51922</td><td>3343</td><td>3623</td><td>2035</td></tr><tr><td>9997</td><td>2024-03-31</td><td>&quot;本&quot;</td><td>2024-05-13</td><td>208298</td><td>9787</td><td>11831</td><td>5839</td><td>60.4</td><td>20.5</td><td>4</td><td>2023-03-31</td><td>2023-05-12</td><td>212376</td><td>11217</td><td>12459</td><td>7417</td></tr><tr><td>9997</td><td>2024-06-30</td><td>&quot;四&quot;</td><td>2024-07-31</td><td>51368</td><td>982</td><td>1681</td><td>994</td><td>10.3</td><td>1.9</td><td>1</td><td>2023-06-30</td><td>2023-07-31</td><td>51842</td><td>1156</td><td>1859</td><td>1385</td></tr><tr><td>9997</td><td>2024-09-30</td><td>&quot;四&quot;</td><td>2024-10-31</td><td>45759</td><td>2588</td><td>2462</td><td>1571</td><td>16.3</td><td>5.7</td><td>2</td><td>2023-09-30</td><td>2023-10-31</td><td>44263</td><td>1939</td><td>2466</td><td>1878</td></tr></tbody></table></div>"
      ],
      "text/plain": [
       "shape: (103_219, 17)\n",
       "┌──────┬────────────┬────────────┬────────────┬───┬──────────┬────────────┬────────────┬───────────┐\n",
       "│ code ┆ settlement ┆ settlement ┆ announceme ┆ … ┆ ly_sales ┆ ly_operati ┆ ly_ordinar ┆ ly_final_ │\n",
       "│ ---  ┆ _date      ┆ _type      ┆ nt_date    ┆   ┆ ---      ┆ ng_income  ┆ y_profit   ┆ profit    │\n",
       "│ i64  ┆ ---        ┆ ---        ┆ ---        ┆   ┆ i64      ┆ ---        ┆ ---        ┆ ---       │\n",
       "│      ┆ date       ┆ str        ┆ date       ┆   ┆          ┆ i64        ┆ i64        ┆ i64       │\n",
       "╞══════╪════════════╪════════════╪════════════╪═══╪══════════╪════════════╪════════════╪═══════════╡\n",
       "│ 1301 ┆ 2018-03-31 ┆ 本         ┆ 2018-05-10 ┆ … ┆ 236561   ┆ 3723       ┆ 3709       ┆ 2422      │\n",
       "│ 1301 ┆ 2019-03-31 ┆ 本         ┆ 2019-05-13 ┆ … ┆ 254783   ┆ 4066       ┆ 4437       ┆ 3211      │\n",
       "│ 1301 ┆ 2019-09-30 ┆ 四         ┆ 2019-11-05 ┆ … ┆ 61245    ┆ 507        ┆ 595        ┆ 269       │\n",
       "│ 1301 ┆ 2019-12-31 ┆ 四         ┆ 2020-02-07 ┆ … ┆ 78581    ┆ 2208       ┆ 2591       ┆ 1677      │\n",
       "│ 1301 ┆ 2020-03-31 ┆ 四         ┆ 2020-05-12 ┆ … ┆ 58368    ┆ 551        ┆ 511        ┆ 413       │\n",
       "│ …    ┆ …          ┆ …          ┆ …          ┆ … ┆ …        ┆ …          ┆ …          ┆ …         │\n",
       "│ 9997 ┆ 2023-12-31 ┆ 四         ┆ 2024-01-31 ┆ … ┆ 61675    ┆ 4185       ┆ 4165       ┆ 2533      │\n",
       "│ 9997 ┆ 2024-03-31 ┆ 四         ┆ 2024-05-13 ┆ … ┆ 51922    ┆ 3343       ┆ 3623       ┆ 2035      │\n",
       "│ 9997 ┆ 2024-03-31 ┆ 本         ┆ 2024-05-13 ┆ … ┆ 212376   ┆ 11217      ┆ 12459      ┆ 7417      │\n",
       "│ 9997 ┆ 2024-06-30 ┆ 四         ┆ 2024-07-31 ┆ … ┆ 51842    ┆ 1156       ┆ 1859       ┆ 1385      │\n",
       "│ 9997 ┆ 2024-09-30 ┆ 四         ┆ 2024-10-31 ┆ … ┆ 44263    ┆ 1939       ┆ 2466       ┆ 1878      │\n",
       "└──────┴────────────┴────────────┴────────────┴───┴──────────┴────────────┴────────────┴───────────┘"
      ]
     },
     "execution_count": 2,
     "metadata": {},
     "output_type": "execute_result"
    }
   ],
   "source": [
    "# 前年同期の決算情報列を追加する。\n",
    "# KessanPl.dfのsettlement_type=\"予\"は除外される\n",
    "#def with_columns_lastyear_settlement(self) -> None:\n",
    "KPL = KessanPl()\n",
    "KPL.with_columns_lastyear_settlement()\n",
    "KPL.df"
   ]
  },
  {
   "cell_type": "code",
   "execution_count": 8,
   "id": "a980ffd5-03c4-4e25-ab90-e0d2a09fd6b8",
   "metadata": {},
   "outputs": [
    {
     "data": {
      "text/html": [
       "<div><style>\n",
       ".dataframe > thead > tr,\n",
       ".dataframe > tbody > tr {\n",
       "  text-align: right;\n",
       "  white-space: pre-wrap;\n",
       "}\n",
       "</style>\n",
       "<small>shape: (115_543, 15)</small><table border=\"1\" class=\"dataframe\"><thead><tr><th>code</th><th>settlement_date</th><th>settlement_type</th><th>announcement_date</th><th>sales</th><th>operating_income</th><th>ordinary_profit</th><th>final_profit</th><th>reviced_eps</th><th>dividend</th><th>quater</th><th>lst_sales</th><th>lst_operating_income</th><th>lst_ordinary_profit</th><th>lst_final_profit</th></tr><tr><td>i64</td><td>date</td><td>str</td><td>date</td><td>i64</td><td>i64</td><td>i64</td><td>i64</td><td>f64</td><td>f64</td><td>i64</td><td>i64</td><td>i64</td><td>i64</td><td>i64</td></tr></thead><tbody><tr><td>1301</td><td>2018-03-31</td><td>&quot;本&quot;</td><td>2018-05-10</td><td>254783</td><td>4066</td><td>4437</td><td>3211</td><td>304.3</td><td>60.0</td><td>4</td><td>236561</td><td>3723</td><td>3709</td><td>2422</td></tr><tr><td>1301</td><td>2018-12-31</td><td>&quot;四&quot;</td><td>2019-02-08</td><td>78581</td><td>2208</td><td>2591</td><td>1677</td><td>155.2</td><td>2.8</td><td>3</td><td>61245</td><td>507</td><td>595</td><td>269</td></tr><tr><td>1301</td><td>2019-03-31</td><td>&quot;四&quot;</td><td>2019-05-13</td><td>58368</td><td>551</td><td>511</td><td>413</td><td>38.2</td><td>0.9</td><td>4</td><td>78581</td><td>2208</td><td>2591</td><td>1677</td></tr><tr><td>1301</td><td>2019-03-31</td><td>&quot;本&quot;</td><td>2019-05-13</td><td>256151</td><td>3831</td><td>4434</td><td>2914</td><td>269.6</td><td>70.0</td><td>4</td><td>254783</td><td>4066</td><td>4437</td><td>3211</td></tr><tr><td>1301</td><td>2019-06-30</td><td>&quot;四&quot;</td><td>2019-08-02</td><td>62644</td><td>770</td><td>1015</td><td>706</td><td>65.3</td><td>1.2</td><td>1</td><td>58368</td><td>551</td><td>511</td><td>413</td></tr><tr><td>&hellip;</td><td>&hellip;</td><td>&hellip;</td><td>&hellip;</td><td>&hellip;</td><td>&hellip;</td><td>&hellip;</td><td>&hellip;</td><td>&hellip;</td><td>&hellip;</td><td>&hellip;</td><td>&hellip;</td><td>&hellip;</td><td>&hellip;</td><td>&hellip;</td></tr><tr><td>9997</td><td>2023-12-31</td><td>&quot;四&quot;</td><td>2024-01-31</td><td>60173</td><td>2630</td><td>2605</td><td>1818</td><td>18.8</td><td>4.4</td><td>3</td><td>44263</td><td>1939</td><td>2466</td><td>1878</td></tr><tr><td>9997</td><td>2024-03-31</td><td>&quot;四&quot;</td><td>2024-05-13</td><td>52020</td><td>4062</td><td>4901</td><td>758</td><td>7.8</td><td>7.8</td><td>4</td><td>60173</td><td>2630</td><td>2605</td><td>1818</td></tr><tr><td>9997</td><td>2024-03-31</td><td>&quot;本&quot;</td><td>2024-05-13</td><td>208298</td><td>9787</td><td>11831</td><td>5839</td><td>60.4</td><td>20.5</td><td>4</td><td>212376</td><td>11217</td><td>12459</td><td>7417</td></tr><tr><td>9997</td><td>2024-06-30</td><td>&quot;四&quot;</td><td>2024-07-31</td><td>51368</td><td>982</td><td>1681</td><td>994</td><td>10.3</td><td>1.9</td><td>1</td><td>52020</td><td>4062</td><td>4901</td><td>758</td></tr><tr><td>9997</td><td>2024-09-30</td><td>&quot;四&quot;</td><td>2024-10-31</td><td>45759</td><td>2588</td><td>2462</td><td>1571</td><td>16.3</td><td>5.7</td><td>2</td><td>51368</td><td>982</td><td>1681</td><td>994</td></tr></tbody></table></div>"
      ],
      "text/plain": [
       "shape: (115_543, 15)\n",
       "┌──────┬────────────┬────────────┬────────────┬───┬───────────┬────────────┬───────────┬───────────┐\n",
       "│ code ┆ settlement ┆ settlement ┆ announceme ┆ … ┆ lst_sales ┆ lst_operat ┆ lst_ordin ┆ lst_final │\n",
       "│ ---  ┆ _date      ┆ _type      ┆ nt_date    ┆   ┆ ---       ┆ ing_income ┆ ary_profi ┆ _profit   │\n",
       "│ i64  ┆ ---        ┆ ---        ┆ ---        ┆   ┆ i64       ┆ ---        ┆ t         ┆ ---       │\n",
       "│      ┆ date       ┆ str        ┆ date       ┆   ┆           ┆ i64        ┆ ---       ┆ i64       │\n",
       "│      ┆            ┆            ┆            ┆   ┆           ┆            ┆ i64       ┆           │\n",
       "╞══════╪════════════╪════════════╪════════════╪═══╪═══════════╪════════════╪═══════════╪═══════════╡\n",
       "│ 1301 ┆ 2018-03-31 ┆ 本         ┆ 2018-05-10 ┆ … ┆ 236561    ┆ 3723       ┆ 3709      ┆ 2422      │\n",
       "│ 1301 ┆ 2018-12-31 ┆ 四         ┆ 2019-02-08 ┆ … ┆ 61245     ┆ 507        ┆ 595       ┆ 269       │\n",
       "│ 1301 ┆ 2019-03-31 ┆ 四         ┆ 2019-05-13 ┆ … ┆ 78581     ┆ 2208       ┆ 2591      ┆ 1677      │\n",
       "│ 1301 ┆ 2019-03-31 ┆ 本         ┆ 2019-05-13 ┆ … ┆ 254783    ┆ 4066       ┆ 4437      ┆ 3211      │\n",
       "│ 1301 ┆ 2019-06-30 ┆ 四         ┆ 2019-08-02 ┆ … ┆ 58368     ┆ 551        ┆ 511       ┆ 413       │\n",
       "│ …    ┆ …          ┆ …          ┆ …          ┆ … ┆ …         ┆ …          ┆ …         ┆ …         │\n",
       "│ 9997 ┆ 2023-12-31 ┆ 四         ┆ 2024-01-31 ┆ … ┆ 44263     ┆ 1939       ┆ 2466      ┆ 1878      │\n",
       "│ 9997 ┆ 2024-03-31 ┆ 四         ┆ 2024-05-13 ┆ … ┆ 60173     ┆ 2630       ┆ 2605      ┆ 1818      │\n",
       "│ 9997 ┆ 2024-03-31 ┆ 本         ┆ 2024-05-13 ┆ … ┆ 212376    ┆ 11217      ┆ 12459     ┆ 7417      │\n",
       "│ 9997 ┆ 2024-06-30 ┆ 四         ┆ 2024-07-31 ┆ … ┆ 52020     ┆ 4062       ┆ 4901      ┆ 758       │\n",
       "│ 9997 ┆ 2024-09-30 ┆ 四         ┆ 2024-10-31 ┆ … ┆ 51368     ┆ 982        ┆ 1681      ┆ 994       │\n",
       "└──────┴────────────┴────────────┴────────────┴───┴───────────┴────────────┴───────────┴───────────┘"
      ]
     },
     "execution_count": 8,
     "metadata": {},
     "output_type": "execute_result"
    }
   ],
   "source": [
    "# 直前の決算情報列を追加する。\n",
    "# 本決算の場合は前年同期、四半期決算の場合は全四半期\n",
    "# KessanPl.dfのsettlement_type=\"予\"は除外される\n",
    "#def with_columns_latest_settlement(self):\n",
    "\n",
    "KPL = KessanPl()\n",
    "KPL.with_columns_latest_settlement()\n",
    "KPL.df\n"
   ]
  },
  {
   "cell_type": "code",
   "execution_count": 3,
   "id": "89994075-d3bb-4cbf-88d1-7c65c0d26d27",
   "metadata": {},
   "outputs": [
    {
     "data": {
      "text/html": [
       "<div><style>\n",
       ".dataframe > thead > tr,\n",
       ".dataframe > tbody > tr {\n",
       "  text-align: right;\n",
       "  white-space: pre-wrap;\n",
       "}\n",
       "</style>\n",
       "<small>shape: (115_561, 15)</small><table border=\"1\" class=\"dataframe\"><thead><tr><th>code</th><th>settlement_date</th><th>settlement_type</th><th>announcement_date</th><th>sales</th><th>operating_income</th><th>ordinary_profit</th><th>final_profit</th><th>reviced_eps</th><th>dividend</th><th>quater</th><th>nxt_sales</th><th>nxt_operating_income</th><th>nxt_ordinary_profit</th><th>nxt_final_profit</th></tr><tr><td>i64</td><td>date</td><td>str</td><td>date</td><td>i64</td><td>i64</td><td>i64</td><td>i64</td><td>f64</td><td>f64</td><td>i64</td><td>i64</td><td>i64</td><td>i64</td><td>i64</td></tr></thead><tbody><tr><td>1301</td><td>2017-03-31</td><td>&quot;本&quot;</td><td>2017-05-11</td><td>236561</td><td>3723</td><td>3709</td><td>2422</td><td>230.7</td><td>60.0</td><td>-2</td><td>254783</td><td>4066</td><td>4437</td><td>3211</td></tr><tr><td>1301</td><td>2018-03-31</td><td>&quot;本&quot;</td><td>2018-05-10</td><td>254783</td><td>4066</td><td>4437</td><td>3211</td><td>304.3</td><td>60.0</td><td>4</td><td>256151</td><td>3831</td><td>4434</td><td>2914</td></tr><tr><td>1301</td><td>2018-09-30</td><td>&quot;四&quot;</td><td>2018-11-05</td><td>61245</td><td>507</td><td>595</td><td>269</td><td>24.9</td><td>0.8</td><td>2</td><td>78581</td><td>2208</td><td>2591</td><td>1677</td></tr><tr><td>1301</td><td>2018-12-31</td><td>&quot;四&quot;</td><td>2019-02-08</td><td>78581</td><td>2208</td><td>2591</td><td>1677</td><td>155.2</td><td>2.8</td><td>3</td><td>58368</td><td>551</td><td>511</td><td>413</td></tr><tr><td>1301</td><td>2019-03-31</td><td>&quot;四&quot;</td><td>2019-05-13</td><td>58368</td><td>551</td><td>511</td><td>413</td><td>38.2</td><td>0.9</td><td>4</td><td>62644</td><td>770</td><td>1015</td><td>706</td></tr><tr><td>&hellip;</td><td>&hellip;</td><td>&hellip;</td><td>&hellip;</td><td>&hellip;</td><td>&hellip;</td><td>&hellip;</td><td>&hellip;</td><td>&hellip;</td><td>&hellip;</td><td>&hellip;</td><td>&hellip;</td><td>&hellip;</td><td>&hellip;</td><td>&hellip;</td></tr><tr><td>9997</td><td>2023-06-30</td><td>&quot;四&quot;</td><td>2023-07-31</td><td>51842</td><td>1156</td><td>1859</td><td>1385</td><td>14.3</td><td>2.2</td><td>1</td><td>44263</td><td>1939</td><td>2466</td><td>1878</td></tr><tr><td>9997</td><td>2023-09-30</td><td>&quot;四&quot;</td><td>2023-10-31</td><td>44263</td><td>1939</td><td>2466</td><td>1878</td><td>19.4</td><td>4.4</td><td>2</td><td>60173</td><td>2630</td><td>2605</td><td>1818</td></tr><tr><td>9997</td><td>2023-12-31</td><td>&quot;四&quot;</td><td>2024-01-31</td><td>60173</td><td>2630</td><td>2605</td><td>1818</td><td>18.8</td><td>4.4</td><td>3</td><td>52020</td><td>4062</td><td>4901</td><td>758</td></tr><tr><td>9997</td><td>2024-03-31</td><td>&quot;四&quot;</td><td>2024-05-13</td><td>52020</td><td>4062</td><td>4901</td><td>758</td><td>7.8</td><td>7.8</td><td>4</td><td>51368</td><td>982</td><td>1681</td><td>994</td></tr><tr><td>9997</td><td>2024-06-30</td><td>&quot;四&quot;</td><td>2024-07-31</td><td>51368</td><td>982</td><td>1681</td><td>994</td><td>10.3</td><td>1.9</td><td>1</td><td>45759</td><td>2588</td><td>2462</td><td>1571</td></tr></tbody></table></div>"
      ],
      "text/plain": [
       "shape: (115_561, 15)\n",
       "┌──────┬────────────┬────────────┬────────────┬───┬───────────┬────────────┬───────────┬───────────┐\n",
       "│ code ┆ settlement ┆ settlement ┆ announceme ┆ … ┆ nxt_sales ┆ nxt_operat ┆ nxt_ordin ┆ nxt_final │\n",
       "│ ---  ┆ _date      ┆ _type      ┆ nt_date    ┆   ┆ ---       ┆ ing_income ┆ ary_profi ┆ _profit   │\n",
       "│ i64  ┆ ---        ┆ ---        ┆ ---        ┆   ┆ i64       ┆ ---        ┆ t         ┆ ---       │\n",
       "│      ┆ date       ┆ str        ┆ date       ┆   ┆           ┆ i64        ┆ ---       ┆ i64       │\n",
       "│      ┆            ┆            ┆            ┆   ┆           ┆            ┆ i64       ┆           │\n",
       "╞══════╪════════════╪════════════╪════════════╪═══╪═══════════╪════════════╪═══════════╪═══════════╡\n",
       "│ 1301 ┆ 2017-03-31 ┆ 本         ┆ 2017-05-11 ┆ … ┆ 254783    ┆ 4066       ┆ 4437      ┆ 3211      │\n",
       "│ 1301 ┆ 2018-03-31 ┆ 本         ┆ 2018-05-10 ┆ … ┆ 256151    ┆ 3831       ┆ 4434      ┆ 2914      │\n",
       "│ 1301 ┆ 2018-09-30 ┆ 四         ┆ 2018-11-05 ┆ … ┆ 78581     ┆ 2208       ┆ 2591      ┆ 1677      │\n",
       "│ 1301 ┆ 2018-12-31 ┆ 四         ┆ 2019-02-08 ┆ … ┆ 58368     ┆ 551        ┆ 511       ┆ 413       │\n",
       "│ 1301 ┆ 2019-03-31 ┆ 四         ┆ 2019-05-13 ┆ … ┆ 62644     ┆ 770        ┆ 1015      ┆ 706       │\n",
       "│ …    ┆ …          ┆ …          ┆ …          ┆ … ┆ …         ┆ …          ┆ …         ┆ …         │\n",
       "│ 9997 ┆ 2023-06-30 ┆ 四         ┆ 2023-07-31 ┆ … ┆ 44263     ┆ 1939       ┆ 2466      ┆ 1878      │\n",
       "│ 9997 ┆ 2023-09-30 ┆ 四         ┆ 2023-10-31 ┆ … ┆ 60173     ┆ 2630       ┆ 2605      ┆ 1818      │\n",
       "│ 9997 ┆ 2023-12-31 ┆ 四         ┆ 2024-01-31 ┆ … ┆ 52020     ┆ 4062       ┆ 4901      ┆ 758       │\n",
       "│ 9997 ┆ 2024-03-31 ┆ 四         ┆ 2024-05-13 ┆ … ┆ 51368     ┆ 982        ┆ 1681      ┆ 994       │\n",
       "│ 9997 ┆ 2024-06-30 ┆ 四         ┆ 2024-07-31 ┆ … ┆ 45759     ┆ 2588       ┆ 2462      ┆ 1571      │\n",
       "└──────┴────────────┴────────────┴────────────┴───┴───────────┴────────────┴───────────┴───────────┘"
      ]
     },
     "execution_count": 3,
     "metadata": {},
     "output_type": "execute_result"
    }
   ],
   "source": [
    "# 次の決算情報列を追加する。\n",
    "# 本決算の場合は翌年の本決算、四半期決算の場合は次四半期決算。\n",
    "# KessanPl.dfのsettlement_type=\"予\"は除外される\n",
    "#def with_columns_next_settlement(self) -> None:\n",
    "\n",
    "KPL = KessanPl()\n",
    "KPL.with_columns_next_settlement()\n",
    "KPL.df\n"
   ]
  },
  {
   "cell_type": "code",
   "execution_count": 2,
   "id": "75b5178f-211e-477d-b3f7-b3c25575e814",
   "metadata": {},
   "outputs": [
    {
     "name": "stdout",
     "output_type": "stream",
     "text": [
      "['code', 'settlement_date', 'settlement_type', 'announcement_date', 'sales', 'operating_income', 'ordinary_profit', 'final_profit', 'reviced_eps', 'dividend', 'quater', 'sales_growth_rate', 'diff_operating_income_growth_rate', 'diff_ordinary_profit_growth_rate', 'diff_final_profit_growth_rate', 'fcst_dgr_sales', 'fcst_dgr_diff_sales']\n"
     ]
    },
    {
     "data": {
      "text/html": [
       "<div><style>\n",
       ".dataframe > thead > tr,\n",
       ".dataframe > tbody > tr {\n",
       "  text-align: right;\n",
       "  white-space: pre-wrap;\n",
       "}\n",
       "</style>\n",
       "<small>shape: (129_399, 17)</small><table border=\"1\" class=\"dataframe\"><thead><tr><th>code</th><th>settlement_date</th><th>settlement_type</th><th>announcement_date</th><th>sales</th><th>operating_income</th><th>ordinary_profit</th><th>final_profit</th><th>reviced_eps</th><th>dividend</th><th>quater</th><th>fcst_dgr_sales</th><th>fcst_dgr_operating_income</th><th>fcst_dgr_ordinary_profit</th><th>fcst_dgr_final_profit</th><th>col</th><th>nxt_settlement_date</th></tr><tr><td>i64</td><td>date</td><td>str</td><td>date</td><td>i64</td><td>i64</td><td>i64</td><td>i64</td><td>f64</td><td>f64</td><td>i64</td><td>i64</td><td>i64</td><td>i64</td><td>i64</td><td>date</td><td>date</td></tr></thead><tbody><tr><td>1301</td><td>2019-03-31</td><td>&quot;本&quot;</td><td>2019-05-13</td><td>256151</td><td>3831</td><td>4434</td><td>2914</td><td>269.6</td><td>70.0</td><td>4</td><td>257432</td><td>3623</td><td>4444</td><td>2649</td><td>2020-03-25</td><td>2020-03-31</td></tr><tr><td>1301</td><td>2019-09-30</td><td>&quot;四&quot;</td><td>2019-11-05</td><td>64240</td><td>-35</td><td>113</td><td>4</td><td>0.4</td><td>-0.1</td><td>2</td><td>67388</td><td>-573</td><td>-362</td><td>-242</td><td>2019-12-19</td><td>2019-12-31</td></tr><tr><td>1301</td><td>2019-12-31</td><td>&quot;四&quot;</td><td>2020-02-07</td><td>78552</td><td>1881</td><td>1851</td><td>1029</td><td>95.1</td><td>2.4</td><td>3</td><td>78552</td><td>1881</td><td>1851</td><td>1029</td><td>2020-03-20</td><td>2020-03-31</td></tr><tr><td>1301</td><td>2021-03-31</td><td>&quot;予&quot;</td><td>2020-05-12</td><td>270000</td><td>4200</td><td>4500</td><td>3000</td><td>279.2</td><td>70.0</td><td>4</td><td>277560</td><td>5568</td><td>5475</td><td>4051</td><td>2021-06-19</td><td>2021-06-30</td></tr><tr><td>1301</td><td>2020-03-31</td><td>&quot;四&quot;</td><td>2020-05-12</td><td>57083</td><td>302</td><td>629</td><td>298</td><td>27.6</td><td>0.5</td><td>4</td><td>55827</td><td>46</td><td>732</td><td>174</td><td>2020-06-19</td><td>2020-06-30</td></tr><tr><td>&hellip;</td><td>&hellip;</td><td>&hellip;</td><td>&hellip;</td><td>&hellip;</td><td>&hellip;</td><td>&hellip;</td><td>&hellip;</td><td>&hellip;</td><td>&hellip;</td><td>&hellip;</td><td>&hellip;</td><td>&hellip;</td><td>&hellip;</td><td>&hellip;</td><td>&hellip;</td><td>&hellip;</td></tr><tr><td>9997</td><td>2025-03-31</td><td>&quot;予&quot;</td><td>2024-05-13</td><td>217000</td><td>11500</td><td>12500</td><td>8000</td><td>82.7</td><td>29.0</td><td>4</td><td>226114</td><td>13387</td><td>13293</td><td>10351</td><td>2025-06-19</td><td>2025-06-30</td></tr><tr><td>9997</td><td>2024-03-31</td><td>&quot;四&quot;</td><td>2024-05-13</td><td>52020</td><td>4062</td><td>4901</td><td>758</td><td>7.8</td><td>7.8</td><td>4</td><td>52124</td><td>4826</td><td>6258</td><td>-596</td><td>2024-06-19</td><td>2024-06-30</td></tr><tr><td>9997</td><td>2024-03-31</td><td>&quot;本&quot;</td><td>2024-05-13</td><td>208298</td><td>9787</td><td>11831</td><td>5839</td><td>60.4</td><td>20.5</td><td>4</td><td>204340</td><td>8358</td><td>11182</td><td>4268</td><td>2025-03-26</td><td>2025-03-31</td></tr><tr><td>9997</td><td>2024-06-30</td><td>&quot;四&quot;</td><td>2024-07-31</td><td>51368</td><td>982</td><td>1681</td><td>994</td><td>10.3</td><td>1.9</td><td>1</td><td>50906</td><td>808</td><td>1503</td><td>608</td><td>2024-09-18</td><td>2024-09-30</td></tr><tr><td>9997</td><td>2024-09-30</td><td>&quot;四&quot;</td><td>2024-10-31</td><td>45759</td><td>2588</td><td>2462</td><td>1571</td><td>16.3</td><td>5.7</td><td>2</td><td>47315</td><td>3279</td><td>2473</td><td>1268</td><td>2024-12-19</td><td>2024-12-31</td></tr></tbody></table></div>"
      ],
      "text/plain": [
       "shape: (129_399, 17)\n",
       "┌──────┬────────────┬────────────┬────────────┬───┬────────────┬───────────┬───────────┬───────────┐\n",
       "│ code ┆ settlement ┆ settlement ┆ announceme ┆ … ┆ fcst_dgr_o ┆ fcst_dgr_ ┆ col       ┆ nxt_settl │\n",
       "│ ---  ┆ _date      ┆ _type      ┆ nt_date    ┆   ┆ rdinary_pr ┆ final_pro ┆ ---       ┆ ement_dat │\n",
       "│ i64  ┆ ---        ┆ ---        ┆ ---        ┆   ┆ ofit       ┆ fit       ┆ date      ┆ e         │\n",
       "│      ┆ date       ┆ str        ┆ date       ┆   ┆ ---        ┆ ---       ┆           ┆ ---       │\n",
       "│      ┆            ┆            ┆            ┆   ┆ i64        ┆ i64       ┆           ┆ date      │\n",
       "╞══════╪════════════╪════════════╪════════════╪═══╪════════════╪═══════════╪═══════════╪═══════════╡\n",
       "│ 1301 ┆ 2019-03-31 ┆ 本         ┆ 2019-05-13 ┆ … ┆ 4444       ┆ 2649      ┆ 2020-03-2 ┆ 2020-03-3 │\n",
       "│      ┆            ┆            ┆            ┆   ┆            ┆           ┆ 5         ┆ 1         │\n",
       "│ 1301 ┆ 2019-09-30 ┆ 四         ┆ 2019-11-05 ┆ … ┆ -362       ┆ -242      ┆ 2019-12-1 ┆ 2019-12-3 │\n",
       "│      ┆            ┆            ┆            ┆   ┆            ┆           ┆ 9         ┆ 1         │\n",
       "│ 1301 ┆ 2019-12-31 ┆ 四         ┆ 2020-02-07 ┆ … ┆ 1851       ┆ 1029      ┆ 2020-03-2 ┆ 2020-03-3 │\n",
       "│      ┆            ┆            ┆            ┆   ┆            ┆           ┆ 0         ┆ 1         │\n",
       "│ 1301 ┆ 2021-03-31 ┆ 予         ┆ 2020-05-12 ┆ … ┆ 5475       ┆ 4051      ┆ 2021-06-1 ┆ 2021-06-3 │\n",
       "│      ┆            ┆            ┆            ┆   ┆            ┆           ┆ 9         ┆ 0         │\n",
       "│ 1301 ┆ 2020-03-31 ┆ 四         ┆ 2020-05-12 ┆ … ┆ 732        ┆ 174       ┆ 2020-06-1 ┆ 2020-06-3 │\n",
       "│      ┆            ┆            ┆            ┆   ┆            ┆           ┆ 9         ┆ 0         │\n",
       "│ …    ┆ …          ┆ …          ┆ …          ┆ … ┆ …          ┆ …         ┆ …         ┆ …         │\n",
       "│ 9997 ┆ 2025-03-31 ┆ 予         ┆ 2024-05-13 ┆ … ┆ 13293      ┆ 10351     ┆ 2025-06-1 ┆ 2025-06-3 │\n",
       "│      ┆            ┆            ┆            ┆   ┆            ┆           ┆ 9         ┆ 0         │\n",
       "│ 9997 ┆ 2024-03-31 ┆ 四         ┆ 2024-05-13 ┆ … ┆ 6258       ┆ -596      ┆ 2024-06-1 ┆ 2024-06-3 │\n",
       "│      ┆            ┆            ┆            ┆   ┆            ┆           ┆ 9         ┆ 0         │\n",
       "│ 9997 ┆ 2024-03-31 ┆ 本         ┆ 2024-05-13 ┆ … ┆ 11182      ┆ 4268      ┆ 2025-03-2 ┆ 2025-03-3 │\n",
       "│      ┆            ┆            ┆            ┆   ┆            ┆           ┆ 6         ┆ 1         │\n",
       "│ 9997 ┆ 2024-06-30 ┆ 四         ┆ 2024-07-31 ┆ … ┆ 1503       ┆ 608       ┆ 2024-09-1 ┆ 2024-09-3 │\n",
       "│      ┆            ┆            ┆            ┆   ┆            ┆           ┆ 8         ┆ 0         │\n",
       "│ 9997 ┆ 2024-09-30 ┆ 四         ┆ 2024-10-31 ┆ … ┆ 2473       ┆ 1268      ┆ 2024-12-1 ┆ 2024-12-3 │\n",
       "│      ┆            ┆            ┆            ┆   ┆            ┆           ┆ 9         ┆ 1         │\n",
       "└──────┴────────────┴────────────┴────────────┴───┴────────────┴───────────┴───────────┴───────────┘"
      ]
     },
     "execution_count": 2,
     "metadata": {},
     "output_type": "execute_result"
    }
   ],
   "source": [
    "# 前決算(本決算なら昨年、四半期決算なら前四半期)の昨年同期~当期までのdiff_growth_rateを使って予想したsales～final_profitまでの値列を追加する\n",
    "# 追加される列名は、fcst_dgr_{colname}\n",
    "# KessanPl.dfの各銘柄の最新決算については、翌年度の予想レコードも追加。この場合は、sales~filal_profitまでの各列はnull値とする\n",
    "#def with_columns_next_settlement_forcast_by_diff_growth_rate(self) -> None:\n",
    "\n",
    "KPL = KessanPl()\n",
    "KPL.with_columns_next_settlement_forcast_by_diff_growth_rate()\n",
    "KPL.df\n"
   ]
  },
  {
   "cell_type": "code",
   "execution_count": 5,
   "id": "c4be73f2-4638-4003-8343-49c4d591c95f",
   "metadata": {},
   "outputs": [
    {
     "data": {
      "text/html": [
       "<div><style>\n",
       ".dataframe > thead > tr,\n",
       ".dataframe > tbody > tr {\n",
       "  text-align: right;\n",
       "  white-space: pre-wrap;\n",
       "}\n",
       "</style>\n",
       "<small>shape: (99_139, 22)</small><table border=\"1\" class=\"dataframe\"><thead><tr><th>code</th><th>settlement_date</th><th>settlement_type</th><th>announcement_date</th><th>sales</th><th>operating_income</th><th>ordinary_profit</th><th>final_profit</th><th>reviced_eps</th><th>dividend</th><th>quater</th><th>yearly_settlement_date</th><th>settlement_date_right</th><th>settlement_type_right</th><th>announcement_date_right</th><th>sales_right</th><th>operating_income_right</th><th>ordinary_profit_right</th><th>final_profit_right</th><th>reviced_eps_right</th><th>dividend_right</th><th>quater_right</th></tr><tr><td>i64</td><td>date</td><td>str</td><td>date</td><td>i64</td><td>i64</td><td>i64</td><td>i64</td><td>f64</td><td>f64</td><td>i64</td><td>date</td><td>date</td><td>str</td><td>date</td><td>i64</td><td>i64</td><td>i64</td><td>i64</td><td>f64</td><td>f64</td><td>i64</td></tr></thead><tbody><tr><td>1301</td><td>2020-06-30</td><td>&quot;四&quot;</td><td>2020-08-07</td><td>54320</td><td>633</td><td>697</td><td>565</td><td>52.6</td><td>1.2</td><td>1</td><td>2021-03-31</td><td>2021-03-31</td><td>&quot;予&quot;</td><td>2020-05-12</td><td>270000</td><td>4200</td><td>4500</td><td>3000</td><td>279.2</td><td>70.0</td><td>4</td></tr><tr><td>1301</td><td>2020-09-30</td><td>&quot;四&quot;</td><td>2020-11-06</td><td>62541</td><td>746</td><td>808</td><td>1012</td><td>94.2</td><td>1.2</td><td>2</td><td>2021-03-31</td><td>2021-03-31</td><td>&quot;予&quot;</td><td>2020-05-12</td><td>270000</td><td>4200</td><td>4500</td><td>3000</td><td>279.2</td><td>70.0</td><td>4</td></tr><tr><td>1301</td><td>2020-12-31</td><td>&quot;四&quot;</td><td>2021-02-05</td><td>77527</td><td>2302</td><td>2316</td><td>1645</td><td>153.0</td><td>3.0</td><td>3</td><td>2021-03-31</td><td>2021-03-31</td><td>&quot;予&quot;</td><td>2020-05-12</td><td>270000</td><td>4200</td><td>4500</td><td>3000</td><td>279.2</td><td>70.0</td><td>4</td></tr><tr><td>1301</td><td>2021-03-31</td><td>&quot;四&quot;</td><td>2021-05-14</td><td>54809</td><td>976</td><td>1058</td><td>616</td><td>57.3</td><td>1.8</td><td>4</td><td>2021-03-31</td><td>2021-03-31</td><td>&quot;予&quot;</td><td>2020-05-12</td><td>270000</td><td>4200</td><td>4500</td><td>3000</td><td>279.2</td><td>70.0</td><td>4</td></tr><tr><td>1301</td><td>2021-03-31</td><td>&quot;本&quot;</td><td>2021-05-14</td><td>249197</td><td>4657</td><td>4879</td><td>3838</td><td>356.9</td><td>80.0</td><td>4</td><td>2021-03-31</td><td>2021-03-31</td><td>&quot;予&quot;</td><td>2020-05-12</td><td>270000</td><td>4200</td><td>4500</td><td>3000</td><td>279.2</td><td>70.0</td><td>4</td></tr><tr><td>&hellip;</td><td>&hellip;</td><td>&hellip;</td><td>&hellip;</td><td>&hellip;</td><td>&hellip;</td><td>&hellip;</td><td>&hellip;</td><td>&hellip;</td><td>&hellip;</td><td>&hellip;</td><td>&hellip;</td><td>&hellip;</td><td>&hellip;</td><td>&hellip;</td><td>&hellip;</td><td>&hellip;</td><td>&hellip;</td><td>&hellip;</td><td>&hellip;</td><td>&hellip;</td><td>&hellip;</td></tr><tr><td>9997</td><td>2024-03-31</td><td>&quot;四&quot;</td><td>2024-05-13</td><td>52020</td><td>4062</td><td>4901</td><td>758</td><td>7.8</td><td>7.8</td><td>4</td><td>2024-03-31</td><td>2024-03-31</td><td>&quot;予&quot;</td><td>2023-10-30</td><td>208500</td><td>10000</td><td>11000</td><td>7000</td><td>72.4</td><td>20.5</td><td>4</td></tr><tr><td>9997</td><td>2024-03-31</td><td>&quot;本&quot;</td><td>2024-05-13</td><td>208298</td><td>9787</td><td>11831</td><td>5839</td><td>60.4</td><td>20.5</td><td>4</td><td>2024-03-31</td><td>2024-03-31</td><td>&quot;予&quot;</td><td>2023-05-12</td><td>219000</td><td>14000</td><td>14700</td><td>9400</td><td>97.2</td><td>20.5</td><td>4</td></tr><tr><td>9997</td><td>2024-03-31</td><td>&quot;本&quot;</td><td>2024-05-13</td><td>208298</td><td>9787</td><td>11831</td><td>5839</td><td>60.4</td><td>20.5</td><td>4</td><td>2024-03-31</td><td>2024-03-31</td><td>&quot;予&quot;</td><td>2023-10-30</td><td>208500</td><td>10000</td><td>11000</td><td>7000</td><td>72.4</td><td>20.5</td><td>4</td></tr><tr><td>9997</td><td>2024-06-30</td><td>&quot;四&quot;</td><td>2024-07-31</td><td>51368</td><td>982</td><td>1681</td><td>994</td><td>10.3</td><td>1.9</td><td>1</td><td>2025-03-31</td><td>2025-03-31</td><td>&quot;予&quot;</td><td>2024-05-13</td><td>217000</td><td>11500</td><td>12500</td><td>8000</td><td>82.7</td><td>29.0</td><td>4</td></tr><tr><td>9997</td><td>2024-09-30</td><td>&quot;四&quot;</td><td>2024-10-31</td><td>45759</td><td>2588</td><td>2462</td><td>1571</td><td>16.3</td><td>5.7</td><td>2</td><td>2025-03-31</td><td>2025-03-31</td><td>&quot;予&quot;</td><td>2024-05-13</td><td>217000</td><td>11500</td><td>12500</td><td>8000</td><td>82.7</td><td>29.0</td><td>4</td></tr></tbody></table></div>"
      ],
      "text/plain": [
       "shape: (99_139, 22)\n",
       "┌──────┬────────────┬────────────┬────────────┬───┬────────────┬───────────┬───────────┬───────────┐\n",
       "│ code ┆ settlement ┆ settlement ┆ announceme ┆ … ┆ final_prof ┆ reviced_e ┆ dividend_ ┆ quater_ri │\n",
       "│ ---  ┆ _date      ┆ _type      ┆ nt_date    ┆   ┆ it_right   ┆ ps_right  ┆ right     ┆ ght       │\n",
       "│ i64  ┆ ---        ┆ ---        ┆ ---        ┆   ┆ ---        ┆ ---       ┆ ---       ┆ ---       │\n",
       "│      ┆ date       ┆ str        ┆ date       ┆   ┆ i64        ┆ f64       ┆ f64       ┆ i64       │\n",
       "╞══════╪════════════╪════════════╪════════════╪═══╪════════════╪═══════════╪═══════════╪═══════════╡\n",
       "│ 1301 ┆ 2020-06-30 ┆ 四         ┆ 2020-08-07 ┆ … ┆ 3000       ┆ 279.2     ┆ 70.0      ┆ 4         │\n",
       "│ 1301 ┆ 2020-09-30 ┆ 四         ┆ 2020-11-06 ┆ … ┆ 3000       ┆ 279.2     ┆ 70.0      ┆ 4         │\n",
       "│ 1301 ┆ 2020-12-31 ┆ 四         ┆ 2021-02-05 ┆ … ┆ 3000       ┆ 279.2     ┆ 70.0      ┆ 4         │\n",
       "│ 1301 ┆ 2021-03-31 ┆ 四         ┆ 2021-05-14 ┆ … ┆ 3000       ┆ 279.2     ┆ 70.0      ┆ 4         │\n",
       "│ 1301 ┆ 2021-03-31 ┆ 本         ┆ 2021-05-14 ┆ … ┆ 3000       ┆ 279.2     ┆ 70.0      ┆ 4         │\n",
       "│ …    ┆ …          ┆ …          ┆ …          ┆ … ┆ …          ┆ …         ┆ …         ┆ …         │\n",
       "│ 9997 ┆ 2024-03-31 ┆ 四         ┆ 2024-05-13 ┆ … ┆ 7000       ┆ 72.4      ┆ 20.5      ┆ 4         │\n",
       "│ 9997 ┆ 2024-03-31 ┆ 本         ┆ 2024-05-13 ┆ … ┆ 9400       ┆ 97.2      ┆ 20.5      ┆ 4         │\n",
       "│ 9997 ┆ 2024-03-31 ┆ 本         ┆ 2024-05-13 ┆ … ┆ 7000       ┆ 72.4      ┆ 20.5      ┆ 4         │\n",
       "│ 9997 ┆ 2024-06-30 ┆ 四         ┆ 2024-07-31 ┆ … ┆ 8000       ┆ 82.7      ┆ 29.0      ┆ 4         │\n",
       "│ 9997 ┆ 2024-09-30 ┆ 四         ┆ 2024-10-31 ┆ … ┆ 8000       ┆ 82.7      ┆ 29.0      ┆ 4         │\n",
       "└──────┴────────────┴────────────┴────────────┴───┴────────────┴───────────┴───────────┴───────────┘"
      ]
     },
     "execution_count": 5,
     "metadata": {},
     "output_type": "execute_result"
    }
   ],
   "source": [
    "fp = DATA_DIR/\"kessan.parquet\"\n",
    "df = read_data(fp)\n",
    "KPL = KessanPl(df)\n",
    "\n",
    "# KessanPl.dfの四半期決算レコード(pl.col(\"settlement_type\")==\"四\")に決算進捗率の列を追加し、四半期決算のみを抽出したレコードをセットする。\n",
    "# 追加される列は売上進捗率、営業利益進捗率、経常利益進捗率、純利益進捗率。\n",
    "# def with_columns_settlements_progress_rate(self) -> None:\n",
    "KPL.with_columns_settlements_progress_rate()\n",
    "KPL.df"
   ]
  },
  {
   "cell_type": "code",
   "execution_count": 26,
   "id": "9bb2779a-c81f-4d6e-9b62-20906f641a6b",
   "metadata": {},
   "outputs": [
    {
     "data": {
      "text/html": [
       "<div><style>\n",
       ".dataframe > thead > tr,\n",
       ".dataframe > tbody > tr {\n",
       "  text-align: right;\n",
       "  white-space: pre-wrap;\n",
       "}\n",
       "</style>\n",
       "<small>shape: (156_408, 12)</small><table border=\"1\" class=\"dataframe\"><thead><tr><th>code</th><th>settlement_date</th><th>settlement_type</th><th>announcement_date</th><th>sales</th><th>operating_income</th><th>ordinary_profit</th><th>final_profit</th><th>reviced_eps</th><th>dividend</th><th>quater</th><th>weekid</th></tr><tr><td>i64</td><td>date</td><td>str</td><td>date</td><td>i64</td><td>i64</td><td>i64</td><td>i64</td><td>f64</td><td>f64</td><td>i64</td><td>i16</td></tr></thead><tbody><tr><td>1301</td><td>2017-03-31</td><td>&quot;本&quot;</td><td>2017-05-11</td><td>236561</td><td>3723</td><td>3709</td><td>2422</td><td>230.7</td><td>60.0</td><td>-2</td><td>10</td></tr><tr><td>1301</td><td>2018-03-31</td><td>&quot;本&quot;</td><td>2018-05-10</td><td>254783</td><td>4066</td><td>4437</td><td>3211</td><td>304.3</td><td>60.0</td><td>4</td><td>62</td></tr><tr><td>1301</td><td>2018-09-30</td><td>&quot;四&quot;</td><td>2018-11-05</td><td>61245</td><td>507</td><td>595</td><td>269</td><td>24.9</td><td>0.8</td><td>2</td><td>88</td></tr><tr><td>1301</td><td>2018-12-31</td><td>&quot;四&quot;</td><td>2019-02-08</td><td>78581</td><td>2208</td><td>2591</td><td>1677</td><td>155.2</td><td>2.8</td><td>3</td><td>101</td></tr><tr><td>1301</td><td>2019-03-31</td><td>&quot;本&quot;</td><td>2019-05-13</td><td>256151</td><td>3831</td><td>4434</td><td>2914</td><td>269.6</td><td>70.0</td><td>4</td><td>115</td></tr><tr><td>&hellip;</td><td>&hellip;</td><td>&hellip;</td><td>&hellip;</td><td>&hellip;</td><td>&hellip;</td><td>&hellip;</td><td>&hellip;</td><td>&hellip;</td><td>&hellip;</td><td>&hellip;</td><td>&hellip;</td></tr><tr><td>9997</td><td>2024-03-31</td><td>&quot;四&quot;</td><td>2024-05-13</td><td>52020</td><td>4062</td><td>4901</td><td>758</td><td>7.8</td><td>7.8</td><td>4</td><td>376</td></tr><tr><td>9997</td><td>2024-03-31</td><td>&quot;本&quot;</td><td>2024-05-13</td><td>208298</td><td>9787</td><td>11831</td><td>5839</td><td>60.4</td><td>20.5</td><td>4</td><td>376</td></tr><tr><td>9997</td><td>2025-03-31</td><td>&quot;予&quot;</td><td>2024-05-13</td><td>217000</td><td>11500</td><td>12500</td><td>8000</td><td>82.7</td><td>29.0</td><td>4</td><td>376</td></tr><tr><td>9997</td><td>2024-06-30</td><td>&quot;四&quot;</td><td>2024-07-31</td><td>51368</td><td>982</td><td>1681</td><td>994</td><td>10.3</td><td>1.9</td><td>1</td><td>387</td></tr><tr><td>9997</td><td>2024-09-30</td><td>&quot;四&quot;</td><td>2024-10-31</td><td>45759</td><td>2588</td><td>2462</td><td>1571</td><td>16.3</td><td>5.7</td><td>2</td><td>400</td></tr></tbody></table></div>"
      ],
      "text/plain": [
       "shape: (156_408, 12)\n",
       "┌──────┬──────────────┬──────────────┬──────────────┬───┬─────────────┬──────────┬────────┬────────┐\n",
       "│ code ┆ settlement_d ┆ settlement_t ┆ announcement ┆ … ┆ reviced_eps ┆ dividend ┆ quater ┆ weekid │\n",
       "│ ---  ┆ ate          ┆ ype          ┆ _date        ┆   ┆ ---         ┆ ---      ┆ ---    ┆ ---    │\n",
       "│ i64  ┆ ---          ┆ ---          ┆ ---          ┆   ┆ f64         ┆ f64      ┆ i64    ┆ i16    │\n",
       "│      ┆ date         ┆ str          ┆ date         ┆   ┆             ┆          ┆        ┆        │\n",
       "╞══════╪══════════════╪══════════════╪══════════════╪═══╪═════════════╪══════════╪════════╪════════╡\n",
       "│ 1301 ┆ 2017-03-31   ┆ 本           ┆ 2017-05-11   ┆ … ┆ 230.7       ┆ 60.0     ┆ -2     ┆ 10     │\n",
       "│ 1301 ┆ 2018-03-31   ┆ 本           ┆ 2018-05-10   ┆ … ┆ 304.3       ┆ 60.0     ┆ 4      ┆ 62     │\n",
       "│ 1301 ┆ 2018-09-30   ┆ 四           ┆ 2018-11-05   ┆ … ┆ 24.9        ┆ 0.8      ┆ 2      ┆ 88     │\n",
       "│ 1301 ┆ 2018-12-31   ┆ 四           ┆ 2019-02-08   ┆ … ┆ 155.2       ┆ 2.8      ┆ 3      ┆ 101    │\n",
       "│ 1301 ┆ 2019-03-31   ┆ 本           ┆ 2019-05-13   ┆ … ┆ 269.6       ┆ 70.0     ┆ 4      ┆ 115    │\n",
       "│ …    ┆ …            ┆ …            ┆ …            ┆ … ┆ …           ┆ …        ┆ …      ┆ …      │\n",
       "│ 9997 ┆ 2024-03-31   ┆ 四           ┆ 2024-05-13   ┆ … ┆ 7.8         ┆ 7.8      ┆ 4      ┆ 376    │\n",
       "│ 9997 ┆ 2024-03-31   ┆ 本           ┆ 2024-05-13   ┆ … ┆ 60.4        ┆ 20.5     ┆ 4      ┆ 376    │\n",
       "│ 9997 ┆ 2025-03-31   ┆ 予           ┆ 2024-05-13   ┆ … ┆ 82.7        ┆ 29.0     ┆ 4      ┆ 376    │\n",
       "│ 9997 ┆ 2024-06-30   ┆ 四           ┆ 2024-07-31   ┆ … ┆ 10.3        ┆ 1.9      ┆ 1      ┆ 387    │\n",
       "│ 9997 ┆ 2024-09-30   ┆ 四           ┆ 2024-10-31   ┆ … ┆ 16.3        ┆ 5.7      ┆ 2      ┆ 400    │\n",
       "└──────┴──────────────┴──────────────┴──────────────┴───┴─────────────┴──────────┴────────┴────────┘"
      ]
     },
     "execution_count": 26,
     "metadata": {},
     "output_type": "execute_result"
    }
   ],
   "source": [
    "fp = DATA_DIR/\"kessan.parquet\"\n",
    "df = read_data(fp)\n",
    "KPL = KessanPl(df)\n",
    "\n",
    "# 週でグループ化できるように、日付から週グループのインデックス列を追加する\n",
    "# dailyのdfとweeklyのdfを紐づける(joinする)ときに便利。\n",
    "# KessanPl.dfに列を追加する\n",
    "#def with_columns_weekid(self) -> None:\n",
    "\n",
    "KPL.with_columns_weekid()\n",
    "KPL.df"
   ]
  },
  {
   "cell_type": "code",
   "execution_count": 4,
   "id": "da69f815-aa2c-49d1-bce0-171dc7d26ea7",
   "metadata": {},
   "outputs": [
    {
     "data": {
      "text/html": [
       "<div><style>\n",
       ".dataframe > thead > tr,\n",
       ".dataframe > tbody > tr {\n",
       "  text-align: right;\n",
       "  white-space: pre-wrap;\n",
       "}\n",
       "</style>\n",
       "<small>shape: (156_408, 12)</small><table border=\"1\" class=\"dataframe\"><thead><tr><th>code</th><th>settlement_date</th><th>settlement_type</th><th>announcement_date</th><th>sales</th><th>operating_income</th><th>ordinary_profit</th><th>final_profit</th><th>reviced_eps</th><th>dividend</th><th>quater</th><th>yearly_settlement_date</th></tr><tr><td>i64</td><td>date</td><td>str</td><td>date</td><td>i64</td><td>i64</td><td>i64</td><td>i64</td><td>f64</td><td>f64</td><td>i64</td><td>date</td></tr></thead><tbody><tr><td>1301</td><td>2017-03-31</td><td>&quot;本&quot;</td><td>2017-05-11</td><td>236561</td><td>3723</td><td>3709</td><td>2422</td><td>230.7</td><td>60.0</td><td>-2</td><td>2017-03-31</td></tr><tr><td>1301</td><td>2018-03-31</td><td>&quot;本&quot;</td><td>2018-05-10</td><td>254783</td><td>4066</td><td>4437</td><td>3211</td><td>304.3</td><td>60.0</td><td>4</td><td>2018-03-31</td></tr><tr><td>1301</td><td>2018-09-30</td><td>&quot;四&quot;</td><td>2018-11-05</td><td>61245</td><td>507</td><td>595</td><td>269</td><td>24.9</td><td>0.8</td><td>2</td><td>2019-03-31</td></tr><tr><td>1301</td><td>2018-12-31</td><td>&quot;四&quot;</td><td>2019-02-08</td><td>78581</td><td>2208</td><td>2591</td><td>1677</td><td>155.2</td><td>2.8</td><td>3</td><td>2019-03-31</td></tr><tr><td>1301</td><td>2019-03-31</td><td>&quot;四&quot;</td><td>2019-05-13</td><td>58368</td><td>551</td><td>511</td><td>413</td><td>38.2</td><td>0.9</td><td>4</td><td>2019-03-31</td></tr><tr><td>&hellip;</td><td>&hellip;</td><td>&hellip;</td><td>&hellip;</td><td>&hellip;</td><td>&hellip;</td><td>&hellip;</td><td>&hellip;</td><td>&hellip;</td><td>&hellip;</td><td>&hellip;</td><td>&hellip;</td></tr><tr><td>9997</td><td>2024-03-31</td><td>&quot;四&quot;</td><td>2024-05-13</td><td>52020</td><td>4062</td><td>4901</td><td>758</td><td>7.8</td><td>7.8</td><td>4</td><td>2024-03-31</td></tr><tr><td>9997</td><td>2024-03-31</td><td>&quot;本&quot;</td><td>2024-05-13</td><td>208298</td><td>9787</td><td>11831</td><td>5839</td><td>60.4</td><td>20.5</td><td>4</td><td>2024-03-31</td></tr><tr><td>9997</td><td>2025-03-31</td><td>&quot;予&quot;</td><td>2024-05-13</td><td>217000</td><td>11500</td><td>12500</td><td>8000</td><td>82.7</td><td>29.0</td><td>4</td><td>2025-03-31</td></tr><tr><td>9997</td><td>2024-06-30</td><td>&quot;四&quot;</td><td>2024-07-31</td><td>51368</td><td>982</td><td>1681</td><td>994</td><td>10.3</td><td>1.9</td><td>1</td><td>2025-03-31</td></tr><tr><td>9997</td><td>2024-09-30</td><td>&quot;四&quot;</td><td>2024-10-31</td><td>45759</td><td>2588</td><td>2462</td><td>1571</td><td>16.3</td><td>5.7</td><td>2</td><td>2025-03-31</td></tr></tbody></table></div>"
      ],
      "text/plain": [
       "shape: (156_408, 12)\n",
       "┌──────┬─────────────┬─────────────┬─────────────┬───┬────────────┬──────────┬────────┬────────────┐\n",
       "│ code ┆ settlement_ ┆ settlement_ ┆ announcemen ┆ … ┆ reviced_ep ┆ dividend ┆ quater ┆ yearly_set │\n",
       "│ ---  ┆ date        ┆ type        ┆ t_date      ┆   ┆ s          ┆ ---      ┆ ---    ┆ tlement_da │\n",
       "│ i64  ┆ ---         ┆ ---         ┆ ---         ┆   ┆ ---        ┆ f64      ┆ i64    ┆ te         │\n",
       "│      ┆ date        ┆ str         ┆ date        ┆   ┆ f64        ┆          ┆        ┆ ---        │\n",
       "│      ┆             ┆             ┆             ┆   ┆            ┆          ┆        ┆ date       │\n",
       "╞══════╪═════════════╪═════════════╪═════════════╪═══╪════════════╪══════════╪════════╪════════════╡\n",
       "│ 1301 ┆ 2017-03-31  ┆ 本          ┆ 2017-05-11  ┆ … ┆ 230.7      ┆ 60.0     ┆ -2     ┆ 2017-03-31 │\n",
       "│ 1301 ┆ 2018-03-31  ┆ 本          ┆ 2018-05-10  ┆ … ┆ 304.3      ┆ 60.0     ┆ 4      ┆ 2018-03-31 │\n",
       "│ 1301 ┆ 2018-09-30  ┆ 四          ┆ 2018-11-05  ┆ … ┆ 24.9       ┆ 0.8      ┆ 2      ┆ 2019-03-31 │\n",
       "│ 1301 ┆ 2018-12-31  ┆ 四          ┆ 2019-02-08  ┆ … ┆ 155.2      ┆ 2.8      ┆ 3      ┆ 2019-03-31 │\n",
       "│ 1301 ┆ 2019-03-31  ┆ 四          ┆ 2019-05-13  ┆ … ┆ 38.2       ┆ 0.9      ┆ 4      ┆ 2019-03-31 │\n",
       "│ …    ┆ …           ┆ …           ┆ …           ┆ … ┆ …          ┆ …        ┆ …      ┆ …          │\n",
       "│ 9997 ┆ 2024-03-31  ┆ 四          ┆ 2024-05-13  ┆ … ┆ 7.8        ┆ 7.8      ┆ 4      ┆ 2024-03-31 │\n",
       "│ 9997 ┆ 2024-03-31  ┆ 本          ┆ 2024-05-13  ┆ … ┆ 60.4       ┆ 20.5     ┆ 4      ┆ 2024-03-31 │\n",
       "│ 9997 ┆ 2025-03-31  ┆ 予          ┆ 2024-05-13  ┆ … ┆ 82.7       ┆ 29.0     ┆ 4      ┆ 2025-03-31 │\n",
       "│ 9997 ┆ 2024-06-30  ┆ 四          ┆ 2024-07-31  ┆ … ┆ 10.3       ┆ 1.9      ┆ 1      ┆ 2025-03-31 │\n",
       "│ 9997 ┆ 2024-09-30  ┆ 四          ┆ 2024-10-31  ┆ … ┆ 16.3       ┆ 5.7      ┆ 2      ┆ 2025-03-31 │\n",
       "└──────┴─────────────┴─────────────┴─────────────┴───┴────────────┴──────────┴────────┴────────────┘"
      ]
     },
     "execution_count": 4,
     "metadata": {},
     "output_type": "execute_result"
    }
   ],
   "source": [
    "fp = DATA_DIR/\"kessan.parquet\"\n",
    "df = read_data(fp)\n",
    "KPL = KessanPl(df)\n",
    "\n",
    "# KessanPl.dfの最終列に、年度決算日\"yearly_settlement_date\"列を追加する\n",
    "# 四半期決算の場合、四半期決算締め日がはいっているが、それが何年何月期の四半期決算かわかるようにするため。\n",
    "# def with_columns_yearly_settlement_date(self) -> None:\n",
    "KPL.with_columns_yearly_settlement_date()\n",
    "KPL.df"
   ]
  },
  {
   "cell_type": "code",
   "execution_count": 27,
   "id": "f3128e27-371c-4128-b3d9-44bb8fff359e",
   "metadata": {},
   "outputs": [
    {
     "data": {
      "text/html": [
       "<div><style>\n",
       ".dataframe > thead > tr,\n",
       ".dataframe > tbody > tr {\n",
       "  text-align: right;\n",
       "  white-space: pre-wrap;\n",
       "}\n",
       "</style>\n",
       "<small>shape: (1_503, 11)</small><table border=\"1\" class=\"dataframe\"><thead><tr><th>code</th><th>settlement_date</th><th>settlement_type</th><th>announcement_date</th><th>sales</th><th>operating_income</th><th>ordinary_profit</th><th>final_profit</th><th>reviced_eps</th><th>dividend</th><th>quater</th></tr><tr><td>i64</td><td>date</td><td>str</td><td>date</td><td>i64</td><td>i64</td><td>i64</td><td>i64</td><td>f64</td><td>f64</td><td>i64</td></tr></thead><tbody><tr><td>1375</td><td>2019-12-31</td><td>&quot;四&quot;</td><td>2020-02-29</td><td>17366</td><td>3500</td><td>3435</td><td>2180</td><td>54.7</td><td>20.2</td><td>3</td></tr><tr><td>1375</td><td>2020-06-30</td><td>&quot;四&quot;</td><td>2020-08-29</td><td>10624</td><td>909</td><td>775</td><td>487</td><td>12.2</td><td>8.6</td><td>1</td></tr><tr><td>1375</td><td>2020-03-31</td><td>&quot;四&quot;</td><td>2020-05-30</td><td>12033</td><td>438</td><td>749</td><td>566</td><td>14.2</td><td>3.6</td><td>4</td></tr><tr><td>1375</td><td>2019-03-31</td><td>&quot;本&quot;</td><td>2019-05-30</td><td>47592</td><td>6491</td><td>6321</td><td>4389</td><td>110.2</td><td>0.0</td><td>-2</td></tr><tr><td>1375</td><td>2020-03-31</td><td>&quot;本&quot;</td><td>2020-05-30</td><td>50759</td><td>6691</td><td>6646</td><td>4346</td><td>109.1</td><td>4230.0</td><td>4</td></tr><tr><td>&hellip;</td><td>&hellip;</td><td>&hellip;</td><td>&hellip;</td><td>&hellip;</td><td>&hellip;</td><td>&hellip;</td><td>&hellip;</td><td>&hellip;</td><td>&hellip;</td><td>&hellip;</td></tr><tr><td>9564</td><td>2020-09-30</td><td>&quot;本&quot;</td><td>2020-11-29</td><td>3312</td><td>217</td><td>231</td><td>120</td><td>40.2</td><td>3015.0</td><td>-2</td></tr><tr><td>9565</td><td>2020-10-31</td><td>&quot;本&quot;</td><td>2020-12-30</td><td>831</td><td>4</td><td>8</td><td>-8</td><td>-3.2</td><td>0.0</td><td>-2</td></tr><tr><td>9565</td><td>2021-10-31</td><td>&quot;本&quot;</td><td>2021-12-30</td><td>1671</td><td>128</td><td>131</td><td>82</td><td>32.9</td><td>0.0</td><td>4</td></tr><tr><td>9636</td><td>2020-07-31</td><td>&quot;四&quot;</td><td>2020-09-29</td><td>552</td><td>-14</td><td>-4</td><td>-5</td><td>-1.8</td><td>-2.5</td><td>2</td></tr><tr><td>9828</td><td>2022-06-30</td><td>&quot;四&quot;</td><td>2022-08-29</td><td>12644</td><td>538</td><td>542</td><td>576</td><td>65.3</td><td>4.3</td><td>1</td></tr></tbody></table></div>"
      ],
      "text/plain": [
       "shape: (1_503, 11)\n",
       "┌──────┬─────────────┬─────────────┬─────────────┬───┬────────────┬────────────┬──────────┬────────┐\n",
       "│ code ┆ settlement_ ┆ settlement_ ┆ announcemen ┆ … ┆ final_prof ┆ reviced_ep ┆ dividend ┆ quater │\n",
       "│ ---  ┆ date        ┆ type        ┆ t_date      ┆   ┆ it         ┆ s          ┆ ---      ┆ ---    │\n",
       "│ i64  ┆ ---         ┆ ---         ┆ ---         ┆   ┆ ---        ┆ ---        ┆ f64      ┆ i64    │\n",
       "│      ┆ date        ┆ str         ┆ date        ┆   ┆ i64        ┆ f64        ┆          ┆        │\n",
       "╞══════╪═════════════╪═════════════╪═════════════╪═══╪════════════╪════════════╪══════════╪════════╡\n",
       "│ 1375 ┆ 2019-12-31  ┆ 四          ┆ 2020-02-29  ┆ … ┆ 2180       ┆ 54.7       ┆ 20.2     ┆ 3      │\n",
       "│ 1375 ┆ 2020-06-30  ┆ 四          ┆ 2020-08-29  ┆ … ┆ 487        ┆ 12.2       ┆ 8.6      ┆ 1      │\n",
       "│ 1375 ┆ 2020-03-31  ┆ 四          ┆ 2020-05-30  ┆ … ┆ 566        ┆ 14.2       ┆ 3.6      ┆ 4      │\n",
       "│ 1375 ┆ 2019-03-31  ┆ 本          ┆ 2019-05-30  ┆ … ┆ 4389       ┆ 110.2      ┆ 0.0      ┆ -2     │\n",
       "│ 1375 ┆ 2020-03-31  ┆ 本          ┆ 2020-05-30  ┆ … ┆ 4346       ┆ 109.1      ┆ 4230.0   ┆ 4      │\n",
       "│ …    ┆ …           ┆ …           ┆ …           ┆ … ┆ …          ┆ …          ┆ …        ┆ …      │\n",
       "│ 9564 ┆ 2020-09-30  ┆ 本          ┆ 2020-11-29  ┆ … ┆ 120        ┆ 40.2       ┆ 3015.0   ┆ -2     │\n",
       "│ 9565 ┆ 2020-10-31  ┆ 本          ┆ 2020-12-30  ┆ … ┆ -8         ┆ -3.2       ┆ 0.0      ┆ -2     │\n",
       "│ 9565 ┆ 2021-10-31  ┆ 本          ┆ 2021-12-30  ┆ … ┆ 82         ┆ 32.9       ┆ 0.0      ┆ 4      │\n",
       "│ 9636 ┆ 2020-07-31  ┆ 四          ┆ 2020-09-29  ┆ … ┆ -5         ┆ -1.8       ┆ -2.5     ┆ 2      │\n",
       "│ 9828 ┆ 2022-06-30  ┆ 四          ┆ 2022-08-29  ┆ … ┆ 576        ┆ 65.3       ┆ 4.3      ┆ 1      │\n",
       "└──────┴─────────────┴─────────────┴─────────────┴───┴────────────┴────────────┴──────────┴────────┘"
      ]
     },
     "execution_count": 27,
     "metadata": {},
     "output_type": "execute_result"
    }
   ],
   "source": [
    "fp = DATA_DIR/\"kessan.parquet\"\n",
    "df = read_data(fp)\n",
    "KPL = KessanPl(df)\n",
    "\n",
    "# scrapingの際、正しく決算発表日が取得できなかったレコードを、仮にdate(1900, 1, 1)としstockdbにinsertされているが、\n",
    "# これだとうまく解析ができないため、KessanPl.dfの該当レコードの決算発表日を一旦仮で決算日の60日後で書き換える。\n",
    "#def _revice_irregular_announcement_date(self) -> None:\n",
    "KPL._revice_irregular_announcement_date()\n",
    "KPL.df.filter((pl.col(\"announcement_date\")-pl.col(\"settlement_date\"))==pl.duration(days=60))"
   ]
  },
  {
   "cell_type": "code",
   "execution_count": null,
   "id": "43e5c652-5870-4eaa-98cb-3ecaa80e2c79",
   "metadata": {},
   "outputs": [],
   "source": []
  }
 ],
 "metadata": {
  "kernelspec": {
   "display_name": "Python 3 (ipykernel)",
   "language": "python",
   "name": "python3"
  },
  "language_info": {
   "codemirror_mode": {
    "name": "ipython",
    "version": 3
   },
   "file_extension": ".py",
   "mimetype": "text/x-python",
   "name": "python",
   "nbconvert_exporter": "python",
   "pygments_lexer": "ipython3",
   "version": "3.12.3"
  }
 },
 "nbformat": 4,
 "nbformat_minor": 5
}
