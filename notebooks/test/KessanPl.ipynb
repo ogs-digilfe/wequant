{
 "cells": [
  {
   "cell_type": "code",
   "execution_count": 1,
   "id": "59f84bdd-3e0f-4c50-9cfe-9bb5c33269c6",
   "metadata": {},
   "outputs": [],
   "source": [
    "from pathlib import Path\n",
    "import os, sys\n",
    "\n",
    "CURRENT_DIR = Path(os.getcwd())\n",
    "PJ_DIR = CURRENT_DIR.parent.parent\n",
    "LIB_DIR = PJ_DIR / \"lib\"\n",
    "DATA_DIR = PJ_DIR / \"data\" \n",
    "\n",
    "sys.path.append(str(LIB_DIR))"
   ]
  },
  {
   "cell_type": "code",
   "execution_count": 2,
   "id": "e2032c2e-0bc3-4b69-9ba8-aed187cb7223",
   "metadata": {},
   "outputs": [],
   "source": [
    "from lib_dataprocess import KessanPl, read_data"
   ]
  },
  {
   "cell_type": "code",
   "execution_count": 3,
   "id": "940bfaa0-6597-4f97-a9ef-cfa7fdb6dbe3",
   "metadata": {},
   "outputs": [
    {
     "data": {
      "text/html": [
       "<div><style>\n",
       ".dataframe > thead > tr,\n",
       ".dataframe > tbody > tr {\n",
       "  text-align: right;\n",
       "  white-space: pre-wrap;\n",
       "}\n",
       "</style>\n",
       "<small>shape: (162_653, 11)</small><table border=\"1\" class=\"dataframe\"><thead><tr><th>code</th><th>settlement_date</th><th>settlement_type</th><th>announcement_date</th><th>sales</th><th>operating_income</th><th>ordinary_profit</th><th>final_profit</th><th>reviced_eps</th><th>dividend</th><th>quater</th></tr><tr><td>i64</td><td>date</td><td>str</td><td>date</td><td>i64</td><td>i64</td><td>i64</td><td>i64</td><td>f64</td><td>f64</td><td>i64</td></tr></thead><tbody><tr><td>1301</td><td>2017-03-31</td><td>&quot;本&quot;</td><td>2017-05-11</td><td>236561</td><td>3723</td><td>3709</td><td>2422</td><td>230.7</td><td>60.0</td><td>-2</td></tr><tr><td>1301</td><td>2018-03-31</td><td>&quot;本&quot;</td><td>2018-05-10</td><td>254783</td><td>4066</td><td>4437</td><td>3211</td><td>304.3</td><td>60.0</td><td>4</td></tr><tr><td>1301</td><td>2018-09-30</td><td>&quot;四&quot;</td><td>2018-11-05</td><td>61245</td><td>507</td><td>595</td><td>269</td><td>24.9</td><td>0.8</td><td>2</td></tr><tr><td>1301</td><td>2018-12-31</td><td>&quot;四&quot;</td><td>2019-02-08</td><td>78581</td><td>2208</td><td>2591</td><td>1677</td><td>155.2</td><td>2.8</td><td>3</td></tr><tr><td>1301</td><td>2019-03-31</td><td>&quot;四&quot;</td><td>2019-05-13</td><td>58368</td><td>551</td><td>511</td><td>413</td><td>38.2</td><td>0.9</td><td>4</td></tr><tr><td>&hellip;</td><td>&hellip;</td><td>&hellip;</td><td>&hellip;</td><td>&hellip;</td><td>&hellip;</td><td>&hellip;</td><td>&hellip;</td><td>&hellip;</td><td>&hellip;</td><td>&hellip;</td></tr><tr><td>9997</td><td>2024-03-31</td><td>&quot;四&quot;</td><td>2024-05-13</td><td>52020</td><td>4062</td><td>4901</td><td>758</td><td>7.8</td><td>7.8</td><td>4</td></tr><tr><td>9997</td><td>2024-03-31</td><td>&quot;本&quot;</td><td>2024-05-13</td><td>208298</td><td>9787</td><td>11831</td><td>5839</td><td>60.4</td><td>20.5</td><td>4</td></tr><tr><td>9997</td><td>2024-06-30</td><td>&quot;四&quot;</td><td>2024-07-31</td><td>51368</td><td>982</td><td>1681</td><td>994</td><td>10.3</td><td>1.9</td><td>1</td></tr><tr><td>9997</td><td>2024-09-30</td><td>&quot;四&quot;</td><td>2024-10-31</td><td>45759</td><td>2588</td><td>2462</td><td>1571</td><td>16.3</td><td>5.7</td><td>2</td></tr><tr><td>9997</td><td>2025-03-31</td><td>&quot;予&quot;</td><td>2024-05-13</td><td>217000</td><td>11500</td><td>12500</td><td>8000</td><td>82.7</td><td>29.0</td><td>4</td></tr></tbody></table></div>"
      ],
      "text/plain": [
       "shape: (162_653, 11)\n",
       "┌──────┬─────────────┬─────────────┬─────────────┬───┬────────────┬────────────┬──────────┬────────┐\n",
       "│ code ┆ settlement_ ┆ settlement_ ┆ announcemen ┆ … ┆ final_prof ┆ reviced_ep ┆ dividend ┆ quater │\n",
       "│ ---  ┆ date        ┆ type        ┆ t_date      ┆   ┆ it         ┆ s          ┆ ---      ┆ ---    │\n",
       "│ i64  ┆ ---         ┆ ---         ┆ ---         ┆   ┆ ---        ┆ ---        ┆ f64      ┆ i64    │\n",
       "│      ┆ date        ┆ str         ┆ date        ┆   ┆ i64        ┆ f64        ┆          ┆        │\n",
       "╞══════╪═════════════╪═════════════╪═════════════╪═══╪════════════╪════════════╪══════════╪════════╡\n",
       "│ 1301 ┆ 2017-03-31  ┆ 本          ┆ 2017-05-11  ┆ … ┆ 2422       ┆ 230.7      ┆ 60.0     ┆ -2     │\n",
       "│ 1301 ┆ 2018-03-31  ┆ 本          ┆ 2018-05-10  ┆ … ┆ 3211       ┆ 304.3      ┆ 60.0     ┆ 4      │\n",
       "│ 1301 ┆ 2018-09-30  ┆ 四          ┆ 2018-11-05  ┆ … ┆ 269        ┆ 24.9       ┆ 0.8      ┆ 2      │\n",
       "│ 1301 ┆ 2018-12-31  ┆ 四          ┆ 2019-02-08  ┆ … ┆ 1677       ┆ 155.2      ┆ 2.8      ┆ 3      │\n",
       "│ 1301 ┆ 2019-03-31  ┆ 四          ┆ 2019-05-13  ┆ … ┆ 413        ┆ 38.2       ┆ 0.9      ┆ 4      │\n",
       "│ …    ┆ …           ┆ …           ┆ …           ┆ … ┆ …          ┆ …          ┆ …        ┆ …      │\n",
       "│ 9997 ┆ 2024-03-31  ┆ 四          ┆ 2024-05-13  ┆ … ┆ 758        ┆ 7.8        ┆ 7.8      ┆ 4      │\n",
       "│ 9997 ┆ 2024-03-31  ┆ 本          ┆ 2024-05-13  ┆ … ┆ 5839       ┆ 60.4       ┆ 20.5     ┆ 4      │\n",
       "│ 9997 ┆ 2024-06-30  ┆ 四          ┆ 2024-07-31  ┆ … ┆ 994        ┆ 10.3       ┆ 1.9      ┆ 1      │\n",
       "│ 9997 ┆ 2024-09-30  ┆ 四          ┆ 2024-10-31  ┆ … ┆ 1571       ┆ 16.3       ┆ 5.7      ┆ 2      │\n",
       "│ 9997 ┆ 2025-03-31  ┆ 予          ┆ 2024-05-13  ┆ … ┆ 8000       ┆ 82.7       ┆ 29.0     ┆ 4      │\n",
       "└──────┴─────────────┴─────────────┴─────────────┴───┴────────────┴────────────┴──────────┴────────┘"
      ]
     },
     "execution_count": 3,
     "metadata": {},
     "output_type": "execute_result"
    }
   ],
   "source": [
    "fp = DATA_DIR/\"kessan.parquet\"\n",
    "df = read_data(fp)\n",
    "KPL = KessanPl(df)\n",
    "KPL.df"
   ]
  },
  {
   "cell_type": "code",
   "execution_count": 7,
   "id": "464cb78d-7035-44d8-973e-02bf999067e9",
   "metadata": {
    "scrolled": true
   },
   "outputs": [
    {
     "data": {
      "text/html": [
       "<div><style>\n",
       ".dataframe > thead > tr,\n",
       ".dataframe > tbody > tr {\n",
       "  text-align: right;\n",
       "  white-space: pre-wrap;\n",
       "}\n",
       "</style>\n",
       "<small>shape: (97_780, 11)</small><table border=\"1\" class=\"dataframe\"><thead><tr><th>code</th><th>settlement_date</th><th>settlement_type</th><th>announcement_date</th><th>sales</th><th>operating_income</th><th>ordinary_profit</th><th>final_profit</th><th>reviced_eps</th><th>dividend</th><th>quater</th></tr><tr><td>i64</td><td>date</td><td>str</td><td>date</td><td>i64</td><td>i64</td><td>i64</td><td>i64</td><td>f64</td><td>f64</td><td>i64</td></tr></thead><tbody><tr><td>1301</td><td>2018-09-30</td><td>&quot;四&quot;</td><td>2018-11-05</td><td>61245</td><td>507</td><td>595</td><td>269</td><td>24.9</td><td>0.8</td><td>2</td></tr><tr><td>1301</td><td>2018-12-31</td><td>&quot;四&quot;</td><td>2019-02-08</td><td>78581</td><td>2208</td><td>2591</td><td>1677</td><td>155.2</td><td>2.8</td><td>3</td></tr><tr><td>1301</td><td>2019-03-31</td><td>&quot;四&quot;</td><td>2019-05-13</td><td>58368</td><td>551</td><td>511</td><td>413</td><td>38.2</td><td>0.9</td><td>4</td></tr><tr><td>1301</td><td>2019-06-30</td><td>&quot;四&quot;</td><td>2019-08-02</td><td>62644</td><td>770</td><td>1015</td><td>706</td><td>65.3</td><td>1.2</td><td>1</td></tr><tr><td>1301</td><td>2019-09-30</td><td>&quot;四&quot;</td><td>2019-11-05</td><td>64240</td><td>-35</td><td>113</td><td>4</td><td>0.4</td><td>-0.1</td><td>2</td></tr><tr><td>&hellip;</td><td>&hellip;</td><td>&hellip;</td><td>&hellip;</td><td>&hellip;</td><td>&hellip;</td><td>&hellip;</td><td>&hellip;</td><td>&hellip;</td><td>&hellip;</td><td>&hellip;</td></tr><tr><td>9997</td><td>2023-09-30</td><td>&quot;四&quot;</td><td>2023-10-31</td><td>44263</td><td>1939</td><td>2466</td><td>1878</td><td>19.4</td><td>4.4</td><td>2</td></tr><tr><td>9997</td><td>2023-12-31</td><td>&quot;四&quot;</td><td>2024-01-31</td><td>60173</td><td>2630</td><td>2605</td><td>1818</td><td>18.8</td><td>4.4</td><td>3</td></tr><tr><td>9997</td><td>2024-03-31</td><td>&quot;四&quot;</td><td>2024-05-13</td><td>52020</td><td>4062</td><td>4901</td><td>758</td><td>7.8</td><td>7.8</td><td>4</td></tr><tr><td>9997</td><td>2024-06-30</td><td>&quot;四&quot;</td><td>2024-07-31</td><td>51368</td><td>982</td><td>1681</td><td>994</td><td>10.3</td><td>1.9</td><td>1</td></tr><tr><td>9997</td><td>2024-09-30</td><td>&quot;四&quot;</td><td>2024-10-31</td><td>45759</td><td>2588</td><td>2462</td><td>1571</td><td>16.3</td><td>5.7</td><td>2</td></tr></tbody></table></div>"
      ],
      "text/plain": [
       "shape: (97_780, 11)\n",
       "┌──────┬─────────────┬─────────────┬─────────────┬───┬────────────┬────────────┬──────────┬────────┐\n",
       "│ code ┆ settlement_ ┆ settlement_ ┆ announcemen ┆ … ┆ final_prof ┆ reviced_ep ┆ dividend ┆ quater │\n",
       "│ ---  ┆ date        ┆ type        ┆ t_date      ┆   ┆ it         ┆ s          ┆ ---      ┆ ---    │\n",
       "│ i64  ┆ ---         ┆ ---         ┆ ---         ┆   ┆ ---        ┆ ---        ┆ f64      ┆ i64    │\n",
       "│      ┆ date        ┆ str         ┆ date        ┆   ┆ i64        ┆ f64        ┆          ┆        │\n",
       "╞══════╪═════════════╪═════════════╪═════════════╪═══╪════════════╪════════════╪══════════╪════════╡\n",
       "│ 1301 ┆ 2018-09-30  ┆ 四          ┆ 2018-11-05  ┆ … ┆ 269        ┆ 24.9       ┆ 0.8      ┆ 2      │\n",
       "│ 1301 ┆ 2018-12-31  ┆ 四          ┆ 2019-02-08  ┆ … ┆ 1677       ┆ 155.2      ┆ 2.8      ┆ 3      │\n",
       "│ 1301 ┆ 2019-03-31  ┆ 四          ┆ 2019-05-13  ┆ … ┆ 413        ┆ 38.2       ┆ 0.9      ┆ 4      │\n",
       "│ 1301 ┆ 2019-06-30  ┆ 四          ┆ 2019-08-02  ┆ … ┆ 706        ┆ 65.3       ┆ 1.2      ┆ 1      │\n",
       "│ 1301 ┆ 2019-09-30  ┆ 四          ┆ 2019-11-05  ┆ … ┆ 4          ┆ 0.4        ┆ -0.1     ┆ 2      │\n",
       "│ …    ┆ …           ┆ …           ┆ …           ┆ … ┆ …          ┆ …          ┆ …        ┆ …      │\n",
       "│ 9997 ┆ 2023-09-30  ┆ 四          ┆ 2023-10-31  ┆ … ┆ 1878       ┆ 19.4       ┆ 4.4      ┆ 2      │\n",
       "│ 9997 ┆ 2023-12-31  ┆ 四          ┆ 2024-01-31  ┆ … ┆ 1818       ┆ 18.8       ┆ 4.4      ┆ 3      │\n",
       "│ 9997 ┆ 2024-03-31  ┆ 四          ┆ 2024-05-13  ┆ … ┆ 758        ┆ 7.8        ┆ 7.8      ┆ 4      │\n",
       "│ 9997 ┆ 2024-06-30  ┆ 四          ┆ 2024-07-31  ┆ … ┆ 994        ┆ 10.3       ┆ 1.9      ┆ 1      │\n",
       "│ 9997 ┆ 2024-09-30  ┆ 四          ┆ 2024-10-31  ┆ … ┆ 1571       ┆ 16.3       ┆ 5.7      ┆ 2      │\n",
       "└──────┴─────────────┴─────────────┴─────────────┴───┴────────────┴────────────┴──────────┴────────┘"
      ]
     },
     "execution_count": 7,
     "metadata": {},
     "output_type": "execute_result"
    }
   ],
   "source": [
    "fp = DATA_DIR/\"kessan.parquet\"\n",
    "df = read_data(fp)\n",
    "KPL = KessanPl(df)\n",
    "\n",
    "# 四半期決算(quaterly)、または本決算(yearly)のみを抽出してKessanPl.dfを書き換える\n",
    "# def filter_settlement_type(self, settlement_type: Literal[\"quaterly\", \"yearly\"]) -> None:\n",
    "KPL.filter_settlement_type(\"quaterly\")\n",
    "KPL.df"
   ]
  },
  {
   "cell_type": "code",
   "execution_count": 5,
   "id": "73a4bd05-e055-4aac-ba8a-1538c7286e28",
   "metadata": {},
   "outputs": [
    {
     "data": {
      "text/html": [
       "<div><style>\n",
       ".dataframe > thead > tr,\n",
       ".dataframe > tbody > tr {\n",
       "  text-align: right;\n",
       "  white-space: pre-wrap;\n",
       "}\n",
       "</style>\n",
       "<small>shape: (43, 11)</small><table border=\"1\" class=\"dataframe\"><thead><tr><th>code</th><th>settlement_date</th><th>settlement_type</th><th>announcement_date</th><th>sales</th><th>operating_income</th><th>ordinary_profit</th><th>final_profit</th><th>reviced_eps</th><th>dividend</th><th>quater</th></tr><tr><td>i64</td><td>date</td><td>str</td><td>date</td><td>i64</td><td>i64</td><td>i64</td><td>i64</td><td>f64</td><td>f64</td><td>i64</td></tr></thead><tbody><tr><td>9997</td><td>2017-03-31</td><td>&quot;本&quot;</td><td>2017-05-11</td><td>146083</td><td>10882</td><td>12188</td><td>5802</td><td>59.7</td><td>12.5</td><td>-2</td></tr><tr><td>9997</td><td>2018-03-31</td><td>&quot;本&quot;</td><td>2018-05-11</td><td>161673</td><td>13008</td><td>13248</td><td>9665</td><td>99.4</td><td>12.5</td><td>4</td></tr><tr><td>9997</td><td>2018-09-30</td><td>&quot;四&quot;</td><td>2018-10-31</td><td>37182</td><td>1374</td><td>2101</td><td>1362</td><td>14.0</td><td>3.7</td><td>2</td></tr><tr><td>9997</td><td>2018-12-31</td><td>&quot;四&quot;</td><td>2019-01-31</td><td>54394</td><td>4610</td><td>4690</td><td>2949</td><td>30.3</td><td>8.5</td><td>3</td></tr><tr><td>9997</td><td>2019-03-31</td><td>&quot;四&quot;</td><td>2019-05-13</td><td>44093</td><td>3545</td><td>4001</td><td>3166</td><td>32.6</td><td>8.0</td><td>4</td></tr><tr><td>&hellip;</td><td>&hellip;</td><td>&hellip;</td><td>&hellip;</td><td>&hellip;</td><td>&hellip;</td><td>&hellip;</td><td>&hellip;</td><td>&hellip;</td><td>&hellip;</td><td>&hellip;</td></tr><tr><td>9997</td><td>2024-03-31</td><td>&quot;四&quot;</td><td>2024-05-13</td><td>52020</td><td>4062</td><td>4901</td><td>758</td><td>7.8</td><td>7.8</td><td>4</td></tr><tr><td>9997</td><td>2024-03-31</td><td>&quot;本&quot;</td><td>2024-05-13</td><td>208298</td><td>9787</td><td>11831</td><td>5839</td><td>60.4</td><td>20.5</td><td>4</td></tr><tr><td>9997</td><td>2024-06-30</td><td>&quot;四&quot;</td><td>2024-07-31</td><td>51368</td><td>982</td><td>1681</td><td>994</td><td>10.3</td><td>1.9</td><td>1</td></tr><tr><td>9997</td><td>2024-09-30</td><td>&quot;四&quot;</td><td>2024-10-31</td><td>45759</td><td>2588</td><td>2462</td><td>1571</td><td>16.3</td><td>5.7</td><td>2</td></tr><tr><td>9997</td><td>2025-03-31</td><td>&quot;予&quot;</td><td>2024-05-13</td><td>217000</td><td>11500</td><td>12500</td><td>8000</td><td>82.7</td><td>29.0</td><td>4</td></tr></tbody></table></div>"
      ],
      "text/plain": [
       "shape: (43, 11)\n",
       "┌──────┬─────────────┬─────────────┬─────────────┬───┬────────────┬────────────┬──────────┬────────┐\n",
       "│ code ┆ settlement_ ┆ settlement_ ┆ announcemen ┆ … ┆ final_prof ┆ reviced_ep ┆ dividend ┆ quater │\n",
       "│ ---  ┆ date        ┆ type        ┆ t_date      ┆   ┆ it         ┆ s          ┆ ---      ┆ ---    │\n",
       "│ i64  ┆ ---         ┆ ---         ┆ ---         ┆   ┆ ---        ┆ ---        ┆ f64      ┆ i64    │\n",
       "│      ┆ date        ┆ str         ┆ date        ┆   ┆ i64        ┆ f64        ┆          ┆        │\n",
       "╞══════╪═════════════╪═════════════╪═════════════╪═══╪════════════╪════════════╪══════════╪════════╡\n",
       "│ 9997 ┆ 2017-03-31  ┆ 本          ┆ 2017-05-11  ┆ … ┆ 5802       ┆ 59.7       ┆ 12.5     ┆ -2     │\n",
       "│ 9997 ┆ 2018-03-31  ┆ 本          ┆ 2018-05-11  ┆ … ┆ 9665       ┆ 99.4       ┆ 12.5     ┆ 4      │\n",
       "│ 9997 ┆ 2018-09-30  ┆ 四          ┆ 2018-10-31  ┆ … ┆ 1362       ┆ 14.0       ┆ 3.7      ┆ 2      │\n",
       "│ 9997 ┆ 2018-12-31  ┆ 四          ┆ 2019-01-31  ┆ … ┆ 2949       ┆ 30.3       ┆ 8.5      ┆ 3      │\n",
       "│ 9997 ┆ 2019-03-31  ┆ 四          ┆ 2019-05-13  ┆ … ┆ 3166       ┆ 32.6       ┆ 8.0      ┆ 4      │\n",
       "│ …    ┆ …           ┆ …           ┆ …           ┆ … ┆ …          ┆ …          ┆ …        ┆ …      │\n",
       "│ 9997 ┆ 2024-03-31  ┆ 四          ┆ 2024-05-13  ┆ … ┆ 758        ┆ 7.8        ┆ 7.8      ┆ 4      │\n",
       "│ 9997 ┆ 2024-03-31  ┆ 本          ┆ 2024-05-13  ┆ … ┆ 5839       ┆ 60.4       ┆ 20.5     ┆ 4      │\n",
       "│ 9997 ┆ 2024-06-30  ┆ 四          ┆ 2024-07-31  ┆ … ┆ 994        ┆ 10.3       ┆ 1.9      ┆ 1      │\n",
       "│ 9997 ┆ 2024-09-30  ┆ 四          ┆ 2024-10-31  ┆ … ┆ 1571       ┆ 16.3       ┆ 5.7      ┆ 2      │\n",
       "│ 9997 ┆ 2025-03-31  ┆ 予          ┆ 2024-05-13  ┆ … ┆ 8000       ┆ 82.7       ┆ 29.0     ┆ 4      │\n",
       "└──────┴─────────────┴─────────────┴─────────────┴───┴────────────┴────────────┴──────────┴────────┘"
      ]
     },
     "execution_count": 5,
     "metadata": {},
     "output_type": "execute_result"
    }
   ],
   "source": [
    "fp = DATA_DIR/\"kessan.parquet\"\n",
    "df = read_data(fp)\n",
    "KPL = KessanPl(df)\n",
    "\n",
    "# codeで指定した決算レコードのみを抽出してKessanPl.dfを書き換え\n",
    "# def filter_code(self, code: int) -> None:\n",
    "KPL.filter_code(9997)\n",
    "KPL.df"
   ]
  },
  {
   "cell_type": "code",
   "execution_count": 5,
   "id": "64fb8922-826c-4c42-86de-0e2411b58cd9",
   "metadata": {},
   "outputs": [
    {
     "data": {
      "text/html": [
       "<div><style>\n",
       ".dataframe > thead > tr,\n",
       ".dataframe > tbody > tr {\n",
       "  text-align: right;\n",
       "  white-space: pre-wrap;\n",
       "}\n",
       "</style>\n",
       "<small>shape: (3_561, 11)</small><table border=\"1\" class=\"dataframe\"><thead><tr><th>code</th><th>settlement_date</th><th>settlement_type</th><th>announcement_date</th><th>sales</th><th>operating_income</th><th>ordinary_profit</th><th>final_profit</th><th>reviced_eps</th><th>dividend</th><th>quater</th></tr><tr><td>i64</td><td>date</td><td>str</td><td>date</td><td>i64</td><td>i64</td><td>i64</td><td>i64</td><td>f64</td><td>f64</td><td>i64</td></tr></thead><tbody><tr><td>1301</td><td>2025-03-31</td><td>&quot;予&quot;</td><td>2024-05-10</td><td>300000</td><td>10000</td><td>10000</td><td>7000</td><td>589.4</td><td>110.0</td><td>4</td></tr><tr><td>1332</td><td>2025-03-31</td><td>&quot;予&quot;</td><td>2024-05-14</td><td>875000</td><td>32500</td><td>35000</td><td>24000</td><td>77.2</td><td>24.0</td><td>4</td></tr><tr><td>1333</td><td>2025-03-31</td><td>&quot;予&quot;</td><td>2024-08-05</td><td>1050000</td><td>30000</td><td>32000</td><td>22000</td><td>436.8</td><td>100.0</td><td>4</td></tr><tr><td>1375</td><td>2025-03-31</td><td>&quot;予&quot;</td><td>2024-05-09</td><td>49990</td><td>2620</td><td>2370</td><td>1550</td><td>38.9</td><td>12.0</td><td>4</td></tr><tr><td>1376</td><td>2025-05-31</td><td>&quot;予&quot;</td><td>2024-07-10</td><td>63500</td><td>1650</td><td>1750</td><td>1200</td><td>106.2</td><td>33.0</td><td>4</td></tr><tr><td>&hellip;</td><td>&hellip;</td><td>&hellip;</td><td>&hellip;</td><td>&hellip;</td><td>&hellip;</td><td>&hellip;</td><td>&hellip;</td><td>&hellip;</td><td>&hellip;</td><td>&hellip;</td></tr><tr><td>9991</td><td>2025-03-31</td><td>&quot;予&quot;</td><td>2024-10-29</td><td>115000</td><td>5500</td><td>6000</td><td>4100</td><td>121.9</td><td>48.0</td><td>4</td></tr><tr><td>9993</td><td>2025-02-28</td><td>&quot;予&quot;</td><td>2024-10-10</td><td>101500</td><td>-800</td><td>-500</td><td>-1700</td><td>-157.7</td><td>27.0</td><td>4</td></tr><tr><td>9994</td><td>2025-03-31</td><td>&quot;予&quot;</td><td>2024-05-15</td><td>166000</td><td>6400</td><td>6500</td><td>3700</td><td>341.3</td><td>54.0</td><td>4</td></tr><tr><td>9995</td><td>2024-03-31</td><td>&quot;予&quot;</td><td>2023-11-27</td><td>70000</td><td>790</td><td>1060</td><td>910</td><td>32.1</td><td>0.0</td><td>4</td></tr><tr><td>9996</td><td>2025-03-31</td><td>&quot;予&quot;</td><td>2024-05-13</td><td>49430</td><td>1560</td><td>1785</td><td>1245</td><td>149.3</td><td>45.0</td><td>4</td></tr></tbody></table></div>"
      ],
      "text/plain": [
       "shape: (3_561, 11)\n",
       "┌──────┬─────────────┬─────────────┬─────────────┬───┬────────────┬────────────┬──────────┬────────┐\n",
       "│ code ┆ settlement_ ┆ settlement_ ┆ announcemen ┆ … ┆ final_prof ┆ reviced_ep ┆ dividend ┆ quater │\n",
       "│ ---  ┆ date        ┆ type        ┆ t_date      ┆   ┆ it         ┆ s          ┆ ---      ┆ ---    │\n",
       "│ i64  ┆ ---         ┆ ---         ┆ ---         ┆   ┆ ---        ┆ ---        ┆ f64      ┆ i64    │\n",
       "│      ┆ date        ┆ str         ┆ date        ┆   ┆ i64        ┆ f64        ┆          ┆        │\n",
       "╞══════╪═════════════╪═════════════╪═════════════╪═══╪════════════╪════════════╪══════════╪════════╡\n",
       "│ 1301 ┆ 2025-03-31  ┆ 予          ┆ 2024-05-10  ┆ … ┆ 7000       ┆ 589.4      ┆ 110.0    ┆ 4      │\n",
       "│ 1332 ┆ 2025-03-31  ┆ 予          ┆ 2024-05-14  ┆ … ┆ 24000      ┆ 77.2       ┆ 24.0     ┆ 4      │\n",
       "│ 1333 ┆ 2025-03-31  ┆ 予          ┆ 2024-08-05  ┆ … ┆ 22000      ┆ 436.8      ┆ 100.0    ┆ 4      │\n",
       "│ 1375 ┆ 2025-03-31  ┆ 予          ┆ 2024-05-09  ┆ … ┆ 1550       ┆ 38.9       ┆ 12.0     ┆ 4      │\n",
       "│ 1376 ┆ 2025-05-31  ┆ 予          ┆ 2024-07-10  ┆ … ┆ 1200       ┆ 106.2      ┆ 33.0     ┆ 4      │\n",
       "│ …    ┆ …           ┆ …           ┆ …           ┆ … ┆ …          ┆ …          ┆ …        ┆ …      │\n",
       "│ 9991 ┆ 2025-03-31  ┆ 予          ┆ 2024-10-29  ┆ … ┆ 4100       ┆ 121.9      ┆ 48.0     ┆ 4      │\n",
       "│ 9993 ┆ 2025-02-28  ┆ 予          ┆ 2024-10-10  ┆ … ┆ -1700      ┆ -157.7     ┆ 27.0     ┆ 4      │\n",
       "│ 9994 ┆ 2025-03-31  ┆ 予          ┆ 2024-05-15  ┆ … ┆ 3700       ┆ 341.3      ┆ 54.0     ┆ 4      │\n",
       "│ 9995 ┆ 2024-03-31  ┆ 予          ┆ 2023-11-27  ┆ … ┆ 910        ┆ 32.1       ┆ 0.0      ┆ 4      │\n",
       "│ 9996 ┆ 2025-03-31  ┆ 予          ┆ 2024-05-13  ┆ … ┆ 1245       ┆ 149.3      ┆ 45.0     ┆ 4      │\n",
       "└──────┴─────────────┴─────────────┴─────────────┴───┴────────────┴────────────┴──────────┴────────┘"
      ]
     },
     "execution_count": 5,
     "metadata": {},
     "output_type": "execute_result"
    }
   ],
   "source": [
    "fp = DATA_DIR/\"kessan.parquet\"\n",
    "df = read_data(fp)\n",
    "KPL = KessanPl(df)\n",
    "\n",
    "# refference_dateで指定した日の最新年度決算の一覧をpl.DataFrameで返す。\n",
    "# KessanPl.dfは書き換えない。\n",
    "# def get_latest_settlements(self, reference_date: date=date.today()) -> pl.DataFrame:\n",
    "df = KPL.get_latest_yearly_settlements(settlement_type=\"予\")\n",
    "df"
   ]
  },
  {
   "cell_type": "code",
   "execution_count": 8,
   "id": "c94d0220-3c59-49b4-bdc5-a3187ab11f11",
   "metadata": {},
   "outputs": [
    {
     "data": {
      "text/html": [
       "<div><style>\n",
       ".dataframe > thead > tr,\n",
       ".dataframe > tbody > tr {\n",
       "  text-align: right;\n",
       "  white-space: pre-wrap;\n",
       "}\n",
       "</style>\n",
       "<small>shape: (7, 11)</small><table border=\"1\" class=\"dataframe\"><thead><tr><th>code</th><th>settlement_date</th><th>settlement_type</th><th>announcement_date</th><th>sales</th><th>operating_income</th><th>ordinary_profit</th><th>final_profit</th><th>reviced_eps</th><th>dividend</th><th>quater</th></tr><tr><td>i64</td><td>date</td><td>str</td><td>date</td><td>i64</td><td>i64</td><td>i64</td><td>i64</td><td>f64</td><td>f64</td><td>i64</td></tr></thead><tbody><tr><td>9991</td><td>2021-03-31</td><td>&quot;予&quot;</td><td>2020-07-28</td><td>114000</td><td>6450</td><td>6800</td><td>4650</td><td>127.8</td><td>35.0</td><td>4</td></tr><tr><td>9991</td><td>2022-03-31</td><td>&quot;予&quot;</td><td>2021-04-23</td><td>111000</td><td>5550</td><td>5900</td><td>4050</td><td>111.3</td><td>35.0</td><td>4</td></tr><tr><td>9991</td><td>2023-03-31</td><td>&quot;予&quot;</td><td>2022-04-26</td><td>115000</td><td>4950</td><td>5300</td><td>3550</td><td>97.5</td><td>35.0</td><td>4</td></tr><tr><td>9991</td><td>2024-03-31</td><td>&quot;予&quot;</td><td>2023-04-26</td><td>120000</td><td>4650</td><td>5000</td><td>3300</td><td>97.7</td><td>35.0</td><td>4</td></tr><tr><td>9991</td><td>2024-03-31</td><td>&quot;予&quot;</td><td>2023-10-20</td><td>130000</td><td>5300</td><td>5700</td><td>3800</td><td>112.4</td><td>37.0</td><td>4</td></tr><tr><td>9991</td><td>2025-03-31</td><td>&quot;予&quot;</td><td>2024-04-25</td><td>115000</td><td>5500</td><td>6000</td><td>4100</td><td>121.3</td><td>37.0</td><td>4</td></tr><tr><td>9991</td><td>2025-03-31</td><td>&quot;予&quot;</td><td>2024-10-29</td><td>115000</td><td>5500</td><td>6000</td><td>4100</td><td>121.9</td><td>48.0</td><td>4</td></tr></tbody></table></div>"
      ],
      "text/plain": [
       "shape: (7, 11)\n",
       "┌──────┬─────────────┬─────────────┬─────────────┬───┬────────────┬────────────┬──────────┬────────┐\n",
       "│ code ┆ settlement_ ┆ settlement_ ┆ announcemen ┆ … ┆ final_prof ┆ reviced_ep ┆ dividend ┆ quater │\n",
       "│ ---  ┆ date        ┆ type        ┆ t_date      ┆   ┆ it         ┆ s          ┆ ---      ┆ ---    │\n",
       "│ i64  ┆ ---         ┆ ---         ┆ ---         ┆   ┆ ---        ┆ ---        ┆ f64      ┆ i64    │\n",
       "│      ┆ date        ┆ str         ┆ date        ┆   ┆ i64        ┆ f64        ┆          ┆        │\n",
       "╞══════╪═════════════╪═════════════╪═════════════╪═══╪════════════╪════════════╪══════════╪════════╡\n",
       "│ 9991 ┆ 2021-03-31  ┆ 予          ┆ 2020-07-28  ┆ … ┆ 4650       ┆ 127.8      ┆ 35.0     ┆ 4      │\n",
       "│ 9991 ┆ 2022-03-31  ┆ 予          ┆ 2021-04-23  ┆ … ┆ 4050       ┆ 111.3      ┆ 35.0     ┆ 4      │\n",
       "│ 9991 ┆ 2023-03-31  ┆ 予          ┆ 2022-04-26  ┆ … ┆ 3550       ┆ 97.5       ┆ 35.0     ┆ 4      │\n",
       "│ 9991 ┆ 2024-03-31  ┆ 予          ┆ 2023-04-26  ┆ … ┆ 3300       ┆ 97.7       ┆ 35.0     ┆ 4      │\n",
       "│ 9991 ┆ 2024-03-31  ┆ 予          ┆ 2023-10-20  ┆ … ┆ 3800       ┆ 112.4      ┆ 37.0     ┆ 4      │\n",
       "│ 9991 ┆ 2025-03-31  ┆ 予          ┆ 2024-04-25  ┆ … ┆ 4100       ┆ 121.3      ┆ 37.0     ┆ 4      │\n",
       "│ 9991 ┆ 2025-03-31  ┆ 予          ┆ 2024-10-29  ┆ … ┆ 4100       ┆ 121.9      ┆ 48.0     ┆ 4      │\n",
       "└──────┴─────────────┴─────────────┴─────────────┴───┴────────────┴────────────┴──────────┴────────┘"
      ]
     },
     "execution_count": 8,
     "metadata": {},
     "output_type": "execute_result"
    }
   ],
   "source": [
    "fp = DATA_DIR/\"kessan.parquet\"\n",
    "df = read_data(fp)\n",
    "KPL = KessanPl(df)\n",
    "\n",
    "import polars as pl\n",
    "KPL.df.filter(pl.col(\"code\")==9991).filter(pl.col(\"settlement_type\")==\"予\")"
   ]
  },
  {
   "cell_type": "code",
   "execution_count": 12,
   "id": "549647f5-88ea-4925-bb18-969224b57b74",
   "metadata": {},
   "outputs": [
    {
     "data": {
      "text/html": [
       "<div><style>\n",
       ".dataframe > thead > tr,\n",
       ".dataframe > tbody > tr {\n",
       "  text-align: right;\n",
       "  white-space: pre-wrap;\n",
       "}\n",
       "</style>\n",
       "<small>shape: (23, 11)</small><table border=\"1\" class=\"dataframe\"><thead><tr><th>code</th><th>settlement_date</th><th>settlement_type</th><th>announcement_date</th><th>sales</th><th>operating_income</th><th>ordinary_profit</th><th>final_profit</th><th>reviced_eps</th><th>dividend</th><th>quater</th></tr><tr><td>i64</td><td>date</td><td>str</td><td>date</td><td>i64</td><td>i64</td><td>i64</td><td>i64</td><td>f64</td><td>f64</td><td>i64</td></tr></thead><tbody><tr><td>9995</td><td>2018-09-30</td><td>&quot;四&quot;</td><td>2018-10-31</td><td>20172</td><td>252</td><td>232</td><td>146</td><td>5.7</td><td>1.2</td><td>2</td></tr><tr><td>9995</td><td>2018-12-31</td><td>&quot;四&quot;</td><td>2019-01-30</td><td>20079</td><td>263</td><td>233</td><td>233</td><td>9.3</td><td>1.3</td><td>3</td></tr><tr><td>9995</td><td>2019-03-31</td><td>&quot;四&quot;</td><td>2019-05-15</td><td>17781</td><td>-46</td><td>-31</td><td>0</td><td>0.3</td><td>-0.3</td><td>4</td></tr><tr><td>9995</td><td>2019-06-30</td><td>&quot;四&quot;</td><td>2019-07-30</td><td>17551</td><td>-106</td><td>-28</td><td>-27</td><td>-1.2</td><td>-0.6</td><td>1</td></tr><tr><td>9995</td><td>2019-09-30</td><td>&quot;四&quot;</td><td>2019-10-31</td><td>17990</td><td>67</td><td>47</td><td>28</td><td>2.0</td><td>0.4</td><td>2</td></tr><tr><td>&hellip;</td><td>&hellip;</td><td>&hellip;</td><td>&hellip;</td><td>&hellip;</td><td>&hellip;</td><td>&hellip;</td><td>&hellip;</td><td>&hellip;</td><td>&hellip;</td><td>&hellip;</td></tr><tr><td>9995</td><td>2023-03-31</td><td>&quot;四&quot;</td><td>2023-05-15</td><td>17365</td><td>61</td><td>73</td><td>65</td><td>2.6</td><td>0.4</td><td>4</td></tr><tr><td>9995</td><td>2023-06-30</td><td>&quot;四&quot;</td><td>2023-07-28</td><td>16555</td><td>363</td><td>622</td><td>575</td><td>20.3</td><td>2.2</td><td>1</td></tr><tr><td>9995</td><td>2023-09-30</td><td>&quot;四&quot;</td><td>2023-10-30</td><td>19151</td><td>263</td><td>263</td><td>218</td><td>7.7</td><td>1.4</td><td>2</td></tr><tr><td>9995</td><td>2023-12-31</td><td>&quot;四&quot;</td><td>2024-01-29</td><td>18947</td><td>173</td><td>-67</td><td>-232</td><td>-8.2</td><td>0.9</td><td>3</td></tr><tr><td>9995</td><td>2024-03-31</td><td>&quot;四&quot;</td><td>2024-05-07</td><td>18708</td><td>63</td><td>249</td><td>433</td><td>15.2</td><td>0.3</td><td>4</td></tr></tbody></table></div>"
      ],
      "text/plain": [
       "shape: (23, 11)\n",
       "┌──────┬─────────────┬─────────────┬─────────────┬───┬────────────┬────────────┬──────────┬────────┐\n",
       "│ code ┆ settlement_ ┆ settlement_ ┆ announcemen ┆ … ┆ final_prof ┆ reviced_ep ┆ dividend ┆ quater │\n",
       "│ ---  ┆ date        ┆ type        ┆ t_date      ┆   ┆ it         ┆ s          ┆ ---      ┆ ---    │\n",
       "│ i64  ┆ ---         ┆ ---         ┆ ---         ┆   ┆ ---        ┆ ---        ┆ f64      ┆ i64    │\n",
       "│      ┆ date        ┆ str         ┆ date        ┆   ┆ i64        ┆ f64        ┆          ┆        │\n",
       "╞══════╪═════════════╪═════════════╪═════════════╪═══╪════════════╪════════════╪══════════╪════════╡\n",
       "│ 9995 ┆ 2018-09-30  ┆ 四          ┆ 2018-10-31  ┆ … ┆ 146        ┆ 5.7        ┆ 1.2      ┆ 2      │\n",
       "│ 9995 ┆ 2018-12-31  ┆ 四          ┆ 2019-01-30  ┆ … ┆ 233        ┆ 9.3        ┆ 1.3      ┆ 3      │\n",
       "│ 9995 ┆ 2019-03-31  ┆ 四          ┆ 2019-05-15  ┆ … ┆ 0          ┆ 0.3        ┆ -0.3     ┆ 4      │\n",
       "│ 9995 ┆ 2019-06-30  ┆ 四          ┆ 2019-07-30  ┆ … ┆ -27        ┆ -1.2       ┆ -0.6     ┆ 1      │\n",
       "│ 9995 ┆ 2019-09-30  ┆ 四          ┆ 2019-10-31  ┆ … ┆ 28         ┆ 2.0        ┆ 0.4      ┆ 2      │\n",
       "│ …    ┆ …           ┆ …           ┆ …           ┆ … ┆ …          ┆ …          ┆ …        ┆ …      │\n",
       "│ 9995 ┆ 2023-03-31  ┆ 四          ┆ 2023-05-15  ┆ … ┆ 65         ┆ 2.6        ┆ 0.4      ┆ 4      │\n",
       "│ 9995 ┆ 2023-06-30  ┆ 四          ┆ 2023-07-28  ┆ … ┆ 575        ┆ 20.3       ┆ 2.2      ┆ 1      │\n",
       "│ 9995 ┆ 2023-09-30  ┆ 四          ┆ 2023-10-30  ┆ … ┆ 218        ┆ 7.7        ┆ 1.4      ┆ 2      │\n",
       "│ 9995 ┆ 2023-12-31  ┆ 四          ┆ 2024-01-29  ┆ … ┆ -232       ┆ -8.2       ┆ 0.9      ┆ 3      │\n",
       "│ 9995 ┆ 2024-03-31  ┆ 四          ┆ 2024-05-07  ┆ … ┆ 433        ┆ 15.2       ┆ 0.3      ┆ 4      │\n",
       "└──────┴─────────────┴─────────────┴─────────────┴───┴────────────┴────────────┴──────────┴────────┘"
      ]
     },
     "execution_count": 12,
     "metadata": {},
     "output_type": "execute_result"
    }
   ],
   "source": [
    "fp = DATA_DIR/\"kessan.parquet\"\n",
    "df = read_data(fp)\n",
    "KPL = KessanPl(df)\n",
    "\n",
    "import polars as pl\n",
    "KPL.df.filter(pl.col(\"code\")==9995).filter(pl.col(\"settlement_type\")==\"四\")"
   ]
  },
  {
   "cell_type": "code",
   "execution_count": 3,
   "id": "2aa169ca-53d2-402e-82f3-7982c60a418b",
   "metadata": {},
   "outputs": [
    {
     "data": {
      "text/html": [
       "<div><style>\n",
       ".dataframe > thead > tr,\n",
       ".dataframe > tbody > tr {\n",
       "  text-align: right;\n",
       "  white-space: pre-wrap;\n",
       "}\n",
       "</style>\n",
       "<small>shape: (162_653, 12)</small><table border=\"1\" class=\"dataframe\"><thead><tr><th>code</th><th>settlement_date</th><th>settlement_type</th><th>announcement_date</th><th>sales</th><th>operating_income</th><th>ordinary_profit</th><th>final_profit</th><th>reviced_eps</th><th>dividend</th><th>quater</th><th>yearly_settlement_date</th></tr><tr><td>i64</td><td>date</td><td>str</td><td>date</td><td>i64</td><td>i64</td><td>i64</td><td>i64</td><td>f64</td><td>f64</td><td>i64</td><td>date</td></tr></thead><tbody><tr><td>1301</td><td>2017-03-31</td><td>&quot;本&quot;</td><td>2017-05-11</td><td>236561</td><td>3723</td><td>3709</td><td>2422</td><td>230.7</td><td>60.0</td><td>-2</td><td>2017-03-31</td></tr><tr><td>1301</td><td>2018-03-31</td><td>&quot;本&quot;</td><td>2018-05-10</td><td>254783</td><td>4066</td><td>4437</td><td>3211</td><td>304.3</td><td>60.0</td><td>4</td><td>2018-03-31</td></tr><tr><td>1301</td><td>2018-09-30</td><td>&quot;四&quot;</td><td>2018-11-05</td><td>61245</td><td>507</td><td>595</td><td>269</td><td>24.9</td><td>0.8</td><td>2</td><td>2019-03-31</td></tr><tr><td>1301</td><td>2018-12-31</td><td>&quot;四&quot;</td><td>2019-02-08</td><td>78581</td><td>2208</td><td>2591</td><td>1677</td><td>155.2</td><td>2.8</td><td>3</td><td>2019-03-31</td></tr><tr><td>1301</td><td>2019-03-31</td><td>&quot;四&quot;</td><td>2019-05-13</td><td>58368</td><td>551</td><td>511</td><td>413</td><td>38.2</td><td>0.9</td><td>4</td><td>2019-03-31</td></tr><tr><td>&hellip;</td><td>&hellip;</td><td>&hellip;</td><td>&hellip;</td><td>&hellip;</td><td>&hellip;</td><td>&hellip;</td><td>&hellip;</td><td>&hellip;</td><td>&hellip;</td><td>&hellip;</td><td>&hellip;</td></tr><tr><td>9997</td><td>2024-03-31</td><td>&quot;四&quot;</td><td>2024-05-13</td><td>52020</td><td>4062</td><td>4901</td><td>758</td><td>7.8</td><td>7.8</td><td>4</td><td>2024-03-31</td></tr><tr><td>9997</td><td>2024-03-31</td><td>&quot;本&quot;</td><td>2024-05-13</td><td>208298</td><td>9787</td><td>11831</td><td>5839</td><td>60.4</td><td>20.5</td><td>4</td><td>2024-03-31</td></tr><tr><td>9997</td><td>2024-06-30</td><td>&quot;四&quot;</td><td>2024-07-31</td><td>51368</td><td>982</td><td>1681</td><td>994</td><td>10.3</td><td>1.9</td><td>1</td><td>2025-03-31</td></tr><tr><td>9997</td><td>2024-09-30</td><td>&quot;四&quot;</td><td>2024-10-31</td><td>45759</td><td>2588</td><td>2462</td><td>1571</td><td>16.3</td><td>5.7</td><td>2</td><td>2025-03-31</td></tr><tr><td>9997</td><td>2025-03-31</td><td>&quot;予&quot;</td><td>2024-05-13</td><td>217000</td><td>11500</td><td>12500</td><td>8000</td><td>82.7</td><td>29.0</td><td>4</td><td>2025-03-31</td></tr></tbody></table></div>"
      ],
      "text/plain": [
       "shape: (162_653, 12)\n",
       "┌──────┬─────────────┬─────────────┬─────────────┬───┬────────────┬──────────┬────────┬────────────┐\n",
       "│ code ┆ settlement_ ┆ settlement_ ┆ announcemen ┆ … ┆ reviced_ep ┆ dividend ┆ quater ┆ yearly_set │\n",
       "│ ---  ┆ date        ┆ type        ┆ t_date      ┆   ┆ s          ┆ ---      ┆ ---    ┆ tlement_da │\n",
       "│ i64  ┆ ---         ┆ ---         ┆ ---         ┆   ┆ ---        ┆ f64      ┆ i64    ┆ te         │\n",
       "│      ┆ date        ┆ str         ┆ date        ┆   ┆ f64        ┆          ┆        ┆ ---        │\n",
       "│      ┆             ┆             ┆             ┆   ┆            ┆          ┆        ┆ date       │\n",
       "╞══════╪═════════════╪═════════════╪═════════════╪═══╪════════════╪══════════╪════════╪════════════╡\n",
       "│ 1301 ┆ 2017-03-31  ┆ 本          ┆ 2017-05-11  ┆ … ┆ 230.7      ┆ 60.0     ┆ -2     ┆ 2017-03-31 │\n",
       "│ 1301 ┆ 2018-03-31  ┆ 本          ┆ 2018-05-10  ┆ … ┆ 304.3      ┆ 60.0     ┆ 4      ┆ 2018-03-31 │\n",
       "│ 1301 ┆ 2018-09-30  ┆ 四          ┆ 2018-11-05  ┆ … ┆ 24.9       ┆ 0.8      ┆ 2      ┆ 2019-03-31 │\n",
       "│ 1301 ┆ 2018-12-31  ┆ 四          ┆ 2019-02-08  ┆ … ┆ 155.2      ┆ 2.8      ┆ 3      ┆ 2019-03-31 │\n",
       "│ 1301 ┆ 2019-03-31  ┆ 四          ┆ 2019-05-13  ┆ … ┆ 38.2       ┆ 0.9      ┆ 4      ┆ 2019-03-31 │\n",
       "│ …    ┆ …           ┆ …           ┆ …           ┆ … ┆ …          ┆ …        ┆ …      ┆ …          │\n",
       "│ 9997 ┆ 2024-03-31  ┆ 四          ┆ 2024-05-13  ┆ … ┆ 7.8        ┆ 7.8      ┆ 4      ┆ 2024-03-31 │\n",
       "│ 9997 ┆ 2024-03-31  ┆ 本          ┆ 2024-05-13  ┆ … ┆ 60.4       ┆ 20.5     ┆ 4      ┆ 2024-03-31 │\n",
       "│ 9997 ┆ 2024-06-30  ┆ 四          ┆ 2024-07-31  ┆ … ┆ 10.3       ┆ 1.9      ┆ 1      ┆ 2025-03-31 │\n",
       "│ 9997 ┆ 2024-09-30  ┆ 四          ┆ 2024-10-31  ┆ … ┆ 16.3       ┆ 5.7      ┆ 2      ┆ 2025-03-31 │\n",
       "│ 9997 ┆ 2025-03-31  ┆ 予          ┆ 2024-05-13  ┆ … ┆ 82.7       ┆ 29.0     ┆ 4      ┆ 2025-03-31 │\n",
       "└──────┴─────────────┴─────────────┴─────────────┴───┴────────────┴──────────┴────────┴────────────┘"
      ]
     },
     "execution_count": 3,
     "metadata": {},
     "output_type": "execute_result"
    }
   ],
   "source": [
    "fp = DATA_DIR/\"kessan.parquet\"\n",
    "df = read_data(fp)\n",
    "KPL = KessanPl(df)\n",
    "\n",
    "# KessanPl.dfの最終列に、年度決算日\"yearly_settlement_date\"列を追加する\n",
    "# 四半期決算の場合、四半期決算締め日がはいっているが、それが何年何月期の四半期決算かわかるようにするため。\n",
    "# def with_columns_yearly_settlement_date(self) -> None:\n",
    "KPL.with_columns_yearly_settlement_date()\n",
    "KPL.df\n"
   ]
  },
  {
   "cell_type": "code",
   "execution_count": 3,
   "id": "35edb413-46fa-448d-ac24-5b7b9a4fd236",
   "metadata": {},
   "outputs": [
    {
     "data": {
      "text/html": [
       "<div><style>\n",
       ".dataframe > thead > tr,\n",
       ".dataframe > tbody > tr {\n",
       "  text-align: right;\n",
       "  white-space: pre-wrap;\n",
       "}\n",
       "</style>\n",
       "<small>shape: (97_456, 22)</small><table border=\"1\" class=\"dataframe\"><thead><tr><th>code</th><th>settlement_date</th><th>settlement_type</th><th>announcement_date</th><th>sales</th><th>operating_income</th><th>ordinary_profit</th><th>final_profit</th><th>reviced_eps</th><th>dividend</th><th>quater</th><th>yearly_settlement_date</th><th>settlement_date_right</th><th>settlement_type_right</th><th>announcement_date_right</th><th>sales_right</th><th>operating_income_right</th><th>ordinary_profit_right</th><th>final_profit_right</th><th>reviced_eps_right</th><th>dividend_right</th><th>quater_right</th></tr><tr><td>i64</td><td>date</td><td>str</td><td>date</td><td>i64</td><td>i64</td><td>i64</td><td>i64</td><td>f64</td><td>f64</td><td>i64</td><td>date</td><td>date</td><td>str</td><td>date</td><td>i64</td><td>i64</td><td>i64</td><td>i64</td><td>f64</td><td>f64</td><td>i64</td></tr></thead><tbody><tr><td>1301</td><td>2020-06-30</td><td>&quot;四&quot;</td><td>2020-08-07</td><td>54320</td><td>633</td><td>697</td><td>565</td><td>52.6</td><td>1.2</td><td>1</td><td>2021-03-31</td><td>2021-03-31</td><td>&quot;予&quot;</td><td>2020-05-12</td><td>270000</td><td>4200</td><td>4500</td><td>3000</td><td>279.2</td><td>70.0</td><td>4</td></tr><tr><td>1301</td><td>2020-09-30</td><td>&quot;四&quot;</td><td>2020-11-06</td><td>62541</td><td>746</td><td>808</td><td>1012</td><td>94.2</td><td>1.2</td><td>2</td><td>2021-03-31</td><td>2021-03-31</td><td>&quot;予&quot;</td><td>2020-05-12</td><td>270000</td><td>4200</td><td>4500</td><td>3000</td><td>279.2</td><td>70.0</td><td>4</td></tr><tr><td>1301</td><td>2020-12-31</td><td>&quot;四&quot;</td><td>2021-02-05</td><td>77527</td><td>2302</td><td>2316</td><td>1645</td><td>153.0</td><td>3.0</td><td>3</td><td>2021-03-31</td><td>2021-03-31</td><td>&quot;予&quot;</td><td>2020-05-12</td><td>270000</td><td>4200</td><td>4500</td><td>3000</td><td>279.2</td><td>70.0</td><td>4</td></tr><tr><td>1301</td><td>2021-03-31</td><td>&quot;四&quot;</td><td>2021-05-14</td><td>54809</td><td>976</td><td>1058</td><td>616</td><td>57.3</td><td>1.8</td><td>4</td><td>2021-03-31</td><td>2021-03-31</td><td>&quot;予&quot;</td><td>2020-05-12</td><td>270000</td><td>4200</td><td>4500</td><td>3000</td><td>279.2</td><td>70.0</td><td>4</td></tr><tr><td>1301</td><td>2021-03-31</td><td>&quot;本&quot;</td><td>2021-05-14</td><td>249197</td><td>4657</td><td>4879</td><td>3838</td><td>356.9</td><td>80.0</td><td>4</td><td>2021-03-31</td><td>2021-03-31</td><td>&quot;予&quot;</td><td>2020-05-12</td><td>270000</td><td>4200</td><td>4500</td><td>3000</td><td>279.2</td><td>70.0</td><td>4</td></tr><tr><td>&hellip;</td><td>&hellip;</td><td>&hellip;</td><td>&hellip;</td><td>&hellip;</td><td>&hellip;</td><td>&hellip;</td><td>&hellip;</td><td>&hellip;</td><td>&hellip;</td><td>&hellip;</td><td>&hellip;</td><td>&hellip;</td><td>&hellip;</td><td>&hellip;</td><td>&hellip;</td><td>&hellip;</td><td>&hellip;</td><td>&hellip;</td><td>&hellip;</td><td>&hellip;</td><td>&hellip;</td></tr><tr><td>9997</td><td>2024-03-31</td><td>&quot;四&quot;</td><td>2024-05-13</td><td>52020</td><td>4062</td><td>4901</td><td>758</td><td>7.8</td><td>7.8</td><td>4</td><td>2024-03-31</td><td>2024-03-31</td><td>&quot;予&quot;</td><td>2023-10-30</td><td>208500</td><td>10000</td><td>11000</td><td>7000</td><td>72.4</td><td>20.5</td><td>4</td></tr><tr><td>9997</td><td>2024-03-31</td><td>&quot;本&quot;</td><td>2024-05-13</td><td>208298</td><td>9787</td><td>11831</td><td>5839</td><td>60.4</td><td>20.5</td><td>4</td><td>2024-03-31</td><td>2024-03-31</td><td>&quot;予&quot;</td><td>2023-05-12</td><td>219000</td><td>14000</td><td>14700</td><td>9400</td><td>97.2</td><td>20.5</td><td>4</td></tr><tr><td>9997</td><td>2024-03-31</td><td>&quot;本&quot;</td><td>2024-05-13</td><td>208298</td><td>9787</td><td>11831</td><td>5839</td><td>60.4</td><td>20.5</td><td>4</td><td>2024-03-31</td><td>2024-03-31</td><td>&quot;予&quot;</td><td>2023-10-30</td><td>208500</td><td>10000</td><td>11000</td><td>7000</td><td>72.4</td><td>20.5</td><td>4</td></tr><tr><td>9997</td><td>2024-06-30</td><td>&quot;四&quot;</td><td>2024-07-31</td><td>51368</td><td>982</td><td>1681</td><td>994</td><td>10.3</td><td>1.9</td><td>1</td><td>2025-03-31</td><td>2025-03-31</td><td>&quot;予&quot;</td><td>2024-05-13</td><td>217000</td><td>11500</td><td>12500</td><td>8000</td><td>82.7</td><td>29.0</td><td>4</td></tr><tr><td>9997</td><td>2024-09-30</td><td>&quot;四&quot;</td><td>2024-10-31</td><td>45759</td><td>2588</td><td>2462</td><td>1571</td><td>16.3</td><td>5.7</td><td>2</td><td>2025-03-31</td><td>2025-03-31</td><td>&quot;予&quot;</td><td>2024-05-13</td><td>217000</td><td>11500</td><td>12500</td><td>8000</td><td>82.7</td><td>29.0</td><td>4</td></tr></tbody></table></div>"
      ],
      "text/plain": [
       "shape: (97_456, 22)\n",
       "┌──────┬────────────┬────────────┬────────────┬───┬────────────┬───────────┬───────────┬───────────┐\n",
       "│ code ┆ settlement ┆ settlement ┆ announceme ┆ … ┆ final_prof ┆ reviced_e ┆ dividend_ ┆ quater_ri │\n",
       "│ ---  ┆ _date      ┆ _type      ┆ nt_date    ┆   ┆ it_right   ┆ ps_right  ┆ right     ┆ ght       │\n",
       "│ i64  ┆ ---        ┆ ---        ┆ ---        ┆   ┆ ---        ┆ ---       ┆ ---       ┆ ---       │\n",
       "│      ┆ date       ┆ str        ┆ date       ┆   ┆ i64        ┆ f64       ┆ f64       ┆ i64       │\n",
       "╞══════╪════════════╪════════════╪════════════╪═══╪════════════╪═══════════╪═══════════╪═══════════╡\n",
       "│ 1301 ┆ 2020-06-30 ┆ 四         ┆ 2020-08-07 ┆ … ┆ 3000       ┆ 279.2     ┆ 70.0      ┆ 4         │\n",
       "│ 1301 ┆ 2020-09-30 ┆ 四         ┆ 2020-11-06 ┆ … ┆ 3000       ┆ 279.2     ┆ 70.0      ┆ 4         │\n",
       "│ 1301 ┆ 2020-12-31 ┆ 四         ┆ 2021-02-05 ┆ … ┆ 3000       ┆ 279.2     ┆ 70.0      ┆ 4         │\n",
       "│ 1301 ┆ 2021-03-31 ┆ 四         ┆ 2021-05-14 ┆ … ┆ 3000       ┆ 279.2     ┆ 70.0      ┆ 4         │\n",
       "│ 1301 ┆ 2021-03-31 ┆ 本         ┆ 2021-05-14 ┆ … ┆ 3000       ┆ 279.2     ┆ 70.0      ┆ 4         │\n",
       "│ …    ┆ …          ┆ …          ┆ …          ┆ … ┆ …          ┆ …         ┆ …         ┆ …         │\n",
       "│ 9997 ┆ 2024-03-31 ┆ 四         ┆ 2024-05-13 ┆ … ┆ 7000       ┆ 72.4      ┆ 20.5      ┆ 4         │\n",
       "│ 9997 ┆ 2024-03-31 ┆ 本         ┆ 2024-05-13 ┆ … ┆ 9400       ┆ 97.2      ┆ 20.5      ┆ 4         │\n",
       "│ 9997 ┆ 2024-03-31 ┆ 本         ┆ 2024-05-13 ┆ … ┆ 7000       ┆ 72.4      ┆ 20.5      ┆ 4         │\n",
       "│ 9997 ┆ 2024-06-30 ┆ 四         ┆ 2024-07-31 ┆ … ┆ 8000       ┆ 82.7      ┆ 29.0      ┆ 4         │\n",
       "│ 9997 ┆ 2024-09-30 ┆ 四         ┆ 2024-10-31 ┆ … ┆ 8000       ┆ 82.7      ┆ 29.0      ┆ 4         │\n",
       "└──────┴────────────┴────────────┴────────────┴───┴────────────┴───────────┴───────────┴───────────┘"
      ]
     },
     "execution_count": 3,
     "metadata": {},
     "output_type": "execute_result"
    }
   ],
   "source": [
    "fp = DATA_DIR/\"kessan.parquet\"\n",
    "df = read_data(fp)\n",
    "KPL = KessanPl(df)\n",
    "\n",
    "# KessanPl.dfの四半期決算レコード(pl.col(\"settlement_type\")==\"四\")に決算進捗率の列を追加し、四半期決算のみを抽出したレコードをセットする。\n",
    "# 追加される列は売上進捗率、営業利益進捗率、経常利益進捗率、純利益進捗率。\n",
    "# def with_columns_settlements_progress_rate(self) -> None:\n",
    "KPL.with_columns_settlements_progress_rate()\n",
    "KPL.df"
   ]
  },
  {
   "cell_type": "code",
   "execution_count": 5,
   "id": "953fb152-079c-49cf-9a26-8500e3317c67",
   "metadata": {},
   "outputs": [
    {
     "data": {
      "text/html": [
       "<div><style>\n",
       ".dataframe > thead > tr,\n",
       ".dataframe > tbody > tr {\n",
       "  text-align: right;\n",
       "  white-space: pre-wrap;\n",
       "}\n",
       "</style>\n",
       "<small>shape: (30, 22)</small><table border=\"1\" class=\"dataframe\"><thead><tr><th>code</th><th>settlement_date</th><th>settlement_type</th><th>announcement_date</th><th>sales</th><th>operating_income</th><th>ordinary_profit</th><th>final_profit</th><th>reviced_eps</th><th>dividend</th><th>quater</th><th>yearly_settlement_date</th><th>settlement_date_right</th><th>settlement_type_right</th><th>announcement_date_right</th><th>sales_right</th><th>operating_income_right</th><th>ordinary_profit_right</th><th>final_profit_right</th><th>reviced_eps_right</th><th>dividend_right</th><th>quater_right</th></tr><tr><td>i64</td><td>date</td><td>str</td><td>date</td><td>i64</td><td>i64</td><td>i64</td><td>i64</td><td>f64</td><td>f64</td><td>i64</td><td>date</td><td>date</td><td>str</td><td>date</td><td>i64</td><td>i64</td><td>i64</td><td>i64</td><td>f64</td><td>f64</td><td>i64</td></tr></thead><tbody><tr><td>9997</td><td>2020-06-30</td><td>&quot;四&quot;</td><td>2020-07-31</td><td>48534</td><td>2468</td><td>2669</td><td>1492</td><td>15.4</td><td>5.1</td><td>1</td><td>2021-03-31</td><td>2021-03-31</td><td>&quot;予&quot;</td><td>2020-05-13</td><td>175000</td><td>7000</td><td>7800</td><td>5200</td><td>53.8</td><td>16.0</td><td>4</td></tr><tr><td>9997</td><td>2020-09-30</td><td>&quot;四&quot;</td><td>2020-10-30</td><td>42605</td><td>2097</td><td>2455</td><td>1431</td><td>14.8</td><td>4.9</td><td>2</td><td>2021-03-31</td><td>2021-03-31</td><td>&quot;予&quot;</td><td>2020-05-13</td><td>175000</td><td>7000</td><td>7800</td><td>5200</td><td>53.8</td><td>16.0</td><td>4</td></tr><tr><td>9997</td><td>2020-09-30</td><td>&quot;四&quot;</td><td>2020-10-30</td><td>42605</td><td>2097</td><td>2455</td><td>1431</td><td>14.8</td><td>4.9</td><td>2</td><td>2021-03-31</td><td>2021-03-31</td><td>&quot;予&quot;</td><td>2020-10-29</td><td>197000</td><td>12500</td><td>13300</td><td>9500</td><td>98.3</td><td>16.0</td><td>4</td></tr><tr><td>9997</td><td>2020-12-31</td><td>&quot;四&quot;</td><td>2021-01-29</td><td>63006</td><td>7042</td><td>7363</td><td>5697</td><td>58.9</td><td>11.2</td><td>3</td><td>2021-03-31</td><td>2021-03-31</td><td>&quot;予&quot;</td><td>2020-05-13</td><td>175000</td><td>7000</td><td>7800</td><td>5200</td><td>53.8</td><td>16.0</td><td>4</td></tr><tr><td>9997</td><td>2020-12-31</td><td>&quot;四&quot;</td><td>2021-01-29</td><td>63006</td><td>7042</td><td>7363</td><td>5697</td><td>58.9</td><td>11.2</td><td>3</td><td>2021-03-31</td><td>2021-03-31</td><td>&quot;予&quot;</td><td>2020-10-29</td><td>197000</td><td>12500</td><td>13300</td><td>9500</td><td>98.3</td><td>16.0</td><td>4</td></tr><tr><td>&hellip;</td><td>&hellip;</td><td>&hellip;</td><td>&hellip;</td><td>&hellip;</td><td>&hellip;</td><td>&hellip;</td><td>&hellip;</td><td>&hellip;</td><td>&hellip;</td><td>&hellip;</td><td>&hellip;</td><td>&hellip;</td><td>&hellip;</td><td>&hellip;</td><td>&hellip;</td><td>&hellip;</td><td>&hellip;</td><td>&hellip;</td><td>&hellip;</td><td>&hellip;</td><td>&hellip;</td></tr><tr><td>9997</td><td>2023-12-31</td><td>&quot;四&quot;</td><td>2024-01-31</td><td>60173</td><td>2630</td><td>2605</td><td>1818</td><td>18.8</td><td>4.4</td><td>3</td><td>2024-03-31</td><td>2024-03-31</td><td>&quot;予&quot;</td><td>2023-10-30</td><td>208500</td><td>10000</td><td>11000</td><td>7000</td><td>72.4</td><td>20.5</td><td>4</td></tr><tr><td>9997</td><td>2024-03-31</td><td>&quot;四&quot;</td><td>2024-05-13</td><td>52020</td><td>4062</td><td>4901</td><td>758</td><td>7.8</td><td>7.8</td><td>4</td><td>2024-03-31</td><td>2024-03-31</td><td>&quot;予&quot;</td><td>2023-05-12</td><td>219000</td><td>14000</td><td>14700</td><td>9400</td><td>97.2</td><td>20.5</td><td>4</td></tr><tr><td>9997</td><td>2024-03-31</td><td>&quot;四&quot;</td><td>2024-05-13</td><td>52020</td><td>4062</td><td>4901</td><td>758</td><td>7.8</td><td>7.8</td><td>4</td><td>2024-03-31</td><td>2024-03-31</td><td>&quot;予&quot;</td><td>2023-10-30</td><td>208500</td><td>10000</td><td>11000</td><td>7000</td><td>72.4</td><td>20.5</td><td>4</td></tr><tr><td>9997</td><td>2024-06-30</td><td>&quot;四&quot;</td><td>2024-07-31</td><td>51368</td><td>982</td><td>1681</td><td>994</td><td>10.3</td><td>1.9</td><td>1</td><td>2025-03-31</td><td>2025-03-31</td><td>&quot;予&quot;</td><td>2024-05-13</td><td>217000</td><td>11500</td><td>12500</td><td>8000</td><td>82.7</td><td>29.0</td><td>4</td></tr><tr><td>9997</td><td>2024-09-30</td><td>&quot;四&quot;</td><td>2024-10-31</td><td>45759</td><td>2588</td><td>2462</td><td>1571</td><td>16.3</td><td>5.7</td><td>2</td><td>2025-03-31</td><td>2025-03-31</td><td>&quot;予&quot;</td><td>2024-05-13</td><td>217000</td><td>11500</td><td>12500</td><td>8000</td><td>82.7</td><td>29.0</td><td>4</td></tr></tbody></table></div>"
      ],
      "text/plain": [
       "shape: (30, 22)\n",
       "┌──────┬────────────┬────────────┬────────────┬───┬────────────┬───────────┬───────────┬───────────┐\n",
       "│ code ┆ settlement ┆ settlement ┆ announceme ┆ … ┆ final_prof ┆ reviced_e ┆ dividend_ ┆ quater_ri │\n",
       "│ ---  ┆ _date      ┆ _type      ┆ nt_date    ┆   ┆ it_right   ┆ ps_right  ┆ right     ┆ ght       │\n",
       "│ i64  ┆ ---        ┆ ---        ┆ ---        ┆   ┆ ---        ┆ ---       ┆ ---       ┆ ---       │\n",
       "│      ┆ date       ┆ str        ┆ date       ┆   ┆ i64        ┆ f64       ┆ f64       ┆ i64       │\n",
       "╞══════╪════════════╪════════════╪════════════╪═══╪════════════╪═══════════╪═══════════╪═══════════╡\n",
       "│ 9997 ┆ 2020-06-30 ┆ 四         ┆ 2020-07-31 ┆ … ┆ 5200       ┆ 53.8      ┆ 16.0      ┆ 4         │\n",
       "│ 9997 ┆ 2020-09-30 ┆ 四         ┆ 2020-10-30 ┆ … ┆ 5200       ┆ 53.8      ┆ 16.0      ┆ 4         │\n",
       "│ 9997 ┆ 2020-09-30 ┆ 四         ┆ 2020-10-30 ┆ … ┆ 9500       ┆ 98.3      ┆ 16.0      ┆ 4         │\n",
       "│ 9997 ┆ 2020-12-31 ┆ 四         ┆ 2021-01-29 ┆ … ┆ 5200       ┆ 53.8      ┆ 16.0      ┆ 4         │\n",
       "│ 9997 ┆ 2020-12-31 ┆ 四         ┆ 2021-01-29 ┆ … ┆ 9500       ┆ 98.3      ┆ 16.0      ┆ 4         │\n",
       "│ …    ┆ …          ┆ …          ┆ …          ┆ … ┆ …          ┆ …         ┆ …         ┆ …         │\n",
       "│ 9997 ┆ 2023-12-31 ┆ 四         ┆ 2024-01-31 ┆ … ┆ 7000       ┆ 72.4      ┆ 20.5      ┆ 4         │\n",
       "│ 9997 ┆ 2024-03-31 ┆ 四         ┆ 2024-05-13 ┆ … ┆ 9400       ┆ 97.2      ┆ 20.5      ┆ 4         │\n",
       "│ 9997 ┆ 2024-03-31 ┆ 四         ┆ 2024-05-13 ┆ … ┆ 7000       ┆ 72.4      ┆ 20.5      ┆ 4         │\n",
       "│ 9997 ┆ 2024-06-30 ┆ 四         ┆ 2024-07-31 ┆ … ┆ 8000       ┆ 82.7      ┆ 29.0      ┆ 4         │\n",
       "│ 9997 ┆ 2024-09-30 ┆ 四         ┆ 2024-10-31 ┆ … ┆ 8000       ┆ 82.7      ┆ 29.0      ┆ 4         │\n",
       "└──────┴────────────┴────────────┴────────────┴───┴────────────┴───────────┴───────────┴───────────┘"
      ]
     },
     "execution_count": 5,
     "metadata": {},
     "output_type": "execute_result"
    }
   ],
   "source": [
    "import polars as pl\n",
    "KPL.df.filter(pl.col(\"code\")==9997).filter(pl.col(\"settlement_type\")==\"四\")"
   ]
  },
  {
   "cell_type": "code",
   "execution_count": null,
   "id": "4ddc84ef-2e7e-44f4-8e82-c5995a33790b",
   "metadata": {},
   "outputs": [],
   "source": []
  }
 ],
 "metadata": {
  "kernelspec": {
   "display_name": "Python 3 (ipykernel)",
   "language": "python",
   "name": "python3"
  },
  "language_info": {
   "codemirror_mode": {
    "name": "ipython",
    "version": 3
   },
   "file_extension": ".py",
   "mimetype": "text/x-python",
   "name": "python",
   "nbconvert_exporter": "python",
   "pygments_lexer": "ipython3",
   "version": "3.12.3"
  }
 },
 "nbformat": 4,
 "nbformat_minor": 5
}
