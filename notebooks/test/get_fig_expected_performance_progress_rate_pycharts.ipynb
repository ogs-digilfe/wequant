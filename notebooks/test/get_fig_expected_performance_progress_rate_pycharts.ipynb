{
 "cells": [
  {
   "cell_type": "code",
   "execution_count": 1,
   "id": "a9f3397e-a22d-459a-8649-cee302e7ce01",
   "metadata": {},
   "outputs": [],
   "source": [
    "# 読み込みファイルパスの設定とimportしたいmoduleパス(pythonパス)の設定\n",
    "from pathlib import Path\n",
    "import os, sys\n",
    "\n",
    "CURRENT_DIR = Path(os.getcwd())\n",
    "PJ_DIR = CURRENT_DIR.parent.parent\n",
    "LIB_DIR = PJ_DIR / \"lib\"\n",
    "DATA_DIR = PJ_DIR / \"data\" \n",
    "\n",
    "sys.path.append(str(LIB_DIR))\n",
    "\n",
    "from lib_dataprocess import get_fig_expected_performance_progress_rate_pycharts\n",
    "from datetime import date"
   ]
  },
  {
   "cell_type": "code",
   "execution_count": 2,
   "id": "a495f7bb-3f01-465d-a46f-18301271bb1c",
   "metadata": {},
   "outputs": [
    {
     "name": "stdout",
     "output_type": "stream",
     "text": [
      "極洋(1301)の2025年3月期第1四半期決算進捗率(評価日：2024-11-16)\n"
     ]
    },
    {
     "data": {
      "text/html": [
       "<iframe\n",
       "    scrolling=\"no\"\n",
       "    width=\"100%\"\n",
       "    height=\"545px\"\n",
       "    src=\"iframe_figures/figure_2.html\"\n",
       "    frameborder=\"0\"\n",
       "    allowfullscreen\n",
       "></iframe>\n"
      ]
     },
     "metadata": {},
     "output_type": "display_data"
    }
   ],
   "source": [
    "# codeで指定した銘柄のevaluation_dateで指定した時点での最新の年度決算予想に基づく\n",
    "# 売上高~純利益の決算進捗率を円グラフで表示するためのfigを返す\n",
    "# from plotly.graph_objects import Figure\n",
    "# def get_fig_expected_performance_progress_rate_pycharts(code: int, evaluation_date: date=date.today()) -> Figure:\n",
    "target_stock_code = 1301\n",
    "fig = get_fig_expected_performance_progress_rate_pycharts(target_stock_code)\n",
    "fig.show()"
   ]
  },
  {
   "cell_type": "code",
   "execution_count": null,
   "id": "8afae999-c041-4b6e-a5e5-0995e676b8b2",
   "metadata": {},
   "outputs": [],
   "source": []
  }
 ],
 "metadata": {
  "kernelspec": {
   "display_name": "Python 3 (ipykernel)",
   "language": "python",
   "name": "python3"
  },
  "language_info": {
   "codemirror_mode": {
    "name": "ipython",
    "version": 3
   },
   "file_extension": ".py",
   "mimetype": "text/x-python",
   "name": "python",
   "nbconvert_exporter": "python",
   "pygments_lexer": "ipython3",
   "version": "3.12.3"
  }
 },
 "nbformat": 4,
 "nbformat_minor": 5
}
