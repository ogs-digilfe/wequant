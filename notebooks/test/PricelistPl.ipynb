{
 "cells": [
  {
   "cell_type": "code",
   "execution_count": 1,
   "id": "0c814578-a11f-4263-88ef-eb641ebcb927",
   "metadata": {},
   "outputs": [],
   "source": [
    "# 読み込みファイルパスの設定とimportしたいmoduleパス(pythonパス)の設定\n",
    "from pathlib import Path\n",
    "import os, sys\n",
    "\n",
    "CURRENT_DIR = Path(os.getcwd())\n",
    "PJ_DIR = CURRENT_DIR.parent.parent\n",
    "LIB_DIR = PJ_DIR / \"lib\"\n",
    "DATA_DIR = PJ_DIR / \"data\" \n",
    "\n",
    "sys.path.append(str(LIB_DIR))\n",
    "\n",
    "# notebook内で利用するmoduleのimport\n",
    "from lib_dataprocess import PricelistPl, read_data\n",
    "import polars as pl\n",
    "from datetime import date"
   ]
  },
  {
   "cell_type": "code",
   "execution_count": 2,
   "id": "a8181e7b-44d9-494e-966d-1d102d9026d1",
   "metadata": {},
   "outputs": [
    {
     "data": {
      "text/html": [
       "<div><style>\n",
       ".dataframe > thead > tr,\n",
       ".dataframe > tbody > tr {\n",
       "  text-align: right;\n",
       "  white-space: pre-wrap;\n",
       "}\n",
       "</style>\n",
       "<small>shape: (98_645, 8)</small><table border=\"1\" class=\"dataframe\"><thead><tr><th>code</th><th>date</th><th>open</th><th>high</th><th>low</th><th>close</th><th>volume</th><th>accumulated_split_rate</th></tr><tr><td>i64</td><td>date</td><td>f64</td><td>f64</td><td>f64</td><td>f64</td><td>f64</td><td>f64</td></tr></thead><tbody><tr><td>1301</td><td>2018-11-06</td><td>3015.0</td><td>3115.0</td><td>3010.0</td><td>3045.0</td><td>30700.0</td><td>1.0</td></tr><tr><td>1301</td><td>2019-02-09</td><td>null</td><td>null</td><td>null</td><td>null</td><td>null</td><td>null</td></tr><tr><td>1301</td><td>2019-05-14</td><td>2712.0</td><td>2818.0</td><td>2686.0</td><td>2810.0</td><td>50800.0</td><td>1.0</td></tr><tr><td>1301</td><td>2019-08-03</td><td>null</td><td>null</td><td>null</td><td>null</td><td>null</td><td>null</td></tr><tr><td>1301</td><td>2019-11-06</td><td>2961.0</td><td>2964.0</td><td>2902.0</td><td>2949.0</td><td>43200.0</td><td>1.0</td></tr><tr><td>&hellip;</td><td>&hellip;</td><td>&hellip;</td><td>&hellip;</td><td>&hellip;</td><td>&hellip;</td><td>&hellip;</td><td>&hellip;</td></tr><tr><td>9997</td><td>2023-08-01</td><td>691.0</td><td>691.0</td><td>677.0</td><td>677.0</td><td>977500.0</td><td>1.0</td></tr><tr><td>9997</td><td>2023-11-01</td><td>627.0</td><td>633.0</td><td>619.0</td><td>628.0</td><td>421200.0</td><td>1.0</td></tr><tr><td>9997</td><td>2024-02-01</td><td>629.0</td><td>630.0</td><td>615.0</td><td>622.0</td><td>535900.0</td><td>1.0</td></tr><tr><td>9997</td><td>2024-05-14</td><td>680.0</td><td>707.0</td><td>674.0</td><td>699.0</td><td>1.6375e6</td><td>1.0</td></tr><tr><td>9997</td><td>2024-08-01</td><td>755.0</td><td>755.0</td><td>720.0</td><td>720.0</td><td>556400.0</td><td>1.0</td></tr></tbody></table></div>"
      ],
      "text/plain": [
       "shape: (98_645, 8)\n",
       "┌──────┬────────────┬────────┬────────┬────────┬────────┬──────────┬────────────────────────┐\n",
       "│ code ┆ date       ┆ open   ┆ high   ┆ low    ┆ close  ┆ volume   ┆ accumulated_split_rate │\n",
       "│ ---  ┆ ---        ┆ ---    ┆ ---    ┆ ---    ┆ ---    ┆ ---      ┆ ---                    │\n",
       "│ i64  ┆ date       ┆ f64    ┆ f64    ┆ f64    ┆ f64    ┆ f64      ┆ f64                    │\n",
       "╞══════╪════════════╪════════╪════════╪════════╪════════╪══════════╪════════════════════════╡\n",
       "│ 1301 ┆ 2018-11-06 ┆ 3015.0 ┆ 3115.0 ┆ 3010.0 ┆ 3045.0 ┆ 30700.0  ┆ 1.0                    │\n",
       "│ 1301 ┆ 2019-02-09 ┆ null   ┆ null   ┆ null   ┆ null   ┆ null     ┆ null                   │\n",
       "│ 1301 ┆ 2019-05-14 ┆ 2712.0 ┆ 2818.0 ┆ 2686.0 ┆ 2810.0 ┆ 50800.0  ┆ 1.0                    │\n",
       "│ 1301 ┆ 2019-08-03 ┆ null   ┆ null   ┆ null   ┆ null   ┆ null     ┆ null                   │\n",
       "│ 1301 ┆ 2019-11-06 ┆ 2961.0 ┆ 2964.0 ┆ 2902.0 ┆ 2949.0 ┆ 43200.0  ┆ 1.0                    │\n",
       "│ …    ┆ …          ┆ …      ┆ …      ┆ …      ┆ …      ┆ …        ┆ …                      │\n",
       "│ 9997 ┆ 2023-08-01 ┆ 691.0  ┆ 691.0  ┆ 677.0  ┆ 677.0  ┆ 977500.0 ┆ 1.0                    │\n",
       "│ 9997 ┆ 2023-11-01 ┆ 627.0  ┆ 633.0  ┆ 619.0  ┆ 628.0  ┆ 421200.0 ┆ 1.0                    │\n",
       "│ 9997 ┆ 2024-02-01 ┆ 629.0  ┆ 630.0  ┆ 615.0  ┆ 622.0  ┆ 535900.0 ┆ 1.0                    │\n",
       "│ 9997 ┆ 2024-05-14 ┆ 680.0  ┆ 707.0  ┆ 674.0  ┆ 699.0  ┆ 1.6375e6 ┆ 1.0                    │\n",
       "│ 9997 ┆ 2024-08-01 ┆ 755.0  ┆ 755.0  ┆ 720.0  ┆ 720.0  ┆ 556400.0 ┆ 1.0                    │\n",
       "└──────┴────────────┴────────┴────────┴────────┴────────┴──────────┴────────────────────────┘"
      ]
     },
     "execution_count": 2,
     "metadata": {},
     "output_type": "execute_result"
    }
   ],
   "source": [
    "## 開発\n",
    "fp = DATA_DIR/\"reviced_pricelist.parquet\"\n",
    "df = read_data(fp)\n",
    "RPL = PricelistPl(df)\n",
    "\n",
    "from lib_dataprocess import KessanPl\n",
    "\n",
    "fp = DATA_DIR/\"kessan.parquet\"\n",
    "df = read_data(fp)\n",
    "KPL = KessanPl(df)\n",
    "\n",
    "items_df = KPL.get_settlement_performance_items_df(\"四\")\n",
    "# items_dfにpl.DataFrame.columns = [\"code\", \"start_date\", \"end_date\"]のpl.DataFrameを与えると、\n",
    "# 各レコードのstart_dateからend_dateまでの株価騰落率の列を追加して返す\n",
    "# *_pointは、起点(start)と終点(end)において、日足ローソクのどの時点の株価を起点、または終点とするか選択する。\n",
    "#def get_stockprice_change_rate(self, \n",
    "#    items_df: pl.DataFrame,\n",
    "#    start_point: Literal[\"open\", \"high\", \"low\", \"close\"] = \"open\",\n",
    "#    end_point: Literal[\"open\", \"high\", \"low\", \"close\"] = \"open\"\n",
    "#) -> pl.DataFrame:\n",
    "df = RPL.get_stockprice_change_rate(items_df)\n",
    "df"
   ]
  },
  {
   "cell_type": "code",
   "execution_count": 2,
   "id": "35405f8c-b9dc-456f-95a5-653f8157d27c",
   "metadata": {},
   "outputs": [],
   "source": [
    "fp = DATA_DIR/\"reviced_pricelist.parquet\"\n",
    "df = read_data(fp)\n",
    "RPL = PricelistPl(df)"
   ]
  },
  {
   "cell_type": "code",
   "execution_count": 3,
   "id": "fed887dd-b76f-463a-9f48-77412edd6649",
   "metadata": {},
   "outputs": [
    {
     "data": {
      "text/html": [
       "<div><style>\n",
       ".dataframe > thead > tr,\n",
       ".dataframe > tbody > tr {\n",
       "  text-align: right;\n",
       "  white-space: pre-wrap;\n",
       "}\n",
       "</style>\n",
       "<small>shape: (12_926_989, 8)</small><table border=\"1\" class=\"dataframe\"><thead><tr><th>code</th><th>date</th><th>open</th><th>high</th><th>low</th><th>close</th><th>volume</th><th>accumulated_split_rate</th></tr><tr><td>i64</td><td>date</td><td>f64</td><td>f64</td><td>f64</td><td>f64</td><td>f64</td><td>f64</td></tr></thead><tbody><tr><td>1301</td><td>2009-01-05</td><td>2100.0</td><td>2120.0</td><td>2060.0</td><td>2070.0</td><td>11500.0</td><td>10.0</td></tr><tr><td>1301</td><td>2009-01-06</td><td>2070.0</td><td>2090.0</td><td>2050.0</td><td>2070.0</td><td>27300.0</td><td>10.0</td></tr><tr><td>1301</td><td>2009-01-07</td><td>2050.0</td><td>2080.0</td><td>2050.0</td><td>2070.0</td><td>26900.0</td><td>10.0</td></tr><tr><td>1301</td><td>2009-01-08</td><td>2050.0</td><td>2070.0</td><td>2040.0</td><td>2060.0</td><td>19900.0</td><td>10.0</td></tr><tr><td>1301</td><td>2009-01-09</td><td>2070.0</td><td>2080.0</td><td>2050.0</td><td>2050.0</td><td>24300.0</td><td>10.0</td></tr><tr><td>&hellip;</td><td>&hellip;</td><td>&hellip;</td><td>&hellip;</td><td>&hellip;</td><td>&hellip;</td><td>&hellip;</td><td>&hellip;</td></tr><tr><td>9997</td><td>2024-12-02</td><td>758.0</td><td>760.0</td><td>750.0</td><td>752.0</td><td>125900.0</td><td>1.0</td></tr><tr><td>9997</td><td>2024-12-03</td><td>750.0</td><td>767.0</td><td>750.0</td><td>761.0</td><td>215900.0</td><td>1.0</td></tr><tr><td>9997</td><td>2024-12-04</td><td>759.0</td><td>764.0</td><td>755.0</td><td>760.0</td><td>162700.0</td><td>1.0</td></tr><tr><td>9997</td><td>2024-12-05</td><td>765.0</td><td>768.0</td><td>760.0</td><td>765.0</td><td>99400.0</td><td>1.0</td></tr><tr><td>9997</td><td>2024-12-06</td><td>766.0</td><td>770.0</td><td>760.0</td><td>766.0</td><td>127700.0</td><td>1.0</td></tr></tbody></table></div>"
      ],
      "text/plain": [
       "shape: (12_926_989, 8)\n",
       "┌──────┬────────────┬────────┬────────┬────────┬────────┬──────────┬────────────────────────┐\n",
       "│ code ┆ date       ┆ open   ┆ high   ┆ low    ┆ close  ┆ volume   ┆ accumulated_split_rate │\n",
       "│ ---  ┆ ---        ┆ ---    ┆ ---    ┆ ---    ┆ ---    ┆ ---      ┆ ---                    │\n",
       "│ i64  ┆ date       ┆ f64    ┆ f64    ┆ f64    ┆ f64    ┆ f64      ┆ f64                    │\n",
       "╞══════╪════════════╪════════╪════════╪════════╪════════╪══════════╪════════════════════════╡\n",
       "│ 1301 ┆ 2009-01-05 ┆ 2100.0 ┆ 2120.0 ┆ 2060.0 ┆ 2070.0 ┆ 11500.0  ┆ 10.0                   │\n",
       "│ 1301 ┆ 2009-01-06 ┆ 2070.0 ┆ 2090.0 ┆ 2050.0 ┆ 2070.0 ┆ 27300.0  ┆ 10.0                   │\n",
       "│ 1301 ┆ 2009-01-07 ┆ 2050.0 ┆ 2080.0 ┆ 2050.0 ┆ 2070.0 ┆ 26900.0  ┆ 10.0                   │\n",
       "│ 1301 ┆ 2009-01-08 ┆ 2050.0 ┆ 2070.0 ┆ 2040.0 ┆ 2060.0 ┆ 19900.0  ┆ 10.0                   │\n",
       "│ 1301 ┆ 2009-01-09 ┆ 2070.0 ┆ 2080.0 ┆ 2050.0 ┆ 2050.0 ┆ 24300.0  ┆ 10.0                   │\n",
       "│ …    ┆ …          ┆ …      ┆ …      ┆ …      ┆ …      ┆ …        ┆ …                      │\n",
       "│ 9997 ┆ 2024-12-02 ┆ 758.0  ┆ 760.0  ┆ 750.0  ┆ 752.0  ┆ 125900.0 ┆ 1.0                    │\n",
       "│ 9997 ┆ 2024-12-03 ┆ 750.0  ┆ 767.0  ┆ 750.0  ┆ 761.0  ┆ 215900.0 ┆ 1.0                    │\n",
       "│ 9997 ┆ 2024-12-04 ┆ 759.0  ┆ 764.0  ┆ 755.0  ┆ 760.0  ┆ 162700.0 ┆ 1.0                    │\n",
       "│ 9997 ┆ 2024-12-05 ┆ 765.0  ┆ 768.0  ┆ 760.0  ┆ 765.0  ┆ 99400.0  ┆ 1.0                    │\n",
       "│ 9997 ┆ 2024-12-06 ┆ 766.0  ┆ 770.0  ┆ 760.0  ┆ 766.0  ┆ 127700.0 ┆ 1.0                    │\n",
       "└──────┴────────────┴────────┴────────┴────────┴────────┴──────────┴────────────────────────┘"
      ]
     },
     "execution_count": 3,
     "metadata": {},
     "output_type": "execute_result"
    }
   ],
   "source": [
    "RPL.df"
   ]
  },
  {
   "cell_type": "code",
   "execution_count": 4,
   "id": "c82b18a2-bf73-43f3-9f49-1976606b7e3c",
   "metadata": {},
   "outputs": [
    {
     "data": {
      "text/plain": [
       "(datetime.date(2024, 11, 29), 3910.0)"
      ]
     },
     "execution_count": 4,
     "metadata": {},
     "output_type": "execute_result"
    }
   ],
   "source": [
    "fp = DATA_DIR/\"reviced_pricelist.parquet\"\n",
    "df = read_data(fp)\n",
    "RPL = PricelistPl(df)\n",
    "\n",
    "code = 1301\n",
    "\n",
    "# codeで指定した証券コードの銘柄の指定した日付における最新の終値の株価を、(取引日, 株価)のタプルで返す\n",
    "# def get_latest_dealingdate_and_price(self, code: int, valuation_date: date = date.today()) -> tuple:\n",
    "tup = RPL.get_latest_dealingdate_and_price(code)\n",
    "tup"
   ]
  },
  {
   "cell_type": "code",
   "execution_count": 5,
   "id": "dd453b3a-a063-4f9a-8d14-dae7d4850e8c",
   "metadata": {},
   "outputs": [
    {
     "data": {
      "text/html": [
       "<div><style>\n",
       ".dataframe > thead > tr,\n",
       ".dataframe > tbody > tr {\n",
       "  text-align: right;\n",
       "  white-space: pre-wrap;\n",
       "}\n",
       "</style>\n",
       "<small>shape: (12_798_369, 9)</small><table border=\"1\" class=\"dataframe\"><thead><tr><th>code</th><th>date</th><th>open</th><th>high</th><th>low</th><th>close</th><th>volume</th><th>accumulated_split_rate</th><th>ma25</th></tr><tr><td>i64</td><td>date</td><td>f64</td><td>f64</td><td>f64</td><td>f64</td><td>f64</td><td>f64</td><td>f64</td></tr></thead><tbody><tr><td>1301</td><td>2009-02-09</td><td>1910.0</td><td>1930.0</td><td>1900.0</td><td>1900.0</td><td>10900.0</td><td>10.0</td><td>1984.8</td></tr><tr><td>1301</td><td>2009-02-10</td><td>1910.0</td><td>1950.0</td><td>1910.0</td><td>1930.0</td><td>8900.0</td><td>10.0</td><td>1979.2</td></tr><tr><td>1301</td><td>2009-02-12</td><td>1900.0</td><td>1920.0</td><td>1890.0</td><td>1900.0</td><td>12800.0</td><td>10.0</td><td>1972.4</td></tr><tr><td>1301</td><td>2009-02-13</td><td>1900.0</td><td>1930.0</td><td>1900.0</td><td>1930.0</td><td>8800.0</td><td>10.0</td><td>1966.8</td></tr><tr><td>1301</td><td>2009-02-16</td><td>1920.0</td><td>1940.0</td><td>1910.0</td><td>1940.0</td><td>9600.0</td><td>10.0</td><td>1962.0</td></tr><tr><td>&hellip;</td><td>&hellip;</td><td>&hellip;</td><td>&hellip;</td><td>&hellip;</td><td>&hellip;</td><td>&hellip;</td><td>&hellip;</td><td>&hellip;</td></tr><tr><td>9997</td><td>2024-11-25</td><td>740.0</td><td>740.0</td><td>734.0</td><td>737.0</td><td>169400.0</td><td>1.0</td><td>722.84</td></tr><tr><td>9997</td><td>2024-11-26</td><td>738.0</td><td>738.0</td><td>732.0</td><td>736.0</td><td>67800.0</td><td>1.0</td><td>723.48</td></tr><tr><td>9997</td><td>2024-11-27</td><td>736.0</td><td>736.0</td><td>725.0</td><td>732.0</td><td>70600.0</td><td>1.0</td><td>723.84</td></tr><tr><td>9997</td><td>2024-11-28</td><td>732.0</td><td>754.0</td><td>732.0</td><td>753.0</td><td>195000.0</td><td>1.0</td><td>725.72</td></tr><tr><td>9997</td><td>2024-11-29</td><td>759.0</td><td>766.0</td><td>756.0</td><td>758.0</td><td>201200.0</td><td>1.0</td><td>727.88</td></tr></tbody></table></div>"
      ],
      "text/plain": [
       "shape: (12_798_369, 9)\n",
       "┌──────┬────────────┬────────┬────────┬───┬────────┬──────────┬────────────────────────┬────────┐\n",
       "│ code ┆ date       ┆ open   ┆ high   ┆ … ┆ close  ┆ volume   ┆ accumulated_split_rate ┆ ma25   │\n",
       "│ ---  ┆ ---        ┆ ---    ┆ ---    ┆   ┆ ---    ┆ ---      ┆ ---                    ┆ ---    │\n",
       "│ i64  ┆ date       ┆ f64    ┆ f64    ┆   ┆ f64    ┆ f64      ┆ f64                    ┆ f64    │\n",
       "╞══════╪════════════╪════════╪════════╪═══╪════════╪══════════╪════════════════════════╪════════╡\n",
       "│ 1301 ┆ 2009-02-09 ┆ 1910.0 ┆ 1930.0 ┆ … ┆ 1900.0 ┆ 10900.0  ┆ 10.0                   ┆ 1984.8 │\n",
       "│ 1301 ┆ 2009-02-10 ┆ 1910.0 ┆ 1950.0 ┆ … ┆ 1930.0 ┆ 8900.0   ┆ 10.0                   ┆ 1979.2 │\n",
       "│ 1301 ┆ 2009-02-12 ┆ 1900.0 ┆ 1920.0 ┆ … ┆ 1900.0 ┆ 12800.0  ┆ 10.0                   ┆ 1972.4 │\n",
       "│ 1301 ┆ 2009-02-13 ┆ 1900.0 ┆ 1930.0 ┆ … ┆ 1930.0 ┆ 8800.0   ┆ 10.0                   ┆ 1966.8 │\n",
       "│ 1301 ┆ 2009-02-16 ┆ 1920.0 ┆ 1940.0 ┆ … ┆ 1940.0 ┆ 9600.0   ┆ 10.0                   ┆ 1962.0 │\n",
       "│ …    ┆ …          ┆ …      ┆ …      ┆ … ┆ …      ┆ …        ┆ …                      ┆ …      │\n",
       "│ 9997 ┆ 2024-11-25 ┆ 740.0  ┆ 740.0  ┆ … ┆ 737.0  ┆ 169400.0 ┆ 1.0                    ┆ 722.84 │\n",
       "│ 9997 ┆ 2024-11-26 ┆ 738.0  ┆ 738.0  ┆ … ┆ 736.0  ┆ 67800.0  ┆ 1.0                    ┆ 723.48 │\n",
       "│ 9997 ┆ 2024-11-27 ┆ 736.0  ┆ 736.0  ┆ … ┆ 732.0  ┆ 70600.0  ┆ 1.0                    ┆ 723.84 │\n",
       "│ 9997 ┆ 2024-11-28 ┆ 732.0  ┆ 754.0  ┆ … ┆ 753.0  ┆ 195000.0 ┆ 1.0                    ┆ 725.72 │\n",
       "│ 9997 ┆ 2024-11-29 ┆ 759.0  ┆ 766.0  ┆ … ┆ 758.0  ┆ 201200.0 ┆ 1.0                    ┆ 727.88 │\n",
       "└──────┴────────────┴────────┴────────┴───┴────────┴──────────┴────────────────────────┴────────┘"
      ]
     },
     "execution_count": 5,
     "metadata": {},
     "output_type": "execute_result"
    }
   ],
   "source": [
    "fp = DATA_DIR/\"reviced_pricelist.parquet\"\n",
    "df = read_data(fp)\n",
    "RPL = PricelistPl(df)\n",
    "\n",
    "# colで指定した列のterm日の移動平均列を、25日移動平均であれば、ma25の\n",
    "# ような列名(maの後ろに移動平均の日数)で追加する。\n",
    "# termで指定した日数での移動平均が計算できない初期のレコードは、dropされてなくなる\n",
    "# 全データで実施すると、かなりメモリを消費するので、200日移動平均などを取得する場合は、\n",
    "# PricelistPl(filename).dfをfilterしてから実施しないとメモリが足りなくなるかもしれない。\n",
    "# メモリが不足して実行プロセスがダウンした場合は、例外も出力されない。\n",
    "# def with_columns_moving_average(self, term, col=\"close\"):\n",
    "RPL.with_columns_moving_average(25)\n",
    "RPL.df"
   ]
  },
  {
   "cell_type": "code",
   "execution_count": null,
   "id": "d251d77f-6185-4616-a7f4-9b8195e7b8d6",
   "metadata": {},
   "outputs": [],
   "source": []
  }
 ],
 "metadata": {
  "kernelspec": {
   "display_name": "Python 3 (ipykernel)",
   "language": "python",
   "name": "python3"
  },
  "language_info": {
   "codemirror_mode": {
    "name": "ipython",
    "version": 3
   },
   "file_extension": ".py",
   "mimetype": "text/x-python",
   "name": "python",
   "nbconvert_exporter": "python",
   "pygments_lexer": "ipython3",
   "version": "3.12.3"
  }
 },
 "nbformat": 4,
 "nbformat_minor": 5
}
