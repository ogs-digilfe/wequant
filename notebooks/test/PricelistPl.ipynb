{
 "cells": [
  {
   "cell_type": "code",
   "execution_count": 1,
   "id": "0c814578-a11f-4263-88ef-eb641ebcb927",
   "metadata": {},
   "outputs": [],
   "source": [
    "from pathlib import Path\n",
    "import os, sys\n",
    "\n",
    "CURRENT_DIR = Path(os.getcwd())\n",
    "PJ_DIR = CURRENT_DIR.parent.parent\n",
    "LIB_DIR = PJ_DIR / \"lib\"\n",
    "DATA_DIR = PJ_DIR / \"data\" \n",
    "\n",
    "sys.path.append(str(LIB_DIR))"
   ]
  },
  {
   "cell_type": "code",
   "execution_count": 3,
   "id": "35405f8c-b9dc-456f-95a5-653f8157d27c",
   "metadata": {},
   "outputs": [],
   "source": [
    "from lib_dataprocess import PricelistPl, read_data"
   ]
  },
  {
   "cell_type": "code",
   "execution_count": 4,
   "id": "fed887dd-b76f-463a-9f48-77412edd6649",
   "metadata": {},
   "outputs": [],
   "source": [
    "fp = DATA_DIR/\"reviced_pricelist.parquet\"\n",
    "df = read_data(fp)\n",
    "RPL = PricelistPl(df)"
   ]
  },
  {
   "cell_type": "code",
   "execution_count": null,
   "id": "a31ff303-6234-4f0b-bc2c-bb88471d1480",
   "metadata": {},
   "outputs": [],
   "source": []
  }
 ],
 "metadata": {
  "kernelspec": {
   "display_name": "Python 3 (ipykernel)",
   "language": "python",
   "name": "python3"
  },
  "language_info": {
   "codemirror_mode": {
    "name": "ipython",
    "version": 3
   },
   "file_extension": ".py",
   "mimetype": "text/x-python",
   "name": "python",
   "nbconvert_exporter": "python",
   "pygments_lexer": "ipython3",
   "version": "3.12.3"
  }
 },
 "nbformat": 4,
 "nbformat_minor": 5
}
