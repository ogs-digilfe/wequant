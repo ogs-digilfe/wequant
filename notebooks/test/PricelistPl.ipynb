{
 "cells": [
  {
   "cell_type": "code",
   "execution_count": 1,
   "id": "0c814578-a11f-4263-88ef-eb641ebcb927",
   "metadata": {},
   "outputs": [],
   "source": [
    "# 読み込みファイルパスの設定とimportしたいmoduleパス(pythonパス)の設定\n",
    "from pathlib import Path\n",
    "import os, sys\n",
    "\n",
    "CURRENT_DIR = Path(os.getcwd())\n",
    "PJ_DIR = CURRENT_DIR.parent.parent\n",
    "LIB_DIR = PJ_DIR / \"lib\"\n",
    "DATA_DIR = PJ_DIR / \"data\" \n",
    "\n",
    "sys.path.append(str(LIB_DIR))\n",
    "\n",
    "# notebook内で利用するmoduleのimport\n",
    "from lib_dataprocess import PricelistPl, read_data\n",
    "import polars as pl\n",
    "from datetime import date"
   ]
  },
  {
   "cell_type": "code",
   "execution_count": 2,
   "id": "35405f8c-b9dc-456f-95a5-653f8157d27c",
   "metadata": {},
   "outputs": [],
   "source": [
    "fp = DATA_DIR/\"reviced_pricelist.parquet\"\n",
    "df = read_data(fp)\n",
    "RPL = PricelistPl(df)"
   ]
  },
  {
   "cell_type": "code",
   "execution_count": 3,
   "id": "fed887dd-b76f-463a-9f48-77412edd6649",
   "metadata": {},
   "outputs": [
    {
     "data": {
      "text/html": [
       "<div><style>\n",
       ".dataframe > thead > tr,\n",
       ".dataframe > tbody > tr {\n",
       "  text-align: right;\n",
       "  white-space: pre-wrap;\n",
       "}\n",
       "</style>\n",
       "<small>shape: (12_907_907, 8)</small><table border=\"1\" class=\"dataframe\"><thead><tr><th>code</th><th>date</th><th>open</th><th>high</th><th>low</th><th>close</th><th>volume</th><th>accumulated_split_rate</th></tr><tr><td>i64</td><td>date</td><td>f64</td><td>f64</td><td>f64</td><td>f64</td><td>f64</td><td>f64</td></tr></thead><tbody><tr><td>1301</td><td>2009-01-05</td><td>2100.0</td><td>2120.0</td><td>2060.0</td><td>2070.0</td><td>11500.0</td><td>10.0</td></tr><tr><td>1301</td><td>2009-01-06</td><td>2070.0</td><td>2090.0</td><td>2050.0</td><td>2070.0</td><td>27300.0</td><td>10.0</td></tr><tr><td>1301</td><td>2009-01-07</td><td>2050.0</td><td>2080.0</td><td>2050.0</td><td>2070.0</td><td>26900.0</td><td>10.0</td></tr><tr><td>1301</td><td>2009-01-08</td><td>2050.0</td><td>2070.0</td><td>2040.0</td><td>2060.0</td><td>19900.0</td><td>10.0</td></tr><tr><td>1301</td><td>2009-01-09</td><td>2070.0</td><td>2080.0</td><td>2050.0</td><td>2050.0</td><td>24300.0</td><td>10.0</td></tr><tr><td>&hellip;</td><td>&hellip;</td><td>&hellip;</td><td>&hellip;</td><td>&hellip;</td><td>&hellip;</td><td>&hellip;</td><td>&hellip;</td></tr><tr><td>9997</td><td>2024-11-25</td><td>740.0</td><td>740.0</td><td>734.0</td><td>737.0</td><td>169400.0</td><td>1.0</td></tr><tr><td>9997</td><td>2024-11-26</td><td>738.0</td><td>738.0</td><td>732.0</td><td>736.0</td><td>67800.0</td><td>1.0</td></tr><tr><td>9997</td><td>2024-11-27</td><td>736.0</td><td>736.0</td><td>725.0</td><td>732.0</td><td>70600.0</td><td>1.0</td></tr><tr><td>9997</td><td>2024-11-28</td><td>732.0</td><td>754.0</td><td>732.0</td><td>753.0</td><td>195000.0</td><td>1.0</td></tr><tr><td>9997</td><td>2024-11-29</td><td>759.0</td><td>766.0</td><td>756.0</td><td>758.0</td><td>201200.0</td><td>1.0</td></tr></tbody></table></div>"
      ],
      "text/plain": [
       "shape: (12_907_907, 8)\n",
       "┌──────┬────────────┬────────┬────────┬────────┬────────┬──────────┬────────────────────────┐\n",
       "│ code ┆ date       ┆ open   ┆ high   ┆ low    ┆ close  ┆ volume   ┆ accumulated_split_rate │\n",
       "│ ---  ┆ ---        ┆ ---    ┆ ---    ┆ ---    ┆ ---    ┆ ---      ┆ ---                    │\n",
       "│ i64  ┆ date       ┆ f64    ┆ f64    ┆ f64    ┆ f64    ┆ f64      ┆ f64                    │\n",
       "╞══════╪════════════╪════════╪════════╪════════╪════════╪══════════╪════════════════════════╡\n",
       "│ 1301 ┆ 2009-01-05 ┆ 2100.0 ┆ 2120.0 ┆ 2060.0 ┆ 2070.0 ┆ 11500.0  ┆ 10.0                   │\n",
       "│ 1301 ┆ 2009-01-06 ┆ 2070.0 ┆ 2090.0 ┆ 2050.0 ┆ 2070.0 ┆ 27300.0  ┆ 10.0                   │\n",
       "│ 1301 ┆ 2009-01-07 ┆ 2050.0 ┆ 2080.0 ┆ 2050.0 ┆ 2070.0 ┆ 26900.0  ┆ 10.0                   │\n",
       "│ 1301 ┆ 2009-01-08 ┆ 2050.0 ┆ 2070.0 ┆ 2040.0 ┆ 2060.0 ┆ 19900.0  ┆ 10.0                   │\n",
       "│ 1301 ┆ 2009-01-09 ┆ 2070.0 ┆ 2080.0 ┆ 2050.0 ┆ 2050.0 ┆ 24300.0  ┆ 10.0                   │\n",
       "│ …    ┆ …          ┆ …      ┆ …      ┆ …      ┆ …      ┆ …        ┆ …                      │\n",
       "│ 9997 ┆ 2024-11-25 ┆ 740.0  ┆ 740.0  ┆ 734.0  ┆ 737.0  ┆ 169400.0 ┆ 1.0                    │\n",
       "│ 9997 ┆ 2024-11-26 ┆ 738.0  ┆ 738.0  ┆ 732.0  ┆ 736.0  ┆ 67800.0  ┆ 1.0                    │\n",
       "│ 9997 ┆ 2024-11-27 ┆ 736.0  ┆ 736.0  ┆ 725.0  ┆ 732.0  ┆ 70600.0  ┆ 1.0                    │\n",
       "│ 9997 ┆ 2024-11-28 ┆ 732.0  ┆ 754.0  ┆ 732.0  ┆ 753.0  ┆ 195000.0 ┆ 1.0                    │\n",
       "│ 9997 ┆ 2024-11-29 ┆ 759.0  ┆ 766.0  ┆ 756.0  ┆ 758.0  ┆ 201200.0 ┆ 1.0                    │\n",
       "└──────┴────────────┴────────┴────────┴────────┴────────┴──────────┴────────────────────────┘"
      ]
     },
     "execution_count": 3,
     "metadata": {},
     "output_type": "execute_result"
    }
   ],
   "source": [
    "RPL.df"
   ]
  },
  {
   "cell_type": "code",
   "execution_count": null,
   "id": "0482faee-a4bd-42f6-aabc-e25fea35beac",
   "metadata": {},
   "outputs": [],
   "source": [
    "# 開発\n"
   ]
  },
  {
   "cell_type": "code",
   "execution_count": 4,
   "id": "c82b18a2-bf73-43f3-9f49-1976606b7e3c",
   "metadata": {},
   "outputs": [
    {
     "data": {
      "text/plain": [
       "(datetime.date(2024, 11, 29), 3910.0)"
      ]
     },
     "execution_count": 4,
     "metadata": {},
     "output_type": "execute_result"
    }
   ],
   "source": [
    "fp = DATA_DIR/\"reviced_pricelist.parquet\"\n",
    "df = read_data(fp)\n",
    "RPL = PricelistPl(df)\n",
    "\n",
    "code = 1301\n",
    "\n",
    "# codeで指定した証券コードの銘柄の指定した日付における最新の終値の株価を、(取引日, 株価)のタプルで返す\n",
    "# def get_latest_dealingdate_and_price(self, code: int, valuation_date: date = date.today()) -> tuple:\n",
    "tup = RPL.get_latest_dealingdate_and_price(code)\n",
    "tup"
   ]
  },
  {
   "cell_type": "code",
   "execution_count": 5,
   "id": "dd453b3a-a063-4f9a-8d14-dae7d4850e8c",
   "metadata": {},
   "outputs": [
    {
     "data": {
      "text/html": [
       "<div><style>\n",
       ".dataframe > thead > tr,\n",
       ".dataframe > tbody > tr {\n",
       "  text-align: right;\n",
       "  white-space: pre-wrap;\n",
       "}\n",
       "</style>\n",
       "<small>shape: (12_798_369, 9)</small><table border=\"1\" class=\"dataframe\"><thead><tr><th>code</th><th>date</th><th>open</th><th>high</th><th>low</th><th>close</th><th>volume</th><th>accumulated_split_rate</th><th>ma25</th></tr><tr><td>i64</td><td>date</td><td>f64</td><td>f64</td><td>f64</td><td>f64</td><td>f64</td><td>f64</td><td>f64</td></tr></thead><tbody><tr><td>1301</td><td>2009-02-09</td><td>1910.0</td><td>1930.0</td><td>1900.0</td><td>1900.0</td><td>10900.0</td><td>10.0</td><td>1984.8</td></tr><tr><td>1301</td><td>2009-02-10</td><td>1910.0</td><td>1950.0</td><td>1910.0</td><td>1930.0</td><td>8900.0</td><td>10.0</td><td>1979.2</td></tr><tr><td>1301</td><td>2009-02-12</td><td>1900.0</td><td>1920.0</td><td>1890.0</td><td>1900.0</td><td>12800.0</td><td>10.0</td><td>1972.4</td></tr><tr><td>1301</td><td>2009-02-13</td><td>1900.0</td><td>1930.0</td><td>1900.0</td><td>1930.0</td><td>8800.0</td><td>10.0</td><td>1966.8</td></tr><tr><td>1301</td><td>2009-02-16</td><td>1920.0</td><td>1940.0</td><td>1910.0</td><td>1940.0</td><td>9600.0</td><td>10.0</td><td>1962.0</td></tr><tr><td>&hellip;</td><td>&hellip;</td><td>&hellip;</td><td>&hellip;</td><td>&hellip;</td><td>&hellip;</td><td>&hellip;</td><td>&hellip;</td><td>&hellip;</td></tr><tr><td>9997</td><td>2024-11-25</td><td>740.0</td><td>740.0</td><td>734.0</td><td>737.0</td><td>169400.0</td><td>1.0</td><td>722.84</td></tr><tr><td>9997</td><td>2024-11-26</td><td>738.0</td><td>738.0</td><td>732.0</td><td>736.0</td><td>67800.0</td><td>1.0</td><td>723.48</td></tr><tr><td>9997</td><td>2024-11-27</td><td>736.0</td><td>736.0</td><td>725.0</td><td>732.0</td><td>70600.0</td><td>1.0</td><td>723.84</td></tr><tr><td>9997</td><td>2024-11-28</td><td>732.0</td><td>754.0</td><td>732.0</td><td>753.0</td><td>195000.0</td><td>1.0</td><td>725.72</td></tr><tr><td>9997</td><td>2024-11-29</td><td>759.0</td><td>766.0</td><td>756.0</td><td>758.0</td><td>201200.0</td><td>1.0</td><td>727.88</td></tr></tbody></table></div>"
      ],
      "text/plain": [
       "shape: (12_798_369, 9)\n",
       "┌──────┬────────────┬────────┬────────┬───┬────────┬──────────┬────────────────────────┬────────┐\n",
       "│ code ┆ date       ┆ open   ┆ high   ┆ … ┆ close  ┆ volume   ┆ accumulated_split_rate ┆ ma25   │\n",
       "│ ---  ┆ ---        ┆ ---    ┆ ---    ┆   ┆ ---    ┆ ---      ┆ ---                    ┆ ---    │\n",
       "│ i64  ┆ date       ┆ f64    ┆ f64    ┆   ┆ f64    ┆ f64      ┆ f64                    ┆ f64    │\n",
       "╞══════╪════════════╪════════╪════════╪═══╪════════╪══════════╪════════════════════════╪════════╡\n",
       "│ 1301 ┆ 2009-02-09 ┆ 1910.0 ┆ 1930.0 ┆ … ┆ 1900.0 ┆ 10900.0  ┆ 10.0                   ┆ 1984.8 │\n",
       "│ 1301 ┆ 2009-02-10 ┆ 1910.0 ┆ 1950.0 ┆ … ┆ 1930.0 ┆ 8900.0   ┆ 10.0                   ┆ 1979.2 │\n",
       "│ 1301 ┆ 2009-02-12 ┆ 1900.0 ┆ 1920.0 ┆ … ┆ 1900.0 ┆ 12800.0  ┆ 10.0                   ┆ 1972.4 │\n",
       "│ 1301 ┆ 2009-02-13 ┆ 1900.0 ┆ 1930.0 ┆ … ┆ 1930.0 ┆ 8800.0   ┆ 10.0                   ┆ 1966.8 │\n",
       "│ 1301 ┆ 2009-02-16 ┆ 1920.0 ┆ 1940.0 ┆ … ┆ 1940.0 ┆ 9600.0   ┆ 10.0                   ┆ 1962.0 │\n",
       "│ …    ┆ …          ┆ …      ┆ …      ┆ … ┆ …      ┆ …        ┆ …                      ┆ …      │\n",
       "│ 9997 ┆ 2024-11-25 ┆ 740.0  ┆ 740.0  ┆ … ┆ 737.0  ┆ 169400.0 ┆ 1.0                    ┆ 722.84 │\n",
       "│ 9997 ┆ 2024-11-26 ┆ 738.0  ┆ 738.0  ┆ … ┆ 736.0  ┆ 67800.0  ┆ 1.0                    ┆ 723.48 │\n",
       "│ 9997 ┆ 2024-11-27 ┆ 736.0  ┆ 736.0  ┆ … ┆ 732.0  ┆ 70600.0  ┆ 1.0                    ┆ 723.84 │\n",
       "│ 9997 ┆ 2024-11-28 ┆ 732.0  ┆ 754.0  ┆ … ┆ 753.0  ┆ 195000.0 ┆ 1.0                    ┆ 725.72 │\n",
       "│ 9997 ┆ 2024-11-29 ┆ 759.0  ┆ 766.0  ┆ … ┆ 758.0  ┆ 201200.0 ┆ 1.0                    ┆ 727.88 │\n",
       "└──────┴────────────┴────────┴────────┴───┴────────┴──────────┴────────────────────────┴────────┘"
      ]
     },
     "execution_count": 5,
     "metadata": {},
     "output_type": "execute_result"
    }
   ],
   "source": [
    "fp = DATA_DIR/\"reviced_pricelist.parquet\"\n",
    "df = read_data(fp)\n",
    "RPL = PricelistPl(df)\n",
    "\n",
    "# colで指定した列のterm日の移動平均列を、25日移動平均であれば、ma25の\n",
    "# ような列名(maの後ろに移動平均の日数)で追加する。\n",
    "# termで指定した日数での移動平均が計算できない初期のレコードは、dropされてなくなる\n",
    "# 全データで実施すると、かなりメモリを消費するので、200日移動平均などを取得する場合は、\n",
    "# PricelistPl(filename).dfをfilterしてから実施しないとメモリが足りなくなるかもしれない。\n",
    "# メモリが不足して実行プロセスがダウンした場合は、例外も出力されない。\n",
    "# def with_columns_moving_average(self, term, col=\"close\"):\n",
    "RPL.with_columns_moving_average(25)\n",
    "RPL.df"
   ]
  },
  {
   "cell_type": "code",
   "execution_count": null,
   "id": "d251d77f-6185-4616-a7f4-9b8195e7b8d6",
   "metadata": {},
   "outputs": [],
   "source": []
  }
 ],
 "metadata": {
  "kernelspec": {
   "display_name": "Python 3 (ipykernel)",
   "language": "python",
   "name": "python3"
  },
  "language_info": {
   "codemirror_mode": {
    "name": "ipython",
    "version": 3
   },
   "file_extension": ".py",
   "mimetype": "text/x-python",
   "name": "python",
   "nbconvert_exporter": "python",
   "pygments_lexer": "ipython3",
   "version": "3.12.3"
  }
 },
 "nbformat": 4,
 "nbformat_minor": 5
}
