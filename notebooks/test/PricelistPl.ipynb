{
 "cells": [
  {
   "cell_type": "code",
   "execution_count": 1,
   "id": "0c814578-a11f-4263-88ef-eb641ebcb927",
   "metadata": {},
   "outputs": [],
   "source": [
    "# 読み込みファイルパスの設定とimportしたいmoduleパス(pythonパス)の設定\n",
    "from pathlib import Path\n",
    "import os, sys\n",
    "\n",
    "CURRENT_DIR = Path(os.getcwd())\n",
    "PJ_DIR = CURRENT_DIR.parent.parent\n",
    "LIB_DIR = PJ_DIR / \"lib\"\n",
    "DATA_DIR = PJ_DIR / \"data\" \n",
    "\n",
    "sys.path.append(str(LIB_DIR))\n",
    "\n",
    "# notebook内で利用するmoduleのimport\n",
    "from lib_dataprocess import PricelistPl, read_data\n",
    "import polars as pl\n",
    "from datetime import date"
   ]
  },
  {
   "cell_type": "code",
   "execution_count": 2,
   "id": "35405f8c-b9dc-456f-95a5-653f8157d27c",
   "metadata": {},
   "outputs": [],
   "source": [
    "fp = DATA_DIR/\"reviced_pricelist.parquet\"\n",
    "df = read_data(fp)\n",
    "RPL = PricelistPl(df)"
   ]
  },
  {
   "cell_type": "code",
   "execution_count": 3,
   "id": "fed887dd-b76f-463a-9f48-77412edd6649",
   "metadata": {},
   "outputs": [
    {
     "data": {
      "text/html": [
       "<div><style>\n",
       ".dataframe > thead > tr,\n",
       ".dataframe > tbody > tr {\n",
       "  text-align: right;\n",
       "  white-space: pre-wrap;\n",
       "}\n",
       "</style>\n",
       "<small>shape: (12_888_894, 8)</small><table border=\"1\" class=\"dataframe\"><thead><tr><th>code</th><th>date</th><th>open</th><th>high</th><th>low</th><th>close</th><th>volume</th><th>accumulated_split_rate</th></tr><tr><td>i64</td><td>date</td><td>f64</td><td>f64</td><td>f64</td><td>f64</td><td>f64</td><td>f64</td></tr></thead><tbody><tr><td>1301</td><td>2009-01-05</td><td>2100.0</td><td>2120.0</td><td>2060.0</td><td>2070.0</td><td>11500.0</td><td>10.0</td></tr><tr><td>1301</td><td>2009-01-06</td><td>2070.0</td><td>2090.0</td><td>2050.0</td><td>2070.0</td><td>27300.0</td><td>10.0</td></tr><tr><td>1301</td><td>2009-01-07</td><td>2050.0</td><td>2080.0</td><td>2050.0</td><td>2070.0</td><td>26900.0</td><td>10.0</td></tr><tr><td>1301</td><td>2009-01-08</td><td>2050.0</td><td>2070.0</td><td>2040.0</td><td>2060.0</td><td>19900.0</td><td>10.0</td></tr><tr><td>1301</td><td>2009-01-09</td><td>2070.0</td><td>2080.0</td><td>2050.0</td><td>2050.0</td><td>24300.0</td><td>10.0</td></tr><tr><td>&hellip;</td><td>&hellip;</td><td>&hellip;</td><td>&hellip;</td><td>&hellip;</td><td>&hellip;</td><td>&hellip;</td><td>&hellip;</td></tr><tr><td>9997</td><td>2024-11-18</td><td>721.0</td><td>729.0</td><td>720.0</td><td>724.0</td><td>107300.0</td><td>1.0</td></tr><tr><td>9997</td><td>2024-11-19</td><td>721.0</td><td>729.0</td><td>721.0</td><td>728.0</td><td>49800.0</td><td>1.0</td></tr><tr><td>9997</td><td>2024-11-20</td><td>725.0</td><td>730.0</td><td>725.0</td><td>726.0</td><td>66100.0</td><td>1.0</td></tr><tr><td>9997</td><td>2024-11-21</td><td>728.0</td><td>732.0</td><td>723.0</td><td>729.0</td><td>79600.0</td><td>1.0</td></tr><tr><td>9997</td><td>2024-11-22</td><td>729.0</td><td>736.0</td><td>726.0</td><td>734.0</td><td>74400.0</td><td>1.0</td></tr></tbody></table></div>"
      ],
      "text/plain": [
       "shape: (12_888_894, 8)\n",
       "┌──────┬────────────┬────────┬────────┬────────┬────────┬──────────┬────────────────────────┐\n",
       "│ code ┆ date       ┆ open   ┆ high   ┆ low    ┆ close  ┆ volume   ┆ accumulated_split_rate │\n",
       "│ ---  ┆ ---        ┆ ---    ┆ ---    ┆ ---    ┆ ---    ┆ ---      ┆ ---                    │\n",
       "│ i64  ┆ date       ┆ f64    ┆ f64    ┆ f64    ┆ f64    ┆ f64      ┆ f64                    │\n",
       "╞══════╪════════════╪════════╪════════╪════════╪════════╪══════════╪════════════════════════╡\n",
       "│ 1301 ┆ 2009-01-05 ┆ 2100.0 ┆ 2120.0 ┆ 2060.0 ┆ 2070.0 ┆ 11500.0  ┆ 10.0                   │\n",
       "│ 1301 ┆ 2009-01-06 ┆ 2070.0 ┆ 2090.0 ┆ 2050.0 ┆ 2070.0 ┆ 27300.0  ┆ 10.0                   │\n",
       "│ 1301 ┆ 2009-01-07 ┆ 2050.0 ┆ 2080.0 ┆ 2050.0 ┆ 2070.0 ┆ 26900.0  ┆ 10.0                   │\n",
       "│ 1301 ┆ 2009-01-08 ┆ 2050.0 ┆ 2070.0 ┆ 2040.0 ┆ 2060.0 ┆ 19900.0  ┆ 10.0                   │\n",
       "│ 1301 ┆ 2009-01-09 ┆ 2070.0 ┆ 2080.0 ┆ 2050.0 ┆ 2050.0 ┆ 24300.0  ┆ 10.0                   │\n",
       "│ …    ┆ …          ┆ …      ┆ …      ┆ …      ┆ …      ┆ …        ┆ …                      │\n",
       "│ 9997 ┆ 2024-11-18 ┆ 721.0  ┆ 729.0  ┆ 720.0  ┆ 724.0  ┆ 107300.0 ┆ 1.0                    │\n",
       "│ 9997 ┆ 2024-11-19 ┆ 721.0  ┆ 729.0  ┆ 721.0  ┆ 728.0  ┆ 49800.0  ┆ 1.0                    │\n",
       "│ 9997 ┆ 2024-11-20 ┆ 725.0  ┆ 730.0  ┆ 725.0  ┆ 726.0  ┆ 66100.0  ┆ 1.0                    │\n",
       "│ 9997 ┆ 2024-11-21 ┆ 728.0  ┆ 732.0  ┆ 723.0  ┆ 729.0  ┆ 79600.0  ┆ 1.0                    │\n",
       "│ 9997 ┆ 2024-11-22 ┆ 729.0  ┆ 736.0  ┆ 726.0  ┆ 734.0  ┆ 74400.0  ┆ 1.0                    │\n",
       "└──────┴────────────┴────────┴────────┴────────┴────────┴──────────┴────────────────────────┘"
      ]
     },
     "execution_count": 3,
     "metadata": {},
     "output_type": "execute_result"
    }
   ],
   "source": [
    "RPL.df"
   ]
  },
  {
   "cell_type": "code",
   "execution_count": 4,
   "id": "c82b18a2-bf73-43f3-9f49-1976606b7e3c",
   "metadata": {},
   "outputs": [
    {
     "data": {
      "text/plain": [
       "(datetime.date(2024, 11, 22), 3940.0)"
      ]
     },
     "execution_count": 4,
     "metadata": {},
     "output_type": "execute_result"
    }
   ],
   "source": [
    "fp = DATA_DIR/\"reviced_pricelist.parquet\"\n",
    "df = read_data(fp)\n",
    "RPL = PricelistPl(df)\n",
    "\n",
    "code = 1301\n",
    "\n",
    "# codeで指定した証券コードの銘柄の指定した日付における最新の終値の株価を、(取引日, 株価)のタプルで返す\n",
    "# def get_latest_dealingdate_and_price(self, code: int, valuation_date: date = date.today()) -> tuple:\n",
    "tup = RPL.get_latest_dealingdate_and_price(code)\n",
    "tup"
   ]
  },
  {
   "cell_type": "code",
   "execution_count": null,
   "id": "dd453b3a-a063-4f9a-8d14-dae7d4850e8c",
   "metadata": {},
   "outputs": [],
   "source": []
  }
 ],
 "metadata": {
  "kernelspec": {
   "display_name": "Python 3 (ipykernel)",
   "language": "python",
   "name": "python3"
  },
  "language_info": {
   "codemirror_mode": {
    "name": "ipython",
    "version": 3
   },
   "file_extension": ".py",
   "mimetype": "text/x-python",
   "name": "python",
   "nbconvert_exporter": "python",
   "pygments_lexer": "ipython3",
   "version": "3.12.3"
  }
 },
 "nbformat": 4,
 "nbformat_minor": 5
}
