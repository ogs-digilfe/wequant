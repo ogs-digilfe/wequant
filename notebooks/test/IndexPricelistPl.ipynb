{
 "cells": [
  {
   "cell_type": "code",
   "execution_count": 1,
   "id": "232f4698-386f-47df-8497-689fd7e668ee",
   "metadata": {},
   "outputs": [],
   "source": [
    "# 読み込みファイルパスの設定とimportしたいmoduleパス(pythonパス)の設定\n",
    "from pathlib import Path\n",
    "import os, sys\n",
    "\n",
    "CURRENT_DIR = Path(os.getcwd())\n",
    "PJ_DIR = CURRENT_DIR.parent.parent\n",
    "LIB_DIR = PJ_DIR / \"lib\"\n",
    "DATA_DIR = PJ_DIR / \"data\" \n",
    "\n",
    "sys.path.append(str(LIB_DIR))\n",
    "\n",
    "# notebook内で利用するmoduleのimport\n",
    "from lib_dataprocess import IndexPricelistPl\n",
    "import polars as pl\n",
    "from datetime import date"
   ]
  },
  {
   "cell_type": "code",
   "execution_count": 4,
   "id": "f93b31cf-edac-4f1b-a021-3dddad3b190d",
   "metadata": {},
   "outputs": [
    {
     "data": {
      "text/html": [
       "<div><style>\n",
       ".dataframe > thead > tr,\n",
       ".dataframe > tbody > tr {\n",
       "  text-align: right;\n",
       "  white-space: pre-wrap;\n",
       "}\n",
       "</style>\n",
       "<small>shape: (13_431, 5)</small><table border=\"1\" class=\"dataframe\"><thead><tr><th>date</th><th>open</th><th>high</th><th>low</th><th>close</th></tr><tr><td>date</td><td>f64</td><td>f64</td><td>f64</td><td>f64</td></tr></thead><tbody><tr><td>1970-01-06</td><td>2406.0</td><td>2406.0</td><td>2406.0</td><td>2406.0</td></tr><tr><td>1970-01-07</td><td>2395.0</td><td>2395.0</td><td>2395.0</td><td>2395.0</td></tr><tr><td>1970-01-08</td><td>2284.0</td><td>2284.0</td><td>2284.0</td><td>2284.0</td></tr><tr><td>1970-01-09</td><td>2359.0</td><td>2359.0</td><td>2359.0</td><td>2359.0</td></tr><tr><td>1970-01-12</td><td>2324.0</td><td>2324.0</td><td>2324.0</td><td>2324.0</td></tr><tr><td>&hellip;</td><td>&hellip;</td><td>&hellip;</td><td>&hellip;</td><td>&hellip;</td></tr><tr><td>2024-12-24</td><td>39210.2</td><td>39245.8</td><td>38995.8</td><td>39036.9</td></tr><tr><td>2024-12-25</td><td>39168.5</td><td>39180.6</td><td>38927.2</td><td>39130.4</td></tr><tr><td>2024-12-26</td><td>39129.3</td><td>39592.3</td><td>39110.9</td><td>39568.1</td></tr><tr><td>2024-12-27</td><td>39672.1</td><td>40398.2</td><td>39669.4</td><td>40281.2</td></tr><tr><td>2024-12-30</td><td>40325.8</td><td>40325.8</td><td>39864.5</td><td>39894.5</td></tr></tbody></table></div>"
      ],
      "text/plain": [
       "shape: (13_431, 5)\n",
       "┌────────────┬─────────┬─────────┬─────────┬─────────┐\n",
       "│ date       ┆ open    ┆ high    ┆ low     ┆ close   │\n",
       "│ ---        ┆ ---     ┆ ---     ┆ ---     ┆ ---     │\n",
       "│ date       ┆ f64     ┆ f64     ┆ f64     ┆ f64     │\n",
       "╞════════════╪═════════╪═════════╪═════════╪═════════╡\n",
       "│ 1970-01-06 ┆ 2406.0  ┆ 2406.0  ┆ 2406.0  ┆ 2406.0  │\n",
       "│ 1970-01-07 ┆ 2395.0  ┆ 2395.0  ┆ 2395.0  ┆ 2395.0  │\n",
       "│ 1970-01-08 ┆ 2284.0  ┆ 2284.0  ┆ 2284.0  ┆ 2284.0  │\n",
       "│ 1970-01-09 ┆ 2359.0  ┆ 2359.0  ┆ 2359.0  ┆ 2359.0  │\n",
       "│ 1970-01-12 ┆ 2324.0  ┆ 2324.0  ┆ 2324.0  ┆ 2324.0  │\n",
       "│ …          ┆ …       ┆ …       ┆ …       ┆ …       │\n",
       "│ 2024-12-24 ┆ 39210.2 ┆ 39245.8 ┆ 38995.8 ┆ 39036.9 │\n",
       "│ 2024-12-25 ┆ 39168.5 ┆ 39180.6 ┆ 38927.2 ┆ 39130.4 │\n",
       "│ 2024-12-26 ┆ 39129.3 ┆ 39592.3 ┆ 39110.9 ┆ 39568.1 │\n",
       "│ 2024-12-27 ┆ 39672.1 ┆ 40398.2 ┆ 39669.4 ┆ 40281.2 │\n",
       "│ 2024-12-30 ┆ 40325.8 ┆ 40325.8 ┆ 39864.5 ┆ 39894.5 │\n",
       "└────────────┴─────────┴─────────┴─────────┴─────────┘"
      ]
     },
     "execution_count": 4,
     "metadata": {},
     "output_type": "execute_result"
    }
   ],
   "source": [
    "NhPl= IndexPricelistPl()\n",
    "NhPl.df"
   ]
  }
 ],
 "metadata": {
  "kernelspec": {
   "display_name": "Python 3 (ipykernel)",
   "language": "python",
   "name": "python3"
  },
  "language_info": {
   "codemirror_mode": {
    "name": "ipython",
    "version": 3
   },
   "file_extension": ".py",
   "mimetype": "text/x-python",
   "name": "python",
   "nbconvert_exporter": "python",
   "pygments_lexer": "ipython3",
   "version": "3.12.3"
  }
 },
 "nbformat": 4,
 "nbformat_minor": 5
}
